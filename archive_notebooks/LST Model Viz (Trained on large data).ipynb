{
 "cells": [
  {
   "cell_type": "code",
   "execution_count": 1,
   "metadata": {},
   "outputs": [
    {
     "name": "stderr",
     "output_type": "stream",
     "text": [
      "/data/home/a1singh/anaconda3/envs/keras/lib/python3.5/site-packages/h5py/__init__.py:36: FutureWarning: Conversion of the second argument of issubdtype from `float` to `np.floating` is deprecated. In future, it will be treated as `np.float64 == np.dtype(float).type`.\n",
      "  from ._conv import register_converters as _register_converters\n",
      "Using TensorFlow backend.\n"
     ]
    }
   ],
   "source": [
    "from IPython.display import SVG\n",
    "from keras.utils.vis_utils import model_to_dot\n",
    "from keras.models import load_model\n",
    "model1 = load_model('mega_model1.pickle')"
   ]
  },
  {
   "cell_type": "code",
   "execution_count": 2,
   "metadata": {},
   "outputs": [
    {
     "data": {
      "image/svg+xml": [
       "<svg height=\"268pt\" viewBox=\"0.00 0.00 164.00 268.00\" width=\"164pt\" xmlns=\"http://www.w3.org/2000/svg\" xmlns:xlink=\"http://www.w3.org/1999/xlink\">\n",
       "<g class=\"graph\" id=\"graph0\" transform=\"scale(1 1) rotate(0) translate(4 264)\">\n",
       "<title>G</title>\n",
       "<polygon fill=\"white\" points=\"-4,4 -4,-264 160,-264 160,4 -4,4\" stroke=\"none\"/>\n",
       "<!-- 140214422508320 -->\n",
       "<g class=\"node\" id=\"node1\"><title>140214422508320</title>\n",
       "<polygon fill=\"none\" points=\"0,-223 0,-259 156,-259 156,-223 0,-223\" stroke=\"black\"/>\n",
       "<text font-family=\"Times,serif\" font-size=\"14.00\" text-anchor=\"middle\" x=\"78\" y=\"-237.3\">lstm_3_input: InputLayer</text>\n",
       "</g>\n",
       "<!-- 140214422508264 -->\n",
       "<g class=\"node\" id=\"node2\"><title>140214422508264</title>\n",
       "<polygon fill=\"none\" points=\"29,-149 29,-185 127,-185 127,-149 29,-149\" stroke=\"black\"/>\n",
       "<text font-family=\"Times,serif\" font-size=\"14.00\" text-anchor=\"middle\" x=\"78\" y=\"-163.3\">lstm_3: LSTM</text>\n",
       "</g>\n",
       "<!-- 140214422508320&#45;&gt;140214422508264 -->\n",
       "<g class=\"edge\" id=\"edge1\"><title>140214422508320-&gt;140214422508264</title>\n",
       "<path d=\"M78,-222.937C78,-214.807 78,-204.876 78,-195.705\" fill=\"none\" stroke=\"black\"/>\n",
       "<polygon fill=\"black\" points=\"81.5001,-195.441 78,-185.441 74.5001,-195.441 81.5001,-195.441\" stroke=\"black\"/>\n",
       "</g>\n",
       "<!-- 140214422508936 -->\n",
       "<g class=\"node\" id=\"node3\"><title>140214422508936</title>\n",
       "<polygon fill=\"none\" points=\"29,-75 29,-111 127,-111 127,-75 29,-75\" stroke=\"black\"/>\n",
       "<text font-family=\"Times,serif\" font-size=\"14.00\" text-anchor=\"middle\" x=\"78\" y=\"-89.3\">lstm_4: LSTM</text>\n",
       "</g>\n",
       "<!-- 140214422508264&#45;&gt;140214422508936 -->\n",
       "<g class=\"edge\" id=\"edge2\"><title>140214422508264-&gt;140214422508936</title>\n",
       "<path d=\"M78,-148.937C78,-140.807 78,-130.876 78,-121.705\" fill=\"none\" stroke=\"black\"/>\n",
       "<polygon fill=\"black\" points=\"81.5001,-121.441 78,-111.441 74.5001,-121.441 81.5001,-121.441\" stroke=\"black\"/>\n",
       "</g>\n",
       "<!-- 140214418397056 -->\n",
       "<g class=\"node\" id=\"node4\"><title>140214418397056</title>\n",
       "<polygon fill=\"none\" points=\"27,-1 27,-37 129,-37 129,-1 27,-1\" stroke=\"black\"/>\n",
       "<text font-family=\"Times,serif\" font-size=\"14.00\" text-anchor=\"middle\" x=\"78\" y=\"-15.3\">dense_2: Dense</text>\n",
       "</g>\n",
       "<!-- 140214422508936&#45;&gt;140214418397056 -->\n",
       "<g class=\"edge\" id=\"edge3\"><title>140214422508936-&gt;140214418397056</title>\n",
       "<path d=\"M78,-74.937C78,-66.8072 78,-56.8761 78,-47.7047\" fill=\"none\" stroke=\"black\"/>\n",
       "<polygon fill=\"black\" points=\"81.5001,-47.4406 78,-37.4407 74.5001,-47.4407 81.5001,-47.4406\" stroke=\"black\"/>\n",
       "</g>\n",
       "</g>\n",
       "</svg>"
      ],
      "text/plain": [
       "<IPython.core.display.SVG object>"
      ]
     },
     "execution_count": 2,
     "metadata": {},
     "output_type": "execute_result"
    }
   ],
   "source": [
    "SVG(model_to_dot(model1).create(prog='dot', format='svg'))"
   ]
  },
  {
   "cell_type": "code",
   "execution_count": 3,
   "metadata": {},
   "outputs": [],
   "source": [
    "from keras.utils import plot_model\n",
    "plot_model(model1, to_file='model1.png', show_shapes=True)"
   ]
  },
  {
   "cell_type": "code",
   "execution_count": null,
   "metadata": {},
   "outputs": [],
   "source": []
  },
  {
   "cell_type": "code",
   "execution_count": 4,
   "metadata": {},
   "outputs": [],
   "source": [
    "model2 = load_model('mega_model2.pickle')"
   ]
  },
  {
   "cell_type": "code",
   "execution_count": 5,
   "metadata": {
    "scrolled": true
   },
   "outputs": [
    {
     "data": {
      "image/svg+xml": [
       "<svg height=\"416pt\" viewBox=\"0.00 0.00 164.00 416.00\" width=\"164pt\" xmlns=\"http://www.w3.org/2000/svg\" xmlns:xlink=\"http://www.w3.org/1999/xlink\">\n",
       "<g class=\"graph\" id=\"graph0\" transform=\"scale(1 1) rotate(0) translate(4 412)\">\n",
       "<title>G</title>\n",
       "<polygon fill=\"white\" points=\"-4,4 -4,-412 160,-412 160,4 -4,4\" stroke=\"none\"/>\n",
       "<!-- 140212906467904 -->\n",
       "<g class=\"node\" id=\"node1\"><title>140212906467904</title>\n",
       "<polygon fill=\"none\" points=\"0,-371 0,-407 156,-407 156,-371 0,-371\" stroke=\"black\"/>\n",
       "<text font-family=\"Times,serif\" font-size=\"14.00\" text-anchor=\"middle\" x=\"78\" y=\"-385.3\">lstm_5_input: InputLayer</text>\n",
       "</g>\n",
       "<!-- 140212906513352 -->\n",
       "<g class=\"node\" id=\"node2\"><title>140212906513352</title>\n",
       "<polygon fill=\"none\" points=\"29,-297 29,-333 127,-333 127,-297 29,-297\" stroke=\"black\"/>\n",
       "<text font-family=\"Times,serif\" font-size=\"14.00\" text-anchor=\"middle\" x=\"78\" y=\"-311.3\">lstm_5: LSTM</text>\n",
       "</g>\n",
       "<!-- 140212906467904&#45;&gt;140212906513352 -->\n",
       "<g class=\"edge\" id=\"edge1\"><title>140212906467904-&gt;140212906513352</title>\n",
       "<path d=\"M78,-370.937C78,-362.807 78,-352.876 78,-343.705\" fill=\"none\" stroke=\"black\"/>\n",
       "<polygon fill=\"black\" points=\"81.5001,-343.441 78,-333.441 74.5001,-343.441 81.5001,-343.441\" stroke=\"black\"/>\n",
       "</g>\n",
       "<!-- 140213167098848 -->\n",
       "<g class=\"node\" id=\"node3\"><title>140213167098848</title>\n",
       "<polygon fill=\"none\" points=\"29,-223 29,-259 127,-259 127,-223 29,-223\" stroke=\"black\"/>\n",
       "<text font-family=\"Times,serif\" font-size=\"14.00\" text-anchor=\"middle\" x=\"78\" y=\"-237.3\">lstm_6: LSTM</text>\n",
       "</g>\n",
       "<!-- 140212906513352&#45;&gt;140213167098848 -->\n",
       "<g class=\"edge\" id=\"edge2\"><title>140212906513352-&gt;140213167098848</title>\n",
       "<path d=\"M78,-296.937C78,-288.807 78,-278.876 78,-269.705\" fill=\"none\" stroke=\"black\"/>\n",
       "<polygon fill=\"black\" points=\"81.5001,-269.441 78,-259.441 74.5001,-269.441 81.5001,-269.441\" stroke=\"black\"/>\n",
       "</g>\n",
       "<!-- 140212905112912 -->\n",
       "<g class=\"node\" id=\"node4\"><title>140212905112912</title>\n",
       "<polygon fill=\"none\" points=\"29,-149 29,-185 127,-185 127,-149 29,-149\" stroke=\"black\"/>\n",
       "<text font-family=\"Times,serif\" font-size=\"14.00\" text-anchor=\"middle\" x=\"78\" y=\"-163.3\">lstm_7: LSTM</text>\n",
       "</g>\n",
       "<!-- 140213167098848&#45;&gt;140212905112912 -->\n",
       "<g class=\"edge\" id=\"edge3\"><title>140213167098848-&gt;140212905112912</title>\n",
       "<path d=\"M78,-222.937C78,-214.807 78,-204.876 78,-195.705\" fill=\"none\" stroke=\"black\"/>\n",
       "<polygon fill=\"black\" points=\"81.5001,-195.441 78,-185.441 74.5001,-195.441 81.5001,-195.441\" stroke=\"black\"/>\n",
       "</g>\n",
       "<!-- 140213167040776 -->\n",
       "<g class=\"node\" id=\"node5\"><title>140213167040776</title>\n",
       "<polygon fill=\"none\" points=\"29,-75 29,-111 127,-111 127,-75 29,-75\" stroke=\"black\"/>\n",
       "<text font-family=\"Times,serif\" font-size=\"14.00\" text-anchor=\"middle\" x=\"78\" y=\"-89.3\">lstm_8: LSTM</text>\n",
       "</g>\n",
       "<!-- 140212905112912&#45;&gt;140213167040776 -->\n",
       "<g class=\"edge\" id=\"edge4\"><title>140212905112912-&gt;140213167040776</title>\n",
       "<path d=\"M78,-148.937C78,-140.807 78,-130.876 78,-121.705\" fill=\"none\" stroke=\"black\"/>\n",
       "<polygon fill=\"black\" points=\"81.5001,-121.441 78,-111.441 74.5001,-121.441 81.5001,-121.441\" stroke=\"black\"/>\n",
       "</g>\n",
       "<!-- 140211695863512 -->\n",
       "<g class=\"node\" id=\"node6\"><title>140211695863512</title>\n",
       "<polygon fill=\"none\" points=\"27,-1 27,-37 129,-37 129,-1 27,-1\" stroke=\"black\"/>\n",
       "<text font-family=\"Times,serif\" font-size=\"14.00\" text-anchor=\"middle\" x=\"78\" y=\"-15.3\">dense_3: Dense</text>\n",
       "</g>\n",
       "<!-- 140213167040776&#45;&gt;140211695863512 -->\n",
       "<g class=\"edge\" id=\"edge5\"><title>140213167040776-&gt;140211695863512</title>\n",
       "<path d=\"M78,-74.937C78,-66.8072 78,-56.8761 78,-47.7047\" fill=\"none\" stroke=\"black\"/>\n",
       "<polygon fill=\"black\" points=\"81.5001,-47.4406 78,-37.4407 74.5001,-47.4407 81.5001,-47.4406\" stroke=\"black\"/>\n",
       "</g>\n",
       "</g>\n",
       "</svg>"
      ],
      "text/plain": [
       "<IPython.core.display.SVG object>"
      ]
     },
     "execution_count": 5,
     "metadata": {},
     "output_type": "execute_result"
    }
   ],
   "source": [
    "SVG(model_to_dot(model2).create(prog='dot', format='svg'))"
   ]
  },
  {
   "cell_type": "code",
   "execution_count": 6,
   "metadata": {},
   "outputs": [],
   "source": [
    "from keras.utils import plot_model\n",
    "plot_model(model2, to_file='model2.png', show_shapes=True)"
   ]
  },
  {
   "cell_type": "code",
   "execution_count": null,
   "metadata": {},
   "outputs": [],
   "source": []
  },
  {
   "cell_type": "code",
   "execution_count": 13,
   "metadata": {},
   "outputs": [],
   "source": [
    "model3 = load_model('large_model3_tsteps1_features65_partII.pickle')"
   ]
  },
  {
   "cell_type": "code",
   "execution_count": 14,
   "metadata": {
    "scrolled": true
   },
   "outputs": [
    {
     "data": {
      "image/svg+xml": [
       "<svg height=\"564pt\" viewBox=\"0.00 0.00 164.00 564.00\" width=\"164pt\" xmlns=\"http://www.w3.org/2000/svg\" xmlns:xlink=\"http://www.w3.org/1999/xlink\">\n",
       "<g class=\"graph\" id=\"graph0\" transform=\"scale(1 1) rotate(0) translate(4 560)\">\n",
       "<title>G</title>\n",
       "<polygon fill=\"white\" points=\"-4,4 -4,-560 160,-560 160,4 -4,4\" stroke=\"none\"/>\n",
       "<!-- 140685686843544 -->\n",
       "<g class=\"node\" id=\"node1\"><title>140685686843544</title>\n",
       "<polygon fill=\"none\" points=\"0,-519 0,-555 156,-555 156,-519 0,-519\" stroke=\"black\"/>\n",
       "<text font-family=\"Times,serif\" font-size=\"14.00\" text-anchor=\"middle\" x=\"78\" y=\"-533.3\">lstm_7_input: InputLayer</text>\n",
       "</g>\n",
       "<!-- 140685686843712 -->\n",
       "<g class=\"node\" id=\"node2\"><title>140685686843712</title>\n",
       "<polygon fill=\"none\" points=\"29,-445 29,-481 127,-481 127,-445 29,-445\" stroke=\"black\"/>\n",
       "<text font-family=\"Times,serif\" font-size=\"14.00\" text-anchor=\"middle\" x=\"78\" y=\"-459.3\">lstm_7: LSTM</text>\n",
       "</g>\n",
       "<!-- 140685686843544&#45;&gt;140685686843712 -->\n",
       "<g class=\"edge\" id=\"edge1\"><title>140685686843544-&gt;140685686843712</title>\n",
       "<path d=\"M78,-518.937C78,-510.807 78,-500.876 78,-491.705\" fill=\"none\" stroke=\"black\"/>\n",
       "<polygon fill=\"black\" points=\"81.5001,-491.441 78,-481.441 74.5001,-491.441 81.5001,-491.441\" stroke=\"black\"/>\n",
       "</g>\n",
       "<!-- 140685686841528 -->\n",
       "<g class=\"node\" id=\"node3\"><title>140685686841528</title>\n",
       "<polygon fill=\"none\" points=\"29,-371 29,-407 127,-407 127,-371 29,-371\" stroke=\"black\"/>\n",
       "<text font-family=\"Times,serif\" font-size=\"14.00\" text-anchor=\"middle\" x=\"78\" y=\"-385.3\">lstm_8: LSTM</text>\n",
       "</g>\n",
       "<!-- 140685686843712&#45;&gt;140685686841528 -->\n",
       "<g class=\"edge\" id=\"edge2\"><title>140685686843712-&gt;140685686841528</title>\n",
       "<path d=\"M78,-444.937C78,-436.807 78,-426.876 78,-417.705\" fill=\"none\" stroke=\"black\"/>\n",
       "<polygon fill=\"black\" points=\"81.5001,-417.441 78,-407.441 74.5001,-417.441 81.5001,-417.441\" stroke=\"black\"/>\n",
       "</g>\n",
       "<!-- 140685683068096 -->\n",
       "<g class=\"node\" id=\"node4\"><title>140685683068096</title>\n",
       "<polygon fill=\"none\" points=\"29,-297 29,-333 127,-333 127,-297 29,-297\" stroke=\"black\"/>\n",
       "<text font-family=\"Times,serif\" font-size=\"14.00\" text-anchor=\"middle\" x=\"78\" y=\"-311.3\">lstm_9: LSTM</text>\n",
       "</g>\n",
       "<!-- 140685686841528&#45;&gt;140685683068096 -->\n",
       "<g class=\"edge\" id=\"edge3\"><title>140685686841528-&gt;140685683068096</title>\n",
       "<path d=\"M78,-370.937C78,-362.807 78,-352.876 78,-343.705\" fill=\"none\" stroke=\"black\"/>\n",
       "<polygon fill=\"black\" points=\"81.5001,-343.441 78,-333.441 74.5001,-343.441 81.5001,-343.441\" stroke=\"black\"/>\n",
       "</g>\n",
       "<!-- 140685686841584 -->\n",
       "<g class=\"node\" id=\"node5\"><title>140685686841584</title>\n",
       "<polygon fill=\"none\" points=\"25.5,-223 25.5,-259 130.5,-259 130.5,-223 25.5,-223\" stroke=\"black\"/>\n",
       "<text font-family=\"Times,serif\" font-size=\"14.00\" text-anchor=\"middle\" x=\"78\" y=\"-237.3\">lstm_10: LSTM</text>\n",
       "</g>\n",
       "<!-- 140685683068096&#45;&gt;140685686841584 -->\n",
       "<g class=\"edge\" id=\"edge4\"><title>140685683068096-&gt;140685686841584</title>\n",
       "<path d=\"M78,-296.937C78,-288.807 78,-278.876 78,-269.705\" fill=\"none\" stroke=\"black\"/>\n",
       "<polygon fill=\"black\" points=\"81.5001,-269.441 78,-259.441 74.5001,-269.441 81.5001,-269.441\" stroke=\"black\"/>\n",
       "</g>\n",
       "<!-- 140685682052792 -->\n",
       "<g class=\"node\" id=\"node6\"><title>140685682052792</title>\n",
       "<polygon fill=\"none\" points=\"25.5,-149 25.5,-185 130.5,-185 130.5,-149 25.5,-149\" stroke=\"black\"/>\n",
       "<text font-family=\"Times,serif\" font-size=\"14.00\" text-anchor=\"middle\" x=\"78\" y=\"-163.3\">lstm_11: LSTM</text>\n",
       "</g>\n",
       "<!-- 140685686841584&#45;&gt;140685682052792 -->\n",
       "<g class=\"edge\" id=\"edge5\"><title>140685686841584-&gt;140685682052792</title>\n",
       "<path d=\"M78,-222.937C78,-214.807 78,-204.876 78,-195.705\" fill=\"none\" stroke=\"black\"/>\n",
       "<polygon fill=\"black\" points=\"81.5001,-195.441 78,-185.441 74.5001,-195.441 81.5001,-195.441\" stroke=\"black\"/>\n",
       "</g>\n",
       "<!-- 140685538577936 -->\n",
       "<g class=\"node\" id=\"node7\"><title>140685538577936</title>\n",
       "<polygon fill=\"none\" points=\"25.5,-75 25.5,-111 130.5,-111 130.5,-75 25.5,-75\" stroke=\"black\"/>\n",
       "<text font-family=\"Times,serif\" font-size=\"14.00\" text-anchor=\"middle\" x=\"78\" y=\"-89.3\">lstm_12: LSTM</text>\n",
       "</g>\n",
       "<!-- 140685682052792&#45;&gt;140685538577936 -->\n",
       "<g class=\"edge\" id=\"edge6\"><title>140685682052792-&gt;140685538577936</title>\n",
       "<path d=\"M78,-148.937C78,-140.807 78,-130.876 78,-121.705\" fill=\"none\" stroke=\"black\"/>\n",
       "<polygon fill=\"black\" points=\"81.5001,-121.441 78,-111.441 74.5001,-121.441 81.5001,-121.441\" stroke=\"black\"/>\n",
       "</g>\n",
       "<!-- 140685536468272 -->\n",
       "<g class=\"node\" id=\"node8\"><title>140685536468272</title>\n",
       "<polygon fill=\"none\" points=\"27,-1 27,-37 129,-37 129,-1 27,-1\" stroke=\"black\"/>\n",
       "<text font-family=\"Times,serif\" font-size=\"14.00\" text-anchor=\"middle\" x=\"78\" y=\"-15.3\">dense_3: Dense</text>\n",
       "</g>\n",
       "<!-- 140685538577936&#45;&gt;140685536468272 -->\n",
       "<g class=\"edge\" id=\"edge7\"><title>140685538577936-&gt;140685536468272</title>\n",
       "<path d=\"M78,-74.937C78,-66.8072 78,-56.8761 78,-47.7047\" fill=\"none\" stroke=\"black\"/>\n",
       "<polygon fill=\"black\" points=\"81.5001,-47.4406 78,-37.4407 74.5001,-47.4407 81.5001,-47.4406\" stroke=\"black\"/>\n",
       "</g>\n",
       "</g>\n",
       "</svg>"
      ],
      "text/plain": [
       "<IPython.core.display.SVG object>"
      ]
     },
     "execution_count": 14,
     "metadata": {},
     "output_type": "execute_result"
    }
   ],
   "source": [
    "SVG(model_to_dot(model3).create(prog='dot', format='svg'))"
   ]
  },
  {
   "cell_type": "code",
   "execution_count": 16,
   "metadata": {},
   "outputs": [],
   "source": [
    "from keras.utils import plot_model\n",
    "plot_model(model3, to_file='model3.png', show_shapes=True)"
   ]
  },
  {
   "cell_type": "code",
   "execution_count": null,
   "metadata": {},
   "outputs": [],
   "source": []
  }
 ],
 "metadata": {
  "kernelspec": {
   "display_name": "Python 3",
   "language": "python",
   "name": "python3"
  },
  "language_info": {
   "codemirror_mode": {
    "name": "ipython",
    "version": 3
   },
   "file_extension": ".py",
   "mimetype": "text/x-python",
   "name": "python",
   "nbconvert_exporter": "python",
   "pygments_lexer": "ipython3",
   "version": "3.5.4"
  }
 },
 "nbformat": 4,
 "nbformat_minor": 2
}
