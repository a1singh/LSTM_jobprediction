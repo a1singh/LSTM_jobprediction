{
 "cells": [
  {
   "cell_type": "code",
   "execution_count": 1,
   "metadata": {
    "collapsed": true
   },
   "outputs": [],
   "source": [
    "# This notebook contains:\n",
    "#\n",
    "# Here we take 500K failed jobs and 375K successful jobs"
   ]
  },
  {
   "cell_type": "code",
   "execution_count": 1,
   "metadata": {
    "collapsed": true
   },
   "outputs": [],
   "source": [
    "# Connect to MYSQL database\n",
    "\n",
    "hostname = 'localhost'\n",
    "username = 'a1singh'\n",
    "password = 'sdsc1234'\n",
    "database = 'belle2'\n",
    "\n",
    "import pandas as pd\n",
    "import numpy as np"
   ]
  },
  {
   "cell_type": "code",
   "execution_count": 3,
   "metadata": {},
   "outputs": [
    {
     "name": "stdout",
     "output_type": "stream",
     "text": [
      "/data/home/a1singh/anaconda3/envs/keras/bin/python\n",
      "3.5.4 |Anaconda, Inc.| (default, Nov 20 2017, 18:44:38) \n",
      "[GCC 7.2.0]\n"
     ]
    }
   ],
   "source": [
    "import sys\n",
    "print(sys.executable)\n",
    "print(sys.version)"
   ]
  },
  {
   "cell_type": "code",
   "execution_count": 4,
   "metadata": {},
   "outputs": [
    {
     "name": "stdout",
     "output_type": "stream",
     "text": [
      "<pymysql.connections.Connection object at 0x7f7a4f181b00>\n"
     ]
    }
   ],
   "source": [
    "import pymysql\n",
    "from IPython.display import display, HTML\n",
    "\n",
    "conn = pymysql.connect(host=hostname, user=username, passwd=password, db=database)\n",
    "print(conn)"
   ]
  },
  {
   "cell_type": "code",
   "execution_count": 5,
   "metadata": {
    "collapsed": true,
    "scrolled": true
   },
   "outputs": [],
   "source": [
    "query = \"show tables\"\n",
    "df = pd.read_sql(query, conn)\n",
    "tables = df['Tables_in_belle2'].tolist()"
   ]
  },
  {
   "cell_type": "code",
   "execution_count": null,
   "metadata": {
    "collapsed": true
   },
   "outputs": [],
   "source": [
    "Index(['JobID', 'JobType', 'DIRACSetup', 'JobGroup', 'JobSplitType',\n",
    "       'MasterJobID', 'Site', 'JobName', 'Owner', 'OwnerDN', 'OwnerGroup',\n",
    "       'SubmissionTime', 'RescheduleTime', 'LastUpdateTime', 'StartExecTime',\n",
    "       'HeartBeatTime', 'EndExecTime', 'Status', 'MinorStatus',\n",
    "       'ApplicationStatus', 'ApplicationNumStatus', 'CPUTime', 'UserPriority',\n",
    "       'SystemPriority', 'RescheduleCounter', 'VerifiedFlag', 'DeletedFlag',\n",
    "       'KilledFlag', 'FailedFlag', 'ISandboxReadyFlag', 'OSandboxReadyFlag',\n",
    "       'RetrievedFlag', 'AccountedFlag'],\n",
    "      dtype='object')"
   ]
  },
  {
   "cell_type": "code",
   "execution_count": 12,
   "metadata": {},
   "outputs": [
    {
     "data": {
      "text/html": [
       "<div>\n",
       "<style scoped>\n",
       "    .dataframe tbody tr th:only-of-type {\n",
       "        vertical-align: middle;\n",
       "    }\n",
       "\n",
       "    .dataframe tbody tr th {\n",
       "        vertical-align: top;\n",
       "    }\n",
       "\n",
       "    .dataframe thead th {\n",
       "        text-align: right;\n",
       "    }\n",
       "</style>\n",
       "<table border=\"1\" class=\"dataframe\">\n",
       "  <thead>\n",
       "    <tr style=\"text-align: right;\">\n",
       "      <th></th>\n",
       "      <th>Site</th>\n",
       "    </tr>\n",
       "  </thead>\n",
       "  <tbody>\n",
       "    <tr>\n",
       "      <th>0</th>\n",
       "      <td>ANY</td>\n",
       "    </tr>\n",
       "    <tr>\n",
       "      <th>1</th>\n",
       "      <td>ARC.DESY.de</td>\n",
       "    </tr>\n",
       "    <tr>\n",
       "      <th>2</th>\n",
       "      <td>ARC.KIT.de</td>\n",
       "    </tr>\n",
       "    <tr>\n",
       "      <th>3</th>\n",
       "      <td>ARC.LMU2.de</td>\n",
       "    </tr>\n",
       "    <tr>\n",
       "      <th>4</th>\n",
       "      <td>ARC.MPPMU.de</td>\n",
       "    </tr>\n",
       "    <tr>\n",
       "      <th>5</th>\n",
       "      <td>ARC.SIGNET.si</td>\n",
       "    </tr>\n",
       "    <tr>\n",
       "      <th>6</th>\n",
       "      <td>CLOUD.AWS_Frankfurt.de</td>\n",
       "    </tr>\n",
       "    <tr>\n",
       "      <th>7</th>\n",
       "      <td>CLOUD.AWS_Singapore.sg</td>\n",
       "    </tr>\n",
       "    <tr>\n",
       "      <th>8</th>\n",
       "      <td>CLOUD.AWS_Sydney.au</td>\n",
       "    </tr>\n",
       "    <tr>\n",
       "      <th>9</th>\n",
       "      <td>CLOUD.AWS_Tokyo.jp</td>\n",
       "    </tr>\n",
       "    <tr>\n",
       "      <th>10</th>\n",
       "      <td>CLOUD.AWS_Virginia.us</td>\n",
       "    </tr>\n",
       "    <tr>\n",
       "      <th>11</th>\n",
       "      <td>CLOUD.CC1_Krakow.pl</td>\n",
       "    </tr>\n",
       "    <tr>\n",
       "      <th>12</th>\n",
       "      <td>CLOUD.CC1_KrakowDev.pl</td>\n",
       "    </tr>\n",
       "    <tr>\n",
       "      <th>13</th>\n",
       "      <td>CLOUD.OCCI_TorinoDev.it</td>\n",
       "    </tr>\n",
       "    <tr>\n",
       "      <th>14</th>\n",
       "      <td>CLOUD.ZurichCloud.ch</td>\n",
       "    </tr>\n",
       "    <tr>\n",
       "      <th>15</th>\n",
       "      <td>DIRAC.Beihang.cn</td>\n",
       "    </tr>\n",
       "    <tr>\n",
       "      <th>16</th>\n",
       "      <td>DIRAC.BINP.ru</td>\n",
       "    </tr>\n",
       "    <tr>\n",
       "      <th>17</th>\n",
       "      <td>DIRAC.CINVESTAV.mx</td>\n",
       "    </tr>\n",
       "    <tr>\n",
       "      <th>18</th>\n",
       "      <td>DIRAC.DESY.de</td>\n",
       "    </tr>\n",
       "    <tr>\n",
       "      <th>19</th>\n",
       "      <td>DIRAC.GSITest.jp</td>\n",
       "    </tr>\n",
       "    <tr>\n",
       "      <th>20</th>\n",
       "      <td>DIRAC.Hokudai.jp</td>\n",
       "    </tr>\n",
       "    <tr>\n",
       "      <th>21</th>\n",
       "      <td>DIRAC.IITG.in</td>\n",
       "    </tr>\n",
       "    <tr>\n",
       "      <th>22</th>\n",
       "      <td>DIRAC.LocalTest.jp</td>\n",
       "    </tr>\n",
       "    <tr>\n",
       "      <th>23</th>\n",
       "      <td>DIRAC.MIPT.ru</td>\n",
       "    </tr>\n",
       "    <tr>\n",
       "      <th>24</th>\n",
       "      <td>DIRAC.Nagoya.jp</td>\n",
       "    </tr>\n",
       "    <tr>\n",
       "      <th>25</th>\n",
       "      <td>DIRAC.Nara-WU.jp</td>\n",
       "    </tr>\n",
       "    <tr>\n",
       "      <th>26</th>\n",
       "      <td>DIRAC.NDU.jp</td>\n",
       "    </tr>\n",
       "    <tr>\n",
       "      <th>27</th>\n",
       "      <td>DIRAC.Niigata.jp</td>\n",
       "    </tr>\n",
       "    <tr>\n",
       "      <th>28</th>\n",
       "      <td>DIRAC.Osaka-CU.jp</td>\n",
       "    </tr>\n",
       "    <tr>\n",
       "      <th>29</th>\n",
       "      <td>DIRAC.PNNL-CASCADE.us</td>\n",
       "    </tr>\n",
       "    <tr>\n",
       "      <th>...</th>\n",
       "      <td>...</td>\n",
       "    </tr>\n",
       "    <tr>\n",
       "      <th>44</th>\n",
       "      <td>Group.KEK2.jp</td>\n",
       "    </tr>\n",
       "    <tr>\n",
       "      <th>45</th>\n",
       "      <td>Group.PNNL.us</td>\n",
       "    </tr>\n",
       "    <tr>\n",
       "      <th>46</th>\n",
       "      <td>LCG.CESNET.cz</td>\n",
       "    </tr>\n",
       "    <tr>\n",
       "      <th>47</th>\n",
       "      <td>LCG.CNAF.it</td>\n",
       "    </tr>\n",
       "    <tr>\n",
       "      <th>48</th>\n",
       "      <td>LCG.Cosenza.it</td>\n",
       "    </tr>\n",
       "    <tr>\n",
       "      <th>49</th>\n",
       "      <td>LCG.CYFRONET.pl</td>\n",
       "    </tr>\n",
       "    <tr>\n",
       "      <th>50</th>\n",
       "      <td>LCG.DESY.de</td>\n",
       "    </tr>\n",
       "    <tr>\n",
       "      <th>51</th>\n",
       "      <td>LCG.Frascati.it</td>\n",
       "    </tr>\n",
       "    <tr>\n",
       "      <th>52</th>\n",
       "      <td>LCG.HEPHY.at</td>\n",
       "    </tr>\n",
       "    <tr>\n",
       "      <th>53</th>\n",
       "      <td>LCG.KEK.jp</td>\n",
       "    </tr>\n",
       "    <tr>\n",
       "      <th>54</th>\n",
       "      <td>LCG.KEK2.jp</td>\n",
       "    </tr>\n",
       "    <tr>\n",
       "      <th>55</th>\n",
       "      <td>LCG.KISTI.kr</td>\n",
       "    </tr>\n",
       "    <tr>\n",
       "      <th>56</th>\n",
       "      <td>LCG.KIT.de</td>\n",
       "    </tr>\n",
       "    <tr>\n",
       "      <th>57</th>\n",
       "      <td>LCG.KMI.jp</td>\n",
       "    </tr>\n",
       "    <tr>\n",
       "      <th>58</th>\n",
       "      <td>LCG.Legnaro.it</td>\n",
       "    </tr>\n",
       "    <tr>\n",
       "      <th>59</th>\n",
       "      <td>LCG.McGill.ca</td>\n",
       "    </tr>\n",
       "    <tr>\n",
       "      <th>60</th>\n",
       "      <td>LCG.Melbourne.au</td>\n",
       "    </tr>\n",
       "    <tr>\n",
       "      <th>61</th>\n",
       "      <td>LCG.MPPMU.de</td>\n",
       "    </tr>\n",
       "    <tr>\n",
       "      <th>62</th>\n",
       "      <td>LCG.Napoli.it</td>\n",
       "    </tr>\n",
       "    <tr>\n",
       "      <th>63</th>\n",
       "      <td>LCG.NCHC.tw</td>\n",
       "    </tr>\n",
       "    <tr>\n",
       "      <th>64</th>\n",
       "      <td>LCG.NTU.tw</td>\n",
       "    </tr>\n",
       "    <tr>\n",
       "      <th>65</th>\n",
       "      <td>LCG.Pisa.it</td>\n",
       "    </tr>\n",
       "    <tr>\n",
       "      <th>66</th>\n",
       "      <td>LCG.Roma3.it</td>\n",
       "    </tr>\n",
       "    <tr>\n",
       "      <th>67</th>\n",
       "      <td>LCG.SIGNET.si</td>\n",
       "    </tr>\n",
       "    <tr>\n",
       "      <th>68</th>\n",
       "      <td>LCG.Torino.it</td>\n",
       "    </tr>\n",
       "    <tr>\n",
       "      <th>69</th>\n",
       "      <td>LCG.ULAKBIM.tr</td>\n",
       "    </tr>\n",
       "    <tr>\n",
       "      <th>70</th>\n",
       "      <td>Multiple</td>\n",
       "    </tr>\n",
       "    <tr>\n",
       "      <th>71</th>\n",
       "      <td>OSG.UMiss.us</td>\n",
       "    </tr>\n",
       "    <tr>\n",
       "      <th>72</th>\n",
       "      <td>SSH.KMI-DEV.jp</td>\n",
       "    </tr>\n",
       "    <tr>\n",
       "      <th>73</th>\n",
       "      <td>SSH.KMI.jp</td>\n",
       "    </tr>\n",
       "  </tbody>\n",
       "</table>\n",
       "<p>74 rows × 1 columns</p>\n",
       "</div>"
      ],
      "text/plain": [
       "                       Site\n",
       "0                       ANY\n",
       "1               ARC.DESY.de\n",
       "2                ARC.KIT.de\n",
       "3               ARC.LMU2.de\n",
       "4              ARC.MPPMU.de\n",
       "5             ARC.SIGNET.si\n",
       "6    CLOUD.AWS_Frankfurt.de\n",
       "7    CLOUD.AWS_Singapore.sg\n",
       "8       CLOUD.AWS_Sydney.au\n",
       "9        CLOUD.AWS_Tokyo.jp\n",
       "10    CLOUD.AWS_Virginia.us\n",
       "11      CLOUD.CC1_Krakow.pl\n",
       "12   CLOUD.CC1_KrakowDev.pl\n",
       "13  CLOUD.OCCI_TorinoDev.it\n",
       "14     CLOUD.ZurichCloud.ch\n",
       "15         DIRAC.Beihang.cn\n",
       "16            DIRAC.BINP.ru\n",
       "17       DIRAC.CINVESTAV.mx\n",
       "18            DIRAC.DESY.de\n",
       "19         DIRAC.GSITest.jp\n",
       "20         DIRAC.Hokudai.jp\n",
       "21            DIRAC.IITG.in\n",
       "22       DIRAC.LocalTest.jp\n",
       "23            DIRAC.MIPT.ru\n",
       "24          DIRAC.Nagoya.jp\n",
       "25         DIRAC.Nara-WU.jp\n",
       "26             DIRAC.NDU.jp\n",
       "27         DIRAC.Niigata.jp\n",
       "28        DIRAC.Osaka-CU.jp\n",
       "29    DIRAC.PNNL-CASCADE.us\n",
       "..                      ...\n",
       "44            Group.KEK2.jp\n",
       "45            Group.PNNL.us\n",
       "46            LCG.CESNET.cz\n",
       "47              LCG.CNAF.it\n",
       "48           LCG.Cosenza.it\n",
       "49          LCG.CYFRONET.pl\n",
       "50              LCG.DESY.de\n",
       "51          LCG.Frascati.it\n",
       "52             LCG.HEPHY.at\n",
       "53               LCG.KEK.jp\n",
       "54              LCG.KEK2.jp\n",
       "55             LCG.KISTI.kr\n",
       "56               LCG.KIT.de\n",
       "57               LCG.KMI.jp\n",
       "58           LCG.Legnaro.it\n",
       "59            LCG.McGill.ca\n",
       "60         LCG.Melbourne.au\n",
       "61             LCG.MPPMU.de\n",
       "62            LCG.Napoli.it\n",
       "63              LCG.NCHC.tw\n",
       "64               LCG.NTU.tw\n",
       "65              LCG.Pisa.it\n",
       "66             LCG.Roma3.it\n",
       "67            LCG.SIGNET.si\n",
       "68            LCG.Torino.it\n",
       "69           LCG.ULAKBIM.tr\n",
       "70                 Multiple\n",
       "71             OSG.UMiss.us\n",
       "72           SSH.KMI-DEV.jp\n",
       "73               SSH.KMI.jp\n",
       "\n",
       "[74 rows x 1 columns]"
      ]
     },
     "metadata": {},
     "output_type": "display_data"
    },
    {
     "name": "stdout",
     "output_type": "stream",
     "text": [
      "CPU times: user 29 ms, sys: 585 µs, total: 29.6 ms\n",
      "Wall time: 138 ms\n"
     ]
    }
   ],
   "source": [
    "%%time\n",
    "\n",
    "df = pd.read_sql(\"SELECT DISTINCT Site FROM Jobs\", conn)\n",
    "display(df)"
   ]
  },
  {
   "cell_type": "code",
   "execution_count": 13,
   "metadata": {},
   "outputs": [
    {
     "data": {
      "text/html": [
       "<div>\n",
       "<style scoped>\n",
       "    .dataframe tbody tr th:only-of-type {\n",
       "        vertical-align: middle;\n",
       "    }\n",
       "\n",
       "    .dataframe tbody tr th {\n",
       "        vertical-align: top;\n",
       "    }\n",
       "\n",
       "    .dataframe thead th {\n",
       "        text-align: right;\n",
       "    }\n",
       "</style>\n",
       "<table border=\"1\" class=\"dataframe\">\n",
       "  <thead>\n",
       "    <tr style=\"text-align: right;\">\n",
       "      <th></th>\n",
       "      <th>UserPriority</th>\n",
       "    </tr>\n",
       "  </thead>\n",
       "  <tbody>\n",
       "    <tr>\n",
       "      <th>0</th>\n",
       "      <td>0</td>\n",
       "    </tr>\n",
       "    <tr>\n",
       "      <th>1</th>\n",
       "      <td>2</td>\n",
       "    </tr>\n",
       "    <tr>\n",
       "      <th>2</th>\n",
       "      <td>3</td>\n",
       "    </tr>\n",
       "    <tr>\n",
       "      <th>3</th>\n",
       "      <td>10</td>\n",
       "    </tr>\n",
       "    <tr>\n",
       "      <th>4</th>\n",
       "      <td>5</td>\n",
       "    </tr>\n",
       "    <tr>\n",
       "      <th>5</th>\n",
       "      <td>9</td>\n",
       "    </tr>\n",
       "    <tr>\n",
       "      <th>6</th>\n",
       "      <td>6</td>\n",
       "    </tr>\n",
       "    <tr>\n",
       "      <th>7</th>\n",
       "      <td>1</td>\n",
       "    </tr>\n",
       "    <tr>\n",
       "      <th>8</th>\n",
       "      <td>4</td>\n",
       "    </tr>\n",
       "    <tr>\n",
       "      <th>9</th>\n",
       "      <td>7</td>\n",
       "    </tr>\n",
       "  </tbody>\n",
       "</table>\n",
       "</div>"
      ],
      "text/plain": [
       "   UserPriority\n",
       "0             0\n",
       "1             2\n",
       "2             3\n",
       "3            10\n",
       "4             5\n",
       "5             9\n",
       "6             6\n",
       "7             1\n",
       "8             4\n",
       "9             7"
      ]
     },
     "metadata": {},
     "output_type": "display_data"
    },
    {
     "name": "stdout",
     "output_type": "stream",
     "text": [
      "CPU times: user 10.5 ms, sys: 2.01 ms, total: 12.5 ms\n",
      "Wall time: 11.4 s\n"
     ]
    }
   ],
   "source": [
    "%%time\n",
    "\n",
    "df2 = pd.read_sql(\"SELECT DISTINCT UserPriority FROM Jobs\", conn)\n",
    "display(df2)"
   ]
  },
  {
   "cell_type": "code",
   "execution_count": 14,
   "metadata": {},
   "outputs": [
    {
     "data": {
      "text/html": [
       "<div>\n",
       "<style scoped>\n",
       "    .dataframe tbody tr th:only-of-type {\n",
       "        vertical-align: middle;\n",
       "    }\n",
       "\n",
       "    .dataframe tbody tr th {\n",
       "        vertical-align: top;\n",
       "    }\n",
       "\n",
       "    .dataframe thead th {\n",
       "        text-align: right;\n",
       "    }\n",
       "</style>\n",
       "<table border=\"1\" class=\"dataframe\">\n",
       "  <thead>\n",
       "    <tr style=\"text-align: right;\">\n",
       "      <th></th>\n",
       "      <th>JobType</th>\n",
       "    </tr>\n",
       "  </thead>\n",
       "  <tbody>\n",
       "    <tr>\n",
       "      <th>0</th>\n",
       "      <td>LowPri</td>\n",
       "    </tr>\n",
       "    <tr>\n",
       "      <th>1</th>\n",
       "      <td>MCProduction</td>\n",
       "    </tr>\n",
       "    <tr>\n",
       "      <th>2</th>\n",
       "      <td>MCProductionBGx0</td>\n",
       "    </tr>\n",
       "    <tr>\n",
       "      <th>3</th>\n",
       "      <td>Merge</td>\n",
       "    </tr>\n",
       "    <tr>\n",
       "      <th>4</th>\n",
       "      <td>Test</td>\n",
       "    </tr>\n",
       "    <tr>\n",
       "      <th>5</th>\n",
       "      <td>User</td>\n",
       "    </tr>\n",
       "  </tbody>\n",
       "</table>\n",
       "</div>"
      ],
      "text/plain": [
       "            JobType\n",
       "0            LowPri\n",
       "1      MCProduction\n",
       "2  MCProductionBGx0\n",
       "3             Merge\n",
       "4              Test\n",
       "5              User"
      ]
     },
     "metadata": {},
     "output_type": "display_data"
    },
    {
     "name": "stdout",
     "output_type": "stream",
     "text": [
      "CPU times: user 16 ms, sys: 0 ns, total: 16 ms\n",
      "Wall time: 39 ms\n"
     ]
    }
   ],
   "source": [
    "%%time\n",
    "\n",
    "df3 = pd.read_sql(\"SELECT DISTINCT JobType FROM Jobs\", conn)\n",
    "display(df3)"
   ]
  },
  {
   "cell_type": "code",
   "execution_count": 15,
   "metadata": {},
   "outputs": [
    {
     "data": {
      "text/html": [
       "<div>\n",
       "<style scoped>\n",
       "    .dataframe tbody tr th:only-of-type {\n",
       "        vertical-align: middle;\n",
       "    }\n",
       "\n",
       "    .dataframe tbody tr th {\n",
       "        vertical-align: top;\n",
       "    }\n",
       "\n",
       "    .dataframe thead th {\n",
       "        text-align: right;\n",
       "    }\n",
       "</style>\n",
       "<table border=\"1\" class=\"dataframe\">\n",
       "  <thead>\n",
       "    <tr style=\"text-align: right;\">\n",
       "      <th></th>\n",
       "      <th>Status</th>\n",
       "    </tr>\n",
       "  </thead>\n",
       "  <tbody>\n",
       "    <tr>\n",
       "      <th>0</th>\n",
       "      <td>Checking</td>\n",
       "    </tr>\n",
       "    <tr>\n",
       "      <th>1</th>\n",
       "      <td>Completed</td>\n",
       "    </tr>\n",
       "    <tr>\n",
       "      <th>2</th>\n",
       "      <td>Deleted</td>\n",
       "    </tr>\n",
       "    <tr>\n",
       "      <th>3</th>\n",
       "      <td>Done</td>\n",
       "    </tr>\n",
       "    <tr>\n",
       "      <th>4</th>\n",
       "      <td>Failed</td>\n",
       "    </tr>\n",
       "    <tr>\n",
       "      <th>5</th>\n",
       "      <td>Running</td>\n",
       "    </tr>\n",
       "    <tr>\n",
       "      <th>6</th>\n",
       "      <td>Stalled</td>\n",
       "    </tr>\n",
       "    <tr>\n",
       "      <th>7</th>\n",
       "      <td>Waiting</td>\n",
       "    </tr>\n",
       "  </tbody>\n",
       "</table>\n",
       "</div>"
      ],
      "text/plain": [
       "      Status\n",
       "0   Checking\n",
       "1  Completed\n",
       "2    Deleted\n",
       "3       Done\n",
       "4     Failed\n",
       "5    Running\n",
       "6    Stalled\n",
       "7    Waiting"
      ]
     },
     "metadata": {},
     "output_type": "display_data"
    },
    {
     "name": "stdout",
     "output_type": "stream",
     "text": [
      "CPU times: user 10.8 ms, sys: 0 ns, total: 10.8 ms\n",
      "Wall time: 9.86 ms\n"
     ]
    }
   ],
   "source": [
    "%%time\n",
    "\n",
    "df = pd.read_sql(\"SELECT DISTINCT Status FROM Jobs\", conn)\n",
    "display(df)"
   ]
  },
  {
   "cell_type": "code",
   "execution_count": null,
   "metadata": {
    "collapsed": true
   },
   "outputs": [],
   "source": []
  },
  {
   "cell_type": "code",
   "execution_count": null,
   "metadata": {
    "collapsed": true
   },
   "outputs": [],
   "source": []
  },
  {
   "cell_type": "code",
   "execution_count": 6,
   "metadata": {},
   "outputs": [
    {
     "data": {
      "text/html": [
       "<div>\n",
       "<style scoped>\n",
       "    .dataframe tbody tr th:only-of-type {\n",
       "        vertical-align: middle;\n",
       "    }\n",
       "\n",
       "    .dataframe tbody tr th {\n",
       "        vertical-align: top;\n",
       "    }\n",
       "\n",
       "    .dataframe thead th {\n",
       "        text-align: right;\n",
       "    }\n",
       "</style>\n",
       "<table border=\"1\" class=\"dataframe\">\n",
       "  <thead>\n",
       "    <tr style=\"text-align: right;\">\n",
       "      <th></th>\n",
       "      <th>JobID</th>\n",
       "      <th>Name</th>\n",
       "      <th>Value</th>\n",
       "      <th>HeartBeatTime</th>\n",
       "    </tr>\n",
       "  </thead>\n",
       "  <tbody>\n",
       "    <tr>\n",
       "      <th>0</th>\n",
       "      <td>23140766</td>\n",
       "      <td>AvailableDiskSpace</td>\n",
       "      <td>b'753392.0'</td>\n",
       "      <td>2015-08-07 13:13:48</td>\n",
       "    </tr>\n",
       "    <tr>\n",
       "      <th>1</th>\n",
       "      <td>23140766</td>\n",
       "      <td>CPUConsumed</td>\n",
       "      <td>b'10.0'</td>\n",
       "      <td>2015-08-07 13:13:48</td>\n",
       "    </tr>\n",
       "    <tr>\n",
       "      <th>2</th>\n",
       "      <td>23140766</td>\n",
       "      <td>LoadAverage</td>\n",
       "      <td>b'22.02'</td>\n",
       "      <td>2015-08-07 13:13:48</td>\n",
       "    </tr>\n",
       "    <tr>\n",
       "      <th>3</th>\n",
       "      <td>23140766</td>\n",
       "      <td>MemoryUsed</td>\n",
       "      <td>b'36101188.0'</td>\n",
       "      <td>2015-08-07 13:13:48</td>\n",
       "    </tr>\n",
       "    <tr>\n",
       "      <th>4</th>\n",
       "      <td>23140766</td>\n",
       "      <td>RSS</td>\n",
       "      <td>b'110596.0'</td>\n",
       "      <td>2015-08-07 13:13:48</td>\n",
       "    </tr>\n",
       "    <tr>\n",
       "      <th>5</th>\n",
       "      <td>23140766</td>\n",
       "      <td>Vsize</td>\n",
       "      <td>b'1459640.0'</td>\n",
       "      <td>2015-08-07 13:13:48</td>\n",
       "    </tr>\n",
       "    <tr>\n",
       "      <th>6</th>\n",
       "      <td>23140766</td>\n",
       "      <td>WallClockTime</td>\n",
       "      <td>b'3.19816112518'</td>\n",
       "      <td>2015-08-07 13:13:48</td>\n",
       "    </tr>\n",
       "    <tr>\n",
       "      <th>7</th>\n",
       "      <td>23141083</td>\n",
       "      <td>AvailableDiskSpace</td>\n",
       "      <td>b'1544234.0'</td>\n",
       "      <td>2015-08-07 13:29:48</td>\n",
       "    </tr>\n",
       "    <tr>\n",
       "      <th>8</th>\n",
       "      <td>23141083</td>\n",
       "      <td>CPUConsumed</td>\n",
       "      <td>b'8.0'</td>\n",
       "      <td>2015-08-07 13:29:48</td>\n",
       "    </tr>\n",
       "    <tr>\n",
       "      <th>9</th>\n",
       "      <td>23141083</td>\n",
       "      <td>LoadAverage</td>\n",
       "      <td>b'22.41'</td>\n",
       "      <td>2015-08-07 13:29:48</td>\n",
       "    </tr>\n",
       "    <tr>\n",
       "      <th>10</th>\n",
       "      <td>23141083</td>\n",
       "      <td>MemoryUsed</td>\n",
       "      <td>b'36037080.0'</td>\n",
       "      <td>2015-08-07 13:29:48</td>\n",
       "    </tr>\n",
       "    <tr>\n",
       "      <th>11</th>\n",
       "      <td>23141083</td>\n",
       "      <td>RSS</td>\n",
       "      <td>b'111956.0'</td>\n",
       "      <td>2015-08-07 13:29:48</td>\n",
       "    </tr>\n",
       "    <tr>\n",
       "      <th>12</th>\n",
       "      <td>23141083</td>\n",
       "      <td>Vsize</td>\n",
       "      <td>b'1707264.0'</td>\n",
       "      <td>2015-08-07 13:29:48</td>\n",
       "    </tr>\n",
       "    <tr>\n",
       "      <th>13</th>\n",
       "      <td>23141083</td>\n",
       "      <td>WallClockTime</td>\n",
       "      <td>b'2.89045214653'</td>\n",
       "      <td>2015-08-07 13:29:48</td>\n",
       "    </tr>\n",
       "    <tr>\n",
       "      <th>14</th>\n",
       "      <td>23205537</td>\n",
       "      <td>AvailableDiskSpace</td>\n",
       "      <td>b'568076.0'</td>\n",
       "      <td>2015-08-08 22:43:00</td>\n",
       "    </tr>\n",
       "    <tr>\n",
       "      <th>15</th>\n",
       "      <td>23205537</td>\n",
       "      <td>AvailableDiskSpace</td>\n",
       "      <td>b'568290.0'</td>\n",
       "      <td>2015-08-08 23:13:00</td>\n",
       "    </tr>\n",
       "    <tr>\n",
       "      <th>16</th>\n",
       "      <td>23205537</td>\n",
       "      <td>AvailableDiskSpace</td>\n",
       "      <td>b'568012.0'</td>\n",
       "      <td>2015-08-08 23:42:58</td>\n",
       "    </tr>\n",
       "    <tr>\n",
       "      <th>17</th>\n",
       "      <td>23205537</td>\n",
       "      <td>AvailableDiskSpace</td>\n",
       "      <td>b'567882.0'</td>\n",
       "      <td>2015-08-09 00:12:58</td>\n",
       "    </tr>\n",
       "    <tr>\n",
       "      <th>18</th>\n",
       "      <td>23205537</td>\n",
       "      <td>AvailableDiskSpace</td>\n",
       "      <td>b'567746.0'</td>\n",
       "      <td>2015-08-09 00:42:58</td>\n",
       "    </tr>\n",
       "    <tr>\n",
       "      <th>19</th>\n",
       "      <td>23205537</td>\n",
       "      <td>AvailableDiskSpace</td>\n",
       "      <td>b'567617.0'</td>\n",
       "      <td>2015-08-09 01:13:08</td>\n",
       "    </tr>\n",
       "  </tbody>\n",
       "</table>\n",
       "</div>"
      ],
      "text/plain": [
       "       JobID                Name             Value       HeartBeatTime\n",
       "0   23140766  AvailableDiskSpace       b'753392.0' 2015-08-07 13:13:48\n",
       "1   23140766         CPUConsumed           b'10.0' 2015-08-07 13:13:48\n",
       "2   23140766         LoadAverage          b'22.02' 2015-08-07 13:13:48\n",
       "3   23140766          MemoryUsed     b'36101188.0' 2015-08-07 13:13:48\n",
       "4   23140766                 RSS       b'110596.0' 2015-08-07 13:13:48\n",
       "5   23140766               Vsize      b'1459640.0' 2015-08-07 13:13:48\n",
       "6   23140766       WallClockTime  b'3.19816112518' 2015-08-07 13:13:48\n",
       "7   23141083  AvailableDiskSpace      b'1544234.0' 2015-08-07 13:29:48\n",
       "8   23141083         CPUConsumed            b'8.0' 2015-08-07 13:29:48\n",
       "9   23141083         LoadAverage          b'22.41' 2015-08-07 13:29:48\n",
       "10  23141083          MemoryUsed     b'36037080.0' 2015-08-07 13:29:48\n",
       "11  23141083                 RSS       b'111956.0' 2015-08-07 13:29:48\n",
       "12  23141083               Vsize      b'1707264.0' 2015-08-07 13:29:48\n",
       "13  23141083       WallClockTime  b'2.89045214653' 2015-08-07 13:29:48\n",
       "14  23205537  AvailableDiskSpace       b'568076.0' 2015-08-08 22:43:00\n",
       "15  23205537  AvailableDiskSpace       b'568290.0' 2015-08-08 23:13:00\n",
       "16  23205537  AvailableDiskSpace       b'568012.0' 2015-08-08 23:42:58\n",
       "17  23205537  AvailableDiskSpace       b'567882.0' 2015-08-09 00:12:58\n",
       "18  23205537  AvailableDiskSpace       b'567746.0' 2015-08-09 00:42:58\n",
       "19  23205537  AvailableDiskSpace       b'567617.0' 2015-08-09 01:13:08"
      ]
     },
     "metadata": {},
     "output_type": "display_data"
    },
    {
     "name": "stdout",
     "output_type": "stream",
     "text": [
      "CPU times: user 21.6 ms, sys: 4.68 ms, total: 26.3 ms\n",
      "Wall time: 30.5 ms\n"
     ]
    }
   ],
   "source": [
    "%%time\n",
    "# Total number of rows in HeartBeatLoggingInfo (ans - 906,320,307)\n",
    "\n",
    "df = pd.read_sql(\"SELECT * FROM HeartBeatLoggingInfo LIMIT 20\", conn)\n",
    "display(df)"
   ]
  },
  {
   "cell_type": "code",
   "execution_count": 7,
   "metadata": {},
   "outputs": [
    {
     "data": {
      "text/plain": [
       "Index(['JobID', 'JobType', 'DIRACSetup', 'JobGroup', 'JobSplitType',\n",
       "       'MasterJobID', 'Site', 'JobName', 'Owner', 'OwnerDN', 'OwnerGroup',\n",
       "       'SubmissionTime', 'RescheduleTime', 'LastUpdateTime', 'StartExecTime',\n",
       "       'HeartBeatTime', 'EndExecTime', 'Status', 'MinorStatus',\n",
       "       'ApplicationStatus', 'ApplicationNumStatus', 'CPUTime', 'UserPriority',\n",
       "       'SystemPriority', 'RescheduleCounter', 'VerifiedFlag', 'DeletedFlag',\n",
       "       'KilledFlag', 'FailedFlag', 'ISandboxReadyFlag', 'OSandboxReadyFlag',\n",
       "       'RetrievedFlag', 'AccountedFlag'],\n",
       "      dtype='object')"
      ]
     },
     "metadata": {},
     "output_type": "display_data"
    },
    {
     "name": "stdout",
     "output_type": "stream",
     "text": [
      "CPU times: user 15.3 ms, sys: 0 ns, total: 15.3 ms\n",
      "Wall time: 13.4 ms\n"
     ]
    }
   ],
   "source": [
    "%%time\n",
    "# Total number of rows in HeartBeatLoggingInfo (ans - 906,320,307)\n",
    "\n",
    "df = pd.read_sql(\"SELECT * FROM Jobs LIMIT 20\", conn)\n",
    "display(df.columns)"
   ]
  },
  {
   "cell_type": "code",
   "execution_count": null,
   "metadata": {
    "collapsed": true
   },
   "outputs": [],
   "source": [
    "%%time\n",
    "# Total number of unique JobIDs in HeartBeatLoggingInfo\n",
    "# number of distinct JobIDs (ans - 10,137,037)\n",
    "\n",
    "df = pd.read_sql(\"SELECT COUNT(DISTINCT JobID) FROM HeartBeatLoggingInfo LIMIT 10\", conn)\n",
    "display(df)"
   ]
  },
  {
   "cell_type": "code",
   "execution_count": 12,
   "metadata": {},
   "outputs": [
    {
     "data": {
      "text/html": [
       "<div>\n",
       "<style scoped>\n",
       "    .dataframe tbody tr th:only-of-type {\n",
       "        vertical-align: middle;\n",
       "    }\n",
       "\n",
       "    .dataframe tbody tr th {\n",
       "        vertical-align: top;\n",
       "    }\n",
       "\n",
       "    .dataframe thead th {\n",
       "        text-align: right;\n",
       "    }\n",
       "</style>\n",
       "<table border=\"1\" class=\"dataframe\">\n",
       "  <thead>\n",
       "    <tr style=\"text-align: right;\">\n",
       "      <th></th>\n",
       "      <th>COUNT(DISTINCT JobID)</th>\n",
       "    </tr>\n",
       "  </thead>\n",
       "  <tbody>\n",
       "    <tr>\n",
       "      <th>0</th>\n",
       "      <td>10485197</td>\n",
       "    </tr>\n",
       "  </tbody>\n",
       "</table>\n",
       "</div>"
      ],
      "text/plain": [
       "   COUNT(DISTINCT JobID)\n",
       "0               10485197"
      ]
     },
     "metadata": {},
     "output_type": "display_data"
    },
    {
     "name": "stdout",
     "output_type": "stream",
     "text": [
      "CPU times: user 11 ms, sys: 0 ns, total: 11 ms\n",
      "Wall time: 7.61 s\n"
     ]
    }
   ],
   "source": [
    "%%time\n",
    "# Total number of unique JobIDs in Jobs\n",
    "# number of distinct JobIDs (ans - 10,485,197)\n",
    "\n",
    "df = pd.read_sql(\"SELECT COUNT(DISTINCT JobID) FROM Jobs LIMIT 10\", conn)\n",
    "display(df)"
   ]
  },
  {
   "cell_type": "code",
   "execution_count": 11,
   "metadata": {},
   "outputs": [
    {
     "data": {
      "text/html": [
       "<div>\n",
       "<style scoped>\n",
       "    .dataframe tbody tr th:only-of-type {\n",
       "        vertical-align: middle;\n",
       "    }\n",
       "\n",
       "    .dataframe tbody tr th {\n",
       "        vertical-align: top;\n",
       "    }\n",
       "\n",
       "    .dataframe thead th {\n",
       "        text-align: right;\n",
       "    }\n",
       "</style>\n",
       "<table border=\"1\" class=\"dataframe\">\n",
       "  <thead>\n",
       "    <tr style=\"text-align: right;\">\n",
       "      <th></th>\n",
       "      <th>COUNT(DISTINCT JobGroup)</th>\n",
       "    </tr>\n",
       "  </thead>\n",
       "  <tbody>\n",
       "    <tr>\n",
       "      <th>0</th>\n",
       "      <td>5405</td>\n",
       "    </tr>\n",
       "  </tbody>\n",
       "</table>\n",
       "</div>"
      ],
      "text/plain": [
       "   COUNT(DISTINCT JobGroup)\n",
       "0                      5405"
      ]
     },
     "metadata": {},
     "output_type": "display_data"
    },
    {
     "name": "stdout",
     "output_type": "stream",
     "text": [
      "CPU times: user 7.86 ms, sys: 3.99 ms, total: 11.9 ms\n",
      "Wall time: 11 s\n"
     ]
    }
   ],
   "source": [
    "%%time\n",
    "# Total number of unique JobGroup in Jobs table\n",
    "# number of distinct JobGroup (ans - 5405)\n",
    "\n",
    "df = pd.read_sql(\"SELECT COUNT(DISTINCT JobGroup) FROM Jobs LIMIT 10\", conn)\n",
    "display(df)"
   ]
  },
  {
   "cell_type": "code",
   "execution_count": null,
   "metadata": {
    "collapsed": true
   },
   "outputs": [],
   "source": [
    "%%time\n",
    "# Total number of unique timestamps in HeartBeatLoggingInfo\n",
    "# number of distinct hearbeattime entries (ans - 1,616,7003)\n",
    "\n",
    "df_stamps = pd.read_sql(\"SELECT COUNT(DISTINCT HeartBeatTime) FROM HeartBeatLoggingInfo LIMIT 10\", conn)\n",
    "display(df_stamps)"
   ]
  },
  {
   "cell_type": "code",
   "execution_count": null,
   "metadata": {
    "collapsed": true
   },
   "outputs": [],
   "source": [
    "# Average Number of timestamps per jobID\n",
    "\n",
    "16167003 / 10137037"
   ]
  },
  {
   "cell_type": "code",
   "execution_count": null,
   "metadata": {
    "collapsed": true
   },
   "outputs": [],
   "source": [
    "# Average number of key-value pairs per timestamp\n",
    "\n",
    "906320307 / 16167003"
   ]
  },
  {
   "cell_type": "markdown",
   "metadata": {},
   "source": [
    "# Get Failed Jobs"
   ]
  },
  {
   "cell_type": "code",
   "execution_count": 6,
   "metadata": {},
   "outputs": [
    {
     "name": "stdout",
     "output_type": "stream",
     "text": [
      "CPU times: user 50.5 s, sys: 1.65 s, total: 52.2 s\n",
      "Wall time: 52.2 s\n"
     ]
    }
   ],
   "source": [
    "%%time\n",
    "\n",
    "query       = 'SELECT * FROM Jobs WHERE Status = \\'Failed\\' LIMIT 500000'\n",
    "failedJobs    = pd.read_sql_query(query,con=conn)"
   ]
  },
  {
   "cell_type": "code",
   "execution_count": 7,
   "metadata": {},
   "outputs": [
    {
     "data": {
      "text/plain": [
       "(500000, 33)"
      ]
     },
     "execution_count": 7,
     "metadata": {},
     "output_type": "execute_result"
    }
   ],
   "source": [
    "failedJobs.shape"
   ]
  },
  {
   "cell_type": "code",
   "execution_count": 8,
   "metadata": {},
   "outputs": [
    {
     "data": {
      "text/plain": [
       "500000"
      ]
     },
     "execution_count": 8,
     "metadata": {},
     "output_type": "execute_result"
    }
   ],
   "source": [
    "listofjobids = failedJobs['JobID'].tolist()\n",
    "listofjobids = list(set(listofjobids))\n",
    "len(listofjobids)"
   ]
  },
  {
   "cell_type": "code",
   "execution_count": 9,
   "metadata": {},
   "outputs": [
    {
     "name": "stdout",
     "output_type": "stream",
     "text": [
      "CPU times: user 4min 8s, sys: 12.4 s, total: 4min 20s\n",
      "Wall time: 4min 34s\n"
     ]
    }
   ],
   "source": [
    "%%time\n",
    "# # Keep only the rows whose jobID is in HeartBeatLogging table\n",
    "\n",
    "query       = 'SELECT * FROM HeartBeatLoggingInfo WHERE JobID IN (' + ','.join((str(x) for x in listofjobids)) + ')'\n",
    "dataHBLI_failed    = pd.read_sql_query(query,con=conn)"
   ]
  },
  {
   "cell_type": "code",
   "execution_count": 10,
   "metadata": {},
   "outputs": [
    {
     "data": {
      "text/plain": [
       "309945"
      ]
     },
     "execution_count": 10,
     "metadata": {},
     "output_type": "execute_result"
    }
   ],
   "source": [
    "dataHBLI_failed.JobID.nunique()"
   ]
  },
  {
   "cell_type": "markdown",
   "metadata": {},
   "source": [
    "# Get Successful Jobs (Status = Done)"
   ]
  },
  {
   "cell_type": "code",
   "execution_count": 11,
   "metadata": {
    "collapsed": true
   },
   "outputs": [],
   "source": [
    "# Find similar number of Successful jobs"
   ]
  },
  {
   "cell_type": "code",
   "execution_count": 12,
   "metadata": {},
   "outputs": [
    {
     "name": "stdout",
     "output_type": "stream",
     "text": [
      "CPU times: user 44.8 s, sys: 1.59 s, total: 46.3 s\n",
      "Wall time: 46.5 s\n"
     ]
    }
   ],
   "source": [
    "%%time\n",
    "\n",
    "query       = 'SELECT * FROM Jobs WHERE Status = \\'Done\\' LIMIT 375000'\n",
    "successJobs    = pd.read_sql_query(query,con=conn)"
   ]
  },
  {
   "cell_type": "code",
   "execution_count": 13,
   "metadata": {},
   "outputs": [
    {
     "data": {
      "text/plain": [
       "(375000, 33)"
      ]
     },
     "execution_count": 13,
     "metadata": {},
     "output_type": "execute_result"
    }
   ],
   "source": [
    "successJobs.shape"
   ]
  },
  {
   "cell_type": "code",
   "execution_count": 14,
   "metadata": {},
   "outputs": [
    {
     "data": {
      "text/plain": [
       "375000"
      ]
     },
     "execution_count": 14,
     "metadata": {},
     "output_type": "execute_result"
    }
   ],
   "source": [
    "listofjobids = successJobs['JobID'].tolist()\n",
    "listofjobids = list(set(listofjobids))\n",
    "len(listofjobids)"
   ]
  },
  {
   "cell_type": "code",
   "execution_count": 15,
   "metadata": {},
   "outputs": [
    {
     "name": "stdout",
     "output_type": "stream",
     "text": [
      "CPU times: user 9min 32s, sys: 27.6 s, total: 9min 59s\n",
      "Wall time: 10min 4s\n"
     ]
    }
   ],
   "source": [
    "%%time\n",
    "# # Keep only the rows whose jobID is in HeartBeatLogging table\n",
    "\n",
    "query   = 'SELECT * FROM HeartBeatLoggingInfo WHERE JobID IN (' + ','.join((str(x) for x in listofjobids)) + ')'\n",
    "dataHBLI_success = pd.read_sql_query(query,con=conn)"
   ]
  },
  {
   "cell_type": "code",
   "execution_count": 16,
   "metadata": {},
   "outputs": [
    {
     "data": {
      "text/plain": [
       "(22955660, 4)"
      ]
     },
     "execution_count": 16,
     "metadata": {},
     "output_type": "execute_result"
    }
   ],
   "source": [
    "dataHBLI_success.shape"
   ]
  },
  {
   "cell_type": "code",
   "execution_count": 17,
   "metadata": {},
   "outputs": [
    {
     "data": {
      "text/plain": [
       "374992"
      ]
     },
     "execution_count": 17,
     "metadata": {},
     "output_type": "execute_result"
    }
   ],
   "source": [
    "dataHBLI_success.JobID.nunique()"
   ]
  },
  {
   "cell_type": "markdown",
   "metadata": {},
   "source": [
    "### Combine HBLI tables pieces = (failed, success)"
   ]
  },
  {
   "cell_type": "code",
   "execution_count": 18,
   "metadata": {},
   "outputs": [
    {
     "data": {
      "text/plain": [
       "((10251496, 4), (22955660, 4))"
      ]
     },
     "execution_count": 18,
     "metadata": {},
     "output_type": "execute_result"
    }
   ],
   "source": [
    "dataHBLI_failed.shape, dataHBLI_success.shape"
   ]
  },
  {
   "cell_type": "code",
   "execution_count": 19,
   "metadata": {
    "collapsed": true
   },
   "outputs": [],
   "source": [
    "pieces = (dataHBLI_failed, dataHBLI_success)"
   ]
  },
  {
   "cell_type": "code",
   "execution_count": 20,
   "metadata": {
    "collapsed": true
   },
   "outputs": [],
   "source": [
    "allHBLI = pd.concat(pieces, ignore_index = True)"
   ]
  },
  {
   "cell_type": "markdown",
   "metadata": {},
   "source": [
    "### Combine Jobs tables pieces = (failed, success)"
   ]
  },
  {
   "cell_type": "code",
   "execution_count": 21,
   "metadata": {},
   "outputs": [
    {
     "data": {
      "text/plain": [
       "((500000, 33), (375000, 33))"
      ]
     },
     "execution_count": 21,
     "metadata": {},
     "output_type": "execute_result"
    }
   ],
   "source": [
    "failedJobs.shape, successJobs.shape"
   ]
  },
  {
   "cell_type": "code",
   "execution_count": 22,
   "metadata": {
    "collapsed": true
   },
   "outputs": [],
   "source": [
    "pieces = (failedJobs, successJobs)"
   ]
  },
  {
   "cell_type": "code",
   "execution_count": 54,
   "metadata": {},
   "outputs": [
    {
     "data": {
      "text/html": [
       "<div>\n",
       "<style scoped>\n",
       "    .dataframe tbody tr th:only-of-type {\n",
       "        vertical-align: middle;\n",
       "    }\n",
       "\n",
       "    .dataframe tbody tr th {\n",
       "        vertical-align: top;\n",
       "    }\n",
       "\n",
       "    .dataframe thead th {\n",
       "        text-align: right;\n",
       "    }\n",
       "</style>\n",
       "<table border=\"1\" class=\"dataframe\">\n",
       "  <thead>\n",
       "    <tr style=\"text-align: right;\">\n",
       "      <th></th>\n",
       "      <th>JobID</th>\n",
       "      <th>JobType</th>\n",
       "      <th>DIRACSetup</th>\n",
       "      <th>JobGroup</th>\n",
       "      <th>JobSplitType</th>\n",
       "      <th>MasterJobID</th>\n",
       "      <th>Site</th>\n",
       "      <th>JobName</th>\n",
       "      <th>Owner</th>\n",
       "      <th>OwnerDN</th>\n",
       "      <th>...</th>\n",
       "      <th>SystemPriority</th>\n",
       "      <th>RescheduleCounter</th>\n",
       "      <th>VerifiedFlag</th>\n",
       "      <th>DeletedFlag</th>\n",
       "      <th>KilledFlag</th>\n",
       "      <th>FailedFlag</th>\n",
       "      <th>ISandboxReadyFlag</th>\n",
       "      <th>OSandboxReadyFlag</th>\n",
       "      <th>RetrievedFlag</th>\n",
       "      <th>AccountedFlag</th>\n",
       "    </tr>\n",
       "  </thead>\n",
       "  <tbody>\n",
       "    <tr>\n",
       "      <th>0</th>\n",
       "      <td>23140766</td>\n",
       "      <td>MCProductionBGx0</td>\n",
       "      <td>Belle-KEK</td>\n",
       "      <td>00000757</td>\n",
       "      <td>Single</td>\n",
       "      <td>0</td>\n",
       "      <td>DIRAC.UAS.mx</td>\n",
       "      <td>00000757_00000283</td>\n",
       "      <td>dirac</td>\n",
       "      <td>/C=DE/O=GermanGrid/OU=KIT/CN=Robot - grid clie...</td>\n",
       "      <td>...</td>\n",
       "      <td>0</td>\n",
       "      <td>0</td>\n",
       "      <td>True</td>\n",
       "      <td>False</td>\n",
       "      <td>False</td>\n",
       "      <td>False</td>\n",
       "      <td>False</td>\n",
       "      <td>False</td>\n",
       "      <td>False</td>\n",
       "      <td>False</td>\n",
       "    </tr>\n",
       "    <tr>\n",
       "      <th>1</th>\n",
       "      <td>23141083</td>\n",
       "      <td>MCProductionBGx0</td>\n",
       "      <td>Belle-KEK</td>\n",
       "      <td>00000758</td>\n",
       "      <td>Single</td>\n",
       "      <td>0</td>\n",
       "      <td>DIRAC.CINVESTAV.mx</td>\n",
       "      <td>00000758_00000034</td>\n",
       "      <td>dirac</td>\n",
       "      <td>/C=DE/O=GermanGrid/OU=KIT/CN=Robot - grid clie...</td>\n",
       "      <td>...</td>\n",
       "      <td>0</td>\n",
       "      <td>0</td>\n",
       "      <td>True</td>\n",
       "      <td>False</td>\n",
       "      <td>False</td>\n",
       "      <td>False</td>\n",
       "      <td>False</td>\n",
       "      <td>False</td>\n",
       "      <td>False</td>\n",
       "      <td>False</td>\n",
       "    </tr>\n",
       "    <tr>\n",
       "      <th>2</th>\n",
       "      <td>23205537</td>\n",
       "      <td>MCProductionBGx0</td>\n",
       "      <td>Belle-KEK</td>\n",
       "      <td>00000809</td>\n",
       "      <td>Single</td>\n",
       "      <td>0</td>\n",
       "      <td>LCG.Pisa.it</td>\n",
       "      <td>00000809_00000001</td>\n",
       "      <td>dirac</td>\n",
       "      <td>/C=DE/O=GermanGrid/OU=KIT/CN=Robot - grid clie...</td>\n",
       "      <td>...</td>\n",
       "      <td>0</td>\n",
       "      <td>0</td>\n",
       "      <td>True</td>\n",
       "      <td>False</td>\n",
       "      <td>False</td>\n",
       "      <td>False</td>\n",
       "      <td>False</td>\n",
       "      <td>False</td>\n",
       "      <td>False</td>\n",
       "      <td>False</td>\n",
       "    </tr>\n",
       "    <tr>\n",
       "      <th>3</th>\n",
       "      <td>23205539</td>\n",
       "      <td>MCProductionBGx0</td>\n",
       "      <td>Belle-KEK</td>\n",
       "      <td>00000809</td>\n",
       "      <td>Single</td>\n",
       "      <td>0</td>\n",
       "      <td>LCG.KEK2.jp</td>\n",
       "      <td>00000809_00000002</td>\n",
       "      <td>dirac</td>\n",
       "      <td>/C=DE/O=GermanGrid/OU=KIT/CN=Robot - grid clie...</td>\n",
       "      <td>...</td>\n",
       "      <td>0</td>\n",
       "      <td>0</td>\n",
       "      <td>True</td>\n",
       "      <td>False</td>\n",
       "      <td>False</td>\n",
       "      <td>False</td>\n",
       "      <td>False</td>\n",
       "      <td>False</td>\n",
       "      <td>False</td>\n",
       "      <td>False</td>\n",
       "    </tr>\n",
       "    <tr>\n",
       "      <th>4</th>\n",
       "      <td>23205643</td>\n",
       "      <td>MCProductionBGx0</td>\n",
       "      <td>Belle-KEK</td>\n",
       "      <td>00000809</td>\n",
       "      <td>Single</td>\n",
       "      <td>0</td>\n",
       "      <td>LCG.Pisa.it</td>\n",
       "      <td>00000809_00000003</td>\n",
       "      <td>dirac</td>\n",
       "      <td>/C=DE/O=GermanGrid/OU=KIT/CN=Robot - grid clie...</td>\n",
       "      <td>...</td>\n",
       "      <td>0</td>\n",
       "      <td>0</td>\n",
       "      <td>True</td>\n",
       "      <td>False</td>\n",
       "      <td>False</td>\n",
       "      <td>False</td>\n",
       "      <td>False</td>\n",
       "      <td>False</td>\n",
       "      <td>False</td>\n",
       "      <td>False</td>\n",
       "    </tr>\n",
       "  </tbody>\n",
       "</table>\n",
       "<p>5 rows × 33 columns</p>\n",
       "</div>"
      ],
      "text/plain": [
       "      JobID           JobType DIRACSetup  JobGroup JobSplitType  MasterJobID  \\\n",
       "0  23140766  MCProductionBGx0  Belle-KEK  00000757       Single            0   \n",
       "1  23141083  MCProductionBGx0  Belle-KEK  00000758       Single            0   \n",
       "2  23205537  MCProductionBGx0  Belle-KEK  00000809       Single            0   \n",
       "3  23205539  MCProductionBGx0  Belle-KEK  00000809       Single            0   \n",
       "4  23205643  MCProductionBGx0  Belle-KEK  00000809       Single            0   \n",
       "\n",
       "                 Site            JobName  Owner  \\\n",
       "0        DIRAC.UAS.mx  00000757_00000283  dirac   \n",
       "1  DIRAC.CINVESTAV.mx  00000758_00000034  dirac   \n",
       "2         LCG.Pisa.it  00000809_00000001  dirac   \n",
       "3         LCG.KEK2.jp  00000809_00000002  dirac   \n",
       "4         LCG.Pisa.it  00000809_00000003  dirac   \n",
       "\n",
       "                                             OwnerDN      ...       \\\n",
       "0  /C=DE/O=GermanGrid/OU=KIT/CN=Robot - grid clie...      ...        \n",
       "1  /C=DE/O=GermanGrid/OU=KIT/CN=Robot - grid clie...      ...        \n",
       "2  /C=DE/O=GermanGrid/OU=KIT/CN=Robot - grid clie...      ...        \n",
       "3  /C=DE/O=GermanGrid/OU=KIT/CN=Robot - grid clie...      ...        \n",
       "4  /C=DE/O=GermanGrid/OU=KIT/CN=Robot - grid clie...      ...        \n",
       "\n",
       "  SystemPriority RescheduleCounter VerifiedFlag DeletedFlag KilledFlag  \\\n",
       "0              0                 0         True       False      False   \n",
       "1              0                 0         True       False      False   \n",
       "2              0                 0         True       False      False   \n",
       "3              0                 0         True       False      False   \n",
       "4              0                 0         True       False      False   \n",
       "\n",
       "  FailedFlag ISandboxReadyFlag OSandboxReadyFlag RetrievedFlag AccountedFlag  \n",
       "0      False             False             False         False         False  \n",
       "1      False             False             False         False         False  \n",
       "2      False             False             False         False         False  \n",
       "3      False             False             False         False         False  \n",
       "4      False             False             False         False         False  \n",
       "\n",
       "[5 rows x 33 columns]"
      ]
     },
     "execution_count": 54,
     "metadata": {},
     "output_type": "execute_result"
    }
   ],
   "source": [
    "allJobs = pd.concat(pieces, ignore_index = True)\n",
    "allJobs.head()"
   ]
  },
  {
   "cell_type": "markdown",
   "metadata": {},
   "source": [
    "# Process HBLI table: allHBLI"
   ]
  },
  {
   "cell_type": "code",
   "execution_count": 24,
   "metadata": {},
   "outputs": [
    {
     "data": {
      "text/html": [
       "<div>\n",
       "<style scoped>\n",
       "    .dataframe tbody tr th:only-of-type {\n",
       "        vertical-align: middle;\n",
       "    }\n",
       "\n",
       "    .dataframe tbody tr th {\n",
       "        vertical-align: top;\n",
       "    }\n",
       "\n",
       "    .dataframe thead th {\n",
       "        text-align: right;\n",
       "    }\n",
       "</style>\n",
       "<table border=\"1\" class=\"dataframe\">\n",
       "  <thead>\n",
       "    <tr style=\"text-align: right;\">\n",
       "      <th></th>\n",
       "      <th>JobID</th>\n",
       "      <th>Name</th>\n",
       "      <th>Value</th>\n",
       "      <th>HeartBeatTime</th>\n",
       "    </tr>\n",
       "  </thead>\n",
       "  <tbody>\n",
       "    <tr>\n",
       "      <th>0</th>\n",
       "      <td>23140766</td>\n",
       "      <td>AvailableDiskSpace</td>\n",
       "      <td>b'753392.0'</td>\n",
       "      <td>2015-08-07 13:13:48</td>\n",
       "    </tr>\n",
       "    <tr>\n",
       "      <th>1</th>\n",
       "      <td>23140766</td>\n",
       "      <td>CPUConsumed</td>\n",
       "      <td>b'10.0'</td>\n",
       "      <td>2015-08-07 13:13:48</td>\n",
       "    </tr>\n",
       "    <tr>\n",
       "      <th>2</th>\n",
       "      <td>23140766</td>\n",
       "      <td>LoadAverage</td>\n",
       "      <td>b'22.02'</td>\n",
       "      <td>2015-08-07 13:13:48</td>\n",
       "    </tr>\n",
       "    <tr>\n",
       "      <th>3</th>\n",
       "      <td>23140766</td>\n",
       "      <td>MemoryUsed</td>\n",
       "      <td>b'36101188.0'</td>\n",
       "      <td>2015-08-07 13:13:48</td>\n",
       "    </tr>\n",
       "    <tr>\n",
       "      <th>4</th>\n",
       "      <td>23140766</td>\n",
       "      <td>RSS</td>\n",
       "      <td>b'110596.0'</td>\n",
       "      <td>2015-08-07 13:13:48</td>\n",
       "    </tr>\n",
       "  </tbody>\n",
       "</table>\n",
       "</div>"
      ],
      "text/plain": [
       "      JobID                Name          Value       HeartBeatTime\n",
       "0  23140766  AvailableDiskSpace    b'753392.0' 2015-08-07 13:13:48\n",
       "1  23140766         CPUConsumed        b'10.0' 2015-08-07 13:13:48\n",
       "2  23140766         LoadAverage       b'22.02' 2015-08-07 13:13:48\n",
       "3  23140766          MemoryUsed  b'36101188.0' 2015-08-07 13:13:48\n",
       "4  23140766                 RSS    b'110596.0' 2015-08-07 13:13:48"
      ]
     },
     "execution_count": 24,
     "metadata": {},
     "output_type": "execute_result"
    }
   ],
   "source": [
    "allHBLI.head()"
   ]
  },
  {
   "cell_type": "code",
   "execution_count": 25,
   "metadata": {},
   "outputs": [
    {
     "data": {
      "text/plain": [
       "(33207156, 4)"
      ]
     },
     "execution_count": 25,
     "metadata": {},
     "output_type": "execute_result"
    }
   ],
   "source": [
    "allHBLI.shape"
   ]
  },
  {
   "cell_type": "code",
   "execution_count": 26,
   "metadata": {
    "collapsed": true
   },
   "outputs": [],
   "source": [
    "allHBLI.Value = pd.to_numeric(allHBLI['Value'], errors='raise')"
   ]
  },
  {
   "cell_type": "code",
   "execution_count": 27,
   "metadata": {
    "collapsed": true
   },
   "outputs": [],
   "source": [
    "allHBLI.HeartBeatTime = pd.to_datetime(allHBLI['HeartBeatTime'], errors='raise')"
   ]
  },
  {
   "cell_type": "code",
   "execution_count": 28,
   "metadata": {},
   "outputs": [
    {
     "data": {
      "text/plain": [
       "684937"
      ]
     },
     "execution_count": 28,
     "metadata": {},
     "output_type": "execute_result"
    }
   ],
   "source": [
    "# Number of unique jobIDs in 10M rows of dataHB (ans-185879)\n",
    "allHBLI.JobID.nunique()"
   ]
  },
  {
   "cell_type": "code",
   "execution_count": 29,
   "metadata": {},
   "outputs": [
    {
     "data": {
      "text/plain": [
       "1439365"
      ]
     },
     "execution_count": 29,
     "metadata": {},
     "output_type": "execute_result"
    }
   ],
   "source": [
    "# Number of unique timestampes in 10M rows of dataHB (ans-242222)\n",
    "allHBLI.HeartBeatTime.nunique()"
   ]
  },
  {
   "cell_type": "code",
   "execution_count": null,
   "metadata": {
    "collapsed": true
   },
   "outputs": [],
   "source": [
    "allHBLI.tail()"
   ]
  },
  {
   "cell_type": "code",
   "execution_count": 30,
   "metadata": {},
   "outputs": [
    {
     "name": "stdout",
     "output_type": "stream",
     "text": [
      "CPU times: user 31.4 s, sys: 5.36 s, total: 36.8 s\n",
      "Wall time: 37 s\n"
     ]
    }
   ],
   "source": [
    "%%time\n",
    "# 10 millions rows took 10 sec to pivot\n",
    "\n",
    "allHBLI_wide=allHBLI.pivot_table(index=['JobID','HeartBeatTime'], columns='Name', values='Value')"
   ]
  },
  {
   "cell_type": "code",
   "execution_count": 31,
   "metadata": {},
   "outputs": [
    {
     "data": {
      "text/plain": [
       "(4744091, 7)"
      ]
     },
     "execution_count": 31,
     "metadata": {},
     "output_type": "execute_result"
    }
   ],
   "source": [
    "# 1  million rows have shape (142863,  7) after pivot\n",
    "# 10 million rows have shape (1428574, 7) after pivot\n",
    "\n",
    "allHBLI_wide.shape"
   ]
  },
  {
   "cell_type": "code",
   "execution_count": 32,
   "metadata": {},
   "outputs": [
    {
     "data": {
      "text/plain": [
       "1481"
      ]
     },
     "execution_count": 32,
     "metadata": {},
     "output_type": "execute_result"
    }
   ],
   "source": [
    "allHBLI_wide.isnull().values.ravel().sum()"
   ]
  },
  {
   "cell_type": "code",
   "execution_count": 33,
   "metadata": {
    "collapsed": true
   },
   "outputs": [],
   "source": [
    "# Drop the last few rows\n",
    "allHBLI_wide = allHBLI_wide.dropna()"
   ]
  },
  {
   "cell_type": "code",
   "execution_count": 34,
   "metadata": {},
   "outputs": [
    {
     "data": {
      "text/plain": [
       "(4742707, 7)"
      ]
     },
     "execution_count": 34,
     "metadata": {},
     "output_type": "execute_result"
    }
   ],
   "source": [
    "allHBLI_wide.shape"
   ]
  },
  {
   "cell_type": "code",
   "execution_count": 35,
   "metadata": {},
   "outputs": [
    {
     "data": {
      "text/html": [
       "<div>\n",
       "<style scoped>\n",
       "    .dataframe tbody tr th:only-of-type {\n",
       "        vertical-align: middle;\n",
       "    }\n",
       "\n",
       "    .dataframe tbody tr th {\n",
       "        vertical-align: top;\n",
       "    }\n",
       "\n",
       "    .dataframe thead th {\n",
       "        text-align: right;\n",
       "    }\n",
       "</style>\n",
       "<table border=\"1\" class=\"dataframe\">\n",
       "  <thead>\n",
       "    <tr style=\"text-align: right;\">\n",
       "      <th></th>\n",
       "      <th>Name</th>\n",
       "      <th>AvailableDiskSpace</th>\n",
       "      <th>CPUConsumed</th>\n",
       "      <th>LoadAverage</th>\n",
       "      <th>MemoryUsed</th>\n",
       "      <th>RSS</th>\n",
       "      <th>Vsize</th>\n",
       "      <th>WallClockTime</th>\n",
       "    </tr>\n",
       "    <tr>\n",
       "      <th>JobID</th>\n",
       "      <th>HeartBeatTime</th>\n",
       "      <th></th>\n",
       "      <th></th>\n",
       "      <th></th>\n",
       "      <th></th>\n",
       "      <th></th>\n",
       "      <th></th>\n",
       "      <th></th>\n",
       "    </tr>\n",
       "  </thead>\n",
       "  <tbody>\n",
       "    <tr>\n",
       "      <th>23140766</th>\n",
       "      <th>2015-08-07 13:13:48</th>\n",
       "      <td>753392.0</td>\n",
       "      <td>10.0</td>\n",
       "      <td>22.02</td>\n",
       "      <td>36101188.0</td>\n",
       "      <td>110596.0</td>\n",
       "      <td>1459640.0</td>\n",
       "      <td>3.198161</td>\n",
       "    </tr>\n",
       "    <tr>\n",
       "      <th>23141083</th>\n",
       "      <th>2015-08-07 13:29:48</th>\n",
       "      <td>1544234.0</td>\n",
       "      <td>8.0</td>\n",
       "      <td>22.41</td>\n",
       "      <td>36037080.0</td>\n",
       "      <td>111956.0</td>\n",
       "      <td>1707264.0</td>\n",
       "      <td>2.890452</td>\n",
       "    </tr>\n",
       "    <tr>\n",
       "      <th rowspan=\"8\" valign=\"top\">23205537</th>\n",
       "      <th>2015-08-08 22:43:00</th>\n",
       "      <td>568076.0</td>\n",
       "      <td>9.0</td>\n",
       "      <td>21.97</td>\n",
       "      <td>43807076.0</td>\n",
       "      <td>51376.0</td>\n",
       "      <td>760076.0</td>\n",
       "      <td>3.637860</td>\n",
       "    </tr>\n",
       "    <tr>\n",
       "      <th>2015-08-08 23:13:00</th>\n",
       "      <td>568290.0</td>\n",
       "      <td>1738.0</td>\n",
       "      <td>23.00</td>\n",
       "      <td>44414148.0</td>\n",
       "      <td>731932.0</td>\n",
       "      <td>2714632.0</td>\n",
       "      <td>1803.281874</td>\n",
       "    </tr>\n",
       "    <tr>\n",
       "      <th>2015-08-08 23:42:58</th>\n",
       "      <td>568012.0</td>\n",
       "      <td>3526.0</td>\n",
       "      <td>24.05</td>\n",
       "      <td>45048940.0</td>\n",
       "      <td>764380.0</td>\n",
       "      <td>2872744.0</td>\n",
       "      <td>3602.163568</td>\n",
       "    </tr>\n",
       "    <tr>\n",
       "      <th>2015-08-09 00:12:58</th>\n",
       "      <td>567882.0</td>\n",
       "      <td>5311.0</td>\n",
       "      <td>22.98</td>\n",
       "      <td>45746004.0</td>\n",
       "      <td>785264.0</td>\n",
       "      <td>2884828.0</td>\n",
       "      <td>5402.028741</td>\n",
       "    </tr>\n",
       "    <tr>\n",
       "      <th>2015-08-09 00:42:58</th>\n",
       "      <td>567746.0</td>\n",
       "      <td>7088.0</td>\n",
       "      <td>23.25</td>\n",
       "      <td>46408120.0</td>\n",
       "      <td>806056.0</td>\n",
       "      <td>2902500.0</td>\n",
       "      <td>7201.870347</td>\n",
       "    </tr>\n",
       "    <tr>\n",
       "      <th>2015-08-09 01:13:08</th>\n",
       "      <td>567617.0</td>\n",
       "      <td>8885.0</td>\n",
       "      <td>23.66</td>\n",
       "      <td>46808432.0</td>\n",
       "      <td>830088.0</td>\n",
       "      <td>2926132.0</td>\n",
       "      <td>9011.577231</td>\n",
       "    </tr>\n",
       "    <tr>\n",
       "      <th>2015-08-09 01:43:07</th>\n",
       "      <td>567503.0</td>\n",
       "      <td>10669.0</td>\n",
       "      <td>24.41</td>\n",
       "      <td>47209380.0</td>\n",
       "      <td>830808.0</td>\n",
       "      <td>2926500.0</td>\n",
       "      <td>10811.185416</td>\n",
       "    </tr>\n",
       "    <tr>\n",
       "      <th>2015-08-09 02:13:06</th>\n",
       "      <td>567596.0</td>\n",
       "      <td>12449.0</td>\n",
       "      <td>22.14</td>\n",
       "      <td>46089464.0</td>\n",
       "      <td>836308.0</td>\n",
       "      <td>2945920.0</td>\n",
       "      <td>12610.498920</td>\n",
       "    </tr>\n",
       "  </tbody>\n",
       "</table>\n",
       "</div>"
      ],
      "text/plain": [
       "Name                          AvailableDiskSpace  CPUConsumed  LoadAverage  \\\n",
       "JobID    HeartBeatTime                                                       \n",
       "23140766 2015-08-07 13:13:48            753392.0         10.0        22.02   \n",
       "23141083 2015-08-07 13:29:48           1544234.0          8.0        22.41   \n",
       "23205537 2015-08-08 22:43:00            568076.0          9.0        21.97   \n",
       "         2015-08-08 23:13:00            568290.0       1738.0        23.00   \n",
       "         2015-08-08 23:42:58            568012.0       3526.0        24.05   \n",
       "         2015-08-09 00:12:58            567882.0       5311.0        22.98   \n",
       "         2015-08-09 00:42:58            567746.0       7088.0        23.25   \n",
       "         2015-08-09 01:13:08            567617.0       8885.0        23.66   \n",
       "         2015-08-09 01:43:07            567503.0      10669.0        24.41   \n",
       "         2015-08-09 02:13:06            567596.0      12449.0        22.14   \n",
       "\n",
       "Name                          MemoryUsed       RSS      Vsize  WallClockTime  \n",
       "JobID    HeartBeatTime                                                        \n",
       "23140766 2015-08-07 13:13:48  36101188.0  110596.0  1459640.0       3.198161  \n",
       "23141083 2015-08-07 13:29:48  36037080.0  111956.0  1707264.0       2.890452  \n",
       "23205537 2015-08-08 22:43:00  43807076.0   51376.0   760076.0       3.637860  \n",
       "         2015-08-08 23:13:00  44414148.0  731932.0  2714632.0    1803.281874  \n",
       "         2015-08-08 23:42:58  45048940.0  764380.0  2872744.0    3602.163568  \n",
       "         2015-08-09 00:12:58  45746004.0  785264.0  2884828.0    5402.028741  \n",
       "         2015-08-09 00:42:58  46408120.0  806056.0  2902500.0    7201.870347  \n",
       "         2015-08-09 01:13:08  46808432.0  830088.0  2926132.0    9011.577231  \n",
       "         2015-08-09 01:43:07  47209380.0  830808.0  2926500.0   10811.185416  \n",
       "         2015-08-09 02:13:06  46089464.0  836308.0  2945920.0   12610.498920  "
      ]
     },
     "execution_count": 35,
     "metadata": {},
     "output_type": "execute_result"
    }
   ],
   "source": [
    "allHBLI_wide.head(10)"
   ]
  },
  {
   "cell_type": "code",
   "execution_count": 36,
   "metadata": {},
   "outputs": [
    {
     "data": {
      "text/plain": [
       "Index(['AvailableDiskSpace', 'CPUConsumed', 'LoadAverage', 'MemoryUsed', 'RSS',\n",
       "       'Vsize', 'WallClockTime'],\n",
       "      dtype='object', name='Name')"
      ]
     },
     "execution_count": 36,
     "metadata": {},
     "output_type": "execute_result"
    }
   ],
   "source": [
    "allHBLI_wide.columns"
   ]
  },
  {
   "cell_type": "code",
   "execution_count": 38,
   "metadata": {},
   "outputs": [
    {
     "data": {
      "text/html": [
       "<div>\n",
       "<style scoped>\n",
       "    .dataframe tbody tr th:only-of-type {\n",
       "        vertical-align: middle;\n",
       "    }\n",
       "\n",
       "    .dataframe tbody tr th {\n",
       "        vertical-align: top;\n",
       "    }\n",
       "\n",
       "    .dataframe thead th {\n",
       "        text-align: right;\n",
       "    }\n",
       "</style>\n",
       "<table border=\"1\" class=\"dataframe\">\n",
       "  <thead>\n",
       "    <tr style=\"text-align: right;\">\n",
       "      <th>Name</th>\n",
       "      <th>AvailableDiskSpace</th>\n",
       "      <th>CPUConsumed</th>\n",
       "      <th>LoadAverage</th>\n",
       "      <th>MemoryUsed</th>\n",
       "      <th>RSS</th>\n",
       "      <th>Vsize</th>\n",
       "      <th>WallClockTime</th>\n",
       "    </tr>\n",
       "  </thead>\n",
       "  <tbody>\n",
       "    <tr>\n",
       "      <th>count</th>\n",
       "      <td>4.742707e+06</td>\n",
       "      <td>4.742707e+06</td>\n",
       "      <td>4.742707e+06</td>\n",
       "      <td>4.742707e+06</td>\n",
       "      <td>4.742707e+06</td>\n",
       "      <td>4.742707e+06</td>\n",
       "      <td>4.742707e+06</td>\n",
       "    </tr>\n",
       "    <tr>\n",
       "      <th>mean</th>\n",
       "      <td>1.926529e+06</td>\n",
       "      <td>1.110393e+04</td>\n",
       "      <td>2.387678e+01</td>\n",
       "      <td>5.138711e+07</td>\n",
       "      <td>9.179662e+05</td>\n",
       "      <td>2.668360e+06</td>\n",
       "      <td>1.126260e+04</td>\n",
       "    </tr>\n",
       "    <tr>\n",
       "      <th>std</th>\n",
       "      <td>8.925017e+06</td>\n",
       "      <td>1.217991e+04</td>\n",
       "      <td>1.658211e+01</td>\n",
       "      <td>4.230883e+07</td>\n",
       "      <td>5.353602e+05</td>\n",
       "      <td>8.990684e+05</td>\n",
       "      <td>1.233794e+04</td>\n",
       "    </tr>\n",
       "    <tr>\n",
       "      <th>min</th>\n",
       "      <td>-1.000000e+00</td>\n",
       "      <td>0.000000e+00</td>\n",
       "      <td>0.000000e+00</td>\n",
       "      <td>0.000000e+00</td>\n",
       "      <td>0.000000e+00</td>\n",
       "      <td>0.000000e+00</td>\n",
       "      <td>4.859111e-01</td>\n",
       "    </tr>\n",
       "    <tr>\n",
       "      <th>25%</th>\n",
       "      <td>1.405740e+05</td>\n",
       "      <td>3.442000e+03</td>\n",
       "      <td>1.314000e+01</td>\n",
       "      <td>2.397483e+07</td>\n",
       "      <td>8.294200e+05</td>\n",
       "      <td>2.396864e+06</td>\n",
       "      <td>3.602459e+03</td>\n",
       "    </tr>\n",
       "    <tr>\n",
       "      <th>50%</th>\n",
       "      <td>5.077810e+05</td>\n",
       "      <td>7.243000e+03</td>\n",
       "      <td>1.955000e+01</td>\n",
       "      <td>4.172795e+07</td>\n",
       "      <td>9.370880e+05</td>\n",
       "      <td>2.719288e+06</td>\n",
       "      <td>7.218922e+03</td>\n",
       "    </tr>\n",
       "    <tr>\n",
       "      <th>75%</th>\n",
       "      <td>9.031390e+05</td>\n",
       "      <td>1.535200e+04</td>\n",
       "      <td>3.182000e+01</td>\n",
       "      <td>6.127036e+07</td>\n",
       "      <td>1.099186e+06</td>\n",
       "      <td>3.179272e+06</td>\n",
       "      <td>1.620201e+04</td>\n",
       "    </tr>\n",
       "    <tr>\n",
       "      <th>max</th>\n",
       "      <td>2.857598e+08</td>\n",
       "      <td>2.658110e+05</td>\n",
       "      <td>4.992300e+02</td>\n",
       "      <td>2.641196e+08</td>\n",
       "      <td>1.671626e+08</td>\n",
       "      <td>1.710867e+08</td>\n",
       "      <td>2.574189e+05</td>\n",
       "    </tr>\n",
       "  </tbody>\n",
       "</table>\n",
       "</div>"
      ],
      "text/plain": [
       "Name   AvailableDiskSpace   CPUConsumed   LoadAverage    MemoryUsed  \\\n",
       "count        4.742707e+06  4.742707e+06  4.742707e+06  4.742707e+06   \n",
       "mean         1.926529e+06  1.110393e+04  2.387678e+01  5.138711e+07   \n",
       "std          8.925017e+06  1.217991e+04  1.658211e+01  4.230883e+07   \n",
       "min         -1.000000e+00  0.000000e+00  0.000000e+00  0.000000e+00   \n",
       "25%          1.405740e+05  3.442000e+03  1.314000e+01  2.397483e+07   \n",
       "50%          5.077810e+05  7.243000e+03  1.955000e+01  4.172795e+07   \n",
       "75%          9.031390e+05  1.535200e+04  3.182000e+01  6.127036e+07   \n",
       "max          2.857598e+08  2.658110e+05  4.992300e+02  2.641196e+08   \n",
       "\n",
       "Name            RSS         Vsize  WallClockTime  \n",
       "count  4.742707e+06  4.742707e+06   4.742707e+06  \n",
       "mean   9.179662e+05  2.668360e+06   1.126260e+04  \n",
       "std    5.353602e+05  8.990684e+05   1.233794e+04  \n",
       "min    0.000000e+00  0.000000e+00   4.859111e-01  \n",
       "25%    8.294200e+05  2.396864e+06   3.602459e+03  \n",
       "50%    9.370880e+05  2.719288e+06   7.218922e+03  \n",
       "75%    1.099186e+06  3.179272e+06   1.620201e+04  \n",
       "max    1.671626e+08  1.710867e+08   2.574189e+05  "
      ]
     },
     "execution_count": 38,
     "metadata": {},
     "output_type": "execute_result"
    }
   ],
   "source": [
    "allHBLI_wide.describe()"
   ]
  },
  {
   "cell_type": "markdown",
   "metadata": {},
   "source": [
    "## Scale 'allHBLI_wide' table"
   ]
  },
  {
   "cell_type": "code",
   "execution_count": 39,
   "metadata": {
    "collapsed": true
   },
   "outputs": [],
   "source": [
    "from sklearn.preprocessing import MinMaxScaler\n",
    "\n",
    "scaler = MinMaxScaler()\n",
    "allHBLI_wide[['AvailableDiskSpace', 'CPUConsumed', 'LoadAverage', \n",
    "             'MemoryUsed', 'RSS','Vsize', 'WallClockTime']] = scaler.fit_transform(allHBLI_wide[['AvailableDiskSpace', \n",
    "                                                                        'CPUConsumed', 'LoadAverage', 'MemoryUsed', \n",
    "                                                                        'RSS','Vsize', 'WallClockTime']])"
   ]
  },
  {
   "cell_type": "code",
   "execution_count": 41,
   "metadata": {},
   "outputs": [
    {
     "data": {
      "text/html": [
       "<div>\n",
       "<style scoped>\n",
       "    .dataframe tbody tr th:only-of-type {\n",
       "        vertical-align: middle;\n",
       "    }\n",
       "\n",
       "    .dataframe tbody tr th {\n",
       "        vertical-align: top;\n",
       "    }\n",
       "\n",
       "    .dataframe thead th {\n",
       "        text-align: right;\n",
       "    }\n",
       "</style>\n",
       "<table border=\"1\" class=\"dataframe\">\n",
       "  <thead>\n",
       "    <tr style=\"text-align: right;\">\n",
       "      <th>Name</th>\n",
       "      <th>AvailableDiskSpace</th>\n",
       "      <th>CPUConsumed</th>\n",
       "      <th>LoadAverage</th>\n",
       "      <th>MemoryUsed</th>\n",
       "      <th>RSS</th>\n",
       "      <th>Vsize</th>\n",
       "      <th>WallClockTime</th>\n",
       "    </tr>\n",
       "  </thead>\n",
       "  <tbody>\n",
       "    <tr>\n",
       "      <th>count</th>\n",
       "      <td>4.742707e+06</td>\n",
       "      <td>4.742707e+06</td>\n",
       "      <td>4.742707e+06</td>\n",
       "      <td>4.742707e+06</td>\n",
       "      <td>4.742707e+06</td>\n",
       "      <td>4.742707e+06</td>\n",
       "      <td>4.742707e+06</td>\n",
       "    </tr>\n",
       "    <tr>\n",
       "      <th>mean</th>\n",
       "      <td>6.741783e-03</td>\n",
       "      <td>4.177379e-02</td>\n",
       "      <td>4.782721e-02</td>\n",
       "      <td>1.945600e-01</td>\n",
       "      <td>5.491456e-03</td>\n",
       "      <td>1.559654e-02</td>\n",
       "      <td>4.375024e-02</td>\n",
       "    </tr>\n",
       "    <tr>\n",
       "      <th>std</th>\n",
       "      <td>3.123259e-02</td>\n",
       "      <td>4.582170e-02</td>\n",
       "      <td>3.321537e-02</td>\n",
       "      <td>1.601881e-01</td>\n",
       "      <td>3.202631e-03</td>\n",
       "      <td>5.255045e-03</td>\n",
       "      <td>4.792950e-02</td>\n",
       "    </tr>\n",
       "    <tr>\n",
       "      <th>min</th>\n",
       "      <td>0.000000e+00</td>\n",
       "      <td>0.000000e+00</td>\n",
       "      <td>0.000000e+00</td>\n",
       "      <td>0.000000e+00</td>\n",
       "      <td>0.000000e+00</td>\n",
       "      <td>0.000000e+00</td>\n",
       "      <td>0.000000e+00</td>\n",
       "    </tr>\n",
       "    <tr>\n",
       "      <th>25%</th>\n",
       "      <td>4.919342e-04</td>\n",
       "      <td>1.294905e-02</td>\n",
       "      <td>2.632053e-02</td>\n",
       "      <td>9.077262e-02</td>\n",
       "      <td>4.961755e-03</td>\n",
       "      <td>1.400965e-02</td>\n",
       "      <td>1.399268e-02</td>\n",
       "    </tr>\n",
       "    <tr>\n",
       "      <th>50%</th>\n",
       "      <td>1.776954e-03</td>\n",
       "      <td>2.724868e-02</td>\n",
       "      <td>3.916031e-02</td>\n",
       "      <td>1.579888e-01</td>\n",
       "      <td>5.605846e-03</td>\n",
       "      <td>1.589421e-02</td>\n",
       "      <td>2.804165e-02</td>\n",
       "    </tr>\n",
       "    <tr>\n",
       "      <th>75%</th>\n",
       "      <td>3.160487e-03</td>\n",
       "      <td>5.775532e-02</td>\n",
       "      <td>6.373816e-02</td>\n",
       "      <td>2.319796e-01</td>\n",
       "      <td>6.575548e-03</td>\n",
       "      <td>1.858281e-02</td>\n",
       "      <td>6.293849e-02</td>\n",
       "    </tr>\n",
       "    <tr>\n",
       "      <th>max</th>\n",
       "      <td>1.000000e+00</td>\n",
       "      <td>1.000000e+00</td>\n",
       "      <td>1.000000e+00</td>\n",
       "      <td>1.000000e+00</td>\n",
       "      <td>1.000000e+00</td>\n",
       "      <td>1.000000e+00</td>\n",
       "      <td>1.000000e+00</td>\n",
       "    </tr>\n",
       "  </tbody>\n",
       "</table>\n",
       "</div>"
      ],
      "text/plain": [
       "Name   AvailableDiskSpace   CPUConsumed   LoadAverage    MemoryUsed  \\\n",
       "count        4.742707e+06  4.742707e+06  4.742707e+06  4.742707e+06   \n",
       "mean         6.741783e-03  4.177379e-02  4.782721e-02  1.945600e-01   \n",
       "std          3.123259e-02  4.582170e-02  3.321537e-02  1.601881e-01   \n",
       "min          0.000000e+00  0.000000e+00  0.000000e+00  0.000000e+00   \n",
       "25%          4.919342e-04  1.294905e-02  2.632053e-02  9.077262e-02   \n",
       "50%          1.776954e-03  2.724868e-02  3.916031e-02  1.579888e-01   \n",
       "75%          3.160487e-03  5.775532e-02  6.373816e-02  2.319796e-01   \n",
       "max          1.000000e+00  1.000000e+00  1.000000e+00  1.000000e+00   \n",
       "\n",
       "Name            RSS         Vsize  WallClockTime  \n",
       "count  4.742707e+06  4.742707e+06   4.742707e+06  \n",
       "mean   5.491456e-03  1.559654e-02   4.375024e-02  \n",
       "std    3.202631e-03  5.255045e-03   4.792950e-02  \n",
       "min    0.000000e+00  0.000000e+00   0.000000e+00  \n",
       "25%    4.961755e-03  1.400965e-02   1.399268e-02  \n",
       "50%    5.605846e-03  1.589421e-02   2.804165e-02  \n",
       "75%    6.575548e-03  1.858281e-02   6.293849e-02  \n",
       "max    1.000000e+00  1.000000e+00   1.000000e+00  "
      ]
     },
     "execution_count": 41,
     "metadata": {},
     "output_type": "execute_result"
    }
   ],
   "source": [
    "allHBLI_wide.describe()"
   ]
  },
  {
   "cell_type": "code",
   "execution_count": 42,
   "metadata": {
    "collapsed": true
   },
   "outputs": [],
   "source": [
    "allHBLI_wide = allHBLI_wide.reset_index()"
   ]
  },
  {
   "cell_type": "code",
   "execution_count": 43,
   "metadata": {},
   "outputs": [
    {
     "data": {
      "text/plain": [
       "(4742707, 9)"
      ]
     },
     "execution_count": 43,
     "metadata": {},
     "output_type": "execute_result"
    }
   ],
   "source": [
    "allHBLI_wide.shape"
   ]
  },
  {
   "cell_type": "code",
   "execution_count": 44,
   "metadata": {
    "collapsed": true
   },
   "outputs": [],
   "source": [
    "#########################\n",
    "allHBLI_wide.to_pickle('large_allHBLI_wide_scaled_4742707by9.pickle')\n",
    "#########################"
   ]
  },
  {
   "cell_type": "code",
   "execution_count": 45,
   "metadata": {},
   "outputs": [
    {
     "data": {
      "text/html": [
       "<div>\n",
       "<style scoped>\n",
       "    .dataframe tbody tr th:only-of-type {\n",
       "        vertical-align: middle;\n",
       "    }\n",
       "\n",
       "    .dataframe tbody tr th {\n",
       "        vertical-align: top;\n",
       "    }\n",
       "\n",
       "    .dataframe thead th {\n",
       "        text-align: right;\n",
       "    }\n",
       "</style>\n",
       "<table border=\"1\" class=\"dataframe\">\n",
       "  <thead>\n",
       "    <tr style=\"text-align: right;\">\n",
       "      <th>Name</th>\n",
       "      <th>JobID</th>\n",
       "      <th>HeartBeatTime</th>\n",
       "      <th>AvailableDiskSpace</th>\n",
       "      <th>CPUConsumed</th>\n",
       "      <th>LoadAverage</th>\n",
       "      <th>MemoryUsed</th>\n",
       "      <th>RSS</th>\n",
       "      <th>Vsize</th>\n",
       "      <th>WallClockTime</th>\n",
       "    </tr>\n",
       "  </thead>\n",
       "  <tbody>\n",
       "    <tr>\n",
       "      <th>0</th>\n",
       "      <td>23140766</td>\n",
       "      <td>2015-08-07 13:13:48</td>\n",
       "      <td>0.002636</td>\n",
       "      <td>0.000038</td>\n",
       "      <td>0.044108</td>\n",
       "      <td>0.136685</td>\n",
       "      <td>0.000662</td>\n",
       "      <td>0.008532</td>\n",
       "      <td>0.000011</td>\n",
       "    </tr>\n",
       "    <tr>\n",
       "      <th>1</th>\n",
       "      <td>23141083</td>\n",
       "      <td>2015-08-07 13:29:48</td>\n",
       "      <td>0.005404</td>\n",
       "      <td>0.000030</td>\n",
       "      <td>0.044889</td>\n",
       "      <td>0.136442</td>\n",
       "      <td>0.000670</td>\n",
       "      <td>0.009979</td>\n",
       "      <td>0.000009</td>\n",
       "    </tr>\n",
       "  </tbody>\n",
       "</table>\n",
       "</div>"
      ],
      "text/plain": [
       "Name     JobID       HeartBeatTime  AvailableDiskSpace  CPUConsumed  \\\n",
       "0     23140766 2015-08-07 13:13:48            0.002636     0.000038   \n",
       "1     23141083 2015-08-07 13:29:48            0.005404     0.000030   \n",
       "\n",
       "Name  LoadAverage  MemoryUsed       RSS     Vsize  WallClockTime  \n",
       "0        0.044108    0.136685  0.000662  0.008532       0.000011  \n",
       "1        0.044889    0.136442  0.000670  0.009979       0.000009  "
      ]
     },
     "execution_count": 45,
     "metadata": {},
     "output_type": "execute_result"
    }
   ],
   "source": [
    "allHBLI_wide.head(2)"
   ]
  },
  {
   "cell_type": "markdown",
   "metadata": {},
   "source": [
    "#### End of HBLI table processing: allHBLI"
   ]
  },
  {
   "cell_type": "markdown",
   "metadata": {},
   "source": [
    "# Process Jobs tables: allJobs"
   ]
  },
  {
   "cell_type": "code",
   "execution_count": 55,
   "metadata": {
    "collapsed": true
   },
   "outputs": [],
   "source": [
    "dataJobs = allJobs"
   ]
  },
  {
   "cell_type": "code",
   "execution_count": 56,
   "metadata": {},
   "outputs": [
    {
     "data": {
      "text/html": [
       "<div>\n",
       "<style scoped>\n",
       "    .dataframe tbody tr th:only-of-type {\n",
       "        vertical-align: middle;\n",
       "    }\n",
       "\n",
       "    .dataframe tbody tr th {\n",
       "        vertical-align: top;\n",
       "    }\n",
       "\n",
       "    .dataframe thead th {\n",
       "        text-align: right;\n",
       "    }\n",
       "</style>\n",
       "<table border=\"1\" class=\"dataframe\">\n",
       "  <thead>\n",
       "    <tr style=\"text-align: right;\">\n",
       "      <th></th>\n",
       "      <th>JobID</th>\n",
       "      <th>MasterJobID</th>\n",
       "      <th>ApplicationNumStatus</th>\n",
       "      <th>CPUTime</th>\n",
       "      <th>UserPriority</th>\n",
       "      <th>SystemPriority</th>\n",
       "      <th>RescheduleCounter</th>\n",
       "    </tr>\n",
       "  </thead>\n",
       "  <tbody>\n",
       "    <tr>\n",
       "      <th>count</th>\n",
       "      <td>8.750000e+05</td>\n",
       "      <td>875000.0</td>\n",
       "      <td>875000.0</td>\n",
       "      <td>875000.0</td>\n",
       "      <td>875000.000000</td>\n",
       "      <td>875000.0</td>\n",
       "      <td>875000.000000</td>\n",
       "    </tr>\n",
       "    <tr>\n",
       "      <th>mean</th>\n",
       "      <td>3.507823e+07</td>\n",
       "      <td>0.0</td>\n",
       "      <td>0.0</td>\n",
       "      <td>0.0</td>\n",
       "      <td>4.612575</td>\n",
       "      <td>0.0</td>\n",
       "      <td>0.068830</td>\n",
       "    </tr>\n",
       "    <tr>\n",
       "      <th>std</th>\n",
       "      <td>2.583614e+06</td>\n",
       "      <td>0.0</td>\n",
       "      <td>0.0</td>\n",
       "      <td>0.0</td>\n",
       "      <td>2.243048</td>\n",
       "      <td>0.0</td>\n",
       "      <td>0.936638</td>\n",
       "    </tr>\n",
       "    <tr>\n",
       "      <th>min</th>\n",
       "      <td>2.314077e+07</td>\n",
       "      <td>0.0</td>\n",
       "      <td>0.0</td>\n",
       "      <td>0.0</td>\n",
       "      <td>0.000000</td>\n",
       "      <td>0.0</td>\n",
       "      <td>0.000000</td>\n",
       "    </tr>\n",
       "    <tr>\n",
       "      <th>25%</th>\n",
       "      <td>3.252100e+07</td>\n",
       "      <td>0.0</td>\n",
       "      <td>0.0</td>\n",
       "      <td>0.0</td>\n",
       "      <td>3.000000</td>\n",
       "      <td>0.0</td>\n",
       "      <td>0.000000</td>\n",
       "    </tr>\n",
       "    <tr>\n",
       "      <th>50%</th>\n",
       "      <td>3.450696e+07</td>\n",
       "      <td>0.0</td>\n",
       "      <td>0.0</td>\n",
       "      <td>0.0</td>\n",
       "      <td>5.000000</td>\n",
       "      <td>0.0</td>\n",
       "      <td>0.000000</td>\n",
       "    </tr>\n",
       "    <tr>\n",
       "      <th>75%</th>\n",
       "      <td>3.772414e+07</td>\n",
       "      <td>0.0</td>\n",
       "      <td>0.0</td>\n",
       "      <td>0.0</td>\n",
       "      <td>5.000000</td>\n",
       "      <td>0.0</td>\n",
       "      <td>0.000000</td>\n",
       "    </tr>\n",
       "    <tr>\n",
       "      <th>max</th>\n",
       "      <td>3.833186e+07</td>\n",
       "      <td>0.0</td>\n",
       "      <td>0.0</td>\n",
       "      <td>0.0</td>\n",
       "      <td>10.000000</td>\n",
       "      <td>0.0</td>\n",
       "      <td>20.000000</td>\n",
       "    </tr>\n",
       "  </tbody>\n",
       "</table>\n",
       "</div>"
      ],
      "text/plain": [
       "              JobID  MasterJobID  ApplicationNumStatus   CPUTime  \\\n",
       "count  8.750000e+05     875000.0              875000.0  875000.0   \n",
       "mean   3.507823e+07          0.0                   0.0       0.0   \n",
       "std    2.583614e+06          0.0                   0.0       0.0   \n",
       "min    2.314077e+07          0.0                   0.0       0.0   \n",
       "25%    3.252100e+07          0.0                   0.0       0.0   \n",
       "50%    3.450696e+07          0.0                   0.0       0.0   \n",
       "75%    3.772414e+07          0.0                   0.0       0.0   \n",
       "max    3.833186e+07          0.0                   0.0       0.0   \n",
       "\n",
       "        UserPriority  SystemPriority  RescheduleCounter  \n",
       "count  875000.000000        875000.0      875000.000000  \n",
       "mean        4.612575             0.0           0.068830  \n",
       "std         2.243048             0.0           0.936638  \n",
       "min         0.000000             0.0           0.000000  \n",
       "25%         3.000000             0.0           0.000000  \n",
       "50%         5.000000             0.0           0.000000  \n",
       "75%         5.000000             0.0           0.000000  \n",
       "max        10.000000             0.0          20.000000  "
      ]
     },
     "execution_count": 56,
     "metadata": {},
     "output_type": "execute_result"
    }
   ],
   "source": [
    "dataJobs.describe()"
   ]
  },
  {
   "cell_type": "code",
   "execution_count": 57,
   "metadata": {},
   "outputs": [
    {
     "data": {
      "text/plain": [
       "['JobID',\n",
       " 'JobType',\n",
       " 'DIRACSetup',\n",
       " 'JobGroup',\n",
       " 'JobSplitType',\n",
       " 'MasterJobID',\n",
       " 'Site',\n",
       " 'JobName',\n",
       " 'Owner',\n",
       " 'OwnerDN',\n",
       " 'OwnerGroup',\n",
       " 'SubmissionTime',\n",
       " 'RescheduleTime',\n",
       " 'LastUpdateTime',\n",
       " 'StartExecTime',\n",
       " 'HeartBeatTime',\n",
       " 'EndExecTime',\n",
       " 'Status',\n",
       " 'MinorStatus',\n",
       " 'ApplicationStatus',\n",
       " 'ApplicationNumStatus',\n",
       " 'CPUTime',\n",
       " 'UserPriority',\n",
       " 'SystemPriority',\n",
       " 'RescheduleCounter',\n",
       " 'VerifiedFlag',\n",
       " 'DeletedFlag',\n",
       " 'KilledFlag',\n",
       " 'FailedFlag',\n",
       " 'ISandboxReadyFlag',\n",
       " 'OSandboxReadyFlag',\n",
       " 'RetrievedFlag',\n",
       " 'AccountedFlag']"
      ]
     },
     "execution_count": 57,
     "metadata": {},
     "output_type": "execute_result"
    }
   ],
   "source": [
    "listofcolumns = dataJobs.columns.tolist()\n",
    "listofcolumns"
   ]
  },
  {
   "cell_type": "code",
   "execution_count": 58,
   "metadata": {},
   "outputs": [
    {
     "name": "stdout",
     "output_type": "stream",
     "text": [
      "['JobType', 'DIRACSetup', 'JobGroup', 'JobSplitType', 'MasterJobID', 'Site', 'Owner', 'OwnerDN', 'OwnerGroup', 'Status', 'MinorStatus', 'ApplicationStatus', 'ApplicationNumStatus', 'CPUTime', 'UserPriority', 'SystemPriority', 'RescheduleCounter', 'VerifiedFlag', 'DeletedFlag', 'KilledFlag', 'FailedFlag', 'ISandboxReadyFlag', 'OSandboxReadyFlag', 'RetrievedFlag', 'AccountedFlag']\n"
     ]
    }
   ],
   "source": [
    "removelist = ['JobID','JobName','SubmissionTime', 'RescheduleTime', 'LastUpdateTime', \n",
    "              'StartExecTime', 'HeartBeatTime', 'EndExecTime']\n",
    "\n",
    "for r in removelist:\n",
    "    listofcolumns.remove(r)\n",
    "    \n",
    "print(listofcolumns)"
   ]
  },
  {
   "cell_type": "code",
   "execution_count": 59,
   "metadata": {},
   "outputs": [
    {
     "data": {
      "text/plain": [
       "(875000, 33)"
      ]
     },
     "execution_count": 59,
     "metadata": {},
     "output_type": "execute_result"
    }
   ],
   "source": [
    "dataJobs.shape"
   ]
  },
  {
   "cell_type": "code",
   "execution_count": 60,
   "metadata": {},
   "outputs": [
    {
     "name": "stdout",
     "output_type": "stream",
     "text": [
      "Owner 1\n",
      "CPUTime 1\n",
      "JobSplitType 1\n",
      "VerifiedFlag 1\n",
      "ISandboxReadyFlag 1\n",
      "OSandboxReadyFlag 1\n",
      "SystemPriority 1\n",
      "DeletedFlag 1\n",
      "DIRACSetup 1\n",
      "OwnerGroup 1\n",
      "FailedFlag 1\n",
      "OwnerDN 1\n",
      "MasterJobID 1\n",
      "KilledFlag 1\n",
      "ApplicationNumStatus 1\n",
      "RetrievedFlag 1\n",
      "Status 2\n",
      "AccountedFlag 2\n",
      "JobType 3\n",
      "UserPriority 6\n",
      "RescheduleCounter 21\n",
      "MinorStatus 25\n",
      "Site 52\n",
      "ApplicationStatus 111\n",
      "JobGroup 260\n"
     ]
    }
   ],
   "source": [
    "cc = {}\n",
    "\n",
    "for c in listofcolumns:\n",
    "    #print(c)\n",
    "    ll = len(dataJobs[c].unique().tolist())\n",
    "    \n",
    "    if ll > 0:\n",
    "        #print('************ found > limit *')\n",
    "        cc[c]=ll\n",
    "\n",
    "for w in sorted(cc, key=cc.get, reverse=False):\n",
    "  print(w, cc[w])"
   ]
  },
  {
   "cell_type": "code",
   "execution_count": 61,
   "metadata": {
    "collapsed": true
   },
   "outputs": [],
   "source": [
    "### Decision: let us drop 'MinorStatus' and 'ApplicationStatus' and only predict \n",
    "### the 'Status' column\n",
    "#   LABEL for prediction: only predict the 'Status' column\n",
    "\n",
    "del dataJobs['MinorStatus']\n",
    "del dataJobs['ApplicationStatus']"
   ]
  },
  {
   "cell_type": "code",
   "execution_count": 62,
   "metadata": {},
   "outputs": [
    {
     "name": "stdout",
     "output_type": "stream",
     "text": [
      "Owner 1\n",
      "CPUTime 1\n",
      "JobSplitType 1\n",
      "VerifiedFlag 1\n",
      "ISandboxReadyFlag 1\n",
      "OSandboxReadyFlag 1\n",
      "SystemPriority 1\n",
      "DeletedFlag 1\n",
      "DIRACSetup 1\n",
      "OwnerGroup 1\n",
      "FailedFlag 1\n",
      "OwnerDN 1\n",
      "MasterJobID 1\n",
      "KilledFlag 1\n",
      "ApplicationNumStatus 1\n",
      "RetrievedFlag 1\n"
     ]
    }
   ],
   "source": [
    "### Decision: let us drop all columns which have only single state, i.e. no fluctuation\n",
    "\n",
    "for w in sorted(cc, key=cc.get, reverse=False):\n",
    "    if cc[w] == 1:\n",
    "        del dataJobs[w]\n",
    "        print(w, cc[w])"
   ]
  },
  {
   "cell_type": "code",
   "execution_count": 63,
   "metadata": {
    "collapsed": true
   },
   "outputs": [],
   "source": [
    "del dataJobs['JobName'] #name is not important for prediction"
   ]
  },
  {
   "cell_type": "code",
   "execution_count": 64,
   "metadata": {},
   "outputs": [
    {
     "data": {
      "text/plain": [
       "['JobID',\n",
       " 'JobType',\n",
       " 'JobGroup',\n",
       " 'Site',\n",
       " 'SubmissionTime',\n",
       " 'RescheduleTime',\n",
       " 'LastUpdateTime',\n",
       " 'StartExecTime',\n",
       " 'HeartBeatTime',\n",
       " 'EndExecTime',\n",
       " 'Status',\n",
       " 'UserPriority',\n",
       " 'RescheduleCounter',\n",
       " 'AccountedFlag']"
      ]
     },
     "execution_count": 64,
     "metadata": {},
     "output_type": "execute_result"
    }
   ],
   "source": [
    "dataJobs.columns.tolist()"
   ]
  },
  {
   "cell_type": "code",
   "execution_count": 65,
   "metadata": {},
   "outputs": [
    {
     "data": {
      "text/html": [
       "<div>\n",
       "<style scoped>\n",
       "    .dataframe tbody tr th:only-of-type {\n",
       "        vertical-align: middle;\n",
       "    }\n",
       "\n",
       "    .dataframe tbody tr th {\n",
       "        vertical-align: top;\n",
       "    }\n",
       "\n",
       "    .dataframe thead th {\n",
       "        text-align: right;\n",
       "    }\n",
       "</style>\n",
       "<table border=\"1\" class=\"dataframe\">\n",
       "  <thead>\n",
       "    <tr style=\"text-align: right;\">\n",
       "      <th></th>\n",
       "      <th>SubmissionTime</th>\n",
       "      <th>RescheduleTime</th>\n",
       "      <th>LastUpdateTime</th>\n",
       "      <th>StartExecTime</th>\n",
       "      <th>HeartBeatTime</th>\n",
       "      <th>EndExecTime</th>\n",
       "    </tr>\n",
       "  </thead>\n",
       "  <tbody>\n",
       "    <tr>\n",
       "      <th>0</th>\n",
       "      <td>2015-08-07 13:09:34</td>\n",
       "      <td>NaT</td>\n",
       "      <td>2016-12-01 04:42:41</td>\n",
       "      <td>2015-08-07 13:10:26</td>\n",
       "      <td>2015-08-07 13:20:16</td>\n",
       "      <td>2015-08-07 13:17:13</td>\n",
       "    </tr>\n",
       "    <tr>\n",
       "      <th>1</th>\n",
       "      <td>2015-08-07 13:19:34</td>\n",
       "      <td>NaT</td>\n",
       "      <td>2016-12-01 04:42:41</td>\n",
       "      <td>2015-08-07 13:29:29</td>\n",
       "      <td>2015-08-07 13:39:55</td>\n",
       "      <td>2015-08-07 13:39:55</td>\n",
       "    </tr>\n",
       "    <tr>\n",
       "      <th>2</th>\n",
       "      <td>2015-08-08 21:35:09</td>\n",
       "      <td>NaT</td>\n",
       "      <td>2016-12-01 04:42:41</td>\n",
       "      <td>2015-08-08 22:42:40</td>\n",
       "      <td>2015-08-09 12:00:33</td>\n",
       "      <td>2015-08-09 12:00:33</td>\n",
       "    </tr>\n",
       "    <tr>\n",
       "      <th>3</th>\n",
       "      <td>2015-08-08 21:39:29</td>\n",
       "      <td>NaT</td>\n",
       "      <td>2016-12-01 04:42:41</td>\n",
       "      <td>2015-08-08 22:49:54</td>\n",
       "      <td>2015-08-09 05:07:49</td>\n",
       "      <td>2015-08-09 05:07:49</td>\n",
       "    </tr>\n",
       "    <tr>\n",
       "      <th>4</th>\n",
       "      <td>2015-08-08 21:40:31</td>\n",
       "      <td>NaT</td>\n",
       "      <td>2016-12-01 04:42:41</td>\n",
       "      <td>2015-08-08 22:49:41</td>\n",
       "      <td>2015-08-09 12:04:12</td>\n",
       "      <td>2015-08-09 12:04:13</td>\n",
       "    </tr>\n",
       "  </tbody>\n",
       "</table>\n",
       "</div>"
      ],
      "text/plain": [
       "       SubmissionTime RescheduleTime      LastUpdateTime       StartExecTime  \\\n",
       "0 2015-08-07 13:09:34            NaT 2016-12-01 04:42:41 2015-08-07 13:10:26   \n",
       "1 2015-08-07 13:19:34            NaT 2016-12-01 04:42:41 2015-08-07 13:29:29   \n",
       "2 2015-08-08 21:35:09            NaT 2016-12-01 04:42:41 2015-08-08 22:42:40   \n",
       "3 2015-08-08 21:39:29            NaT 2016-12-01 04:42:41 2015-08-08 22:49:54   \n",
       "4 2015-08-08 21:40:31            NaT 2016-12-01 04:42:41 2015-08-08 22:49:41   \n",
       "\n",
       "        HeartBeatTime         EndExecTime  \n",
       "0 2015-08-07 13:20:16 2015-08-07 13:17:13  \n",
       "1 2015-08-07 13:39:55 2015-08-07 13:39:55  \n",
       "2 2015-08-09 12:00:33 2015-08-09 12:00:33  \n",
       "3 2015-08-09 05:07:49 2015-08-09 05:07:49  \n",
       "4 2015-08-09 12:04:12 2015-08-09 12:04:13  "
      ]
     },
     "execution_count": 65,
     "metadata": {},
     "output_type": "execute_result"
    }
   ],
   "source": [
    "dataJobs[['SubmissionTime',\n",
    " 'RescheduleTime',\n",
    " 'LastUpdateTime',\n",
    " 'StartExecTime',\n",
    " 'HeartBeatTime',\n",
    " 'EndExecTime']][:5]"
   ]
  },
  {
   "cell_type": "code",
   "execution_count": 66,
   "metadata": {
    "collapsed": true
   },
   "outputs": [],
   "source": [
    "### Decision: Convert times to deltas\n",
    "\n",
    "dataJobs['start_submit'] = (dataJobs['StartExecTime']-dataJobs['SubmissionTime']) / np.timedelta64(1, 'm')\n",
    "dataJobs['hbeat_start']  = (dataJobs['HeartBeatTime']-dataJobs['StartExecTime']) / np.timedelta64(1, 'm')\n",
    "\n",
    "for x in ['SubmissionTime','RescheduleTime','LastUpdateTime','StartExecTime','HeartBeatTime','EndExecTime']:\n",
    "    del dataJobs[x]"
   ]
  },
  {
   "cell_type": "code",
   "execution_count": 67,
   "metadata": {
    "collapsed": true
   },
   "outputs": [],
   "source": [
    "# Decision: Remove the AccountedFlag at this stage\n",
    "del dataJobs['AccountedFlag']"
   ]
  },
  {
   "cell_type": "code",
   "execution_count": 68,
   "metadata": {},
   "outputs": [
    {
     "data": {
      "text/html": [
       "<div>\n",
       "<style scoped>\n",
       "    .dataframe tbody tr th:only-of-type {\n",
       "        vertical-align: middle;\n",
       "    }\n",
       "\n",
       "    .dataframe tbody tr th {\n",
       "        vertical-align: top;\n",
       "    }\n",
       "\n",
       "    .dataframe thead th {\n",
       "        text-align: right;\n",
       "    }\n",
       "</style>\n",
       "<table border=\"1\" class=\"dataframe\">\n",
       "  <thead>\n",
       "    <tr style=\"text-align: right;\">\n",
       "      <th></th>\n",
       "      <th>JobID</th>\n",
       "      <th>JobType</th>\n",
       "      <th>JobGroup</th>\n",
       "      <th>Site</th>\n",
       "      <th>Status</th>\n",
       "      <th>UserPriority</th>\n",
       "      <th>RescheduleCounter</th>\n",
       "      <th>start_submit</th>\n",
       "      <th>hbeat_start</th>\n",
       "    </tr>\n",
       "  </thead>\n",
       "  <tbody>\n",
       "    <tr>\n",
       "      <th>0</th>\n",
       "      <td>23140766</td>\n",
       "      <td>MCProductionBGx0</td>\n",
       "      <td>00000757</td>\n",
       "      <td>DIRAC.UAS.mx</td>\n",
       "      <td>Failed</td>\n",
       "      <td>0</td>\n",
       "      <td>0</td>\n",
       "      <td>0.866667</td>\n",
       "      <td>9.833333</td>\n",
       "    </tr>\n",
       "    <tr>\n",
       "      <th>1</th>\n",
       "      <td>23141083</td>\n",
       "      <td>MCProductionBGx0</td>\n",
       "      <td>00000758</td>\n",
       "      <td>DIRAC.CINVESTAV.mx</td>\n",
       "      <td>Failed</td>\n",
       "      <td>0</td>\n",
       "      <td>0</td>\n",
       "      <td>9.916667</td>\n",
       "      <td>10.433333</td>\n",
       "    </tr>\n",
       "    <tr>\n",
       "      <th>2</th>\n",
       "      <td>23205537</td>\n",
       "      <td>MCProductionBGx0</td>\n",
       "      <td>00000809</td>\n",
       "      <td>LCG.Pisa.it</td>\n",
       "      <td>Failed</td>\n",
       "      <td>0</td>\n",
       "      <td>0</td>\n",
       "      <td>67.516667</td>\n",
       "      <td>797.883333</td>\n",
       "    </tr>\n",
       "    <tr>\n",
       "      <th>3</th>\n",
       "      <td>23205539</td>\n",
       "      <td>MCProductionBGx0</td>\n",
       "      <td>00000809</td>\n",
       "      <td>LCG.KEK2.jp</td>\n",
       "      <td>Failed</td>\n",
       "      <td>0</td>\n",
       "      <td>0</td>\n",
       "      <td>70.416667</td>\n",
       "      <td>377.916667</td>\n",
       "    </tr>\n",
       "    <tr>\n",
       "      <th>4</th>\n",
       "      <td>23205643</td>\n",
       "      <td>MCProductionBGx0</td>\n",
       "      <td>00000809</td>\n",
       "      <td>LCG.Pisa.it</td>\n",
       "      <td>Failed</td>\n",
       "      <td>0</td>\n",
       "      <td>0</td>\n",
       "      <td>69.166667</td>\n",
       "      <td>794.516667</td>\n",
       "    </tr>\n",
       "  </tbody>\n",
       "</table>\n",
       "</div>"
      ],
      "text/plain": [
       "      JobID           JobType  JobGroup                Site  Status  \\\n",
       "0  23140766  MCProductionBGx0  00000757        DIRAC.UAS.mx  Failed   \n",
       "1  23141083  MCProductionBGx0  00000758  DIRAC.CINVESTAV.mx  Failed   \n",
       "2  23205537  MCProductionBGx0  00000809         LCG.Pisa.it  Failed   \n",
       "3  23205539  MCProductionBGx0  00000809         LCG.KEK2.jp  Failed   \n",
       "4  23205643  MCProductionBGx0  00000809         LCG.Pisa.it  Failed   \n",
       "\n",
       "   UserPriority  RescheduleCounter  start_submit  hbeat_start  \n",
       "0             0                  0      0.866667     9.833333  \n",
       "1             0                  0      9.916667    10.433333  \n",
       "2             0                  0     67.516667   797.883333  \n",
       "3             0                  0     70.416667   377.916667  \n",
       "4             0                  0     69.166667   794.516667  "
      ]
     },
     "execution_count": 68,
     "metadata": {},
     "output_type": "execute_result"
    }
   ],
   "source": [
    "dataJobs[:5]"
   ]
  },
  {
   "cell_type": "code",
   "execution_count": 69,
   "metadata": {},
   "outputs": [
    {
     "data": {
      "text/plain": [
       "Failed    500000\n",
       "Done      375000\n",
       "Name: Status, dtype: int64"
      ]
     },
     "execution_count": 69,
     "metadata": {},
     "output_type": "execute_result"
    }
   ],
   "source": [
    "dataJobs.Status.value_counts()"
   ]
  },
  {
   "cell_type": "code",
   "execution_count": 70,
   "metadata": {},
   "outputs": [
    {
     "data": {
      "text/plain": [
       "Index(['JobID', 'JobType', 'JobGroup', 'Site', 'Status', 'UserPriority',\n",
       "       'RescheduleCounter', 'start_submit', 'hbeat_start'],\n",
       "      dtype='object')"
      ]
     },
     "execution_count": 70,
     "metadata": {},
     "output_type": "execute_result"
    }
   ],
   "source": [
    "dataJobs.columns"
   ]
  },
  {
   "cell_type": "code",
   "execution_count": 71,
   "metadata": {},
   "outputs": [
    {
     "name": "stdout",
     "output_type": "stream",
     "text": [
      "CPU times: user 3.59 s, sys: 192 ms, total: 3.78 s\n",
      "Wall time: 3.78 s\n"
     ]
    }
   ],
   "source": [
    "%%time\n",
    "\n",
    "# Make categorical variables:\n",
    "dj_encoded = pd.get_dummies(dataJobs, columns=['JobType','JobGroup','Site','Status','UserPriority'],\n",
    "                           drop_first=True)"
   ]
  },
  {
   "cell_type": "code",
   "execution_count": 72,
   "metadata": {},
   "outputs": [
    {
     "data": {
      "text/plain": [
       "['JobID',\n",
       " 'RescheduleCounter',\n",
       " 'start_submit',\n",
       " 'hbeat_start',\n",
       " 'JobType_MCProductionBGx0',\n",
       " 'JobType_Merge',\n",
       " 'JobGroup_00000758',\n",
       " 'JobGroup_00000808',\n",
       " 'JobGroup_00000809',\n",
       " 'JobGroup_00000974',\n",
       " 'JobGroup_00000975',\n",
       " 'JobGroup_00001303',\n",
       " 'JobGroup_00001306',\n",
       " 'JobGroup_00001368',\n",
       " 'JobGroup_00001369',\n",
       " 'JobGroup_00001370',\n",
       " 'JobGroup_00001371',\n",
       " 'JobGroup_00001372',\n",
       " 'JobGroup_00001373',\n",
       " 'JobGroup_00001374',\n",
       " 'JobGroup_00001375',\n",
       " 'JobGroup_00001376',\n",
       " 'JobGroup_00001377',\n",
       " 'JobGroup_00001378',\n",
       " 'JobGroup_00001379',\n",
       " 'JobGroup_00001380',\n",
       " 'JobGroup_00001381',\n",
       " 'JobGroup_00001386',\n",
       " 'JobGroup_00001398',\n",
       " 'JobGroup_00001404',\n",
       " 'JobGroup_00001622',\n",
       " 'JobGroup_00001635',\n",
       " 'JobGroup_00001636',\n",
       " 'JobGroup_00001637',\n",
       " 'JobGroup_00001638',\n",
       " 'JobGroup_00001639',\n",
       " 'JobGroup_00001640',\n",
       " 'JobGroup_00001641',\n",
       " 'JobGroup_00001642',\n",
       " 'JobGroup_00001643',\n",
       " 'JobGroup_00001644',\n",
       " 'JobGroup_00001645',\n",
       " 'JobGroup_00001646',\n",
       " 'JobGroup_00001647',\n",
       " 'JobGroup_00001648',\n",
       " 'JobGroup_00001649',\n",
       " 'JobGroup_00001650',\n",
       " 'JobGroup_00001651',\n",
       " 'JobGroup_00001652',\n",
       " 'JobGroup_00001653',\n",
       " 'JobGroup_00001654',\n",
       " 'JobGroup_00001655',\n",
       " 'JobGroup_00001656',\n",
       " 'JobGroup_00001657',\n",
       " 'JobGroup_00001658',\n",
       " 'JobGroup_00001659',\n",
       " 'JobGroup_00001660',\n",
       " 'JobGroup_00001661',\n",
       " 'JobGroup_00001662',\n",
       " 'JobGroup_00001663',\n",
       " 'JobGroup_00001664',\n",
       " 'JobGroup_00001665',\n",
       " 'JobGroup_00001666',\n",
       " 'JobGroup_00001667',\n",
       " 'JobGroup_00001668',\n",
       " 'JobGroup_00001669',\n",
       " 'JobGroup_00001670',\n",
       " 'JobGroup_00001671',\n",
       " 'JobGroup_00001672',\n",
       " 'JobGroup_00001673',\n",
       " 'JobGroup_00001674',\n",
       " 'JobGroup_00001675',\n",
       " 'JobGroup_00001676',\n",
       " 'JobGroup_00001677',\n",
       " 'JobGroup_00001678',\n",
       " 'JobGroup_00001679',\n",
       " 'JobGroup_00001680',\n",
       " 'JobGroup_00001681',\n",
       " 'JobGroup_00001682',\n",
       " 'JobGroup_00001683',\n",
       " 'JobGroup_00001684',\n",
       " 'JobGroup_00001685',\n",
       " 'JobGroup_00001686',\n",
       " 'JobGroup_00001687',\n",
       " 'JobGroup_00001688',\n",
       " 'JobGroup_00001689',\n",
       " 'JobGroup_00001690',\n",
       " 'JobGroup_00001691',\n",
       " 'JobGroup_00001692',\n",
       " 'JobGroup_00001693',\n",
       " 'JobGroup_00001694',\n",
       " 'JobGroup_00001695',\n",
       " 'JobGroup_00001696',\n",
       " 'JobGroup_00001699',\n",
       " 'JobGroup_00001702',\n",
       " 'JobGroup_00001705',\n",
       " 'JobGroup_00001710',\n",
       " 'JobGroup_00001711',\n",
       " 'JobGroup_00001712',\n",
       " 'JobGroup_00001714',\n",
       " 'JobGroup_00001717',\n",
       " 'JobGroup_00001720',\n",
       " 'JobGroup_00001721',\n",
       " 'JobGroup_00001722',\n",
       " 'JobGroup_00001723',\n",
       " 'JobGroup_00001724',\n",
       " 'JobGroup_00001725',\n",
       " 'JobGroup_00001726',\n",
       " 'JobGroup_00001727',\n",
       " 'JobGroup_00001728',\n",
       " 'JobGroup_00001729',\n",
       " 'JobGroup_00001732',\n",
       " 'JobGroup_00001733',\n",
       " 'JobGroup_00001734',\n",
       " 'JobGroup_00001735',\n",
       " 'JobGroup_00001736',\n",
       " 'JobGroup_00001737',\n",
       " 'JobGroup_00001738',\n",
       " 'JobGroup_00001739',\n",
       " 'JobGroup_00001740',\n",
       " 'JobGroup_00001741',\n",
       " 'JobGroup_00001744',\n",
       " 'JobGroup_00001746',\n",
       " 'JobGroup_00001747',\n",
       " 'JobGroup_00001749',\n",
       " 'JobGroup_00001750',\n",
       " 'JobGroup_00001753',\n",
       " 'JobGroup_00001754',\n",
       " 'JobGroup_00001755',\n",
       " 'JobGroup_00001756',\n",
       " 'JobGroup_00001757',\n",
       " 'JobGroup_00001758',\n",
       " 'JobGroup_00001759',\n",
       " 'JobGroup_00001760',\n",
       " 'JobGroup_00001761',\n",
       " 'JobGroup_00001762',\n",
       " 'JobGroup_00001763',\n",
       " 'JobGroup_00001764',\n",
       " 'JobGroup_00001765',\n",
       " 'JobGroup_00001766',\n",
       " 'JobGroup_00001767',\n",
       " 'JobGroup_00001768',\n",
       " 'JobGroup_00001769',\n",
       " 'JobGroup_00001770',\n",
       " 'JobGroup_00001771',\n",
       " 'JobGroup_00001772',\n",
       " 'JobGroup_00001773',\n",
       " 'JobGroup_00001774',\n",
       " 'JobGroup_00001775',\n",
       " 'JobGroup_00001776',\n",
       " 'JobGroup_00001777',\n",
       " 'JobGroup_00001778',\n",
       " 'JobGroup_00001779',\n",
       " 'JobGroup_00001780',\n",
       " 'JobGroup_00001781',\n",
       " 'JobGroup_00001782',\n",
       " 'JobGroup_00001783',\n",
       " 'JobGroup_00001784',\n",
       " 'JobGroup_00001785',\n",
       " 'JobGroup_00001786',\n",
       " 'JobGroup_00001787',\n",
       " 'JobGroup_00001788',\n",
       " 'JobGroup_00001789',\n",
       " 'JobGroup_00001790',\n",
       " 'JobGroup_00001791',\n",
       " 'JobGroup_00001792',\n",
       " 'JobGroup_00001793',\n",
       " 'JobGroup_00001794',\n",
       " 'JobGroup_00001795',\n",
       " 'JobGroup_00001796',\n",
       " 'JobGroup_00001797',\n",
       " 'JobGroup_00001798',\n",
       " 'JobGroup_00001799',\n",
       " 'JobGroup_00001800',\n",
       " 'JobGroup_00001801',\n",
       " 'JobGroup_00001802',\n",
       " 'JobGroup_00001803',\n",
       " 'JobGroup_00001804',\n",
       " 'JobGroup_00001805',\n",
       " 'JobGroup_00001806',\n",
       " 'JobGroup_00001807',\n",
       " 'JobGroup_00001808',\n",
       " 'JobGroup_00001809',\n",
       " 'JobGroup_00001810',\n",
       " 'JobGroup_00001811',\n",
       " 'JobGroup_00001812',\n",
       " 'JobGroup_00001813',\n",
       " 'JobGroup_00001814',\n",
       " 'JobGroup_00001815',\n",
       " 'JobGroup_00001816',\n",
       " 'JobGroup_00001817',\n",
       " 'JobGroup_00001818',\n",
       " 'JobGroup_00001819',\n",
       " 'JobGroup_00001820',\n",
       " 'JobGroup_00001821',\n",
       " 'JobGroup_00001822',\n",
       " 'JobGroup_00001823',\n",
       " 'JobGroup_00001824',\n",
       " 'JobGroup_00001825',\n",
       " 'JobGroup_00001826',\n",
       " 'JobGroup_00001827',\n",
       " 'JobGroup_00001828',\n",
       " 'JobGroup_00001829',\n",
       " 'JobGroup_00001830',\n",
       " 'JobGroup_00001831',\n",
       " 'JobGroup_00001832',\n",
       " 'JobGroup_00001833',\n",
       " 'JobGroup_00001834',\n",
       " 'JobGroup_00001837',\n",
       " 'JobGroup_00001840',\n",
       " 'JobGroup_00001842',\n",
       " 'JobGroup_00001845',\n",
       " 'JobGroup_00001847',\n",
       " 'JobGroup_00001849',\n",
       " 'JobGroup_00001850',\n",
       " 'JobGroup_00001856',\n",
       " 'JobGroup_00001857',\n",
       " 'JobGroup_00001858',\n",
       " 'JobGroup_00001859',\n",
       " 'JobGroup_00001860',\n",
       " 'JobGroup_00001861',\n",
       " 'JobGroup_00001863',\n",
       " 'JobGroup_00001864',\n",
       " 'JobGroup_00001865',\n",
       " 'JobGroup_00001866',\n",
       " 'JobGroup_00001868',\n",
       " 'JobGroup_00001871',\n",
       " 'JobGroup_00001872',\n",
       " 'JobGroup_00001914',\n",
       " 'JobGroup_00001916',\n",
       " 'JobGroup_00001917',\n",
       " 'JobGroup_00001919',\n",
       " 'JobGroup_00001920',\n",
       " 'JobGroup_00001921',\n",
       " 'JobGroup_00001922',\n",
       " 'JobGroup_00001923',\n",
       " 'JobGroup_00001924',\n",
       " 'JobGroup_00001925',\n",
       " 'JobGroup_00001926',\n",
       " 'JobGroup_00001927',\n",
       " 'JobGroup_00001929',\n",
       " 'JobGroup_00001931',\n",
       " 'JobGroup_00001935',\n",
       " 'JobGroup_00001936',\n",
       " 'JobGroup_00001937',\n",
       " 'JobGroup_00001939',\n",
       " 'JobGroup_00001940',\n",
       " 'JobGroup_00001941',\n",
       " 'JobGroup_00001942',\n",
       " 'JobGroup_00001943',\n",
       " 'JobGroup_00001944',\n",
       " 'JobGroup_00001945',\n",
       " 'JobGroup_00001946',\n",
       " 'JobGroup_00001947',\n",
       " 'JobGroup_00001948',\n",
       " 'JobGroup_00001949',\n",
       " 'JobGroup_00001950',\n",
       " 'JobGroup_00001951',\n",
       " 'JobGroup_00001952',\n",
       " 'JobGroup_00001953',\n",
       " 'JobGroup_00001954',\n",
       " 'JobGroup_00001955',\n",
       " 'JobGroup_00001956',\n",
       " 'JobGroup_00001957',\n",
       " 'JobGroup_00001958',\n",
       " 'Site_ARC.DESY.de',\n",
       " 'Site_ARC.SIGNET.si',\n",
       " 'Site_CLOUD.AWS_Sydney.au',\n",
       " 'Site_CLOUD.AWS_Tokyo.jp',\n",
       " 'Site_CLOUD.AWS_Virginia.us',\n",
       " 'Site_CLOUD.CC1_Krakow.pl',\n",
       " 'Site_DIRAC.BINP.ru',\n",
       " 'Site_DIRAC.Beihang.cn',\n",
       " 'Site_DIRAC.CINVESTAV.mx',\n",
       " 'Site_DIRAC.Hokudai.jp',\n",
       " 'Site_DIRAC.IITG.in',\n",
       " 'Site_DIRAC.MIPT.ru',\n",
       " 'Site_DIRAC.Nagoya.jp',\n",
       " 'Site_DIRAC.Nara-WU.jp',\n",
       " 'Site_DIRAC.Niigata.jp',\n",
       " 'Site_DIRAC.Osaka-CU.jp',\n",
       " 'Site_DIRAC.PNNL.us',\n",
       " 'Site_DIRAC.RCNP.jp',\n",
       " 'Site_DIRAC.TIFR.in',\n",
       " 'Site_DIRAC.TMU.jp',\n",
       " 'Site_DIRAC.Test.jp',\n",
       " 'Site_DIRAC.Tokyo.jp',\n",
       " 'Site_DIRAC.UAS.mx',\n",
       " 'Site_DIRAC.UVic.ca',\n",
       " 'Site_DIRAC.Yamagata.jp',\n",
       " 'Site_DIRAC.Yonsei.kr',\n",
       " 'Site_Group.KEK2.jp',\n",
       " 'Site_LCG.CESNET.cz',\n",
       " 'Site_LCG.CNAF.it',\n",
       " 'Site_LCG.CYFRONET.pl',\n",
       " 'Site_LCG.Cosenza.it',\n",
       " 'Site_LCG.DESY.de',\n",
       " 'Site_LCG.Frascati.it',\n",
       " 'Site_LCG.HEPHY.at',\n",
       " 'Site_LCG.KEK.jp',\n",
       " 'Site_LCG.KEK2.jp',\n",
       " 'Site_LCG.KISTI.kr',\n",
       " 'Site_LCG.KIT.de',\n",
       " 'Site_LCG.KMI.jp',\n",
       " 'Site_LCG.Legnaro.it',\n",
       " 'Site_LCG.MPPMU.de',\n",
       " 'Site_LCG.McGill.ca',\n",
       " 'Site_LCG.Melbourne.au',\n",
       " 'Site_LCG.NCHC.tw',\n",
       " 'Site_LCG.NTU.tw',\n",
       " 'Site_LCG.Napoli.it',\n",
       " 'Site_LCG.Pisa.it',\n",
       " 'Site_LCG.Torino.it',\n",
       " 'Site_LCG.ULAKBIM.tr',\n",
       " 'Site_Multiple',\n",
       " 'Site_SSH.KMI.jp',\n",
       " 'Status_Failed',\n",
       " 'UserPriority_2',\n",
       " 'UserPriority_3',\n",
       " 'UserPriority_5',\n",
       " 'UserPriority_9',\n",
       " 'UserPriority_10']"
      ]
     },
     "execution_count": 72,
     "metadata": {},
     "output_type": "execute_result"
    }
   ],
   "source": [
    "dj_encoded.columns.tolist()"
   ]
  },
  {
   "cell_type": "code",
   "execution_count": 73,
   "metadata": {},
   "outputs": [
    {
     "data": {
      "text/plain": [
       "322"
      ]
     },
     "execution_count": 73,
     "metadata": {},
     "output_type": "execute_result"
    }
   ],
   "source": [
    "len(dj_encoded.columns.tolist())"
   ]
  },
  {
   "cell_type": "code",
   "execution_count": 74,
   "metadata": {},
   "outputs": [
    {
     "data": {
      "text/plain": [
       "500000"
      ]
     },
     "execution_count": 74,
     "metadata": {},
     "output_type": "execute_result"
    }
   ],
   "source": [
    "# Before dropping first column in get_dummies, this returned 4150\n",
    "len(dj_encoded[dj_encoded['Status_Failed']==True])"
   ]
  },
  {
   "cell_type": "code",
   "execution_count": 75,
   "metadata": {},
   "outputs": [
    {
     "data": {
      "text/plain": [
       "375000"
      ]
     },
     "execution_count": 75,
     "metadata": {},
     "output_type": "execute_result"
    }
   ],
   "source": [
    "# After dropping first column in get_dummies, this returned 4150\n",
    "len(dj_encoded[dj_encoded['Status_Failed']==False])"
   ]
  },
  {
   "cell_type": "code",
   "execution_count": 76,
   "metadata": {},
   "outputs": [
    {
     "data": {
      "text/plain": [
       "(875000, 322)"
      ]
     },
     "execution_count": 76,
     "metadata": {},
     "output_type": "execute_result"
    }
   ],
   "source": [
    "dj_encoded.shape"
   ]
  },
  {
   "cell_type": "code",
   "execution_count": 77,
   "metadata": {
    "collapsed": true
   },
   "outputs": [],
   "source": [
    "######################################\n",
    "dj_encoded.to_pickle('large_allJobs_featurized_875Kby322.pickle')\n",
    "######################################"
   ]
  },
  {
   "cell_type": "code",
   "execution_count": 78,
   "metadata": {
    "collapsed": true
   },
   "outputs": [],
   "source": [
    "# Use this finally\n",
    "\n",
    "allJobs_encoded = dj_encoded"
   ]
  },
  {
   "cell_type": "code",
   "execution_count": 79,
   "metadata": {
    "collapsed": true
   },
   "outputs": [],
   "source": [
    "del dataJobs"
   ]
  },
  {
   "cell_type": "code",
   "execution_count": 80,
   "metadata": {
    "collapsed": true
   },
   "outputs": [],
   "source": [
    "del allHBLI"
   ]
  },
  {
   "cell_type": "code",
   "execution_count": null,
   "metadata": {
    "collapsed": true
   },
   "outputs": [],
   "source": [
    "#### End of all jobs table processing"
   ]
  },
  {
   "cell_type": "markdown",
   "metadata": {},
   "source": [
    "# Join jobs tables"
   ]
  },
  {
   "cell_type": "code",
   "execution_count": null,
   "metadata": {
    "collapsed": true
   },
   "outputs": [],
   "source": [
    "# Test Train split each one into 50%\n",
    "# Concat Test dfs and Train dfs,\n",
    "# Now you have 50% from each class in train and test."
   ]
  },
  {
   "cell_type": "markdown",
   "metadata": {},
   "source": [
    "### >> Join 'allJobs_encoded' and 'allHBLI_wide\""
   ]
  },
  {
   "cell_type": "code",
   "execution_count": 81,
   "metadata": {},
   "outputs": [
    {
     "data": {
      "text/plain": [
       "(4742707, 9)"
      ]
     },
     "execution_count": 81,
     "metadata": {},
     "output_type": "execute_result"
    }
   ],
   "source": [
    "allHBLI_wide.shape"
   ]
  },
  {
   "cell_type": "code",
   "execution_count": 82,
   "metadata": {},
   "outputs": [
    {
     "data": {
      "text/plain": [
       "(875000, 322)"
      ]
     },
     "execution_count": 82,
     "metadata": {},
     "output_type": "execute_result"
    }
   ],
   "source": [
    "allJobs_encoded.shape"
   ]
  },
  {
   "cell_type": "code",
   "execution_count": 83,
   "metadata": {},
   "outputs": [
    {
     "name": "stdout",
     "output_type": "stream",
     "text": [
      "(4742707, 330)\n",
      "CPU times: user 4.11 s, sys: 1.19 s, total: 5.3 s\n",
      "Wall time: 5.32 s\n"
     ]
    }
   ],
   "source": [
    "%%time\n",
    "raw_samples = pd.merge(allHBLI_wide, allJobs_encoded, on =['JobID'])\n",
    "print(raw_samples.shape)"
   ]
  },
  {
   "cell_type": "code",
   "execution_count": 84,
   "metadata": {},
   "outputs": [
    {
     "data": {
      "text/plain": [
       "(4742707, 330)"
      ]
     },
     "execution_count": 84,
     "metadata": {},
     "output_type": "execute_result"
    }
   ],
   "source": [
    "raw_samples.shape"
   ]
  },
  {
   "cell_type": "code",
   "execution_count": 85,
   "metadata": {
    "collapsed": true
   },
   "outputs": [],
   "source": [
    "import matplotlib.pyplot as plt\n",
    "%matplotlib inline\n",
    "\n",
    "sample_counts = pd.value_counts(raw_samples['JobID'].values, sort=False)"
   ]
  },
  {
   "cell_type": "code",
   "execution_count": 86,
   "metadata": {},
   "outputs": [
    {
     "data": {
      "image/png": "[encoded data removed]",
      "text/plain": [
       "<matplotlib.figure.Figure at 0x7f639f48b240>"
      ]
     },
     "metadata": {},
     "output_type": "display_data"
    }
   ],
   "source": [
    "plt.hist(sample_counts.values, bins = 100)\n",
    "plt.show()"
   ]
  },
  {
   "cell_type": "markdown",
   "metadata": {},
   "source": [
    "# Sample Generation"
   ]
  },
  {
   "cell_type": "markdown",
   "metadata": {},
   "source": [
    "# Convert Pandas dataframe to LSTM 3D tensor"
   ]
  },
  {
   "cell_type": "markdown",
   "metadata": {},
   "source": [
    "# Set Threshold"
   ]
  },
  {
   "cell_type": "code",
   "execution_count": 87,
   "metadata": {
    "collapsed": true
   },
   "outputs": [],
   "source": [
    "thresholdd = 1"
   ]
  },
  {
   "cell_type": "code",
   "execution_count": 88,
   "metadata": {},
   "outputs": [
    {
     "data": {
      "text/plain": [
       "684923"
      ]
     },
     "execution_count": 88,
     "metadata": {},
     "output_type": "execute_result"
    }
   ],
   "source": [
    "sum(sample_counts.values>=thresholdd)"
   ]
  },
  {
   "cell_type": "code",
   "execution_count": 89,
   "metadata": {},
   "outputs": [
    {
     "data": {
      "text/plain": [
       "0"
      ]
     },
     "execution_count": 89,
     "metadata": {},
     "output_type": "execute_result"
    }
   ],
   "source": [
    "### Decision: Number of timesteps per sample = 3\n",
    "# Shape of 3D matrix should be (#samples)x(3)x(132)\n",
    "\n",
    "sum(sample_counts.values<thresholdd)"
   ]
  },
  {
   "cell_type": "code",
   "execution_count": 90,
   "metadata": {},
   "outputs": [
    {
     "name": "stdout",
     "output_type": "stream",
     "text": [
      "32361608     9\n",
      "32490882     8\n",
      "32458672    10\n",
      "Name: JobID, dtype: int64\n"
     ]
    }
   ],
   "source": [
    "# Delete rows of JobIDs with  fewer than 3 timestamps\n",
    "\n",
    "dff = raw_samples['JobID'].value_counts()\n",
    "print(dff.sample(3))"
   ]
  },
  {
   "cell_type": "code",
   "execution_count": null,
   "metadata": {
    "collapsed": true
   },
   "outputs": [],
   "source": [
    "dff = dff[dff<thresholdd]\n",
    "\n",
    "\n",
    "dff = dff.reset_index()\n",
    "dff = dff.rename(index=str, columns={\"JobID\": \"count\", \"index\": \"JobID\"})\n",
    "\n",
    "print(dff.sample(5))\n",
    "print(dff.head())\n",
    "\n",
    "remove_list = dff['JobID'].tolist()\n",
    "remove_list[:5]"
   ]
  },
  {
   "cell_type": "code",
   "execution_count": 92,
   "metadata": {
    "collapsed": true
   },
   "outputs": [],
   "source": [
    "remove_list=[]"
   ]
  },
  {
   "cell_type": "code",
   "execution_count": 93,
   "metadata": {},
   "outputs": [
    {
     "data": {
      "text/plain": [
       "((4742707, 330), (4742707, 330))"
      ]
     },
     "execution_count": 93,
     "metadata": {},
     "output_type": "execute_result"
    }
   ],
   "source": [
    "cleaned = raw_samples[~raw_samples['JobID'].isin(remove_list)]\n",
    "cleaned.shape, raw_samples.shape"
   ]
  },
  {
   "cell_type": "code",
   "execution_count": 94,
   "metadata": {
    "collapsed": true
   },
   "outputs": [],
   "source": [
    "# Number of unique JobIDs in cleaned\n",
    "totalleftjobslist = cleaned.JobID.unique().tolist()\n",
    "\n",
    "totalleftjobs = len(cleaned.JobID.unique().tolist())"
   ]
  },
  {
   "cell_type": "code",
   "execution_count": 96,
   "metadata": {},
   "outputs": [
    {
     "data": {
      "text/plain": [
       "(342461, 684923)"
      ]
     },
     "execution_count": 96,
     "metadata": {},
     "output_type": "execute_result"
    }
   ],
   "source": [
    "import random\n",
    "\n",
    "indices = random.sample(range(len(totalleftjobslist)), int(totalleftjobs * .50))\n",
    "takeoutlist = [totalleftjobslist[i] for i in sorted(indices)]\n",
    "\n",
    "len(takeoutlist), totalleftjobs "
   ]
  },
  {
   "cell_type": "code",
   "execution_count": 97,
   "metadata": {},
   "outputs": [
    {
     "name": "stdout",
     "output_type": "stream",
     "text": [
      "0\n",
      "342461\n"
     ]
    }
   ],
   "source": [
    "print(len(remove_list))\n",
    "remove_list = remove_list + takeoutlist\n",
    "print(len(remove_list))"
   ]
  },
  {
   "cell_type": "markdown",
   "metadata": {},
   "source": [
    "# Train on cleaned, Test on takeoutdf"
   ]
  },
  {
   "cell_type": "code",
   "execution_count": 98,
   "metadata": {},
   "outputs": [
    {
     "data": {
      "text/plain": [
       "((2374144, 330), (4742707, 330))"
      ]
     },
     "execution_count": 98,
     "metadata": {},
     "output_type": "execute_result"
    }
   ],
   "source": [
    "cleaned = raw_samples[~raw_samples['JobID'].isin(remove_list)]\n",
    "cleaned.shape, raw_samples.shape"
   ]
  },
  {
   "cell_type": "code",
   "execution_count": 99,
   "metadata": {},
   "outputs": [
    {
     "data": {
      "text/plain": [
       "((2368563, 330), (4742707, 330))"
      ]
     },
     "execution_count": 99,
     "metadata": {},
     "output_type": "execute_result"
    }
   ],
   "source": [
    "takeoutdf = raw_samples[raw_samples['JobID'].isin(takeoutlist)]\n",
    "takeoutdf.shape, raw_samples.shape"
   ]
  },
  {
   "cell_type": "code",
   "execution_count": null,
   "metadata": {
    "collapsed": true
   },
   "outputs": [],
   "source": [
    "######################"
   ]
  },
  {
   "cell_type": "code",
   "execution_count": 100,
   "metadata": {},
   "outputs": [
    {
     "data": {
      "text/plain": [
       "(0, 342462)"
      ]
     },
     "execution_count": 100,
     "metadata": {},
     "output_type": "execute_result"
    }
   ],
   "source": [
    "# Count values in cleaned\n",
    "\n",
    "cleaned_counts = pd.value_counts(cleaned['JobID'].values, sort=False)\n",
    "sum(cleaned_counts.values<thresholdd), sum(cleaned_counts.values>=thresholdd)"
   ]
  },
  {
   "cell_type": "code",
   "execution_count": 101,
   "metadata": {},
   "outputs": [
    {
     "data": {
      "text/plain": [
       "684923"
      ]
     },
     "execution_count": 101,
     "metadata": {},
     "output_type": "execute_result"
    }
   ],
   "source": [
    "len((sample_counts.values))"
   ]
  },
  {
   "cell_type": "code",
   "execution_count": 102,
   "metadata": {},
   "outputs": [
    {
     "name": "stdout",
     "output_type": "stream",
     "text": [
      "330\n"
     ]
    },
    {
     "data": {
      "text/plain": [
       "0    1641270\n",
       "1     732874\n",
       "Name: Status_Failed, dtype: int64"
      ]
     },
     "execution_count": 102,
     "metadata": {},
     "output_type": "execute_result"
    }
   ],
   "source": [
    "train_feat = cleaned.columns.tolist()\n",
    "print(len(train_feat)) #125\n",
    "cleaned.Status_Failed.value_counts()"
   ]
  },
  {
   "cell_type": "code",
   "execution_count": 103,
   "metadata": {
    "collapsed": true
   },
   "outputs": [],
   "source": [
    "# Build Training Features"
   ]
  },
  {
   "cell_type": "code",
   "execution_count": 104,
   "metadata": {},
   "outputs": [
    {
     "data": {
      "text/plain": [
       "(2374144, 330)"
      ]
     },
     "execution_count": 104,
     "metadata": {},
     "output_type": "execute_result"
    }
   ],
   "source": [
    "cleaned.shape"
   ]
  },
  {
   "cell_type": "code",
   "execution_count": 105,
   "metadata": {
    "collapsed": true
   },
   "outputs": [],
   "source": [
    "# Takes a df and converts it to 3D tensor\n",
    "# Each sample will have k time steps\n",
    "\n",
    "def samples_features(df_input):\n",
    "    \n",
    "    k = thresholdd\n",
    "    input_cols = train_feat\n",
    "    \n",
    "    # takes a df\n",
    "    # Put your inputs into a single list\n",
    "    \n",
    "    df = pd.DataFrame()\n",
    "    \n",
    "    df['single_input_vector'] = df_input[input_cols].apply(tuple, axis=1).apply(list)\n",
    "    \n",
    "    # Double-encapsulate list so that you can sum it in the next step and keep time steps as separate elements\n",
    "    df['single_input_vector'] = df.single_input_vector.apply(lambda x: [list(x)])\n",
    "        \n",
    "    # The starting point\n",
    "    df['cumulative_input_vectors'] = df['single_input_vector'].shift(0)\n",
    "    \n",
    "    for i in range(1,k):\n",
    "        df['cumulative_input_vectors'] += df['single_input_vector'].shift(i)\n",
    "          \n",
    "    df.dropna(inplace=True)     # does operation in place & returns None\n",
    "\n",
    "    # Extract your training data\n",
    "    X_ = np.asarray(df.cumulative_input_vectors)\n",
    "    \n",
    "    # Use hstack to and reshape to make the inputs a 3d vector\n",
    "    X = np.vstack(X_).reshape(len(df), k, len(input_cols))\n",
    "    \n",
    "    # Clean up\n",
    "    del df\n",
    "    \n",
    "    return X\n",
    "    # returns 3D array"
   ]
  },
  {
   "cell_type": "code",
   "execution_count": 106,
   "metadata": {
    "collapsed": true
   },
   "outputs": [],
   "source": [
    "# Label Column ('Status_Failed' is the label column)\n",
    "label_col = ['Status_Failed']"
   ]
  },
  {
   "cell_type": "code",
   "execution_count": 107,
   "metadata": {
    "scrolled": true
   },
   "outputs": [
    {
     "data": {
      "text/plain": [
       "1"
      ]
     },
     "execution_count": 107,
     "metadata": {},
     "output_type": "execute_result"
    }
   ],
   "source": [
    "thresholdd #Check it matched the title"
   ]
  },
  {
   "cell_type": "markdown",
   "metadata": {},
   "source": [
    "# Build X (each job separately)"
   ]
  },
  {
   "cell_type": "code",
   "execution_count": 108,
   "metadata": {},
   "outputs": [
    {
     "data": {
      "text/plain": [
       "(2374144, 330)"
      ]
     },
     "execution_count": 108,
     "metadata": {},
     "output_type": "execute_result"
    }
   ],
   "source": [
    "cleaned.shape"
   ]
  },
  {
   "cell_type": "code",
   "execution_count": 109,
   "metadata": {
    "collapsed": true
   },
   "outputs": [],
   "source": [
    "cleaned.to_pickle('large_cleaned_for_train_samples_2374144by330.pickle')"
   ]
  },
  {
   "cell_type": "code",
   "execution_count": 110,
   "metadata": {
    "collapsed": true
   },
   "outputs": [],
   "source": [
    "##################################################"
   ]
  },
  {
   "cell_type": "code",
   "execution_count": 12,
   "metadata": {
    "collapsed": true
   },
   "outputs": [],
   "source": [
    "cleaned = pd.read_pickle('cleaned_for_train_samples.pickle')"
   ]
  },
  {
   "cell_type": "code",
   "execution_count": 111,
   "metadata": {},
   "outputs": [
    {
     "data": {
      "text/plain": [
       "440"
      ]
     },
     "execution_count": 111,
     "metadata": {},
     "output_type": "execute_result"
    }
   ],
   "source": [
    "cleaned.isnull().values.ravel().sum()"
   ]
  },
  {
   "cell_type": "code",
   "execution_count": 112,
   "metadata": {
    "collapsed": true
   },
   "outputs": [],
   "source": [
    "cleaned = cleaned.dropna()"
   ]
  },
  {
   "cell_type": "code",
   "execution_count": 113,
   "metadata": {
    "scrolled": true
   },
   "outputs": [
    {
     "data": {
      "text/plain": [
       "0"
      ]
     },
     "execution_count": 113,
     "metadata": {},
     "output_type": "execute_result"
    }
   ],
   "source": [
    "cleaned.isnull().values.ravel().sum()"
   ]
  },
  {
   "cell_type": "code",
   "execution_count": 114,
   "metadata": {},
   "outputs": [
    {
     "data": {
      "text/plain": [
       "['JobID',\n",
       " 'HeartBeatTime',\n",
       " 'AvailableDiskSpace',\n",
       " 'CPUConsumed',\n",
       " 'LoadAverage',\n",
       " 'MemoryUsed',\n",
       " 'RSS',\n",
       " 'Vsize',\n",
       " 'WallClockTime',\n",
       " 'RescheduleCounter',\n",
       " 'start_submit',\n",
       " 'hbeat_start',\n",
       " 'JobType_MCProductionBGx0',\n",
       " 'JobType_Merge',\n",
       " 'JobGroup_00000758',\n",
       " 'JobGroup_00000808',\n",
       " 'JobGroup_00000809',\n",
       " 'JobGroup_00000974',\n",
       " 'JobGroup_00000975',\n",
       " 'JobGroup_00001303',\n",
       " 'JobGroup_00001306',\n",
       " 'JobGroup_00001368',\n",
       " 'JobGroup_00001369',\n",
       " 'JobGroup_00001370',\n",
       " 'JobGroup_00001371',\n",
       " 'JobGroup_00001372',\n",
       " 'JobGroup_00001373',\n",
       " 'JobGroup_00001374',\n",
       " 'JobGroup_00001375',\n",
       " 'JobGroup_00001376',\n",
       " 'JobGroup_00001377',\n",
       " 'JobGroup_00001378',\n",
       " 'JobGroup_00001379',\n",
       " 'JobGroup_00001380',\n",
       " 'JobGroup_00001381',\n",
       " 'JobGroup_00001386',\n",
       " 'JobGroup_00001398',\n",
       " 'JobGroup_00001404',\n",
       " 'JobGroup_00001622',\n",
       " 'JobGroup_00001635',\n",
       " 'JobGroup_00001636',\n",
       " 'JobGroup_00001637',\n",
       " 'JobGroup_00001638',\n",
       " 'JobGroup_00001639',\n",
       " 'JobGroup_00001640',\n",
       " 'JobGroup_00001641',\n",
       " 'JobGroup_00001642',\n",
       " 'JobGroup_00001643',\n",
       " 'JobGroup_00001644',\n",
       " 'JobGroup_00001645',\n",
       " 'JobGroup_00001646',\n",
       " 'JobGroup_00001647',\n",
       " 'JobGroup_00001648',\n",
       " 'JobGroup_00001649',\n",
       " 'JobGroup_00001650',\n",
       " 'JobGroup_00001651',\n",
       " 'JobGroup_00001652',\n",
       " 'JobGroup_00001653',\n",
       " 'JobGroup_00001654',\n",
       " 'JobGroup_00001655',\n",
       " 'JobGroup_00001656',\n",
       " 'JobGroup_00001657',\n",
       " 'JobGroup_00001658',\n",
       " 'JobGroup_00001659',\n",
       " 'JobGroup_00001660',\n",
       " 'JobGroup_00001661',\n",
       " 'JobGroup_00001662',\n",
       " 'JobGroup_00001663',\n",
       " 'JobGroup_00001664',\n",
       " 'JobGroup_00001665',\n",
       " 'JobGroup_00001666',\n",
       " 'JobGroup_00001667',\n",
       " 'JobGroup_00001668',\n",
       " 'JobGroup_00001669',\n",
       " 'JobGroup_00001670',\n",
       " 'JobGroup_00001671',\n",
       " 'JobGroup_00001672',\n",
       " 'JobGroup_00001673',\n",
       " 'JobGroup_00001674',\n",
       " 'JobGroup_00001675',\n",
       " 'JobGroup_00001676',\n",
       " 'JobGroup_00001677',\n",
       " 'JobGroup_00001678',\n",
       " 'JobGroup_00001679',\n",
       " 'JobGroup_00001680',\n",
       " 'JobGroup_00001681',\n",
       " 'JobGroup_00001682',\n",
       " 'JobGroup_00001683',\n",
       " 'JobGroup_00001684',\n",
       " 'JobGroup_00001685',\n",
       " 'JobGroup_00001686',\n",
       " 'JobGroup_00001687',\n",
       " 'JobGroup_00001688',\n",
       " 'JobGroup_00001689',\n",
       " 'JobGroup_00001690',\n",
       " 'JobGroup_00001691',\n",
       " 'JobGroup_00001692',\n",
       " 'JobGroup_00001693',\n",
       " 'JobGroup_00001694',\n",
       " 'JobGroup_00001695',\n",
       " 'JobGroup_00001696',\n",
       " 'JobGroup_00001699',\n",
       " 'JobGroup_00001702',\n",
       " 'JobGroup_00001705',\n",
       " 'JobGroup_00001710',\n",
       " 'JobGroup_00001711',\n",
       " 'JobGroup_00001712',\n",
       " 'JobGroup_00001714',\n",
       " 'JobGroup_00001717',\n",
       " 'JobGroup_00001720',\n",
       " 'JobGroup_00001721',\n",
       " 'JobGroup_00001722',\n",
       " 'JobGroup_00001723',\n",
       " 'JobGroup_00001724',\n",
       " 'JobGroup_00001725',\n",
       " 'JobGroup_00001726',\n",
       " 'JobGroup_00001727',\n",
       " 'JobGroup_00001728',\n",
       " 'JobGroup_00001729',\n",
       " 'JobGroup_00001732',\n",
       " 'JobGroup_00001733',\n",
       " 'JobGroup_00001734',\n",
       " 'JobGroup_00001735',\n",
       " 'JobGroup_00001736',\n",
       " 'JobGroup_00001737',\n",
       " 'JobGroup_00001738',\n",
       " 'JobGroup_00001739',\n",
       " 'JobGroup_00001740',\n",
       " 'JobGroup_00001741',\n",
       " 'JobGroup_00001744',\n",
       " 'JobGroup_00001746',\n",
       " 'JobGroup_00001747',\n",
       " 'JobGroup_00001749',\n",
       " 'JobGroup_00001750',\n",
       " 'JobGroup_00001753',\n",
       " 'JobGroup_00001754',\n",
       " 'JobGroup_00001755',\n",
       " 'JobGroup_00001756',\n",
       " 'JobGroup_00001757',\n",
       " 'JobGroup_00001758',\n",
       " 'JobGroup_00001759',\n",
       " 'JobGroup_00001760',\n",
       " 'JobGroup_00001761',\n",
       " 'JobGroup_00001762',\n",
       " 'JobGroup_00001763',\n",
       " 'JobGroup_00001764',\n",
       " 'JobGroup_00001765',\n",
       " 'JobGroup_00001766',\n",
       " 'JobGroup_00001767',\n",
       " 'JobGroup_00001768',\n",
       " 'JobGroup_00001769',\n",
       " 'JobGroup_00001770',\n",
       " 'JobGroup_00001771',\n",
       " 'JobGroup_00001772',\n",
       " 'JobGroup_00001773',\n",
       " 'JobGroup_00001774',\n",
       " 'JobGroup_00001775',\n",
       " 'JobGroup_00001776',\n",
       " 'JobGroup_00001777',\n",
       " 'JobGroup_00001778',\n",
       " 'JobGroup_00001779',\n",
       " 'JobGroup_00001780',\n",
       " 'JobGroup_00001781',\n",
       " 'JobGroup_00001782',\n",
       " 'JobGroup_00001783',\n",
       " 'JobGroup_00001784',\n",
       " 'JobGroup_00001785',\n",
       " 'JobGroup_00001786',\n",
       " 'JobGroup_00001787',\n",
       " 'JobGroup_00001788',\n",
       " 'JobGroup_00001789',\n",
       " 'JobGroup_00001790',\n",
       " 'JobGroup_00001791',\n",
       " 'JobGroup_00001792',\n",
       " 'JobGroup_00001793',\n",
       " 'JobGroup_00001794',\n",
       " 'JobGroup_00001795',\n",
       " 'JobGroup_00001796',\n",
       " 'JobGroup_00001797',\n",
       " 'JobGroup_00001798',\n",
       " 'JobGroup_00001799',\n",
       " 'JobGroup_00001800',\n",
       " 'JobGroup_00001801',\n",
       " 'JobGroup_00001802',\n",
       " 'JobGroup_00001803',\n",
       " 'JobGroup_00001804',\n",
       " 'JobGroup_00001805',\n",
       " 'JobGroup_00001806',\n",
       " 'JobGroup_00001807',\n",
       " 'JobGroup_00001808',\n",
       " 'JobGroup_00001809',\n",
       " 'JobGroup_00001810',\n",
       " 'JobGroup_00001811',\n",
       " 'JobGroup_00001812',\n",
       " 'JobGroup_00001813',\n",
       " 'JobGroup_00001814',\n",
       " 'JobGroup_00001815',\n",
       " 'JobGroup_00001816',\n",
       " 'JobGroup_00001817',\n",
       " 'JobGroup_00001818',\n",
       " 'JobGroup_00001819',\n",
       " 'JobGroup_00001820',\n",
       " 'JobGroup_00001821',\n",
       " 'JobGroup_00001822',\n",
       " 'JobGroup_00001823',\n",
       " 'JobGroup_00001824',\n",
       " 'JobGroup_00001825',\n",
       " 'JobGroup_00001826',\n",
       " 'JobGroup_00001827',\n",
       " 'JobGroup_00001828',\n",
       " 'JobGroup_00001829',\n",
       " 'JobGroup_00001830',\n",
       " 'JobGroup_00001831',\n",
       " 'JobGroup_00001832',\n",
       " 'JobGroup_00001833',\n",
       " 'JobGroup_00001834',\n",
       " 'JobGroup_00001837',\n",
       " 'JobGroup_00001840',\n",
       " 'JobGroup_00001842',\n",
       " 'JobGroup_00001845',\n",
       " 'JobGroup_00001847',\n",
       " 'JobGroup_00001849',\n",
       " 'JobGroup_00001850',\n",
       " 'JobGroup_00001856',\n",
       " 'JobGroup_00001857',\n",
       " 'JobGroup_00001858',\n",
       " 'JobGroup_00001859',\n",
       " 'JobGroup_00001860',\n",
       " 'JobGroup_00001861',\n",
       " 'JobGroup_00001863',\n",
       " 'JobGroup_00001864',\n",
       " 'JobGroup_00001865',\n",
       " 'JobGroup_00001866',\n",
       " 'JobGroup_00001868',\n",
       " 'JobGroup_00001871',\n",
       " 'JobGroup_00001872',\n",
       " 'JobGroup_00001914',\n",
       " 'JobGroup_00001916',\n",
       " 'JobGroup_00001917',\n",
       " 'JobGroup_00001919',\n",
       " 'JobGroup_00001920',\n",
       " 'JobGroup_00001921',\n",
       " 'JobGroup_00001922',\n",
       " 'JobGroup_00001923',\n",
       " 'JobGroup_00001924',\n",
       " 'JobGroup_00001925',\n",
       " 'JobGroup_00001926',\n",
       " 'JobGroup_00001927',\n",
       " 'JobGroup_00001929',\n",
       " 'JobGroup_00001931',\n",
       " 'JobGroup_00001935',\n",
       " 'JobGroup_00001936',\n",
       " 'JobGroup_00001937',\n",
       " 'JobGroup_00001939',\n",
       " 'JobGroup_00001940',\n",
       " 'JobGroup_00001941',\n",
       " 'JobGroup_00001942',\n",
       " 'JobGroup_00001943',\n",
       " 'JobGroup_00001944',\n",
       " 'JobGroup_00001945',\n",
       " 'JobGroup_00001946',\n",
       " 'JobGroup_00001947',\n",
       " 'JobGroup_00001948',\n",
       " 'JobGroup_00001949',\n",
       " 'JobGroup_00001950',\n",
       " 'JobGroup_00001951',\n",
       " 'JobGroup_00001952',\n",
       " 'JobGroup_00001953',\n",
       " 'JobGroup_00001954',\n",
       " 'JobGroup_00001955',\n",
       " 'JobGroup_00001956',\n",
       " 'JobGroup_00001957',\n",
       " 'JobGroup_00001958',\n",
       " 'Site_ARC.DESY.de',\n",
       " 'Site_ARC.SIGNET.si',\n",
       " 'Site_CLOUD.AWS_Sydney.au',\n",
       " 'Site_CLOUD.AWS_Tokyo.jp',\n",
       " 'Site_CLOUD.AWS_Virginia.us',\n",
       " 'Site_CLOUD.CC1_Krakow.pl',\n",
       " 'Site_DIRAC.BINP.ru',\n",
       " 'Site_DIRAC.Beihang.cn',\n",
       " 'Site_DIRAC.CINVESTAV.mx',\n",
       " 'Site_DIRAC.Hokudai.jp',\n",
       " 'Site_DIRAC.IITG.in',\n",
       " 'Site_DIRAC.MIPT.ru',\n",
       " 'Site_DIRAC.Nagoya.jp',\n",
       " 'Site_DIRAC.Nara-WU.jp',\n",
       " 'Site_DIRAC.Niigata.jp',\n",
       " 'Site_DIRAC.Osaka-CU.jp',\n",
       " 'Site_DIRAC.PNNL.us',\n",
       " 'Site_DIRAC.RCNP.jp',\n",
       " 'Site_DIRAC.TIFR.in',\n",
       " 'Site_DIRAC.TMU.jp',\n",
       " 'Site_DIRAC.Test.jp',\n",
       " 'Site_DIRAC.Tokyo.jp',\n",
       " 'Site_DIRAC.UAS.mx',\n",
       " 'Site_DIRAC.UVic.ca',\n",
       " 'Site_DIRAC.Yamagata.jp',\n",
       " 'Site_DIRAC.Yonsei.kr',\n",
       " 'Site_Group.KEK2.jp',\n",
       " 'Site_LCG.CESNET.cz',\n",
       " 'Site_LCG.CNAF.it',\n",
       " 'Site_LCG.CYFRONET.pl',\n",
       " 'Site_LCG.Cosenza.it',\n",
       " 'Site_LCG.DESY.de',\n",
       " 'Site_LCG.Frascati.it',\n",
       " 'Site_LCG.HEPHY.at',\n",
       " 'Site_LCG.KEK.jp',\n",
       " 'Site_LCG.KEK2.jp',\n",
       " 'Site_LCG.KISTI.kr',\n",
       " 'Site_LCG.KIT.de',\n",
       " 'Site_LCG.KMI.jp',\n",
       " 'Site_LCG.Legnaro.it',\n",
       " 'Site_LCG.MPPMU.de',\n",
       " 'Site_LCG.McGill.ca',\n",
       " 'Site_LCG.Melbourne.au',\n",
       " 'Site_LCG.NCHC.tw',\n",
       " 'Site_LCG.NTU.tw',\n",
       " 'Site_LCG.Napoli.it',\n",
       " 'Site_LCG.Pisa.it',\n",
       " 'Site_LCG.Torino.it',\n",
       " 'Site_LCG.ULAKBIM.tr',\n",
       " 'Site_Multiple',\n",
       " 'Site_SSH.KMI.jp',\n",
       " 'Status_Failed',\n",
       " 'UserPriority_2',\n",
       " 'UserPriority_3',\n",
       " 'UserPriority_5',\n",
       " 'UserPriority_9',\n",
       " 'UserPriority_10']"
      ]
     },
     "execution_count": 114,
     "metadata": {},
     "output_type": "execute_result"
    }
   ],
   "source": [
    "cleaned.columns.tolist()"
   ]
  },
  {
   "cell_type": "code",
   "execution_count": 115,
   "metadata": {
    "collapsed": true
   },
   "outputs": [],
   "source": [
    "##################################################"
   ]
  },
  {
   "cell_type": "code",
   "execution_count": 116,
   "metadata": {
    "collapsed": true
   },
   "outputs": [],
   "source": [
    "cols = cleaned.columns.tolist()"
   ]
  },
  {
   "cell_type": "code",
   "execution_count": 117,
   "metadata": {},
   "outputs": [
    {
     "name": "stdout",
     "output_type": "stream",
     "text": [
      "330\n"
     ]
    },
    {
     "data": {
      "text/plain": [
       "65"
      ]
     },
     "execution_count": 117,
     "metadata": {},
     "output_type": "execute_result"
    }
   ],
   "source": [
    "train_feat = cleaned.columns.tolist()\n",
    "print(len(train_feat)) #125\n",
    "\n",
    "train_feat.remove('HeartBeatTime')\n",
    "train_feat.remove('JobID')\n",
    "train_feat.remove('Status_Failed')\n",
    "\n",
    "\n",
    "### Extra removal after noticing high accuracy\n",
    "train_feat.remove('hbeat_start')\n",
    "train_feat.remove('start_submit')\n",
    "train_feat.remove('WallClockTime')\n",
    "\n",
    "for c in cols:\n",
    "    if 'JobGroup' in c:\n",
    "        train_feat.remove(c)\n",
    "##############################################\n",
    "\n",
    "len(train_feat) #122"
   ]
  },
  {
   "cell_type": "code",
   "execution_count": 118,
   "metadata": {},
   "outputs": [
    {
     "name": "stdout",
     "output_type": "stream",
     "text": [
      "CPU times: user 0 ns, sys: 3.82 ms, total: 3.82 ms\n",
      "Wall time: 859 µs\n"
     ]
    }
   ],
   "source": [
    "%%time\n",
    "cleanedgrouped = cleaned.groupby('JobID')"
   ]
  },
  {
   "cell_type": "code",
   "execution_count": 119,
   "metadata": {},
   "outputs": [
    {
     "name": "stdout",
     "output_type": "stream",
     "text": [
      "1\n"
     ]
    },
    {
     "data": {
      "text/plain": [
       "(None, (2373924, 330))"
      ]
     },
     "execution_count": 119,
     "metadata": {},
     "output_type": "execute_result"
    }
   ],
   "source": [
    "print(thresholdd), cleaned.shape"
   ]
  },
  {
   "cell_type": "code",
   "execution_count": 121,
   "metadata": {},
   "outputs": [
    {
     "data": {
      "text/plain": [
       "['AvailableDiskSpace',\n",
       " 'CPUConsumed',\n",
       " 'LoadAverage',\n",
       " 'MemoryUsed',\n",
       " 'RSS',\n",
       " 'Vsize',\n",
       " 'RescheduleCounter',\n",
       " 'JobType_MCProductionBGx0',\n",
       " 'JobType_Merge',\n",
       " 'Site_ARC.DESY.de',\n",
       " 'Site_ARC.SIGNET.si',\n",
       " 'Site_CLOUD.AWS_Sydney.au',\n",
       " 'Site_CLOUD.AWS_Tokyo.jp',\n",
       " 'Site_CLOUD.AWS_Virginia.us',\n",
       " 'Site_CLOUD.CC1_Krakow.pl',\n",
       " 'Site_DIRAC.BINP.ru',\n",
       " 'Site_DIRAC.Beihang.cn',\n",
       " 'Site_DIRAC.CINVESTAV.mx',\n",
       " 'Site_DIRAC.Hokudai.jp',\n",
       " 'Site_DIRAC.IITG.in',\n",
       " 'Site_DIRAC.MIPT.ru',\n",
       " 'Site_DIRAC.Nagoya.jp',\n",
       " 'Site_DIRAC.Nara-WU.jp',\n",
       " 'Site_DIRAC.Niigata.jp',\n",
       " 'Site_DIRAC.Osaka-CU.jp',\n",
       " 'Site_DIRAC.PNNL.us',\n",
       " 'Site_DIRAC.RCNP.jp',\n",
       " 'Site_DIRAC.TIFR.in',\n",
       " 'Site_DIRAC.TMU.jp',\n",
       " 'Site_DIRAC.Test.jp',\n",
       " 'Site_DIRAC.Tokyo.jp',\n",
       " 'Site_DIRAC.UAS.mx',\n",
       " 'Site_DIRAC.UVic.ca',\n",
       " 'Site_DIRAC.Yamagata.jp',\n",
       " 'Site_DIRAC.Yonsei.kr',\n",
       " 'Site_Group.KEK2.jp',\n",
       " 'Site_LCG.CESNET.cz',\n",
       " 'Site_LCG.CNAF.it',\n",
       " 'Site_LCG.CYFRONET.pl',\n",
       " 'Site_LCG.Cosenza.it',\n",
       " 'Site_LCG.DESY.de',\n",
       " 'Site_LCG.Frascati.it',\n",
       " 'Site_LCG.HEPHY.at',\n",
       " 'Site_LCG.KEK.jp',\n",
       " 'Site_LCG.KEK2.jp',\n",
       " 'Site_LCG.KISTI.kr',\n",
       " 'Site_LCG.KIT.de',\n",
       " 'Site_LCG.KMI.jp',\n",
       " 'Site_LCG.Legnaro.it',\n",
       " 'Site_LCG.MPPMU.de',\n",
       " 'Site_LCG.McGill.ca',\n",
       " 'Site_LCG.Melbourne.au',\n",
       " 'Site_LCG.NCHC.tw',\n",
       " 'Site_LCG.NTU.tw',\n",
       " 'Site_LCG.Napoli.it',\n",
       " 'Site_LCG.Pisa.it',\n",
       " 'Site_LCG.Torino.it',\n",
       " 'Site_LCG.ULAKBIM.tr',\n",
       " 'Site_Multiple',\n",
       " 'Site_SSH.KMI.jp',\n",
       " 'UserPriority_2',\n",
       " 'UserPriority_3',\n",
       " 'UserPriority_5',\n",
       " 'UserPriority_9',\n",
       " 'UserPriority_10']"
      ]
     },
     "execution_count": 121,
     "metadata": {},
     "output_type": "execute_result"
    }
   ],
   "source": [
    "train_feat"
   ]
  },
  {
   "cell_type": "markdown",
   "metadata": {},
   "source": [
    "## Cleaned df to 3D tensor"
   ]
  },
  {
   "cell_type": "markdown",
   "metadata": {},
   "source": [
    "### Make X"
   ]
  },
  {
   "cell_type": "code",
   "execution_count": 122,
   "metadata": {},
   "outputs": [
    {
     "name": "stdout",
     "output_type": "stream",
     "text": [
      "CPU times: user 23min 39s, sys: 13.1 s, total: 23min 52s\n",
      "Wall time: 23min 58s\n"
     ]
    }
   ],
   "source": [
    "%%time\n",
    "\n",
    "# See if you can read a stored version\n",
    "collecttrain = cleanedgrouped.apply(samples_features)"
   ]
  },
  {
   "cell_type": "code",
   "execution_count": 124,
   "metadata": {},
   "outputs": [
    {
     "data": {
      "text/plain": [
       "(342401,)"
      ]
     },
     "execution_count": 124,
     "metadata": {},
     "output_type": "execute_result"
    }
   ],
   "source": [
    "collecttrain.shape"
   ]
  },
  {
   "cell_type": "code",
   "execution_count": null,
   "metadata": {
    "collapsed": true
   },
   "outputs": [],
   "source": [
    "# >> Start here for importing training and test data"
   ]
  },
  {
   "cell_type": "code",
   "execution_count": 125,
   "metadata": {
    "collapsed": true
   },
   "outputs": [],
   "source": [
    "import pickle\n",
    "\n",
    "with open('large_collecttrain.pickle', 'wb') as handle:\n",
    "    pickle.dump(collecttrain, handle, protocol=pickle.HIGHEST_PROTOCOL)"
   ]
  },
  {
   "cell_type": "code",
   "execution_count": 32,
   "metadata": {
    "collapsed": true
   },
   "outputs": [],
   "source": [
    "import pickle\n",
    "\n",
    "with open('large_collecttrain.pickle', 'rb') as handle:\n",
    "    collecttrain = pickle.load(handle)"
   ]
  },
  {
   "cell_type": "code",
   "execution_count": 47,
   "metadata": {},
   "outputs": [
    {
     "data": {
      "text/plain": [
       "(342401,)"
      ]
     },
     "execution_count": 47,
     "metadata": {},
     "output_type": "execute_result"
    }
   ],
   "source": [
    "collecttrain.shape"
   ]
  },
  {
   "cell_type": "code",
   "execution_count": 127,
   "metadata": {},
   "outputs": [
    {
     "name": "stdout",
     "output_type": "stream",
     "text": [
      "[[5.87734625e-03 3.38586439e-05 5.52050157e-02 2.43940947e-01\n",
      "  5.00638193e-04 7.01959883e-03 0.00000000e+00 1.00000000e+00\n",
      "  0.00000000e+00 0.00000000e+00 0.00000000e+00 0.00000000e+00\n",
      "  0.00000000e+00 0.00000000e+00 0.00000000e+00 0.00000000e+00\n",
      "  0.00000000e+00 0.00000000e+00 0.00000000e+00 0.00000000e+00\n",
      "  0.00000000e+00 0.00000000e+00 0.00000000e+00 0.00000000e+00\n",
      "  0.00000000e+00 0.00000000e+00 0.00000000e+00 0.00000000e+00\n",
      "  0.00000000e+00 0.00000000e+00 0.00000000e+00 0.00000000e+00\n",
      "  0.00000000e+00 0.00000000e+00 0.00000000e+00 0.00000000e+00\n",
      "  0.00000000e+00 0.00000000e+00 0.00000000e+00 0.00000000e+00\n",
      "  0.00000000e+00 0.00000000e+00 0.00000000e+00 0.00000000e+00\n",
      "  0.00000000e+00 0.00000000e+00 0.00000000e+00 0.00000000e+00\n",
      "  0.00000000e+00 0.00000000e+00 0.00000000e+00 0.00000000e+00\n",
      "  0.00000000e+00 0.00000000e+00 0.00000000e+00 1.00000000e+00\n",
      "  0.00000000e+00 0.00000000e+00 0.00000000e+00 0.00000000e+00\n",
      "  0.00000000e+00 0.00000000e+00 0.00000000e+00 0.00000000e+00\n",
      "  0.00000000e+00]]\n",
      "***********************\n",
      "[[0.00587855 0.00670025 0.05923122 0.24577666 0.00442427 0.01591509\n",
      "  0.         1.         0.         0.         0.         0.\n",
      "  0.         0.         0.         0.         0.         0.\n",
      "  0.         0.         0.         0.         0.         0.\n",
      "  0.         0.         0.         0.         0.         0.\n",
      "  0.         0.         0.         0.         0.         0.\n",
      "  0.         0.         0.         0.         0.         0.\n",
      "  0.         0.         0.         0.         0.         0.\n",
      "  0.         0.         0.         0.         0.         0.\n",
      "  0.         1.         0.         0.         0.         0.\n",
      "  0.         0.         0.         0.         0.        ]]\n",
      "***********************\n",
      "[[0.00587469 0.01348326 0.06385834 0.24839038 0.00467887 0.01685202\n",
      "  0.         1.         0.         0.         0.         0.\n",
      "  0.         0.         0.         0.         0.         0.\n",
      "  0.         0.         0.         0.         0.         0.\n",
      "  0.         0.         0.         0.         0.         0.\n",
      "  0.         0.         0.         0.         0.         0.\n",
      "  0.         0.         0.         0.         0.         0.\n",
      "  0.         0.         0.         0.         0.         0.\n",
      "  0.         0.         0.         0.         0.         0.\n",
      "  0.         1.         0.         0.         0.         0.\n",
      "  0.         0.         0.         0.         0.        ]]\n",
      "***********************\n",
      "[[0.00586786 0.02022113 0.05740841 0.2446733  0.00482467 0.01700871\n",
      "  0.         1.         0.         0.         0.         0.\n",
      "  0.         0.         0.         0.         0.         0.\n",
      "  0.         0.         0.         0.         0.         0.\n",
      "  0.         0.         0.         0.         0.         0.\n",
      "  0.         0.         0.         0.         0.         0.\n",
      "  0.         0.         0.         0.         0.         0.\n",
      "  0.         0.         0.         0.         0.         0.\n",
      "  0.         0.         0.         0.         0.         0.\n",
      "  0.         1.         0.         0.         0.         0.\n",
      "  0.         0.         0.         0.         0.        ]]\n",
      "***********************\n",
      "[[0.00586747 0.02697029 0.06067344 0.24821542 0.00501603 0.01715161\n",
      "  0.         1.         0.         0.         0.         0.\n",
      "  0.         0.         0.         0.         0.         0.\n",
      "  0.         0.         0.         0.         0.         0.\n",
      "  0.         0.         0.         0.         0.         0.\n",
      "  0.         0.         0.         0.         0.         0.\n",
      "  0.         0.         0.         0.         0.         0.\n",
      "  0.         0.         0.         0.         0.         0.\n",
      "  0.         0.         0.         0.         0.         0.\n",
      "  0.         1.         0.         0.         0.         0.\n",
      "  0.         0.         0.         0.         0.        ]]\n",
      "***********************\n",
      "[[0.00585996 0.03371192 0.05889069 0.248229   0.00507018 0.01717401\n",
      "  0.         1.         0.         0.         0.         0.\n",
      "  0.         0.         0.         0.         0.         0.\n",
      "  0.         0.         0.         0.         0.         0.\n",
      "  0.         0.         0.         0.         0.         0.\n",
      "  0.         0.         0.         0.         0.         0.\n",
      "  0.         0.         0.         0.         0.         0.\n",
      "  0.         0.         0.         0.         0.         0.\n",
      "  0.         0.         0.         0.         0.         0.\n",
      "  0.         1.         0.         0.         0.         0.\n",
      "  0.         0.         0.         0.         0.        ]]\n",
      "***********************\n",
      "[[0.0058601  0.04046484 0.0579893  0.24831125 0.00529958 0.01744767\n",
      "  0.         1.         0.         0.         0.         0.\n",
      "  0.         0.         0.         0.         0.         0.\n",
      "  0.         0.         0.         0.         0.         0.\n",
      "  0.         0.         0.         0.         0.         0.\n",
      "  0.         0.         0.         0.         0.         0.\n",
      "  0.         0.         0.         0.         0.         0.\n",
      "  0.         0.         0.         0.         0.         0.\n",
      "  0.         0.         0.         0.         0.         0.\n",
      "  0.         1.         0.         0.         0.         0.\n",
      "  0.         0.         0.         0.         0.        ]]\n",
      "***********************\n",
      "[[0.0058708  0.047214   0.05660718 0.2250257  0.00531179 0.01744872\n",
      "  0.         1.         0.         0.         0.         0.\n",
      "  0.         0.         0.         0.         0.         0.\n",
      "  0.         0.         0.         0.         0.         0.\n",
      "  0.         0.         0.         0.         0.         0.\n",
      "  0.         0.         0.         0.         0.         0.\n",
      "  0.         0.         0.         0.         0.         0.\n",
      "  0.         0.         0.         0.         0.         0.\n",
      "  0.         0.         0.         0.         0.         0.\n",
      "  0.         1.         0.         0.         0.         0.\n",
      "  0.         0.         0.         0.         0.        ]]\n",
      "***********************\n",
      "[[0.00587001 0.05397068 0.06029285 0.23919896 0.00537524 0.01752751\n",
      "  0.         1.         0.         0.         0.         0.\n",
      "  0.         0.         0.         0.         0.         0.\n",
      "  0.         0.         0.         0.         0.         0.\n",
      "  0.         0.         0.         0.         0.         0.\n",
      "  0.         0.         0.         0.         0.         0.\n",
      "  0.         0.         0.         0.         0.         0.\n",
      "  0.         0.         0.         0.         0.         0.\n",
      "  0.         0.         0.         0.         0.         0.\n",
      "  0.         1.         0.         0.         0.         0.\n",
      "  0.         0.         0.         0.         0.        ]]\n",
      "***********************\n",
      "[[0.00586614 0.06072736 0.05766881 0.24423045 0.00542839 0.01758243\n",
      "  0.         1.         0.         0.         0.         0.\n",
      "  0.         0.         0.         0.         0.         0.\n",
      "  0.         0.         0.         0.         0.         0.\n",
      "  0.         0.         0.         0.         0.         0.\n",
      "  0.         0.         0.         0.         0.         0.\n",
      "  0.         0.         0.         0.         0.         0.\n",
      "  0.         0.         0.         0.         0.         0.\n",
      "  0.         0.         0.         0.         0.         0.\n",
      "  0.         1.         0.         0.         0.         0.\n",
      "  0.         0.         0.         0.         0.        ]]\n",
      "***********************\n",
      "[[0.00589088 0.06751037 0.05744847 0.22646814 0.00594475 0.01808561\n",
      "  0.         1.         0.         0.         0.         0.\n",
      "  0.         0.         0.         0.         0.         0.\n",
      "  0.         0.         0.         0.         0.         0.\n",
      "  0.         0.         0.         0.         0.         0.\n",
      "  0.         0.         0.         0.         0.         0.\n",
      "  0.         0.         0.         0.         0.         0.\n",
      "  0.         0.         0.         0.         0.         0.\n",
      "  0.         0.         0.         0.         0.         0.\n",
      "  0.         1.         0.         0.         0.         0.\n",
      "  0.         0.         0.         0.         0.        ]]\n",
      "***********************\n",
      "[[0.00591885 0.07426705 0.05582597 0.21188396 0.00618325 0.01832526\n",
      "  0.         1.         0.         0.         0.         0.\n",
      "  0.         0.         0.         0.         0.         0.\n",
      "  0.         0.         0.         0.         0.         0.\n",
      "  0.         0.         0.         0.         0.         0.\n",
      "  0.         0.         0.         0.         0.         0.\n",
      "  0.         0.         0.         0.         0.         0.\n",
      "  0.         0.         0.         0.         0.         0.\n",
      "  0.         0.         0.         0.         0.         0.\n",
      "  0.         1.         0.         0.         0.         0.\n",
      "  0.         0.         0.         0.         0.        ]]\n",
      "***********************\n",
      "[[0.00591798 0.08101997 0.05714801 0.22151166 0.00619823 0.01832626\n",
      "  0.         1.         0.         0.         0.         0.\n",
      "  0.         0.         0.         0.         0.         0.\n",
      "  0.         0.         0.         0.         0.         0.\n",
      "  0.         0.         0.         0.         0.         0.\n",
      "  0.         0.         0.         0.         0.         0.\n",
      "  0.         0.         0.         0.         0.         0.\n",
      "  0.         0.         0.         0.         0.         0.\n",
      "  0.         0.         0.         0.         0.         0.\n",
      "  0.         1.         0.         0.         0.         0.\n",
      "  0.         0.         0.         0.         0.        ]]\n",
      "***********************\n",
      "[[0.00591614 0.08777289 0.05193999 0.22437752 0.00628667 0.01838864\n",
      "  0.         1.         0.         0.         0.         0.\n",
      "  0.         0.         0.         0.         0.         0.\n",
      "  0.         0.         0.         0.         0.         0.\n",
      "  0.         0.         0.         0.         0.         0.\n",
      "  0.         0.         0.         0.         0.         0.\n",
      "  0.         0.         0.         0.         0.         0.\n",
      "  0.         0.         0.         0.         0.         0.\n",
      "  0.         0.         0.         0.         0.         0.\n",
      "  0.         1.         0.         0.         0.         0.\n",
      "  0.         0.         0.         0.         0.        ]]\n",
      "***********************\n",
      "[[0.00591394 0.09452957 0.05828977 0.23951872 0.00630581 0.01847735\n",
      "  0.         1.         0.         0.         0.         0.\n",
      "  0.         0.         0.         0.         0.         0.\n",
      "  0.         0.         0.         0.         0.         0.\n",
      "  0.         0.         0.         0.         0.         0.\n",
      "  0.         0.         0.         0.         0.         0.\n",
      "  0.         0.         0.         0.         0.         0.\n",
      "  0.         0.         0.         0.         0.         0.\n",
      "  0.         0.         0.         0.         0.         0.\n",
      "  0.         1.         0.         0.         0.         0.\n",
      "  0.         0.         0.         0.         0.        ]]\n",
      "***********************\n",
      "[[0.00591284 0.10129001 0.0574685  0.24365153 0.00649313 0.01861931\n",
      "  0.         1.         0.         0.         0.         0.\n",
      "  0.         0.         0.         0.         0.         0.\n",
      "  0.         0.         0.         0.         0.         0.\n",
      "  0.         0.         0.         0.         0.         0.\n",
      "  0.         0.         0.         0.         0.         0.\n",
      "  0.         0.         0.         0.         0.         0.\n",
      "  0.         0.         0.         0.         0.         0.\n",
      "  0.         0.         0.         0.         0.         0.\n",
      "  0.         1.         0.         0.         0.         0.\n",
      "  0.         0.         0.         0.         0.        ]]\n",
      "***********************\n",
      "[[0.00591108 0.10803541 0.05750856 0.24502185 0.00667537 0.01880022\n",
      "  0.         1.         0.         0.         0.         0.\n",
      "  0.         0.         0.         0.         0.         0.\n",
      "  0.         0.         0.         0.         0.         0.\n",
      "  0.         0.         0.         0.         0.         0.\n",
      "  0.         0.         0.         0.         0.         0.\n",
      "  0.         0.         0.         0.         0.         0.\n",
      "  0.         0.         0.         0.         0.         0.\n",
      "  0.         0.         0.         0.         0.         0.\n",
      "  0.         1.         0.         0.         0.         0.\n",
      "  0.         0.         0.         0.         0.        ]]\n",
      "***********************\n",
      "[[0.00590942 0.11483347 0.05885063 0.24703551 0.00668396 0.01880226\n",
      "  0.         1.         0.         0.         0.         0.\n",
      "  0.         0.         0.         0.         0.         0.\n",
      "  0.         0.         0.         0.         0.         0.\n",
      "  0.         0.         0.         0.         0.         0.\n",
      "  0.         0.         0.         0.         0.         0.\n",
      "  0.         0.         0.         0.         0.         0.\n",
      "  0.         0.         0.         0.         0.         0.\n",
      "  0.         0.         0.         0.         0.         0.\n",
      "  0.         1.         0.         0.         0.         0.\n",
      "  0.         0.         0.         0.         0.        ]]\n",
      "***********************\n",
      "[[0.00590713 0.12159391 0.06091381 0.24759661 0.00677764 0.01889968\n",
      "  0.         1.         0.         0.         0.         0.\n",
      "  0.         0.         0.         0.         0.         0.\n",
      "  0.         0.         0.         0.         0.         0.\n",
      "  0.         0.         0.         0.         0.         0.\n",
      "  0.         0.         0.         0.         0.         0.\n",
      "  0.         0.         0.         0.         0.         0.\n",
      "  0.         0.         0.         0.         0.         0.\n",
      "  0.         0.         0.         0.         0.         0.\n",
      "  0.         1.         0.         0.         0.         0.\n",
      "  0.         0.         0.         0.         0.        ]]\n",
      "***********************\n"
     ]
    }
   ],
   "source": [
    "for f in collecttrain.tolist()[100]:\n",
    "    print(f)\n",
    "    print('***********************')"
   ]
  },
  {
   "cell_type": "markdown",
   "metadata": {},
   "source": [
    "### Unpack X from output of function"
   ]
  },
  {
   "cell_type": "code",
   "execution_count": 34,
   "metadata": {
    "collapsed": true
   },
   "outputs": [],
   "source": [
    "X=[]"
   ]
  },
  {
   "cell_type": "code",
   "execution_count": 35,
   "metadata": {},
   "outputs": [
    {
     "name": "stdout",
     "output_type": "stream",
     "text": [
      "CPU times: user 1.19 s, sys: 64.7 ms, total: 1.26 s\n",
      "Wall time: 1.26 s\n"
     ]
    }
   ],
   "source": [
    "%%time\n",
    "for x in collecttrain:\n",
    "    #len(x)\n",
    "    for i in x:\n",
    "        X.append(i)"
   ]
  },
  {
   "cell_type": "code",
   "execution_count": 36,
   "metadata": {},
   "outputs": [
    {
     "data": {
      "text/plain": [
       "(2373924, 1, 65)"
      ]
     },
     "execution_count": 36,
     "metadata": {},
     "output_type": "execute_result"
    }
   ],
   "source": [
    "X = np.array(X)\n",
    "X.shape"
   ]
  },
  {
   "cell_type": "code",
   "execution_count": 13,
   "metadata": {
    "collapsed": true
   },
   "outputs": [],
   "source": [
    "## X is ready"
   ]
  },
  {
   "cell_type": "markdown",
   "metadata": {},
   "source": [
    "## Make Y"
   ]
  },
  {
   "cell_type": "code",
   "execution_count": 14,
   "metadata": {
    "collapsed": true
   },
   "outputs": [],
   "source": [
    "# Label Column ('Status_Failed' is the label column)\n",
    "label_col = ['Status_Failed']"
   ]
  },
  {
   "cell_type": "code",
   "execution_count": 15,
   "metadata": {
    "collapsed": true
   },
   "outputs": [],
   "source": [
    "# Takes a df and converts it to 3D tensor\n",
    "# Each sample will have k time steps\n",
    "\n",
    "def samples_label(df_input):\n",
    "    \n",
    "    k = thresholdd\n",
    "    input_cols = label_col\n",
    "    \n",
    "    \n",
    "    # takes a df\n",
    "    # Put your inputs into a single list\n",
    "    \n",
    "    df = pd.DataFrame()\n",
    "    \n",
    "    df['single_input_vector'] = df_input[input_cols].apply(tuple, axis=1).apply(list)\n",
    "    \n",
    "    # Double-encapsulate list so that you can sum it in the next step and keep time steps as separate elements\n",
    "    df['single_input_vector'] = df.single_input_vector.apply(lambda x: [list(x)])\n",
    "        \n",
    "    # The starting point\n",
    "    df['cumulative_input_vectors'] = df['single_input_vector'].shift(0)\n",
    "    \n",
    "    for i in range(1,k):\n",
    "        df['cumulative_input_vectors'] += df['single_input_vector'].shift(i)\n",
    "          \n",
    "    df.dropna(inplace=True)     # does operation in place & returns None\n",
    "\n",
    "    # Extract your training data\n",
    "    X_ = np.asarray(df.cumulative_input_vectors)\n",
    "    \n",
    "    # Use hstack to and reshape to make the inputs a 3d vector\n",
    "    X = np.vstack(X_).reshape(len(df), k, len(input_cols))\n",
    "    \n",
    "    # Clean up\n",
    "    del df\n",
    "    \n",
    "    return X\n",
    "    # returns 3D array"
   ]
  },
  {
   "cell_type": "markdown",
   "metadata": {},
   "source": [
    "#### Build Y (each job separately)"
   ]
  },
  {
   "cell_type": "code",
   "execution_count": 16,
   "metadata": {},
   "outputs": [
    {
     "ename": "NameError",
     "evalue": "name 'cleaned' is not defined",
     "output_type": "error",
     "traceback": [
      "\u001b[0;31m---------------------------------------------------------------------------\u001b[0m",
      "\u001b[0;31mNameError\u001b[0m                                 Traceback (most recent call last)",
      "\u001b[0;32m<ipython-input-16-39c02fbf08a5>\u001b[0m in \u001b[0;36m<module>\u001b[0;34m()\u001b[0m\n\u001b[0;32m----> 1\u001b[0;31m \u001b[0mcleanedgrouped\u001b[0m \u001b[0;34m=\u001b[0m \u001b[0mcleaned\u001b[0m\u001b[0;34m.\u001b[0m\u001b[0mgroupby\u001b[0m\u001b[0;34m(\u001b[0m\u001b[0;34m'JobID'\u001b[0m\u001b[0;34m)\u001b[0m\u001b[0;34m\u001b[0m\u001b[0m\n\u001b[0m",
      "\u001b[0;31mNameError\u001b[0m: name 'cleaned' is not defined"
     ]
    }
   ],
   "source": [
    "cleanedgrouped = cleaned.groupby('JobID')"
   ]
  },
  {
   "cell_type": "code",
   "execution_count": 17,
   "metadata": {},
   "outputs": [
    {
     "data": {
      "text/plain": [
       "['Status_Failed']"
      ]
     },
     "execution_count": 17,
     "metadata": {},
     "output_type": "execute_result"
    }
   ],
   "source": [
    "label_col"
   ]
  },
  {
   "cell_type": "code",
   "execution_count": 136,
   "metadata": {},
   "outputs": [
    {
     "name": "stdout",
     "output_type": "stream",
     "text": [
      "CPU times: user 22min 36s, sys: 21.2 s, total: 22min 57s\n",
      "Wall time: 23min 1s\n"
     ]
    }
   ],
   "source": [
    "%%time\n",
    "# See if you can read from pickle file\n",
    "\n",
    "collectlabel = cleanedgrouped.apply(samples_label)"
   ]
  },
  {
   "cell_type": "code",
   "execution_count": 137,
   "metadata": {
    "collapsed": true
   },
   "outputs": [],
   "source": [
    "import pickle\n",
    "\n",
    "with open('large_collectlabel.pickle', 'wb') as handle:\n",
    "    pickle.dump(collectlabel, handle, protocol=pickle.HIGHEST_PROTOCOL)"
   ]
  },
  {
   "cell_type": "code",
   "execution_count": 37,
   "metadata": {
    "collapsed": true
   },
   "outputs": [],
   "source": [
    "with open('large_collectlabel.pickle', 'rb') as handle:\n",
    "    collectlabel = pickle.load(handle)"
   ]
  },
  {
   "cell_type": "code",
   "execution_count": 19,
   "metadata": {},
   "outputs": [
    {
     "data": {
      "text/plain": [
       "[array([[[1]]])]"
      ]
     },
     "execution_count": 19,
     "metadata": {},
     "output_type": "execute_result"
    }
   ],
   "source": [
    "collectlabel.tolist()[:1]"
   ]
  },
  {
   "cell_type": "code",
   "execution_count": 38,
   "metadata": {},
   "outputs": [
    {
     "data": {
      "text/plain": [
       "(342398,)"
      ]
     },
     "execution_count": 38,
     "metadata": {},
     "output_type": "execute_result"
    }
   ],
   "source": [
    "collectlabel.shape"
   ]
  },
  {
   "cell_type": "code",
   "execution_count": 21,
   "metadata": {
    "collapsed": true
   },
   "outputs": [],
   "source": [
    "### Unpack Y from output of function"
   ]
  },
  {
   "cell_type": "code",
   "execution_count": 39,
   "metadata": {
    "collapsed": true
   },
   "outputs": [],
   "source": [
    "Y=[]"
   ]
  },
  {
   "cell_type": "code",
   "execution_count": 40,
   "metadata": {},
   "outputs": [
    {
     "name": "stdout",
     "output_type": "stream",
     "text": [
      "CPU times: user 1.11 s, sys: 36.5 ms, total: 1.14 s\n",
      "Wall time: 1.14 s\n"
     ]
    }
   ],
   "source": [
    "%%time\n",
    "for x in collectlabel:\n",
    "    #len(x)\n",
    "    for i in x:\n",
    "        Y.append(i)"
   ]
  },
  {
   "cell_type": "code",
   "execution_count": 41,
   "metadata": {},
   "outputs": [
    {
     "data": {
      "text/plain": [
       "(2368345, 1, 1)"
      ]
     },
     "execution_count": 41,
     "metadata": {},
     "output_type": "execute_result"
    }
   ],
   "source": [
    "Y = np.array(Y)\n",
    "Y.shape"
   ]
  },
  {
   "cell_type": "code",
   "execution_count": 42,
   "metadata": {},
   "outputs": [
    {
     "data": {
      "text/plain": [
       "(2368345, 1)"
      ]
     },
     "execution_count": 42,
     "metadata": {},
     "output_type": "execute_result"
    }
   ],
   "source": [
    "YY = np.array([x[0][0] for x in Y]).reshape(len(Y),1)\n",
    "YY.shape"
   ]
  },
  {
   "cell_type": "code",
   "execution_count": 43,
   "metadata": {
    "scrolled": true
   },
   "outputs": [
    {
     "data": {
      "text/plain": [
       "array([[1],\n",
       "       [1],\n",
       "       [1],\n",
       "       [1],\n",
       "       [1]])"
      ]
     },
     "execution_count": 43,
     "metadata": {},
     "output_type": "execute_result"
    }
   ],
   "source": [
    "YY[:5]"
   ]
  },
  {
   "cell_type": "code",
   "execution_count": 44,
   "metadata": {
    "collapsed": true
   },
   "outputs": [],
   "source": [
    "## Y is ready\n",
    "thresholdd = 1"
   ]
  },
  {
   "cell_type": "code",
   "execution_count": 45,
   "metadata": {},
   "outputs": [
    {
     "data": {
      "text/plain": [
       "((2373924, 1, 65), (2368345, 1))"
      ]
     },
     "execution_count": 45,
     "metadata": {},
     "output_type": "execute_result"
    }
   ],
   "source": [
    "X.shape, YY.shape"
   ]
  },
  {
   "cell_type": "markdown",
   "metadata": {},
   "source": [
    "## Shuffle X,Y in Unison"
   ]
  },
  {
   "cell_type": "code",
   "execution_count": 29,
   "metadata": {
    "collapsed": true
   },
   "outputs": [],
   "source": [
    "# Unison shuffle\n",
    "def unison_shuffled_copies(a, b):\n",
    "    import numpy as np\n",
    "    assert len(a) == len(b)\n",
    "    p = np.random.permutation(len(a))\n",
    "    return a[p], b[p]"
   ]
  },
  {
   "cell_type": "code",
   "execution_count": 30,
   "metadata": {},
   "outputs": [
    {
     "ename": "AssertionError",
     "evalue": "",
     "output_type": "error",
     "traceback": [
      "\u001b[0;31m---------------------------------------------------------------------------\u001b[0m",
      "\u001b[0;31mAssertionError\u001b[0m                            Traceback (most recent call last)",
      "\u001b[0;32m<timed exec>\u001b[0m in \u001b[0;36m<module>\u001b[0;34m()\u001b[0m\n",
      "\u001b[0;32m<ipython-input-29-c23fe257f24d>\u001b[0m in \u001b[0;36munison_shuffled_copies\u001b[0;34m(a, b)\u001b[0m\n\u001b[1;32m      2\u001b[0m \u001b[0;32mdef\u001b[0m \u001b[0munison_shuffled_copies\u001b[0m\u001b[0;34m(\u001b[0m\u001b[0ma\u001b[0m\u001b[0;34m,\u001b[0m \u001b[0mb\u001b[0m\u001b[0;34m)\u001b[0m\u001b[0;34m:\u001b[0m\u001b[0;34m\u001b[0m\u001b[0m\n\u001b[1;32m      3\u001b[0m     \u001b[0;32mimport\u001b[0m \u001b[0mnumpy\u001b[0m \u001b[0;32mas\u001b[0m \u001b[0mnp\u001b[0m\u001b[0;34m\u001b[0m\u001b[0m\n\u001b[0;32m----> 4\u001b[0;31m     \u001b[0;32massert\u001b[0m \u001b[0mlen\u001b[0m\u001b[0;34m(\u001b[0m\u001b[0ma\u001b[0m\u001b[0;34m)\u001b[0m \u001b[0;34m==\u001b[0m \u001b[0mlen\u001b[0m\u001b[0;34m(\u001b[0m\u001b[0mb\u001b[0m\u001b[0;34m)\u001b[0m\u001b[0;34m\u001b[0m\u001b[0m\n\u001b[0m\u001b[1;32m      5\u001b[0m     \u001b[0mp\u001b[0m \u001b[0;34m=\u001b[0m \u001b[0mnp\u001b[0m\u001b[0;34m.\u001b[0m\u001b[0mrandom\u001b[0m\u001b[0;34m.\u001b[0m\u001b[0mpermutation\u001b[0m\u001b[0;34m(\u001b[0m\u001b[0mlen\u001b[0m\u001b[0;34m(\u001b[0m\u001b[0ma\u001b[0m\u001b[0;34m)\u001b[0m\u001b[0;34m)\u001b[0m\u001b[0;34m\u001b[0m\u001b[0m\n\u001b[1;32m      6\u001b[0m     \u001b[0;32mreturn\u001b[0m \u001b[0ma\u001b[0m\u001b[0;34m[\u001b[0m\u001b[0mp\u001b[0m\u001b[0;34m]\u001b[0m\u001b[0;34m,\u001b[0m \u001b[0mb\u001b[0m\u001b[0;34m[\u001b[0m\u001b[0mp\u001b[0m\u001b[0;34m]\u001b[0m\u001b[0;34m\u001b[0m\u001b[0m\n",
      "\u001b[0;31mAssertionError\u001b[0m: "
     ]
    }
   ],
   "source": [
    "%%time\n",
    "X_final, Y_final = unison_shuffled_copies(X,YY)"
   ]
  },
  {
   "cell_type": "code",
   "execution_count": 31,
   "metadata": {},
   "outputs": [
    {
     "ename": "NameError",
     "evalue": "name 'X_final' is not defined",
     "output_type": "error",
     "traceback": [
      "\u001b[0;31m---------------------------------------------------------------------------\u001b[0m",
      "\u001b[0;31mNameError\u001b[0m                                 Traceback (most recent call last)",
      "\u001b[0;32m<ipython-input-31-2543ddd8b6f8>\u001b[0m in \u001b[0;36m<module>\u001b[0;34m()\u001b[0m\n\u001b[0;32m----> 1\u001b[0;31m \u001b[0mX_final\u001b[0m\u001b[0;34m.\u001b[0m\u001b[0mshape\u001b[0m\u001b[0;34m,\u001b[0m \u001b[0mY_final\u001b[0m\u001b[0;34m.\u001b[0m\u001b[0mshape\u001b[0m\u001b[0;34m\u001b[0m\u001b[0m\n\u001b[0m",
      "\u001b[0;31mNameError\u001b[0m: name 'X_final' is not defined"
     ]
    }
   ],
   "source": [
    "X_final.shape, Y_final.shape"
   ]
  },
  {
   "cell_type": "code",
   "execution_count": 150,
   "metadata": {},
   "outputs": [
    {
     "data": {
      "text/plain": [
       "array([3128])"
      ]
     },
     "execution_count": 150,
     "metadata": {},
     "output_type": "execute_result"
    }
   ],
   "source": [
    "sum(Y_final[:10000])"
   ]
  },
  {
   "cell_type": "markdown",
   "metadata": {},
   "source": [
    "del X\n",
    "del Y\n",
    "del YY"
   ]
  },
  {
   "cell_type": "code",
   "execution_count": 151,
   "metadata": {
    "collapsed": true
   },
   "outputs": [],
   "source": [
    "X_final, Y_final = unison_shuffled_copies(X_final, Y_final)"
   ]
  },
  {
   "cell_type": "code",
   "execution_count": 287,
   "metadata": {},
   "outputs": [
    {
     "data": {
      "text/plain": [
       "array([[0],\n",
       "       [0],\n",
       "       [0],\n",
       "       [0],\n",
       "       [1],\n",
       "       [0],\n",
       "       [1],\n",
       "       [0],\n",
       "       [0],\n",
       "       [0]])"
      ]
     },
     "execution_count": 287,
     "metadata": {},
     "output_type": "execute_result"
    }
   ],
   "source": [
    "Y_final[:10]"
   ]
  },
  {
   "cell_type": "markdown",
   "metadata": {},
   "source": [
    "# Start: Build test set from 'takeoutdf'"
   ]
  },
  {
   "cell_type": "markdown",
   "metadata": {},
   "source": [
    "## Build X_test, Y_test using each JobID separately"
   ]
  },
  {
   "cell_type": "code",
   "execution_count": 46,
   "metadata": {},
   "outputs": [
    {
     "data": {
      "text/plain": [
       "(202677, 316)"
      ]
     },
     "execution_count": 46,
     "metadata": {},
     "output_type": "execute_result"
    }
   ],
   "source": [
    "takeoutdf = pd.read_pickle('takeoutdf_for_test_samples.pickle')\n",
    "takeoutdf.shape"
   ]
  },
  {
   "cell_type": "code",
   "execution_count": 152,
   "metadata": {},
   "outputs": [
    {
     "data": {
      "text/plain": [
       "0    1638110\n",
       "1     730453\n",
       "Name: Status_Failed, dtype: int64"
      ]
     },
     "execution_count": 152,
     "metadata": {},
     "output_type": "execute_result"
    }
   ],
   "source": [
    "takeoutdf.Status_Failed.value_counts()"
   ]
  },
  {
   "cell_type": "code",
   "execution_count": 153,
   "metadata": {
    "collapsed": true
   },
   "outputs": [],
   "source": [
    "# Training Features"
   ]
  },
  {
   "cell_type": "code",
   "execution_count": 154,
   "metadata": {},
   "outputs": [
    {
     "name": "stdout",
     "output_type": "stream",
     "text": [
      "65\n"
     ]
    }
   ],
   "source": [
    "print(len(train_feat)) "
   ]
  },
  {
   "cell_type": "code",
   "execution_count": 155,
   "metadata": {
    "scrolled": false
   },
   "outputs": [
    {
     "data": {
      "text/plain": [
       "['AvailableDiskSpace',\n",
       " 'CPUConsumed',\n",
       " 'LoadAverage',\n",
       " 'MemoryUsed',\n",
       " 'RSS',\n",
       " 'Vsize',\n",
       " 'RescheduleCounter',\n",
       " 'JobType_MCProductionBGx0',\n",
       " 'JobType_Merge',\n",
       " 'Site_ARC.DESY.de',\n",
       " 'Site_ARC.SIGNET.si',\n",
       " 'Site_CLOUD.AWS_Sydney.au',\n",
       " 'Site_CLOUD.AWS_Tokyo.jp',\n",
       " 'Site_CLOUD.AWS_Virginia.us',\n",
       " 'Site_CLOUD.CC1_Krakow.pl',\n",
       " 'Site_DIRAC.BINP.ru',\n",
       " 'Site_DIRAC.Beihang.cn',\n",
       " 'Site_DIRAC.CINVESTAV.mx',\n",
       " 'Site_DIRAC.Hokudai.jp',\n",
       " 'Site_DIRAC.IITG.in',\n",
       " 'Site_DIRAC.MIPT.ru',\n",
       " 'Site_DIRAC.Nagoya.jp',\n",
       " 'Site_DIRAC.Nara-WU.jp',\n",
       " 'Site_DIRAC.Niigata.jp',\n",
       " 'Site_DIRAC.Osaka-CU.jp',\n",
       " 'Site_DIRAC.PNNL.us',\n",
       " 'Site_DIRAC.RCNP.jp',\n",
       " 'Site_DIRAC.TIFR.in',\n",
       " 'Site_DIRAC.TMU.jp',\n",
       " 'Site_DIRAC.Test.jp',\n",
       " 'Site_DIRAC.Tokyo.jp',\n",
       " 'Site_DIRAC.UAS.mx',\n",
       " 'Site_DIRAC.UVic.ca',\n",
       " 'Site_DIRAC.Yamagata.jp',\n",
       " 'Site_DIRAC.Yonsei.kr',\n",
       " 'Site_Group.KEK2.jp',\n",
       " 'Site_LCG.CESNET.cz',\n",
       " 'Site_LCG.CNAF.it',\n",
       " 'Site_LCG.CYFRONET.pl',\n",
       " 'Site_LCG.Cosenza.it',\n",
       " 'Site_LCG.DESY.de',\n",
       " 'Site_LCG.Frascati.it',\n",
       " 'Site_LCG.HEPHY.at',\n",
       " 'Site_LCG.KEK.jp',\n",
       " 'Site_LCG.KEK2.jp',\n",
       " 'Site_LCG.KISTI.kr',\n",
       " 'Site_LCG.KIT.de',\n",
       " 'Site_LCG.KMI.jp',\n",
       " 'Site_LCG.Legnaro.it',\n",
       " 'Site_LCG.MPPMU.de',\n",
       " 'Site_LCG.McGill.ca',\n",
       " 'Site_LCG.Melbourne.au',\n",
       " 'Site_LCG.NCHC.tw',\n",
       " 'Site_LCG.NTU.tw',\n",
       " 'Site_LCG.Napoli.it',\n",
       " 'Site_LCG.Pisa.it',\n",
       " 'Site_LCG.Torino.it',\n",
       " 'Site_LCG.ULAKBIM.tr',\n",
       " 'Site_Multiple',\n",
       " 'Site_SSH.KMI.jp',\n",
       " 'UserPriority_2',\n",
       " 'UserPriority_3',\n",
       " 'UserPriority_5',\n",
       " 'UserPriority_9',\n",
       " 'UserPriority_10']"
      ]
     },
     "execution_count": 155,
     "metadata": {},
     "output_type": "execute_result"
    }
   ],
   "source": [
    "(train_feat)"
   ]
  },
  {
   "cell_type": "code",
   "execution_count": 156,
   "metadata": {},
   "outputs": [
    {
     "data": {
      "text/plain": [
       "[1.0536348744382731e-05,\n",
       " 1.2244458736764192e-05,\n",
       " 0.00700336879776749,\n",
       " 0.013991531731195973,\n",
       " 0.020983515212320312]"
      ]
     },
     "execution_count": 156,
     "metadata": {},
     "output_type": "execute_result"
    }
   ],
   "source": [
    "takeoutdf.WallClockTime.tolist()[:5]"
   ]
  },
  {
   "cell_type": "code",
   "execution_count": 157,
   "metadata": {},
   "outputs": [
    {
     "name": "stdout",
     "output_type": "stream",
     "text": [
      "['Status_Failed']\n"
     ]
    }
   ],
   "source": [
    "# Label Column ('Status_Failed' is the label column)\n",
    "print(label_col)"
   ]
  },
  {
   "cell_type": "code",
   "execution_count": 158,
   "metadata": {},
   "outputs": [
    {
     "data": {
      "text/plain": [
       "(2368563, 330)"
      ]
     },
     "execution_count": 158,
     "metadata": {},
     "output_type": "execute_result"
    }
   ],
   "source": [
    "takeoutdf.shape"
   ]
  },
  {
   "cell_type": "code",
   "execution_count": 159,
   "metadata": {},
   "outputs": [
    {
     "data": {
      "text/plain": [
       "436"
      ]
     },
     "execution_count": 159,
     "metadata": {},
     "output_type": "execute_result"
    }
   ],
   "source": [
    "takeoutdf.isnull().values.ravel().sum()"
   ]
  },
  {
   "cell_type": "code",
   "execution_count": 160,
   "metadata": {
    "collapsed": true
   },
   "outputs": [],
   "source": [
    "takeoutdf = takeoutdf.dropna()"
   ]
  },
  {
   "cell_type": "code",
   "execution_count": 161,
   "metadata": {
    "scrolled": true
   },
   "outputs": [
    {
     "data": {
      "text/plain": [
       "0"
      ]
     },
     "execution_count": 161,
     "metadata": {},
     "output_type": "execute_result"
    }
   ],
   "source": [
    "takeoutdf.isnull().values.ravel().sum()"
   ]
  },
  {
   "cell_type": "code",
   "execution_count": 162,
   "metadata": {},
   "outputs": [
    {
     "data": {
      "text/plain": [
       "Index(['JobID', 'HeartBeatTime', 'AvailableDiskSpace', 'CPUConsumed',\n",
       "       'LoadAverage', 'MemoryUsed', 'RSS', 'Vsize', 'WallClockTime',\n",
       "       'RescheduleCounter',\n",
       "       ...\n",
       "       'Site_LCG.Torino.it', 'Site_LCG.ULAKBIM.tr', 'Site_Multiple',\n",
       "       'Site_SSH.KMI.jp', 'Status_Failed', 'UserPriority_2', 'UserPriority_3',\n",
       "       'UserPriority_5', 'UserPriority_9', 'UserPriority_10'],\n",
       "      dtype='object', length=330)"
      ]
     },
     "execution_count": 162,
     "metadata": {},
     "output_type": "execute_result"
    }
   ],
   "source": [
    "takeoutdf.columns"
   ]
  },
  {
   "cell_type": "markdown",
   "metadata": {},
   "source": [
    "########################################################\n",
    "takeoutdf.to_pickle('takeoutdf_for_test_samples.pickle')\n",
    "########################################################"
   ]
  },
  {
   "cell_type": "markdown",
   "metadata": {},
   "source": [
    "###  Make X_test"
   ]
  },
  {
   "cell_type": "code",
   "execution_count": 163,
   "metadata": {
    "collapsed": true
   },
   "outputs": [],
   "source": [
    "takeoutdfgrouped = takeoutdf.groupby('JobID')"
   ]
  },
  {
   "cell_type": "code",
   "execution_count": 164,
   "metadata": {},
   "outputs": [
    {
     "name": "stdout",
     "output_type": "stream",
     "text": [
      "CPU times: user 23min 21s, sys: 7.56 s, total: 23min 29s\n",
      "Wall time: 23min 30s\n"
     ]
    }
   ],
   "source": [
    "%%time\n",
    "collectXtest = takeoutdfgrouped.apply(samples_features)"
   ]
  },
  {
   "cell_type": "code",
   "execution_count": 165,
   "metadata": {
    "collapsed": true
   },
   "outputs": [],
   "source": [
    "with open('large_collectXtest.pickle', 'wb') as handle:\n",
    "    pickle.dump(collectXtest, handle, protocol=pickle.HIGHEST_PROTOCOL)"
   ]
  },
  {
   "cell_type": "code",
   "execution_count": 278,
   "metadata": {},
   "outputs": [
    {
     "name": "stdout",
     "output_type": "stream",
     "text": [
      "37408290 Lengths match\n",
      "32753800 Lengths match\n",
      "32656342 Lengths match\n",
      "37432194 Lengths match\n",
      "32194576 Lengths match\n",
      "32622194 Lengths match\n",
      "32375807 Lengths match\n",
      "37522490 Lengths match\n",
      "37219088 Lengths match\n",
      "32425990 Lengths match\n",
      "32740363 Lengths match\n",
      "38016212 Lengths match\n",
      "32572931 Lengths match\n",
      "32298885 Lengths match\n",
      "32570236 Lengths match\n",
      "32559922 Lengths match\n",
      "32364688 Lengths match\n",
      "32734024 Lengths match\n",
      "32376381 Lengths match\n",
      "32677905 Lengths match\n"
     ]
    }
   ],
   "source": [
    "# Testcase 1 of function sample_features:\n",
    "\n",
    "check = 0\n",
    "j_checks = takeoutdf.JobID.sample(20)\n",
    "\n",
    "for k in j_checks:\n",
    "    \n",
    "    v = takeoutdfgrouped.get_group(k)\n",
    "    \n",
    "    if(True):\n",
    "        #print(v.columns.tolist())\n",
    "        A = np.array(v)\n",
    "        #print(train_feat)\n",
    "        B = samples_features(v)\n",
    "        check += 1\n",
    "        \n",
    "        if(len(A) == len(B)):\n",
    "            print(k, 'Lengths match')\n",
    "        \n",
    "        # Tests\n",
    "        for x,y in zip(A,B):\n",
    "            #print(x)\n",
    "            #print(y)\n",
    "            \n",
    "            if not (np.all([ m==n for (m,n) in zip(x[2:8] , y[0][0:6]) ])):\n",
    "                print(k, 'NOK')\n",
    "                \n",
    "    if(check == len(j_checks)):\n",
    "        break"
   ]
  },
  {
   "cell_type": "code",
   "execution_count": 257,
   "metadata": {},
   "outputs": [
    {
     "data": {
      "text/html": [
       "<div>\n",
       "<style scoped>\n",
       "    .dataframe tbody tr th:only-of-type {\n",
       "        vertical-align: middle;\n",
       "    }\n",
       "\n",
       "    .dataframe tbody tr th {\n",
       "        vertical-align: top;\n",
       "    }\n",
       "\n",
       "    .dataframe thead th {\n",
       "        text-align: right;\n",
       "    }\n",
       "</style>\n",
       "<table border=\"1\" class=\"dataframe\">\n",
       "  <thead>\n",
       "    <tr style=\"text-align: right;\">\n",
       "      <th></th>\n",
       "      <th>JobID</th>\n",
       "      <th>HeartBeatTime</th>\n",
       "      <th>AvailableDiskSpace</th>\n",
       "      <th>CPUConsumed</th>\n",
       "      <th>LoadAverage</th>\n",
       "      <th>MemoryUsed</th>\n",
       "      <th>RSS</th>\n",
       "      <th>Vsize</th>\n",
       "      <th>WallClockTime</th>\n",
       "      <th>RescheduleCounter</th>\n",
       "      <th>...</th>\n",
       "      <th>Site_LCG.Torino.it</th>\n",
       "      <th>Site_LCG.ULAKBIM.tr</th>\n",
       "      <th>Site_Multiple</th>\n",
       "      <th>Site_SSH.KMI.jp</th>\n",
       "      <th>Status_Failed</th>\n",
       "      <th>UserPriority_2</th>\n",
       "      <th>UserPriority_3</th>\n",
       "      <th>UserPriority_5</th>\n",
       "      <th>UserPriority_9</th>\n",
       "      <th>UserPriority_10</th>\n",
       "    </tr>\n",
       "  </thead>\n",
       "  <tbody>\n",
       "    <tr>\n",
       "      <th>0</th>\n",
       "      <td>23140766</td>\n",
       "      <td>2015-08-07 13:13:48</td>\n",
       "      <td>0.002636</td>\n",
       "      <td>0.000038</td>\n",
       "      <td>0.044108</td>\n",
       "      <td>0.136685</td>\n",
       "      <td>0.000662</td>\n",
       "      <td>0.008532</td>\n",
       "      <td>0.000011</td>\n",
       "      <td>0</td>\n",
       "      <td>...</td>\n",
       "      <td>0</td>\n",
       "      <td>0</td>\n",
       "      <td>0</td>\n",
       "      <td>0</td>\n",
       "      <td>1</td>\n",
       "      <td>0</td>\n",
       "      <td>0</td>\n",
       "      <td>0</td>\n",
       "      <td>0</td>\n",
       "      <td>0</td>\n",
       "    </tr>\n",
       "    <tr>\n",
       "      <th>2</th>\n",
       "      <td>23205537</td>\n",
       "      <td>2015-08-08 22:43:00</td>\n",
       "      <td>0.001988</td>\n",
       "      <td>0.000034</td>\n",
       "      <td>0.044008</td>\n",
       "      <td>0.165861</td>\n",
       "      <td>0.000307</td>\n",
       "      <td>0.004443</td>\n",
       "      <td>0.000012</td>\n",
       "      <td>0</td>\n",
       "      <td>...</td>\n",
       "      <td>0</td>\n",
       "      <td>0</td>\n",
       "      <td>0</td>\n",
       "      <td>0</td>\n",
       "      <td>1</td>\n",
       "      <td>0</td>\n",
       "      <td>0</td>\n",
       "      <td>0</td>\n",
       "      <td>0</td>\n",
       "      <td>0</td>\n",
       "    </tr>\n",
       "    <tr>\n",
       "      <th>3</th>\n",
       "      <td>23205537</td>\n",
       "      <td>2015-08-08 23:13:00</td>\n",
       "      <td>0.001989</td>\n",
       "      <td>0.006538</td>\n",
       "      <td>0.046071</td>\n",
       "      <td>0.168159</td>\n",
       "      <td>0.004379</td>\n",
       "      <td>0.015867</td>\n",
       "      <td>0.007003</td>\n",
       "      <td>0</td>\n",
       "      <td>...</td>\n",
       "      <td>0</td>\n",
       "      <td>0</td>\n",
       "      <td>0</td>\n",
       "      <td>0</td>\n",
       "      <td>1</td>\n",
       "      <td>0</td>\n",
       "      <td>0</td>\n",
       "      <td>0</td>\n",
       "      <td>0</td>\n",
       "      <td>0</td>\n",
       "    </tr>\n",
       "    <tr>\n",
       "      <th>4</th>\n",
       "      <td>23205537</td>\n",
       "      <td>2015-08-08 23:42:58</td>\n",
       "      <td>0.001988</td>\n",
       "      <td>0.013265</td>\n",
       "      <td>0.048174</td>\n",
       "      <td>0.170563</td>\n",
       "      <td>0.004573</td>\n",
       "      <td>0.016791</td>\n",
       "      <td>0.013992</td>\n",
       "      <td>0</td>\n",
       "      <td>...</td>\n",
       "      <td>0</td>\n",
       "      <td>0</td>\n",
       "      <td>0</td>\n",
       "      <td>0</td>\n",
       "      <td>1</td>\n",
       "      <td>0</td>\n",
       "      <td>0</td>\n",
       "      <td>0</td>\n",
       "      <td>0</td>\n",
       "      <td>0</td>\n",
       "    </tr>\n",
       "    <tr>\n",
       "      <th>5</th>\n",
       "      <td>23205537</td>\n",
       "      <td>2015-08-09 00:12:58</td>\n",
       "      <td>0.001987</td>\n",
       "      <td>0.019980</td>\n",
       "      <td>0.046031</td>\n",
       "      <td>0.173202</td>\n",
       "      <td>0.004698</td>\n",
       "      <td>0.016862</td>\n",
       "      <td>0.020984</td>\n",
       "      <td>0</td>\n",
       "      <td>...</td>\n",
       "      <td>0</td>\n",
       "      <td>0</td>\n",
       "      <td>0</td>\n",
       "      <td>0</td>\n",
       "      <td>1</td>\n",
       "      <td>0</td>\n",
       "      <td>0</td>\n",
       "      <td>0</td>\n",
       "      <td>0</td>\n",
       "      <td>0</td>\n",
       "    </tr>\n",
       "    <tr>\n",
       "      <th>6</th>\n",
       "      <td>23205537</td>\n",
       "      <td>2015-08-09 00:42:58</td>\n",
       "      <td>0.001987</td>\n",
       "      <td>0.026666</td>\n",
       "      <td>0.046572</td>\n",
       "      <td>0.175709</td>\n",
       "      <td>0.004822</td>\n",
       "      <td>0.016965</td>\n",
       "      <td>0.027975</td>\n",
       "      <td>0</td>\n",
       "      <td>...</td>\n",
       "      <td>0</td>\n",
       "      <td>0</td>\n",
       "      <td>0</td>\n",
       "      <td>0</td>\n",
       "      <td>1</td>\n",
       "      <td>0</td>\n",
       "      <td>0</td>\n",
       "      <td>0</td>\n",
       "      <td>0</td>\n",
       "      <td>0</td>\n",
       "    </tr>\n",
       "    <tr>\n",
       "      <th>7</th>\n",
       "      <td>23205537</td>\n",
       "      <td>2015-08-09 01:13:08</td>\n",
       "      <td>0.001986</td>\n",
       "      <td>0.033426</td>\n",
       "      <td>0.047393</td>\n",
       "      <td>0.177224</td>\n",
       "      <td>0.004966</td>\n",
       "      <td>0.017103</td>\n",
       "      <td>0.035006</td>\n",
       "      <td>0</td>\n",
       "      <td>...</td>\n",
       "      <td>0</td>\n",
       "      <td>0</td>\n",
       "      <td>0</td>\n",
       "      <td>0</td>\n",
       "      <td>1</td>\n",
       "      <td>0</td>\n",
       "      <td>0</td>\n",
       "      <td>0</td>\n",
       "      <td>0</td>\n",
       "      <td>0</td>\n",
       "    </tr>\n",
       "    <tr>\n",
       "      <th>8</th>\n",
       "      <td>23205537</td>\n",
       "      <td>2015-08-09 01:43:07</td>\n",
       "      <td>0.001986</td>\n",
       "      <td>0.040138</td>\n",
       "      <td>0.048895</td>\n",
       "      <td>0.178742</td>\n",
       "      <td>0.004970</td>\n",
       "      <td>0.017105</td>\n",
       "      <td>0.041997</td>\n",
       "      <td>0</td>\n",
       "      <td>...</td>\n",
       "      <td>0</td>\n",
       "      <td>0</td>\n",
       "      <td>0</td>\n",
       "      <td>0</td>\n",
       "      <td>1</td>\n",
       "      <td>0</td>\n",
       "      <td>0</td>\n",
       "      <td>0</td>\n",
       "      <td>0</td>\n",
       "      <td>0</td>\n",
       "    </tr>\n",
       "    <tr>\n",
       "      <th>9</th>\n",
       "      <td>23205537</td>\n",
       "      <td>2015-08-09 02:13:06</td>\n",
       "      <td>0.001986</td>\n",
       "      <td>0.046834</td>\n",
       "      <td>0.044348</td>\n",
       "      <td>0.174502</td>\n",
       "      <td>0.005003</td>\n",
       "      <td>0.017219</td>\n",
       "      <td>0.048986</td>\n",
       "      <td>0</td>\n",
       "      <td>...</td>\n",
       "      <td>0</td>\n",
       "      <td>0</td>\n",
       "      <td>0</td>\n",
       "      <td>0</td>\n",
       "      <td>1</td>\n",
       "      <td>0</td>\n",
       "      <td>0</td>\n",
       "      <td>0</td>\n",
       "      <td>0</td>\n",
       "      <td>0</td>\n",
       "    </tr>\n",
       "    <tr>\n",
       "      <th>10</th>\n",
       "      <td>23205537</td>\n",
       "      <td>2015-08-09 02:43:06</td>\n",
       "      <td>0.001986</td>\n",
       "      <td>0.053553</td>\n",
       "      <td>0.044108</td>\n",
       "      <td>0.176460</td>\n",
       "      <td>0.005061</td>\n",
       "      <td>0.017289</td>\n",
       "      <td>0.055976</td>\n",
       "      <td>0</td>\n",
       "      <td>...</td>\n",
       "      <td>0</td>\n",
       "      <td>0</td>\n",
       "      <td>0</td>\n",
       "      <td>0</td>\n",
       "      <td>1</td>\n",
       "      <td>0</td>\n",
       "      <td>0</td>\n",
       "      <td>0</td>\n",
       "      <td>0</td>\n",
       "      <td>0</td>\n",
       "    </tr>\n",
       "    <tr>\n",
       "      <th>11</th>\n",
       "      <td>23205537</td>\n",
       "      <td>2015-08-09 03:13:05</td>\n",
       "      <td>0.001986</td>\n",
       "      <td>0.060268</td>\n",
       "      <td>0.046391</td>\n",
       "      <td>0.178781</td>\n",
       "      <td>0.005143</td>\n",
       "      <td>0.017359</td>\n",
       "      <td>0.062968</td>\n",
       "      <td>0</td>\n",
       "      <td>...</td>\n",
       "      <td>0</td>\n",
       "      <td>0</td>\n",
       "      <td>0</td>\n",
       "      <td>0</td>\n",
       "      <td>1</td>\n",
       "      <td>0</td>\n",
       "      <td>0</td>\n",
       "      <td>0</td>\n",
       "      <td>0</td>\n",
       "      <td>0</td>\n",
       "    </tr>\n",
       "    <tr>\n",
       "      <th>12</th>\n",
       "      <td>23205537</td>\n",
       "      <td>2015-08-09 03:43:06</td>\n",
       "      <td>0.001985</td>\n",
       "      <td>0.066912</td>\n",
       "      <td>0.047293</td>\n",
       "      <td>0.180233</td>\n",
       "      <td>0.005224</td>\n",
       "      <td>0.017416</td>\n",
       "      <td>0.069960</td>\n",
       "      <td>0</td>\n",
       "      <td>...</td>\n",
       "      <td>0</td>\n",
       "      <td>0</td>\n",
       "      <td>0</td>\n",
       "      <td>0</td>\n",
       "      <td>1</td>\n",
       "      <td>0</td>\n",
       "      <td>0</td>\n",
       "      <td>0</td>\n",
       "      <td>0</td>\n",
       "      <td>0</td>\n",
       "    </tr>\n",
       "    <tr>\n",
       "      <th>13</th>\n",
       "      <td>23205537</td>\n",
       "      <td>2015-08-09 04:13:04</td>\n",
       "      <td>0.001984</td>\n",
       "      <td>0.073620</td>\n",
       "      <td>0.045610</td>\n",
       "      <td>0.180621</td>\n",
       "      <td>0.005305</td>\n",
       "      <td>0.017491</td>\n",
       "      <td>0.076948</td>\n",
       "      <td>0</td>\n",
       "      <td>...</td>\n",
       "      <td>0</td>\n",
       "      <td>0</td>\n",
       "      <td>0</td>\n",
       "      <td>0</td>\n",
       "      <td>1</td>\n",
       "      <td>0</td>\n",
       "      <td>0</td>\n",
       "      <td>0</td>\n",
       "      <td>0</td>\n",
       "      <td>0</td>\n",
       "    </tr>\n",
       "    <tr>\n",
       "      <th>14</th>\n",
       "      <td>23205537</td>\n",
       "      <td>2015-08-09 04:43:12</td>\n",
       "      <td>0.001984</td>\n",
       "      <td>0.080328</td>\n",
       "      <td>0.046171</td>\n",
       "      <td>0.184523</td>\n",
       "      <td>0.005413</td>\n",
       "      <td>0.017586</td>\n",
       "      <td>0.083941</td>\n",
       "      <td>0</td>\n",
       "      <td>...</td>\n",
       "      <td>0</td>\n",
       "      <td>0</td>\n",
       "      <td>0</td>\n",
       "      <td>0</td>\n",
       "      <td>1</td>\n",
       "      <td>0</td>\n",
       "      <td>0</td>\n",
       "      <td>0</td>\n",
       "      <td>0</td>\n",
       "      <td>0</td>\n",
       "    </tr>\n",
       "    <tr>\n",
       "      <th>15</th>\n",
       "      <td>23205537</td>\n",
       "      <td>2015-08-09 05:13:06</td>\n",
       "      <td>0.001984</td>\n",
       "      <td>0.087051</td>\n",
       "      <td>0.047213</td>\n",
       "      <td>0.181397</td>\n",
       "      <td>0.005445</td>\n",
       "      <td>0.017646</td>\n",
       "      <td>0.090941</td>\n",
       "      <td>0</td>\n",
       "      <td>...</td>\n",
       "      <td>0</td>\n",
       "      <td>0</td>\n",
       "      <td>0</td>\n",
       "      <td>0</td>\n",
       "      <td>1</td>\n",
       "      <td>0</td>\n",
       "      <td>0</td>\n",
       "      <td>0</td>\n",
       "      <td>0</td>\n",
       "      <td>0</td>\n",
       "    </tr>\n",
       "    <tr>\n",
       "      <th>16</th>\n",
       "      <td>23205537</td>\n",
       "      <td>2015-08-09 05:43:07</td>\n",
       "      <td>0.001992</td>\n",
       "      <td>0.093724</td>\n",
       "      <td>0.050798</td>\n",
       "      <td>0.167782</td>\n",
       "      <td>0.005951</td>\n",
       "      <td>0.018121</td>\n",
       "      <td>0.097934</td>\n",
       "      <td>0</td>\n",
       "      <td>...</td>\n",
       "      <td>0</td>\n",
       "      <td>0</td>\n",
       "      <td>0</td>\n",
       "      <td>0</td>\n",
       "      <td>1</td>\n",
       "      <td>0</td>\n",
       "      <td>0</td>\n",
       "      <td>0</td>\n",
       "      <td>0</td>\n",
       "      <td>0</td>\n",
       "    </tr>\n",
       "    <tr>\n",
       "      <th>17</th>\n",
       "      <td>23205537</td>\n",
       "      <td>2015-08-09 06:13:07</td>\n",
       "      <td>0.001992</td>\n",
       "      <td>0.100372</td>\n",
       "      <td>0.049456</td>\n",
       "      <td>0.171202</td>\n",
       "      <td>0.006086</td>\n",
       "      <td>0.018284</td>\n",
       "      <td>0.104928</td>\n",
       "      <td>0</td>\n",
       "      <td>...</td>\n",
       "      <td>0</td>\n",
       "      <td>0</td>\n",
       "      <td>0</td>\n",
       "      <td>0</td>\n",
       "      <td>1</td>\n",
       "      <td>0</td>\n",
       "      <td>0</td>\n",
       "      <td>0</td>\n",
       "      <td>0</td>\n",
       "      <td>0</td>\n",
       "    </tr>\n",
       "    <tr>\n",
       "      <th>18</th>\n",
       "      <td>23205537</td>\n",
       "      <td>2015-08-09 06:43:37</td>\n",
       "      <td>0.001992</td>\n",
       "      <td>0.107065</td>\n",
       "      <td>0.047553</td>\n",
       "      <td>0.166179</td>\n",
       "      <td>0.006096</td>\n",
       "      <td>0.018286</td>\n",
       "      <td>0.111917</td>\n",
       "      <td>0</td>\n",
       "      <td>...</td>\n",
       "      <td>0</td>\n",
       "      <td>0</td>\n",
       "      <td>0</td>\n",
       "      <td>0</td>\n",
       "      <td>1</td>\n",
       "      <td>0</td>\n",
       "      <td>0</td>\n",
       "      <td>0</td>\n",
       "      <td>0</td>\n",
       "      <td>0</td>\n",
       "    </tr>\n",
       "    <tr>\n",
       "      <th>19</th>\n",
       "      <td>23205537</td>\n",
       "      <td>2015-08-09 07:13:01</td>\n",
       "      <td>0.001993</td>\n",
       "      <td>0.113746</td>\n",
       "      <td>0.046211</td>\n",
       "      <td>0.164824</td>\n",
       "      <td>0.006139</td>\n",
       "      <td>0.018324</td>\n",
       "      <td>0.118889</td>\n",
       "      <td>0</td>\n",
       "      <td>...</td>\n",
       "      <td>0</td>\n",
       "      <td>0</td>\n",
       "      <td>0</td>\n",
       "      <td>0</td>\n",
       "      <td>1</td>\n",
       "      <td>0</td>\n",
       "      <td>0</td>\n",
       "      <td>0</td>\n",
       "      <td>0</td>\n",
       "      <td>0</td>\n",
       "    </tr>\n",
       "    <tr>\n",
       "      <th>20</th>\n",
       "      <td>23205537</td>\n",
       "      <td>2015-08-09 07:43:01</td>\n",
       "      <td>0.001992</td>\n",
       "      <td>0.120386</td>\n",
       "      <td>0.048034</td>\n",
       "      <td>0.173468</td>\n",
       "      <td>0.006229</td>\n",
       "      <td>0.018407</td>\n",
       "      <td>0.125881</td>\n",
       "      <td>0</td>\n",
       "      <td>...</td>\n",
       "      <td>0</td>\n",
       "      <td>0</td>\n",
       "      <td>0</td>\n",
       "      <td>0</td>\n",
       "      <td>1</td>\n",
       "      <td>0</td>\n",
       "      <td>0</td>\n",
       "      <td>0</td>\n",
       "      <td>0</td>\n",
       "      <td>0</td>\n",
       "    </tr>\n",
       "    <tr>\n",
       "      <th>21</th>\n",
       "      <td>23205537</td>\n",
       "      <td>2015-08-09 08:13:01</td>\n",
       "      <td>0.001991</td>\n",
       "      <td>0.127053</td>\n",
       "      <td>0.048415</td>\n",
       "      <td>0.175175</td>\n",
       "      <td>0.006382</td>\n",
       "      <td>0.018573</td>\n",
       "      <td>0.132872</td>\n",
       "      <td>0</td>\n",
       "      <td>...</td>\n",
       "      <td>0</td>\n",
       "      <td>0</td>\n",
       "      <td>0</td>\n",
       "      <td>0</td>\n",
       "      <td>1</td>\n",
       "      <td>0</td>\n",
       "      <td>0</td>\n",
       "      <td>0</td>\n",
       "      <td>0</td>\n",
       "      <td>0</td>\n",
       "    </tr>\n",
       "    <tr>\n",
       "      <th>22</th>\n",
       "      <td>23205537</td>\n",
       "      <td>2015-08-09 08:43:00</td>\n",
       "      <td>0.001990</td>\n",
       "      <td>0.133708</td>\n",
       "      <td>0.049436</td>\n",
       "      <td>0.179178</td>\n",
       "      <td>0.006404</td>\n",
       "      <td>0.018574</td>\n",
       "      <td>0.139864</td>\n",
       "      <td>0</td>\n",
       "      <td>...</td>\n",
       "      <td>0</td>\n",
       "      <td>0</td>\n",
       "      <td>0</td>\n",
       "      <td>0</td>\n",
       "      <td>1</td>\n",
       "      <td>0</td>\n",
       "      <td>0</td>\n",
       "      <td>0</td>\n",
       "      <td>0</td>\n",
       "      <td>0</td>\n",
       "    </tr>\n",
       "    <tr>\n",
       "      <th>23</th>\n",
       "      <td>23205537</td>\n",
       "      <td>2015-08-09 09:13:01</td>\n",
       "      <td>0.001991</td>\n",
       "      <td>0.140427</td>\n",
       "      <td>0.049276</td>\n",
       "      <td>0.177439</td>\n",
       "      <td>0.006552</td>\n",
       "      <td>0.018730</td>\n",
       "      <td>0.146855</td>\n",
       "      <td>0</td>\n",
       "      <td>...</td>\n",
       "      <td>0</td>\n",
       "      <td>0</td>\n",
       "      <td>0</td>\n",
       "      <td>0</td>\n",
       "      <td>1</td>\n",
       "      <td>0</td>\n",
       "      <td>0</td>\n",
       "      <td>0</td>\n",
       "      <td>0</td>\n",
       "      <td>0</td>\n",
       "    </tr>\n",
       "    <tr>\n",
       "      <th>24</th>\n",
       "      <td>23205537</td>\n",
       "      <td>2015-08-09 09:43:00</td>\n",
       "      <td>0.001991</td>\n",
       "      <td>0.147048</td>\n",
       "      <td>0.046972</td>\n",
       "      <td>0.179405</td>\n",
       "      <td>0.006565</td>\n",
       "      <td>0.018731</td>\n",
       "      <td>0.153847</td>\n",
       "      <td>0</td>\n",
       "      <td>...</td>\n",
       "      <td>0</td>\n",
       "      <td>0</td>\n",
       "      <td>0</td>\n",
       "      <td>0</td>\n",
       "      <td>1</td>\n",
       "      <td>0</td>\n",
       "      <td>0</td>\n",
       "      <td>0</td>\n",
       "      <td>0</td>\n",
       "      <td>0</td>\n",
       "    </tr>\n",
       "    <tr>\n",
       "      <th>25</th>\n",
       "      <td>23205537</td>\n",
       "      <td>2015-08-09 10:12:59</td>\n",
       "      <td>0.001990</td>\n",
       "      <td>0.153669</td>\n",
       "      <td>0.048535</td>\n",
       "      <td>0.183959</td>\n",
       "      <td>0.006621</td>\n",
       "      <td>0.018784</td>\n",
       "      <td>0.160838</td>\n",
       "      <td>0</td>\n",
       "      <td>...</td>\n",
       "      <td>0</td>\n",
       "      <td>0</td>\n",
       "      <td>0</td>\n",
       "      <td>0</td>\n",
       "      <td>1</td>\n",
       "      <td>0</td>\n",
       "      <td>0</td>\n",
       "      <td>0</td>\n",
       "      <td>0</td>\n",
       "      <td>0</td>\n",
       "    </tr>\n",
       "    <tr>\n",
       "      <th>26</th>\n",
       "      <td>23205537</td>\n",
       "      <td>2015-08-09 10:42:59</td>\n",
       "      <td>0.001990</td>\n",
       "      <td>0.160358</td>\n",
       "      <td>0.049837</td>\n",
       "      <td>0.185554</td>\n",
       "      <td>0.006641</td>\n",
       "      <td>0.018805</td>\n",
       "      <td>0.167831</td>\n",
       "      <td>0</td>\n",
       "      <td>...</td>\n",
       "      <td>0</td>\n",
       "      <td>0</td>\n",
       "      <td>0</td>\n",
       "      <td>0</td>\n",
       "      <td>1</td>\n",
       "      <td>0</td>\n",
       "      <td>0</td>\n",
       "      <td>0</td>\n",
       "      <td>0</td>\n",
       "      <td>0</td>\n",
       "    </tr>\n",
       "    <tr>\n",
       "      <th>27</th>\n",
       "      <td>23205537</td>\n",
       "      <td>2015-08-09 11:13:00</td>\n",
       "      <td>0.001989</td>\n",
       "      <td>0.167062</td>\n",
       "      <td>0.049296</td>\n",
       "      <td>0.166836</td>\n",
       "      <td>0.006694</td>\n",
       "      <td>0.018859</td>\n",
       "      <td>0.174825</td>\n",
       "      <td>0</td>\n",
       "      <td>...</td>\n",
       "      <td>0</td>\n",
       "      <td>0</td>\n",
       "      <td>0</td>\n",
       "      <td>0</td>\n",
       "      <td>1</td>\n",
       "      <td>0</td>\n",
       "      <td>0</td>\n",
       "      <td>0</td>\n",
       "      <td>0</td>\n",
       "      <td>0</td>\n",
       "    </tr>\n",
       "    <tr>\n",
       "      <th>28</th>\n",
       "      <td>23205537</td>\n",
       "      <td>2015-08-09 11:42:59</td>\n",
       "      <td>0.001989</td>\n",
       "      <td>0.173766</td>\n",
       "      <td>0.045871</td>\n",
       "      <td>0.166647</td>\n",
       "      <td>0.006770</td>\n",
       "      <td>0.018931</td>\n",
       "      <td>0.181814</td>\n",
       "      <td>0</td>\n",
       "      <td>...</td>\n",
       "      <td>0</td>\n",
       "      <td>0</td>\n",
       "      <td>0</td>\n",
       "      <td>0</td>\n",
       "      <td>1</td>\n",
       "      <td>0</td>\n",
       "      <td>0</td>\n",
       "      <td>0</td>\n",
       "      <td>0</td>\n",
       "      <td>0</td>\n",
       "    </tr>\n",
       "    <tr>\n",
       "      <th>29</th>\n",
       "      <td>23205539</td>\n",
       "      <td>2015-08-08 22:50:06</td>\n",
       "      <td>0.000498</td>\n",
       "      <td>0.000008</td>\n",
       "      <td>0.022835</td>\n",
       "      <td>0.089497</td>\n",
       "      <td>0.000295</td>\n",
       "      <td>0.002542</td>\n",
       "      <td>0.000002</td>\n",
       "      <td>0</td>\n",
       "      <td>...</td>\n",
       "      <td>0</td>\n",
       "      <td>0</td>\n",
       "      <td>0</td>\n",
       "      <td>0</td>\n",
       "      <td>1</td>\n",
       "      <td>0</td>\n",
       "      <td>0</td>\n",
       "      <td>0</td>\n",
       "      <td>0</td>\n",
       "      <td>0</td>\n",
       "    </tr>\n",
       "    <tr>\n",
       "      <th>30</th>\n",
       "      <td>23205539</td>\n",
       "      <td>2015-08-08 23:20:07</td>\n",
       "      <td>0.000497</td>\n",
       "      <td>0.005948</td>\n",
       "      <td>0.027002</td>\n",
       "      <td>0.097032</td>\n",
       "      <td>0.004706</td>\n",
       "      <td>0.012162</td>\n",
       "      <td>0.007001</td>\n",
       "      <td>0</td>\n",
       "      <td>...</td>\n",
       "      <td>0</td>\n",
       "      <td>0</td>\n",
       "      <td>0</td>\n",
       "      <td>0</td>\n",
       "      <td>1</td>\n",
       "      <td>0</td>\n",
       "      <td>0</td>\n",
       "      <td>0</td>\n",
       "      <td>0</td>\n",
       "      <td>0</td>\n",
       "    </tr>\n",
       "    <tr>\n",
       "      <th>31</th>\n",
       "      <td>23205539</td>\n",
       "      <td>2015-08-08 23:50:08</td>\n",
       "      <td>0.000497</td>\n",
       "      <td>0.012257</td>\n",
       "      <td>0.026581</td>\n",
       "      <td>0.094595</td>\n",
       "      <td>0.004929</td>\n",
       "      <td>0.012389</td>\n",
       "      <td>0.013993</td>\n",
       "      <td>0</td>\n",
       "      <td>...</td>\n",
       "      <td>0</td>\n",
       "      <td>0</td>\n",
       "      <td>0</td>\n",
       "      <td>0</td>\n",
       "      <td>1</td>\n",
       "      <td>0</td>\n",
       "      <td>0</td>\n",
       "      <td>0</td>\n",
       "      <td>0</td>\n",
       "      <td>0</td>\n",
       "    </tr>\n",
       "    <tr>\n",
       "      <th>32</th>\n",
       "      <td>23205539</td>\n",
       "      <td>2015-08-09 00:20:09</td>\n",
       "      <td>0.000497</td>\n",
       "      <td>0.019032</td>\n",
       "      <td>0.026200</td>\n",
       "      <td>0.095478</td>\n",
       "      <td>0.005136</td>\n",
       "      <td>0.012597</td>\n",
       "      <td>0.020992</td>\n",
       "      <td>0</td>\n",
       "      <td>...</td>\n",
       "      <td>0</td>\n",
       "      <td>0</td>\n",
       "      <td>0</td>\n",
       "      <td>0</td>\n",
       "      <td>1</td>\n",
       "      <td>0</td>\n",
       "      <td>0</td>\n",
       "      <td>0</td>\n",
       "      <td>0</td>\n",
       "      <td>0</td>\n",
       "    </tr>\n",
       "    <tr>\n",
       "      <th>33</th>\n",
       "      <td>23205539</td>\n",
       "      <td>2015-08-09 00:50:10</td>\n",
       "      <td>0.000497</td>\n",
       "      <td>0.025793</td>\n",
       "      <td>0.024217</td>\n",
       "      <td>0.096853</td>\n",
       "      <td>0.005286</td>\n",
       "      <td>0.013117</td>\n",
       "      <td>0.027987</td>\n",
       "      <td>0</td>\n",
       "      <td>...</td>\n",
       "      <td>0</td>\n",
       "      <td>0</td>\n",
       "      <td>0</td>\n",
       "      <td>0</td>\n",
       "      <td>1</td>\n",
       "      <td>0</td>\n",
       "      <td>0</td>\n",
       "      <td>0</td>\n",
       "      <td>0</td>\n",
       "      <td>0</td>\n",
       "    </tr>\n",
       "    <tr>\n",
       "      <th>34</th>\n",
       "      <td>23205539</td>\n",
       "      <td>2015-08-09 01:20:07</td>\n",
       "      <td>0.000497</td>\n",
       "      <td>0.032553</td>\n",
       "      <td>0.024057</td>\n",
       "      <td>0.094305</td>\n",
       "      <td>0.005462</td>\n",
       "      <td>0.013289</td>\n",
       "      <td>0.034971</td>\n",
       "      <td>0</td>\n",
       "      <td>...</td>\n",
       "      <td>0</td>\n",
       "      <td>0</td>\n",
       "      <td>0</td>\n",
       "      <td>0</td>\n",
       "      <td>1</td>\n",
       "      <td>0</td>\n",
       "      <td>0</td>\n",
       "      <td>0</td>\n",
       "      <td>0</td>\n",
       "      <td>0</td>\n",
       "    </tr>\n",
       "    <tr>\n",
       "      <th>35</th>\n",
       "      <td>23205539</td>\n",
       "      <td>2015-08-09 01:50:07</td>\n",
       "      <td>0.000497</td>\n",
       "      <td>0.039325</td>\n",
       "      <td>0.024137</td>\n",
       "      <td>0.095746</td>\n",
       "      <td>0.005605</td>\n",
       "      <td>0.013430</td>\n",
       "      <td>0.041964</td>\n",
       "      <td>0</td>\n",
       "      <td>...</td>\n",
       "      <td>0</td>\n",
       "      <td>0</td>\n",
       "      <td>0</td>\n",
       "      <td>0</td>\n",
       "      <td>1</td>\n",
       "      <td>0</td>\n",
       "      <td>0</td>\n",
       "      <td>0</td>\n",
       "      <td>0</td>\n",
       "      <td>0</td>\n",
       "    </tr>\n",
       "    <tr>\n",
       "      <th>36</th>\n",
       "      <td>23205539</td>\n",
       "      <td>2015-08-09 02:20:08</td>\n",
       "      <td>0.000497</td>\n",
       "      <td>0.046097</td>\n",
       "      <td>0.024257</td>\n",
       "      <td>0.097337</td>\n",
       "      <td>0.006186</td>\n",
       "      <td>0.013996</td>\n",
       "      <td>0.048958</td>\n",
       "      <td>0</td>\n",
       "      <td>...</td>\n",
       "      <td>0</td>\n",
       "      <td>0</td>\n",
       "      <td>0</td>\n",
       "      <td>0</td>\n",
       "      <td>1</td>\n",
       "      <td>0</td>\n",
       "      <td>0</td>\n",
       "      <td>0</td>\n",
       "      <td>0</td>\n",
       "      <td>0</td>\n",
       "    </tr>\n",
       "    <tr>\n",
       "      <th>37</th>\n",
       "      <td>23205539</td>\n",
       "      <td>2015-08-09 02:50:07</td>\n",
       "      <td>0.000497</td>\n",
       "      <td>0.052812</td>\n",
       "      <td>0.025279</td>\n",
       "      <td>0.097736</td>\n",
       "      <td>0.006046</td>\n",
       "      <td>0.014153</td>\n",
       "      <td>0.055949</td>\n",
       "      <td>0</td>\n",
       "      <td>...</td>\n",
       "      <td>0</td>\n",
       "      <td>0</td>\n",
       "      <td>0</td>\n",
       "      <td>0</td>\n",
       "      <td>1</td>\n",
       "      <td>0</td>\n",
       "      <td>0</td>\n",
       "      <td>0</td>\n",
       "      <td>0</td>\n",
       "      <td>0</td>\n",
       "    </tr>\n",
       "    <tr>\n",
       "      <th>38</th>\n",
       "      <td>23205539</td>\n",
       "      <td>2015-08-09 03:20:07</td>\n",
       "      <td>0.000497</td>\n",
       "      <td>0.059283</td>\n",
       "      <td>0.026180</td>\n",
       "      <td>0.096338</td>\n",
       "      <td>0.006208</td>\n",
       "      <td>0.014286</td>\n",
       "      <td>0.062941</td>\n",
       "      <td>0</td>\n",
       "      <td>...</td>\n",
       "      <td>0</td>\n",
       "      <td>0</td>\n",
       "      <td>0</td>\n",
       "      <td>0</td>\n",
       "      <td>1</td>\n",
       "      <td>0</td>\n",
       "      <td>0</td>\n",
       "      <td>0</td>\n",
       "      <td>0</td>\n",
       "      <td>0</td>\n",
       "    </tr>\n",
       "    <tr>\n",
       "      <th>39</th>\n",
       "      <td>23205539</td>\n",
       "      <td>2015-08-09 03:50:08</td>\n",
       "      <td>0.000497</td>\n",
       "      <td>0.065174</td>\n",
       "      <td>0.026481</td>\n",
       "      <td>0.097492</td>\n",
       "      <td>0.006331</td>\n",
       "      <td>0.014404</td>\n",
       "      <td>0.069936</td>\n",
       "      <td>0</td>\n",
       "      <td>...</td>\n",
       "      <td>0</td>\n",
       "      <td>0</td>\n",
       "      <td>0</td>\n",
       "      <td>0</td>\n",
       "      <td>1</td>\n",
       "      <td>0</td>\n",
       "      <td>0</td>\n",
       "      <td>0</td>\n",
       "      <td>0</td>\n",
       "      <td>0</td>\n",
       "    </tr>\n",
       "    <tr>\n",
       "      <th>40</th>\n",
       "      <td>23205539</td>\n",
       "      <td>2015-08-09 04:20:08</td>\n",
       "      <td>0.000498</td>\n",
       "      <td>0.071920</td>\n",
       "      <td>0.022435</td>\n",
       "      <td>0.091498</td>\n",
       "      <td>0.006507</td>\n",
       "      <td>0.014603</td>\n",
       "      <td>0.076926</td>\n",
       "      <td>0</td>\n",
       "      <td>...</td>\n",
       "      <td>0</td>\n",
       "      <td>0</td>\n",
       "      <td>0</td>\n",
       "      <td>0</td>\n",
       "      <td>1</td>\n",
       "      <td>0</td>\n",
       "      <td>0</td>\n",
       "      <td>0</td>\n",
       "      <td>0</td>\n",
       "      <td>0</td>\n",
       "    </tr>\n",
       "  </tbody>\n",
       "</table>\n",
       "<p>40 rows × 330 columns</p>\n",
       "</div>"
      ],
      "text/plain": [
       "       JobID       HeartBeatTime  AvailableDiskSpace  CPUConsumed  \\\n",
       "0   23140766 2015-08-07 13:13:48            0.002636     0.000038   \n",
       "2   23205537 2015-08-08 22:43:00            0.001988     0.000034   \n",
       "3   23205537 2015-08-08 23:13:00            0.001989     0.006538   \n",
       "4   23205537 2015-08-08 23:42:58            0.001988     0.013265   \n",
       "5   23205537 2015-08-09 00:12:58            0.001987     0.019980   \n",
       "6   23205537 2015-08-09 00:42:58            0.001987     0.026666   \n",
       "7   23205537 2015-08-09 01:13:08            0.001986     0.033426   \n",
       "8   23205537 2015-08-09 01:43:07            0.001986     0.040138   \n",
       "9   23205537 2015-08-09 02:13:06            0.001986     0.046834   \n",
       "10  23205537 2015-08-09 02:43:06            0.001986     0.053553   \n",
       "11  23205537 2015-08-09 03:13:05            0.001986     0.060268   \n",
       "12  23205537 2015-08-09 03:43:06            0.001985     0.066912   \n",
       "13  23205537 2015-08-09 04:13:04            0.001984     0.073620   \n",
       "14  23205537 2015-08-09 04:43:12            0.001984     0.080328   \n",
       "15  23205537 2015-08-09 05:13:06            0.001984     0.087051   \n",
       "16  23205537 2015-08-09 05:43:07            0.001992     0.093724   \n",
       "17  23205537 2015-08-09 06:13:07            0.001992     0.100372   \n",
       "18  23205537 2015-08-09 06:43:37            0.001992     0.107065   \n",
       "19  23205537 2015-08-09 07:13:01            0.001993     0.113746   \n",
       "20  23205537 2015-08-09 07:43:01            0.001992     0.120386   \n",
       "21  23205537 2015-08-09 08:13:01            0.001991     0.127053   \n",
       "22  23205537 2015-08-09 08:43:00            0.001990     0.133708   \n",
       "23  23205537 2015-08-09 09:13:01            0.001991     0.140427   \n",
       "24  23205537 2015-08-09 09:43:00            0.001991     0.147048   \n",
       "25  23205537 2015-08-09 10:12:59            0.001990     0.153669   \n",
       "26  23205537 2015-08-09 10:42:59            0.001990     0.160358   \n",
       "27  23205537 2015-08-09 11:13:00            0.001989     0.167062   \n",
       "28  23205537 2015-08-09 11:42:59            0.001989     0.173766   \n",
       "29  23205539 2015-08-08 22:50:06            0.000498     0.000008   \n",
       "30  23205539 2015-08-08 23:20:07            0.000497     0.005948   \n",
       "31  23205539 2015-08-08 23:50:08            0.000497     0.012257   \n",
       "32  23205539 2015-08-09 00:20:09            0.000497     0.019032   \n",
       "33  23205539 2015-08-09 00:50:10            0.000497     0.025793   \n",
       "34  23205539 2015-08-09 01:20:07            0.000497     0.032553   \n",
       "35  23205539 2015-08-09 01:50:07            0.000497     0.039325   \n",
       "36  23205539 2015-08-09 02:20:08            0.000497     0.046097   \n",
       "37  23205539 2015-08-09 02:50:07            0.000497     0.052812   \n",
       "38  23205539 2015-08-09 03:20:07            0.000497     0.059283   \n",
       "39  23205539 2015-08-09 03:50:08            0.000497     0.065174   \n",
       "40  23205539 2015-08-09 04:20:08            0.000498     0.071920   \n",
       "\n",
       "    LoadAverage  MemoryUsed       RSS     Vsize  WallClockTime  \\\n",
       "0      0.044108    0.136685  0.000662  0.008532       0.000011   \n",
       "2      0.044008    0.165861  0.000307  0.004443       0.000012   \n",
       "3      0.046071    0.168159  0.004379  0.015867       0.007003   \n",
       "4      0.048174    0.170563  0.004573  0.016791       0.013992   \n",
       "5      0.046031    0.173202  0.004698  0.016862       0.020984   \n",
       "6      0.046572    0.175709  0.004822  0.016965       0.027975   \n",
       "7      0.047393    0.177224  0.004966  0.017103       0.035006   \n",
       "8      0.048895    0.178742  0.004970  0.017105       0.041997   \n",
       "9      0.044348    0.174502  0.005003  0.017219       0.048986   \n",
       "10     0.044108    0.176460  0.005061  0.017289       0.055976   \n",
       "11     0.046391    0.178781  0.005143  0.017359       0.062968   \n",
       "12     0.047293    0.180233  0.005224  0.017416       0.069960   \n",
       "13     0.045610    0.180621  0.005305  0.017491       0.076948   \n",
       "14     0.046171    0.184523  0.005413  0.017586       0.083941   \n",
       "15     0.047213    0.181397  0.005445  0.017646       0.090941   \n",
       "16     0.050798    0.167782  0.005951  0.018121       0.097934   \n",
       "17     0.049456    0.171202  0.006086  0.018284       0.104928   \n",
       "18     0.047553    0.166179  0.006096  0.018286       0.111917   \n",
       "19     0.046211    0.164824  0.006139  0.018324       0.118889   \n",
       "20     0.048034    0.173468  0.006229  0.018407       0.125881   \n",
       "21     0.048415    0.175175  0.006382  0.018573       0.132872   \n",
       "22     0.049436    0.179178  0.006404  0.018574       0.139864   \n",
       "23     0.049276    0.177439  0.006552  0.018730       0.146855   \n",
       "24     0.046972    0.179405  0.006565  0.018731       0.153847   \n",
       "25     0.048535    0.183959  0.006621  0.018784       0.160838   \n",
       "26     0.049837    0.185554  0.006641  0.018805       0.167831   \n",
       "27     0.049296    0.166836  0.006694  0.018859       0.174825   \n",
       "28     0.045871    0.166647  0.006770  0.018931       0.181814   \n",
       "29     0.022835    0.089497  0.000295  0.002542       0.000002   \n",
       "30     0.027002    0.097032  0.004706  0.012162       0.007001   \n",
       "31     0.026581    0.094595  0.004929  0.012389       0.013993   \n",
       "32     0.026200    0.095478  0.005136  0.012597       0.020992   \n",
       "33     0.024217    0.096853  0.005286  0.013117       0.027987   \n",
       "34     0.024057    0.094305  0.005462  0.013289       0.034971   \n",
       "35     0.024137    0.095746  0.005605  0.013430       0.041964   \n",
       "36     0.024257    0.097337  0.006186  0.013996       0.048958   \n",
       "37     0.025279    0.097736  0.006046  0.014153       0.055949   \n",
       "38     0.026180    0.096338  0.006208  0.014286       0.062941   \n",
       "39     0.026481    0.097492  0.006331  0.014404       0.069936   \n",
       "40     0.022435    0.091498  0.006507  0.014603       0.076926   \n",
       "\n",
       "    RescheduleCounter       ...         Site_LCG.Torino.it  \\\n",
       "0                   0       ...                          0   \n",
       "2                   0       ...                          0   \n",
       "3                   0       ...                          0   \n",
       "4                   0       ...                          0   \n",
       "5                   0       ...                          0   \n",
       "6                   0       ...                          0   \n",
       "7                   0       ...                          0   \n",
       "8                   0       ...                          0   \n",
       "9                   0       ...                          0   \n",
       "10                  0       ...                          0   \n",
       "11                  0       ...                          0   \n",
       "12                  0       ...                          0   \n",
       "13                  0       ...                          0   \n",
       "14                  0       ...                          0   \n",
       "15                  0       ...                          0   \n",
       "16                  0       ...                          0   \n",
       "17                  0       ...                          0   \n",
       "18                  0       ...                          0   \n",
       "19                  0       ...                          0   \n",
       "20                  0       ...                          0   \n",
       "21                  0       ...                          0   \n",
       "22                  0       ...                          0   \n",
       "23                  0       ...                          0   \n",
       "24                  0       ...                          0   \n",
       "25                  0       ...                          0   \n",
       "26                  0       ...                          0   \n",
       "27                  0       ...                          0   \n",
       "28                  0       ...                          0   \n",
       "29                  0       ...                          0   \n",
       "30                  0       ...                          0   \n",
       "31                  0       ...                          0   \n",
       "32                  0       ...                          0   \n",
       "33                  0       ...                          0   \n",
       "34                  0       ...                          0   \n",
       "35                  0       ...                          0   \n",
       "36                  0       ...                          0   \n",
       "37                  0       ...                          0   \n",
       "38                  0       ...                          0   \n",
       "39                  0       ...                          0   \n",
       "40                  0       ...                          0   \n",
       "\n",
       "    Site_LCG.ULAKBIM.tr  Site_Multiple  Site_SSH.KMI.jp  Status_Failed  \\\n",
       "0                     0              0                0              1   \n",
       "2                     0              0                0              1   \n",
       "3                     0              0                0              1   \n",
       "4                     0              0                0              1   \n",
       "5                     0              0                0              1   \n",
       "6                     0              0                0              1   \n",
       "7                     0              0                0              1   \n",
       "8                     0              0                0              1   \n",
       "9                     0              0                0              1   \n",
       "10                    0              0                0              1   \n",
       "11                    0              0                0              1   \n",
       "12                    0              0                0              1   \n",
       "13                    0              0                0              1   \n",
       "14                    0              0                0              1   \n",
       "15                    0              0                0              1   \n",
       "16                    0              0                0              1   \n",
       "17                    0              0                0              1   \n",
       "18                    0              0                0              1   \n",
       "19                    0              0                0              1   \n",
       "20                    0              0                0              1   \n",
       "21                    0              0                0              1   \n",
       "22                    0              0                0              1   \n",
       "23                    0              0                0              1   \n",
       "24                    0              0                0              1   \n",
       "25                    0              0                0              1   \n",
       "26                    0              0                0              1   \n",
       "27                    0              0                0              1   \n",
       "28                    0              0                0              1   \n",
       "29                    0              0                0              1   \n",
       "30                    0              0                0              1   \n",
       "31                    0              0                0              1   \n",
       "32                    0              0                0              1   \n",
       "33                    0              0                0              1   \n",
       "34                    0              0                0              1   \n",
       "35                    0              0                0              1   \n",
       "36                    0              0                0              1   \n",
       "37                    0              0                0              1   \n",
       "38                    0              0                0              1   \n",
       "39                    0              0                0              1   \n",
       "40                    0              0                0              1   \n",
       "\n",
       "    UserPriority_2  UserPriority_3  UserPriority_5  UserPriority_9  \\\n",
       "0                0               0               0               0   \n",
       "2                0               0               0               0   \n",
       "3                0               0               0               0   \n",
       "4                0               0               0               0   \n",
       "5                0               0               0               0   \n",
       "6                0               0               0               0   \n",
       "7                0               0               0               0   \n",
       "8                0               0               0               0   \n",
       "9                0               0               0               0   \n",
       "10               0               0               0               0   \n",
       "11               0               0               0               0   \n",
       "12               0               0               0               0   \n",
       "13               0               0               0               0   \n",
       "14               0               0               0               0   \n",
       "15               0               0               0               0   \n",
       "16               0               0               0               0   \n",
       "17               0               0               0               0   \n",
       "18               0               0               0               0   \n",
       "19               0               0               0               0   \n",
       "20               0               0               0               0   \n",
       "21               0               0               0               0   \n",
       "22               0               0               0               0   \n",
       "23               0               0               0               0   \n",
       "24               0               0               0               0   \n",
       "25               0               0               0               0   \n",
       "26               0               0               0               0   \n",
       "27               0               0               0               0   \n",
       "28               0               0               0               0   \n",
       "29               0               0               0               0   \n",
       "30               0               0               0               0   \n",
       "31               0               0               0               0   \n",
       "32               0               0               0               0   \n",
       "33               0               0               0               0   \n",
       "34               0               0               0               0   \n",
       "35               0               0               0               0   \n",
       "36               0               0               0               0   \n",
       "37               0               0               0               0   \n",
       "38               0               0               0               0   \n",
       "39               0               0               0               0   \n",
       "40               0               0               0               0   \n",
       "\n",
       "    UserPriority_10  \n",
       "0                 0  \n",
       "2                 0  \n",
       "3                 0  \n",
       "4                 0  \n",
       "5                 0  \n",
       "6                 0  \n",
       "7                 0  \n",
       "8                 0  \n",
       "9                 0  \n",
       "10                0  \n",
       "11                0  \n",
       "12                0  \n",
       "13                0  \n",
       "14                0  \n",
       "15                0  \n",
       "16                0  \n",
       "17                0  \n",
       "18                0  \n",
       "19                0  \n",
       "20                0  \n",
       "21                0  \n",
       "22                0  \n",
       "23                0  \n",
       "24                0  \n",
       "25                0  \n",
       "26                0  \n",
       "27                0  \n",
       "28                0  \n",
       "29                0  \n",
       "30                0  \n",
       "31                0  \n",
       "32                0  \n",
       "33                0  \n",
       "34                0  \n",
       "35                0  \n",
       "36                0  \n",
       "37                0  \n",
       "38                0  \n",
       "39                0  \n",
       "40                0  \n",
       "\n",
       "[40 rows x 330 columns]"
      ]
     },
     "execution_count": 257,
     "metadata": {},
     "output_type": "execute_result"
    }
   ],
   "source": [
    "takeoutdf.head(40)"
   ]
  },
  {
   "cell_type": "code",
   "execution_count": 167,
   "metadata": {},
   "outputs": [
    {
     "data": {
      "text/plain": [
       "(27, 1, 65)"
      ]
     },
     "execution_count": 167,
     "metadata": {},
     "output_type": "execute_result"
    }
   ],
   "source": [
    "collectXtest.tolist()[100].shape"
   ]
  },
  {
   "cell_type": "markdown",
   "metadata": {},
   "source": [
    "### Unpack X_test"
   ]
  },
  {
   "cell_type": "code",
   "execution_count": 168,
   "metadata": {
    "collapsed": true
   },
   "outputs": [],
   "source": [
    "X_test=[]"
   ]
  },
  {
   "cell_type": "code",
   "execution_count": 169,
   "metadata": {},
   "outputs": [
    {
     "name": "stdout",
     "output_type": "stream",
     "text": [
      "CPU times: user 1.29 s, sys: 164 ms, total: 1.45 s\n",
      "Wall time: 1.45 s\n"
     ]
    }
   ],
   "source": [
    "%%time\n",
    "for x in collectXtest:\n",
    "    #len(x)\n",
    "    for i in x:\n",
    "        X_test.append(i)"
   ]
  },
  {
   "cell_type": "code",
   "execution_count": 170,
   "metadata": {},
   "outputs": [
    {
     "data": {
      "text/plain": [
       "(2368345, 1, 65)"
      ]
     },
     "execution_count": 170,
     "metadata": {},
     "output_type": "execute_result"
    }
   ],
   "source": [
    "X_test = np.array(X_test)\n",
    "X_test.shape"
   ]
  },
  {
   "cell_type": "code",
   "execution_count": 171,
   "metadata": {
    "collapsed": true
   },
   "outputs": [],
   "source": [
    "## X_test is ready"
   ]
  },
  {
   "cell_type": "markdown",
   "metadata": {},
   "source": [
    "### Make Y_test"
   ]
  },
  {
   "cell_type": "code",
   "execution_count": 172,
   "metadata": {},
   "outputs": [
    {
     "name": "stdout",
     "output_type": "stream",
     "text": [
      "CPU times: user 22min 8s, sys: 14.4 s, total: 22min 23s\n",
      "Wall time: 22min 25s\n"
     ]
    }
   ],
   "source": [
    "%%time\n",
    "collectlabel = takeoutdfgrouped.apply(samples_label)"
   ]
  },
  {
   "cell_type": "code",
   "execution_count": 279,
   "metadata": {},
   "outputs": [
    {
     "data": {
      "text/plain": [
       "array([[[1]],\n",
       "\n",
       "       [[1]],\n",
       "\n",
       "       [[1]],\n",
       "\n",
       "       [[1]],\n",
       "\n",
       "       [[1]],\n",
       "\n",
       "       [[1]],\n",
       "\n",
       "       [[1]],\n",
       "\n",
       "       [[1]],\n",
       "\n",
       "       [[1]],\n",
       "\n",
       "       [[1]],\n",
       "\n",
       "       [[1]],\n",
       "\n",
       "       [[1]],\n",
       "\n",
       "       [[1]],\n",
       "\n",
       "       [[1]],\n",
       "\n",
       "       [[1]],\n",
       "\n",
       "       [[1]],\n",
       "\n",
       "       [[1]],\n",
       "\n",
       "       [[1]],\n",
       "\n",
       "       [[1]],\n",
       "\n",
       "       [[1]],\n",
       "\n",
       "       [[1]],\n",
       "\n",
       "       [[1]],\n",
       "\n",
       "       [[1]],\n",
       "\n",
       "       [[1]],\n",
       "\n",
       "       [[1]],\n",
       "\n",
       "       [[1]],\n",
       "\n",
       "       [[1]]])"
      ]
     },
     "execution_count": 279,
     "metadata": {},
     "output_type": "execute_result"
    }
   ],
   "source": [
    "collectlabel.tolist()[100]"
   ]
  },
  {
   "cell_type": "code",
   "execution_count": 174,
   "metadata": {
    "collapsed": true
   },
   "outputs": [],
   "source": [
    "with open('large_collectlabel.pickle', 'wb') as handle:\n",
    "    pickle.dump(collectlabel, handle, protocol=pickle.HIGHEST_PROTOCOL)"
   ]
  },
  {
   "cell_type": "markdown",
   "metadata": {},
   "source": [
    "### Unpack Y_test"
   ]
  },
  {
   "cell_type": "code",
   "execution_count": 175,
   "metadata": {
    "collapsed": true
   },
   "outputs": [],
   "source": [
    "Y_t=[]"
   ]
  },
  {
   "cell_type": "code",
   "execution_count": 176,
   "metadata": {},
   "outputs": [
    {
     "name": "stdout",
     "output_type": "stream",
     "text": [
      "CPU times: user 1.3 s, sys: 63.9 ms, total: 1.36 s\n",
      "Wall time: 1.36 s\n"
     ]
    }
   ],
   "source": [
    "%%time\n",
    "for x in collectlabel:\n",
    "    #len(x)\n",
    "    for i in x:\n",
    "        Y_t.append(i)"
   ]
  },
  {
   "cell_type": "code",
   "execution_count": 177,
   "metadata": {},
   "outputs": [
    {
     "data": {
      "text/plain": [
       "(2368345, 1, 1)"
      ]
     },
     "execution_count": 177,
     "metadata": {},
     "output_type": "execute_result"
    }
   ],
   "source": [
    "Y_t = np.array(Y_t)\n",
    "Y_t.shape"
   ]
  },
  {
   "cell_type": "code",
   "execution_count": 178,
   "metadata": {},
   "outputs": [
    {
     "data": {
      "text/plain": [
       "(2368345, 1)"
      ]
     },
     "execution_count": 178,
     "metadata": {},
     "output_type": "execute_result"
    }
   ],
   "source": [
    "Y_test = np.array([x[0][0] for x in Y_t]).reshape(len(Y_t),1)\n",
    "Y_test.shape"
   ]
  },
  {
   "cell_type": "code",
   "execution_count": 179,
   "metadata": {
    "scrolled": true
   },
   "outputs": [
    {
     "data": {
      "text/plain": [
       "array([[1],\n",
       "       [1],\n",
       "       [1],\n",
       "       [1],\n",
       "       [1]])"
      ]
     },
     "execution_count": 179,
     "metadata": {},
     "output_type": "execute_result"
    }
   ],
   "source": [
    "Y_test[:5]"
   ]
  },
  {
   "cell_type": "code",
   "execution_count": 180,
   "metadata": {
    "collapsed": true
   },
   "outputs": [],
   "source": [
    "## Y_test is ready"
   ]
  },
  {
   "cell_type": "code",
   "execution_count": 181,
   "metadata": {},
   "outputs": [
    {
     "data": {
      "text/plain": [
       "((2368345, 1, 65), (2368345, 1))"
      ]
     },
     "execution_count": 181,
     "metadata": {},
     "output_type": "execute_result"
    }
   ],
   "source": [
    "X_test.shape, Y_test.shape"
   ]
  },
  {
   "cell_type": "code",
   "execution_count": 182,
   "metadata": {},
   "outputs": [
    {
     "data": {
      "text/plain": [
       "((2373924, 1, 65), (2373924, 1))"
      ]
     },
     "execution_count": 182,
     "metadata": {},
     "output_type": "execute_result"
    }
   ],
   "source": [
    "X_final.shape, Y_final.shape"
   ]
  },
  {
   "cell_type": "code",
   "execution_count": 183,
   "metadata": {},
   "outputs": [
    {
     "data": {
      "text/plain": [
       "(array([730235]), 2368345)"
      ]
     },
     "execution_count": 183,
     "metadata": {},
     "output_type": "execute_result"
    }
   ],
   "source": [
    "sum(Y_test[:]), len(Y_test)"
   ]
  },
  {
   "cell_type": "code",
   "execution_count": 184,
   "metadata": {
    "collapsed": true
   },
   "outputs": [],
   "source": [
    "del Y_t"
   ]
  },
  {
   "cell_type": "markdown",
   "metadata": {},
   "source": [
    "# End test set from 'takeoutdf'"
   ]
  },
  {
   "cell_type": "markdown",
   "metadata": {},
   "source": [
    "## Build Model"
   ]
  },
  {
   "cell_type": "code",
   "execution_count": 185,
   "metadata": {
    "collapsed": true
   },
   "outputs": [],
   "source": [
    "input_length = X_final.shape[1]\n",
    "\n",
    "input_dim = X_final.shape[2]\n",
    "\n",
    "# Output dimensions is the shape of a single output vector\n",
    "# In this case it's just 1, but it could be more\n",
    "output_dim = len(Y_final[0])"
   ]
  },
  {
   "cell_type": "code",
   "execution_count": 186,
   "metadata": {
    "collapsed": true
   },
   "outputs": [],
   "source": [
    "# NO NEED TO SPLIT, SINCE TESTING WILL OCCUR ON leftoutdf taken out earlier\n",
    "\n",
    "#from sklearn.model_selection import train_test_split\n",
    "\n",
    "#X_train,X_test,y_train,y_test = train_test_split(X_final,Y_final,test_size=0.33,random_state=24)"
   ]
  },
  {
   "cell_type": "code",
   "execution_count": 187,
   "metadata": {
    "collapsed": true
   },
   "outputs": [],
   "source": [
    "#X_train.shape,y_train.shape, X_test.shape,  y_test.shape"
   ]
  },
  {
   "cell_type": "code",
   "execution_count": 188,
   "metadata": {},
   "outputs": [
    {
     "data": {
      "text/plain": [
       "0.3086257184307501"
      ]
     },
     "execution_count": 188,
     "metadata": {},
     "output_type": "execute_result"
    }
   ],
   "source": [
    "sum([x[0] for x in Y_final])/ len(Y_final)"
   ]
  },
  {
   "cell_type": "code",
   "execution_count": 189,
   "metadata": {},
   "outputs": [
    {
     "data": {
      "text/plain": [
       "array([[0],\n",
       "       [0],\n",
       "       [0],\n",
       "       [0],\n",
       "       [1]])"
      ]
     },
     "execution_count": 189,
     "metadata": {},
     "output_type": "execute_result"
    }
   ],
   "source": [
    "Y_final[:5]"
   ]
  },
  {
   "cell_type": "code",
   "execution_count": 190,
   "metadata": {},
   "outputs": [
    {
     "name": "stderr",
     "output_type": "stream",
     "text": [
      "/data/home/a1singh/anaconda3/envs/keras/lib/python3.5/site-packages/h5py/__init__.py:36: FutureWarning: Conversion of the second argument of issubdtype from `float` to `np.floating` is deprecated. In future, it will be treated as `np.float64 == np.dtype(float).type`.\n",
      "  from ._conv import register_converters as _register_converters\n",
      "Using TensorFlow backend.\n"
     ]
    },
    {
     "data": {
      "text/plain": [
       "(65, 1, 1)"
      ]
     },
     "execution_count": 190,
     "metadata": {},
     "output_type": "execute_result"
    }
   ],
   "source": [
    "from keras.models import Model, Sequential\n",
    "from keras.layers import LSTM, Dense, Embedding, Dropout\n",
    "input_dim, input_length, output_dim"
   ]
  },
  {
   "cell_type": "code",
   "execution_count": 191,
   "metadata": {
    "collapsed": true
   },
   "outputs": [],
   "source": [
    "# Model 1\n",
    "\n",
    "def create_model(input_dim = input_dim, input_length = input_length, output_dim=output_dim):\n",
    "    print ('Creating model 1...')\n",
    "    model = Sequential()\n",
    "    model.add(LSTM(20, input_shape=(input_length,input_dim),return_sequences=True))\n",
    "    model.add(LSTM(20))\n",
    "    model.add(Dense(output_dim, activation='sigmoid'))\n",
    "\n",
    "    print ('Compiling...')\n",
    "    model.compile(loss='binary_crossentropy',\n",
    "                  optimizer='adam',\n",
    "                  metrics=['binary_accuracy'])\n",
    "    return model"
   ]
  },
  {
   "cell_type": "code",
   "execution_count": 288,
   "metadata": {
    "collapsed": true
   },
   "outputs": [],
   "source": [
    "# Model 2\n",
    "\n",
    "def create_model2(input_dim = input_dim, input_length = input_length, output_dim=output_dim):\n",
    "    print ('Creating model 2...')\n",
    "    model = Sequential()\n",
    "    model.add(LSTM(50, input_shape=(input_length,input_dim),return_sequences=True))\n",
    "    model.add(LSTM(50, input_shape=(input_length,input_dim),return_sequences=True))\n",
    "    model.add(LSTM(50, input_shape=(input_length,input_dim),return_sequences=True))\n",
    "    model.add(LSTM(50))\n",
    "    model.add(Dense(output_dim, activation='sigmoid'))\n",
    "\n",
    "    print ('Compiling...')\n",
    "    model.compile(loss='binary_crossentropy',\n",
    "                  optimizer='adam',\n",
    "                  metrics=['binary_accuracy'])\n",
    "    return model"
   ]
  },
  {
   "cell_type": "code",
   "execution_count": 289,
   "metadata": {
    "collapsed": true
   },
   "outputs": [],
   "source": [
    "# Model 3\n",
    "\n",
    "def create_model3(input_dim = input_dim, input_length = input_length, output_dim=output_dim):\n",
    "    print ('Creating model 3...')\n",
    "    model = Sequential()\n",
    "    model.add(LSTM(100, input_shape=(input_length,input_dim),return_sequences=True))\n",
    "    model.add(LSTM(100, input_shape=(input_length,input_dim),return_sequences=True))\n",
    "    model.add(LSTM(100, input_shape=(input_length,input_dim),return_sequences=True))\n",
    "    model.add(LSTM(100, input_shape=(input_length,input_dim),return_sequences=True))\n",
    "    model.add(LSTM(100, input_shape=(input_length,input_dim),return_sequences=True))\n",
    "    model.add(LSTM(100))\n",
    "    model.add(Dense(output_dim, activation='sigmoid'))\n",
    "\n",
    "    print ('Compiling...')\n",
    "    model.compile(loss='binary_crossentropy',\n",
    "                  optimizer='adam',\n",
    "                  metrics=['binary_accuracy'])\n",
    "    return model"
   ]
  },
  {
   "cell_type": "markdown",
   "metadata": {},
   "source": [
    "# Model 1"
   ]
  },
  {
   "cell_type": "code",
   "execution_count": 192,
   "metadata": {},
   "outputs": [
    {
     "name": "stdout",
     "output_type": "stream",
     "text": [
      "Creating model 1...\n",
      "Compiling...\n"
     ]
    }
   ],
   "source": [
    "model = create_model()"
   ]
  },
  {
   "cell_type": "code",
   "execution_count": 193,
   "metadata": {
    "scrolled": false
   },
   "outputs": [
    {
     "name": "stdout",
     "output_type": "stream",
     "text": [
      "Fitting model...\n",
      "Train on 2136531 samples, validate on 237393 samples\n",
      "Epoch 1/100\n",
      "2136531/2136531 [==============================] - 58s 27us/step - loss: 0.1830 - binary_accuracy: 0.9339 - val_loss: 0.1592 - val_binary_accuracy: 0.9442\n",
      "Epoch 2/100\n",
      "2136531/2136531 [==============================] - 58s 27us/step - loss: 0.1479 - binary_accuracy: 0.9522 - val_loss: 0.1375 - val_binary_accuracy: 0.9576\n",
      "Epoch 3/100\n",
      "2136531/2136531 [==============================] - 60s 28us/step - loss: 0.1280 - binary_accuracy: 0.9599 - val_loss: 0.1205 - val_binary_accuracy: 0.9628\n",
      "Epoch 4/100\n",
      "2136531/2136531 [==============================] - 70s 33us/step - loss: 0.1160 - binary_accuracy: 0.9640 - val_loss: 0.1114 - val_binary_accuracy: 0.9655\n",
      "Epoch 5/100\n",
      "2136531/2136531 [==============================] - 70s 33us/step - loss: 0.1076 - binary_accuracy: 0.9664 - val_loss: 0.1070 - val_binary_accuracy: 0.9668\n",
      "Epoch 6/100\n",
      "2136531/2136531 [==============================] - 70s 33us/step - loss: 0.1038 - binary_accuracy: 0.9677 - val_loss: 0.1048 - val_binary_accuracy: 0.9673\n",
      "Epoch 7/100\n",
      "2136531/2136531 [==============================] - 70s 33us/step - loss: 0.1013 - binary_accuracy: 0.9685 - val_loss: 0.1016 - val_binary_accuracy: 0.9684\n",
      "Epoch 8/100\n",
      "2136531/2136531 [==============================] - 68s 32us/step - loss: 0.0994 - binary_accuracy: 0.9692 - val_loss: 0.1010 - val_binary_accuracy: 0.9686\n",
      "Epoch 9/100\n",
      "2136531/2136531 [==============================] - 68s 32us/step - loss: 0.0976 - binary_accuracy: 0.9698 - val_loss: 0.0970 - val_binary_accuracy: 0.9700\n",
      "Epoch 10/100\n",
      "2136531/2136531 [==============================] - 58s 27us/step - loss: 0.0962 - binary_accuracy: 0.9702 - val_loss: 0.0962 - val_binary_accuracy: 0.9707\n",
      "Epoch 11/100\n",
      "2136531/2136531 [==============================] - 59s 28us/step - loss: 0.0949 - binary_accuracy: 0.9707 - val_loss: 0.0939 - val_binary_accuracy: 0.9713\n",
      "Epoch 12/100\n",
      "2136531/2136531 [==============================] - 59s 28us/step - loss: 0.0939 - binary_accuracy: 0.9710 - val_loss: 0.0944 - val_binary_accuracy: 0.9713\n",
      "Epoch 13/100\n",
      "2136531/2136531 [==============================] - 72s 34us/step - loss: 0.0931 - binary_accuracy: 0.9713 - val_loss: 0.0935 - val_binary_accuracy: 0.9711\n",
      "Epoch 14/100\n",
      "2136531/2136531 [==============================] - 71s 33us/step - loss: 0.0924 - binary_accuracy: 0.9714 - val_loss: 0.0942 - val_binary_accuracy: 0.9705\n",
      "Epoch 15/100\n",
      "2136531/2136531 [==============================] - 71s 33us/step - loss: 0.0918 - binary_accuracy: 0.9717 - val_loss: 0.0939 - val_binary_accuracy: 0.9711\n",
      "Epoch 16/100\n",
      "2136531/2136531 [==============================] - 71s 33us/step - loss: 0.0913 - binary_accuracy: 0.9718 - val_loss: 0.0910 - val_binary_accuracy: 0.9720\n",
      "Epoch 17/100\n",
      "2136531/2136531 [==============================] - 70s 33us/step - loss: 0.0908 - binary_accuracy: 0.9721 - val_loss: 0.0942 - val_binary_accuracy: 0.9708\n",
      "Epoch 18/100\n",
      "2136531/2136531 [==============================] - 69s 33us/step - loss: 0.0902 - binary_accuracy: 0.9722 - val_loss: 0.0896 - val_binary_accuracy: 0.9728\n",
      "Epoch 19/100\n",
      "2136531/2136531 [==============================] - 59s 27us/step - loss: 0.0897 - binary_accuracy: 0.9724 - val_loss: 0.0891 - val_binary_accuracy: 0.9731\n",
      "Epoch 20/100\n",
      "2136531/2136531 [==============================] - 59s 28us/step - loss: 0.0892 - binary_accuracy: 0.9726 - val_loss: 0.0911 - val_binary_accuracy: 0.9731\n",
      "Epoch 21/100\n",
      "2136531/2136531 [==============================] - 58s 27us/step - loss: 0.0887 - binary_accuracy: 0.9728 - val_loss: 0.0889 - val_binary_accuracy: 0.9731\n",
      "Epoch 22/100\n",
      "2136531/2136531 [==============================] - 71s 33us/step - loss: 0.0883 - binary_accuracy: 0.9730 - val_loss: 0.0919 - val_binary_accuracy: 0.9715\n",
      "Epoch 23/100\n",
      "2136531/2136531 [==============================] - 69s 32us/step - loss: 0.0878 - binary_accuracy: 0.9731 - val_loss: 0.0869 - val_binary_accuracy: 0.9737\n",
      "Epoch 24/100\n",
      "2136531/2136531 [==============================] - 69s 32us/step - loss: 0.0875 - binary_accuracy: 0.9732 - val_loss: 0.0879 - val_binary_accuracy: 0.9732\n",
      "Epoch 25/100\n",
      "2136531/2136531 [==============================] - 68s 32us/step - loss: 0.0871 - binary_accuracy: 0.9733 - val_loss: 0.0867 - val_binary_accuracy: 0.9733\n",
      "Epoch 26/100\n",
      "2136531/2136531 [==============================] - 70s 33us/step - loss: 0.0866 - binary_accuracy: 0.9736 - val_loss: 0.0880 - val_binary_accuracy: 0.9731\n",
      "Epoch 27/100\n",
      "2136531/2136531 [==============================] - 70s 33us/step - loss: 0.0863 - binary_accuracy: 0.9736 - val_loss: 0.0863 - val_binary_accuracy: 0.9739\n",
      "Epoch 28/100\n",
      "2136531/2136531 [==============================] - 59s 28us/step - loss: 0.0859 - binary_accuracy: 0.9738 - val_loss: 0.0862 - val_binary_accuracy: 0.9737\n",
      "Epoch 29/100\n",
      "2136531/2136531 [==============================] - 58s 27us/step - loss: 0.0855 - binary_accuracy: 0.9739 - val_loss: 0.0877 - val_binary_accuracy: 0.9729\n",
      "Epoch 30/100\n",
      "2136531/2136531 [==============================] - 58s 27us/step - loss: 0.0853 - binary_accuracy: 0.9740 - val_loss: 0.0856 - val_binary_accuracy: 0.9740\n",
      "Epoch 31/100\n",
      "2136531/2136531 [==============================] - 68s 32us/step - loss: 0.0849 - binary_accuracy: 0.9741 - val_loss: 0.0865 - val_binary_accuracy: 0.9739\n",
      "Epoch 32/100\n",
      "2136531/2136531 [==============================] - 69s 32us/step - loss: 0.0846 - binary_accuracy: 0.9742 - val_loss: 0.0845 - val_binary_accuracy: 0.9750\n",
      "Epoch 33/100\n",
      "2136531/2136531 [==============================] - 69s 32us/step - loss: 0.0843 - binary_accuracy: 0.9743 - val_loss: 0.0859 - val_binary_accuracy: 0.9740\n",
      "Epoch 34/100\n",
      "2136531/2136531 [==============================] - 69s 32us/step - loss: 0.0841 - binary_accuracy: 0.9744 - val_loss: 0.0847 - val_binary_accuracy: 0.9750\n",
      "Epoch 35/100\n",
      "2136531/2136531 [==============================] - 70s 33us/step - loss: 0.0838 - binary_accuracy: 0.9745 - val_loss: 0.0849 - val_binary_accuracy: 0.9743\n",
      "Epoch 36/100\n",
      "2136531/2136531 [==============================] - 69s 32us/step - loss: 0.0836 - binary_accuracy: 0.9745 - val_loss: 0.0837 - val_binary_accuracy: 0.9749\n",
      "Epoch 37/100\n",
      "2136531/2136531 [==============================] - 60s 28us/step - loss: 0.0833 - binary_accuracy: 0.9747 - val_loss: 0.0844 - val_binary_accuracy: 0.9754\n",
      "Epoch 38/100\n",
      "2136531/2136531 [==============================] - 59s 28us/step - loss: 0.0832 - binary_accuracy: 0.9747 - val_loss: 0.0843 - val_binary_accuracy: 0.9747\n",
      "Epoch 39/100\n",
      "2136531/2136531 [==============================] - 59s 28us/step - loss: 0.0829 - binary_accuracy: 0.9748 - val_loss: 0.0830 - val_binary_accuracy: 0.9748\n",
      "Epoch 40/100\n",
      "2136531/2136531 [==============================] - 67s 31us/step - loss: 0.0827 - binary_accuracy: 0.9748 - val_loss: 0.0847 - val_binary_accuracy: 0.9744\n",
      "Epoch 41/100\n",
      "2136531/2136531 [==============================] - 70s 33us/step - loss: 0.0826 - binary_accuracy: 0.9749 - val_loss: 0.0828 - val_binary_accuracy: 0.9750\n",
      "Epoch 42/100\n",
      "2136531/2136531 [==============================] - 69s 32us/step - loss: 0.0825 - binary_accuracy: 0.9750 - val_loss: 0.0824 - val_binary_accuracy: 0.9751\n",
      "Epoch 43/100\n",
      "2136531/2136531 [==============================] - 70s 33us/step - loss: 0.0823 - binary_accuracy: 0.9750 - val_loss: 0.0819 - val_binary_accuracy: 0.9754\n",
      "Epoch 44/100\n",
      "2136531/2136531 [==============================] - 69s 32us/step - loss: 0.0821 - binary_accuracy: 0.9752 - val_loss: 0.0829 - val_binary_accuracy: 0.9751\n",
      "Epoch 45/100\n",
      "2136531/2136531 [==============================] - 70s 33us/step - loss: 0.0819 - binary_accuracy: 0.9751 - val_loss: 0.0827 - val_binary_accuracy: 0.9752\n",
      "Epoch 46/100\n",
      "2136531/2136531 [==============================] - 62s 29us/step - loss: 0.0818 - binary_accuracy: 0.9752 - val_loss: 0.0836 - val_binary_accuracy: 0.9748\n",
      "Epoch 47/100\n",
      "2136531/2136531 [==============================] - 58s 27us/step - loss: 0.0816 - binary_accuracy: 0.9753 - val_loss: 0.0821 - val_binary_accuracy: 0.9757\n",
      "Epoch 48/100\n",
      "2136531/2136531 [==============================] - 57s 27us/step - loss: 0.0815 - binary_accuracy: 0.9753 - val_loss: 0.0824 - val_binary_accuracy: 0.9749\n",
      "Epoch 49/100\n",
      "2136531/2136531 [==============================] - 65s 30us/step - loss: 0.0813 - binary_accuracy: 0.9754 - val_loss: 0.0819 - val_binary_accuracy: 0.9756\n",
      "Epoch 50/100\n",
      "2136531/2136531 [==============================] - 70s 33us/step - loss: 0.0812 - binary_accuracy: 0.9755 - val_loss: 0.0834 - val_binary_accuracy: 0.9751\n",
      "Epoch 51/100\n",
      "2136531/2136531 [==============================] - 71s 33us/step - loss: 0.0811 - binary_accuracy: 0.9755 - val_loss: 0.0819 - val_binary_accuracy: 0.9757\n",
      "Epoch 52/100\n",
      "2136531/2136531 [==============================] - 69s 32us/step - loss: 0.0809 - binary_accuracy: 0.9756 - val_loss: 0.0812 - val_binary_accuracy: 0.9757\n",
      "Epoch 53/100\n",
      "2136531/2136531 [==============================] - 70s 33us/step - loss: 0.0808 - binary_accuracy: 0.9756 - val_loss: 0.0818 - val_binary_accuracy: 0.9756\n",
      "Epoch 54/100\n",
      "2136531/2136531 [==============================] - 70s 33us/step - loss: 0.0807 - binary_accuracy: 0.9757 - val_loss: 0.0808 - val_binary_accuracy: 0.9759\n",
      "Epoch 55/100\n",
      "2136531/2136531 [==============================] - 62s 29us/step - loss: 0.0805 - binary_accuracy: 0.9758 - val_loss: 0.0807 - val_binary_accuracy: 0.9760\n",
      "Epoch 56/100\n",
      "2136531/2136531 [==============================] - 58s 27us/step - loss: 0.0804 - binary_accuracy: 0.9758 - val_loss: 0.0814 - val_binary_accuracy: 0.9759\n",
      "Epoch 57/100\n",
      "2136531/2136531 [==============================] - 58s 27us/step - loss: 0.0804 - binary_accuracy: 0.9759 - val_loss: 0.0825 - val_binary_accuracy: 0.9754\n",
      "Epoch 58/100\n",
      "2136531/2136531 [==============================] - 64s 30us/step - loss: 0.0802 - binary_accuracy: 0.9760 - val_loss: 0.0821 - val_binary_accuracy: 0.9754\n",
      "Epoch 59/100\n",
      "2136531/2136531 [==============================] - 72s 33us/step - loss: 0.0801 - binary_accuracy: 0.9760 - val_loss: 0.0807 - val_binary_accuracy: 0.9761\n",
      "Epoch 60/100\n",
      "2136531/2136531 [==============================] - 70s 33us/step - loss: 0.0800 - binary_accuracy: 0.9761 - val_loss: 0.0801 - val_binary_accuracy: 0.9767\n",
      "Epoch 61/100\n",
      "2136531/2136531 [==============================] - 69s 32us/step - loss: 0.0799 - binary_accuracy: 0.9761 - val_loss: 0.0814 - val_binary_accuracy: 0.9756\n",
      "Epoch 62/100\n",
      "2136531/2136531 [==============================] - 69s 32us/step - loss: 0.0798 - binary_accuracy: 0.9762 - val_loss: 0.0842 - val_binary_accuracy: 0.9750\n",
      "Epoch 63/100\n",
      "2136531/2136531 [==============================] - 69s 32us/step - loss: 0.0797 - binary_accuracy: 0.9762 - val_loss: 0.0811 - val_binary_accuracy: 0.9761\n",
      "Epoch 64/100\n",
      "2136531/2136531 [==============================] - 66s 31us/step - loss: 0.0796 - binary_accuracy: 0.9763 - val_loss: 0.0794 - val_binary_accuracy: 0.9765\n",
      "Epoch 65/100\n",
      "2136531/2136531 [==============================] - 60s 28us/step - loss: 0.0795 - binary_accuracy: 0.9763 - val_loss: 0.0803 - val_binary_accuracy: 0.9759\n",
      "Epoch 66/100\n",
      "2136531/2136531 [==============================] - 59s 28us/step - loss: 0.0795 - binary_accuracy: 0.9763 - val_loss: 0.0797 - val_binary_accuracy: 0.9764\n",
      "Epoch 67/100\n",
      "2136531/2136531 [==============================] - 65s 30us/step - loss: 0.0793 - binary_accuracy: 0.9763 - val_loss: 0.0792 - val_binary_accuracy: 0.9765\n",
      "Epoch 68/100\n",
      "2136531/2136531 [==============================] - 71s 33us/step - loss: 0.0793 - binary_accuracy: 0.9764 - val_loss: 0.0793 - val_binary_accuracy: 0.9766\n",
      "Epoch 69/100\n",
      "2136531/2136531 [==============================] - 67s 31us/step - loss: 0.0791 - binary_accuracy: 0.9765 - val_loss: 0.0796 - val_binary_accuracy: 0.9765\n",
      "Epoch 70/100\n",
      "2136531/2136531 [==============================] - 63s 29us/step - loss: 0.0791 - binary_accuracy: 0.9765 - val_loss: 0.0796 - val_binary_accuracy: 0.9765\n",
      "Epoch 71/100\n",
      "2136531/2136531 [==============================] - 63s 30us/step - loss: 0.0790 - binary_accuracy: 0.9765 - val_loss: 0.0790 - val_binary_accuracy: 0.9767\n",
      "Epoch 72/100\n",
      "2136531/2136531 [==============================] - 66s 31us/step - loss: 0.0789 - binary_accuracy: 0.9765 - val_loss: 0.0797 - val_binary_accuracy: 0.9765\n",
      "Epoch 73/100\n",
      "2136531/2136531 [==============================] - 67s 31us/step - loss: 0.0788 - binary_accuracy: 0.9766 - val_loss: 0.0786 - val_binary_accuracy: 0.9767\n",
      "Epoch 74/100\n",
      "2136531/2136531 [==============================] - 57s 26us/step - loss: 0.0787 - binary_accuracy: 0.9765 - val_loss: 0.0797 - val_binary_accuracy: 0.9764\n",
      "Epoch 75/100\n",
      "2136531/2136531 [==============================] - 59s 28us/step - loss: 0.0787 - binary_accuracy: 0.9766 - val_loss: 0.0785 - val_binary_accuracy: 0.9767\n",
      "Epoch 76/100\n",
      "2136531/2136531 [==============================] - 59s 28us/step - loss: 0.0786 - binary_accuracy: 0.9766 - val_loss: 0.0794 - val_binary_accuracy: 0.9765\n",
      "Epoch 77/100\n",
      "2136531/2136531 [==============================] - 66s 31us/step - loss: 0.0785 - binary_accuracy: 0.9767 - val_loss: 0.0786 - val_binary_accuracy: 0.9768\n",
      "Epoch 78/100\n",
      "2136531/2136531 [==============================] - 65s 30us/step - loss: 0.0785 - binary_accuracy: 0.9767 - val_loss: 0.0787 - val_binary_accuracy: 0.9766\n",
      "Epoch 79/100\n",
      "2136531/2136531 [==============================] - 65s 30us/step - loss: 0.0784 - binary_accuracy: 0.9767 - val_loss: 0.0800 - val_binary_accuracy: 0.9763\n",
      "Epoch 80/100\n",
      "2136531/2136531 [==============================] - 64s 30us/step - loss: 0.0783 - binary_accuracy: 0.9767 - val_loss: 0.0787 - val_binary_accuracy: 0.9767\n",
      "Epoch 81/100\n",
      "2136531/2136531 [==============================] - 64s 30us/step - loss: 0.0783 - binary_accuracy: 0.9768 - val_loss: 0.0791 - val_binary_accuracy: 0.9766\n",
      "Epoch 82/100\n",
      "2136531/2136531 [==============================] - 64s 30us/step - loss: 0.0782 - binary_accuracy: 0.9768 - val_loss: 0.0786 - val_binary_accuracy: 0.9767\n",
      "Epoch 83/100\n",
      "2136531/2136531 [==============================] - 60s 28us/step - loss: 0.0781 - binary_accuracy: 0.9768 - val_loss: 0.0791 - val_binary_accuracy: 0.9764\n",
      "Epoch 84/100\n",
      "2136531/2136531 [==============================] - 58s 27us/step - loss: 0.0781 - binary_accuracy: 0.9768 - val_loss: 0.0788 - val_binary_accuracy: 0.9770\n",
      "Epoch 85/100\n",
      "2136531/2136531 [==============================] - 57s 27us/step - loss: 0.0780 - binary_accuracy: 0.9769 - val_loss: 0.0786 - val_binary_accuracy: 0.9769\n",
      "Epoch 86/100\n",
      "2136531/2136531 [==============================] - 62s 29us/step - loss: 0.0779 - binary_accuracy: 0.9769 - val_loss: 0.0785 - val_binary_accuracy: 0.9767\n",
      "Epoch 87/100\n",
      "2136531/2136531 [==============================] - 65s 31us/step - loss: 0.0779 - binary_accuracy: 0.9769 - val_loss: 0.0804 - val_binary_accuracy: 0.9763\n",
      "Epoch 88/100\n",
      "2136531/2136531 [==============================] - 66s 31us/step - loss: 0.0778 - binary_accuracy: 0.9769 - val_loss: 0.0782 - val_binary_accuracy: 0.9769\n",
      "Epoch 89/100\n",
      "2136531/2136531 [==============================] - 64s 30us/step - loss: 0.0777 - binary_accuracy: 0.9770 - val_loss: 0.0785 - val_binary_accuracy: 0.9766\n",
      "Epoch 90/100\n",
      "2136531/2136531 [==============================] - 65s 30us/step - loss: 0.0776 - binary_accuracy: 0.9770 - val_loss: 0.0793 - val_binary_accuracy: 0.9764\n",
      "Epoch 91/100\n",
      "2136531/2136531 [==============================] - 65s 30us/step - loss: 0.0777 - binary_accuracy: 0.9770 - val_loss: 0.0792 - val_binary_accuracy: 0.9765\n",
      "Epoch 92/100\n",
      "2136531/2136531 [==============================] - 65s 30us/step - loss: 0.0775 - binary_accuracy: 0.9770 - val_loss: 0.0792 - val_binary_accuracy: 0.9764\n",
      "Epoch 93/100\n",
      "2136531/2136531 [==============================] - 67s 31us/step - loss: 0.0775 - binary_accuracy: 0.9770 - val_loss: 0.0784 - val_binary_accuracy: 0.9767\n",
      "Epoch 94/100\n",
      "2136531/2136531 [==============================] - 69s 32us/step - loss: 0.0774 - binary_accuracy: 0.9771 - val_loss: 0.0798 - val_binary_accuracy: 0.9766\n",
      "Epoch 95/100\n",
      "2136531/2136531 [==============================] - 70s 33us/step - loss: 0.0774 - binary_accuracy: 0.9771 - val_loss: 0.0778 - val_binary_accuracy: 0.9773\n",
      "Epoch 96/100\n",
      "2136531/2136531 [==============================] - 69s 32us/step - loss: 0.0774 - binary_accuracy: 0.9771 - val_loss: 0.0781 - val_binary_accuracy: 0.9770\n",
      "Epoch 97/100\n",
      "2136531/2136531 [==============================] - 67s 32us/step - loss: 0.0773 - binary_accuracy: 0.9771 - val_loss: 0.0800 - val_binary_accuracy: 0.9763\n"
     ]
    },
    {
     "name": "stdout",
     "output_type": "stream",
     "text": [
      "Epoch 98/100\n",
      "2136531/2136531 [==============================] - 72s 33us/step - loss: 0.0773 - binary_accuracy: 0.9771 - val_loss: 0.0793 - val_binary_accuracy: 0.9767\n",
      "Epoch 99/100\n",
      "2136531/2136531 [==============================] - 73s 34us/step - loss: 0.0771 - binary_accuracy: 0.9771 - val_loss: 0.0781 - val_binary_accuracy: 0.9771\n",
      "Epoch 100/100\n",
      "2136531/2136531 [==============================] - 73s 34us/step - loss: 0.0772 - binary_accuracy: 0.9771 - val_loss: 0.0781 - val_binary_accuracy: 0.9769\n",
      "CPU times: user 6h 37min 30s, sys: 1h 28min 4s, total: 8h 5min 35s\n",
      "Wall time: 1h 49min 7s\n"
     ]
    }
   ],
   "source": [
    "%%time\n",
    "\n",
    "print ('Fitting model...')\n",
    "history = model.fit(X_final,Y_final,batch_size=250, epochs=100, validation_split = 0.10, verbose = 1)"
   ]
  },
  {
   "cell_type": "code",
   "execution_count": 194,
   "metadata": {},
   "outputs": [
    {
     "name": "stdout",
     "output_type": "stream",
     "text": [
      "2368345/2368345 [==============================] - 146s 62us/step\n"
     ]
    }
   ],
   "source": [
    "loss, accuracy = model.evaluate(X_test, Y_test)"
   ]
  },
  {
   "cell_type": "markdown",
   "metadata": {},
   "source": [
    "# Accuracy"
   ]
  },
  {
   "cell_type": "code",
   "execution_count": 195,
   "metadata": {},
   "outputs": [
    {
     "data": {
      "text/plain": [
       "(0.08406537707925421, 0.9756640185445955)"
      ]
     },
     "execution_count": 195,
     "metadata": {},
     "output_type": "execute_result"
    }
   ],
   "source": [
    "loss, accuracy"
   ]
  },
  {
   "cell_type": "code",
   "execution_count": 196,
   "metadata": {
    "collapsed": true
   },
   "outputs": [],
   "source": [
    "# when taking 10 timesteps, and keeping separate test and training JobIDs\n",
    "# loss, accuracy is: \n",
    "# on X_test, Y_test"
   ]
  },
  {
   "cell_type": "code",
   "execution_count": 197,
   "metadata": {
    "collapsed": true
   },
   "outputs": [],
   "source": [
    "y_pred = model.predict(X_test)"
   ]
  },
  {
   "cell_type": "code",
   "execution_count": 326,
   "metadata": {
    "collapsed": true
   },
   "outputs": [],
   "source": [
    "model.save('large_model1_tsteps1_features65_partII.pickle')"
   ]
  },
  {
   "cell_type": "code",
   "execution_count": 206,
   "metadata": {
    "scrolled": true
   },
   "outputs": [
    {
     "data": {
      "text/plain": [
       "array([[1.],\n",
       "       [1.],\n",
       "       [1.],\n",
       "       [1.],\n",
       "       [1.],\n",
       "       [1.],\n",
       "       [1.],\n",
       "       [1.],\n",
       "       [1.],\n",
       "       [1.]], dtype=float32)"
      ]
     },
     "execution_count": 206,
     "metadata": {},
     "output_type": "execute_result"
    }
   ],
   "source": [
    "y_pred[15000:15010]"
   ]
  },
  {
   "cell_type": "markdown",
   "metadata": {},
   "source": [
    "# Binary classification accuracy"
   ]
  },
  {
   "cell_type": "code",
   "execution_count": 199,
   "metadata": {
    "collapsed": true
   },
   "outputs": [],
   "source": [
    "y_true = pd.Series([x[0] for x in Y_test])\n",
    "\n",
    "# Use np.rint for rounding off \n",
    "y_predicted = pd.Series([ np.rint(j[0]) for j in y_pred])"
   ]
  },
  {
   "cell_type": "code",
   "execution_count": 200,
   "metadata": {},
   "outputs": [
    {
     "data": {
      "text/plain": [
       "0.9756640185445955"
      ]
     },
     "execution_count": 200,
     "metadata": {},
     "output_type": "execute_result"
    }
   ],
   "source": [
    "np.mean(np.equal(y_true, y_predicted))"
   ]
  },
  {
   "cell_type": "markdown",
   "metadata": {},
   "source": [
    "# Confusion matrix"
   ]
  },
  {
   "cell_type": "code",
   "execution_count": 201,
   "metadata": {
    "scrolled": true
   },
   "outputs": [
    {
     "data": {
      "text/html": [
       "<div>\n",
       "<style scoped>\n",
       "    .dataframe tbody tr th:only-of-type {\n",
       "        vertical-align: middle;\n",
       "    }\n",
       "\n",
       "    .dataframe tbody tr th {\n",
       "        vertical-align: top;\n",
       "    }\n",
       "\n",
       "    .dataframe thead th {\n",
       "        text-align: right;\n",
       "    }\n",
       "</style>\n",
       "<table border=\"1\" class=\"dataframe\">\n",
       "  <thead>\n",
       "    <tr style=\"text-align: right;\">\n",
       "      <th>Predicted</th>\n",
       "      <th>0.0</th>\n",
       "      <th>1.0</th>\n",
       "      <th>All</th>\n",
       "    </tr>\n",
       "    <tr>\n",
       "      <th>True</th>\n",
       "      <th></th>\n",
       "      <th></th>\n",
       "      <th></th>\n",
       "    </tr>\n",
       "  </thead>\n",
       "  <tbody>\n",
       "    <tr>\n",
       "      <th>0</th>\n",
       "      <td>1628955</td>\n",
       "      <td>9155</td>\n",
       "      <td>1638110</td>\n",
       "    </tr>\n",
       "    <tr>\n",
       "      <th>1</th>\n",
       "      <td>48481</td>\n",
       "      <td>681754</td>\n",
       "      <td>730235</td>\n",
       "    </tr>\n",
       "    <tr>\n",
       "      <th>All</th>\n",
       "      <td>1677436</td>\n",
       "      <td>690909</td>\n",
       "      <td>2368345</td>\n",
       "    </tr>\n",
       "  </tbody>\n",
       "</table>\n",
       "</div>"
      ],
      "text/plain": [
       "Predicted      0.0     1.0      All\n",
       "True                               \n",
       "0          1628955    9155  1638110\n",
       "1            48481  681754   730235\n",
       "All        1677436  690909  2368345"
      ]
     },
     "execution_count": 201,
     "metadata": {},
     "output_type": "execute_result"
    }
   ],
   "source": [
    "pd.crosstab(y_true, y_predicted, rownames=['True'], colnames=['Predicted'], margins=True)"
   ]
  },
  {
   "cell_type": "code",
   "execution_count": 202,
   "metadata": {},
   "outputs": [
    {
     "data": {
      "text/html": [
       "<div>\n",
       "<style scoped>\n",
       "    .dataframe tbody tr th:only-of-type {\n",
       "        vertical-align: middle;\n",
       "    }\n",
       "\n",
       "    .dataframe tbody tr th {\n",
       "        vertical-align: top;\n",
       "    }\n",
       "\n",
       "    .dataframe thead th {\n",
       "        text-align: right;\n",
       "    }\n",
       "</style>\n",
       "<table border=\"1\" class=\"dataframe\">\n",
       "  <thead>\n",
       "    <tr style=\"text-align: right;\">\n",
       "      <th>Predicted</th>\n",
       "      <th>0.0</th>\n",
       "      <th>1.0</th>\n",
       "      <th>All</th>\n",
       "    </tr>\n",
       "    <tr>\n",
       "      <th>True</th>\n",
       "      <th></th>\n",
       "      <th></th>\n",
       "      <th></th>\n",
       "    </tr>\n",
       "  </thead>\n",
       "  <tbody>\n",
       "    <tr>\n",
       "      <th>0</th>\n",
       "      <td>1628955</td>\n",
       "      <td>9155</td>\n",
       "      <td>1638110</td>\n",
       "    </tr>\n",
       "    <tr>\n",
       "      <th>1</th>\n",
       "      <td>48481</td>\n",
       "      <td>681754</td>\n",
       "      <td>730235</td>\n",
       "    </tr>\n",
       "    <tr>\n",
       "      <th>All</th>\n",
       "      <td>1677436</td>\n",
       "      <td>690909</td>\n",
       "      <td>2368345</td>\n",
       "    </tr>\n",
       "  </tbody>\n",
       "</table>\n",
       "</div>"
      ],
      "text/plain": [
       "Predicted      0.0     1.0      All\n",
       "True                               \n",
       "0          1628955    9155  1638110\n",
       "1            48481  681754   730235\n",
       "All        1677436  690909  2368345"
      ]
     },
     "execution_count": 202,
     "metadata": {},
     "output_type": "execute_result"
    }
   ],
   "source": [
    "pd.crosstab(y_true, y_predicted, rownames=['True'], colnames=['Predicted'], margins=True)"
   ]
  },
  {
   "cell_type": "code",
   "execution_count": 222,
   "metadata": {},
   "outputs": [
    {
     "data": {
      "text/plain": [
       "2.433598145540451"
      ]
     },
     "execution_count": 222,
     "metadata": {},
     "output_type": "execute_result"
    }
   ],
   "source": [
    "# Worst case error bound on JobID specific 'Status' prediction error:\n",
    "\n",
    "100*(9155+48481)/2368345"
   ]
  },
  {
   "cell_type": "code",
   "execution_count": 223,
   "metadata": {},
   "outputs": [
    {
     "data": {
      "text/plain": [
       "(342398, 342401)"
      ]
     },
     "execution_count": 223,
     "metadata": {},
     "output_type": "execute_result"
    }
   ],
   "source": [
    "len(takeoutdf.JobID.unique().tolist()), len(cleaned.JobID.unique().tolist())"
   ]
  },
  {
   "cell_type": "code",
   "execution_count": 224,
   "metadata": {},
   "outputs": [
    {
     "data": {
      "text/plain": [
       "118658"
      ]
     },
     "execution_count": 224,
     "metadata": {},
     "output_type": "execute_result"
    }
   ],
   "source": [
    "sum(takeoutdf[\"JobID\"].value_counts()==1)"
   ]
  },
  {
   "cell_type": "code",
   "execution_count": 227,
   "metadata": {},
   "outputs": [
    {
     "data": {
      "text/plain": [
       "48481"
      ]
     },
     "execution_count": 227,
     "metadata": {},
     "output_type": "execute_result"
    }
   ],
   "source": [
    "len(X_test[(y_true==1) & (y_predicted==0)])"
   ]
  },
  {
   "cell_type": "code",
   "execution_count": 204,
   "metadata": {},
   "outputs": [
    {
     "data": {
      "text/plain": [
       "[]"
      ]
     },
     "execution_count": 204,
     "metadata": {},
     "output_type": "execute_result"
    }
   ],
   "source": [
    "# Verify that there is no intersection between training and test jobs\n",
    "\n",
    "list(set(takeoutdf.JobID.tolist()) & set(cleaned.JobID.tolist()))"
   ]
  },
  {
   "cell_type": "code",
   "execution_count": 205,
   "metadata": {},
   "outputs": [
    {
     "data": {
      "text/plain": [
       "(690909.0, 2368345)"
      ]
     },
     "execution_count": 205,
     "metadata": {},
     "output_type": "execute_result"
    }
   ],
   "source": [
    "# Predicting all 0s ??\n",
    "sum([ (j) for j in y_predicted]), len(y_predicted)"
   ]
  },
  {
   "cell_type": "code",
   "execution_count": null,
   "metadata": {
    "collapsed": true
   },
   "outputs": [],
   "source": [
    "#### Model 2 Start"
   ]
  },
  {
   "cell_type": "markdown",
   "metadata": {},
   "source": [
    "# Model 2"
   ]
  },
  {
   "cell_type": "code",
   "execution_count": 290,
   "metadata": {},
   "outputs": [
    {
     "name": "stdout",
     "output_type": "stream",
     "text": [
      "Creating model 2...\n",
      "Compiling...\n"
     ]
    }
   ],
   "source": [
    "model = create_model2()"
   ]
  },
  {
   "cell_type": "code",
   "execution_count": 291,
   "metadata": {},
   "outputs": [
    {
     "name": "stdout",
     "output_type": "stream",
     "text": [
      "Fitting model...\n",
      "Train on 2136531 samples, validate on 237393 samples\n",
      "Epoch 1/100\n",
      "2136531/2136531 [==============================] - 151s 71us/step - loss: 0.1665 - binary_accuracy: 0.9428 - val_loss: 0.1340 - val_binary_accuracy: 0.9595\n",
      "Epoch 2/100\n",
      "2136531/2136531 [==============================] - 135s 63us/step - loss: 0.1242 - binary_accuracy: 0.9617 - val_loss: 0.1186 - val_binary_accuracy: 0.9627\n",
      "Epoch 3/100\n",
      "2136531/2136531 [==============================] - 143s 67us/step - loss: 0.1165 - binary_accuracy: 0.9639 - val_loss: 0.1126 - val_binary_accuracy: 0.9650\n",
      "Epoch 4/100\n",
      "2136531/2136531 [==============================] - 155s 72us/step - loss: 0.1101 - binary_accuracy: 0.9655 - val_loss: 0.1062 - val_binary_accuracy: 0.9671\n",
      "Epoch 5/100\n",
      "2136531/2136531 [==============================] - 154s 72us/step - loss: 0.1078 - binary_accuracy: 0.9663 - val_loss: 0.1047 - val_binary_accuracy: 0.9681\n",
      "Epoch 6/100\n",
      "2136531/2136531 [==============================] - 137s 64us/step - loss: 0.1042 - binary_accuracy: 0.9674 - val_loss: 0.1016 - val_binary_accuracy: 0.9687\n",
      "Epoch 7/100\n",
      "2136531/2136531 [==============================] - 146s 68us/step - loss: 0.1008 - binary_accuracy: 0.9687 - val_loss: 0.1011 - val_binary_accuracy: 0.9684\n",
      "Epoch 8/100\n",
      "2136531/2136531 [==============================] - 154s 72us/step - loss: 0.0977 - binary_accuracy: 0.9697 - val_loss: 0.0954 - val_binary_accuracy: 0.9704\n",
      "Epoch 9/100\n",
      "2136531/2136531 [==============================] - 154s 72us/step - loss: 0.0950 - binary_accuracy: 0.9706 - val_loss: 0.0947 - val_binary_accuracy: 0.9716\n",
      "Epoch 10/100\n",
      "2136531/2136531 [==============================] - 138s 65us/step - loss: 0.0931 - binary_accuracy: 0.9712 - val_loss: 0.0919 - val_binary_accuracy: 0.9719\n",
      "Epoch 11/100\n",
      "2136531/2136531 [==============================] - 146s 69us/step - loss: 0.0916 - binary_accuracy: 0.9717 - val_loss: 0.0905 - val_binary_accuracy: 0.9727\n",
      "Epoch 12/100\n",
      "2136531/2136531 [==============================] - 154s 72us/step - loss: 0.0906 - binary_accuracy: 0.9721 - val_loss: 0.0925 - val_binary_accuracy: 0.9714\n",
      "Epoch 13/100\n",
      "2136531/2136531 [==============================] - 153s 72us/step - loss: 0.0896 - binary_accuracy: 0.9723 - val_loss: 0.0909 - val_binary_accuracy: 0.9723\n",
      "Epoch 14/100\n",
      "2136531/2136531 [==============================] - 140s 66us/step - loss: 0.0885 - binary_accuracy: 0.9727 - val_loss: 0.0881 - val_binary_accuracy: 0.9734\n",
      "Epoch 15/100\n",
      "2136531/2136531 [==============================] - 144s 67us/step - loss: 0.0875 - binary_accuracy: 0.9730 - val_loss: 0.0858 - val_binary_accuracy: 0.9740\n",
      "Epoch 16/100\n",
      "2136531/2136531 [==============================] - 153s 71us/step - loss: 0.0866 - binary_accuracy: 0.9734 - val_loss: 0.0848 - val_binary_accuracy: 0.9741\n",
      "Epoch 17/100\n",
      "2136531/2136531 [==============================] - 153s 72us/step - loss: 0.0859 - binary_accuracy: 0.9737 - val_loss: 0.0851 - val_binary_accuracy: 0.9740\n",
      "Epoch 18/100\n",
      "2136531/2136531 [==============================] - 138s 65us/step - loss: 0.0850 - binary_accuracy: 0.9741 - val_loss: 0.0833 - val_binary_accuracy: 0.9750\n",
      "Epoch 19/100\n",
      "2136531/2136531 [==============================] - 142s 66us/step - loss: 0.0844 - binary_accuracy: 0.9742 - val_loss: 0.0845 - val_binary_accuracy: 0.9739\n",
      "Epoch 20/100\n",
      "2136531/2136531 [==============================] - 153s 72us/step - loss: 0.0840 - binary_accuracy: 0.9744 - val_loss: 0.0833 - val_binary_accuracy: 0.9751\n",
      "Epoch 21/100\n",
      "2136531/2136531 [==============================] - 152s 71us/step - loss: 0.0834 - binary_accuracy: 0.9747 - val_loss: 0.0869 - val_binary_accuracy: 0.9740\n",
      "Epoch 22/100\n",
      "2136531/2136531 [==============================] - 141s 66us/step - loss: 0.0824 - binary_accuracy: 0.9751 - val_loss: 0.0831 - val_binary_accuracy: 0.9751\n",
      "Epoch 23/100\n",
      "2136531/2136531 [==============================] - 140s 66us/step - loss: 0.0818 - binary_accuracy: 0.9753 - val_loss: 0.0837 - val_binary_accuracy: 0.9757\n",
      "Epoch 24/100\n",
      "2136531/2136531 [==============================] - 152s 71us/step - loss: 0.0814 - binary_accuracy: 0.9755 - val_loss: 0.0808 - val_binary_accuracy: 0.9762\n",
      "Epoch 25/100\n",
      "2136531/2136531 [==============================] - 151s 71us/step - loss: 0.0810 - binary_accuracy: 0.9756 - val_loss: 0.0795 - val_binary_accuracy: 0.9764\n",
      "Epoch 26/100\n",
      "2136531/2136531 [==============================] - 143s 67us/step - loss: 0.0805 - binary_accuracy: 0.9758 - val_loss: 0.0856 - val_binary_accuracy: 0.9724\n",
      "Epoch 27/100\n",
      "2136531/2136531 [==============================] - 138s 64us/step - loss: 0.0802 - binary_accuracy: 0.9759 - val_loss: 0.0795 - val_binary_accuracy: 0.9764\n",
      "Epoch 28/100\n",
      "2136531/2136531 [==============================] - 153s 71us/step - loss: 0.0799 - binary_accuracy: 0.9760 - val_loss: 0.0789 - val_binary_accuracy: 0.9767\n",
      "Epoch 29/100\n",
      "2136531/2136531 [==============================] - 153s 71us/step - loss: 0.0795 - binary_accuracy: 0.9761 - val_loss: 0.0840 - val_binary_accuracy: 0.9752\n",
      "Epoch 30/100\n",
      "2136531/2136531 [==============================] - 145s 68us/step - loss: 0.0792 - binary_accuracy: 0.9762 - val_loss: 0.0812 - val_binary_accuracy: 0.9758\n",
      "Epoch 31/100\n",
      "2136531/2136531 [==============================] - 138s 65us/step - loss: 0.0788 - binary_accuracy: 0.9764 - val_loss: 0.0821 - val_binary_accuracy: 0.9745\n",
      "Epoch 32/100\n",
      "2136531/2136531 [==============================] - 153s 72us/step - loss: 0.0787 - binary_accuracy: 0.9764 - val_loss: 0.0794 - val_binary_accuracy: 0.9765\n",
      "Epoch 33/100\n",
      "2136531/2136531 [==============================] - 152s 71us/step - loss: 0.0783 - binary_accuracy: 0.9765 - val_loss: 0.0780 - val_binary_accuracy: 0.9767\n",
      "Epoch 34/100\n",
      "2136531/2136531 [==============================] - 152s 71us/step - loss: 0.0780 - binary_accuracy: 0.9766 - val_loss: 0.0773 - val_binary_accuracy: 0.9771\n",
      "Epoch 35/100\n",
      "2136531/2136531 [==============================] - 156s 73us/step - loss: 0.0778 - binary_accuracy: 0.9767 - val_loss: 0.0784 - val_binary_accuracy: 0.9768\n",
      "Epoch 36/100\n",
      "2136531/2136531 [==============================] - 155s 73us/step - loss: 0.0774 - binary_accuracy: 0.9768 - val_loss: 0.0767 - val_binary_accuracy: 0.9774\n",
      "Epoch 37/100\n",
      "2136531/2136531 [==============================] - 155s 73us/step - loss: 0.0774 - binary_accuracy: 0.9768 - val_loss: 0.0777 - val_binary_accuracy: 0.9768\n",
      "Epoch 38/100\n",
      "2136531/2136531 [==============================] - 153s 72us/step - loss: 0.0771 - binary_accuracy: 0.9769 - val_loss: 0.0793 - val_binary_accuracy: 0.9764\n",
      "Epoch 39/100\n",
      "2136531/2136531 [==============================] - 156s 73us/step - loss: 0.0768 - binary_accuracy: 0.9770 - val_loss: 0.0769 - val_binary_accuracy: 0.9773\n",
      "Epoch 40/100\n",
      "2136531/2136531 [==============================] - 155s 72us/step - loss: 0.0765 - binary_accuracy: 0.9771 - val_loss: 0.0778 - val_binary_accuracy: 0.9767\n",
      "Epoch 41/100\n",
      "2136531/2136531 [==============================] - 155s 73us/step - loss: 0.0763 - binary_accuracy: 0.9771 - val_loss: 0.0767 - val_binary_accuracy: 0.9771\n",
      "Epoch 42/100\n",
      "2136531/2136531 [==============================] - 154s 72us/step - loss: 0.0761 - binary_accuracy: 0.9772 - val_loss: 0.0754 - val_binary_accuracy: 0.9779\n",
      "Epoch 43/100\n",
      "2136531/2136531 [==============================] - 155s 73us/step - loss: 0.0759 - binary_accuracy: 0.9773 - val_loss: 0.0761 - val_binary_accuracy: 0.9776\n",
      "Epoch 44/100\n",
      "2136531/2136531 [==============================] - 155s 72us/step - loss: 0.0757 - binary_accuracy: 0.9774 - val_loss: 0.0751 - val_binary_accuracy: 0.9777\n",
      "Epoch 45/100\n",
      "2136531/2136531 [==============================] - 155s 73us/step - loss: 0.0755 - binary_accuracy: 0.9774 - val_loss: 0.0793 - val_binary_accuracy: 0.9760\n",
      "Epoch 46/100\n",
      "2136531/2136531 [==============================] - 154s 72us/step - loss: 0.0752 - binary_accuracy: 0.9775 - val_loss: 0.0786 - val_binary_accuracy: 0.9766\n",
      "Epoch 47/100\n",
      "2136531/2136531 [==============================] - 156s 73us/step - loss: 0.0751 - binary_accuracy: 0.9776 - val_loss: 0.0753 - val_binary_accuracy: 0.9779\n",
      "Epoch 48/100\n",
      "2136531/2136531 [==============================] - 155s 72us/step - loss: 0.0749 - binary_accuracy: 0.9776 - val_loss: 0.0763 - val_binary_accuracy: 0.9772\n",
      "Epoch 49/100\n",
      "2136531/2136531 [==============================] - 163s 76us/step - loss: 0.0749 - binary_accuracy: 0.9776 - val_loss: 0.0752 - val_binary_accuracy: 0.9777\n",
      "Epoch 50/100\n",
      "2136531/2136531 [==============================] - 161s 75us/step - loss: 0.0746 - binary_accuracy: 0.9777 - val_loss: 0.0770 - val_binary_accuracy: 0.9768\n",
      "Epoch 51/100\n",
      "2136531/2136531 [==============================] - 163s 76us/step - loss: 0.0744 - binary_accuracy: 0.9778 - val_loss: 0.0765 - val_binary_accuracy: 0.9770\n",
      "Epoch 52/100\n",
      "2136531/2136531 [==============================] - 160s 75us/step - loss: 0.0743 - binary_accuracy: 0.9777 - val_loss: 0.0758 - val_binary_accuracy: 0.9779\n",
      "Epoch 53/100\n",
      "2136531/2136531 [==============================] - 160s 75us/step - loss: 0.0741 - binary_accuracy: 0.9779 - val_loss: 0.0748 - val_binary_accuracy: 0.9779\n",
      "Epoch 54/100\n",
      "2136531/2136531 [==============================] - 159s 74us/step - loss: 0.0738 - binary_accuracy: 0.9779 - val_loss: 0.0750 - val_binary_accuracy: 0.9776\n",
      "Epoch 55/100\n",
      "2136531/2136531 [==============================] - 161s 75us/step - loss: 0.0737 - binary_accuracy: 0.9780 - val_loss: 0.0741 - val_binary_accuracy: 0.9780\n",
      "Epoch 56/100\n",
      "2136531/2136531 [==============================] - 158s 74us/step - loss: 0.0737 - binary_accuracy: 0.9780 - val_loss: 0.0745 - val_binary_accuracy: 0.9779\n",
      "Epoch 57/100\n",
      "2136531/2136531 [==============================] - 158s 74us/step - loss: 0.0735 - binary_accuracy: 0.9781 - val_loss: 0.0738 - val_binary_accuracy: 0.9783\n",
      "Epoch 58/100\n",
      "2136531/2136531 [==============================] - 161s 75us/step - loss: 0.0734 - binary_accuracy: 0.9781 - val_loss: 0.0752 - val_binary_accuracy: 0.9777\n",
      "Epoch 59/100\n",
      "2136531/2136531 [==============================] - 161s 75us/step - loss: 0.0732 - binary_accuracy: 0.9781 - val_loss: 0.0788 - val_binary_accuracy: 0.9759\n",
      "Epoch 60/100\n",
      "2136531/2136531 [==============================] - 160s 75us/step - loss: 0.0730 - binary_accuracy: 0.9782 - val_loss: 0.0745 - val_binary_accuracy: 0.9779\n",
      "Epoch 61/100\n",
      "2136531/2136531 [==============================] - 159s 74us/step - loss: 0.0730 - binary_accuracy: 0.9782 - val_loss: 0.0740 - val_binary_accuracy: 0.9780\n",
      "Epoch 62/100\n",
      "2136531/2136531 [==============================] - 160s 75us/step - loss: 0.0728 - binary_accuracy: 0.9783 - val_loss: 0.0742 - val_binary_accuracy: 0.9782\n",
      "Epoch 63/100\n",
      "2136531/2136531 [==============================] - 161s 75us/step - loss: 0.0728 - binary_accuracy: 0.9783 - val_loss: 0.0747 - val_binary_accuracy: 0.9780\n",
      "Epoch 64/100\n",
      "2136531/2136531 [==============================] - 160s 75us/step - loss: 0.0725 - binary_accuracy: 0.9784 - val_loss: 0.0752 - val_binary_accuracy: 0.9773\n",
      "Epoch 65/100\n",
      "2136531/2136531 [==============================] - 159s 74us/step - loss: 0.0725 - binary_accuracy: 0.9784 - val_loss: 0.0745 - val_binary_accuracy: 0.9785\n",
      "Epoch 66/100\n",
      "2136531/2136531 [==============================] - 160s 75us/step - loss: 0.0723 - binary_accuracy: 0.9784 - val_loss: 0.0750 - val_binary_accuracy: 0.9779\n",
      "Epoch 67/100\n",
      "2136531/2136531 [==============================] - 160s 75us/step - loss: 0.0722 - binary_accuracy: 0.9785 - val_loss: 0.0741 - val_binary_accuracy: 0.9779\n",
      "Epoch 68/100\n",
      "2136531/2136531 [==============================] - 157s 73us/step - loss: 0.0720 - binary_accuracy: 0.9786 - val_loss: 0.0740 - val_binary_accuracy: 0.9783\n",
      "Epoch 69/100\n",
      "2136531/2136531 [==============================] - 162s 76us/step - loss: 0.0720 - binary_accuracy: 0.9785 - val_loss: 0.0740 - val_binary_accuracy: 0.9783\n",
      "Epoch 70/100\n",
      "2136531/2136531 [==============================] - 162s 76us/step - loss: 0.0719 - binary_accuracy: 0.9785 - val_loss: 0.0754 - val_binary_accuracy: 0.9772\n",
      "Epoch 71/100\n",
      "2136531/2136531 [==============================] - 160s 75us/step - loss: 0.0718 - binary_accuracy: 0.9786 - val_loss: 0.0730 - val_binary_accuracy: 0.9786\n",
      "Epoch 72/100\n",
      "2136531/2136531 [==============================] - 160s 75us/step - loss: 0.0716 - binary_accuracy: 0.9786 - val_loss: 0.0734 - val_binary_accuracy: 0.9784\n",
      "Epoch 73/100\n",
      "2136531/2136531 [==============================] - 161s 75us/step - loss: 0.0716 - binary_accuracy: 0.9787 - val_loss: 0.0741 - val_binary_accuracy: 0.9781\n",
      "Epoch 74/100\n",
      "2136531/2136531 [==============================] - 161s 75us/step - loss: 0.0714 - binary_accuracy: 0.9788 - val_loss: 0.0755 - val_binary_accuracy: 0.9779\n",
      "Epoch 75/100\n",
      "2136531/2136531 [==============================] - 161s 75us/step - loss: 0.0712 - binary_accuracy: 0.9788 - val_loss: 0.0736 - val_binary_accuracy: 0.9784\n",
      "Epoch 76/100\n",
      "2136531/2136531 [==============================] - 159s 74us/step - loss: 0.0711 - binary_accuracy: 0.9789 - val_loss: 0.0732 - val_binary_accuracy: 0.9782\n",
      "Epoch 77/100\n",
      "2136531/2136531 [==============================] - 161s 75us/step - loss: 0.0711 - binary_accuracy: 0.9788 - val_loss: 0.0740 - val_binary_accuracy: 0.9776\n",
      "Epoch 78/100\n",
      "2136531/2136531 [==============================] - 158s 74us/step - loss: 0.0710 - binary_accuracy: 0.9788 - val_loss: 0.0747 - val_binary_accuracy: 0.9780\n",
      "Epoch 79/100\n",
      "2136531/2136531 [==============================] - 160s 75us/step - loss: 0.0708 - binary_accuracy: 0.9789 - val_loss: 0.0717 - val_binary_accuracy: 0.9790\n",
      "Epoch 80/100\n",
      "2136531/2136531 [==============================] - 158s 74us/step - loss: 0.0706 - binary_accuracy: 0.9790 - val_loss: 0.0735 - val_binary_accuracy: 0.9782\n",
      "Epoch 81/100\n",
      "2136531/2136531 [==============================] - 159s 74us/step - loss: 0.0707 - binary_accuracy: 0.9790 - val_loss: 0.0725 - val_binary_accuracy: 0.9787\n",
      "Epoch 82/100\n",
      "2136531/2136531 [==============================] - 160s 75us/step - loss: 0.0706 - binary_accuracy: 0.9790 - val_loss: 0.0730 - val_binary_accuracy: 0.9783\n",
      "Epoch 83/100\n",
      "2136531/2136531 [==============================] - 157s 74us/step - loss: 0.0705 - binary_accuracy: 0.9791 - val_loss: 0.0729 - val_binary_accuracy: 0.9788\n",
      "Epoch 84/100\n",
      "2136531/2136531 [==============================] - 160s 75us/step - loss: 0.0704 - binary_accuracy: 0.9790 - val_loss: 0.0718 - val_binary_accuracy: 0.9791\n",
      "Epoch 85/100\n",
      "2136531/2136531 [==============================] - 159s 75us/step - loss: 0.0703 - binary_accuracy: 0.9791 - val_loss: 0.0783 - val_binary_accuracy: 0.9749\n",
      "Epoch 86/100\n",
      "2136531/2136531 [==============================] - 160s 75us/step - loss: 0.0702 - binary_accuracy: 0.9791 - val_loss: 0.0721 - val_binary_accuracy: 0.9787\n",
      "Epoch 87/100\n",
      "2136531/2136531 [==============================] - 158s 74us/step - loss: 0.0701 - binary_accuracy: 0.9791 - val_loss: 0.0717 - val_binary_accuracy: 0.9789\n",
      "Epoch 88/100\n",
      "2136531/2136531 [==============================] - 160s 75us/step - loss: 0.0700 - binary_accuracy: 0.9792 - val_loss: 0.0724 - val_binary_accuracy: 0.9785\n",
      "Epoch 89/100\n",
      "2136531/2136531 [==============================] - 159s 74us/step - loss: 0.0700 - binary_accuracy: 0.9792 - val_loss: 0.0722 - val_binary_accuracy: 0.9788\n",
      "Epoch 90/100\n",
      "2136531/2136531 [==============================] - 159s 74us/step - loss: 0.0699 - binary_accuracy: 0.9792 - val_loss: 0.0714 - val_binary_accuracy: 0.9790\n",
      "Epoch 91/100\n",
      "2136531/2136531 [==============================] - 156s 73us/step - loss: 0.0698 - binary_accuracy: 0.9792 - val_loss: 0.0717 - val_binary_accuracy: 0.9789\n",
      "Epoch 92/100\n",
      "2136531/2136531 [==============================] - 159s 75us/step - loss: 0.0698 - binary_accuracy: 0.9792 - val_loss: 0.0711 - val_binary_accuracy: 0.9792\n",
      "Epoch 93/100\n",
      "2136531/2136531 [==============================] - 159s 74us/step - loss: 0.0697 - binary_accuracy: 0.9793 - val_loss: 0.0724 - val_binary_accuracy: 0.9784\n",
      "Epoch 94/100\n",
      "2136531/2136531 [==============================] - 159s 74us/step - loss: 0.0696 - binary_accuracy: 0.9793 - val_loss: 0.0776 - val_binary_accuracy: 0.9756\n",
      "Epoch 95/100\n",
      "2136531/2136531 [==============================] - 158s 74us/step - loss: 0.0696 - binary_accuracy: 0.9793 - val_loss: 0.0741 - val_binary_accuracy: 0.9783\n",
      "Epoch 96/100\n",
      "2136531/2136531 [==============================] - 157s 74us/step - loss: 0.0695 - binary_accuracy: 0.9794 - val_loss: 0.0724 - val_binary_accuracy: 0.9787\n",
      "Epoch 97/100\n"
     ]
    },
    {
     "name": "stdout",
     "output_type": "stream",
     "text": [
      "2136531/2136531 [==============================] - 161s 75us/step - loss: 0.0694 - binary_accuracy: 0.9794 - val_loss: 0.0709 - val_binary_accuracy: 0.9794\n",
      "Epoch 98/100\n",
      "2136531/2136531 [==============================] - 161s 75us/step - loss: 0.0693 - binary_accuracy: 0.9793 - val_loss: 0.0707 - val_binary_accuracy: 0.9791\n",
      "Epoch 99/100\n",
      "2136531/2136531 [==============================] - 160s 75us/step - loss: 0.0692 - binary_accuracy: 0.9795 - val_loss: 0.0755 - val_binary_accuracy: 0.9776\n",
      "Epoch 100/100\n",
      "2136531/2136531 [==============================] - 163s 76us/step - loss: 0.0692 - binary_accuracy: 0.9795 - val_loss: 0.0720 - val_binary_accuracy: 0.9789\n",
      "CPU times: user 19h 22min 21s, sys: 2h 59min 50s, total: 22h 22min 11s\n",
      "Wall time: 4h 18min 5s\n"
     ]
    }
   ],
   "source": [
    "%%time\n",
    "\n",
    "print ('Fitting model...')\n",
    "history = model.fit(X_final,Y_final,batch_size=250, epochs=100, validation_split = 0.10, verbose = 1)"
   ]
  },
  {
   "cell_type": "code",
   "execution_count": 292,
   "metadata": {},
   "outputs": [
    {
     "name": "stdout",
     "output_type": "stream",
     "text": [
      "2368345/2368345 [==============================] - 268s 113us/step\n"
     ]
    }
   ],
   "source": [
    "loss, accuracy = model.evaluate(X_test, Y_test)"
   ]
  },
  {
   "cell_type": "markdown",
   "metadata": {},
   "source": [
    "# Accuracy"
   ]
  },
  {
   "cell_type": "code",
   "execution_count": 293,
   "metadata": {},
   "outputs": [
    {
     "data": {
      "text/plain": [
       "(0.08242477570753202, 0.9769522599114572)"
      ]
     },
     "execution_count": 293,
     "metadata": {},
     "output_type": "execute_result"
    }
   ],
   "source": [
    "loss, accuracy"
   ]
  },
  {
   "cell_type": "code",
   "execution_count": 294,
   "metadata": {
    "collapsed": true
   },
   "outputs": [],
   "source": [
    "# when taking 10 timesteps, and keeping separate test and training JobIDs\n",
    "# loss, accuracy is: \n",
    "# on X_test, Y_test"
   ]
  },
  {
   "cell_type": "code",
   "execution_count": 295,
   "metadata": {
    "collapsed": true
   },
   "outputs": [],
   "source": [
    "y_pred = model.predict(X_test)"
   ]
  },
  {
   "cell_type": "code",
   "execution_count": 328,
   "metadata": {
    "collapsed": true
   },
   "outputs": [],
   "source": [
    "## Save"
   ]
  },
  {
   "cell_type": "code",
   "execution_count": 326,
   "metadata": {
    "collapsed": true
   },
   "outputs": [],
   "source": [
    "model.save('large_model2_tsteps1_features65_partII.pickle')"
   ]
  },
  {
   "cell_type": "code",
   "execution_count": 296,
   "metadata": {},
   "outputs": [
    {
     "data": {
      "text/plain": [
       "array([[1.],\n",
       "       [1.],\n",
       "       [1.],\n",
       "       [1.],\n",
       "       [1.],\n",
       "       [1.],\n",
       "       [1.],\n",
       "       [1.],\n",
       "       [1.],\n",
       "       [1.]], dtype=float32)"
      ]
     },
     "execution_count": 296,
     "metadata": {},
     "output_type": "execute_result"
    }
   ],
   "source": [
    "y_pred[15000:15010]"
   ]
  },
  {
   "cell_type": "markdown",
   "metadata": {},
   "source": [
    "# Binary classification accuracy"
   ]
  },
  {
   "cell_type": "code",
   "execution_count": 297,
   "metadata": {
    "collapsed": true
   },
   "outputs": [],
   "source": [
    "y_true = pd.Series([x[0] for x in Y_test])\n",
    "\n",
    "# Use np.rint for rounding off \n",
    "y_predicted = pd.Series([ np.rint(j[0]) for j in y_pred])"
   ]
  },
  {
   "cell_type": "code",
   "execution_count": 298,
   "metadata": {},
   "outputs": [
    {
     "data": {
      "text/plain": [
       "0.9769522599114572"
      ]
     },
     "execution_count": 298,
     "metadata": {},
     "output_type": "execute_result"
    }
   ],
   "source": [
    "np.mean(np.equal(y_true, y_predicted))"
   ]
  },
  {
   "cell_type": "markdown",
   "metadata": {},
   "source": [
    "# Confusion matrix"
   ]
  },
  {
   "cell_type": "code",
   "execution_count": 299,
   "metadata": {},
   "outputs": [
    {
     "data": {
      "text/html": [
       "<div>\n",
       "<style scoped>\n",
       "    .dataframe tbody tr th:only-of-type {\n",
       "        vertical-align: middle;\n",
       "    }\n",
       "\n",
       "    .dataframe tbody tr th {\n",
       "        vertical-align: top;\n",
       "    }\n",
       "\n",
       "    .dataframe thead th {\n",
       "        text-align: right;\n",
       "    }\n",
       "</style>\n",
       "<table border=\"1\" class=\"dataframe\">\n",
       "  <thead>\n",
       "    <tr style=\"text-align: right;\">\n",
       "      <th>Predicted</th>\n",
       "      <th>0.0</th>\n",
       "      <th>1.0</th>\n",
       "      <th>All</th>\n",
       "    </tr>\n",
       "    <tr>\n",
       "      <th>True</th>\n",
       "      <th></th>\n",
       "      <th></th>\n",
       "      <th></th>\n",
       "    </tr>\n",
       "  </thead>\n",
       "  <tbody>\n",
       "    <tr>\n",
       "      <th>0</th>\n",
       "      <td>1630492</td>\n",
       "      <td>7618</td>\n",
       "      <td>1638110</td>\n",
       "    </tr>\n",
       "    <tr>\n",
       "      <th>1</th>\n",
       "      <td>46967</td>\n",
       "      <td>683268</td>\n",
       "      <td>730235</td>\n",
       "    </tr>\n",
       "    <tr>\n",
       "      <th>All</th>\n",
       "      <td>1677459</td>\n",
       "      <td>690886</td>\n",
       "      <td>2368345</td>\n",
       "    </tr>\n",
       "  </tbody>\n",
       "</table>\n",
       "</div>"
      ],
      "text/plain": [
       "Predicted      0.0     1.0      All\n",
       "True                               \n",
       "0          1630492    7618  1638110\n",
       "1            46967  683268   730235\n",
       "All        1677459  690886  2368345"
      ]
     },
     "execution_count": 299,
     "metadata": {},
     "output_type": "execute_result"
    }
   ],
   "source": [
    "pd.crosstab(y_true, y_predicted, rownames=['True'], colnames=['Predicted'], margins=True)"
   ]
  },
  {
   "cell_type": "code",
   "execution_count": 202,
   "metadata": {},
   "outputs": [
    {
     "data": {
      "text/html": [
       "<div>\n",
       "<style scoped>\n",
       "    .dataframe tbody tr th:only-of-type {\n",
       "        vertical-align: middle;\n",
       "    }\n",
       "\n",
       "    .dataframe tbody tr th {\n",
       "        vertical-align: top;\n",
       "    }\n",
       "\n",
       "    .dataframe thead th {\n",
       "        text-align: right;\n",
       "    }\n",
       "</style>\n",
       "<table border=\"1\" class=\"dataframe\">\n",
       "  <thead>\n",
       "    <tr style=\"text-align: right;\">\n",
       "      <th>Predicted</th>\n",
       "      <th>0.0</th>\n",
       "      <th>1.0</th>\n",
       "      <th>All</th>\n",
       "    </tr>\n",
       "    <tr>\n",
       "      <th>True</th>\n",
       "      <th></th>\n",
       "      <th></th>\n",
       "      <th></th>\n",
       "    </tr>\n",
       "  </thead>\n",
       "  <tbody>\n",
       "    <tr>\n",
       "      <th>0</th>\n",
       "      <td>1628955</td>\n",
       "      <td>9155</td>\n",
       "      <td>1638110</td>\n",
       "    </tr>\n",
       "    <tr>\n",
       "      <th>1</th>\n",
       "      <td>48481</td>\n",
       "      <td>681754</td>\n",
       "      <td>730235</td>\n",
       "    </tr>\n",
       "    <tr>\n",
       "      <th>All</th>\n",
       "      <td>1677436</td>\n",
       "      <td>690909</td>\n",
       "      <td>2368345</td>\n",
       "    </tr>\n",
       "  </tbody>\n",
       "</table>\n",
       "</div>"
      ],
      "text/plain": [
       "Predicted      0.0     1.0      All\n",
       "True                               \n",
       "0          1628955    9155  1638110\n",
       "1            48481  681754   730235\n",
       "All        1677436  690909  2368345"
      ]
     },
     "execution_count": 202,
     "metadata": {},
     "output_type": "execute_result"
    }
   ],
   "source": [
    "pd.crosstab(y_true, y_predicted, rownames=['True'], colnames=['Predicted'], margins=True)"
   ]
  },
  {
   "cell_type": "code",
   "execution_count": 320,
   "metadata": {},
   "outputs": [
    {
     "data": {
      "text/plain": [
       "2.3047740088542845"
      ]
     },
     "execution_count": 320,
     "metadata": {},
     "output_type": "execute_result"
    }
   ],
   "source": [
    "# Worst case error bound on JobID specific 'Status' prediction error:\n",
    "\n",
    "100*(7618+46967)/2368345"
   ]
  },
  {
   "cell_type": "code",
   "execution_count": 300,
   "metadata": {},
   "outputs": [
    {
     "data": {
      "text/plain": [
       "(342398, 342401)"
      ]
     },
     "execution_count": 300,
     "metadata": {},
     "output_type": "execute_result"
    }
   ],
   "source": [
    "len(takeoutdf.JobID.unique().tolist()), len(cleaned.JobID.unique().tolist())"
   ]
  },
  {
   "cell_type": "code",
   "execution_count": 301,
   "metadata": {},
   "outputs": [
    {
     "data": {
      "text/plain": [
       "118658"
      ]
     },
     "execution_count": 301,
     "metadata": {},
     "output_type": "execute_result"
    }
   ],
   "source": [
    "sum(takeoutdf[\"JobID\"].value_counts()==1)"
   ]
  },
  {
   "cell_type": "code",
   "execution_count": 302,
   "metadata": {},
   "outputs": [
    {
     "data": {
      "text/plain": [
       "46967"
      ]
     },
     "execution_count": 302,
     "metadata": {},
     "output_type": "execute_result"
    }
   ],
   "source": [
    "len(X_test[(y_true==1) & (y_predicted==0)])"
   ]
  },
  {
   "cell_type": "code",
   "execution_count": 303,
   "metadata": {},
   "outputs": [
    {
     "data": {
      "text/plain": [
       "[]"
      ]
     },
     "execution_count": 303,
     "metadata": {},
     "output_type": "execute_result"
    }
   ],
   "source": [
    "# Verify that there is no intersection between training and test jobs\n",
    "\n",
    "list(set(takeoutdf.JobID.tolist()) & set(cleaned.JobID.tolist()))"
   ]
  },
  {
   "cell_type": "code",
   "execution_count": 304,
   "metadata": {},
   "outputs": [
    {
     "data": {
      "text/plain": [
       "(690886.0, 2368345)"
      ]
     },
     "execution_count": 304,
     "metadata": {},
     "output_type": "execute_result"
    }
   ],
   "source": [
    "# Predicting all 0s ??\n",
    "sum([ (j) for j in y_predicted]), len(y_predicted)"
   ]
  },
  {
   "cell_type": "code",
   "execution_count": null,
   "metadata": {
    "collapsed": true
   },
   "outputs": [],
   "source": [
    "#### Model 2 End"
   ]
  },
  {
   "cell_type": "code",
   "execution_count": null,
   "metadata": {
    "collapsed": true
   },
   "outputs": [],
   "source": [
    "#### Model 3 Start"
   ]
  },
  {
   "cell_type": "markdown",
   "metadata": {},
   "source": [
    "# Model 3"
   ]
  },
  {
   "cell_type": "code",
   "execution_count": 305,
   "metadata": {},
   "outputs": [
    {
     "name": "stdout",
     "output_type": "stream",
     "text": [
      "Creating model 3...\n",
      "Compiling...\n"
     ]
    }
   ],
   "source": [
    "model = create_model3()"
   ]
  },
  {
   "cell_type": "code",
   "execution_count": 306,
   "metadata": {
    "scrolled": false
   },
   "outputs": [
    {
     "name": "stdout",
     "output_type": "stream",
     "text": [
      "Fitting model...\n",
      "Train on 2136531 samples, validate on 237393 samples\n",
      "Epoch 1/100\n",
      "2136531/2136531 [==============================] - 273s 128us/step - loss: 0.1652 - binary_accuracy: 0.9442 - val_loss: 0.1485 - val_binary_accuracy: 0.9532\n",
      "Epoch 2/100\n",
      "2136531/2136531 [==============================] - 269s 126us/step - loss: 0.1263 - binary_accuracy: 0.9604 - val_loss: 0.1132 - val_binary_accuracy: 0.9654\n",
      "Epoch 3/100\n",
      "2136531/2136531 [==============================] - 271s 127us/step - loss: 0.1081 - binary_accuracy: 0.9664 - val_loss: 0.1085 - val_binary_accuracy: 0.9667\n",
      "Epoch 4/100\n",
      "2136531/2136531 [==============================] - 270s 126us/step - loss: 0.1026 - binary_accuracy: 0.9681 - val_loss: 0.0997 - val_binary_accuracy: 0.9694\n",
      "Epoch 5/100\n",
      "2136531/2136531 [==============================] - 270s 127us/step - loss: 0.0991 - binary_accuracy: 0.9693 - val_loss: 0.0953 - val_binary_accuracy: 0.9709\n",
      "Epoch 6/100\n",
      "2136531/2136531 [==============================] - 270s 126us/step - loss: 0.0964 - binary_accuracy: 0.9701 - val_loss: 0.1018 - val_binary_accuracy: 0.9691\n",
      "Epoch 7/100\n",
      "2136531/2136531 [==============================] - 270s 126us/step - loss: 0.0941 - binary_accuracy: 0.9709 - val_loss: 0.0977 - val_binary_accuracy: 0.9708\n",
      "Epoch 8/100\n",
      "2136531/2136531 [==============================] - 269s 126us/step - loss: 0.0921 - binary_accuracy: 0.9716 - val_loss: 0.0978 - val_binary_accuracy: 0.9700\n",
      "Epoch 9/100\n",
      "2136531/2136531 [==============================] - 270s 127us/step - loss: 0.0899 - binary_accuracy: 0.9724 - val_loss: 0.0892 - val_binary_accuracy: 0.9729\n",
      "Epoch 10/100\n",
      "2136531/2136531 [==============================] - 270s 126us/step - loss: 0.0880 - binary_accuracy: 0.9732 - val_loss: 0.0885 - val_binary_accuracy: 0.9728\n",
      "Epoch 11/100\n",
      "2136531/2136531 [==============================] - 269s 126us/step - loss: 0.0865 - binary_accuracy: 0.9737 - val_loss: 0.0859 - val_binary_accuracy: 0.9740\n",
      "Epoch 12/100\n",
      "2136531/2136531 [==============================] - 268s 126us/step - loss: 0.0855 - binary_accuracy: 0.9740 - val_loss: 0.0851 - val_binary_accuracy: 0.9749\n",
      "Epoch 13/100\n",
      "2136531/2136531 [==============================] - 269s 126us/step - loss: 0.0850 - binary_accuracy: 0.9742 - val_loss: 0.0840 - val_binary_accuracy: 0.9750\n",
      "Epoch 14/100\n",
      "2136531/2136531 [==============================] - 271s 127us/step - loss: 0.0838 - binary_accuracy: 0.9746 - val_loss: 0.0857 - val_binary_accuracy: 0.9737\n",
      "Epoch 15/100\n",
      "2136531/2136531 [==============================] - 270s 126us/step - loss: 0.0829 - binary_accuracy: 0.9750 - val_loss: 0.0834 - val_binary_accuracy: 0.9752\n",
      "Epoch 16/100\n",
      "2136531/2136531 [==============================] - 271s 127us/step - loss: 0.0822 - binary_accuracy: 0.9753 - val_loss: 0.0859 - val_binary_accuracy: 0.9739\n",
      "Epoch 17/100\n",
      "2136531/2136531 [==============================] - 267s 125us/step - loss: 0.0817 - binary_accuracy: 0.9753 - val_loss: 0.0816 - val_binary_accuracy: 0.9753\n",
      "Epoch 18/100\n",
      "2136531/2136531 [==============================] - 268s 125us/step - loss: 0.0809 - binary_accuracy: 0.9756 - val_loss: 0.0802 - val_binary_accuracy: 0.9761\n",
      "Epoch 19/100\n",
      "2136531/2136531 [==============================] - 269s 126us/step - loss: 0.0806 - binary_accuracy: 0.9757 - val_loss: 0.0799 - val_binary_accuracy: 0.9761\n",
      "Epoch 20/100\n",
      "2136531/2136531 [==============================] - 269s 126us/step - loss: 0.0799 - binary_accuracy: 0.9760 - val_loss: 0.0844 - val_binary_accuracy: 0.9739\n",
      "Epoch 21/100\n",
      "2136531/2136531 [==============================] - 270s 126us/step - loss: 0.0793 - binary_accuracy: 0.9761 - val_loss: 0.0792 - val_binary_accuracy: 0.9765\n",
      "Epoch 22/100\n",
      "2136531/2136531 [==============================] - 268s 126us/step - loss: 0.0790 - binary_accuracy: 0.9762 - val_loss: 0.0800 - val_binary_accuracy: 0.9759\n",
      "Epoch 23/100\n",
      "2136531/2136531 [==============================] - 268s 125us/step - loss: 0.0784 - binary_accuracy: 0.9764 - val_loss: 0.0818 - val_binary_accuracy: 0.9752\n",
      "Epoch 24/100\n",
      "2136531/2136531 [==============================] - 268s 125us/step - loss: 0.0782 - binary_accuracy: 0.9765 - val_loss: 0.0792 - val_binary_accuracy: 0.9763\n",
      "Epoch 25/100\n",
      "2136531/2136531 [==============================] - 269s 126us/step - loss: 0.0779 - binary_accuracy: 0.9766 - val_loss: 0.0792 - val_binary_accuracy: 0.9765\n",
      "Epoch 26/100\n",
      "2136531/2136531 [==============================] - 268s 125us/step - loss: 0.0775 - binary_accuracy: 0.9767 - val_loss: 0.0791 - val_binary_accuracy: 0.9762\n",
      "Epoch 27/100\n",
      "2136531/2136531 [==============================] - 270s 126us/step - loss: 0.0771 - binary_accuracy: 0.9768 - val_loss: 0.0769 - val_binary_accuracy: 0.9775\n",
      "Epoch 28/100\n",
      "2136531/2136531 [==============================] - 268s 126us/step - loss: 0.0769 - binary_accuracy: 0.9769 - val_loss: 0.0804 - val_binary_accuracy: 0.9757\n",
      "Epoch 29/100\n",
      "2136531/2136531 [==============================] - 268s 125us/step - loss: 0.0765 - binary_accuracy: 0.9770 - val_loss: 0.0781 - val_binary_accuracy: 0.9768\n",
      "Epoch 30/100\n",
      "2136531/2136531 [==============================] - 268s 126us/step - loss: 0.0762 - binary_accuracy: 0.9771 - val_loss: 0.0794 - val_binary_accuracy: 0.9762\n",
      "Epoch 31/100\n",
      "2136531/2136531 [==============================] - 268s 125us/step - loss: 0.0760 - binary_accuracy: 0.9772 - val_loss: 0.0766 - val_binary_accuracy: 0.9773\n",
      "Epoch 32/100\n",
      "2136531/2136531 [==============================] - 268s 125us/step - loss: 0.0757 - binary_accuracy: 0.9772 - val_loss: 0.0750 - val_binary_accuracy: 0.9777\n",
      "Epoch 33/100\n",
      "2136531/2136531 [==============================] - 266s 124us/step - loss: 0.0753 - binary_accuracy: 0.9774 - val_loss: 0.0755 - val_binary_accuracy: 0.9776\n",
      "Epoch 34/100\n",
      "2136531/2136531 [==============================] - 270s 126us/step - loss: 0.0751 - binary_accuracy: 0.9774 - val_loss: 0.0785 - val_binary_accuracy: 0.9767\n",
      "Epoch 35/100\n",
      "2136531/2136531 [==============================] - 267s 125us/step - loss: 0.0747 - binary_accuracy: 0.9775 - val_loss: 0.0768 - val_binary_accuracy: 0.9773\n",
      "Epoch 36/100\n",
      "2136531/2136531 [==============================] - 266s 125us/step - loss: 0.0747 - binary_accuracy: 0.9776 - val_loss: 0.0752 - val_binary_accuracy: 0.9776\n",
      "Epoch 37/100\n",
      "2136531/2136531 [==============================] - 269s 126us/step - loss: 0.0746 - binary_accuracy: 0.9776 - val_loss: 0.0812 - val_binary_accuracy: 0.9758\n",
      "Epoch 38/100\n",
      "2136531/2136531 [==============================] - 267s 125us/step - loss: 0.0743 - binary_accuracy: 0.9777 - val_loss: 0.0761 - val_binary_accuracy: 0.9771\n",
      "Epoch 39/100\n",
      "2136531/2136531 [==============================] - 268s 125us/step - loss: 0.0740 - binary_accuracy: 0.9778 - val_loss: 0.0758 - val_binary_accuracy: 0.9775\n",
      "Epoch 40/100\n",
      "2136531/2136531 [==============================] - 266s 125us/step - loss: 0.0739 - binary_accuracy: 0.9778 - val_loss: 0.0751 - val_binary_accuracy: 0.9777\n",
      "Epoch 41/100\n",
      "2136531/2136531 [==============================] - 269s 126us/step - loss: 0.0737 - binary_accuracy: 0.9779 - val_loss: 0.0760 - val_binary_accuracy: 0.9779\n",
      "Epoch 42/100\n",
      "2136531/2136531 [==============================] - 267s 125us/step - loss: 0.0735 - binary_accuracy: 0.9780 - val_loss: 0.0807 - val_binary_accuracy: 0.9758\n",
      "Epoch 43/100\n",
      "2136531/2136531 [==============================] - 267s 125us/step - loss: 0.0732 - binary_accuracy: 0.9781 - val_loss: 0.0735 - val_binary_accuracy: 0.9783\n",
      "Epoch 44/100\n",
      "2136531/2136531 [==============================] - 266s 124us/step - loss: 0.0730 - binary_accuracy: 0.9781 - val_loss: 0.0740 - val_binary_accuracy: 0.9779\n",
      "Epoch 45/100\n",
      "2136531/2136531 [==============================] - 268s 125us/step - loss: 0.0728 - binary_accuracy: 0.9782 - val_loss: 0.0737 - val_binary_accuracy: 0.9781\n",
      "Epoch 46/100\n",
      "2136531/2136531 [==============================] - 267s 125us/step - loss: 0.0728 - binary_accuracy: 0.9782 - val_loss: 0.0753 - val_binary_accuracy: 0.9776\n",
      "Epoch 47/100\n",
      "2136531/2136531 [==============================] - 266s 125us/step - loss: 0.0724 - binary_accuracy: 0.9783 - val_loss: 0.0738 - val_binary_accuracy: 0.9780\n",
      "Epoch 48/100\n",
      "2136531/2136531 [==============================] - 265s 124us/step - loss: 0.0723 - binary_accuracy: 0.9784 - val_loss: 0.0741 - val_binary_accuracy: 0.9781\n"
     ]
    },
    {
     "name": "stdout",
     "output_type": "stream",
     "text": [
      "Epoch 49/100\n",
      "2136531/2136531 [==============================] - 265s 124us/step - loss: 0.0722 - binary_accuracy: 0.9784 - val_loss: 0.0735 - val_binary_accuracy: 0.9785\n",
      "Epoch 50/100\n",
      "2136531/2136531 [==============================] - 267s 125us/step - loss: 0.0720 - binary_accuracy: 0.9784 - val_loss: 0.0775 - val_binary_accuracy: 0.9769\n",
      "Epoch 51/100\n",
      "2136531/2136531 [==============================] - 266s 124us/step - loss: 0.0718 - binary_accuracy: 0.9785 - val_loss: 0.0754 - val_binary_accuracy: 0.9774\n",
      "Epoch 52/100\n",
      "2136531/2136531 [==============================] - 267s 125us/step - loss: 0.0718 - binary_accuracy: 0.9785 - val_loss: 0.0737 - val_binary_accuracy: 0.9780\n",
      "Epoch 53/100\n",
      "2136531/2136531 [==============================] - 265s 124us/step - loss: 0.0716 - binary_accuracy: 0.9786 - val_loss: 0.0727 - val_binary_accuracy: 0.9785\n",
      "Epoch 54/100\n",
      "2136531/2136531 [==============================] - 270s 127us/step - loss: 0.0715 - binary_accuracy: 0.9786 - val_loss: 0.0737 - val_binary_accuracy: 0.9783\n",
      "Epoch 55/100\n",
      "2136531/2136531 [==============================] - 270s 126us/step - loss: 0.0712 - binary_accuracy: 0.9787 - val_loss: 0.0740 - val_binary_accuracy: 0.9781\n",
      "Epoch 56/100\n",
      "2136531/2136531 [==============================] - 270s 127us/step - loss: 0.0711 - binary_accuracy: 0.9787 - val_loss: 0.0741 - val_binary_accuracy: 0.9781\n",
      "Epoch 57/100\n",
      "2136531/2136531 [==============================] - 270s 126us/step - loss: 0.0709 - binary_accuracy: 0.9788 - val_loss: 0.0739 - val_binary_accuracy: 0.9782\n",
      "Epoch 58/100\n",
      "2136531/2136531 [==============================] - 268s 126us/step - loss: 0.0710 - binary_accuracy: 0.9788 - val_loss: 0.0727 - val_binary_accuracy: 0.9783\n",
      "Epoch 59/100\n",
      "2136531/2136531 [==============================] - 268s 126us/step - loss: 0.0706 - binary_accuracy: 0.9789 - val_loss: 0.0730 - val_binary_accuracy: 0.9784\n",
      "Epoch 60/100\n",
      "2136531/2136531 [==============================] - 267s 125us/step - loss: 0.0706 - binary_accuracy: 0.9789 - val_loss: 0.0725 - val_binary_accuracy: 0.9787\n",
      "Epoch 61/100\n",
      "2136531/2136531 [==============================] - 266s 125us/step - loss: 0.0705 - binary_accuracy: 0.9789 - val_loss: 0.0733 - val_binary_accuracy: 0.9780\n",
      "Epoch 62/100\n",
      "2136531/2136531 [==============================] - 267s 125us/step - loss: 0.0703 - binary_accuracy: 0.9790 - val_loss: 0.0727 - val_binary_accuracy: 0.9786\n",
      "Epoch 63/100\n",
      "2136531/2136531 [==============================] - 257s 120us/step - loss: 0.0701 - binary_accuracy: 0.9790 - val_loss: 0.0726 - val_binary_accuracy: 0.9783\n",
      "Epoch 64/100\n",
      "2136531/2136531 [==============================] - 265s 124us/step - loss: 0.0701 - binary_accuracy: 0.9790 - val_loss: 0.0740 - val_binary_accuracy: 0.9785\n",
      "Epoch 65/100\n",
      "2136531/2136531 [==============================] - 265s 124us/step - loss: 0.0699 - binary_accuracy: 0.9790 - val_loss: 0.0724 - val_binary_accuracy: 0.9787\n",
      "Epoch 66/100\n",
      "2136531/2136531 [==============================] - 265s 124us/step - loss: 0.0698 - binary_accuracy: 0.9792 - val_loss: 0.0729 - val_binary_accuracy: 0.9782\n",
      "Epoch 67/100\n",
      "2136531/2136531 [==============================] - 262s 122us/step - loss: 0.0697 - binary_accuracy: 0.9792 - val_loss: 0.0758 - val_binary_accuracy: 0.9775\n",
      "Epoch 68/100\n",
      "2136531/2136531 [==============================] - 262s 123us/step - loss: 0.0696 - binary_accuracy: 0.9792 - val_loss: 0.0721 - val_binary_accuracy: 0.9790\n",
      "Epoch 69/100\n",
      "2136531/2136531 [==============================] - 261s 122us/step - loss: 0.0694 - binary_accuracy: 0.9792 - val_loss: 0.0739 - val_binary_accuracy: 0.9780\n",
      "Epoch 70/100\n",
      "2136531/2136531 [==============================] - 260s 121us/step - loss: 0.0695 - binary_accuracy: 0.9793 - val_loss: 0.0707 - val_binary_accuracy: 0.9794\n",
      "Epoch 71/100\n",
      "2136531/2136531 [==============================] - 258s 121us/step - loss: 0.0692 - binary_accuracy: 0.9793 - val_loss: 0.0715 - val_binary_accuracy: 0.9791\n",
      "Epoch 72/100\n",
      "2136531/2136531 [==============================] - 261s 122us/step - loss: 0.0694 - binary_accuracy: 0.9793 - val_loss: 0.0705 - val_binary_accuracy: 0.9795\n",
      "Epoch 73/100\n",
      "2136531/2136531 [==============================] - 261s 122us/step - loss: 0.0691 - binary_accuracy: 0.9793 - val_loss: 0.0711 - val_binary_accuracy: 0.9792\n",
      "Epoch 74/100\n",
      "2136531/2136531 [==============================] - 261s 122us/step - loss: 0.0689 - binary_accuracy: 0.9794 - val_loss: 0.0706 - val_binary_accuracy: 0.9793\n",
      "Epoch 75/100\n",
      "2136531/2136531 [==============================] - 261s 122us/step - loss: 0.0690 - binary_accuracy: 0.9794 - val_loss: 0.0764 - val_binary_accuracy: 0.9772\n",
      "Epoch 76/100\n",
      "2136531/2136531 [==============================] - 262s 122us/step - loss: 0.0688 - binary_accuracy: 0.9795 - val_loss: 0.0746 - val_binary_accuracy: 0.9778\n",
      "Epoch 77/100\n",
      "2136531/2136531 [==============================] - 262s 122us/step - loss: 0.0686 - binary_accuracy: 0.9796 - val_loss: 0.0716 - val_binary_accuracy: 0.9792\n",
      "Epoch 78/100\n",
      "2136531/2136531 [==============================] - 261s 122us/step - loss: 0.0686 - binary_accuracy: 0.9796 - val_loss: 0.0708 - val_binary_accuracy: 0.9793\n",
      "Epoch 79/100\n",
      "2136531/2136531 [==============================] - 260s 121us/step - loss: 0.0685 - binary_accuracy: 0.9795 - val_loss: 0.0746 - val_binary_accuracy: 0.9776\n",
      "Epoch 80/100\n",
      "2136531/2136531 [==============================] - 261s 122us/step - loss: 0.0688 - binary_accuracy: 0.9795 - val_loss: 0.0719 - val_binary_accuracy: 0.9788\n",
      "Epoch 81/100\n",
      "2136531/2136531 [==============================] - 260s 122us/step - loss: 0.0691 - binary_accuracy: 0.9793 - val_loss: 0.0740 - val_binary_accuracy: 0.9776\n",
      "Epoch 82/100\n",
      "2136531/2136531 [==============================] - 260s 122us/step - loss: 0.0689 - binary_accuracy: 0.9794 - val_loss: 0.0719 - val_binary_accuracy: 0.9788\n",
      "Epoch 83/100\n",
      "2136531/2136531 [==============================] - 259s 121us/step - loss: 0.0685 - binary_accuracy: 0.9795 - val_loss: 0.0732 - val_binary_accuracy: 0.9779\n",
      "Epoch 84/100\n",
      "2136531/2136531 [==============================] - 258s 121us/step - loss: 0.0684 - binary_accuracy: 0.9795 - val_loss: 0.0709 - val_binary_accuracy: 0.9791\n",
      "Epoch 85/100\n",
      "2136531/2136531 [==============================] - 257s 120us/step - loss: 0.0682 - binary_accuracy: 0.9796 - val_loss: 0.0712 - val_binary_accuracy: 0.9792\n",
      "Epoch 86/100\n",
      "2136531/2136531 [==============================] - 256s 120us/step - loss: 0.0681 - binary_accuracy: 0.9796 - val_loss: 0.0724 - val_binary_accuracy: 0.9785\n",
      "Epoch 87/100\n",
      "2136531/2136531 [==============================] - 256s 120us/step - loss: 0.0681 - binary_accuracy: 0.9797 - val_loss: 0.0720 - val_binary_accuracy: 0.9788\n",
      "Epoch 88/100\n",
      "2136531/2136531 [==============================] - 261s 122us/step - loss: 0.0679 - binary_accuracy: 0.9798 - val_loss: 0.0710 - val_binary_accuracy: 0.9793\n",
      "Epoch 89/100\n",
      "2136531/2136531 [==============================] - 262s 123us/step - loss: 0.0678 - binary_accuracy: 0.9798 - val_loss: 0.0713 - val_binary_accuracy: 0.9793\n",
      "Epoch 90/100\n",
      "2136531/2136531 [==============================] - 261s 122us/step - loss: 0.0677 - binary_accuracy: 0.9798 - val_loss: 0.0718 - val_binary_accuracy: 0.9788\n",
      "Epoch 91/100\n",
      "2136531/2136531 [==============================] - 262s 123us/step - loss: 0.0677 - binary_accuracy: 0.9798 - val_loss: 0.0711 - val_binary_accuracy: 0.9794\n",
      "Epoch 92/100\n",
      "2136531/2136531 [==============================] - 259s 121us/step - loss: 0.0676 - binary_accuracy: 0.9798 - val_loss: 0.0717 - val_binary_accuracy: 0.9787\n",
      "Epoch 93/100\n",
      "2136531/2136531 [==============================] - 259s 121us/step - loss: 0.0676 - binary_accuracy: 0.9798 - val_loss: 0.0718 - val_binary_accuracy: 0.9789\n",
      "Epoch 94/100\n",
      "2136531/2136531 [==============================] - 257s 120us/step - loss: 0.0674 - binary_accuracy: 0.9800 - val_loss: 0.0715 - val_binary_accuracy: 0.9791\n",
      "Epoch 95/100\n",
      "2136531/2136531 [==============================] - 262s 123us/step - loss: 0.0672 - binary_accuracy: 0.9800 - val_loss: 0.0731 - val_binary_accuracy: 0.9783\n",
      "Epoch 96/100\n",
      "2136531/2136531 [==============================] - 261s 122us/step - loss: 0.0670 - binary_accuracy: 0.9800 - val_loss: 0.0710 - val_binary_accuracy: 0.9793\n",
      "Epoch 97/100\n",
      "2136531/2136531 [==============================] - 268s 125us/step - loss: 0.0670 - binary_accuracy: 0.9800 - val_loss: 0.0699 - val_binary_accuracy: 0.9794\n",
      "Epoch 98/100\n",
      "2136531/2136531 [==============================] - 269s 126us/step - loss: 0.0669 - binary_accuracy: 0.9800 - val_loss: 0.0715 - val_binary_accuracy: 0.9792\n",
      "Epoch 99/100\n",
      "2136531/2136531 [==============================] - 268s 126us/step - loss: 0.0669 - binary_accuracy: 0.9801 - val_loss: 0.0707 - val_binary_accuracy: 0.9794\n",
      "Epoch 100/100\n",
      "2136531/2136531 [==============================] - 268s 126us/step - loss: 0.0668 - binary_accuracy: 0.9801 - val_loss: 0.0697 - val_binary_accuracy: 0.9798\n",
      "CPU times: user 2d 12h 58min 47s, sys: 12h 27min 47s, total: 3d 1h 26min 34s\n",
      "Wall time: 7h 22min 45s\n"
     ]
    }
   ],
   "source": [
    "%%time\n",
    "\n",
    "print ('Fitting model...')\n",
    "history = model.fit(X_final,Y_final,batch_size=250, epochs=100, validation_split = 0.10, verbose = 1)"
   ]
  },
  {
   "cell_type": "code",
   "execution_count": 307,
   "metadata": {},
   "outputs": [
    {
     "name": "stdout",
     "output_type": "stream",
     "text": [
      "2368345/2368345 [==============================] - 421s 178us/step\n"
     ]
    }
   ],
   "source": [
    "loss, accuracy = model.evaluate(X_test, Y_test)"
   ]
  },
  {
   "cell_type": "markdown",
   "metadata": {},
   "source": [
    "# Accuracy"
   ]
  },
  {
   "cell_type": "code",
   "execution_count": 308,
   "metadata": {},
   "outputs": [
    {
     "data": {
      "text/plain": [
       "(0.08345826450798798, 0.977523967158501)"
      ]
     },
     "execution_count": 308,
     "metadata": {},
     "output_type": "execute_result"
    }
   ],
   "source": [
    "loss, accuracy"
   ]
  },
  {
   "cell_type": "code",
   "execution_count": 309,
   "metadata": {
    "collapsed": true
   },
   "outputs": [],
   "source": [
    "# when taking 10 timesteps, and keeping separate test and training JobIDs\n",
    "# loss, accuracy is: \n",
    "# on X_test, Y_test"
   ]
  },
  {
   "cell_type": "code",
   "execution_count": 310,
   "metadata": {
    "collapsed": true
   },
   "outputs": [],
   "source": [
    "y_pred = model.predict(X_test)"
   ]
  },
  {
   "cell_type": "code",
   "execution_count": 311,
   "metadata": {
    "scrolled": true
   },
   "outputs": [
    {
     "data": {
      "text/plain": [
       "array([[0.9999753],\n",
       "       [0.9999751],\n",
       "       [0.9999752],\n",
       "       [0.9999752],\n",
       "       [0.9999759],\n",
       "       [0.9999778],\n",
       "       [0.9999808],\n",
       "       [0.9999839],\n",
       "       [0.999984 ],\n",
       "       [0.9999838]], dtype=float32)"
      ]
     },
     "execution_count": 311,
     "metadata": {},
     "output_type": "execute_result"
    }
   ],
   "source": [
    "y_pred[15000:15010]"
   ]
  },
  {
   "cell_type": "markdown",
   "metadata": {},
   "source": [
    "## Save Model 3"
   ]
  },
  {
   "cell_type": "code",
   "execution_count": 326,
   "metadata": {
    "collapsed": true
   },
   "outputs": [],
   "source": [
    "model.save('large_model3_tsteps1_features65_partII.pickle')"
   ]
  },
  {
   "cell_type": "markdown",
   "metadata": {},
   "source": [
    "# Binary classification accuracy"
   ]
  },
  {
   "cell_type": "code",
   "execution_count": 312,
   "metadata": {
    "collapsed": true
   },
   "outputs": [],
   "source": [
    "y_true = pd.Series([x[0] for x in Y_test])\n",
    "\n",
    "# Use np.rint for rounding off \n",
    "y_predicted = pd.Series([ np.rint(j[0]) for j in y_pred])"
   ]
  },
  {
   "cell_type": "code",
   "execution_count": 313,
   "metadata": {},
   "outputs": [
    {
     "data": {
      "text/plain": [
       "0.977523967158501"
      ]
     },
     "execution_count": 313,
     "metadata": {},
     "output_type": "execute_result"
    }
   ],
   "source": [
    "np.mean(np.equal(y_true, y_predicted))"
   ]
  },
  {
   "cell_type": "markdown",
   "metadata": {},
   "source": [
    "# Confusion matrix"
   ]
  },
  {
   "cell_type": "code",
   "execution_count": 314,
   "metadata": {
    "scrolled": true
   },
   "outputs": [
    {
     "data": {
      "text/html": [
       "<div>\n",
       "<style scoped>\n",
       "    .dataframe tbody tr th:only-of-type {\n",
       "        vertical-align: middle;\n",
       "    }\n",
       "\n",
       "    .dataframe tbody tr th {\n",
       "        vertical-align: top;\n",
       "    }\n",
       "\n",
       "    .dataframe thead th {\n",
       "        text-align: right;\n",
       "    }\n",
       "</style>\n",
       "<table border=\"1\" class=\"dataframe\">\n",
       "  <thead>\n",
       "    <tr style=\"text-align: right;\">\n",
       "      <th>Predicted</th>\n",
       "      <th>0.0</th>\n",
       "      <th>1.0</th>\n",
       "      <th>All</th>\n",
       "    </tr>\n",
       "    <tr>\n",
       "      <th>True</th>\n",
       "      <th></th>\n",
       "      <th></th>\n",
       "      <th></th>\n",
       "    </tr>\n",
       "  </thead>\n",
       "  <tbody>\n",
       "    <tr>\n",
       "      <th>0</th>\n",
       "      <td>1630670</td>\n",
       "      <td>7440</td>\n",
       "      <td>1638110</td>\n",
       "    </tr>\n",
       "    <tr>\n",
       "      <th>1</th>\n",
       "      <td>45791</td>\n",
       "      <td>684444</td>\n",
       "      <td>730235</td>\n",
       "    </tr>\n",
       "    <tr>\n",
       "      <th>All</th>\n",
       "      <td>1676461</td>\n",
       "      <td>691884</td>\n",
       "      <td>2368345</td>\n",
       "    </tr>\n",
       "  </tbody>\n",
       "</table>\n",
       "</div>"
      ],
      "text/plain": [
       "Predicted      0.0     1.0      All\n",
       "True                               \n",
       "0          1630670    7440  1638110\n",
       "1            45791  684444   730235\n",
       "All        1676461  691884  2368345"
      ]
     },
     "execution_count": 314,
     "metadata": {},
     "output_type": "execute_result"
    }
   ],
   "source": [
    "pd.crosstab(y_true, y_predicted, rownames=['True'], colnames=['Predicted'], margins=True)"
   ]
  },
  {
   "cell_type": "code",
   "execution_count": 202,
   "metadata": {},
   "outputs": [
    {
     "data": {
      "text/html": [
       "<div>\n",
       "<style scoped>\n",
       "    .dataframe tbody tr th:only-of-type {\n",
       "        vertical-align: middle;\n",
       "    }\n",
       "\n",
       "    .dataframe tbody tr th {\n",
       "        vertical-align: top;\n",
       "    }\n",
       "\n",
       "    .dataframe thead th {\n",
       "        text-align: right;\n",
       "    }\n",
       "</style>\n",
       "<table border=\"1\" class=\"dataframe\">\n",
       "  <thead>\n",
       "    <tr style=\"text-align: right;\">\n",
       "      <th>Predicted</th>\n",
       "      <th>0.0</th>\n",
       "      <th>1.0</th>\n",
       "      <th>All</th>\n",
       "    </tr>\n",
       "    <tr>\n",
       "      <th>True</th>\n",
       "      <th></th>\n",
       "      <th></th>\n",
       "      <th></th>\n",
       "    </tr>\n",
       "  </thead>\n",
       "  <tbody>\n",
       "    <tr>\n",
       "      <th>0</th>\n",
       "      <td>1628955</td>\n",
       "      <td>9155</td>\n",
       "      <td>1638110</td>\n",
       "    </tr>\n",
       "    <tr>\n",
       "      <th>1</th>\n",
       "      <td>48481</td>\n",
       "      <td>681754</td>\n",
       "      <td>730235</td>\n",
       "    </tr>\n",
       "    <tr>\n",
       "      <th>All</th>\n",
       "      <td>1677436</td>\n",
       "      <td>690909</td>\n",
       "      <td>2368345</td>\n",
       "    </tr>\n",
       "  </tbody>\n",
       "</table>\n",
       "</div>"
      ],
      "text/plain": [
       "Predicted      0.0     1.0      All\n",
       "True                               \n",
       "0          1628955    9155  1638110\n",
       "1            48481  681754   730235\n",
       "All        1677436  690909  2368345"
      ]
     },
     "execution_count": 202,
     "metadata": {},
     "output_type": "execute_result"
    }
   ],
   "source": [
    "pd.crosstab(y_true, y_predicted, rownames=['True'], colnames=['Predicted'], margins=True)"
   ]
  },
  {
   "cell_type": "code",
   "execution_count": 321,
   "metadata": {},
   "outputs": [
    {
     "data": {
      "text/plain": [
       "2.247603284149902"
      ]
     },
     "execution_count": 321,
     "metadata": {},
     "output_type": "execute_result"
    }
   ],
   "source": [
    "# Worst case error bound on JobID specific 'Status' prediction error:\n",
    "\n",
    "100*(7440+45791)/2368345"
   ]
  },
  {
   "cell_type": "code",
   "execution_count": 315,
   "metadata": {},
   "outputs": [
    {
     "data": {
      "text/plain": [
       "(342398, 342401)"
      ]
     },
     "execution_count": 315,
     "metadata": {},
     "output_type": "execute_result"
    }
   ],
   "source": [
    "len(takeoutdf.JobID.unique().tolist()), len(cleaned.JobID.unique().tolist())"
   ]
  },
  {
   "cell_type": "code",
   "execution_count": 316,
   "metadata": {},
   "outputs": [
    {
     "data": {
      "text/plain": [
       "118658"
      ]
     },
     "execution_count": 316,
     "metadata": {},
     "output_type": "execute_result"
    }
   ],
   "source": [
    "sum(takeoutdf[\"JobID\"].value_counts()==1)"
   ]
  },
  {
   "cell_type": "code",
   "execution_count": 317,
   "metadata": {},
   "outputs": [
    {
     "data": {
      "text/plain": [
       "45791"
      ]
     },
     "execution_count": 317,
     "metadata": {},
     "output_type": "execute_result"
    }
   ],
   "source": [
    "len(X_test[(y_true==1) & (y_predicted==0)])"
   ]
  },
  {
   "cell_type": "code",
   "execution_count": 318,
   "metadata": {},
   "outputs": [
    {
     "data": {
      "text/plain": [
       "[]"
      ]
     },
     "execution_count": 318,
     "metadata": {},
     "output_type": "execute_result"
    }
   ],
   "source": [
    "# Verify that there is no intersection between training and test jobs\n",
    "\n",
    "list(set(takeoutdf.JobID.tolist()) & set(cleaned.JobID.tolist()))"
   ]
  },
  {
   "cell_type": "code",
   "execution_count": 319,
   "metadata": {},
   "outputs": [
    {
     "data": {
      "text/plain": [
       "(691884.0, 2368345)"
      ]
     },
     "execution_count": 319,
     "metadata": {},
     "output_type": "execute_result"
    }
   ],
   "source": [
    "# Predicting all 0s ??\n",
    "sum([ (j) for j in y_predicted]), len(y_predicted)"
   ]
  },
  {
   "cell_type": "code",
   "execution_count": null,
   "metadata": {
    "collapsed": true
   },
   "outputs": [],
   "source": [
    "#### Model 3 End"
   ]
  },
  {
   "cell_type": "markdown",
   "metadata": {},
   "source": [
    "# Checkpoint: Valid code above this line"
   ]
  },
  {
   "cell_type": "code",
   "execution_count": 324,
   "metadata": {},
   "outputs": [
    {
     "ename": "ImportError",
     "evalue": "Failed to import pydot. You must install pydot and graphviz for `pydotprint` to work.",
     "output_type": "error",
     "traceback": [
      "\u001b[0;31m---------------------------------------------------------------------------\u001b[0m",
      "\u001b[0;31mAttributeError\u001b[0m                            Traceback (most recent call last)",
      "\u001b[0;32m~/anaconda3/envs/keras/lib/python3.5/site-packages/keras/utils/vis_utils.py\u001b[0m in \u001b[0;36m_check_pydot\u001b[0;34m()\u001b[0m\n\u001b[1;32m     26\u001b[0m         \u001b[0;31m# to check the pydot/graphviz installation.\u001b[0m\u001b[0;34m\u001b[0m\u001b[0;34m\u001b[0m\u001b[0m\n\u001b[0;32m---> 27\u001b[0;31m         \u001b[0mpydot\u001b[0m\u001b[0;34m.\u001b[0m\u001b[0mDot\u001b[0m\u001b[0;34m.\u001b[0m\u001b[0mcreate\u001b[0m\u001b[0;34m(\u001b[0m\u001b[0mpydot\u001b[0m\u001b[0;34m.\u001b[0m\u001b[0mDot\u001b[0m\u001b[0;34m(\u001b[0m\u001b[0;34m)\u001b[0m\u001b[0;34m)\u001b[0m\u001b[0;34m\u001b[0m\u001b[0m\n\u001b[0m\u001b[1;32m     28\u001b[0m     \u001b[0;32mexcept\u001b[0m \u001b[0mException\u001b[0m\u001b[0;34m:\u001b[0m\u001b[0;34m\u001b[0m\u001b[0m\n",
      "\u001b[0;31mAttributeError\u001b[0m: 'NoneType' object has no attribute 'Dot'",
      "\nDuring handling of the above exception, another exception occurred:\n",
      "\u001b[0;31mImportError\u001b[0m                               Traceback (most recent call last)",
      "\u001b[0;32m<ipython-input-324-2cabf02ce23a>\u001b[0m in \u001b[0;36m<module>\u001b[0;34m()\u001b[0m\n\u001b[1;32m      2\u001b[0m \u001b[0;32mfrom\u001b[0m \u001b[0mkeras\u001b[0m\u001b[0;34m.\u001b[0m\u001b[0mutils\u001b[0m\u001b[0;34m.\u001b[0m\u001b[0mvis_utils\u001b[0m \u001b[0;32mimport\u001b[0m \u001b[0mmodel_to_dot\u001b[0m\u001b[0;34m\u001b[0m\u001b[0m\n\u001b[1;32m      3\u001b[0m \u001b[0;34m\u001b[0m\u001b[0m\n\u001b[0;32m----> 4\u001b[0;31m \u001b[0mSVG\u001b[0m\u001b[0;34m(\u001b[0m\u001b[0mmodel_to_dot\u001b[0m\u001b[0;34m(\u001b[0m\u001b[0mmodel\u001b[0m\u001b[0;34m)\u001b[0m\u001b[0;34m.\u001b[0m\u001b[0mcreate\u001b[0m\u001b[0;34m(\u001b[0m\u001b[0mprog\u001b[0m\u001b[0;34m=\u001b[0m\u001b[0;34m'dot'\u001b[0m\u001b[0;34m,\u001b[0m \u001b[0mformat\u001b[0m\u001b[0;34m=\u001b[0m\u001b[0;34m'svg'\u001b[0m\u001b[0;34m)\u001b[0m\u001b[0;34m)\u001b[0m\u001b[0;34m\u001b[0m\u001b[0m\n\u001b[0m",
      "\u001b[0;32m~/anaconda3/envs/keras/lib/python3.5/site-packages/keras/utils/vis_utils.py\u001b[0m in \u001b[0;36mmodel_to_dot\u001b[0;34m(model, show_shapes, show_layer_names, rankdir)\u001b[0m\n\u001b[1;32m     54\u001b[0m     \u001b[0;32mfrom\u001b[0m \u001b[0;34m.\u001b[0m\u001b[0;34m.\u001b[0m\u001b[0mmodels\u001b[0m \u001b[0;32mimport\u001b[0m \u001b[0mSequential\u001b[0m\u001b[0;34m\u001b[0m\u001b[0m\n\u001b[1;32m     55\u001b[0m \u001b[0;34m\u001b[0m\u001b[0m\n\u001b[0;32m---> 56\u001b[0;31m     \u001b[0m_check_pydot\u001b[0m\u001b[0;34m(\u001b[0m\u001b[0;34m)\u001b[0m\u001b[0;34m\u001b[0m\u001b[0m\n\u001b[0m\u001b[1;32m     57\u001b[0m     \u001b[0mdot\u001b[0m \u001b[0;34m=\u001b[0m \u001b[0mpydot\u001b[0m\u001b[0;34m.\u001b[0m\u001b[0mDot\u001b[0m\u001b[0;34m(\u001b[0m\u001b[0;34m)\u001b[0m\u001b[0;34m\u001b[0m\u001b[0m\n\u001b[1;32m     58\u001b[0m     \u001b[0mdot\u001b[0m\u001b[0;34m.\u001b[0m\u001b[0mset\u001b[0m\u001b[0;34m(\u001b[0m\u001b[0;34m'rankdir'\u001b[0m\u001b[0;34m,\u001b[0m \u001b[0mrankdir\u001b[0m\u001b[0;34m)\u001b[0m\u001b[0;34m\u001b[0m\u001b[0m\n",
      "\u001b[0;32m~/anaconda3/envs/keras/lib/python3.5/site-packages/keras/utils/vis_utils.py\u001b[0m in \u001b[0;36m_check_pydot\u001b[0;34m()\u001b[0m\n\u001b[1;32m     29\u001b[0m         \u001b[0;31m# pydot raises a generic Exception here,\u001b[0m\u001b[0;34m\u001b[0m\u001b[0;34m\u001b[0m\u001b[0m\n\u001b[1;32m     30\u001b[0m         \u001b[0;31m# so no specific class can be caught.\u001b[0m\u001b[0;34m\u001b[0m\u001b[0;34m\u001b[0m\u001b[0m\n\u001b[0;32m---> 31\u001b[0;31m         raise ImportError('Failed to import pydot. You must install pydot'\n\u001b[0m\u001b[1;32m     32\u001b[0m                           ' and graphviz for `pydotprint` to work.')\n\u001b[1;32m     33\u001b[0m \u001b[0;34m\u001b[0m\u001b[0m\n",
      "\u001b[0;31mImportError\u001b[0m: Failed to import pydot. You must install pydot and graphviz for `pydotprint` to work."
     ]
    }
   ],
   "source": [
    "from IPython.display import SVG\n",
    "from keras.utils.vis_utils import model_to_dot\n",
    "\n",
    "SVG(model_to_dot(model).create(prog='dot', format='svg'))"
   ]
  },
  {
   "cell_type": "code",
   "execution_count": 327,
   "metadata": {},
   "outputs": [
    {
     "ename": "ImportError",
     "evalue": "Failed to import pydot. You must install pydot and graphviz for `pydotprint` to work.",
     "output_type": "error",
     "traceback": [
      "\u001b[0;31m---------------------------------------------------------------------------\u001b[0m",
      "\u001b[0;31mAttributeError\u001b[0m                            Traceback (most recent call last)",
      "\u001b[0;32m~/anaconda3/envs/keras/lib/python3.5/site-packages/keras/utils/vis_utils.py\u001b[0m in \u001b[0;36m_check_pydot\u001b[0;34m()\u001b[0m\n\u001b[1;32m     26\u001b[0m         \u001b[0;31m# to check the pydot/graphviz installation.\u001b[0m\u001b[0;34m\u001b[0m\u001b[0;34m\u001b[0m\u001b[0m\n\u001b[0;32m---> 27\u001b[0;31m         \u001b[0mpydot\u001b[0m\u001b[0;34m.\u001b[0m\u001b[0mDot\u001b[0m\u001b[0;34m.\u001b[0m\u001b[0mcreate\u001b[0m\u001b[0;34m(\u001b[0m\u001b[0mpydot\u001b[0m\u001b[0;34m.\u001b[0m\u001b[0mDot\u001b[0m\u001b[0;34m(\u001b[0m\u001b[0;34m)\u001b[0m\u001b[0;34m)\u001b[0m\u001b[0;34m\u001b[0m\u001b[0m\n\u001b[0m\u001b[1;32m     28\u001b[0m     \u001b[0;32mexcept\u001b[0m \u001b[0mException\u001b[0m\u001b[0;34m:\u001b[0m\u001b[0;34m\u001b[0m\u001b[0m\n",
      "\u001b[0;31mAttributeError\u001b[0m: 'NoneType' object has no attribute 'Dot'",
      "\nDuring handling of the above exception, another exception occurred:\n",
      "\u001b[0;31mImportError\u001b[0m                               Traceback (most recent call last)",
      "\u001b[0;32m<ipython-input-327-00623466f61b>\u001b[0m in \u001b[0;36m<module>\u001b[0;34m()\u001b[0m\n\u001b[1;32m      1\u001b[0m \u001b[0;32mfrom\u001b[0m \u001b[0mkeras\u001b[0m\u001b[0;34m.\u001b[0m\u001b[0mutils\u001b[0m \u001b[0;32mimport\u001b[0m \u001b[0mplot_model\u001b[0m\u001b[0;34m\u001b[0m\u001b[0m\n\u001b[0;32m----> 2\u001b[0;31m \u001b[0mplot_model\u001b[0m\u001b[0;34m(\u001b[0m\u001b[0mmodel\u001b[0m\u001b[0;34m,\u001b[0m \u001b[0mto_file\u001b[0m\u001b[0;34m=\u001b[0m\u001b[0;34m'model3.png'\u001b[0m\u001b[0;34m)\u001b[0m\u001b[0;34m\u001b[0m\u001b[0m\n\u001b[0m",
      "\u001b[0;32m~/anaconda3/envs/keras/lib/python3.5/site-packages/keras/utils/vis_utils.py\u001b[0m in \u001b[0;36mplot_model\u001b[0;34m(model, to_file, show_shapes, show_layer_names, rankdir)\u001b[0m\n\u001b[1;32m    133\u001b[0m             \u001b[0;34m'LR'\u001b[0m \u001b[0mcreates\u001b[0m \u001b[0ma\u001b[0m \u001b[0mhorizontal\u001b[0m \u001b[0mplot\u001b[0m\u001b[0;34m.\u001b[0m\u001b[0;34m\u001b[0m\u001b[0m\n\u001b[1;32m    134\u001b[0m     \"\"\"\n\u001b[0;32m--> 135\u001b[0;31m     \u001b[0mdot\u001b[0m \u001b[0;34m=\u001b[0m \u001b[0mmodel_to_dot\u001b[0m\u001b[0;34m(\u001b[0m\u001b[0mmodel\u001b[0m\u001b[0;34m,\u001b[0m \u001b[0mshow_shapes\u001b[0m\u001b[0;34m,\u001b[0m \u001b[0mshow_layer_names\u001b[0m\u001b[0;34m,\u001b[0m \u001b[0mrankdir\u001b[0m\u001b[0;34m)\u001b[0m\u001b[0;34m\u001b[0m\u001b[0m\n\u001b[0m\u001b[1;32m    136\u001b[0m     \u001b[0m_\u001b[0m\u001b[0;34m,\u001b[0m \u001b[0mextension\u001b[0m \u001b[0;34m=\u001b[0m \u001b[0mos\u001b[0m\u001b[0;34m.\u001b[0m\u001b[0mpath\u001b[0m\u001b[0;34m.\u001b[0m\u001b[0msplitext\u001b[0m\u001b[0;34m(\u001b[0m\u001b[0mto_file\u001b[0m\u001b[0;34m)\u001b[0m\u001b[0;34m\u001b[0m\u001b[0m\n\u001b[1;32m    137\u001b[0m     \u001b[0;32mif\u001b[0m \u001b[0;32mnot\u001b[0m \u001b[0mextension\u001b[0m\u001b[0;34m:\u001b[0m\u001b[0;34m\u001b[0m\u001b[0m\n",
      "\u001b[0;32m~/anaconda3/envs/keras/lib/python3.5/site-packages/keras/utils/vis_utils.py\u001b[0m in \u001b[0;36mmodel_to_dot\u001b[0;34m(model, show_shapes, show_layer_names, rankdir)\u001b[0m\n\u001b[1;32m     54\u001b[0m     \u001b[0;32mfrom\u001b[0m \u001b[0;34m.\u001b[0m\u001b[0;34m.\u001b[0m\u001b[0mmodels\u001b[0m \u001b[0;32mimport\u001b[0m \u001b[0mSequential\u001b[0m\u001b[0;34m\u001b[0m\u001b[0m\n\u001b[1;32m     55\u001b[0m \u001b[0;34m\u001b[0m\u001b[0m\n\u001b[0;32m---> 56\u001b[0;31m     \u001b[0m_check_pydot\u001b[0m\u001b[0;34m(\u001b[0m\u001b[0;34m)\u001b[0m\u001b[0;34m\u001b[0m\u001b[0m\n\u001b[0m\u001b[1;32m     57\u001b[0m     \u001b[0mdot\u001b[0m \u001b[0;34m=\u001b[0m \u001b[0mpydot\u001b[0m\u001b[0;34m.\u001b[0m\u001b[0mDot\u001b[0m\u001b[0;34m(\u001b[0m\u001b[0;34m)\u001b[0m\u001b[0;34m\u001b[0m\u001b[0m\n\u001b[1;32m     58\u001b[0m     \u001b[0mdot\u001b[0m\u001b[0;34m.\u001b[0m\u001b[0mset\u001b[0m\u001b[0;34m(\u001b[0m\u001b[0;34m'rankdir'\u001b[0m\u001b[0;34m,\u001b[0m \u001b[0mrankdir\u001b[0m\u001b[0;34m)\u001b[0m\u001b[0;34m\u001b[0m\u001b[0m\n",
      "\u001b[0;32m~/anaconda3/envs/keras/lib/python3.5/site-packages/keras/utils/vis_utils.py\u001b[0m in \u001b[0;36m_check_pydot\u001b[0;34m()\u001b[0m\n\u001b[1;32m     29\u001b[0m         \u001b[0;31m# pydot raises a generic Exception here,\u001b[0m\u001b[0;34m\u001b[0m\u001b[0;34m\u001b[0m\u001b[0m\n\u001b[1;32m     30\u001b[0m         \u001b[0;31m# so no specific class can be caught.\u001b[0m\u001b[0;34m\u001b[0m\u001b[0;34m\u001b[0m\u001b[0m\n\u001b[0;32m---> 31\u001b[0;31m         raise ImportError('Failed to import pydot. You must install pydot'\n\u001b[0m\u001b[1;32m     32\u001b[0m                           ' and graphviz for `pydotprint` to work.')\n\u001b[1;32m     33\u001b[0m \u001b[0;34m\u001b[0m\u001b[0m\n",
      "\u001b[0;31mImportError\u001b[0m: Failed to import pydot. You must install pydot and graphviz for `pydotprint` to work."
     ]
    }
   ],
   "source": [
    "from keras.utils import plot_model\n",
    "plot_model(model, to_file='model3.png')"
   ]
  },
  {
   "cell_type": "code",
   "execution_count": null,
   "metadata": {
    "collapsed": true
   },
   "outputs": [],
   "source": []
  }
 ],
 "metadata": {
  "kernelspec": {
   "display_name": "Python 3",
   "language": "python",
   "name": "python3"
  },
  "language_info": {
   "codemirror_mode": {
    "name": "ipython",
    "version": 3
   },
   "file_extension": ".py",
   "mimetype": "text/x-python",
   "name": "python",
   "nbconvert_exporter": "python",
   "pygments_lexer": "ipython3",
   "version": "3.6.0"
  }
 },
 "nbformat": 4,
 "nbformat_minor": 2
}
