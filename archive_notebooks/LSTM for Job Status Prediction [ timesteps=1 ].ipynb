{
 "cells": [
  {
   "cell_type": "code",
   "execution_count": 1,
   "metadata": {},
   "outputs": [],
   "source": [
    "# This notebook contains:\n",
    "#\n",
    "# Functions to connect to MYSQL database and generate list of feature vectors for each JOBID"
   ]
  },
  {
   "cell_type": "code",
   "execution_count": 2,
   "metadata": {},
   "outputs": [],
   "source": [
    "# Connect to MYSQL database\n",
    "\n",
    "hostname = 'localhost'\n",
    "username = 'a1singh'\n",
    "password = 'sdsc1234'\n",
    "database = 'belle2'\n",
    "\n",
    "import pandas as pd\n",
    "import numpy as np"
   ]
  },
  {
   "cell_type": "code",
   "execution_count": 3,
   "metadata": {},
   "outputs": [
    {
     "name": "stdout",
     "output_type": "stream",
     "text": [
      "/data/home/a1singh/anaconda3/envs/keras/bin/python\n",
      "3.5.4 |Anaconda, Inc.| (default, Nov 20 2017, 18:44:38) \n",
      "[GCC 7.2.0]\n"
     ]
    }
   ],
   "source": [
    "import sys\n",
    "print(sys.executable)\n",
    "print(sys.version)"
   ]
  },
  {
   "cell_type": "code",
   "execution_count": 4,
   "metadata": {},
   "outputs": [
    {
     "name": "stdout",
     "output_type": "stream",
     "text": [
      "<pymysql.connections.Connection object at 0x7f4ec40d91d0>\n"
     ]
    }
   ],
   "source": [
    "import pymysql\n",
    "from IPython.display import display, HTML\n",
    "\n",
    "conn = pymysql.connect(host=hostname, user=username, passwd=password, db=database)\n",
    "print(conn)"
   ]
  },
  {
   "cell_type": "code",
   "execution_count": 5,
   "metadata": {
    "scrolled": true
   },
   "outputs": [],
   "source": [
    "query = \"show tables\"\n",
    "df = pd.read_sql(query, conn)\n",
    "tables = df['Tables_in_belle2'].tolist()"
   ]
  },
  {
   "cell_type": "code",
   "execution_count": 6,
   "metadata": {},
   "outputs": [
    {
     "name": "stdout",
     "output_type": "stream",
     "text": [
      "AtticJobParameters\n"
     ]
    },
    {
     "data": {
      "text/html": [
       "<div>\n",
       "<style scoped>\n",
       "    .dataframe tbody tr th:only-of-type {\n",
       "        vertical-align: middle;\n",
       "    }\n",
       "\n",
       "    .dataframe tbody tr th {\n",
       "        vertical-align: top;\n",
       "    }\n",
       "\n",
       "    .dataframe thead th {\n",
       "        text-align: right;\n",
       "    }\n",
       "</style>\n",
       "<table border=\"1\" class=\"dataframe\">\n",
       "  <thead>\n",
       "    <tr style=\"text-align: right;\">\n",
       "      <th></th>\n",
       "      <th>Field</th>\n",
       "      <th>Type</th>\n",
       "      <th>Null</th>\n",
       "      <th>Key</th>\n",
       "      <th>Default</th>\n",
       "      <th>Extra</th>\n",
       "    </tr>\n",
       "  </thead>\n",
       "  <tbody>\n",
       "    <tr>\n",
       "      <th>0</th>\n",
       "      <td>JobID</td>\n",
       "      <td>int(11) unsigned</td>\n",
       "      <td>NO</td>\n",
       "      <td>PRI</td>\n",
       "      <td>None</td>\n",
       "      <td></td>\n",
       "    </tr>\n",
       "    <tr>\n",
       "      <th>1</th>\n",
       "      <td>Name</td>\n",
       "      <td>varchar(100)</td>\n",
       "      <td>NO</td>\n",
       "      <td>PRI</td>\n",
       "      <td>None</td>\n",
       "      <td></td>\n",
       "    </tr>\n",
       "    <tr>\n",
       "      <th>2</th>\n",
       "      <td>Value</td>\n",
       "      <td>blob</td>\n",
       "      <td>NO</td>\n",
       "      <td></td>\n",
       "      <td>None</td>\n",
       "      <td></td>\n",
       "    </tr>\n",
       "    <tr>\n",
       "      <th>3</th>\n",
       "      <td>RescheduleCycle</td>\n",
       "      <td>int(11) unsigned</td>\n",
       "      <td>NO</td>\n",
       "      <td>PRI</td>\n",
       "      <td>None</td>\n",
       "      <td></td>\n",
       "    </tr>\n",
       "  </tbody>\n",
       "</table>\n",
       "</div>"
      ],
      "text/plain": [
       "             Field              Type Null  Key Default Extra\n",
       "0            JobID  int(11) unsigned   NO  PRI    None      \n",
       "1             Name      varchar(100)   NO  PRI    None      \n",
       "2            Value              blob   NO         None      \n",
       "3  RescheduleCycle  int(11) unsigned   NO  PRI    None      "
      ]
     },
     "metadata": {},
     "output_type": "display_data"
    },
    {
     "name": "stdout",
     "output_type": "stream",
     "text": [
      "[['JobID' 'int(11) unsigned' 'NO' 'PRI' None '']\n",
      " ['Name' 'varchar(100)' 'NO' 'PRI' None '']\n",
      " ['Value' 'blob' 'NO' '' None '']\n",
      " ['RescheduleCycle' 'int(11) unsigned' 'NO' 'PRI' None '']]\n",
      "4\n",
      "----------------------------------------------------------------------------------------------------\n",
      "HeartBeatLoggingInfo\n"
     ]
    },
    {
     "data": {
      "text/html": [
       "<div>\n",
       "<style scoped>\n",
       "    .dataframe tbody tr th:only-of-type {\n",
       "        vertical-align: middle;\n",
       "    }\n",
       "\n",
       "    .dataframe tbody tr th {\n",
       "        vertical-align: top;\n",
       "    }\n",
       "\n",
       "    .dataframe thead th {\n",
       "        text-align: right;\n",
       "    }\n",
       "</style>\n",
       "<table border=\"1\" class=\"dataframe\">\n",
       "  <thead>\n",
       "    <tr style=\"text-align: right;\">\n",
       "      <th></th>\n",
       "      <th>Field</th>\n",
       "      <th>Type</th>\n",
       "      <th>Null</th>\n",
       "      <th>Key</th>\n",
       "      <th>Default</th>\n",
       "      <th>Extra</th>\n",
       "    </tr>\n",
       "  </thead>\n",
       "  <tbody>\n",
       "    <tr>\n",
       "      <th>0</th>\n",
       "      <td>JobID</td>\n",
       "      <td>int(11) unsigned</td>\n",
       "      <td>NO</td>\n",
       "      <td>PRI</td>\n",
       "      <td>None</td>\n",
       "      <td></td>\n",
       "    </tr>\n",
       "    <tr>\n",
       "      <th>1</th>\n",
       "      <td>Name</td>\n",
       "      <td>varchar(100)</td>\n",
       "      <td>NO</td>\n",
       "      <td>PRI</td>\n",
       "      <td>None</td>\n",
       "      <td></td>\n",
       "    </tr>\n",
       "    <tr>\n",
       "      <th>2</th>\n",
       "      <td>Value</td>\n",
       "      <td>blob</td>\n",
       "      <td>NO</td>\n",
       "      <td></td>\n",
       "      <td>None</td>\n",
       "      <td></td>\n",
       "    </tr>\n",
       "    <tr>\n",
       "      <th>3</th>\n",
       "      <td>HeartBeatTime</td>\n",
       "      <td>datetime</td>\n",
       "      <td>NO</td>\n",
       "      <td>PRI</td>\n",
       "      <td>None</td>\n",
       "      <td></td>\n",
       "    </tr>\n",
       "  </tbody>\n",
       "</table>\n",
       "</div>"
      ],
      "text/plain": [
       "           Field              Type Null  Key Default Extra\n",
       "0          JobID  int(11) unsigned   NO  PRI    None      \n",
       "1           Name      varchar(100)   NO  PRI    None      \n",
       "2          Value              blob   NO         None      \n",
       "3  HeartBeatTime          datetime   NO  PRI    None      "
      ]
     },
     "metadata": {},
     "output_type": "display_data"
    },
    {
     "name": "stdout",
     "output_type": "stream",
     "text": [
      "[['JobID' 'int(11) unsigned' 'NO' 'PRI' None '']\n",
      " ['Name' 'varchar(100)' 'NO' 'PRI' None '']\n",
      " ['Value' 'blob' 'NO' '' None '']\n",
      " ['HeartBeatTime' 'datetime' 'NO' 'PRI' None '']]\n",
      "4\n",
      "----------------------------------------------------------------------------------------------------\n",
      "InputData\n"
     ]
    },
    {
     "data": {
      "text/html": [
       "<div>\n",
       "<style scoped>\n",
       "    .dataframe tbody tr th:only-of-type {\n",
       "        vertical-align: middle;\n",
       "    }\n",
       "\n",
       "    .dataframe tbody tr th {\n",
       "        vertical-align: top;\n",
       "    }\n",
       "\n",
       "    .dataframe thead th {\n",
       "        text-align: right;\n",
       "    }\n",
       "</style>\n",
       "<table border=\"1\" class=\"dataframe\">\n",
       "  <thead>\n",
       "    <tr style=\"text-align: right;\">\n",
       "      <th></th>\n",
       "      <th>Field</th>\n",
       "      <th>Type</th>\n",
       "      <th>Null</th>\n",
       "      <th>Key</th>\n",
       "      <th>Default</th>\n",
       "      <th>Extra</th>\n",
       "    </tr>\n",
       "  </thead>\n",
       "  <tbody>\n",
       "    <tr>\n",
       "      <th>0</th>\n",
       "      <td>JobID</td>\n",
       "      <td>int(11) unsigned</td>\n",
       "      <td>NO</td>\n",
       "      <td>PRI</td>\n",
       "      <td>None</td>\n",
       "      <td></td>\n",
       "    </tr>\n",
       "    <tr>\n",
       "      <th>1</th>\n",
       "      <td>LFN</td>\n",
       "      <td>varchar(255)</td>\n",
       "      <td>NO</td>\n",
       "      <td>PRI</td>\n",
       "      <td></td>\n",
       "      <td></td>\n",
       "    </tr>\n",
       "    <tr>\n",
       "      <th>2</th>\n",
       "      <td>Status</td>\n",
       "      <td>varchar(32)</td>\n",
       "      <td>NO</td>\n",
       "      <td></td>\n",
       "      <td>AprioriGood</td>\n",
       "      <td></td>\n",
       "    </tr>\n",
       "  </tbody>\n",
       "</table>\n",
       "</div>"
      ],
      "text/plain": [
       "    Field              Type Null  Key      Default Extra\n",
       "0   JobID  int(11) unsigned   NO  PRI         None      \n",
       "1     LFN      varchar(255)   NO  PRI                   \n",
       "2  Status       varchar(32)   NO       AprioriGood      "
      ]
     },
     "metadata": {},
     "output_type": "display_data"
    },
    {
     "name": "stdout",
     "output_type": "stream",
     "text": [
      "[['JobID' 'int(11) unsigned' 'NO' 'PRI' None '']\n",
      " ['LFN' 'varchar(255)' 'NO' 'PRI' '' '']\n",
      " ['Status' 'varchar(32)' 'NO' '' 'AprioriGood' '']]\n",
      "3\n",
      "----------------------------------------------------------------------------------------------------\n",
      "JobCommands\n"
     ]
    },
    {
     "data": {
      "text/html": [
       "<div>\n",
       "<style scoped>\n",
       "    .dataframe tbody tr th:only-of-type {\n",
       "        vertical-align: middle;\n",
       "    }\n",
       "\n",
       "    .dataframe tbody tr th {\n",
       "        vertical-align: top;\n",
       "    }\n",
       "\n",
       "    .dataframe thead th {\n",
       "        text-align: right;\n",
       "    }\n",
       "</style>\n",
       "<table border=\"1\" class=\"dataframe\">\n",
       "  <thead>\n",
       "    <tr style=\"text-align: right;\">\n",
       "      <th></th>\n",
       "      <th>Field</th>\n",
       "      <th>Type</th>\n",
       "      <th>Null</th>\n",
       "      <th>Key</th>\n",
       "      <th>Default</th>\n",
       "      <th>Extra</th>\n",
       "    </tr>\n",
       "  </thead>\n",
       "  <tbody>\n",
       "    <tr>\n",
       "      <th>0</th>\n",
       "      <td>JobID</td>\n",
       "      <td>int(11) unsigned</td>\n",
       "      <td>NO</td>\n",
       "      <td>PRI</td>\n",
       "      <td>None</td>\n",
       "      <td></td>\n",
       "    </tr>\n",
       "    <tr>\n",
       "      <th>1</th>\n",
       "      <td>Command</td>\n",
       "      <td>varchar(100)</td>\n",
       "      <td>NO</td>\n",
       "      <td></td>\n",
       "      <td>None</td>\n",
       "      <td></td>\n",
       "    </tr>\n",
       "    <tr>\n",
       "      <th>2</th>\n",
       "      <td>Arguments</td>\n",
       "      <td>varchar(100)</td>\n",
       "      <td>NO</td>\n",
       "      <td>PRI</td>\n",
       "      <td>None</td>\n",
       "      <td></td>\n",
       "    </tr>\n",
       "    <tr>\n",
       "      <th>3</th>\n",
       "      <td>Status</td>\n",
       "      <td>varchar(64)</td>\n",
       "      <td>NO</td>\n",
       "      <td></td>\n",
       "      <td>Received</td>\n",
       "      <td></td>\n",
       "    </tr>\n",
       "    <tr>\n",
       "      <th>4</th>\n",
       "      <td>ReceptionTime</td>\n",
       "      <td>datetime</td>\n",
       "      <td>NO</td>\n",
       "      <td>PRI</td>\n",
       "      <td>None</td>\n",
       "      <td></td>\n",
       "    </tr>\n",
       "    <tr>\n",
       "      <th>5</th>\n",
       "      <td>ExecutionTime</td>\n",
       "      <td>datetime</td>\n",
       "      <td>YES</td>\n",
       "      <td></td>\n",
       "      <td>None</td>\n",
       "      <td></td>\n",
       "    </tr>\n",
       "  </tbody>\n",
       "</table>\n",
       "</div>"
      ],
      "text/plain": [
       "           Field              Type Null  Key   Default Extra\n",
       "0          JobID  int(11) unsigned   NO  PRI      None      \n",
       "1        Command      varchar(100)   NO           None      \n",
       "2      Arguments      varchar(100)   NO  PRI      None      \n",
       "3         Status       varchar(64)   NO       Received      \n",
       "4  ReceptionTime          datetime   NO  PRI      None      \n",
       "5  ExecutionTime          datetime  YES           None      "
      ]
     },
     "metadata": {},
     "output_type": "display_data"
    },
    {
     "name": "stdout",
     "output_type": "stream",
     "text": [
      "[['JobID' 'int(11) unsigned' 'NO' 'PRI' None '']\n",
      " ['Command' 'varchar(100)' 'NO' '' None '']\n",
      " ['Arguments' 'varchar(100)' 'NO' 'PRI' None '']\n",
      " ['Status' 'varchar(64)' 'NO' '' 'Received' '']\n",
      " ['ReceptionTime' 'datetime' 'NO' 'PRI' None '']\n",
      " ['ExecutionTime' 'datetime' 'YES' '' None '']]\n",
      "6\n",
      "----------------------------------------------------------------------------------------------------\n",
      "JobJDLs\n"
     ]
    },
    {
     "data": {
      "text/html": [
       "<div>\n",
       "<style scoped>\n",
       "    .dataframe tbody tr th:only-of-type {\n",
       "        vertical-align: middle;\n",
       "    }\n",
       "\n",
       "    .dataframe tbody tr th {\n",
       "        vertical-align: top;\n",
       "    }\n",
       "\n",
       "    .dataframe thead th {\n",
       "        text-align: right;\n",
       "    }\n",
       "</style>\n",
       "<table border=\"1\" class=\"dataframe\">\n",
       "  <thead>\n",
       "    <tr style=\"text-align: right;\">\n",
       "      <th></th>\n",
       "      <th>Field</th>\n",
       "      <th>Type</th>\n",
       "      <th>Null</th>\n",
       "      <th>Key</th>\n",
       "      <th>Default</th>\n",
       "      <th>Extra</th>\n",
       "    </tr>\n",
       "  </thead>\n",
       "  <tbody>\n",
       "    <tr>\n",
       "      <th>0</th>\n",
       "      <td>JobID</td>\n",
       "      <td>int(11) unsigned</td>\n",
       "      <td>NO</td>\n",
       "      <td>PRI</td>\n",
       "      <td>None</td>\n",
       "      <td>auto_increment</td>\n",
       "    </tr>\n",
       "    <tr>\n",
       "      <th>1</th>\n",
       "      <td>JDL</td>\n",
       "      <td>mediumblob</td>\n",
       "      <td>NO</td>\n",
       "      <td></td>\n",
       "      <td>None</td>\n",
       "      <td></td>\n",
       "    </tr>\n",
       "    <tr>\n",
       "      <th>2</th>\n",
       "      <td>JobRequirements</td>\n",
       "      <td>blob</td>\n",
       "      <td>NO</td>\n",
       "      <td></td>\n",
       "      <td>None</td>\n",
       "      <td></td>\n",
       "    </tr>\n",
       "    <tr>\n",
       "      <th>3</th>\n",
       "      <td>OriginalJDL</td>\n",
       "      <td>mediumblob</td>\n",
       "      <td>NO</td>\n",
       "      <td></td>\n",
       "      <td>None</td>\n",
       "      <td></td>\n",
       "    </tr>\n",
       "  </tbody>\n",
       "</table>\n",
       "</div>"
      ],
      "text/plain": [
       "             Field              Type Null  Key Default           Extra\n",
       "0            JobID  int(11) unsigned   NO  PRI    None  auto_increment\n",
       "1              JDL        mediumblob   NO         None                \n",
       "2  JobRequirements              blob   NO         None                \n",
       "3      OriginalJDL        mediumblob   NO         None                "
      ]
     },
     "metadata": {},
     "output_type": "display_data"
    },
    {
     "name": "stdout",
     "output_type": "stream",
     "text": [
      "[['JobID' 'int(11) unsigned' 'NO' 'PRI' None 'auto_increment']\n",
      " ['JDL' 'mediumblob' 'NO' '' None '']\n",
      " ['JobRequirements' 'blob' 'NO' '' None '']\n",
      " ['OriginalJDL' 'mediumblob' 'NO' '' None '']]\n",
      "4\n",
      "----------------------------------------------------------------------------------------------------\n",
      "JobParameters\n"
     ]
    },
    {
     "data": {
      "text/html": [
       "<div>\n",
       "<style scoped>\n",
       "    .dataframe tbody tr th:only-of-type {\n",
       "        vertical-align: middle;\n",
       "    }\n",
       "\n",
       "    .dataframe tbody tr th {\n",
       "        vertical-align: top;\n",
       "    }\n",
       "\n",
       "    .dataframe thead th {\n",
       "        text-align: right;\n",
       "    }\n",
       "</style>\n",
       "<table border=\"1\" class=\"dataframe\">\n",
       "  <thead>\n",
       "    <tr style=\"text-align: right;\">\n",
       "      <th></th>\n",
       "      <th>Field</th>\n",
       "      <th>Type</th>\n",
       "      <th>Null</th>\n",
       "      <th>Key</th>\n",
       "      <th>Default</th>\n",
       "      <th>Extra</th>\n",
       "    </tr>\n",
       "  </thead>\n",
       "  <tbody>\n",
       "    <tr>\n",
       "      <th>0</th>\n",
       "      <td>JobID</td>\n",
       "      <td>int(11) unsigned</td>\n",
       "      <td>NO</td>\n",
       "      <td>PRI</td>\n",
       "      <td>None</td>\n",
       "      <td></td>\n",
       "    </tr>\n",
       "    <tr>\n",
       "      <th>1</th>\n",
       "      <td>Name</td>\n",
       "      <td>varchar(100)</td>\n",
       "      <td>NO</td>\n",
       "      <td>PRI</td>\n",
       "      <td>None</td>\n",
       "      <td></td>\n",
       "    </tr>\n",
       "    <tr>\n",
       "      <th>2</th>\n",
       "      <td>Value</td>\n",
       "      <td>blob</td>\n",
       "      <td>NO</td>\n",
       "      <td></td>\n",
       "      <td>None</td>\n",
       "      <td></td>\n",
       "    </tr>\n",
       "  </tbody>\n",
       "</table>\n",
       "</div>"
      ],
      "text/plain": [
       "   Field              Type Null  Key Default Extra\n",
       "0  JobID  int(11) unsigned   NO  PRI    None      \n",
       "1   Name      varchar(100)   NO  PRI    None      \n",
       "2  Value              blob   NO         None      "
      ]
     },
     "metadata": {},
     "output_type": "display_data"
    },
    {
     "name": "stdout",
     "output_type": "stream",
     "text": [
      "[['JobID' 'int(11) unsigned' 'NO' 'PRI' None '']\n",
      " ['Name' 'varchar(100)' 'NO' 'PRI' None '']\n",
      " ['Value' 'blob' 'NO' '' None '']]\n",
      "3\n",
      "----------------------------------------------------------------------------------------------------\n",
      "Jobs\n"
     ]
    },
    {
     "data": {
      "text/html": [
       "<div>\n",
       "<style scoped>\n",
       "    .dataframe tbody tr th:only-of-type {\n",
       "        vertical-align: middle;\n",
       "    }\n",
       "\n",
       "    .dataframe tbody tr th {\n",
       "        vertical-align: top;\n",
       "    }\n",
       "\n",
       "    .dataframe thead th {\n",
       "        text-align: right;\n",
       "    }\n",
       "</style>\n",
       "<table border=\"1\" class=\"dataframe\">\n",
       "  <thead>\n",
       "    <tr style=\"text-align: right;\">\n",
       "      <th></th>\n",
       "      <th>Field</th>\n",
       "      <th>Type</th>\n",
       "      <th>Null</th>\n",
       "      <th>Key</th>\n",
       "      <th>Default</th>\n",
       "      <th>Extra</th>\n",
       "    </tr>\n",
       "  </thead>\n",
       "  <tbody>\n",
       "    <tr>\n",
       "      <th>0</th>\n",
       "      <td>JobID</td>\n",
       "      <td>int(11) unsigned</td>\n",
       "      <td>NO</td>\n",
       "      <td>PRI</td>\n",
       "      <td>0</td>\n",
       "      <td></td>\n",
       "    </tr>\n",
       "    <tr>\n",
       "      <th>1</th>\n",
       "      <td>JobType</td>\n",
       "      <td>varchar(32)</td>\n",
       "      <td>NO</td>\n",
       "      <td>MUL</td>\n",
       "      <td>user</td>\n",
       "      <td></td>\n",
       "    </tr>\n",
       "    <tr>\n",
       "      <th>2</th>\n",
       "      <td>DIRACSetup</td>\n",
       "      <td>varchar(32)</td>\n",
       "      <td>NO</td>\n",
       "      <td>MUL</td>\n",
       "      <td>test</td>\n",
       "      <td></td>\n",
       "    </tr>\n",
       "    <tr>\n",
       "      <th>3</th>\n",
       "      <td>JobGroup</td>\n",
       "      <td>varchar(32)</td>\n",
       "      <td>NO</td>\n",
       "      <td>MUL</td>\n",
       "      <td>00000000</td>\n",
       "      <td></td>\n",
       "    </tr>\n",
       "    <tr>\n",
       "      <th>4</th>\n",
       "      <td>JobSplitType</td>\n",
       "      <td>enum('Single','Master','Subjob','DAGNode')</td>\n",
       "      <td>NO</td>\n",
       "      <td>MUL</td>\n",
       "      <td>Single</td>\n",
       "      <td></td>\n",
       "    </tr>\n",
       "    <tr>\n",
       "      <th>5</th>\n",
       "      <td>MasterJobID</td>\n",
       "      <td>int(11) unsigned</td>\n",
       "      <td>NO</td>\n",
       "      <td></td>\n",
       "      <td>0</td>\n",
       "      <td></td>\n",
       "    </tr>\n",
       "    <tr>\n",
       "      <th>6</th>\n",
       "      <td>Site</td>\n",
       "      <td>varchar(100)</td>\n",
       "      <td>NO</td>\n",
       "      <td>MUL</td>\n",
       "      <td>ANY</td>\n",
       "      <td></td>\n",
       "    </tr>\n",
       "    <tr>\n",
       "      <th>7</th>\n",
       "      <td>JobName</td>\n",
       "      <td>varchar(128)</td>\n",
       "      <td>NO</td>\n",
       "      <td></td>\n",
       "      <td>Unknown</td>\n",
       "      <td></td>\n",
       "    </tr>\n",
       "    <tr>\n",
       "      <th>8</th>\n",
       "      <td>Owner</td>\n",
       "      <td>varchar(32)</td>\n",
       "      <td>NO</td>\n",
       "      <td>MUL</td>\n",
       "      <td>Unknown</td>\n",
       "      <td></td>\n",
       "    </tr>\n",
       "    <tr>\n",
       "      <th>9</th>\n",
       "      <td>OwnerDN</td>\n",
       "      <td>varchar(255)</td>\n",
       "      <td>NO</td>\n",
       "      <td>MUL</td>\n",
       "      <td>Unknown</td>\n",
       "      <td></td>\n",
       "    </tr>\n",
       "    <tr>\n",
       "      <th>10</th>\n",
       "      <td>OwnerGroup</td>\n",
       "      <td>varchar(128)</td>\n",
       "      <td>NO</td>\n",
       "      <td>MUL</td>\n",
       "      <td>Unknown</td>\n",
       "      <td></td>\n",
       "    </tr>\n",
       "    <tr>\n",
       "      <th>11</th>\n",
       "      <td>SubmissionTime</td>\n",
       "      <td>datetime</td>\n",
       "      <td>YES</td>\n",
       "      <td></td>\n",
       "      <td>None</td>\n",
       "      <td></td>\n",
       "    </tr>\n",
       "    <tr>\n",
       "      <th>12</th>\n",
       "      <td>RescheduleTime</td>\n",
       "      <td>datetime</td>\n",
       "      <td>YES</td>\n",
       "      <td></td>\n",
       "      <td>None</td>\n",
       "      <td></td>\n",
       "    </tr>\n",
       "    <tr>\n",
       "      <th>13</th>\n",
       "      <td>LastUpdateTime</td>\n",
       "      <td>datetime</td>\n",
       "      <td>YES</td>\n",
       "      <td>MUL</td>\n",
       "      <td>None</td>\n",
       "      <td></td>\n",
       "    </tr>\n",
       "    <tr>\n",
       "      <th>14</th>\n",
       "      <td>StartExecTime</td>\n",
       "      <td>datetime</td>\n",
       "      <td>YES</td>\n",
       "      <td></td>\n",
       "      <td>None</td>\n",
       "      <td></td>\n",
       "    </tr>\n",
       "    <tr>\n",
       "      <th>15</th>\n",
       "      <td>HeartBeatTime</td>\n",
       "      <td>datetime</td>\n",
       "      <td>YES</td>\n",
       "      <td></td>\n",
       "      <td>None</td>\n",
       "      <td></td>\n",
       "    </tr>\n",
       "    <tr>\n",
       "      <th>16</th>\n",
       "      <td>EndExecTime</td>\n",
       "      <td>datetime</td>\n",
       "      <td>YES</td>\n",
       "      <td></td>\n",
       "      <td>None</td>\n",
       "      <td></td>\n",
       "    </tr>\n",
       "    <tr>\n",
       "      <th>17</th>\n",
       "      <td>Status</td>\n",
       "      <td>varchar(32)</td>\n",
       "      <td>NO</td>\n",
       "      <td>MUL</td>\n",
       "      <td>Received</td>\n",
       "      <td></td>\n",
       "    </tr>\n",
       "    <tr>\n",
       "      <th>18</th>\n",
       "      <td>MinorStatus</td>\n",
       "      <td>varchar(128)</td>\n",
       "      <td>NO</td>\n",
       "      <td>MUL</td>\n",
       "      <td>Unknown</td>\n",
       "      <td></td>\n",
       "    </tr>\n",
       "    <tr>\n",
       "      <th>19</th>\n",
       "      <td>ApplicationStatus</td>\n",
       "      <td>varchar(255)</td>\n",
       "      <td>YES</td>\n",
       "      <td>MUL</td>\n",
       "      <td>Unknown</td>\n",
       "      <td></td>\n",
       "    </tr>\n",
       "    <tr>\n",
       "      <th>20</th>\n",
       "      <td>ApplicationNumStatus</td>\n",
       "      <td>int(11)</td>\n",
       "      <td>NO</td>\n",
       "      <td></td>\n",
       "      <td>0</td>\n",
       "      <td></td>\n",
       "    </tr>\n",
       "    <tr>\n",
       "      <th>21</th>\n",
       "      <td>CPUTime</td>\n",
       "      <td>float</td>\n",
       "      <td>NO</td>\n",
       "      <td></td>\n",
       "      <td>0</td>\n",
       "      <td></td>\n",
       "    </tr>\n",
       "    <tr>\n",
       "      <th>22</th>\n",
       "      <td>UserPriority</td>\n",
       "      <td>int(11)</td>\n",
       "      <td>NO</td>\n",
       "      <td></td>\n",
       "      <td>0</td>\n",
       "      <td></td>\n",
       "    </tr>\n",
       "    <tr>\n",
       "      <th>23</th>\n",
       "      <td>SystemPriority</td>\n",
       "      <td>int(11)</td>\n",
       "      <td>NO</td>\n",
       "      <td></td>\n",
       "      <td>0</td>\n",
       "      <td></td>\n",
       "    </tr>\n",
       "    <tr>\n",
       "      <th>24</th>\n",
       "      <td>RescheduleCounter</td>\n",
       "      <td>int(11)</td>\n",
       "      <td>NO</td>\n",
       "      <td></td>\n",
       "      <td>0</td>\n",
       "      <td></td>\n",
       "    </tr>\n",
       "    <tr>\n",
       "      <th>25</th>\n",
       "      <td>VerifiedFlag</td>\n",
       "      <td>enum('True','False')</td>\n",
       "      <td>NO</td>\n",
       "      <td></td>\n",
       "      <td>False</td>\n",
       "      <td></td>\n",
       "    </tr>\n",
       "    <tr>\n",
       "      <th>26</th>\n",
       "      <td>DeletedFlag</td>\n",
       "      <td>enum('True','False')</td>\n",
       "      <td>NO</td>\n",
       "      <td></td>\n",
       "      <td>False</td>\n",
       "      <td></td>\n",
       "    </tr>\n",
       "    <tr>\n",
       "      <th>27</th>\n",
       "      <td>KilledFlag</td>\n",
       "      <td>enum('True','False')</td>\n",
       "      <td>NO</td>\n",
       "      <td></td>\n",
       "      <td>False</td>\n",
       "      <td></td>\n",
       "    </tr>\n",
       "    <tr>\n",
       "      <th>28</th>\n",
       "      <td>FailedFlag</td>\n",
       "      <td>enum('True','False')</td>\n",
       "      <td>NO</td>\n",
       "      <td></td>\n",
       "      <td>False</td>\n",
       "      <td></td>\n",
       "    </tr>\n",
       "    <tr>\n",
       "      <th>29</th>\n",
       "      <td>ISandboxReadyFlag</td>\n",
       "      <td>enum('True','False')</td>\n",
       "      <td>NO</td>\n",
       "      <td></td>\n",
       "      <td>False</td>\n",
       "      <td></td>\n",
       "    </tr>\n",
       "    <tr>\n",
       "      <th>30</th>\n",
       "      <td>OSandboxReadyFlag</td>\n",
       "      <td>enum('True','False')</td>\n",
       "      <td>NO</td>\n",
       "      <td></td>\n",
       "      <td>False</td>\n",
       "      <td></td>\n",
       "    </tr>\n",
       "    <tr>\n",
       "      <th>31</th>\n",
       "      <td>RetrievedFlag</td>\n",
       "      <td>enum('True','False')</td>\n",
       "      <td>NO</td>\n",
       "      <td></td>\n",
       "      <td>False</td>\n",
       "      <td></td>\n",
       "    </tr>\n",
       "    <tr>\n",
       "      <th>32</th>\n",
       "      <td>AccountedFlag</td>\n",
       "      <td>enum('True','False','Failed')</td>\n",
       "      <td>NO</td>\n",
       "      <td></td>\n",
       "      <td>False</td>\n",
       "      <td></td>\n",
       "    </tr>\n",
       "  </tbody>\n",
       "</table>\n",
       "</div>"
      ],
      "text/plain": [
       "                   Field                                        Type Null  \\\n",
       "0                  JobID                            int(11) unsigned   NO   \n",
       "1                JobType                                 varchar(32)   NO   \n",
       "2             DIRACSetup                                 varchar(32)   NO   \n",
       "3               JobGroup                                 varchar(32)   NO   \n",
       "4           JobSplitType  enum('Single','Master','Subjob','DAGNode')   NO   \n",
       "5            MasterJobID                            int(11) unsigned   NO   \n",
       "6                   Site                                varchar(100)   NO   \n",
       "7                JobName                                varchar(128)   NO   \n",
       "8                  Owner                                 varchar(32)   NO   \n",
       "9                OwnerDN                                varchar(255)   NO   \n",
       "10            OwnerGroup                                varchar(128)   NO   \n",
       "11        SubmissionTime                                    datetime  YES   \n",
       "12        RescheduleTime                                    datetime  YES   \n",
       "13        LastUpdateTime                                    datetime  YES   \n",
       "14         StartExecTime                                    datetime  YES   \n",
       "15         HeartBeatTime                                    datetime  YES   \n",
       "16           EndExecTime                                    datetime  YES   \n",
       "17                Status                                 varchar(32)   NO   \n",
       "18           MinorStatus                                varchar(128)   NO   \n",
       "19     ApplicationStatus                                varchar(255)  YES   \n",
       "20  ApplicationNumStatus                                     int(11)   NO   \n",
       "21               CPUTime                                       float   NO   \n",
       "22          UserPriority                                     int(11)   NO   \n",
       "23        SystemPriority                                     int(11)   NO   \n",
       "24     RescheduleCounter                                     int(11)   NO   \n",
       "25          VerifiedFlag                        enum('True','False')   NO   \n",
       "26           DeletedFlag                        enum('True','False')   NO   \n",
       "27            KilledFlag                        enum('True','False')   NO   \n",
       "28            FailedFlag                        enum('True','False')   NO   \n",
       "29     ISandboxReadyFlag                        enum('True','False')   NO   \n",
       "30     OSandboxReadyFlag                        enum('True','False')   NO   \n",
       "31         RetrievedFlag                        enum('True','False')   NO   \n",
       "32         AccountedFlag               enum('True','False','Failed')   NO   \n",
       "\n",
       "    Key   Default Extra  \n",
       "0   PRI         0        \n",
       "1   MUL      user        \n",
       "2   MUL      test        \n",
       "3   MUL  00000000        \n",
       "4   MUL    Single        \n",
       "5               0        \n",
       "6   MUL       ANY        \n",
       "7         Unknown        \n",
       "8   MUL   Unknown        \n",
       "9   MUL   Unknown        \n",
       "10  MUL   Unknown        \n",
       "11           None        \n",
       "12           None        \n",
       "13  MUL      None        \n",
       "14           None        \n",
       "15           None        \n",
       "16           None        \n",
       "17  MUL  Received        \n",
       "18  MUL   Unknown        \n",
       "19  MUL   Unknown        \n",
       "20              0        \n",
       "21              0        \n",
       "22              0        \n",
       "23              0        \n",
       "24              0        \n",
       "25          False        \n",
       "26          False        \n",
       "27          False        \n",
       "28          False        \n",
       "29          False        \n",
       "30          False        \n",
       "31          False        \n",
       "32          False        "
      ]
     },
     "metadata": {},
     "output_type": "display_data"
    },
    {
     "name": "stdout",
     "output_type": "stream",
     "text": [
      "[['JobID' 'int(11) unsigned' 'NO' 'PRI' '0' '']\n",
      " ['JobType' 'varchar(32)' 'NO' 'MUL' 'user' '']\n",
      " ['DIRACSetup' 'varchar(32)' 'NO' 'MUL' 'test' '']\n",
      " ['JobGroup' 'varchar(32)' 'NO' 'MUL' '00000000' '']\n",
      " ['JobSplitType' \"enum('Single','Master','Subjob','DAGNode')\" 'NO' 'MUL'\n",
      "  'Single' '']\n",
      " ['MasterJobID' 'int(11) unsigned' 'NO' '' '0' '']\n",
      " ['Site' 'varchar(100)' 'NO' 'MUL' 'ANY' '']\n",
      " ['JobName' 'varchar(128)' 'NO' '' 'Unknown' '']\n",
      " ['Owner' 'varchar(32)' 'NO' 'MUL' 'Unknown' '']\n",
      " ['OwnerDN' 'varchar(255)' 'NO' 'MUL' 'Unknown' '']\n",
      " ['OwnerGroup' 'varchar(128)' 'NO' 'MUL' 'Unknown' '']\n",
      " ['SubmissionTime' 'datetime' 'YES' '' None '']\n",
      " ['RescheduleTime' 'datetime' 'YES' '' None '']\n",
      " ['LastUpdateTime' 'datetime' 'YES' 'MUL' None '']\n",
      " ['StartExecTime' 'datetime' 'YES' '' None '']\n",
      " ['HeartBeatTime' 'datetime' 'YES' '' None '']\n",
      " ['EndExecTime' 'datetime' 'YES' '' None '']\n",
      " ['Status' 'varchar(32)' 'NO' 'MUL' 'Received' '']\n",
      " ['MinorStatus' 'varchar(128)' 'NO' 'MUL' 'Unknown' '']\n",
      " ['ApplicationStatus' 'varchar(255)' 'YES' 'MUL' 'Unknown' '']\n",
      " ['ApplicationNumStatus' 'int(11)' 'NO' '' '0' '']\n",
      " ['CPUTime' 'float' 'NO' '' '0' '']\n",
      " ['UserPriority' 'int(11)' 'NO' '' '0' '']\n",
      " ['SystemPriority' 'int(11)' 'NO' '' '0' '']\n",
      " ['RescheduleCounter' 'int(11)' 'NO' '' '0' '']\n",
      " ['VerifiedFlag' \"enum('True','False')\" 'NO' '' 'False' '']\n",
      " ['DeletedFlag' \"enum('True','False')\" 'NO' '' 'False' '']\n",
      " ['KilledFlag' \"enum('True','False')\" 'NO' '' 'False' '']\n",
      " ['FailedFlag' \"enum('True','False')\" 'NO' '' 'False' '']\n",
      " ['ISandboxReadyFlag' \"enum('True','False')\" 'NO' '' 'False' '']\n",
      " ['OSandboxReadyFlag' \"enum('True','False')\" 'NO' '' 'False' '']\n",
      " ['RetrievedFlag' \"enum('True','False')\" 'NO' '' 'False' '']\n",
      " ['AccountedFlag' \"enum('True','False','Failed')\" 'NO' '' 'False' '']]\n",
      "33\n",
      "----------------------------------------------------------------------------------------------------\n",
      "OptimizerParameters\n"
     ]
    },
    {
     "data": {
      "text/html": [
       "<div>\n",
       "<style scoped>\n",
       "    .dataframe tbody tr th:only-of-type {\n",
       "        vertical-align: middle;\n",
       "    }\n",
       "\n",
       "    .dataframe tbody tr th {\n",
       "        vertical-align: top;\n",
       "    }\n",
       "\n",
       "    .dataframe thead th {\n",
       "        text-align: right;\n",
       "    }\n",
       "</style>\n",
       "<table border=\"1\" class=\"dataframe\">\n",
       "  <thead>\n",
       "    <tr style=\"text-align: right;\">\n",
       "      <th></th>\n",
       "      <th>Field</th>\n",
       "      <th>Type</th>\n",
       "      <th>Null</th>\n",
       "      <th>Key</th>\n",
       "      <th>Default</th>\n",
       "      <th>Extra</th>\n",
       "    </tr>\n",
       "  </thead>\n",
       "  <tbody>\n",
       "    <tr>\n",
       "      <th>0</th>\n",
       "      <td>JobID</td>\n",
       "      <td>int(11) unsigned</td>\n",
       "      <td>NO</td>\n",
       "      <td>PRI</td>\n",
       "      <td>None</td>\n",
       "      <td></td>\n",
       "    </tr>\n",
       "    <tr>\n",
       "      <th>1</th>\n",
       "      <td>Name</td>\n",
       "      <td>varchar(100)</td>\n",
       "      <td>NO</td>\n",
       "      <td>PRI</td>\n",
       "      <td>None</td>\n",
       "      <td></td>\n",
       "    </tr>\n",
       "    <tr>\n",
       "      <th>2</th>\n",
       "      <td>Value</td>\n",
       "      <td>mediumblob</td>\n",
       "      <td>NO</td>\n",
       "      <td></td>\n",
       "      <td>None</td>\n",
       "      <td></td>\n",
       "    </tr>\n",
       "  </tbody>\n",
       "</table>\n",
       "</div>"
      ],
      "text/plain": [
       "   Field              Type Null  Key Default Extra\n",
       "0  JobID  int(11) unsigned   NO  PRI    None      \n",
       "1   Name      varchar(100)   NO  PRI    None      \n",
       "2  Value        mediumblob   NO         None      "
      ]
     },
     "metadata": {},
     "output_type": "display_data"
    },
    {
     "name": "stdout",
     "output_type": "stream",
     "text": [
      "[['JobID' 'int(11) unsigned' 'NO' 'PRI' None '']\n",
      " ['Name' 'varchar(100)' 'NO' 'PRI' None '']\n",
      " ['Value' 'mediumblob' 'NO' '' None '']]\n",
      "3\n",
      "----------------------------------------------------------------------------------------------------\n",
      "SiteMask\n"
     ]
    },
    {
     "data": {
      "text/html": [
       "<div>\n",
       "<style scoped>\n",
       "    .dataframe tbody tr th:only-of-type {\n",
       "        vertical-align: middle;\n",
       "    }\n",
       "\n",
       "    .dataframe tbody tr th {\n",
       "        vertical-align: top;\n",
       "    }\n",
       "\n",
       "    .dataframe thead th {\n",
       "        text-align: right;\n",
       "    }\n",
       "</style>\n",
       "<table border=\"1\" class=\"dataframe\">\n",
       "  <thead>\n",
       "    <tr style=\"text-align: right;\">\n",
       "      <th></th>\n",
       "      <th>Field</th>\n",
       "      <th>Type</th>\n",
       "      <th>Null</th>\n",
       "      <th>Key</th>\n",
       "      <th>Default</th>\n",
       "      <th>Extra</th>\n",
       "    </tr>\n",
       "  </thead>\n",
       "  <tbody>\n",
       "    <tr>\n",
       "      <th>0</th>\n",
       "      <td>Site</td>\n",
       "      <td>varchar(64)</td>\n",
       "      <td>NO</td>\n",
       "      <td>PRI</td>\n",
       "      <td>None</td>\n",
       "      <td></td>\n",
       "    </tr>\n",
       "    <tr>\n",
       "      <th>1</th>\n",
       "      <td>Status</td>\n",
       "      <td>varchar(64)</td>\n",
       "      <td>NO</td>\n",
       "      <td></td>\n",
       "      <td>None</td>\n",
       "      <td></td>\n",
       "    </tr>\n",
       "    <tr>\n",
       "      <th>2</th>\n",
       "      <td>LastUpdateTime</td>\n",
       "      <td>datetime</td>\n",
       "      <td>NO</td>\n",
       "      <td></td>\n",
       "      <td>None</td>\n",
       "      <td></td>\n",
       "    </tr>\n",
       "    <tr>\n",
       "      <th>3</th>\n",
       "      <td>Author</td>\n",
       "      <td>varchar(255)</td>\n",
       "      <td>NO</td>\n",
       "      <td></td>\n",
       "      <td>None</td>\n",
       "      <td></td>\n",
       "    </tr>\n",
       "    <tr>\n",
       "      <th>4</th>\n",
       "      <td>Comment</td>\n",
       "      <td>blob</td>\n",
       "      <td>NO</td>\n",
       "      <td></td>\n",
       "      <td>None</td>\n",
       "      <td></td>\n",
       "    </tr>\n",
       "  </tbody>\n",
       "</table>\n",
       "</div>"
      ],
      "text/plain": [
       "            Field          Type Null  Key Default Extra\n",
       "0            Site   varchar(64)   NO  PRI    None      \n",
       "1          Status   varchar(64)   NO         None      \n",
       "2  LastUpdateTime      datetime   NO         None      \n",
       "3          Author  varchar(255)   NO         None      \n",
       "4         Comment          blob   NO         None      "
      ]
     },
     "metadata": {},
     "output_type": "display_data"
    },
    {
     "name": "stdout",
     "output_type": "stream",
     "text": [
      "[['Site' 'varchar(64)' 'NO' 'PRI' None '']\n",
      " ['Status' 'varchar(64)' 'NO' '' None '']\n",
      " ['LastUpdateTime' 'datetime' 'NO' '' None '']\n",
      " ['Author' 'varchar(255)' 'NO' '' None '']\n",
      " ['Comment' 'blob' 'NO' '' None '']]\n",
      "5\n",
      "----------------------------------------------------------------------------------------------------\n",
      "SiteMaskLogging\n"
     ]
    },
    {
     "data": {
      "text/html": [
       "<div>\n",
       "<style scoped>\n",
       "    .dataframe tbody tr th:only-of-type {\n",
       "        vertical-align: middle;\n",
       "    }\n",
       "\n",
       "    .dataframe tbody tr th {\n",
       "        vertical-align: top;\n",
       "    }\n",
       "\n",
       "    .dataframe thead th {\n",
       "        text-align: right;\n",
       "    }\n",
       "</style>\n",
       "<table border=\"1\" class=\"dataframe\">\n",
       "  <thead>\n",
       "    <tr style=\"text-align: right;\">\n",
       "      <th></th>\n",
       "      <th>Field</th>\n",
       "      <th>Type</th>\n",
       "      <th>Null</th>\n",
       "      <th>Key</th>\n",
       "      <th>Default</th>\n",
       "      <th>Extra</th>\n",
       "    </tr>\n",
       "  </thead>\n",
       "  <tbody>\n",
       "    <tr>\n",
       "      <th>0</th>\n",
       "      <td>Site</td>\n",
       "      <td>varchar(64)</td>\n",
       "      <td>NO</td>\n",
       "      <td>PRI</td>\n",
       "      <td>None</td>\n",
       "      <td></td>\n",
       "    </tr>\n",
       "    <tr>\n",
       "      <th>1</th>\n",
       "      <td>Status</td>\n",
       "      <td>varchar(64)</td>\n",
       "      <td>NO</td>\n",
       "      <td></td>\n",
       "      <td>None</td>\n",
       "      <td></td>\n",
       "    </tr>\n",
       "    <tr>\n",
       "      <th>2</th>\n",
       "      <td>UpdateTime</td>\n",
       "      <td>datetime</td>\n",
       "      <td>NO</td>\n",
       "      <td>PRI</td>\n",
       "      <td>None</td>\n",
       "      <td></td>\n",
       "    </tr>\n",
       "    <tr>\n",
       "      <th>3</th>\n",
       "      <td>Author</td>\n",
       "      <td>varchar(255)</td>\n",
       "      <td>NO</td>\n",
       "      <td></td>\n",
       "      <td>None</td>\n",
       "      <td></td>\n",
       "    </tr>\n",
       "    <tr>\n",
       "      <th>4</th>\n",
       "      <td>Comment</td>\n",
       "      <td>blob</td>\n",
       "      <td>NO</td>\n",
       "      <td></td>\n",
       "      <td>None</td>\n",
       "      <td></td>\n",
       "    </tr>\n",
       "  </tbody>\n",
       "</table>\n",
       "</div>"
      ],
      "text/plain": [
       "        Field          Type Null  Key Default Extra\n",
       "0        Site   varchar(64)   NO  PRI    None      \n",
       "1      Status   varchar(64)   NO         None      \n",
       "2  UpdateTime      datetime   NO  PRI    None      \n",
       "3      Author  varchar(255)   NO         None      \n",
       "4     Comment          blob   NO         None      "
      ]
     },
     "metadata": {},
     "output_type": "display_data"
    },
    {
     "name": "stdout",
     "output_type": "stream",
     "text": [
      "[['Site' 'varchar(64)' 'NO' 'PRI' None '']\n",
      " ['Status' 'varchar(64)' 'NO' '' None '']\n",
      " ['UpdateTime' 'datetime' 'NO' 'PRI' None '']\n",
      " ['Author' 'varchar(255)' 'NO' '' None '']\n",
      " ['Comment' 'blob' 'NO' '' None '']]\n",
      "5\n",
      "----------------------------------------------------------------------------------------------------\n"
     ]
    }
   ],
   "source": [
    "for tname in tables:\n",
    "    print(tname)\n",
    "    df = pd.read_sql(\"SHOW COLUMNS FROM \"+tname, conn)\n",
    "    display(df)\n",
    "    x = df.as_matrix()\n",
    "    print(x)\n",
    "    print(len(x))\n",
    "    print(100*'-')"
   ]
  },
  {
   "cell_type": "code",
   "execution_count": 7,
   "metadata": {},
   "outputs": [
    {
     "data": {
      "text/html": [
       "<div>\n",
       "<style scoped>\n",
       "    .dataframe tbody tr th:only-of-type {\n",
       "        vertical-align: middle;\n",
       "    }\n",
       "\n",
       "    .dataframe tbody tr th {\n",
       "        vertical-align: top;\n",
       "    }\n",
       "\n",
       "    .dataframe thead th {\n",
       "        text-align: right;\n",
       "    }\n",
       "</style>\n",
       "<table border=\"1\" class=\"dataframe\">\n",
       "  <thead>\n",
       "    <tr style=\"text-align: right;\">\n",
       "      <th></th>\n",
       "      <th>JobID</th>\n",
       "      <th>Name</th>\n",
       "      <th>Value</th>\n",
       "      <th>HeartBeatTime</th>\n",
       "    </tr>\n",
       "  </thead>\n",
       "  <tbody>\n",
       "    <tr>\n",
       "      <th>0</th>\n",
       "      <td>23140766</td>\n",
       "      <td>AvailableDiskSpace</td>\n",
       "      <td>b'753392.0'</td>\n",
       "      <td>2015-08-07 13:13:48</td>\n",
       "    </tr>\n",
       "    <tr>\n",
       "      <th>1</th>\n",
       "      <td>23140766</td>\n",
       "      <td>CPUConsumed</td>\n",
       "      <td>b'10.0'</td>\n",
       "      <td>2015-08-07 13:13:48</td>\n",
       "    </tr>\n",
       "    <tr>\n",
       "      <th>2</th>\n",
       "      <td>23140766</td>\n",
       "      <td>LoadAverage</td>\n",
       "      <td>b'22.02'</td>\n",
       "      <td>2015-08-07 13:13:48</td>\n",
       "    </tr>\n",
       "    <tr>\n",
       "      <th>3</th>\n",
       "      <td>23140766</td>\n",
       "      <td>MemoryUsed</td>\n",
       "      <td>b'36101188.0'</td>\n",
       "      <td>2015-08-07 13:13:48</td>\n",
       "    </tr>\n",
       "    <tr>\n",
       "      <th>4</th>\n",
       "      <td>23140766</td>\n",
       "      <td>RSS</td>\n",
       "      <td>b'110596.0'</td>\n",
       "      <td>2015-08-07 13:13:48</td>\n",
       "    </tr>\n",
       "    <tr>\n",
       "      <th>5</th>\n",
       "      <td>23140766</td>\n",
       "      <td>Vsize</td>\n",
       "      <td>b'1459640.0'</td>\n",
       "      <td>2015-08-07 13:13:48</td>\n",
       "    </tr>\n",
       "    <tr>\n",
       "      <th>6</th>\n",
       "      <td>23140766</td>\n",
       "      <td>WallClockTime</td>\n",
       "      <td>b'3.19816112518'</td>\n",
       "      <td>2015-08-07 13:13:48</td>\n",
       "    </tr>\n",
       "    <tr>\n",
       "      <th>7</th>\n",
       "      <td>23141083</td>\n",
       "      <td>AvailableDiskSpace</td>\n",
       "      <td>b'1544234.0'</td>\n",
       "      <td>2015-08-07 13:29:48</td>\n",
       "    </tr>\n",
       "    <tr>\n",
       "      <th>8</th>\n",
       "      <td>23141083</td>\n",
       "      <td>CPUConsumed</td>\n",
       "      <td>b'8.0'</td>\n",
       "      <td>2015-08-07 13:29:48</td>\n",
       "    </tr>\n",
       "    <tr>\n",
       "      <th>9</th>\n",
       "      <td>23141083</td>\n",
       "      <td>LoadAverage</td>\n",
       "      <td>b'22.41'</td>\n",
       "      <td>2015-08-07 13:29:48</td>\n",
       "    </tr>\n",
       "    <tr>\n",
       "      <th>10</th>\n",
       "      <td>23141083</td>\n",
       "      <td>MemoryUsed</td>\n",
       "      <td>b'36037080.0'</td>\n",
       "      <td>2015-08-07 13:29:48</td>\n",
       "    </tr>\n",
       "    <tr>\n",
       "      <th>11</th>\n",
       "      <td>23141083</td>\n",
       "      <td>RSS</td>\n",
       "      <td>b'111956.0'</td>\n",
       "      <td>2015-08-07 13:29:48</td>\n",
       "    </tr>\n",
       "    <tr>\n",
       "      <th>12</th>\n",
       "      <td>23141083</td>\n",
       "      <td>Vsize</td>\n",
       "      <td>b'1707264.0'</td>\n",
       "      <td>2015-08-07 13:29:48</td>\n",
       "    </tr>\n",
       "    <tr>\n",
       "      <th>13</th>\n",
       "      <td>23141083</td>\n",
       "      <td>WallClockTime</td>\n",
       "      <td>b'2.89045214653'</td>\n",
       "      <td>2015-08-07 13:29:48</td>\n",
       "    </tr>\n",
       "    <tr>\n",
       "      <th>14</th>\n",
       "      <td>23205537</td>\n",
       "      <td>AvailableDiskSpace</td>\n",
       "      <td>b'568076.0'</td>\n",
       "      <td>2015-08-08 22:43:00</td>\n",
       "    </tr>\n",
       "    <tr>\n",
       "      <th>15</th>\n",
       "      <td>23205537</td>\n",
       "      <td>AvailableDiskSpace</td>\n",
       "      <td>b'568290.0'</td>\n",
       "      <td>2015-08-08 23:13:00</td>\n",
       "    </tr>\n",
       "    <tr>\n",
       "      <th>16</th>\n",
       "      <td>23205537</td>\n",
       "      <td>AvailableDiskSpace</td>\n",
       "      <td>b'568012.0'</td>\n",
       "      <td>2015-08-08 23:42:58</td>\n",
       "    </tr>\n",
       "    <tr>\n",
       "      <th>17</th>\n",
       "      <td>23205537</td>\n",
       "      <td>AvailableDiskSpace</td>\n",
       "      <td>b'567882.0'</td>\n",
       "      <td>2015-08-09 00:12:58</td>\n",
       "    </tr>\n",
       "    <tr>\n",
       "      <th>18</th>\n",
       "      <td>23205537</td>\n",
       "      <td>AvailableDiskSpace</td>\n",
       "      <td>b'567746.0'</td>\n",
       "      <td>2015-08-09 00:42:58</td>\n",
       "    </tr>\n",
       "    <tr>\n",
       "      <th>19</th>\n",
       "      <td>23205537</td>\n",
       "      <td>AvailableDiskSpace</td>\n",
       "      <td>b'567617.0'</td>\n",
       "      <td>2015-08-09 01:13:08</td>\n",
       "    </tr>\n",
       "  </tbody>\n",
       "</table>\n",
       "</div>"
      ],
      "text/plain": [
       "       JobID                Name             Value       HeartBeatTime\n",
       "0   23140766  AvailableDiskSpace       b'753392.0' 2015-08-07 13:13:48\n",
       "1   23140766         CPUConsumed           b'10.0' 2015-08-07 13:13:48\n",
       "2   23140766         LoadAverage          b'22.02' 2015-08-07 13:13:48\n",
       "3   23140766          MemoryUsed     b'36101188.0' 2015-08-07 13:13:48\n",
       "4   23140766                 RSS       b'110596.0' 2015-08-07 13:13:48\n",
       "5   23140766               Vsize      b'1459640.0' 2015-08-07 13:13:48\n",
       "6   23140766       WallClockTime  b'3.19816112518' 2015-08-07 13:13:48\n",
       "7   23141083  AvailableDiskSpace      b'1544234.0' 2015-08-07 13:29:48\n",
       "8   23141083         CPUConsumed            b'8.0' 2015-08-07 13:29:48\n",
       "9   23141083         LoadAverage          b'22.41' 2015-08-07 13:29:48\n",
       "10  23141083          MemoryUsed     b'36037080.0' 2015-08-07 13:29:48\n",
       "11  23141083                 RSS       b'111956.0' 2015-08-07 13:29:48\n",
       "12  23141083               Vsize      b'1707264.0' 2015-08-07 13:29:48\n",
       "13  23141083       WallClockTime  b'2.89045214653' 2015-08-07 13:29:48\n",
       "14  23205537  AvailableDiskSpace       b'568076.0' 2015-08-08 22:43:00\n",
       "15  23205537  AvailableDiskSpace       b'568290.0' 2015-08-08 23:13:00\n",
       "16  23205537  AvailableDiskSpace       b'568012.0' 2015-08-08 23:42:58\n",
       "17  23205537  AvailableDiskSpace       b'567882.0' 2015-08-09 00:12:58\n",
       "18  23205537  AvailableDiskSpace       b'567746.0' 2015-08-09 00:42:58\n",
       "19  23205537  AvailableDiskSpace       b'567617.0' 2015-08-09 01:13:08"
      ]
     },
     "metadata": {},
     "output_type": "display_data"
    },
    {
     "name": "stdout",
     "output_type": "stream",
     "text": [
      "CPU times: user 20.8 ms, sys: 112 µs, total: 21 ms\n",
      "Wall time: 19.8 ms\n"
     ]
    }
   ],
   "source": [
    "%%time\n",
    "# Total number of rows in HeartBeatLoggingInfo (ans - 906,320,307)\n",
    "\n",
    "df = pd.read_sql(\"SELECT * FROM HeartBeatLoggingInfo LIMIT 20\", conn)\n",
    "display(df)"
   ]
  },
  {
   "cell_type": "code",
   "execution_count": 9,
   "metadata": {},
   "outputs": [
    {
     "data": {
      "text/plain": [
       "Index(['JobID', 'JobType', 'DIRACSetup', 'JobGroup', 'JobSplitType',\n",
       "       'MasterJobID', 'Site', 'JobName', 'Owner', 'OwnerDN', 'OwnerGroup',\n",
       "       'SubmissionTime', 'RescheduleTime', 'LastUpdateTime', 'StartExecTime',\n",
       "       'HeartBeatTime', 'EndExecTime', 'Status', 'MinorStatus',\n",
       "       'ApplicationStatus', 'ApplicationNumStatus', 'CPUTime', 'UserPriority',\n",
       "       'SystemPriority', 'RescheduleCounter', 'VerifiedFlag', 'DeletedFlag',\n",
       "       'KilledFlag', 'FailedFlag', 'ISandboxReadyFlag', 'OSandboxReadyFlag',\n",
       "       'RetrievedFlag', 'AccountedFlag'],\n",
       "      dtype='object')"
      ]
     },
     "metadata": {},
     "output_type": "display_data"
    },
    {
     "name": "stdout",
     "output_type": "stream",
     "text": [
      "CPU times: user 14.5 ms, sys: 3.74 ms, total: 18.2 ms\n",
      "Wall time: 16.6 ms\n"
     ]
    }
   ],
   "source": [
    "%%time\n",
    "# Total number of rows in HeartBeatLoggingInfo (ans - 906,320,307)\n",
    "\n",
    "df = pd.read_sql(\"SELECT * FROM Jobs LIMIT 20\", conn)\n",
    "display(df.columns)"
   ]
  },
  {
   "cell_type": "code",
   "execution_count": null,
   "metadata": {},
   "outputs": [],
   "source": [
    "%%time\n",
    "# Total number of unique JobIDs in HeartBeatLoggingInfo\n",
    "# number of distinct JobIDs (ans - 10,137,037)\n",
    "\n",
    "df = pd.read_sql(\"SELECT COUNT(DISTINCT JobID) FROM HeartBeatLoggingInfo LIMIT 10\", conn)\n",
    "display(df)"
   ]
  },
  {
   "cell_type": "code",
   "execution_count": 12,
   "metadata": {},
   "outputs": [
    {
     "data": {
      "text/html": [
       "<div>\n",
       "<style scoped>\n",
       "    .dataframe tbody tr th:only-of-type {\n",
       "        vertical-align: middle;\n",
       "    }\n",
       "\n",
       "    .dataframe tbody tr th {\n",
       "        vertical-align: top;\n",
       "    }\n",
       "\n",
       "    .dataframe thead th {\n",
       "        text-align: right;\n",
       "    }\n",
       "</style>\n",
       "<table border=\"1\" class=\"dataframe\">\n",
       "  <thead>\n",
       "    <tr style=\"text-align: right;\">\n",
       "      <th></th>\n",
       "      <th>COUNT(DISTINCT JobID)</th>\n",
       "    </tr>\n",
       "  </thead>\n",
       "  <tbody>\n",
       "    <tr>\n",
       "      <th>0</th>\n",
       "      <td>10485197</td>\n",
       "    </tr>\n",
       "  </tbody>\n",
       "</table>\n",
       "</div>"
      ],
      "text/plain": [
       "   COUNT(DISTINCT JobID)\n",
       "0               10485197"
      ]
     },
     "metadata": {},
     "output_type": "display_data"
    },
    {
     "name": "stdout",
     "output_type": "stream",
     "text": [
      "CPU times: user 11 ms, sys: 0 ns, total: 11 ms\n",
      "Wall time: 7.61 s\n"
     ]
    }
   ],
   "source": [
    "%%time\n",
    "# Total number of unique JobIDs in Jobs\n",
    "# number of distinct JobIDs (ans - 10,485,197)\n",
    "\n",
    "df = pd.read_sql(\"SELECT COUNT(DISTINCT JobID) FROM Jobs LIMIT 10\", conn)\n",
    "display(df)"
   ]
  },
  {
   "cell_type": "code",
   "execution_count": 11,
   "metadata": {},
   "outputs": [
    {
     "data": {
      "text/html": [
       "<div>\n",
       "<style scoped>\n",
       "    .dataframe tbody tr th:only-of-type {\n",
       "        vertical-align: middle;\n",
       "    }\n",
       "\n",
       "    .dataframe tbody tr th {\n",
       "        vertical-align: top;\n",
       "    }\n",
       "\n",
       "    .dataframe thead th {\n",
       "        text-align: right;\n",
       "    }\n",
       "</style>\n",
       "<table border=\"1\" class=\"dataframe\">\n",
       "  <thead>\n",
       "    <tr style=\"text-align: right;\">\n",
       "      <th></th>\n",
       "      <th>COUNT(DISTINCT JobGroup)</th>\n",
       "    </tr>\n",
       "  </thead>\n",
       "  <tbody>\n",
       "    <tr>\n",
       "      <th>0</th>\n",
       "      <td>5405</td>\n",
       "    </tr>\n",
       "  </tbody>\n",
       "</table>\n",
       "</div>"
      ],
      "text/plain": [
       "   COUNT(DISTINCT JobGroup)\n",
       "0                      5405"
      ]
     },
     "metadata": {},
     "output_type": "display_data"
    },
    {
     "name": "stdout",
     "output_type": "stream",
     "text": [
      "CPU times: user 7.86 ms, sys: 3.99 ms, total: 11.9 ms\n",
      "Wall time: 11 s\n"
     ]
    }
   ],
   "source": [
    "%%time\n",
    "# Total number of unique JobGroup in Jobs table\n",
    "# number of distinct JobGroup (ans - 5405)\n",
    "\n",
    "df = pd.read_sql(\"SELECT COUNT(DISTINCT JobGroup) FROM Jobs LIMIT 10\", conn)\n",
    "display(df)"
   ]
  },
  {
   "cell_type": "code",
   "execution_count": null,
   "metadata": {},
   "outputs": [],
   "source": [
    "%%time\n",
    "# Total number of unique timestamps in HeartBeatLoggingInfo\n",
    "# number of distinct hearbeattime entries (ans - 1,616,7003)\n",
    "\n",
    "df_stamps = pd.read_sql(\"SELECT COUNT(DISTINCT HeartBeatTime) FROM HeartBeatLoggingInfo LIMIT 10\", conn)\n",
    "display(df_stamps)"
   ]
  },
  {
   "cell_type": "code",
   "execution_count": null,
   "metadata": {},
   "outputs": [],
   "source": [
    "# Average Number of timestamps per jobID\n",
    "\n",
    "16167003 / 10137037"
   ]
  },
  {
   "cell_type": "code",
   "execution_count": null,
   "metadata": {},
   "outputs": [],
   "source": [
    "# Average number of key-value pairs per timestamp\n",
    "\n",
    "906320307 / 16167003"
   ]
  },
  {
   "cell_type": "markdown",
   "metadata": {},
   "source": [
    "# Get Failed Jobs"
   ]
  },
  {
   "cell_type": "code",
   "execution_count": null,
   "metadata": {},
   "outputs": [],
   "source": [
    "%%time\n",
    "\n",
    "query       = 'SELECT * FROM Jobs WHERE Status = \\'Failed\\' LIMIT 133000'\n",
    "failedJobs    = pd.read_sql_query(query,con=conn)"
   ]
  },
  {
   "cell_type": "code",
   "execution_count": null,
   "metadata": {},
   "outputs": [],
   "source": [
    "failedJobs.shape"
   ]
  },
  {
   "cell_type": "code",
   "execution_count": null,
   "metadata": {},
   "outputs": [],
   "source": [
    "listofjobids = failedJobs['JobID'].tolist()\n",
    "listofjobids = list(set(listofjobids))\n",
    "len(listofjobids)"
   ]
  },
  {
   "cell_type": "code",
   "execution_count": null,
   "metadata": {},
   "outputs": [],
   "source": [
    "%%time\n",
    "# # Keep only the rows whose jobID is in HeartBeatLogging table\n",
    "\n",
    "query       = 'SELECT * FROM HeartBeatLoggingInfo WHERE JobID IN (' + ','.join((str(x) for x in listofjobids)) + ')'\n",
    "dataHBLI_failed    = pd.read_sql_query(query,con=conn)"
   ]
  },
  {
   "cell_type": "code",
   "execution_count": null,
   "metadata": {},
   "outputs": [],
   "source": [
    "dataHBLI_failed.JobID.nunique()"
   ]
  },
  {
   "cell_type": "markdown",
   "metadata": {},
   "source": [
    "# Get Successful Jobs"
   ]
  },
  {
   "cell_type": "code",
   "execution_count": null,
   "metadata": {},
   "outputs": [],
   "source": [
    "# Find equal number of Successful job"
   ]
  },
  {
   "cell_type": "code",
   "execution_count": null,
   "metadata": {},
   "outputs": [],
   "source": [
    "%%time\n",
    "\n",
    "query       = 'SELECT * FROM Jobs WHERE Status = \\'Done\\' LIMIT 100000'\n",
    "successJobs    = pd.read_sql_query(query,con=conn)"
   ]
  },
  {
   "cell_type": "code",
   "execution_count": null,
   "metadata": {},
   "outputs": [],
   "source": [
    "successJobs.shape"
   ]
  },
  {
   "cell_type": "code",
   "execution_count": null,
   "metadata": {},
   "outputs": [],
   "source": [
    "listofjobids = successJobs['JobID'].tolist()\n",
    "listofjobids = list(set(listofjobids))\n",
    "len(listofjobids)"
   ]
  },
  {
   "cell_type": "code",
   "execution_count": null,
   "metadata": {},
   "outputs": [],
   "source": [
    "%%time\n",
    "# # Keep only the rows whose jobID is in HeartBeatLogging table\n",
    "\n",
    "query   = 'SELECT * FROM HeartBeatLoggingInfo WHERE JobID IN (' + ','.join((str(x) for x in listofjobids)) + ')'\n",
    "dataHBLI_success = pd.read_sql_query(query,con=conn)"
   ]
  },
  {
   "cell_type": "code",
   "execution_count": null,
   "metadata": {},
   "outputs": [],
   "source": [
    "dataHBLI_success.shape"
   ]
  },
  {
   "cell_type": "code",
   "execution_count": null,
   "metadata": {},
   "outputs": [],
   "source": [
    "dataHBLI_success.JobID.nunique()"
   ]
  },
  {
   "cell_type": "markdown",
   "metadata": {},
   "source": [
    "### Combine HBLI tables pieces = (failed, success)"
   ]
  },
  {
   "cell_type": "code",
   "execution_count": null,
   "metadata": {},
   "outputs": [],
   "source": [
    "dataHBLI_failed.shape, dataHBLI_success.shape"
   ]
  },
  {
   "cell_type": "code",
   "execution_count": null,
   "metadata": {},
   "outputs": [],
   "source": [
    "pieces = (dataHBLI_failed, dataHBLI_success)"
   ]
  },
  {
   "cell_type": "code",
   "execution_count": null,
   "metadata": {},
   "outputs": [],
   "source": [
    "allHBLI = pd.concat(pieces, ignore_index = True)"
   ]
  },
  {
   "cell_type": "markdown",
   "metadata": {},
   "source": [
    "### Combine Jobs tables pieces = (failed, success)"
   ]
  },
  {
   "cell_type": "code",
   "execution_count": null,
   "metadata": {},
   "outputs": [],
   "source": [
    "failedJobs.shape, successJobs.shape"
   ]
  },
  {
   "cell_type": "code",
   "execution_count": null,
   "metadata": {},
   "outputs": [],
   "source": [
    "pieces = (failedJobs, successJobs)"
   ]
  },
  {
   "cell_type": "code",
   "execution_count": null,
   "metadata": {},
   "outputs": [],
   "source": [
    "allJobs = pd.concat(pieces, ignore_index = True)\n",
    "allJobs.head()"
   ]
  },
  {
   "cell_type": "markdown",
   "metadata": {},
   "source": [
    "# Process HBLI table: allHBLI"
   ]
  },
  {
   "cell_type": "code",
   "execution_count": null,
   "metadata": {},
   "outputs": [],
   "source": [
    "allHBLI.head()"
   ]
  },
  {
   "cell_type": "code",
   "execution_count": null,
   "metadata": {},
   "outputs": [],
   "source": [
    "allHBLI.shape"
   ]
  },
  {
   "cell_type": "code",
   "execution_count": null,
   "metadata": {},
   "outputs": [],
   "source": [
    "allHBLI.Value = pd.to_numeric(allHBLI['Value'], errors='raise')"
   ]
  },
  {
   "cell_type": "code",
   "execution_count": null,
   "metadata": {},
   "outputs": [],
   "source": [
    "allHBLI.HeartBeatTime = pd.to_datetime(allHBLI['HeartBeatTime'], errors='raise')"
   ]
  },
  {
   "cell_type": "code",
   "execution_count": null,
   "metadata": {},
   "outputs": [],
   "source": [
    "# Number of unique jobIDs in 10M rows of dataHB (ans-185879)\n",
    "allHBLI.JobID.nunique()"
   ]
  },
  {
   "cell_type": "code",
   "execution_count": null,
   "metadata": {},
   "outputs": [],
   "source": [
    "# Number of unique timestampes in 10M rows of dataHB (ans-242222)\n",
    "allHBLI.HeartBeatTime.nunique()"
   ]
  },
  {
   "cell_type": "code",
   "execution_count": null,
   "metadata": {},
   "outputs": [],
   "source": [
    "allHBLI.tail()"
   ]
  },
  {
   "cell_type": "code",
   "execution_count": null,
   "metadata": {},
   "outputs": [],
   "source": [
    "%%time\n",
    "# 10 millions rows took 10 sec to pivot\n",
    "\n",
    "allHBLI_wide=allHBLI.pivot_table(index=['JobID','HeartBeatTime'], columns='Name', values='Value')"
   ]
  },
  {
   "cell_type": "code",
   "execution_count": null,
   "metadata": {},
   "outputs": [],
   "source": [
    "# 1  million rows have shape (142863,  7) after pivot\n",
    "# 10 million rows have shape (1428574, 7) after pivot\n",
    "\n",
    "allHBLI_wide.shape"
   ]
  },
  {
   "cell_type": "code",
   "execution_count": null,
   "metadata": {},
   "outputs": [],
   "source": [
    "allHBLI_wide.isnull().values.ravel().sum()"
   ]
  },
  {
   "cell_type": "code",
   "execution_count": null,
   "metadata": {},
   "outputs": [],
   "source": [
    "# Drop the last few rows\n",
    "allHBLI_wide = allHBLI_wide.dropna()"
   ]
  },
  {
   "cell_type": "code",
   "execution_count": null,
   "metadata": {},
   "outputs": [],
   "source": [
    "allHBLI_wide.shape"
   ]
  },
  {
   "cell_type": "code",
   "execution_count": null,
   "metadata": {},
   "outputs": [],
   "source": [
    "allHBLI_wide.head(10)"
   ]
  },
  {
   "cell_type": "code",
   "execution_count": null,
   "metadata": {},
   "outputs": [],
   "source": [
    "allHBLI_wide.columns"
   ]
  },
  {
   "cell_type": "code",
   "execution_count": null,
   "metadata": {},
   "outputs": [],
   "source": [
    "from sklearn.preprocessing import MinMaxScaler\n",
    "scaler = MinMaxScaler()\n",
    "allHBLI_wide[['AvailableDiskSpace', 'CPUConsumed', 'LoadAverage', \n",
    "             'MemoryUsed', 'RSS','Vsize', 'WallClockTime']] = scaler.fit_transform(allHBLI_wide[['AvailableDiskSpace', \n",
    "                                                                        'CPUConsumed', 'LoadAverage', 'MemoryUsed', \n",
    "                                                                        'RSS','Vsize', 'WallClockTime']])"
   ]
  },
  {
   "cell_type": "code",
   "execution_count": null,
   "metadata": {},
   "outputs": [],
   "source": [
    "allHBLI_wide.head(10)"
   ]
  },
  {
   "cell_type": "code",
   "execution_count": null,
   "metadata": {},
   "outputs": [],
   "source": [
    "allHBLI_wide = allHBLI_wide.reset_index()"
   ]
  },
  {
   "cell_type": "code",
   "execution_count": null,
   "metadata": {},
   "outputs": [],
   "source": [
    "#########################\n",
    "allHBLI_wide.to_pickle('allHBLI_wide_scaled.pickle')\n",
    "#########################"
   ]
  },
  {
   "cell_type": "code",
   "execution_count": null,
   "metadata": {},
   "outputs": [],
   "source": [
    "allHBLI_wide.head()"
   ]
  },
  {
   "cell_type": "markdown",
   "metadata": {},
   "source": [
    "#### End of HBLI table processing: allHBLI"
   ]
  },
  {
   "cell_type": "markdown",
   "metadata": {},
   "source": [
    "# Process Jobs tables: allJobs"
   ]
  },
  {
   "cell_type": "markdown",
   "metadata": {},
   "source": [
    "# Join allJobs tables"
   ]
  },
  {
   "cell_type": "code",
   "execution_count": null,
   "metadata": {},
   "outputs": [],
   "source": [
    "dataJobs = allJobs.copy(deep=True)"
   ]
  },
  {
   "cell_type": "code",
   "execution_count": null,
   "metadata": {},
   "outputs": [],
   "source": [
    "listofcolumns = dataJobs.columns.tolist()\n",
    "#listofcolumns"
   ]
  },
  {
   "cell_type": "code",
   "execution_count": null,
   "metadata": {},
   "outputs": [],
   "source": [
    "removelist = ['JobID','JobName','SubmissionTime', 'RescheduleTime', 'LastUpdateTime', \n",
    "              'StartExecTime', 'HeartBeatTime', 'EndExecTime']\n",
    "\n",
    "for r in removelist:\n",
    "    listofcolumns.remove(r)\n",
    "    \n",
    "print(listofcolumns)"
   ]
  },
  {
   "cell_type": "code",
   "execution_count": null,
   "metadata": {},
   "outputs": [],
   "source": [
    "dataJobs.shape"
   ]
  },
  {
   "cell_type": "code",
   "execution_count": null,
   "metadata": {},
   "outputs": [],
   "source": [
    "cc = {}\n",
    "\n",
    "for c in listofcolumns:\n",
    "    #print(c)\n",
    "    ll = len(dataJobs[c].unique().tolist())\n",
    "    \n",
    "    if ll > 0:\n",
    "        #print('************ found > limit *')\n",
    "        cc[c]=ll\n",
    "\n",
    "for w in sorted(cc, key=cc.get, reverse=False):\n",
    "  print(w, cc[w])"
   ]
  },
  {
   "cell_type": "code",
   "execution_count": null,
   "metadata": {},
   "outputs": [],
   "source": [
    "### Decision: let us drop 'MinorStatus' and 'ApplicationStatus' and only predict the 'Status' column\n",
    "#   LABEL for prediction: only predict the 'Status' column\n",
    "\n",
    "del dataJobs['MinorStatus']\n",
    "del dataJobs['ApplicationStatus']"
   ]
  },
  {
   "cell_type": "code",
   "execution_count": null,
   "metadata": {},
   "outputs": [],
   "source": [
    "### Decision: let us drop all columns which have only single state, i.e. no fluctuation\n",
    "for w in sorted(cc, key=cc.get, reverse=False):\n",
    "    if cc[w] == 1:\n",
    "        del dataJobs[w]\n",
    "        print(w, cc[w])"
   ]
  },
  {
   "cell_type": "code",
   "execution_count": null,
   "metadata": {},
   "outputs": [],
   "source": [
    "del dataJobs['JobName'] #name is not important for prediction"
   ]
  },
  {
   "cell_type": "code",
   "execution_count": null,
   "metadata": {},
   "outputs": [],
   "source": [
    "dataJobs.columns.tolist()"
   ]
  },
  {
   "cell_type": "code",
   "execution_count": null,
   "metadata": {},
   "outputs": [],
   "source": [
    "dataJobs[['SubmissionTime',\n",
    " 'RescheduleTime',\n",
    " 'LastUpdateTime',\n",
    " 'StartExecTime',\n",
    " 'HeartBeatTime',\n",
    " 'EndExecTime']][:5]"
   ]
  },
  {
   "cell_type": "code",
   "execution_count": null,
   "metadata": {},
   "outputs": [],
   "source": [
    "### Decision: Convert times to deltas\n",
    "\n",
    "dataJobs['start_submit'] = (dataJobs['StartExecTime']-dataJobs['SubmissionTime']) / np.timedelta64(1, 'm')\n",
    "dataJobs['hbeat_start']  = (dataJobs['HeartBeatTime']-dataJobs['StartExecTime']) / np.timedelta64(1, 'm')\n",
    "\n",
    "for x in ['SubmissionTime','RescheduleTime','LastUpdateTime','StartExecTime','HeartBeatTime','EndExecTime']:\n",
    "    del dataJobs[x]"
   ]
  },
  {
   "cell_type": "code",
   "execution_count": null,
   "metadata": {},
   "outputs": [],
   "source": [
    "# Decision: Remove the AccountedFlag at this stage\n",
    "del dataJobs['AccountedFlag']"
   ]
  },
  {
   "cell_type": "code",
   "execution_count": null,
   "metadata": {},
   "outputs": [],
   "source": [
    "dataJobs[:5]"
   ]
  },
  {
   "cell_type": "code",
   "execution_count": null,
   "metadata": {},
   "outputs": [],
   "source": [
    "dataJobs.Status.value_counts()"
   ]
  },
  {
   "cell_type": "code",
   "execution_count": null,
   "metadata": {},
   "outputs": [],
   "source": [
    "dataJobs.columns"
   ]
  },
  {
   "cell_type": "code",
   "execution_count": null,
   "metadata": {},
   "outputs": [],
   "source": [
    "%%time\n",
    "dj_encoded = pd.get_dummies(dataJobs, columns=['JobType','JobGroup','Site','Status','UserPriority'],\n",
    "                           drop_first=True)"
   ]
  },
  {
   "cell_type": "code",
   "execution_count": null,
   "metadata": {},
   "outputs": [],
   "source": [
    "dj_encoded.columns.tolist()"
   ]
  },
  {
   "cell_type": "code",
   "execution_count": null,
   "metadata": {},
   "outputs": [],
   "source": [
    "# Before dropping first column in get_dummies, this returned 4150\n",
    "len(dj_encoded[dj_encoded['Status_Failed']==True])"
   ]
  },
  {
   "cell_type": "code",
   "execution_count": null,
   "metadata": {},
   "outputs": [],
   "source": [
    "# After dropping first column in get_dummies, this returned 4150\n",
    "len(dj_encoded[dj_encoded['Status_Failed']==False])"
   ]
  },
  {
   "cell_type": "code",
   "execution_count": null,
   "metadata": {},
   "outputs": [],
   "source": [
    "dj_encoded.head()"
   ]
  },
  {
   "cell_type": "code",
   "execution_count": null,
   "metadata": {},
   "outputs": [],
   "source": [
    "######################################\n",
    "dj_encoded.to_pickle('allJobs_featurized.pickle')\n",
    "######################################"
   ]
  },
  {
   "cell_type": "code",
   "execution_count": null,
   "metadata": {},
   "outputs": [],
   "source": [
    "# Use this finally\n",
    "\n",
    "allJobs_encoded = dj_encoded.copy(deep=True)"
   ]
  },
  {
   "cell_type": "code",
   "execution_count": null,
   "metadata": {},
   "outputs": [],
   "source": [
    "del dj_encoded"
   ]
  },
  {
   "cell_type": "code",
   "execution_count": null,
   "metadata": {},
   "outputs": [],
   "source": [
    "del dataJobs"
   ]
  },
  {
   "cell_type": "code",
   "execution_count": null,
   "metadata": {},
   "outputs": [],
   "source": [
    "del allHBLI"
   ]
  },
  {
   "cell_type": "code",
   "execution_count": null,
   "metadata": {},
   "outputs": [],
   "source": [
    "#### End of all jobs table processing"
   ]
  },
  {
   "cell_type": "markdown",
   "metadata": {},
   "source": [
    "# Join jobs tables"
   ]
  },
  {
   "cell_type": "code",
   "execution_count": null,
   "metadata": {},
   "outputs": [],
   "source": [
    "# Test Train split each one into 50%\n",
    "# Concat Test dfs and Train dfs,\n",
    "# Now you have 50% from each class in train and test."
   ]
  },
  {
   "cell_type": "markdown",
   "metadata": {},
   "source": [
    "### >> Join 'allJobs_encoded' and 'allHBLI_wide\""
   ]
  },
  {
   "cell_type": "code",
   "execution_count": null,
   "metadata": {},
   "outputs": [],
   "source": [
    "allHBLI_wide.shape"
   ]
  },
  {
   "cell_type": "code",
   "execution_count": null,
   "metadata": {},
   "outputs": [],
   "source": [
    "allJobs_encoded.shape"
   ]
  },
  {
   "cell_type": "code",
   "execution_count": null,
   "metadata": {},
   "outputs": [],
   "source": [
    "%%time\n",
    "raw_samples = pd.merge(allHBLI_wide, allJobs_encoded, on =['JobID'])\n",
    "print(raw_samples.shape)"
   ]
  },
  {
   "cell_type": "code",
   "execution_count": null,
   "metadata": {},
   "outputs": [],
   "source": [
    "raw_samples.head()"
   ]
  },
  {
   "cell_type": "code",
   "execution_count": null,
   "metadata": {},
   "outputs": [],
   "source": [
    "import matplotlib.pyplot as plt\n",
    "%matplotlib inline\n",
    "\n",
    "sample_counts = pd.value_counts(raw_samples['JobID'].values, sort=False)\n",
    "plt.hist(sample_counts.values, bins = 100)\n",
    "plt.show()"
   ]
  },
  {
   "cell_type": "markdown",
   "metadata": {},
   "source": [
    "# Sample Generation"
   ]
  },
  {
   "cell_type": "markdown",
   "metadata": {},
   "source": [
    "# Convert Pandas dataframe to LSTM 3D tensor"
   ]
  },
  {
   "cell_type": "markdown",
   "metadata": {},
   "source": [
    "# Set Threshold"
   ]
  },
  {
   "cell_type": "code",
   "execution_count": 13,
   "metadata": {},
   "outputs": [],
   "source": [
    "thresholdd = 1"
   ]
  },
  {
   "cell_type": "code",
   "execution_count": null,
   "metadata": {},
   "outputs": [],
   "source": [
    "sum(sample_counts.values>=thresholdd)"
   ]
  },
  {
   "cell_type": "code",
   "execution_count": null,
   "metadata": {},
   "outputs": [],
   "source": [
    "### Decision: Number of timesteps per sample = 3\n",
    "# Shape of 3D matrix should be (#samples)x(3)x(132)\n",
    "\n",
    "sum(sample_counts.values<thresholdd)"
   ]
  },
  {
   "cell_type": "code",
   "execution_count": null,
   "metadata": {},
   "outputs": [],
   "source": [
    "# Delete rows of JobIDs with  fewer than 3 timestamps\n",
    "\n",
    "dff = raw_samples['JobID'].value_counts()\n",
    "print(dff.sample(3))"
   ]
  },
  {
   "cell_type": "code",
   "execution_count": null,
   "metadata": {},
   "outputs": [],
   "source": [
    "dff = dff[dff<thresholdd]\n",
    "\n",
    "\n",
    "dff = dff.reset_index()\n",
    "dff = dff.rename(index=str, columns={\"JobID\": \"count\", \"index\": \"JobID\"})\n",
    "\n",
    "print(dff.sample(5))\n",
    "print(dff.head())\n",
    "\n",
    "remove_list = dff['JobID'].tolist()\n",
    "remove_list[:5]"
   ]
  },
  {
   "cell_type": "code",
   "execution_count": null,
   "metadata": {},
   "outputs": [],
   "source": [
    "cleaned = raw_samples[~raw_samples['JobID'].isin(remove_list)]\n",
    "cleaned.shape, raw_samples.shape"
   ]
  },
  {
   "cell_type": "code",
   "execution_count": null,
   "metadata": {},
   "outputs": [],
   "source": [
    "# Number of unique JobIDs in cleaned\n",
    "totalleftjobslist = cleaned.JobID.unique().tolist()\n",
    "\n",
    "totalleftjobs = len(cleaned.JobID.unique().tolist())"
   ]
  },
  {
   "cell_type": "code",
   "execution_count": null,
   "metadata": {},
   "outputs": [],
   "source": [
    "import random\n",
    "\n",
    "indices = random.sample(range(len(totalleftjobslist)), int(totalleftjobs * .30))\n",
    "takeoutlist = [totalleftjobslist[i] for i in sorted(indices)]\n",
    "\n",
    "len(takeoutlist), totalleftjobs "
   ]
  },
  {
   "cell_type": "code",
   "execution_count": null,
   "metadata": {},
   "outputs": [],
   "source": [
    "print(len(remove_list))\n",
    "remove_list = remove_list + takeoutlist\n",
    "print(len(remove_list))"
   ]
  },
  {
   "cell_type": "markdown",
   "metadata": {},
   "source": [
    "# Train on cleaned, Test on takeoutdf"
   ]
  },
  {
   "cell_type": "code",
   "execution_count": null,
   "metadata": {},
   "outputs": [],
   "source": [
    "cleaned = raw_samples[~raw_samples['JobID'].isin(remove_list)]\n",
    "cleaned.shape, raw_samples.shape"
   ]
  },
  {
   "cell_type": "code",
   "execution_count": null,
   "metadata": {},
   "outputs": [],
   "source": [
    "takeoutdf = raw_samples[raw_samples['JobID'].isin(takeoutlist)]\n",
    "takeoutdf.shape, raw_samples.shape"
   ]
  },
  {
   "cell_type": "code",
   "execution_count": null,
   "metadata": {},
   "outputs": [],
   "source": [
    "######################"
   ]
  },
  {
   "cell_type": "code",
   "execution_count": null,
   "metadata": {},
   "outputs": [],
   "source": [
    "# Count values in cleaned\n",
    "\n",
    "cleaned_counts = pd.value_counts(cleaned['JobID'].values, sort=False)\n",
    "sum(cleaned_counts.values<thresholdd), sum(cleaned_counts.values>=thresholdd)"
   ]
  },
  {
   "cell_type": "code",
   "execution_count": null,
   "metadata": {},
   "outputs": [],
   "source": [
    "len((sample_counts.values))"
   ]
  },
  {
   "cell_type": "code",
   "execution_count": null,
   "metadata": {},
   "outputs": [],
   "source": [
    "train_feat = cleaned.columns.tolist()\n",
    "print(len(train_feat)) #125\n",
    "cleaned.Status_Failed.value_counts()"
   ]
  },
  {
   "cell_type": "code",
   "execution_count": null,
   "metadata": {},
   "outputs": [],
   "source": [
    "train_feat = cleaned.columns.tolist()\n",
    "print(len(train_feat)) #125\n",
    "\n",
    "train_feat.remove('HeartBeatTime')\n",
    "train_feat.remove('JobID')\n",
    "train_feat.remove('Status_Failed')\n",
    "\n",
    "len(train_feat) #122"
   ]
  },
  {
   "cell_type": "code",
   "execution_count": null,
   "metadata": {},
   "outputs": [],
   "source": [
    "# Training Features"
   ]
  },
  {
   "cell_type": "code",
   "execution_count": null,
   "metadata": {
    "scrolled": false
   },
   "outputs": [],
   "source": [
    "train_feat"
   ]
  },
  {
   "cell_type": "code",
   "execution_count": null,
   "metadata": {},
   "outputs": [],
   "source": [
    "cleaned.shape"
   ]
  },
  {
   "cell_type": "code",
   "execution_count": null,
   "metadata": {},
   "outputs": [],
   "source": [
    "# Label Column ('Status_Failed' is the label column)\n",
    "label_col = ['Status_Failed']"
   ]
  },
  {
   "cell_type": "code",
   "execution_count": 14,
   "metadata": {},
   "outputs": [],
   "source": [
    "# Takes a df and converts it to 3D tensor\n",
    "# Each sample will have k time steps\n",
    "\n",
    "def samples_features(df_input):\n",
    "    \n",
    "    k = thresholdd\n",
    "    input_cols = train_feat\n",
    "    \n",
    "    # takes a df\n",
    "    # Put your inputs into a single list\n",
    "    \n",
    "    df = pd.DataFrame()\n",
    "    \n",
    "    df['single_input_vector'] = df_input[input_cols].apply(tuple, axis=1).apply(list)\n",
    "    \n",
    "    # Double-encapsulate list so that you can sum it in the next step and keep time steps as separate elements\n",
    "    df['single_input_vector'] = df.single_input_vector.apply(lambda x: [list(x)])\n",
    "        \n",
    "    # The starting point\n",
    "    df['cumulative_input_vectors'] = df['single_input_vector'].shift(0)\n",
    "    \n",
    "    for i in range(1,k):\n",
    "        df['cumulative_input_vectors'] += df['single_input_vector'].shift(i)\n",
    "          \n",
    "    df.dropna(inplace=True)     # does operation in place & returns None\n",
    "\n",
    "    # Extract your training data\n",
    "    X_ = np.asarray(df.cumulative_input_vectors)\n",
    "    \n",
    "    # Use hstack to and reshape to make the inputs a 3d vector\n",
    "    X = np.vstack(X_).reshape(len(df), k, len(input_cols))\n",
    "    \n",
    "    # Clean up\n",
    "    del df\n",
    "    \n",
    "    return X\n",
    "    # returns 3D array"
   ]
  },
  {
   "cell_type": "code",
   "execution_count": null,
   "metadata": {
    "scrolled": true
   },
   "outputs": [],
   "source": [
    "thresholdd #Check it matched the title"
   ]
  },
  {
   "cell_type": "markdown",
   "metadata": {},
   "source": [
    "# Build X (each job separately)"
   ]
  },
  {
   "cell_type": "code",
   "execution_count": null,
   "metadata": {},
   "outputs": [],
   "source": [
    "cleaned.to_pickle('cleaned_for_train_samples.pickle')"
   ]
  },
  {
   "cell_type": "code",
   "execution_count": null,
   "metadata": {},
   "outputs": [],
   "source": [
    "##################################################"
   ]
  },
  {
   "cell_type": "code",
   "execution_count": 15,
   "metadata": {},
   "outputs": [],
   "source": [
    "cleaned = pd.read_pickle('cleaned_for_train_samples.pickle')"
   ]
  },
  {
   "cell_type": "code",
   "execution_count": 16,
   "metadata": {},
   "outputs": [
    {
     "data": {
      "text/plain": [
       "0"
      ]
     },
     "execution_count": 16,
     "metadata": {},
     "output_type": "execute_result"
    }
   ],
   "source": [
    "cleaned.isnull().values.ravel().sum()"
   ]
  },
  {
   "cell_type": "code",
   "execution_count": 17,
   "metadata": {},
   "outputs": [],
   "source": [
    "cleaned = cleaned.dropna()"
   ]
  },
  {
   "cell_type": "code",
   "execution_count": 18,
   "metadata": {
    "scrolled": true
   },
   "outputs": [
    {
     "data": {
      "text/plain": [
       "0"
      ]
     },
     "execution_count": 18,
     "metadata": {},
     "output_type": "execute_result"
    }
   ],
   "source": [
    "cleaned.isnull().values.ravel().sum()"
   ]
  },
  {
   "cell_type": "code",
   "execution_count": 21,
   "metadata": {},
   "outputs": [
    {
     "data": {
      "text/plain": [
       "['JobID',\n",
       " 'HeartBeatTime',\n",
       " 'AvailableDiskSpace',\n",
       " 'CPUConsumed',\n",
       " 'LoadAverage',\n",
       " 'MemoryUsed',\n",
       " 'RSS',\n",
       " 'Vsize',\n",
       " 'WallClockTime',\n",
       " 'RescheduleCounter',\n",
       " 'start_submit',\n",
       " 'hbeat_start',\n",
       " 'JobType_MCProductionBGx0',\n",
       " 'JobType_Merge',\n",
       " 'JobGroup_00000758',\n",
       " 'JobGroup_00000808',\n",
       " 'JobGroup_00000809',\n",
       " 'JobGroup_00000974',\n",
       " 'JobGroup_00000975',\n",
       " 'JobGroup_00001303',\n",
       " 'JobGroup_00001306',\n",
       " 'JobGroup_00001368',\n",
       " 'JobGroup_00001369',\n",
       " 'JobGroup_00001370',\n",
       " 'JobGroup_00001371',\n",
       " 'JobGroup_00001372',\n",
       " 'JobGroup_00001373',\n",
       " 'JobGroup_00001374',\n",
       " 'JobGroup_00001375',\n",
       " 'JobGroup_00001376',\n",
       " 'JobGroup_00001377',\n",
       " 'JobGroup_00001378',\n",
       " 'JobGroup_00001379',\n",
       " 'JobGroup_00001380',\n",
       " 'JobGroup_00001381',\n",
       " 'JobGroup_00001386',\n",
       " 'JobGroup_00001398',\n",
       " 'JobGroup_00001404',\n",
       " 'JobGroup_00001622',\n",
       " 'JobGroup_00001635',\n",
       " 'JobGroup_00001636',\n",
       " 'JobGroup_00001637',\n",
       " 'JobGroup_00001638',\n",
       " 'JobGroup_00001639',\n",
       " 'JobGroup_00001640',\n",
       " 'JobGroup_00001641',\n",
       " 'JobGroup_00001642',\n",
       " 'JobGroup_00001643',\n",
       " 'JobGroup_00001644',\n",
       " 'JobGroup_00001645',\n",
       " 'JobGroup_00001646',\n",
       " 'JobGroup_00001647',\n",
       " 'JobGroup_00001648',\n",
       " 'JobGroup_00001649',\n",
       " 'JobGroup_00001650',\n",
       " 'JobGroup_00001651',\n",
       " 'JobGroup_00001652',\n",
       " 'JobGroup_00001653',\n",
       " 'JobGroup_00001654',\n",
       " 'JobGroup_00001655',\n",
       " 'JobGroup_00001656',\n",
       " 'JobGroup_00001657',\n",
       " 'JobGroup_00001658',\n",
       " 'JobGroup_00001659',\n",
       " 'JobGroup_00001660',\n",
       " 'JobGroup_00001661',\n",
       " 'JobGroup_00001662',\n",
       " 'JobGroup_00001663',\n",
       " 'JobGroup_00001664',\n",
       " 'JobGroup_00001665',\n",
       " 'JobGroup_00001666',\n",
       " 'JobGroup_00001667',\n",
       " 'JobGroup_00001668',\n",
       " 'JobGroup_00001669',\n",
       " 'JobGroup_00001670',\n",
       " 'JobGroup_00001671',\n",
       " 'JobGroup_00001672',\n",
       " 'JobGroup_00001673',\n",
       " 'JobGroup_00001674',\n",
       " 'JobGroup_00001675',\n",
       " 'JobGroup_00001676',\n",
       " 'JobGroup_00001677',\n",
       " 'JobGroup_00001678',\n",
       " 'JobGroup_00001679',\n",
       " 'JobGroup_00001680',\n",
       " 'JobGroup_00001681',\n",
       " 'JobGroup_00001682',\n",
       " 'JobGroup_00001683',\n",
       " 'JobGroup_00001684',\n",
       " 'JobGroup_00001685',\n",
       " 'JobGroup_00001686',\n",
       " 'JobGroup_00001687',\n",
       " 'JobGroup_00001688',\n",
       " 'JobGroup_00001689',\n",
       " 'JobGroup_00001690',\n",
       " 'JobGroup_00001691',\n",
       " 'JobGroup_00001692',\n",
       " 'JobGroup_00001693',\n",
       " 'JobGroup_00001694',\n",
       " 'JobGroup_00001695',\n",
       " 'JobGroup_00001696',\n",
       " 'JobGroup_00001699',\n",
       " 'JobGroup_00001702',\n",
       " 'JobGroup_00001705',\n",
       " 'JobGroup_00001710',\n",
       " 'JobGroup_00001711',\n",
       " 'JobGroup_00001712',\n",
       " 'JobGroup_00001714',\n",
       " 'JobGroup_00001717',\n",
       " 'JobGroup_00001720',\n",
       " 'JobGroup_00001721',\n",
       " 'JobGroup_00001722',\n",
       " 'JobGroup_00001723',\n",
       " 'JobGroup_00001724',\n",
       " 'JobGroup_00001725',\n",
       " 'JobGroup_00001726',\n",
       " 'JobGroup_00001727',\n",
       " 'JobGroup_00001728',\n",
       " 'JobGroup_00001729',\n",
       " 'JobGroup_00001732',\n",
       " 'JobGroup_00001733',\n",
       " 'JobGroup_00001734',\n",
       " 'JobGroup_00001735',\n",
       " 'JobGroup_00001736',\n",
       " 'JobGroup_00001737',\n",
       " 'JobGroup_00001738',\n",
       " 'JobGroup_00001739',\n",
       " 'JobGroup_00001740',\n",
       " 'JobGroup_00001741',\n",
       " 'JobGroup_00001744',\n",
       " 'JobGroup_00001746',\n",
       " 'JobGroup_00001747',\n",
       " 'JobGroup_00001749',\n",
       " 'JobGroup_00001750',\n",
       " 'JobGroup_00001753',\n",
       " 'JobGroup_00001754',\n",
       " 'JobGroup_00001755',\n",
       " 'JobGroup_00001756',\n",
       " 'JobGroup_00001757',\n",
       " 'JobGroup_00001758',\n",
       " 'JobGroup_00001759',\n",
       " 'JobGroup_00001760',\n",
       " 'JobGroup_00001761',\n",
       " 'JobGroup_00001762',\n",
       " 'JobGroup_00001763',\n",
       " 'JobGroup_00001764',\n",
       " 'JobGroup_00001765',\n",
       " 'JobGroup_00001766',\n",
       " 'JobGroup_00001767',\n",
       " 'JobGroup_00001768',\n",
       " 'JobGroup_00001769',\n",
       " 'JobGroup_00001770',\n",
       " 'JobGroup_00001771',\n",
       " 'JobGroup_00001772',\n",
       " 'JobGroup_00001773',\n",
       " 'JobGroup_00001774',\n",
       " 'JobGroup_00001775',\n",
       " 'JobGroup_00001776',\n",
       " 'JobGroup_00001777',\n",
       " 'JobGroup_00001778',\n",
       " 'JobGroup_00001779',\n",
       " 'JobGroup_00001780',\n",
       " 'JobGroup_00001781',\n",
       " 'JobGroup_00001782',\n",
       " 'JobGroup_00001783',\n",
       " 'JobGroup_00001784',\n",
       " 'JobGroup_00001785',\n",
       " 'JobGroup_00001786',\n",
       " 'JobGroup_00001787',\n",
       " 'JobGroup_00001788',\n",
       " 'JobGroup_00001789',\n",
       " 'JobGroup_00001790',\n",
       " 'JobGroup_00001791',\n",
       " 'JobGroup_00001792',\n",
       " 'JobGroup_00001793',\n",
       " 'JobGroup_00001794',\n",
       " 'JobGroup_00001795',\n",
       " 'JobGroup_00001796',\n",
       " 'JobGroup_00001797',\n",
       " 'JobGroup_00001798',\n",
       " 'JobGroup_00001799',\n",
       " 'JobGroup_00001800',\n",
       " 'JobGroup_00001801',\n",
       " 'JobGroup_00001802',\n",
       " 'JobGroup_00001803',\n",
       " 'JobGroup_00001804',\n",
       " 'JobGroup_00001805',\n",
       " 'JobGroup_00001806',\n",
       " 'JobGroup_00001807',\n",
       " 'JobGroup_00001808',\n",
       " 'JobGroup_00001809',\n",
       " 'JobGroup_00001810',\n",
       " 'JobGroup_00001811',\n",
       " 'JobGroup_00001812',\n",
       " 'JobGroup_00001813',\n",
       " 'JobGroup_00001814',\n",
       " 'JobGroup_00001815',\n",
       " 'JobGroup_00001816',\n",
       " 'JobGroup_00001817',\n",
       " 'JobGroup_00001818',\n",
       " 'JobGroup_00001819',\n",
       " 'JobGroup_00001820',\n",
       " 'JobGroup_00001821',\n",
       " 'JobGroup_00001822',\n",
       " 'JobGroup_00001823',\n",
       " 'JobGroup_00001824',\n",
       " 'JobGroup_00001825',\n",
       " 'JobGroup_00001826',\n",
       " 'JobGroup_00001827',\n",
       " 'JobGroup_00001828',\n",
       " 'JobGroup_00001829',\n",
       " 'JobGroup_00001830',\n",
       " 'JobGroup_00001831',\n",
       " 'JobGroup_00001832',\n",
       " 'JobGroup_00001833',\n",
       " 'JobGroup_00001834',\n",
       " 'JobGroup_00001837',\n",
       " 'JobGroup_00001840',\n",
       " 'JobGroup_00001842',\n",
       " 'JobGroup_00001845',\n",
       " 'JobGroup_00001847',\n",
       " 'JobGroup_00001849',\n",
       " 'JobGroup_00001850',\n",
       " 'JobGroup_00001856',\n",
       " 'JobGroup_00001857',\n",
       " 'JobGroup_00001858',\n",
       " 'JobGroup_00001859',\n",
       " 'JobGroup_00001860',\n",
       " 'JobGroup_00001861',\n",
       " 'JobGroup_00001863',\n",
       " 'JobGroup_00001864',\n",
       " 'JobGroup_00001865',\n",
       " 'JobGroup_00001866',\n",
       " 'JobGroup_00001868',\n",
       " 'JobGroup_00001871',\n",
       " 'JobGroup_00001872',\n",
       " 'JobGroup_00001914',\n",
       " 'JobGroup_00001916',\n",
       " 'JobGroup_00001917',\n",
       " 'JobGroup_00001919',\n",
       " 'JobGroup_00001920',\n",
       " 'JobGroup_00001921',\n",
       " 'JobGroup_00001922',\n",
       " 'JobGroup_00001923',\n",
       " 'JobGroup_00001924',\n",
       " 'JobGroup_00001925',\n",
       " 'JobGroup_00001926',\n",
       " 'JobGroup_00001927',\n",
       " 'JobGroup_00001931',\n",
       " 'JobGroup_00001935',\n",
       " 'JobGroup_00001936',\n",
       " 'JobGroup_00001937',\n",
       " 'JobGroup_00001939',\n",
       " 'JobGroup_00001940',\n",
       " 'JobGroup_00001941',\n",
       " 'JobGroup_00001942',\n",
       " 'JobGroup_00001943',\n",
       " 'JobGroup_00001944',\n",
       " 'JobGroup_00001945',\n",
       " 'Site_ARC.DESY.de',\n",
       " 'Site_ARC.SIGNET.si',\n",
       " 'Site_CLOUD.AWS_Sydney.au',\n",
       " 'Site_CLOUD.AWS_Tokyo.jp',\n",
       " 'Site_CLOUD.AWS_Virginia.us',\n",
       " 'Site_CLOUD.CC1_Krakow.pl',\n",
       " 'Site_DIRAC.BINP.ru',\n",
       " 'Site_DIRAC.Beihang.cn',\n",
       " 'Site_DIRAC.CINVESTAV.mx',\n",
       " 'Site_DIRAC.Hokudai.jp',\n",
       " 'Site_DIRAC.IITG.in',\n",
       " 'Site_DIRAC.MIPT.ru',\n",
       " 'Site_DIRAC.Nagoya.jp',\n",
       " 'Site_DIRAC.Nara-WU.jp',\n",
       " 'Site_DIRAC.Niigata.jp',\n",
       " 'Site_DIRAC.Osaka-CU.jp',\n",
       " 'Site_DIRAC.PNNL.us',\n",
       " 'Site_DIRAC.RCNP.jp',\n",
       " 'Site_DIRAC.TIFR.in',\n",
       " 'Site_DIRAC.TMU.jp',\n",
       " 'Site_DIRAC.Test.jp',\n",
       " 'Site_DIRAC.Tokyo.jp',\n",
       " 'Site_DIRAC.UAS.mx',\n",
       " 'Site_DIRAC.UVic.ca',\n",
       " 'Site_DIRAC.Yamagata.jp',\n",
       " 'Site_DIRAC.Yonsei.kr',\n",
       " 'Site_Group.KEK2.jp',\n",
       " 'Site_LCG.CESNET.cz',\n",
       " 'Site_LCG.CNAF.it',\n",
       " 'Site_LCG.CYFRONET.pl',\n",
       " 'Site_LCG.Cosenza.it',\n",
       " 'Site_LCG.DESY.de',\n",
       " 'Site_LCG.Frascati.it',\n",
       " 'Site_LCG.HEPHY.at',\n",
       " 'Site_LCG.KEK.jp',\n",
       " 'Site_LCG.KEK2.jp',\n",
       " 'Site_LCG.KISTI.kr',\n",
       " 'Site_LCG.KIT.de',\n",
       " 'Site_LCG.KMI.jp',\n",
       " 'Site_LCG.Legnaro.it',\n",
       " 'Site_LCG.MPPMU.de',\n",
       " 'Site_LCG.McGill.ca',\n",
       " 'Site_LCG.Melbourne.au',\n",
       " 'Site_LCG.NCHC.tw',\n",
       " 'Site_LCG.NTU.tw',\n",
       " 'Site_LCG.Napoli.it',\n",
       " 'Site_LCG.Pisa.it',\n",
       " 'Site_LCG.Torino.it',\n",
       " 'Site_LCG.ULAKBIM.tr',\n",
       " 'Site_Multiple',\n",
       " 'Site_SSH.KMI.jp',\n",
       " 'Status_Failed',\n",
       " 'UserPriority_2',\n",
       " 'UserPriority_3',\n",
       " 'UserPriority_5',\n",
       " 'UserPriority_9',\n",
       " 'UserPriority_10']"
      ]
     },
     "execution_count": 21,
     "metadata": {},
     "output_type": "execute_result"
    }
   ],
   "source": [
    "cleaned.columns.tolist()"
   ]
  },
  {
   "cell_type": "code",
   "execution_count": null,
   "metadata": {},
   "outputs": [],
   "source": [
    "##################################################"
   ]
  },
  {
   "cell_type": "code",
   "execution_count": 22,
   "metadata": {},
   "outputs": [
    {
     "data": {
      "text/plain": [
       "['JobID',\n",
       " 'HeartBeatTime',\n",
       " 'AvailableDiskSpace',\n",
       " 'CPUConsumed',\n",
       " 'LoadAverage',\n",
       " 'MemoryUsed',\n",
       " 'RSS',\n",
       " 'Vsize',\n",
       " 'WallClockTime',\n",
       " 'RescheduleCounter',\n",
       " 'start_submit',\n",
       " 'hbeat_start',\n",
       " 'JobType_MCProductionBGx0',\n",
       " 'JobType_Merge',\n",
       " 'JobGroup_00000758',\n",
       " 'JobGroup_00000808',\n",
       " 'JobGroup_00000809',\n",
       " 'JobGroup_00000974',\n",
       " 'JobGroup_00000975',\n",
       " 'JobGroup_00001303',\n",
       " 'JobGroup_00001306',\n",
       " 'JobGroup_00001368',\n",
       " 'JobGroup_00001369',\n",
       " 'JobGroup_00001370',\n",
       " 'JobGroup_00001371',\n",
       " 'JobGroup_00001372',\n",
       " 'JobGroup_00001373',\n",
       " 'JobGroup_00001374',\n",
       " 'JobGroup_00001375',\n",
       " 'JobGroup_00001376',\n",
       " 'JobGroup_00001377',\n",
       " 'JobGroup_00001378',\n",
       " 'JobGroup_00001379',\n",
       " 'JobGroup_00001380',\n",
       " 'JobGroup_00001381',\n",
       " 'JobGroup_00001386',\n",
       " 'JobGroup_00001398',\n",
       " 'JobGroup_00001404',\n",
       " 'JobGroup_00001622',\n",
       " 'JobGroup_00001635',\n",
       " 'JobGroup_00001636',\n",
       " 'JobGroup_00001637',\n",
       " 'JobGroup_00001638',\n",
       " 'JobGroup_00001639',\n",
       " 'JobGroup_00001640',\n",
       " 'JobGroup_00001641',\n",
       " 'JobGroup_00001642',\n",
       " 'JobGroup_00001643',\n",
       " 'JobGroup_00001644',\n",
       " 'JobGroup_00001645',\n",
       " 'JobGroup_00001646',\n",
       " 'JobGroup_00001647',\n",
       " 'JobGroup_00001648',\n",
       " 'JobGroup_00001649',\n",
       " 'JobGroup_00001650',\n",
       " 'JobGroup_00001651',\n",
       " 'JobGroup_00001652',\n",
       " 'JobGroup_00001653',\n",
       " 'JobGroup_00001654',\n",
       " 'JobGroup_00001655',\n",
       " 'JobGroup_00001656',\n",
       " 'JobGroup_00001657',\n",
       " 'JobGroup_00001658',\n",
       " 'JobGroup_00001659',\n",
       " 'JobGroup_00001660',\n",
       " 'JobGroup_00001661',\n",
       " 'JobGroup_00001662',\n",
       " 'JobGroup_00001663',\n",
       " 'JobGroup_00001664',\n",
       " 'JobGroup_00001665',\n",
       " 'JobGroup_00001666',\n",
       " 'JobGroup_00001667',\n",
       " 'JobGroup_00001668',\n",
       " 'JobGroup_00001669',\n",
       " 'JobGroup_00001670',\n",
       " 'JobGroup_00001671',\n",
       " 'JobGroup_00001672',\n",
       " 'JobGroup_00001673',\n",
       " 'JobGroup_00001674',\n",
       " 'JobGroup_00001675',\n",
       " 'JobGroup_00001676',\n",
       " 'JobGroup_00001677',\n",
       " 'JobGroup_00001678',\n",
       " 'JobGroup_00001679',\n",
       " 'JobGroup_00001680',\n",
       " 'JobGroup_00001681',\n",
       " 'JobGroup_00001682',\n",
       " 'JobGroup_00001683',\n",
       " 'JobGroup_00001684',\n",
       " 'JobGroup_00001685',\n",
       " 'JobGroup_00001686',\n",
       " 'JobGroup_00001687',\n",
       " 'JobGroup_00001688',\n",
       " 'JobGroup_00001689',\n",
       " 'JobGroup_00001690',\n",
       " 'JobGroup_00001691',\n",
       " 'JobGroup_00001692',\n",
       " 'JobGroup_00001693',\n",
       " 'JobGroup_00001694',\n",
       " 'JobGroup_00001695',\n",
       " 'JobGroup_00001696',\n",
       " 'JobGroup_00001699',\n",
       " 'JobGroup_00001702',\n",
       " 'JobGroup_00001705',\n",
       " 'JobGroup_00001710',\n",
       " 'JobGroup_00001711',\n",
       " 'JobGroup_00001712',\n",
       " 'JobGroup_00001714',\n",
       " 'JobGroup_00001717',\n",
       " 'JobGroup_00001720',\n",
       " 'JobGroup_00001721',\n",
       " 'JobGroup_00001722',\n",
       " 'JobGroup_00001723',\n",
       " 'JobGroup_00001724',\n",
       " 'JobGroup_00001725',\n",
       " 'JobGroup_00001726',\n",
       " 'JobGroup_00001727',\n",
       " 'JobGroup_00001728',\n",
       " 'JobGroup_00001729',\n",
       " 'JobGroup_00001732',\n",
       " 'JobGroup_00001733',\n",
       " 'JobGroup_00001734',\n",
       " 'JobGroup_00001735',\n",
       " 'JobGroup_00001736',\n",
       " 'JobGroup_00001737',\n",
       " 'JobGroup_00001738',\n",
       " 'JobGroup_00001739',\n",
       " 'JobGroup_00001740',\n",
       " 'JobGroup_00001741',\n",
       " 'JobGroup_00001744',\n",
       " 'JobGroup_00001746',\n",
       " 'JobGroup_00001747',\n",
       " 'JobGroup_00001749',\n",
       " 'JobGroup_00001750',\n",
       " 'JobGroup_00001753',\n",
       " 'JobGroup_00001754',\n",
       " 'JobGroup_00001755',\n",
       " 'JobGroup_00001756',\n",
       " 'JobGroup_00001757',\n",
       " 'JobGroup_00001758',\n",
       " 'JobGroup_00001759',\n",
       " 'JobGroup_00001760',\n",
       " 'JobGroup_00001761',\n",
       " 'JobGroup_00001762',\n",
       " 'JobGroup_00001763',\n",
       " 'JobGroup_00001764',\n",
       " 'JobGroup_00001765',\n",
       " 'JobGroup_00001766',\n",
       " 'JobGroup_00001767',\n",
       " 'JobGroup_00001768',\n",
       " 'JobGroup_00001769',\n",
       " 'JobGroup_00001770',\n",
       " 'JobGroup_00001771',\n",
       " 'JobGroup_00001772',\n",
       " 'JobGroup_00001773',\n",
       " 'JobGroup_00001774',\n",
       " 'JobGroup_00001775',\n",
       " 'JobGroup_00001776',\n",
       " 'JobGroup_00001777',\n",
       " 'JobGroup_00001778',\n",
       " 'JobGroup_00001779',\n",
       " 'JobGroup_00001780',\n",
       " 'JobGroup_00001781',\n",
       " 'JobGroup_00001782',\n",
       " 'JobGroup_00001783',\n",
       " 'JobGroup_00001784',\n",
       " 'JobGroup_00001785',\n",
       " 'JobGroup_00001786',\n",
       " 'JobGroup_00001787',\n",
       " 'JobGroup_00001788',\n",
       " 'JobGroup_00001789',\n",
       " 'JobGroup_00001790',\n",
       " 'JobGroup_00001791',\n",
       " 'JobGroup_00001792',\n",
       " 'JobGroup_00001793',\n",
       " 'JobGroup_00001794',\n",
       " 'JobGroup_00001795',\n",
       " 'JobGroup_00001796',\n",
       " 'JobGroup_00001797',\n",
       " 'JobGroup_00001798',\n",
       " 'JobGroup_00001799',\n",
       " 'JobGroup_00001800',\n",
       " 'JobGroup_00001801',\n",
       " 'JobGroup_00001802',\n",
       " 'JobGroup_00001803',\n",
       " 'JobGroup_00001804',\n",
       " 'JobGroup_00001805',\n",
       " 'JobGroup_00001806',\n",
       " 'JobGroup_00001807',\n",
       " 'JobGroup_00001808',\n",
       " 'JobGroup_00001809',\n",
       " 'JobGroup_00001810',\n",
       " 'JobGroup_00001811',\n",
       " 'JobGroup_00001812',\n",
       " 'JobGroup_00001813',\n",
       " 'JobGroup_00001814',\n",
       " 'JobGroup_00001815',\n",
       " 'JobGroup_00001816',\n",
       " 'JobGroup_00001817',\n",
       " 'JobGroup_00001818',\n",
       " 'JobGroup_00001819',\n",
       " 'JobGroup_00001820',\n",
       " 'JobGroup_00001821',\n",
       " 'JobGroup_00001822',\n",
       " 'JobGroup_00001823',\n",
       " 'JobGroup_00001824',\n",
       " 'JobGroup_00001825',\n",
       " 'JobGroup_00001826',\n",
       " 'JobGroup_00001827',\n",
       " 'JobGroup_00001828',\n",
       " 'JobGroup_00001829',\n",
       " 'JobGroup_00001830',\n",
       " 'JobGroup_00001831',\n",
       " 'JobGroup_00001832',\n",
       " 'JobGroup_00001833',\n",
       " 'JobGroup_00001834',\n",
       " 'JobGroup_00001837',\n",
       " 'JobGroup_00001840',\n",
       " 'JobGroup_00001842',\n",
       " 'JobGroup_00001845',\n",
       " 'JobGroup_00001847',\n",
       " 'JobGroup_00001849',\n",
       " 'JobGroup_00001850',\n",
       " 'JobGroup_00001856',\n",
       " 'JobGroup_00001857',\n",
       " 'JobGroup_00001858',\n",
       " 'JobGroup_00001859',\n",
       " 'JobGroup_00001860',\n",
       " 'JobGroup_00001861',\n",
       " 'JobGroup_00001863',\n",
       " 'JobGroup_00001864',\n",
       " 'JobGroup_00001865',\n",
       " 'JobGroup_00001866',\n",
       " 'JobGroup_00001868',\n",
       " 'JobGroup_00001871',\n",
       " 'JobGroup_00001872',\n",
       " 'JobGroup_00001914',\n",
       " 'JobGroup_00001916',\n",
       " 'JobGroup_00001917',\n",
       " 'JobGroup_00001919',\n",
       " 'JobGroup_00001920',\n",
       " 'JobGroup_00001921',\n",
       " 'JobGroup_00001922',\n",
       " 'JobGroup_00001923',\n",
       " 'JobGroup_00001924',\n",
       " 'JobGroup_00001925',\n",
       " 'JobGroup_00001926',\n",
       " 'JobGroup_00001927',\n",
       " 'JobGroup_00001931',\n",
       " 'JobGroup_00001935',\n",
       " 'JobGroup_00001936',\n",
       " 'JobGroup_00001937',\n",
       " 'JobGroup_00001939',\n",
       " 'JobGroup_00001940',\n",
       " 'JobGroup_00001941',\n",
       " 'JobGroup_00001942',\n",
       " 'JobGroup_00001943',\n",
       " 'JobGroup_00001944',\n",
       " 'JobGroup_00001945',\n",
       " 'Site_ARC.DESY.de',\n",
       " 'Site_ARC.SIGNET.si',\n",
       " 'Site_CLOUD.AWS_Sydney.au',\n",
       " 'Site_CLOUD.AWS_Tokyo.jp',\n",
       " 'Site_CLOUD.AWS_Virginia.us',\n",
       " 'Site_CLOUD.CC1_Krakow.pl',\n",
       " 'Site_DIRAC.BINP.ru',\n",
       " 'Site_DIRAC.Beihang.cn',\n",
       " 'Site_DIRAC.CINVESTAV.mx',\n",
       " 'Site_DIRAC.Hokudai.jp',\n",
       " 'Site_DIRAC.IITG.in',\n",
       " 'Site_DIRAC.MIPT.ru',\n",
       " 'Site_DIRAC.Nagoya.jp',\n",
       " 'Site_DIRAC.Nara-WU.jp',\n",
       " 'Site_DIRAC.Niigata.jp',\n",
       " 'Site_DIRAC.Osaka-CU.jp',\n",
       " 'Site_DIRAC.PNNL.us',\n",
       " 'Site_DIRAC.RCNP.jp',\n",
       " 'Site_DIRAC.TIFR.in',\n",
       " 'Site_DIRAC.TMU.jp',\n",
       " 'Site_DIRAC.Test.jp',\n",
       " 'Site_DIRAC.Tokyo.jp',\n",
       " 'Site_DIRAC.UAS.mx',\n",
       " 'Site_DIRAC.UVic.ca',\n",
       " 'Site_DIRAC.Yamagata.jp',\n",
       " 'Site_DIRAC.Yonsei.kr',\n",
       " 'Site_Group.KEK2.jp',\n",
       " 'Site_LCG.CESNET.cz',\n",
       " 'Site_LCG.CNAF.it',\n",
       " 'Site_LCG.CYFRONET.pl',\n",
       " 'Site_LCG.Cosenza.it',\n",
       " 'Site_LCG.DESY.de',\n",
       " 'Site_LCG.Frascati.it',\n",
       " 'Site_LCG.HEPHY.at',\n",
       " 'Site_LCG.KEK.jp',\n",
       " 'Site_LCG.KEK2.jp',\n",
       " 'Site_LCG.KISTI.kr',\n",
       " 'Site_LCG.KIT.de',\n",
       " 'Site_LCG.KMI.jp',\n",
       " 'Site_LCG.Legnaro.it',\n",
       " 'Site_LCG.MPPMU.de',\n",
       " 'Site_LCG.McGill.ca',\n",
       " 'Site_LCG.Melbourne.au',\n",
       " 'Site_LCG.NCHC.tw',\n",
       " 'Site_LCG.NTU.tw',\n",
       " 'Site_LCG.Napoli.it',\n",
       " 'Site_LCG.Pisa.it',\n",
       " 'Site_LCG.Torino.it',\n",
       " 'Site_LCG.ULAKBIM.tr',\n",
       " 'Site_Multiple',\n",
       " 'Site_SSH.KMI.jp',\n",
       " 'Status_Failed',\n",
       " 'UserPriority_2',\n",
       " 'UserPriority_3',\n",
       " 'UserPriority_5',\n",
       " 'UserPriority_9',\n",
       " 'UserPriority_10']"
      ]
     },
     "execution_count": 22,
     "metadata": {},
     "output_type": "execute_result"
    }
   ],
   "source": [
    "cleaned.columns.tolist()"
   ]
  },
  {
   "cell_type": "code",
   "execution_count": 24,
   "metadata": {},
   "outputs": [
    {
     "name": "stdout",
     "output_type": "stream",
     "text": [
      "316\n"
     ]
    },
    {
     "data": {
      "text/plain": [
       "310"
      ]
     },
     "execution_count": 24,
     "metadata": {},
     "output_type": "execute_result"
    }
   ],
   "source": [
    "train_feat = cleaned.columns.tolist()\n",
    "print(len(train_feat)) #125\n",
    "\n",
    "train_feat.remove('HeartBeatTime')\n",
    "train_feat.remove('JobID')\n",
    "train_feat.remove('Status_Failed')\n",
    "\n",
    "\n",
    "### Extra removal after noticing high accuracy\n",
    "train_feat.remove('hbeat_start')\n",
    "train_feat.remove('start_submit')\n",
    "train_feat.remove('WallClockTime')\n",
    "##############################################\n",
    "\n",
    "\n",
    "len(train_feat) #122"
   ]
  },
  {
   "cell_type": "code",
   "execution_count": 25,
   "metadata": {},
   "outputs": [
    {
     "name": "stdout",
     "output_type": "stream",
     "text": [
      "CPU times: user 1.08 ms, sys: 134 µs, total: 1.21 ms\n",
      "Wall time: 1.22 ms\n"
     ]
    }
   ],
   "source": [
    "%%time\n",
    "cleanedgrouped = cleaned.groupby('JobID')"
   ]
  },
  {
   "cell_type": "code",
   "execution_count": 26,
   "metadata": {},
   "outputs": [
    {
     "name": "stdout",
     "output_type": "stream",
     "text": [
      "1\n"
     ]
    },
    {
     "data": {
      "text/plain": [
       "(None, (469777, 316))"
      ]
     },
     "execution_count": 26,
     "metadata": {},
     "output_type": "execute_result"
    }
   ],
   "source": [
    "print(thresholdd), cleaned.shape"
   ]
  },
  {
   "cell_type": "markdown",
   "metadata": {},
   "source": [
    "## Cleaned df to 3D tensor"
   ]
  },
  {
   "cell_type": "markdown",
   "metadata": {},
   "source": [
    "### Make X"
   ]
  },
  {
   "cell_type": "code",
   "execution_count": 27,
   "metadata": {},
   "outputs": [
    {
     "name": "stdout",
     "output_type": "stream",
     "text": [
      "CPU times: user 2min 27s, sys: 830 ms, total: 2min 28s\n",
      "Wall time: 2min 28s\n"
     ]
    }
   ],
   "source": [
    "%%time\n",
    "collecttrain = cleanedgrouped.apply(samples_features)"
   ]
  },
  {
   "cell_type": "code",
   "execution_count": 28,
   "metadata": {},
   "outputs": [
    {
     "data": {
      "text/plain": [
       "[array([[[4.97575322e-04, 7.75515427e-06, 2.28351662e-02, ...,\n",
       "          0.00000000e+00, 0.00000000e+00, 0.00000000e+00]],\n",
       " \n",
       "        [[4.97456341e-04, 6.13044945e-03, 2.70015824e-02, ...,\n",
       "          0.00000000e+00, 0.00000000e+00, 0.00000000e+00]],\n",
       " \n",
       "        [[4.97337359e-04, 1.26331463e-02, 2.65809346e-02, ...,\n",
       "          0.00000000e+00, 0.00000000e+00, 0.00000000e+00]],\n",
       " \n",
       "        ...,\n",
       " \n",
       "        [[4.97001413e-04, 6.71751463e-02, 2.64807804e-02, ...,\n",
       "          0.00000000e+00, 0.00000000e+00, 0.00000000e+00]],\n",
       " \n",
       "        [[4.97750294e-04, 7.41276421e-02, 2.24345492e-02, ...,\n",
       "          0.00000000e+00, 0.00000000e+00, 0.00000000e+00]],\n",
       " \n",
       "        [[4.98033749e-04, 8.11072809e-02, 2.27550428e-02, ...,\n",
       "          0.00000000e+00, 0.00000000e+00, 0.00000000e+00]]])]"
      ]
     },
     "execution_count": 28,
     "metadata": {},
     "output_type": "execute_result"
    }
   ],
   "source": [
    "collecttrain.tolist()[:1]"
   ]
  },
  {
   "cell_type": "code",
   "execution_count": 29,
   "metadata": {},
   "outputs": [
    {
     "data": {
      "text/plain": [
       "(16, 1, 310)"
      ]
     },
     "execution_count": 29,
     "metadata": {},
     "output_type": "execute_result"
    }
   ],
   "source": [
    "collecttrain.tolist()[100].shape"
   ]
  },
  {
   "cell_type": "code",
   "execution_count": 30,
   "metadata": {},
   "outputs": [],
   "source": [
    "X=[]"
   ]
  },
  {
   "cell_type": "code",
   "execution_count": 31,
   "metadata": {},
   "outputs": [
    {
     "name": "stdout",
     "output_type": "stream",
     "text": [
      "CPU times: user 205 ms, sys: 16 ms, total: 221 ms\n",
      "Wall time: 219 ms\n"
     ]
    }
   ],
   "source": [
    "%%time\n",
    "for x in collecttrain:\n",
    "    #len(x)\n",
    "    for i in x:\n",
    "        X.append(i)"
   ]
  },
  {
   "cell_type": "code",
   "execution_count": 32,
   "metadata": {},
   "outputs": [
    {
     "data": {
      "text/plain": [
       "(469777, 1, 310)"
      ]
     },
     "execution_count": 32,
     "metadata": {},
     "output_type": "execute_result"
    }
   ],
   "source": [
    "X = np.array(X)\n",
    "X.shape"
   ]
  },
  {
   "cell_type": "code",
   "execution_count": 33,
   "metadata": {},
   "outputs": [],
   "source": [
    "## X is ready"
   ]
  },
  {
   "cell_type": "code",
   "execution_count": 34,
   "metadata": {},
   "outputs": [],
   "source": [
    "# Label Column ('Status_Failed' is the label column)\n",
    "label_col = ['Status_Failed']"
   ]
  },
  {
   "cell_type": "code",
   "execution_count": 35,
   "metadata": {},
   "outputs": [],
   "source": [
    "# Takes a df and converts it to 3D tensor\n",
    "# Each sample will have k time steps\n",
    "\n",
    "def samples_label(df_input):\n",
    "    \n",
    "    k = thresholdd\n",
    "    input_cols = label_col\n",
    "    \n",
    "    \n",
    "    # takes a df\n",
    "    # Put your inputs into a single list\n",
    "    \n",
    "    df = pd.DataFrame()\n",
    "    \n",
    "    df['single_input_vector'] = df_input[input_cols].apply(tuple, axis=1).apply(list)\n",
    "    \n",
    "    # Double-encapsulate list so that you can sum it in the next step and keep time steps as separate elements\n",
    "    df['single_input_vector'] = df.single_input_vector.apply(lambda x: [list(x)])\n",
    "        \n",
    "    # The starting point\n",
    "    df['cumulative_input_vectors'] = df['single_input_vector'].shift(0)\n",
    "    \n",
    "    for i in range(1,k):\n",
    "        df['cumulative_input_vectors'] += df['single_input_vector'].shift(i)\n",
    "          \n",
    "    df.dropna(inplace=True)     # does operation in place & returns None\n",
    "\n",
    "    # Extract your training data\n",
    "    X_ = np.asarray(df.cumulative_input_vectors)\n",
    "    \n",
    "    # Use hstack to and reshape to make the inputs a 3d vector\n",
    "    X = np.vstack(X_).reshape(len(df), k, len(input_cols))\n",
    "    \n",
    "    # Clean up\n",
    "    del df\n",
    "    \n",
    "    return X\n",
    "    # returns 3D array"
   ]
  },
  {
   "cell_type": "markdown",
   "metadata": {},
   "source": [
    "# Build Y (each job separately)"
   ]
  },
  {
   "cell_type": "code",
   "execution_count": 36,
   "metadata": {},
   "outputs": [],
   "source": [
    "cleanedgrouped = cleaned.groupby('JobID')"
   ]
  },
  {
   "cell_type": "code",
   "execution_count": 37,
   "metadata": {},
   "outputs": [
    {
     "data": {
      "text/plain": [
       "['Status_Failed']"
      ]
     },
     "execution_count": 37,
     "metadata": {},
     "output_type": "execute_result"
    }
   ],
   "source": [
    "label_col"
   ]
  },
  {
   "cell_type": "code",
   "execution_count": 38,
   "metadata": {},
   "outputs": [
    {
     "name": "stdout",
     "output_type": "stream",
     "text": [
      "CPU times: user 2min 3s, sys: 284 ms, total: 2min 3s\n",
      "Wall time: 2min 3s\n"
     ]
    }
   ],
   "source": [
    "%%time\n",
    "collectlabel = cleanedgrouped.apply(samples_label)"
   ]
  },
  {
   "cell_type": "code",
   "execution_count": 39,
   "metadata": {},
   "outputs": [
    {
     "data": {
      "text/plain": [
       "[array([[[1]],\n",
       " \n",
       "        [[1]],\n",
       " \n",
       "        [[1]],\n",
       " \n",
       "        [[1]],\n",
       " \n",
       "        [[1]],\n",
       " \n",
       "        [[1]],\n",
       " \n",
       "        [[1]],\n",
       " \n",
       "        [[1]],\n",
       " \n",
       "        [[1]],\n",
       " \n",
       "        [[1]],\n",
       " \n",
       "        [[1]],\n",
       " \n",
       "        [[1]],\n",
       " \n",
       "        [[1]]])]"
      ]
     },
     "execution_count": 39,
     "metadata": {},
     "output_type": "execute_result"
    }
   ],
   "source": [
    "collectlabel.tolist()[:1]"
   ]
  },
  {
   "cell_type": "code",
   "execution_count": 40,
   "metadata": {},
   "outputs": [
    {
     "data": {
      "text/plain": [
       "(16, 1, 1)"
      ]
     },
     "execution_count": 40,
     "metadata": {},
     "output_type": "execute_result"
    }
   ],
   "source": [
    "collectlabel.tolist()[100].shape"
   ]
  },
  {
   "cell_type": "code",
   "execution_count": 41,
   "metadata": {},
   "outputs": [],
   "source": [
    "Y=[]"
   ]
  },
  {
   "cell_type": "code",
   "execution_count": 42,
   "metadata": {},
   "outputs": [
    {
     "name": "stdout",
     "output_type": "stream",
     "text": [
      "CPU times: user 206 ms, sys: 12 ms, total: 218 ms\n",
      "Wall time: 217 ms\n"
     ]
    }
   ],
   "source": [
    "%%time\n",
    "for x in collectlabel:\n",
    "    #len(x)\n",
    "    for i in x:\n",
    "        Y.append(i)"
   ]
  },
  {
   "cell_type": "code",
   "execution_count": 43,
   "metadata": {},
   "outputs": [
    {
     "data": {
      "text/plain": [
       "(469777, 1, 1)"
      ]
     },
     "execution_count": 43,
     "metadata": {},
     "output_type": "execute_result"
    }
   ],
   "source": [
    "Y = np.array(Y)\n",
    "Y.shape"
   ]
  },
  {
   "cell_type": "code",
   "execution_count": 45,
   "metadata": {},
   "outputs": [
    {
     "data": {
      "text/plain": [
       "(469777, 1)"
      ]
     },
     "execution_count": 45,
     "metadata": {},
     "output_type": "execute_result"
    }
   ],
   "source": [
    "YY = np.array([x[0][0] for x in Y]).reshape(len(Y),1)\n",
    "YY.shape"
   ]
  },
  {
   "cell_type": "code",
   "execution_count": 46,
   "metadata": {
    "scrolled": true
   },
   "outputs": [
    {
     "data": {
      "text/plain": [
       "array([[1],\n",
       "       [1],\n",
       "       [1],\n",
       "       [1],\n",
       "       [1]])"
      ]
     },
     "execution_count": 46,
     "metadata": {},
     "output_type": "execute_result"
    }
   ],
   "source": [
    "YY[:5]"
   ]
  },
  {
   "cell_type": "code",
   "execution_count": 47,
   "metadata": {},
   "outputs": [
    {
     "data": {
      "text/plain": [
       "1"
      ]
     },
     "execution_count": 47,
     "metadata": {},
     "output_type": "execute_result"
    }
   ],
   "source": [
    "## Y is ready\n",
    "thresholdd"
   ]
  },
  {
   "cell_type": "markdown",
   "metadata": {},
   "source": [
    "## Shuffle"
   ]
  },
  {
   "cell_type": "code",
   "execution_count": 48,
   "metadata": {},
   "outputs": [],
   "source": [
    "# Unison shuffle\n",
    "\n",
    "def unison_shuffled_copies(a, b):\n",
    "    import numpy as np\n",
    "    assert len(a) == len(b)\n",
    "    p = np.random.permutation(len(a))\n",
    "    return a[p], b[p]"
   ]
  },
  {
   "cell_type": "code",
   "execution_count": 49,
   "metadata": {},
   "outputs": [
    {
     "name": "stdout",
     "output_type": "stream",
     "text": [
      "CPU times: user 235 ms, sys: 240 ms, total: 475 ms\n",
      "Wall time: 474 ms\n"
     ]
    }
   ],
   "source": [
    "%%time\n",
    "X_final, Y_final = unison_shuffled_copies(X,YY)"
   ]
  },
  {
   "cell_type": "code",
   "execution_count": 50,
   "metadata": {},
   "outputs": [
    {
     "data": {
      "text/plain": [
       "((469777, 1, 310), (469777, 1))"
      ]
     },
     "execution_count": 50,
     "metadata": {},
     "output_type": "execute_result"
    }
   ],
   "source": [
    "X_final.shape, Y_final.shape"
   ]
  },
  {
   "cell_type": "code",
   "execution_count": 51,
   "metadata": {},
   "outputs": [
    {
     "data": {
      "text/plain": [
       "array([4711])"
      ]
     },
     "execution_count": 51,
     "metadata": {},
     "output_type": "execute_result"
    }
   ],
   "source": [
    "sum(Y_final[:10000])"
   ]
  },
  {
   "cell_type": "markdown",
   "metadata": {},
   "source": [
    "del X\n",
    "del Y\n",
    "del YY"
   ]
  },
  {
   "cell_type": "code",
   "execution_count": 52,
   "metadata": {},
   "outputs": [],
   "source": [
    "X_final, Y_final = unison_shuffled_copies(X_final, Y_final)"
   ]
  },
  {
   "cell_type": "markdown",
   "metadata": {},
   "source": [
    "# Start: Build test set from 'takeoutdf'"
   ]
  },
  {
   "cell_type": "markdown",
   "metadata": {},
   "source": [
    "# Build X_tes, Y_test using each JobID separately"
   ]
  },
  {
   "cell_type": "code",
   "execution_count": 53,
   "metadata": {},
   "outputs": [
    {
     "data": {
      "text/plain": [
       "(202677, 316)"
      ]
     },
     "execution_count": 53,
     "metadata": {},
     "output_type": "execute_result"
    }
   ],
   "source": [
    "takeoutdf = pd.read_pickle('takeoutdf_for_test_samples.pickle')\n",
    "takeoutdf.shape"
   ]
  },
  {
   "cell_type": "code",
   "execution_count": 54,
   "metadata": {},
   "outputs": [
    {
     "data": {
      "text/plain": [
       "0    107243\n",
       "1     95434\n",
       "Name: Status_Failed, dtype: int64"
      ]
     },
     "execution_count": 54,
     "metadata": {},
     "output_type": "execute_result"
    }
   ],
   "source": [
    "takeoutdf.Status_Failed.value_counts()"
   ]
  },
  {
   "cell_type": "code",
   "execution_count": 55,
   "metadata": {},
   "outputs": [],
   "source": [
    "# Training Features"
   ]
  },
  {
   "cell_type": "code",
   "execution_count": 56,
   "metadata": {},
   "outputs": [
    {
     "name": "stdout",
     "output_type": "stream",
     "text": [
      "310\n"
     ]
    }
   ],
   "source": [
    "print(len(train_feat)) "
   ]
  },
  {
   "cell_type": "code",
   "execution_count": 57,
   "metadata": {
    "scrolled": false
   },
   "outputs": [
    {
     "name": "stdout",
     "output_type": "stream",
     "text": [
      "['AvailableDiskSpace', 'CPUConsumed', 'LoadAverage', 'MemoryUsed', 'RSS', 'Vsize', 'RescheduleCounter', 'JobType_MCProductionBGx0', 'JobType_Merge', 'JobGroup_00000758', 'JobGroup_00000808', 'JobGroup_00000809', 'JobGroup_00000974', 'JobGroup_00000975', 'JobGroup_00001303', 'JobGroup_00001306', 'JobGroup_00001368', 'JobGroup_00001369', 'JobGroup_00001370', 'JobGroup_00001371', 'JobGroup_00001372', 'JobGroup_00001373', 'JobGroup_00001374', 'JobGroup_00001375', 'JobGroup_00001376', 'JobGroup_00001377', 'JobGroup_00001378', 'JobGroup_00001379', 'JobGroup_00001380', 'JobGroup_00001381', 'JobGroup_00001386', 'JobGroup_00001398', 'JobGroup_00001404', 'JobGroup_00001622', 'JobGroup_00001635', 'JobGroup_00001636', 'JobGroup_00001637', 'JobGroup_00001638', 'JobGroup_00001639', 'JobGroup_00001640', 'JobGroup_00001641', 'JobGroup_00001642', 'JobGroup_00001643', 'JobGroup_00001644', 'JobGroup_00001645', 'JobGroup_00001646', 'JobGroup_00001647', 'JobGroup_00001648', 'JobGroup_00001649', 'JobGroup_00001650', 'JobGroup_00001651', 'JobGroup_00001652', 'JobGroup_00001653', 'JobGroup_00001654', 'JobGroup_00001655', 'JobGroup_00001656', 'JobGroup_00001657', 'JobGroup_00001658', 'JobGroup_00001659', 'JobGroup_00001660', 'JobGroup_00001661', 'JobGroup_00001662', 'JobGroup_00001663', 'JobGroup_00001664', 'JobGroup_00001665', 'JobGroup_00001666', 'JobGroup_00001667', 'JobGroup_00001668', 'JobGroup_00001669', 'JobGroup_00001670', 'JobGroup_00001671', 'JobGroup_00001672', 'JobGroup_00001673', 'JobGroup_00001674', 'JobGroup_00001675', 'JobGroup_00001676', 'JobGroup_00001677', 'JobGroup_00001678', 'JobGroup_00001679', 'JobGroup_00001680', 'JobGroup_00001681', 'JobGroup_00001682', 'JobGroup_00001683', 'JobGroup_00001684', 'JobGroup_00001685', 'JobGroup_00001686', 'JobGroup_00001687', 'JobGroup_00001688', 'JobGroup_00001689', 'JobGroup_00001690', 'JobGroup_00001691', 'JobGroup_00001692', 'JobGroup_00001693', 'JobGroup_00001694', 'JobGroup_00001695', 'JobGroup_00001696', 'JobGroup_00001699', 'JobGroup_00001702', 'JobGroup_00001705', 'JobGroup_00001710', 'JobGroup_00001711', 'JobGroup_00001712', 'JobGroup_00001714', 'JobGroup_00001717', 'JobGroup_00001720', 'JobGroup_00001721', 'JobGroup_00001722', 'JobGroup_00001723', 'JobGroup_00001724', 'JobGroup_00001725', 'JobGroup_00001726', 'JobGroup_00001727', 'JobGroup_00001728', 'JobGroup_00001729', 'JobGroup_00001732', 'JobGroup_00001733', 'JobGroup_00001734', 'JobGroup_00001735', 'JobGroup_00001736', 'JobGroup_00001737', 'JobGroup_00001738', 'JobGroup_00001739', 'JobGroup_00001740', 'JobGroup_00001741', 'JobGroup_00001744', 'JobGroup_00001746', 'JobGroup_00001747', 'JobGroup_00001749', 'JobGroup_00001750', 'JobGroup_00001753', 'JobGroup_00001754', 'JobGroup_00001755', 'JobGroup_00001756', 'JobGroup_00001757', 'JobGroup_00001758', 'JobGroup_00001759', 'JobGroup_00001760', 'JobGroup_00001761', 'JobGroup_00001762', 'JobGroup_00001763', 'JobGroup_00001764', 'JobGroup_00001765', 'JobGroup_00001766', 'JobGroup_00001767', 'JobGroup_00001768', 'JobGroup_00001769', 'JobGroup_00001770', 'JobGroup_00001771', 'JobGroup_00001772', 'JobGroup_00001773', 'JobGroup_00001774', 'JobGroup_00001775', 'JobGroup_00001776', 'JobGroup_00001777', 'JobGroup_00001778', 'JobGroup_00001779', 'JobGroup_00001780', 'JobGroup_00001781', 'JobGroup_00001782', 'JobGroup_00001783', 'JobGroup_00001784', 'JobGroup_00001785', 'JobGroup_00001786', 'JobGroup_00001787', 'JobGroup_00001788', 'JobGroup_00001789', 'JobGroup_00001790', 'JobGroup_00001791', 'JobGroup_00001792', 'JobGroup_00001793', 'JobGroup_00001794', 'JobGroup_00001795', 'JobGroup_00001796', 'JobGroup_00001797', 'JobGroup_00001798', 'JobGroup_00001799', 'JobGroup_00001800', 'JobGroup_00001801', 'JobGroup_00001802', 'JobGroup_00001803', 'JobGroup_00001804', 'JobGroup_00001805', 'JobGroup_00001806', 'JobGroup_00001807', 'JobGroup_00001808', 'JobGroup_00001809', 'JobGroup_00001810', 'JobGroup_00001811', 'JobGroup_00001812', 'JobGroup_00001813', 'JobGroup_00001814', 'JobGroup_00001815', 'JobGroup_00001816', 'JobGroup_00001817', 'JobGroup_00001818', 'JobGroup_00001819', 'JobGroup_00001820', 'JobGroup_00001821', 'JobGroup_00001822', 'JobGroup_00001823', 'JobGroup_00001824', 'JobGroup_00001825', 'JobGroup_00001826', 'JobGroup_00001827', 'JobGroup_00001828', 'JobGroup_00001829', 'JobGroup_00001830', 'JobGroup_00001831', 'JobGroup_00001832', 'JobGroup_00001833', 'JobGroup_00001834', 'JobGroup_00001837', 'JobGroup_00001840', 'JobGroup_00001842', 'JobGroup_00001845', 'JobGroup_00001847', 'JobGroup_00001849', 'JobGroup_00001850', 'JobGroup_00001856', 'JobGroup_00001857', 'JobGroup_00001858', 'JobGroup_00001859', 'JobGroup_00001860', 'JobGroup_00001861', 'JobGroup_00001863', 'JobGroup_00001864', 'JobGroup_00001865', 'JobGroup_00001866', 'JobGroup_00001868', 'JobGroup_00001871', 'JobGroup_00001872', 'JobGroup_00001914', 'JobGroup_00001916', 'JobGroup_00001917', 'JobGroup_00001919', 'JobGroup_00001920', 'JobGroup_00001921', 'JobGroup_00001922', 'JobGroup_00001923', 'JobGroup_00001924', 'JobGroup_00001925', 'JobGroup_00001926', 'JobGroup_00001927', 'JobGroup_00001931', 'JobGroup_00001935', 'JobGroup_00001936', 'JobGroup_00001937', 'JobGroup_00001939', 'JobGroup_00001940', 'JobGroup_00001941', 'JobGroup_00001942', 'JobGroup_00001943', 'JobGroup_00001944', 'JobGroup_00001945', 'Site_ARC.DESY.de', 'Site_ARC.SIGNET.si', 'Site_CLOUD.AWS_Sydney.au', 'Site_CLOUD.AWS_Tokyo.jp', 'Site_CLOUD.AWS_Virginia.us', 'Site_CLOUD.CC1_Krakow.pl', 'Site_DIRAC.BINP.ru', 'Site_DIRAC.Beihang.cn', 'Site_DIRAC.CINVESTAV.mx', 'Site_DIRAC.Hokudai.jp', 'Site_DIRAC.IITG.in', 'Site_DIRAC.MIPT.ru', 'Site_DIRAC.Nagoya.jp', 'Site_DIRAC.Nara-WU.jp', 'Site_DIRAC.Niigata.jp', 'Site_DIRAC.Osaka-CU.jp', 'Site_DIRAC.PNNL.us', 'Site_DIRAC.RCNP.jp', 'Site_DIRAC.TIFR.in', 'Site_DIRAC.TMU.jp', 'Site_DIRAC.Test.jp', 'Site_DIRAC.Tokyo.jp', 'Site_DIRAC.UAS.mx', 'Site_DIRAC.UVic.ca', 'Site_DIRAC.Yamagata.jp', 'Site_DIRAC.Yonsei.kr', 'Site_Group.KEK2.jp', 'Site_LCG.CESNET.cz', 'Site_LCG.CNAF.it', 'Site_LCG.CYFRONET.pl', 'Site_LCG.Cosenza.it', 'Site_LCG.DESY.de', 'Site_LCG.Frascati.it', 'Site_LCG.HEPHY.at', 'Site_LCG.KEK.jp', 'Site_LCG.KEK2.jp', 'Site_LCG.KISTI.kr', 'Site_LCG.KIT.de', 'Site_LCG.KMI.jp', 'Site_LCG.Legnaro.it', 'Site_LCG.MPPMU.de', 'Site_LCG.McGill.ca', 'Site_LCG.Melbourne.au', 'Site_LCG.NCHC.tw', 'Site_LCG.NTU.tw', 'Site_LCG.Napoli.it', 'Site_LCG.Pisa.it', 'Site_LCG.Torino.it', 'Site_LCG.ULAKBIM.tr', 'Site_Multiple', 'Site_SSH.KMI.jp', 'UserPriority_2', 'UserPriority_3', 'UserPriority_5', 'UserPriority_9', 'UserPriority_10']\n"
     ]
    }
   ],
   "source": [
    "print(train_feat)"
   ]
  },
  {
   "cell_type": "code",
   "execution_count": 58,
   "metadata": {},
   "outputs": [
    {
     "data": {
      "text/plain": [
       "[1.2199327316073184e-05,\n",
       " 0.007003391081386252,\n",
       " 0.01399162140129751,\n",
       " 0.020983672305745965,\n",
       " 0.027975631657191156]"
      ]
     },
     "execution_count": 58,
     "metadata": {},
     "output_type": "execute_result"
    }
   ],
   "source": [
    "takeoutdf.WallClockTime.tolist()[:5]"
   ]
  },
  {
   "cell_type": "code",
   "execution_count": 59,
   "metadata": {},
   "outputs": [
    {
     "name": "stdout",
     "output_type": "stream",
     "text": [
      "['Status_Failed']\n"
     ]
    }
   ],
   "source": [
    "# Label Column ('Status_Failed' is the label column)\n",
    "print(label_col)"
   ]
  },
  {
   "cell_type": "code",
   "execution_count": 60,
   "metadata": {},
   "outputs": [
    {
     "data": {
      "text/plain": [
       "(202677, 316)"
      ]
     },
     "execution_count": 60,
     "metadata": {},
     "output_type": "execute_result"
    }
   ],
   "source": [
    "takeoutdf.shape"
   ]
  },
  {
   "cell_type": "code",
   "execution_count": 61,
   "metadata": {},
   "outputs": [
    {
     "data": {
      "text/plain": [
       "0"
      ]
     },
     "execution_count": 61,
     "metadata": {},
     "output_type": "execute_result"
    }
   ],
   "source": [
    "takeoutdf.isnull().values.ravel().sum()"
   ]
  },
  {
   "cell_type": "code",
   "execution_count": 62,
   "metadata": {},
   "outputs": [],
   "source": [
    "takeoutdf = takeoutdf.dropna()"
   ]
  },
  {
   "cell_type": "code",
   "execution_count": 63,
   "metadata": {
    "scrolled": true
   },
   "outputs": [
    {
     "data": {
      "text/plain": [
       "0"
      ]
     },
     "execution_count": 63,
     "metadata": {},
     "output_type": "execute_result"
    }
   ],
   "source": [
    "takeoutdf.isnull().values.ravel().sum()"
   ]
  },
  {
   "cell_type": "code",
   "execution_count": 64,
   "metadata": {},
   "outputs": [
    {
     "data": {
      "text/plain": [
       "Index(['JobID', 'HeartBeatTime', 'AvailableDiskSpace', 'CPUConsumed',\n",
       "       'LoadAverage', 'MemoryUsed', 'RSS', 'Vsize', 'WallClockTime',\n",
       "       'RescheduleCounter',\n",
       "       ...\n",
       "       'Site_LCG.Torino.it', 'Site_LCG.ULAKBIM.tr', 'Site_Multiple',\n",
       "       'Site_SSH.KMI.jp', 'Status_Failed', 'UserPriority_2', 'UserPriority_3',\n",
       "       'UserPriority_5', 'UserPriority_9', 'UserPriority_10'],\n",
       "      dtype='object', length=316)"
      ]
     },
     "execution_count": 64,
     "metadata": {},
     "output_type": "execute_result"
    }
   ],
   "source": [
    "takeoutdf.columns"
   ]
  },
  {
   "cell_type": "markdown",
   "metadata": {},
   "source": [
    "########################################################\n",
    "takeoutdf.to_pickle('takeoutdf_for_test_samples.pickle')\n",
    "########################################################"
   ]
  },
  {
   "cell_type": "code",
   "execution_count": 65,
   "metadata": {},
   "outputs": [],
   "source": [
    "# Start of X_test"
   ]
  },
  {
   "cell_type": "code",
   "execution_count": 66,
   "metadata": {},
   "outputs": [],
   "source": [
    "takeoutdfgrouped = takeoutdf.groupby('JobID')"
   ]
  },
  {
   "cell_type": "code",
   "execution_count": 67,
   "metadata": {},
   "outputs": [
    {
     "name": "stdout",
     "output_type": "stream",
     "text": [
      "CPU times: user 1min 3s, sys: 448 ms, total: 1min 4s\n",
      "Wall time: 1min 4s\n"
     ]
    }
   ],
   "source": [
    "%%time\n",
    "collectXtest = takeoutdfgrouped.apply(samples_features)"
   ]
  },
  {
   "cell_type": "code",
   "execution_count": null,
   "metadata": {},
   "outputs": [],
   "source": [
    "#Testcase\n",
    "gvb = pd.DataFrame({'JobID': [2,3,4,2,3,4], 'A':[12,23,34,45,56,67], 'B':[90,90,90,90,90,90]})"
   ]
  },
  {
   "cell_type": "code",
   "execution_count": null,
   "metadata": {},
   "outputs": [],
   "source": [
    "# gvb.groupby('JobID').apply(sam)"
   ]
  },
  {
   "cell_type": "code",
   "execution_count": null,
   "metadata": {},
   "outputs": [],
   "source": [
    "for x in takeoutdfgrouped.tolist()[:1]"
   ]
  },
  {
   "cell_type": "code",
   "execution_count": 68,
   "metadata": {},
   "outputs": [
    {
     "data": {
      "text/plain": [
       "(23, 1, 310)"
      ]
     },
     "execution_count": 68,
     "metadata": {},
     "output_type": "execute_result"
    }
   ],
   "source": [
    "collectXtest.tolist()[100].shape"
   ]
  },
  {
   "cell_type": "code",
   "execution_count": 69,
   "metadata": {},
   "outputs": [],
   "source": [
    "X_test=[]"
   ]
  },
  {
   "cell_type": "code",
   "execution_count": 70,
   "metadata": {},
   "outputs": [
    {
     "name": "stdout",
     "output_type": "stream",
     "text": [
      "CPU times: user 67.4 ms, sys: 20 ms, total: 87.4 ms\n",
      "Wall time: 85.6 ms\n"
     ]
    }
   ],
   "source": [
    "%%time\n",
    "for x in collectXtest:\n",
    "    #len(x)\n",
    "    for i in x:\n",
    "        X_test.append(i)"
   ]
  },
  {
   "cell_type": "code",
   "execution_count": 71,
   "metadata": {},
   "outputs": [
    {
     "data": {
      "text/plain": [
       "(202677, 1, 310)"
      ]
     },
     "execution_count": 71,
     "metadata": {},
     "output_type": "execute_result"
    }
   ],
   "source": [
    "X_test = np.array(X_test)\n",
    "X_test.shape"
   ]
  },
  {
   "cell_type": "code",
   "execution_count": 72,
   "metadata": {},
   "outputs": [],
   "source": [
    "## X_test is ready"
   ]
  },
  {
   "cell_type": "code",
   "execution_count": 73,
   "metadata": {},
   "outputs": [],
   "source": [
    "## Make Y_test"
   ]
  },
  {
   "cell_type": "code",
   "execution_count": 74,
   "metadata": {},
   "outputs": [
    {
     "name": "stdout",
     "output_type": "stream",
     "text": [
      "CPU times: user 53.5 s, sys: 88 ms, total: 53.6 s\n",
      "Wall time: 53.6 s\n"
     ]
    }
   ],
   "source": [
    "%%time\n",
    "collectlabel = takeoutdfgrouped.apply(samples_label)"
   ]
  },
  {
   "cell_type": "code",
   "execution_count": 77,
   "metadata": {},
   "outputs": [
    {
     "data": {
      "text/plain": [
       "(23, 1, 1)"
      ]
     },
     "execution_count": 77,
     "metadata": {},
     "output_type": "execute_result"
    }
   ],
   "source": [
    "collectlabel.tolist()[100].shape"
   ]
  },
  {
   "cell_type": "code",
   "execution_count": 78,
   "metadata": {},
   "outputs": [],
   "source": [
    "Y_t=[]"
   ]
  },
  {
   "cell_type": "code",
   "execution_count": 79,
   "metadata": {},
   "outputs": [
    {
     "name": "stdout",
     "output_type": "stream",
     "text": [
      "CPU times: user 108 ms, sys: 4.05 ms, total: 112 ms\n",
      "Wall time: 111 ms\n"
     ]
    }
   ],
   "source": [
    "%%time\n",
    "for x in collectlabel:\n",
    "    #len(x)\n",
    "    for i in x:\n",
    "        Y_t.append(i)"
   ]
  },
  {
   "cell_type": "code",
   "execution_count": 80,
   "metadata": {},
   "outputs": [
    {
     "data": {
      "text/plain": [
       "(202677, 1, 1)"
      ]
     },
     "execution_count": 80,
     "metadata": {},
     "output_type": "execute_result"
    }
   ],
   "source": [
    "Y_t = np.array(Y_t)\n",
    "Y_t.shape"
   ]
  },
  {
   "cell_type": "code",
   "execution_count": 82,
   "metadata": {},
   "outputs": [
    {
     "data": {
      "text/plain": [
       "(202677, 1)"
      ]
     },
     "execution_count": 82,
     "metadata": {},
     "output_type": "execute_result"
    }
   ],
   "source": [
    "Y_test = np.array([x[0][0] for x in Y_t]).reshape(len(Y_t),1)\n",
    "Y_test.shape"
   ]
  },
  {
   "cell_type": "code",
   "execution_count": 83,
   "metadata": {
    "scrolled": true
   },
   "outputs": [
    {
     "data": {
      "text/plain": [
       "array([[1],\n",
       "       [1],\n",
       "       [1],\n",
       "       [1],\n",
       "       [1]])"
      ]
     },
     "execution_count": 83,
     "metadata": {},
     "output_type": "execute_result"
    }
   ],
   "source": [
    "Y_test[:5]"
   ]
  },
  {
   "cell_type": "code",
   "execution_count": 84,
   "metadata": {},
   "outputs": [],
   "source": [
    "## Y_test is ready"
   ]
  },
  {
   "cell_type": "code",
   "execution_count": 85,
   "metadata": {},
   "outputs": [
    {
     "data": {
      "text/plain": [
       "((202677, 1, 310), (202677, 1))"
      ]
     },
     "execution_count": 85,
     "metadata": {},
     "output_type": "execute_result"
    }
   ],
   "source": [
    "X_test.shape, Y_test.shape"
   ]
  },
  {
   "cell_type": "code",
   "execution_count": 86,
   "metadata": {},
   "outputs": [
    {
     "data": {
      "text/plain": [
       "((469777, 1, 310), (469777, 1))"
      ]
     },
     "execution_count": 86,
     "metadata": {},
     "output_type": "execute_result"
    }
   ],
   "source": [
    "X_final.shape, Y_final.shape"
   ]
  },
  {
   "cell_type": "code",
   "execution_count": 87,
   "metadata": {},
   "outputs": [
    {
     "data": {
      "text/plain": [
       "(array([95434]), 202677)"
      ]
     },
     "execution_count": 87,
     "metadata": {},
     "output_type": "execute_result"
    }
   ],
   "source": [
    "sum(Y_test[:]), len(Y_test)"
   ]
  },
  {
   "cell_type": "code",
   "execution_count": 88,
   "metadata": {},
   "outputs": [],
   "source": [
    "del Y_t"
   ]
  },
  {
   "cell_type": "markdown",
   "metadata": {},
   "source": [
    "# End test set from 'takeoutdf'"
   ]
  },
  {
   "cell_type": "markdown",
   "metadata": {},
   "source": [
    "## Build Model"
   ]
  },
  {
   "cell_type": "code",
   "execution_count": 89,
   "metadata": {},
   "outputs": [],
   "source": [
    "input_length = X_final.shape[1]\n",
    "\n",
    "input_dim = X_final.shape[2]\n",
    "\n",
    "# Output dimensions is the shape of a single output vector\n",
    "# In this case it's just 1, but it could be more\n",
    "output_dim = len(Y_final[0])"
   ]
  },
  {
   "cell_type": "code",
   "execution_count": 90,
   "metadata": {},
   "outputs": [],
   "source": [
    "# NO NEED TO SPLIT, SINCE TESTING WILL OCCUR ON leftoutdf taken out earlier\n",
    "\n",
    "#from sklearn.model_selection import train_test_split\n",
    "\n",
    "#X_train,X_test,y_train,y_test = train_test_split(X_final,Y_final,test_size=0.33,random_state=24)"
   ]
  },
  {
   "cell_type": "code",
   "execution_count": 91,
   "metadata": {},
   "outputs": [],
   "source": [
    "#X_train.shape,y_train.shape, X_test.shape,  y_test.shape"
   ]
  },
  {
   "cell_type": "code",
   "execution_count": 92,
   "metadata": {},
   "outputs": [
    {
     "data": {
      "text/plain": [
       "0.47002088224838595"
      ]
     },
     "execution_count": 92,
     "metadata": {},
     "output_type": "execute_result"
    }
   ],
   "source": [
    "sum([x[0] for x in Y_final])/ len(Y_final)"
   ]
  },
  {
   "cell_type": "code",
   "execution_count": 93,
   "metadata": {},
   "outputs": [
    {
     "data": {
      "text/plain": [
       "array([[0],\n",
       "       [1],\n",
       "       [1],\n",
       "       [1],\n",
       "       [1]])"
      ]
     },
     "execution_count": 93,
     "metadata": {},
     "output_type": "execute_result"
    }
   ],
   "source": [
    "Y_final[:5]"
   ]
  },
  {
   "cell_type": "code",
   "execution_count": 94,
   "metadata": {},
   "outputs": [
    {
     "name": "stderr",
     "output_type": "stream",
     "text": [
      "/data/home/a1singh/anaconda3/envs/keras/lib/python3.5/site-packages/h5py/__init__.py:36: FutureWarning: Conversion of the second argument of issubdtype from `float` to `np.floating` is deprecated. In future, it will be treated as `np.float64 == np.dtype(float).type`.\n",
      "  from ._conv import register_converters as _register_converters\n",
      "Using TensorFlow backend.\n"
     ]
    },
    {
     "data": {
      "text/plain": [
       "(310, 1, 1)"
      ]
     },
     "execution_count": 94,
     "metadata": {},
     "output_type": "execute_result"
    }
   ],
   "source": [
    "from keras.models import Model, Sequential\n",
    "from keras.layers import LSTM, Dense, Embedding, Dropout\n",
    "input_dim, input_length, output_dim"
   ]
  },
  {
   "cell_type": "code",
   "execution_count": 95,
   "metadata": {},
   "outputs": [],
   "source": [
    "def create_model(input_dim = input_dim, input_length = input_length, output_dim=output_dim):\n",
    "    print ('Creating model...')\n",
    "    model = Sequential()\n",
    "    model.add(LSTM(20, input_shape=(input_length,input_dim),return_sequences=True))\n",
    "    model.add(LSTM(20))\n",
    "    model.add(Dense(output_dim, activation='sigmoid'))\n",
    "\n",
    "    print ('Compiling...')\n",
    "    model.compile(loss='binary_crossentropy',\n",
    "                  optimizer='adam',\n",
    "                  metrics=['binary_accuracy'])\n",
    "    return model"
   ]
  },
  {
   "cell_type": "code",
   "execution_count": 96,
   "metadata": {},
   "outputs": [
    {
     "name": "stdout",
     "output_type": "stream",
     "text": [
      "Creating model...\n",
      "Compiling...\n"
     ]
    }
   ],
   "source": [
    "model = create_model()"
   ]
  },
  {
   "cell_type": "code",
   "execution_count": 97,
   "metadata": {},
   "outputs": [
    {
     "name": "stdout",
     "output_type": "stream",
     "text": [
      "Fitting model...\n",
      "Train on 234888 samples, validate on 234889 samples\n",
      "Epoch 1/3\n",
      "234888/234888 [==============================] - 7s 30us/step - loss: 0.2216 - binary_accuracy: 0.9192 - val_loss: 0.0613 - val_binary_accuracy: 0.9836\n",
      "Epoch 2/3\n",
      "234888/234888 [==============================] - 7s 29us/step - loss: 0.0606 - binary_accuracy: 0.9835 - val_loss: 0.0577 - val_binary_accuracy: 0.9849\n",
      "Epoch 3/3\n",
      "234888/234888 [==============================] - 7s 29us/step - loss: 0.0588 - binary_accuracy: 0.9842 - val_loss: 0.0561 - val_binary_accuracy: 0.9852\n",
      "CPU times: user 1min 22s, sys: 28.3 s, total: 1min 50s\n",
      "Wall time: 22.2 s\n"
     ]
    }
   ],
   "source": [
    "%%time\n",
    "\n",
    "print ('Fitting model...')\n",
    "\n",
    "history = model.fit(X_final,Y_final,batch_size=500, epochs=3, validation_split = 0.50, verbose = 1)"
   ]
  },
  {
   "cell_type": "code",
   "execution_count": 98,
   "metadata": {},
   "outputs": [
    {
     "name": "stdout",
     "output_type": "stream",
     "text": [
      "202677/202677 [==============================] - 12s 61us/step\n"
     ]
    }
   ],
   "source": [
    "loss, accuracy = model.evaluate(X_test, Y_test)"
   ]
  },
  {
   "cell_type": "markdown",
   "metadata": {},
   "source": [
    "# Accuracy"
   ]
  },
  {
   "cell_type": "code",
   "execution_count": 99,
   "metadata": {},
   "outputs": [
    {
     "data": {
      "text/plain": [
       "(0.057242469358290075, 0.9855336323312462)"
      ]
     },
     "execution_count": 99,
     "metadata": {},
     "output_type": "execute_result"
    }
   ],
   "source": [
    "loss, accuracy"
   ]
  },
  {
   "cell_type": "code",
   "execution_count": 100,
   "metadata": {},
   "outputs": [],
   "source": [
    "# when taking 10 timesteps, and keeping separate test and training JobIDs\n",
    "# loss, accuracy is: \n",
    "# on X_test, Y_test"
   ]
  },
  {
   "cell_type": "code",
   "execution_count": 101,
   "metadata": {},
   "outputs": [],
   "source": [
    "y_pred = model.predict(X_test)"
   ]
  },
  {
   "cell_type": "code",
   "execution_count": 112,
   "metadata": {},
   "outputs": [
    {
     "data": {
      "text/plain": [
       "array([[0.22921973],\n",
       "       [0.25287542],\n",
       "       [0.2654875 ],\n",
       "       [0.3063789 ]], dtype=float32)"
      ]
     },
     "execution_count": 112,
     "metadata": {},
     "output_type": "execute_result"
    }
   ],
   "source": [
    "y_pred[15000:15004]"
   ]
  },
  {
   "cell_type": "markdown",
   "metadata": {},
   "source": [
    "# Binary classification accuracy"
   ]
  },
  {
   "cell_type": "code",
   "execution_count": 103,
   "metadata": {},
   "outputs": [],
   "source": [
    "y_true = pd.Series([x[0] for x in Y_test])\n",
    "\n",
    "# Use np.rint for rounding off \n",
    "y_predicted = pd.Series([ np.rint(j[0]) for j in y_pred])"
   ]
  },
  {
   "cell_type": "code",
   "execution_count": 104,
   "metadata": {},
   "outputs": [
    {
     "data": {
      "text/plain": [
       "0.9855336323312462"
      ]
     },
     "execution_count": 104,
     "metadata": {},
     "output_type": "execute_result"
    }
   ],
   "source": [
    "np.mean(np.equal(y_true, y_predicted))"
   ]
  },
  {
   "cell_type": "markdown",
   "metadata": {},
   "source": [
    "# Confusion matrix"
   ]
  },
  {
   "cell_type": "code",
   "execution_count": null,
   "metadata": {},
   "outputs": [],
   "source": [
    "pd.crosstab(y_true, y_predicted, rownames=['True'], colnames=['Predicted'], margins=True)"
   ]
  },
  {
   "cell_type": "code",
   "execution_count": 105,
   "metadata": {},
   "outputs": [
    {
     "data": {
      "text/html": [
       "<div>\n",
       "<style scoped>\n",
       "    .dataframe tbody tr th:only-of-type {\n",
       "        vertical-align: middle;\n",
       "    }\n",
       "\n",
       "    .dataframe tbody tr th {\n",
       "        vertical-align: top;\n",
       "    }\n",
       "\n",
       "    .dataframe thead th {\n",
       "        text-align: right;\n",
       "    }\n",
       "</style>\n",
       "<table border=\"1\" class=\"dataframe\">\n",
       "  <thead>\n",
       "    <tr style=\"text-align: right;\">\n",
       "      <th>Predicted</th>\n",
       "      <th>0.0</th>\n",
       "      <th>1.0</th>\n",
       "      <th>All</th>\n",
       "    </tr>\n",
       "    <tr>\n",
       "      <th>True</th>\n",
       "      <th></th>\n",
       "      <th></th>\n",
       "      <th></th>\n",
       "    </tr>\n",
       "  </thead>\n",
       "  <tbody>\n",
       "    <tr>\n",
       "      <th>0</th>\n",
       "      <td>106958</td>\n",
       "      <td>285</td>\n",
       "      <td>107243</td>\n",
       "    </tr>\n",
       "    <tr>\n",
       "      <th>1</th>\n",
       "      <td>2647</td>\n",
       "      <td>92787</td>\n",
       "      <td>95434</td>\n",
       "    </tr>\n",
       "    <tr>\n",
       "      <th>All</th>\n",
       "      <td>109605</td>\n",
       "      <td>93072</td>\n",
       "      <td>202677</td>\n",
       "    </tr>\n",
       "  </tbody>\n",
       "</table>\n",
       "</div>"
      ],
      "text/plain": [
       "Predicted     0.0    1.0     All\n",
       "True                            \n",
       "0          106958    285  107243\n",
       "1            2647  92787   95434\n",
       "All        109605  93072  202677"
      ]
     },
     "execution_count": 105,
     "metadata": {},
     "output_type": "execute_result"
    }
   ],
   "source": [
    "pd.crosstab(y_true, y_predicted, rownames=['True'], colnames=['Predicted'], margins=True)"
   ]
  },
  {
   "cell_type": "code",
   "execution_count": 106,
   "metadata": {},
   "outputs": [
    {
     "data": {
      "text/plain": [
       "(13097, 30559)"
      ]
     },
     "execution_count": 106,
     "metadata": {},
     "output_type": "execute_result"
    }
   ],
   "source": [
    "len(takeoutdf.JobID.unique().tolist()), len(cleaned.JobID.unique().tolist())"
   ]
  },
  {
   "cell_type": "code",
   "execution_count": 107,
   "metadata": {},
   "outputs": [
    {
     "data": {
      "text/plain": [
       "[]"
      ]
     },
     "execution_count": 107,
     "metadata": {},
     "output_type": "execute_result"
    }
   ],
   "source": [
    "# Verify that there is no intersection between training and test jobs\n",
    "\n",
    "list(set(takeoutdf.JobID.tolist()) & set(cleaned.JobID.tolist()))"
   ]
  },
  {
   "cell_type": "code",
   "execution_count": 113,
   "metadata": {},
   "outputs": [
    {
     "data": {
      "text/plain": [
       "(93072.0, 202677)"
      ]
     },
     "execution_count": 113,
     "metadata": {},
     "output_type": "execute_result"
    }
   ],
   "source": [
    "# Predicting all 0s ??\n",
    "sum([ (j) for j in y_predicted]), len(y_predicted)"
   ]
  },
  {
   "cell_type": "markdown",
   "metadata": {},
   "source": [
    "# Checkpoint: Valid code above this line"
   ]
  },
  {
   "cell_type": "markdown",
   "metadata": {},
   "source": [
    "### Appendix below this line:"
   ]
  },
  {
   "cell_type": "code",
   "execution_count": null,
   "metadata": {},
   "outputs": [],
   "source": [
    "#### Save X to disk\n",
    "\n",
    "\n",
    "\n",
    "#### Create Labels\n",
    "\n",
    "\n",
    "\n",
    "##### Make X_train, X_test\n",
    "\n",
    "\n",
    "\n",
    "\n",
    "##### Create LSTM\n",
    "\n",
    "\n",
    "\n",
    "##### Train LSTM\n",
    "\n",
    "\n",
    "##### Test LSTM"
   ]
  },
  {
   "cell_type": "code",
   "execution_count": null,
   "metadata": {},
   "outputs": [],
   "source": [
    "def vector_generator():\n",
    "    # for a given JOBID, return a list of vectors\n",
    "    # each vector is a feature vector (observation) at a timestamp t\n",
    "    # length of feature vector = n\n",
    "    \n",
    "    new_dict = {}\n",
    "    # jobID --> { timestamp -> [features], timestamp -> [features], timestamp -> [features], ... }\n",
    "    \n",
    "    ####################################\n",
    "    # Single Table Features\n",
    "    ####################################\n",
    "    \n",
    "    #### Iterate throught each table and pick the feature of interest from each table\n",
    "    \n",
    "    #### Continuous\n",
    "    \n",
    "    #### Categorical\n",
    "    \n",
    "    \n",
    "    ####################################\n",
    "    # Multi-table features (JOINs)\n",
    "    ####################################\n",
    "    \n",
    "    #### Continuous\n",
    "    \n",
    "    #### Categorical\n",
    "    \n",
    "    \n",
    "    return None"
   ]
  },
  {
   "cell_type": "code",
   "execution_count": null,
   "metadata": {},
   "outputs": [],
   "source": [
    "def vec_2_samples():\n",
    "    # take the list of vectors for a given job, and reshape it to 3D np array\n",
    "    # each sample could be one-time step or >1 time-step observation\n",
    "    # 3D array : s x t x n\n",
    "    # s = # of samples\n",
    "    # t = # of timesteps in each sample\n",
    "    # n = # length of each feature vector\n",
    "    return None"
   ]
  },
  {
   "cell_type": "code",
   "execution_count": null,
   "metadata": {},
   "outputs": [],
   "source": [
    "def sample_stacker():\n",
    "    # takes samples of a set of jobs\n",
    "    # and stacks these samples on top of each other\n",
    "    # np.append(A, B, axis =0)\n",
    "    # returned 3D array is a set of samples that can be fed to an LSTM\n",
    "    return None"
   ]
  },
  {
   "cell_type": "code",
   "execution_count": null,
   "metadata": {},
   "outputs": [],
   "source": []
  }
 ],
 "metadata": {
  "kernelspec": {
   "display_name": "Python 3",
   "language": "python",
   "name": "python3"
  },
  "language_info": {
   "codemirror_mode": {
    "name": "ipython",
    "version": 3
   },
   "file_extension": ".py",
   "mimetype": "text/x-python",
   "name": "python",
   "nbconvert_exporter": "python",
   "pygments_lexer": "ipython3",
   "version": "3.5.4"
  }
 },
 "nbformat": 4,
 "nbformat_minor": 2
}
