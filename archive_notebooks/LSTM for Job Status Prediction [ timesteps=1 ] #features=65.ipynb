{
 "cells": [
  {
   "cell_type": "code",
   "execution_count": 3,
   "metadata": {},
   "outputs": [],
   "source": [
    "# This notebook contains:\n",
    "#\n",
    "# Functions to connect to MYSQL database and generate list of feature vectors for each JOBID"
   ]
  },
  {
   "cell_type": "code",
   "execution_count": 4,
   "metadata": {},
   "outputs": [],
   "source": [
    "# Connect to MYSQL database\n",
    "\n",
    "hostname = 'localhost'\n",
    "username = 'a1singh'\n",
    "password = 'sdsc1234'\n",
    "database = 'belle2'\n",
    "\n",
    "import pandas as pd\n",
    "import numpy as np"
   ]
  },
  {
   "cell_type": "code",
   "execution_count": 5,
   "metadata": {},
   "outputs": [
    {
     "name": "stdout",
     "output_type": "stream",
     "text": [
      "/data/home/a1singh/anaconda3/envs/keras/bin/python\n",
      "3.5.4 |Anaconda, Inc.| (default, Nov 20 2017, 18:44:38) \n",
      "[GCC 7.2.0]\n"
     ]
    }
   ],
   "source": [
    "import sys\n",
    "print(sys.executable)\n",
    "print(sys.version)"
   ]
  },
  {
   "cell_type": "code",
   "execution_count": 6,
   "metadata": {},
   "outputs": [
    {
     "name": "stdout",
     "output_type": "stream",
     "text": [
      "<pymysql.connections.Connection object at 0x7f9ae04a2ac8>\n"
     ]
    }
   ],
   "source": [
    "import pymysql\n",
    "from IPython.display import display, HTML\n",
    "\n",
    "conn = pymysql.connect(host=hostname, user=username, passwd=password, db=database)\n",
    "print(conn)"
   ]
  },
  {
   "cell_type": "code",
   "execution_count": 7,
   "metadata": {
    "scrolled": true
   },
   "outputs": [],
   "source": [
    "query = \"show tables\"\n",
    "df = pd.read_sql(query, conn)\n",
    "tables = df['Tables_in_belle2'].tolist()"
   ]
  },
  {
   "cell_type": "code",
   "execution_count": 8,
   "metadata": {},
   "outputs": [
    {
     "name": "stdout",
     "output_type": "stream",
     "text": [
      "AtticJobParameters\n"
     ]
    },
    {
     "data": {
      "text/html": [
       "<div>\n",
       "<style scoped>\n",
       "    .dataframe tbody tr th:only-of-type {\n",
       "        vertical-align: middle;\n",
       "    }\n",
       "\n",
       "    .dataframe tbody tr th {\n",
       "        vertical-align: top;\n",
       "    }\n",
       "\n",
       "    .dataframe thead th {\n",
       "        text-align: right;\n",
       "    }\n",
       "</style>\n",
       "<table border=\"1\" class=\"dataframe\">\n",
       "  <thead>\n",
       "    <tr style=\"text-align: right;\">\n",
       "      <th></th>\n",
       "      <th>Field</th>\n",
       "      <th>Type</th>\n",
       "      <th>Null</th>\n",
       "      <th>Key</th>\n",
       "      <th>Default</th>\n",
       "      <th>Extra</th>\n",
       "    </tr>\n",
       "  </thead>\n",
       "  <tbody>\n",
       "    <tr>\n",
       "      <th>0</th>\n",
       "      <td>JobID</td>\n",
       "      <td>int(11) unsigned</td>\n",
       "      <td>NO</td>\n",
       "      <td>PRI</td>\n",
       "      <td>None</td>\n",
       "      <td></td>\n",
       "    </tr>\n",
       "    <tr>\n",
       "      <th>1</th>\n",
       "      <td>Name</td>\n",
       "      <td>varchar(100)</td>\n",
       "      <td>NO</td>\n",
       "      <td>PRI</td>\n",
       "      <td>None</td>\n",
       "      <td></td>\n",
       "    </tr>\n",
       "    <tr>\n",
       "      <th>2</th>\n",
       "      <td>Value</td>\n",
       "      <td>blob</td>\n",
       "      <td>NO</td>\n",
       "      <td></td>\n",
       "      <td>None</td>\n",
       "      <td></td>\n",
       "    </tr>\n",
       "    <tr>\n",
       "      <th>3</th>\n",
       "      <td>RescheduleCycle</td>\n",
       "      <td>int(11) unsigned</td>\n",
       "      <td>NO</td>\n",
       "      <td>PRI</td>\n",
       "      <td>None</td>\n",
       "      <td></td>\n",
       "    </tr>\n",
       "  </tbody>\n",
       "</table>\n",
       "</div>"
      ],
      "text/plain": [
       "             Field              Type Null  Key Default Extra\n",
       "0            JobID  int(11) unsigned   NO  PRI    None      \n",
       "1             Name      varchar(100)   NO  PRI    None      \n",
       "2            Value              blob   NO         None      \n",
       "3  RescheduleCycle  int(11) unsigned   NO  PRI    None      "
      ]
     },
     "metadata": {},
     "output_type": "display_data"
    },
    {
     "name": "stdout",
     "output_type": "stream",
     "text": [
      "[['JobID' 'int(11) unsigned' 'NO' 'PRI' None '']\n",
      " ['Name' 'varchar(100)' 'NO' 'PRI' None '']\n",
      " ['Value' 'blob' 'NO' '' None '']\n",
      " ['RescheduleCycle' 'int(11) unsigned' 'NO' 'PRI' None '']]\n",
      "4\n",
      "----------------------------------------------------------------------------------------------------\n",
      "HeartBeatLoggingInfo\n"
     ]
    },
    {
     "data": {
      "text/html": [
       "<div>\n",
       "<style scoped>\n",
       "    .dataframe tbody tr th:only-of-type {\n",
       "        vertical-align: middle;\n",
       "    }\n",
       "\n",
       "    .dataframe tbody tr th {\n",
       "        vertical-align: top;\n",
       "    }\n",
       "\n",
       "    .dataframe thead th {\n",
       "        text-align: right;\n",
       "    }\n",
       "</style>\n",
       "<table border=\"1\" class=\"dataframe\">\n",
       "  <thead>\n",
       "    <tr style=\"text-align: right;\">\n",
       "      <th></th>\n",
       "      <th>Field</th>\n",
       "      <th>Type</th>\n",
       "      <th>Null</th>\n",
       "      <th>Key</th>\n",
       "      <th>Default</th>\n",
       "      <th>Extra</th>\n",
       "    </tr>\n",
       "  </thead>\n",
       "  <tbody>\n",
       "    <tr>\n",
       "      <th>0</th>\n",
       "      <td>JobID</td>\n",
       "      <td>int(11) unsigned</td>\n",
       "      <td>NO</td>\n",
       "      <td>PRI</td>\n",
       "      <td>None</td>\n",
       "      <td></td>\n",
       "    </tr>\n",
       "    <tr>\n",
       "      <th>1</th>\n",
       "      <td>Name</td>\n",
       "      <td>varchar(100)</td>\n",
       "      <td>NO</td>\n",
       "      <td>PRI</td>\n",
       "      <td>None</td>\n",
       "      <td></td>\n",
       "    </tr>\n",
       "    <tr>\n",
       "      <th>2</th>\n",
       "      <td>Value</td>\n",
       "      <td>blob</td>\n",
       "      <td>NO</td>\n",
       "      <td></td>\n",
       "      <td>None</td>\n",
       "      <td></td>\n",
       "    </tr>\n",
       "    <tr>\n",
       "      <th>3</th>\n",
       "      <td>HeartBeatTime</td>\n",
       "      <td>datetime</td>\n",
       "      <td>NO</td>\n",
       "      <td>PRI</td>\n",
       "      <td>None</td>\n",
       "      <td></td>\n",
       "    </tr>\n",
       "  </tbody>\n",
       "</table>\n",
       "</div>"
      ],
      "text/plain": [
       "           Field              Type Null  Key Default Extra\n",
       "0          JobID  int(11) unsigned   NO  PRI    None      \n",
       "1           Name      varchar(100)   NO  PRI    None      \n",
       "2          Value              blob   NO         None      \n",
       "3  HeartBeatTime          datetime   NO  PRI    None      "
      ]
     },
     "metadata": {},
     "output_type": "display_data"
    },
    {
     "name": "stdout",
     "output_type": "stream",
     "text": [
      "[['JobID' 'int(11) unsigned' 'NO' 'PRI' None '']\n",
      " ['Name' 'varchar(100)' 'NO' 'PRI' None '']\n",
      " ['Value' 'blob' 'NO' '' None '']\n",
      " ['HeartBeatTime' 'datetime' 'NO' 'PRI' None '']]\n",
      "4\n",
      "----------------------------------------------------------------------------------------------------\n",
      "InputData\n"
     ]
    },
    {
     "data": {
      "text/html": [
       "<div>\n",
       "<style scoped>\n",
       "    .dataframe tbody tr th:only-of-type {\n",
       "        vertical-align: middle;\n",
       "    }\n",
       "\n",
       "    .dataframe tbody tr th {\n",
       "        vertical-align: top;\n",
       "    }\n",
       "\n",
       "    .dataframe thead th {\n",
       "        text-align: right;\n",
       "    }\n",
       "</style>\n",
       "<table border=\"1\" class=\"dataframe\">\n",
       "  <thead>\n",
       "    <tr style=\"text-align: right;\">\n",
       "      <th></th>\n",
       "      <th>Field</th>\n",
       "      <th>Type</th>\n",
       "      <th>Null</th>\n",
       "      <th>Key</th>\n",
       "      <th>Default</th>\n",
       "      <th>Extra</th>\n",
       "    </tr>\n",
       "  </thead>\n",
       "  <tbody>\n",
       "    <tr>\n",
       "      <th>0</th>\n",
       "      <td>JobID</td>\n",
       "      <td>int(11) unsigned</td>\n",
       "      <td>NO</td>\n",
       "      <td>PRI</td>\n",
       "      <td>None</td>\n",
       "      <td></td>\n",
       "    </tr>\n",
       "    <tr>\n",
       "      <th>1</th>\n",
       "      <td>LFN</td>\n",
       "      <td>varchar(255)</td>\n",
       "      <td>NO</td>\n",
       "      <td>PRI</td>\n",
       "      <td></td>\n",
       "      <td></td>\n",
       "    </tr>\n",
       "    <tr>\n",
       "      <th>2</th>\n",
       "      <td>Status</td>\n",
       "      <td>varchar(32)</td>\n",
       "      <td>NO</td>\n",
       "      <td></td>\n",
       "      <td>AprioriGood</td>\n",
       "      <td></td>\n",
       "    </tr>\n",
       "  </tbody>\n",
       "</table>\n",
       "</div>"
      ],
      "text/plain": [
       "    Field              Type Null  Key      Default Extra\n",
       "0   JobID  int(11) unsigned   NO  PRI         None      \n",
       "1     LFN      varchar(255)   NO  PRI                   \n",
       "2  Status       varchar(32)   NO       AprioriGood      "
      ]
     },
     "metadata": {},
     "output_type": "display_data"
    },
    {
     "name": "stdout",
     "output_type": "stream",
     "text": [
      "[['JobID' 'int(11) unsigned' 'NO' 'PRI' None '']\n",
      " ['LFN' 'varchar(255)' 'NO' 'PRI' '' '']\n",
      " ['Status' 'varchar(32)' 'NO' '' 'AprioriGood' '']]\n",
      "3\n",
      "----------------------------------------------------------------------------------------------------\n",
      "JobCommands\n"
     ]
    },
    {
     "data": {
      "text/html": [
       "<div>\n",
       "<style scoped>\n",
       "    .dataframe tbody tr th:only-of-type {\n",
       "        vertical-align: middle;\n",
       "    }\n",
       "\n",
       "    .dataframe tbody tr th {\n",
       "        vertical-align: top;\n",
       "    }\n",
       "\n",
       "    .dataframe thead th {\n",
       "        text-align: right;\n",
       "    }\n",
       "</style>\n",
       "<table border=\"1\" class=\"dataframe\">\n",
       "  <thead>\n",
       "    <tr style=\"text-align: right;\">\n",
       "      <th></th>\n",
       "      <th>Field</th>\n",
       "      <th>Type</th>\n",
       "      <th>Null</th>\n",
       "      <th>Key</th>\n",
       "      <th>Default</th>\n",
       "      <th>Extra</th>\n",
       "    </tr>\n",
       "  </thead>\n",
       "  <tbody>\n",
       "    <tr>\n",
       "      <th>0</th>\n",
       "      <td>JobID</td>\n",
       "      <td>int(11) unsigned</td>\n",
       "      <td>NO</td>\n",
       "      <td>PRI</td>\n",
       "      <td>None</td>\n",
       "      <td></td>\n",
       "    </tr>\n",
       "    <tr>\n",
       "      <th>1</th>\n",
       "      <td>Command</td>\n",
       "      <td>varchar(100)</td>\n",
       "      <td>NO</td>\n",
       "      <td></td>\n",
       "      <td>None</td>\n",
       "      <td></td>\n",
       "    </tr>\n",
       "    <tr>\n",
       "      <th>2</th>\n",
       "      <td>Arguments</td>\n",
       "      <td>varchar(100)</td>\n",
       "      <td>NO</td>\n",
       "      <td>PRI</td>\n",
       "      <td>None</td>\n",
       "      <td></td>\n",
       "    </tr>\n",
       "    <tr>\n",
       "      <th>3</th>\n",
       "      <td>Status</td>\n",
       "      <td>varchar(64)</td>\n",
       "      <td>NO</td>\n",
       "      <td></td>\n",
       "      <td>Received</td>\n",
       "      <td></td>\n",
       "    </tr>\n",
       "    <tr>\n",
       "      <th>4</th>\n",
       "      <td>ReceptionTime</td>\n",
       "      <td>datetime</td>\n",
       "      <td>NO</td>\n",
       "      <td>PRI</td>\n",
       "      <td>None</td>\n",
       "      <td></td>\n",
       "    </tr>\n",
       "    <tr>\n",
       "      <th>5</th>\n",
       "      <td>ExecutionTime</td>\n",
       "      <td>datetime</td>\n",
       "      <td>YES</td>\n",
       "      <td></td>\n",
       "      <td>None</td>\n",
       "      <td></td>\n",
       "    </tr>\n",
       "  </tbody>\n",
       "</table>\n",
       "</div>"
      ],
      "text/plain": [
       "           Field              Type Null  Key   Default Extra\n",
       "0          JobID  int(11) unsigned   NO  PRI      None      \n",
       "1        Command      varchar(100)   NO           None      \n",
       "2      Arguments      varchar(100)   NO  PRI      None      \n",
       "3         Status       varchar(64)   NO       Received      \n",
       "4  ReceptionTime          datetime   NO  PRI      None      \n",
       "5  ExecutionTime          datetime  YES           None      "
      ]
     },
     "metadata": {},
     "output_type": "display_data"
    },
    {
     "name": "stdout",
     "output_type": "stream",
     "text": [
      "[['JobID' 'int(11) unsigned' 'NO' 'PRI' None '']\n",
      " ['Command' 'varchar(100)' 'NO' '' None '']\n",
      " ['Arguments' 'varchar(100)' 'NO' 'PRI' None '']\n",
      " ['Status' 'varchar(64)' 'NO' '' 'Received' '']\n",
      " ['ReceptionTime' 'datetime' 'NO' 'PRI' None '']\n",
      " ['ExecutionTime' 'datetime' 'YES' '' None '']]\n",
      "6\n",
      "----------------------------------------------------------------------------------------------------\n",
      "JobJDLs\n"
     ]
    },
    {
     "data": {
      "text/html": [
       "<div>\n",
       "<style scoped>\n",
       "    .dataframe tbody tr th:only-of-type {\n",
       "        vertical-align: middle;\n",
       "    }\n",
       "\n",
       "    .dataframe tbody tr th {\n",
       "        vertical-align: top;\n",
       "    }\n",
       "\n",
       "    .dataframe thead th {\n",
       "        text-align: right;\n",
       "    }\n",
       "</style>\n",
       "<table border=\"1\" class=\"dataframe\">\n",
       "  <thead>\n",
       "    <tr style=\"text-align: right;\">\n",
       "      <th></th>\n",
       "      <th>Field</th>\n",
       "      <th>Type</th>\n",
       "      <th>Null</th>\n",
       "      <th>Key</th>\n",
       "      <th>Default</th>\n",
       "      <th>Extra</th>\n",
       "    </tr>\n",
       "  </thead>\n",
       "  <tbody>\n",
       "    <tr>\n",
       "      <th>0</th>\n",
       "      <td>JobID</td>\n",
       "      <td>int(11) unsigned</td>\n",
       "      <td>NO</td>\n",
       "      <td>PRI</td>\n",
       "      <td>None</td>\n",
       "      <td>auto_increment</td>\n",
       "    </tr>\n",
       "    <tr>\n",
       "      <th>1</th>\n",
       "      <td>JDL</td>\n",
       "      <td>mediumblob</td>\n",
       "      <td>NO</td>\n",
       "      <td></td>\n",
       "      <td>None</td>\n",
       "      <td></td>\n",
       "    </tr>\n",
       "    <tr>\n",
       "      <th>2</th>\n",
       "      <td>JobRequirements</td>\n",
       "      <td>blob</td>\n",
       "      <td>NO</td>\n",
       "      <td></td>\n",
       "      <td>None</td>\n",
       "      <td></td>\n",
       "    </tr>\n",
       "    <tr>\n",
       "      <th>3</th>\n",
       "      <td>OriginalJDL</td>\n",
       "      <td>mediumblob</td>\n",
       "      <td>NO</td>\n",
       "      <td></td>\n",
       "      <td>None</td>\n",
       "      <td></td>\n",
       "    </tr>\n",
       "  </tbody>\n",
       "</table>\n",
       "</div>"
      ],
      "text/plain": [
       "             Field              Type Null  Key Default           Extra\n",
       "0            JobID  int(11) unsigned   NO  PRI    None  auto_increment\n",
       "1              JDL        mediumblob   NO         None                \n",
       "2  JobRequirements              blob   NO         None                \n",
       "3      OriginalJDL        mediumblob   NO         None                "
      ]
     },
     "metadata": {},
     "output_type": "display_data"
    },
    {
     "name": "stdout",
     "output_type": "stream",
     "text": [
      "[['JobID' 'int(11) unsigned' 'NO' 'PRI' None 'auto_increment']\n",
      " ['JDL' 'mediumblob' 'NO' '' None '']\n",
      " ['JobRequirements' 'blob' 'NO' '' None '']\n",
      " ['OriginalJDL' 'mediumblob' 'NO' '' None '']]\n",
      "4\n",
      "----------------------------------------------------------------------------------------------------\n",
      "JobParameters\n"
     ]
    },
    {
     "data": {
      "text/html": [
       "<div>\n",
       "<style scoped>\n",
       "    .dataframe tbody tr th:only-of-type {\n",
       "        vertical-align: middle;\n",
       "    }\n",
       "\n",
       "    .dataframe tbody tr th {\n",
       "        vertical-align: top;\n",
       "    }\n",
       "\n",
       "    .dataframe thead th {\n",
       "        text-align: right;\n",
       "    }\n",
       "</style>\n",
       "<table border=\"1\" class=\"dataframe\">\n",
       "  <thead>\n",
       "    <tr style=\"text-align: right;\">\n",
       "      <th></th>\n",
       "      <th>Field</th>\n",
       "      <th>Type</th>\n",
       "      <th>Null</th>\n",
       "      <th>Key</th>\n",
       "      <th>Default</th>\n",
       "      <th>Extra</th>\n",
       "    </tr>\n",
       "  </thead>\n",
       "  <tbody>\n",
       "    <tr>\n",
       "      <th>0</th>\n",
       "      <td>JobID</td>\n",
       "      <td>int(11) unsigned</td>\n",
       "      <td>NO</td>\n",
       "      <td>PRI</td>\n",
       "      <td>None</td>\n",
       "      <td></td>\n",
       "    </tr>\n",
       "    <tr>\n",
       "      <th>1</th>\n",
       "      <td>Name</td>\n",
       "      <td>varchar(100)</td>\n",
       "      <td>NO</td>\n",
       "      <td>PRI</td>\n",
       "      <td>None</td>\n",
       "      <td></td>\n",
       "    </tr>\n",
       "    <tr>\n",
       "      <th>2</th>\n",
       "      <td>Value</td>\n",
       "      <td>blob</td>\n",
       "      <td>NO</td>\n",
       "      <td></td>\n",
       "      <td>None</td>\n",
       "      <td></td>\n",
       "    </tr>\n",
       "  </tbody>\n",
       "</table>\n",
       "</div>"
      ],
      "text/plain": [
       "   Field              Type Null  Key Default Extra\n",
       "0  JobID  int(11) unsigned   NO  PRI    None      \n",
       "1   Name      varchar(100)   NO  PRI    None      \n",
       "2  Value              blob   NO         None      "
      ]
     },
     "metadata": {},
     "output_type": "display_data"
    },
    {
     "name": "stdout",
     "output_type": "stream",
     "text": [
      "[['JobID' 'int(11) unsigned' 'NO' 'PRI' None '']\n",
      " ['Name' 'varchar(100)' 'NO' 'PRI' None '']\n",
      " ['Value' 'blob' 'NO' '' None '']]\n",
      "3\n",
      "----------------------------------------------------------------------------------------------------\n",
      "Jobs\n"
     ]
    },
    {
     "data": {
      "text/html": [
       "<div>\n",
       "<style scoped>\n",
       "    .dataframe tbody tr th:only-of-type {\n",
       "        vertical-align: middle;\n",
       "    }\n",
       "\n",
       "    .dataframe tbody tr th {\n",
       "        vertical-align: top;\n",
       "    }\n",
       "\n",
       "    .dataframe thead th {\n",
       "        text-align: right;\n",
       "    }\n",
       "</style>\n",
       "<table border=\"1\" class=\"dataframe\">\n",
       "  <thead>\n",
       "    <tr style=\"text-align: right;\">\n",
       "      <th></th>\n",
       "      <th>Field</th>\n",
       "      <th>Type</th>\n",
       "      <th>Null</th>\n",
       "      <th>Key</th>\n",
       "      <th>Default</th>\n",
       "      <th>Extra</th>\n",
       "    </tr>\n",
       "  </thead>\n",
       "  <tbody>\n",
       "    <tr>\n",
       "      <th>0</th>\n",
       "      <td>JobID</td>\n",
       "      <td>int(11) unsigned</td>\n",
       "      <td>NO</td>\n",
       "      <td>PRI</td>\n",
       "      <td>0</td>\n",
       "      <td></td>\n",
       "    </tr>\n",
       "    <tr>\n",
       "      <th>1</th>\n",
       "      <td>JobType</td>\n",
       "      <td>varchar(32)</td>\n",
       "      <td>NO</td>\n",
       "      <td>MUL</td>\n",
       "      <td>user</td>\n",
       "      <td></td>\n",
       "    </tr>\n",
       "    <tr>\n",
       "      <th>2</th>\n",
       "      <td>DIRACSetup</td>\n",
       "      <td>varchar(32)</td>\n",
       "      <td>NO</td>\n",
       "      <td>MUL</td>\n",
       "      <td>test</td>\n",
       "      <td></td>\n",
       "    </tr>\n",
       "    <tr>\n",
       "      <th>3</th>\n",
       "      <td>JobGroup</td>\n",
       "      <td>varchar(32)</td>\n",
       "      <td>NO</td>\n",
       "      <td>MUL</td>\n",
       "      <td>00000000</td>\n",
       "      <td></td>\n",
       "    </tr>\n",
       "    <tr>\n",
       "      <th>4</th>\n",
       "      <td>JobSplitType</td>\n",
       "      <td>enum('Single','Master','Subjob','DAGNode')</td>\n",
       "      <td>NO</td>\n",
       "      <td>MUL</td>\n",
       "      <td>Single</td>\n",
       "      <td></td>\n",
       "    </tr>\n",
       "    <tr>\n",
       "      <th>5</th>\n",
       "      <td>MasterJobID</td>\n",
       "      <td>int(11) unsigned</td>\n",
       "      <td>NO</td>\n",
       "      <td></td>\n",
       "      <td>0</td>\n",
       "      <td></td>\n",
       "    </tr>\n",
       "    <tr>\n",
       "      <th>6</th>\n",
       "      <td>Site</td>\n",
       "      <td>varchar(100)</td>\n",
       "      <td>NO</td>\n",
       "      <td>MUL</td>\n",
       "      <td>ANY</td>\n",
       "      <td></td>\n",
       "    </tr>\n",
       "    <tr>\n",
       "      <th>7</th>\n",
       "      <td>JobName</td>\n",
       "      <td>varchar(128)</td>\n",
       "      <td>NO</td>\n",
       "      <td></td>\n",
       "      <td>Unknown</td>\n",
       "      <td></td>\n",
       "    </tr>\n",
       "    <tr>\n",
       "      <th>8</th>\n",
       "      <td>Owner</td>\n",
       "      <td>varchar(32)</td>\n",
       "      <td>NO</td>\n",
       "      <td>MUL</td>\n",
       "      <td>Unknown</td>\n",
       "      <td></td>\n",
       "    </tr>\n",
       "    <tr>\n",
       "      <th>9</th>\n",
       "      <td>OwnerDN</td>\n",
       "      <td>varchar(255)</td>\n",
       "      <td>NO</td>\n",
       "      <td>MUL</td>\n",
       "      <td>Unknown</td>\n",
       "      <td></td>\n",
       "    </tr>\n",
       "    <tr>\n",
       "      <th>10</th>\n",
       "      <td>OwnerGroup</td>\n",
       "      <td>varchar(128)</td>\n",
       "      <td>NO</td>\n",
       "      <td>MUL</td>\n",
       "      <td>Unknown</td>\n",
       "      <td></td>\n",
       "    </tr>\n",
       "    <tr>\n",
       "      <th>11</th>\n",
       "      <td>SubmissionTime</td>\n",
       "      <td>datetime</td>\n",
       "      <td>YES</td>\n",
       "      <td></td>\n",
       "      <td>None</td>\n",
       "      <td></td>\n",
       "    </tr>\n",
       "    <tr>\n",
       "      <th>12</th>\n",
       "      <td>RescheduleTime</td>\n",
       "      <td>datetime</td>\n",
       "      <td>YES</td>\n",
       "      <td></td>\n",
       "      <td>None</td>\n",
       "      <td></td>\n",
       "    </tr>\n",
       "    <tr>\n",
       "      <th>13</th>\n",
       "      <td>LastUpdateTime</td>\n",
       "      <td>datetime</td>\n",
       "      <td>YES</td>\n",
       "      <td>MUL</td>\n",
       "      <td>None</td>\n",
       "      <td></td>\n",
       "    </tr>\n",
       "    <tr>\n",
       "      <th>14</th>\n",
       "      <td>StartExecTime</td>\n",
       "      <td>datetime</td>\n",
       "      <td>YES</td>\n",
       "      <td></td>\n",
       "      <td>None</td>\n",
       "      <td></td>\n",
       "    </tr>\n",
       "    <tr>\n",
       "      <th>15</th>\n",
       "      <td>HeartBeatTime</td>\n",
       "      <td>datetime</td>\n",
       "      <td>YES</td>\n",
       "      <td></td>\n",
       "      <td>None</td>\n",
       "      <td></td>\n",
       "    </tr>\n",
       "    <tr>\n",
       "      <th>16</th>\n",
       "      <td>EndExecTime</td>\n",
       "      <td>datetime</td>\n",
       "      <td>YES</td>\n",
       "      <td></td>\n",
       "      <td>None</td>\n",
       "      <td></td>\n",
       "    </tr>\n",
       "    <tr>\n",
       "      <th>17</th>\n",
       "      <td>Status</td>\n",
       "      <td>varchar(32)</td>\n",
       "      <td>NO</td>\n",
       "      <td>MUL</td>\n",
       "      <td>Received</td>\n",
       "      <td></td>\n",
       "    </tr>\n",
       "    <tr>\n",
       "      <th>18</th>\n",
       "      <td>MinorStatus</td>\n",
       "      <td>varchar(128)</td>\n",
       "      <td>NO</td>\n",
       "      <td>MUL</td>\n",
       "      <td>Unknown</td>\n",
       "      <td></td>\n",
       "    </tr>\n",
       "    <tr>\n",
       "      <th>19</th>\n",
       "      <td>ApplicationStatus</td>\n",
       "      <td>varchar(255)</td>\n",
       "      <td>YES</td>\n",
       "      <td>MUL</td>\n",
       "      <td>Unknown</td>\n",
       "      <td></td>\n",
       "    </tr>\n",
       "    <tr>\n",
       "      <th>20</th>\n",
       "      <td>ApplicationNumStatus</td>\n",
       "      <td>int(11)</td>\n",
       "      <td>NO</td>\n",
       "      <td></td>\n",
       "      <td>0</td>\n",
       "      <td></td>\n",
       "    </tr>\n",
       "    <tr>\n",
       "      <th>21</th>\n",
       "      <td>CPUTime</td>\n",
       "      <td>float</td>\n",
       "      <td>NO</td>\n",
       "      <td></td>\n",
       "      <td>0</td>\n",
       "      <td></td>\n",
       "    </tr>\n",
       "    <tr>\n",
       "      <th>22</th>\n",
       "      <td>UserPriority</td>\n",
       "      <td>int(11)</td>\n",
       "      <td>NO</td>\n",
       "      <td></td>\n",
       "      <td>0</td>\n",
       "      <td></td>\n",
       "    </tr>\n",
       "    <tr>\n",
       "      <th>23</th>\n",
       "      <td>SystemPriority</td>\n",
       "      <td>int(11)</td>\n",
       "      <td>NO</td>\n",
       "      <td></td>\n",
       "      <td>0</td>\n",
       "      <td></td>\n",
       "    </tr>\n",
       "    <tr>\n",
       "      <th>24</th>\n",
       "      <td>RescheduleCounter</td>\n",
       "      <td>int(11)</td>\n",
       "      <td>NO</td>\n",
       "      <td></td>\n",
       "      <td>0</td>\n",
       "      <td></td>\n",
       "    </tr>\n",
       "    <tr>\n",
       "      <th>25</th>\n",
       "      <td>VerifiedFlag</td>\n",
       "      <td>enum('True','False')</td>\n",
       "      <td>NO</td>\n",
       "      <td></td>\n",
       "      <td>False</td>\n",
       "      <td></td>\n",
       "    </tr>\n",
       "    <tr>\n",
       "      <th>26</th>\n",
       "      <td>DeletedFlag</td>\n",
       "      <td>enum('True','False')</td>\n",
       "      <td>NO</td>\n",
       "      <td></td>\n",
       "      <td>False</td>\n",
       "      <td></td>\n",
       "    </tr>\n",
       "    <tr>\n",
       "      <th>27</th>\n",
       "      <td>KilledFlag</td>\n",
       "      <td>enum('True','False')</td>\n",
       "      <td>NO</td>\n",
       "      <td></td>\n",
       "      <td>False</td>\n",
       "      <td></td>\n",
       "    </tr>\n",
       "    <tr>\n",
       "      <th>28</th>\n",
       "      <td>FailedFlag</td>\n",
       "      <td>enum('True','False')</td>\n",
       "      <td>NO</td>\n",
       "      <td></td>\n",
       "      <td>False</td>\n",
       "      <td></td>\n",
       "    </tr>\n",
       "    <tr>\n",
       "      <th>29</th>\n",
       "      <td>ISandboxReadyFlag</td>\n",
       "      <td>enum('True','False')</td>\n",
       "      <td>NO</td>\n",
       "      <td></td>\n",
       "      <td>False</td>\n",
       "      <td></td>\n",
       "    </tr>\n",
       "    <tr>\n",
       "      <th>30</th>\n",
       "      <td>OSandboxReadyFlag</td>\n",
       "      <td>enum('True','False')</td>\n",
       "      <td>NO</td>\n",
       "      <td></td>\n",
       "      <td>False</td>\n",
       "      <td></td>\n",
       "    </tr>\n",
       "    <tr>\n",
       "      <th>31</th>\n",
       "      <td>RetrievedFlag</td>\n",
       "      <td>enum('True','False')</td>\n",
       "      <td>NO</td>\n",
       "      <td></td>\n",
       "      <td>False</td>\n",
       "      <td></td>\n",
       "    </tr>\n",
       "    <tr>\n",
       "      <th>32</th>\n",
       "      <td>AccountedFlag</td>\n",
       "      <td>enum('True','False','Failed')</td>\n",
       "      <td>NO</td>\n",
       "      <td></td>\n",
       "      <td>False</td>\n",
       "      <td></td>\n",
       "    </tr>\n",
       "  </tbody>\n",
       "</table>\n",
       "</div>"
      ],
      "text/plain": [
       "                   Field                                        Type Null  \\\n",
       "0                  JobID                            int(11) unsigned   NO   \n",
       "1                JobType                                 varchar(32)   NO   \n",
       "2             DIRACSetup                                 varchar(32)   NO   \n",
       "3               JobGroup                                 varchar(32)   NO   \n",
       "4           JobSplitType  enum('Single','Master','Subjob','DAGNode')   NO   \n",
       "5            MasterJobID                            int(11) unsigned   NO   \n",
       "6                   Site                                varchar(100)   NO   \n",
       "7                JobName                                varchar(128)   NO   \n",
       "8                  Owner                                 varchar(32)   NO   \n",
       "9                OwnerDN                                varchar(255)   NO   \n",
       "10            OwnerGroup                                varchar(128)   NO   \n",
       "11        SubmissionTime                                    datetime  YES   \n",
       "12        RescheduleTime                                    datetime  YES   \n",
       "13        LastUpdateTime                                    datetime  YES   \n",
       "14         StartExecTime                                    datetime  YES   \n",
       "15         HeartBeatTime                                    datetime  YES   \n",
       "16           EndExecTime                                    datetime  YES   \n",
       "17                Status                                 varchar(32)   NO   \n",
       "18           MinorStatus                                varchar(128)   NO   \n",
       "19     ApplicationStatus                                varchar(255)  YES   \n",
       "20  ApplicationNumStatus                                     int(11)   NO   \n",
       "21               CPUTime                                       float   NO   \n",
       "22          UserPriority                                     int(11)   NO   \n",
       "23        SystemPriority                                     int(11)   NO   \n",
       "24     RescheduleCounter                                     int(11)   NO   \n",
       "25          VerifiedFlag                        enum('True','False')   NO   \n",
       "26           DeletedFlag                        enum('True','False')   NO   \n",
       "27            KilledFlag                        enum('True','False')   NO   \n",
       "28            FailedFlag                        enum('True','False')   NO   \n",
       "29     ISandboxReadyFlag                        enum('True','False')   NO   \n",
       "30     OSandboxReadyFlag                        enum('True','False')   NO   \n",
       "31         RetrievedFlag                        enum('True','False')   NO   \n",
       "32         AccountedFlag               enum('True','False','Failed')   NO   \n",
       "\n",
       "    Key   Default Extra  \n",
       "0   PRI         0        \n",
       "1   MUL      user        \n",
       "2   MUL      test        \n",
       "3   MUL  00000000        \n",
       "4   MUL    Single        \n",
       "5               0        \n",
       "6   MUL       ANY        \n",
       "7         Unknown        \n",
       "8   MUL   Unknown        \n",
       "9   MUL   Unknown        \n",
       "10  MUL   Unknown        \n",
       "11           None        \n",
       "12           None        \n",
       "13  MUL      None        \n",
       "14           None        \n",
       "15           None        \n",
       "16           None        \n",
       "17  MUL  Received        \n",
       "18  MUL   Unknown        \n",
       "19  MUL   Unknown        \n",
       "20              0        \n",
       "21              0        \n",
       "22              0        \n",
       "23              0        \n",
       "24              0        \n",
       "25          False        \n",
       "26          False        \n",
       "27          False        \n",
       "28          False        \n",
       "29          False        \n",
       "30          False        \n",
       "31          False        \n",
       "32          False        "
      ]
     },
     "metadata": {},
     "output_type": "display_data"
    },
    {
     "name": "stdout",
     "output_type": "stream",
     "text": [
      "[['JobID' 'int(11) unsigned' 'NO' 'PRI' '0' '']\n",
      " ['JobType' 'varchar(32)' 'NO' 'MUL' 'user' '']\n",
      " ['DIRACSetup' 'varchar(32)' 'NO' 'MUL' 'test' '']\n",
      " ['JobGroup' 'varchar(32)' 'NO' 'MUL' '00000000' '']\n",
      " ['JobSplitType' \"enum('Single','Master','Subjob','DAGNode')\" 'NO' 'MUL'\n",
      "  'Single' '']\n",
      " ['MasterJobID' 'int(11) unsigned' 'NO' '' '0' '']\n",
      " ['Site' 'varchar(100)' 'NO' 'MUL' 'ANY' '']\n",
      " ['JobName' 'varchar(128)' 'NO' '' 'Unknown' '']\n",
      " ['Owner' 'varchar(32)' 'NO' 'MUL' 'Unknown' '']\n",
      " ['OwnerDN' 'varchar(255)' 'NO' 'MUL' 'Unknown' '']\n",
      " ['OwnerGroup' 'varchar(128)' 'NO' 'MUL' 'Unknown' '']\n",
      " ['SubmissionTime' 'datetime' 'YES' '' None '']\n",
      " ['RescheduleTime' 'datetime' 'YES' '' None '']\n",
      " ['LastUpdateTime' 'datetime' 'YES' 'MUL' None '']\n",
      " ['StartExecTime' 'datetime' 'YES' '' None '']\n",
      " ['HeartBeatTime' 'datetime' 'YES' '' None '']\n",
      " ['EndExecTime' 'datetime' 'YES' '' None '']\n",
      " ['Status' 'varchar(32)' 'NO' 'MUL' 'Received' '']\n",
      " ['MinorStatus' 'varchar(128)' 'NO' 'MUL' 'Unknown' '']\n",
      " ['ApplicationStatus' 'varchar(255)' 'YES' 'MUL' 'Unknown' '']\n",
      " ['ApplicationNumStatus' 'int(11)' 'NO' '' '0' '']\n",
      " ['CPUTime' 'float' 'NO' '' '0' '']\n",
      " ['UserPriority' 'int(11)' 'NO' '' '0' '']\n",
      " ['SystemPriority' 'int(11)' 'NO' '' '0' '']\n",
      " ['RescheduleCounter' 'int(11)' 'NO' '' '0' '']\n",
      " ['VerifiedFlag' \"enum('True','False')\" 'NO' '' 'False' '']\n",
      " ['DeletedFlag' \"enum('True','False')\" 'NO' '' 'False' '']\n",
      " ['KilledFlag' \"enum('True','False')\" 'NO' '' 'False' '']\n",
      " ['FailedFlag' \"enum('True','False')\" 'NO' '' 'False' '']\n",
      " ['ISandboxReadyFlag' \"enum('True','False')\" 'NO' '' 'False' '']\n",
      " ['OSandboxReadyFlag' \"enum('True','False')\" 'NO' '' 'False' '']\n",
      " ['RetrievedFlag' \"enum('True','False')\" 'NO' '' 'False' '']\n",
      " ['AccountedFlag' \"enum('True','False','Failed')\" 'NO' '' 'False' '']]\n",
      "33\n",
      "----------------------------------------------------------------------------------------------------\n",
      "OptimizerParameters\n"
     ]
    },
    {
     "data": {
      "text/html": [
       "<div>\n",
       "<style scoped>\n",
       "    .dataframe tbody tr th:only-of-type {\n",
       "        vertical-align: middle;\n",
       "    }\n",
       "\n",
       "    .dataframe tbody tr th {\n",
       "        vertical-align: top;\n",
       "    }\n",
       "\n",
       "    .dataframe thead th {\n",
       "        text-align: right;\n",
       "    }\n",
       "</style>\n",
       "<table border=\"1\" class=\"dataframe\">\n",
       "  <thead>\n",
       "    <tr style=\"text-align: right;\">\n",
       "      <th></th>\n",
       "      <th>Field</th>\n",
       "      <th>Type</th>\n",
       "      <th>Null</th>\n",
       "      <th>Key</th>\n",
       "      <th>Default</th>\n",
       "      <th>Extra</th>\n",
       "    </tr>\n",
       "  </thead>\n",
       "  <tbody>\n",
       "    <tr>\n",
       "      <th>0</th>\n",
       "      <td>JobID</td>\n",
       "      <td>int(11) unsigned</td>\n",
       "      <td>NO</td>\n",
       "      <td>PRI</td>\n",
       "      <td>None</td>\n",
       "      <td></td>\n",
       "    </tr>\n",
       "    <tr>\n",
       "      <th>1</th>\n",
       "      <td>Name</td>\n",
       "      <td>varchar(100)</td>\n",
       "      <td>NO</td>\n",
       "      <td>PRI</td>\n",
       "      <td>None</td>\n",
       "      <td></td>\n",
       "    </tr>\n",
       "    <tr>\n",
       "      <th>2</th>\n",
       "      <td>Value</td>\n",
       "      <td>mediumblob</td>\n",
       "      <td>NO</td>\n",
       "      <td></td>\n",
       "      <td>None</td>\n",
       "      <td></td>\n",
       "    </tr>\n",
       "  </tbody>\n",
       "</table>\n",
       "</div>"
      ],
      "text/plain": [
       "   Field              Type Null  Key Default Extra\n",
       "0  JobID  int(11) unsigned   NO  PRI    None      \n",
       "1   Name      varchar(100)   NO  PRI    None      \n",
       "2  Value        mediumblob   NO         None      "
      ]
     },
     "metadata": {},
     "output_type": "display_data"
    },
    {
     "name": "stdout",
     "output_type": "stream",
     "text": [
      "[['JobID' 'int(11) unsigned' 'NO' 'PRI' None '']\n",
      " ['Name' 'varchar(100)' 'NO' 'PRI' None '']\n",
      " ['Value' 'mediumblob' 'NO' '' None '']]\n",
      "3\n",
      "----------------------------------------------------------------------------------------------------\n",
      "SiteMask\n"
     ]
    },
    {
     "data": {
      "text/html": [
       "<div>\n",
       "<style scoped>\n",
       "    .dataframe tbody tr th:only-of-type {\n",
       "        vertical-align: middle;\n",
       "    }\n",
       "\n",
       "    .dataframe tbody tr th {\n",
       "        vertical-align: top;\n",
       "    }\n",
       "\n",
       "    .dataframe thead th {\n",
       "        text-align: right;\n",
       "    }\n",
       "</style>\n",
       "<table border=\"1\" class=\"dataframe\">\n",
       "  <thead>\n",
       "    <tr style=\"text-align: right;\">\n",
       "      <th></th>\n",
       "      <th>Field</th>\n",
       "      <th>Type</th>\n",
       "      <th>Null</th>\n",
       "      <th>Key</th>\n",
       "      <th>Default</th>\n",
       "      <th>Extra</th>\n",
       "    </tr>\n",
       "  </thead>\n",
       "  <tbody>\n",
       "    <tr>\n",
       "      <th>0</th>\n",
       "      <td>Site</td>\n",
       "      <td>varchar(64)</td>\n",
       "      <td>NO</td>\n",
       "      <td>PRI</td>\n",
       "      <td>None</td>\n",
       "      <td></td>\n",
       "    </tr>\n",
       "    <tr>\n",
       "      <th>1</th>\n",
       "      <td>Status</td>\n",
       "      <td>varchar(64)</td>\n",
       "      <td>NO</td>\n",
       "      <td></td>\n",
       "      <td>None</td>\n",
       "      <td></td>\n",
       "    </tr>\n",
       "    <tr>\n",
       "      <th>2</th>\n",
       "      <td>LastUpdateTime</td>\n",
       "      <td>datetime</td>\n",
       "      <td>NO</td>\n",
       "      <td></td>\n",
       "      <td>None</td>\n",
       "      <td></td>\n",
       "    </tr>\n",
       "    <tr>\n",
       "      <th>3</th>\n",
       "      <td>Author</td>\n",
       "      <td>varchar(255)</td>\n",
       "      <td>NO</td>\n",
       "      <td></td>\n",
       "      <td>None</td>\n",
       "      <td></td>\n",
       "    </tr>\n",
       "    <tr>\n",
       "      <th>4</th>\n",
       "      <td>Comment</td>\n",
       "      <td>blob</td>\n",
       "      <td>NO</td>\n",
       "      <td></td>\n",
       "      <td>None</td>\n",
       "      <td></td>\n",
       "    </tr>\n",
       "  </tbody>\n",
       "</table>\n",
       "</div>"
      ],
      "text/plain": [
       "            Field          Type Null  Key Default Extra\n",
       "0            Site   varchar(64)   NO  PRI    None      \n",
       "1          Status   varchar(64)   NO         None      \n",
       "2  LastUpdateTime      datetime   NO         None      \n",
       "3          Author  varchar(255)   NO         None      \n",
       "4         Comment          blob   NO         None      "
      ]
     },
     "metadata": {},
     "output_type": "display_data"
    },
    {
     "name": "stdout",
     "output_type": "stream",
     "text": [
      "[['Site' 'varchar(64)' 'NO' 'PRI' None '']\n",
      " ['Status' 'varchar(64)' 'NO' '' None '']\n",
      " ['LastUpdateTime' 'datetime' 'NO' '' None '']\n",
      " ['Author' 'varchar(255)' 'NO' '' None '']\n",
      " ['Comment' 'blob' 'NO' '' None '']]\n",
      "5\n",
      "----------------------------------------------------------------------------------------------------\n",
      "SiteMaskLogging\n"
     ]
    },
    {
     "data": {
      "text/html": [
       "<div>\n",
       "<style scoped>\n",
       "    .dataframe tbody tr th:only-of-type {\n",
       "        vertical-align: middle;\n",
       "    }\n",
       "\n",
       "    .dataframe tbody tr th {\n",
       "        vertical-align: top;\n",
       "    }\n",
       "\n",
       "    .dataframe thead th {\n",
       "        text-align: right;\n",
       "    }\n",
       "</style>\n",
       "<table border=\"1\" class=\"dataframe\">\n",
       "  <thead>\n",
       "    <tr style=\"text-align: right;\">\n",
       "      <th></th>\n",
       "      <th>Field</th>\n",
       "      <th>Type</th>\n",
       "      <th>Null</th>\n",
       "      <th>Key</th>\n",
       "      <th>Default</th>\n",
       "      <th>Extra</th>\n",
       "    </tr>\n",
       "  </thead>\n",
       "  <tbody>\n",
       "    <tr>\n",
       "      <th>0</th>\n",
       "      <td>Site</td>\n",
       "      <td>varchar(64)</td>\n",
       "      <td>NO</td>\n",
       "      <td>PRI</td>\n",
       "      <td>None</td>\n",
       "      <td></td>\n",
       "    </tr>\n",
       "    <tr>\n",
       "      <th>1</th>\n",
       "      <td>Status</td>\n",
       "      <td>varchar(64)</td>\n",
       "      <td>NO</td>\n",
       "      <td></td>\n",
       "      <td>None</td>\n",
       "      <td></td>\n",
       "    </tr>\n",
       "    <tr>\n",
       "      <th>2</th>\n",
       "      <td>UpdateTime</td>\n",
       "      <td>datetime</td>\n",
       "      <td>NO</td>\n",
       "      <td>PRI</td>\n",
       "      <td>None</td>\n",
       "      <td></td>\n",
       "    </tr>\n",
       "    <tr>\n",
       "      <th>3</th>\n",
       "      <td>Author</td>\n",
       "      <td>varchar(255)</td>\n",
       "      <td>NO</td>\n",
       "      <td></td>\n",
       "      <td>None</td>\n",
       "      <td></td>\n",
       "    </tr>\n",
       "    <tr>\n",
       "      <th>4</th>\n",
       "      <td>Comment</td>\n",
       "      <td>blob</td>\n",
       "      <td>NO</td>\n",
       "      <td></td>\n",
       "      <td>None</td>\n",
       "      <td></td>\n",
       "    </tr>\n",
       "  </tbody>\n",
       "</table>\n",
       "</div>"
      ],
      "text/plain": [
       "        Field          Type Null  Key Default Extra\n",
       "0        Site   varchar(64)   NO  PRI    None      \n",
       "1      Status   varchar(64)   NO         None      \n",
       "2  UpdateTime      datetime   NO  PRI    None      \n",
       "3      Author  varchar(255)   NO         None      \n",
       "4     Comment          blob   NO         None      "
      ]
     },
     "metadata": {},
     "output_type": "display_data"
    },
    {
     "name": "stdout",
     "output_type": "stream",
     "text": [
      "[['Site' 'varchar(64)' 'NO' 'PRI' None '']\n",
      " ['Status' 'varchar(64)' 'NO' '' None '']\n",
      " ['UpdateTime' 'datetime' 'NO' 'PRI' None '']\n",
      " ['Author' 'varchar(255)' 'NO' '' None '']\n",
      " ['Comment' 'blob' 'NO' '' None '']]\n",
      "5\n",
      "----------------------------------------------------------------------------------------------------\n"
     ]
    }
   ],
   "source": [
    "for tname in tables:\n",
    "    print(tname)\n",
    "    df = pd.read_sql(\"SHOW COLUMNS FROM \"+tname, conn)\n",
    "    display(df)\n",
    "    x = df.as_matrix()\n",
    "    print(x)\n",
    "    print(len(x))\n",
    "    print(100*'-')"
   ]
  },
  {
   "cell_type": "code",
   "execution_count": 9,
   "metadata": {},
   "outputs": [
    {
     "data": {
      "text/html": [
       "<div>\n",
       "<style scoped>\n",
       "    .dataframe tbody tr th:only-of-type {\n",
       "        vertical-align: middle;\n",
       "    }\n",
       "\n",
       "    .dataframe tbody tr th {\n",
       "        vertical-align: top;\n",
       "    }\n",
       "\n",
       "    .dataframe thead th {\n",
       "        text-align: right;\n",
       "    }\n",
       "</style>\n",
       "<table border=\"1\" class=\"dataframe\">\n",
       "  <thead>\n",
       "    <tr style=\"text-align: right;\">\n",
       "      <th></th>\n",
       "      <th>JobID</th>\n",
       "      <th>Name</th>\n",
       "      <th>Value</th>\n",
       "      <th>HeartBeatTime</th>\n",
       "    </tr>\n",
       "  </thead>\n",
       "  <tbody>\n",
       "    <tr>\n",
       "      <th>0</th>\n",
       "      <td>23140766</td>\n",
       "      <td>AvailableDiskSpace</td>\n",
       "      <td>b'753392.0'</td>\n",
       "      <td>2015-08-07 13:13:48</td>\n",
       "    </tr>\n",
       "    <tr>\n",
       "      <th>1</th>\n",
       "      <td>23140766</td>\n",
       "      <td>CPUConsumed</td>\n",
       "      <td>b'10.0'</td>\n",
       "      <td>2015-08-07 13:13:48</td>\n",
       "    </tr>\n",
       "    <tr>\n",
       "      <th>2</th>\n",
       "      <td>23140766</td>\n",
       "      <td>LoadAverage</td>\n",
       "      <td>b'22.02'</td>\n",
       "      <td>2015-08-07 13:13:48</td>\n",
       "    </tr>\n",
       "    <tr>\n",
       "      <th>3</th>\n",
       "      <td>23140766</td>\n",
       "      <td>MemoryUsed</td>\n",
       "      <td>b'36101188.0'</td>\n",
       "      <td>2015-08-07 13:13:48</td>\n",
       "    </tr>\n",
       "    <tr>\n",
       "      <th>4</th>\n",
       "      <td>23140766</td>\n",
       "      <td>RSS</td>\n",
       "      <td>b'110596.0'</td>\n",
       "      <td>2015-08-07 13:13:48</td>\n",
       "    </tr>\n",
       "    <tr>\n",
       "      <th>5</th>\n",
       "      <td>23140766</td>\n",
       "      <td>Vsize</td>\n",
       "      <td>b'1459640.0'</td>\n",
       "      <td>2015-08-07 13:13:48</td>\n",
       "    </tr>\n",
       "    <tr>\n",
       "      <th>6</th>\n",
       "      <td>23140766</td>\n",
       "      <td>WallClockTime</td>\n",
       "      <td>b'3.19816112518'</td>\n",
       "      <td>2015-08-07 13:13:48</td>\n",
       "    </tr>\n",
       "    <tr>\n",
       "      <th>7</th>\n",
       "      <td>23141083</td>\n",
       "      <td>AvailableDiskSpace</td>\n",
       "      <td>b'1544234.0'</td>\n",
       "      <td>2015-08-07 13:29:48</td>\n",
       "    </tr>\n",
       "    <tr>\n",
       "      <th>8</th>\n",
       "      <td>23141083</td>\n",
       "      <td>CPUConsumed</td>\n",
       "      <td>b'8.0'</td>\n",
       "      <td>2015-08-07 13:29:48</td>\n",
       "    </tr>\n",
       "    <tr>\n",
       "      <th>9</th>\n",
       "      <td>23141083</td>\n",
       "      <td>LoadAverage</td>\n",
       "      <td>b'22.41'</td>\n",
       "      <td>2015-08-07 13:29:48</td>\n",
       "    </tr>\n",
       "    <tr>\n",
       "      <th>10</th>\n",
       "      <td>23141083</td>\n",
       "      <td>MemoryUsed</td>\n",
       "      <td>b'36037080.0'</td>\n",
       "      <td>2015-08-07 13:29:48</td>\n",
       "    </tr>\n",
       "    <tr>\n",
       "      <th>11</th>\n",
       "      <td>23141083</td>\n",
       "      <td>RSS</td>\n",
       "      <td>b'111956.0'</td>\n",
       "      <td>2015-08-07 13:29:48</td>\n",
       "    </tr>\n",
       "    <tr>\n",
       "      <th>12</th>\n",
       "      <td>23141083</td>\n",
       "      <td>Vsize</td>\n",
       "      <td>b'1707264.0'</td>\n",
       "      <td>2015-08-07 13:29:48</td>\n",
       "    </tr>\n",
       "    <tr>\n",
       "      <th>13</th>\n",
       "      <td>23141083</td>\n",
       "      <td>WallClockTime</td>\n",
       "      <td>b'2.89045214653'</td>\n",
       "      <td>2015-08-07 13:29:48</td>\n",
       "    </tr>\n",
       "    <tr>\n",
       "      <th>14</th>\n",
       "      <td>23205537</td>\n",
       "      <td>AvailableDiskSpace</td>\n",
       "      <td>b'568076.0'</td>\n",
       "      <td>2015-08-08 22:43:00</td>\n",
       "    </tr>\n",
       "    <tr>\n",
       "      <th>15</th>\n",
       "      <td>23205537</td>\n",
       "      <td>AvailableDiskSpace</td>\n",
       "      <td>b'568290.0'</td>\n",
       "      <td>2015-08-08 23:13:00</td>\n",
       "    </tr>\n",
       "    <tr>\n",
       "      <th>16</th>\n",
       "      <td>23205537</td>\n",
       "      <td>AvailableDiskSpace</td>\n",
       "      <td>b'568012.0'</td>\n",
       "      <td>2015-08-08 23:42:58</td>\n",
       "    </tr>\n",
       "    <tr>\n",
       "      <th>17</th>\n",
       "      <td>23205537</td>\n",
       "      <td>AvailableDiskSpace</td>\n",
       "      <td>b'567882.0'</td>\n",
       "      <td>2015-08-09 00:12:58</td>\n",
       "    </tr>\n",
       "    <tr>\n",
       "      <th>18</th>\n",
       "      <td>23205537</td>\n",
       "      <td>AvailableDiskSpace</td>\n",
       "      <td>b'567746.0'</td>\n",
       "      <td>2015-08-09 00:42:58</td>\n",
       "    </tr>\n",
       "    <tr>\n",
       "      <th>19</th>\n",
       "      <td>23205537</td>\n",
       "      <td>AvailableDiskSpace</td>\n",
       "      <td>b'567617.0'</td>\n",
       "      <td>2015-08-09 01:13:08</td>\n",
       "    </tr>\n",
       "  </tbody>\n",
       "</table>\n",
       "</div>"
      ],
      "text/plain": [
       "       JobID                Name             Value       HeartBeatTime\n",
       "0   23140766  AvailableDiskSpace       b'753392.0' 2015-08-07 13:13:48\n",
       "1   23140766         CPUConsumed           b'10.0' 2015-08-07 13:13:48\n",
       "2   23140766         LoadAverage          b'22.02' 2015-08-07 13:13:48\n",
       "3   23140766          MemoryUsed     b'36101188.0' 2015-08-07 13:13:48\n",
       "4   23140766                 RSS       b'110596.0' 2015-08-07 13:13:48\n",
       "5   23140766               Vsize      b'1459640.0' 2015-08-07 13:13:48\n",
       "6   23140766       WallClockTime  b'3.19816112518' 2015-08-07 13:13:48\n",
       "7   23141083  AvailableDiskSpace      b'1544234.0' 2015-08-07 13:29:48\n",
       "8   23141083         CPUConsumed            b'8.0' 2015-08-07 13:29:48\n",
       "9   23141083         LoadAverage          b'22.41' 2015-08-07 13:29:48\n",
       "10  23141083          MemoryUsed     b'36037080.0' 2015-08-07 13:29:48\n",
       "11  23141083                 RSS       b'111956.0' 2015-08-07 13:29:48\n",
       "12  23141083               Vsize      b'1707264.0' 2015-08-07 13:29:48\n",
       "13  23141083       WallClockTime  b'2.89045214653' 2015-08-07 13:29:48\n",
       "14  23205537  AvailableDiskSpace       b'568076.0' 2015-08-08 22:43:00\n",
       "15  23205537  AvailableDiskSpace       b'568290.0' 2015-08-08 23:13:00\n",
       "16  23205537  AvailableDiskSpace       b'568012.0' 2015-08-08 23:42:58\n",
       "17  23205537  AvailableDiskSpace       b'567882.0' 2015-08-09 00:12:58\n",
       "18  23205537  AvailableDiskSpace       b'567746.0' 2015-08-09 00:42:58\n",
       "19  23205537  AvailableDiskSpace       b'567617.0' 2015-08-09 01:13:08"
      ]
     },
     "metadata": {},
     "output_type": "display_data"
    },
    {
     "name": "stdout",
     "output_type": "stream",
     "text": [
      "CPU times: user 12.1 ms, sys: 12.1 ms, total: 24.3 ms\n",
      "Wall time: 23.3 ms\n"
     ]
    }
   ],
   "source": [
    "%%time\n",
    "# Total number of rows in HeartBeatLoggingInfo (ans - 906,320,307)\n",
    "\n",
    "df = pd.read_sql(\"SELECT * FROM HeartBeatLoggingInfo LIMIT 20\", conn)\n",
    "display(df)"
   ]
  },
  {
   "cell_type": "code",
   "execution_count": 9,
   "metadata": {},
   "outputs": [
    {
     "data": {
      "text/plain": [
       "Index(['JobID', 'JobType', 'DIRACSetup', 'JobGroup', 'JobSplitType',\n",
       "       'MasterJobID', 'Site', 'JobName', 'Owner', 'OwnerDN', 'OwnerGroup',\n",
       "       'SubmissionTime', 'RescheduleTime', 'LastUpdateTime', 'StartExecTime',\n",
       "       'HeartBeatTime', 'EndExecTime', 'Status', 'MinorStatus',\n",
       "       'ApplicationStatus', 'ApplicationNumStatus', 'CPUTime', 'UserPriority',\n",
       "       'SystemPriority', 'RescheduleCounter', 'VerifiedFlag', 'DeletedFlag',\n",
       "       'KilledFlag', 'FailedFlag', 'ISandboxReadyFlag', 'OSandboxReadyFlag',\n",
       "       'RetrievedFlag', 'AccountedFlag'],\n",
       "      dtype='object')"
      ]
     },
     "metadata": {},
     "output_type": "display_data"
    },
    {
     "name": "stdout",
     "output_type": "stream",
     "text": [
      "CPU times: user 14.5 ms, sys: 3.74 ms, total: 18.2 ms\n",
      "Wall time: 16.6 ms\n"
     ]
    }
   ],
   "source": [
    "%%time\n",
    "# Total number of rows in HeartBeatLoggingInfo (ans - 906,320,307)\n",
    "\n",
    "df = pd.read_sql(\"SELECT * FROM Jobs LIMIT 20\", conn)\n",
    "display(df.columns)"
   ]
  },
  {
   "cell_type": "code",
   "execution_count": null,
   "metadata": {},
   "outputs": [],
   "source": [
    "%%time\n",
    "# Total number of unique JobIDs in HeartBeatLoggingInfo\n",
    "# number of distinct JobIDs (ans - 10,137,037)\n",
    "\n",
    "df = pd.read_sql(\"SELECT COUNT(DISTINCT JobID) FROM HeartBeatLoggingInfo LIMIT 10\", conn)\n",
    "display(df)"
   ]
  },
  {
   "cell_type": "code",
   "execution_count": 12,
   "metadata": {},
   "outputs": [
    {
     "data": {
      "text/html": [
       "<div>\n",
       "<style scoped>\n",
       "    .dataframe tbody tr th:only-of-type {\n",
       "        vertical-align: middle;\n",
       "    }\n",
       "\n",
       "    .dataframe tbody tr th {\n",
       "        vertical-align: top;\n",
       "    }\n",
       "\n",
       "    .dataframe thead th {\n",
       "        text-align: right;\n",
       "    }\n",
       "</style>\n",
       "<table border=\"1\" class=\"dataframe\">\n",
       "  <thead>\n",
       "    <tr style=\"text-align: right;\">\n",
       "      <th></th>\n",
       "      <th>COUNT(DISTINCT JobID)</th>\n",
       "    </tr>\n",
       "  </thead>\n",
       "  <tbody>\n",
       "    <tr>\n",
       "      <th>0</th>\n",
       "      <td>10485197</td>\n",
       "    </tr>\n",
       "  </tbody>\n",
       "</table>\n",
       "</div>"
      ],
      "text/plain": [
       "   COUNT(DISTINCT JobID)\n",
       "0               10485197"
      ]
     },
     "metadata": {},
     "output_type": "display_data"
    },
    {
     "name": "stdout",
     "output_type": "stream",
     "text": [
      "CPU times: user 11 ms, sys: 0 ns, total: 11 ms\n",
      "Wall time: 7.61 s\n"
     ]
    }
   ],
   "source": [
    "%%time\n",
    "# Total number of unique JobIDs in Jobs\n",
    "# number of distinct JobIDs (ans - 10,485,197)\n",
    "\n",
    "df = pd.read_sql(\"SELECT COUNT(DISTINCT JobID) FROM Jobs LIMIT 10\", conn)\n",
    "display(df)"
   ]
  },
  {
   "cell_type": "code",
   "execution_count": 11,
   "metadata": {},
   "outputs": [
    {
     "data": {
      "text/html": [
       "<div>\n",
       "<style scoped>\n",
       "    .dataframe tbody tr th:only-of-type {\n",
       "        vertical-align: middle;\n",
       "    }\n",
       "\n",
       "    .dataframe tbody tr th {\n",
       "        vertical-align: top;\n",
       "    }\n",
       "\n",
       "    .dataframe thead th {\n",
       "        text-align: right;\n",
       "    }\n",
       "</style>\n",
       "<table border=\"1\" class=\"dataframe\">\n",
       "  <thead>\n",
       "    <tr style=\"text-align: right;\">\n",
       "      <th></th>\n",
       "      <th>COUNT(DISTINCT JobGroup)</th>\n",
       "    </tr>\n",
       "  </thead>\n",
       "  <tbody>\n",
       "    <tr>\n",
       "      <th>0</th>\n",
       "      <td>5405</td>\n",
       "    </tr>\n",
       "  </tbody>\n",
       "</table>\n",
       "</div>"
      ],
      "text/plain": [
       "   COUNT(DISTINCT JobGroup)\n",
       "0                      5405"
      ]
     },
     "metadata": {},
     "output_type": "display_data"
    },
    {
     "name": "stdout",
     "output_type": "stream",
     "text": [
      "CPU times: user 7.86 ms, sys: 3.99 ms, total: 11.9 ms\n",
      "Wall time: 11 s\n"
     ]
    }
   ],
   "source": [
    "%%time\n",
    "# Total number of unique JobGroup in Jobs table\n",
    "# number of distinct JobGroup (ans - 5405)\n",
    "\n",
    "df = pd.read_sql(\"SELECT COUNT(DISTINCT JobGroup) FROM Jobs LIMIT 10\", conn)\n",
    "display(df)"
   ]
  },
  {
   "cell_type": "code",
   "execution_count": null,
   "metadata": {},
   "outputs": [],
   "source": [
    "%%time\n",
    "# Total number of unique timestamps in HeartBeatLoggingInfo\n",
    "# number of distinct hearbeattime entries (ans - 1,616,7003)\n",
    "\n",
    "df_stamps = pd.read_sql(\"SELECT COUNT(DISTINCT HeartBeatTime) FROM HeartBeatLoggingInfo LIMIT 10\", conn)\n",
    "display(df_stamps)"
   ]
  },
  {
   "cell_type": "code",
   "execution_count": 1,
   "metadata": {},
   "outputs": [
    {
     "data": {
      "text/plain": [
       "1.5948450222683412"
      ]
     },
     "execution_count": 1,
     "metadata": {},
     "output_type": "execute_result"
    }
   ],
   "source": [
    "# Average Number of timestamps per jobID\n",
    "\n",
    "16167003 / 10137037"
   ]
  },
  {
   "cell_type": "code",
   "execution_count": null,
   "metadata": {},
   "outputs": [],
   "source": [
    "# Average number of key-value pairs per timestamp\n",
    "\n",
    "906320307 / 16167003"
   ]
  },
  {
   "cell_type": "markdown",
   "metadata": {},
   "source": [
    "# Get Failed Jobs"
   ]
  },
  {
   "cell_type": "code",
   "execution_count": null,
   "metadata": {},
   "outputs": [],
   "source": [
    "%%time\n",
    "\n",
    "query       = 'SELECT * FROM Jobs WHERE Status = \\'Failed\\' LIMIT 133000'\n",
    "failedJobs    = pd.read_sql_query(query,con=conn)"
   ]
  },
  {
   "cell_type": "code",
   "execution_count": null,
   "metadata": {},
   "outputs": [],
   "source": [
    "failedJobs.shape"
   ]
  },
  {
   "cell_type": "code",
   "execution_count": null,
   "metadata": {},
   "outputs": [],
   "source": [
    "listofjobids = failedJobs['JobID'].tolist()\n",
    "listofjobids = list(set(listofjobids))\n",
    "len(listofjobids)"
   ]
  },
  {
   "cell_type": "code",
   "execution_count": null,
   "metadata": {},
   "outputs": [],
   "source": [
    "%%time\n",
    "# # Keep only the rows whose jobID is in HeartBeatLogging table\n",
    "\n",
    "query       = 'SELECT * FROM HeartBeatLoggingInfo WHERE JobID IN (' + ','.join((str(x) for x in listofjobids)) + ')'\n",
    "dataHBLI_failed    = pd.read_sql_query(query,con=conn)"
   ]
  },
  {
   "cell_type": "code",
   "execution_count": null,
   "metadata": {},
   "outputs": [],
   "source": [
    "dataHBLI_failed.JobID.nunique()"
   ]
  },
  {
   "cell_type": "markdown",
   "metadata": {},
   "source": [
    "# Get Successful Jobs"
   ]
  },
  {
   "cell_type": "code",
   "execution_count": null,
   "metadata": {},
   "outputs": [],
   "source": [
    "# Find equal number of Successful job"
   ]
  },
  {
   "cell_type": "code",
   "execution_count": null,
   "metadata": {},
   "outputs": [],
   "source": [
    "%%time\n",
    "\n",
    "query       = 'SELECT * FROM Jobs WHERE Status = \\'Done\\' LIMIT 100000'\n",
    "successJobs    = pd.read_sql_query(query,con=conn)"
   ]
  },
  {
   "cell_type": "code",
   "execution_count": null,
   "metadata": {},
   "outputs": [],
   "source": [
    "successJobs.shape"
   ]
  },
  {
   "cell_type": "code",
   "execution_count": null,
   "metadata": {},
   "outputs": [],
   "source": [
    "listofjobids = successJobs['JobID'].tolist()\n",
    "listofjobids = list(set(listofjobids))\n",
    "len(listofjobids)"
   ]
  },
  {
   "cell_type": "code",
   "execution_count": null,
   "metadata": {},
   "outputs": [],
   "source": [
    "%%time\n",
    "# # Keep only the rows whose jobID is in HeartBeatLogging table\n",
    "\n",
    "query   = 'SELECT * FROM HeartBeatLoggingInfo WHERE JobID IN (' + ','.join((str(x) for x in listofjobids)) + ')'\n",
    "dataHBLI_success = pd.read_sql_query(query,con=conn)"
   ]
  },
  {
   "cell_type": "code",
   "execution_count": null,
   "metadata": {},
   "outputs": [],
   "source": [
    "dataHBLI_success.shape"
   ]
  },
  {
   "cell_type": "code",
   "execution_count": null,
   "metadata": {},
   "outputs": [],
   "source": [
    "dataHBLI_success.JobID.nunique()"
   ]
  },
  {
   "cell_type": "markdown",
   "metadata": {},
   "source": [
    "### Combine HBLI tables pieces = (failed, success)"
   ]
  },
  {
   "cell_type": "code",
   "execution_count": null,
   "metadata": {},
   "outputs": [],
   "source": [
    "dataHBLI_failed.shape, dataHBLI_success.shape"
   ]
  },
  {
   "cell_type": "code",
   "execution_count": null,
   "metadata": {},
   "outputs": [],
   "source": [
    "pieces = (dataHBLI_failed, dataHBLI_success)"
   ]
  },
  {
   "cell_type": "code",
   "execution_count": null,
   "metadata": {},
   "outputs": [],
   "source": [
    "allHBLI = pd.concat(pieces, ignore_index = True)"
   ]
  },
  {
   "cell_type": "markdown",
   "metadata": {},
   "source": [
    "### Combine Jobs tables pieces = (failed, success)"
   ]
  },
  {
   "cell_type": "code",
   "execution_count": null,
   "metadata": {},
   "outputs": [],
   "source": [
    "failedJobs.shape, successJobs.shape"
   ]
  },
  {
   "cell_type": "code",
   "execution_count": null,
   "metadata": {},
   "outputs": [],
   "source": [
    "pieces = (failedJobs, successJobs)"
   ]
  },
  {
   "cell_type": "code",
   "execution_count": null,
   "metadata": {},
   "outputs": [],
   "source": [
    "allJobs = pd.concat(pieces, ignore_index = True)\n",
    "allJobs.head()"
   ]
  },
  {
   "cell_type": "markdown",
   "metadata": {},
   "source": [
    "# Process HBLI table: allHBLI"
   ]
  },
  {
   "cell_type": "code",
   "execution_count": null,
   "metadata": {},
   "outputs": [],
   "source": [
    "allHBLI.head()"
   ]
  },
  {
   "cell_type": "code",
   "execution_count": null,
   "metadata": {},
   "outputs": [],
   "source": [
    "allHBLI.shape"
   ]
  },
  {
   "cell_type": "code",
   "execution_count": null,
   "metadata": {},
   "outputs": [],
   "source": [
    "allHBLI.Value = pd.to_numeric(allHBLI['Value'], errors='raise')"
   ]
  },
  {
   "cell_type": "code",
   "execution_count": null,
   "metadata": {},
   "outputs": [],
   "source": [
    "allHBLI.HeartBeatTime = pd.to_datetime(allHBLI['HeartBeatTime'], errors='raise')"
   ]
  },
  {
   "cell_type": "code",
   "execution_count": null,
   "metadata": {},
   "outputs": [],
   "source": [
    "# Number of unique jobIDs in 10M rows of dataHB (ans-185879)\n",
    "allHBLI.JobID.nunique()"
   ]
  },
  {
   "cell_type": "code",
   "execution_count": null,
   "metadata": {},
   "outputs": [],
   "source": [
    "# Number of unique timestampes in 10M rows of dataHB (ans-242222)\n",
    "allHBLI.HeartBeatTime.nunique()"
   ]
  },
  {
   "cell_type": "code",
   "execution_count": null,
   "metadata": {},
   "outputs": [],
   "source": [
    "allHBLI.tail()"
   ]
  },
  {
   "cell_type": "code",
   "execution_count": null,
   "metadata": {},
   "outputs": [],
   "source": [
    "%%time\n",
    "# 10 millions rows took 10 sec to pivot\n",
    "\n",
    "allHBLI_wide=allHBLI.pivot_table(index=['JobID','HeartBeatTime'], columns='Name', values='Value')"
   ]
  },
  {
   "cell_type": "code",
   "execution_count": null,
   "metadata": {},
   "outputs": [],
   "source": [
    "# 1  million rows have shape (142863,  7) after pivot\n",
    "# 10 million rows have shape (1428574, 7) after pivot\n",
    "\n",
    "allHBLI_wide.shape"
   ]
  },
  {
   "cell_type": "code",
   "execution_count": null,
   "metadata": {},
   "outputs": [],
   "source": [
    "allHBLI_wide.isnull().values.ravel().sum()"
   ]
  },
  {
   "cell_type": "code",
   "execution_count": null,
   "metadata": {},
   "outputs": [],
   "source": [
    "# Drop the last few rows\n",
    "allHBLI_wide = allHBLI_wide.dropna()"
   ]
  },
  {
   "cell_type": "code",
   "execution_count": null,
   "metadata": {},
   "outputs": [],
   "source": [
    "allHBLI_wide.shape"
   ]
  },
  {
   "cell_type": "code",
   "execution_count": null,
   "metadata": {},
   "outputs": [],
   "source": [
    "allHBLI_wide.head(10)"
   ]
  },
  {
   "cell_type": "code",
   "execution_count": null,
   "metadata": {},
   "outputs": [],
   "source": [
    "allHBLI_wide.columns"
   ]
  },
  {
   "cell_type": "code",
   "execution_count": null,
   "metadata": {},
   "outputs": [],
   "source": [
    "from sklearn.preprocessing import MinMaxScaler\n",
    "scaler = MinMaxScaler()\n",
    "allHBLI_wide[['AvailableDiskSpace', 'CPUConsumed', 'LoadAverage', \n",
    "             'MemoryUsed', 'RSS','Vsize', 'WallClockTime']] = scaler.fit_transform(allHBLI_wide[['AvailableDiskSpace', \n",
    "                                                                        'CPUConsumed', 'LoadAverage', 'MemoryUsed', \n",
    "                                                                        'RSS','Vsize', 'WallClockTime']])"
   ]
  },
  {
   "cell_type": "code",
   "execution_count": null,
   "metadata": {},
   "outputs": [],
   "source": [
    "allHBLI_wide.head(10)"
   ]
  },
  {
   "cell_type": "code",
   "execution_count": null,
   "metadata": {},
   "outputs": [],
   "source": [
    "allHBLI_wide = allHBLI_wide.reset_index()"
   ]
  },
  {
   "cell_type": "code",
   "execution_count": null,
   "metadata": {},
   "outputs": [],
   "source": [
    "#########################\n",
    "allHBLI_wide.to_pickle('allHBLI_wide_scaled.pickle')\n",
    "#########################"
   ]
  },
  {
   "cell_type": "code",
   "execution_count": null,
   "metadata": {},
   "outputs": [],
   "source": [
    "allHBLI_wide.head()"
   ]
  },
  {
   "cell_type": "markdown",
   "metadata": {},
   "source": [
    "#### End of HBLI table processing: allHBLI"
   ]
  },
  {
   "cell_type": "markdown",
   "metadata": {},
   "source": [
    "# Process Jobs tables: allJobs"
   ]
  },
  {
   "cell_type": "markdown",
   "metadata": {},
   "source": [
    "# Join allJobs tables"
   ]
  },
  {
   "cell_type": "code",
   "execution_count": null,
   "metadata": {},
   "outputs": [],
   "source": [
    "dataJobs = allJobs.copy(deep=True)"
   ]
  },
  {
   "cell_type": "code",
   "execution_count": null,
   "metadata": {},
   "outputs": [],
   "source": [
    "listofcolumns = dataJobs.columns.tolist()\n",
    "#listofcolumns"
   ]
  },
  {
   "cell_type": "code",
   "execution_count": null,
   "metadata": {},
   "outputs": [],
   "source": [
    "removelist = ['JobID','JobName','SubmissionTime', 'RescheduleTime', 'LastUpdateTime', \n",
    "              'StartExecTime', 'HeartBeatTime', 'EndExecTime']\n",
    "\n",
    "for r in removelist:\n",
    "    listofcolumns.remove(r)\n",
    "    \n",
    "print(listofcolumns)"
   ]
  },
  {
   "cell_type": "code",
   "execution_count": null,
   "metadata": {},
   "outputs": [],
   "source": [
    "dataJobs.shape"
   ]
  },
  {
   "cell_type": "code",
   "execution_count": null,
   "metadata": {},
   "outputs": [],
   "source": [
    "cc = {}\n",
    "\n",
    "for c in listofcolumns:\n",
    "    #print(c)\n",
    "    ll = len(dataJobs[c].unique().tolist())\n",
    "    \n",
    "    if ll > 0:\n",
    "        #print('************ found > limit *')\n",
    "        cc[c]=ll\n",
    "\n",
    "for w in sorted(cc, key=cc.get, reverse=False):\n",
    "  print(w, cc[w])"
   ]
  },
  {
   "cell_type": "code",
   "execution_count": null,
   "metadata": {},
   "outputs": [],
   "source": [
    "### Decision: let us drop 'MinorStatus' and 'ApplicationStatus' and only predict the 'Status' column\n",
    "#   LABEL for prediction: only predict the 'Status' column\n",
    "\n",
    "del dataJobs['MinorStatus']\n",
    "del dataJobs['ApplicationStatus']"
   ]
  },
  {
   "cell_type": "code",
   "execution_count": null,
   "metadata": {},
   "outputs": [],
   "source": [
    "### Decision: let us drop all columns which have only single state, i.e. no fluctuation\n",
    "for w in sorted(cc, key=cc.get, reverse=False):\n",
    "    if cc[w] == 1:\n",
    "        del dataJobs[w]\n",
    "        print(w, cc[w])"
   ]
  },
  {
   "cell_type": "code",
   "execution_count": null,
   "metadata": {},
   "outputs": [],
   "source": [
    "del dataJobs['JobName'] #name is not important for prediction"
   ]
  },
  {
   "cell_type": "code",
   "execution_count": null,
   "metadata": {},
   "outputs": [],
   "source": [
    "dataJobs.columns.tolist()"
   ]
  },
  {
   "cell_type": "code",
   "execution_count": null,
   "metadata": {},
   "outputs": [],
   "source": [
    "dataJobs[['SubmissionTime',\n",
    " 'RescheduleTime',\n",
    " 'LastUpdateTime',\n",
    " 'StartExecTime',\n",
    " 'HeartBeatTime',\n",
    " 'EndExecTime']][:5]"
   ]
  },
  {
   "cell_type": "code",
   "execution_count": null,
   "metadata": {},
   "outputs": [],
   "source": [
    "### Decision: Convert times to deltas\n",
    "\n",
    "dataJobs['start_submit'] = (dataJobs['StartExecTime']-dataJobs['SubmissionTime']) / np.timedelta64(1, 'm')\n",
    "dataJobs['hbeat_start']  = (dataJobs['HeartBeatTime']-dataJobs['StartExecTime']) / np.timedelta64(1, 'm')\n",
    "\n",
    "for x in ['SubmissionTime','RescheduleTime','LastUpdateTime','StartExecTime','HeartBeatTime','EndExecTime']:\n",
    "    del dataJobs[x]"
   ]
  },
  {
   "cell_type": "code",
   "execution_count": null,
   "metadata": {},
   "outputs": [],
   "source": [
    "# Decision: Remove the AccountedFlag at this stage\n",
    "del dataJobs['AccountedFlag']"
   ]
  },
  {
   "cell_type": "code",
   "execution_count": null,
   "metadata": {},
   "outputs": [],
   "source": [
    "dataJobs[:5]"
   ]
  },
  {
   "cell_type": "code",
   "execution_count": null,
   "metadata": {},
   "outputs": [],
   "source": [
    "dataJobs.Status.value_counts()"
   ]
  },
  {
   "cell_type": "code",
   "execution_count": null,
   "metadata": {},
   "outputs": [],
   "source": [
    "dataJobs.columns"
   ]
  },
  {
   "cell_type": "code",
   "execution_count": null,
   "metadata": {},
   "outputs": [],
   "source": [
    "%%time\n",
    "dj_encoded = pd.get_dummies(dataJobs, columns=['JobType','JobGroup','Site','Status','UserPriority'],\n",
    "                           drop_first=True)"
   ]
  },
  {
   "cell_type": "code",
   "execution_count": null,
   "metadata": {},
   "outputs": [],
   "source": [
    "dj_encoded.columns.tolist()"
   ]
  },
  {
   "cell_type": "code",
   "execution_count": null,
   "metadata": {},
   "outputs": [],
   "source": [
    "# Before dropping first column in get_dummies, this returned 4150\n",
    "len(dj_encoded[dj_encoded['Status_Failed']==True])"
   ]
  },
  {
   "cell_type": "code",
   "execution_count": null,
   "metadata": {},
   "outputs": [],
   "source": [
    "# After dropping first column in get_dummies, this returned 4150\n",
    "len(dj_encoded[dj_encoded['Status_Failed']==False])"
   ]
  },
  {
   "cell_type": "code",
   "execution_count": null,
   "metadata": {},
   "outputs": [],
   "source": [
    "dj_encoded.head()"
   ]
  },
  {
   "cell_type": "code",
   "execution_count": null,
   "metadata": {},
   "outputs": [],
   "source": [
    "######################################\n",
    "dj_encoded.to_pickle('allJobs_featurized.pickle')\n",
    "######################################"
   ]
  },
  {
   "cell_type": "code",
   "execution_count": null,
   "metadata": {},
   "outputs": [],
   "source": [
    "# Use this finally\n",
    "\n",
    "allJobs_encoded = dj_encoded.copy(deep=True)"
   ]
  },
  {
   "cell_type": "code",
   "execution_count": null,
   "metadata": {},
   "outputs": [],
   "source": [
    "del dj_encoded"
   ]
  },
  {
   "cell_type": "code",
   "execution_count": null,
   "metadata": {},
   "outputs": [],
   "source": [
    "del dataJobs"
   ]
  },
  {
   "cell_type": "code",
   "execution_count": null,
   "metadata": {},
   "outputs": [],
   "source": [
    "del allHBLI"
   ]
  },
  {
   "cell_type": "code",
   "execution_count": null,
   "metadata": {},
   "outputs": [],
   "source": [
    "#### End of all jobs table processing"
   ]
  },
  {
   "cell_type": "markdown",
   "metadata": {},
   "source": [
    "# Join jobs tables"
   ]
  },
  {
   "cell_type": "code",
   "execution_count": null,
   "metadata": {},
   "outputs": [],
   "source": [
    "# Test Train split each one into 50%\n",
    "# Concat Test dfs and Train dfs,\n",
    "# Now you have 50% from each class in train and test."
   ]
  },
  {
   "cell_type": "markdown",
   "metadata": {},
   "source": [
    "### >> Join 'allJobs_encoded' and 'allHBLI_wide\""
   ]
  },
  {
   "cell_type": "code",
   "execution_count": null,
   "metadata": {},
   "outputs": [],
   "source": [
    "allHBLI_wide.shape"
   ]
  },
  {
   "cell_type": "code",
   "execution_count": null,
   "metadata": {},
   "outputs": [],
   "source": [
    "allJobs_encoded.shape"
   ]
  },
  {
   "cell_type": "code",
   "execution_count": null,
   "metadata": {},
   "outputs": [],
   "source": [
    "%%time\n",
    "raw_samples = pd.merge(allHBLI_wide, allJobs_encoded, on =['JobID'])\n",
    "print(raw_samples.shape)"
   ]
  },
  {
   "cell_type": "code",
   "execution_count": null,
   "metadata": {},
   "outputs": [],
   "source": [
    "raw_samples.head()"
   ]
  },
  {
   "cell_type": "code",
   "execution_count": null,
   "metadata": {},
   "outputs": [],
   "source": [
    "import matplotlib.pyplot as plt\n",
    "%matplotlib inline\n",
    "\n",
    "sample_counts = pd.value_counts(raw_samples['JobID'].values, sort=False)\n",
    "plt.hist(sample_counts.values, bins = 100)\n",
    "plt.show()"
   ]
  },
  {
   "cell_type": "markdown",
   "metadata": {},
   "source": [
    "# Sample Generation"
   ]
  },
  {
   "cell_type": "markdown",
   "metadata": {},
   "source": [
    "# Convert Pandas dataframe to LSTM 3D tensor"
   ]
  },
  {
   "cell_type": "markdown",
   "metadata": {},
   "source": [
    "# Set Threshold"
   ]
  },
  {
   "cell_type": "code",
   "execution_count": 2,
   "metadata": {},
   "outputs": [],
   "source": [
    "thresholdd = 1"
   ]
  },
  {
   "cell_type": "code",
   "execution_count": null,
   "metadata": {},
   "outputs": [],
   "source": [
    "sum(sample_counts.values>=thresholdd)"
   ]
  },
  {
   "cell_type": "code",
   "execution_count": null,
   "metadata": {},
   "outputs": [],
   "source": [
    "### Decision: Number of timesteps per sample = 3\n",
    "# Shape of 3D matrix should be (#samples)x(3)x(132)\n",
    "\n",
    "sum(sample_counts.values<thresholdd)"
   ]
  },
  {
   "cell_type": "code",
   "execution_count": null,
   "metadata": {},
   "outputs": [],
   "source": [
    "# Delete rows of JobIDs with  fewer than 3 timestamps\n",
    "\n",
    "dff = raw_samples['JobID'].value_counts()\n",
    "print(dff.sample(3))"
   ]
  },
  {
   "cell_type": "code",
   "execution_count": null,
   "metadata": {},
   "outputs": [],
   "source": [
    "dff = dff[dff<thresholdd]\n",
    "\n",
    "\n",
    "dff = dff.reset_index()\n",
    "dff = dff.rename(index=str, columns={\"JobID\": \"count\", \"index\": \"JobID\"})\n",
    "\n",
    "print(dff.sample(5))\n",
    "print(dff.head())\n",
    "\n",
    "remove_list = dff['JobID'].tolist()\n",
    "remove_list[:5]"
   ]
  },
  {
   "cell_type": "code",
   "execution_count": null,
   "metadata": {},
   "outputs": [],
   "source": [
    "cleaned = raw_samples[~raw_samples['JobID'].isin(remove_list)]\n",
    "cleaned.shape, raw_samples.shape"
   ]
  },
  {
   "cell_type": "code",
   "execution_count": null,
   "metadata": {},
   "outputs": [],
   "source": [
    "# Number of unique JobIDs in cleaned\n",
    "totalleftjobslist = cleaned.JobID.unique().tolist()\n",
    "\n",
    "totalleftjobs = len(cleaned.JobID.unique().tolist())"
   ]
  },
  {
   "cell_type": "code",
   "execution_count": null,
   "metadata": {},
   "outputs": [],
   "source": [
    "import random\n",
    "\n",
    "indices = random.sample(range(len(totalleftjobslist)), int(totalleftjobs * .30))\n",
    "takeoutlist = [totalleftjobslist[i] for i in sorted(indices)]\n",
    "\n",
    "len(takeoutlist), totalleftjobs "
   ]
  },
  {
   "cell_type": "code",
   "execution_count": null,
   "metadata": {},
   "outputs": [],
   "source": [
    "print(len(remove_list))\n",
    "remove_list = remove_list + takeoutlist\n",
    "print(len(remove_list))"
   ]
  },
  {
   "cell_type": "markdown",
   "metadata": {},
   "source": [
    "# Train on cleaned, Test on takeoutdf"
   ]
  },
  {
   "cell_type": "code",
   "execution_count": null,
   "metadata": {},
   "outputs": [],
   "source": [
    "cleaned = raw_samples[~raw_samples['JobID'].isin(remove_list)]\n",
    "cleaned.shape, raw_samples.shape"
   ]
  },
  {
   "cell_type": "code",
   "execution_count": null,
   "metadata": {},
   "outputs": [],
   "source": [
    "takeoutdf = raw_samples[raw_samples['JobID'].isin(takeoutlist)]\n",
    "takeoutdf.shape, raw_samples.shape"
   ]
  },
  {
   "cell_type": "code",
   "execution_count": null,
   "metadata": {},
   "outputs": [],
   "source": [
    "######################"
   ]
  },
  {
   "cell_type": "code",
   "execution_count": null,
   "metadata": {},
   "outputs": [],
   "source": [
    "# Count values in cleaned\n",
    "\n",
    "cleaned_counts = pd.value_counts(cleaned['JobID'].values, sort=False)\n",
    "sum(cleaned_counts.values<thresholdd), sum(cleaned_counts.values>=thresholdd)"
   ]
  },
  {
   "cell_type": "code",
   "execution_count": null,
   "metadata": {},
   "outputs": [],
   "source": [
    "len((sample_counts.values))"
   ]
  },
  {
   "cell_type": "code",
   "execution_count": null,
   "metadata": {},
   "outputs": [],
   "source": [
    "train_feat = cleaned.columns.tolist()\n",
    "print(len(train_feat)) #125\n",
    "cleaned.Status_Failed.value_counts()"
   ]
  },
  {
   "cell_type": "code",
   "execution_count": null,
   "metadata": {},
   "outputs": [],
   "source": [
    "train_feat = cleaned.columns.tolist()\n",
    "print(len(train_feat)) #125\n",
    "\n",
    "train_feat.remove('HeartBeatTime')\n",
    "train_feat.remove('JobID')\n",
    "train_feat.remove('Status_Failed')\n",
    "\n",
    "len(train_feat) #122"
   ]
  },
  {
   "cell_type": "code",
   "execution_count": null,
   "metadata": {},
   "outputs": [],
   "source": [
    "# Training Features"
   ]
  },
  {
   "cell_type": "code",
   "execution_count": null,
   "metadata": {
    "scrolled": false
   },
   "outputs": [],
   "source": [
    "train_feat"
   ]
  },
  {
   "cell_type": "code",
   "execution_count": null,
   "metadata": {},
   "outputs": [],
   "source": [
    "cleaned.shape"
   ]
  },
  {
   "cell_type": "code",
   "execution_count": null,
   "metadata": {},
   "outputs": [],
   "source": [
    "# Label Column ('Status_Failed' is the label column)\n",
    "label_col = ['Status_Failed']"
   ]
  },
  {
   "cell_type": "code",
   "execution_count": 10,
   "metadata": {},
   "outputs": [],
   "source": [
    "# Takes a df and converts it to 3D tensor\n",
    "# Each sample will have k time steps\n",
    "\n",
    "def samples_features(df_input):\n",
    "    \n",
    "    k = thresholdd\n",
    "    input_cols = train_feat\n",
    "    \n",
    "    # takes a df\n",
    "    # Put your inputs into a single list\n",
    "    \n",
    "    df = pd.DataFrame()\n",
    "    \n",
    "    df['single_input_vector'] = df_input[input_cols].apply(tuple, axis=1).apply(list)\n",
    "    \n",
    "    # Double-encapsulate list so that you can sum it in the next step and keep time steps as separate elements\n",
    "    df['single_input_vector'] = df.single_input_vector.apply(lambda x: [list(x)])\n",
    "        \n",
    "    # The starting point\n",
    "    df['cumulative_input_vectors'] = df['single_input_vector'].shift(0)\n",
    "    \n",
    "    for i in range(1,k):\n",
    "        df['cumulative_input_vectors'] += df['single_input_vector'].shift(i)\n",
    "          \n",
    "    df.dropna(inplace=True)     # does operation in place & returns None\n",
    "\n",
    "    # Extract your training data\n",
    "    X_ = np.asarray(df.cumulative_input_vectors)\n",
    "    \n",
    "    # Use hstack to and reshape to make the inputs a 3d vector\n",
    "    X = np.vstack(X_).reshape(len(df), k, len(input_cols))\n",
    "    \n",
    "    # Clean up\n",
    "    del df\n",
    "    \n",
    "    return X\n",
    "    # returns 3D array"
   ]
  },
  {
   "cell_type": "code",
   "execution_count": 11,
   "metadata": {
    "scrolled": true
   },
   "outputs": [
    {
     "data": {
      "text/plain": [
       "1"
      ]
     },
     "execution_count": 11,
     "metadata": {},
     "output_type": "execute_result"
    }
   ],
   "source": [
    "thresholdd #Check it matched the title"
   ]
  },
  {
   "cell_type": "markdown",
   "metadata": {},
   "source": [
    "# Build X (each job separately)"
   ]
  },
  {
   "cell_type": "code",
   "execution_count": null,
   "metadata": {},
   "outputs": [],
   "source": [
    "cleaned.to_pickle('cleaned_for_train_samples.pickle')"
   ]
  },
  {
   "cell_type": "code",
   "execution_count": null,
   "metadata": {},
   "outputs": [],
   "source": [
    "##################################################"
   ]
  },
  {
   "cell_type": "code",
   "execution_count": 12,
   "metadata": {},
   "outputs": [],
   "source": [
    "cleaned = pd.read_pickle('cleaned_for_train_samples.pickle')"
   ]
  },
  {
   "cell_type": "code",
   "execution_count": 13,
   "metadata": {},
   "outputs": [
    {
     "data": {
      "text/plain": [
       "0"
      ]
     },
     "execution_count": 13,
     "metadata": {},
     "output_type": "execute_result"
    }
   ],
   "source": [
    "cleaned.isnull().values.ravel().sum()"
   ]
  },
  {
   "cell_type": "code",
   "execution_count": 14,
   "metadata": {},
   "outputs": [],
   "source": [
    "cleaned = cleaned.dropna()"
   ]
  },
  {
   "cell_type": "code",
   "execution_count": 15,
   "metadata": {
    "scrolled": true
   },
   "outputs": [
    {
     "data": {
      "text/plain": [
       "0"
      ]
     },
     "execution_count": 15,
     "metadata": {},
     "output_type": "execute_result"
    }
   ],
   "source": [
    "cleaned.isnull().values.ravel().sum()"
   ]
  },
  {
   "cell_type": "code",
   "execution_count": 16,
   "metadata": {},
   "outputs": [
    {
     "data": {
      "text/plain": [
       "['JobID',\n",
       " 'HeartBeatTime',\n",
       " 'AvailableDiskSpace',\n",
       " 'CPUConsumed',\n",
       " 'LoadAverage',\n",
       " 'MemoryUsed',\n",
       " 'RSS',\n",
       " 'Vsize',\n",
       " 'WallClockTime',\n",
       " 'RescheduleCounter',\n",
       " 'start_submit',\n",
       " 'hbeat_start',\n",
       " 'JobType_MCProductionBGx0',\n",
       " 'JobType_Merge',\n",
       " 'JobGroup_00000758',\n",
       " 'JobGroup_00000808',\n",
       " 'JobGroup_00000809',\n",
       " 'JobGroup_00000974',\n",
       " 'JobGroup_00000975',\n",
       " 'JobGroup_00001303',\n",
       " 'JobGroup_00001306',\n",
       " 'JobGroup_00001368',\n",
       " 'JobGroup_00001369',\n",
       " 'JobGroup_00001370',\n",
       " 'JobGroup_00001371',\n",
       " 'JobGroup_00001372',\n",
       " 'JobGroup_00001373',\n",
       " 'JobGroup_00001374',\n",
       " 'JobGroup_00001375',\n",
       " 'JobGroup_00001376',\n",
       " 'JobGroup_00001377',\n",
       " 'JobGroup_00001378',\n",
       " 'JobGroup_00001379',\n",
       " 'JobGroup_00001380',\n",
       " 'JobGroup_00001381',\n",
       " 'JobGroup_00001386',\n",
       " 'JobGroup_00001398',\n",
       " 'JobGroup_00001404',\n",
       " 'JobGroup_00001622',\n",
       " 'JobGroup_00001635',\n",
       " 'JobGroup_00001636',\n",
       " 'JobGroup_00001637',\n",
       " 'JobGroup_00001638',\n",
       " 'JobGroup_00001639',\n",
       " 'JobGroup_00001640',\n",
       " 'JobGroup_00001641',\n",
       " 'JobGroup_00001642',\n",
       " 'JobGroup_00001643',\n",
       " 'JobGroup_00001644',\n",
       " 'JobGroup_00001645',\n",
       " 'JobGroup_00001646',\n",
       " 'JobGroup_00001647',\n",
       " 'JobGroup_00001648',\n",
       " 'JobGroup_00001649',\n",
       " 'JobGroup_00001650',\n",
       " 'JobGroup_00001651',\n",
       " 'JobGroup_00001652',\n",
       " 'JobGroup_00001653',\n",
       " 'JobGroup_00001654',\n",
       " 'JobGroup_00001655',\n",
       " 'JobGroup_00001656',\n",
       " 'JobGroup_00001657',\n",
       " 'JobGroup_00001658',\n",
       " 'JobGroup_00001659',\n",
       " 'JobGroup_00001660',\n",
       " 'JobGroup_00001661',\n",
       " 'JobGroup_00001662',\n",
       " 'JobGroup_00001663',\n",
       " 'JobGroup_00001664',\n",
       " 'JobGroup_00001665',\n",
       " 'JobGroup_00001666',\n",
       " 'JobGroup_00001667',\n",
       " 'JobGroup_00001668',\n",
       " 'JobGroup_00001669',\n",
       " 'JobGroup_00001670',\n",
       " 'JobGroup_00001671',\n",
       " 'JobGroup_00001672',\n",
       " 'JobGroup_00001673',\n",
       " 'JobGroup_00001674',\n",
       " 'JobGroup_00001675',\n",
       " 'JobGroup_00001676',\n",
       " 'JobGroup_00001677',\n",
       " 'JobGroup_00001678',\n",
       " 'JobGroup_00001679',\n",
       " 'JobGroup_00001680',\n",
       " 'JobGroup_00001681',\n",
       " 'JobGroup_00001682',\n",
       " 'JobGroup_00001683',\n",
       " 'JobGroup_00001684',\n",
       " 'JobGroup_00001685',\n",
       " 'JobGroup_00001686',\n",
       " 'JobGroup_00001687',\n",
       " 'JobGroup_00001688',\n",
       " 'JobGroup_00001689',\n",
       " 'JobGroup_00001690',\n",
       " 'JobGroup_00001691',\n",
       " 'JobGroup_00001692',\n",
       " 'JobGroup_00001693',\n",
       " 'JobGroup_00001694',\n",
       " 'JobGroup_00001695',\n",
       " 'JobGroup_00001696',\n",
       " 'JobGroup_00001699',\n",
       " 'JobGroup_00001702',\n",
       " 'JobGroup_00001705',\n",
       " 'JobGroup_00001710',\n",
       " 'JobGroup_00001711',\n",
       " 'JobGroup_00001712',\n",
       " 'JobGroup_00001714',\n",
       " 'JobGroup_00001717',\n",
       " 'JobGroup_00001720',\n",
       " 'JobGroup_00001721',\n",
       " 'JobGroup_00001722',\n",
       " 'JobGroup_00001723',\n",
       " 'JobGroup_00001724',\n",
       " 'JobGroup_00001725',\n",
       " 'JobGroup_00001726',\n",
       " 'JobGroup_00001727',\n",
       " 'JobGroup_00001728',\n",
       " 'JobGroup_00001729',\n",
       " 'JobGroup_00001732',\n",
       " 'JobGroup_00001733',\n",
       " 'JobGroup_00001734',\n",
       " 'JobGroup_00001735',\n",
       " 'JobGroup_00001736',\n",
       " 'JobGroup_00001737',\n",
       " 'JobGroup_00001738',\n",
       " 'JobGroup_00001739',\n",
       " 'JobGroup_00001740',\n",
       " 'JobGroup_00001741',\n",
       " 'JobGroup_00001744',\n",
       " 'JobGroup_00001746',\n",
       " 'JobGroup_00001747',\n",
       " 'JobGroup_00001749',\n",
       " 'JobGroup_00001750',\n",
       " 'JobGroup_00001753',\n",
       " 'JobGroup_00001754',\n",
       " 'JobGroup_00001755',\n",
       " 'JobGroup_00001756',\n",
       " 'JobGroup_00001757',\n",
       " 'JobGroup_00001758',\n",
       " 'JobGroup_00001759',\n",
       " 'JobGroup_00001760',\n",
       " 'JobGroup_00001761',\n",
       " 'JobGroup_00001762',\n",
       " 'JobGroup_00001763',\n",
       " 'JobGroup_00001764',\n",
       " 'JobGroup_00001765',\n",
       " 'JobGroup_00001766',\n",
       " 'JobGroup_00001767',\n",
       " 'JobGroup_00001768',\n",
       " 'JobGroup_00001769',\n",
       " 'JobGroup_00001770',\n",
       " 'JobGroup_00001771',\n",
       " 'JobGroup_00001772',\n",
       " 'JobGroup_00001773',\n",
       " 'JobGroup_00001774',\n",
       " 'JobGroup_00001775',\n",
       " 'JobGroup_00001776',\n",
       " 'JobGroup_00001777',\n",
       " 'JobGroup_00001778',\n",
       " 'JobGroup_00001779',\n",
       " 'JobGroup_00001780',\n",
       " 'JobGroup_00001781',\n",
       " 'JobGroup_00001782',\n",
       " 'JobGroup_00001783',\n",
       " 'JobGroup_00001784',\n",
       " 'JobGroup_00001785',\n",
       " 'JobGroup_00001786',\n",
       " 'JobGroup_00001787',\n",
       " 'JobGroup_00001788',\n",
       " 'JobGroup_00001789',\n",
       " 'JobGroup_00001790',\n",
       " 'JobGroup_00001791',\n",
       " 'JobGroup_00001792',\n",
       " 'JobGroup_00001793',\n",
       " 'JobGroup_00001794',\n",
       " 'JobGroup_00001795',\n",
       " 'JobGroup_00001796',\n",
       " 'JobGroup_00001797',\n",
       " 'JobGroup_00001798',\n",
       " 'JobGroup_00001799',\n",
       " 'JobGroup_00001800',\n",
       " 'JobGroup_00001801',\n",
       " 'JobGroup_00001802',\n",
       " 'JobGroup_00001803',\n",
       " 'JobGroup_00001804',\n",
       " 'JobGroup_00001805',\n",
       " 'JobGroup_00001806',\n",
       " 'JobGroup_00001807',\n",
       " 'JobGroup_00001808',\n",
       " 'JobGroup_00001809',\n",
       " 'JobGroup_00001810',\n",
       " 'JobGroup_00001811',\n",
       " 'JobGroup_00001812',\n",
       " 'JobGroup_00001813',\n",
       " 'JobGroup_00001814',\n",
       " 'JobGroup_00001815',\n",
       " 'JobGroup_00001816',\n",
       " 'JobGroup_00001817',\n",
       " 'JobGroup_00001818',\n",
       " 'JobGroup_00001819',\n",
       " 'JobGroup_00001820',\n",
       " 'JobGroup_00001821',\n",
       " 'JobGroup_00001822',\n",
       " 'JobGroup_00001823',\n",
       " 'JobGroup_00001824',\n",
       " 'JobGroup_00001825',\n",
       " 'JobGroup_00001826',\n",
       " 'JobGroup_00001827',\n",
       " 'JobGroup_00001828',\n",
       " 'JobGroup_00001829',\n",
       " 'JobGroup_00001830',\n",
       " 'JobGroup_00001831',\n",
       " 'JobGroup_00001832',\n",
       " 'JobGroup_00001833',\n",
       " 'JobGroup_00001834',\n",
       " 'JobGroup_00001837',\n",
       " 'JobGroup_00001840',\n",
       " 'JobGroup_00001842',\n",
       " 'JobGroup_00001845',\n",
       " 'JobGroup_00001847',\n",
       " 'JobGroup_00001849',\n",
       " 'JobGroup_00001850',\n",
       " 'JobGroup_00001856',\n",
       " 'JobGroup_00001857',\n",
       " 'JobGroup_00001858',\n",
       " 'JobGroup_00001859',\n",
       " 'JobGroup_00001860',\n",
       " 'JobGroup_00001861',\n",
       " 'JobGroup_00001863',\n",
       " 'JobGroup_00001864',\n",
       " 'JobGroup_00001865',\n",
       " 'JobGroup_00001866',\n",
       " 'JobGroup_00001868',\n",
       " 'JobGroup_00001871',\n",
       " 'JobGroup_00001872',\n",
       " 'JobGroup_00001914',\n",
       " 'JobGroup_00001916',\n",
       " 'JobGroup_00001917',\n",
       " 'JobGroup_00001919',\n",
       " 'JobGroup_00001920',\n",
       " 'JobGroup_00001921',\n",
       " 'JobGroup_00001922',\n",
       " 'JobGroup_00001923',\n",
       " 'JobGroup_00001924',\n",
       " 'JobGroup_00001925',\n",
       " 'JobGroup_00001926',\n",
       " 'JobGroup_00001927',\n",
       " 'JobGroup_00001931',\n",
       " 'JobGroup_00001935',\n",
       " 'JobGroup_00001936',\n",
       " 'JobGroup_00001937',\n",
       " 'JobGroup_00001939',\n",
       " 'JobGroup_00001940',\n",
       " 'JobGroup_00001941',\n",
       " 'JobGroup_00001942',\n",
       " 'JobGroup_00001943',\n",
       " 'JobGroup_00001944',\n",
       " 'JobGroup_00001945',\n",
       " 'Site_ARC.DESY.de',\n",
       " 'Site_ARC.SIGNET.si',\n",
       " 'Site_CLOUD.AWS_Sydney.au',\n",
       " 'Site_CLOUD.AWS_Tokyo.jp',\n",
       " 'Site_CLOUD.AWS_Virginia.us',\n",
       " 'Site_CLOUD.CC1_Krakow.pl',\n",
       " 'Site_DIRAC.BINP.ru',\n",
       " 'Site_DIRAC.Beihang.cn',\n",
       " 'Site_DIRAC.CINVESTAV.mx',\n",
       " 'Site_DIRAC.Hokudai.jp',\n",
       " 'Site_DIRAC.IITG.in',\n",
       " 'Site_DIRAC.MIPT.ru',\n",
       " 'Site_DIRAC.Nagoya.jp',\n",
       " 'Site_DIRAC.Nara-WU.jp',\n",
       " 'Site_DIRAC.Niigata.jp',\n",
       " 'Site_DIRAC.Osaka-CU.jp',\n",
       " 'Site_DIRAC.PNNL.us',\n",
       " 'Site_DIRAC.RCNP.jp',\n",
       " 'Site_DIRAC.TIFR.in',\n",
       " 'Site_DIRAC.TMU.jp',\n",
       " 'Site_DIRAC.Test.jp',\n",
       " 'Site_DIRAC.Tokyo.jp',\n",
       " 'Site_DIRAC.UAS.mx',\n",
       " 'Site_DIRAC.UVic.ca',\n",
       " 'Site_DIRAC.Yamagata.jp',\n",
       " 'Site_DIRAC.Yonsei.kr',\n",
       " 'Site_Group.KEK2.jp',\n",
       " 'Site_LCG.CESNET.cz',\n",
       " 'Site_LCG.CNAF.it',\n",
       " 'Site_LCG.CYFRONET.pl',\n",
       " 'Site_LCG.Cosenza.it',\n",
       " 'Site_LCG.DESY.de',\n",
       " 'Site_LCG.Frascati.it',\n",
       " 'Site_LCG.HEPHY.at',\n",
       " 'Site_LCG.KEK.jp',\n",
       " 'Site_LCG.KEK2.jp',\n",
       " 'Site_LCG.KISTI.kr',\n",
       " 'Site_LCG.KIT.de',\n",
       " 'Site_LCG.KMI.jp',\n",
       " 'Site_LCG.Legnaro.it',\n",
       " 'Site_LCG.MPPMU.de',\n",
       " 'Site_LCG.McGill.ca',\n",
       " 'Site_LCG.Melbourne.au',\n",
       " 'Site_LCG.NCHC.tw',\n",
       " 'Site_LCG.NTU.tw',\n",
       " 'Site_LCG.Napoli.it',\n",
       " 'Site_LCG.Pisa.it',\n",
       " 'Site_LCG.Torino.it',\n",
       " 'Site_LCG.ULAKBIM.tr',\n",
       " 'Site_Multiple',\n",
       " 'Site_SSH.KMI.jp',\n",
       " 'Status_Failed',\n",
       " 'UserPriority_2',\n",
       " 'UserPriority_3',\n",
       " 'UserPriority_5',\n",
       " 'UserPriority_9',\n",
       " 'UserPriority_10']"
      ]
     },
     "execution_count": 16,
     "metadata": {},
     "output_type": "execute_result"
    }
   ],
   "source": [
    "cleaned.columns.tolist()"
   ]
  },
  {
   "cell_type": "code",
   "execution_count": null,
   "metadata": {},
   "outputs": [],
   "source": [
    "##################################################"
   ]
  },
  {
   "cell_type": "code",
   "execution_count": 17,
   "metadata": {},
   "outputs": [],
   "source": [
    "cols = cleaned.columns.tolist()"
   ]
  },
  {
   "cell_type": "code",
   "execution_count": 18,
   "metadata": {},
   "outputs": [
    {
     "name": "stdout",
     "output_type": "stream",
     "text": [
      "316\n"
     ]
    },
    {
     "data": {
      "text/plain": [
       "65"
      ]
     },
     "execution_count": 18,
     "metadata": {},
     "output_type": "execute_result"
    }
   ],
   "source": [
    "train_feat = cleaned.columns.tolist()\n",
    "print(len(train_feat)) #125\n",
    "\n",
    "train_feat.remove('HeartBeatTime')\n",
    "train_feat.remove('JobID')\n",
    "train_feat.remove('Status_Failed')\n",
    "\n",
    "\n",
    "### Extra removal after noticing high accuracy\n",
    "train_feat.remove('hbeat_start')\n",
    "train_feat.remove('start_submit')\n",
    "train_feat.remove('WallClockTime')\n",
    "\n",
    "for c in cols:\n",
    "    if 'JobGroup' in c:\n",
    "        train_feat.remove(c)\n",
    "##############################################\n",
    "\n",
    "len(train_feat) #122"
   ]
  },
  {
   "cell_type": "code",
   "execution_count": 19,
   "metadata": {},
   "outputs": [
    {
     "name": "stdout",
     "output_type": "stream",
     "text": [
      "CPU times: user 2.47 ms, sys: 0 ns, total: 2.47 ms\n",
      "Wall time: 2.29 ms\n"
     ]
    }
   ],
   "source": [
    "%%time\n",
    "cleanedgrouped = cleaned.groupby('JobID')"
   ]
  },
  {
   "cell_type": "code",
   "execution_count": 20,
   "metadata": {},
   "outputs": [
    {
     "name": "stdout",
     "output_type": "stream",
     "text": [
      "1\n"
     ]
    },
    {
     "data": {
      "text/plain": [
       "(None, (469777, 316))"
      ]
     },
     "execution_count": 20,
     "metadata": {},
     "output_type": "execute_result"
    }
   ],
   "source": [
    "print(thresholdd), cleaned.shape"
   ]
  },
  {
   "cell_type": "markdown",
   "metadata": {},
   "source": [
    "## Cleaned df to 3D tensor"
   ]
  },
  {
   "cell_type": "markdown",
   "metadata": {},
   "source": [
    "### Make X"
   ]
  },
  {
   "cell_type": "code",
   "execution_count": 21,
   "metadata": {},
   "outputs": [
    {
     "name": "stdout",
     "output_type": "stream",
     "text": [
      "CPU times: user 2min 11s, sys: 331 ms, total: 2min 11s\n",
      "Wall time: 2min 11s\n"
     ]
    }
   ],
   "source": [
    "%%time\n",
    "collecttrain = cleanedgrouped.apply(samples_features)"
   ]
  },
  {
   "cell_type": "code",
   "execution_count": 22,
   "metadata": {},
   "outputs": [
    {
     "data": {
      "text/plain": [
       "(16, 1, 65)"
      ]
     },
     "execution_count": 22,
     "metadata": {},
     "output_type": "execute_result"
    }
   ],
   "source": [
    "collecttrain.tolist()[100].shape"
   ]
  },
  {
   "cell_type": "code",
   "execution_count": 23,
   "metadata": {},
   "outputs": [
    {
     "name": "stdout",
     "output_type": "stream",
     "text": [
      "[[2.34035058e-03 3.10206171e-05 4.47889750e-02 1.64880724e-01\n",
      "  2.97099885e-04 4.43188161e-03 0.00000000e+00 1.00000000e+00\n",
      "  0.00000000e+00 0.00000000e+00 0.00000000e+00 0.00000000e+00\n",
      "  0.00000000e+00 0.00000000e+00 0.00000000e+00 0.00000000e+00\n",
      "  0.00000000e+00 0.00000000e+00 0.00000000e+00 0.00000000e+00\n",
      "  0.00000000e+00 0.00000000e+00 0.00000000e+00 0.00000000e+00\n",
      "  0.00000000e+00 0.00000000e+00 0.00000000e+00 0.00000000e+00\n",
      "  0.00000000e+00 0.00000000e+00 0.00000000e+00 0.00000000e+00\n",
      "  0.00000000e+00 0.00000000e+00 0.00000000e+00 0.00000000e+00\n",
      "  0.00000000e+00 0.00000000e+00 0.00000000e+00 0.00000000e+00\n",
      "  0.00000000e+00 0.00000000e+00 0.00000000e+00 0.00000000e+00\n",
      "  0.00000000e+00 0.00000000e+00 1.00000000e+00 0.00000000e+00\n",
      "  0.00000000e+00 0.00000000e+00 0.00000000e+00 0.00000000e+00\n",
      "  0.00000000e+00 0.00000000e+00 0.00000000e+00 0.00000000e+00\n",
      "  0.00000000e+00 0.00000000e+00 0.00000000e+00 0.00000000e+00\n",
      "  0.00000000e+00 0.00000000e+00 0.00000000e+00 0.00000000e+00\n",
      "  0.00000000e+00]]\n",
      "***********************\n",
      "[[0.00233312 0.00671984 0.04873505 0.1845941  0.00467841 0.01590768\n",
      "  0.         1.         0.         0.         0.         0.\n",
      "  0.         0.         0.         0.         0.         0.\n",
      "  0.         0.         0.         0.         0.         0.\n",
      "  0.         0.         0.         0.         0.         0.\n",
      "  0.         0.         0.         0.         0.         0.\n",
      "  0.         0.         0.         0.         0.         0.\n",
      "  0.         0.         0.         0.         1.         0.\n",
      "  0.         0.         0.         0.         0.         0.\n",
      "  0.         0.         0.         0.         0.         0.\n",
      "  0.         0.         0.         0.         0.        ]]\n",
      "***********************\n",
      "[[0.00232591 0.01371887 0.04653166 0.185837   0.00495486 0.01687554\n",
      "  0.         1.         0.         0.         0.         0.\n",
      "  0.         0.         0.         0.         0.         0.\n",
      "  0.         0.         0.         0.         0.         0.\n",
      "  0.         0.         0.         0.         0.         0.\n",
      "  0.         0.         0.         0.         0.         0.\n",
      "  0.         0.         0.         0.         0.         0.\n",
      "  0.         0.         0.         0.         1.         0.\n",
      "  0.         0.         0.         0.         0.         0.\n",
      "  0.         0.         0.         0.         0.         0.\n",
      "  0.         0.         0.         0.         0.        ]]\n",
      "***********************\n",
      "[[0.00231589 0.02073728 0.04757326 0.1869516  0.00513241 0.0170124\n",
      "  0.         1.         0.         0.         0.         0.\n",
      "  0.         0.         0.         0.         0.         0.\n",
      "  0.         0.         0.         0.         0.         0.\n",
      "  0.         0.         0.         0.         0.         0.\n",
      "  0.         0.         0.         0.         0.         0.\n",
      "  0.         0.         0.         0.         0.         0.\n",
      "  0.         0.         0.         0.         1.         0.\n",
      "  0.         0.         0.         0.         0.         0.\n",
      "  0.         0.         0.         0.         0.         0.\n",
      "  0.         0.         0.         0.         0.        ]]\n",
      "***********************\n",
      "[[0.0023171  0.02772855 0.04847465 0.17548253 0.0052596  0.0171406\n",
      "  0.         1.         0.         0.         0.         0.\n",
      "  0.         0.         0.         0.         0.         0.\n",
      "  0.         0.         0.         0.         0.         0.\n",
      "  0.         0.         0.         0.         0.         0.\n",
      "  0.         0.         0.         0.         0.         0.\n",
      "  0.         0.         0.         0.         0.         0.\n",
      "  0.         0.         0.         0.         1.         0.\n",
      "  0.         0.         0.         0.         0.         0.\n",
      "  0.         0.         0.         0.         0.         0.\n",
      "  0.         0.         0.         0.         0.        ]]\n",
      "***********************\n",
      "[[0.00233592 0.03475085 0.04645154 0.16331132 0.00549037 0.01736808\n",
      "  0.         1.         0.         0.         0.         0.\n",
      "  0.         0.         0.         0.         0.         0.\n",
      "  0.         0.         0.         0.         0.         0.\n",
      "  0.         0.         0.         0.         0.         0.\n",
      "  0.         0.         0.         0.         0.         0.\n",
      "  0.         0.         0.         0.         0.         0.\n",
      "  0.         0.         0.         0.         1.         0.\n",
      "  0.         0.         0.         0.         0.         0.\n",
      "  0.         0.         0.         0.         0.         0.\n",
      "  0.         0.         0.         0.         0.        ]]\n",
      "***********************\n",
      "[[0.00234397 0.04174212 0.03793843 0.15151368 0.00554162 0.01741019\n",
      "  0.         1.         0.         0.         0.         0.\n",
      "  0.         0.         0.         0.         0.         0.\n",
      "  0.         0.         0.         0.         0.         0.\n",
      "  0.         0.         0.         0.         0.         0.\n",
      "  0.         0.         0.         0.         0.         0.\n",
      "  0.         0.         0.         0.         0.         0.\n",
      "  0.         0.         0.         0.         1.         0.\n",
      "  0.         0.         0.         0.         0.         0.\n",
      "  0.         0.         0.         0.         0.         0.\n",
      "  0.         0.         0.         0.         0.        ]]\n",
      "***********************\n",
      "[[0.00233646 0.04874114 0.03745768 0.1697656  0.00536637 0.01749321\n",
      "  0.         1.         0.         0.         0.         0.\n",
      "  0.         0.         0.         0.         0.         0.\n",
      "  0.         0.         0.         0.         0.         0.\n",
      "  0.         0.         0.         0.         0.         0.\n",
      "  0.         0.         0.         0.         0.         0.\n",
      "  0.         0.         0.         0.         0.         0.\n",
      "  0.         0.         0.         0.         1.         0.\n",
      "  0.         0.         0.         0.         0.         0.\n",
      "  0.         0.         0.         0.         0.         0.\n",
      "  0.         0.         0.         0.         0.        ]]\n",
      "***********************\n",
      "[[0.00232874 0.05571691 0.03789836 0.18390415 0.0055035  0.01762723\n",
      "  0.         1.         0.         0.         0.         0.\n",
      "  0.         0.         0.         0.         0.         0.\n",
      "  0.         0.         0.         0.         0.         0.\n",
      "  0.         0.         0.         0.         0.         0.\n",
      "  0.         0.         0.         0.         0.         0.\n",
      "  0.         0.         0.         0.         0.         0.\n",
      "  0.         0.         0.         0.         1.         0.\n",
      "  0.         0.         0.         0.         0.         0.\n",
      "  0.         0.         0.         0.         0.         0.\n",
      "  0.         0.         0.         0.         0.        ]]\n",
      "***********************\n",
      "[[0.00232773 0.06274695 0.03994151 0.18005128 0.00606715 0.01815702\n",
      "  0.         1.         0.         0.         0.         0.\n",
      "  0.         0.         0.         0.         0.         0.\n",
      "  0.         0.         0.         0.         0.         0.\n",
      "  0.         0.         0.         0.         0.         0.\n",
      "  0.         0.         0.         0.         0.         0.\n",
      "  0.         0.         0.         0.         0.         0.\n",
      "  0.         0.         0.         0.         1.         0.\n",
      "  0.         0.         0.         0.         0.         0.\n",
      "  0.         0.         0.         0.         0.         0.\n",
      "  0.         0.         0.         0.         0.        ]]\n",
      "***********************\n",
      "[[0.00232313 0.06973822 0.04228512 0.18387183 0.00616779 0.01826085\n",
      "  0.         1.         0.         0.         0.         0.\n",
      "  0.         0.         0.         0.         0.         0.\n",
      "  0.         0.         0.         0.         0.         0.\n",
      "  0.         0.         0.         0.         0.         0.\n",
      "  0.         0.         0.         0.         0.         0.\n",
      "  0.         0.         0.         0.         0.         0.\n",
      "  0.         0.         0.         0.         1.         0.\n",
      "  0.         0.         0.         0.         0.         0.\n",
      "  0.         0.         0.         0.         0.         0.\n",
      "  0.         0.         0.         0.         0.        ]]\n",
      "***********************\n",
      "[[0.00232583 0.07676052 0.043507   0.18317424 0.00654838 0.01863233\n",
      "  0.         1.         0.         0.         0.         0.\n",
      "  0.         0.         0.         0.         0.         0.\n",
      "  0.         0.         0.         0.         0.         0.\n",
      "  0.         0.         0.         0.         0.         0.\n",
      "  0.         0.         0.         0.         0.         0.\n",
      "  0.         0.         0.         0.         0.         0.\n",
      "  0.         0.         0.         0.         1.         0.\n",
      "  0.         0.         0.         0.         0.         0.\n",
      "  0.         0.         0.         0.         0.         0.\n",
      "  0.         0.         0.         0.         0.        ]]\n",
      "***********************\n",
      "[[0.00234871 0.08375567 0.04060253 0.16390957 0.00658786 0.01863444\n",
      "  0.         1.         0.         0.         0.         0.\n",
      "  0.         0.         0.         0.         0.         0.\n",
      "  0.         0.         0.         0.         0.         0.\n",
      "  0.         0.         0.         0.         0.         0.\n",
      "  0.         0.         0.         0.         0.         0.\n",
      "  0.         0.         0.         0.         0.         0.\n",
      "  0.         0.         0.         0.         1.         0.\n",
      "  0.         0.         0.         0.         0.         0.\n",
      "  0.         0.         0.         0.         0.         0.\n",
      "  0.         0.         0.         0.         0.        ]]\n",
      "***********************\n",
      "[[0.00234436 0.09074306 0.04016185 0.17574078 0.00667044 0.01871037\n",
      "  0.         1.         0.         0.         0.         0.\n",
      "  0.         0.         0.         0.         0.         0.\n",
      "  0.         0.         0.         0.         0.         0.\n",
      "  0.         0.         0.         0.         0.         0.\n",
      "  0.         0.         0.         0.         0.         0.\n",
      "  0.         0.         0.         0.         0.         0.\n",
      "  0.         0.         0.         0.         1.         0.\n",
      "  0.         0.         0.         0.         0.         0.\n",
      "  0.         0.         0.         0.         0.         0.\n",
      "  0.         0.         0.         0.         0.        ]]\n",
      "***********************\n",
      "[[0.00233528 0.09778086 0.04028203 0.18527105 0.00675321 0.0187868\n",
      "  0.         1.         0.         0.         0.         0.\n",
      "  0.         0.         0.         0.         0.         0.\n",
      "  0.         0.         0.         0.         0.         0.\n",
      "  0.         0.         0.         0.         0.         0.\n",
      "  0.         0.         0.         0.         0.         0.\n",
      "  0.         0.         0.         0.         0.         0.\n",
      "  0.         0.         0.         0.         1.         0.\n",
      "  0.         0.         0.         0.         0.         0.\n",
      "  0.         0.         0.         0.         0.         0.\n",
      "  0.         0.         0.         0.         0.        ]]\n",
      "***********************\n",
      "[[0.00233161 0.1047954  0.04092302 0.18409994 0.00687225 0.0189055\n",
      "  0.         1.         0.         0.         0.         0.\n",
      "  0.         0.         0.         0.         0.         0.\n",
      "  0.         0.         0.         0.         0.         0.\n",
      "  0.         0.         0.         0.         0.         0.\n",
      "  0.         0.         0.         0.         0.         0.\n",
      "  0.         0.         0.         0.         0.         0.\n",
      "  0.         0.         0.         0.         1.         0.\n",
      "  0.         0.         0.         0.         0.         0.\n",
      "  0.         0.         0.         0.         0.         0.\n",
      "  0.         0.         0.         0.         0.        ]]\n",
      "***********************\n"
     ]
    }
   ],
   "source": [
    "for f in collecttrain.tolist()[100]:\n",
    "    print(f)\n",
    "    print('***********************')"
   ]
  },
  {
   "cell_type": "code",
   "execution_count": 24,
   "metadata": {},
   "outputs": [],
   "source": [
    "X=[]"
   ]
  },
  {
   "cell_type": "code",
   "execution_count": 25,
   "metadata": {},
   "outputs": [
    {
     "name": "stdout",
     "output_type": "stream",
     "text": [
      "CPU times: user 258 ms, sys: 36 ms, total: 294 ms\n",
      "Wall time: 293 ms\n"
     ]
    }
   ],
   "source": [
    "%%time\n",
    "for x in collecttrain:\n",
    "    #len(x)\n",
    "    for i in x:\n",
    "        X.append(i)"
   ]
  },
  {
   "cell_type": "code",
   "execution_count": 26,
   "metadata": {},
   "outputs": [
    {
     "data": {
      "text/plain": [
       "(469777, 1, 65)"
      ]
     },
     "execution_count": 26,
     "metadata": {},
     "output_type": "execute_result"
    }
   ],
   "source": [
    "X = np.array(X)\n",
    "X.shape"
   ]
  },
  {
   "cell_type": "code",
   "execution_count": 27,
   "metadata": {},
   "outputs": [],
   "source": [
    "## X is ready"
   ]
  },
  {
   "cell_type": "code",
   "execution_count": 28,
   "metadata": {},
   "outputs": [],
   "source": [
    "# Label Column ('Status_Failed' is the label column)\n",
    "label_col = ['Status_Failed']"
   ]
  },
  {
   "cell_type": "code",
   "execution_count": 29,
   "metadata": {},
   "outputs": [],
   "source": [
    "# Takes a df and converts it to 3D tensor\n",
    "# Each sample will have k time steps\n",
    "\n",
    "def samples_label(df_input):\n",
    "    \n",
    "    k = thresholdd\n",
    "    input_cols = label_col\n",
    "    \n",
    "    \n",
    "    # takes a df\n",
    "    # Put your inputs into a single list\n",
    "    \n",
    "    df = pd.DataFrame()\n",
    "    \n",
    "    df['single_input_vector'] = df_input[input_cols].apply(tuple, axis=1).apply(list)\n",
    "    \n",
    "    # Double-encapsulate list so that you can sum it in the next step and keep time steps as separate elements\n",
    "    df['single_input_vector'] = df.single_input_vector.apply(lambda x: [list(x)])\n",
    "        \n",
    "    # The starting point\n",
    "    df['cumulative_input_vectors'] = df['single_input_vector'].shift(0)\n",
    "    \n",
    "    for i in range(1,k):\n",
    "        df['cumulative_input_vectors'] += df['single_input_vector'].shift(i)\n",
    "          \n",
    "    df.dropna(inplace=True)     # does operation in place & returns None\n",
    "\n",
    "    # Extract your training data\n",
    "    X_ = np.asarray(df.cumulative_input_vectors)\n",
    "    \n",
    "    # Use hstack to and reshape to make the inputs a 3d vector\n",
    "    X = np.vstack(X_).reshape(len(df), k, len(input_cols))\n",
    "    \n",
    "    # Clean up\n",
    "    del df\n",
    "    \n",
    "    return X\n",
    "    # returns 3D array"
   ]
  },
  {
   "cell_type": "markdown",
   "metadata": {},
   "source": [
    "# Build Y (each job separately)"
   ]
  },
  {
   "cell_type": "code",
   "execution_count": 30,
   "metadata": {},
   "outputs": [],
   "source": [
    "cleanedgrouped = cleaned.groupby('JobID')"
   ]
  },
  {
   "cell_type": "code",
   "execution_count": 31,
   "metadata": {},
   "outputs": [
    {
     "data": {
      "text/plain": [
       "['Status_Failed']"
      ]
     },
     "execution_count": 31,
     "metadata": {},
     "output_type": "execute_result"
    }
   ],
   "source": [
    "label_col"
   ]
  },
  {
   "cell_type": "code",
   "execution_count": 32,
   "metadata": {},
   "outputs": [
    {
     "name": "stdout",
     "output_type": "stream",
     "text": [
      "CPU times: user 2min 1s, sys: 216 ms, total: 2min 1s\n",
      "Wall time: 2min 1s\n"
     ]
    }
   ],
   "source": [
    "%%time\n",
    "collectlabel = cleanedgrouped.apply(samples_label)"
   ]
  },
  {
   "cell_type": "code",
   "execution_count": 33,
   "metadata": {},
   "outputs": [
    {
     "data": {
      "text/plain": [
       "[array([[[1]],\n",
       " \n",
       "        [[1]],\n",
       " \n",
       "        [[1]],\n",
       " \n",
       "        [[1]],\n",
       " \n",
       "        [[1]],\n",
       " \n",
       "        [[1]],\n",
       " \n",
       "        [[1]],\n",
       " \n",
       "        [[1]],\n",
       " \n",
       "        [[1]],\n",
       " \n",
       "        [[1]],\n",
       " \n",
       "        [[1]],\n",
       " \n",
       "        [[1]],\n",
       " \n",
       "        [[1]]])]"
      ]
     },
     "execution_count": 33,
     "metadata": {},
     "output_type": "execute_result"
    }
   ],
   "source": [
    "collectlabel.tolist()[:1]"
   ]
  },
  {
   "cell_type": "code",
   "execution_count": 34,
   "metadata": {},
   "outputs": [
    {
     "data": {
      "text/plain": [
       "(16, 1, 1)"
      ]
     },
     "execution_count": 34,
     "metadata": {},
     "output_type": "execute_result"
    }
   ],
   "source": [
    "collectlabel.tolist()[100].shape"
   ]
  },
  {
   "cell_type": "code",
   "execution_count": 35,
   "metadata": {},
   "outputs": [],
   "source": [
    "Y=[]"
   ]
  },
  {
   "cell_type": "code",
   "execution_count": 36,
   "metadata": {},
   "outputs": [
    {
     "name": "stdout",
     "output_type": "stream",
     "text": [
      "CPU times: user 170 ms, sys: 16 ms, total: 186 ms\n",
      "Wall time: 185 ms\n"
     ]
    }
   ],
   "source": [
    "%%time\n",
    "for x in collectlabel:\n",
    "    #len(x)\n",
    "    for i in x:\n",
    "        Y.append(i)"
   ]
  },
  {
   "cell_type": "code",
   "execution_count": 37,
   "metadata": {},
   "outputs": [
    {
     "data": {
      "text/plain": [
       "(469777, 1, 1)"
      ]
     },
     "execution_count": 37,
     "metadata": {},
     "output_type": "execute_result"
    }
   ],
   "source": [
    "Y = np.array(Y)\n",
    "Y.shape"
   ]
  },
  {
   "cell_type": "code",
   "execution_count": 38,
   "metadata": {},
   "outputs": [
    {
     "data": {
      "text/plain": [
       "(469777, 1)"
      ]
     },
     "execution_count": 38,
     "metadata": {},
     "output_type": "execute_result"
    }
   ],
   "source": [
    "YY = np.array([x[0][0] for x in Y]).reshape(len(Y),1)\n",
    "YY.shape"
   ]
  },
  {
   "cell_type": "code",
   "execution_count": 39,
   "metadata": {
    "scrolled": true
   },
   "outputs": [
    {
     "data": {
      "text/plain": [
       "array([[1],\n",
       "       [1],\n",
       "       [1],\n",
       "       [1],\n",
       "       [1]])"
      ]
     },
     "execution_count": 39,
     "metadata": {},
     "output_type": "execute_result"
    }
   ],
   "source": [
    "YY[:5]"
   ]
  },
  {
   "cell_type": "code",
   "execution_count": 40,
   "metadata": {},
   "outputs": [
    {
     "data": {
      "text/plain": [
       "1"
      ]
     },
     "execution_count": 40,
     "metadata": {},
     "output_type": "execute_result"
    }
   ],
   "source": [
    "## Y is ready\n",
    "thresholdd"
   ]
  },
  {
   "cell_type": "markdown",
   "metadata": {},
   "source": [
    "## Shuffle"
   ]
  },
  {
   "cell_type": "code",
   "execution_count": 41,
   "metadata": {},
   "outputs": [],
   "source": [
    "# Unison shuffle\n",
    "def unison_shuffled_copies(a, b):\n",
    "    import numpy as np\n",
    "    assert len(a) == len(b)\n",
    "    p = np.random.permutation(len(a))\n",
    "    return a[p], b[p]"
   ]
  },
  {
   "cell_type": "code",
   "execution_count": 42,
   "metadata": {},
   "outputs": [
    {
     "name": "stdout",
     "output_type": "stream",
     "text": [
      "CPU times: user 116 ms, sys: 68 ms, total: 184 ms\n",
      "Wall time: 183 ms\n"
     ]
    }
   ],
   "source": [
    "%%time\n",
    "X_final, Y_final = unison_shuffled_copies(X,YY)"
   ]
  },
  {
   "cell_type": "code",
   "execution_count": 43,
   "metadata": {},
   "outputs": [
    {
     "data": {
      "text/plain": [
       "((469777, 1, 65), (469777, 1))"
      ]
     },
     "execution_count": 43,
     "metadata": {},
     "output_type": "execute_result"
    }
   ],
   "source": [
    "X_final.shape, Y_final.shape"
   ]
  },
  {
   "cell_type": "code",
   "execution_count": 44,
   "metadata": {},
   "outputs": [
    {
     "data": {
      "text/plain": [
       "array([4823])"
      ]
     },
     "execution_count": 44,
     "metadata": {},
     "output_type": "execute_result"
    }
   ],
   "source": [
    "sum(Y_final[:10000])"
   ]
  },
  {
   "cell_type": "markdown",
   "metadata": {},
   "source": [
    "del X\n",
    "del Y\n",
    "del YY"
   ]
  },
  {
   "cell_type": "code",
   "execution_count": 45,
   "metadata": {},
   "outputs": [],
   "source": [
    "X_final, Y_final = unison_shuffled_copies(X_final, Y_final)"
   ]
  },
  {
   "cell_type": "markdown",
   "metadata": {},
   "source": [
    "# Start: Build test set from 'takeoutdf'"
   ]
  },
  {
   "cell_type": "markdown",
   "metadata": {},
   "source": [
    "# Build X_tes, Y_test using each JobID separately"
   ]
  },
  {
   "cell_type": "code",
   "execution_count": 46,
   "metadata": {},
   "outputs": [
    {
     "data": {
      "text/plain": [
       "(202677, 316)"
      ]
     },
     "execution_count": 46,
     "metadata": {},
     "output_type": "execute_result"
    }
   ],
   "source": [
    "takeoutdf = pd.read_pickle('takeoutdf_for_test_samples.pickle')\n",
    "takeoutdf.shape"
   ]
  },
  {
   "cell_type": "code",
   "execution_count": 47,
   "metadata": {},
   "outputs": [
    {
     "data": {
      "text/plain": [
       "0    107243\n",
       "1     95434\n",
       "Name: Status_Failed, dtype: int64"
      ]
     },
     "execution_count": 47,
     "metadata": {},
     "output_type": "execute_result"
    }
   ],
   "source": [
    "takeoutdf.Status_Failed.value_counts()"
   ]
  },
  {
   "cell_type": "code",
   "execution_count": 48,
   "metadata": {},
   "outputs": [],
   "source": [
    "# Training Features"
   ]
  },
  {
   "cell_type": "code",
   "execution_count": 129,
   "metadata": {},
   "outputs": [
    {
     "name": "stdout",
     "output_type": "stream",
     "text": [
      "65\n"
     ]
    }
   ],
   "source": [
    "print(len(train_feat)) "
   ]
  },
  {
   "cell_type": "code",
   "execution_count": 128,
   "metadata": {
    "scrolled": false
   },
   "outputs": [
    {
     "data": {
      "text/plain": [
       "['AvailableDiskSpace',\n",
       " 'CPUConsumed',\n",
       " 'LoadAverage',\n",
       " 'MemoryUsed',\n",
       " 'RSS',\n",
       " 'Vsize',\n",
       " 'RescheduleCounter',\n",
       " 'JobType_MCProductionBGx0',\n",
       " 'JobType_Merge',\n",
       " 'Site_ARC.DESY.de',\n",
       " 'Site_ARC.SIGNET.si',\n",
       " 'Site_CLOUD.AWS_Sydney.au',\n",
       " 'Site_CLOUD.AWS_Tokyo.jp',\n",
       " 'Site_CLOUD.AWS_Virginia.us',\n",
       " 'Site_CLOUD.CC1_Krakow.pl',\n",
       " 'Site_DIRAC.BINP.ru',\n",
       " 'Site_DIRAC.Beihang.cn',\n",
       " 'Site_DIRAC.CINVESTAV.mx',\n",
       " 'Site_DIRAC.Hokudai.jp',\n",
       " 'Site_DIRAC.IITG.in',\n",
       " 'Site_DIRAC.MIPT.ru',\n",
       " 'Site_DIRAC.Nagoya.jp',\n",
       " 'Site_DIRAC.Nara-WU.jp',\n",
       " 'Site_DIRAC.Niigata.jp',\n",
       " 'Site_DIRAC.Osaka-CU.jp',\n",
       " 'Site_DIRAC.PNNL.us',\n",
       " 'Site_DIRAC.RCNP.jp',\n",
       " 'Site_DIRAC.TIFR.in',\n",
       " 'Site_DIRAC.TMU.jp',\n",
       " 'Site_DIRAC.Test.jp',\n",
       " 'Site_DIRAC.Tokyo.jp',\n",
       " 'Site_DIRAC.UAS.mx',\n",
       " 'Site_DIRAC.UVic.ca',\n",
       " 'Site_DIRAC.Yamagata.jp',\n",
       " 'Site_DIRAC.Yonsei.kr',\n",
       " 'Site_Group.KEK2.jp',\n",
       " 'Site_LCG.CESNET.cz',\n",
       " 'Site_LCG.CNAF.it',\n",
       " 'Site_LCG.CYFRONET.pl',\n",
       " 'Site_LCG.Cosenza.it',\n",
       " 'Site_LCG.DESY.de',\n",
       " 'Site_LCG.Frascati.it',\n",
       " 'Site_LCG.HEPHY.at',\n",
       " 'Site_LCG.KEK.jp',\n",
       " 'Site_LCG.KEK2.jp',\n",
       " 'Site_LCG.KISTI.kr',\n",
       " 'Site_LCG.KIT.de',\n",
       " 'Site_LCG.KMI.jp',\n",
       " 'Site_LCG.Legnaro.it',\n",
       " 'Site_LCG.MPPMU.de',\n",
       " 'Site_LCG.McGill.ca',\n",
       " 'Site_LCG.Melbourne.au',\n",
       " 'Site_LCG.NCHC.tw',\n",
       " 'Site_LCG.NTU.tw',\n",
       " 'Site_LCG.Napoli.it',\n",
       " 'Site_LCG.Pisa.it',\n",
       " 'Site_LCG.Torino.it',\n",
       " 'Site_LCG.ULAKBIM.tr',\n",
       " 'Site_Multiple',\n",
       " 'Site_SSH.KMI.jp',\n",
       " 'UserPriority_2',\n",
       " 'UserPriority_3',\n",
       " 'UserPriority_5',\n",
       " 'UserPriority_9',\n",
       " 'UserPriority_10']"
      ]
     },
     "execution_count": 128,
     "metadata": {},
     "output_type": "execute_result"
    }
   ],
   "source": [
    "(train_feat)"
   ]
  },
  {
   "cell_type": "code",
   "execution_count": 51,
   "metadata": {},
   "outputs": [
    {
     "data": {
      "text/plain": [
       "[1.2199327316073184e-05,\n",
       " 0.007003391081386252,\n",
       " 0.01399162140129751,\n",
       " 0.020983672305745965,\n",
       " 0.027975631657191156]"
      ]
     },
     "execution_count": 51,
     "metadata": {},
     "output_type": "execute_result"
    }
   ],
   "source": [
    "takeoutdf.WallClockTime.tolist()[:5]"
   ]
  },
  {
   "cell_type": "code",
   "execution_count": 52,
   "metadata": {},
   "outputs": [
    {
     "name": "stdout",
     "output_type": "stream",
     "text": [
      "['Status_Failed']\n"
     ]
    }
   ],
   "source": [
    "# Label Column ('Status_Failed' is the label column)\n",
    "print(label_col)"
   ]
  },
  {
   "cell_type": "code",
   "execution_count": 53,
   "metadata": {},
   "outputs": [
    {
     "data": {
      "text/plain": [
       "(202677, 316)"
      ]
     },
     "execution_count": 53,
     "metadata": {},
     "output_type": "execute_result"
    }
   ],
   "source": [
    "takeoutdf.shape"
   ]
  },
  {
   "cell_type": "code",
   "execution_count": 54,
   "metadata": {},
   "outputs": [
    {
     "data": {
      "text/plain": [
       "0"
      ]
     },
     "execution_count": 54,
     "metadata": {},
     "output_type": "execute_result"
    }
   ],
   "source": [
    "takeoutdf.isnull().values.ravel().sum()"
   ]
  },
  {
   "cell_type": "code",
   "execution_count": 55,
   "metadata": {},
   "outputs": [],
   "source": [
    "takeoutdf = takeoutdf.dropna()"
   ]
  },
  {
   "cell_type": "code",
   "execution_count": 56,
   "metadata": {
    "scrolled": true
   },
   "outputs": [
    {
     "data": {
      "text/plain": [
       "0"
      ]
     },
     "execution_count": 56,
     "metadata": {},
     "output_type": "execute_result"
    }
   ],
   "source": [
    "takeoutdf.isnull().values.ravel().sum()"
   ]
  },
  {
   "cell_type": "code",
   "execution_count": 57,
   "metadata": {},
   "outputs": [
    {
     "data": {
      "text/plain": [
       "Index(['JobID', 'HeartBeatTime', 'AvailableDiskSpace', 'CPUConsumed',\n",
       "       'LoadAverage', 'MemoryUsed', 'RSS', 'Vsize', 'WallClockTime',\n",
       "       'RescheduleCounter',\n",
       "       ...\n",
       "       'Site_LCG.Torino.it', 'Site_LCG.ULAKBIM.tr', 'Site_Multiple',\n",
       "       'Site_SSH.KMI.jp', 'Status_Failed', 'UserPriority_2', 'UserPriority_3',\n",
       "       'UserPriority_5', 'UserPriority_9', 'UserPriority_10'],\n",
       "      dtype='object', length=316)"
      ]
     },
     "execution_count": 57,
     "metadata": {},
     "output_type": "execute_result"
    }
   ],
   "source": [
    "takeoutdf.columns"
   ]
  },
  {
   "cell_type": "markdown",
   "metadata": {},
   "source": [
    "########################################################\n",
    "takeoutdf.to_pickle('takeoutdf_for_test_samples.pickle')\n",
    "########################################################"
   ]
  },
  {
   "cell_type": "code",
   "execution_count": 58,
   "metadata": {},
   "outputs": [],
   "source": [
    "# Start of X_test"
   ]
  },
  {
   "cell_type": "code",
   "execution_count": 59,
   "metadata": {},
   "outputs": [],
   "source": [
    "takeoutdfgrouped = takeoutdf.groupby('JobID')"
   ]
  },
  {
   "cell_type": "code",
   "execution_count": 60,
   "metadata": {},
   "outputs": [
    {
     "name": "stdout",
     "output_type": "stream",
     "text": [
      "CPU times: user 57.7 s, sys: 296 ms, total: 58 s\n",
      "Wall time: 58 s\n"
     ]
    }
   ],
   "source": [
    "%%time\n",
    "collectXtest = takeoutdfgrouped.apply(samples_features)"
   ]
  },
  {
   "cell_type": "code",
   "execution_count": null,
   "metadata": {},
   "outputs": [],
   "source": [
    "#Testcase\n",
    "gvb = pd.DataFrame({'JobID': [2,3,4,2,3,4], 'A':[12,23,34,45,56,67], 'B':[90,90,90,90,90,90]})"
   ]
  },
  {
   "cell_type": "code",
   "execution_count": null,
   "metadata": {},
   "outputs": [],
   "source": [
    "# gvb.groupby('JobID').apply(sam)"
   ]
  },
  {
   "cell_type": "code",
   "execution_count": null,
   "metadata": {},
   "outputs": [],
   "source": [
    "takeoutdfgrouped.tolist()[:1]"
   ]
  },
  {
   "cell_type": "code",
   "execution_count": 61,
   "metadata": {},
   "outputs": [
    {
     "data": {
      "text/plain": [
       "(23, 1, 65)"
      ]
     },
     "execution_count": 61,
     "metadata": {},
     "output_type": "execute_result"
    }
   ],
   "source": [
    "collectXtest.tolist()[100].shape"
   ]
  },
  {
   "cell_type": "code",
   "execution_count": 62,
   "metadata": {},
   "outputs": [],
   "source": [
    "X_test=[]"
   ]
  },
  {
   "cell_type": "code",
   "execution_count": 63,
   "metadata": {},
   "outputs": [
    {
     "name": "stdout",
     "output_type": "stream",
     "text": [
      "CPU times: user 67.6 ms, sys: 20 ms, total: 87.6 ms\n",
      "Wall time: 86.4 ms\n"
     ]
    }
   ],
   "source": [
    "%%time\n",
    "for x in collectXtest:\n",
    "    #len(x)\n",
    "    for i in x:\n",
    "        X_test.append(i)"
   ]
  },
  {
   "cell_type": "code",
   "execution_count": 64,
   "metadata": {},
   "outputs": [
    {
     "data": {
      "text/plain": [
       "(202677, 1, 65)"
      ]
     },
     "execution_count": 64,
     "metadata": {},
     "output_type": "execute_result"
    }
   ],
   "source": [
    "X_test = np.array(X_test)\n",
    "X_test.shape"
   ]
  },
  {
   "cell_type": "code",
   "execution_count": 65,
   "metadata": {},
   "outputs": [],
   "source": [
    "## X_test is ready"
   ]
  },
  {
   "cell_type": "code",
   "execution_count": 66,
   "metadata": {},
   "outputs": [],
   "source": [
    "## Make Y_test"
   ]
  },
  {
   "cell_type": "code",
   "execution_count": 67,
   "metadata": {},
   "outputs": [
    {
     "name": "stdout",
     "output_type": "stream",
     "text": [
      "CPU times: user 52.7 s, sys: 116 ms, total: 52.8 s\n",
      "Wall time: 52.8 s\n"
     ]
    }
   ],
   "source": [
    "%%time\n",
    "collectlabel = takeoutdfgrouped.apply(samples_label)"
   ]
  },
  {
   "cell_type": "code",
   "execution_count": 68,
   "metadata": {},
   "outputs": [
    {
     "data": {
      "text/plain": [
       "(23, 1, 1)"
      ]
     },
     "execution_count": 68,
     "metadata": {},
     "output_type": "execute_result"
    }
   ],
   "source": [
    "collectlabel.tolist()[100].shape"
   ]
  },
  {
   "cell_type": "code",
   "execution_count": 69,
   "metadata": {},
   "outputs": [],
   "source": [
    "Y_t=[]"
   ]
  },
  {
   "cell_type": "code",
   "execution_count": 70,
   "metadata": {},
   "outputs": [
    {
     "name": "stdout",
     "output_type": "stream",
     "text": [
      "CPU times: user 76.2 ms, sys: 4 ms, total: 80.2 ms\n",
      "Wall time: 79.4 ms\n"
     ]
    }
   ],
   "source": [
    "%%time\n",
    "for x in collectlabel:\n",
    "    #len(x)\n",
    "    for i in x:\n",
    "        Y_t.append(i)"
   ]
  },
  {
   "cell_type": "code",
   "execution_count": 71,
   "metadata": {},
   "outputs": [
    {
     "data": {
      "text/plain": [
       "(202677, 1, 1)"
      ]
     },
     "execution_count": 71,
     "metadata": {},
     "output_type": "execute_result"
    }
   ],
   "source": [
    "Y_t = np.array(Y_t)\n",
    "Y_t.shape"
   ]
  },
  {
   "cell_type": "code",
   "execution_count": 72,
   "metadata": {},
   "outputs": [
    {
     "data": {
      "text/plain": [
       "(202677, 1)"
      ]
     },
     "execution_count": 72,
     "metadata": {},
     "output_type": "execute_result"
    }
   ],
   "source": [
    "Y_test = np.array([x[0][0] for x in Y_t]).reshape(len(Y_t),1)\n",
    "Y_test.shape"
   ]
  },
  {
   "cell_type": "code",
   "execution_count": 73,
   "metadata": {
    "scrolled": true
   },
   "outputs": [
    {
     "data": {
      "text/plain": [
       "array([[1],\n",
       "       [1],\n",
       "       [1],\n",
       "       [1],\n",
       "       [1]])"
      ]
     },
     "execution_count": 73,
     "metadata": {},
     "output_type": "execute_result"
    }
   ],
   "source": [
    "Y_test[:5]"
   ]
  },
  {
   "cell_type": "code",
   "execution_count": 74,
   "metadata": {},
   "outputs": [],
   "source": [
    "## Y_test is ready"
   ]
  },
  {
   "cell_type": "code",
   "execution_count": 75,
   "metadata": {},
   "outputs": [
    {
     "data": {
      "text/plain": [
       "((202677, 1, 65), (202677, 1))"
      ]
     },
     "execution_count": 75,
     "metadata": {},
     "output_type": "execute_result"
    }
   ],
   "source": [
    "X_test.shape, Y_test.shape"
   ]
  },
  {
   "cell_type": "code",
   "execution_count": 76,
   "metadata": {},
   "outputs": [
    {
     "data": {
      "text/plain": [
       "((469777, 1, 65), (469777, 1))"
      ]
     },
     "execution_count": 76,
     "metadata": {},
     "output_type": "execute_result"
    }
   ],
   "source": [
    "X_final.shape, Y_final.shape"
   ]
  },
  {
   "cell_type": "code",
   "execution_count": 77,
   "metadata": {},
   "outputs": [
    {
     "data": {
      "text/plain": [
       "(array([95434]), 202677)"
      ]
     },
     "execution_count": 77,
     "metadata": {},
     "output_type": "execute_result"
    }
   ],
   "source": [
    "sum(Y_test[:]), len(Y_test)"
   ]
  },
  {
   "cell_type": "code",
   "execution_count": 78,
   "metadata": {},
   "outputs": [],
   "source": [
    "del Y_t"
   ]
  },
  {
   "cell_type": "markdown",
   "metadata": {},
   "source": [
    "# End test set from 'takeoutdf'"
   ]
  },
  {
   "cell_type": "markdown",
   "metadata": {},
   "source": [
    "## Build Model"
   ]
  },
  {
   "cell_type": "code",
   "execution_count": 79,
   "metadata": {},
   "outputs": [],
   "source": [
    "input_length = X_final.shape[1]\n",
    "\n",
    "input_dim = X_final.shape[2]\n",
    "\n",
    "# Output dimensions is the shape of a single output vector\n",
    "# In this case it's just 1, but it could be more\n",
    "output_dim = len(Y_final[0])"
   ]
  },
  {
   "cell_type": "code",
   "execution_count": 80,
   "metadata": {},
   "outputs": [],
   "source": [
    "# NO NEED TO SPLIT, SINCE TESTING WILL OCCUR ON leftoutdf taken out earlier\n",
    "\n",
    "#from sklearn.model_selection import train_test_split\n",
    "\n",
    "#X_train,X_test,y_train,y_test = train_test_split(X_final,Y_final,test_size=0.33,random_state=24)"
   ]
  },
  {
   "cell_type": "code",
   "execution_count": 81,
   "metadata": {},
   "outputs": [],
   "source": [
    "#X_train.shape,y_train.shape, X_test.shape,  y_test.shape"
   ]
  },
  {
   "cell_type": "code",
   "execution_count": 82,
   "metadata": {},
   "outputs": [
    {
     "data": {
      "text/plain": [
       "0.47002088224838595"
      ]
     },
     "execution_count": 82,
     "metadata": {},
     "output_type": "execute_result"
    }
   ],
   "source": [
    "sum([x[0] for x in Y_final])/ len(Y_final)"
   ]
  },
  {
   "cell_type": "code",
   "execution_count": 83,
   "metadata": {},
   "outputs": [
    {
     "data": {
      "text/plain": [
       "array([[0],\n",
       "       [1],\n",
       "       [0],\n",
       "       [1],\n",
       "       [0]])"
      ]
     },
     "execution_count": 83,
     "metadata": {},
     "output_type": "execute_result"
    }
   ],
   "source": [
    "Y_final[:5]"
   ]
  },
  {
   "cell_type": "code",
   "execution_count": 84,
   "metadata": {},
   "outputs": [
    {
     "name": "stderr",
     "output_type": "stream",
     "text": [
      "/data/home/a1singh/anaconda3/envs/keras/lib/python3.5/site-packages/h5py/__init__.py:36: FutureWarning: Conversion of the second argument of issubdtype from `float` to `np.floating` is deprecated. In future, it will be treated as `np.float64 == np.dtype(float).type`.\n",
      "  from ._conv import register_converters as _register_converters\n",
      "Using TensorFlow backend.\n"
     ]
    },
    {
     "data": {
      "text/plain": [
       "(65, 1, 1)"
      ]
     },
     "execution_count": 84,
     "metadata": {},
     "output_type": "execute_result"
    }
   ],
   "source": [
    "from keras.models import Model, Sequential\n",
    "from keras.layers import LSTM, Dense, Embedding, Dropout\n",
    "input_dim, input_length, output_dim"
   ]
  },
  {
   "cell_type": "code",
   "execution_count": 85,
   "metadata": {},
   "outputs": [],
   "source": [
    "# Model 1\n",
    "def create_model(input_dim = input_dim, input_length = input_length, output_dim=output_dim):\n",
    "    print ('Creating model...')\n",
    "    model = Sequential()\n",
    "    model.add(LSTM(20, input_shape=(input_length,input_dim),return_sequences=True))\n",
    "    model.add(LSTM(20))\n",
    "    model.add(Dense(output_dim, activation='sigmoid'))\n",
    "\n",
    "    print ('Compiling...')\n",
    "    model.compile(loss='binary_crossentropy',\n",
    "                  optimizer='adam',\n",
    "                  metrics=['binary_accuracy'])\n",
    "    return model"
   ]
  },
  {
   "cell_type": "code",
   "execution_count": 100,
   "metadata": {},
   "outputs": [],
   "source": [
    "# Model 2\n",
    "def create_model(input_dim = input_dim, input_length = input_length, output_dim=output_dim):\n",
    "    print ('Creating model...')\n",
    "    model = Sequential()\n",
    "    model.add(LSTM(50, input_shape=(input_length,input_dim),return_sequences=True))\n",
    "    model.add(LSTM(50, input_shape=(input_length,input_dim),return_sequences=True))\n",
    "    model.add(LSTM(50, input_shape=(input_length,input_dim),return_sequences=True))\n",
    "    model.add(LSTM(50))\n",
    "    model.add(Dense(output_dim, activation='sigmoid'))\n",
    "\n",
    "    print ('Compiling...')\n",
    "    model.compile(loss='binary_crossentropy',\n",
    "                  optimizer='adam',\n",
    "                  metrics=['binary_accuracy'])\n",
    "    return model"
   ]
  },
  {
   "cell_type": "code",
   "execution_count": 112,
   "metadata": {},
   "outputs": [],
   "source": [
    "# Model 3\n",
    "def create_model(input_dim = input_dim, input_length = input_length, output_dim=output_dim):\n",
    "    print ('Creating model...')\n",
    "    model = Sequential()\n",
    "    model.add(LSTM(100, input_shape=(input_length,input_dim),return_sequences=True))\n",
    "    model.add(LSTM(100, input_shape=(input_length,input_dim),return_sequences=True))\n",
    "    model.add(LSTM(100, input_shape=(input_length,input_dim),return_sequences=True))\n",
    "    model.add(LSTM(100, input_shape=(input_length,input_dim),return_sequences=True))\n",
    "    model.add(LSTM(100, input_shape=(input_length,input_dim),return_sequences=True))\n",
    "    model.add(LSTM(100))\n",
    "    model.add(Dense(output_dim, activation='sigmoid'))\n",
    "\n",
    "    print ('Compiling...')\n",
    "    model.compile(loss='binary_crossentropy',\n",
    "                  optimizer='adam',\n",
    "                  metrics=['binary_accuracy'])\n",
    "    return model"
   ]
  },
  {
   "cell_type": "code",
   "execution_count": 113,
   "metadata": {},
   "outputs": [
    {
     "name": "stdout",
     "output_type": "stream",
     "text": [
      "Creating model...\n",
      "Compiling...\n"
     ]
    }
   ],
   "source": [
    "model = create_model()"
   ]
  },
  {
   "cell_type": "code",
   "execution_count": 114,
   "metadata": {},
   "outputs": [
    {
     "name": "stdout",
     "output_type": "stream",
     "text": [
      "Fitting model...\n",
      "Train on 422799 samples, validate on 46978 samples\n",
      "Epoch 1/100\n",
      "422799/422799 [==============================] - 49s 115us/step - loss: 0.3358 - binary_accuracy: 0.8473 - val_loss: 0.2893 - val_binary_accuracy: 0.8787\n",
      "Epoch 2/100\n",
      "422799/422799 [==============================] - 46s 110us/step - loss: 0.2610 - binary_accuracy: 0.8922 - val_loss: 0.2386 - val_binary_accuracy: 0.9079\n",
      "Epoch 3/100\n",
      "422799/422799 [==============================] - 47s 110us/step - loss: 0.2364 - binary_accuracy: 0.9032 - val_loss: 0.2988 - val_binary_accuracy: 0.8569\n",
      "Epoch 4/100\n",
      "422799/422799 [==============================] - 47s 111us/step - loss: 0.2440 - binary_accuracy: 0.8952 - val_loss: 0.2323 - val_binary_accuracy: 0.9053\n",
      "Epoch 5/100\n",
      "422799/422799 [==============================] - 47s 111us/step - loss: 0.2449 - binary_accuracy: 0.8971 - val_loss: 0.2255 - val_binary_accuracy: 0.9109\n",
      "Epoch 6/100\n",
      "422799/422799 [==============================] - 47s 111us/step - loss: 0.2208 - binary_accuracy: 0.9101 - val_loss: 0.2241 - val_binary_accuracy: 0.9080\n",
      "Epoch 7/100\n",
      "422799/422799 [==============================] - 46s 110us/step - loss: 0.2150 - binary_accuracy: 0.9133 - val_loss: 0.2214 - val_binary_accuracy: 0.9098\n",
      "Epoch 8/100\n",
      "422799/422799 [==============================] - 44s 105us/step - loss: 0.2122 - binary_accuracy: 0.9139 - val_loss: 0.2047 - val_binary_accuracy: 0.9207\n",
      "Epoch 9/100\n",
      "422799/422799 [==============================] - 46s 108us/step - loss: 0.2104 - binary_accuracy: 0.9141 - val_loss: 0.2756 - val_binary_accuracy: 0.8794\n",
      "Epoch 10/100\n",
      "422799/422799 [==============================] - 46s 110us/step - loss: 0.2065 - binary_accuracy: 0.9167 - val_loss: 0.1967 - val_binary_accuracy: 0.9216\n",
      "Epoch 11/100\n",
      "422799/422799 [==============================] - 46s 109us/step - loss: 0.2006 - binary_accuracy: 0.9205 - val_loss: 0.1999 - val_binary_accuracy: 0.9182\n",
      "Epoch 12/100\n",
      "422799/422799 [==============================] - 46s 109us/step - loss: 0.1953 - binary_accuracy: 0.9234 - val_loss: 0.1897 - val_binary_accuracy: 0.9254\n",
      "Epoch 13/100\n",
      "422799/422799 [==============================] - 47s 111us/step - loss: 0.1873 - binary_accuracy: 0.9273 - val_loss: 0.1803 - val_binary_accuracy: 0.9318\n",
      "Epoch 14/100\n",
      "422799/422799 [==============================] - 46s 109us/step - loss: 0.1835 - binary_accuracy: 0.9295 - val_loss: 0.1820 - val_binary_accuracy: 0.9280\n",
      "Epoch 15/100\n",
      "422799/422799 [==============================] - 47s 111us/step - loss: 0.1808 - binary_accuracy: 0.9305 - val_loss: 0.1737 - val_binary_accuracy: 0.9337\n",
      "Epoch 16/100\n",
      "422799/422799 [==============================] - 47s 110us/step - loss: 0.1779 - binary_accuracy: 0.9319 - val_loss: 0.1728 - val_binary_accuracy: 0.9349\n",
      "Epoch 17/100\n",
      "422799/422799 [==============================] - 46s 110us/step - loss: 0.1763 - binary_accuracy: 0.9321 - val_loss: 0.1764 - val_binary_accuracy: 0.9284\n",
      "Epoch 18/100\n",
      "422799/422799 [==============================] - 47s 110us/step - loss: 0.1768 - binary_accuracy: 0.9319 - val_loss: 0.1768 - val_binary_accuracy: 0.9338\n",
      "Epoch 19/100\n",
      "422799/422799 [==============================] - 46s 109us/step - loss: 0.1722 - binary_accuracy: 0.9345 - val_loss: 0.1741 - val_binary_accuracy: 0.9313\n",
      "Epoch 20/100\n",
      "422799/422799 [==============================] - 46s 109us/step - loss: 0.1711 - binary_accuracy: 0.9350 - val_loss: 0.1819 - val_binary_accuracy: 0.9264\n",
      "Epoch 21/100\n",
      "422799/422799 [==============================] - 47s 111us/step - loss: 0.1678 - binary_accuracy: 0.9363 - val_loss: 0.1721 - val_binary_accuracy: 0.9336\n",
      "Epoch 22/100\n",
      "422799/422799 [==============================] - 47s 110us/step - loss: 0.1675 - binary_accuracy: 0.9364 - val_loss: 0.1807 - val_binary_accuracy: 0.9282\n",
      "Epoch 23/100\n",
      "422799/422799 [==============================] - 46s 109us/step - loss: 0.1656 - binary_accuracy: 0.9372 - val_loss: 0.1644 - val_binary_accuracy: 0.9405\n",
      "Epoch 24/100\n",
      "422799/422799 [==============================] - 47s 110us/step - loss: 0.1627 - binary_accuracy: 0.9391 - val_loss: 0.1606 - val_binary_accuracy: 0.9413\n",
      "Epoch 25/100\n",
      "422799/422799 [==============================] - 47s 110us/step - loss: 0.1628 - binary_accuracy: 0.9392 - val_loss: 0.1620 - val_binary_accuracy: 0.9388\n",
      "Epoch 26/100\n",
      "422799/422799 [==============================] - 46s 109us/step - loss: 0.1605 - binary_accuracy: 0.9400 - val_loss: 0.1726 - val_binary_accuracy: 0.9358\n",
      "Epoch 27/100\n",
      "422799/422799 [==============================] - 46s 110us/step - loss: 0.1593 - binary_accuracy: 0.9406 - val_loss: 0.1547 - val_binary_accuracy: 0.9409\n",
      "Epoch 28/100\n",
      "422799/422799 [==============================] - 46s 108us/step - loss: 0.1578 - binary_accuracy: 0.9414 - val_loss: 0.1568 - val_binary_accuracy: 0.9440\n",
      "Epoch 29/100\n",
      "422799/422799 [==============================] - 46s 109us/step - loss: 0.1562 - binary_accuracy: 0.9417 - val_loss: 0.1521 - val_binary_accuracy: 0.9452\n",
      "Epoch 30/100\n",
      "422799/422799 [==============================] - 46s 109us/step - loss: 0.1551 - binary_accuracy: 0.9426 - val_loss: 0.1524 - val_binary_accuracy: 0.9419\n",
      "Epoch 31/100\n",
      "422799/422799 [==============================] - 46s 108us/step - loss: 0.1545 - binary_accuracy: 0.9427 - val_loss: 0.1490 - val_binary_accuracy: 0.9443\n",
      "Epoch 32/100\n",
      "422799/422799 [==============================] - 46s 109us/step - loss: 0.1528 - binary_accuracy: 0.9435 - val_loss: 0.1516 - val_binary_accuracy: 0.9419\n",
      "Epoch 33/100\n",
      "422799/422799 [==============================] - 46s 109us/step - loss: 0.1509 - binary_accuracy: 0.9445 - val_loss: 0.1483 - val_binary_accuracy: 0.9450\n",
      "Epoch 34/100\n",
      "422799/422799 [==============================] - 45s 106us/step - loss: 0.1510 - binary_accuracy: 0.9444 - val_loss: 0.1537 - val_binary_accuracy: 0.9416\n",
      "Epoch 35/100\n",
      "422799/422799 [==============================] - 45s 107us/step - loss: 0.1546 - binary_accuracy: 0.9424 - val_loss: 0.1481 - val_binary_accuracy: 0.9469\n",
      "Epoch 36/100\n",
      "422799/422799 [==============================] - 46s 109us/step - loss: 0.1495 - binary_accuracy: 0.9450 - val_loss: 0.1558 - val_binary_accuracy: 0.9403\n",
      "Epoch 37/100\n",
      "422799/422799 [==============================] - 46s 109us/step - loss: 0.1480 - binary_accuracy: 0.9457 - val_loss: 0.1439 - val_binary_accuracy: 0.9480\n",
      "Epoch 38/100\n",
      "422799/422799 [==============================] - 46s 109us/step - loss: 0.1473 - binary_accuracy: 0.9459 - val_loss: 0.1494 - val_binary_accuracy: 0.9439\n",
      "Epoch 39/100\n",
      "422799/422799 [==============================] - 47s 110us/step - loss: 0.1471 - binary_accuracy: 0.9461 - val_loss: 0.1415 - val_binary_accuracy: 0.9491\n",
      "Epoch 40/100\n",
      "422799/422799 [==============================] - 46s 108us/step - loss: 0.1449 - binary_accuracy: 0.9470 - val_loss: 0.1451 - val_binary_accuracy: 0.9473\n",
      "Epoch 41/100\n",
      "422799/422799 [==============================] - 47s 110us/step - loss: 0.1445 - binary_accuracy: 0.9472 - val_loss: 0.1416 - val_binary_accuracy: 0.9484\n",
      "Epoch 42/100\n",
      "422799/422799 [==============================] - 46s 108us/step - loss: 0.1431 - binary_accuracy: 0.9480 - val_loss: 0.1401 - val_binary_accuracy: 0.9496\n",
      "Epoch 43/100\n",
      "422799/422799 [==============================] - 47s 110us/step - loss: 0.1427 - binary_accuracy: 0.9480 - val_loss: 0.1391 - val_binary_accuracy: 0.9499\n",
      "Epoch 44/100\n",
      "422799/422799 [==============================] - 47s 110us/step - loss: 0.1413 - binary_accuracy: 0.9485 - val_loss: 0.1418 - val_binary_accuracy: 0.9478\n",
      "Epoch 45/100\n",
      "422799/422799 [==============================] - 46s 109us/step - loss: 0.1407 - binary_accuracy: 0.9485 - val_loss: 0.1430 - val_binary_accuracy: 0.9461\n",
      "Epoch 46/100\n",
      "422799/422799 [==============================] - 46s 109us/step - loss: 0.1406 - binary_accuracy: 0.9489 - val_loss: 0.1412 - val_binary_accuracy: 0.9488\n",
      "Epoch 47/100\n",
      "422799/422799 [==============================] - 44s 103us/step - loss: 0.1395 - binary_accuracy: 0.9492 - val_loss: 0.1353 - val_binary_accuracy: 0.9506\n",
      "Epoch 48/100\n",
      "422799/422799 [==============================] - 46s 110us/step - loss: 0.1386 - binary_accuracy: 0.9499 - val_loss: 0.1360 - val_binary_accuracy: 0.9513\n",
      "Epoch 49/100\n",
      "422799/422799 [==============================] - 46s 110us/step - loss: 0.1380 - binary_accuracy: 0.9498 - val_loss: 0.1333 - val_binary_accuracy: 0.9514\n"
     ]
    },
    {
     "name": "stdout",
     "output_type": "stream",
     "text": [
      "Epoch 50/100\n",
      "422799/422799 [==============================] - 46s 109us/step - loss: 0.1382 - binary_accuracy: 0.9499 - val_loss: 0.1598 - val_binary_accuracy: 0.9390\n",
      "Epoch 51/100\n",
      "422799/422799 [==============================] - 46s 110us/step - loss: 0.1380 - binary_accuracy: 0.9500 - val_loss: 0.1401 - val_binary_accuracy: 0.9505\n",
      "Epoch 52/100\n",
      "422799/422799 [==============================] - 46s 109us/step - loss: 0.1374 - binary_accuracy: 0.9502 - val_loss: 0.1515 - val_binary_accuracy: 0.9429\n",
      "Epoch 53/100\n",
      "422799/422799 [==============================] - 47s 110us/step - loss: 0.1366 - binary_accuracy: 0.9506 - val_loss: 0.1742 - val_binary_accuracy: 0.9311\n",
      "Epoch 54/100\n",
      "422799/422799 [==============================] - 46s 109us/step - loss: 0.1352 - binary_accuracy: 0.9511 - val_loss: 0.1361 - val_binary_accuracy: 0.9506\n",
      "Epoch 55/100\n",
      "422799/422799 [==============================] - 46s 110us/step - loss: 0.1346 - binary_accuracy: 0.9515 - val_loss: 0.1361 - val_binary_accuracy: 0.9492\n",
      "Epoch 56/100\n",
      "422799/422799 [==============================] - 46s 109us/step - loss: 0.1345 - binary_accuracy: 0.9513 - val_loss: 0.1299 - val_binary_accuracy: 0.9541\n",
      "Epoch 57/100\n",
      "422799/422799 [==============================] - 47s 110us/step - loss: 0.1335 - binary_accuracy: 0.9519 - val_loss: 0.1337 - val_binary_accuracy: 0.9503\n",
      "Epoch 58/100\n",
      "422799/422799 [==============================] - 47s 110us/step - loss: 0.1334 - binary_accuracy: 0.9519 - val_loss: 0.1330 - val_binary_accuracy: 0.9517\n",
      "Epoch 59/100\n",
      "422799/422799 [==============================] - 47s 110us/step - loss: 0.1332 - binary_accuracy: 0.9525 - val_loss: 0.1364 - val_binary_accuracy: 0.9501\n",
      "Epoch 60/100\n",
      "422799/422799 [==============================] - 46s 109us/step - loss: 0.1327 - binary_accuracy: 0.9522 - val_loss: 0.1331 - val_binary_accuracy: 0.9521\n",
      "Epoch 61/100\n",
      "422799/422799 [==============================] - 46s 109us/step - loss: 0.1315 - binary_accuracy: 0.9530 - val_loss: 0.1305 - val_binary_accuracy: 0.9528\n",
      "Epoch 62/100\n",
      "422799/422799 [==============================] - 46s 109us/step - loss: 0.1318 - binary_accuracy: 0.9527 - val_loss: 0.1326 - val_binary_accuracy: 0.9523\n",
      "Epoch 63/100\n",
      "422799/422799 [==============================] - 46s 110us/step - loss: 0.1306 - binary_accuracy: 0.9531 - val_loss: 0.1442 - val_binary_accuracy: 0.9471\n",
      "Epoch 64/100\n",
      "422799/422799 [==============================] - 46s 108us/step - loss: 0.1308 - binary_accuracy: 0.9532 - val_loss: 0.1295 - val_binary_accuracy: 0.9543\n",
      "Epoch 65/100\n",
      "422799/422799 [==============================] - 46s 109us/step - loss: 0.1298 - binary_accuracy: 0.9535 - val_loss: 0.1254 - val_binary_accuracy: 0.9555\n",
      "Epoch 66/100\n",
      "422799/422799 [==============================] - 46s 110us/step - loss: 0.1298 - binary_accuracy: 0.9538 - val_loss: 0.1238 - val_binary_accuracy: 0.9563\n",
      "Epoch 67/100\n",
      "422799/422799 [==============================] - 45s 107us/step - loss: 0.1294 - binary_accuracy: 0.9538 - val_loss: 0.1271 - val_binary_accuracy: 0.9550\n",
      "Epoch 68/100\n",
      "422799/422799 [==============================] - 46s 109us/step - loss: 0.1284 - binary_accuracy: 0.9542 - val_loss: 0.1250 - val_binary_accuracy: 0.9566\n",
      "Epoch 69/100\n",
      "422799/422799 [==============================] - 45s 107us/step - loss: 0.1295 - binary_accuracy: 0.9538 - val_loss: 0.1319 - val_binary_accuracy: 0.9519\n",
      "Epoch 70/100\n",
      "422799/422799 [==============================] - 46s 109us/step - loss: 0.1314 - binary_accuracy: 0.9528 - val_loss: 0.1303 - val_binary_accuracy: 0.9525\n",
      "Epoch 71/100\n",
      "422799/422799 [==============================] - 46s 108us/step - loss: 0.1290 - binary_accuracy: 0.9539 - val_loss: 0.1399 - val_binary_accuracy: 0.9480\n",
      "Epoch 72/100\n",
      "422799/422799 [==============================] - 46s 109us/step - loss: 0.1283 - binary_accuracy: 0.9544 - val_loss: 0.1316 - val_binary_accuracy: 0.9538\n",
      "Epoch 73/100\n",
      "422799/422799 [==============================] - 43s 101us/step - loss: 0.1288 - binary_accuracy: 0.9540 - val_loss: 0.1288 - val_binary_accuracy: 0.9542\n",
      "Epoch 74/100\n",
      "422799/422799 [==============================] - 46s 108us/step - loss: 0.1277 - binary_accuracy: 0.9544 - val_loss: 0.1271 - val_binary_accuracy: 0.9547\n",
      "Epoch 75/100\n",
      "422799/422799 [==============================] - 45s 108us/step - loss: 0.1274 - binary_accuracy: 0.9545 - val_loss: 0.1287 - val_binary_accuracy: 0.9552\n",
      "Epoch 76/100\n",
      "422799/422799 [==============================] - 46s 108us/step - loss: 0.1263 - binary_accuracy: 0.9548 - val_loss: 0.1297 - val_binary_accuracy: 0.9533\n",
      "Epoch 77/100\n",
      "422799/422799 [==============================] - 46s 109us/step - loss: 0.1266 - binary_accuracy: 0.9549 - val_loss: 0.1265 - val_binary_accuracy: 0.9557\n",
      "Epoch 78/100\n",
      "422799/422799 [==============================] - 46s 108us/step - loss: 0.1262 - binary_accuracy: 0.9549 - val_loss: 0.1279 - val_binary_accuracy: 0.9540\n",
      "Epoch 79/100\n",
      "422799/422799 [==============================] - 46s 109us/step - loss: 0.1259 - binary_accuracy: 0.9552 - val_loss: 0.1232 - val_binary_accuracy: 0.9564\n",
      "Epoch 80/100\n",
      "422799/422799 [==============================] - 46s 109us/step - loss: 0.1252 - binary_accuracy: 0.9556 - val_loss: 0.1245 - val_binary_accuracy: 0.9556\n",
      "Epoch 81/100\n",
      "422799/422799 [==============================] - 46s 108us/step - loss: 0.1253 - binary_accuracy: 0.9554 - val_loss: 0.1251 - val_binary_accuracy: 0.9549\n",
      "Epoch 82/100\n",
      "422799/422799 [==============================] - 46s 109us/step - loss: 0.1245 - binary_accuracy: 0.9556 - val_loss: 0.1231 - val_binary_accuracy: 0.9574\n",
      "Epoch 83/100\n",
      "422799/422799 [==============================] - 46s 109us/step - loss: 0.1242 - binary_accuracy: 0.9559 - val_loss: 0.1236 - val_binary_accuracy: 0.9560\n",
      "Epoch 84/100\n",
      "422799/422799 [==============================] - 46s 109us/step - loss: 0.1240 - binary_accuracy: 0.9558 - val_loss: 0.1210 - val_binary_accuracy: 0.9578\n",
      "Epoch 85/100\n",
      "422799/422799 [==============================] - 46s 108us/step - loss: 0.1241 - binary_accuracy: 0.9558 - val_loss: 0.1224 - val_binary_accuracy: 0.9577\n",
      "Epoch 86/100\n",
      "422799/422799 [==============================] - 44s 104us/step - loss: 0.1234 - binary_accuracy: 0.9561 - val_loss: 0.1244 - val_binary_accuracy: 0.9558\n",
      "Epoch 87/100\n",
      "422799/422799 [==============================] - 44s 105us/step - loss: 0.1238 - binary_accuracy: 0.9560 - val_loss: 0.1225 - val_binary_accuracy: 0.9572\n",
      "Epoch 88/100\n",
      "422799/422799 [==============================] - 45s 107us/step - loss: 0.1230 - binary_accuracy: 0.9562 - val_loss: 0.1261 - val_binary_accuracy: 0.9541\n",
      "Epoch 89/100\n",
      "422799/422799 [==============================] - 46s 108us/step - loss: 0.1227 - binary_accuracy: 0.9564 - val_loss: 0.1220 - val_binary_accuracy: 0.9560\n",
      "Epoch 90/100\n",
      "422799/422799 [==============================] - 46s 108us/step - loss: 0.1223 - binary_accuracy: 0.9564 - val_loss: 0.1215 - val_binary_accuracy: 0.9572\n",
      "Epoch 91/100\n",
      "422799/422799 [==============================] - 46s 109us/step - loss: 0.1218 - binary_accuracy: 0.9566 - val_loss: 0.1268 - val_binary_accuracy: 0.9542\n",
      "Epoch 92/100\n",
      "422799/422799 [==============================] - 46s 108us/step - loss: 0.1218 - binary_accuracy: 0.9567 - val_loss: 0.1246 - val_binary_accuracy: 0.9547\n",
      "Epoch 93/100\n",
      "422799/422799 [==============================] - 46s 109us/step - loss: 0.1222 - binary_accuracy: 0.9566 - val_loss: 0.1235 - val_binary_accuracy: 0.9557\n",
      "Epoch 94/100\n",
      "422799/422799 [==============================] - 46s 108us/step - loss: 0.1217 - binary_accuracy: 0.9566 - val_loss: 0.1279 - val_binary_accuracy: 0.9544\n",
      "Epoch 95/100\n",
      "422799/422799 [==============================] - 45s 107us/step - loss: 0.1211 - binary_accuracy: 0.9570 - val_loss: 0.1223 - val_binary_accuracy: 0.9570\n",
      "Epoch 96/100\n",
      "422799/422799 [==============================] - 45s 108us/step - loss: 0.1209 - binary_accuracy: 0.9570 - val_loss: 0.1280 - val_binary_accuracy: 0.9547\n",
      "Epoch 97/100\n",
      "422799/422799 [==============================] - 46s 109us/step - loss: 0.1207 - binary_accuracy: 0.9571 - val_loss: 0.1236 - val_binary_accuracy: 0.9571\n",
      "Epoch 98/100\n",
      "422799/422799 [==============================] - 46s 109us/step - loss: 0.1216 - binary_accuracy: 0.9567 - val_loss: 0.1205 - val_binary_accuracy: 0.9577\n",
      "Epoch 99/100\n"
     ]
    },
    {
     "name": "stdout",
     "output_type": "stream",
     "text": [
      "422799/422799 [==============================] - 47s 110us/step - loss: 0.1200 - binary_accuracy: 0.9572 - val_loss: 0.1205 - val_binary_accuracy: 0.9588\n",
      "Epoch 100/100\n",
      "422799/422799 [==============================] - 47s 112us/step - loss: 0.1198 - binary_accuracy: 0.9575 - val_loss: 0.1173 - val_binary_accuracy: 0.9594\n",
      "CPU times: user 10h 10min 5s, sys: 2h 13min 56s, total: 12h 24min 1s\n",
      "Wall time: 1h 16min 48s\n"
     ]
    }
   ],
   "source": [
    "%%time\n",
    "\n",
    "print ('Fitting model...')\n",
    "history = model.fit(X_final,Y_final,batch_size=250, epochs=100, validation_split = 0.10, verbose = 1)"
   ]
  },
  {
   "cell_type": "code",
   "execution_count": 115,
   "metadata": {},
   "outputs": [
    {
     "name": "stdout",
     "output_type": "stream",
     "text": [
      "202677/202677 [==============================] - 29s 145us/step\n"
     ]
    }
   ],
   "source": [
    "loss, accuracy = model.evaluate(X_test, Y_test)"
   ]
  },
  {
   "cell_type": "markdown",
   "metadata": {},
   "source": [
    "# Accuracy"
   ]
  },
  {
   "cell_type": "code",
   "execution_count": 116,
   "metadata": {},
   "outputs": [
    {
     "data": {
      "text/plain": [
       "(0.14474722690524275, 0.9540697760476028)"
      ]
     },
     "execution_count": 116,
     "metadata": {},
     "output_type": "execute_result"
    }
   ],
   "source": [
    "loss, accuracy"
   ]
  },
  {
   "cell_type": "code",
   "execution_count": 117,
   "metadata": {},
   "outputs": [],
   "source": [
    "# when taking 10 timesteps, and keeping separate test and training JobIDs\n",
    "# loss, accuracy is: \n",
    "# on X_test, Y_test"
   ]
  },
  {
   "cell_type": "code",
   "execution_count": 118,
   "metadata": {},
   "outputs": [],
   "source": [
    "y_pred = model.predict(X_test)"
   ]
  },
  {
   "cell_type": "code",
   "execution_count": 127,
   "metadata": {},
   "outputs": [
    {
     "data": {
      "text/plain": [
       "array([[0.3247268 ],\n",
       "       [0.31870815],\n",
       "       [0.28421244],\n",
       "       [0.22386442],\n",
       "       [0.22075215],\n",
       "       [0.2661387 ],\n",
       "       [0.07988553],\n",
       "       [0.07072083],\n",
       "       [0.06752232],\n",
       "       [0.0714664 ],\n",
       "       [0.06728494],\n",
       "       [0.06813868],\n",
       "       [0.06793962],\n",
       "       [0.06596684],\n",
       "       [0.06443483],\n",
       "       [0.06454931],\n",
       "       [0.01267954],\n",
       "       [0.00656816],\n",
       "       [0.00794611],\n",
       "       [0.00827447],\n",
       "       [0.00800472],\n",
       "       [0.01032628],\n",
       "       [0.01087541],\n",
       "       [0.01189391],\n",
       "       [0.01323586],\n",
       "       [0.01422975],\n",
       "       [0.0094241 ],\n",
       "       [0.01176452],\n",
       "       [0.01037369],\n",
       "       [0.00992872],\n",
       "       [0.00961198],\n",
       "       [0.00929684],\n",
       "       [0.00901039],\n",
       "       [0.0089169 ],\n",
       "       [0.00908718],\n",
       "       [0.00933123],\n",
       "       [0.0104598 ],\n",
       "       [0.00390302],\n",
       "       [0.00307004],\n",
       "       [0.0030457 ],\n",
       "       [0.00301726],\n",
       "       [0.00302366],\n",
       "       [0.00301221],\n",
       "       [0.0030088 ],\n",
       "       [0.00303142],\n",
       "       [0.00302974],\n",
       "       [0.00303038],\n",
       "       [0.00302467],\n",
       "       [0.00303407],\n",
       "       [0.00304394],\n",
       "       [0.00307562],\n",
       "       [0.00424723],\n",
       "       [0.00381015],\n",
       "       [0.00315623],\n",
       "       [0.00315103],\n",
       "       [0.00319094],\n",
       "       [0.003174  ],\n",
       "       [0.00315345],\n",
       "       [0.00308158],\n",
       "       [0.00300863],\n",
       "       [0.00300639],\n",
       "       [0.00304638],\n",
       "       [0.00304455],\n",
       "       [0.00302253],\n",
       "       [0.00304161],\n",
       "       [0.00309844],\n",
       "       [0.00689836],\n",
       "       [0.00801332],\n",
       "       [0.00774263],\n",
       "       [0.00775172],\n",
       "       [0.00789239],\n",
       "       [0.00750915],\n",
       "       [0.00769186],\n",
       "       [0.00749433],\n",
       "       [0.00753116],\n",
       "       [0.00785959],\n",
       "       [0.00777807],\n",
       "       [0.00757644],\n",
       "       [0.00775443],\n",
       "       [0.00737217]], dtype=float32)"
      ]
     },
     "execution_count": 127,
     "metadata": {},
     "output_type": "execute_result"
    }
   ],
   "source": [
    "y_pred[15000:15080]"
   ]
  },
  {
   "cell_type": "markdown",
   "metadata": {},
   "source": [
    "# Binary classification accuracy"
   ]
  },
  {
   "cell_type": "code",
   "execution_count": 120,
   "metadata": {},
   "outputs": [],
   "source": [
    "y_true = pd.Series([x[0] for x in Y_test])\n",
    "\n",
    "# Use np.rint for rounding off \n",
    "y_predicted = pd.Series([ np.rint(j[0]) for j in y_pred])"
   ]
  },
  {
   "cell_type": "code",
   "execution_count": 121,
   "metadata": {},
   "outputs": [
    {
     "data": {
      "text/plain": [
       "0.9540697760476028"
      ]
     },
     "execution_count": 121,
     "metadata": {},
     "output_type": "execute_result"
    }
   ],
   "source": [
    "np.mean(np.equal(y_true, y_predicted))"
   ]
  },
  {
   "cell_type": "markdown",
   "metadata": {},
   "source": [
    "# Confusion matrix"
   ]
  },
  {
   "cell_type": "code",
   "execution_count": 122,
   "metadata": {},
   "outputs": [
    {
     "data": {
      "text/html": [
       "<div>\n",
       "<style scoped>\n",
       "    .dataframe tbody tr th:only-of-type {\n",
       "        vertical-align: middle;\n",
       "    }\n",
       "\n",
       "    .dataframe tbody tr th {\n",
       "        vertical-align: top;\n",
       "    }\n",
       "\n",
       "    .dataframe thead th {\n",
       "        text-align: right;\n",
       "    }\n",
       "</style>\n",
       "<table border=\"1\" class=\"dataframe\">\n",
       "  <thead>\n",
       "    <tr style=\"text-align: right;\">\n",
       "      <th>Predicted</th>\n",
       "      <th>0.0</th>\n",
       "      <th>1.0</th>\n",
       "      <th>All</th>\n",
       "    </tr>\n",
       "    <tr>\n",
       "      <th>True</th>\n",
       "      <th></th>\n",
       "      <th></th>\n",
       "      <th></th>\n",
       "    </tr>\n",
       "  </thead>\n",
       "  <tbody>\n",
       "    <tr>\n",
       "      <th>0</th>\n",
       "      <td>104515</td>\n",
       "      <td>2728</td>\n",
       "      <td>107243</td>\n",
       "    </tr>\n",
       "    <tr>\n",
       "      <th>1</th>\n",
       "      <td>6581</td>\n",
       "      <td>88853</td>\n",
       "      <td>95434</td>\n",
       "    </tr>\n",
       "    <tr>\n",
       "      <th>All</th>\n",
       "      <td>111096</td>\n",
       "      <td>91581</td>\n",
       "      <td>202677</td>\n",
       "    </tr>\n",
       "  </tbody>\n",
       "</table>\n",
       "</div>"
      ],
      "text/plain": [
       "Predicted     0.0    1.0     All\n",
       "True                            \n",
       "0          104515   2728  107243\n",
       "1            6581  88853   95434\n",
       "All        111096  91581  202677"
      ]
     },
     "execution_count": 122,
     "metadata": {},
     "output_type": "execute_result"
    }
   ],
   "source": [
    "pd.crosstab(y_true, y_predicted, rownames=['True'], colnames=['Predicted'], margins=True)"
   ]
  },
  {
   "cell_type": "code",
   "execution_count": 123,
   "metadata": {},
   "outputs": [
    {
     "data": {
      "text/html": [
       "<div>\n",
       "<style scoped>\n",
       "    .dataframe tbody tr th:only-of-type {\n",
       "        vertical-align: middle;\n",
       "    }\n",
       "\n",
       "    .dataframe tbody tr th {\n",
       "        vertical-align: top;\n",
       "    }\n",
       "\n",
       "    .dataframe thead th {\n",
       "        text-align: right;\n",
       "    }\n",
       "</style>\n",
       "<table border=\"1\" class=\"dataframe\">\n",
       "  <thead>\n",
       "    <tr style=\"text-align: right;\">\n",
       "      <th>Predicted</th>\n",
       "      <th>0.0</th>\n",
       "      <th>1.0</th>\n",
       "      <th>All</th>\n",
       "    </tr>\n",
       "    <tr>\n",
       "      <th>True</th>\n",
       "      <th></th>\n",
       "      <th></th>\n",
       "      <th></th>\n",
       "    </tr>\n",
       "  </thead>\n",
       "  <tbody>\n",
       "    <tr>\n",
       "      <th>0</th>\n",
       "      <td>104515</td>\n",
       "      <td>2728</td>\n",
       "      <td>107243</td>\n",
       "    </tr>\n",
       "    <tr>\n",
       "      <th>1</th>\n",
       "      <td>6581</td>\n",
       "      <td>88853</td>\n",
       "      <td>95434</td>\n",
       "    </tr>\n",
       "    <tr>\n",
       "      <th>All</th>\n",
       "      <td>111096</td>\n",
       "      <td>91581</td>\n",
       "      <td>202677</td>\n",
       "    </tr>\n",
       "  </tbody>\n",
       "</table>\n",
       "</div>"
      ],
      "text/plain": [
       "Predicted     0.0    1.0     All\n",
       "True                            \n",
       "0          104515   2728  107243\n",
       "1            6581  88853   95434\n",
       "All        111096  91581  202677"
      ]
     },
     "execution_count": 123,
     "metadata": {},
     "output_type": "execute_result"
    }
   ],
   "source": [
    "pd.crosstab(y_true, y_predicted, rownames=['True'], colnames=['Predicted'], margins=True)"
   ]
  },
  {
   "cell_type": "code",
   "execution_count": 124,
   "metadata": {},
   "outputs": [
    {
     "data": {
      "text/plain": [
       "(13097, 30559)"
      ]
     },
     "execution_count": 124,
     "metadata": {},
     "output_type": "execute_result"
    }
   ],
   "source": [
    "len(takeoutdf.JobID.unique().tolist()), len(cleaned.JobID.unique().tolist())"
   ]
  },
  {
   "cell_type": "code",
   "execution_count": 125,
   "metadata": {},
   "outputs": [
    {
     "data": {
      "text/plain": [
       "[]"
      ]
     },
     "execution_count": 125,
     "metadata": {},
     "output_type": "execute_result"
    }
   ],
   "source": [
    "# Verify that there is no intersection between training and test jobs\n",
    "\n",
    "list(set(takeoutdf.JobID.tolist()) & set(cleaned.JobID.tolist()))"
   ]
  },
  {
   "cell_type": "code",
   "execution_count": 126,
   "metadata": {},
   "outputs": [
    {
     "data": {
      "text/plain": [
       "(91581.0, 202677)"
      ]
     },
     "execution_count": 126,
     "metadata": {},
     "output_type": "execute_result"
    }
   ],
   "source": [
    "# Predicting all 0s ??\n",
    "sum([ (j) for j in y_predicted]), len(y_predicted)"
   ]
  },
  {
   "cell_type": "markdown",
   "metadata": {},
   "source": [
    "# Checkpoint: Valid code above this line"
   ]
  },
  {
   "cell_type": "markdown",
   "metadata": {},
   "source": [
    "## Appendix below this line:"
   ]
  },
  {
   "cell_type": "code",
   "execution_count": null,
   "metadata": {},
   "outputs": [],
   "source": [
    "#### Save X to disk\n",
    "\n",
    "\n",
    "\n",
    "#### Create Labels\n",
    "\n",
    "\n",
    "\n",
    "##### Make X_train, X_test\n",
    "\n",
    "\n",
    "\n",
    "\n",
    "##### Create LSTM\n",
    "\n",
    "\n",
    "\n",
    "##### Train LSTM\n",
    "\n",
    "\n",
    "##### Test LSTM"
   ]
  },
  {
   "cell_type": "code",
   "execution_count": null,
   "metadata": {},
   "outputs": [],
   "source": [
    "def vector_generator():\n",
    "    # for a given JOBID, return a list of vectors\n",
    "    # each vector is a feature vector (observation) at a timestamp t\n",
    "    # length of feature vector = n\n",
    "    \n",
    "    new_dict = {}\n",
    "    # jobID --> { timestamp -> [features], timestamp -> [features], timestamp -> [features], ... }\n",
    "    \n",
    "    ####################################\n",
    "    # Single Table Features\n",
    "    ####################################\n",
    "    \n",
    "    #### Iterate throught each table and pick the feature of interest from each table\n",
    "    \n",
    "    #### Continuous\n",
    "    \n",
    "    #### Categorical\n",
    "    \n",
    "    \n",
    "    ####################################\n",
    "    # Multi-table features (JOINs)\n",
    "    ####################################\n",
    "    \n",
    "    #### Continuous\n",
    "    \n",
    "    #### Categorical\n",
    "    \n",
    "    \n",
    "    return None"
   ]
  },
  {
   "cell_type": "code",
   "execution_count": null,
   "metadata": {},
   "outputs": [],
   "source": [
    "def vec_2_samples():\n",
    "    # take the list of vectors for a given job, and reshape it to 3D np array\n",
    "    # each sample could be one-time step or >1 time-step observation\n",
    "    # 3D array : s x t x n\n",
    "    # s = # of samples\n",
    "    # t = # of timesteps in each sample\n",
    "    # n = # length of each feature vector\n",
    "    return None"
   ]
  },
  {
   "cell_type": "code",
   "execution_count": null,
   "metadata": {},
   "outputs": [],
   "source": [
    "def sample_stacker():\n",
    "    # takes samples of a set of jobs\n",
    "    # and stacks these samples on top of each other\n",
    "    # np.append(A, B, axis =0)\n",
    "    # returned 3D array is a set of samples that can be fed to an LSTM\n",
    "    return None"
   ]
  },
  {
   "cell_type": "code",
   "execution_count": null,
   "metadata": {},
   "outputs": [],
   "source": []
  }
 ],
 "metadata": {
  "kernelspec": {
   "display_name": "Python 3",
   "language": "python",
   "name": "python3"
  },
  "language_info": {
   "codemirror_mode": {
    "name": "ipython",
    "version": 3
   },
   "file_extension": ".py",
   "mimetype": "text/x-python",
   "name": "python",
   "nbconvert_exporter": "python",
   "pygments_lexer": "ipython3",
   "version": "3.5.4"
  }
 },
 "nbformat": 4,
 "nbformat_minor": 2
}
