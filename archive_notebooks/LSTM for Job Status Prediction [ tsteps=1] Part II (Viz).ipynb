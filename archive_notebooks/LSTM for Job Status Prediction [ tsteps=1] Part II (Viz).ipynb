{
 "cells": [
  {
   "cell_type": "code",
   "execution_count": 1,
   "metadata": {},
   "outputs": [],
   "source": [
    "# This notebook contains:\n",
    "#\n",
    "# Here we take 500K failed jobs and 375K successful jobs"
   ]
  },
  {
   "cell_type": "code",
   "execution_count": 2,
   "metadata": {},
   "outputs": [],
   "source": [
    "# Connect to MYSQL database\n",
    "\n",
    "hostname = 'localhost'\n",
    "username = 'a1singh'\n",
    "password = 'sdsc1234'\n",
    "database = 'belle2'\n",
    "\n",
    "import pandas as pd\n",
    "import numpy as np"
   ]
  },
  {
   "cell_type": "code",
   "execution_count": 3,
   "metadata": {},
   "outputs": [
    {
     "name": "stdout",
     "output_type": "stream",
     "text": [
      "/data/home/a1singh/anaconda3/envs/keras/bin/python\n",
      "3.5.4 |Anaconda, Inc.| (default, Nov 20 2017, 18:44:38) \n",
      "[GCC 7.2.0]\n"
     ]
    }
   ],
   "source": [
    "import sys\n",
    "print(sys.executable)\n",
    "print(sys.version)"
   ]
  },
  {
   "cell_type": "code",
   "execution_count": 4,
   "metadata": {},
   "outputs": [
    {
     "name": "stdout",
     "output_type": "stream",
     "text": [
      "<pymysql.connections.Connection object at 0x7fbae7728a20>\n"
     ]
    }
   ],
   "source": [
    "import pymysql\n",
    "from IPython.display import display, HTML\n",
    "\n",
    "conn = pymysql.connect(host=hostname, user=username, passwd=password, db=database)\n",
    "print(conn)"
   ]
  },
  {
   "cell_type": "code",
   "execution_count": 5,
   "metadata": {
    "scrolled": true
   },
   "outputs": [],
   "source": [
    "query = \"show tables\"\n",
    "df = pd.read_sql(query, conn)\n",
    "tables = df['Tables_in_belle2'].tolist()"
   ]
  },
  {
   "cell_type": "code",
   "execution_count": 6,
   "metadata": {},
   "outputs": [
    {
     "data": {
      "text/html": [
       "<div>\n",
       "<style scoped>\n",
       "    .dataframe tbody tr th:only-of-type {\n",
       "        vertical-align: middle;\n",
       "    }\n",
       "\n",
       "    .dataframe tbody tr th {\n",
       "        vertical-align: top;\n",
       "    }\n",
       "\n",
       "    .dataframe thead th {\n",
       "        text-align: right;\n",
       "    }\n",
       "</style>\n",
       "<table border=\"1\" class=\"dataframe\">\n",
       "  <thead>\n",
       "    <tr style=\"text-align: right;\">\n",
       "      <th></th>\n",
       "      <th>JobID</th>\n",
       "      <th>Name</th>\n",
       "      <th>Value</th>\n",
       "      <th>HeartBeatTime</th>\n",
       "    </tr>\n",
       "  </thead>\n",
       "  <tbody>\n",
       "    <tr>\n",
       "      <th>0</th>\n",
       "      <td>23140766</td>\n",
       "      <td>AvailableDiskSpace</td>\n",
       "      <td>b'753392.0'</td>\n",
       "      <td>2015-08-07 13:13:48</td>\n",
       "    </tr>\n",
       "    <tr>\n",
       "      <th>1</th>\n",
       "      <td>23140766</td>\n",
       "      <td>CPUConsumed</td>\n",
       "      <td>b'10.0'</td>\n",
       "      <td>2015-08-07 13:13:48</td>\n",
       "    </tr>\n",
       "    <tr>\n",
       "      <th>2</th>\n",
       "      <td>23140766</td>\n",
       "      <td>LoadAverage</td>\n",
       "      <td>b'22.02'</td>\n",
       "      <td>2015-08-07 13:13:48</td>\n",
       "    </tr>\n",
       "    <tr>\n",
       "      <th>3</th>\n",
       "      <td>23140766</td>\n",
       "      <td>MemoryUsed</td>\n",
       "      <td>b'36101188.0'</td>\n",
       "      <td>2015-08-07 13:13:48</td>\n",
       "    </tr>\n",
       "    <tr>\n",
       "      <th>4</th>\n",
       "      <td>23140766</td>\n",
       "      <td>RSS</td>\n",
       "      <td>b'110596.0'</td>\n",
       "      <td>2015-08-07 13:13:48</td>\n",
       "    </tr>\n",
       "    <tr>\n",
       "      <th>5</th>\n",
       "      <td>23140766</td>\n",
       "      <td>Vsize</td>\n",
       "      <td>b'1459640.0'</td>\n",
       "      <td>2015-08-07 13:13:48</td>\n",
       "    </tr>\n",
       "    <tr>\n",
       "      <th>6</th>\n",
       "      <td>23140766</td>\n",
       "      <td>WallClockTime</td>\n",
       "      <td>b'3.19816112518'</td>\n",
       "      <td>2015-08-07 13:13:48</td>\n",
       "    </tr>\n",
       "    <tr>\n",
       "      <th>7</th>\n",
       "      <td>23141083</td>\n",
       "      <td>AvailableDiskSpace</td>\n",
       "      <td>b'1544234.0'</td>\n",
       "      <td>2015-08-07 13:29:48</td>\n",
       "    </tr>\n",
       "    <tr>\n",
       "      <th>8</th>\n",
       "      <td>23141083</td>\n",
       "      <td>CPUConsumed</td>\n",
       "      <td>b'8.0'</td>\n",
       "      <td>2015-08-07 13:29:48</td>\n",
       "    </tr>\n",
       "    <tr>\n",
       "      <th>9</th>\n",
       "      <td>23141083</td>\n",
       "      <td>LoadAverage</td>\n",
       "      <td>b'22.41'</td>\n",
       "      <td>2015-08-07 13:29:48</td>\n",
       "    </tr>\n",
       "    <tr>\n",
       "      <th>10</th>\n",
       "      <td>23141083</td>\n",
       "      <td>MemoryUsed</td>\n",
       "      <td>b'36037080.0'</td>\n",
       "      <td>2015-08-07 13:29:48</td>\n",
       "    </tr>\n",
       "    <tr>\n",
       "      <th>11</th>\n",
       "      <td>23141083</td>\n",
       "      <td>RSS</td>\n",
       "      <td>b'111956.0'</td>\n",
       "      <td>2015-08-07 13:29:48</td>\n",
       "    </tr>\n",
       "    <tr>\n",
       "      <th>12</th>\n",
       "      <td>23141083</td>\n",
       "      <td>Vsize</td>\n",
       "      <td>b'1707264.0'</td>\n",
       "      <td>2015-08-07 13:29:48</td>\n",
       "    </tr>\n",
       "    <tr>\n",
       "      <th>13</th>\n",
       "      <td>23141083</td>\n",
       "      <td>WallClockTime</td>\n",
       "      <td>b'2.89045214653'</td>\n",
       "      <td>2015-08-07 13:29:48</td>\n",
       "    </tr>\n",
       "    <tr>\n",
       "      <th>14</th>\n",
       "      <td>23205537</td>\n",
       "      <td>AvailableDiskSpace</td>\n",
       "      <td>b'568076.0'</td>\n",
       "      <td>2015-08-08 22:43:00</td>\n",
       "    </tr>\n",
       "    <tr>\n",
       "      <th>15</th>\n",
       "      <td>23205537</td>\n",
       "      <td>AvailableDiskSpace</td>\n",
       "      <td>b'568290.0'</td>\n",
       "      <td>2015-08-08 23:13:00</td>\n",
       "    </tr>\n",
       "    <tr>\n",
       "      <th>16</th>\n",
       "      <td>23205537</td>\n",
       "      <td>AvailableDiskSpace</td>\n",
       "      <td>b'568012.0'</td>\n",
       "      <td>2015-08-08 23:42:58</td>\n",
       "    </tr>\n",
       "    <tr>\n",
       "      <th>17</th>\n",
       "      <td>23205537</td>\n",
       "      <td>AvailableDiskSpace</td>\n",
       "      <td>b'567882.0'</td>\n",
       "      <td>2015-08-09 00:12:58</td>\n",
       "    </tr>\n",
       "    <tr>\n",
       "      <th>18</th>\n",
       "      <td>23205537</td>\n",
       "      <td>AvailableDiskSpace</td>\n",
       "      <td>b'567746.0'</td>\n",
       "      <td>2015-08-09 00:42:58</td>\n",
       "    </tr>\n",
       "    <tr>\n",
       "      <th>19</th>\n",
       "      <td>23205537</td>\n",
       "      <td>AvailableDiskSpace</td>\n",
       "      <td>b'567617.0'</td>\n",
       "      <td>2015-08-09 01:13:08</td>\n",
       "    </tr>\n",
       "  </tbody>\n",
       "</table>\n",
       "</div>"
      ],
      "text/plain": [
       "       JobID                Name             Value       HeartBeatTime\n",
       "0   23140766  AvailableDiskSpace       b'753392.0' 2015-08-07 13:13:48\n",
       "1   23140766         CPUConsumed           b'10.0' 2015-08-07 13:13:48\n",
       "2   23140766         LoadAverage          b'22.02' 2015-08-07 13:13:48\n",
       "3   23140766          MemoryUsed     b'36101188.0' 2015-08-07 13:13:48\n",
       "4   23140766                 RSS       b'110596.0' 2015-08-07 13:13:48\n",
       "5   23140766               Vsize      b'1459640.0' 2015-08-07 13:13:48\n",
       "6   23140766       WallClockTime  b'3.19816112518' 2015-08-07 13:13:48\n",
       "7   23141083  AvailableDiskSpace      b'1544234.0' 2015-08-07 13:29:48\n",
       "8   23141083         CPUConsumed            b'8.0' 2015-08-07 13:29:48\n",
       "9   23141083         LoadAverage          b'22.41' 2015-08-07 13:29:48\n",
       "10  23141083          MemoryUsed     b'36037080.0' 2015-08-07 13:29:48\n",
       "11  23141083                 RSS       b'111956.0' 2015-08-07 13:29:48\n",
       "12  23141083               Vsize      b'1707264.0' 2015-08-07 13:29:48\n",
       "13  23141083       WallClockTime  b'2.89045214653' 2015-08-07 13:29:48\n",
       "14  23205537  AvailableDiskSpace       b'568076.0' 2015-08-08 22:43:00\n",
       "15  23205537  AvailableDiskSpace       b'568290.0' 2015-08-08 23:13:00\n",
       "16  23205537  AvailableDiskSpace       b'568012.0' 2015-08-08 23:42:58\n",
       "17  23205537  AvailableDiskSpace       b'567882.0' 2015-08-09 00:12:58\n",
       "18  23205537  AvailableDiskSpace       b'567746.0' 2015-08-09 00:42:58\n",
       "19  23205537  AvailableDiskSpace       b'567617.0' 2015-08-09 01:13:08"
      ]
     },
     "metadata": {},
     "output_type": "display_data"
    },
    {
     "name": "stdout",
     "output_type": "stream",
     "text": [
      "CPU times: user 29.2 ms, sys: 12.1 ms, total: 41.3 ms\n",
      "Wall time: 38.6 ms\n"
     ]
    }
   ],
   "source": [
    "%%time\n",
    "# Total number of rows in HeartBeatLoggingInfo (ans - 906,320,307)\n",
    "\n",
    "df = pd.read_sql(\"SELECT * FROM HeartBeatLoggingInfo LIMIT 20\", conn)\n",
    "display(df)"
   ]
  },
  {
   "cell_type": "code",
   "execution_count": 7,
   "metadata": {},
   "outputs": [
    {
     "data": {
      "text/plain": [
       "Index(['JobID', 'JobType', 'DIRACSetup', 'JobGroup', 'JobSplitType',\n",
       "       'MasterJobID', 'Site', 'JobName', 'Owner', 'OwnerDN', 'OwnerGroup',\n",
       "       'SubmissionTime', 'RescheduleTime', 'LastUpdateTime', 'StartExecTime',\n",
       "       'HeartBeatTime', 'EndExecTime', 'Status', 'MinorStatus',\n",
       "       'ApplicationStatus', 'ApplicationNumStatus', 'CPUTime', 'UserPriority',\n",
       "       'SystemPriority', 'RescheduleCounter', 'VerifiedFlag', 'DeletedFlag',\n",
       "       'KilledFlag', 'FailedFlag', 'ISandboxReadyFlag', 'OSandboxReadyFlag',\n",
       "       'RetrievedFlag', 'AccountedFlag'],\n",
       "      dtype='object')"
      ]
     },
     "metadata": {},
     "output_type": "display_data"
    },
    {
     "name": "stdout",
     "output_type": "stream",
     "text": [
      "CPU times: user 15.3 ms, sys: 0 ns, total: 15.3 ms\n",
      "Wall time: 13.4 ms\n"
     ]
    }
   ],
   "source": [
    "%%time\n",
    "# Total number of rows in HeartBeatLoggingInfo (ans - 906,320,307)\n",
    "\n",
    "df = pd.read_sql(\"SELECT * FROM Jobs LIMIT 20\", conn)\n",
    "display(df.columns)"
   ]
  },
  {
   "cell_type": "code",
   "execution_count": null,
   "metadata": {},
   "outputs": [],
   "source": [
    "%%time\n",
    "# Total number of unique JobIDs in HeartBeatLoggingInfo\n",
    "# number of distinct JobIDs (ans - 10,137,037)\n",
    "\n",
    "df = pd.read_sql(\"SELECT COUNT(DISTINCT JobID) FROM HeartBeatLoggingInfo LIMIT 10\", conn)\n",
    "display(df)"
   ]
  },
  {
   "cell_type": "code",
   "execution_count": 12,
   "metadata": {},
   "outputs": [
    {
     "data": {
      "text/html": [
       "<div>\n",
       "<style scoped>\n",
       "    .dataframe tbody tr th:only-of-type {\n",
       "        vertical-align: middle;\n",
       "    }\n",
       "\n",
       "    .dataframe tbody tr th {\n",
       "        vertical-align: top;\n",
       "    }\n",
       "\n",
       "    .dataframe thead th {\n",
       "        text-align: right;\n",
       "    }\n",
       "</style>\n",
       "<table border=\"1\" class=\"dataframe\">\n",
       "  <thead>\n",
       "    <tr style=\"text-align: right;\">\n",
       "      <th></th>\n",
       "      <th>COUNT(DISTINCT JobID)</th>\n",
       "    </tr>\n",
       "  </thead>\n",
       "  <tbody>\n",
       "    <tr>\n",
       "      <th>0</th>\n",
       "      <td>10485197</td>\n",
       "    </tr>\n",
       "  </tbody>\n",
       "</table>\n",
       "</div>"
      ],
      "text/plain": [
       "   COUNT(DISTINCT JobID)\n",
       "0               10485197"
      ]
     },
     "metadata": {},
     "output_type": "display_data"
    },
    {
     "name": "stdout",
     "output_type": "stream",
     "text": [
      "CPU times: user 11 ms, sys: 0 ns, total: 11 ms\n",
      "Wall time: 7.61 s\n"
     ]
    }
   ],
   "source": [
    "%%time\n",
    "# Total number of unique JobIDs in Jobs\n",
    "# number of distinct JobIDs (ans - 10,485,197)\n",
    "\n",
    "df = pd.read_sql(\"SELECT COUNT(DISTINCT JobID) FROM Jobs LIMIT 10\", conn)\n",
    "display(df)"
   ]
  },
  {
   "cell_type": "code",
   "execution_count": 11,
   "metadata": {},
   "outputs": [
    {
     "data": {
      "text/html": [
       "<div>\n",
       "<style scoped>\n",
       "    .dataframe tbody tr th:only-of-type {\n",
       "        vertical-align: middle;\n",
       "    }\n",
       "\n",
       "    .dataframe tbody tr th {\n",
       "        vertical-align: top;\n",
       "    }\n",
       "\n",
       "    .dataframe thead th {\n",
       "        text-align: right;\n",
       "    }\n",
       "</style>\n",
       "<table border=\"1\" class=\"dataframe\">\n",
       "  <thead>\n",
       "    <tr style=\"text-align: right;\">\n",
       "      <th></th>\n",
       "      <th>COUNT(DISTINCT JobGroup)</th>\n",
       "    </tr>\n",
       "  </thead>\n",
       "  <tbody>\n",
       "    <tr>\n",
       "      <th>0</th>\n",
       "      <td>5405</td>\n",
       "    </tr>\n",
       "  </tbody>\n",
       "</table>\n",
       "</div>"
      ],
      "text/plain": [
       "   COUNT(DISTINCT JobGroup)\n",
       "0                      5405"
      ]
     },
     "metadata": {},
     "output_type": "display_data"
    },
    {
     "name": "stdout",
     "output_type": "stream",
     "text": [
      "CPU times: user 7.86 ms, sys: 3.99 ms, total: 11.9 ms\n",
      "Wall time: 11 s\n"
     ]
    }
   ],
   "source": [
    "%%time\n",
    "# Total number of unique JobGroup in Jobs table\n",
    "# number of distinct JobGroup (ans - 5405)\n",
    "\n",
    "df = pd.read_sql(\"SELECT COUNT(DISTINCT JobGroup) FROM Jobs LIMIT 10\", conn)\n",
    "display(df)"
   ]
  },
  {
   "cell_type": "code",
   "execution_count": null,
   "metadata": {},
   "outputs": [],
   "source": [
    "%%time\n",
    "# Total number of unique timestamps in HeartBeatLoggingInfo\n",
    "# number of distinct hearbeattime entries (ans - 1,616,7003)\n",
    "\n",
    "df_stamps = pd.read_sql(\"SELECT COUNT(DISTINCT HeartBeatTime) FROM HeartBeatLoggingInfo LIMIT 10\", conn)\n",
    "display(df_stamps)"
   ]
  },
  {
   "cell_type": "code",
   "execution_count": null,
   "metadata": {},
   "outputs": [],
   "source": [
    "# Average Number of timestamps per jobID\n",
    "\n",
    "16167003 / 10137037"
   ]
  },
  {
   "cell_type": "code",
   "execution_count": null,
   "metadata": {},
   "outputs": [],
   "source": [
    "# Average number of key-value pairs per timestamp\n",
    "\n",
    "906320307 / 16167003"
   ]
  },
  {
   "cell_type": "markdown",
   "metadata": {},
   "source": [
    "# Get Failed Jobs"
   ]
  },
  {
   "cell_type": "code",
   "execution_count": 6,
   "metadata": {},
   "outputs": [
    {
     "name": "stdout",
     "output_type": "stream",
     "text": [
      "CPU times: user 50.5 s, sys: 1.65 s, total: 52.2 s\n",
      "Wall time: 52.2 s\n"
     ]
    }
   ],
   "source": [
    "%%time\n",
    "\n",
    "query       = 'SELECT * FROM Jobs WHERE Status = \\'Failed\\' LIMIT 500000'\n",
    "failedJobs    = pd.read_sql_query(query,con=conn)"
   ]
  },
  {
   "cell_type": "code",
   "execution_count": 7,
   "metadata": {},
   "outputs": [
    {
     "data": {
      "text/plain": [
       "(500000, 33)"
      ]
     },
     "execution_count": 7,
     "metadata": {},
     "output_type": "execute_result"
    }
   ],
   "source": [
    "failedJobs.shape"
   ]
  },
  {
   "cell_type": "code",
   "execution_count": 8,
   "metadata": {},
   "outputs": [
    {
     "data": {
      "text/plain": [
       "500000"
      ]
     },
     "execution_count": 8,
     "metadata": {},
     "output_type": "execute_result"
    }
   ],
   "source": [
    "listofjobids = failedJobs['JobID'].tolist()\n",
    "listofjobids = list(set(listofjobids))\n",
    "len(listofjobids)"
   ]
  },
  {
   "cell_type": "code",
   "execution_count": 9,
   "metadata": {},
   "outputs": [
    {
     "name": "stdout",
     "output_type": "stream",
     "text": [
      "CPU times: user 4min 8s, sys: 12.4 s, total: 4min 20s\n",
      "Wall time: 4min 34s\n"
     ]
    }
   ],
   "source": [
    "%%time\n",
    "# # Keep only the rows whose jobID is in HeartBeatLogging table\n",
    "\n",
    "query       = 'SELECT * FROM HeartBeatLoggingInfo WHERE JobID IN (' + ','.join((str(x) for x in listofjobids)) + ')'\n",
    "dataHBLI_failed    = pd.read_sql_query(query,con=conn)"
   ]
  },
  {
   "cell_type": "code",
   "execution_count": 10,
   "metadata": {},
   "outputs": [
    {
     "data": {
      "text/plain": [
       "309945"
      ]
     },
     "execution_count": 10,
     "metadata": {},
     "output_type": "execute_result"
    }
   ],
   "source": [
    "dataHBLI_failed.JobID.nunique()"
   ]
  },
  {
   "cell_type": "markdown",
   "metadata": {},
   "source": [
    "# Get Successful Jobs (Status = Done)"
   ]
  },
  {
   "cell_type": "code",
   "execution_count": 11,
   "metadata": {},
   "outputs": [],
   "source": [
    "# Find similar number of Successful jobs"
   ]
  },
  {
   "cell_type": "code",
   "execution_count": 12,
   "metadata": {},
   "outputs": [
    {
     "name": "stdout",
     "output_type": "stream",
     "text": [
      "CPU times: user 44.8 s, sys: 1.59 s, total: 46.3 s\n",
      "Wall time: 46.5 s\n"
     ]
    }
   ],
   "source": [
    "%%time\n",
    "\n",
    "query       = 'SELECT * FROM Jobs WHERE Status = \\'Done\\' LIMIT 375000'\n",
    "successJobs    = pd.read_sql_query(query,con=conn)"
   ]
  },
  {
   "cell_type": "code",
   "execution_count": 13,
   "metadata": {},
   "outputs": [
    {
     "data": {
      "text/plain": [
       "(375000, 33)"
      ]
     },
     "execution_count": 13,
     "metadata": {},
     "output_type": "execute_result"
    }
   ],
   "source": [
    "successJobs.shape"
   ]
  },
  {
   "cell_type": "code",
   "execution_count": 14,
   "metadata": {},
   "outputs": [
    {
     "data": {
      "text/plain": [
       "375000"
      ]
     },
     "execution_count": 14,
     "metadata": {},
     "output_type": "execute_result"
    }
   ],
   "source": [
    "listofjobids = successJobs['JobID'].tolist()\n",
    "listofjobids = list(set(listofjobids))\n",
    "len(listofjobids)"
   ]
  },
  {
   "cell_type": "code",
   "execution_count": 15,
   "metadata": {},
   "outputs": [
    {
     "name": "stdout",
     "output_type": "stream",
     "text": [
      "CPU times: user 9min 32s, sys: 27.6 s, total: 9min 59s\n",
      "Wall time: 10min 4s\n"
     ]
    }
   ],
   "source": [
    "%%time\n",
    "# # Keep only the rows whose jobID is in HeartBeatLogging table\n",
    "\n",
    "query   = 'SELECT * FROM HeartBeatLoggingInfo WHERE JobID IN (' + ','.join((str(x) for x in listofjobids)) + ')'\n",
    "dataHBLI_success = pd.read_sql_query(query,con=conn)"
   ]
  },
  {
   "cell_type": "code",
   "execution_count": 16,
   "metadata": {},
   "outputs": [
    {
     "data": {
      "text/plain": [
       "(22955660, 4)"
      ]
     },
     "execution_count": 16,
     "metadata": {},
     "output_type": "execute_result"
    }
   ],
   "source": [
    "dataHBLI_success.shape"
   ]
  },
  {
   "cell_type": "code",
   "execution_count": 17,
   "metadata": {},
   "outputs": [
    {
     "data": {
      "text/plain": [
       "374992"
      ]
     },
     "execution_count": 17,
     "metadata": {},
     "output_type": "execute_result"
    }
   ],
   "source": [
    "dataHBLI_success.JobID.nunique()"
   ]
  },
  {
   "cell_type": "markdown",
   "metadata": {},
   "source": [
    "### Combine HBLI tables pieces = (failed, success)"
   ]
  },
  {
   "cell_type": "code",
   "execution_count": 18,
   "metadata": {},
   "outputs": [
    {
     "data": {
      "text/plain": [
       "((10251496, 4), (22955660, 4))"
      ]
     },
     "execution_count": 18,
     "metadata": {},
     "output_type": "execute_result"
    }
   ],
   "source": [
    "dataHBLI_failed.shape, dataHBLI_success.shape"
   ]
  },
  {
   "cell_type": "code",
   "execution_count": 19,
   "metadata": {},
   "outputs": [],
   "source": [
    "pieces = (dataHBLI_failed, dataHBLI_success)"
   ]
  },
  {
   "cell_type": "code",
   "execution_count": 20,
   "metadata": {},
   "outputs": [],
   "source": [
    "allHBLI = pd.concat(pieces, ignore_index = True)"
   ]
  },
  {
   "cell_type": "markdown",
   "metadata": {},
   "source": [
    "### Combine Jobs tables pieces = (failed, success)"
   ]
  },
  {
   "cell_type": "code",
   "execution_count": 21,
   "metadata": {},
   "outputs": [
    {
     "data": {
      "text/plain": [
       "((500000, 33), (375000, 33))"
      ]
     },
     "execution_count": 21,
     "metadata": {},
     "output_type": "execute_result"
    }
   ],
   "source": [
    "failedJobs.shape, successJobs.shape"
   ]
  },
  {
   "cell_type": "code",
   "execution_count": 22,
   "metadata": {},
   "outputs": [],
   "source": [
    "pieces = (failedJobs, successJobs)"
   ]
  },
  {
   "cell_type": "code",
   "execution_count": 54,
   "metadata": {},
   "outputs": [
    {
     "data": {
      "text/html": [
       "<div>\n",
       "<style scoped>\n",
       "    .dataframe tbody tr th:only-of-type {\n",
       "        vertical-align: middle;\n",
       "    }\n",
       "\n",
       "    .dataframe tbody tr th {\n",
       "        vertical-align: top;\n",
       "    }\n",
       "\n",
       "    .dataframe thead th {\n",
       "        text-align: right;\n",
       "    }\n",
       "</style>\n",
       "<table border=\"1\" class=\"dataframe\">\n",
       "  <thead>\n",
       "    <tr style=\"text-align: right;\">\n",
       "      <th></th>\n",
       "      <th>JobID</th>\n",
       "      <th>JobType</th>\n",
       "      <th>DIRACSetup</th>\n",
       "      <th>JobGroup</th>\n",
       "      <th>JobSplitType</th>\n",
       "      <th>MasterJobID</th>\n",
       "      <th>Site</th>\n",
       "      <th>JobName</th>\n",
       "      <th>Owner</th>\n",
       "      <th>OwnerDN</th>\n",
       "      <th>...</th>\n",
       "      <th>SystemPriority</th>\n",
       "      <th>RescheduleCounter</th>\n",
       "      <th>VerifiedFlag</th>\n",
       "      <th>DeletedFlag</th>\n",
       "      <th>KilledFlag</th>\n",
       "      <th>FailedFlag</th>\n",
       "      <th>ISandboxReadyFlag</th>\n",
       "      <th>OSandboxReadyFlag</th>\n",
       "      <th>RetrievedFlag</th>\n",
       "      <th>AccountedFlag</th>\n",
       "    </tr>\n",
       "  </thead>\n",
       "  <tbody>\n",
       "    <tr>\n",
       "      <th>0</th>\n",
       "      <td>23140766</td>\n",
       "      <td>MCProductionBGx0</td>\n",
       "      <td>Belle-KEK</td>\n",
       "      <td>00000757</td>\n",
       "      <td>Single</td>\n",
       "      <td>0</td>\n",
       "      <td>DIRAC.UAS.mx</td>\n",
       "      <td>00000757_00000283</td>\n",
       "      <td>dirac</td>\n",
       "      <td>/C=DE/O=GermanGrid/OU=KIT/CN=Robot - grid clie...</td>\n",
       "      <td>...</td>\n",
       "      <td>0</td>\n",
       "      <td>0</td>\n",
       "      <td>True</td>\n",
       "      <td>False</td>\n",
       "      <td>False</td>\n",
       "      <td>False</td>\n",
       "      <td>False</td>\n",
       "      <td>False</td>\n",
       "      <td>False</td>\n",
       "      <td>False</td>\n",
       "    </tr>\n",
       "    <tr>\n",
       "      <th>1</th>\n",
       "      <td>23141083</td>\n",
       "      <td>MCProductionBGx0</td>\n",
       "      <td>Belle-KEK</td>\n",
       "      <td>00000758</td>\n",
       "      <td>Single</td>\n",
       "      <td>0</td>\n",
       "      <td>DIRAC.CINVESTAV.mx</td>\n",
       "      <td>00000758_00000034</td>\n",
       "      <td>dirac</td>\n",
       "      <td>/C=DE/O=GermanGrid/OU=KIT/CN=Robot - grid clie...</td>\n",
       "      <td>...</td>\n",
       "      <td>0</td>\n",
       "      <td>0</td>\n",
       "      <td>True</td>\n",
       "      <td>False</td>\n",
       "      <td>False</td>\n",
       "      <td>False</td>\n",
       "      <td>False</td>\n",
       "      <td>False</td>\n",
       "      <td>False</td>\n",
       "      <td>False</td>\n",
       "    </tr>\n",
       "    <tr>\n",
       "      <th>2</th>\n",
       "      <td>23205537</td>\n",
       "      <td>MCProductionBGx0</td>\n",
       "      <td>Belle-KEK</td>\n",
       "      <td>00000809</td>\n",
       "      <td>Single</td>\n",
       "      <td>0</td>\n",
       "      <td>LCG.Pisa.it</td>\n",
       "      <td>00000809_00000001</td>\n",
       "      <td>dirac</td>\n",
       "      <td>/C=DE/O=GermanGrid/OU=KIT/CN=Robot - grid clie...</td>\n",
       "      <td>...</td>\n",
       "      <td>0</td>\n",
       "      <td>0</td>\n",
       "      <td>True</td>\n",
       "      <td>False</td>\n",
       "      <td>False</td>\n",
       "      <td>False</td>\n",
       "      <td>False</td>\n",
       "      <td>False</td>\n",
       "      <td>False</td>\n",
       "      <td>False</td>\n",
       "    </tr>\n",
       "    <tr>\n",
       "      <th>3</th>\n",
       "      <td>23205539</td>\n",
       "      <td>MCProductionBGx0</td>\n",
       "      <td>Belle-KEK</td>\n",
       "      <td>00000809</td>\n",
       "      <td>Single</td>\n",
       "      <td>0</td>\n",
       "      <td>LCG.KEK2.jp</td>\n",
       "      <td>00000809_00000002</td>\n",
       "      <td>dirac</td>\n",
       "      <td>/C=DE/O=GermanGrid/OU=KIT/CN=Robot - grid clie...</td>\n",
       "      <td>...</td>\n",
       "      <td>0</td>\n",
       "      <td>0</td>\n",
       "      <td>True</td>\n",
       "      <td>False</td>\n",
       "      <td>False</td>\n",
       "      <td>False</td>\n",
       "      <td>False</td>\n",
       "      <td>False</td>\n",
       "      <td>False</td>\n",
       "      <td>False</td>\n",
       "    </tr>\n",
       "    <tr>\n",
       "      <th>4</th>\n",
       "      <td>23205643</td>\n",
       "      <td>MCProductionBGx0</td>\n",
       "      <td>Belle-KEK</td>\n",
       "      <td>00000809</td>\n",
       "      <td>Single</td>\n",
       "      <td>0</td>\n",
       "      <td>LCG.Pisa.it</td>\n",
       "      <td>00000809_00000003</td>\n",
       "      <td>dirac</td>\n",
       "      <td>/C=DE/O=GermanGrid/OU=KIT/CN=Robot - grid clie...</td>\n",
       "      <td>...</td>\n",
       "      <td>0</td>\n",
       "      <td>0</td>\n",
       "      <td>True</td>\n",
       "      <td>False</td>\n",
       "      <td>False</td>\n",
       "      <td>False</td>\n",
       "      <td>False</td>\n",
       "      <td>False</td>\n",
       "      <td>False</td>\n",
       "      <td>False</td>\n",
       "    </tr>\n",
       "  </tbody>\n",
       "</table>\n",
       "<p>5 rows × 33 columns</p>\n",
       "</div>"
      ],
      "text/plain": [
       "      JobID           JobType DIRACSetup  JobGroup JobSplitType  MasterJobID  \\\n",
       "0  23140766  MCProductionBGx0  Belle-KEK  00000757       Single            0   \n",
       "1  23141083  MCProductionBGx0  Belle-KEK  00000758       Single            0   \n",
       "2  23205537  MCProductionBGx0  Belle-KEK  00000809       Single            0   \n",
       "3  23205539  MCProductionBGx0  Belle-KEK  00000809       Single            0   \n",
       "4  23205643  MCProductionBGx0  Belle-KEK  00000809       Single            0   \n",
       "\n",
       "                 Site            JobName  Owner  \\\n",
       "0        DIRAC.UAS.mx  00000757_00000283  dirac   \n",
       "1  DIRAC.CINVESTAV.mx  00000758_00000034  dirac   \n",
       "2         LCG.Pisa.it  00000809_00000001  dirac   \n",
       "3         LCG.KEK2.jp  00000809_00000002  dirac   \n",
       "4         LCG.Pisa.it  00000809_00000003  dirac   \n",
       "\n",
       "                                             OwnerDN      ...       \\\n",
       "0  /C=DE/O=GermanGrid/OU=KIT/CN=Robot - grid clie...      ...        \n",
       "1  /C=DE/O=GermanGrid/OU=KIT/CN=Robot - grid clie...      ...        \n",
       "2  /C=DE/O=GermanGrid/OU=KIT/CN=Robot - grid clie...      ...        \n",
       "3  /C=DE/O=GermanGrid/OU=KIT/CN=Robot - grid clie...      ...        \n",
       "4  /C=DE/O=GermanGrid/OU=KIT/CN=Robot - grid clie...      ...        \n",
       "\n",
       "  SystemPriority RescheduleCounter VerifiedFlag DeletedFlag KilledFlag  \\\n",
       "0              0                 0         True       False      False   \n",
       "1              0                 0         True       False      False   \n",
       "2              0                 0         True       False      False   \n",
       "3              0                 0         True       False      False   \n",
       "4              0                 0         True       False      False   \n",
       "\n",
       "  FailedFlag ISandboxReadyFlag OSandboxReadyFlag RetrievedFlag AccountedFlag  \n",
       "0      False             False             False         False         False  \n",
       "1      False             False             False         False         False  \n",
       "2      False             False             False         False         False  \n",
       "3      False             False             False         False         False  \n",
       "4      False             False             False         False         False  \n",
       "\n",
       "[5 rows x 33 columns]"
      ]
     },
     "execution_count": 54,
     "metadata": {},
     "output_type": "execute_result"
    }
   ],
   "source": [
    "allJobs = pd.concat(pieces, ignore_index = True)\n",
    "allJobs.head()"
   ]
  },
  {
   "cell_type": "markdown",
   "metadata": {},
   "source": [
    "# Process HBLI table: allHBLI"
   ]
  },
  {
   "cell_type": "code",
   "execution_count": 24,
   "metadata": {},
   "outputs": [
    {
     "data": {
      "text/html": [
       "<div>\n",
       "<style scoped>\n",
       "    .dataframe tbody tr th:only-of-type {\n",
       "        vertical-align: middle;\n",
       "    }\n",
       "\n",
       "    .dataframe tbody tr th {\n",
       "        vertical-align: top;\n",
       "    }\n",
       "\n",
       "    .dataframe thead th {\n",
       "        text-align: right;\n",
       "    }\n",
       "</style>\n",
       "<table border=\"1\" class=\"dataframe\">\n",
       "  <thead>\n",
       "    <tr style=\"text-align: right;\">\n",
       "      <th></th>\n",
       "      <th>JobID</th>\n",
       "      <th>Name</th>\n",
       "      <th>Value</th>\n",
       "      <th>HeartBeatTime</th>\n",
       "    </tr>\n",
       "  </thead>\n",
       "  <tbody>\n",
       "    <tr>\n",
       "      <th>0</th>\n",
       "      <td>23140766</td>\n",
       "      <td>AvailableDiskSpace</td>\n",
       "      <td>b'753392.0'</td>\n",
       "      <td>2015-08-07 13:13:48</td>\n",
       "    </tr>\n",
       "    <tr>\n",
       "      <th>1</th>\n",
       "      <td>23140766</td>\n",
       "      <td>CPUConsumed</td>\n",
       "      <td>b'10.0'</td>\n",
       "      <td>2015-08-07 13:13:48</td>\n",
       "    </tr>\n",
       "    <tr>\n",
       "      <th>2</th>\n",
       "      <td>23140766</td>\n",
       "      <td>LoadAverage</td>\n",
       "      <td>b'22.02'</td>\n",
       "      <td>2015-08-07 13:13:48</td>\n",
       "    </tr>\n",
       "    <tr>\n",
       "      <th>3</th>\n",
       "      <td>23140766</td>\n",
       "      <td>MemoryUsed</td>\n",
       "      <td>b'36101188.0'</td>\n",
       "      <td>2015-08-07 13:13:48</td>\n",
       "    </tr>\n",
       "    <tr>\n",
       "      <th>4</th>\n",
       "      <td>23140766</td>\n",
       "      <td>RSS</td>\n",
       "      <td>b'110596.0'</td>\n",
       "      <td>2015-08-07 13:13:48</td>\n",
       "    </tr>\n",
       "  </tbody>\n",
       "</table>\n",
       "</div>"
      ],
      "text/plain": [
       "      JobID                Name          Value       HeartBeatTime\n",
       "0  23140766  AvailableDiskSpace    b'753392.0' 2015-08-07 13:13:48\n",
       "1  23140766         CPUConsumed        b'10.0' 2015-08-07 13:13:48\n",
       "2  23140766         LoadAverage       b'22.02' 2015-08-07 13:13:48\n",
       "3  23140766          MemoryUsed  b'36101188.0' 2015-08-07 13:13:48\n",
       "4  23140766                 RSS    b'110596.0' 2015-08-07 13:13:48"
      ]
     },
     "execution_count": 24,
     "metadata": {},
     "output_type": "execute_result"
    }
   ],
   "source": [
    "allHBLI.head()"
   ]
  },
  {
   "cell_type": "code",
   "execution_count": 25,
   "metadata": {},
   "outputs": [
    {
     "data": {
      "text/plain": [
       "(33207156, 4)"
      ]
     },
     "execution_count": 25,
     "metadata": {},
     "output_type": "execute_result"
    }
   ],
   "source": [
    "allHBLI.shape"
   ]
  },
  {
   "cell_type": "code",
   "execution_count": 26,
   "metadata": {},
   "outputs": [],
   "source": [
    "allHBLI.Value = pd.to_numeric(allHBLI['Value'], errors='raise')"
   ]
  },
  {
   "cell_type": "code",
   "execution_count": 27,
   "metadata": {},
   "outputs": [],
   "source": [
    "allHBLI.HeartBeatTime = pd.to_datetime(allHBLI['HeartBeatTime'], errors='raise')"
   ]
  },
  {
   "cell_type": "code",
   "execution_count": 28,
   "metadata": {},
   "outputs": [
    {
     "data": {
      "text/plain": [
       "684937"
      ]
     },
     "execution_count": 28,
     "metadata": {},
     "output_type": "execute_result"
    }
   ],
   "source": [
    "# Number of unique jobIDs in 10M rows of dataHB (ans-185879)\n",
    "allHBLI.JobID.nunique()"
   ]
  },
  {
   "cell_type": "code",
   "execution_count": 29,
   "metadata": {},
   "outputs": [
    {
     "data": {
      "text/plain": [
       "1439365"
      ]
     },
     "execution_count": 29,
     "metadata": {},
     "output_type": "execute_result"
    }
   ],
   "source": [
    "# Number of unique timestampes in 10M rows of dataHB (ans-242222)\n",
    "allHBLI.HeartBeatTime.nunique()"
   ]
  },
  {
   "cell_type": "code",
   "execution_count": null,
   "metadata": {},
   "outputs": [],
   "source": [
    "allHBLI.tail()"
   ]
  },
  {
   "cell_type": "code",
   "execution_count": 30,
   "metadata": {},
   "outputs": [
    {
     "name": "stdout",
     "output_type": "stream",
     "text": [
      "CPU times: user 31.4 s, sys: 5.36 s, total: 36.8 s\n",
      "Wall time: 37 s\n"
     ]
    }
   ],
   "source": [
    "%%time\n",
    "# 10 millions rows took 10 sec to pivot\n",
    "\n",
    "allHBLI_wide=allHBLI.pivot_table(index=['JobID','HeartBeatTime'], columns='Name', values='Value')"
   ]
  },
  {
   "cell_type": "code",
   "execution_count": 31,
   "metadata": {},
   "outputs": [
    {
     "data": {
      "text/plain": [
       "(4744091, 7)"
      ]
     },
     "execution_count": 31,
     "metadata": {},
     "output_type": "execute_result"
    }
   ],
   "source": [
    "# 1  million rows have shape (142863,  7) after pivot\n",
    "# 10 million rows have shape (1428574, 7) after pivot\n",
    "\n",
    "allHBLI_wide.shape"
   ]
  },
  {
   "cell_type": "code",
   "execution_count": 32,
   "metadata": {},
   "outputs": [
    {
     "data": {
      "text/plain": [
       "1481"
      ]
     },
     "execution_count": 32,
     "metadata": {},
     "output_type": "execute_result"
    }
   ],
   "source": [
    "allHBLI_wide.isnull().values.ravel().sum()"
   ]
  },
  {
   "cell_type": "code",
   "execution_count": 33,
   "metadata": {},
   "outputs": [],
   "source": [
    "# Drop the last few rows\n",
    "allHBLI_wide = allHBLI_wide.dropna()"
   ]
  },
  {
   "cell_type": "code",
   "execution_count": 34,
   "metadata": {},
   "outputs": [
    {
     "data": {
      "text/plain": [
       "(4742707, 7)"
      ]
     },
     "execution_count": 34,
     "metadata": {},
     "output_type": "execute_result"
    }
   ],
   "source": [
    "allHBLI_wide.shape"
   ]
  },
  {
   "cell_type": "code",
   "execution_count": 35,
   "metadata": {},
   "outputs": [
    {
     "data": {
      "text/html": [
       "<div>\n",
       "<style scoped>\n",
       "    .dataframe tbody tr th:only-of-type {\n",
       "        vertical-align: middle;\n",
       "    }\n",
       "\n",
       "    .dataframe tbody tr th {\n",
       "        vertical-align: top;\n",
       "    }\n",
       "\n",
       "    .dataframe thead th {\n",
       "        text-align: right;\n",
       "    }\n",
       "</style>\n",
       "<table border=\"1\" class=\"dataframe\">\n",
       "  <thead>\n",
       "    <tr style=\"text-align: right;\">\n",
       "      <th></th>\n",
       "      <th>Name</th>\n",
       "      <th>AvailableDiskSpace</th>\n",
       "      <th>CPUConsumed</th>\n",
       "      <th>LoadAverage</th>\n",
       "      <th>MemoryUsed</th>\n",
       "      <th>RSS</th>\n",
       "      <th>Vsize</th>\n",
       "      <th>WallClockTime</th>\n",
       "    </tr>\n",
       "    <tr>\n",
       "      <th>JobID</th>\n",
       "      <th>HeartBeatTime</th>\n",
       "      <th></th>\n",
       "      <th></th>\n",
       "      <th></th>\n",
       "      <th></th>\n",
       "      <th></th>\n",
       "      <th></th>\n",
       "      <th></th>\n",
       "    </tr>\n",
       "  </thead>\n",
       "  <tbody>\n",
       "    <tr>\n",
       "      <th>23140766</th>\n",
       "      <th>2015-08-07 13:13:48</th>\n",
       "      <td>753392.0</td>\n",
       "      <td>10.0</td>\n",
       "      <td>22.02</td>\n",
       "      <td>36101188.0</td>\n",
       "      <td>110596.0</td>\n",
       "      <td>1459640.0</td>\n",
       "      <td>3.198161</td>\n",
       "    </tr>\n",
       "    <tr>\n",
       "      <th>23141083</th>\n",
       "      <th>2015-08-07 13:29:48</th>\n",
       "      <td>1544234.0</td>\n",
       "      <td>8.0</td>\n",
       "      <td>22.41</td>\n",
       "      <td>36037080.0</td>\n",
       "      <td>111956.0</td>\n",
       "      <td>1707264.0</td>\n",
       "      <td>2.890452</td>\n",
       "    </tr>\n",
       "    <tr>\n",
       "      <th rowspan=\"8\" valign=\"top\">23205537</th>\n",
       "      <th>2015-08-08 22:43:00</th>\n",
       "      <td>568076.0</td>\n",
       "      <td>9.0</td>\n",
       "      <td>21.97</td>\n",
       "      <td>43807076.0</td>\n",
       "      <td>51376.0</td>\n",
       "      <td>760076.0</td>\n",
       "      <td>3.637860</td>\n",
       "    </tr>\n",
       "    <tr>\n",
       "      <th>2015-08-08 23:13:00</th>\n",
       "      <td>568290.0</td>\n",
       "      <td>1738.0</td>\n",
       "      <td>23.00</td>\n",
       "      <td>44414148.0</td>\n",
       "      <td>731932.0</td>\n",
       "      <td>2714632.0</td>\n",
       "      <td>1803.281874</td>\n",
       "    </tr>\n",
       "    <tr>\n",
       "      <th>2015-08-08 23:42:58</th>\n",
       "      <td>568012.0</td>\n",
       "      <td>3526.0</td>\n",
       "      <td>24.05</td>\n",
       "      <td>45048940.0</td>\n",
       "      <td>764380.0</td>\n",
       "      <td>2872744.0</td>\n",
       "      <td>3602.163568</td>\n",
       "    </tr>\n",
       "    <tr>\n",
       "      <th>2015-08-09 00:12:58</th>\n",
       "      <td>567882.0</td>\n",
       "      <td>5311.0</td>\n",
       "      <td>22.98</td>\n",
       "      <td>45746004.0</td>\n",
       "      <td>785264.0</td>\n",
       "      <td>2884828.0</td>\n",
       "      <td>5402.028741</td>\n",
       "    </tr>\n",
       "    <tr>\n",
       "      <th>2015-08-09 00:42:58</th>\n",
       "      <td>567746.0</td>\n",
       "      <td>7088.0</td>\n",
       "      <td>23.25</td>\n",
       "      <td>46408120.0</td>\n",
       "      <td>806056.0</td>\n",
       "      <td>2902500.0</td>\n",
       "      <td>7201.870347</td>\n",
       "    </tr>\n",
       "    <tr>\n",
       "      <th>2015-08-09 01:13:08</th>\n",
       "      <td>567617.0</td>\n",
       "      <td>8885.0</td>\n",
       "      <td>23.66</td>\n",
       "      <td>46808432.0</td>\n",
       "      <td>830088.0</td>\n",
       "      <td>2926132.0</td>\n",
       "      <td>9011.577231</td>\n",
       "    </tr>\n",
       "    <tr>\n",
       "      <th>2015-08-09 01:43:07</th>\n",
       "      <td>567503.0</td>\n",
       "      <td>10669.0</td>\n",
       "      <td>24.41</td>\n",
       "      <td>47209380.0</td>\n",
       "      <td>830808.0</td>\n",
       "      <td>2926500.0</td>\n",
       "      <td>10811.185416</td>\n",
       "    </tr>\n",
       "    <tr>\n",
       "      <th>2015-08-09 02:13:06</th>\n",
       "      <td>567596.0</td>\n",
       "      <td>12449.0</td>\n",
       "      <td>22.14</td>\n",
       "      <td>46089464.0</td>\n",
       "      <td>836308.0</td>\n",
       "      <td>2945920.0</td>\n",
       "      <td>12610.498920</td>\n",
       "    </tr>\n",
       "  </tbody>\n",
       "</table>\n",
       "</div>"
      ],
      "text/plain": [
       "Name                          AvailableDiskSpace  CPUConsumed  LoadAverage  \\\n",
       "JobID    HeartBeatTime                                                       \n",
       "23140766 2015-08-07 13:13:48            753392.0         10.0        22.02   \n",
       "23141083 2015-08-07 13:29:48           1544234.0          8.0        22.41   \n",
       "23205537 2015-08-08 22:43:00            568076.0          9.0        21.97   \n",
       "         2015-08-08 23:13:00            568290.0       1738.0        23.00   \n",
       "         2015-08-08 23:42:58            568012.0       3526.0        24.05   \n",
       "         2015-08-09 00:12:58            567882.0       5311.0        22.98   \n",
       "         2015-08-09 00:42:58            567746.0       7088.0        23.25   \n",
       "         2015-08-09 01:13:08            567617.0       8885.0        23.66   \n",
       "         2015-08-09 01:43:07            567503.0      10669.0        24.41   \n",
       "         2015-08-09 02:13:06            567596.0      12449.0        22.14   \n",
       "\n",
       "Name                          MemoryUsed       RSS      Vsize  WallClockTime  \n",
       "JobID    HeartBeatTime                                                        \n",
       "23140766 2015-08-07 13:13:48  36101188.0  110596.0  1459640.0       3.198161  \n",
       "23141083 2015-08-07 13:29:48  36037080.0  111956.0  1707264.0       2.890452  \n",
       "23205537 2015-08-08 22:43:00  43807076.0   51376.0   760076.0       3.637860  \n",
       "         2015-08-08 23:13:00  44414148.0  731932.0  2714632.0    1803.281874  \n",
       "         2015-08-08 23:42:58  45048940.0  764380.0  2872744.0    3602.163568  \n",
       "         2015-08-09 00:12:58  45746004.0  785264.0  2884828.0    5402.028741  \n",
       "         2015-08-09 00:42:58  46408120.0  806056.0  2902500.0    7201.870347  \n",
       "         2015-08-09 01:13:08  46808432.0  830088.0  2926132.0    9011.577231  \n",
       "         2015-08-09 01:43:07  47209380.0  830808.0  2926500.0   10811.185416  \n",
       "         2015-08-09 02:13:06  46089464.0  836308.0  2945920.0   12610.498920  "
      ]
     },
     "execution_count": 35,
     "metadata": {},
     "output_type": "execute_result"
    }
   ],
   "source": [
    "allHBLI_wide.head(10)"
   ]
  },
  {
   "cell_type": "code",
   "execution_count": 36,
   "metadata": {},
   "outputs": [
    {
     "data": {
      "text/plain": [
       "Index(['AvailableDiskSpace', 'CPUConsumed', 'LoadAverage', 'MemoryUsed', 'RSS',\n",
       "       'Vsize', 'WallClockTime'],\n",
       "      dtype='object', name='Name')"
      ]
     },
     "execution_count": 36,
     "metadata": {},
     "output_type": "execute_result"
    }
   ],
   "source": [
    "allHBLI_wide.columns"
   ]
  },
  {
   "cell_type": "code",
   "execution_count": 38,
   "metadata": {},
   "outputs": [
    {
     "data": {
      "text/html": [
       "<div>\n",
       "<style scoped>\n",
       "    .dataframe tbody tr th:only-of-type {\n",
       "        vertical-align: middle;\n",
       "    }\n",
       "\n",
       "    .dataframe tbody tr th {\n",
       "        vertical-align: top;\n",
       "    }\n",
       "\n",
       "    .dataframe thead th {\n",
       "        text-align: right;\n",
       "    }\n",
       "</style>\n",
       "<table border=\"1\" class=\"dataframe\">\n",
       "  <thead>\n",
       "    <tr style=\"text-align: right;\">\n",
       "      <th>Name</th>\n",
       "      <th>AvailableDiskSpace</th>\n",
       "      <th>CPUConsumed</th>\n",
       "      <th>LoadAverage</th>\n",
       "      <th>MemoryUsed</th>\n",
       "      <th>RSS</th>\n",
       "      <th>Vsize</th>\n",
       "      <th>WallClockTime</th>\n",
       "    </tr>\n",
       "  </thead>\n",
       "  <tbody>\n",
       "    <tr>\n",
       "      <th>count</th>\n",
       "      <td>4.742707e+06</td>\n",
       "      <td>4.742707e+06</td>\n",
       "      <td>4.742707e+06</td>\n",
       "      <td>4.742707e+06</td>\n",
       "      <td>4.742707e+06</td>\n",
       "      <td>4.742707e+06</td>\n",
       "      <td>4.742707e+06</td>\n",
       "    </tr>\n",
       "    <tr>\n",
       "      <th>mean</th>\n",
       "      <td>1.926529e+06</td>\n",
       "      <td>1.110393e+04</td>\n",
       "      <td>2.387678e+01</td>\n",
       "      <td>5.138711e+07</td>\n",
       "      <td>9.179662e+05</td>\n",
       "      <td>2.668360e+06</td>\n",
       "      <td>1.126260e+04</td>\n",
       "    </tr>\n",
       "    <tr>\n",
       "      <th>std</th>\n",
       "      <td>8.925017e+06</td>\n",
       "      <td>1.217991e+04</td>\n",
       "      <td>1.658211e+01</td>\n",
       "      <td>4.230883e+07</td>\n",
       "      <td>5.353602e+05</td>\n",
       "      <td>8.990684e+05</td>\n",
       "      <td>1.233794e+04</td>\n",
       "    </tr>\n",
       "    <tr>\n",
       "      <th>min</th>\n",
       "      <td>-1.000000e+00</td>\n",
       "      <td>0.000000e+00</td>\n",
       "      <td>0.000000e+00</td>\n",
       "      <td>0.000000e+00</td>\n",
       "      <td>0.000000e+00</td>\n",
       "      <td>0.000000e+00</td>\n",
       "      <td>4.859111e-01</td>\n",
       "    </tr>\n",
       "    <tr>\n",
       "      <th>25%</th>\n",
       "      <td>1.405740e+05</td>\n",
       "      <td>3.442000e+03</td>\n",
       "      <td>1.314000e+01</td>\n",
       "      <td>2.397483e+07</td>\n",
       "      <td>8.294200e+05</td>\n",
       "      <td>2.396864e+06</td>\n",
       "      <td>3.602459e+03</td>\n",
       "    </tr>\n",
       "    <tr>\n",
       "      <th>50%</th>\n",
       "      <td>5.077810e+05</td>\n",
       "      <td>7.243000e+03</td>\n",
       "      <td>1.955000e+01</td>\n",
       "      <td>4.172795e+07</td>\n",
       "      <td>9.370880e+05</td>\n",
       "      <td>2.719288e+06</td>\n",
       "      <td>7.218922e+03</td>\n",
       "    </tr>\n",
       "    <tr>\n",
       "      <th>75%</th>\n",
       "      <td>9.031390e+05</td>\n",
       "      <td>1.535200e+04</td>\n",
       "      <td>3.182000e+01</td>\n",
       "      <td>6.127036e+07</td>\n",
       "      <td>1.099186e+06</td>\n",
       "      <td>3.179272e+06</td>\n",
       "      <td>1.620201e+04</td>\n",
       "    </tr>\n",
       "    <tr>\n",
       "      <th>max</th>\n",
       "      <td>2.857598e+08</td>\n",
       "      <td>2.658110e+05</td>\n",
       "      <td>4.992300e+02</td>\n",
       "      <td>2.641196e+08</td>\n",
       "      <td>1.671626e+08</td>\n",
       "      <td>1.710867e+08</td>\n",
       "      <td>2.574189e+05</td>\n",
       "    </tr>\n",
       "  </tbody>\n",
       "</table>\n",
       "</div>"
      ],
      "text/plain": [
       "Name   AvailableDiskSpace   CPUConsumed   LoadAverage    MemoryUsed  \\\n",
       "count        4.742707e+06  4.742707e+06  4.742707e+06  4.742707e+06   \n",
       "mean         1.926529e+06  1.110393e+04  2.387678e+01  5.138711e+07   \n",
       "std          8.925017e+06  1.217991e+04  1.658211e+01  4.230883e+07   \n",
       "min         -1.000000e+00  0.000000e+00  0.000000e+00  0.000000e+00   \n",
       "25%          1.405740e+05  3.442000e+03  1.314000e+01  2.397483e+07   \n",
       "50%          5.077810e+05  7.243000e+03  1.955000e+01  4.172795e+07   \n",
       "75%          9.031390e+05  1.535200e+04  3.182000e+01  6.127036e+07   \n",
       "max          2.857598e+08  2.658110e+05  4.992300e+02  2.641196e+08   \n",
       "\n",
       "Name            RSS         Vsize  WallClockTime  \n",
       "count  4.742707e+06  4.742707e+06   4.742707e+06  \n",
       "mean   9.179662e+05  2.668360e+06   1.126260e+04  \n",
       "std    5.353602e+05  8.990684e+05   1.233794e+04  \n",
       "min    0.000000e+00  0.000000e+00   4.859111e-01  \n",
       "25%    8.294200e+05  2.396864e+06   3.602459e+03  \n",
       "50%    9.370880e+05  2.719288e+06   7.218922e+03  \n",
       "75%    1.099186e+06  3.179272e+06   1.620201e+04  \n",
       "max    1.671626e+08  1.710867e+08   2.574189e+05  "
      ]
     },
     "execution_count": 38,
     "metadata": {},
     "output_type": "execute_result"
    }
   ],
   "source": [
    "allHBLI_wide.describe()"
   ]
  },
  {
   "cell_type": "markdown",
   "metadata": {},
   "source": [
    "## Scale 'allHBLI_wide' table"
   ]
  },
  {
   "cell_type": "code",
   "execution_count": 39,
   "metadata": {},
   "outputs": [],
   "source": [
    "from sklearn.preprocessing import MinMaxScaler\n",
    "\n",
    "scaler = MinMaxScaler()\n",
    "allHBLI_wide[['AvailableDiskSpace', 'CPUConsumed', 'LoadAverage', \n",
    "             'MemoryUsed', 'RSS','Vsize', 'WallClockTime']] = scaler.fit_transform(allHBLI_wide[['AvailableDiskSpace', \n",
    "                                                                        'CPUConsumed', 'LoadAverage', 'MemoryUsed', \n",
    "                                                                        'RSS','Vsize', 'WallClockTime']])"
   ]
  },
  {
   "cell_type": "code",
   "execution_count": 41,
   "metadata": {},
   "outputs": [
    {
     "data": {
      "text/html": [
       "<div>\n",
       "<style scoped>\n",
       "    .dataframe tbody tr th:only-of-type {\n",
       "        vertical-align: middle;\n",
       "    }\n",
       "\n",
       "    .dataframe tbody tr th {\n",
       "        vertical-align: top;\n",
       "    }\n",
       "\n",
       "    .dataframe thead th {\n",
       "        text-align: right;\n",
       "    }\n",
       "</style>\n",
       "<table border=\"1\" class=\"dataframe\">\n",
       "  <thead>\n",
       "    <tr style=\"text-align: right;\">\n",
       "      <th>Name</th>\n",
       "      <th>AvailableDiskSpace</th>\n",
       "      <th>CPUConsumed</th>\n",
       "      <th>LoadAverage</th>\n",
       "      <th>MemoryUsed</th>\n",
       "      <th>RSS</th>\n",
       "      <th>Vsize</th>\n",
       "      <th>WallClockTime</th>\n",
       "    </tr>\n",
       "  </thead>\n",
       "  <tbody>\n",
       "    <tr>\n",
       "      <th>count</th>\n",
       "      <td>4.742707e+06</td>\n",
       "      <td>4.742707e+06</td>\n",
       "      <td>4.742707e+06</td>\n",
       "      <td>4.742707e+06</td>\n",
       "      <td>4.742707e+06</td>\n",
       "      <td>4.742707e+06</td>\n",
       "      <td>4.742707e+06</td>\n",
       "    </tr>\n",
       "    <tr>\n",
       "      <th>mean</th>\n",
       "      <td>6.741783e-03</td>\n",
       "      <td>4.177379e-02</td>\n",
       "      <td>4.782721e-02</td>\n",
       "      <td>1.945600e-01</td>\n",
       "      <td>5.491456e-03</td>\n",
       "      <td>1.559654e-02</td>\n",
       "      <td>4.375024e-02</td>\n",
       "    </tr>\n",
       "    <tr>\n",
       "      <th>std</th>\n",
       "      <td>3.123259e-02</td>\n",
       "      <td>4.582170e-02</td>\n",
       "      <td>3.321537e-02</td>\n",
       "      <td>1.601881e-01</td>\n",
       "      <td>3.202631e-03</td>\n",
       "      <td>5.255045e-03</td>\n",
       "      <td>4.792950e-02</td>\n",
       "    </tr>\n",
       "    <tr>\n",
       "      <th>min</th>\n",
       "      <td>0.000000e+00</td>\n",
       "      <td>0.000000e+00</td>\n",
       "      <td>0.000000e+00</td>\n",
       "      <td>0.000000e+00</td>\n",
       "      <td>0.000000e+00</td>\n",
       "      <td>0.000000e+00</td>\n",
       "      <td>0.000000e+00</td>\n",
       "    </tr>\n",
       "    <tr>\n",
       "      <th>25%</th>\n",
       "      <td>4.919342e-04</td>\n",
       "      <td>1.294905e-02</td>\n",
       "      <td>2.632053e-02</td>\n",
       "      <td>9.077262e-02</td>\n",
       "      <td>4.961755e-03</td>\n",
       "      <td>1.400965e-02</td>\n",
       "      <td>1.399268e-02</td>\n",
       "    </tr>\n",
       "    <tr>\n",
       "      <th>50%</th>\n",
       "      <td>1.776954e-03</td>\n",
       "      <td>2.724868e-02</td>\n",
       "      <td>3.916031e-02</td>\n",
       "      <td>1.579888e-01</td>\n",
       "      <td>5.605846e-03</td>\n",
       "      <td>1.589421e-02</td>\n",
       "      <td>2.804165e-02</td>\n",
       "    </tr>\n",
       "    <tr>\n",
       "      <th>75%</th>\n",
       "      <td>3.160487e-03</td>\n",
       "      <td>5.775532e-02</td>\n",
       "      <td>6.373816e-02</td>\n",
       "      <td>2.319796e-01</td>\n",
       "      <td>6.575548e-03</td>\n",
       "      <td>1.858281e-02</td>\n",
       "      <td>6.293849e-02</td>\n",
       "    </tr>\n",
       "    <tr>\n",
       "      <th>max</th>\n",
       "      <td>1.000000e+00</td>\n",
       "      <td>1.000000e+00</td>\n",
       "      <td>1.000000e+00</td>\n",
       "      <td>1.000000e+00</td>\n",
       "      <td>1.000000e+00</td>\n",
       "      <td>1.000000e+00</td>\n",
       "      <td>1.000000e+00</td>\n",
       "    </tr>\n",
       "  </tbody>\n",
       "</table>\n",
       "</div>"
      ],
      "text/plain": [
       "Name   AvailableDiskSpace   CPUConsumed   LoadAverage    MemoryUsed  \\\n",
       "count        4.742707e+06  4.742707e+06  4.742707e+06  4.742707e+06   \n",
       "mean         6.741783e-03  4.177379e-02  4.782721e-02  1.945600e-01   \n",
       "std          3.123259e-02  4.582170e-02  3.321537e-02  1.601881e-01   \n",
       "min          0.000000e+00  0.000000e+00  0.000000e+00  0.000000e+00   \n",
       "25%          4.919342e-04  1.294905e-02  2.632053e-02  9.077262e-02   \n",
       "50%          1.776954e-03  2.724868e-02  3.916031e-02  1.579888e-01   \n",
       "75%          3.160487e-03  5.775532e-02  6.373816e-02  2.319796e-01   \n",
       "max          1.000000e+00  1.000000e+00  1.000000e+00  1.000000e+00   \n",
       "\n",
       "Name            RSS         Vsize  WallClockTime  \n",
       "count  4.742707e+06  4.742707e+06   4.742707e+06  \n",
       "mean   5.491456e-03  1.559654e-02   4.375024e-02  \n",
       "std    3.202631e-03  5.255045e-03   4.792950e-02  \n",
       "min    0.000000e+00  0.000000e+00   0.000000e+00  \n",
       "25%    4.961755e-03  1.400965e-02   1.399268e-02  \n",
       "50%    5.605846e-03  1.589421e-02   2.804165e-02  \n",
       "75%    6.575548e-03  1.858281e-02   6.293849e-02  \n",
       "max    1.000000e+00  1.000000e+00   1.000000e+00  "
      ]
     },
     "execution_count": 41,
     "metadata": {},
     "output_type": "execute_result"
    }
   ],
   "source": [
    "allHBLI_wide.describe()"
   ]
  },
  {
   "cell_type": "code",
   "execution_count": 42,
   "metadata": {},
   "outputs": [],
   "source": [
    "allHBLI_wide = allHBLI_wide.reset_index()"
   ]
  },
  {
   "cell_type": "code",
   "execution_count": 43,
   "metadata": {},
   "outputs": [
    {
     "data": {
      "text/plain": [
       "(4742707, 9)"
      ]
     },
     "execution_count": 43,
     "metadata": {},
     "output_type": "execute_result"
    }
   ],
   "source": [
    "allHBLI_wide.shape"
   ]
  },
  {
   "cell_type": "code",
   "execution_count": 44,
   "metadata": {},
   "outputs": [],
   "source": [
    "#########################\n",
    "allHBLI_wide.to_pickle('large_allHBLI_wide_scaled_4742707by9.pickle')\n",
    "#########################"
   ]
  },
  {
   "cell_type": "code",
   "execution_count": 79,
   "metadata": {},
   "outputs": [],
   "source": [
    "with open('large_allHBLI_wide_scaled_4742707by9.pickle', 'rb') as handle:\n",
    "    allHBLI_wide = pickle.load(handle)"
   ]
  },
  {
   "cell_type": "code",
   "execution_count": 80,
   "metadata": {},
   "outputs": [
    {
     "data": {
      "text/plain": [
       "(4742707, 9)"
      ]
     },
     "execution_count": 80,
     "metadata": {},
     "output_type": "execute_result"
    }
   ],
   "source": [
    "allHBLI_wide.shape"
   ]
  },
  {
   "cell_type": "code",
   "execution_count": 81,
   "metadata": {},
   "outputs": [
    {
     "data": {
      "text/html": [
       "<div>\n",
       "<style scoped>\n",
       "    .dataframe tbody tr th:only-of-type {\n",
       "        vertical-align: middle;\n",
       "    }\n",
       "\n",
       "    .dataframe tbody tr th {\n",
       "        vertical-align: top;\n",
       "    }\n",
       "\n",
       "    .dataframe thead th {\n",
       "        text-align: right;\n",
       "    }\n",
       "</style>\n",
       "<table border=\"1\" class=\"dataframe\">\n",
       "  <thead>\n",
       "    <tr style=\"text-align: right;\">\n",
       "      <th>Name</th>\n",
       "      <th>JobID</th>\n",
       "      <th>HeartBeatTime</th>\n",
       "      <th>AvailableDiskSpace</th>\n",
       "      <th>CPUConsumed</th>\n",
       "      <th>LoadAverage</th>\n",
       "      <th>MemoryUsed</th>\n",
       "      <th>RSS</th>\n",
       "      <th>Vsize</th>\n",
       "      <th>WallClockTime</th>\n",
       "    </tr>\n",
       "  </thead>\n",
       "  <tbody>\n",
       "    <tr>\n",
       "      <th>0</th>\n",
       "      <td>23140766</td>\n",
       "      <td>2015-08-07 13:13:48</td>\n",
       "      <td>0.002636</td>\n",
       "      <td>0.000038</td>\n",
       "      <td>0.044108</td>\n",
       "      <td>0.136685</td>\n",
       "      <td>0.000662</td>\n",
       "      <td>0.008532</td>\n",
       "      <td>0.000011</td>\n",
       "    </tr>\n",
       "    <tr>\n",
       "      <th>1</th>\n",
       "      <td>23141083</td>\n",
       "      <td>2015-08-07 13:29:48</td>\n",
       "      <td>0.005404</td>\n",
       "      <td>0.000030</td>\n",
       "      <td>0.044889</td>\n",
       "      <td>0.136442</td>\n",
       "      <td>0.000670</td>\n",
       "      <td>0.009979</td>\n",
       "      <td>0.000009</td>\n",
       "    </tr>\n",
       "  </tbody>\n",
       "</table>\n",
       "</div>"
      ],
      "text/plain": [
       "Name     JobID       HeartBeatTime  AvailableDiskSpace  CPUConsumed  \\\n",
       "0     23140766 2015-08-07 13:13:48            0.002636     0.000038   \n",
       "1     23141083 2015-08-07 13:29:48            0.005404     0.000030   \n",
       "\n",
       "Name  LoadAverage  MemoryUsed       RSS     Vsize  WallClockTime  \n",
       "0        0.044108    0.136685  0.000662  0.008532       0.000011  \n",
       "1        0.044889    0.136442  0.000670  0.009979       0.000009  "
      ]
     },
     "execution_count": 81,
     "metadata": {},
     "output_type": "execute_result"
    }
   ],
   "source": [
    "allHBLI_wide.head(2)"
   ]
  },
  {
   "cell_type": "markdown",
   "metadata": {},
   "source": [
    "#### End of HBLI table processing: allHBLI"
   ]
  },
  {
   "cell_type": "markdown",
   "metadata": {},
   "source": [
    "# Process Jobs tables: allJobs"
   ]
  },
  {
   "cell_type": "code",
   "execution_count": 55,
   "metadata": {},
   "outputs": [],
   "source": [
    "dataJobs = allJobs"
   ]
  },
  {
   "cell_type": "code",
   "execution_count": 56,
   "metadata": {},
   "outputs": [
    {
     "data": {
      "text/html": [
       "<div>\n",
       "<style scoped>\n",
       "    .dataframe tbody tr th:only-of-type {\n",
       "        vertical-align: middle;\n",
       "    }\n",
       "\n",
       "    .dataframe tbody tr th {\n",
       "        vertical-align: top;\n",
       "    }\n",
       "\n",
       "    .dataframe thead th {\n",
       "        text-align: right;\n",
       "    }\n",
       "</style>\n",
       "<table border=\"1\" class=\"dataframe\">\n",
       "  <thead>\n",
       "    <tr style=\"text-align: right;\">\n",
       "      <th></th>\n",
       "      <th>JobID</th>\n",
       "      <th>MasterJobID</th>\n",
       "      <th>ApplicationNumStatus</th>\n",
       "      <th>CPUTime</th>\n",
       "      <th>UserPriority</th>\n",
       "      <th>SystemPriority</th>\n",
       "      <th>RescheduleCounter</th>\n",
       "    </tr>\n",
       "  </thead>\n",
       "  <tbody>\n",
       "    <tr>\n",
       "      <th>count</th>\n",
       "      <td>8.750000e+05</td>\n",
       "      <td>875000.0</td>\n",
       "      <td>875000.0</td>\n",
       "      <td>875000.0</td>\n",
       "      <td>875000.000000</td>\n",
       "      <td>875000.0</td>\n",
       "      <td>875000.000000</td>\n",
       "    </tr>\n",
       "    <tr>\n",
       "      <th>mean</th>\n",
       "      <td>3.507823e+07</td>\n",
       "      <td>0.0</td>\n",
       "      <td>0.0</td>\n",
       "      <td>0.0</td>\n",
       "      <td>4.612575</td>\n",
       "      <td>0.0</td>\n",
       "      <td>0.068830</td>\n",
       "    </tr>\n",
       "    <tr>\n",
       "      <th>std</th>\n",
       "      <td>2.583614e+06</td>\n",
       "      <td>0.0</td>\n",
       "      <td>0.0</td>\n",
       "      <td>0.0</td>\n",
       "      <td>2.243048</td>\n",
       "      <td>0.0</td>\n",
       "      <td>0.936638</td>\n",
       "    </tr>\n",
       "    <tr>\n",
       "      <th>min</th>\n",
       "      <td>2.314077e+07</td>\n",
       "      <td>0.0</td>\n",
       "      <td>0.0</td>\n",
       "      <td>0.0</td>\n",
       "      <td>0.000000</td>\n",
       "      <td>0.0</td>\n",
       "      <td>0.000000</td>\n",
       "    </tr>\n",
       "    <tr>\n",
       "      <th>25%</th>\n",
       "      <td>3.252100e+07</td>\n",
       "      <td>0.0</td>\n",
       "      <td>0.0</td>\n",
       "      <td>0.0</td>\n",
       "      <td>3.000000</td>\n",
       "      <td>0.0</td>\n",
       "      <td>0.000000</td>\n",
       "    </tr>\n",
       "    <tr>\n",
       "      <th>50%</th>\n",
       "      <td>3.450696e+07</td>\n",
       "      <td>0.0</td>\n",
       "      <td>0.0</td>\n",
       "      <td>0.0</td>\n",
       "      <td>5.000000</td>\n",
       "      <td>0.0</td>\n",
       "      <td>0.000000</td>\n",
       "    </tr>\n",
       "    <tr>\n",
       "      <th>75%</th>\n",
       "      <td>3.772414e+07</td>\n",
       "      <td>0.0</td>\n",
       "      <td>0.0</td>\n",
       "      <td>0.0</td>\n",
       "      <td>5.000000</td>\n",
       "      <td>0.0</td>\n",
       "      <td>0.000000</td>\n",
       "    </tr>\n",
       "    <tr>\n",
       "      <th>max</th>\n",
       "      <td>3.833186e+07</td>\n",
       "      <td>0.0</td>\n",
       "      <td>0.0</td>\n",
       "      <td>0.0</td>\n",
       "      <td>10.000000</td>\n",
       "      <td>0.0</td>\n",
       "      <td>20.000000</td>\n",
       "    </tr>\n",
       "  </tbody>\n",
       "</table>\n",
       "</div>"
      ],
      "text/plain": [
       "              JobID  MasterJobID  ApplicationNumStatus   CPUTime  \\\n",
       "count  8.750000e+05     875000.0              875000.0  875000.0   \n",
       "mean   3.507823e+07          0.0                   0.0       0.0   \n",
       "std    2.583614e+06          0.0                   0.0       0.0   \n",
       "min    2.314077e+07          0.0                   0.0       0.0   \n",
       "25%    3.252100e+07          0.0                   0.0       0.0   \n",
       "50%    3.450696e+07          0.0                   0.0       0.0   \n",
       "75%    3.772414e+07          0.0                   0.0       0.0   \n",
       "max    3.833186e+07          0.0                   0.0       0.0   \n",
       "\n",
       "        UserPriority  SystemPriority  RescheduleCounter  \n",
       "count  875000.000000        875000.0      875000.000000  \n",
       "mean        4.612575             0.0           0.068830  \n",
       "std         2.243048             0.0           0.936638  \n",
       "min         0.000000             0.0           0.000000  \n",
       "25%         3.000000             0.0           0.000000  \n",
       "50%         5.000000             0.0           0.000000  \n",
       "75%         5.000000             0.0           0.000000  \n",
       "max        10.000000             0.0          20.000000  "
      ]
     },
     "execution_count": 56,
     "metadata": {},
     "output_type": "execute_result"
    }
   ],
   "source": [
    "dataJobs.describe()"
   ]
  },
  {
   "cell_type": "code",
   "execution_count": 57,
   "metadata": {},
   "outputs": [
    {
     "data": {
      "text/plain": [
       "['JobID',\n",
       " 'JobType',\n",
       " 'DIRACSetup',\n",
       " 'JobGroup',\n",
       " 'JobSplitType',\n",
       " 'MasterJobID',\n",
       " 'Site',\n",
       " 'JobName',\n",
       " 'Owner',\n",
       " 'OwnerDN',\n",
       " 'OwnerGroup',\n",
       " 'SubmissionTime',\n",
       " 'RescheduleTime',\n",
       " 'LastUpdateTime',\n",
       " 'StartExecTime',\n",
       " 'HeartBeatTime',\n",
       " 'EndExecTime',\n",
       " 'Status',\n",
       " 'MinorStatus',\n",
       " 'ApplicationStatus',\n",
       " 'ApplicationNumStatus',\n",
       " 'CPUTime',\n",
       " 'UserPriority',\n",
       " 'SystemPriority',\n",
       " 'RescheduleCounter',\n",
       " 'VerifiedFlag',\n",
       " 'DeletedFlag',\n",
       " 'KilledFlag',\n",
       " 'FailedFlag',\n",
       " 'ISandboxReadyFlag',\n",
       " 'OSandboxReadyFlag',\n",
       " 'RetrievedFlag',\n",
       " 'AccountedFlag']"
      ]
     },
     "execution_count": 57,
     "metadata": {},
     "output_type": "execute_result"
    }
   ],
   "source": [
    "listofcolumns = dataJobs.columns.tolist()\n",
    "listofcolumns"
   ]
  },
  {
   "cell_type": "code",
   "execution_count": 58,
   "metadata": {},
   "outputs": [
    {
     "name": "stdout",
     "output_type": "stream",
     "text": [
      "['JobType', 'DIRACSetup', 'JobGroup', 'JobSplitType', 'MasterJobID', 'Site', 'Owner', 'OwnerDN', 'OwnerGroup', 'Status', 'MinorStatus', 'ApplicationStatus', 'ApplicationNumStatus', 'CPUTime', 'UserPriority', 'SystemPriority', 'RescheduleCounter', 'VerifiedFlag', 'DeletedFlag', 'KilledFlag', 'FailedFlag', 'ISandboxReadyFlag', 'OSandboxReadyFlag', 'RetrievedFlag', 'AccountedFlag']\n"
     ]
    }
   ],
   "source": [
    "removelist = ['JobID','JobName','SubmissionTime', 'RescheduleTime', 'LastUpdateTime', \n",
    "              'StartExecTime', 'HeartBeatTime', 'EndExecTime']\n",
    "\n",
    "for r in removelist:\n",
    "    listofcolumns.remove(r)\n",
    "    \n",
    "print(listofcolumns)"
   ]
  },
  {
   "cell_type": "code",
   "execution_count": 59,
   "metadata": {},
   "outputs": [
    {
     "data": {
      "text/plain": [
       "(875000, 33)"
      ]
     },
     "execution_count": 59,
     "metadata": {},
     "output_type": "execute_result"
    }
   ],
   "source": [
    "dataJobs.shape"
   ]
  },
  {
   "cell_type": "code",
   "execution_count": 60,
   "metadata": {},
   "outputs": [
    {
     "name": "stdout",
     "output_type": "stream",
     "text": [
      "Owner 1\n",
      "CPUTime 1\n",
      "JobSplitType 1\n",
      "VerifiedFlag 1\n",
      "ISandboxReadyFlag 1\n",
      "OSandboxReadyFlag 1\n",
      "SystemPriority 1\n",
      "DeletedFlag 1\n",
      "DIRACSetup 1\n",
      "OwnerGroup 1\n",
      "FailedFlag 1\n",
      "OwnerDN 1\n",
      "MasterJobID 1\n",
      "KilledFlag 1\n",
      "ApplicationNumStatus 1\n",
      "RetrievedFlag 1\n",
      "Status 2\n",
      "AccountedFlag 2\n",
      "JobType 3\n",
      "UserPriority 6\n",
      "RescheduleCounter 21\n",
      "MinorStatus 25\n",
      "Site 52\n",
      "ApplicationStatus 111\n",
      "JobGroup 260\n"
     ]
    }
   ],
   "source": [
    "cc = {}\n",
    "\n",
    "for c in listofcolumns:\n",
    "    #print(c)\n",
    "    ll = len(dataJobs[c].unique().tolist())\n",
    "    \n",
    "    if ll > 0:\n",
    "        #print('************ found > limit *')\n",
    "        cc[c]=ll\n",
    "\n",
    "for w in sorted(cc, key=cc.get, reverse=False):\n",
    "  print(w, cc[w])"
   ]
  },
  {
   "cell_type": "code",
   "execution_count": 61,
   "metadata": {},
   "outputs": [],
   "source": [
    "### Decision: let us drop 'MinorStatus' and 'ApplicationStatus' and only predict \n",
    "### the 'Status' column\n",
    "#   LABEL for prediction: only predict the 'Status' column\n",
    "\n",
    "del dataJobs['MinorStatus']\n",
    "del dataJobs['ApplicationStatus']"
   ]
  },
  {
   "cell_type": "code",
   "execution_count": 62,
   "metadata": {},
   "outputs": [
    {
     "name": "stdout",
     "output_type": "stream",
     "text": [
      "Owner 1\n",
      "CPUTime 1\n",
      "JobSplitType 1\n",
      "VerifiedFlag 1\n",
      "ISandboxReadyFlag 1\n",
      "OSandboxReadyFlag 1\n",
      "SystemPriority 1\n",
      "DeletedFlag 1\n",
      "DIRACSetup 1\n",
      "OwnerGroup 1\n",
      "FailedFlag 1\n",
      "OwnerDN 1\n",
      "MasterJobID 1\n",
      "KilledFlag 1\n",
      "ApplicationNumStatus 1\n",
      "RetrievedFlag 1\n"
     ]
    }
   ],
   "source": [
    "### Decision: let us drop all columns which have only single state, i.e. no fluctuation\n",
    "\n",
    "for w in sorted(cc, key=cc.get, reverse=False):\n",
    "    if cc[w] == 1:\n",
    "        del dataJobs[w]\n",
    "        print(w, cc[w])"
   ]
  },
  {
   "cell_type": "code",
   "execution_count": 63,
   "metadata": {},
   "outputs": [],
   "source": [
    "del dataJobs['JobName'] #name is not important for prediction"
   ]
  },
  {
   "cell_type": "code",
   "execution_count": 64,
   "metadata": {},
   "outputs": [
    {
     "data": {
      "text/plain": [
       "['JobID',\n",
       " 'JobType',\n",
       " 'JobGroup',\n",
       " 'Site',\n",
       " 'SubmissionTime',\n",
       " 'RescheduleTime',\n",
       " 'LastUpdateTime',\n",
       " 'StartExecTime',\n",
       " 'HeartBeatTime',\n",
       " 'EndExecTime',\n",
       " 'Status',\n",
       " 'UserPriority',\n",
       " 'RescheduleCounter',\n",
       " 'AccountedFlag']"
      ]
     },
     "execution_count": 64,
     "metadata": {},
     "output_type": "execute_result"
    }
   ],
   "source": [
    "dataJobs.columns.tolist()"
   ]
  },
  {
   "cell_type": "code",
   "execution_count": 65,
   "metadata": {},
   "outputs": [
    {
     "data": {
      "text/html": [
       "<div>\n",
       "<style scoped>\n",
       "    .dataframe tbody tr th:only-of-type {\n",
       "        vertical-align: middle;\n",
       "    }\n",
       "\n",
       "    .dataframe tbody tr th {\n",
       "        vertical-align: top;\n",
       "    }\n",
       "\n",
       "    .dataframe thead th {\n",
       "        text-align: right;\n",
       "    }\n",
       "</style>\n",
       "<table border=\"1\" class=\"dataframe\">\n",
       "  <thead>\n",
       "    <tr style=\"text-align: right;\">\n",
       "      <th></th>\n",
       "      <th>SubmissionTime</th>\n",
       "      <th>RescheduleTime</th>\n",
       "      <th>LastUpdateTime</th>\n",
       "      <th>StartExecTime</th>\n",
       "      <th>HeartBeatTime</th>\n",
       "      <th>EndExecTime</th>\n",
       "    </tr>\n",
       "  </thead>\n",
       "  <tbody>\n",
       "    <tr>\n",
       "      <th>0</th>\n",
       "      <td>2015-08-07 13:09:34</td>\n",
       "      <td>NaT</td>\n",
       "      <td>2016-12-01 04:42:41</td>\n",
       "      <td>2015-08-07 13:10:26</td>\n",
       "      <td>2015-08-07 13:20:16</td>\n",
       "      <td>2015-08-07 13:17:13</td>\n",
       "    </tr>\n",
       "    <tr>\n",
       "      <th>1</th>\n",
       "      <td>2015-08-07 13:19:34</td>\n",
       "      <td>NaT</td>\n",
       "      <td>2016-12-01 04:42:41</td>\n",
       "      <td>2015-08-07 13:29:29</td>\n",
       "      <td>2015-08-07 13:39:55</td>\n",
       "      <td>2015-08-07 13:39:55</td>\n",
       "    </tr>\n",
       "    <tr>\n",
       "      <th>2</th>\n",
       "      <td>2015-08-08 21:35:09</td>\n",
       "      <td>NaT</td>\n",
       "      <td>2016-12-01 04:42:41</td>\n",
       "      <td>2015-08-08 22:42:40</td>\n",
       "      <td>2015-08-09 12:00:33</td>\n",
       "      <td>2015-08-09 12:00:33</td>\n",
       "    </tr>\n",
       "    <tr>\n",
       "      <th>3</th>\n",
       "      <td>2015-08-08 21:39:29</td>\n",
       "      <td>NaT</td>\n",
       "      <td>2016-12-01 04:42:41</td>\n",
       "      <td>2015-08-08 22:49:54</td>\n",
       "      <td>2015-08-09 05:07:49</td>\n",
       "      <td>2015-08-09 05:07:49</td>\n",
       "    </tr>\n",
       "    <tr>\n",
       "      <th>4</th>\n",
       "      <td>2015-08-08 21:40:31</td>\n",
       "      <td>NaT</td>\n",
       "      <td>2016-12-01 04:42:41</td>\n",
       "      <td>2015-08-08 22:49:41</td>\n",
       "      <td>2015-08-09 12:04:12</td>\n",
       "      <td>2015-08-09 12:04:13</td>\n",
       "    </tr>\n",
       "  </tbody>\n",
       "</table>\n",
       "</div>"
      ],
      "text/plain": [
       "       SubmissionTime RescheduleTime      LastUpdateTime       StartExecTime  \\\n",
       "0 2015-08-07 13:09:34            NaT 2016-12-01 04:42:41 2015-08-07 13:10:26   \n",
       "1 2015-08-07 13:19:34            NaT 2016-12-01 04:42:41 2015-08-07 13:29:29   \n",
       "2 2015-08-08 21:35:09            NaT 2016-12-01 04:42:41 2015-08-08 22:42:40   \n",
       "3 2015-08-08 21:39:29            NaT 2016-12-01 04:42:41 2015-08-08 22:49:54   \n",
       "4 2015-08-08 21:40:31            NaT 2016-12-01 04:42:41 2015-08-08 22:49:41   \n",
       "\n",
       "        HeartBeatTime         EndExecTime  \n",
       "0 2015-08-07 13:20:16 2015-08-07 13:17:13  \n",
       "1 2015-08-07 13:39:55 2015-08-07 13:39:55  \n",
       "2 2015-08-09 12:00:33 2015-08-09 12:00:33  \n",
       "3 2015-08-09 05:07:49 2015-08-09 05:07:49  \n",
       "4 2015-08-09 12:04:12 2015-08-09 12:04:13  "
      ]
     },
     "execution_count": 65,
     "metadata": {},
     "output_type": "execute_result"
    }
   ],
   "source": [
    "dataJobs[['SubmissionTime',\n",
    " 'RescheduleTime',\n",
    " 'LastUpdateTime',\n",
    " 'StartExecTime',\n",
    " 'HeartBeatTime',\n",
    " 'EndExecTime']][:5]"
   ]
  },
  {
   "cell_type": "code",
   "execution_count": 66,
   "metadata": {},
   "outputs": [],
   "source": [
    "### Decision: Convert times to deltas\n",
    "\n",
    "dataJobs['start_submit'] = (dataJobs['StartExecTime']-dataJobs['SubmissionTime']) / np.timedelta64(1, 'm')\n",
    "dataJobs['hbeat_start']  = (dataJobs['HeartBeatTime']-dataJobs['StartExecTime']) / np.timedelta64(1, 'm')\n",
    "\n",
    "for x in ['SubmissionTime','RescheduleTime','LastUpdateTime','StartExecTime','HeartBeatTime','EndExecTime']:\n",
    "    del dataJobs[x]"
   ]
  },
  {
   "cell_type": "code",
   "execution_count": 67,
   "metadata": {},
   "outputs": [],
   "source": [
    "# Decision: Remove the AccountedFlag at this stage\n",
    "del dataJobs['AccountedFlag']"
   ]
  },
  {
   "cell_type": "code",
   "execution_count": 68,
   "metadata": {},
   "outputs": [
    {
     "data": {
      "text/html": [
       "<div>\n",
       "<style scoped>\n",
       "    .dataframe tbody tr th:only-of-type {\n",
       "        vertical-align: middle;\n",
       "    }\n",
       "\n",
       "    .dataframe tbody tr th {\n",
       "        vertical-align: top;\n",
       "    }\n",
       "\n",
       "    .dataframe thead th {\n",
       "        text-align: right;\n",
       "    }\n",
       "</style>\n",
       "<table border=\"1\" class=\"dataframe\">\n",
       "  <thead>\n",
       "    <tr style=\"text-align: right;\">\n",
       "      <th></th>\n",
       "      <th>JobID</th>\n",
       "      <th>JobType</th>\n",
       "      <th>JobGroup</th>\n",
       "      <th>Site</th>\n",
       "      <th>Status</th>\n",
       "      <th>UserPriority</th>\n",
       "      <th>RescheduleCounter</th>\n",
       "      <th>start_submit</th>\n",
       "      <th>hbeat_start</th>\n",
       "    </tr>\n",
       "  </thead>\n",
       "  <tbody>\n",
       "    <tr>\n",
       "      <th>0</th>\n",
       "      <td>23140766</td>\n",
       "      <td>MCProductionBGx0</td>\n",
       "      <td>00000757</td>\n",
       "      <td>DIRAC.UAS.mx</td>\n",
       "      <td>Failed</td>\n",
       "      <td>0</td>\n",
       "      <td>0</td>\n",
       "      <td>0.866667</td>\n",
       "      <td>9.833333</td>\n",
       "    </tr>\n",
       "    <tr>\n",
       "      <th>1</th>\n",
       "      <td>23141083</td>\n",
       "      <td>MCProductionBGx0</td>\n",
       "      <td>00000758</td>\n",
       "      <td>DIRAC.CINVESTAV.mx</td>\n",
       "      <td>Failed</td>\n",
       "      <td>0</td>\n",
       "      <td>0</td>\n",
       "      <td>9.916667</td>\n",
       "      <td>10.433333</td>\n",
       "    </tr>\n",
       "    <tr>\n",
       "      <th>2</th>\n",
       "      <td>23205537</td>\n",
       "      <td>MCProductionBGx0</td>\n",
       "      <td>00000809</td>\n",
       "      <td>LCG.Pisa.it</td>\n",
       "      <td>Failed</td>\n",
       "      <td>0</td>\n",
       "      <td>0</td>\n",
       "      <td>67.516667</td>\n",
       "      <td>797.883333</td>\n",
       "    </tr>\n",
       "    <tr>\n",
       "      <th>3</th>\n",
       "      <td>23205539</td>\n",
       "      <td>MCProductionBGx0</td>\n",
       "      <td>00000809</td>\n",
       "      <td>LCG.KEK2.jp</td>\n",
       "      <td>Failed</td>\n",
       "      <td>0</td>\n",
       "      <td>0</td>\n",
       "      <td>70.416667</td>\n",
       "      <td>377.916667</td>\n",
       "    </tr>\n",
       "    <tr>\n",
       "      <th>4</th>\n",
       "      <td>23205643</td>\n",
       "      <td>MCProductionBGx0</td>\n",
       "      <td>00000809</td>\n",
       "      <td>LCG.Pisa.it</td>\n",
       "      <td>Failed</td>\n",
       "      <td>0</td>\n",
       "      <td>0</td>\n",
       "      <td>69.166667</td>\n",
       "      <td>794.516667</td>\n",
       "    </tr>\n",
       "  </tbody>\n",
       "</table>\n",
       "</div>"
      ],
      "text/plain": [
       "      JobID           JobType  JobGroup                Site  Status  \\\n",
       "0  23140766  MCProductionBGx0  00000757        DIRAC.UAS.mx  Failed   \n",
       "1  23141083  MCProductionBGx0  00000758  DIRAC.CINVESTAV.mx  Failed   \n",
       "2  23205537  MCProductionBGx0  00000809         LCG.Pisa.it  Failed   \n",
       "3  23205539  MCProductionBGx0  00000809         LCG.KEK2.jp  Failed   \n",
       "4  23205643  MCProductionBGx0  00000809         LCG.Pisa.it  Failed   \n",
       "\n",
       "   UserPriority  RescheduleCounter  start_submit  hbeat_start  \n",
       "0             0                  0      0.866667     9.833333  \n",
       "1             0                  0      9.916667    10.433333  \n",
       "2             0                  0     67.516667   797.883333  \n",
       "3             0                  0     70.416667   377.916667  \n",
       "4             0                  0     69.166667   794.516667  "
      ]
     },
     "execution_count": 68,
     "metadata": {},
     "output_type": "execute_result"
    }
   ],
   "source": [
    "dataJobs[:5]"
   ]
  },
  {
   "cell_type": "code",
   "execution_count": 69,
   "metadata": {},
   "outputs": [
    {
     "data": {
      "text/plain": [
       "Failed    500000\n",
       "Done      375000\n",
       "Name: Status, dtype: int64"
      ]
     },
     "execution_count": 69,
     "metadata": {},
     "output_type": "execute_result"
    }
   ],
   "source": [
    "dataJobs.Status.value_counts()"
   ]
  },
  {
   "cell_type": "code",
   "execution_count": 70,
   "metadata": {},
   "outputs": [
    {
     "data": {
      "text/plain": [
       "Index(['JobID', 'JobType', 'JobGroup', 'Site', 'Status', 'UserPriority',\n",
       "       'RescheduleCounter', 'start_submit', 'hbeat_start'],\n",
       "      dtype='object')"
      ]
     },
     "execution_count": 70,
     "metadata": {},
     "output_type": "execute_result"
    }
   ],
   "source": [
    "dataJobs.columns"
   ]
  },
  {
   "cell_type": "code",
   "execution_count": 71,
   "metadata": {},
   "outputs": [
    {
     "name": "stdout",
     "output_type": "stream",
     "text": [
      "CPU times: user 3.59 s, sys: 192 ms, total: 3.78 s\n",
      "Wall time: 3.78 s\n"
     ]
    }
   ],
   "source": [
    "%%time\n",
    "\n",
    "# Make categorical variables:\n",
    "dj_encoded = pd.get_dummies(dataJobs, columns=['JobType','JobGroup','Site','Status','UserPriority'],\n",
    "                           drop_first=True)"
   ]
  },
  {
   "cell_type": "code",
   "execution_count": 72,
   "metadata": {},
   "outputs": [
    {
     "data": {
      "text/plain": [
       "['JobID',\n",
       " 'RescheduleCounter',\n",
       " 'start_submit',\n",
       " 'hbeat_start',\n",
       " 'JobType_MCProductionBGx0',\n",
       " 'JobType_Merge',\n",
       " 'JobGroup_00000758',\n",
       " 'JobGroup_00000808',\n",
       " 'JobGroup_00000809',\n",
       " 'JobGroup_00000974',\n",
       " 'JobGroup_00000975',\n",
       " 'JobGroup_00001303',\n",
       " 'JobGroup_00001306',\n",
       " 'JobGroup_00001368',\n",
       " 'JobGroup_00001369',\n",
       " 'JobGroup_00001370',\n",
       " 'JobGroup_00001371',\n",
       " 'JobGroup_00001372',\n",
       " 'JobGroup_00001373',\n",
       " 'JobGroup_00001374',\n",
       " 'JobGroup_00001375',\n",
       " 'JobGroup_00001376',\n",
       " 'JobGroup_00001377',\n",
       " 'JobGroup_00001378',\n",
       " 'JobGroup_00001379',\n",
       " 'JobGroup_00001380',\n",
       " 'JobGroup_00001381',\n",
       " 'JobGroup_00001386',\n",
       " 'JobGroup_00001398',\n",
       " 'JobGroup_00001404',\n",
       " 'JobGroup_00001622',\n",
       " 'JobGroup_00001635',\n",
       " 'JobGroup_00001636',\n",
       " 'JobGroup_00001637',\n",
       " 'JobGroup_00001638',\n",
       " 'JobGroup_00001639',\n",
       " 'JobGroup_00001640',\n",
       " 'JobGroup_00001641',\n",
       " 'JobGroup_00001642',\n",
       " 'JobGroup_00001643',\n",
       " 'JobGroup_00001644',\n",
       " 'JobGroup_00001645',\n",
       " 'JobGroup_00001646',\n",
       " 'JobGroup_00001647',\n",
       " 'JobGroup_00001648',\n",
       " 'JobGroup_00001649',\n",
       " 'JobGroup_00001650',\n",
       " 'JobGroup_00001651',\n",
       " 'JobGroup_00001652',\n",
       " 'JobGroup_00001653',\n",
       " 'JobGroup_00001654',\n",
       " 'JobGroup_00001655',\n",
       " 'JobGroup_00001656',\n",
       " 'JobGroup_00001657',\n",
       " 'JobGroup_00001658',\n",
       " 'JobGroup_00001659',\n",
       " 'JobGroup_00001660',\n",
       " 'JobGroup_00001661',\n",
       " 'JobGroup_00001662',\n",
       " 'JobGroup_00001663',\n",
       " 'JobGroup_00001664',\n",
       " 'JobGroup_00001665',\n",
       " 'JobGroup_00001666',\n",
       " 'JobGroup_00001667',\n",
       " 'JobGroup_00001668',\n",
       " 'JobGroup_00001669',\n",
       " 'JobGroup_00001670',\n",
       " 'JobGroup_00001671',\n",
       " 'JobGroup_00001672',\n",
       " 'JobGroup_00001673',\n",
       " 'JobGroup_00001674',\n",
       " 'JobGroup_00001675',\n",
       " 'JobGroup_00001676',\n",
       " 'JobGroup_00001677',\n",
       " 'JobGroup_00001678',\n",
       " 'JobGroup_00001679',\n",
       " 'JobGroup_00001680',\n",
       " 'JobGroup_00001681',\n",
       " 'JobGroup_00001682',\n",
       " 'JobGroup_00001683',\n",
       " 'JobGroup_00001684',\n",
       " 'JobGroup_00001685',\n",
       " 'JobGroup_00001686',\n",
       " 'JobGroup_00001687',\n",
       " 'JobGroup_00001688',\n",
       " 'JobGroup_00001689',\n",
       " 'JobGroup_00001690',\n",
       " 'JobGroup_00001691',\n",
       " 'JobGroup_00001692',\n",
       " 'JobGroup_00001693',\n",
       " 'JobGroup_00001694',\n",
       " 'JobGroup_00001695',\n",
       " 'JobGroup_00001696',\n",
       " 'JobGroup_00001699',\n",
       " 'JobGroup_00001702',\n",
       " 'JobGroup_00001705',\n",
       " 'JobGroup_00001710',\n",
       " 'JobGroup_00001711',\n",
       " 'JobGroup_00001712',\n",
       " 'JobGroup_00001714',\n",
       " 'JobGroup_00001717',\n",
       " 'JobGroup_00001720',\n",
       " 'JobGroup_00001721',\n",
       " 'JobGroup_00001722',\n",
       " 'JobGroup_00001723',\n",
       " 'JobGroup_00001724',\n",
       " 'JobGroup_00001725',\n",
       " 'JobGroup_00001726',\n",
       " 'JobGroup_00001727',\n",
       " 'JobGroup_00001728',\n",
       " 'JobGroup_00001729',\n",
       " 'JobGroup_00001732',\n",
       " 'JobGroup_00001733',\n",
       " 'JobGroup_00001734',\n",
       " 'JobGroup_00001735',\n",
       " 'JobGroup_00001736',\n",
       " 'JobGroup_00001737',\n",
       " 'JobGroup_00001738',\n",
       " 'JobGroup_00001739',\n",
       " 'JobGroup_00001740',\n",
       " 'JobGroup_00001741',\n",
       " 'JobGroup_00001744',\n",
       " 'JobGroup_00001746',\n",
       " 'JobGroup_00001747',\n",
       " 'JobGroup_00001749',\n",
       " 'JobGroup_00001750',\n",
       " 'JobGroup_00001753',\n",
       " 'JobGroup_00001754',\n",
       " 'JobGroup_00001755',\n",
       " 'JobGroup_00001756',\n",
       " 'JobGroup_00001757',\n",
       " 'JobGroup_00001758',\n",
       " 'JobGroup_00001759',\n",
       " 'JobGroup_00001760',\n",
       " 'JobGroup_00001761',\n",
       " 'JobGroup_00001762',\n",
       " 'JobGroup_00001763',\n",
       " 'JobGroup_00001764',\n",
       " 'JobGroup_00001765',\n",
       " 'JobGroup_00001766',\n",
       " 'JobGroup_00001767',\n",
       " 'JobGroup_00001768',\n",
       " 'JobGroup_00001769',\n",
       " 'JobGroup_00001770',\n",
       " 'JobGroup_00001771',\n",
       " 'JobGroup_00001772',\n",
       " 'JobGroup_00001773',\n",
       " 'JobGroup_00001774',\n",
       " 'JobGroup_00001775',\n",
       " 'JobGroup_00001776',\n",
       " 'JobGroup_00001777',\n",
       " 'JobGroup_00001778',\n",
       " 'JobGroup_00001779',\n",
       " 'JobGroup_00001780',\n",
       " 'JobGroup_00001781',\n",
       " 'JobGroup_00001782',\n",
       " 'JobGroup_00001783',\n",
       " 'JobGroup_00001784',\n",
       " 'JobGroup_00001785',\n",
       " 'JobGroup_00001786',\n",
       " 'JobGroup_00001787',\n",
       " 'JobGroup_00001788',\n",
       " 'JobGroup_00001789',\n",
       " 'JobGroup_00001790',\n",
       " 'JobGroup_00001791',\n",
       " 'JobGroup_00001792',\n",
       " 'JobGroup_00001793',\n",
       " 'JobGroup_00001794',\n",
       " 'JobGroup_00001795',\n",
       " 'JobGroup_00001796',\n",
       " 'JobGroup_00001797',\n",
       " 'JobGroup_00001798',\n",
       " 'JobGroup_00001799',\n",
       " 'JobGroup_00001800',\n",
       " 'JobGroup_00001801',\n",
       " 'JobGroup_00001802',\n",
       " 'JobGroup_00001803',\n",
       " 'JobGroup_00001804',\n",
       " 'JobGroup_00001805',\n",
       " 'JobGroup_00001806',\n",
       " 'JobGroup_00001807',\n",
       " 'JobGroup_00001808',\n",
       " 'JobGroup_00001809',\n",
       " 'JobGroup_00001810',\n",
       " 'JobGroup_00001811',\n",
       " 'JobGroup_00001812',\n",
       " 'JobGroup_00001813',\n",
       " 'JobGroup_00001814',\n",
       " 'JobGroup_00001815',\n",
       " 'JobGroup_00001816',\n",
       " 'JobGroup_00001817',\n",
       " 'JobGroup_00001818',\n",
       " 'JobGroup_00001819',\n",
       " 'JobGroup_00001820',\n",
       " 'JobGroup_00001821',\n",
       " 'JobGroup_00001822',\n",
       " 'JobGroup_00001823',\n",
       " 'JobGroup_00001824',\n",
       " 'JobGroup_00001825',\n",
       " 'JobGroup_00001826',\n",
       " 'JobGroup_00001827',\n",
       " 'JobGroup_00001828',\n",
       " 'JobGroup_00001829',\n",
       " 'JobGroup_00001830',\n",
       " 'JobGroup_00001831',\n",
       " 'JobGroup_00001832',\n",
       " 'JobGroup_00001833',\n",
       " 'JobGroup_00001834',\n",
       " 'JobGroup_00001837',\n",
       " 'JobGroup_00001840',\n",
       " 'JobGroup_00001842',\n",
       " 'JobGroup_00001845',\n",
       " 'JobGroup_00001847',\n",
       " 'JobGroup_00001849',\n",
       " 'JobGroup_00001850',\n",
       " 'JobGroup_00001856',\n",
       " 'JobGroup_00001857',\n",
       " 'JobGroup_00001858',\n",
       " 'JobGroup_00001859',\n",
       " 'JobGroup_00001860',\n",
       " 'JobGroup_00001861',\n",
       " 'JobGroup_00001863',\n",
       " 'JobGroup_00001864',\n",
       " 'JobGroup_00001865',\n",
       " 'JobGroup_00001866',\n",
       " 'JobGroup_00001868',\n",
       " 'JobGroup_00001871',\n",
       " 'JobGroup_00001872',\n",
       " 'JobGroup_00001914',\n",
       " 'JobGroup_00001916',\n",
       " 'JobGroup_00001917',\n",
       " 'JobGroup_00001919',\n",
       " 'JobGroup_00001920',\n",
       " 'JobGroup_00001921',\n",
       " 'JobGroup_00001922',\n",
       " 'JobGroup_00001923',\n",
       " 'JobGroup_00001924',\n",
       " 'JobGroup_00001925',\n",
       " 'JobGroup_00001926',\n",
       " 'JobGroup_00001927',\n",
       " 'JobGroup_00001929',\n",
       " 'JobGroup_00001931',\n",
       " 'JobGroup_00001935',\n",
       " 'JobGroup_00001936',\n",
       " 'JobGroup_00001937',\n",
       " 'JobGroup_00001939',\n",
       " 'JobGroup_00001940',\n",
       " 'JobGroup_00001941',\n",
       " 'JobGroup_00001942',\n",
       " 'JobGroup_00001943',\n",
       " 'JobGroup_00001944',\n",
       " 'JobGroup_00001945',\n",
       " 'JobGroup_00001946',\n",
       " 'JobGroup_00001947',\n",
       " 'JobGroup_00001948',\n",
       " 'JobGroup_00001949',\n",
       " 'JobGroup_00001950',\n",
       " 'JobGroup_00001951',\n",
       " 'JobGroup_00001952',\n",
       " 'JobGroup_00001953',\n",
       " 'JobGroup_00001954',\n",
       " 'JobGroup_00001955',\n",
       " 'JobGroup_00001956',\n",
       " 'JobGroup_00001957',\n",
       " 'JobGroup_00001958',\n",
       " 'Site_ARC.DESY.de',\n",
       " 'Site_ARC.SIGNET.si',\n",
       " 'Site_CLOUD.AWS_Sydney.au',\n",
       " 'Site_CLOUD.AWS_Tokyo.jp',\n",
       " 'Site_CLOUD.AWS_Virginia.us',\n",
       " 'Site_CLOUD.CC1_Krakow.pl',\n",
       " 'Site_DIRAC.BINP.ru',\n",
       " 'Site_DIRAC.Beihang.cn',\n",
       " 'Site_DIRAC.CINVESTAV.mx',\n",
       " 'Site_DIRAC.Hokudai.jp',\n",
       " 'Site_DIRAC.IITG.in',\n",
       " 'Site_DIRAC.MIPT.ru',\n",
       " 'Site_DIRAC.Nagoya.jp',\n",
       " 'Site_DIRAC.Nara-WU.jp',\n",
       " 'Site_DIRAC.Niigata.jp',\n",
       " 'Site_DIRAC.Osaka-CU.jp',\n",
       " 'Site_DIRAC.PNNL.us',\n",
       " 'Site_DIRAC.RCNP.jp',\n",
       " 'Site_DIRAC.TIFR.in',\n",
       " 'Site_DIRAC.TMU.jp',\n",
       " 'Site_DIRAC.Test.jp',\n",
       " 'Site_DIRAC.Tokyo.jp',\n",
       " 'Site_DIRAC.UAS.mx',\n",
       " 'Site_DIRAC.UVic.ca',\n",
       " 'Site_DIRAC.Yamagata.jp',\n",
       " 'Site_DIRAC.Yonsei.kr',\n",
       " 'Site_Group.KEK2.jp',\n",
       " 'Site_LCG.CESNET.cz',\n",
       " 'Site_LCG.CNAF.it',\n",
       " 'Site_LCG.CYFRONET.pl',\n",
       " 'Site_LCG.Cosenza.it',\n",
       " 'Site_LCG.DESY.de',\n",
       " 'Site_LCG.Frascati.it',\n",
       " 'Site_LCG.HEPHY.at',\n",
       " 'Site_LCG.KEK.jp',\n",
       " 'Site_LCG.KEK2.jp',\n",
       " 'Site_LCG.KISTI.kr',\n",
       " 'Site_LCG.KIT.de',\n",
       " 'Site_LCG.KMI.jp',\n",
       " 'Site_LCG.Legnaro.it',\n",
       " 'Site_LCG.MPPMU.de',\n",
       " 'Site_LCG.McGill.ca',\n",
       " 'Site_LCG.Melbourne.au',\n",
       " 'Site_LCG.NCHC.tw',\n",
       " 'Site_LCG.NTU.tw',\n",
       " 'Site_LCG.Napoli.it',\n",
       " 'Site_LCG.Pisa.it',\n",
       " 'Site_LCG.Torino.it',\n",
       " 'Site_LCG.ULAKBIM.tr',\n",
       " 'Site_Multiple',\n",
       " 'Site_SSH.KMI.jp',\n",
       " 'Status_Failed',\n",
       " 'UserPriority_2',\n",
       " 'UserPriority_3',\n",
       " 'UserPriority_5',\n",
       " 'UserPriority_9',\n",
       " 'UserPriority_10']"
      ]
     },
     "execution_count": 72,
     "metadata": {},
     "output_type": "execute_result"
    }
   ],
   "source": [
    "dj_encoded.columns.tolist()"
   ]
  },
  {
   "cell_type": "code",
   "execution_count": 73,
   "metadata": {},
   "outputs": [
    {
     "data": {
      "text/plain": [
       "322"
      ]
     },
     "execution_count": 73,
     "metadata": {},
     "output_type": "execute_result"
    }
   ],
   "source": [
    "len(dj_encoded.columns.tolist())"
   ]
  },
  {
   "cell_type": "code",
   "execution_count": 74,
   "metadata": {},
   "outputs": [
    {
     "data": {
      "text/plain": [
       "500000"
      ]
     },
     "execution_count": 74,
     "metadata": {},
     "output_type": "execute_result"
    }
   ],
   "source": [
    "# Before dropping first column in get_dummies, this returned 4150\n",
    "len(dj_encoded[dj_encoded['Status_Failed']==True])"
   ]
  },
  {
   "cell_type": "code",
   "execution_count": 75,
   "metadata": {},
   "outputs": [
    {
     "data": {
      "text/plain": [
       "375000"
      ]
     },
     "execution_count": 75,
     "metadata": {},
     "output_type": "execute_result"
    }
   ],
   "source": [
    "# After dropping first column in get_dummies, this returned 4150\n",
    "len(dj_encoded[dj_encoded['Status_Failed']==False])"
   ]
  },
  {
   "cell_type": "code",
   "execution_count": 76,
   "metadata": {},
   "outputs": [
    {
     "data": {
      "text/plain": [
       "(875000, 322)"
      ]
     },
     "execution_count": 76,
     "metadata": {},
     "output_type": "execute_result"
    }
   ],
   "source": [
    "dj_encoded.shape"
   ]
  },
  {
   "cell_type": "code",
   "execution_count": 77,
   "metadata": {},
   "outputs": [],
   "source": [
    "######################################\n",
    "dj_encoded.to_pickle('large_allJobs_featurized_875Kby322.pickle')\n",
    "######################################"
   ]
  },
  {
   "cell_type": "code",
   "execution_count": 76,
   "metadata": {},
   "outputs": [],
   "source": [
    "with open('large_allJobs_featurized_875Kby322.pickle', 'rb') as handle:\n",
    "    dj_encoded = pickle.load(handle)"
   ]
  },
  {
   "cell_type": "code",
   "execution_count": 78,
   "metadata": {},
   "outputs": [
    {
     "data": {
      "text/plain": [
       "(875000, 322)"
      ]
     },
     "execution_count": 78,
     "metadata": {},
     "output_type": "execute_result"
    }
   ],
   "source": [
    "dj_encoded.shape"
   ]
  },
  {
   "cell_type": "code",
   "execution_count": 77,
   "metadata": {},
   "outputs": [],
   "source": [
    "# Use this finally\n",
    "\n",
    "allJobs_encoded = dj_encoded"
   ]
  },
  {
   "cell_type": "code",
   "execution_count": 79,
   "metadata": {},
   "outputs": [],
   "source": [
    "del dataJobs"
   ]
  },
  {
   "cell_type": "code",
   "execution_count": 80,
   "metadata": {},
   "outputs": [],
   "source": [
    "del allHBLI"
   ]
  },
  {
   "cell_type": "code",
   "execution_count": null,
   "metadata": {},
   "outputs": [],
   "source": [
    "#### End of all jobs table processing"
   ]
  },
  {
   "cell_type": "markdown",
   "metadata": {},
   "source": [
    "# Join jobs tables"
   ]
  },
  {
   "cell_type": "code",
   "execution_count": null,
   "metadata": {},
   "outputs": [],
   "source": [
    "# Test Train split each one into 50%\n",
    "# Concat Test dfs and Train dfs,\n",
    "# Now you have 50% from each class in train and test."
   ]
  },
  {
   "cell_type": "markdown",
   "metadata": {},
   "source": [
    "### >> Join 'allJobs_encoded' and 'allHBLI_wide\""
   ]
  },
  {
   "cell_type": "code",
   "execution_count": 82,
   "metadata": {},
   "outputs": [
    {
     "data": {
      "text/plain": [
       "(4742707, 9)"
      ]
     },
     "execution_count": 82,
     "metadata": {},
     "output_type": "execute_result"
    }
   ],
   "source": [
    "allHBLI_wide.shape"
   ]
  },
  {
   "cell_type": "code",
   "execution_count": 83,
   "metadata": {},
   "outputs": [
    {
     "data": {
      "text/plain": [
       "(875000, 322)"
      ]
     },
     "execution_count": 83,
     "metadata": {},
     "output_type": "execute_result"
    }
   ],
   "source": [
    "allJobs_encoded.shape"
   ]
  },
  {
   "cell_type": "code",
   "execution_count": 84,
   "metadata": {},
   "outputs": [
    {
     "name": "stdout",
     "output_type": "stream",
     "text": [
      "(4742707, 330)\n",
      "CPU times: user 4.23 s, sys: 1.12 s, total: 5.36 s\n",
      "Wall time: 5.36 s\n"
     ]
    }
   ],
   "source": [
    "%%time\n",
    "raw_samples = pd.merge(allHBLI_wide, allJobs_encoded, on =['JobID'])\n",
    "print(raw_samples.shape)"
   ]
  },
  {
   "cell_type": "code",
   "execution_count": 85,
   "metadata": {},
   "outputs": [
    {
     "data": {
      "text/plain": [
       "(4742707, 330)"
      ]
     },
     "execution_count": 85,
     "metadata": {},
     "output_type": "execute_result"
    }
   ],
   "source": [
    "raw_samples.shape"
   ]
  },
  {
   "cell_type": "code",
   "execution_count": 86,
   "metadata": {},
   "outputs": [],
   "source": [
    "import matplotlib.pyplot as plt\n",
    "%matplotlib inline\n",
    "\n",
    "sample_counts = pd.value_counts(raw_samples['JobID'].values, sort=False)"
   ]
  },
  {
   "cell_type": "code",
   "execution_count": 87,
   "metadata": {},
   "outputs": [
    {
     "data": {
      "image/png": "[encoded data removed]",
      "text/plain": [
       "<matplotlib.figure.Figure at 0x7fbad40b6710>"
      ]
     },
     "metadata": {},
     "output_type": "display_data"
    }
   ],
   "source": [
    "plt.hist(sample_counts.values, bins = 100)\n",
    "plt.show()"
   ]
  },
  {
   "cell_type": "markdown",
   "metadata": {},
   "source": [
    "# Sample Generation"
   ]
  },
  {
   "cell_type": "markdown",
   "metadata": {},
   "source": [
    "# Convert Pandas dataframe to LSTM 3D tensor"
   ]
  },
  {
   "cell_type": "markdown",
   "metadata": {},
   "source": [
    "# Set Threshold"
   ]
  },
  {
   "cell_type": "code",
   "execution_count": 88,
   "metadata": {},
   "outputs": [],
   "source": [
    "thresholdd = 1"
   ]
  },
  {
   "cell_type": "code",
   "execution_count": 89,
   "metadata": {},
   "outputs": [
    {
     "data": {
      "text/plain": [
       "684923"
      ]
     },
     "execution_count": 89,
     "metadata": {},
     "output_type": "execute_result"
    }
   ],
   "source": [
    "sum(sample_counts.values>=thresholdd)"
   ]
  },
  {
   "cell_type": "code",
   "execution_count": 90,
   "metadata": {},
   "outputs": [
    {
     "data": {
      "text/plain": [
       "0"
      ]
     },
     "execution_count": 90,
     "metadata": {},
     "output_type": "execute_result"
    }
   ],
   "source": [
    "### Decision: Number of timesteps per sample = 3\n",
    "# Shape of 3D matrix should be (#samples)x(3)x(132)\n",
    "\n",
    "sum(sample_counts.values<thresholdd)"
   ]
  },
  {
   "cell_type": "code",
   "execution_count": 91,
   "metadata": {},
   "outputs": [
    {
     "name": "stdout",
     "output_type": "stream",
     "text": [
      "32730316    1\n",
      "38182925    4\n",
      "37864081    1\n",
      "Name: JobID, dtype: int64\n"
     ]
    }
   ],
   "source": [
    "# Delete rows of JobIDs with  fewer than 3 timestamps\n",
    "\n",
    "dff = raw_samples['JobID'].value_counts()\n",
    "print(dff.sample(3))"
   ]
  },
  {
   "cell_type": "code",
   "execution_count": null,
   "metadata": {},
   "outputs": [],
   "source": [
    "dff = dff[dff<thresholdd]\n",
    "\n",
    "\n",
    "dff = dff.reset_index()\n",
    "dff = dff.rename(index=str, columns={\"JobID\": \"count\", \"index\": \"JobID\"})\n",
    "\n",
    "print(dff.sample(5))\n",
    "print(dff.head())\n",
    "\n",
    "remove_list = dff['JobID'].tolist()\n",
    "remove_list[:5]"
   ]
  },
  {
   "cell_type": "code",
   "execution_count": 93,
   "metadata": {},
   "outputs": [],
   "source": [
    "remove_list=[]"
   ]
  },
  {
   "cell_type": "code",
   "execution_count": 94,
   "metadata": {},
   "outputs": [
    {
     "data": {
      "text/plain": [
       "((4742707, 330), (4742707, 330))"
      ]
     },
     "execution_count": 94,
     "metadata": {},
     "output_type": "execute_result"
    }
   ],
   "source": [
    "# THis CLEANED is not the final one, \n",
    "# Go forward to see : this is just an initialization\n",
    "\n",
    "cleaned = raw_samples[~raw_samples['JobID'].isin(remove_list)]\n",
    "cleaned.shape, raw_samples.shape"
   ]
  },
  {
   "cell_type": "code",
   "execution_count": 95,
   "metadata": {},
   "outputs": [],
   "source": [
    "# Number of unique JobIDs in cleaned\n",
    "totalleftjobslist = cleaned.JobID.unique().tolist()\n",
    "\n",
    "totalleftjobs = len(cleaned.JobID.unique().tolist())"
   ]
  },
  {
   "cell_type": "code",
   "execution_count": 96,
   "metadata": {},
   "outputs": [
    {
     "data": {
      "text/plain": [
       "(342461, 684923)"
      ]
     },
     "execution_count": 96,
     "metadata": {},
     "output_type": "execute_result"
    }
   ],
   "source": [
    "import random\n",
    "\n",
    "indices = random.sample(range(len(totalleftjobslist)), int(totalleftjobs * .50))\n",
    "takeoutlist = [totalleftjobslist[i] for i in sorted(indices)]\n",
    "\n",
    "len(takeoutlist), totalleftjobs "
   ]
  },
  {
   "cell_type": "code",
   "execution_count": 97,
   "metadata": {},
   "outputs": [
    {
     "name": "stdout",
     "output_type": "stream",
     "text": [
      "0\n",
      "342461\n"
     ]
    }
   ],
   "source": [
    "print(len(remove_list))\n",
    "remove_list = remove_list + takeoutlist\n",
    "print(len(remove_list))"
   ]
  },
  {
   "cell_type": "markdown",
   "metadata": {},
   "source": [
    "# Train on cleaned, Test on takeoutdf"
   ]
  },
  {
   "cell_type": "code",
   "execution_count": 98,
   "metadata": {},
   "outputs": [
    {
     "data": {
      "text/plain": [
       "((2365109, 330), (4742707, 330))"
      ]
     },
     "execution_count": 98,
     "metadata": {},
     "output_type": "execute_result"
    }
   ],
   "source": [
    "cleaned = raw_samples[~raw_samples['JobID'].isin(remove_list)]\n",
    "cleaned.shape, raw_samples.shape"
   ]
  },
  {
   "cell_type": "code",
   "execution_count": 266,
   "metadata": {},
   "outputs": [],
   "source": [
    "with open('large_cleaned_for_training.pickle', 'wb') as handle:\n",
    "    pickle.dump(cleaned, handle, protocol=pickle.HIGHEST_PROTOCOL)"
   ]
  },
  {
   "cell_type": "code",
   "execution_count": 99,
   "metadata": {},
   "outputs": [
    {
     "data": {
      "text/plain": [
       "((2377598, 330), (4742707, 330))"
      ]
     },
     "execution_count": 99,
     "metadata": {},
     "output_type": "execute_result"
    }
   ],
   "source": [
    "takeoutdf = raw_samples[raw_samples['JobID'].isin(takeoutlist)]\n",
    "takeoutdf.shape, raw_samples.shape"
   ]
  },
  {
   "cell_type": "code",
   "execution_count": 267,
   "metadata": {},
   "outputs": [],
   "source": [
    "with open('large_takeoutdf_for_testing.pickle', 'wb') as handle:\n",
    "    pickle.dump(takeoutdf, handle, protocol=pickle.HIGHEST_PROTOCOL)"
   ]
  },
  {
   "cell_type": "code",
   "execution_count": 100,
   "metadata": {},
   "outputs": [],
   "source": [
    "######################"
   ]
  },
  {
   "cell_type": "code",
   "execution_count": 101,
   "metadata": {},
   "outputs": [
    {
     "data": {
      "text/plain": [
       "(0, 342462)"
      ]
     },
     "execution_count": 101,
     "metadata": {},
     "output_type": "execute_result"
    }
   ],
   "source": [
    "# Count values in cleaned\n",
    "\n",
    "cleaned_counts = pd.value_counts(cleaned['JobID'].values, sort=False)\n",
    "sum(cleaned_counts.values<thresholdd), sum(cleaned_counts.values>=thresholdd)"
   ]
  },
  {
   "cell_type": "code",
   "execution_count": 102,
   "metadata": {},
   "outputs": [
    {
     "data": {
      "text/plain": [
       "684923"
      ]
     },
     "execution_count": 102,
     "metadata": {},
     "output_type": "execute_result"
    }
   ],
   "source": [
    "len((sample_counts.values))"
   ]
  },
  {
   "cell_type": "code",
   "execution_count": 103,
   "metadata": {},
   "outputs": [
    {
     "name": "stdout",
     "output_type": "stream",
     "text": [
      "330\n"
     ]
    },
    {
     "data": {
      "text/plain": [
       "0    1634854\n",
       "1     730255\n",
       "Name: Status_Failed, dtype: int64"
      ]
     },
     "execution_count": 103,
     "metadata": {},
     "output_type": "execute_result"
    }
   ],
   "source": [
    "train_feat = cleaned.columns.tolist()\n",
    "print(len(train_feat)) #125\n",
    "cleaned.Status_Failed.value_counts()"
   ]
  },
  {
   "cell_type": "code",
   "execution_count": 104,
   "metadata": {},
   "outputs": [],
   "source": [
    "# Build Training Features"
   ]
  },
  {
   "cell_type": "code",
   "execution_count": 105,
   "metadata": {},
   "outputs": [
    {
     "data": {
      "text/plain": [
       "(2365109, 330)"
      ]
     },
     "execution_count": 105,
     "metadata": {},
     "output_type": "execute_result"
    }
   ],
   "source": [
    "cleaned.shape"
   ]
  },
  {
   "cell_type": "code",
   "execution_count": 106,
   "metadata": {},
   "outputs": [],
   "source": [
    "# Takes a df and converts it to 3D tensor\n",
    "# Each sample will have k time steps\n",
    "\n",
    "def samples_features(df_input):\n",
    "    \n",
    "    k = thresholdd\n",
    "    input_cols = train_feat\n",
    "    \n",
    "    # takes a df\n",
    "    # Put your inputs into a single list\n",
    "    \n",
    "    df = pd.DataFrame()\n",
    "    \n",
    "    df['single_input_vector'] = df_input[input_cols].apply(tuple, axis=1).apply(list)\n",
    "    \n",
    "    # Double-encapsulate list so that you can sum it in the next step and keep time steps as separate elements\n",
    "    df['single_input_vector'] = df.single_input_vector.apply(lambda x: [list(x)])\n",
    "        \n",
    "    # The starting point\n",
    "    df['cumulative_input_vectors'] = df['single_input_vector'].shift(0)\n",
    "    \n",
    "    for i in range(1,k):\n",
    "        df['cumulative_input_vectors'] += df['single_input_vector'].shift(i)\n",
    "          \n",
    "    df.dropna(inplace=True)     # does operation in place & returns None\n",
    "\n",
    "    # Extract your training data\n",
    "    X_ = np.asarray(df.cumulative_input_vectors)\n",
    "    \n",
    "    # Use hstack to and reshape to make the inputs a 3d vector\n",
    "    X = np.vstack(X_).reshape(len(df), k, len(input_cols))\n",
    "    \n",
    "    # Clean up\n",
    "    del df\n",
    "    \n",
    "    return X\n",
    "    # returns 3D array"
   ]
  },
  {
   "cell_type": "code",
   "execution_count": 107,
   "metadata": {},
   "outputs": [],
   "source": [
    "# Label Column ('Status_Failed' is the label column)\n",
    "label_col = ['Status_Failed']"
   ]
  },
  {
   "cell_type": "code",
   "execution_count": 108,
   "metadata": {
    "scrolled": true
   },
   "outputs": [
    {
     "data": {
      "text/plain": [
       "1"
      ]
     },
     "execution_count": 108,
     "metadata": {},
     "output_type": "execute_result"
    }
   ],
   "source": [
    "thresholdd #Check it matched the title"
   ]
  },
  {
   "cell_type": "markdown",
   "metadata": {},
   "source": [
    "# Build X (each job separately)"
   ]
  },
  {
   "cell_type": "code",
   "execution_count": 109,
   "metadata": {},
   "outputs": [
    {
     "data": {
      "text/plain": [
       "(2365109, 330)"
      ]
     },
     "execution_count": 109,
     "metadata": {},
     "output_type": "execute_result"
    }
   ],
   "source": [
    "cleaned.shape"
   ]
  },
  {
   "cell_type": "code",
   "execution_count": 27,
   "metadata": {},
   "outputs": [],
   "source": [
    "with open('large_cleaned_for_train_samples_2374144by330.pickle', 'rb') as handle:\n",
    "    cleaned = pickle.load(handle)"
   ]
  },
  {
   "cell_type": "code",
   "execution_count": 110,
   "metadata": {},
   "outputs": [],
   "source": [
    "##################################################"
   ]
  },
  {
   "cell_type": "code",
   "execution_count": 28,
   "metadata": {},
   "outputs": [
    {
     "data": {
      "text/plain": [
       "(2374144, 330)"
      ]
     },
     "execution_count": 28,
     "metadata": {},
     "output_type": "execute_result"
    }
   ],
   "source": [
    "cleaned.shape"
   ]
  },
  {
   "cell_type": "code",
   "execution_count": 110,
   "metadata": {},
   "outputs": [
    {
     "data": {
      "text/plain": [
       "410"
      ]
     },
     "execution_count": 110,
     "metadata": {},
     "output_type": "execute_result"
    }
   ],
   "source": [
    "cleaned.isnull().values.ravel().sum()"
   ]
  },
  {
   "cell_type": "code",
   "execution_count": 111,
   "metadata": {},
   "outputs": [],
   "source": [
    "cleaned = cleaned.dropna()"
   ]
  },
  {
   "cell_type": "code",
   "execution_count": 112,
   "metadata": {
    "scrolled": true
   },
   "outputs": [
    {
     "data": {
      "text/plain": [
       "0"
      ]
     },
     "execution_count": 112,
     "metadata": {},
     "output_type": "execute_result"
    }
   ],
   "source": [
    "cleaned.isnull().values.ravel().sum()"
   ]
  },
  {
   "cell_type": "code",
   "execution_count": null,
   "metadata": {},
   "outputs": [],
   "source": [
    "cleaned.columns.tolist()"
   ]
  },
  {
   "cell_type": "code",
   "execution_count": 32,
   "metadata": {},
   "outputs": [],
   "source": [
    "##################################################"
   ]
  },
  {
   "cell_type": "code",
   "execution_count": 113,
   "metadata": {},
   "outputs": [],
   "source": [
    "cols = cleaned.columns.tolist()"
   ]
  },
  {
   "cell_type": "code",
   "execution_count": 114,
   "metadata": {},
   "outputs": [
    {
     "name": "stdout",
     "output_type": "stream",
     "text": [
      "330\n"
     ]
    },
    {
     "data": {
      "text/plain": [
       "65"
      ]
     },
     "execution_count": 114,
     "metadata": {},
     "output_type": "execute_result"
    }
   ],
   "source": [
    "train_feat = cleaned.columns.tolist()\n",
    "print(len(train_feat)) #125\n",
    "\n",
    "train_feat.remove('HeartBeatTime')\n",
    "train_feat.remove('JobID')\n",
    "train_feat.remove('Status_Failed')\n",
    "\n",
    "\n",
    "### Extra removal after noticing high accuracy\n",
    "train_feat.remove('hbeat_start')\n",
    "train_feat.remove('start_submit')\n",
    "train_feat.remove('WallClockTime')\n",
    "\n",
    "for c in cols:\n",
    "    if 'JobGroup' in c:\n",
    "        train_feat.remove(c)\n",
    "##############################################\n",
    "\n",
    "len(train_feat) #122"
   ]
  },
  {
   "cell_type": "code",
   "execution_count": 115,
   "metadata": {},
   "outputs": [
    {
     "name": "stdout",
     "output_type": "stream",
     "text": [
      "CPU times: user 634 µs, sys: 4.09 ms, total: 4.73 ms\n",
      "Wall time: 4.74 ms\n"
     ]
    }
   ],
   "source": [
    "%%time\n",
    "cleanedgrouped = cleaned.groupby('JobID')"
   ]
  },
  {
   "cell_type": "code",
   "execution_count": 116,
   "metadata": {},
   "outputs": [
    {
     "name": "stdout",
     "output_type": "stream",
     "text": [
      "1\n"
     ]
    },
    {
     "data": {
      "text/plain": [
       "(None, (2364904, 330))"
      ]
     },
     "execution_count": 116,
     "metadata": {},
     "output_type": "execute_result"
    }
   ],
   "source": [
    "print(thresholdd), cleaned.shape"
   ]
  },
  {
   "cell_type": "code",
   "execution_count": 36,
   "metadata": {},
   "outputs": [
    {
     "name": "stdout",
     "output_type": "stream",
     "text": [
      "1\n"
     ]
    },
    {
     "data": {
      "text/plain": [
       "(None, (2373924, 330))"
      ]
     },
     "execution_count": 36,
     "metadata": {},
     "output_type": "execute_result"
    }
   ],
   "source": [
    "print(thresholdd), cleaned.shape"
   ]
  },
  {
   "cell_type": "code",
   "execution_count": null,
   "metadata": {},
   "outputs": [],
   "source": [
    "train_feat"
   ]
  },
  {
   "cell_type": "markdown",
   "metadata": {},
   "source": [
    "## Cleaned df to 3D tensor"
   ]
  },
  {
   "cell_type": "markdown",
   "metadata": {},
   "source": [
    "### Make X"
   ]
  },
  {
   "cell_type": "code",
   "execution_count": 118,
   "metadata": {},
   "outputs": [
    {
     "data": {
      "text/plain": [
       "24"
      ]
     },
     "execution_count": 118,
     "metadata": {},
     "output_type": "execute_result"
    }
   ],
   "source": [
    "import pandas as pd\n",
    "from joblib import Parallel, delayed\n",
    "import multiprocessing\n",
    "\n",
    "multiprocessing.cpu_count()"
   ]
  },
  {
   "cell_type": "code",
   "execution_count": 119,
   "metadata": {},
   "outputs": [],
   "source": [
    "\n",
    "def applyParallel(dfGrouped, func):\n",
    "    retLst = Parallel(n_jobs=multiprocessing.cpu_count())(delayed(func)(group) for name, group in dfGrouped)\n",
    "    return retLst"
   ]
  },
  {
   "cell_type": "code",
   "execution_count": 120,
   "metadata": {},
   "outputs": [
    {
     "name": "stdout",
     "output_type": "stream",
     "text": [
      "CPU times: user 5min 14s, sys: 29.5 s, total: 5min 43s\n",
      "Wall time: 7min 12s\n"
     ]
    }
   ],
   "source": [
    "%%time\n",
    "\n",
    "collecttrain = applyParallel(cleanedgrouped, samples_features)"
   ]
  },
  {
   "cell_type": "code",
   "execution_count": 122,
   "metadata": {},
   "outputs": [
    {
     "name": "stdout",
     "output_type": "stream",
     "text": [
      "CPU times: user 23min 39s, sys: 13.1 s, total: 23min 52s\n",
      "Wall time: 23min 58s\n"
     ]
    }
   ],
   "source": [
    "%%time\n",
    "\n",
    "# See if you can read a stored version\n",
    "collecttrain = cleanedgrouped.apply(samples_features)"
   ]
  },
  {
   "cell_type": "code",
   "execution_count": 124,
   "metadata": {},
   "outputs": [
    {
     "data": {
      "text/plain": [
       "(342401,)"
      ]
     },
     "execution_count": 124,
     "metadata": {},
     "output_type": "execute_result"
    }
   ],
   "source": [
    "collecttrain.shape"
   ]
  },
  {
   "cell_type": "code",
   "execution_count": 44,
   "metadata": {},
   "outputs": [
    {
     "data": {
      "text/plain": [
       "342401"
      ]
     },
     "execution_count": 44,
     "metadata": {},
     "output_type": "execute_result"
    }
   ],
   "source": [
    "len(collecttrain)"
   ]
  },
  {
   "cell_type": "code",
   "execution_count": 121,
   "metadata": {},
   "outputs": [
    {
     "data": {
      "text/plain": [
       "342405"
      ]
     },
     "execution_count": 121,
     "metadata": {},
     "output_type": "execute_result"
    }
   ],
   "source": [
    "len(collecttrain)"
   ]
  },
  {
   "cell_type": "code",
   "execution_count": null,
   "metadata": {},
   "outputs": [],
   "source": [
    "# >> Start here for importing training and test data"
   ]
  },
  {
   "cell_type": "code",
   "execution_count": null,
   "metadata": {},
   "outputs": [],
   "source": []
  },
  {
   "cell_type": "code",
   "execution_count": 75,
   "metadata": {},
   "outputs": [],
   "source": [
    "import pickle\n",
    "\n",
    "with open('large_collecttrain.pickle', 'wb') as handle:\n",
    "    pickle.dump(collecttrain, handle, protocol=pickle.HIGHEST_PROTOCOL)"
   ]
  },
  {
   "cell_type": "code",
   "execution_count": 8,
   "metadata": {},
   "outputs": [],
   "source": [
    "import pickle\n",
    "\n",
    "with open('large_collecttrain.pickle', 'rb') as handle:\n",
    "    collecttrain = pickle.load(handle)"
   ]
  },
  {
   "cell_type": "code",
   "execution_count": 122,
   "metadata": {},
   "outputs": [
    {
     "ename": "AttributeError",
     "evalue": "'list' object has no attribute 'shape'",
     "output_type": "error",
     "traceback": [
      "\u001b[0;31m---------------------------------------------------------------------------\u001b[0m",
      "\u001b[0;31mAttributeError\u001b[0m                            Traceback (most recent call last)",
      "\u001b[0;32m<ipython-input-122-974103ec8d4d>\u001b[0m in \u001b[0;36m<module>\u001b[0;34m()\u001b[0m\n\u001b[0;32m----> 1\u001b[0;31m \u001b[0mcollecttrain\u001b[0m\u001b[0;34m.\u001b[0m\u001b[0mshape\u001b[0m\u001b[0;34m\u001b[0m\u001b[0m\n\u001b[0m",
      "\u001b[0;31mAttributeError\u001b[0m: 'list' object has no attribute 'shape'"
     ]
    }
   ],
   "source": [
    "collecttrain.shape"
   ]
  },
  {
   "cell_type": "code",
   "execution_count": 127,
   "metadata": {},
   "outputs": [
    {
     "name": "stdout",
     "output_type": "stream",
     "text": [
      "[[5.87734625e-03 3.38586439e-05 5.52050157e-02 2.43940947e-01\n",
      "  5.00638193e-04 7.01959883e-03 0.00000000e+00 1.00000000e+00\n",
      "  0.00000000e+00 0.00000000e+00 0.00000000e+00 0.00000000e+00\n",
      "  0.00000000e+00 0.00000000e+00 0.00000000e+00 0.00000000e+00\n",
      "  0.00000000e+00 0.00000000e+00 0.00000000e+00 0.00000000e+00\n",
      "  0.00000000e+00 0.00000000e+00 0.00000000e+00 0.00000000e+00\n",
      "  0.00000000e+00 0.00000000e+00 0.00000000e+00 0.00000000e+00\n",
      "  0.00000000e+00 0.00000000e+00 0.00000000e+00 0.00000000e+00\n",
      "  0.00000000e+00 0.00000000e+00 0.00000000e+00 0.00000000e+00\n",
      "  0.00000000e+00 0.00000000e+00 0.00000000e+00 0.00000000e+00\n",
      "  0.00000000e+00 0.00000000e+00 0.00000000e+00 0.00000000e+00\n",
      "  0.00000000e+00 0.00000000e+00 0.00000000e+00 0.00000000e+00\n",
      "  0.00000000e+00 0.00000000e+00 0.00000000e+00 0.00000000e+00\n",
      "  0.00000000e+00 0.00000000e+00 0.00000000e+00 1.00000000e+00\n",
      "  0.00000000e+00 0.00000000e+00 0.00000000e+00 0.00000000e+00\n",
      "  0.00000000e+00 0.00000000e+00 0.00000000e+00 0.00000000e+00\n",
      "  0.00000000e+00]]\n",
      "***********************\n",
      "[[0.00587855 0.00670025 0.05923122 0.24577666 0.00442427 0.01591509\n",
      "  0.         1.         0.         0.         0.         0.\n",
      "  0.         0.         0.         0.         0.         0.\n",
      "  0.         0.         0.         0.         0.         0.\n",
      "  0.         0.         0.         0.         0.         0.\n",
      "  0.         0.         0.         0.         0.         0.\n",
      "  0.         0.         0.         0.         0.         0.\n",
      "  0.         0.         0.         0.         0.         0.\n",
      "  0.         0.         0.         0.         0.         0.\n",
      "  0.         1.         0.         0.         0.         0.\n",
      "  0.         0.         0.         0.         0.        ]]\n",
      "***********************\n",
      "[[0.00587469 0.01348326 0.06385834 0.24839038 0.00467887 0.01685202\n",
      "  0.         1.         0.         0.         0.         0.\n",
      "  0.         0.         0.         0.         0.         0.\n",
      "  0.         0.         0.         0.         0.         0.\n",
      "  0.         0.         0.         0.         0.         0.\n",
      "  0.         0.         0.         0.         0.         0.\n",
      "  0.         0.         0.         0.         0.         0.\n",
      "  0.         0.         0.         0.         0.         0.\n",
      "  0.         0.         0.         0.         0.         0.\n",
      "  0.         1.         0.         0.         0.         0.\n",
      "  0.         0.         0.         0.         0.        ]]\n",
      "***********************\n",
      "[[0.00586786 0.02022113 0.05740841 0.2446733  0.00482467 0.01700871\n",
      "  0.         1.         0.         0.         0.         0.\n",
      "  0.         0.         0.         0.         0.         0.\n",
      "  0.         0.         0.         0.         0.         0.\n",
      "  0.         0.         0.         0.         0.         0.\n",
      "  0.         0.         0.         0.         0.         0.\n",
      "  0.         0.         0.         0.         0.         0.\n",
      "  0.         0.         0.         0.         0.         0.\n",
      "  0.         0.         0.         0.         0.         0.\n",
      "  0.         1.         0.         0.         0.         0.\n",
      "  0.         0.         0.         0.         0.        ]]\n",
      "***********************\n",
      "[[0.00586747 0.02697029 0.06067344 0.24821542 0.00501603 0.01715161\n",
      "  0.         1.         0.         0.         0.         0.\n",
      "  0.         0.         0.         0.         0.         0.\n",
      "  0.         0.         0.         0.         0.         0.\n",
      "  0.         0.         0.         0.         0.         0.\n",
      "  0.         0.         0.         0.         0.         0.\n",
      "  0.         0.         0.         0.         0.         0.\n",
      "  0.         0.         0.         0.         0.         0.\n",
      "  0.         0.         0.         0.         0.         0.\n",
      "  0.         1.         0.         0.         0.         0.\n",
      "  0.         0.         0.         0.         0.        ]]\n",
      "***********************\n",
      "[[0.00585996 0.03371192 0.05889069 0.248229   0.00507018 0.01717401\n",
      "  0.         1.         0.         0.         0.         0.\n",
      "  0.         0.         0.         0.         0.         0.\n",
      "  0.         0.         0.         0.         0.         0.\n",
      "  0.         0.         0.         0.         0.         0.\n",
      "  0.         0.         0.         0.         0.         0.\n",
      "  0.         0.         0.         0.         0.         0.\n",
      "  0.         0.         0.         0.         0.         0.\n",
      "  0.         0.         0.         0.         0.         0.\n",
      "  0.         1.         0.         0.         0.         0.\n",
      "  0.         0.         0.         0.         0.        ]]\n",
      "***********************\n",
      "[[0.0058601  0.04046484 0.0579893  0.24831125 0.00529958 0.01744767\n",
      "  0.         1.         0.         0.         0.         0.\n",
      "  0.         0.         0.         0.         0.         0.\n",
      "  0.         0.         0.         0.         0.         0.\n",
      "  0.         0.         0.         0.         0.         0.\n",
      "  0.         0.         0.         0.         0.         0.\n",
      "  0.         0.         0.         0.         0.         0.\n",
      "  0.         0.         0.         0.         0.         0.\n",
      "  0.         0.         0.         0.         0.         0.\n",
      "  0.         1.         0.         0.         0.         0.\n",
      "  0.         0.         0.         0.         0.        ]]\n",
      "***********************\n",
      "[[0.0058708  0.047214   0.05660718 0.2250257  0.00531179 0.01744872\n",
      "  0.         1.         0.         0.         0.         0.\n",
      "  0.         0.         0.         0.         0.         0.\n",
      "  0.         0.         0.         0.         0.         0.\n",
      "  0.         0.         0.         0.         0.         0.\n",
      "  0.         0.         0.         0.         0.         0.\n",
      "  0.         0.         0.         0.         0.         0.\n",
      "  0.         0.         0.         0.         0.         0.\n",
      "  0.         0.         0.         0.         0.         0.\n",
      "  0.         1.         0.         0.         0.         0.\n",
      "  0.         0.         0.         0.         0.        ]]\n",
      "***********************\n",
      "[[0.00587001 0.05397068 0.06029285 0.23919896 0.00537524 0.01752751\n",
      "  0.         1.         0.         0.         0.         0.\n",
      "  0.         0.         0.         0.         0.         0.\n",
      "  0.         0.         0.         0.         0.         0.\n",
      "  0.         0.         0.         0.         0.         0.\n",
      "  0.         0.         0.         0.         0.         0.\n",
      "  0.         0.         0.         0.         0.         0.\n",
      "  0.         0.         0.         0.         0.         0.\n",
      "  0.         0.         0.         0.         0.         0.\n",
      "  0.         1.         0.         0.         0.         0.\n",
      "  0.         0.         0.         0.         0.        ]]\n",
      "***********************\n",
      "[[0.00586614 0.06072736 0.05766881 0.24423045 0.00542839 0.01758243\n",
      "  0.         1.         0.         0.         0.         0.\n",
      "  0.         0.         0.         0.         0.         0.\n",
      "  0.         0.         0.         0.         0.         0.\n",
      "  0.         0.         0.         0.         0.         0.\n",
      "  0.         0.         0.         0.         0.         0.\n",
      "  0.         0.         0.         0.         0.         0.\n",
      "  0.         0.         0.         0.         0.         0.\n",
      "  0.         0.         0.         0.         0.         0.\n",
      "  0.         1.         0.         0.         0.         0.\n",
      "  0.         0.         0.         0.         0.        ]]\n",
      "***********************\n",
      "[[0.00589088 0.06751037 0.05744847 0.22646814 0.00594475 0.01808561\n",
      "  0.         1.         0.         0.         0.         0.\n",
      "  0.         0.         0.         0.         0.         0.\n",
      "  0.         0.         0.         0.         0.         0.\n",
      "  0.         0.         0.         0.         0.         0.\n",
      "  0.         0.         0.         0.         0.         0.\n",
      "  0.         0.         0.         0.         0.         0.\n",
      "  0.         0.         0.         0.         0.         0.\n",
      "  0.         0.         0.         0.         0.         0.\n",
      "  0.         1.         0.         0.         0.         0.\n",
      "  0.         0.         0.         0.         0.        ]]\n",
      "***********************\n",
      "[[0.00591885 0.07426705 0.05582597 0.21188396 0.00618325 0.01832526\n",
      "  0.         1.         0.         0.         0.         0.\n",
      "  0.         0.         0.         0.         0.         0.\n",
      "  0.         0.         0.         0.         0.         0.\n",
      "  0.         0.         0.         0.         0.         0.\n",
      "  0.         0.         0.         0.         0.         0.\n",
      "  0.         0.         0.         0.         0.         0.\n",
      "  0.         0.         0.         0.         0.         0.\n",
      "  0.         0.         0.         0.         0.         0.\n",
      "  0.         1.         0.         0.         0.         0.\n",
      "  0.         0.         0.         0.         0.        ]]\n",
      "***********************\n",
      "[[0.00591798 0.08101997 0.05714801 0.22151166 0.00619823 0.01832626\n",
      "  0.         1.         0.         0.         0.         0.\n",
      "  0.         0.         0.         0.         0.         0.\n",
      "  0.         0.         0.         0.         0.         0.\n",
      "  0.         0.         0.         0.         0.         0.\n",
      "  0.         0.         0.         0.         0.         0.\n",
      "  0.         0.         0.         0.         0.         0.\n",
      "  0.         0.         0.         0.         0.         0.\n",
      "  0.         0.         0.         0.         0.         0.\n",
      "  0.         1.         0.         0.         0.         0.\n",
      "  0.         0.         0.         0.         0.        ]]\n",
      "***********************\n",
      "[[0.00591614 0.08777289 0.05193999 0.22437752 0.00628667 0.01838864\n",
      "  0.         1.         0.         0.         0.         0.\n",
      "  0.         0.         0.         0.         0.         0.\n",
      "  0.         0.         0.         0.         0.         0.\n",
      "  0.         0.         0.         0.         0.         0.\n",
      "  0.         0.         0.         0.         0.         0.\n",
      "  0.         0.         0.         0.         0.         0.\n",
      "  0.         0.         0.         0.         0.         0.\n",
      "  0.         0.         0.         0.         0.         0.\n",
      "  0.         1.         0.         0.         0.         0.\n",
      "  0.         0.         0.         0.         0.        ]]\n",
      "***********************\n",
      "[[0.00591394 0.09452957 0.05828977 0.23951872 0.00630581 0.01847735\n",
      "  0.         1.         0.         0.         0.         0.\n",
      "  0.         0.         0.         0.         0.         0.\n",
      "  0.         0.         0.         0.         0.         0.\n",
      "  0.         0.         0.         0.         0.         0.\n",
      "  0.         0.         0.         0.         0.         0.\n",
      "  0.         0.         0.         0.         0.         0.\n",
      "  0.         0.         0.         0.         0.         0.\n",
      "  0.         0.         0.         0.         0.         0.\n",
      "  0.         1.         0.         0.         0.         0.\n",
      "  0.         0.         0.         0.         0.        ]]\n",
      "***********************\n",
      "[[0.00591284 0.10129001 0.0574685  0.24365153 0.00649313 0.01861931\n",
      "  0.         1.         0.         0.         0.         0.\n",
      "  0.         0.         0.         0.         0.         0.\n",
      "  0.         0.         0.         0.         0.         0.\n",
      "  0.         0.         0.         0.         0.         0.\n",
      "  0.         0.         0.         0.         0.         0.\n",
      "  0.         0.         0.         0.         0.         0.\n",
      "  0.         0.         0.         0.         0.         0.\n",
      "  0.         0.         0.         0.         0.         0.\n",
      "  0.         1.         0.         0.         0.         0.\n",
      "  0.         0.         0.         0.         0.        ]]\n",
      "***********************\n",
      "[[0.00591108 0.10803541 0.05750856 0.24502185 0.00667537 0.01880022\n",
      "  0.         1.         0.         0.         0.         0.\n",
      "  0.         0.         0.         0.         0.         0.\n",
      "  0.         0.         0.         0.         0.         0.\n",
      "  0.         0.         0.         0.         0.         0.\n",
      "  0.         0.         0.         0.         0.         0.\n",
      "  0.         0.         0.         0.         0.         0.\n",
      "  0.         0.         0.         0.         0.         0.\n",
      "  0.         0.         0.         0.         0.         0.\n",
      "  0.         1.         0.         0.         0.         0.\n",
      "  0.         0.         0.         0.         0.        ]]\n",
      "***********************\n",
      "[[0.00590942 0.11483347 0.05885063 0.24703551 0.00668396 0.01880226\n",
      "  0.         1.         0.         0.         0.         0.\n",
      "  0.         0.         0.         0.         0.         0.\n",
      "  0.         0.         0.         0.         0.         0.\n",
      "  0.         0.         0.         0.         0.         0.\n",
      "  0.         0.         0.         0.         0.         0.\n",
      "  0.         0.         0.         0.         0.         0.\n",
      "  0.         0.         0.         0.         0.         0.\n",
      "  0.         0.         0.         0.         0.         0.\n",
      "  0.         1.         0.         0.         0.         0.\n",
      "  0.         0.         0.         0.         0.        ]]\n",
      "***********************\n",
      "[[0.00590713 0.12159391 0.06091381 0.24759661 0.00677764 0.01889968\n",
      "  0.         1.         0.         0.         0.         0.\n",
      "  0.         0.         0.         0.         0.         0.\n",
      "  0.         0.         0.         0.         0.         0.\n",
      "  0.         0.         0.         0.         0.         0.\n",
      "  0.         0.         0.         0.         0.         0.\n",
      "  0.         0.         0.         0.         0.         0.\n",
      "  0.         0.         0.         0.         0.         0.\n",
      "  0.         0.         0.         0.         0.         0.\n",
      "  0.         1.         0.         0.         0.         0.\n",
      "  0.         0.         0.         0.         0.        ]]\n",
      "***********************\n"
     ]
    }
   ],
   "source": [
    "for f in collecttrain.tolist()[100]:\n",
    "    print(f)\n",
    "    print('***********************')"
   ]
  },
  {
   "cell_type": "markdown",
   "metadata": {},
   "source": [
    "### Unpack X from output of function"
   ]
  },
  {
   "cell_type": "code",
   "execution_count": 123,
   "metadata": {},
   "outputs": [],
   "source": [
    "X=[]"
   ]
  },
  {
   "cell_type": "code",
   "execution_count": 124,
   "metadata": {},
   "outputs": [
    {
     "name": "stdout",
     "output_type": "stream",
     "text": [
      "CPU times: user 1.51 s, sys: 405 ms, total: 1.91 s\n",
      "Wall time: 1.91 s\n"
     ]
    }
   ],
   "source": [
    "%%time\n",
    "for x in collecttrain:\n",
    "    #len(x)\n",
    "    for i in x:\n",
    "        X.append(i)"
   ]
  },
  {
   "cell_type": "code",
   "execution_count": 125,
   "metadata": {},
   "outputs": [
    {
     "data": {
      "text/plain": [
       "(2364904, 1, 65)"
      ]
     },
     "execution_count": 125,
     "metadata": {},
     "output_type": "execute_result"
    }
   ],
   "source": [
    "X = np.array(X)\n",
    "X.shape"
   ]
  },
  {
   "cell_type": "code",
   "execution_count": 47,
   "metadata": {},
   "outputs": [
    {
     "data": {
      "text/plain": [
       "(2373924, 1, 65)"
      ]
     },
     "execution_count": 47,
     "metadata": {},
     "output_type": "execute_result"
    }
   ],
   "source": [
    "X = np.array(X)\n",
    "X.shape"
   ]
  },
  {
   "cell_type": "code",
   "execution_count": 48,
   "metadata": {},
   "outputs": [],
   "source": [
    "## X is ready (Y)"
   ]
  },
  {
   "cell_type": "markdown",
   "metadata": {},
   "source": [
    "## Make Y"
   ]
  },
  {
   "cell_type": "code",
   "execution_count": 126,
   "metadata": {},
   "outputs": [],
   "source": [
    "# Label Column ('Status_Failed' is the label column)\n",
    "label_col = ['Status_Failed']"
   ]
  },
  {
   "cell_type": "code",
   "execution_count": 127,
   "metadata": {},
   "outputs": [],
   "source": [
    "# Takes a df and converts it to 3D tensor\n",
    "# Each sample will have k time steps\n",
    "\n",
    "def samples_label(df_input):\n",
    "    \n",
    "    k = thresholdd\n",
    "    input_cols = label_col\n",
    "    \n",
    "    \n",
    "    # takes a df\n",
    "    # Put your inputs into a single list\n",
    "    \n",
    "    df = pd.DataFrame()\n",
    "    \n",
    "    df['single_input_vector'] = df_input[input_cols].apply(tuple, axis=1).apply(list)\n",
    "    \n",
    "    # Double-encapsulate list so that you can sum it in the next step and keep time steps as separate elements\n",
    "    df['single_input_vector'] = df.single_input_vector.apply(lambda x: [list(x)])\n",
    "        \n",
    "    # The starting point\n",
    "    df['cumulative_input_vectors'] = df['single_input_vector'].shift(0)\n",
    "    \n",
    "    for i in range(1,k):\n",
    "        df['cumulative_input_vectors'] += df['single_input_vector'].shift(i)\n",
    "          \n",
    "    df.dropna(inplace=True)     # does operation in place & returns None\n",
    "\n",
    "    # Extract your training data\n",
    "    X_ = np.asarray(df.cumulative_input_vectors)\n",
    "    \n",
    "    # Use hstack to and reshape to make the inputs a 3d vector\n",
    "    X = np.vstack(X_).reshape(len(df), k, len(input_cols))\n",
    "    \n",
    "    # Clean up\n",
    "    del df\n",
    "    \n",
    "    return X\n",
    "    # returns 3D array"
   ]
  },
  {
   "cell_type": "markdown",
   "metadata": {},
   "source": [
    "#### Build Y (each job separately)"
   ]
  },
  {
   "cell_type": "code",
   "execution_count": 128,
   "metadata": {},
   "outputs": [],
   "source": [
    "cleanedgrouped = cleaned.groupby('JobID')"
   ]
  },
  {
   "cell_type": "code",
   "execution_count": 129,
   "metadata": {},
   "outputs": [
    {
     "data": {
      "text/plain": [
       "['Status_Failed']"
      ]
     },
     "execution_count": 129,
     "metadata": {},
     "output_type": "execute_result"
    }
   ],
   "source": [
    "label_col"
   ]
  },
  {
   "cell_type": "code",
   "execution_count": 130,
   "metadata": {},
   "outputs": [
    {
     "name": "stdout",
     "output_type": "stream",
     "text": [
      "CPU times: user 5min 55s, sys: 32.5 s, total: 6min 27s\n",
      "Wall time: 7min 52s\n"
     ]
    }
   ],
   "source": [
    "%%time\n",
    "\n",
    "collectlabel = applyParallel(cleanedgrouped, samples_label)"
   ]
  },
  {
   "cell_type": "code",
   "execution_count": 136,
   "metadata": {},
   "outputs": [
    {
     "name": "stdout",
     "output_type": "stream",
     "text": [
      "CPU times: user 22min 36s, sys: 21.2 s, total: 22min 57s\n",
      "Wall time: 23min 1s\n"
     ]
    }
   ],
   "source": [
    "%%time\n",
    "# See if you can read from pickle file\n",
    "\n",
    "collectlabel = cleanedgrouped.apply(samples_label)"
   ]
  },
  {
   "cell_type": "code",
   "execution_count": 74,
   "metadata": {},
   "outputs": [],
   "source": [
    "import pickle\n",
    "\n",
    "with open('large_collectlabel.pickle', 'wb') as handle:\n",
    "    pickle.dump(collectlabel, handle, protocol=pickle.HIGHEST_PROTOCOL)"
   ]
  },
  {
   "cell_type": "code",
   "execution_count": 19,
   "metadata": {},
   "outputs": [],
   "source": [
    "with open('large_collectlabel.pickle', 'rb') as handle:\n",
    "    collectlabel = pickle.load(handle)"
   ]
  },
  {
   "cell_type": "code",
   "execution_count": 132,
   "metadata": {},
   "outputs": [
    {
     "data": {
      "text/plain": [
       "[array([[[1]]])]"
      ]
     },
     "execution_count": 132,
     "metadata": {},
     "output_type": "execute_result"
    }
   ],
   "source": [
    "collectlabel[:1]"
   ]
  },
  {
   "cell_type": "code",
   "execution_count": 56,
   "metadata": {},
   "outputs": [
    {
     "data": {
      "text/plain": [
       "342401"
      ]
     },
     "execution_count": 56,
     "metadata": {},
     "output_type": "execute_result"
    }
   ],
   "source": [
    "len(collectlabel)"
   ]
  },
  {
   "cell_type": "code",
   "execution_count": 133,
   "metadata": {},
   "outputs": [
    {
     "data": {
      "text/plain": [
       "342405"
      ]
     },
     "execution_count": 133,
     "metadata": {},
     "output_type": "execute_result"
    }
   ],
   "source": [
    "len(collectlabel)"
   ]
  },
  {
   "cell_type": "code",
   "execution_count": 21,
   "metadata": {},
   "outputs": [
    {
     "data": {
      "text/plain": [
       "(342398,)"
      ]
     },
     "execution_count": 21,
     "metadata": {},
     "output_type": "execute_result"
    }
   ],
   "source": [
    "collectlabel.shape"
   ]
  },
  {
   "cell_type": "code",
   "execution_count": 21,
   "metadata": {},
   "outputs": [],
   "source": [
    "### Unpack Y from output of function"
   ]
  },
  {
   "cell_type": "code",
   "execution_count": 134,
   "metadata": {},
   "outputs": [],
   "source": [
    "Y=[]"
   ]
  },
  {
   "cell_type": "code",
   "execution_count": 135,
   "metadata": {},
   "outputs": [
    {
     "name": "stdout",
     "output_type": "stream",
     "text": [
      "CPU times: user 1.28 s, sys: 269 ms, total: 1.54 s\n",
      "Wall time: 1.54 s\n"
     ]
    }
   ],
   "source": [
    "%%time\n",
    "for x in collectlabel:\n",
    "    #len(x)\n",
    "    for i in x:\n",
    "        Y.append(i)"
   ]
  },
  {
   "cell_type": "code",
   "execution_count": 136,
   "metadata": {},
   "outputs": [
    {
     "data": {
      "text/plain": [
       "(2364904, 1, 1)"
      ]
     },
     "execution_count": 136,
     "metadata": {},
     "output_type": "execute_result"
    }
   ],
   "source": [
    "Y = np.array(Y)\n",
    "Y.shape"
   ]
  },
  {
   "cell_type": "code",
   "execution_count": 137,
   "metadata": {},
   "outputs": [
    {
     "data": {
      "text/plain": [
       "(2364904, 1, 65)"
      ]
     },
     "execution_count": 137,
     "metadata": {},
     "output_type": "execute_result"
    }
   ],
   "source": [
    "X.shape"
   ]
  },
  {
   "cell_type": "code",
   "execution_count": 138,
   "metadata": {},
   "outputs": [
    {
     "data": {
      "text/plain": [
       "(2364904, 1)"
      ]
     },
     "execution_count": 138,
     "metadata": {},
     "output_type": "execute_result"
    }
   ],
   "source": [
    "YY = np.array([x[0][0] for x in Y]).reshape(len(Y),1)\n",
    "YY.shape"
   ]
  },
  {
   "cell_type": "code",
   "execution_count": 139,
   "metadata": {
    "scrolled": true
   },
   "outputs": [
    {
     "data": {
      "text/plain": [
       "array([[1],\n",
       "       [1],\n",
       "       [1],\n",
       "       [1],\n",
       "       [1]])"
      ]
     },
     "execution_count": 139,
     "metadata": {},
     "output_type": "execute_result"
    }
   ],
   "source": [
    "YY[:5]"
   ]
  },
  {
   "cell_type": "code",
   "execution_count": 140,
   "metadata": {},
   "outputs": [],
   "source": [
    "## Y is ready\n",
    "thresholdd = 1"
   ]
  },
  {
   "cell_type": "code",
   "execution_count": 141,
   "metadata": {},
   "outputs": [
    {
     "data": {
      "text/plain": [
       "((2364904, 1, 65), (2364904, 1))"
      ]
     },
     "execution_count": 141,
     "metadata": {},
     "output_type": "execute_result"
    }
   ],
   "source": [
    "X.shape, YY.shape"
   ]
  },
  {
   "cell_type": "code",
   "execution_count": 142,
   "metadata": {},
   "outputs": [
    {
     "data": {
      "text/plain": [
       "((2364904, 1, 65), (2364904, 1))"
      ]
     },
     "execution_count": 142,
     "metadata": {},
     "output_type": "execute_result"
    }
   ],
   "source": [
    "X.shape, YY.shape"
   ]
  },
  {
   "cell_type": "markdown",
   "metadata": {},
   "source": [
    "## Shuffle X,Y in Unison"
   ]
  },
  {
   "cell_type": "code",
   "execution_count": 143,
   "metadata": {},
   "outputs": [],
   "source": [
    "# Unison shuffle\n",
    "def unison_shuffled_copies(a, b):\n",
    "    import numpy as np\n",
    "    assert len(a) == len(b)\n",
    "    p = np.random.permutation(len(a))\n",
    "    return a[p], b[p]"
   ]
  },
  {
   "cell_type": "code",
   "execution_count": 144,
   "metadata": {},
   "outputs": [
    {
     "name": "stdout",
     "output_type": "stream",
     "text": [
      "CPU times: user 485 ms, sys: 318 ms, total: 803 ms\n",
      "Wall time: 803 ms\n"
     ]
    }
   ],
   "source": [
    "%%time\n",
    "X_final, Y_final = unison_shuffled_copies(X,YY)"
   ]
  },
  {
   "cell_type": "code",
   "execution_count": 145,
   "metadata": {},
   "outputs": [
    {
     "data": {
      "text/plain": [
       "((2364904, 1, 65), (2364904, 1))"
      ]
     },
     "execution_count": 145,
     "metadata": {},
     "output_type": "execute_result"
    }
   ],
   "source": [
    "X_final.shape, Y_final.shape"
   ]
  },
  {
   "cell_type": "code",
   "execution_count": 146,
   "metadata": {},
   "outputs": [
    {
     "data": {
      "text/plain": [
       "array([3055])"
      ]
     },
     "execution_count": 146,
     "metadata": {},
     "output_type": "execute_result"
    }
   ],
   "source": [
    "sum(Y_final[:10000])"
   ]
  },
  {
   "cell_type": "markdown",
   "metadata": {},
   "source": [
    "del X\n",
    "del Y\n",
    "del YY"
   ]
  },
  {
   "cell_type": "code",
   "execution_count": 147,
   "metadata": {},
   "outputs": [],
   "source": [
    "X_final, Y_final = unison_shuffled_copies(X_final, Y_final)"
   ]
  },
  {
   "cell_type": "code",
   "execution_count": 148,
   "metadata": {},
   "outputs": [
    {
     "data": {
      "text/plain": [
       "array([[1],\n",
       "       [0],\n",
       "       [0],\n",
       "       [1],\n",
       "       [1],\n",
       "       [1],\n",
       "       [0],\n",
       "       [0],\n",
       "       [1],\n",
       "       [0]])"
      ]
     },
     "execution_count": 148,
     "metadata": {},
     "output_type": "execute_result"
    }
   ],
   "source": [
    "Y_final[:10]"
   ]
  },
  {
   "cell_type": "markdown",
   "metadata": {},
   "source": [
    "# Start: Build test set from 'takeoutdf'"
   ]
  },
  {
   "cell_type": "markdown",
   "metadata": {},
   "source": [
    "## Build X_test, Y_test using each JobID separately"
   ]
  },
  {
   "cell_type": "code",
   "execution_count": 46,
   "metadata": {},
   "outputs": [
    {
     "data": {
      "text/plain": [
       "(202677, 316)"
      ]
     },
     "execution_count": 46,
     "metadata": {},
     "output_type": "execute_result"
    }
   ],
   "source": [
    "takeoutdf = pd.read_pickle('takeoutdf_for_test_samples.pickle')\n",
    "takeoutdf.shape"
   ]
  },
  {
   "cell_type": "code",
   "execution_count": 72,
   "metadata": {},
   "outputs": [
    {
     "data": {
      "text/plain": [
       "(202677, 316)"
      ]
     },
     "execution_count": 72,
     "metadata": {},
     "output_type": "execute_result"
    }
   ],
   "source": [
    "takeoutdf = pd.read_pickle('takeoutdf_for_test_samples.pickle')\n",
    "takeoutdf.shape"
   ]
  },
  {
   "cell_type": "code",
   "execution_count": 149,
   "metadata": {},
   "outputs": [
    {
     "data": {
      "text/plain": [
       "0    1644526\n",
       "1     733072\n",
       "Name: Status_Failed, dtype: int64"
      ]
     },
     "execution_count": 149,
     "metadata": {},
     "output_type": "execute_result"
    }
   ],
   "source": [
    "takeoutdf.Status_Failed.value_counts()"
   ]
  },
  {
   "cell_type": "code",
   "execution_count": 73,
   "metadata": {},
   "outputs": [
    {
     "data": {
      "text/plain": [
       "0    107243\n",
       "1     95434\n",
       "Name: Status_Failed, dtype: int64"
      ]
     },
     "execution_count": 73,
     "metadata": {},
     "output_type": "execute_result"
    }
   ],
   "source": [
    "takeoutdf.Status_Failed.value_counts()"
   ]
  },
  {
   "cell_type": "code",
   "execution_count": 153,
   "metadata": {},
   "outputs": [],
   "source": [
    "# Training Features"
   ]
  },
  {
   "cell_type": "code",
   "execution_count": 150,
   "metadata": {},
   "outputs": [
    {
     "name": "stdout",
     "output_type": "stream",
     "text": [
      "65\n"
     ]
    }
   ],
   "source": [
    "print(len(train_feat)) "
   ]
  },
  {
   "cell_type": "code",
   "execution_count": 155,
   "metadata": {
    "scrolled": false
   },
   "outputs": [
    {
     "data": {
      "text/plain": [
       "['AvailableDiskSpace',\n",
       " 'CPUConsumed',\n",
       " 'LoadAverage',\n",
       " 'MemoryUsed',\n",
       " 'RSS',\n",
       " 'Vsize',\n",
       " 'RescheduleCounter',\n",
       " 'JobType_MCProductionBGx0',\n",
       " 'JobType_Merge',\n",
       " 'Site_ARC.DESY.de',\n",
       " 'Site_ARC.SIGNET.si',\n",
       " 'Site_CLOUD.AWS_Sydney.au',\n",
       " 'Site_CLOUD.AWS_Tokyo.jp',\n",
       " 'Site_CLOUD.AWS_Virginia.us',\n",
       " 'Site_CLOUD.CC1_Krakow.pl',\n",
       " 'Site_DIRAC.BINP.ru',\n",
       " 'Site_DIRAC.Beihang.cn',\n",
       " 'Site_DIRAC.CINVESTAV.mx',\n",
       " 'Site_DIRAC.Hokudai.jp',\n",
       " 'Site_DIRAC.IITG.in',\n",
       " 'Site_DIRAC.MIPT.ru',\n",
       " 'Site_DIRAC.Nagoya.jp',\n",
       " 'Site_DIRAC.Nara-WU.jp',\n",
       " 'Site_DIRAC.Niigata.jp',\n",
       " 'Site_DIRAC.Osaka-CU.jp',\n",
       " 'Site_DIRAC.PNNL.us',\n",
       " 'Site_DIRAC.RCNP.jp',\n",
       " 'Site_DIRAC.TIFR.in',\n",
       " 'Site_DIRAC.TMU.jp',\n",
       " 'Site_DIRAC.Test.jp',\n",
       " 'Site_DIRAC.Tokyo.jp',\n",
       " 'Site_DIRAC.UAS.mx',\n",
       " 'Site_DIRAC.UVic.ca',\n",
       " 'Site_DIRAC.Yamagata.jp',\n",
       " 'Site_DIRAC.Yonsei.kr',\n",
       " 'Site_Group.KEK2.jp',\n",
       " 'Site_LCG.CESNET.cz',\n",
       " 'Site_LCG.CNAF.it',\n",
       " 'Site_LCG.CYFRONET.pl',\n",
       " 'Site_LCG.Cosenza.it',\n",
       " 'Site_LCG.DESY.de',\n",
       " 'Site_LCG.Frascati.it',\n",
       " 'Site_LCG.HEPHY.at',\n",
       " 'Site_LCG.KEK.jp',\n",
       " 'Site_LCG.KEK2.jp',\n",
       " 'Site_LCG.KISTI.kr',\n",
       " 'Site_LCG.KIT.de',\n",
       " 'Site_LCG.KMI.jp',\n",
       " 'Site_LCG.Legnaro.it',\n",
       " 'Site_LCG.MPPMU.de',\n",
       " 'Site_LCG.McGill.ca',\n",
       " 'Site_LCG.Melbourne.au',\n",
       " 'Site_LCG.NCHC.tw',\n",
       " 'Site_LCG.NTU.tw',\n",
       " 'Site_LCG.Napoli.it',\n",
       " 'Site_LCG.Pisa.it',\n",
       " 'Site_LCG.Torino.it',\n",
       " 'Site_LCG.ULAKBIM.tr',\n",
       " 'Site_Multiple',\n",
       " 'Site_SSH.KMI.jp',\n",
       " 'UserPriority_2',\n",
       " 'UserPriority_3',\n",
       " 'UserPriority_5',\n",
       " 'UserPriority_9',\n",
       " 'UserPriority_10']"
      ]
     },
     "execution_count": 155,
     "metadata": {},
     "output_type": "execute_result"
    }
   ],
   "source": [
    "(train_feat)"
   ]
  },
  {
   "cell_type": "code",
   "execution_count": 151,
   "metadata": {},
   "outputs": [
    {
     "data": {
      "text/plain": [
       "[2.199088425903163e-06,\n",
       " 0.007000830256661021,\n",
       " 0.013993450619074732,\n",
       " 0.020992312679302173,\n",
       " 0.02798683263427591]"
      ]
     },
     "execution_count": 151,
     "metadata": {},
     "output_type": "execute_result"
    }
   ],
   "source": [
    "takeoutdf.WallClockTime.tolist()[:5]"
   ]
  },
  {
   "cell_type": "code",
   "execution_count": 152,
   "metadata": {},
   "outputs": [
    {
     "name": "stdout",
     "output_type": "stream",
     "text": [
      "['Status_Failed']\n"
     ]
    }
   ],
   "source": [
    "# Label Column ('Status_Failed' is the label column)\n",
    "print(label_col)"
   ]
  },
  {
   "cell_type": "code",
   "execution_count": 153,
   "metadata": {},
   "outputs": [
    {
     "data": {
      "text/plain": [
       "(2377598, 330)"
      ]
     },
     "execution_count": 153,
     "metadata": {},
     "output_type": "execute_result"
    }
   ],
   "source": [
    "takeoutdf.shape"
   ]
  },
  {
   "cell_type": "code",
   "execution_count": 154,
   "metadata": {},
   "outputs": [
    {
     "data": {
      "text/plain": [
       "466"
      ]
     },
     "execution_count": 154,
     "metadata": {},
     "output_type": "execute_result"
    }
   ],
   "source": [
    "takeoutdf.isnull().values.ravel().sum()"
   ]
  },
  {
   "cell_type": "code",
   "execution_count": 155,
   "metadata": {},
   "outputs": [],
   "source": [
    "takeoutdf = takeoutdf.dropna()"
   ]
  },
  {
   "cell_type": "code",
   "execution_count": 156,
   "metadata": {
    "scrolled": true
   },
   "outputs": [
    {
     "data": {
      "text/plain": [
       "0"
      ]
     },
     "execution_count": 156,
     "metadata": {},
     "output_type": "execute_result"
    }
   ],
   "source": [
    "takeoutdf.isnull().values.ravel().sum()"
   ]
  },
  {
   "cell_type": "code",
   "execution_count": 157,
   "metadata": {},
   "outputs": [
    {
     "data": {
      "text/plain": [
       "Index(['JobID', 'HeartBeatTime', 'AvailableDiskSpace', 'CPUConsumed',\n",
       "       'LoadAverage', 'MemoryUsed', 'RSS', 'Vsize', 'WallClockTime',\n",
       "       'RescheduleCounter',\n",
       "       ...\n",
       "       'Site_LCG.Torino.it', 'Site_LCG.ULAKBIM.tr', 'Site_Multiple',\n",
       "       'Site_SSH.KMI.jp', 'Status_Failed', 'UserPriority_2', 'UserPriority_3',\n",
       "       'UserPriority_5', 'UserPriority_9', 'UserPriority_10'],\n",
       "      dtype='object', length=330)"
      ]
     },
     "execution_count": 157,
     "metadata": {},
     "output_type": "execute_result"
    }
   ],
   "source": [
    "takeoutdf.columns"
   ]
  },
  {
   "cell_type": "markdown",
   "metadata": {},
   "source": [
    "########################################################\n",
    "takeoutdf.to_pickle('takeoutdf_for_test_samples.pickle')\n",
    "########################################################"
   ]
  },
  {
   "cell_type": "markdown",
   "metadata": {},
   "source": [
    "###  Make X_test"
   ]
  },
  {
   "cell_type": "code",
   "execution_count": 158,
   "metadata": {},
   "outputs": [],
   "source": [
    "takeoutdfgrouped = takeoutdf.groupby('JobID')"
   ]
  },
  {
   "cell_type": "code",
   "execution_count": 159,
   "metadata": {},
   "outputs": [
    {
     "name": "stdout",
     "output_type": "stream",
     "text": [
      "CPU times: user 5min 31s, sys: 24.4 s, total: 5min 55s\n",
      "Wall time: 7min 23s\n"
     ]
    }
   ],
   "source": [
    "%%time\n",
    "collectXtest = applyParallel(takeoutdfgrouped, samples_features)"
   ]
  },
  {
   "cell_type": "code",
   "execution_count": 164,
   "metadata": {},
   "outputs": [
    {
     "name": "stdout",
     "output_type": "stream",
     "text": [
      "CPU times: user 23min 21s, sys: 7.56 s, total: 23min 29s\n",
      "Wall time: 23min 30s\n"
     ]
    }
   ],
   "source": [
    "%%time\n",
    "collectXtest = takeoutdfgrouped.apply(samples_features)"
   ]
  },
  {
   "cell_type": "code",
   "execution_count": 165,
   "metadata": {},
   "outputs": [],
   "source": [
    "with open('large_collectXtest.pickle', 'wb') as handle:\n",
    "    pickle.dump(collectXtest, handle, protocol=pickle.HIGHEST_PROTOCOL)"
   ]
  },
  {
   "cell_type": "code",
   "execution_count": 160,
   "metadata": {},
   "outputs": [
    {
     "name": "stdout",
     "output_type": "stream",
     "text": [
      "32495688 Lengths match\n",
      "32300804 Lengths match\n",
      "37223818 Lengths match\n",
      "32622696 Lengths match\n",
      "37065321 Lengths match\n",
      "37610281 Lengths match\n",
      "33187208 Lengths match\n",
      "32558373 Lengths match\n",
      "32525232 Lengths match\n",
      "32444135 Lengths match\n",
      "32276757 Lengths match\n",
      "32404669 Lengths match\n",
      "37412086 Lengths match\n",
      "32739991 Lengths match\n",
      "32382660 Lengths match\n",
      "32397899 Lengths match\n",
      "37478341 Lengths match\n",
      "37259407 Lengths match\n",
      "32623709 Lengths match\n",
      "37726553 Lengths match\n"
     ]
    }
   ],
   "source": [
    "# Testcase 1 of function sample_features:\n",
    "\n",
    "check = 0\n",
    "j_checks = takeoutdf.JobID.sample(20)\n",
    "\n",
    "for k in j_checks:\n",
    "    \n",
    "    v = takeoutdfgrouped.get_group(k)\n",
    "    \n",
    "    if(True):\n",
    "        #print(v.columns.tolist())\n",
    "        A = np.array(v)\n",
    "        #print(train_feat)\n",
    "        B = samples_features(v)\n",
    "        check += 1\n",
    "        \n",
    "        if(len(A) == len(B)):\n",
    "            print(k, 'Lengths match')\n",
    "        \n",
    "        # Tests\n",
    "        for x,y in zip(A,B):\n",
    "            #print(x)\n",
    "            #print(y)\n",
    "            \n",
    "            if not (np.all([ m==n for (m,n) in zip(x[2:8] , y[0][0:6]) ])):\n",
    "                print(k, 'NOK')\n",
    "                \n",
    "    if(check == len(j_checks)):\n",
    "        break"
   ]
  },
  {
   "cell_type": "code",
   "execution_count": 161,
   "metadata": {},
   "outputs": [
    {
     "data": {
      "text/html": [
       "<div>\n",
       "<style scoped>\n",
       "    .dataframe tbody tr th:only-of-type {\n",
       "        vertical-align: middle;\n",
       "    }\n",
       "\n",
       "    .dataframe tbody tr th {\n",
       "        vertical-align: top;\n",
       "    }\n",
       "\n",
       "    .dataframe thead th {\n",
       "        text-align: right;\n",
       "    }\n",
       "</style>\n",
       "<table border=\"1\" class=\"dataframe\">\n",
       "  <thead>\n",
       "    <tr style=\"text-align: right;\">\n",
       "      <th></th>\n",
       "      <th>JobID</th>\n",
       "      <th>HeartBeatTime</th>\n",
       "      <th>AvailableDiskSpace</th>\n",
       "      <th>CPUConsumed</th>\n",
       "      <th>LoadAverage</th>\n",
       "      <th>MemoryUsed</th>\n",
       "      <th>RSS</th>\n",
       "      <th>Vsize</th>\n",
       "      <th>WallClockTime</th>\n",
       "      <th>RescheduleCounter</th>\n",
       "      <th>...</th>\n",
       "      <th>Site_LCG.Torino.it</th>\n",
       "      <th>Site_LCG.ULAKBIM.tr</th>\n",
       "      <th>Site_Multiple</th>\n",
       "      <th>Site_SSH.KMI.jp</th>\n",
       "      <th>Status_Failed</th>\n",
       "      <th>UserPriority_2</th>\n",
       "      <th>UserPriority_3</th>\n",
       "      <th>UserPriority_5</th>\n",
       "      <th>UserPriority_9</th>\n",
       "      <th>UserPriority_10</th>\n",
       "    </tr>\n",
       "  </thead>\n",
       "  <tbody>\n",
       "    <tr>\n",
       "      <th>29</th>\n",
       "      <td>23205539</td>\n",
       "      <td>2015-08-08 22:50:06</td>\n",
       "      <td>0.000498</td>\n",
       "      <td>0.000008</td>\n",
       "      <td>0.022835</td>\n",
       "      <td>0.089497</td>\n",
       "      <td>0.000295</td>\n",
       "      <td>0.002542</td>\n",
       "      <td>0.000002</td>\n",
       "      <td>0</td>\n",
       "      <td>...</td>\n",
       "      <td>0</td>\n",
       "      <td>0</td>\n",
       "      <td>0</td>\n",
       "      <td>0</td>\n",
       "      <td>1</td>\n",
       "      <td>0</td>\n",
       "      <td>0</td>\n",
       "      <td>0</td>\n",
       "      <td>0</td>\n",
       "      <td>0</td>\n",
       "    </tr>\n",
       "    <tr>\n",
       "      <th>30</th>\n",
       "      <td>23205539</td>\n",
       "      <td>2015-08-08 23:20:07</td>\n",
       "      <td>0.000497</td>\n",
       "      <td>0.005948</td>\n",
       "      <td>0.027002</td>\n",
       "      <td>0.097032</td>\n",
       "      <td>0.004706</td>\n",
       "      <td>0.012162</td>\n",
       "      <td>0.007001</td>\n",
       "      <td>0</td>\n",
       "      <td>...</td>\n",
       "      <td>0</td>\n",
       "      <td>0</td>\n",
       "      <td>0</td>\n",
       "      <td>0</td>\n",
       "      <td>1</td>\n",
       "      <td>0</td>\n",
       "      <td>0</td>\n",
       "      <td>0</td>\n",
       "      <td>0</td>\n",
       "      <td>0</td>\n",
       "    </tr>\n",
       "    <tr>\n",
       "      <th>31</th>\n",
       "      <td>23205539</td>\n",
       "      <td>2015-08-08 23:50:08</td>\n",
       "      <td>0.000497</td>\n",
       "      <td>0.012257</td>\n",
       "      <td>0.026581</td>\n",
       "      <td>0.094595</td>\n",
       "      <td>0.004929</td>\n",
       "      <td>0.012389</td>\n",
       "      <td>0.013993</td>\n",
       "      <td>0</td>\n",
       "      <td>...</td>\n",
       "      <td>0</td>\n",
       "      <td>0</td>\n",
       "      <td>0</td>\n",
       "      <td>0</td>\n",
       "      <td>1</td>\n",
       "      <td>0</td>\n",
       "      <td>0</td>\n",
       "      <td>0</td>\n",
       "      <td>0</td>\n",
       "      <td>0</td>\n",
       "    </tr>\n",
       "    <tr>\n",
       "      <th>32</th>\n",
       "      <td>23205539</td>\n",
       "      <td>2015-08-09 00:20:09</td>\n",
       "      <td>0.000497</td>\n",
       "      <td>0.019032</td>\n",
       "      <td>0.026200</td>\n",
       "      <td>0.095478</td>\n",
       "      <td>0.005136</td>\n",
       "      <td>0.012597</td>\n",
       "      <td>0.020992</td>\n",
       "      <td>0</td>\n",
       "      <td>...</td>\n",
       "      <td>0</td>\n",
       "      <td>0</td>\n",
       "      <td>0</td>\n",
       "      <td>0</td>\n",
       "      <td>1</td>\n",
       "      <td>0</td>\n",
       "      <td>0</td>\n",
       "      <td>0</td>\n",
       "      <td>0</td>\n",
       "      <td>0</td>\n",
       "    </tr>\n",
       "    <tr>\n",
       "      <th>33</th>\n",
       "      <td>23205539</td>\n",
       "      <td>2015-08-09 00:50:10</td>\n",
       "      <td>0.000497</td>\n",
       "      <td>0.025793</td>\n",
       "      <td>0.024217</td>\n",
       "      <td>0.096853</td>\n",
       "      <td>0.005286</td>\n",
       "      <td>0.013117</td>\n",
       "      <td>0.027987</td>\n",
       "      <td>0</td>\n",
       "      <td>...</td>\n",
       "      <td>0</td>\n",
       "      <td>0</td>\n",
       "      <td>0</td>\n",
       "      <td>0</td>\n",
       "      <td>1</td>\n",
       "      <td>0</td>\n",
       "      <td>0</td>\n",
       "      <td>0</td>\n",
       "      <td>0</td>\n",
       "      <td>0</td>\n",
       "    </tr>\n",
       "    <tr>\n",
       "      <th>34</th>\n",
       "      <td>23205539</td>\n",
       "      <td>2015-08-09 01:20:07</td>\n",
       "      <td>0.000497</td>\n",
       "      <td>0.032553</td>\n",
       "      <td>0.024057</td>\n",
       "      <td>0.094305</td>\n",
       "      <td>0.005462</td>\n",
       "      <td>0.013289</td>\n",
       "      <td>0.034971</td>\n",
       "      <td>0</td>\n",
       "      <td>...</td>\n",
       "      <td>0</td>\n",
       "      <td>0</td>\n",
       "      <td>0</td>\n",
       "      <td>0</td>\n",
       "      <td>1</td>\n",
       "      <td>0</td>\n",
       "      <td>0</td>\n",
       "      <td>0</td>\n",
       "      <td>0</td>\n",
       "      <td>0</td>\n",
       "    </tr>\n",
       "    <tr>\n",
       "      <th>35</th>\n",
       "      <td>23205539</td>\n",
       "      <td>2015-08-09 01:50:07</td>\n",
       "      <td>0.000497</td>\n",
       "      <td>0.039325</td>\n",
       "      <td>0.024137</td>\n",
       "      <td>0.095746</td>\n",
       "      <td>0.005605</td>\n",
       "      <td>0.013430</td>\n",
       "      <td>0.041964</td>\n",
       "      <td>0</td>\n",
       "      <td>...</td>\n",
       "      <td>0</td>\n",
       "      <td>0</td>\n",
       "      <td>0</td>\n",
       "      <td>0</td>\n",
       "      <td>1</td>\n",
       "      <td>0</td>\n",
       "      <td>0</td>\n",
       "      <td>0</td>\n",
       "      <td>0</td>\n",
       "      <td>0</td>\n",
       "    </tr>\n",
       "    <tr>\n",
       "      <th>36</th>\n",
       "      <td>23205539</td>\n",
       "      <td>2015-08-09 02:20:08</td>\n",
       "      <td>0.000497</td>\n",
       "      <td>0.046097</td>\n",
       "      <td>0.024257</td>\n",
       "      <td>0.097337</td>\n",
       "      <td>0.006186</td>\n",
       "      <td>0.013996</td>\n",
       "      <td>0.048958</td>\n",
       "      <td>0</td>\n",
       "      <td>...</td>\n",
       "      <td>0</td>\n",
       "      <td>0</td>\n",
       "      <td>0</td>\n",
       "      <td>0</td>\n",
       "      <td>1</td>\n",
       "      <td>0</td>\n",
       "      <td>0</td>\n",
       "      <td>0</td>\n",
       "      <td>0</td>\n",
       "      <td>0</td>\n",
       "    </tr>\n",
       "    <tr>\n",
       "      <th>37</th>\n",
       "      <td>23205539</td>\n",
       "      <td>2015-08-09 02:50:07</td>\n",
       "      <td>0.000497</td>\n",
       "      <td>0.052812</td>\n",
       "      <td>0.025279</td>\n",
       "      <td>0.097736</td>\n",
       "      <td>0.006046</td>\n",
       "      <td>0.014153</td>\n",
       "      <td>0.055949</td>\n",
       "      <td>0</td>\n",
       "      <td>...</td>\n",
       "      <td>0</td>\n",
       "      <td>0</td>\n",
       "      <td>0</td>\n",
       "      <td>0</td>\n",
       "      <td>1</td>\n",
       "      <td>0</td>\n",
       "      <td>0</td>\n",
       "      <td>0</td>\n",
       "      <td>0</td>\n",
       "      <td>0</td>\n",
       "    </tr>\n",
       "    <tr>\n",
       "      <th>38</th>\n",
       "      <td>23205539</td>\n",
       "      <td>2015-08-09 03:20:07</td>\n",
       "      <td>0.000497</td>\n",
       "      <td>0.059283</td>\n",
       "      <td>0.026180</td>\n",
       "      <td>0.096338</td>\n",
       "      <td>0.006208</td>\n",
       "      <td>0.014286</td>\n",
       "      <td>0.062941</td>\n",
       "      <td>0</td>\n",
       "      <td>...</td>\n",
       "      <td>0</td>\n",
       "      <td>0</td>\n",
       "      <td>0</td>\n",
       "      <td>0</td>\n",
       "      <td>1</td>\n",
       "      <td>0</td>\n",
       "      <td>0</td>\n",
       "      <td>0</td>\n",
       "      <td>0</td>\n",
       "      <td>0</td>\n",
       "    </tr>\n",
       "    <tr>\n",
       "      <th>39</th>\n",
       "      <td>23205539</td>\n",
       "      <td>2015-08-09 03:50:08</td>\n",
       "      <td>0.000497</td>\n",
       "      <td>0.065174</td>\n",
       "      <td>0.026481</td>\n",
       "      <td>0.097492</td>\n",
       "      <td>0.006331</td>\n",
       "      <td>0.014404</td>\n",
       "      <td>0.069936</td>\n",
       "      <td>0</td>\n",
       "      <td>...</td>\n",
       "      <td>0</td>\n",
       "      <td>0</td>\n",
       "      <td>0</td>\n",
       "      <td>0</td>\n",
       "      <td>1</td>\n",
       "      <td>0</td>\n",
       "      <td>0</td>\n",
       "      <td>0</td>\n",
       "      <td>0</td>\n",
       "      <td>0</td>\n",
       "    </tr>\n",
       "    <tr>\n",
       "      <th>40</th>\n",
       "      <td>23205539</td>\n",
       "      <td>2015-08-09 04:20:08</td>\n",
       "      <td>0.000498</td>\n",
       "      <td>0.071920</td>\n",
       "      <td>0.022435</td>\n",
       "      <td>0.091498</td>\n",
       "      <td>0.006507</td>\n",
       "      <td>0.014603</td>\n",
       "      <td>0.076926</td>\n",
       "      <td>0</td>\n",
       "      <td>...</td>\n",
       "      <td>0</td>\n",
       "      <td>0</td>\n",
       "      <td>0</td>\n",
       "      <td>0</td>\n",
       "      <td>1</td>\n",
       "      <td>0</td>\n",
       "      <td>0</td>\n",
       "      <td>0</td>\n",
       "      <td>0</td>\n",
       "      <td>0</td>\n",
       "    </tr>\n",
       "    <tr>\n",
       "      <th>41</th>\n",
       "      <td>23205539</td>\n",
       "      <td>2015-08-09 04:50:08</td>\n",
       "      <td>0.000498</td>\n",
       "      <td>0.078691</td>\n",
       "      <td>0.022755</td>\n",
       "      <td>0.088357</td>\n",
       "      <td>0.006792</td>\n",
       "      <td>0.014885</td>\n",
       "      <td>0.083921</td>\n",
       "      <td>0</td>\n",
       "      <td>...</td>\n",
       "      <td>0</td>\n",
       "      <td>0</td>\n",
       "      <td>0</td>\n",
       "      <td>0</td>\n",
       "      <td>1</td>\n",
       "      <td>0</td>\n",
       "      <td>0</td>\n",
       "      <td>0</td>\n",
       "      <td>0</td>\n",
       "      <td>0</td>\n",
       "    </tr>\n",
       "    <tr>\n",
       "      <th>42</th>\n",
       "      <td>23205643</td>\n",
       "      <td>2015-08-08 22:50:00</td>\n",
       "      <td>0.002151</td>\n",
       "      <td>0.000030</td>\n",
       "      <td>0.045530</td>\n",
       "      <td>0.158091</td>\n",
       "      <td>0.000305</td>\n",
       "      <td>0.004432</td>\n",
       "      <td>0.000012</td>\n",
       "      <td>0</td>\n",
       "      <td>...</td>\n",
       "      <td>0</td>\n",
       "      <td>0</td>\n",
       "      <td>0</td>\n",
       "      <td>0</td>\n",
       "      <td>1</td>\n",
       "      <td>0</td>\n",
       "      <td>0</td>\n",
       "      <td>0</td>\n",
       "      <td>0</td>\n",
       "      <td>0</td>\n",
       "    </tr>\n",
       "    <tr>\n",
       "      <th>43</th>\n",
       "      <td>23205643</td>\n",
       "      <td>2015-08-08 23:20:01</td>\n",
       "      <td>0.002150</td>\n",
       "      <td>0.006463</td>\n",
       "      <td>0.049316</td>\n",
       "      <td>0.162162</td>\n",
       "      <td>0.004673</td>\n",
       "      <td>0.015920</td>\n",
       "      <td>0.007010</td>\n",
       "      <td>0</td>\n",
       "      <td>...</td>\n",
       "      <td>0</td>\n",
       "      <td>0</td>\n",
       "      <td>0</td>\n",
       "      <td>0</td>\n",
       "      <td>1</td>\n",
       "      <td>0</td>\n",
       "      <td>0</td>\n",
       "      <td>0</td>\n",
       "      <td>0</td>\n",
       "      <td>0</td>\n",
       "    </tr>\n",
       "    <tr>\n",
       "      <th>44</th>\n",
       "      <td>23205643</td>\n",
       "      <td>2015-08-08 23:50:00</td>\n",
       "      <td>0.002149</td>\n",
       "      <td>0.013179</td>\n",
       "      <td>0.049316</td>\n",
       "      <td>0.165052</td>\n",
       "      <td>0.004786</td>\n",
       "      <td>0.016799</td>\n",
       "      <td>0.013997</td>\n",
       "      <td>0</td>\n",
       "      <td>...</td>\n",
       "      <td>0</td>\n",
       "      <td>0</td>\n",
       "      <td>0</td>\n",
       "      <td>0</td>\n",
       "      <td>1</td>\n",
       "      <td>0</td>\n",
       "      <td>0</td>\n",
       "      <td>0</td>\n",
       "      <td>0</td>\n",
       "      <td>0</td>\n",
       "    </tr>\n",
       "    <tr>\n",
       "      <th>45</th>\n",
       "      <td>23205643</td>\n",
       "      <td>2015-08-09 00:20:00</td>\n",
       "      <td>0.002148</td>\n",
       "      <td>0.019732</td>\n",
       "      <td>0.048975</td>\n",
       "      <td>0.169356</td>\n",
       "      <td>0.004692</td>\n",
       "      <td>0.016914</td>\n",
       "      <td>0.020992</td>\n",
       "      <td>0</td>\n",
       "      <td>...</td>\n",
       "      <td>0</td>\n",
       "      <td>0</td>\n",
       "      <td>0</td>\n",
       "      <td>0</td>\n",
       "      <td>1</td>\n",
       "      <td>0</td>\n",
       "      <td>0</td>\n",
       "      <td>0</td>\n",
       "      <td>0</td>\n",
       "      <td>0</td>\n",
       "    </tr>\n",
       "    <tr>\n",
       "      <th>46</th>\n",
       "      <td>23205643</td>\n",
       "      <td>2015-08-09 00:50:04</td>\n",
       "      <td>0.002147</td>\n",
       "      <td>0.026353</td>\n",
       "      <td>0.048695</td>\n",
       "      <td>0.172042</td>\n",
       "      <td>0.004804</td>\n",
       "      <td>0.016971</td>\n",
       "      <td>0.027981</td>\n",
       "      <td>0</td>\n",
       "      <td>...</td>\n",
       "      <td>0</td>\n",
       "      <td>0</td>\n",
       "      <td>0</td>\n",
       "      <td>0</td>\n",
       "      <td>1</td>\n",
       "      <td>0</td>\n",
       "      <td>0</td>\n",
       "      <td>0</td>\n",
       "      <td>0</td>\n",
       "      <td>0</td>\n",
       "    </tr>\n",
       "    <tr>\n",
       "      <th>47</th>\n",
       "      <td>23205643</td>\n",
       "      <td>2015-08-09 01:20:01</td>\n",
       "      <td>0.002146</td>\n",
       "      <td>0.033046</td>\n",
       "      <td>0.049556</td>\n",
       "      <td>0.173924</td>\n",
       "      <td>0.004911</td>\n",
       "      <td>0.017043</td>\n",
       "      <td>0.034973</td>\n",
       "      <td>0</td>\n",
       "      <td>...</td>\n",
       "      <td>0</td>\n",
       "      <td>0</td>\n",
       "      <td>0</td>\n",
       "      <td>0</td>\n",
       "      <td>1</td>\n",
       "      <td>0</td>\n",
       "      <td>0</td>\n",
       "      <td>0</td>\n",
       "      <td>0</td>\n",
       "      <td>0</td>\n",
       "    </tr>\n",
       "    <tr>\n",
       "      <th>48</th>\n",
       "      <td>23205643</td>\n",
       "      <td>2015-08-09 01:50:03</td>\n",
       "      <td>0.002145</td>\n",
       "      <td>0.039690</td>\n",
       "      <td>0.049656</td>\n",
       "      <td>0.176368</td>\n",
       "      <td>0.005024</td>\n",
       "      <td>0.017143</td>\n",
       "      <td>0.041967</td>\n",
       "      <td>0</td>\n",
       "      <td>...</td>\n",
       "      <td>0</td>\n",
       "      <td>0</td>\n",
       "      <td>0</td>\n",
       "      <td>0</td>\n",
       "      <td>1</td>\n",
       "      <td>0</td>\n",
       "      <td>0</td>\n",
       "      <td>0</td>\n",
       "      <td>0</td>\n",
       "      <td>0</td>\n",
       "    </tr>\n",
       "    <tr>\n",
       "      <th>49</th>\n",
       "      <td>23205643</td>\n",
       "      <td>2015-08-09 02:20:03</td>\n",
       "      <td>0.002144</td>\n",
       "      <td>0.046292</td>\n",
       "      <td>0.051039</td>\n",
       "      <td>0.178502</td>\n",
       "      <td>0.005087</td>\n",
       "      <td>0.017207</td>\n",
       "      <td>0.048956</td>\n",
       "      <td>0</td>\n",
       "      <td>...</td>\n",
       "      <td>0</td>\n",
       "      <td>0</td>\n",
       "      <td>0</td>\n",
       "      <td>0</td>\n",
       "      <td>1</td>\n",
       "      <td>0</td>\n",
       "      <td>0</td>\n",
       "      <td>0</td>\n",
       "      <td>0</td>\n",
       "      <td>0</td>\n",
       "    </tr>\n",
       "    <tr>\n",
       "      <th>50</th>\n",
       "      <td>23205643</td>\n",
       "      <td>2015-08-09 02:50:02</td>\n",
       "      <td>0.002144</td>\n",
       "      <td>0.052872</td>\n",
       "      <td>0.050718</td>\n",
       "      <td>0.181072</td>\n",
       "      <td>0.005334</td>\n",
       "      <td>0.017450</td>\n",
       "      <td>0.055950</td>\n",
       "      <td>0</td>\n",
       "      <td>...</td>\n",
       "      <td>0</td>\n",
       "      <td>0</td>\n",
       "      <td>0</td>\n",
       "      <td>0</td>\n",
       "      <td>1</td>\n",
       "      <td>0</td>\n",
       "      <td>0</td>\n",
       "      <td>0</td>\n",
       "      <td>0</td>\n",
       "      <td>0</td>\n",
       "    </tr>\n",
       "    <tr>\n",
       "      <th>51</th>\n",
       "      <td>23205643</td>\n",
       "      <td>2015-08-09 03:20:05</td>\n",
       "      <td>0.002144</td>\n",
       "      <td>0.059561</td>\n",
       "      <td>0.047673</td>\n",
       "      <td>0.180112</td>\n",
       "      <td>0.005504</td>\n",
       "      <td>0.017605</td>\n",
       "      <td>0.062939</td>\n",
       "      <td>0</td>\n",
       "      <td>...</td>\n",
       "      <td>0</td>\n",
       "      <td>0</td>\n",
       "      <td>0</td>\n",
       "      <td>0</td>\n",
       "      <td>1</td>\n",
       "      <td>0</td>\n",
       "      <td>0</td>\n",
       "      <td>0</td>\n",
       "      <td>0</td>\n",
       "      <td>0</td>\n",
       "    </tr>\n",
       "    <tr>\n",
       "      <th>52</th>\n",
       "      <td>23205643</td>\n",
       "      <td>2015-08-09 03:50:01</td>\n",
       "      <td>0.002142</td>\n",
       "      <td>0.066228</td>\n",
       "      <td>0.048415</td>\n",
       "      <td>0.163029</td>\n",
       "      <td>0.005505</td>\n",
       "      <td>0.017606</td>\n",
       "      <td>0.069939</td>\n",
       "      <td>0</td>\n",
       "      <td>...</td>\n",
       "      <td>0</td>\n",
       "      <td>0</td>\n",
       "      <td>0</td>\n",
       "      <td>0</td>\n",
       "      <td>1</td>\n",
       "      <td>0</td>\n",
       "      <td>0</td>\n",
       "      <td>0</td>\n",
       "      <td>0</td>\n",
       "      <td>0</td>\n",
       "    </tr>\n",
       "    <tr>\n",
       "      <th>53</th>\n",
       "      <td>23205643</td>\n",
       "      <td>2015-08-09 04:20:04</td>\n",
       "      <td>0.002141</td>\n",
       "      <td>0.072826</td>\n",
       "      <td>0.050358</td>\n",
       "      <td>0.167986</td>\n",
       "      <td>0.005517</td>\n",
       "      <td>0.017607</td>\n",
       "      <td>0.076931</td>\n",
       "      <td>0</td>\n",
       "      <td>...</td>\n",
       "      <td>0</td>\n",
       "      <td>0</td>\n",
       "      <td>0</td>\n",
       "      <td>0</td>\n",
       "      <td>1</td>\n",
       "      <td>0</td>\n",
       "      <td>0</td>\n",
       "      <td>0</td>\n",
       "      <td>0</td>\n",
       "      <td>0</td>\n",
       "    </tr>\n",
       "    <tr>\n",
       "      <th>54</th>\n",
       "      <td>23205643</td>\n",
       "      <td>2015-08-09 04:50:07</td>\n",
       "      <td>0.002140</td>\n",
       "      <td>0.079391</td>\n",
       "      <td>0.050097</td>\n",
       "      <td>0.172648</td>\n",
       "      <td>0.005509</td>\n",
       "      <td>0.017607</td>\n",
       "      <td>0.083922</td>\n",
       "      <td>0</td>\n",
       "      <td>...</td>\n",
       "      <td>0</td>\n",
       "      <td>0</td>\n",
       "      <td>0</td>\n",
       "      <td>0</td>\n",
       "      <td>1</td>\n",
       "      <td>0</td>\n",
       "      <td>0</td>\n",
       "      <td>0</td>\n",
       "      <td>0</td>\n",
       "      <td>0</td>\n",
       "    </tr>\n",
       "    <tr>\n",
       "      <th>55</th>\n",
       "      <td>23205643</td>\n",
       "      <td>2015-08-09 05:20:06</td>\n",
       "      <td>0.002140</td>\n",
       "      <td>0.086099</td>\n",
       "      <td>0.045791</td>\n",
       "      <td>0.171530</td>\n",
       "      <td>0.005512</td>\n",
       "      <td>0.017610</td>\n",
       "      <td>0.090921</td>\n",
       "      <td>0</td>\n",
       "      <td>...</td>\n",
       "      <td>0</td>\n",
       "      <td>0</td>\n",
       "      <td>0</td>\n",
       "      <td>0</td>\n",
       "      <td>1</td>\n",
       "      <td>0</td>\n",
       "      <td>0</td>\n",
       "      <td>0</td>\n",
       "      <td>0</td>\n",
       "      <td>0</td>\n",
       "    </tr>\n",
       "    <tr>\n",
       "      <th>56</th>\n",
       "      <td>23205643</td>\n",
       "      <td>2015-08-09 05:50:02</td>\n",
       "      <td>0.002139</td>\n",
       "      <td>0.092784</td>\n",
       "      <td>0.050999</td>\n",
       "      <td>0.176629</td>\n",
       "      <td>0.005507</td>\n",
       "      <td>0.017702</td>\n",
       "      <td>0.097915</td>\n",
       "      <td>0</td>\n",
       "      <td>...</td>\n",
       "      <td>0</td>\n",
       "      <td>0</td>\n",
       "      <td>0</td>\n",
       "      <td>0</td>\n",
       "      <td>1</td>\n",
       "      <td>0</td>\n",
       "      <td>0</td>\n",
       "      <td>0</td>\n",
       "      <td>0</td>\n",
       "      <td>0</td>\n",
       "    </tr>\n",
       "    <tr>\n",
       "      <th>57</th>\n",
       "      <td>23205643</td>\n",
       "      <td>2015-08-09 06:20:03</td>\n",
       "      <td>0.002138</td>\n",
       "      <td>0.099458</td>\n",
       "      <td>0.049036</td>\n",
       "      <td>0.177401</td>\n",
       "      <td>0.006025</td>\n",
       "      <td>0.018141</td>\n",
       "      <td>0.104905</td>\n",
       "      <td>0</td>\n",
       "      <td>...</td>\n",
       "      <td>0</td>\n",
       "      <td>0</td>\n",
       "      <td>0</td>\n",
       "      <td>0</td>\n",
       "      <td>1</td>\n",
       "      <td>0</td>\n",
       "      <td>0</td>\n",
       "      <td>0</td>\n",
       "      <td>0</td>\n",
       "      <td>0</td>\n",
       "    </tr>\n",
       "    <tr>\n",
       "      <th>58</th>\n",
       "      <td>23205643</td>\n",
       "      <td>2015-08-09 06:50:01</td>\n",
       "      <td>0.002146</td>\n",
       "      <td>0.106083</td>\n",
       "      <td>0.048935</td>\n",
       "      <td>0.169349</td>\n",
       "      <td>0.006121</td>\n",
       "      <td>0.018221</td>\n",
       "      <td>0.111897</td>\n",
       "      <td>0</td>\n",
       "      <td>...</td>\n",
       "      <td>0</td>\n",
       "      <td>0</td>\n",
       "      <td>0</td>\n",
       "      <td>0</td>\n",
       "      <td>1</td>\n",
       "      <td>0</td>\n",
       "      <td>0</td>\n",
       "      <td>0</td>\n",
       "      <td>0</td>\n",
       "      <td>0</td>\n",
       "    </tr>\n",
       "    <tr>\n",
       "      <th>59</th>\n",
       "      <td>23205643</td>\n",
       "      <td>2015-08-09 07:20:03</td>\n",
       "      <td>0.002145</td>\n",
       "      <td>0.112689</td>\n",
       "      <td>0.050117</td>\n",
       "      <td>0.167621</td>\n",
       "      <td>0.006197</td>\n",
       "      <td>0.018303</td>\n",
       "      <td>0.118889</td>\n",
       "      <td>0</td>\n",
       "      <td>...</td>\n",
       "      <td>0</td>\n",
       "      <td>0</td>\n",
       "      <td>0</td>\n",
       "      <td>0</td>\n",
       "      <td>1</td>\n",
       "      <td>0</td>\n",
       "      <td>0</td>\n",
       "      <td>0</td>\n",
       "      <td>0</td>\n",
       "      <td>0</td>\n",
       "    </tr>\n",
       "    <tr>\n",
       "      <th>60</th>\n",
       "      <td>23205643</td>\n",
       "      <td>2015-08-09 07:50:02</td>\n",
       "      <td>0.002153</td>\n",
       "      <td>0.119337</td>\n",
       "      <td>0.047513</td>\n",
       "      <td>0.156570</td>\n",
       "      <td>0.006279</td>\n",
       "      <td>0.018392</td>\n",
       "      <td>0.125880</td>\n",
       "      <td>0</td>\n",
       "      <td>...</td>\n",
       "      <td>0</td>\n",
       "      <td>0</td>\n",
       "      <td>0</td>\n",
       "      <td>0</td>\n",
       "      <td>1</td>\n",
       "      <td>0</td>\n",
       "      <td>0</td>\n",
       "      <td>0</td>\n",
       "      <td>0</td>\n",
       "      <td>0</td>\n",
       "    </tr>\n",
       "    <tr>\n",
       "      <th>61</th>\n",
       "      <td>23205643</td>\n",
       "      <td>2015-08-09 08:20:02</td>\n",
       "      <td>0.002153</td>\n",
       "      <td>0.126029</td>\n",
       "      <td>0.049096</td>\n",
       "      <td>0.153699</td>\n",
       "      <td>0.006322</td>\n",
       "      <td>0.018420</td>\n",
       "      <td>0.132870</td>\n",
       "      <td>0</td>\n",
       "      <td>...</td>\n",
       "      <td>0</td>\n",
       "      <td>0</td>\n",
       "      <td>0</td>\n",
       "      <td>0</td>\n",
       "      <td>1</td>\n",
       "      <td>0</td>\n",
       "      <td>0</td>\n",
       "      <td>0</td>\n",
       "      <td>0</td>\n",
       "      <td>0</td>\n",
       "    </tr>\n",
       "    <tr>\n",
       "      <th>62</th>\n",
       "      <td>23205643</td>\n",
       "      <td>2015-08-09 08:50:03</td>\n",
       "      <td>0.002152</td>\n",
       "      <td>0.132673</td>\n",
       "      <td>0.051780</td>\n",
       "      <td>0.158117</td>\n",
       "      <td>0.006392</td>\n",
       "      <td>0.018482</td>\n",
       "      <td>0.139865</td>\n",
       "      <td>0</td>\n",
       "      <td>...</td>\n",
       "      <td>0</td>\n",
       "      <td>0</td>\n",
       "      <td>0</td>\n",
       "      <td>0</td>\n",
       "      <td>1</td>\n",
       "      <td>0</td>\n",
       "      <td>0</td>\n",
       "      <td>0</td>\n",
       "      <td>0</td>\n",
       "      <td>0</td>\n",
       "    </tr>\n",
       "    <tr>\n",
       "      <th>63</th>\n",
       "      <td>23205643</td>\n",
       "      <td>2015-08-09 09:20:06</td>\n",
       "      <td>0.002151</td>\n",
       "      <td>0.139347</td>\n",
       "      <td>0.048455</td>\n",
       "      <td>0.152630</td>\n",
       "      <td>0.006439</td>\n",
       "      <td>0.018565</td>\n",
       "      <td>0.146853</td>\n",
       "      <td>0</td>\n",
       "      <td>...</td>\n",
       "      <td>0</td>\n",
       "      <td>0</td>\n",
       "      <td>0</td>\n",
       "      <td>0</td>\n",
       "      <td>1</td>\n",
       "      <td>0</td>\n",
       "      <td>0</td>\n",
       "      <td>0</td>\n",
       "      <td>0</td>\n",
       "      <td>0</td>\n",
       "    </tr>\n",
       "    <tr>\n",
       "      <th>64</th>\n",
       "      <td>23205643</td>\n",
       "      <td>2015-08-09 09:50:02</td>\n",
       "      <td>0.002151</td>\n",
       "      <td>0.146002</td>\n",
       "      <td>0.052200</td>\n",
       "      <td>0.154720</td>\n",
       "      <td>0.006525</td>\n",
       "      <td>0.018642</td>\n",
       "      <td>0.153849</td>\n",
       "      <td>0</td>\n",
       "      <td>...</td>\n",
       "      <td>0</td>\n",
       "      <td>0</td>\n",
       "      <td>0</td>\n",
       "      <td>0</td>\n",
       "      <td>1</td>\n",
       "      <td>0</td>\n",
       "      <td>0</td>\n",
       "      <td>0</td>\n",
       "      <td>0</td>\n",
       "      <td>0</td>\n",
       "    </tr>\n",
       "    <tr>\n",
       "      <th>65</th>\n",
       "      <td>23205643</td>\n",
       "      <td>2015-08-09 10:20:05</td>\n",
       "      <td>0.002150</td>\n",
       "      <td>0.152706</td>\n",
       "      <td>0.049176</td>\n",
       "      <td>0.153393</td>\n",
       "      <td>0.006617</td>\n",
       "      <td>0.018728</td>\n",
       "      <td>0.160841</td>\n",
       "      <td>0</td>\n",
       "      <td>...</td>\n",
       "      <td>0</td>\n",
       "      <td>0</td>\n",
       "      <td>0</td>\n",
       "      <td>0</td>\n",
       "      <td>1</td>\n",
       "      <td>0</td>\n",
       "      <td>0</td>\n",
       "      <td>0</td>\n",
       "      <td>0</td>\n",
       "      <td>0</td>\n",
       "    </tr>\n",
       "    <tr>\n",
       "      <th>66</th>\n",
       "      <td>23205643</td>\n",
       "      <td>2015-08-09 10:50:02</td>\n",
       "      <td>0.002158</td>\n",
       "      <td>0.159373</td>\n",
       "      <td>0.044849</td>\n",
       "      <td>0.139094</td>\n",
       "      <td>0.006679</td>\n",
       "      <td>0.018784</td>\n",
       "      <td>0.167829</td>\n",
       "      <td>0</td>\n",
       "      <td>...</td>\n",
       "      <td>0</td>\n",
       "      <td>0</td>\n",
       "      <td>0</td>\n",
       "      <td>0</td>\n",
       "      <td>1</td>\n",
       "      <td>0</td>\n",
       "      <td>0</td>\n",
       "      <td>0</td>\n",
       "      <td>0</td>\n",
       "      <td>0</td>\n",
       "    </tr>\n",
       "    <tr>\n",
       "      <th>67</th>\n",
       "      <td>23205643</td>\n",
       "      <td>2015-08-09 11:20:01</td>\n",
       "      <td>0.002156</td>\n",
       "      <td>0.166073</td>\n",
       "      <td>0.049476</td>\n",
       "      <td>0.148388</td>\n",
       "      <td>0.006772</td>\n",
       "      <td>0.018886</td>\n",
       "      <td>0.174823</td>\n",
       "      <td>0</td>\n",
       "      <td>...</td>\n",
       "      <td>0</td>\n",
       "      <td>0</td>\n",
       "      <td>0</td>\n",
       "      <td>0</td>\n",
       "      <td>1</td>\n",
       "      <td>0</td>\n",
       "      <td>0</td>\n",
       "      <td>0</td>\n",
       "      <td>0</td>\n",
       "      <td>0</td>\n",
       "    </tr>\n",
       "    <tr>\n",
       "      <th>68</th>\n",
       "      <td>23205643</td>\n",
       "      <td>2015-08-09 11:50:02</td>\n",
       "      <td>0.002156</td>\n",
       "      <td>0.172792</td>\n",
       "      <td>0.047734</td>\n",
       "      <td>0.151269</td>\n",
       "      <td>0.006828</td>\n",
       "      <td>0.018931</td>\n",
       "      <td>0.181814</td>\n",
       "      <td>0</td>\n",
       "      <td>...</td>\n",
       "      <td>0</td>\n",
       "      <td>0</td>\n",
       "      <td>0</td>\n",
       "      <td>0</td>\n",
       "      <td>1</td>\n",
       "      <td>0</td>\n",
       "      <td>0</td>\n",
       "      <td>0</td>\n",
       "      <td>0</td>\n",
       "      <td>0</td>\n",
       "    </tr>\n",
       "  </tbody>\n",
       "</table>\n",
       "<p>40 rows × 330 columns</p>\n",
       "</div>"
      ],
      "text/plain": [
       "       JobID       HeartBeatTime  AvailableDiskSpace  CPUConsumed  \\\n",
       "29  23205539 2015-08-08 22:50:06            0.000498     0.000008   \n",
       "30  23205539 2015-08-08 23:20:07            0.000497     0.005948   \n",
       "31  23205539 2015-08-08 23:50:08            0.000497     0.012257   \n",
       "32  23205539 2015-08-09 00:20:09            0.000497     0.019032   \n",
       "33  23205539 2015-08-09 00:50:10            0.000497     0.025793   \n",
       "34  23205539 2015-08-09 01:20:07            0.000497     0.032553   \n",
       "35  23205539 2015-08-09 01:50:07            0.000497     0.039325   \n",
       "36  23205539 2015-08-09 02:20:08            0.000497     0.046097   \n",
       "37  23205539 2015-08-09 02:50:07            0.000497     0.052812   \n",
       "38  23205539 2015-08-09 03:20:07            0.000497     0.059283   \n",
       "39  23205539 2015-08-09 03:50:08            0.000497     0.065174   \n",
       "40  23205539 2015-08-09 04:20:08            0.000498     0.071920   \n",
       "41  23205539 2015-08-09 04:50:08            0.000498     0.078691   \n",
       "42  23205643 2015-08-08 22:50:00            0.002151     0.000030   \n",
       "43  23205643 2015-08-08 23:20:01            0.002150     0.006463   \n",
       "44  23205643 2015-08-08 23:50:00            0.002149     0.013179   \n",
       "45  23205643 2015-08-09 00:20:00            0.002148     0.019732   \n",
       "46  23205643 2015-08-09 00:50:04            0.002147     0.026353   \n",
       "47  23205643 2015-08-09 01:20:01            0.002146     0.033046   \n",
       "48  23205643 2015-08-09 01:50:03            0.002145     0.039690   \n",
       "49  23205643 2015-08-09 02:20:03            0.002144     0.046292   \n",
       "50  23205643 2015-08-09 02:50:02            0.002144     0.052872   \n",
       "51  23205643 2015-08-09 03:20:05            0.002144     0.059561   \n",
       "52  23205643 2015-08-09 03:50:01            0.002142     0.066228   \n",
       "53  23205643 2015-08-09 04:20:04            0.002141     0.072826   \n",
       "54  23205643 2015-08-09 04:50:07            0.002140     0.079391   \n",
       "55  23205643 2015-08-09 05:20:06            0.002140     0.086099   \n",
       "56  23205643 2015-08-09 05:50:02            0.002139     0.092784   \n",
       "57  23205643 2015-08-09 06:20:03            0.002138     0.099458   \n",
       "58  23205643 2015-08-09 06:50:01            0.002146     0.106083   \n",
       "59  23205643 2015-08-09 07:20:03            0.002145     0.112689   \n",
       "60  23205643 2015-08-09 07:50:02            0.002153     0.119337   \n",
       "61  23205643 2015-08-09 08:20:02            0.002153     0.126029   \n",
       "62  23205643 2015-08-09 08:50:03            0.002152     0.132673   \n",
       "63  23205643 2015-08-09 09:20:06            0.002151     0.139347   \n",
       "64  23205643 2015-08-09 09:50:02            0.002151     0.146002   \n",
       "65  23205643 2015-08-09 10:20:05            0.002150     0.152706   \n",
       "66  23205643 2015-08-09 10:50:02            0.002158     0.159373   \n",
       "67  23205643 2015-08-09 11:20:01            0.002156     0.166073   \n",
       "68  23205643 2015-08-09 11:50:02            0.002156     0.172792   \n",
       "\n",
       "    LoadAverage  MemoryUsed       RSS     Vsize  WallClockTime  \\\n",
       "29     0.022835    0.089497  0.000295  0.002542       0.000002   \n",
       "30     0.027002    0.097032  0.004706  0.012162       0.007001   \n",
       "31     0.026581    0.094595  0.004929  0.012389       0.013993   \n",
       "32     0.026200    0.095478  0.005136  0.012597       0.020992   \n",
       "33     0.024217    0.096853  0.005286  0.013117       0.027987   \n",
       "34     0.024057    0.094305  0.005462  0.013289       0.034971   \n",
       "35     0.024137    0.095746  0.005605  0.013430       0.041964   \n",
       "36     0.024257    0.097337  0.006186  0.013996       0.048958   \n",
       "37     0.025279    0.097736  0.006046  0.014153       0.055949   \n",
       "38     0.026180    0.096338  0.006208  0.014286       0.062941   \n",
       "39     0.026481    0.097492  0.006331  0.014404       0.069936   \n",
       "40     0.022435    0.091498  0.006507  0.014603       0.076926   \n",
       "41     0.022755    0.088357  0.006792  0.014885       0.083921   \n",
       "42     0.045530    0.158091  0.000305  0.004432       0.000012   \n",
       "43     0.049316    0.162162  0.004673  0.015920       0.007010   \n",
       "44     0.049316    0.165052  0.004786  0.016799       0.013997   \n",
       "45     0.048975    0.169356  0.004692  0.016914       0.020992   \n",
       "46     0.048695    0.172042  0.004804  0.016971       0.027981   \n",
       "47     0.049556    0.173924  0.004911  0.017043       0.034973   \n",
       "48     0.049656    0.176368  0.005024  0.017143       0.041967   \n",
       "49     0.051039    0.178502  0.005087  0.017207       0.048956   \n",
       "50     0.050718    0.181072  0.005334  0.017450       0.055950   \n",
       "51     0.047673    0.180112  0.005504  0.017605       0.062939   \n",
       "52     0.048415    0.163029  0.005505  0.017606       0.069939   \n",
       "53     0.050358    0.167986  0.005517  0.017607       0.076931   \n",
       "54     0.050097    0.172648  0.005509  0.017607       0.083922   \n",
       "55     0.045791    0.171530  0.005512  0.017610       0.090921   \n",
       "56     0.050999    0.176629  0.005507  0.017702       0.097915   \n",
       "57     0.049036    0.177401  0.006025  0.018141       0.104905   \n",
       "58     0.048935    0.169349  0.006121  0.018221       0.111897   \n",
       "59     0.050117    0.167621  0.006197  0.018303       0.118889   \n",
       "60     0.047513    0.156570  0.006279  0.018392       0.125880   \n",
       "61     0.049096    0.153699  0.006322  0.018420       0.132870   \n",
       "62     0.051780    0.158117  0.006392  0.018482       0.139865   \n",
       "63     0.048455    0.152630  0.006439  0.018565       0.146853   \n",
       "64     0.052200    0.154720  0.006525  0.018642       0.153849   \n",
       "65     0.049176    0.153393  0.006617  0.018728       0.160841   \n",
       "66     0.044849    0.139094  0.006679  0.018784       0.167829   \n",
       "67     0.049476    0.148388  0.006772  0.018886       0.174823   \n",
       "68     0.047734    0.151269  0.006828  0.018931       0.181814   \n",
       "\n",
       "    RescheduleCounter       ...         Site_LCG.Torino.it  \\\n",
       "29                  0       ...                          0   \n",
       "30                  0       ...                          0   \n",
       "31                  0       ...                          0   \n",
       "32                  0       ...                          0   \n",
       "33                  0       ...                          0   \n",
       "34                  0       ...                          0   \n",
       "35                  0       ...                          0   \n",
       "36                  0       ...                          0   \n",
       "37                  0       ...                          0   \n",
       "38                  0       ...                          0   \n",
       "39                  0       ...                          0   \n",
       "40                  0       ...                          0   \n",
       "41                  0       ...                          0   \n",
       "42                  0       ...                          0   \n",
       "43                  0       ...                          0   \n",
       "44                  0       ...                          0   \n",
       "45                  0       ...                          0   \n",
       "46                  0       ...                          0   \n",
       "47                  0       ...                          0   \n",
       "48                  0       ...                          0   \n",
       "49                  0       ...                          0   \n",
       "50                  0       ...                          0   \n",
       "51                  0       ...                          0   \n",
       "52                  0       ...                          0   \n",
       "53                  0       ...                          0   \n",
       "54                  0       ...                          0   \n",
       "55                  0       ...                          0   \n",
       "56                  0       ...                          0   \n",
       "57                  0       ...                          0   \n",
       "58                  0       ...                          0   \n",
       "59                  0       ...                          0   \n",
       "60                  0       ...                          0   \n",
       "61                  0       ...                          0   \n",
       "62                  0       ...                          0   \n",
       "63                  0       ...                          0   \n",
       "64                  0       ...                          0   \n",
       "65                  0       ...                          0   \n",
       "66                  0       ...                          0   \n",
       "67                  0       ...                          0   \n",
       "68                  0       ...                          0   \n",
       "\n",
       "    Site_LCG.ULAKBIM.tr  Site_Multiple  Site_SSH.KMI.jp  Status_Failed  \\\n",
       "29                    0              0                0              1   \n",
       "30                    0              0                0              1   \n",
       "31                    0              0                0              1   \n",
       "32                    0              0                0              1   \n",
       "33                    0              0                0              1   \n",
       "34                    0              0                0              1   \n",
       "35                    0              0                0              1   \n",
       "36                    0              0                0              1   \n",
       "37                    0              0                0              1   \n",
       "38                    0              0                0              1   \n",
       "39                    0              0                0              1   \n",
       "40                    0              0                0              1   \n",
       "41                    0              0                0              1   \n",
       "42                    0              0                0              1   \n",
       "43                    0              0                0              1   \n",
       "44                    0              0                0              1   \n",
       "45                    0              0                0              1   \n",
       "46                    0              0                0              1   \n",
       "47                    0              0                0              1   \n",
       "48                    0              0                0              1   \n",
       "49                    0              0                0              1   \n",
       "50                    0              0                0              1   \n",
       "51                    0              0                0              1   \n",
       "52                    0              0                0              1   \n",
       "53                    0              0                0              1   \n",
       "54                    0              0                0              1   \n",
       "55                    0              0                0              1   \n",
       "56                    0              0                0              1   \n",
       "57                    0              0                0              1   \n",
       "58                    0              0                0              1   \n",
       "59                    0              0                0              1   \n",
       "60                    0              0                0              1   \n",
       "61                    0              0                0              1   \n",
       "62                    0              0                0              1   \n",
       "63                    0              0                0              1   \n",
       "64                    0              0                0              1   \n",
       "65                    0              0                0              1   \n",
       "66                    0              0                0              1   \n",
       "67                    0              0                0              1   \n",
       "68                    0              0                0              1   \n",
       "\n",
       "    UserPriority_2  UserPriority_3  UserPriority_5  UserPriority_9  \\\n",
       "29               0               0               0               0   \n",
       "30               0               0               0               0   \n",
       "31               0               0               0               0   \n",
       "32               0               0               0               0   \n",
       "33               0               0               0               0   \n",
       "34               0               0               0               0   \n",
       "35               0               0               0               0   \n",
       "36               0               0               0               0   \n",
       "37               0               0               0               0   \n",
       "38               0               0               0               0   \n",
       "39               0               0               0               0   \n",
       "40               0               0               0               0   \n",
       "41               0               0               0               0   \n",
       "42               0               0               0               0   \n",
       "43               0               0               0               0   \n",
       "44               0               0               0               0   \n",
       "45               0               0               0               0   \n",
       "46               0               0               0               0   \n",
       "47               0               0               0               0   \n",
       "48               0               0               0               0   \n",
       "49               0               0               0               0   \n",
       "50               0               0               0               0   \n",
       "51               0               0               0               0   \n",
       "52               0               0               0               0   \n",
       "53               0               0               0               0   \n",
       "54               0               0               0               0   \n",
       "55               0               0               0               0   \n",
       "56               0               0               0               0   \n",
       "57               0               0               0               0   \n",
       "58               0               0               0               0   \n",
       "59               0               0               0               0   \n",
       "60               0               0               0               0   \n",
       "61               0               0               0               0   \n",
       "62               0               0               0               0   \n",
       "63               0               0               0               0   \n",
       "64               0               0               0               0   \n",
       "65               0               0               0               0   \n",
       "66               0               0               0               0   \n",
       "67               0               0               0               0   \n",
       "68               0               0               0               0   \n",
       "\n",
       "    UserPriority_10  \n",
       "29                0  \n",
       "30                0  \n",
       "31                0  \n",
       "32                0  \n",
       "33                0  \n",
       "34                0  \n",
       "35                0  \n",
       "36                0  \n",
       "37                0  \n",
       "38                0  \n",
       "39                0  \n",
       "40                0  \n",
       "41                0  \n",
       "42                0  \n",
       "43                0  \n",
       "44                0  \n",
       "45                0  \n",
       "46                0  \n",
       "47                0  \n",
       "48                0  \n",
       "49                0  \n",
       "50                0  \n",
       "51                0  \n",
       "52                0  \n",
       "53                0  \n",
       "54                0  \n",
       "55                0  \n",
       "56                0  \n",
       "57                0  \n",
       "58                0  \n",
       "59                0  \n",
       "60                0  \n",
       "61                0  \n",
       "62                0  \n",
       "63                0  \n",
       "64                0  \n",
       "65                0  \n",
       "66                0  \n",
       "67                0  \n",
       "68                0  \n",
       "\n",
       "[40 rows x 330 columns]"
      ]
     },
     "execution_count": 161,
     "metadata": {},
     "output_type": "execute_result"
    }
   ],
   "source": [
    "takeoutdf.head(40)"
   ]
  },
  {
   "cell_type": "code",
   "execution_count": 163,
   "metadata": {},
   "outputs": [
    {
     "data": {
      "text/plain": [
       "(27, 1, 65)"
      ]
     },
     "execution_count": 163,
     "metadata": {},
     "output_type": "execute_result"
    }
   ],
   "source": [
    "collectXtest[100].shape"
   ]
  },
  {
   "cell_type": "markdown",
   "metadata": {},
   "source": [
    "### Unpack X_test"
   ]
  },
  {
   "cell_type": "code",
   "execution_count": 164,
   "metadata": {},
   "outputs": [],
   "source": [
    "X_test=[]"
   ]
  },
  {
   "cell_type": "code",
   "execution_count": 165,
   "metadata": {},
   "outputs": [
    {
     "name": "stdout",
     "output_type": "stream",
     "text": [
      "CPU times: user 1.28 s, sys: 361 ms, total: 1.64 s\n",
      "Wall time: 1.64 s\n"
     ]
    }
   ],
   "source": [
    "%%time\n",
    "for x in collectXtest:\n",
    "    #len(x)\n",
    "    for i in x:\n",
    "        X_test.append(i)"
   ]
  },
  {
   "cell_type": "code",
   "execution_count": 170,
   "metadata": {},
   "outputs": [
    {
     "data": {
      "text/plain": [
       "(2368345, 1, 65)"
      ]
     },
     "execution_count": 170,
     "metadata": {},
     "output_type": "execute_result"
    }
   ],
   "source": [
    "X_test = np.array(X_test)\n",
    "X_test.shape"
   ]
  },
  {
   "cell_type": "code",
   "execution_count": 166,
   "metadata": {},
   "outputs": [
    {
     "data": {
      "text/plain": [
       "(2377365, 1, 65)"
      ]
     },
     "execution_count": 166,
     "metadata": {},
     "output_type": "execute_result"
    }
   ],
   "source": [
    "X_test = np.array(X_test)\n",
    "X_test.shape"
   ]
  },
  {
   "cell_type": "code",
   "execution_count": 167,
   "metadata": {},
   "outputs": [],
   "source": [
    "## X_test is ready"
   ]
  },
  {
   "cell_type": "markdown",
   "metadata": {},
   "source": [
    "### Make Y_test"
   ]
  },
  {
   "cell_type": "code",
   "execution_count": 168,
   "metadata": {},
   "outputs": [
    {
     "name": "stdout",
     "output_type": "stream",
     "text": [
      "CPU times: user 5min 53s, sys: 47.6 s, total: 6min 40s\n",
      "Wall time: 7min 11s\n"
     ]
    }
   ],
   "source": [
    "%%time\n",
    "collecttestlabel = applyParallel(takeoutdfgrouped, samples_label)"
   ]
  },
  {
   "cell_type": "code",
   "execution_count": 172,
   "metadata": {},
   "outputs": [
    {
     "name": "stdout",
     "output_type": "stream",
     "text": [
      "CPU times: user 22min 8s, sys: 14.4 s, total: 22min 23s\n",
      "Wall time: 22min 25s\n"
     ]
    }
   ],
   "source": [
    "%%time\n",
    "collectlabel = takeoutdfgrouped.apply(samples_label)"
   ]
  },
  {
   "cell_type": "code",
   "execution_count": 170,
   "metadata": {},
   "outputs": [
    {
     "data": {
      "text/plain": [
       "342394"
      ]
     },
     "execution_count": 170,
     "metadata": {},
     "output_type": "execute_result"
    }
   ],
   "source": [
    "len(collecttestlabel)"
   ]
  },
  {
   "cell_type": "code",
   "execution_count": 174,
   "metadata": {},
   "outputs": [],
   "source": [
    "with open('large_collectlabel.pickle', 'wb') as handle:\n",
    "    pickle.dump(collectlabel, handle, protocol=pickle.HIGHEST_PROTOCOL)"
   ]
  },
  {
   "cell_type": "markdown",
   "metadata": {},
   "source": [
    "### Unpack Y_test"
   ]
  },
  {
   "cell_type": "code",
   "execution_count": 171,
   "metadata": {},
   "outputs": [],
   "source": [
    "Y_t=[]"
   ]
  },
  {
   "cell_type": "code",
   "execution_count": 172,
   "metadata": {},
   "outputs": [
    {
     "name": "stdout",
     "output_type": "stream",
     "text": [
      "CPU times: user 1.24 s, sys: 357 ms, total: 1.6 s\n",
      "Wall time: 1.6 s\n"
     ]
    }
   ],
   "source": [
    "%%time\n",
    "for x in collecttestlabel:\n",
    "    #len(x)\n",
    "    for i in x:\n",
    "        Y_t.append(i)"
   ]
  },
  {
   "cell_type": "code",
   "execution_count": 173,
   "metadata": {},
   "outputs": [
    {
     "data": {
      "text/plain": [
       "(2377365, 1, 1)"
      ]
     },
     "execution_count": 173,
     "metadata": {},
     "output_type": "execute_result"
    }
   ],
   "source": [
    "Y_t = np.array(Y_t)\n",
    "Y_t.shape"
   ]
  },
  {
   "cell_type": "code",
   "execution_count": 177,
   "metadata": {},
   "outputs": [
    {
     "data": {
      "text/plain": [
       "(2377365, 1)"
      ]
     },
     "execution_count": 177,
     "metadata": {},
     "output_type": "execute_result"
    }
   ],
   "source": [
    "Y_test = np.array([x[0][0] for x in Y_t]).reshape(len(Y_t),1)\n",
    "Y_test.shape"
   ]
  },
  {
   "cell_type": "code",
   "execution_count": 178,
   "metadata": {
    "scrolled": true
   },
   "outputs": [
    {
     "data": {
      "text/plain": [
       "array([[1],\n",
       "       [1],\n",
       "       [1],\n",
       "       [1],\n",
       "       [1]])"
      ]
     },
     "execution_count": 178,
     "metadata": {},
     "output_type": "execute_result"
    }
   ],
   "source": [
    "Y_test[:5]"
   ]
  },
  {
   "cell_type": "code",
   "execution_count": 179,
   "metadata": {},
   "outputs": [],
   "source": [
    "## Y_test is ready"
   ]
  },
  {
   "cell_type": "code",
   "execution_count": 180,
   "metadata": {},
   "outputs": [
    {
     "data": {
      "text/plain": [
       "((2377365, 1, 65), (2377365, 1))"
      ]
     },
     "execution_count": 180,
     "metadata": {},
     "output_type": "execute_result"
    }
   ],
   "source": [
    "X_test.shape, Y_test.shape"
   ]
  },
  {
   "cell_type": "code",
   "execution_count": 181,
   "metadata": {},
   "outputs": [
    {
     "data": {
      "text/plain": [
       "((2364904, 1, 65), (2364904, 1))"
      ]
     },
     "execution_count": 181,
     "metadata": {},
     "output_type": "execute_result"
    }
   ],
   "source": [
    "X_final.shape, Y_final.shape"
   ]
  },
  {
   "cell_type": "code",
   "execution_count": 182,
   "metadata": {},
   "outputs": [
    {
     "data": {
      "text/plain": [
       "(array([732839]), 2377365)"
      ]
     },
     "execution_count": 182,
     "metadata": {},
     "output_type": "execute_result"
    }
   ],
   "source": [
    "sum(Y_test[:]), len(Y_test)"
   ]
  },
  {
   "cell_type": "code",
   "execution_count": 183,
   "metadata": {},
   "outputs": [],
   "source": [
    "del Y_t"
   ]
  },
  {
   "cell_type": "code",
   "execution_count": 200,
   "metadata": {},
   "outputs": [],
   "source": [
    "with open('large_X_final.pickle', 'wb') as handle:\n",
    "    pickle.dump(X_final, handle, protocol=pickle.HIGHEST_PROTOCOL)\n",
    "\n",
    "with open('large_Y_final.pickle', 'wb') as handle:\n",
    "    pickle.dump(Y_final, handle, protocol=pickle.HIGHEST_PROTOCOL)\n",
    "    \n",
    "with open('large_X_test.pickle', 'wb') as handle:\n",
    "    pickle.dump(X_test, handle, protocol=pickle.HIGHEST_PROTOCOL)\n",
    "\n",
    "with open('large_Y_test.pickle', 'wb') as handle:\n",
    "    pickle.dump(Y_test, handle, protocol=pickle.HIGHEST_PROTOCOL)"
   ]
  },
  {
   "cell_type": "code",
   "execution_count": 201,
   "metadata": {},
   "outputs": [
    {
     "data": {
      "text/plain": [
       "((2377365, 1, 65), (2377365, 1))"
      ]
     },
     "execution_count": 201,
     "metadata": {},
     "output_type": "execute_result"
    }
   ],
   "source": [
    "X_test.shape, Y_test.shape"
   ]
  },
  {
   "cell_type": "code",
   "execution_count": 202,
   "metadata": {},
   "outputs": [
    {
     "data": {
      "text/plain": [
       "((2364904, 1, 65), (2364904, 1))"
      ]
     },
     "execution_count": 202,
     "metadata": {},
     "output_type": "execute_result"
    }
   ],
   "source": [
    "X_final.shape, Y_final.shape"
   ]
  },
  {
   "cell_type": "markdown",
   "metadata": {},
   "source": [
    "# End test set from 'takeoutdf'"
   ]
  },
  {
   "cell_type": "markdown",
   "metadata": {},
   "source": [
    "## Build Model"
   ]
  },
  {
   "cell_type": "code",
   "execution_count": 184,
   "metadata": {},
   "outputs": [],
   "source": [
    "input_length = X_final.shape[1]\n",
    "\n",
    "input_dim = X_final.shape[2]\n",
    "\n",
    "# Output dimensions is the shape of a single output vector\n",
    "# In this case it's just 1, but it could be more\n",
    "output_dim = len(Y_final[0])"
   ]
  },
  {
   "cell_type": "code",
   "execution_count": 185,
   "metadata": {},
   "outputs": [],
   "source": [
    "# NO NEED TO SPLIT, SINCE TESTING WILL OCCUR ON leftoutdf taken out earlier\n",
    "\n",
    "#from sklearn.model_selection import train_test_split\n",
    "\n",
    "#X_train,X_test,y_train,y_test = train_test_split(X_final,Y_final,test_size=0.33,random_state=24)"
   ]
  },
  {
   "cell_type": "code",
   "execution_count": 186,
   "metadata": {},
   "outputs": [],
   "source": [
    "#X_train.shape,y_train.shape, X_test.shape,  y_test.shape"
   ]
  },
  {
   "cell_type": "code",
   "execution_count": 187,
   "metadata": {},
   "outputs": [
    {
     "data": {
      "text/plain": [
       "0.30870174856992083"
      ]
     },
     "execution_count": 187,
     "metadata": {},
     "output_type": "execute_result"
    }
   ],
   "source": [
    "sum([x[0] for x in Y_final])/ len(Y_final)"
   ]
  },
  {
   "cell_type": "code",
   "execution_count": 188,
   "metadata": {},
   "outputs": [
    {
     "data": {
      "text/plain": [
       "array([[1],\n",
       "       [0],\n",
       "       [0],\n",
       "       [1],\n",
       "       [1]])"
      ]
     },
     "execution_count": 188,
     "metadata": {},
     "output_type": "execute_result"
    }
   ],
   "source": [
    "Y_final[:5]"
   ]
  },
  {
   "cell_type": "code",
   "execution_count": 189,
   "metadata": {},
   "outputs": [
    {
     "name": "stderr",
     "output_type": "stream",
     "text": [
      "/data/home/a1singh/anaconda3/envs/keras/lib/python3.5/site-packages/h5py/__init__.py:36: FutureWarning: Conversion of the second argument of issubdtype from `float` to `np.floating` is deprecated. In future, it will be treated as `np.float64 == np.dtype(float).type`.\n",
      "  from ._conv import register_converters as _register_converters\n",
      "Using TensorFlow backend.\n"
     ]
    },
    {
     "data": {
      "text/plain": [
       "(65, 1, 1)"
      ]
     },
     "execution_count": 189,
     "metadata": {},
     "output_type": "execute_result"
    }
   ],
   "source": [
    "from keras.models import Model, Sequential\n",
    "from keras.layers import LSTM, Dense, Embedding, Dropout\n",
    "input_dim, input_length, output_dim"
   ]
  },
  {
   "cell_type": "code",
   "execution_count": 194,
   "metadata": {},
   "outputs": [],
   "source": [
    "# Model 1\n",
    "\n",
    "def create_model1(input_dim = input_dim, input_length = input_length, output_dim=output_dim):\n",
    "    print ('Creating model 1...')\n",
    "    model = Sequential()\n",
    "    model.add(LSTM(20, input_shape=(input_length,input_dim),return_sequences=True))\n",
    "    model.add(LSTM(20))\n",
    "    model.add(Dense(output_dim, activation='sigmoid'))\n",
    "\n",
    "    print ('Compiling...')\n",
    "    model.compile(loss='binary_crossentropy',\n",
    "                  optimizer='adam',\n",
    "                  metrics=['binary_accuracy'])\n",
    "    return model"
   ]
  },
  {
   "cell_type": "code",
   "execution_count": 195,
   "metadata": {},
   "outputs": [],
   "source": [
    "# Model 2\n",
    "\n",
    "def create_model2(input_dim = input_dim, input_length = input_length, output_dim=output_dim):\n",
    "    print ('Creating model 2...')\n",
    "    model = Sequential()\n",
    "    model.add(LSTM(50, input_shape=(input_length,input_dim),return_sequences=True))\n",
    "    model.add(LSTM(50, input_shape=(input_length,input_dim),return_sequences=True))\n",
    "    model.add(LSTM(50, input_shape=(input_length,input_dim),return_sequences=True))\n",
    "    model.add(LSTM(50))\n",
    "    model.add(Dense(output_dim, activation='sigmoid'))\n",
    "\n",
    "    print ('Compiling...')\n",
    "    model.compile(loss='binary_crossentropy',\n",
    "                  optimizer='adam',\n",
    "                  metrics=['binary_accuracy'])\n",
    "    return model"
   ]
  },
  {
   "cell_type": "code",
   "execution_count": 196,
   "metadata": {},
   "outputs": [],
   "source": [
    "# Model 3\n",
    "\n",
    "def create_model3(input_dim = input_dim, input_length = input_length, output_dim=output_dim):\n",
    "    print ('Creating model 3...')\n",
    "    model = Sequential()\n",
    "    model.add(LSTM(100, input_shape=(input_length,input_dim),return_sequences=True))\n",
    "    model.add(LSTM(100, input_shape=(input_length,input_dim),return_sequences=True))\n",
    "    model.add(LSTM(100, input_shape=(input_length,input_dim),return_sequences=True))\n",
    "    model.add(LSTM(100, input_shape=(input_length,input_dim),return_sequences=True))\n",
    "    model.add(LSTM(100, input_shape=(input_length,input_dim),return_sequences=True))\n",
    "    model.add(LSTM(100))\n",
    "    model.add(Dense(output_dim, activation='sigmoid'))\n",
    "\n",
    "    print ('Compiling...')\n",
    "    model.compile(loss='binary_crossentropy',\n",
    "                  optimizer='adam',\n",
    "                  metrics=['binary_accuracy'])\n",
    "    return model"
   ]
  },
  {
   "cell_type": "code",
   "execution_count": null,
   "metadata": {},
   "outputs": [],
   "source": []
  },
  {
   "cell_type": "markdown",
   "metadata": {},
   "source": [
    "# Model 1"
   ]
  },
  {
   "cell_type": "code",
   "execution_count": 214,
   "metadata": {},
   "outputs": [
    {
     "name": "stdout",
     "output_type": "stream",
     "text": [
      "Creating model 1...\n",
      "Compiling...\n"
     ]
    }
   ],
   "source": [
    "model1 = create_model1()"
   ]
  },
  {
   "cell_type": "code",
   "execution_count": 215,
   "metadata": {
    "scrolled": false
   },
   "outputs": [
    {
     "name": "stdout",
     "output_type": "stream",
     "text": [
      "Fitting model...\n",
      "Train on 2128413 samples, validate on 236491 samples\n",
      "Epoch 1/100\n",
      "2128413/2128413 [==============================] - 63s 30us/step - loss: 0.1836 - binary_accuracy: 0.9349 - val_loss: 0.1578 - val_binary_accuracy: 0.9451\n",
      "Epoch 2/100\n",
      "2128413/2128413 [==============================] - 65s 30us/step - loss: 0.1503 - binary_accuracy: 0.9515 - val_loss: 0.1410 - val_binary_accuracy: 0.9546\n",
      "Epoch 3/100\n",
      "2128413/2128413 [==============================] - 64s 30us/step - loss: 0.1375 - binary_accuracy: 0.9563 - val_loss: 0.1279 - val_binary_accuracy: 0.9594\n",
      "Epoch 4/100\n",
      "2128413/2128413 [==============================] - 65s 30us/step - loss: 0.1233 - binary_accuracy: 0.9615 - val_loss: 0.1153 - val_binary_accuracy: 0.9642\n",
      "Epoch 5/100\n",
      "2128413/2128413 [==============================] - 63s 30us/step - loss: 0.1129 - binary_accuracy: 0.9645 - val_loss: 0.1089 - val_binary_accuracy: 0.9660\n",
      "Epoch 6/100\n",
      "2128413/2128413 [==============================] - 65s 31us/step - loss: 0.1076 - binary_accuracy: 0.9663 - val_loss: 0.1024 - val_binary_accuracy: 0.9684\n",
      "Epoch 7/100\n",
      "2128413/2128413 [==============================] - 62s 29us/step - loss: 0.1043 - binary_accuracy: 0.9675 - val_loss: 0.1001 - val_binary_accuracy: 0.9688\n",
      "Epoch 8/100\n",
      "2128413/2128413 [==============================] - 65s 30us/step - loss: 0.1024 - binary_accuracy: 0.9682 - val_loss: 0.0988 - val_binary_accuracy: 0.9696\n",
      "Epoch 9/100\n",
      "2128413/2128413 [==============================] - 63s 29us/step - loss: 0.1007 - binary_accuracy: 0.9688 - val_loss: 0.0983 - val_binary_accuracy: 0.9698\n",
      "Epoch 10/100\n",
      "2128413/2128413 [==============================] - 65s 30us/step - loss: 0.0994 - binary_accuracy: 0.9693 - val_loss: 0.0979 - val_binary_accuracy: 0.9695\n",
      "Epoch 11/100\n",
      "2128413/2128413 [==============================] - 64s 30us/step - loss: 0.0981 - binary_accuracy: 0.9699 - val_loss: 0.0958 - val_binary_accuracy: 0.9706\n",
      "Epoch 12/100\n",
      "2128413/2128413 [==============================] - 64s 30us/step - loss: 0.0970 - binary_accuracy: 0.9703 - val_loss: 0.0947 - val_binary_accuracy: 0.9708\n",
      "Epoch 13/100\n",
      "2128413/2128413 [==============================] - 64s 30us/step - loss: 0.0959 - binary_accuracy: 0.9707 - val_loss: 0.0934 - val_binary_accuracy: 0.9716\n",
      "Epoch 14/100\n",
      "2128413/2128413 [==============================] - 65s 31us/step - loss: 0.0950 - binary_accuracy: 0.9710 - val_loss: 0.0940 - val_binary_accuracy: 0.9720\n",
      "Epoch 15/100\n",
      "2128413/2128413 [==============================] - 65s 31us/step - loss: 0.0942 - binary_accuracy: 0.9713 - val_loss: 0.0930 - val_binary_accuracy: 0.9714\n",
      "Epoch 16/100\n",
      "2128413/2128413 [==============================] - 61s 29us/step - loss: 0.0935 - binary_accuracy: 0.9716 - val_loss: 0.0918 - val_binary_accuracy: 0.9723\n",
      "Epoch 17/100\n",
      "2128413/2128413 [==============================] - 59s 28us/step - loss: 0.0928 - binary_accuracy: 0.9718 - val_loss: 0.0905 - val_binary_accuracy: 0.9727\n",
      "Epoch 18/100\n",
      "2128413/2128413 [==============================] - 63s 30us/step - loss: 0.0922 - binary_accuracy: 0.9720 - val_loss: 0.0934 - val_binary_accuracy: 0.9711\n",
      "Epoch 19/100\n",
      "2128413/2128413 [==============================] - 64s 30us/step - loss: 0.0917 - binary_accuracy: 0.9722 - val_loss: 0.0896 - val_binary_accuracy: 0.9729\n",
      "Epoch 20/100\n",
      "2128413/2128413 [==============================] - 65s 31us/step - loss: 0.0911 - binary_accuracy: 0.9724 - val_loss: 0.0890 - val_binary_accuracy: 0.9731\n",
      "Epoch 21/100\n",
      "2128413/2128413 [==============================] - 65s 30us/step - loss: 0.0907 - binary_accuracy: 0.9725 - val_loss: 0.0916 - val_binary_accuracy: 0.9719\n",
      "Epoch 22/100\n",
      "2128413/2128413 [==============================] - 66s 31us/step - loss: 0.0903 - binary_accuracy: 0.9727 - val_loss: 0.0891 - val_binary_accuracy: 0.9734\n",
      "Epoch 23/100\n",
      "2128413/2128413 [==============================] - 64s 30us/step - loss: 0.0897 - binary_accuracy: 0.9729 - val_loss: 0.0878 - val_binary_accuracy: 0.9732\n",
      "Epoch 24/100\n",
      "2128413/2128413 [==============================] - 64s 30us/step - loss: 0.0895 - binary_accuracy: 0.9729 - val_loss: 0.0874 - val_binary_accuracy: 0.9736\n",
      "Epoch 25/100\n",
      "2128413/2128413 [==============================] - 65s 30us/step - loss: 0.0891 - binary_accuracy: 0.9730 - val_loss: 0.0866 - val_binary_accuracy: 0.9740\n",
      "Epoch 26/100\n",
      "2128413/2128413 [==============================] - 64s 30us/step - loss: 0.0888 - binary_accuracy: 0.9731 - val_loss: 0.0874 - val_binary_accuracy: 0.9737\n",
      "Epoch 27/100\n",
      "2128413/2128413 [==============================] - 65s 30us/step - loss: 0.0883 - binary_accuracy: 0.9733 - val_loss: 0.0865 - val_binary_accuracy: 0.9738\n",
      "Epoch 28/100\n",
      "2128413/2128413 [==============================] - 63s 30us/step - loss: 0.0880 - binary_accuracy: 0.9734 - val_loss: 0.0864 - val_binary_accuracy: 0.9736\n",
      "Epoch 29/100\n",
      "2128413/2128413 [==============================] - 64s 30us/step - loss: 0.0877 - binary_accuracy: 0.9735 - val_loss: 0.0857 - val_binary_accuracy: 0.9743\n",
      "Epoch 30/100\n",
      "2128413/2128413 [==============================] - 64s 30us/step - loss: 0.0875 - binary_accuracy: 0.9735 - val_loss: 0.0859 - val_binary_accuracy: 0.9736\n",
      "Epoch 31/100\n",
      "2128413/2128413 [==============================] - 61s 29us/step - loss: 0.0872 - binary_accuracy: 0.9737 - val_loss: 0.0860 - val_binary_accuracy: 0.9741\n",
      "Epoch 32/100\n",
      "2128413/2128413 [==============================] - 66s 31us/step - loss: 0.0870 - binary_accuracy: 0.9738 - val_loss: 0.0880 - val_binary_accuracy: 0.9734\n",
      "Epoch 33/100\n",
      "2128413/2128413 [==============================] - 65s 31us/step - loss: 0.0867 - binary_accuracy: 0.9738 - val_loss: 0.0850 - val_binary_accuracy: 0.9743\n",
      "Epoch 34/100\n",
      "2128413/2128413 [==============================] - 61s 29us/step - loss: 0.0865 - binary_accuracy: 0.9739 - val_loss: 0.0843 - val_binary_accuracy: 0.9746\n",
      "Epoch 35/100\n",
      "2128413/2128413 [==============================] - 63s 30us/step - loss: 0.0863 - binary_accuracy: 0.9740 - val_loss: 0.0849 - val_binary_accuracy: 0.9747\n",
      "Epoch 36/100\n",
      "2128413/2128413 [==============================] - 64s 30us/step - loss: 0.0861 - binary_accuracy: 0.9741 - val_loss: 0.0844 - val_binary_accuracy: 0.9746\n",
      "Epoch 37/100\n",
      "2128413/2128413 [==============================] - 65s 30us/step - loss: 0.0859 - binary_accuracy: 0.9742 - val_loss: 0.0848 - val_binary_accuracy: 0.9746\n",
      "Epoch 38/100\n",
      "2128413/2128413 [==============================] - 62s 29us/step - loss: 0.0858 - binary_accuracy: 0.9742 - val_loss: 0.0852 - val_binary_accuracy: 0.9743\n",
      "Epoch 39/100\n",
      "2128413/2128413 [==============================] - 66s 31us/step - loss: 0.0856 - binary_accuracy: 0.9743 - val_loss: 0.0857 - val_binary_accuracy: 0.9741\n",
      "Epoch 40/100\n",
      "2128413/2128413 [==============================] - 65s 30us/step - loss: 0.0854 - binary_accuracy: 0.9744 - val_loss: 0.0847 - val_binary_accuracy: 0.9741\n",
      "Epoch 41/100\n",
      "2128413/2128413 [==============================] - 65s 31us/step - loss: 0.0852 - binary_accuracy: 0.9745 - val_loss: 0.0847 - val_binary_accuracy: 0.9743\n",
      "Epoch 42/100\n",
      "2128413/2128413 [==============================] - 65s 31us/step - loss: 0.0850 - binary_accuracy: 0.9745 - val_loss: 0.0831 - val_binary_accuracy: 0.9752\n",
      "Epoch 43/100\n",
      "2128413/2128413 [==============================] - 68s 32us/step - loss: 0.0850 - binary_accuracy: 0.9745 - val_loss: 0.0837 - val_binary_accuracy: 0.9751\n",
      "Epoch 44/100\n",
      "2128413/2128413 [==============================] - 66s 31us/step - loss: 0.0848 - binary_accuracy: 0.9745 - val_loss: 0.0833 - val_binary_accuracy: 0.9748\n",
      "Epoch 45/100\n",
      "2128413/2128413 [==============================] - 66s 31us/step - loss: 0.0847 - binary_accuracy: 0.9746 - val_loss: 0.0835 - val_binary_accuracy: 0.9751\n",
      "Epoch 46/100\n",
      "2128413/2128413 [==============================] - 65s 31us/step - loss: 0.0846 - binary_accuracy: 0.9746 - val_loss: 0.0834 - val_binary_accuracy: 0.9751\n",
      "Epoch 47/100\n",
      "2128413/2128413 [==============================] - 63s 30us/step - loss: 0.0844 - binary_accuracy: 0.9747 - val_loss: 0.0828 - val_binary_accuracy: 0.9751\n",
      "Epoch 48/100\n",
      "2128413/2128413 [==============================] - 65s 31us/step - loss: 0.0842 - binary_accuracy: 0.9747 - val_loss: 0.0822 - val_binary_accuracy: 0.9758\n",
      "Epoch 49/100\n",
      "2128413/2128413 [==============================] - 67s 31us/step - loss: 0.0841 - binary_accuracy: 0.9748 - val_loss: 0.0823 - val_binary_accuracy: 0.9754\n",
      "Epoch 50/100\n",
      "2128413/2128413 [==============================] - 66s 31us/step - loss: 0.0839 - binary_accuracy: 0.9749 - val_loss: 0.0831 - val_binary_accuracy: 0.9752\n",
      "Epoch 51/100\n",
      "2128413/2128413 [==============================] - 66s 31us/step - loss: 0.0838 - binary_accuracy: 0.9749 - val_loss: 0.0824 - val_binary_accuracy: 0.9753\n",
      "Epoch 52/100\n",
      "2128413/2128413 [==============================] - 67s 31us/step - loss: 0.0837 - binary_accuracy: 0.9750 - val_loss: 0.0818 - val_binary_accuracy: 0.9755\n",
      "Epoch 53/100\n",
      "2128413/2128413 [==============================] - 68s 32us/step - loss: 0.0837 - binary_accuracy: 0.9749 - val_loss: 0.0834 - val_binary_accuracy: 0.9751\n",
      "Epoch 54/100\n",
      "2128413/2128413 [==============================] - 68s 32us/step - loss: 0.0834 - binary_accuracy: 0.9751 - val_loss: 0.0824 - val_binary_accuracy: 0.9752\n",
      "Epoch 55/100\n",
      "2128413/2128413 [==============================] - 69s 33us/step - loss: 0.0833 - binary_accuracy: 0.9751 - val_loss: 0.0821 - val_binary_accuracy: 0.9754\n",
      "Epoch 56/100\n",
      "2128413/2128413 [==============================] - 67s 32us/step - loss: 0.0833 - binary_accuracy: 0.9751 - val_loss: 0.0820 - val_binary_accuracy: 0.9756\n",
      "Epoch 57/100\n",
      "2128413/2128413 [==============================] - 69s 32us/step - loss: 0.0832 - binary_accuracy: 0.9751 - val_loss: 0.0821 - val_binary_accuracy: 0.9754\n",
      "Epoch 58/100\n",
      "2128413/2128413 [==============================] - 70s 33us/step - loss: 0.0830 - binary_accuracy: 0.9752 - val_loss: 0.0822 - val_binary_accuracy: 0.9756\n",
      "Epoch 59/100\n",
      "2128413/2128413 [==============================] - 66s 31us/step - loss: 0.0829 - binary_accuracy: 0.9752 - val_loss: 0.0809 - val_binary_accuracy: 0.9757\n",
      "Epoch 60/100\n",
      "2128413/2128413 [==============================] - 60s 28us/step - loss: 0.0829 - binary_accuracy: 0.9752 - val_loss: 0.0829 - val_binary_accuracy: 0.9751\n",
      "Epoch 61/100\n",
      "2128413/2128413 [==============================] - 61s 28us/step - loss: 0.0828 - binary_accuracy: 0.9753 - val_loss: 0.0816 - val_binary_accuracy: 0.9756\n",
      "Epoch 62/100\n",
      "2128413/2128413 [==============================] - 61s 29us/step - loss: 0.0827 - binary_accuracy: 0.9753 - val_loss: 0.0809 - val_binary_accuracy: 0.9758\n",
      "Epoch 63/100\n",
      "2128413/2128413 [==============================] - 62s 29us/step - loss: 0.0826 - binary_accuracy: 0.9753 - val_loss: 0.0820 - val_binary_accuracy: 0.9758\n",
      "Epoch 64/100\n",
      "2128413/2128413 [==============================] - 61s 29us/step - loss: 0.0825 - binary_accuracy: 0.9754 - val_loss: 0.0817 - val_binary_accuracy: 0.9755\n",
      "Epoch 65/100\n",
      "2128413/2128413 [==============================] - 64s 30us/step - loss: 0.0824 - binary_accuracy: 0.9754 - val_loss: 0.0821 - val_binary_accuracy: 0.9758\n",
      "Epoch 66/100\n",
      "2128413/2128413 [==============================] - 65s 31us/step - loss: 0.0823 - binary_accuracy: 0.9754 - val_loss: 0.0814 - val_binary_accuracy: 0.9758\n",
      "Epoch 67/100\n",
      "2128413/2128413 [==============================] - 65s 30us/step - loss: 0.0822 - binary_accuracy: 0.9754 - val_loss: 0.0812 - val_binary_accuracy: 0.9760\n",
      "Epoch 68/100\n",
      "2128413/2128413 [==============================] - 66s 31us/step - loss: 0.0822 - binary_accuracy: 0.9754 - val_loss: 0.0805 - val_binary_accuracy: 0.9762\n",
      "Epoch 69/100\n",
      "2128413/2128413 [==============================] - 67s 31us/step - loss: 0.0821 - binary_accuracy: 0.9755 - val_loss: 0.0821 - val_binary_accuracy: 0.9753\n",
      "Epoch 70/100\n",
      "2128413/2128413 [==============================] - 68s 32us/step - loss: 0.0820 - binary_accuracy: 0.9755 - val_loss: 0.0805 - val_binary_accuracy: 0.9764\n",
      "Epoch 71/100\n",
      "2128413/2128413 [==============================] - 66s 31us/step - loss: 0.0818 - binary_accuracy: 0.9755 - val_loss: 0.0806 - val_binary_accuracy: 0.9757\n",
      "Epoch 72/100\n",
      "2128413/2128413 [==============================] - 69s 32us/step - loss: 0.0817 - binary_accuracy: 0.9756 - val_loss: 0.0805 - val_binary_accuracy: 0.9762\n",
      "Epoch 73/100\n",
      "2128413/2128413 [==============================] - 68s 32us/step - loss: 0.0817 - binary_accuracy: 0.9755 - val_loss: 0.0807 - val_binary_accuracy: 0.9762\n",
      "Epoch 74/100\n",
      "2128413/2128413 [==============================] - 68s 32us/step - loss: 0.0816 - binary_accuracy: 0.9756 - val_loss: 0.0805 - val_binary_accuracy: 0.9761\n",
      "Epoch 75/100\n",
      "2128413/2128413 [==============================] - 68s 32us/step - loss: 0.0815 - binary_accuracy: 0.9756 - val_loss: 0.0803 - val_binary_accuracy: 0.9764\n",
      "Epoch 76/100\n",
      "2128413/2128413 [==============================] - 68s 32us/step - loss: 0.0815 - binary_accuracy: 0.9757 - val_loss: 0.0804 - val_binary_accuracy: 0.9760\n",
      "Epoch 77/100\n",
      "2128413/2128413 [==============================] - 68s 32us/step - loss: 0.0813 - binary_accuracy: 0.9758 - val_loss: 0.0810 - val_binary_accuracy: 0.9759\n",
      "Epoch 78/100\n",
      "2128413/2128413 [==============================] - 68s 32us/step - loss: 0.0813 - binary_accuracy: 0.9757 - val_loss: 0.0808 - val_binary_accuracy: 0.9760\n",
      "Epoch 79/100\n",
      "2128413/2128413 [==============================] - 68s 32us/step - loss: 0.0812 - binary_accuracy: 0.9757 - val_loss: 0.0800 - val_binary_accuracy: 0.9761\n",
      "Epoch 80/100\n",
      "2128413/2128413 [==============================] - 67s 32us/step - loss: 0.0811 - binary_accuracy: 0.9758 - val_loss: 0.0817 - val_binary_accuracy: 0.9755\n",
      "Epoch 81/100\n",
      "2128413/2128413 [==============================] - 67s 32us/step - loss: 0.0810 - binary_accuracy: 0.9758 - val_loss: 0.0813 - val_binary_accuracy: 0.9758\n",
      "Epoch 82/100\n",
      "2128413/2128413 [==============================] - 67s 32us/step - loss: 0.0810 - binary_accuracy: 0.9758 - val_loss: 0.0798 - val_binary_accuracy: 0.9763\n",
      "Epoch 83/100\n",
      "2128413/2128413 [==============================] - 66s 31us/step - loss: 0.0809 - binary_accuracy: 0.9758 - val_loss: 0.0808 - val_binary_accuracy: 0.9754\n",
      "Epoch 84/100\n",
      "2128413/2128413 [==============================] - 67s 31us/step - loss: 0.0809 - binary_accuracy: 0.9759 - val_loss: 0.0811 - val_binary_accuracy: 0.9758\n",
      "Epoch 85/100\n",
      "2128413/2128413 [==============================] - 65s 31us/step - loss: 0.0807 - binary_accuracy: 0.9759 - val_loss: 0.0811 - val_binary_accuracy: 0.9760\n",
      "Epoch 86/100\n",
      "2128413/2128413 [==============================] - 67s 31us/step - loss: 0.0807 - binary_accuracy: 0.9760 - val_loss: 0.0796 - val_binary_accuracy: 0.9762\n",
      "Epoch 87/100\n",
      "2128413/2128413 [==============================] - 67s 31us/step - loss: 0.0807 - binary_accuracy: 0.9759 - val_loss: 0.0791 - val_binary_accuracy: 0.9768\n",
      "Epoch 88/100\n",
      "2128413/2128413 [==============================] - 67s 32us/step - loss: 0.0805 - binary_accuracy: 0.9760 - val_loss: 0.0808 - val_binary_accuracy: 0.9759\n",
      "Epoch 89/100\n",
      "2128413/2128413 [==============================] - 66s 31us/step - loss: 0.0805 - binary_accuracy: 0.9760 - val_loss: 0.0800 - val_binary_accuracy: 0.9765\n",
      "Epoch 90/100\n",
      "2128413/2128413 [==============================] - 66s 31us/step - loss: 0.0804 - binary_accuracy: 0.9761 - val_loss: 0.0800 - val_binary_accuracy: 0.9761\n",
      "Epoch 91/100\n",
      "2128413/2128413 [==============================] - 67s 31us/step - loss: 0.0803 - binary_accuracy: 0.9761 - val_loss: 0.0796 - val_binary_accuracy: 0.9764\n",
      "Epoch 92/100\n",
      "2128413/2128413 [==============================] - 65s 30us/step - loss: 0.0802 - binary_accuracy: 0.9761 - val_loss: 0.0794 - val_binary_accuracy: 0.9767\n",
      "Epoch 93/100\n",
      "2128413/2128413 [==============================] - 67s 32us/step - loss: 0.0802 - binary_accuracy: 0.9762 - val_loss: 0.0790 - val_binary_accuracy: 0.9769\n",
      "Epoch 94/100\n",
      "2128413/2128413 [==============================] - 68s 32us/step - loss: 0.0801 - binary_accuracy: 0.9761 - val_loss: 0.0808 - val_binary_accuracy: 0.9759\n",
      "Epoch 95/100\n",
      "2128413/2128413 [==============================] - 69s 32us/step - loss: 0.0800 - binary_accuracy: 0.9762 - val_loss: 0.0789 - val_binary_accuracy: 0.9767\n",
      "Epoch 96/100\n",
      "2128413/2128413 [==============================] - 68s 32us/step - loss: 0.0800 - binary_accuracy: 0.9762 - val_loss: 0.0797 - val_binary_accuracy: 0.9765\n",
      "Epoch 97/100\n",
      "2128413/2128413 [==============================] - 67s 32us/step - loss: 0.0800 - binary_accuracy: 0.9762 - val_loss: 0.0792 - val_binary_accuracy: 0.9765\n"
     ]
    },
    {
     "name": "stdout",
     "output_type": "stream",
     "text": [
      "Epoch 98/100\n",
      "2128413/2128413 [==============================] - 70s 33us/step - loss: 0.0799 - binary_accuracy: 0.9763 - val_loss: 0.0787 - val_binary_accuracy: 0.9767\n",
      "Epoch 99/100\n",
      "2128413/2128413 [==============================] - 70s 33us/step - loss: 0.0799 - binary_accuracy: 0.9762 - val_loss: 0.0788 - val_binary_accuracy: 0.9769\n",
      "Epoch 100/100\n",
      "2128413/2128413 [==============================] - 71s 33us/step - loss: 0.0797 - binary_accuracy: 0.9763 - val_loss: 0.0796 - val_binary_accuracy: 0.9765\n",
      "CPU times: user 6h 41min 43s, sys: 1h 32min 5s, total: 8h 13min 49s\n",
      "Wall time: 1h 49min 8s\n"
     ]
    }
   ],
   "source": [
    "%%time\n",
    "\n",
    "print ('Fitting model...')\n",
    "history = model1.fit(X_final,Y_final,batch_size=250, epochs=100, validation_split = 0.10, verbose = 1)"
   ]
  },
  {
   "cell_type": "code",
   "execution_count": 216,
   "metadata": {},
   "outputs": [
    {
     "name": "stdout",
     "output_type": "stream",
     "text": [
      "2377365/2377365 [==============================] - 163s 69us/step\n"
     ]
    }
   ],
   "source": [
    "loss, accuracy = model1.evaluate(X_test, Y_test)"
   ]
  },
  {
   "cell_type": "markdown",
   "metadata": {},
   "source": [
    "# Accuracy"
   ]
  },
  {
   "cell_type": "code",
   "execution_count": 217,
   "metadata": {},
   "outputs": [
    {
     "data": {
      "text/plain": [
       "(0.08330490854047193, 0.9755018686655184)"
      ]
     },
     "execution_count": 217,
     "metadata": {},
     "output_type": "execute_result"
    }
   ],
   "source": [
    "loss, accuracy"
   ]
  },
  {
   "cell_type": "code",
   "execution_count": 196,
   "metadata": {},
   "outputs": [],
   "source": [
    "# when taking 10 timesteps, and keeping separate test and training JobIDs\n",
    "# loss, accuracy is: \n",
    "# on X_test, Y_test"
   ]
  },
  {
   "cell_type": "code",
   "execution_count": 218,
   "metadata": {},
   "outputs": [],
   "source": [
    "y_pred = model1.predict(X_test)"
   ]
  },
  {
   "cell_type": "code",
   "execution_count": 219,
   "metadata": {},
   "outputs": [],
   "source": [
    "model1.save('large_model1_tsteps1_features65_partII.pickle')"
   ]
  },
  {
   "cell_type": "code",
   "execution_count": 220,
   "metadata": {
    "scrolled": true
   },
   "outputs": [
    {
     "data": {
      "text/plain": [
       "array([[1.],\n",
       "       [1.],\n",
       "       [1.],\n",
       "       [1.],\n",
       "       [1.],\n",
       "       [1.],\n",
       "       [1.],\n",
       "       [1.],\n",
       "       [1.],\n",
       "       [1.]], dtype=float32)"
      ]
     },
     "execution_count": 220,
     "metadata": {},
     "output_type": "execute_result"
    }
   ],
   "source": [
    "y_pred[15000:15010]"
   ]
  },
  {
   "cell_type": "markdown",
   "metadata": {},
   "source": [
    "# Binary classification accuracy"
   ]
  },
  {
   "cell_type": "code",
   "execution_count": 221,
   "metadata": {},
   "outputs": [],
   "source": [
    "y_true = pd.Series([x[0] for x in Y_test])\n",
    "\n",
    "# Use np.rint for rounding off \n",
    "y_predicted = pd.Series([ np.rint(j[0]) for j in y_pred])"
   ]
  },
  {
   "cell_type": "code",
   "execution_count": 222,
   "metadata": {},
   "outputs": [
    {
     "data": {
      "text/plain": [
       "0.9755018686655184"
      ]
     },
     "execution_count": 222,
     "metadata": {},
     "output_type": "execute_result"
    }
   ],
   "source": [
    "np.mean(np.equal(y_true, y_predicted))"
   ]
  },
  {
   "cell_type": "markdown",
   "metadata": {},
   "source": [
    "# Confusion matrix"
   ]
  },
  {
   "cell_type": "code",
   "execution_count": 223,
   "metadata": {
    "scrolled": true
   },
   "outputs": [
    {
     "data": {
      "text/html": [
       "<div>\n",
       "<style scoped>\n",
       "    .dataframe tbody tr th:only-of-type {\n",
       "        vertical-align: middle;\n",
       "    }\n",
       "\n",
       "    .dataframe tbody tr th {\n",
       "        vertical-align: top;\n",
       "    }\n",
       "\n",
       "    .dataframe thead th {\n",
       "        text-align: right;\n",
       "    }\n",
       "</style>\n",
       "<table border=\"1\" class=\"dataframe\">\n",
       "  <thead>\n",
       "    <tr style=\"text-align: right;\">\n",
       "      <th>Predicted</th>\n",
       "      <th>0.0</th>\n",
       "      <th>1.0</th>\n",
       "      <th>All</th>\n",
       "    </tr>\n",
       "    <tr>\n",
       "      <th>True</th>\n",
       "      <th></th>\n",
       "      <th></th>\n",
       "      <th></th>\n",
       "    </tr>\n",
       "  </thead>\n",
       "  <tbody>\n",
       "    <tr>\n",
       "      <th>0</th>\n",
       "      <td>1633711</td>\n",
       "      <td>10815</td>\n",
       "      <td>1644526</td>\n",
       "    </tr>\n",
       "    <tr>\n",
       "      <th>1</th>\n",
       "      <td>47426</td>\n",
       "      <td>685413</td>\n",
       "      <td>732839</td>\n",
       "    </tr>\n",
       "    <tr>\n",
       "      <th>All</th>\n",
       "      <td>1681137</td>\n",
       "      <td>696228</td>\n",
       "      <td>2377365</td>\n",
       "    </tr>\n",
       "  </tbody>\n",
       "</table>\n",
       "</div>"
      ],
      "text/plain": [
       "Predicted      0.0     1.0      All\n",
       "True                               \n",
       "0          1633711   10815  1644526\n",
       "1            47426  685413   732839\n",
       "All        1681137  696228  2377365"
      ]
     },
     "execution_count": 223,
     "metadata": {},
     "output_type": "execute_result"
    }
   ],
   "source": [
    "pd.crosstab(y_true, y_predicted, rownames=['True'], colnames=['Predicted'], margins=True)"
   ]
  },
  {
   "cell_type": "code",
   "execution_count": 202,
   "metadata": {},
   "outputs": [
    {
     "data": {
      "text/html": [
       "<div>\n",
       "<style scoped>\n",
       "    .dataframe tbody tr th:only-of-type {\n",
       "        vertical-align: middle;\n",
       "    }\n",
       "\n",
       "    .dataframe tbody tr th {\n",
       "        vertical-align: top;\n",
       "    }\n",
       "\n",
       "    .dataframe thead th {\n",
       "        text-align: right;\n",
       "    }\n",
       "</style>\n",
       "<table border=\"1\" class=\"dataframe\">\n",
       "  <thead>\n",
       "    <tr style=\"text-align: right;\">\n",
       "      <th>Predicted</th>\n",
       "      <th>0.0</th>\n",
       "      <th>1.0</th>\n",
       "      <th>All</th>\n",
       "    </tr>\n",
       "    <tr>\n",
       "      <th>True</th>\n",
       "      <th></th>\n",
       "      <th></th>\n",
       "      <th></th>\n",
       "    </tr>\n",
       "  </thead>\n",
       "  <tbody>\n",
       "    <tr>\n",
       "      <th>0</th>\n",
       "      <td>1628955</td>\n",
       "      <td>9155</td>\n",
       "      <td>1638110</td>\n",
       "    </tr>\n",
       "    <tr>\n",
       "      <th>1</th>\n",
       "      <td>48481</td>\n",
       "      <td>681754</td>\n",
       "      <td>730235</td>\n",
       "    </tr>\n",
       "    <tr>\n",
       "      <th>All</th>\n",
       "      <td>1677436</td>\n",
       "      <td>690909</td>\n",
       "      <td>2368345</td>\n",
       "    </tr>\n",
       "  </tbody>\n",
       "</table>\n",
       "</div>"
      ],
      "text/plain": [
       "Predicted      0.0     1.0      All\n",
       "True                               \n",
       "0          1628955    9155  1638110\n",
       "1            48481  681754   730235\n",
       "All        1677436  690909  2368345"
      ]
     },
     "execution_count": 202,
     "metadata": {},
     "output_type": "execute_result"
    }
   ],
   "source": [
    "pd.crosstab(y_true, y_predicted, rownames=['True'], colnames=['Predicted'], margins=True)"
   ]
  },
  {
   "cell_type": "code",
   "execution_count": 222,
   "metadata": {},
   "outputs": [
    {
     "data": {
      "text/plain": [
       "2.433598145540451"
      ]
     },
     "execution_count": 222,
     "metadata": {},
     "output_type": "execute_result"
    }
   ],
   "source": [
    "# Worst case error bound on JobID specific 'Status' prediction error:\n",
    "\n",
    "100*(9155+48481)/2368345"
   ]
  },
  {
   "cell_type": "code",
   "execution_count": 224,
   "metadata": {},
   "outputs": [
    {
     "data": {
      "text/plain": [
       "(342394, 342405)"
      ]
     },
     "execution_count": 224,
     "metadata": {},
     "output_type": "execute_result"
    }
   ],
   "source": [
    "len(takeoutdf.JobID.unique().tolist()), len(cleaned.JobID.unique().tolist())"
   ]
  },
  {
   "cell_type": "code",
   "execution_count": 225,
   "metadata": {},
   "outputs": [
    {
     "data": {
      "text/plain": [
       "118282"
      ]
     },
     "execution_count": 225,
     "metadata": {},
     "output_type": "execute_result"
    }
   ],
   "source": [
    "sum(takeoutdf[\"JobID\"].value_counts()==1)"
   ]
  },
  {
   "cell_type": "code",
   "execution_count": 226,
   "metadata": {},
   "outputs": [
    {
     "data": {
      "text/plain": [
       "47426"
      ]
     },
     "execution_count": 226,
     "metadata": {},
     "output_type": "execute_result"
    }
   ],
   "source": [
    "len(X_test[(y_true==1) & (y_predicted==0)])"
   ]
  },
  {
   "cell_type": "code",
   "execution_count": 227,
   "metadata": {},
   "outputs": [
    {
     "data": {
      "text/plain": [
       "[]"
      ]
     },
     "execution_count": 227,
     "metadata": {},
     "output_type": "execute_result"
    }
   ],
   "source": [
    "# Verify that there is no intersection between training and test jobs\n",
    "\n",
    "list(set(takeoutdf.JobID.tolist()) & set(cleaned.JobID.tolist()))"
   ]
  },
  {
   "cell_type": "code",
   "execution_count": 228,
   "metadata": {},
   "outputs": [
    {
     "data": {
      "text/plain": [
       "(696228.0, 2377365)"
      ]
     },
     "execution_count": 228,
     "metadata": {},
     "output_type": "execute_result"
    }
   ],
   "source": [
    "# Predicting all 0s ??\n",
    "sum([ (j) for j in y_predicted]), len(y_predicted)"
   ]
  },
  {
   "cell_type": "code",
   "execution_count": 229,
   "metadata": {},
   "outputs": [],
   "source": [
    "#### Model 2 Start"
   ]
  },
  {
   "cell_type": "markdown",
   "metadata": {},
   "source": [
    "# Model 2"
   ]
  },
  {
   "cell_type": "code",
   "execution_count": 230,
   "metadata": {},
   "outputs": [
    {
     "name": "stdout",
     "output_type": "stream",
     "text": [
      "Creating model 2...\n",
      "Compiling...\n"
     ]
    }
   ],
   "source": [
    "model2 = create_model2()"
   ]
  },
  {
   "cell_type": "code",
   "execution_count": 231,
   "metadata": {},
   "outputs": [
    {
     "name": "stdout",
     "output_type": "stream",
     "text": [
      "Fitting model...\n",
      "Train on 2128413 samples, validate on 236491 samples\n",
      "Epoch 1/100\n",
      "2128413/2128413 [==============================] - 130s 61us/step - loss: 0.1715 - binary_accuracy: 0.9410 - val_loss: 0.1394 - val_binary_accuracy: 0.9560\n",
      "Epoch 2/100\n",
      "2128413/2128413 [==============================] - 164s 77us/step - loss: 0.1321 - binary_accuracy: 0.9584 - val_loss: 0.1167 - val_binary_accuracy: 0.9639\n",
      "Epoch 3/100\n",
      "2128413/2128413 [==============================] - 164s 77us/step - loss: 0.1158 - binary_accuracy: 0.9637 - val_loss: 0.1147 - val_binary_accuracy: 0.9641\n",
      "Epoch 4/100\n",
      "2128413/2128413 [==============================] - 165s 78us/step - loss: 0.1111 - binary_accuracy: 0.9655 - val_loss: 0.1146 - val_binary_accuracy: 0.9646\n",
      "Epoch 5/100\n",
      "2128413/2128413 [==============================] - 164s 77us/step - loss: 0.1087 - binary_accuracy: 0.9661 - val_loss: 0.1067 - val_binary_accuracy: 0.9668\n",
      "Epoch 6/100\n",
      "2128413/2128413 [==============================] - 161s 76us/step - loss: 0.1062 - binary_accuracy: 0.9669 - val_loss: 0.1027 - val_binary_accuracy: 0.9680\n",
      "Epoch 7/100\n",
      "2128413/2128413 [==============================] - 166s 78us/step - loss: 0.1042 - binary_accuracy: 0.9677 - val_loss: 0.1005 - val_binary_accuracy: 0.9697\n",
      "Epoch 8/100\n",
      "2128413/2128413 [==============================] - 167s 78us/step - loss: 0.1016 - binary_accuracy: 0.9685 - val_loss: 0.0983 - val_binary_accuracy: 0.9701\n",
      "Epoch 9/100\n",
      "2128413/2128413 [==============================] - 168s 79us/step - loss: 0.0985 - binary_accuracy: 0.9697 - val_loss: 0.0963 - val_binary_accuracy: 0.9717\n",
      "Epoch 10/100\n",
      "2128413/2128413 [==============================] - 164s 77us/step - loss: 0.0950 - binary_accuracy: 0.9709 - val_loss: 0.0921 - val_binary_accuracy: 0.9717\n",
      "Epoch 11/100\n",
      "2128413/2128413 [==============================] - 166s 78us/step - loss: 0.0934 - binary_accuracy: 0.9715 - val_loss: 0.0907 - val_binary_accuracy: 0.9722\n",
      "Epoch 12/100\n",
      "2128413/2128413 [==============================] - 166s 78us/step - loss: 0.0920 - binary_accuracy: 0.9720 - val_loss: 0.0903 - val_binary_accuracy: 0.9728\n",
      "Epoch 13/100\n",
      "2128413/2128413 [==============================] - 165s 77us/step - loss: 0.0911 - binary_accuracy: 0.9722 - val_loss: 0.0877 - val_binary_accuracy: 0.9739\n",
      "Epoch 14/100\n",
      "2128413/2128413 [==============================] - 164s 77us/step - loss: 0.0899 - binary_accuracy: 0.9727 - val_loss: 0.0924 - val_binary_accuracy: 0.9710\n",
      "Epoch 15/100\n",
      "2128413/2128413 [==============================] - 165s 78us/step - loss: 0.0890 - binary_accuracy: 0.9730 - val_loss: 0.0878 - val_binary_accuracy: 0.9734\n",
      "Epoch 16/100\n",
      "2128413/2128413 [==============================] - 165s 77us/step - loss: 0.0882 - binary_accuracy: 0.9733 - val_loss: 0.0856 - val_binary_accuracy: 0.9741\n",
      "Epoch 17/100\n",
      "2128413/2128413 [==============================] - 164s 77us/step - loss: 0.0872 - binary_accuracy: 0.9736 - val_loss: 0.0860 - val_binary_accuracy: 0.9737\n",
      "Epoch 18/100\n",
      "2128413/2128413 [==============================] - 168s 79us/step - loss: 0.0864 - binary_accuracy: 0.9739 - val_loss: 0.0835 - val_binary_accuracy: 0.9752\n",
      "Epoch 19/100\n",
      "2128413/2128413 [==============================] - 167s 78us/step - loss: 0.0860 - binary_accuracy: 0.9741 - val_loss: 0.0834 - val_binary_accuracy: 0.9752\n",
      "Epoch 20/100\n",
      "2128413/2128413 [==============================] - 165s 78us/step - loss: 0.0856 - binary_accuracy: 0.9743 - val_loss: 0.0850 - val_binary_accuracy: 0.9744\n",
      "Epoch 21/100\n",
      "2128413/2128413 [==============================] - 164s 77us/step - loss: 0.0850 - binary_accuracy: 0.9746 - val_loss: 0.0848 - val_binary_accuracy: 0.9743\n",
      "Epoch 22/100\n",
      "2128413/2128413 [==============================] - 164s 77us/step - loss: 0.0845 - binary_accuracy: 0.9747 - val_loss: 0.0829 - val_binary_accuracy: 0.9753\n",
      "Epoch 23/100\n",
      "2128413/2128413 [==============================] - 164s 77us/step - loss: 0.0838 - binary_accuracy: 0.9750 - val_loss: 0.0847 - val_binary_accuracy: 0.9741\n",
      "Epoch 24/100\n",
      "2128413/2128413 [==============================] - 165s 77us/step - loss: 0.0834 - binary_accuracy: 0.9752 - val_loss: 0.0846 - val_binary_accuracy: 0.9749\n",
      "Epoch 25/100\n",
      "2128413/2128413 [==============================] - 164s 77us/step - loss: 0.0830 - binary_accuracy: 0.9753 - val_loss: 0.0804 - val_binary_accuracy: 0.9765\n",
      "Epoch 26/100\n",
      "2128413/2128413 [==============================] - 167s 78us/step - loss: 0.0826 - binary_accuracy: 0.9754 - val_loss: 0.0824 - val_binary_accuracy: 0.9758\n",
      "Epoch 27/100\n",
      "2128413/2128413 [==============================] - 164s 77us/step - loss: 0.0824 - binary_accuracy: 0.9756 - val_loss: 0.0810 - val_binary_accuracy: 0.9758\n",
      "Epoch 28/100\n",
      "2128413/2128413 [==============================] - 164s 77us/step - loss: 0.0820 - binary_accuracy: 0.9756 - val_loss: 0.0800 - val_binary_accuracy: 0.9762\n",
      "Epoch 29/100\n",
      "2128413/2128413 [==============================] - 166s 78us/step - loss: 0.0815 - binary_accuracy: 0.9758 - val_loss: 0.0798 - val_binary_accuracy: 0.9764\n",
      "Epoch 30/100\n",
      "2128413/2128413 [==============================] - 166s 78us/step - loss: 0.0813 - binary_accuracy: 0.9759 - val_loss: 0.0796 - val_binary_accuracy: 0.9768\n",
      "Epoch 31/100\n",
      "2128413/2128413 [==============================] - 166s 78us/step - loss: 0.0810 - binary_accuracy: 0.9760 - val_loss: 0.0826 - val_binary_accuracy: 0.9750\n",
      "Epoch 32/100\n",
      "2128413/2128413 [==============================] - 164s 77us/step - loss: 0.0807 - binary_accuracy: 0.9761 - val_loss: 0.0789 - val_binary_accuracy: 0.9764\n",
      "Epoch 33/100\n",
      "2128413/2128413 [==============================] - 166s 78us/step - loss: 0.0805 - binary_accuracy: 0.9762 - val_loss: 0.0821 - val_binary_accuracy: 0.9755\n",
      "Epoch 34/100\n",
      "2128413/2128413 [==============================] - 164s 77us/step - loss: 0.0801 - binary_accuracy: 0.9763 - val_loss: 0.0809 - val_binary_accuracy: 0.9756\n",
      "Epoch 35/100\n",
      "2128413/2128413 [==============================] - 165s 78us/step - loss: 0.0798 - binary_accuracy: 0.9763 - val_loss: 0.0792 - val_binary_accuracy: 0.9764\n",
      "Epoch 36/100\n",
      "2128413/2128413 [==============================] - 165s 77us/step - loss: 0.0795 - binary_accuracy: 0.9765 - val_loss: 0.0785 - val_binary_accuracy: 0.9771\n",
      "Epoch 37/100\n",
      "2128413/2128413 [==============================] - 165s 78us/step - loss: 0.0795 - binary_accuracy: 0.9765 - val_loss: 0.0798 - val_binary_accuracy: 0.9763\n",
      "Epoch 38/100\n",
      "2128413/2128413 [==============================] - 167s 79us/step - loss: 0.0791 - binary_accuracy: 0.9766 - val_loss: 0.0779 - val_binary_accuracy: 0.9772\n",
      "Epoch 39/100\n",
      "2128413/2128413 [==============================] - 163s 77us/step - loss: 0.0787 - binary_accuracy: 0.9767 - val_loss: 0.0829 - val_binary_accuracy: 0.9754\n",
      "Epoch 40/100\n",
      "2128413/2128413 [==============================] - 166s 78us/step - loss: 0.0786 - binary_accuracy: 0.9768 - val_loss: 0.0833 - val_binary_accuracy: 0.9753\n",
      "Epoch 41/100\n",
      "2128413/2128413 [==============================] - 166s 78us/step - loss: 0.0783 - binary_accuracy: 0.9768 - val_loss: 0.0773 - val_binary_accuracy: 0.9771\n",
      "Epoch 42/100\n",
      "2128413/2128413 [==============================] - 168s 79us/step - loss: 0.0781 - binary_accuracy: 0.9769 - val_loss: 0.0760 - val_binary_accuracy: 0.9778\n",
      "Epoch 43/100\n",
      "2128413/2128413 [==============================] - 166s 78us/step - loss: 0.0780 - binary_accuracy: 0.9770 - val_loss: 0.0756 - val_binary_accuracy: 0.9779\n",
      "Epoch 44/100\n",
      "2128413/2128413 [==============================] - 169s 79us/step - loss: 0.0778 - binary_accuracy: 0.9770 - val_loss: 0.0762 - val_binary_accuracy: 0.9777\n",
      "Epoch 45/100\n",
      "2128413/2128413 [==============================] - 168s 79us/step - loss: 0.0776 - binary_accuracy: 0.9771 - val_loss: 0.0756 - val_binary_accuracy: 0.9778\n",
      "Epoch 46/100\n",
      "2128413/2128413 [==============================] - 164s 77us/step - loss: 0.0774 - binary_accuracy: 0.9771 - val_loss: 0.0775 - val_binary_accuracy: 0.9770\n",
      "Epoch 47/100\n",
      "2128413/2128413 [==============================] - 166s 78us/step - loss: 0.0772 - binary_accuracy: 0.9772 - val_loss: 0.0787 - val_binary_accuracy: 0.9767\n",
      "Epoch 48/100\n",
      "2128413/2128413 [==============================] - 166s 78us/step - loss: 0.0770 - binary_accuracy: 0.9773 - val_loss: 0.0754 - val_binary_accuracy: 0.9781\n",
      "Epoch 49/100\n",
      "2128413/2128413 [==============================] - 165s 78us/step - loss: 0.0768 - binary_accuracy: 0.9773 - val_loss: 0.0755 - val_binary_accuracy: 0.9778\n",
      "Epoch 50/100\n",
      "2128413/2128413 [==============================] - 165s 77us/step - loss: 0.0767 - binary_accuracy: 0.9773 - val_loss: 0.0764 - val_binary_accuracy: 0.9778\n",
      "Epoch 51/100\n",
      "2128413/2128413 [==============================] - 166s 78us/step - loss: 0.0765 - binary_accuracy: 0.9774 - val_loss: 0.0763 - val_binary_accuracy: 0.9776\n",
      "Epoch 52/100\n",
      "2128413/2128413 [==============================] - 165s 78us/step - loss: 0.0764 - binary_accuracy: 0.9775 - val_loss: 0.0800 - val_binary_accuracy: 0.9763\n",
      "Epoch 53/100\n",
      "2128413/2128413 [==============================] - 165s 78us/step - loss: 0.0763 - binary_accuracy: 0.9775 - val_loss: 0.0746 - val_binary_accuracy: 0.9782\n",
      "Epoch 54/100\n",
      "2128413/2128413 [==============================] - 166s 78us/step - loss: 0.0760 - binary_accuracy: 0.9776 - val_loss: 0.0774 - val_binary_accuracy: 0.9767\n",
      "Epoch 55/100\n",
      "2128413/2128413 [==============================] - 165s 78us/step - loss: 0.0759 - binary_accuracy: 0.9776 - val_loss: 0.0768 - val_binary_accuracy: 0.9769\n",
      "Epoch 56/100\n",
      "2128413/2128413 [==============================] - 166s 78us/step - loss: 0.0756 - binary_accuracy: 0.9776 - val_loss: 0.0753 - val_binary_accuracy: 0.9777\n",
      "Epoch 57/100\n",
      "2128413/2128413 [==============================] - 163s 77us/step - loss: 0.0755 - binary_accuracy: 0.9778 - val_loss: 0.0765 - val_binary_accuracy: 0.9773\n",
      "Epoch 58/100\n",
      "2128413/2128413 [==============================] - 165s 77us/step - loss: 0.0754 - binary_accuracy: 0.9778 - val_loss: 0.0752 - val_binary_accuracy: 0.9779\n",
      "Epoch 59/100\n",
      "2128413/2128413 [==============================] - 166s 78us/step - loss: 0.0754 - binary_accuracy: 0.9777 - val_loss: 0.0739 - val_binary_accuracy: 0.9784\n",
      "Epoch 60/100\n",
      "2128413/2128413 [==============================] - 163s 77us/step - loss: 0.0752 - binary_accuracy: 0.9778 - val_loss: 0.0745 - val_binary_accuracy: 0.9784\n",
      "Epoch 61/100\n",
      "2128413/2128413 [==============================] - 165s 78us/step - loss: 0.0750 - binary_accuracy: 0.9779 - val_loss: 0.0758 - val_binary_accuracy: 0.9779\n",
      "Epoch 62/100\n",
      "2128413/2128413 [==============================] - 167s 79us/step - loss: 0.0748 - binary_accuracy: 0.9779 - val_loss: 0.0749 - val_binary_accuracy: 0.9780\n",
      "Epoch 63/100\n",
      "2128413/2128413 [==============================] - 167s 78us/step - loss: 0.0747 - binary_accuracy: 0.9780 - val_loss: 0.0755 - val_binary_accuracy: 0.9777\n",
      "Epoch 64/100\n",
      "2128413/2128413 [==============================] - 165s 77us/step - loss: 0.0746 - binary_accuracy: 0.9780 - val_loss: 0.0740 - val_binary_accuracy: 0.9784\n",
      "Epoch 65/100\n",
      "2128413/2128413 [==============================] - 166s 78us/step - loss: 0.0744 - binary_accuracy: 0.9781 - val_loss: 0.0749 - val_binary_accuracy: 0.9779\n",
      "Epoch 66/100\n",
      "2128413/2128413 [==============================] - 167s 79us/step - loss: 0.0742 - binary_accuracy: 0.9782 - val_loss: 0.0745 - val_binary_accuracy: 0.9781\n",
      "Epoch 67/100\n",
      "2128413/2128413 [==============================] - 166s 78us/step - loss: 0.0741 - binary_accuracy: 0.9782 - val_loss: 0.0752 - val_binary_accuracy: 0.9776\n",
      "Epoch 68/100\n",
      "2128413/2128413 [==============================] - 165s 78us/step - loss: 0.0740 - binary_accuracy: 0.9782 - val_loss: 0.0735 - val_binary_accuracy: 0.9786\n",
      "Epoch 69/100\n",
      "2128413/2128413 [==============================] - 166s 78us/step - loss: 0.0739 - binary_accuracy: 0.9783 - val_loss: 0.0739 - val_binary_accuracy: 0.9782\n",
      "Epoch 70/100\n",
      "2128413/2128413 [==============================] - 164s 77us/step - loss: 0.0739 - binary_accuracy: 0.9783 - val_loss: 0.0736 - val_binary_accuracy: 0.9784\n",
      "Epoch 71/100\n",
      "2128413/2128413 [==============================] - 166s 78us/step - loss: 0.0737 - binary_accuracy: 0.9784 - val_loss: 0.0745 - val_binary_accuracy: 0.9779\n",
      "Epoch 72/100\n",
      "2128413/2128413 [==============================] - 163s 77us/step - loss: 0.0736 - binary_accuracy: 0.9784 - val_loss: 0.0727 - val_binary_accuracy: 0.9786\n",
      "Epoch 73/100\n",
      "2128413/2128413 [==============================] - 166s 78us/step - loss: 0.0736 - binary_accuracy: 0.9783 - val_loss: 0.0744 - val_binary_accuracy: 0.9781\n",
      "Epoch 74/100\n",
      "2128413/2128413 [==============================] - 166s 78us/step - loss: 0.0733 - binary_accuracy: 0.9785 - val_loss: 0.0725 - val_binary_accuracy: 0.9788\n",
      "Epoch 75/100\n",
      "2128413/2128413 [==============================] - 165s 77us/step - loss: 0.0732 - binary_accuracy: 0.9785 - val_loss: 0.0729 - val_binary_accuracy: 0.9787\n",
      "Epoch 76/100\n",
      "2128413/2128413 [==============================] - 165s 77us/step - loss: 0.0733 - binary_accuracy: 0.9785 - val_loss: 0.0741 - val_binary_accuracy: 0.9783\n",
      "Epoch 77/100\n",
      "2128413/2128413 [==============================] - 164s 77us/step - loss: 0.0730 - binary_accuracy: 0.9786 - val_loss: 0.0736 - val_binary_accuracy: 0.9784\n",
      "Epoch 78/100\n",
      "2128413/2128413 [==============================] - 165s 77us/step - loss: 0.0730 - binary_accuracy: 0.9786 - val_loss: 0.0736 - val_binary_accuracy: 0.9785\n",
      "Epoch 79/100\n",
      "2128413/2128413 [==============================] - 161s 76us/step - loss: 0.0728 - binary_accuracy: 0.9786 - val_loss: 0.0720 - val_binary_accuracy: 0.9790\n",
      "Epoch 80/100\n",
      "2128413/2128413 [==============================] - 165s 78us/step - loss: 0.0728 - binary_accuracy: 0.9787 - val_loss: 0.0725 - val_binary_accuracy: 0.9788\n",
      "Epoch 81/100\n",
      "2128413/2128413 [==============================] - 162s 76us/step - loss: 0.0726 - binary_accuracy: 0.9787 - val_loss: 0.0718 - val_binary_accuracy: 0.9791\n",
      "Epoch 82/100\n",
      "2128413/2128413 [==============================] - 163s 77us/step - loss: 0.0726 - binary_accuracy: 0.9787 - val_loss: 0.0745 - val_binary_accuracy: 0.9780\n",
      "Epoch 83/100\n",
      "2128413/2128413 [==============================] - 161s 76us/step - loss: 0.0724 - binary_accuracy: 0.9788 - val_loss: 0.0731 - val_binary_accuracy: 0.9784\n",
      "Epoch 84/100\n",
      "2128413/2128413 [==============================] - 165s 78us/step - loss: 0.0725 - binary_accuracy: 0.9787 - val_loss: 0.0720 - val_binary_accuracy: 0.9790\n",
      "Epoch 85/100\n",
      "2128413/2128413 [==============================] - 165s 78us/step - loss: 0.0723 - binary_accuracy: 0.9788 - val_loss: 0.0722 - val_binary_accuracy: 0.9790\n",
      "Epoch 86/100\n",
      "2128413/2128413 [==============================] - 165s 78us/step - loss: 0.0722 - binary_accuracy: 0.9788 - val_loss: 0.0720 - val_binary_accuracy: 0.9789\n",
      "Epoch 87/100\n",
      "2128413/2128413 [==============================] - 165s 77us/step - loss: 0.0721 - binary_accuracy: 0.9789 - val_loss: 0.0719 - val_binary_accuracy: 0.9790\n",
      "Epoch 88/100\n",
      "2128413/2128413 [==============================] - 165s 78us/step - loss: 0.0720 - binary_accuracy: 0.9789 - val_loss: 0.0722 - val_binary_accuracy: 0.9787\n",
      "Epoch 89/100\n",
      "2128413/2128413 [==============================] - 167s 78us/step - loss: 0.0719 - binary_accuracy: 0.9789 - val_loss: 0.0751 - val_binary_accuracy: 0.9780\n",
      "Epoch 90/100\n",
      "2128413/2128413 [==============================] - 164s 77us/step - loss: 0.0718 - binary_accuracy: 0.9790 - val_loss: 0.0725 - val_binary_accuracy: 0.9789\n",
      "Epoch 91/100\n",
      "2128413/2128413 [==============================] - 169s 79us/step - loss: 0.0719 - binary_accuracy: 0.9789 - val_loss: 0.0718 - val_binary_accuracy: 0.9793\n",
      "Epoch 92/100\n",
      "2128413/2128413 [==============================] - 165s 78us/step - loss: 0.0718 - binary_accuracy: 0.9790 - val_loss: 0.0712 - val_binary_accuracy: 0.9792\n",
      "Epoch 93/100\n",
      "2128413/2128413 [==============================] - 166s 78us/step - loss: 0.0717 - binary_accuracy: 0.9790 - val_loss: 0.0720 - val_binary_accuracy: 0.9790\n",
      "Epoch 94/100\n",
      "2128413/2128413 [==============================] - 166s 78us/step - loss: 0.0716 - binary_accuracy: 0.9790 - val_loss: 0.0728 - val_binary_accuracy: 0.9787\n",
      "Epoch 95/100\n",
      "2128413/2128413 [==============================] - 166s 78us/step - loss: 0.0715 - binary_accuracy: 0.9791 - val_loss: 0.0715 - val_binary_accuracy: 0.9793\n",
      "Epoch 96/100\n",
      "2128413/2128413 [==============================] - 167s 79us/step - loss: 0.0714 - binary_accuracy: 0.9791 - val_loss: 0.0722 - val_binary_accuracy: 0.9791\n",
      "Epoch 97/100\n"
     ]
    },
    {
     "name": "stdout",
     "output_type": "stream",
     "text": [
      "2128413/2128413 [==============================] - 165s 78us/step - loss: 0.0714 - binary_accuracy: 0.9791 - val_loss: 0.0717 - val_binary_accuracy: 0.9791\n",
      "Epoch 98/100\n",
      "2128413/2128413 [==============================] - 167s 79us/step - loss: 0.0712 - binary_accuracy: 0.9791 - val_loss: 0.0738 - val_binary_accuracy: 0.9782\n",
      "Epoch 99/100\n",
      "2128413/2128413 [==============================] - 166s 78us/step - loss: 0.0713 - binary_accuracy: 0.9791 - val_loss: 0.0716 - val_binary_accuracy: 0.9793\n",
      "Epoch 100/100\n",
      "2128413/2128413 [==============================] - 166s 78us/step - loss: 0.0713 - binary_accuracy: 0.9791 - val_loss: 0.0725 - val_binary_accuracy: 0.9787\n",
      "CPU times: user 20h 50min 25s, sys: 3h 18min 20s, total: 1d 8min 46s\n",
      "Wall time: 4h 34min 53s\n"
     ]
    }
   ],
   "source": [
    "%%time\n",
    "\n",
    "print ('Fitting model...')\n",
    "history = model2.fit(X_final,Y_final,batch_size=250, epochs=100, validation_split = 0.10, verbose = 1)"
   ]
  },
  {
   "cell_type": "code",
   "execution_count": 232,
   "metadata": {},
   "outputs": [
    {
     "name": "stdout",
     "output_type": "stream",
     "text": [
      "2377365/2377365 [==============================] - 281s 118us/step\n"
     ]
    }
   ],
   "source": [
    "loss, accuracy = model2.evaluate(X_test, Y_test)"
   ]
  },
  {
   "cell_type": "markdown",
   "metadata": {},
   "source": [
    "# Accuracy"
   ]
  },
  {
   "cell_type": "code",
   "execution_count": 233,
   "metadata": {},
   "outputs": [
    {
     "data": {
      "text/plain": [
       "(0.07895959072743663, 0.977438887171301)"
      ]
     },
     "execution_count": 233,
     "metadata": {},
     "output_type": "execute_result"
    }
   ],
   "source": [
    "loss, accuracy"
   ]
  },
  {
   "cell_type": "code",
   "execution_count": 234,
   "metadata": {},
   "outputs": [],
   "source": [
    "# when taking 10 timesteps, and keeping separate test and training JobIDs\n",
    "# loss, accuracy is: \n",
    "# on X_test, Y_test"
   ]
  },
  {
   "cell_type": "code",
   "execution_count": 235,
   "metadata": {},
   "outputs": [],
   "source": [
    "y_pred = model2.predict(X_test)"
   ]
  },
  {
   "cell_type": "code",
   "execution_count": 236,
   "metadata": {},
   "outputs": [],
   "source": [
    "## Save"
   ]
  },
  {
   "cell_type": "code",
   "execution_count": 237,
   "metadata": {},
   "outputs": [],
   "source": [
    "model2.save('large_model2_tsteps1_features65_partII.pickle')"
   ]
  },
  {
   "cell_type": "code",
   "execution_count": 238,
   "metadata": {},
   "outputs": [
    {
     "data": {
      "text/plain": [
       "array([[0.9999851],\n",
       "       [0.9999926],\n",
       "       [1.       ],\n",
       "       [1.       ],\n",
       "       [1.       ],\n",
       "       [1.       ],\n",
       "       [1.       ],\n",
       "       [1.       ],\n",
       "       [1.       ],\n",
       "       [1.       ]], dtype=float32)"
      ]
     },
     "execution_count": 238,
     "metadata": {},
     "output_type": "execute_result"
    }
   ],
   "source": [
    "y_pred[15000:15010]"
   ]
  },
  {
   "cell_type": "markdown",
   "metadata": {},
   "source": [
    "# Binary classification accuracy"
   ]
  },
  {
   "cell_type": "code",
   "execution_count": 239,
   "metadata": {},
   "outputs": [],
   "source": [
    "y_true = pd.Series([x[0] for x in Y_test])\n",
    "\n",
    "# Use np.rint for rounding off \n",
    "y_predicted = pd.Series([ np.rint(j[0]) for j in y_pred])"
   ]
  },
  {
   "cell_type": "code",
   "execution_count": 240,
   "metadata": {},
   "outputs": [
    {
     "data": {
      "text/plain": [
       "0.977438887171301"
      ]
     },
     "execution_count": 240,
     "metadata": {},
     "output_type": "execute_result"
    }
   ],
   "source": [
    "np.mean(np.equal(y_true, y_predicted))"
   ]
  },
  {
   "cell_type": "markdown",
   "metadata": {},
   "source": [
    "# Confusion matrix"
   ]
  },
  {
   "cell_type": "code",
   "execution_count": 241,
   "metadata": {},
   "outputs": [
    {
     "data": {
      "text/html": [
       "<div>\n",
       "<style scoped>\n",
       "    .dataframe tbody tr th:only-of-type {\n",
       "        vertical-align: middle;\n",
       "    }\n",
       "\n",
       "    .dataframe tbody tr th {\n",
       "        vertical-align: top;\n",
       "    }\n",
       "\n",
       "    .dataframe thead th {\n",
       "        text-align: right;\n",
       "    }\n",
       "</style>\n",
       "<table border=\"1\" class=\"dataframe\">\n",
       "  <thead>\n",
       "    <tr style=\"text-align: right;\">\n",
       "      <th>Predicted</th>\n",
       "      <th>0.0</th>\n",
       "      <th>1.0</th>\n",
       "      <th>All</th>\n",
       "    </tr>\n",
       "    <tr>\n",
       "      <th>True</th>\n",
       "      <th></th>\n",
       "      <th></th>\n",
       "      <th></th>\n",
       "    </tr>\n",
       "  </thead>\n",
       "  <tbody>\n",
       "    <tr>\n",
       "      <th>0</th>\n",
       "      <td>1633965</td>\n",
       "      <td>10561</td>\n",
       "      <td>1644526</td>\n",
       "    </tr>\n",
       "    <tr>\n",
       "      <th>1</th>\n",
       "      <td>43075</td>\n",
       "      <td>689764</td>\n",
       "      <td>732839</td>\n",
       "    </tr>\n",
       "    <tr>\n",
       "      <th>All</th>\n",
       "      <td>1677040</td>\n",
       "      <td>700325</td>\n",
       "      <td>2377365</td>\n",
       "    </tr>\n",
       "  </tbody>\n",
       "</table>\n",
       "</div>"
      ],
      "text/plain": [
       "Predicted      0.0     1.0      All\n",
       "True                               \n",
       "0          1633965   10561  1644526\n",
       "1            43075  689764   732839\n",
       "All        1677040  700325  2377365"
      ]
     },
     "execution_count": 241,
     "metadata": {},
     "output_type": "execute_result"
    }
   ],
   "source": [
    "pd.crosstab(y_true, y_predicted, rownames=['True'], colnames=['Predicted'], margins=True)"
   ]
  },
  {
   "cell_type": "code",
   "execution_count": 202,
   "metadata": {},
   "outputs": [
    {
     "data": {
      "text/html": [
       "<div>\n",
       "<style scoped>\n",
       "    .dataframe tbody tr th:only-of-type {\n",
       "        vertical-align: middle;\n",
       "    }\n",
       "\n",
       "    .dataframe tbody tr th {\n",
       "        vertical-align: top;\n",
       "    }\n",
       "\n",
       "    .dataframe thead th {\n",
       "        text-align: right;\n",
       "    }\n",
       "</style>\n",
       "<table border=\"1\" class=\"dataframe\">\n",
       "  <thead>\n",
       "    <tr style=\"text-align: right;\">\n",
       "      <th>Predicted</th>\n",
       "      <th>0.0</th>\n",
       "      <th>1.0</th>\n",
       "      <th>All</th>\n",
       "    </tr>\n",
       "    <tr>\n",
       "      <th>True</th>\n",
       "      <th></th>\n",
       "      <th></th>\n",
       "      <th></th>\n",
       "    </tr>\n",
       "  </thead>\n",
       "  <tbody>\n",
       "    <tr>\n",
       "      <th>0</th>\n",
       "      <td>1628955</td>\n",
       "      <td>9155</td>\n",
       "      <td>1638110</td>\n",
       "    </tr>\n",
       "    <tr>\n",
       "      <th>1</th>\n",
       "      <td>48481</td>\n",
       "      <td>681754</td>\n",
       "      <td>730235</td>\n",
       "    </tr>\n",
       "    <tr>\n",
       "      <th>All</th>\n",
       "      <td>1677436</td>\n",
       "      <td>690909</td>\n",
       "      <td>2368345</td>\n",
       "    </tr>\n",
       "  </tbody>\n",
       "</table>\n",
       "</div>"
      ],
      "text/plain": [
       "Predicted      0.0     1.0      All\n",
       "True                               \n",
       "0          1628955    9155  1638110\n",
       "1            48481  681754   730235\n",
       "All        1677436  690909  2368345"
      ]
     },
     "execution_count": 202,
     "metadata": {},
     "output_type": "execute_result"
    }
   ],
   "source": [
    "pd.crosstab(y_true, y_predicted, rownames=['True'], colnames=['Predicted'], margins=True)"
   ]
  },
  {
   "cell_type": "code",
   "execution_count": 320,
   "metadata": {},
   "outputs": [
    {
     "data": {
      "text/plain": [
       "2.3047740088542845"
      ]
     },
     "execution_count": 320,
     "metadata": {},
     "output_type": "execute_result"
    }
   ],
   "source": [
    "# Worst case error bound on JobID specific 'Status' prediction error:\n",
    "\n",
    "100*(7618+46967)/2368345"
   ]
  },
  {
   "cell_type": "code",
   "execution_count": 242,
   "metadata": {},
   "outputs": [
    {
     "data": {
      "text/plain": [
       "(342394, 342405)"
      ]
     },
     "execution_count": 242,
     "metadata": {},
     "output_type": "execute_result"
    }
   ],
   "source": [
    "len(takeoutdf.JobID.unique().tolist()), len(cleaned.JobID.unique().tolist())"
   ]
  },
  {
   "cell_type": "code",
   "execution_count": 243,
   "metadata": {},
   "outputs": [
    {
     "data": {
      "text/plain": [
       "118282"
      ]
     },
     "execution_count": 243,
     "metadata": {},
     "output_type": "execute_result"
    }
   ],
   "source": [
    "sum(takeoutdf[\"JobID\"].value_counts()==1)"
   ]
  },
  {
   "cell_type": "code",
   "execution_count": 244,
   "metadata": {},
   "outputs": [
    {
     "data": {
      "text/plain": [
       "43075"
      ]
     },
     "execution_count": 244,
     "metadata": {},
     "output_type": "execute_result"
    }
   ],
   "source": [
    "len(X_test[(y_true==1) & (y_predicted==0)])"
   ]
  },
  {
   "cell_type": "code",
   "execution_count": 245,
   "metadata": {},
   "outputs": [
    {
     "data": {
      "text/plain": [
       "[]"
      ]
     },
     "execution_count": 245,
     "metadata": {},
     "output_type": "execute_result"
    }
   ],
   "source": [
    "# Verify that there is no intersection between training and test jobs\n",
    "\n",
    "list(set(takeoutdf.JobID.tolist()) & set(cleaned.JobID.tolist()))"
   ]
  },
  {
   "cell_type": "code",
   "execution_count": 246,
   "metadata": {},
   "outputs": [
    {
     "data": {
      "text/plain": [
       "(700325.0, 2377365)"
      ]
     },
     "execution_count": 246,
     "metadata": {},
     "output_type": "execute_result"
    }
   ],
   "source": [
    "# Predicting all 0s ??\n",
    "sum([ (j) for j in y_predicted]), len(y_predicted)"
   ]
  },
  {
   "cell_type": "code",
   "execution_count": 247,
   "metadata": {},
   "outputs": [],
   "source": [
    "#### Model 2 End"
   ]
  },
  {
   "cell_type": "code",
   "execution_count": null,
   "metadata": {},
   "outputs": [],
   "source": [
    "#### Model 3 Start"
   ]
  },
  {
   "cell_type": "markdown",
   "metadata": {},
   "source": [
    "# Model 3"
   ]
  },
  {
   "cell_type": "code",
   "execution_count": 248,
   "metadata": {},
   "outputs": [
    {
     "name": "stdout",
     "output_type": "stream",
     "text": [
      "Creating model 3...\n",
      "Compiling...\n"
     ]
    }
   ],
   "source": [
    "model3 = create_model3()"
   ]
  },
  {
   "cell_type": "code",
   "execution_count": 249,
   "metadata": {
    "scrolled": false
   },
   "outputs": [
    {
     "name": "stdout",
     "output_type": "stream",
     "text": [
      "Fitting model...\n",
      "Train on 2128413 samples, validate on 236491 samples\n",
      "Epoch 1/100\n",
      "2128413/2128413 [==============================] - 272s 128us/step - loss: 0.1689 - binary_accuracy: 0.9430 - val_loss: 0.1335 - val_binary_accuracy: 0.9577\n",
      "Epoch 2/100\n",
      "2128413/2128413 [==============================] - 272s 128us/step - loss: 0.1292 - binary_accuracy: 0.9593 - val_loss: 0.1148 - val_binary_accuracy: 0.9640\n",
      "Epoch 3/100\n",
      "2128413/2128413 [==============================] - 271s 128us/step - loss: 0.1152 - binary_accuracy: 0.9641 - val_loss: 0.1041 - val_binary_accuracy: 0.9682\n",
      "Epoch 4/100\n",
      "2128413/2128413 [==============================] - 270s 127us/step - loss: 0.1061 - binary_accuracy: 0.9670 - val_loss: 0.0981 - val_binary_accuracy: 0.9698\n",
      "Epoch 5/100\n",
      "2128413/2128413 [==============================] - 271s 127us/step - loss: 0.1025 - binary_accuracy: 0.9682 - val_loss: 0.0966 - val_binary_accuracy: 0.9699\n",
      "Epoch 6/100\n",
      "2128413/2128413 [==============================] - 271s 127us/step - loss: 0.0985 - binary_accuracy: 0.9695 - val_loss: 0.0951 - val_binary_accuracy: 0.9706\n",
      "Epoch 7/100\n",
      "2128413/2128413 [==============================] - 271s 127us/step - loss: 0.0956 - binary_accuracy: 0.9706 - val_loss: 0.0913 - val_binary_accuracy: 0.9722\n",
      "Epoch 8/100\n",
      "2128413/2128413 [==============================] - 270s 127us/step - loss: 0.0933 - binary_accuracy: 0.9717 - val_loss: 0.0924 - val_binary_accuracy: 0.9721\n",
      "Epoch 9/100\n",
      "2128413/2128413 [==============================] - 272s 128us/step - loss: 0.0914 - binary_accuracy: 0.9723 - val_loss: 0.0873 - val_binary_accuracy: 0.9740\n",
      "Epoch 10/100\n",
      "2128413/2128413 [==============================] - 271s 127us/step - loss: 0.0901 - binary_accuracy: 0.9728 - val_loss: 0.0883 - val_binary_accuracy: 0.9742\n",
      "Epoch 11/100\n",
      "2128413/2128413 [==============================] - 272s 128us/step - loss: 0.0887 - binary_accuracy: 0.9733 - val_loss: 0.0887 - val_binary_accuracy: 0.9735\n",
      "Epoch 12/100\n",
      "2128413/2128413 [==============================] - 271s 127us/step - loss: 0.0876 - binary_accuracy: 0.9737 - val_loss: 0.0841 - val_binary_accuracy: 0.9750\n",
      "Epoch 13/100\n",
      "2128413/2128413 [==============================] - 269s 126us/step - loss: 0.0867 - binary_accuracy: 0.9739 - val_loss: 0.0846 - val_binary_accuracy: 0.9748\n",
      "Epoch 14/100\n",
      "2128413/2128413 [==============================] - 270s 127us/step - loss: 0.0858 - binary_accuracy: 0.9743 - val_loss: 0.0833 - val_binary_accuracy: 0.9754\n",
      "Epoch 15/100\n",
      "2128413/2128413 [==============================] - 271s 127us/step - loss: 0.0852 - binary_accuracy: 0.9745 - val_loss: 0.0817 - val_binary_accuracy: 0.9758\n",
      "Epoch 16/100\n",
      "2128413/2128413 [==============================] - 271s 127us/step - loss: 0.0846 - binary_accuracy: 0.9747 - val_loss: 0.0821 - val_binary_accuracy: 0.9753\n",
      "Epoch 17/100\n",
      "2128413/2128413 [==============================] - 272s 128us/step - loss: 0.0838 - binary_accuracy: 0.9749 - val_loss: 0.0830 - val_binary_accuracy: 0.9750\n",
      "Epoch 18/100\n",
      "2128413/2128413 [==============================] - 271s 127us/step - loss: 0.0835 - binary_accuracy: 0.9751 - val_loss: 0.0814 - val_binary_accuracy: 0.9759\n",
      "Epoch 19/100\n",
      "2128413/2128413 [==============================] - 271s 127us/step - loss: 0.0830 - binary_accuracy: 0.9752 - val_loss: 0.0812 - val_binary_accuracy: 0.9759\n",
      "Epoch 20/100\n",
      "2128413/2128413 [==============================] - 274s 129us/step - loss: 0.0820 - binary_accuracy: 0.9756 - val_loss: 0.0803 - val_binary_accuracy: 0.9762\n",
      "Epoch 21/100\n",
      "2128413/2128413 [==============================] - 269s 126us/step - loss: 0.0817 - binary_accuracy: 0.9756 - val_loss: 0.0794 - val_binary_accuracy: 0.9764\n",
      "Epoch 22/100\n",
      "2128413/2128413 [==============================] - 270s 127us/step - loss: 0.0814 - binary_accuracy: 0.9757 - val_loss: 0.0807 - val_binary_accuracy: 0.9760\n",
      "Epoch 23/100\n",
      "2128413/2128413 [==============================] - 270s 127us/step - loss: 0.0810 - binary_accuracy: 0.9758 - val_loss: 0.0856 - val_binary_accuracy: 0.9740\n",
      "Epoch 24/100\n",
      "2128413/2128413 [==============================] - 271s 127us/step - loss: 0.0804 - binary_accuracy: 0.9761 - val_loss: 0.0807 - val_binary_accuracy: 0.9757\n",
      "Epoch 25/100\n",
      "2128413/2128413 [==============================] - 269s 126us/step - loss: 0.0802 - binary_accuracy: 0.9761 - val_loss: 0.0777 - val_binary_accuracy: 0.9770\n",
      "Epoch 26/100\n",
      "2128413/2128413 [==============================] - 259s 121us/step - loss: 0.0797 - binary_accuracy: 0.9763 - val_loss: 0.0779 - val_binary_accuracy: 0.9769\n",
      "Epoch 27/100\n",
      "2128413/2128413 [==============================] - 250s 118us/step - loss: 0.0796 - binary_accuracy: 0.9763 - val_loss: 0.0776 - val_binary_accuracy: 0.9771\n",
      "Epoch 28/100\n",
      "2128413/2128413 [==============================] - 268s 126us/step - loss: 0.0792 - binary_accuracy: 0.9765 - val_loss: 0.0774 - val_binary_accuracy: 0.9772\n",
      "Epoch 29/100\n",
      "2128413/2128413 [==============================] - 270s 127us/step - loss: 0.0787 - binary_accuracy: 0.9765 - val_loss: 0.0777 - val_binary_accuracy: 0.9769\n",
      "Epoch 30/100\n",
      "2128413/2128413 [==============================] - 262s 123us/step - loss: 0.0785 - binary_accuracy: 0.9766 - val_loss: 0.0777 - val_binary_accuracy: 0.9770\n",
      "Epoch 31/100\n",
      "2128413/2128413 [==============================] - 266s 125us/step - loss: 0.0783 - binary_accuracy: 0.9767 - val_loss: 0.0765 - val_binary_accuracy: 0.9773\n",
      "Epoch 32/100\n",
      "2128413/2128413 [==============================] - 262s 123us/step - loss: 0.0779 - binary_accuracy: 0.9768 - val_loss: 0.0757 - val_binary_accuracy: 0.9776\n",
      "Epoch 33/100\n",
      "2128413/2128413 [==============================] - 263s 124us/step - loss: 0.0775 - binary_accuracy: 0.9770 - val_loss: 0.0775 - val_binary_accuracy: 0.9772\n",
      "Epoch 34/100\n",
      "2128413/2128413 [==============================] - 262s 123us/step - loss: 0.0775 - binary_accuracy: 0.9769 - val_loss: 0.0760 - val_binary_accuracy: 0.9777\n",
      "Epoch 35/100\n",
      "2128413/2128413 [==============================] - 263s 124us/step - loss: 0.0772 - binary_accuracy: 0.9770 - val_loss: 0.0756 - val_binary_accuracy: 0.9778\n",
      "Epoch 36/100\n",
      "2128413/2128413 [==============================] - 263s 123us/step - loss: 0.0768 - binary_accuracy: 0.9772 - val_loss: 0.0776 - val_binary_accuracy: 0.9770\n",
      "Epoch 37/100\n",
      "2128413/2128413 [==============================] - 261s 123us/step - loss: 0.0767 - binary_accuracy: 0.9772 - val_loss: 0.0759 - val_binary_accuracy: 0.9778\n",
      "Epoch 38/100\n",
      "2128413/2128413 [==============================] - 262s 123us/step - loss: 0.0767 - binary_accuracy: 0.9772 - val_loss: 0.0766 - val_binary_accuracy: 0.9772\n",
      "Epoch 39/100\n",
      "2128413/2128413 [==============================] - 260s 122us/step - loss: 0.0763 - binary_accuracy: 0.9773 - val_loss: 0.0754 - val_binary_accuracy: 0.9779\n",
      "Epoch 40/100\n",
      "2128413/2128413 [==============================] - 261s 123us/step - loss: 0.0760 - binary_accuracy: 0.9775 - val_loss: 0.0778 - val_binary_accuracy: 0.9768\n",
      "Epoch 41/100\n",
      "2128413/2128413 [==============================] - 260s 122us/step - loss: 0.0760 - binary_accuracy: 0.9774 - val_loss: 0.0751 - val_binary_accuracy: 0.9779\n",
      "Epoch 42/100\n",
      "2128413/2128413 [==============================] - 262s 123us/step - loss: 0.0758 - binary_accuracy: 0.9775 - val_loss: 0.0805 - val_binary_accuracy: 0.9749\n",
      "Epoch 43/100\n",
      "2128413/2128413 [==============================] - 262s 123us/step - loss: 0.0757 - binary_accuracy: 0.9775 - val_loss: 0.0767 - val_binary_accuracy: 0.9775\n",
      "Epoch 44/100\n",
      "2128413/2128413 [==============================] - 261s 123us/step - loss: 0.0753 - binary_accuracy: 0.9777 - val_loss: 0.0757 - val_binary_accuracy: 0.9778\n",
      "Epoch 45/100\n",
      "2128413/2128413 [==============================] - 261s 123us/step - loss: 0.0753 - binary_accuracy: 0.9777 - val_loss: 0.0747 - val_binary_accuracy: 0.9782\n",
      "Epoch 46/100\n",
      "2128413/2128413 [==============================] - 258s 121us/step - loss: 0.0750 - binary_accuracy: 0.9778 - val_loss: 0.0736 - val_binary_accuracy: 0.9784\n",
      "Epoch 47/100\n",
      "2128413/2128413 [==============================] - 259s 122us/step - loss: 0.0750 - binary_accuracy: 0.9778 - val_loss: 0.0769 - val_binary_accuracy: 0.9770\n",
      "Epoch 48/100\n",
      "2128413/2128413 [==============================] - 258s 121us/step - loss: 0.0748 - binary_accuracy: 0.9779 - val_loss: 0.0758 - val_binary_accuracy: 0.9776\n"
     ]
    },
    {
     "name": "stdout",
     "output_type": "stream",
     "text": [
      "Epoch 49/100\n",
      "2128413/2128413 [==============================] - 271s 127us/step - loss: 0.0747 - binary_accuracy: 0.9778 - val_loss: 0.0752 - val_binary_accuracy: 0.9778\n",
      "Epoch 50/100\n",
      "2128413/2128413 [==============================] - 267s 126us/step - loss: 0.0745 - binary_accuracy: 0.9779 - val_loss: 0.0740 - val_binary_accuracy: 0.9783\n",
      "Epoch 51/100\n",
      "2128413/2128413 [==============================] - 264s 124us/step - loss: 0.0744 - binary_accuracy: 0.9779 - val_loss: 0.0763 - val_binary_accuracy: 0.9776\n",
      "Epoch 52/100\n",
      "2128413/2128413 [==============================] - 262s 123us/step - loss: 0.0742 - binary_accuracy: 0.9780 - val_loss: 0.0741 - val_binary_accuracy: 0.9782\n",
      "Epoch 53/100\n",
      "2128413/2128413 [==============================] - 259s 121us/step - loss: 0.0740 - binary_accuracy: 0.9780 - val_loss: 0.0745 - val_binary_accuracy: 0.9782\n",
      "Epoch 54/100\n",
      "2128413/2128413 [==============================] - 240s 113us/step - loss: 0.0740 - binary_accuracy: 0.9781 - val_loss: 0.0735 - val_binary_accuracy: 0.9786\n",
      "Epoch 55/100\n",
      "2128413/2128413 [==============================] - 241s 113us/step - loss: 0.0738 - binary_accuracy: 0.9781 - val_loss: 0.0744 - val_binary_accuracy: 0.9782\n",
      "Epoch 56/100\n",
      "2128413/2128413 [==============================] - 246s 115us/step - loss: 0.0738 - binary_accuracy: 0.9782 - val_loss: 0.0742 - val_binary_accuracy: 0.9783\n",
      "Epoch 57/100\n",
      "2128413/2128413 [==============================] - 244s 115us/step - loss: 0.0735 - binary_accuracy: 0.9782 - val_loss: 0.0731 - val_binary_accuracy: 0.9787\n",
      "Epoch 58/100\n",
      "2128413/2128413 [==============================] - 228s 107us/step - loss: 0.0733 - binary_accuracy: 0.9783 - val_loss: 0.0740 - val_binary_accuracy: 0.9784\n",
      "Epoch 59/100\n",
      "2128413/2128413 [==============================] - 230s 108us/step - loss: 0.0734 - binary_accuracy: 0.9783 - val_loss: 0.0739 - val_binary_accuracy: 0.9784\n",
      "Epoch 60/100\n",
      "2128413/2128413 [==============================] - 229s 108us/step - loss: 0.0734 - binary_accuracy: 0.9783 - val_loss: 0.0730 - val_binary_accuracy: 0.9787\n",
      "Epoch 61/100\n",
      "2128413/2128413 [==============================] - 228s 107us/step - loss: 0.0732 - binary_accuracy: 0.9784 - val_loss: 0.0738 - val_binary_accuracy: 0.9783\n",
      "Epoch 62/100\n",
      "2128413/2128413 [==============================] - 229s 108us/step - loss: 0.0729 - binary_accuracy: 0.9784 - val_loss: 0.0755 - val_binary_accuracy: 0.9775\n",
      "Epoch 63/100\n",
      "2128413/2128413 [==============================] - 227s 107us/step - loss: 0.0729 - binary_accuracy: 0.9784 - val_loss: 0.0726 - val_binary_accuracy: 0.9787\n",
      "Epoch 64/100\n",
      "2128413/2128413 [==============================] - 231s 108us/step - loss: 0.0726 - binary_accuracy: 0.9785 - val_loss: 0.0741 - val_binary_accuracy: 0.9781\n",
      "Epoch 65/100\n",
      "2128413/2128413 [==============================] - 234s 110us/step - loss: 0.0725 - binary_accuracy: 0.9785 - val_loss: 0.0760 - val_binary_accuracy: 0.9779\n",
      "Epoch 66/100\n",
      "2128413/2128413 [==============================] - 261s 123us/step - loss: 0.0727 - binary_accuracy: 0.9785 - val_loss: 0.0730 - val_binary_accuracy: 0.9783\n",
      "Epoch 67/100\n",
      "2128413/2128413 [==============================] - 265s 125us/step - loss: 0.0724 - binary_accuracy: 0.9785 - val_loss: 0.0725 - val_binary_accuracy: 0.9788\n",
      "Epoch 68/100\n",
      "2128413/2128413 [==============================] - 265s 124us/step - loss: 0.0723 - binary_accuracy: 0.9786 - val_loss: 0.0744 - val_binary_accuracy: 0.9783\n",
      "Epoch 69/100\n",
      "2128413/2128413 [==============================] - 267s 125us/step - loss: 0.0723 - binary_accuracy: 0.9786 - val_loss: 0.0728 - val_binary_accuracy: 0.9787\n",
      "Epoch 70/100\n",
      "2128413/2128413 [==============================] - 261s 123us/step - loss: 0.0721 - binary_accuracy: 0.9787 - val_loss: 0.0719 - val_binary_accuracy: 0.9789\n",
      "Epoch 71/100\n",
      "2128413/2128413 [==============================] - 262s 123us/step - loss: 0.0720 - binary_accuracy: 0.9787 - val_loss: 0.0717 - val_binary_accuracy: 0.9793\n",
      "Epoch 72/100\n",
      "2128413/2128413 [==============================] - 257s 121us/step - loss: 0.0718 - binary_accuracy: 0.9788 - val_loss: 0.0728 - val_binary_accuracy: 0.9787\n",
      "Epoch 73/100\n",
      "2128413/2128413 [==============================] - 258s 121us/step - loss: 0.0717 - binary_accuracy: 0.9788 - val_loss: 0.0747 - val_binary_accuracy: 0.9778\n",
      "Epoch 74/100\n",
      "2128413/2128413 [==============================] - 263s 123us/step - loss: 0.0716 - binary_accuracy: 0.9788 - val_loss: 0.0719 - val_binary_accuracy: 0.9790\n",
      "Epoch 75/100\n",
      "2128413/2128413 [==============================] - 254s 119us/step - loss: 0.0716 - binary_accuracy: 0.9788 - val_loss: 0.0730 - val_binary_accuracy: 0.9785\n",
      "Epoch 76/100\n",
      "2128413/2128413 [==============================] - 260s 122us/step - loss: 0.0716 - binary_accuracy: 0.9789 - val_loss: 0.0725 - val_binary_accuracy: 0.9788\n",
      "Epoch 77/100\n",
      "2128413/2128413 [==============================] - 256s 120us/step - loss: 0.0714 - binary_accuracy: 0.9789 - val_loss: 0.0723 - val_binary_accuracy: 0.9788\n",
      "Epoch 78/100\n",
      "2128413/2128413 [==============================] - 260s 122us/step - loss: 0.0714 - binary_accuracy: 0.9790 - val_loss: 0.0735 - val_binary_accuracy: 0.9781\n",
      "Epoch 79/100\n",
      "2128413/2128413 [==============================] - 256s 120us/step - loss: 0.0712 - binary_accuracy: 0.9790 - val_loss: 0.0733 - val_binary_accuracy: 0.9786\n",
      "Epoch 80/100\n",
      "2128413/2128413 [==============================] - 262s 123us/step - loss: 0.0710 - binary_accuracy: 0.9791 - val_loss: 0.0738 - val_binary_accuracy: 0.9784\n",
      "Epoch 81/100\n",
      "2128413/2128413 [==============================] - 263s 123us/step - loss: 0.0711 - binary_accuracy: 0.9790 - val_loss: 0.0745 - val_binary_accuracy: 0.9782\n",
      "Epoch 82/100\n",
      "2128413/2128413 [==============================] - 256s 120us/step - loss: 0.0709 - binary_accuracy: 0.9790 - val_loss: 0.0730 - val_binary_accuracy: 0.9788\n",
      "Epoch 83/100\n",
      "2128413/2128413 [==============================] - 263s 124us/step - loss: 0.0707 - binary_accuracy: 0.9791 - val_loss: 0.0719 - val_binary_accuracy: 0.9789\n",
      "Epoch 84/100\n",
      "2128413/2128413 [==============================] - 256s 120us/step - loss: 0.0707 - binary_accuracy: 0.9791 - val_loss: 0.0730 - val_binary_accuracy: 0.9785\n",
      "Epoch 85/100\n",
      "2128413/2128413 [==============================] - 260s 122us/step - loss: 0.0707 - binary_accuracy: 0.9792 - val_loss: 0.0789 - val_binary_accuracy: 0.9765\n",
      "Epoch 86/100\n",
      "2128413/2128413 [==============================] - 253s 119us/step - loss: 0.0706 - binary_accuracy: 0.9792 - val_loss: 0.0730 - val_binary_accuracy: 0.9788\n",
      "Epoch 87/100\n",
      "2128413/2128413 [==============================] - 263s 123us/step - loss: 0.0703 - binary_accuracy: 0.9792 - val_loss: 0.0722 - val_binary_accuracy: 0.9790\n",
      "Epoch 88/100\n",
      "2128413/2128413 [==============================] - 261s 123us/step - loss: 0.0704 - binary_accuracy: 0.9793 - val_loss: 0.0722 - val_binary_accuracy: 0.9791\n",
      "Epoch 89/100\n",
      "2128413/2128413 [==============================] - 255s 120us/step - loss: 0.0702 - binary_accuracy: 0.9793 - val_loss: 0.0715 - val_binary_accuracy: 0.9792\n",
      "Epoch 90/100\n",
      "2128413/2128413 [==============================] - 262s 123us/step - loss: 0.0702 - binary_accuracy: 0.9793 - val_loss: 0.0718 - val_binary_accuracy: 0.9791\n",
      "Epoch 91/100\n",
      "2128413/2128413 [==============================] - 256s 120us/step - loss: 0.0701 - binary_accuracy: 0.9793 - val_loss: 0.0724 - val_binary_accuracy: 0.9788\n",
      "Epoch 92/100\n",
      "2128413/2128413 [==============================] - 264s 124us/step - loss: 0.0701 - binary_accuracy: 0.9793 - val_loss: 0.0731 - val_binary_accuracy: 0.9790\n",
      "Epoch 93/100\n",
      "2128413/2128413 [==============================] - 260s 122us/step - loss: 0.0700 - binary_accuracy: 0.9794 - val_loss: 0.0743 - val_binary_accuracy: 0.9784\n",
      "Epoch 94/100\n",
      "2128413/2128413 [==============================] - 267s 125us/step - loss: 0.0700 - binary_accuracy: 0.9794 - val_loss: 0.0709 - val_binary_accuracy: 0.9795\n",
      "Epoch 95/100\n",
      "2128413/2128413 [==============================] - 264s 124us/step - loss: 0.0700 - binary_accuracy: 0.9794 - val_loss: 0.0734 - val_binary_accuracy: 0.9786\n",
      "Epoch 96/100\n",
      "2128413/2128413 [==============================] - 260s 122us/step - loss: 0.0696 - binary_accuracy: 0.9795 - val_loss: 0.0716 - val_binary_accuracy: 0.9793\n",
      "Epoch 97/100\n",
      "2128413/2128413 [==============================] - 268s 126us/step - loss: 0.0697 - binary_accuracy: 0.9795 - val_loss: 0.0731 - val_binary_accuracy: 0.9788\n",
      "Epoch 98/100\n",
      "2128413/2128413 [==============================] - 256s 120us/step - loss: 0.0696 - binary_accuracy: 0.9795 - val_loss: 0.0725 - val_binary_accuracy: 0.9788\n",
      "Epoch 99/100\n",
      "2128413/2128413 [==============================] - 271s 127us/step - loss: 0.0696 - binary_accuracy: 0.9795 - val_loss: 0.0718 - val_binary_accuracy: 0.9789\n",
      "Epoch 100/100\n",
      "2128413/2128413 [==============================] - 261s 123us/step - loss: 0.0694 - binary_accuracy: 0.9796 - val_loss: 0.0767 - val_binary_accuracy: 0.9771\n",
      "CPU times: user 2d 11h 41min 26s, sys: 12h 39min, total: 3d 20min 26s\n",
      "Wall time: 7h 14min 5s\n"
     ]
    }
   ],
   "source": [
    "%%time\n",
    "\n",
    "print ('Fitting model...')\n",
    "history = model3.fit(X_final,Y_final,batch_size=250, epochs=100, validation_split = 0.10, verbose = 1)"
   ]
  },
  {
   "cell_type": "code",
   "execution_count": 250,
   "metadata": {},
   "outputs": [
    {
     "name": "stdout",
     "output_type": "stream",
     "text": [
      "2377365/2377365 [==============================] - 436s 183us/step\n"
     ]
    }
   ],
   "source": [
    "loss, accuracy = model3.evaluate(X_test, Y_test)"
   ]
  },
  {
   "cell_type": "markdown",
   "metadata": {},
   "source": [
    "# Accuracy"
   ]
  },
  {
   "cell_type": "code",
   "execution_count": 251,
   "metadata": {},
   "outputs": [
    {
     "data": {
      "text/plain": [
       "(0.08536106343103582, 0.9759498436293964)"
      ]
     },
     "execution_count": 251,
     "metadata": {},
     "output_type": "execute_result"
    }
   ],
   "source": [
    "loss, accuracy"
   ]
  },
  {
   "cell_type": "code",
   "execution_count": 252,
   "metadata": {},
   "outputs": [],
   "source": [
    "# when taking 10 timesteps, and keeping separate test and training JobIDs\n",
    "# loss, accuracy is: \n",
    "# on X_test, Y_test"
   ]
  },
  {
   "cell_type": "code",
   "execution_count": 253,
   "metadata": {},
   "outputs": [],
   "source": [
    "y_pred = model3.predict(X_test)"
   ]
  },
  {
   "cell_type": "code",
   "execution_count": 254,
   "metadata": {
    "scrolled": true
   },
   "outputs": [
    {
     "data": {
      "text/plain": [
       "array([[0.9999957 ],\n",
       "       [0.99999094],\n",
       "       [0.99996936],\n",
       "       [0.9999888 ],\n",
       "       [0.99999154],\n",
       "       [0.9999931 ],\n",
       "       [0.9999974 ],\n",
       "       [0.9999949 ],\n",
       "       [0.9999981 ],\n",
       "       [0.999998  ]], dtype=float32)"
      ]
     },
     "execution_count": 254,
     "metadata": {},
     "output_type": "execute_result"
    }
   ],
   "source": [
    "y_pred[15000:15010]"
   ]
  },
  {
   "cell_type": "markdown",
   "metadata": {},
   "source": [
    "## Save Model 3"
   ]
  },
  {
   "cell_type": "code",
   "execution_count": 268,
   "metadata": {},
   "outputs": [],
   "source": [
    "model3.save('large_model3_tsteps1_features65_partII.pickle')"
   ]
  },
  {
   "cell_type": "markdown",
   "metadata": {},
   "source": [
    "# Binary classification accuracy"
   ]
  },
  {
   "cell_type": "code",
   "execution_count": 256,
   "metadata": {},
   "outputs": [],
   "source": [
    "y_true = pd.Series([x[0] for x in Y_test])\n",
    "\n",
    "# Use np.rint for rounding off \n",
    "y_predicted = pd.Series([ np.rint(j[0]) for j in y_pred])"
   ]
  },
  {
   "cell_type": "code",
   "execution_count": 257,
   "metadata": {},
   "outputs": [
    {
     "data": {
      "text/plain": [
       "0.9759498436293964"
      ]
     },
     "execution_count": 257,
     "metadata": {},
     "output_type": "execute_result"
    }
   ],
   "source": [
    "np.mean(np.equal(y_true, y_predicted))"
   ]
  },
  {
   "cell_type": "markdown",
   "metadata": {},
   "source": [
    "# Confusion matrix"
   ]
  },
  {
   "cell_type": "code",
   "execution_count": 258,
   "metadata": {
    "scrolled": true
   },
   "outputs": [
    {
     "data": {
      "text/html": [
       "<div>\n",
       "<style scoped>\n",
       "    .dataframe tbody tr th:only-of-type {\n",
       "        vertical-align: middle;\n",
       "    }\n",
       "\n",
       "    .dataframe tbody tr th {\n",
       "        vertical-align: top;\n",
       "    }\n",
       "\n",
       "    .dataframe thead th {\n",
       "        text-align: right;\n",
       "    }\n",
       "</style>\n",
       "<table border=\"1\" class=\"dataframe\">\n",
       "  <thead>\n",
       "    <tr style=\"text-align: right;\">\n",
       "      <th>Predicted</th>\n",
       "      <th>0.0</th>\n",
       "      <th>1.0</th>\n",
       "      <th>All</th>\n",
       "    </tr>\n",
       "    <tr>\n",
       "      <th>True</th>\n",
       "      <th></th>\n",
       "      <th></th>\n",
       "      <th></th>\n",
       "    </tr>\n",
       "  </thead>\n",
       "  <tbody>\n",
       "    <tr>\n",
       "      <th>0</th>\n",
       "      <td>1631338</td>\n",
       "      <td>13188</td>\n",
       "      <td>1644526</td>\n",
       "    </tr>\n",
       "    <tr>\n",
       "      <th>1</th>\n",
       "      <td>43988</td>\n",
       "      <td>688851</td>\n",
       "      <td>732839</td>\n",
       "    </tr>\n",
       "    <tr>\n",
       "      <th>All</th>\n",
       "      <td>1675326</td>\n",
       "      <td>702039</td>\n",
       "      <td>2377365</td>\n",
       "    </tr>\n",
       "  </tbody>\n",
       "</table>\n",
       "</div>"
      ],
      "text/plain": [
       "Predicted      0.0     1.0      All\n",
       "True                               \n",
       "0          1631338   13188  1644526\n",
       "1            43988  688851   732839\n",
       "All        1675326  702039  2377365"
      ]
     },
     "execution_count": 258,
     "metadata": {},
     "output_type": "execute_result"
    }
   ],
   "source": [
    "pd.crosstab(y_true, y_predicted, rownames=['True'], colnames=['Predicted'], margins=True)"
   ]
  },
  {
   "cell_type": "code",
   "execution_count": 202,
   "metadata": {},
   "outputs": [
    {
     "data": {
      "text/html": [
       "<div>\n",
       "<style scoped>\n",
       "    .dataframe tbody tr th:only-of-type {\n",
       "        vertical-align: middle;\n",
       "    }\n",
       "\n",
       "    .dataframe tbody tr th {\n",
       "        vertical-align: top;\n",
       "    }\n",
       "\n",
       "    .dataframe thead th {\n",
       "        text-align: right;\n",
       "    }\n",
       "</style>\n",
       "<table border=\"1\" class=\"dataframe\">\n",
       "  <thead>\n",
       "    <tr style=\"text-align: right;\">\n",
       "      <th>Predicted</th>\n",
       "      <th>0.0</th>\n",
       "      <th>1.0</th>\n",
       "      <th>All</th>\n",
       "    </tr>\n",
       "    <tr>\n",
       "      <th>True</th>\n",
       "      <th></th>\n",
       "      <th></th>\n",
       "      <th></th>\n",
       "    </tr>\n",
       "  </thead>\n",
       "  <tbody>\n",
       "    <tr>\n",
       "      <th>0</th>\n",
       "      <td>1628955</td>\n",
       "      <td>9155</td>\n",
       "      <td>1638110</td>\n",
       "    </tr>\n",
       "    <tr>\n",
       "      <th>1</th>\n",
       "      <td>48481</td>\n",
       "      <td>681754</td>\n",
       "      <td>730235</td>\n",
       "    </tr>\n",
       "    <tr>\n",
       "      <th>All</th>\n",
       "      <td>1677436</td>\n",
       "      <td>690909</td>\n",
       "      <td>2368345</td>\n",
       "    </tr>\n",
       "  </tbody>\n",
       "</table>\n",
       "</div>"
      ],
      "text/plain": [
       "Predicted      0.0     1.0      All\n",
       "True                               \n",
       "0          1628955    9155  1638110\n",
       "1            48481  681754   730235\n",
       "All        1677436  690909  2368345"
      ]
     },
     "execution_count": 202,
     "metadata": {},
     "output_type": "execute_result"
    }
   ],
   "source": [
    "pd.crosstab(y_true, y_predicted, rownames=['True'], colnames=['Predicted'], margins=True)"
   ]
  },
  {
   "cell_type": "code",
   "execution_count": 321,
   "metadata": {},
   "outputs": [
    {
     "data": {
      "text/plain": [
       "2.247603284149902"
      ]
     },
     "execution_count": 321,
     "metadata": {},
     "output_type": "execute_result"
    }
   ],
   "source": [
    "# Worst case error bound on JobID specific 'Status' prediction error:\n",
    "\n",
    "100*(7440+45791)/2368345"
   ]
  },
  {
   "cell_type": "code",
   "execution_count": 259,
   "metadata": {},
   "outputs": [
    {
     "data": {
      "text/plain": [
       "(342394, 342405)"
      ]
     },
     "execution_count": 259,
     "metadata": {},
     "output_type": "execute_result"
    }
   ],
   "source": [
    "len(takeoutdf.JobID.unique().tolist()), len(cleaned.JobID.unique().tolist())"
   ]
  },
  {
   "cell_type": "code",
   "execution_count": 260,
   "metadata": {},
   "outputs": [
    {
     "data": {
      "text/plain": [
       "118282"
      ]
     },
     "execution_count": 260,
     "metadata": {},
     "output_type": "execute_result"
    }
   ],
   "source": [
    "sum(takeoutdf[\"JobID\"].value_counts()==1)"
   ]
  },
  {
   "cell_type": "code",
   "execution_count": 261,
   "metadata": {},
   "outputs": [
    {
     "data": {
      "text/plain": [
       "43988"
      ]
     },
     "execution_count": 261,
     "metadata": {},
     "output_type": "execute_result"
    }
   ],
   "source": [
    "len(X_test[(y_true==1) & (y_predicted==0)])"
   ]
  },
  {
   "cell_type": "code",
   "execution_count": 262,
   "metadata": {},
   "outputs": [
    {
     "data": {
      "text/plain": [
       "0"
      ]
     },
     "execution_count": 262,
     "metadata": {},
     "output_type": "execute_result"
    }
   ],
   "source": [
    "# Verify that there is no intersection between training and test jobs\n",
    "\n",
    "len(set(takeoutdf.JobID.tolist()) & set(cleaned.JobID.tolist()))"
   ]
  },
  {
   "cell_type": "code",
   "execution_count": 263,
   "metadata": {},
   "outputs": [
    {
     "data": {
      "text/plain": [
       "(342394, 342405)"
      ]
     },
     "execution_count": 263,
     "metadata": {},
     "output_type": "execute_result"
    }
   ],
   "source": [
    "len(set(takeoutdf.JobID.tolist())), len(set(cleaned.JobID.tolist()))"
   ]
  },
  {
   "cell_type": "code",
   "execution_count": 264,
   "metadata": {},
   "outputs": [
    {
     "data": {
      "text/plain": [
       "(702039.0, 2377365)"
      ]
     },
     "execution_count": 264,
     "metadata": {},
     "output_type": "execute_result"
    }
   ],
   "source": [
    "# Predicting all 0s ??\n",
    "sum([ (j) for j in y_predicted]), len(y_predicted)"
   ]
  },
  {
   "cell_type": "code",
   "execution_count": 265,
   "metadata": {},
   "outputs": [],
   "source": [
    "#### Model 3 End"
   ]
  },
  {
   "cell_type": "markdown",
   "metadata": {},
   "source": [
    "# Checkpoint: Valid code above this line"
   ]
  },
  {
   "cell_type": "code",
   "execution_count": 324,
   "metadata": {},
   "outputs": [
    {
     "ename": "ImportError",
     "evalue": "Failed to import pydot. You must install pydot and graphviz for `pydotprint` to work.",
     "output_type": "error",
     "traceback": [
      "\u001b[0;31m---------------------------------------------------------------------------\u001b[0m",
      "\u001b[0;31mAttributeError\u001b[0m                            Traceback (most recent call last)",
      "\u001b[0;32m~/anaconda3/envs/keras/lib/python3.5/site-packages/keras/utils/vis_utils.py\u001b[0m in \u001b[0;36m_check_pydot\u001b[0;34m()\u001b[0m\n\u001b[1;32m     26\u001b[0m         \u001b[0;31m# to check the pydot/graphviz installation.\u001b[0m\u001b[0;34m\u001b[0m\u001b[0;34m\u001b[0m\u001b[0m\n\u001b[0;32m---> 27\u001b[0;31m         \u001b[0mpydot\u001b[0m\u001b[0;34m.\u001b[0m\u001b[0mDot\u001b[0m\u001b[0;34m.\u001b[0m\u001b[0mcreate\u001b[0m\u001b[0;34m(\u001b[0m\u001b[0mpydot\u001b[0m\u001b[0;34m.\u001b[0m\u001b[0mDot\u001b[0m\u001b[0;34m(\u001b[0m\u001b[0;34m)\u001b[0m\u001b[0;34m)\u001b[0m\u001b[0;34m\u001b[0m\u001b[0m\n\u001b[0m\u001b[1;32m     28\u001b[0m     \u001b[0;32mexcept\u001b[0m \u001b[0mException\u001b[0m\u001b[0;34m:\u001b[0m\u001b[0;34m\u001b[0m\u001b[0m\n",
      "\u001b[0;31mAttributeError\u001b[0m: 'NoneType' object has no attribute 'Dot'",
      "\nDuring handling of the above exception, another exception occurred:\n",
      "\u001b[0;31mImportError\u001b[0m                               Traceback (most recent call last)",
      "\u001b[0;32m<ipython-input-324-2cabf02ce23a>\u001b[0m in \u001b[0;36m<module>\u001b[0;34m()\u001b[0m\n\u001b[1;32m      2\u001b[0m \u001b[0;32mfrom\u001b[0m \u001b[0mkeras\u001b[0m\u001b[0;34m.\u001b[0m\u001b[0mutils\u001b[0m\u001b[0;34m.\u001b[0m\u001b[0mvis_utils\u001b[0m \u001b[0;32mimport\u001b[0m \u001b[0mmodel_to_dot\u001b[0m\u001b[0;34m\u001b[0m\u001b[0m\n\u001b[1;32m      3\u001b[0m \u001b[0;34m\u001b[0m\u001b[0m\n\u001b[0;32m----> 4\u001b[0;31m \u001b[0mSVG\u001b[0m\u001b[0;34m(\u001b[0m\u001b[0mmodel_to_dot\u001b[0m\u001b[0;34m(\u001b[0m\u001b[0mmodel\u001b[0m\u001b[0;34m)\u001b[0m\u001b[0;34m.\u001b[0m\u001b[0mcreate\u001b[0m\u001b[0;34m(\u001b[0m\u001b[0mprog\u001b[0m\u001b[0;34m=\u001b[0m\u001b[0;34m'dot'\u001b[0m\u001b[0;34m,\u001b[0m \u001b[0mformat\u001b[0m\u001b[0;34m=\u001b[0m\u001b[0;34m'svg'\u001b[0m\u001b[0;34m)\u001b[0m\u001b[0;34m)\u001b[0m\u001b[0;34m\u001b[0m\u001b[0m\n\u001b[0m",
      "\u001b[0;32m~/anaconda3/envs/keras/lib/python3.5/site-packages/keras/utils/vis_utils.py\u001b[0m in \u001b[0;36mmodel_to_dot\u001b[0;34m(model, show_shapes, show_layer_names, rankdir)\u001b[0m\n\u001b[1;32m     54\u001b[0m     \u001b[0;32mfrom\u001b[0m \u001b[0;34m.\u001b[0m\u001b[0;34m.\u001b[0m\u001b[0mmodels\u001b[0m \u001b[0;32mimport\u001b[0m \u001b[0mSequential\u001b[0m\u001b[0;34m\u001b[0m\u001b[0m\n\u001b[1;32m     55\u001b[0m \u001b[0;34m\u001b[0m\u001b[0m\n\u001b[0;32m---> 56\u001b[0;31m     \u001b[0m_check_pydot\u001b[0m\u001b[0;34m(\u001b[0m\u001b[0;34m)\u001b[0m\u001b[0;34m\u001b[0m\u001b[0m\n\u001b[0m\u001b[1;32m     57\u001b[0m     \u001b[0mdot\u001b[0m \u001b[0;34m=\u001b[0m \u001b[0mpydot\u001b[0m\u001b[0;34m.\u001b[0m\u001b[0mDot\u001b[0m\u001b[0;34m(\u001b[0m\u001b[0;34m)\u001b[0m\u001b[0;34m\u001b[0m\u001b[0m\n\u001b[1;32m     58\u001b[0m     \u001b[0mdot\u001b[0m\u001b[0;34m.\u001b[0m\u001b[0mset\u001b[0m\u001b[0;34m(\u001b[0m\u001b[0;34m'rankdir'\u001b[0m\u001b[0;34m,\u001b[0m \u001b[0mrankdir\u001b[0m\u001b[0;34m)\u001b[0m\u001b[0;34m\u001b[0m\u001b[0m\n",
      "\u001b[0;32m~/anaconda3/envs/keras/lib/python3.5/site-packages/keras/utils/vis_utils.py\u001b[0m in \u001b[0;36m_check_pydot\u001b[0;34m()\u001b[0m\n\u001b[1;32m     29\u001b[0m         \u001b[0;31m# pydot raises a generic Exception here,\u001b[0m\u001b[0;34m\u001b[0m\u001b[0;34m\u001b[0m\u001b[0m\n\u001b[1;32m     30\u001b[0m         \u001b[0;31m# so no specific class can be caught.\u001b[0m\u001b[0;34m\u001b[0m\u001b[0;34m\u001b[0m\u001b[0m\n\u001b[0;32m---> 31\u001b[0;31m         raise ImportError('Failed to import pydot. You must install pydot'\n\u001b[0m\u001b[1;32m     32\u001b[0m                           ' and graphviz for `pydotprint` to work.')\n\u001b[1;32m     33\u001b[0m \u001b[0;34m\u001b[0m\u001b[0m\n",
      "\u001b[0;31mImportError\u001b[0m: Failed to import pydot. You must install pydot and graphviz for `pydotprint` to work."
     ]
    }
   ],
   "source": [
    "from IPython.display import SVG\n",
    "from keras.utils.vis_utils import model_to_dot\n",
    "\n",
    "SVG(model_to_dot(model).create(prog='dot', format='svg'))"
   ]
  },
  {
   "cell_type": "code",
   "execution_count": 327,
   "metadata": {},
   "outputs": [
    {
     "ename": "ImportError",
     "evalue": "Failed to import pydot. You must install pydot and graphviz for `pydotprint` to work.",
     "output_type": "error",
     "traceback": [
      "\u001b[0;31m---------------------------------------------------------------------------\u001b[0m",
      "\u001b[0;31mAttributeError\u001b[0m                            Traceback (most recent call last)",
      "\u001b[0;32m~/anaconda3/envs/keras/lib/python3.5/site-packages/keras/utils/vis_utils.py\u001b[0m in \u001b[0;36m_check_pydot\u001b[0;34m()\u001b[0m\n\u001b[1;32m     26\u001b[0m         \u001b[0;31m# to check the pydot/graphviz installation.\u001b[0m\u001b[0;34m\u001b[0m\u001b[0;34m\u001b[0m\u001b[0m\n\u001b[0;32m---> 27\u001b[0;31m         \u001b[0mpydot\u001b[0m\u001b[0;34m.\u001b[0m\u001b[0mDot\u001b[0m\u001b[0;34m.\u001b[0m\u001b[0mcreate\u001b[0m\u001b[0;34m(\u001b[0m\u001b[0mpydot\u001b[0m\u001b[0;34m.\u001b[0m\u001b[0mDot\u001b[0m\u001b[0;34m(\u001b[0m\u001b[0;34m)\u001b[0m\u001b[0;34m)\u001b[0m\u001b[0;34m\u001b[0m\u001b[0m\n\u001b[0m\u001b[1;32m     28\u001b[0m     \u001b[0;32mexcept\u001b[0m \u001b[0mException\u001b[0m\u001b[0;34m:\u001b[0m\u001b[0;34m\u001b[0m\u001b[0m\n",
      "\u001b[0;31mAttributeError\u001b[0m: 'NoneType' object has no attribute 'Dot'",
      "\nDuring handling of the above exception, another exception occurred:\n",
      "\u001b[0;31mImportError\u001b[0m                               Traceback (most recent call last)",
      "\u001b[0;32m<ipython-input-327-00623466f61b>\u001b[0m in \u001b[0;36m<module>\u001b[0;34m()\u001b[0m\n\u001b[1;32m      1\u001b[0m \u001b[0;32mfrom\u001b[0m \u001b[0mkeras\u001b[0m\u001b[0;34m.\u001b[0m\u001b[0mutils\u001b[0m \u001b[0;32mimport\u001b[0m \u001b[0mplot_model\u001b[0m\u001b[0;34m\u001b[0m\u001b[0m\n\u001b[0;32m----> 2\u001b[0;31m \u001b[0mplot_model\u001b[0m\u001b[0;34m(\u001b[0m\u001b[0mmodel\u001b[0m\u001b[0;34m,\u001b[0m \u001b[0mto_file\u001b[0m\u001b[0;34m=\u001b[0m\u001b[0;34m'model3.png'\u001b[0m\u001b[0;34m)\u001b[0m\u001b[0;34m\u001b[0m\u001b[0m\n\u001b[0m",
      "\u001b[0;32m~/anaconda3/envs/keras/lib/python3.5/site-packages/keras/utils/vis_utils.py\u001b[0m in \u001b[0;36mplot_model\u001b[0;34m(model, to_file, show_shapes, show_layer_names, rankdir)\u001b[0m\n\u001b[1;32m    133\u001b[0m             \u001b[0;34m'LR'\u001b[0m \u001b[0mcreates\u001b[0m \u001b[0ma\u001b[0m \u001b[0mhorizontal\u001b[0m \u001b[0mplot\u001b[0m\u001b[0;34m.\u001b[0m\u001b[0;34m\u001b[0m\u001b[0m\n\u001b[1;32m    134\u001b[0m     \"\"\"\n\u001b[0;32m--> 135\u001b[0;31m     \u001b[0mdot\u001b[0m \u001b[0;34m=\u001b[0m \u001b[0mmodel_to_dot\u001b[0m\u001b[0;34m(\u001b[0m\u001b[0mmodel\u001b[0m\u001b[0;34m,\u001b[0m \u001b[0mshow_shapes\u001b[0m\u001b[0;34m,\u001b[0m \u001b[0mshow_layer_names\u001b[0m\u001b[0;34m,\u001b[0m \u001b[0mrankdir\u001b[0m\u001b[0;34m)\u001b[0m\u001b[0;34m\u001b[0m\u001b[0m\n\u001b[0m\u001b[1;32m    136\u001b[0m     \u001b[0m_\u001b[0m\u001b[0;34m,\u001b[0m \u001b[0mextension\u001b[0m \u001b[0;34m=\u001b[0m \u001b[0mos\u001b[0m\u001b[0;34m.\u001b[0m\u001b[0mpath\u001b[0m\u001b[0;34m.\u001b[0m\u001b[0msplitext\u001b[0m\u001b[0;34m(\u001b[0m\u001b[0mto_file\u001b[0m\u001b[0;34m)\u001b[0m\u001b[0;34m\u001b[0m\u001b[0m\n\u001b[1;32m    137\u001b[0m     \u001b[0;32mif\u001b[0m \u001b[0;32mnot\u001b[0m \u001b[0mextension\u001b[0m\u001b[0;34m:\u001b[0m\u001b[0;34m\u001b[0m\u001b[0m\n",
      "\u001b[0;32m~/anaconda3/envs/keras/lib/python3.5/site-packages/keras/utils/vis_utils.py\u001b[0m in \u001b[0;36mmodel_to_dot\u001b[0;34m(model, show_shapes, show_layer_names, rankdir)\u001b[0m\n\u001b[1;32m     54\u001b[0m     \u001b[0;32mfrom\u001b[0m \u001b[0;34m.\u001b[0m\u001b[0;34m.\u001b[0m\u001b[0mmodels\u001b[0m \u001b[0;32mimport\u001b[0m \u001b[0mSequential\u001b[0m\u001b[0;34m\u001b[0m\u001b[0m\n\u001b[1;32m     55\u001b[0m \u001b[0;34m\u001b[0m\u001b[0m\n\u001b[0;32m---> 56\u001b[0;31m     \u001b[0m_check_pydot\u001b[0m\u001b[0;34m(\u001b[0m\u001b[0;34m)\u001b[0m\u001b[0;34m\u001b[0m\u001b[0m\n\u001b[0m\u001b[1;32m     57\u001b[0m     \u001b[0mdot\u001b[0m \u001b[0;34m=\u001b[0m \u001b[0mpydot\u001b[0m\u001b[0;34m.\u001b[0m\u001b[0mDot\u001b[0m\u001b[0;34m(\u001b[0m\u001b[0;34m)\u001b[0m\u001b[0;34m\u001b[0m\u001b[0m\n\u001b[1;32m     58\u001b[0m     \u001b[0mdot\u001b[0m\u001b[0;34m.\u001b[0m\u001b[0mset\u001b[0m\u001b[0;34m(\u001b[0m\u001b[0;34m'rankdir'\u001b[0m\u001b[0;34m,\u001b[0m \u001b[0mrankdir\u001b[0m\u001b[0;34m)\u001b[0m\u001b[0;34m\u001b[0m\u001b[0m\n",
      "\u001b[0;32m~/anaconda3/envs/keras/lib/python3.5/site-packages/keras/utils/vis_utils.py\u001b[0m in \u001b[0;36m_check_pydot\u001b[0;34m()\u001b[0m\n\u001b[1;32m     29\u001b[0m         \u001b[0;31m# pydot raises a generic Exception here,\u001b[0m\u001b[0;34m\u001b[0m\u001b[0;34m\u001b[0m\u001b[0m\n\u001b[1;32m     30\u001b[0m         \u001b[0;31m# so no specific class can be caught.\u001b[0m\u001b[0;34m\u001b[0m\u001b[0;34m\u001b[0m\u001b[0m\n\u001b[0;32m---> 31\u001b[0;31m         raise ImportError('Failed to import pydot. You must install pydot'\n\u001b[0m\u001b[1;32m     32\u001b[0m                           ' and graphviz for `pydotprint` to work.')\n\u001b[1;32m     33\u001b[0m \u001b[0;34m\u001b[0m\u001b[0m\n",
      "\u001b[0;31mImportError\u001b[0m: Failed to import pydot. You must install pydot and graphviz for `pydotprint` to work."
     ]
    }
   ],
   "source": [
    "from keras.utils import plot_model\n",
    "plot_model(model, to_file='model3.png')"
   ]
  },
  {
   "cell_type": "code",
   "execution_count": null,
   "metadata": {},
   "outputs": [],
   "source": []
  }
 ],
 "metadata": {
  "kernelspec": {
   "display_name": "Python 3",
   "language": "python",
   "name": "python3"
  },
  "language_info": {
   "codemirror_mode": {
    "name": "ipython",
    "version": 3
   },
   "file_extension": ".py",
   "mimetype": "text/x-python",
   "name": "python",
   "nbconvert_exporter": "python",
   "pygments_lexer": "ipython3",
   "version": "3.5.4"
  }
 },
 "nbformat": 4,
 "nbformat_minor": 2
}
