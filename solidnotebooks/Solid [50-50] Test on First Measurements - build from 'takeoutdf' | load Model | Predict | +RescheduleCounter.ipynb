{
 "cells": [
  {
   "cell_type": "code",
   "execution_count": 1,
   "metadata": {
    "collapsed": true
   },
   "outputs": [],
   "source": [
    "import pandas as pd\n",
    "import numpy as np\n",
    "\n",
    "import pymysql\n",
    "from IPython.display import display, HTML"
   ]
  },
  {
   "cell_type": "code",
   "execution_count": 2,
   "metadata": {
    "collapsed": true
   },
   "outputs": [],
   "source": [
    "# Takes a df and converts it to 3D tensor\n",
    "# Each sample will have k time steps\n",
    "\n",
    "def samples_label_get_first(df_input):\n",
    "    \n",
    "    k = thresholdd\n",
    "    input_cols = label_col\n",
    "    \n",
    "    \n",
    "    # takes a df\n",
    "    # Put your inputs into a single list\n",
    "    \n",
    "    df = pd.DataFrame()\n",
    "    \n",
    "    df['single_input_vector'] = df_input.sort_values(by=['HeartBeatTime'])[input_cols].head(1).apply(tuple, axis=1).apply(list)\n",
    "    \n",
    "    # Double-encapsulate list so that you can sum it in the next step and keep time steps as separate elements\n",
    "    df['single_input_vector'] = df.single_input_vector.apply(lambda x: [list(x)])\n",
    "        \n",
    "    # The starting point\n",
    "    df['cumulative_input_vectors'] = df['single_input_vector'].shift(0)\n",
    "    \n",
    "    for i in range(1,k):\n",
    "        df['cumulative_input_vectors'] += df['single_input_vector'].shift(i)\n",
    "          \n",
    "    df.dropna(inplace=True)     # does operation in place & returns None\n",
    "\n",
    "    # Extract your training data\n",
    "    X_ = np.asarray(df.cumulative_input_vectors)\n",
    "    \n",
    "    # Use hstack to and reshape to make the inputs a 3d vector\n",
    "    X = np.vstack(X_).reshape(len(df), k, len(input_cols))\n",
    "    \n",
    "    # Clean up\n",
    "    del df\n",
    "    \n",
    "    return X\n",
    "    # returns 3D array"
   ]
  },
  {
   "cell_type": "code",
   "execution_count": 3,
   "metadata": {
    "collapsed": true
   },
   "outputs": [],
   "source": [
    "# Takes a df and converts it to 3D tensor\n",
    "# Each sample will have k time steps\n",
    "\n",
    "def samples_features_get_first(df_input):\n",
    "    \n",
    "    k = thresholdd\n",
    "    input_cols = train_feat\n",
    "    \n",
    "    # takes a df\n",
    "    # Put your inputs into a single list\n",
    "    \n",
    "    df = pd.DataFrame()\n",
    "    \n",
    "    df['single_input_vector'] = df_input.sort_values(by=['HeartBeatTime'])[input_cols].head(1).apply(tuple, axis=1).apply(list)\n",
    "    \n",
    "    # Double-encapsulate list so that you can sum it in the next step and keep time steps as separate elements\n",
    "    df['single_input_vector'] = df.single_input_vector.apply(lambda x: [list(x)])\n",
    "        \n",
    "    # The starting point\n",
    "    df['cumulative_input_vectors'] = df['single_input_vector'].shift(0)\n",
    "    \n",
    "    for i in range(1,k):\n",
    "        df['cumulative_input_vectors'] += df['single_input_vector'].shift(i)\n",
    "          \n",
    "    df.dropna(inplace=True)     # does operation in place & returns None\n",
    "\n",
    "    # Extract your training data\n",
    "    X_ = np.asarray(df.cumulative_input_vectors)\n",
    "    \n",
    "    # Use hstack to and reshape to make the inputs a 3d vector\n",
    "    X = np.vstack(X_).reshape(len(df), k, len(input_cols))\n",
    "    \n",
    "    # Clean up\n",
    "    del df\n",
    "    \n",
    "    return X\n",
    "    # returns 3D array"
   ]
  },
  {
   "cell_type": "code",
   "execution_count": 5,
   "metadata": {
    "collapsed": true
   },
   "outputs": [],
   "source": [
    "# Label Column ('Status_Failed' is the label column)\n",
    "label_col = ['Status_Failed']"
   ]
  },
  {
   "cell_type": "code",
   "execution_count": 6,
   "metadata": {
    "collapsed": true,
    "scrolled": true
   },
   "outputs": [],
   "source": [
    "thresholdd=1 #Check it matched the title"
   ]
  },
  {
   "cell_type": "code",
   "execution_count": 7,
   "metadata": {
    "collapsed": true
   },
   "outputs": [],
   "source": [
    "##################################################"
   ]
  },
  {
   "cell_type": "code",
   "execution_count": 8,
   "metadata": {
    "collapsed": true
   },
   "outputs": [],
   "source": [
    "import pickle\n",
    "with open('mega_training_features.pickle', 'rb') as handle:\n",
    "    train_feat = pickle.load(handle)"
   ]
  },
  {
   "cell_type": "markdown",
   "metadata": {},
   "source": [
    "## Cleaned df to 3D tensor"
   ]
  },
  {
   "cell_type": "markdown",
   "metadata": {},
   "source": [
    "### Make X"
   ]
  },
  {
   "cell_type": "code",
   "execution_count": 9,
   "metadata": {
    "collapsed": true
   },
   "outputs": [],
   "source": [
    "import pandas as pd\n",
    "from joblib import Parallel, delayed\n",
    "import multiprocessing\n",
    "\n",
    "multiprocessing.cpu_count()\n",
    "\n",
    "def applyParallel(dfGrouped, func):\n",
    "    retLst = Parallel(n_jobs=multiprocessing.cpu_count())(delayed(func)(group) for name, group in dfGrouped)\n",
    "    return retLst"
   ]
  },
  {
   "cell_type": "code",
   "execution_count": 10,
   "metadata": {
    "collapsed": true
   },
   "outputs": [],
   "source": [
    "# Label Column ('Status_Failed' is the label column)\n",
    "label_col = ['Status_Failed']"
   ]
  },
  {
   "cell_type": "code",
   "execution_count": 11,
   "metadata": {},
   "outputs": [
    {
     "data": {
      "text/plain": [
       "[0, 1, 4, 9, 16, 25, 36, 49, 64, 81]"
      ]
     },
     "execution_count": 11,
     "metadata": {},
     "output_type": "execute_result"
    }
   ],
   "source": [
    "def cv(x):\n",
    "    return x * x\n",
    "\n",
    "applyParallel([(b,b) for b in range(10)], cv)"
   ]
  },
  {
   "cell_type": "markdown",
   "metadata": {},
   "source": [
    "#### Build Y (each job separately)"
   ]
  },
  {
   "cell_type": "code",
   "execution_count": 12,
   "metadata": {},
   "outputs": [
    {
     "data": {
      "text/plain": [
       "['Status_Failed']"
      ]
     },
     "execution_count": 12,
     "metadata": {},
     "output_type": "execute_result"
    }
   ],
   "source": [
    "label_col"
   ]
  },
  {
   "cell_type": "markdown",
   "metadata": {},
   "source": [
    "# Start: Build test set from 'takeoutdf'"
   ]
  },
  {
   "cell_type": "markdown",
   "metadata": {},
   "source": [
    "## Build X_test, Y_test using each JobID separately"
   ]
  },
  {
   "cell_type": "code",
   "execution_count": 13,
   "metadata": {},
   "outputs": [
    {
     "data": {
      "text/plain": [
       "(8778415, 88)"
      ]
     },
     "execution_count": 13,
     "metadata": {},
     "output_type": "execute_result"
    }
   ],
   "source": [
    "takeoutdf = pd.read_pickle('mega_takeoutdf_for_testing.pickle')\n",
    "takeoutdf.shape"
   ]
  },
  {
   "cell_type": "code",
   "execution_count": 14,
   "metadata": {},
   "outputs": [
    {
     "data": {
      "text/plain": [
       "0    5544201\n",
       "1    3234214\n",
       "Name: Status_Failed, dtype: int64"
      ]
     },
     "execution_count": 14,
     "metadata": {},
     "output_type": "execute_result"
    }
   ],
   "source": [
    "takeoutdf.Status_Failed.value_counts()"
   ]
  },
  {
   "cell_type": "code",
   "execution_count": 15,
   "metadata": {
    "collapsed": true
   },
   "outputs": [],
   "source": [
    "# Training Features"
   ]
  },
  {
   "cell_type": "code",
   "execution_count": 16,
   "metadata": {},
   "outputs": [
    {
     "name": "stdout",
     "output_type": "stream",
     "text": [
      "84\n"
     ]
    }
   ],
   "source": [
    "print(len(train_feat)) "
   ]
  },
  {
   "cell_type": "code",
   "execution_count": 17,
   "metadata": {
    "scrolled": false
   },
   "outputs": [
    {
     "data": {
      "text/plain": [
       "['AvailableDiskSpace',\n",
       " 'CPUConsumed',\n",
       " 'LoadAverage',\n",
       " 'MemoryUsed',\n",
       " 'RSS',\n",
       " 'Vsize',\n",
       " 'RescheduleCounter',\n",
       " 'JobType_MCProduction',\n",
       " 'JobType_MCProductionBGx0',\n",
       " 'JobType_Merge',\n",
       " 'JobType_Test',\n",
       " 'JobType_User',\n",
       " 'Site_ARC.DESY.de',\n",
       " 'Site_ARC.KIT.de',\n",
       " 'Site_ARC.LMU2.de',\n",
       " 'Site_ARC.MPPMU.de',\n",
       " 'Site_ARC.SIGNET.si',\n",
       " 'Site_CLOUD.AWS_Sydney.au',\n",
       " 'Site_CLOUD.AWS_Tokyo.jp',\n",
       " 'Site_CLOUD.AWS_Virginia.us',\n",
       " 'Site_CLOUD.CC1_Krakow.pl',\n",
       " 'Site_DIRAC.BINP.ru',\n",
       " 'Site_DIRAC.Beihang.cn',\n",
       " 'Site_DIRAC.CINVESTAV.mx',\n",
       " 'Site_DIRAC.DESY.de',\n",
       " 'Site_DIRAC.Hokudai.jp',\n",
       " 'Site_DIRAC.IITG.in',\n",
       " 'Site_DIRAC.MIPT.ru',\n",
       " 'Site_DIRAC.NDU.jp',\n",
       " 'Site_DIRAC.Nagoya.jp',\n",
       " 'Site_DIRAC.Nara-WU.jp',\n",
       " 'Site_DIRAC.Niigata.jp',\n",
       " 'Site_DIRAC.Osaka-CU.jp',\n",
       " 'Site_DIRAC.PNNL.us',\n",
       " 'Site_DIRAC.PNNL2.us',\n",
       " 'Site_DIRAC.RCNP.jp',\n",
       " 'Site_DIRAC.SSU.kr',\n",
       " 'Site_DIRAC.TIFR.in',\n",
       " 'Site_DIRAC.TMU.jp',\n",
       " 'Site_DIRAC.Test.jp',\n",
       " 'Site_DIRAC.Tokyo.jp',\n",
       " 'Site_DIRAC.UAS.mx',\n",
       " 'Site_DIRAC.UVic.ca',\n",
       " 'Site_DIRAC.Yamagata.jp',\n",
       " 'Site_DIRAC.Yonsei.kr',\n",
       " 'Site_Group.DESY.de',\n",
       " 'Site_Group.KEK.jp',\n",
       " 'Site_Group.KEK2.jp',\n",
       " 'Site_Group.PNNL.us',\n",
       " 'Site_LCG.CESNET.cz',\n",
       " 'Site_LCG.CNAF.it',\n",
       " 'Site_LCG.CYFRONET.pl',\n",
       " 'Site_LCG.Cosenza.it',\n",
       " 'Site_LCG.DESY.de',\n",
       " 'Site_LCG.Frascati.it',\n",
       " 'Site_LCG.HEPHY.at',\n",
       " 'Site_LCG.KEK.jp',\n",
       " 'Site_LCG.KEK2.jp',\n",
       " 'Site_LCG.KISTI.kr',\n",
       " 'Site_LCG.KIT.de',\n",
       " 'Site_LCG.KMI.jp',\n",
       " 'Site_LCG.Legnaro.it',\n",
       " 'Site_LCG.MPPMU.de',\n",
       " 'Site_LCG.McGill.ca',\n",
       " 'Site_LCG.Melbourne.au',\n",
       " 'Site_LCG.NCHC.tw',\n",
       " 'Site_LCG.NTU.tw',\n",
       " 'Site_LCG.Napoli.it',\n",
       " 'Site_LCG.Pisa.it',\n",
       " 'Site_LCG.Roma3.it',\n",
       " 'Site_LCG.Torino.it',\n",
       " 'Site_LCG.ULAKBIM.tr',\n",
       " 'Site_Multiple',\n",
       " 'Site_OSG.UMiss.us',\n",
       " 'Site_SSH.KMI.jp',\n",
       " 'UserPriority_1',\n",
       " 'UserPriority_2',\n",
       " 'UserPriority_3',\n",
       " 'UserPriority_4',\n",
       " 'UserPriority_5',\n",
       " 'UserPriority_6',\n",
       " 'UserPriority_7',\n",
       " 'UserPriority_9',\n",
       " 'UserPriority_10']"
      ]
     },
     "execution_count": 17,
     "metadata": {},
     "output_type": "execute_result"
    }
   ],
   "source": [
    "(train_feat)"
   ]
  },
  {
   "cell_type": "code",
   "execution_count": 18,
   "metadata": {},
   "outputs": [
    {
     "name": "stdout",
     "output_type": "stream",
     "text": [
      "['Status_Failed']\n"
     ]
    }
   ],
   "source": [
    "# Label Column ('Status_Failed' is the label column)\n",
    "print(label_col)"
   ]
  },
  {
   "cell_type": "code",
   "execution_count": 19,
   "metadata": {},
   "outputs": [
    {
     "data": {
      "text/plain": [
       "(8778415, 88)"
      ]
     },
     "execution_count": 19,
     "metadata": {},
     "output_type": "execute_result"
    }
   ],
   "source": [
    "takeoutdf.shape"
   ]
  },
  {
   "cell_type": "code",
   "execution_count": 20,
   "metadata": {},
   "outputs": [
    {
     "data": {
      "text/plain": [
       "0"
      ]
     },
     "execution_count": 20,
     "metadata": {},
     "output_type": "execute_result"
    }
   ],
   "source": [
    "takeoutdf.isnull().values.ravel().sum()"
   ]
  },
  {
   "cell_type": "code",
   "execution_count": 21,
   "metadata": {
    "collapsed": true
   },
   "outputs": [],
   "source": [
    "takeoutdf = takeoutdf.dropna()"
   ]
  },
  {
   "cell_type": "code",
   "execution_count": 22,
   "metadata": {
    "scrolled": true
   },
   "outputs": [
    {
     "data": {
      "text/plain": [
       "0"
      ]
     },
     "execution_count": 22,
     "metadata": {},
     "output_type": "execute_result"
    }
   ],
   "source": [
    "takeoutdf.isnull().values.ravel().sum()"
   ]
  },
  {
   "cell_type": "code",
   "execution_count": 23,
   "metadata": {},
   "outputs": [
    {
     "data": {
      "text/plain": [
       "Index(['JobID', 'HeartBeatTime', 'AvailableDiskSpace', 'CPUConsumed',\n",
       "       'LoadAverage', 'MemoryUsed', 'RSS', 'Vsize', 'WallClockTime',\n",
       "       'RescheduleCounter', 'JobType_MCProduction', 'JobType_MCProductionBGx0',\n",
       "       'JobType_Merge', 'JobType_Test', 'JobType_User', 'Site_ARC.DESY.de',\n",
       "       'Site_ARC.KIT.de', 'Site_ARC.LMU2.de', 'Site_ARC.MPPMU.de',\n",
       "       'Site_ARC.SIGNET.si', 'Site_CLOUD.AWS_Sydney.au',\n",
       "       'Site_CLOUD.AWS_Tokyo.jp', 'Site_CLOUD.AWS_Virginia.us',\n",
       "       'Site_CLOUD.CC1_Krakow.pl', 'Site_DIRAC.BINP.ru',\n",
       "       'Site_DIRAC.Beihang.cn', 'Site_DIRAC.CINVESTAV.mx',\n",
       "       'Site_DIRAC.DESY.de', 'Site_DIRAC.Hokudai.jp', 'Site_DIRAC.IITG.in',\n",
       "       'Site_DIRAC.MIPT.ru', 'Site_DIRAC.NDU.jp', 'Site_DIRAC.Nagoya.jp',\n",
       "       'Site_DIRAC.Nara-WU.jp', 'Site_DIRAC.Niigata.jp',\n",
       "       'Site_DIRAC.Osaka-CU.jp', 'Site_DIRAC.PNNL.us', 'Site_DIRAC.PNNL2.us',\n",
       "       'Site_DIRAC.RCNP.jp', 'Site_DIRAC.SSU.kr', 'Site_DIRAC.TIFR.in',\n",
       "       'Site_DIRAC.TMU.jp', 'Site_DIRAC.Test.jp', 'Site_DIRAC.Tokyo.jp',\n",
       "       'Site_DIRAC.UAS.mx', 'Site_DIRAC.UVic.ca', 'Site_DIRAC.Yamagata.jp',\n",
       "       'Site_DIRAC.Yonsei.kr', 'Site_Group.DESY.de', 'Site_Group.KEK.jp',\n",
       "       'Site_Group.KEK2.jp', 'Site_Group.PNNL.us', 'Site_LCG.CESNET.cz',\n",
       "       'Site_LCG.CNAF.it', 'Site_LCG.CYFRONET.pl', 'Site_LCG.Cosenza.it',\n",
       "       'Site_LCG.DESY.de', 'Site_LCG.Frascati.it', 'Site_LCG.HEPHY.at',\n",
       "       'Site_LCG.KEK.jp', 'Site_LCG.KEK2.jp', 'Site_LCG.KISTI.kr',\n",
       "       'Site_LCG.KIT.de', 'Site_LCG.KMI.jp', 'Site_LCG.Legnaro.it',\n",
       "       'Site_LCG.MPPMU.de', 'Site_LCG.McGill.ca', 'Site_LCG.Melbourne.au',\n",
       "       'Site_LCG.NCHC.tw', 'Site_LCG.NTU.tw', 'Site_LCG.Napoli.it',\n",
       "       'Site_LCG.Pisa.it', 'Site_LCG.Roma3.it', 'Site_LCG.Torino.it',\n",
       "       'Site_LCG.ULAKBIM.tr', 'Site_Multiple', 'Site_OSG.UMiss.us',\n",
       "       'Site_SSH.KMI.jp', 'Status_Failed', 'UserPriority_1', 'UserPriority_2',\n",
       "       'UserPriority_3', 'UserPriority_4', 'UserPriority_5', 'UserPriority_6',\n",
       "       'UserPriority_7', 'UserPriority_9', 'UserPriority_10'],\n",
       "      dtype='object')"
      ]
     },
     "execution_count": 23,
     "metadata": {},
     "output_type": "execute_result"
    }
   ],
   "source": [
    "takeoutdf.columns"
   ]
  },
  {
   "cell_type": "markdown",
   "metadata": {},
   "source": [
    "###  Make X_test"
   ]
  },
  {
   "cell_type": "code",
   "execution_count": 24,
   "metadata": {
    "collapsed": true
   },
   "outputs": [],
   "source": [
    "takeoutdfgrouped = takeoutdf.groupby('JobID')"
   ]
  },
  {
   "cell_type": "code",
   "execution_count": 25,
   "metadata": {},
   "outputs": [
    {
     "name": "stdout",
     "output_type": "stream",
     "text": [
      "CPU times: user 14min 47s, sys: 37.8 s, total: 15min 25s\n",
      "Wall time: 18min 23s\n"
     ]
    }
   ],
   "source": [
    "%%time\n",
    "collectXtest = applyParallel(takeoutdfgrouped, samples_features_get_first)"
   ]
  },
  {
   "cell_type": "code",
   "execution_count": 26,
   "metadata": {},
   "outputs": [
    {
     "name": "stdout",
     "output_type": "stream",
     "text": [
      "41720187 Lengths NOT match\n",
      "39742890 Lengths NOT match\n",
      "44958036 Lengths NOT match\n",
      "44940148 Lengths NOT match\n",
      "47806264 Lengths NOT match\n",
      "40002264 Lengths NOT match\n",
      "37638669 Lengths NOT match\n",
      "34264536 Lengths NOT match\n",
      "41976333 Lengths NOT match\n",
      "47899623 Lengths NOT match\n",
      "42044174 Lengths NOT match\n",
      "47214106 Lengths NOT match\n",
      "41507497 Lengths NOT match\n",
      "43320991 Lengths NOT match\n",
      "37433649 Lengths NOT match\n",
      "33122653 Lengths NOT match\n",
      "47533576 Lengths NOT match\n",
      "43049427 Lengths NOT match\n",
      "41535916 Lengths NOT match\n",
      "37560775 Lengths NOT match\n"
     ]
    }
   ],
   "source": [
    "# Testcase 1 of function sample_features:\n",
    "\n",
    "check = 0\n",
    "j_checks = takeoutdf.JobID.sample(20)\n",
    "\n",
    "for k in j_checks:\n",
    "    \n",
    "    v = takeoutdfgrouped.get_group(k)\n",
    "    \n",
    "    if(True):\n",
    "        #print(v.columns.tolist())\n",
    "        A = np.array(v)\n",
    "        #print(train_feat)\n",
    "        B = samples_features_get_first(v)\n",
    "        check += 1\n",
    "        \n",
    "        if(len(A) == len(B)):\n",
    "            print(k, 'Lengths match', len(A), len(B))\n",
    "        else:\n",
    "            print(k, 'Lengths NOT match')\n",
    "                \n",
    "        \n",
    "        # Tests\n",
    "        for x,y in zip(A,B):\n",
    "            #print(x)\n",
    "            #print(y)\n",
    "            \n",
    "            if not (np.all([ m==n for (m,n) in zip(x[2:8] , y[0][0:6]) ])):\n",
    "                print(k, 'NOK')\n",
    "                \n",
    "    if(check == len(j_checks)):\n",
    "        break"
   ]
  },
  {
   "cell_type": "code",
   "execution_count": 27,
   "metadata": {},
   "outputs": [
    {
     "data": {
      "text/html": [
       "<div>\n",
       "<style scoped>\n",
       "    .dataframe tbody tr th:only-of-type {\n",
       "        vertical-align: middle;\n",
       "    }\n",
       "\n",
       "    .dataframe tbody tr th {\n",
       "        vertical-align: top;\n",
       "    }\n",
       "\n",
       "    .dataframe thead th {\n",
       "        text-align: right;\n",
       "    }\n",
       "</style>\n",
       "<table border=\"1\" class=\"dataframe\">\n",
       "  <thead>\n",
       "    <tr style=\"text-align: right;\">\n",
       "      <th></th>\n",
       "      <th>JobID</th>\n",
       "      <th>HeartBeatTime</th>\n",
       "      <th>AvailableDiskSpace</th>\n",
       "      <th>CPUConsumed</th>\n",
       "      <th>LoadAverage</th>\n",
       "      <th>MemoryUsed</th>\n",
       "      <th>RSS</th>\n",
       "      <th>Vsize</th>\n",
       "      <th>WallClockTime</th>\n",
       "      <th>RescheduleCounter</th>\n",
       "      <th>...</th>\n",
       "      <th>Status_Failed</th>\n",
       "      <th>UserPriority_1</th>\n",
       "      <th>UserPriority_2</th>\n",
       "      <th>UserPriority_3</th>\n",
       "      <th>UserPriority_4</th>\n",
       "      <th>UserPriority_5</th>\n",
       "      <th>UserPriority_6</th>\n",
       "      <th>UserPriority_7</th>\n",
       "      <th>UserPriority_9</th>\n",
       "      <th>UserPriority_10</th>\n",
       "    </tr>\n",
       "  </thead>\n",
       "  <tbody>\n",
       "    <tr>\n",
       "      <th>1</th>\n",
       "      <td>23141083</td>\n",
       "      <td>2015-08-07 13:29:48</td>\n",
       "      <td>0.000076</td>\n",
       "      <td>0.000030</td>\n",
       "      <td>0.000501</td>\n",
       "      <td>0.041367</td>\n",
       "      <td>0.000670</td>\n",
       "      <td>0.000016</td>\n",
       "      <td>0.000010</td>\n",
       "      <td>0</td>\n",
       "      <td>...</td>\n",
       "      <td>1</td>\n",
       "      <td>0</td>\n",
       "      <td>0</td>\n",
       "      <td>0</td>\n",
       "      <td>0</td>\n",
       "      <td>0</td>\n",
       "      <td>0</td>\n",
       "      <td>0</td>\n",
       "      <td>0</td>\n",
       "      <td>0</td>\n",
       "    </tr>\n",
       "    <tr>\n",
       "      <th>42</th>\n",
       "      <td>23205643</td>\n",
       "      <td>2015-08-08 22:50:00</td>\n",
       "      <td>0.000030</td>\n",
       "      <td>0.000030</td>\n",
       "      <td>0.000508</td>\n",
       "      <td>0.047930</td>\n",
       "      <td>0.000305</td>\n",
       "      <td>0.000007</td>\n",
       "      <td>0.000012</td>\n",
       "      <td>0</td>\n",
       "      <td>...</td>\n",
       "      <td>1</td>\n",
       "      <td>0</td>\n",
       "      <td>0</td>\n",
       "      <td>0</td>\n",
       "      <td>0</td>\n",
       "      <td>0</td>\n",
       "      <td>0</td>\n",
       "      <td>0</td>\n",
       "      <td>0</td>\n",
       "      <td>0</td>\n",
       "    </tr>\n",
       "    <tr>\n",
       "      <th>43</th>\n",
       "      <td>23205643</td>\n",
       "      <td>2015-08-08 23:20:01</td>\n",
       "      <td>0.000030</td>\n",
       "      <td>0.006463</td>\n",
       "      <td>0.000551</td>\n",
       "      <td>0.049164</td>\n",
       "      <td>0.004673</td>\n",
       "      <td>0.000025</td>\n",
       "      <td>0.007010</td>\n",
       "      <td>0</td>\n",
       "      <td>...</td>\n",
       "      <td>1</td>\n",
       "      <td>0</td>\n",
       "      <td>0</td>\n",
       "      <td>0</td>\n",
       "      <td>0</td>\n",
       "      <td>0</td>\n",
       "      <td>0</td>\n",
       "      <td>0</td>\n",
       "      <td>0</td>\n",
       "      <td>0</td>\n",
       "    </tr>\n",
       "    <tr>\n",
       "      <th>44</th>\n",
       "      <td>23205643</td>\n",
       "      <td>2015-08-08 23:50:00</td>\n",
       "      <td>0.000030</td>\n",
       "      <td>0.013179</td>\n",
       "      <td>0.000551</td>\n",
       "      <td>0.050041</td>\n",
       "      <td>0.004786</td>\n",
       "      <td>0.000027</td>\n",
       "      <td>0.013997</td>\n",
       "      <td>0</td>\n",
       "      <td>...</td>\n",
       "      <td>1</td>\n",
       "      <td>0</td>\n",
       "      <td>0</td>\n",
       "      <td>0</td>\n",
       "      <td>0</td>\n",
       "      <td>0</td>\n",
       "      <td>0</td>\n",
       "      <td>0</td>\n",
       "      <td>0</td>\n",
       "      <td>0</td>\n",
       "    </tr>\n",
       "  </tbody>\n",
       "</table>\n",
       "<p>4 rows × 88 columns</p>\n",
       "</div>"
      ],
      "text/plain": [
       "       JobID       HeartBeatTime  AvailableDiskSpace  CPUConsumed  \\\n",
       "1   23141083 2015-08-07 13:29:48            0.000076     0.000030   \n",
       "42  23205643 2015-08-08 22:50:00            0.000030     0.000030   \n",
       "43  23205643 2015-08-08 23:20:01            0.000030     0.006463   \n",
       "44  23205643 2015-08-08 23:50:00            0.000030     0.013179   \n",
       "\n",
       "    LoadAverage  MemoryUsed       RSS     Vsize  WallClockTime  \\\n",
       "1      0.000501    0.041367  0.000670  0.000016       0.000010   \n",
       "42     0.000508    0.047930  0.000305  0.000007       0.000012   \n",
       "43     0.000551    0.049164  0.004673  0.000025       0.007010   \n",
       "44     0.000551    0.050041  0.004786  0.000027       0.013997   \n",
       "\n",
       "    RescheduleCounter       ...         Status_Failed  UserPriority_1  \\\n",
       "1                   0       ...                     1               0   \n",
       "42                  0       ...                     1               0   \n",
       "43                  0       ...                     1               0   \n",
       "44                  0       ...                     1               0   \n",
       "\n",
       "    UserPriority_2  UserPriority_3  UserPriority_4  UserPriority_5  \\\n",
       "1                0               0               0               0   \n",
       "42               0               0               0               0   \n",
       "43               0               0               0               0   \n",
       "44               0               0               0               0   \n",
       "\n",
       "    UserPriority_6  UserPriority_7  UserPriority_9  UserPriority_10  \n",
       "1                0               0               0                0  \n",
       "42               0               0               0                0  \n",
       "43               0               0               0                0  \n",
       "44               0               0               0                0  \n",
       "\n",
       "[4 rows x 88 columns]"
      ]
     },
     "execution_count": 27,
     "metadata": {},
     "output_type": "execute_result"
    }
   ],
   "source": [
    "takeoutdf.head(4)"
   ]
  },
  {
   "cell_type": "code",
   "execution_count": 28,
   "metadata": {},
   "outputs": [
    {
     "data": {
      "text/plain": [
       "(1, 1, 84)"
      ]
     },
     "execution_count": 28,
     "metadata": {},
     "output_type": "execute_result"
    }
   ],
   "source": [
    "collectXtest[100].shape"
   ]
  },
  {
   "cell_type": "markdown",
   "metadata": {},
   "source": [
    "### Unpack X_test"
   ]
  },
  {
   "cell_type": "code",
   "execution_count": 29,
   "metadata": {
    "collapsed": true
   },
   "outputs": [],
   "source": [
    "X_test=[]"
   ]
  },
  {
   "cell_type": "code",
   "execution_count": 30,
   "metadata": {},
   "outputs": [
    {
     "name": "stdout",
     "output_type": "stream",
     "text": [
      "CPU times: user 1.64 s, sys: 304 ms, total: 1.95 s\n",
      "Wall time: 1.95 s\n"
     ]
    }
   ],
   "source": [
    "%%time\n",
    "for x in collectXtest:\n",
    "    #len(x)\n",
    "    for i in x:\n",
    "        X_test.append(i)"
   ]
  },
  {
   "cell_type": "code",
   "execution_count": 31,
   "metadata": {},
   "outputs": [
    {
     "data": {
      "text/plain": [
       "(801845, 1, 84)"
      ]
     },
     "execution_count": 31,
     "metadata": {},
     "output_type": "execute_result"
    }
   ],
   "source": [
    "import numpy as np\n",
    "X_test = np.array(X_test)\n",
    "X_test.shape"
   ]
  },
  {
   "cell_type": "code",
   "execution_count": 32,
   "metadata": {
    "collapsed": true
   },
   "outputs": [],
   "source": [
    "## X_test is ready"
   ]
  },
  {
   "cell_type": "markdown",
   "metadata": {},
   "source": [
    "### Make Y_test"
   ]
  },
  {
   "cell_type": "code",
   "execution_count": 33,
   "metadata": {},
   "outputs": [
    {
     "name": "stdout",
     "output_type": "stream",
     "text": [
      "CPU times: user 15min 26s, sys: 1min 2s, total: 16min 28s\n",
      "Wall time: 20min 48s\n"
     ]
    }
   ],
   "source": [
    "%%time\n",
    "collecttestlabel = applyParallel(takeoutdfgrouped, samples_label_get_first)"
   ]
  },
  {
   "cell_type": "code",
   "execution_count": 34,
   "metadata": {},
   "outputs": [
    {
     "data": {
      "text/plain": [
       "801845"
      ]
     },
     "execution_count": 34,
     "metadata": {},
     "output_type": "execute_result"
    }
   ],
   "source": [
    "len(collecttestlabel)"
   ]
  },
  {
   "cell_type": "markdown",
   "metadata": {},
   "source": [
    "### Unpack Y_test"
   ]
  },
  {
   "cell_type": "code",
   "execution_count": 35,
   "metadata": {
    "collapsed": true
   },
   "outputs": [],
   "source": [
    "Y_t=[]"
   ]
  },
  {
   "cell_type": "code",
   "execution_count": 36,
   "metadata": {},
   "outputs": [
    {
     "name": "stdout",
     "output_type": "stream",
     "text": [
      "CPU times: user 1.54 s, sys: 124 ms, total: 1.67 s\n",
      "Wall time: 1.67 s\n"
     ]
    }
   ],
   "source": [
    "%%time\n",
    "for x in collecttestlabel:\n",
    "    #len(x)\n",
    "    for i in x:\n",
    "        Y_t.append(i)"
   ]
  },
  {
   "cell_type": "code",
   "execution_count": 37,
   "metadata": {},
   "outputs": [
    {
     "data": {
      "text/plain": [
       "(801845, 1, 1)"
      ]
     },
     "execution_count": 37,
     "metadata": {},
     "output_type": "execute_result"
    }
   ],
   "source": [
    "Y_t = np.array(Y_t)\n",
    "Y_t.shape"
   ]
  },
  {
   "cell_type": "code",
   "execution_count": 38,
   "metadata": {},
   "outputs": [
    {
     "data": {
      "text/plain": [
       "(801845, 1)"
      ]
     },
     "execution_count": 38,
     "metadata": {},
     "output_type": "execute_result"
    }
   ],
   "source": [
    "Y_test = np.array([x[0][0] for x in Y_t]).reshape(len(Y_t),1)\n",
    "Y_test.shape"
   ]
  },
  {
   "cell_type": "code",
   "execution_count": 39,
   "metadata": {
    "scrolled": true
   },
   "outputs": [
    {
     "data": {
      "text/plain": [
       "array([[1],\n",
       "       [1],\n",
       "       [1],\n",
       "       [1],\n",
       "       [1]])"
      ]
     },
     "execution_count": 39,
     "metadata": {},
     "output_type": "execute_result"
    }
   ],
   "source": [
    "Y_test[:5]"
   ]
  },
  {
   "cell_type": "code",
   "execution_count": 40,
   "metadata": {
    "collapsed": true
   },
   "outputs": [],
   "source": [
    "## Y_test is ready"
   ]
  },
  {
   "cell_type": "code",
   "execution_count": 41,
   "metadata": {},
   "outputs": [
    {
     "data": {
      "text/plain": [
       "((801845, 1, 84), (801845, 1))"
      ]
     },
     "execution_count": 41,
     "metadata": {},
     "output_type": "execute_result"
    }
   ],
   "source": [
    "X_test.shape, Y_test.shape"
   ]
  },
  {
   "cell_type": "code",
   "execution_count": 42,
   "metadata": {},
   "outputs": [
    {
     "data": {
      "text/plain": [
       "array([0.47167221])"
      ]
     },
     "execution_count": 42,
     "metadata": {},
     "output_type": "execute_result"
    }
   ],
   "source": [
    "sum(Y_test[:])/len(Y_test)"
   ]
  },
  {
   "cell_type": "code",
   "execution_count": 43,
   "metadata": {
    "collapsed": true
   },
   "outputs": [],
   "source": [
    "del Y_t"
   ]
  },
  {
   "cell_type": "markdown",
   "metadata": {},
   "source": [
    "# End test set from 'takeoutdf'"
   ]
  },
  {
   "cell_type": "markdown",
   "metadata": {},
   "source": [
    "## Build Model"
   ]
  },
  {
   "cell_type": "code",
   "execution_count": 44,
   "metadata": {
    "collapsed": true
   },
   "outputs": [],
   "source": [
    "input_length = X_test.shape[1]\n",
    "\n",
    "input_dim = X_test.shape[2]\n",
    "\n",
    "# Output dimensions is the shape of a single output vector\n",
    "# In this case it's just 1, but it could be more\n",
    "output_dim = len(Y_test[0])"
   ]
  },
  {
   "cell_type": "code",
   "execution_count": 45,
   "metadata": {},
   "outputs": [
    {
     "name": "stderr",
     "output_type": "stream",
     "text": [
      "/data/home/a1singh/anaconda3/envs/keras/lib/python3.5/site-packages/h5py/__init__.py:36: FutureWarning: Conversion of the second argument of issubdtype from `float` to `np.floating` is deprecated. In future, it will be treated as `np.float64 == np.dtype(float).type`.\n",
      "  from ._conv import register_converters as _register_converters\n",
      "Using TensorFlow backend.\n"
     ]
    },
    {
     "data": {
      "text/plain": [
       "(84, 1, 1)"
      ]
     },
     "execution_count": 45,
     "metadata": {},
     "output_type": "execute_result"
    }
   ],
   "source": [
    "from keras.models import Model, Sequential\n",
    "from keras.layers import LSTM, Dense, Embedding, Dropout\n",
    "input_dim, input_length, output_dim"
   ]
  },
  {
   "cell_type": "markdown",
   "metadata": {},
   "source": [
    "# Model 1: prediction only on first measurements"
   ]
  },
  {
   "cell_type": "code",
   "execution_count": 46,
   "metadata": {},
   "outputs": [
    {
     "name": "stdout",
     "output_type": "stream",
     "text": [
      "801845/801845 [==============================] - 52s 65us/step\n",
      "0.448157822674084 0.7879777263687112\n"
     ]
    }
   ],
   "source": [
    "from keras.models import load_model\n",
    "model1 = load_model('mega_model1.pickle')\n",
    "loss, accuracy = model1.evaluate(X_test, Y_test)\n",
    "print(loss, accuracy)"
   ]
  },
  {
   "cell_type": "markdown",
   "metadata": {},
   "source": [
    "# Accuracy"
   ]
  },
  {
   "cell_type": "code",
   "execution_count": 47,
   "metadata": {
    "collapsed": true
   },
   "outputs": [],
   "source": [
    "y_pred = model1.predict(X_test)"
   ]
  },
  {
   "cell_type": "markdown",
   "metadata": {},
   "source": [
    "# Binary classification accuracy"
   ]
  },
  {
   "cell_type": "code",
   "execution_count": 48,
   "metadata": {
    "collapsed": true
   },
   "outputs": [],
   "source": [
    "y_true = pd.Series([x[0] for x in Y_test])\n",
    "\n",
    "# Use np.rint for rounding off \n",
    "y_predicted = pd.Series([ np.rint(j[0]) for j in y_pred])"
   ]
  },
  {
   "cell_type": "code",
   "execution_count": 49,
   "metadata": {},
   "outputs": [
    {
     "data": {
      "text/plain": [
       "0.7879777263685624"
      ]
     },
     "execution_count": 49,
     "metadata": {},
     "output_type": "execute_result"
    }
   ],
   "source": [
    "np.mean(np.equal(y_true, y_predicted))"
   ]
  },
  {
   "cell_type": "markdown",
   "metadata": {},
   "source": [
    "# Precision, Recall, fscore"
   ]
  },
  {
   "cell_type": "code",
   "execution_count": 50,
   "metadata": {
    "collapsed": true
   },
   "outputs": [],
   "source": [
    "from sklearn.metrics import precision_recall_fscore_support as score\n",
    "precision, recall, fscore, support = score(y_true, y_predicted)\n",
    "print('precision: {}'.format(precision))\n",
    "print('recall: {}'.format(recall))\n",
    "print('fscore: {}'.format(fscore))\n",
    "print('support: {}'.format(support))"
   ]
  },
  {
   "cell_type": "code",
   "execution_count": 51,
   "metadata": {
    "collapsed": true
   },
   "outputs": [],
   "source": []
  },
  {
   "cell_type": "code",
   "execution_count": 52,
   "metadata": {},
   "outputs": [
    {
     "name": "stdout",
     "output_type": "stream",
     "text": [
      "precision: [0.79354685 0.78147248]\n",
      "recall: [0.80922346 0.76418003]\n",
      "fscore: [0.80130849 0.77272952]\n",
      "support: [423637 378208]\n"
     ]
    }
   ],
   "source": []
  },
  {
   "cell_type": "markdown",
   "metadata": {},
   "source": [
    "# Confusion matrix"
   ]
  },
  {
   "cell_type": "code",
   "execution_count": 53,
   "metadata": {
    "scrolled": true
   },
   "outputs": [
    {
     "data": {
      "text/html": [
       "<div>\n",
       "<style scoped>\n",
       "    .dataframe tbody tr th:only-of-type {\n",
       "        vertical-align: middle;\n",
       "    }\n",
       "\n",
       "    .dataframe tbody tr th {\n",
       "        vertical-align: top;\n",
       "    }\n",
       "\n",
       "    .dataframe thead th {\n",
       "        text-align: right;\n",
       "    }\n",
       "</style>\n",
       "<table border=\"1\" class=\"dataframe\">\n",
       "  <thead>\n",
       "    <tr style=\"text-align: right;\">\n",
       "      <th>Predicted</th>\n",
       "      <th>0.0</th>\n",
       "      <th>1.0</th>\n",
       "      <th>All</th>\n",
       "    </tr>\n",
       "    <tr>\n",
       "      <th>True</th>\n",
       "      <th></th>\n",
       "      <th></th>\n",
       "      <th></th>\n",
       "    </tr>\n",
       "  </thead>\n",
       "  <tbody>\n",
       "    <tr>\n",
       "      <th>0</th>\n",
       "      <td>342817</td>\n",
       "      <td>80820</td>\n",
       "      <td>423637</td>\n",
       "    </tr>\n",
       "    <tr>\n",
       "      <th>1</th>\n",
       "      <td>89189</td>\n",
       "      <td>289019</td>\n",
       "      <td>378208</td>\n",
       "    </tr>\n",
       "    <tr>\n",
       "      <th>All</th>\n",
       "      <td>432006</td>\n",
       "      <td>369839</td>\n",
       "      <td>801845</td>\n",
       "    </tr>\n",
       "  </tbody>\n",
       "</table>\n",
       "</div>"
      ],
      "text/plain": [
       "Predicted     0.0     1.0     All\n",
       "True                             \n",
       "0          342817   80820  423637\n",
       "1           89189  289019  378208\n",
       "All        432006  369839  801845"
      ]
     },
     "execution_count": 53,
     "metadata": {},
     "output_type": "execute_result"
    }
   ],
   "source": [
    "pd.crosstab(y_true, y_predicted, rownames=['True'], colnames=['Predicted'], margins=True)"
   ]
  },
  {
   "cell_type": "code",
   "execution_count": 55,
   "metadata": {},
   "outputs": [
    {
     "data": {
      "text/plain": [
       "801845"
      ]
     },
     "execution_count": 55,
     "metadata": {},
     "output_type": "execute_result"
    }
   ],
   "source": [
    "len(takeoutdf.JobID.unique().tolist())"
   ]
  },
  {
   "cell_type": "code",
   "execution_count": 56,
   "metadata": {},
   "outputs": [
    {
     "data": {
      "text/plain": [
       "238995"
      ]
     },
     "execution_count": 56,
     "metadata": {},
     "output_type": "execute_result"
    }
   ],
   "source": [
    "sum(takeoutdf[\"JobID\"].value_counts()==1)"
   ]
  },
  {
   "cell_type": "code",
   "execution_count": 57,
   "metadata": {},
   "outputs": [
    {
     "data": {
      "text/plain": [
       "89189"
      ]
     },
     "execution_count": 57,
     "metadata": {},
     "output_type": "execute_result"
    }
   ],
   "source": [
    "len(X_test[(y_true==1) & (y_predicted==0)])"
   ]
  },
  {
   "cell_type": "code",
   "execution_count": 59,
   "metadata": {
    "collapsed": true
   },
   "outputs": [],
   "source": [
    "# Verify that there is no intersection between training and test jobs\n",
    "\n",
    "#list(set(takeoutdf.JobID.tolist()) & set(cleaned.JobID.tolist()))"
   ]
  },
  {
   "cell_type": "code",
   "execution_count": 60,
   "metadata": {},
   "outputs": [
    {
     "data": {
      "text/plain": [
       "(369839.0, 801845)"
      ]
     },
     "execution_count": 60,
     "metadata": {},
     "output_type": "execute_result"
    }
   ],
   "source": [
    "# Predicting all 0s ??\n",
    "sum([ (j) for j in y_predicted]), len(y_predicted)"
   ]
  },
  {
   "cell_type": "code",
   "execution_count": 61,
   "metadata": {
    "collapsed": true
   },
   "outputs": [],
   "source": [
    "#### Model 2 Start"
   ]
  },
  {
   "cell_type": "markdown",
   "metadata": {},
   "source": [
    "# Model 2"
   ]
  },
  {
   "cell_type": "code",
   "execution_count": 62,
   "metadata": {
    "collapsed": true
   },
   "outputs": [],
   "source": [
    "model2 = load_model('mega_model2.pickle')"
   ]
  },
  {
   "cell_type": "code",
   "execution_count": 63,
   "metadata": {},
   "outputs": [
    {
     "name": "stdout",
     "output_type": "stream",
     "text": [
      "801845/801845 [==============================] - 84s 104us/step\n"
     ]
    }
   ],
   "source": [
    "loss, accuracy = model2.evaluate(X_test, Y_test)"
   ]
  },
  {
   "cell_type": "markdown",
   "metadata": {},
   "source": [
    "# Accuracy"
   ]
  },
  {
   "cell_type": "code",
   "execution_count": 64,
   "metadata": {},
   "outputs": [
    {
     "data": {
      "text/plain": [
       "(0.42597377180186424, 0.7970443165451911)"
      ]
     },
     "execution_count": 64,
     "metadata": {},
     "output_type": "execute_result"
    }
   ],
   "source": [
    "loss, accuracy"
   ]
  },
  {
   "cell_type": "code",
   "execution_count": 65,
   "metadata": {
    "collapsed": true
   },
   "outputs": [],
   "source": [
    "# when taking 10 timesteps, and keeping separate test and training JobIDs\n",
    "# loss, accuracy is: \n",
    "# on X_test, Y_test"
   ]
  },
  {
   "cell_type": "code",
   "execution_count": 66,
   "metadata": {
    "collapsed": true
   },
   "outputs": [],
   "source": [
    "y_pred = model2.predict(X_test)"
   ]
  },
  {
   "cell_type": "code",
   "execution_count": 67,
   "metadata": {
    "collapsed": true
   },
   "outputs": [],
   "source": [
    "## Save"
   ]
  },
  {
   "cell_type": "markdown",
   "metadata": {},
   "source": [
    "# Binary classification accuracy"
   ]
  },
  {
   "cell_type": "code",
   "execution_count": 68,
   "metadata": {
    "collapsed": true
   },
   "outputs": [],
   "source": [
    "y_true = pd.Series([x[0] for x in Y_test])\n",
    "\n",
    "# Use np.rint for rounding off \n",
    "y_predicted = pd.Series([ np.rint(j[0]) for j in y_pred])"
   ]
  },
  {
   "cell_type": "code",
   "execution_count": 69,
   "metadata": {},
   "outputs": [
    {
     "data": {
      "text/plain": [
       "0.7970443165449682"
      ]
     },
     "execution_count": 69,
     "metadata": {},
     "output_type": "execute_result"
    }
   ],
   "source": [
    "np.mean(np.equal(y_true, y_predicted))"
   ]
  },
  {
   "cell_type": "markdown",
   "metadata": {},
   "source": [
    "# Confusion matrix"
   ]
  },
  {
   "cell_type": "code",
   "execution_count": 70,
   "metadata": {},
   "outputs": [
    {
     "data": {
      "text/html": [
       "<div>\n",
       "<style scoped>\n",
       "    .dataframe tbody tr th:only-of-type {\n",
       "        vertical-align: middle;\n",
       "    }\n",
       "\n",
       "    .dataframe tbody tr th {\n",
       "        vertical-align: top;\n",
       "    }\n",
       "\n",
       "    .dataframe thead th {\n",
       "        text-align: right;\n",
       "    }\n",
       "</style>\n",
       "<table border=\"1\" class=\"dataframe\">\n",
       "  <thead>\n",
       "    <tr style=\"text-align: right;\">\n",
       "      <th>Predicted</th>\n",
       "      <th>0.0</th>\n",
       "      <th>1.0</th>\n",
       "      <th>All</th>\n",
       "    </tr>\n",
       "    <tr>\n",
       "      <th>True</th>\n",
       "      <th></th>\n",
       "      <th></th>\n",
       "      <th></th>\n",
       "    </tr>\n",
       "  </thead>\n",
       "  <tbody>\n",
       "    <tr>\n",
       "      <th>0</th>\n",
       "      <td>350367</td>\n",
       "      <td>73270</td>\n",
       "      <td>423637</td>\n",
       "    </tr>\n",
       "    <tr>\n",
       "      <th>1</th>\n",
       "      <td>89469</td>\n",
       "      <td>288739</td>\n",
       "      <td>378208</td>\n",
       "    </tr>\n",
       "    <tr>\n",
       "      <th>All</th>\n",
       "      <td>439836</td>\n",
       "      <td>362009</td>\n",
       "      <td>801845</td>\n",
       "    </tr>\n",
       "  </tbody>\n",
       "</table>\n",
       "</div>"
      ],
      "text/plain": [
       "Predicted     0.0     1.0     All\n",
       "True                             \n",
       "0          350367   73270  423637\n",
       "1           89469  288739  378208\n",
       "All        439836  362009  801845"
      ]
     },
     "execution_count": 70,
     "metadata": {},
     "output_type": "execute_result"
    }
   ],
   "source": [
    "pd.crosstab(y_true, y_predicted, rownames=['True'], colnames=['Predicted'], margins=True)"
   ]
  },
  {
   "cell_type": "code",
   "execution_count": 73,
   "metadata": {},
   "outputs": [
    {
     "name": "stdout",
     "output_type": "stream",
     "text": [
      "precision: [0.79658555 0.79760172]\n",
      "recall: [0.82704532 0.76343969]\n",
      "fscore: [0.81152972 0.7801469 ]\n",
      "support: [423637 378208]\n"
     ]
    }
   ],
   "source": [
    "from sklearn.metrics import precision_recall_fscore_support as score\n",
    "precision, recall, fscore, support = score(y_true, y_predicted)\n",
    "print('precision: {}'.format(precision))\n",
    "print('recall: {}'.format(recall))\n",
    "print('fscore: {}'.format(fscore))\n",
    "print('support: {}'.format(support))"
   ]
  },
  {
   "cell_type": "code",
   "execution_count": 72,
   "metadata": {},
   "outputs": [
    {
     "data": {
      "text/plain": [
       "(801845,)"
      ]
     },
     "execution_count": 72,
     "metadata": {},
     "output_type": "execute_result"
    }
   ],
   "source": [
    "len(takeoutdf.JobID.unique().tolist()),"
   ]
  },
  {
   "cell_type": "code",
   "execution_count": 77,
   "metadata": {},
   "outputs": [
    {
     "data": {
      "text/plain": [
       "Index(['JobID', 'HeartBeatTime', 'AvailableDiskSpace', 'CPUConsumed',\n",
       "       'LoadAverage', 'MemoryUsed', 'RSS', 'Vsize', 'WallClockTime',\n",
       "       'RescheduleCounter', 'JobType_MCProduction', 'JobType_MCProductionBGx0',\n",
       "       'JobType_Merge', 'JobType_Test', 'JobType_User', 'Site_ARC.DESY.de',\n",
       "       'Site_ARC.KIT.de', 'Site_ARC.LMU2.de', 'Site_ARC.MPPMU.de',\n",
       "       'Site_ARC.SIGNET.si', 'Site_CLOUD.AWS_Sydney.au',\n",
       "       'Site_CLOUD.AWS_Tokyo.jp', 'Site_CLOUD.AWS_Virginia.us',\n",
       "       'Site_CLOUD.CC1_Krakow.pl', 'Site_DIRAC.BINP.ru',\n",
       "       'Site_DIRAC.Beihang.cn', 'Site_DIRAC.CINVESTAV.mx',\n",
       "       'Site_DIRAC.DESY.de', 'Site_DIRAC.Hokudai.jp', 'Site_DIRAC.IITG.in',\n",
       "       'Site_DIRAC.MIPT.ru', 'Site_DIRAC.NDU.jp', 'Site_DIRAC.Nagoya.jp',\n",
       "       'Site_DIRAC.Nara-WU.jp', 'Site_DIRAC.Niigata.jp',\n",
       "       'Site_DIRAC.Osaka-CU.jp', 'Site_DIRAC.PNNL.us', 'Site_DIRAC.PNNL2.us',\n",
       "       'Site_DIRAC.RCNP.jp', 'Site_DIRAC.SSU.kr', 'Site_DIRAC.TIFR.in',\n",
       "       'Site_DIRAC.TMU.jp', 'Site_DIRAC.Test.jp', 'Site_DIRAC.Tokyo.jp',\n",
       "       'Site_DIRAC.UAS.mx', 'Site_DIRAC.UVic.ca', 'Site_DIRAC.Yamagata.jp',\n",
       "       'Site_DIRAC.Yonsei.kr', 'Site_Group.DESY.de', 'Site_Group.KEK.jp',\n",
       "       'Site_Group.KEK2.jp', 'Site_Group.PNNL.us', 'Site_LCG.CESNET.cz',\n",
       "       'Site_LCG.CNAF.it', 'Site_LCG.CYFRONET.pl', 'Site_LCG.Cosenza.it',\n",
       "       'Site_LCG.DESY.de', 'Site_LCG.Frascati.it', 'Site_LCG.HEPHY.at',\n",
       "       'Site_LCG.KEK.jp', 'Site_LCG.KEK2.jp', 'Site_LCG.KISTI.kr',\n",
       "       'Site_LCG.KIT.de', 'Site_LCG.KMI.jp', 'Site_LCG.Legnaro.it',\n",
       "       'Site_LCG.MPPMU.de', 'Site_LCG.McGill.ca', 'Site_LCG.Melbourne.au',\n",
       "       'Site_LCG.NCHC.tw', 'Site_LCG.NTU.tw', 'Site_LCG.Napoli.it',\n",
       "       'Site_LCG.Pisa.it', 'Site_LCG.Roma3.it', 'Site_LCG.Torino.it',\n",
       "       'Site_LCG.ULAKBIM.tr', 'Site_Multiple', 'Site_OSG.UMiss.us',\n",
       "       'Site_SSH.KMI.jp', 'Status_Failed', 'UserPriority_1', 'UserPriority_2',\n",
       "       'UserPriority_3', 'UserPriority_4', 'UserPriority_5', 'UserPriority_6',\n",
       "       'UserPriority_7', 'UserPriority_9', 'UserPriority_10'],\n",
       "      dtype='object')"
      ]
     },
     "execution_count": 77,
     "metadata": {},
     "output_type": "execute_result"
    }
   ],
   "source": [
    "takeoutdf.columns"
   ]
  },
  {
   "cell_type": "code",
   "execution_count": null,
   "metadata": {
    "collapsed": true
   },
   "outputs": [],
   "source": [
    "sum(takeoutdf[\"JobID\"].value_counts()==1)"
   ]
  },
  {
   "cell_type": "code",
   "execution_count": null,
   "metadata": {
    "collapsed": true
   },
   "outputs": [],
   "source": [
    "len(X_test[(y_true==1) & (y_predicted==0)])"
   ]
  },
  {
   "cell_type": "code",
   "execution_count": null,
   "metadata": {
    "collapsed": true
   },
   "outputs": [],
   "source": [
    "# Verify that there is no intersection between training and test jobs\n",
    "\n",
    "list(set(takeoutdf.JobID.tolist()) & set(cleaned.JobID.tolist()))"
   ]
  },
  {
   "cell_type": "code",
   "execution_count": null,
   "metadata": {
    "collapsed": true
   },
   "outputs": [],
   "source": [
    "# Predicting all 0s ??\n",
    "sum([ (j) for j in y_predicted]), len(y_predicted)"
   ]
  },
  {
   "cell_type": "code",
   "execution_count": null,
   "metadata": {
    "collapsed": true
   },
   "outputs": [],
   "source": [
    "#### Model 2 End"
   ]
  },
  {
   "cell_type": "code",
   "execution_count": null,
   "metadata": {
    "collapsed": true
   },
   "outputs": [],
   "source": [
    "#### Model 3 Start"
   ]
  },
  {
   "cell_type": "markdown",
   "metadata": {},
   "source": [
    "# Model 3"
   ]
  },
  {
   "cell_type": "code",
   "execution_count": null,
   "metadata": {
    "collapsed": true
   },
   "outputs": [],
   "source": [
    "model3 = load_model('large_model3_tsteps1_features65_partII.pickle')"
   ]
  },
  {
   "cell_type": "code",
   "execution_count": null,
   "metadata": {
    "collapsed": true
   },
   "outputs": [],
   "source": [
    "loss, accuracy = model3.evaluate(X_test, Y_test)"
   ]
  },
  {
   "cell_type": "markdown",
   "metadata": {},
   "source": [
    "# Accuracy"
   ]
  },
  {
   "cell_type": "code",
   "execution_count": null,
   "metadata": {
    "collapsed": true
   },
   "outputs": [],
   "source": [
    "loss, accuracy"
   ]
  },
  {
   "cell_type": "code",
   "execution_count": null,
   "metadata": {
    "collapsed": true
   },
   "outputs": [],
   "source": [
    "y_pred = model3.predict(X_test)"
   ]
  },
  {
   "cell_type": "markdown",
   "metadata": {},
   "source": [
    "## Save Model 3"
   ]
  },
  {
   "cell_type": "markdown",
   "metadata": {},
   "source": [
    "# Binary classification accuracy"
   ]
  },
  {
   "cell_type": "code",
   "execution_count": null,
   "metadata": {
    "collapsed": true
   },
   "outputs": [],
   "source": [
    "y_true = pd.Series([x[0] for x in Y_test])\n",
    "\n",
    "# Use np.rint for rounding off \n",
    "y_predicted = pd.Series([ np.rint(j[0]) for j in y_pred])"
   ]
  },
  {
   "cell_type": "code",
   "execution_count": null,
   "metadata": {
    "collapsed": true
   },
   "outputs": [],
   "source": [
    "np.mean(np.equal(y_true, y_predicted))"
   ]
  },
  {
   "cell_type": "markdown",
   "metadata": {},
   "source": [
    "# Confusion matrix"
   ]
  },
  {
   "cell_type": "code",
   "execution_count": null,
   "metadata": {
    "collapsed": true,
    "scrolled": true
   },
   "outputs": [],
   "source": [
    "pd.crosstab(y_true, y_predicted, rownames=['True'], colnames=['Predicted'], margins=True)"
   ]
  },
  {
   "cell_type": "code",
   "execution_count": null,
   "metadata": {
    "collapsed": true
   },
   "outputs": [],
   "source": [
    "pd.crosstab(y_true, y_predicted, rownames=['True'], colnames=['Predicted'], margins=True)"
   ]
  },
  {
   "cell_type": "code",
   "execution_count": null,
   "metadata": {
    "collapsed": true
   },
   "outputs": [],
   "source": [
    "len(takeoutdf.JobID.unique().tolist()), len(cleaned.JobID.unique().tolist())"
   ]
  },
  {
   "cell_type": "code",
   "execution_count": null,
   "metadata": {
    "collapsed": true
   },
   "outputs": [],
   "source": [
    "sum(takeoutdf[\"JobID\"].value_counts()==1)"
   ]
  },
  {
   "cell_type": "code",
   "execution_count": null,
   "metadata": {
    "collapsed": true
   },
   "outputs": [],
   "source": [
    "len(X_test[(y_true==1) & (y_predicted==0)])"
   ]
  },
  {
   "cell_type": "code",
   "execution_count": null,
   "metadata": {
    "collapsed": true
   },
   "outputs": [],
   "source": [
    "# Verify that there is no intersection between training and test jobs\n",
    "\n",
    "len(set(takeoutdf.JobID.tolist()) & set(cleaned.JobID.tolist()))"
   ]
  },
  {
   "cell_type": "code",
   "execution_count": null,
   "metadata": {
    "collapsed": true
   },
   "outputs": [],
   "source": [
    "len(set(takeoutdf.JobID.tolist())), len(set(cleaned.JobID.tolist()))"
   ]
  },
  {
   "cell_type": "code",
   "execution_count": null,
   "metadata": {
    "collapsed": true
   },
   "outputs": [],
   "source": [
    "# Predicting all 0s ??\n",
    "sum([ (j) for j in y_predicted]), len(y_predicted)"
   ]
  },
  {
   "cell_type": "code",
   "execution_count": null,
   "metadata": {
    "collapsed": true
   },
   "outputs": [],
   "source": [
    "#### Model 3 End"
   ]
  },
  {
   "cell_type": "markdown",
   "metadata": {},
   "source": [
    "### Important code **ABOVE** this line: scratchpad below"
   ]
  },
  {
   "cell_type": "code",
   "execution_count": 94,
   "metadata": {},
   "outputs": [
    {
     "data": {
      "text/plain": [
       "(9374544, 33)"
      ]
     },
     "execution_count": 94,
     "metadata": {},
     "output_type": "execute_result"
    }
   ],
   "source": [
    "alldonejobs = pd.read_pickle('all_done_from_jobs_table.pickle')\n",
    "alldonejobs.shape"
   ]
  },
  {
   "cell_type": "code",
   "execution_count": 95,
   "metadata": {},
   "outputs": [
    {
     "data": {
      "text/plain": [
       "(1101447, 33)"
      ]
     },
     "execution_count": 95,
     "metadata": {},
     "output_type": "execute_result"
    }
   ],
   "source": [
    "allfailedjobs = pd.read_pickle('all_failed_from_jobs_table.pickle')\n",
    "allfailedjobs.shape"
   ]
  },
  {
   "cell_type": "code",
   "execution_count": 105,
   "metadata": {},
   "outputs": [
    {
     "data": {
      "text/plain": [
       "Index(['JobID', 'JobType', 'DIRACSetup', 'JobGroup', 'JobSplitType',\n",
       "       'MasterJobID', 'Site', 'JobName', 'Owner', 'OwnerDN', 'OwnerGroup',\n",
       "       'SubmissionTime', 'RescheduleTime', 'LastUpdateTime', 'StartExecTime',\n",
       "       'HeartBeatTime', 'EndExecTime', 'Status', 'MinorStatus',\n",
       "       'ApplicationStatus', 'ApplicationNumStatus', 'CPUTime', 'UserPriority',\n",
       "       'SystemPriority', 'RescheduleCounter', 'VerifiedFlag', 'DeletedFlag',\n",
       "       'KilledFlag', 'FailedFlag', 'ISandboxReadyFlag', 'OSandboxReadyFlag',\n",
       "       'RetrievedFlag', 'AccountedFlag', 'duration'],\n",
       "      dtype='object')"
      ]
     },
     "execution_count": 105,
     "metadata": {},
     "output_type": "execute_result"
    }
   ],
   "source": [
    "allfailedjobs.columns"
   ]
  },
  {
   "cell_type": "code",
   "execution_count": 97,
   "metadata": {
    "collapsed": true
   },
   "outputs": [],
   "source": [
    "alldonejobs['duration'] = alldonejobs['EndExecTime'] - alldonejobs['StartExecTime']"
   ]
  },
  {
   "cell_type": "code",
   "execution_count": 98,
   "metadata": {
    "collapsed": true
   },
   "outputs": [],
   "source": [
    "allfailedjobs['duration'] = allfailedjobs['EndExecTime'] - allfailedjobs['StartExecTime']"
   ]
  },
  {
   "cell_type": "code",
   "execution_count": 116,
   "metadata": {},
   "outputs": [
    {
     "data": {
      "text/plain": [
       "[Timedelta('4 days 12:08:24'),\n",
       " Timedelta('4 days 01:37:07'),\n",
       " Timedelta('2 days 23:48:52'),\n",
       " Timedelta('2 days 23:33:21'),\n",
       " Timedelta('2 days 23:10:54'),\n",
       " Timedelta('2 days 22:17:55'),\n",
       " Timedelta('2 days 21:47:09'),\n",
       " Timedelta('2 days 21:43:32'),\n",
       " Timedelta('2 days 21:17:29'),\n",
       " Timedelta('2 days 20:55:25')]"
      ]
     },
     "execution_count": 116,
     "metadata": {},
     "output_type": "execute_result"
    }
   ],
   "source": [
    "alldonejobs['duration'].nlargest(10).tolist()"
   ]
  },
  {
   "cell_type": "code",
   "execution_count": 115,
   "metadata": {},
   "outputs": [
    {
     "data": {
      "text/plain": [
       "[Timedelta('480 days 06:00:25'),\n",
       " Timedelta('480 days 05:59:58'),\n",
       " Timedelta('480 days 05:49:56'),\n",
       " Timedelta('480 days 05:41:05'),\n",
       " Timedelta('479 days 19:28:13'),\n",
       " Timedelta('479 days 19:27:41'),\n",
       " Timedelta('479 days 19:21:22'),\n",
       " Timedelta('479 days 19:14:50'),\n",
       " Timedelta('479 days 19:14:36'),\n",
       " Timedelta('479 days 19:13:03')]"
      ]
     },
     "execution_count": 115,
     "metadata": {},
     "output_type": "execute_result"
    }
   ],
   "source": [
    "allfailedjobs['duration'].nlargest(10).tolist()"
   ]
  },
  {
   "cell_type": "code",
   "execution_count": 118,
   "metadata": {
    "collapsed": true
   },
   "outputs": [],
   "source": [
    "cleaned = pd.read_pickle('mega_cleaned_for_training.pickle')"
   ]
  },
  {
   "cell_type": "code",
   "execution_count": 123,
   "metadata": {
    "collapsed": true
   },
   "outputs": [],
   "source": [
    "cleaned_hbs = cleaned.groupby(['JobID']).size()"
   ]
  },
  {
   "cell_type": "code",
   "execution_count": 134,
   "metadata": {},
   "outputs": [
    {
     "data": {
      "text/plain": [
       "10.967329138014033"
      ]
     },
     "execution_count": 134,
     "metadata": {},
     "output_type": "execute_result"
    }
   ],
   "source": [
    "cleaned_hbs.mean()"
   ]
  },
  {
   "cell_type": "code",
   "execution_count": 120,
   "metadata": {
    "collapsed": true
   },
   "outputs": [],
   "source": [
    "takeoutdf = pd.read_pickle('mega_takeoutdf_for_testing.pickle')"
   ]
  },
  {
   "cell_type": "code",
   "execution_count": 127,
   "metadata": {
    "collapsed": true
   },
   "outputs": [],
   "source": [
    "takeoutdf_hbs = takeoutdf.groupby(['JobID']).size()"
   ]
  },
  {
   "cell_type": "code",
   "execution_count": 130,
   "metadata": {},
   "outputs": [
    {
     "data": {
      "text/plain": [
       "10.947770454389564"
      ]
     },
     "execution_count": 130,
     "metadata": {},
     "output_type": "execute_result"
    }
   ],
   "source": [
    "takeoutdf_hbs.mean()"
   ]
  },
  {
   "cell_type": "code",
   "execution_count": 135,
   "metadata": {
    "collapsed": true
   },
   "outputs": [],
   "source": [
    "all  = pd.concat([cleaned, takeoutdf], ignore_index=True)"
   ]
  },
  {
   "cell_type": "code",
   "execution_count": 136,
   "metadata": {
    "collapsed": true
   },
   "outputs": [],
   "source": [
    "all_hbs = all.groupby(['JobID']).size()"
   ]
  },
  {
   "cell_type": "code",
   "execution_count": 137,
   "metadata": {},
   "outputs": [
    {
     "data": {
      "text/plain": [
       "(1, 10.95754980229982, 144)"
      ]
     },
     "execution_count": 137,
     "metadata": {},
     "output_type": "execute_result"
    }
   ],
   "source": [
    "all_hbs.min(), all_hbs.mean(), all_hbs.max()"
   ]
  },
  {
   "cell_type": "code",
   "execution_count": 164,
   "metadata": {},
   "outputs": [
    {
     "data": {
      "text/plain": [
       "2.9797510867118415"
      ]
     },
     "execution_count": 164,
     "metadata": {},
     "output_type": "execute_result"
    }
   ],
   "source": [
    "100* sum(all_hbs==11)/ len(all_hbs)"
   ]
  },
  {
   "cell_type": "code",
   "execution_count": 170,
   "metadata": {
    "collapsed": true
   },
   "outputs": [],
   "source": [
    "import matplotlib\n",
    "\n",
    "font = {'family' : 'Arial',\n",
    "        'weight' : 'bold',\n",
    "        'size'   : 22}\n",
    "\n",
    "matplotlib.rc('font', **font)"
   ]
  },
  {
   "cell_type": "code",
   "execution_count": 171,
   "metadata": {},
   "outputs": [
    {
     "data": {
      "text/plain": [
       "<matplotlib.axes._subplots.AxesSubplot at 0x7fc92c2ca7f0>"
      ]
     },
     "execution_count": 171,
     "metadata": {},
     "output_type": "execute_result"
    },
    {
     "data": {
      "image/png": "[encoded data removed]",
      "text/plain": [
       "<matplotlib.figure.Figure at 0x7fc92c2f3390>"
      ]
     },
     "metadata": {},
     "output_type": "display_data"
    }
   ],
   "source": [
    "all_hbs.plot.hist(figsize=(20,10), bins = 50)"
   ]
  },
  {
   "cell_type": "code",
   "execution_count": 82,
   "metadata": {},
   "outputs": [
    {
     "data": {
      "text/plain": [
       "(1948714, 3663)"
      ]
     },
     "execution_count": 82,
     "metadata": {},
     "output_type": "execute_result"
    }
   ],
   "source": [
    "allJobs_encoded.shape"
   ]
  },
  {
   "cell_type": "code",
   "execution_count": 91,
   "metadata": {},
   "outputs": [
    {
     "data": {
      "text/plain": [
       "(0.0, 1.0)"
      ]
     },
     "execution_count": 91,
     "metadata": {},
     "output_type": "execute_result"
    }
   ],
   "source": [
    "allHBLI_wide.WallClockTime.min(), allHBLI_wide.WallClockTime.max()"
   ]
  },
  {
   "cell_type": "code",
   "execution_count": 89,
   "metadata": {},
   "outputs": [
    {
     "data": {
      "text/plain": [
       "(-119.7, 22280.716666666667)"
      ]
     },
     "execution_count": 89,
     "metadata": {},
     "output_type": "execute_result"
    }
   ],
   "source": [
    "allJobs_encoded.hbeat_start.min(), allJobs_encoded.hbeat_start.max()"
   ]
  },
  {
   "cell_type": "code",
   "execution_count": 93,
   "metadata": {},
   "outputs": [
    {
     "name": "stdout",
     "output_type": "stream",
     "text": [
      "['JobID', 'Owner', 'OwnerDN', 'OwnerGroup', 'RescheduleCounter', 'start_submit', 'hbeat_start', 'JobType_MCProduction', 'JobType_MCProductionBGx0', 'JobType_Merge', 'JobType_Test', 'JobType_User', 'JobGroup_00000757', 'JobGroup_00000758', 'JobGroup_00000808', 'JobGroup_00000809', 'JobGroup_00000974', 'JobGroup_00000975', 'JobGroup_00001303', 'JobGroup_00001306', 'JobGroup_00001368', 'JobGroup_00001369', 'JobGroup_00001370', 'JobGroup_00001371', 'JobGroup_00001372', 'JobGroup_00001373', 'JobGroup_00001374', 'JobGroup_00001375', 'JobGroup_00001376', 'JobGroup_00001377', 'JobGroup_00001378', 'JobGroup_00001379', 'JobGroup_00001380', 'JobGroup_00001381', 'JobGroup_00001386', 'JobGroup_00001398', 'JobGroup_00001404', 'JobGroup_00001635', 'JobGroup_00001636', 'JobGroup_00001637', 'JobGroup_00001638', 'JobGroup_00001639', 'JobGroup_00001640', 'JobGroup_00001641', 'JobGroup_00001642', 'JobGroup_00001643', 'JobGroup_00001644', 'JobGroup_00001645', 'JobGroup_00001646', 'JobGroup_00001647', 'JobGroup_00001648', 'JobGroup_00001649', 'JobGroup_00001650', 'JobGroup_00001651', 'JobGroup_00001652', 'JobGroup_00001653', 'JobGroup_00001654', 'JobGroup_00001655', 'JobGroup_00001656', 'JobGroup_00001657', 'JobGroup_00001658', 'JobGroup_00001659', 'JobGroup_00001660', 'JobGroup_00001661', 'JobGroup_00001662', 'JobGroup_00001663', 'JobGroup_00001664', 'JobGroup_00001665', 'JobGroup_00001666', 'JobGroup_00001667', 'JobGroup_00001668', 'JobGroup_00001669', 'JobGroup_00001670', 'JobGroup_00001671', 'JobGroup_00001672', 'JobGroup_00001673', 'JobGroup_00001674', 'JobGroup_00001675', 'JobGroup_00001676', 'JobGroup_00001677', 'JobGroup_00001678', 'JobGroup_00001679', 'JobGroup_00001680', 'JobGroup_00001681', 'JobGroup_00001682', 'JobGroup_00001683', 'JobGroup_00001684', 'JobGroup_00001685', 'JobGroup_00001686', 'JobGroup_00001687', 'JobGroup_00001688', 'JobGroup_00001689', 'JobGroup_00001690', 'JobGroup_00001691', 'JobGroup_00001692', 'JobGroup_00001693', 'JobGroup_00001694', 'JobGroup_00001695', 'JobGroup_00001696', 'JobGroup_00001697', 'JobGroup_00001698', 'JobGroup_00001699', 'JobGroup_00001700', 'JobGroup_00001701', 'JobGroup_00001702', 'JobGroup_00001703', 'JobGroup_00001704', 'JobGroup_00001705', 'JobGroup_00001706', 'JobGroup_00001707', 'JobGroup_00001708', 'JobGroup_00001709', 'JobGroup_00001710', 'JobGroup_00001711', 'JobGroup_00001712', 'JobGroup_00001713', 'JobGroup_00001714', 'JobGroup_00001715', 'JobGroup_00001716', 'JobGroup_00001717', 'JobGroup_00001718', 'JobGroup_00001719', 'JobGroup_00001720', 'JobGroup_00001721', 'JobGroup_00001722', 'JobGroup_00001723', 'JobGroup_00001724', 'JobGroup_00001725', 'JobGroup_00001726', 'JobGroup_00001727', 'JobGroup_00001728', 'JobGroup_00001729', 'JobGroup_00001730', 'JobGroup_00001731', 'JobGroup_00001732', 'JobGroup_00001733', 'JobGroup_00001734', 'JobGroup_00001735', 'JobGroup_00001736', 'JobGroup_00001737', 'JobGroup_00001738', 'JobGroup_00001739', 'JobGroup_00001740', 'JobGroup_00001741', 'JobGroup_00001742', 'JobGroup_00001743', 'JobGroup_00001744', 'JobGroup_00001745', 'JobGroup_00001746', 'JobGroup_00001747', 'JobGroup_00001748', 'JobGroup_00001749', 'JobGroup_00001750', 'JobGroup_00001751', 'JobGroup_00001752', 'JobGroup_00001753', 'JobGroup_00001754', 'JobGroup_00001755', 'JobGroup_00001756', 'JobGroup_00001757', 'JobGroup_00001758', 'JobGroup_00001759', 'JobGroup_00001760', 'JobGroup_00001761', 'JobGroup_00001762', 'JobGroup_00001763', 'JobGroup_00001764', 'JobGroup_00001765', 'JobGroup_00001766', 'JobGroup_00001767', 'JobGroup_00001768', 'JobGroup_00001769', 'JobGroup_00001770', 'JobGroup_00001771', 'JobGroup_00001772', 'JobGroup_00001773', 'JobGroup_00001774', 'JobGroup_00001775', 'JobGroup_00001776', 'JobGroup_00001777', 'JobGroup_00001778', 'JobGroup_00001779', 'JobGroup_00001780', 'JobGroup_00001781', 'JobGroup_00001782', 'JobGroup_00001783', 'JobGroup_00001784', 'JobGroup_00001785', 'JobGroup_00001786', 'JobGroup_00001787', 'JobGroup_00001788', 'JobGroup_00001789', 'JobGroup_00001790', 'JobGroup_00001791', 'JobGroup_00001792', 'JobGroup_00001793', 'JobGroup_00001794', 'JobGroup_00001795', 'JobGroup_00001796', 'JobGroup_00001797', 'JobGroup_00001798', 'JobGroup_00001799', 'JobGroup_00001800', 'JobGroup_00001801', 'JobGroup_00001802', 'JobGroup_00001803', 'JobGroup_00001804', 'JobGroup_00001805', 'JobGroup_00001806', 'JobGroup_00001807', 'JobGroup_00001808', 'JobGroup_00001809', 'JobGroup_00001810', 'JobGroup_00001811', 'JobGroup_00001812', 'JobGroup_00001813', 'JobGroup_00001814', 'JobGroup_00001815', 'JobGroup_00001816', 'JobGroup_00001817', 'JobGroup_00001818', 'JobGroup_00001819', 'JobGroup_00001820', 'JobGroup_00001821', 'JobGroup_00001822', 'JobGroup_00001823', 'JobGroup_00001824', 'JobGroup_00001825', 'JobGroup_00001826', 'JobGroup_00001827', 'JobGroup_00001828', 'JobGroup_00001829', 'JobGroup_00001830', 'JobGroup_00001831', 'JobGroup_00001832', 'JobGroup_00001833', 'JobGroup_00001834', 'JobGroup_00001836', 'JobGroup_00001837', 'JobGroup_00001838', 'JobGroup_00001839', 'JobGroup_00001840', 'JobGroup_00001841', 'JobGroup_00001842', 'JobGroup_00001844', 'JobGroup_00001845', 'JobGroup_00001846', 'JobGroup_00001847', 'JobGroup_00001849', 'JobGroup_00001850', 'JobGroup_00001853', 'JobGroup_00001854', 'JobGroup_00001856', 'JobGroup_00001857', 'JobGroup_00001858', 'JobGroup_00001859', 'JobGroup_00001860', 'JobGroup_00001861', 'JobGroup_00001863', 'JobGroup_00001864', 'JobGroup_00001865', 'JobGroup_00001866', 'JobGroup_00001868', 'JobGroup_00001871', 'JobGroup_00001872', 'JobGroup_00001914', 'JobGroup_00001916', 'JobGroup_00001917', 'JobGroup_00001919', 'JobGroup_00001920', 'JobGroup_00001921', 'JobGroup_00001922', 'JobGroup_00001923', 'JobGroup_00001924', 'JobGroup_00001925', 'JobGroup_00001926', 'JobGroup_00001927', 'JobGroup_00001929', 'JobGroup_00001931', 'JobGroup_00001935', 'JobGroup_00001936', 'JobGroup_00001937', 'JobGroup_00001939', 'JobGroup_00001940', 'JobGroup_00001941', 'JobGroup_00001942', 'JobGroup_00001943', 'JobGroup_00001944', 'JobGroup_00001945', 'JobGroup_00001946', 'JobGroup_00001947', 'JobGroup_00001948', 'JobGroup_00001949', 'JobGroup_00001950', 'JobGroup_00001951', 'JobGroup_00001952', 'JobGroup_00001953', 'JobGroup_00001954', 'JobGroup_00001955', 'JobGroup_00001956', 'JobGroup_00001957', 'JobGroup_00001958', 'JobGroup_00001959', 'JobGroup_00001960', 'JobGroup_00001961', 'JobGroup_00001962', 'JobGroup_00001963', 'JobGroup_00001964', 'JobGroup_00001965', 'JobGroup_00001966', 'JobGroup_00001967', 'JobGroup_00001968', 'JobGroup_00001969', 'JobGroup_00001970', 'JobGroup_00001971', 'JobGroup_00001973', 'JobGroup_00001974', 'JobGroup_00001975', 'JobGroup_00001976', 'JobGroup_00001984', 'JobGroup_00001988', 'JobGroup_00001990', 'JobGroup_00001992', 'JobGroup_00001994', 'JobGroup_00001996', 'JobGroup_00001998', 'JobGroup_00002000', 'JobGroup_00002007', 'JobGroup_00002008', 'JobGroup_00002009', 'JobGroup_00002010', 'JobGroup_00002011', 'JobGroup_00002012', 'JobGroup_00002014', 'JobGroup_00002015', 'JobGroup_00002016', 'JobGroup_00002017', 'JobGroup_00002018', 'JobGroup_00002019', 'JobGroup_00002020', 'JobGroup_00002021', 'JobGroup_00002022', 'JobGroup_00002025', 'JobGroup_00002026', 'JobGroup_00002027', 'JobGroup_00002028', 'JobGroup_00002029', 'JobGroup_00002030', 'JobGroup_00002031', 'JobGroup_00002032', 'JobGroup_00002033', 'JobGroup_00002034', 'JobGroup_00002035', 'JobGroup_00002036', 'JobGroup_00002037', 'JobGroup_00002038', 'JobGroup_00002040', 'JobGroup_00002041', 'JobGroup_00002042', 'JobGroup_00002043', 'JobGroup_00002044', 'JobGroup_00002045', 'JobGroup_00002046', 'JobGroup_00002047', 'JobGroup_00002048', 'JobGroup_00002049', 'JobGroup_00002050', 'JobGroup_00002051', 'JobGroup_00002052', 'JobGroup_00002053', 'JobGroup_00002054', 'JobGroup_00002055', 'JobGroup_00002056', 'JobGroup_00002057', 'JobGroup_00002058', 'JobGroup_00002059', 'JobGroup_00002060', 'JobGroup_00002061', 'JobGroup_00002062', 'JobGroup_00002063', 'JobGroup_00002064', 'JobGroup_00002065', 'JobGroup_00002066', 'JobGroup_00002067', 'JobGroup_00002068', 'JobGroup_00002069', 'JobGroup_00002070', 'JobGroup_00002071', 'JobGroup_00002072', 'JobGroup_00002073', 'JobGroup_00002074', 'JobGroup_00002075', 'JobGroup_00002076', 'JobGroup_00002077', 'JobGroup_00002078', 'JobGroup_00002079', 'JobGroup_00002080', 'JobGroup_00002081', 'JobGroup_00002082', 'JobGroup_00002083', 'JobGroup_00002084', 'JobGroup_00002085', 'JobGroup_00002086', 'JobGroup_00002087', 'JobGroup_00002088', 'JobGroup_00002089', 'JobGroup_00002090', 'JobGroup_00002091', 'JobGroup_00002092', 'JobGroup_00002093', 'JobGroup_00002094', 'JobGroup_00002095', 'JobGroup_00002096', 'JobGroup_00002097', 'JobGroup_00002099', 'JobGroup_00002100', 'JobGroup_00002102', 'JobGroup_00002103', 'JobGroup_00002104', 'JobGroup_00002105', 'JobGroup_00002106', 'JobGroup_00002110', 'JobGroup_00002111', 'JobGroup_00002112', 'JobGroup_00002115', 'JobGroup_00002121', 'JobGroup_00002124', 'JobGroup_00002125', 'JobGroup_00002126', 'JobGroup_00002127', 'JobGroup_00002128', 'JobGroup_00002129', 'JobGroup_00002130', 'JobGroup_00002131', 'JobGroup_00002132', 'JobGroup_00002133', 'JobGroup_00002134', 'JobGroup_00002135', 'JobGroup_00002136', 'JobGroup_00002137', 'JobGroup_00002138', 'JobGroup_00002139', 'JobGroup_00002140', 'JobGroup_00002141', 'JobGroup_00002142', 'JobGroup_00002143', 'JobGroup_00002144', 'JobGroup_00002145', 'JobGroup_00002146', 'JobGroup_00002147', 'JobGroup_00002148', 'JobGroup_00002149', 'JobGroup_00002150', 'JobGroup_00002151', 'JobGroup_00002152', 'JobGroup_00002153', 'JobGroup_00002154', 'JobGroup_00002155', 'JobGroup_00002156', 'JobGroup_00002157', 'JobGroup_00002158', 'JobGroup_00002159', 'JobGroup_00002160', 'JobGroup_00002161', 'JobGroup_00002162', 'JobGroup_00002163', 'JobGroup_00002164', 'JobGroup_00002165', 'JobGroup_00002166', 'JobGroup_00002167', 'JobGroup_00002168', 'JobGroup_00002169', 'JobGroup_00002170', 'JobGroup_00002171', 'JobGroup_00002172', 'JobGroup_00002173', 'JobGroup_00002174', 'JobGroup_00002175', 'JobGroup_00002176', 'JobGroup_00002177', 'JobGroup_00002178', 'JobGroup_00002179', 'JobGroup_00002181', 'JobGroup_00002182', 'JobGroup_00002183', 'JobGroup_00002184', 'JobGroup_00002185', 'JobGroup_00002187', 'JobGroup_00002188', 'JobGroup_00002190', 'JobGroup_00002191', 'JobGroup_00002192', 'JobGroup_00002193', 'JobGroup_00002194', 'JobGroup_00002195', 'JobGroup_00002196', 'JobGroup_00002197', 'JobGroup_00002199', 'JobGroup_00002200', 'JobGroup_00002202', 'JobGroup_00002203', 'JobGroup_00002205', 'JobGroup_00002207', 'JobGroup_00002208', 'JobGroup_00002211', 'JobGroup_00002212', 'JobGroup_00002213', 'JobGroup_00002214', 'JobGroup_00002215', 'JobGroup_00002217', 'JobGroup_00002218', 'JobGroup_00002219', 'JobGroup_00002220', 'JobGroup_00002221', 'JobGroup_00002223', 'JobGroup_00002224', 'JobGroup_00002225', 'JobGroup_00002226', 'JobGroup_00002227', 'JobGroup_00002229', 'JobGroup_00002230', 'JobGroup_00002232', 'JobGroup_00002234', 'JobGroup_00002235', 'JobGroup_00002236', 'JobGroup_00002238', 'JobGroup_00002239', 'JobGroup_00002241', 'JobGroup_00002242', 'JobGroup_00002244', 'JobGroup_00002245', 'JobGroup_00002247', 'JobGroup_00002248', 'JobGroup_00002249', 'JobGroup_00002250', 'JobGroup_00002251', 'JobGroup_00002253', 'JobGroup_00002254', 'JobGroup_00002255', 'JobGroup_00002256', 'JobGroup_00002257', 'JobGroup_00002259', 'JobGroup_00002260', 'JobGroup_00002261', 'JobGroup_00002262', 'JobGroup_00002263', 'JobGroup_00002264', 'JobGroup_00002265', 'JobGroup_00002266', 'JobGroup_00002267', 'JobGroup_00002268', 'JobGroup_00002269', 'JobGroup_00002270', 'JobGroup_00002271', 'JobGroup_00002272', 'JobGroup_00002273', 'JobGroup_00002274', 'JobGroup_00002275', 'JobGroup_00002276', 'JobGroup_00002277', 'JobGroup_00002278', 'JobGroup_00002279', 'JobGroup_00002280', 'JobGroup_00002281', 'JobGroup_00002282', 'JobGroup_00002283', 'JobGroup_00002284', 'JobGroup_00002285', 'JobGroup_00002286', 'JobGroup_00002287', 'JobGroup_00002288', 'JobGroup_00002289', 'JobGroup_00002290', 'JobGroup_00002291', 'JobGroup_00002292', 'JobGroup_00002293', 'JobGroup_00002294', 'JobGroup_00002295', 'JobGroup_00002296', 'JobGroup_00002297', 'JobGroup_00002298', 'JobGroup_00002299', 'JobGroup_00002300', 'JobGroup_00002301', 'JobGroup_00002302', 'JobGroup_00002303', 'JobGroup_00002304', 'JobGroup_00002305', 'JobGroup_00002306', 'JobGroup_00002307', 'JobGroup_00002308', 'JobGroup_00002309', 'JobGroup_00002310', 'JobGroup_00002311', 'JobGroup_00002312', 'JobGroup_00002313', 'JobGroup_00002314', 'JobGroup_00002315', 'JobGroup_00002316', 'JobGroup_00002317', 'JobGroup_00002318', 'JobGroup_00002319', 'JobGroup_00002320', 'JobGroup_00002321', 'JobGroup_00002322', 'JobGroup_00002323', 'JobGroup_00002324', 'JobGroup_00002325', 'JobGroup_00002326', 'JobGroup_00002327', 'JobGroup_00002328', 'JobGroup_00002329', 'JobGroup_00002330', 'JobGroup_00002331', 'JobGroup_00002332', 'JobGroup_00002333', 'JobGroup_00002334', 'JobGroup_00002335', 'JobGroup_00002336', 'JobGroup_00002337', 'JobGroup_00002338', 'JobGroup_00002339', 'JobGroup_00002340', 'JobGroup_00002341', 'JobGroup_00002342', 'JobGroup_00002343', 'JobGroup_00002344', 'JobGroup_00002345', 'JobGroup_00002346', 'JobGroup_00002347', 'JobGroup_00002348', 'JobGroup_00002349', 'JobGroup_00002350', 'JobGroup_00002351', 'JobGroup_00002352', 'JobGroup_00002353', 'JobGroup_00002354', 'JobGroup_00002355', 'JobGroup_00002356', 'JobGroup_00002357', 'JobGroup_00002358', 'JobGroup_00002359', 'JobGroup_00002360', 'JobGroup_00002361', 'JobGroup_00002362', 'JobGroup_00002363', 'JobGroup_00002364', 'JobGroup_00002365', 'JobGroup_00002366', 'JobGroup_00002367', 'JobGroup_00002368', 'JobGroup_00002369', 'JobGroup_00002370', 'JobGroup_00002371', 'JobGroup_00002372', 'JobGroup_00002373', 'JobGroup_00002374', 'JobGroup_00002375', 'JobGroup_00002376', 'JobGroup_00002377', 'JobGroup_00002379', 'JobGroup_00002380', 'JobGroup_00002382', 'JobGroup_00002383', 'JobGroup_00002388', 'JobGroup_00002391', 'JobGroup_00002393', 'JobGroup_00002397', 'JobGroup_00002403', 'JobGroup_00002406', 'JobGroup_00002413', 'JobGroup_00002415', 'JobGroup_00002416', 'JobGroup_00002427', 'JobGroup_00002428', 'JobGroup_00002430', 'JobGroup_00002433', 'JobGroup_00002439', 'JobGroup_00002445', 'JobGroup_00002451', 'JobGroup_00002457', 'JobGroup_00002458', 'JobGroup_00002460', 'JobGroup_00002469', 'JobGroup_00002475', 'JobGroup_00002481', 'JobGroup_00002482', 'JobGroup_00002487', 'JobGroup_00002488', 'JobGroup_00002493', 'JobGroup_00002499', 'JobGroup_00002505', 'JobGroup_00002509', 'JobGroup_00002511', 'JobGroup_00002514', 'JobGroup_00002517', 'JobGroup_00002523', 'JobGroup_00002524', 'JobGroup_00002529', 'JobGroup_00002533', 'JobGroup_00002535', 'JobGroup_00002540', 'JobGroup_00002544', 'JobGroup_00002547', 'JobGroup_00002551', 'JobGroup_00002553', 'JobGroup_00002559', 'JobGroup_00002560', 'JobGroup_00002565', 'JobGroup_00002583', 'JobGroup_00002586', 'JobGroup_00002589', 'JobGroup_00002595', 'JobGroup_00002596', 'JobGroup_00002601', 'JobGroup_00002603', 'JobGroup_00002607', 'JobGroup_00002613', 'JobGroup_00002616', 'JobGroup_00002625', 'JobGroup_00002628', 'JobGroup_00002629', 'JobGroup_00002631', 'JobGroup_00002651', 'JobGroup_00002655', 'JobGroup_00002661', 'JobGroup_00002673', 'JobGroup_00002674', 'JobGroup_00002676', 'JobGroup_00002679', 'JobGroup_00002680', 'JobGroup_00002685', 'JobGroup_00002686', 'JobGroup_00002687', 'JobGroup_00002692', 'JobGroup_00002693', 'JobGroup_00002694', 'JobGroup_00002697', 'JobGroup_00002700', 'JobGroup_00002703', 'JobGroup_00002705', 'JobGroup_00002716', 'JobGroup_00002721', 'JobGroup_00002722', 'JobGroup_00002728', 'JobGroup_00002732', 'JobGroup_00002733', 'JobGroup_00002739', 'JobGroup_00002745', 'JobGroup_00002748', 'JobGroup_00002751', 'JobGroup_00002754', 'JobGroup_00002755', 'JobGroup_00002758', 'JobGroup_00002763', 'JobGroup_00002775', 'JobGroup_00002776', 'JobGroup_00002778', 'JobGroup_00002780', 'JobGroup_00002782', 'JobGroup_00002783', 'JobGroup_00002784', 'JobGroup_00002787', 'JobGroup_00002799', 'JobGroup_00002811', 'JobGroup_00002814', 'JobGroup_00002817', 'JobGroup_00002820', 'JobGroup_00002821', 'JobGroup_00002823', 'JobGroup_00002829', 'JobGroup_00002835', 'JobGroup_00002838', 'JobGroup_00002841', 'JobGroup_00002842', 'JobGroup_00002844', 'JobGroup_00002853', 'JobGroup_00002858', 'JobGroup_00002859', 'JobGroup_00002866', 'JobGroup_00002868', 'JobGroup_00002871', 'JobGroup_00002877', 'JobGroup_00002880', 'JobGroup_00002883', 'JobGroup_00002886', 'JobGroup_00002889', 'JobGroup_00002890', 'JobGroup_00002895', 'JobGroup_00002901', 'JobGroup_00002907', 'JobGroup_00002919', 'JobGroup_00002925', 'JobGroup_00002931', 'JobGroup_00002938', 'JobGroup_00002944', 'JobGroup_00002949', 'JobGroup_00002955', 'JobGroup_00002956', 'JobGroup_00002957', 'JobGroup_00002958', 'JobGroup_00002959', 'JobGroup_00002960', 'JobGroup_00002961', 'JobGroup_00002962', 'JobGroup_00002963', 'JobGroup_00002964', 'JobGroup_00002965', 'JobGroup_00002966', 'JobGroup_00002967', 'JobGroup_00002968', 'JobGroup_00002969', 'JobGroup_00002970', 'JobGroup_00002971', 'JobGroup_00002972', 'JobGroup_00002974', 'JobGroup_00002975', 'JobGroup_00002977', 'JobGroup_00002978', 'JobGroup_00002979', 'JobGroup_00002980', 'JobGroup_00002981', 'JobGroup_00002983', 'JobGroup_00002984', 'JobGroup_00002985', 'JobGroup_00002986', 'JobGroup_00002989', 'JobGroup_00002990', 'JobGroup_00002992', 'JobGroup_00002995', 'JobGroup_00002998', 'JobGroup_00003012', 'JobGroup_00003019', 'JobGroup_00003032', 'JobGroup_00003037', 'JobGroup_00003049', 'JobGroup_00003052', 'JobGroup_00003057', 'JobGroup_00003058', 'JobGroup_00003060', 'JobGroup_00003073', 'JobGroup_00003074', 'JobGroup_00003076', 'JobGroup_00003079', 'JobGroup_00003080', 'JobGroup_00003084', 'JobGroup_00003099', 'JobGroup_00003107', 'JobGroup_00003142', 'JobGroup_00003150', 'JobGroup_00003151', 'JobGroup_00003153', 'JobGroup_00003160', 'JobGroup_00003168', 'JobGroup_00003172', 'JobGroup_00003173', 'JobGroup_00003187', 'JobGroup_00003214', 'JobGroup_00003226', 'JobGroup_00003229', 'JobGroup_00003235', 'JobGroup_00003247', 'JobGroup_00003264', 'JobGroup_00003269', 'JobGroup_00003277', 'JobGroup_00003284', 'JobGroup_00003286', 'JobGroup_00003287', 'JobGroup_00003288', 'JobGroup_00003289', 'JobGroup_00003290', 'JobGroup_00003291', 'JobGroup_00003292', 'JobGroup_00003293', 'JobGroup_00003294', 'JobGroup_00003295', 'JobGroup_00003296', 'JobGroup_00003297', 'JobGroup_00003298', 'JobGroup_00003299', 'JobGroup_00003300', 'JobGroup_00003301', 'JobGroup_00003302', 'JobGroup_00003303', 'JobGroup_00003304', 'JobGroup_00003305', 'JobGroup_00003306', 'JobGroup_00003307', 'JobGroup_00003310', 'JobGroup_00003311', 'JobGroup_00003312', 'JobGroup_00003313', 'JobGroup_00003314', 'JobGroup_00003315', 'JobGroup_00003316', 'JobGroup_00003317', 'JobGroup_00003318', 'JobGroup_00003319', 'JobGroup_00003320', 'JobGroup_00003321', 'JobGroup_00003322', 'JobGroup_00003323', 'JobGroup_00003324', 'JobGroup_00003325', 'JobGroup_00003326', 'JobGroup_00003327', 'JobGroup_00003328', 'JobGroup_00003329', 'JobGroup_00003330', 'JobGroup_00003331', 'JobGroup_00003332', 'JobGroup_00003333', 'JobGroup_00003334', 'JobGroup_00003335', 'JobGroup_00003336', 'JobGroup_00003337', 'JobGroup_00003338', 'JobGroup_00003339', 'JobGroup_00003340', 'JobGroup_00003341', 'JobGroup_00003342', 'JobGroup_00003343', 'JobGroup_00003344', 'JobGroup_00003345', 'JobGroup_00003346', 'JobGroup_00003347', 'JobGroup_00003348', 'JobGroup_00003349', 'JobGroup_00003350', 'JobGroup_00003351', 'JobGroup_00003352', 'JobGroup_00003353', 'JobGroup_00003355', 'JobGroup_00003356', 'JobGroup_00003358', 'JobGroup_00003359', 'JobGroup_00003361', 'JobGroup_00003362', 'JobGroup_00003363', 'JobGroup_00003364', 'JobGroup_00003365', 'JobGroup_00003366', 'JobGroup_00003367', 'JobGroup_00003368', 'JobGroup_00003369', 'JobGroup_00003370', 'JobGroup_00003371', 'JobGroup_00003373', 'JobGroup_00003374', 'JobGroup_00003375', 'JobGroup_00003376', 'JobGroup_00003377', 'JobGroup_00003378', 'JobGroup_00003379', 'JobGroup_00003380', 'JobGroup_00003381', 'JobGroup_00003382', 'JobGroup_00003383', 'JobGroup_00003384', 'JobGroup_00003385', 'JobGroup_00003386', 'JobGroup_00003387', 'JobGroup_00003388', 'JobGroup_00003389', 'JobGroup_00003390', 'JobGroup_00003391', 'JobGroup_00003392', 'JobGroup_00003393', 'JobGroup_00003394', 'JobGroup_00003395', 'JobGroup_00003396', 'JobGroup_00003397', 'JobGroup_00003398', 'JobGroup_00003399', 'JobGroup_00003400', 'JobGroup_00003401', 'JobGroup_00003402', 'JobGroup_00003403', 'JobGroup_00003404', 'JobGroup_00003405', 'JobGroup_00003406', 'JobGroup_00003407', 'JobGroup_00003408', 'JobGroup_00003409', 'JobGroup_00003410', 'JobGroup_00003411', 'JobGroup_00003412', 'JobGroup_00003413', 'JobGroup_00003414', 'JobGroup_00003415', 'JobGroup_00003416', 'JobGroup_00003417', 'JobGroup_00003418', 'JobGroup_00003419', 'JobGroup_00003421', 'JobGroup_00003422', 'JobGroup_00003423', 'JobGroup_00003424', 'JobGroup_00003425', 'JobGroup_00003427', 'JobGroup_00003428', 'JobGroup_00003429', 'JobGroup_00003430', 'JobGroup_00003431', 'JobGroup_00003432', 'JobGroup_00003433', 'JobGroup_00003434', 'JobGroup_00003435', 'JobGroup_00003436', 'JobGroup_00003437', 'JobGroup_00003438', 'JobGroup_00003439', 'JobGroup_00003440', 'JobGroup_00003441', 'JobGroup_00003442', 'JobGroup_00003443', 'JobGroup_00003444', 'JobGroup_00003445', 'JobGroup_00003446', 'JobGroup_00003447', 'JobGroup_00003448', 'JobGroup_00003449', 'JobGroup_00003451', 'JobGroup_00003452', 'JobGroup_00003453', 'JobGroup_00003455', 'JobGroup_00003456', 'JobGroup_00003458', 'JobGroup_00003460', 'JobGroup_00003472', 'JobGroup_00003475', 'JobGroup_00003478', 'JobGroup_00003479', 'JobGroup_00003481', 'JobGroup_00003483', 'JobGroup_00003484', 'JobGroup_00003485', 'JobGroup_00003487', 'JobGroup_00003490', 'JobGroup_00003493', 'JobGroup_00003495', 'JobGroup_00003496', 'JobGroup_00003498', 'JobGroup_00003505', 'JobGroup_00003508', 'JobGroup_00003511', 'JobGroup_00003514', 'JobGroup_00003515', 'JobGroup_00003516', 'JobGroup_00003521', 'JobGroup_00003523', 'JobGroup_00003525', 'JobGroup_00003531', 'JobGroup_00003532', 'JobGroup_00003533', 'JobGroup_00003534', 'JobGroup_00003535', 'JobGroup_00003538', 'JobGroup_00003541', 'JobGroup_00003542', 'JobGroup_00003544', 'JobGroup_00003547', 'JobGroup_00003550', 'JobGroup_00003551', 'JobGroup_00003557', 'JobGroup_00003559', 'JobGroup_00003571', 'JobGroup_00003572', 'JobGroup_00003574', 'JobGroup_00003575', 'JobGroup_00003576', 'JobGroup_00003577', 'JobGroup_00003581', 'JobGroup_00003583', 'JobGroup_00003589', 'JobGroup_00003590', 'JobGroup_00003592', 'JobGroup_00003595', 'JobGroup_00003600', 'JobGroup_00003601', 'JobGroup_00003604', 'JobGroup_00003607', 'JobGroup_00003610', 'JobGroup_00003613', 'JobGroup_00003614', 'JobGroup_00003615', 'JobGroup_00003618', 'JobGroup_00003619', 'JobGroup_00003625', 'JobGroup_00003626', 'JobGroup_00003632', 'JobGroup_00003633', 'JobGroup_00003634', 'JobGroup_00003637', 'JobGroup_00003642', 'JobGroup_00003649', 'JobGroup_00003652', 'JobGroup_00003656', 'JobGroup_00003658', 'JobGroup_00003660', 'JobGroup_00003666', 'JobGroup_00003667', 'JobGroup_00003670', 'JobGroup_00003673', 'JobGroup_00003675', 'JobGroup_00003676', 'JobGroup_00003677', 'JobGroup_00003678', 'JobGroup_00003679', 'JobGroup_00003685', 'JobGroup_00003686', 'JobGroup_00003687', 'JobGroup_00003688', 'JobGroup_00003689', 'JobGroup_00003695', 'JobGroup_00003703', 'JobGroup_00003704', 'JobGroup_00003706', 'JobGroup_00003709', 'JobGroup_00003710', 'JobGroup_00003711', 'JobGroup_00003712', 'JobGroup_00003713', 'JobGroup_00003714', 'JobGroup_00003715', 'JobGroup_00003718', 'JobGroup_00003721', 'JobGroup_00003728', 'JobGroup_00003732', 'JobGroup_00003736', 'JobGroup_00003737', 'JobGroup_00003738', 'JobGroup_00003739', 'JobGroup_00003740', 'JobGroup_00003741', 'JobGroup_00003742', 'JobGroup_00003743', 'JobGroup_00003744', 'JobGroup_00003745', 'JobGroup_00003746', 'JobGroup_00003747', 'JobGroup_00003748', 'JobGroup_00003749', 'JobGroup_00003750', 'JobGroup_00003751', 'JobGroup_00003752', 'JobGroup_00003753', 'JobGroup_00003754', 'JobGroup_00003755', 'JobGroup_00003756', 'JobGroup_00003757', 'JobGroup_00003758', 'JobGroup_00003759', 'JobGroup_00003760', 'JobGroup_00003761', 'JobGroup_00003762', 'JobGroup_00003763', 'JobGroup_00003764', 'JobGroup_00003765', 'JobGroup_00003766', 'JobGroup_00003767', 'JobGroup_00003768', 'JobGroup_00003769', 'JobGroup_00003770', 'JobGroup_00003771', 'JobGroup_00003772', 'JobGroup_00003773', 'JobGroup_00003774', 'JobGroup_00003775', 'JobGroup_00003776', 'JobGroup_00003777', 'JobGroup_00003778', 'JobGroup_00003779', 'JobGroup_00003780', 'JobGroup_00003781', 'JobGroup_00003782', 'JobGroup_00003783', 'JobGroup_00003784', 'JobGroup_00003785', 'JobGroup_00003786', 'JobGroup_00003787', 'JobGroup_00003788', 'JobGroup_00003789', 'JobGroup_00003790', 'JobGroup_00003791', 'JobGroup_00003792', 'JobGroup_00003793', 'JobGroup_00003794', 'JobGroup_00003795', 'JobGroup_00003796', 'JobGroup_00003797', 'JobGroup_00003798', 'JobGroup_00003799', 'JobGroup_00003800', 'JobGroup_00003801', 'JobGroup_00003802', 'JobGroup_00003803', 'JobGroup_00003804', 'JobGroup_00003805', 'JobGroup_00003806', 'JobGroup_00003807', 'JobGroup_00003808', 'JobGroup_00003809', 'JobGroup_00003810', 'JobGroup_00003811', 'JobGroup_00003812', 'JobGroup_00003813', 'JobGroup_00003814', 'JobGroup_00003815', 'JobGroup_00003816', 'JobGroup_00003817', 'JobGroup_00003818', 'JobGroup_00003819', 'JobGroup_00003820', 'JobGroup_00003821', 'JobGroup_00003822', 'JobGroup_00003823', 'JobGroup_00003824', 'JobGroup_00003825', 'JobGroup_00003826', 'JobGroup_00003827', 'JobGroup_00003828', 'JobGroup_00003829', 'JobGroup_00003830', 'JobGroup_00003831', 'JobGroup_00003832', 'JobGroup_00003833', 'JobGroup_00003834', 'JobGroup_00003835', 'JobGroup_00003836', 'JobGroup_00003837', 'JobGroup_00003838', 'JobGroup_00003839', 'JobGroup_00003840', 'JobGroup_00003841', 'JobGroup_00003842', 'JobGroup_00003843', 'JobGroup_00003844', 'JobGroup_00003845', 'JobGroup_00003846', 'JobGroup_00003847', 'JobGroup_00003848', 'JobGroup_00003849', 'JobGroup_00003850', 'JobGroup_00003851', 'JobGroup_00003852', 'JobGroup_00003853', 'JobGroup_00003854', 'JobGroup_00003855', 'JobGroup_00003856', 'JobGroup_00003857', 'JobGroup_00003858', 'JobGroup_00003859', 'JobGroup_00003860', 'JobGroup_00003862', 'JobGroup_00003864', 'JobGroup_00003865', 'JobGroup_00003866', 'JobGroup_00003867', 'JobGroup_00003868', 'JobGroup_00003869', 'JobGroup_00003870', 'JobGroup_00003871', 'JobGroup_00003872', 'JobGroup_00003874', 'JobGroup_00003875', 'JobGroup_00003877', 'JobGroup_00003880', 'JobGroup_00003882', 'JobGroup_00003885', 'JobGroup_00003888', 'JobGroup_00003891', 'JobGroup_00003894', 'JobGroup_00003895', 'JobGroup_00003897', 'JobGroup_00003900', 'JobGroup_00003901', 'JobGroup_00003902', 'JobGroup_00003903', 'JobGroup_00003904', 'JobGroup_00003905', 'JobGroup_00003906', 'JobGroup_00003907', 'JobGroup_00003908', 'JobGroup_00003909', 'JobGroup_00003910', 'JobGroup_00003911', 'JobGroup_00003912', 'JobGroup_00003913', 'JobGroup_00003914', 'JobGroup_00003915', 'JobGroup_00003916', 'JobGroup_00003917', 'JobGroup_00003918', 'JobGroup_00003919', 'JobGroup_00003920', 'JobGroup_00003921', 'JobGroup_00003922', 'JobGroup_00003923', 'JobGroup_00003924', 'JobGroup_00003925', 'JobGroup_00003926', 'JobGroup_00003927', 'JobGroup_00003928', 'JobGroup_00003929', 'JobGroup_00003930', 'JobGroup_00003931', 'JobGroup_00003932', 'JobGroup_00003933', 'JobGroup_00003934', 'JobGroup_00003935', 'JobGroup_00003936', 'JobGroup_00003937', 'JobGroup_00003938', 'JobGroup_00003939', 'JobGroup_00003940', 'JobGroup_00003941', 'JobGroup_00003944', 'JobGroup_00003945', 'JobGroup_00003946', 'JobGroup_00003947', 'JobGroup_00003948', 'JobGroup_00003950', 'JobGroup_00003951', 'JobGroup_00003952', 'JobGroup_00003953', 'JobGroup_00003954', 'JobGroup_00003955', 'JobGroup_00003956', 'JobGroup_00003957', 'JobGroup_00003958', 'JobGroup_00003959', 'JobGroup_00003960', 'JobGroup_00003961', 'JobGroup_00003962', 'JobGroup_00003963', 'JobGroup_00003964', 'JobGroup_00003965', 'JobGroup_00003966', 'JobGroup_00003967', 'JobGroup_00003968', 'JobGroup_00003969', 'JobGroup_00003971', 'JobGroup_00003972', 'JobGroup_00003973', 'JobGroup_00003974', 'JobGroup_00003975', 'JobGroup_00003976', 'JobGroup_00003977', 'JobGroup_00003978', 'JobGroup_00003979', 'JobGroup_00003980', 'JobGroup_00003981', 'JobGroup_00003982', 'JobGroup_00003983', 'JobGroup_00003984', 'JobGroup_00003985', 'JobGroup_00003986', 'JobGroup_00003987', 'JobGroup_00003988', 'JobGroup_00003989', 'JobGroup_00003990', 'JobGroup_00003991', 'JobGroup_00003992', 'JobGroup_00003993', 'JobGroup_00003994', 'JobGroup_00003995', 'JobGroup_00003996', 'JobGroup_00003997', 'JobGroup_00003998', 'JobGroup_00003999', 'JobGroup_00004001', 'JobGroup_00004002', 'JobGroup_00004003', 'JobGroup_00004004', 'JobGroup_00004005', 'JobGroup_00004006', 'JobGroup_00004007', 'JobGroup_00004008', 'JobGroup_00004009', 'JobGroup_00004010', 'JobGroup_00004011', 'JobGroup_00004012', 'JobGroup_00004013', 'JobGroup_00004014', 'JobGroup_00004015', 'JobGroup_00004016', 'JobGroup_00004017', 'JobGroup_00004018', 'JobGroup_00004019', 'JobGroup_00004020', 'JobGroup_00004021', 'JobGroup_00004022', 'JobGroup_00004023', 'JobGroup_00004024', 'JobGroup_00004025', 'JobGroup_00004026', 'JobGroup_00004027', 'JobGroup_00004028', 'JobGroup_00004029', 'JobGroup_00004030', 'JobGroup_00004031', 'JobGroup_00004032', 'JobGroup_00004033', 'JobGroup_00004034', 'JobGroup_00004035', 'JobGroup_00004036', 'JobGroup_00004037', 'JobGroup_00004038', 'JobGroup_00004039', 'JobGroup_00004040', 'JobGroup_00004041', 'JobGroup_00004042', 'JobGroup_00004043', 'JobGroup_00004044', 'JobGroup_00004045', 'JobGroup_00004046', 'JobGroup_00004047', 'JobGroup_00004048', 'JobGroup_00004049', 'JobGroup_00004050', 'JobGroup_00004051', 'JobGroup_00004052', 'JobGroup_00004053', 'JobGroup_00004054', 'JobGroup_00004055', 'JobGroup_00004056', 'JobGroup_00004058', 'JobGroup_00004059', 'JobGroup_00004060', 'JobGroup_00004061', 'JobGroup_00004062', 'JobGroup_00004064', 'JobGroup_00004065', 'JobGroup_00004067', 'JobGroup_00004068', 'JobGroup_00004069', 'JobGroup_00004070', 'JobGroup_00004071', 'JobGroup_00004072', 'JobGroup_00004082', 'JobGroup_00004087', 'JobGroup_00004088', 'JobGroup_00004089', 'JobGroup_00004090', 'JobGroup_00004091', 'JobGroup_00004092', 'JobGroup_00004093', 'JobGroup_00004096', 'JobGroup_00004098', 'JobGroup_00004099', 'JobGroup_00004101', 'JobGroup_00004102', 'JobGroup_00004104', 'JobGroup_00004105', 'JobGroup_00004106', 'JobGroup_00004108', 'JobGroup_00004109', 'JobGroup_00004110', 'JobGroup_00004111', 'JobGroup_00004112', 'JobGroup_00004113', 'JobGroup_00004114', 'JobGroup_00004115', 'JobGroup_00004116', 'JobGroup_00004117', 'JobGroup_00004118', 'JobGroup_00004120', 'JobGroup_00004121', 'JobGroup_00004122', 'JobGroup_00004123', 'JobGroup_00004125', 'JobGroup_00004126', 'JobGroup_00004127', 'JobGroup_00004128', 'JobGroup_00004129', 'JobGroup_00004130', 'JobGroup_00004132', 'JobGroup_00004133', 'JobGroup_00004134', 'JobGroup_00004135', 'JobGroup_00004137', 'JobGroup_00004138', 'JobGroup_00004139', 'JobGroup_00004140', 'JobGroup_00004141', 'JobGroup_00004142', 'JobGroup_00004143', 'JobGroup_00004144', 'JobGroup_00004145', 'JobGroup_00004147', 'JobGroup_00004148', 'JobGroup_00004150', 'JobGroup_00004151', 'JobGroup_00004152', 'JobGroup_00004153', 'JobGroup_00004154', 'JobGroup_00004155', 'JobGroup_00004156', 'JobGroup_00004157', 'JobGroup_00004159', 'JobGroup_00004160', 'JobGroup_00004162', 'JobGroup_00004163', 'JobGroup_00004164', 'JobGroup_00004165', 'JobGroup_00004166', 'JobGroup_00004167', 'JobGroup_00004168', 'JobGroup_00004169', 'JobGroup_00004171', 'JobGroup_00004172', 'JobGroup_00004174', 'JobGroup_00004175', 'JobGroup_00004177', 'JobGroup_00004178', 'JobGroup_00004179', 'JobGroup_00004180', 'JobGroup_00004181', 'JobGroup_00004183', 'JobGroup_00004184', 'JobGroup_00004185', 'JobGroup_00004186', 'JobGroup_00004187', 'JobGroup_00004188', 'JobGroup_00004189', 'JobGroup_00004190', 'JobGroup_00004191', 'JobGroup_00004192', 'JobGroup_00004193', 'JobGroup_00004195', 'JobGroup_00004196', 'JobGroup_00004197', 'JobGroup_00004198', 'JobGroup_00004199', 'JobGroup_00004200', 'JobGroup_00004201', 'JobGroup_00004202', 'JobGroup_00004204', 'JobGroup_00004205', 'JobGroup_00004206', 'JobGroup_00004207', 'JobGroup_00004208', 'JobGroup_00004209', 'JobGroup_00004210', 'JobGroup_00004211', 'JobGroup_00004213', 'JobGroup_00004214', 'JobGroup_00004215', 'JobGroup_00004216', 'JobGroup_00004219', 'JobGroup_00004222', 'JobGroup_00004223', 'JobGroup_00004225', 'JobGroup_00004228', 'JobGroup_00004229', 'JobGroup_00004231', 'JobGroup_00004232', 'JobGroup_00004234', 'JobGroup_00004235', 'JobGroup_00004237', 'JobGroup_00004238', 'JobGroup_00004239', 'JobGroup_00004240', 'JobGroup_00004243', 'JobGroup_00004244', 'JobGroup_00004246', 'JobGroup_00004247', 'JobGroup_00004248', 'JobGroup_00004249', 'JobGroup_00004250', 'JobGroup_00004251', 'JobGroup_00004252', 'JobGroup_00004253', 'JobGroup_00004254', 'JobGroup_00004269', 'JobGroup_00004270', 'JobGroup_00004271', 'JobGroup_00004272', 'JobGroup_00004273', 'JobGroup_00004274', 'JobGroup_00004275', 'JobGroup_00004276', 'JobGroup_00004277', 'JobGroup_00004278', 'JobGroup_00004279', 'JobGroup_00004280', 'JobGroup_00004281', 'JobGroup_00004282', 'JobGroup_00004283', 'JobGroup_00004284', 'JobGroup_00004285', 'JobGroup_00004286', 'JobGroup_00004287', 'JobGroup_00004288', 'JobGroup_00004289', 'JobGroup_00004290', 'JobGroup_00004291', 'JobGroup_00004292', 'JobGroup_00004293', 'JobGroup_00004294', 'JobGroup_00004295', 'JobGroup_00004296', 'JobGroup_00004297', 'JobGroup_00004298', 'JobGroup_00004299', 'JobGroup_00004300', 'JobGroup_00004301', 'JobGroup_00004302', 'JobGroup_00004303', 'JobGroup_00004304', 'JobGroup_00004305', 'JobGroup_00004306', 'JobGroup_00004307', 'JobGroup_00004308', 'JobGroup_00004309', 'JobGroup_00004310', 'JobGroup_00004311', 'JobGroup_00004313', 'JobGroup_00004314', 'JobGroup_00004316', 'JobGroup_00004317', 'JobGroup_00004318', 'JobGroup_00004319', 'JobGroup_00004320', 'JobGroup_00004321', 'JobGroup_00004323', 'JobGroup_00004324', 'JobGroup_00004325', 'JobGroup_00004326', 'JobGroup_00004329', 'JobGroup_00004330', 'JobGroup_00004331', 'JobGroup_00004332', 'JobGroup_00004333', 'JobGroup_00004334', 'JobGroup_00004335', 'JobGroup_00004336', 'JobGroup_00004337', 'JobGroup_00004338', 'JobGroup_00004340', 'JobGroup_00004341', 'JobGroup_00004342', 'JobGroup_00004343', 'JobGroup_00004344', 'JobGroup_00004345', 'JobGroup_00004346', 'JobGroup_00004347', 'JobGroup_00004348', 'JobGroup_00004350', 'JobGroup_00004353', 'JobGroup_00004354', 'JobGroup_00004355', 'JobGroup_00004356', 'JobGroup_00004357', 'JobGroup_00004359', 'JobGroup_00004360', 'JobGroup_00004361', 'JobGroup_00004362', 'JobGroup_00004363', 'JobGroup_00004365', 'JobGroup_00004366', 'JobGroup_00004367', 'JobGroup_00004368', 'JobGroup_00004369', 'JobGroup_00004370', 'JobGroup_00004371', 'JobGroup_00004373', 'JobGroup_00004374', 'JobGroup_00004377', 'JobGroup_00004378', 'JobGroup_00004379', 'JobGroup_00004380', 'JobGroup_00004381', 'JobGroup_00004383', 'JobGroup_00004384', 'JobGroup_00004386', 'JobGroup_00004387', 'JobGroup_00004389', 'JobGroup_00004390', 'JobGroup_00004392', 'JobGroup_00004393', 'JobGroup_00004394', 'JobGroup_00004395', 'JobGroup_00004396', 'JobGroup_00004397', 'JobGroup_00004398', 'JobGroup_00004399', 'JobGroup_00004400', 'JobGroup_00004401', 'JobGroup_00004402', 'JobGroup_00004403', 'JobGroup_00004404', 'JobGroup_00004405', 'JobGroup_00004406', 'JobGroup_00004407', 'JobGroup_00004408', 'JobGroup_00004409', 'JobGroup_00004410', 'JobGroup_00004411', 'JobGroup_00004412', 'JobGroup_00004413', 'JobGroup_00004414', 'JobGroup_00004415', 'JobGroup_00004416', 'JobGroup_00004417', 'JobGroup_00004418', 'JobGroup_00004419', 'JobGroup_00004420', 'JobGroup_00004421', 'JobGroup_00004422', 'JobGroup_00004423', 'JobGroup_00004424', 'JobGroup_00004425', 'JobGroup_00004426', 'JobGroup_00004427', 'JobGroup_00004428', 'JobGroup_00004429', 'JobGroup_00004431', 'JobGroup_00004432', 'JobGroup_00004433', 'JobGroup_00004434', 'JobGroup_00004435', 'JobGroup_00004437', 'JobGroup_00004438', 'JobGroup_00004439', 'JobGroup_00004440', 'JobGroup_00004441', 'JobGroup_00004442', 'JobGroup_00004443', 'JobGroup_00004444', 'JobGroup_00004445', 'JobGroup_00004446', 'JobGroup_00004447', 'JobGroup_00004448', 'JobGroup_00004449', 'JobGroup_00004450', 'JobGroup_00004451', 'JobGroup_00004452', 'JobGroup_00004453', 'JobGroup_00004454', 'JobGroup_00004455', 'JobGroup_00004456', 'JobGroup_00004457', 'JobGroup_00004458', 'JobGroup_00004460', 'JobGroup_00004461', 'JobGroup_00004462', 'JobGroup_00004463', 'JobGroup_00004464', 'JobGroup_00004465', 'JobGroup_00004466', 'JobGroup_00004467', 'JobGroup_00004468', 'JobGroup_00004469', 'JobGroup_00004470', 'JobGroup_00004471', 'JobGroup_00004472', 'JobGroup_00004473', 'JobGroup_00004474', 'JobGroup_00004475', 'JobGroup_00004476', 'JobGroup_00004477', 'JobGroup_00004478', 'JobGroup_00004479', 'JobGroup_00004480', 'JobGroup_00004481', 'JobGroup_00004482', 'JobGroup_00004483', 'JobGroup_00004484', 'JobGroup_00004485', 'JobGroup_00004486', 'JobGroup_00004487', 'JobGroup_00004488', 'JobGroup_00004489', 'JobGroup_00004490', 'JobGroup_00004491', 'JobGroup_00004492', 'JobGroup_00004493', 'JobGroup_00004494', 'JobGroup_00004495', 'JobGroup_00004496', 'JobGroup_00004497', 'JobGroup_00004498', 'JobGroup_00004499', 'JobGroup_00004500', 'JobGroup_00004501', 'JobGroup_00004502', 'JobGroup_00004503', 'JobGroup_00004504', 'JobGroup_00004505', 'JobGroup_00004506', 'JobGroup_00004507', 'JobGroup_00004508', 'JobGroup_00004509', 'JobGroup_00004510', 'JobGroup_00004511', 'JobGroup_00004512', 'JobGroup_00004513', 'JobGroup_00004514', 'JobGroup_00004515', 'JobGroup_00004516', 'JobGroup_00004517', 'JobGroup_00004518', 'JobGroup_00004519', 'JobGroup_00004520', 'JobGroup_00004521', 'JobGroup_00004522', 'JobGroup_00004523', 'JobGroup_00004524', 'JobGroup_00004525', 'JobGroup_00004526', 'JobGroup_00004527', 'JobGroup_00004528', 'JobGroup_00004529', 'JobGroup_00004530', 'JobGroup_00004531', 'JobGroup_00004532', 'JobGroup_00004533', 'JobGroup_00004534', 'JobGroup_00004535', 'JobGroup_00004536', 'JobGroup_00004537', 'JobGroup_00004538', 'JobGroup_00004539', 'JobGroup_00004541', 'JobGroup_00004542', 'JobGroup_00004544', 'JobGroup_00004545', 'JobGroup_00004546', 'JobGroup_00004547', 'JobGroup_00004548', 'JobGroup_00004549', 'JobGroup_00004550', 'JobGroup_00004551', 'JobGroup_00004553', 'JobGroup_00004554', 'JobGroup_00004555', 'JobGroup_00004556', 'JobGroup_00004557', 'JobGroup_00004558', 'JobGroup_00004559', 'JobGroup_00004560', 'JobGroup_00004561', 'JobGroup_00004562', 'JobGroup_00004563', 'JobGroup_00004564', 'JobGroup_00004565', 'JobGroup_00004566', 'JobGroup_00004567', 'JobGroup_00004568', 'JobGroup_00004569', 'JobGroup_00004570', 'JobGroup_00004571', 'JobGroup_00004572', 'JobGroup_00004573', 'JobGroup_00004574', 'JobGroup_00004575', 'JobGroup_00004576', 'JobGroup_00004577', 'JobGroup_00004578', 'JobGroup_00004579', 'JobGroup_00004580', 'JobGroup_00004581', 'JobGroup_00004582', 'JobGroup_00004583', 'JobGroup_00004584', 'JobGroup_00004585', 'JobGroup_00004586', 'JobGroup_00004587', 'JobGroup_00004588', 'JobGroup_00004589', 'JobGroup_00004590', 'JobGroup_00004591', 'JobGroup_00004592', 'JobGroup_00004593', 'JobGroup_00004594', 'JobGroup_00004595', 'JobGroup_00004596', 'JobGroup_00004597', 'JobGroup_00004598', 'JobGroup_00004599', 'JobGroup_00004600', 'JobGroup_00004601', 'JobGroup_00004602', 'JobGroup_00004603', 'JobGroup_00004604', 'JobGroup_00004605', 'JobGroup_00004606', 'JobGroup_00004607', 'JobGroup_00004608', 'JobGroup_00004609', 'JobGroup_00004610', 'JobGroup_00004611', 'JobGroup_00004612', 'JobGroup_00004613', 'JobGroup_00004614', 'JobGroup_00004615', 'JobGroup_00004616', 'JobGroup_00004617', 'JobGroup_00004618', 'JobGroup_00004619', 'JobGroup_00004620', 'JobGroup_00004621', 'JobGroup_00004622', 'JobGroup_00004623', 'JobGroup_00004624', 'JobGroup_00004625', 'JobGroup_00004626', 'JobGroup_00004627', 'JobGroup_00004628', 'JobGroup_00004629', 'JobGroup_00004630', 'JobGroup_00004631', 'JobGroup_00004632', 'JobGroup_00004633', 'JobGroup_00004634', 'JobGroup_00004635', 'JobGroup_00004636', 'JobGroup_00004637', 'JobGroup_00004638', 'JobGroup_00004639', 'JobGroup_00004640', 'JobGroup_00004641', 'JobGroup_00004642', 'JobGroup_00004643', 'JobGroup_00004644', 'JobGroup_00004645', 'JobGroup_00004646', 'JobGroup_00004647', 'JobGroup_00004648', 'JobGroup_00004649', 'JobGroup_00004650', 'JobGroup_00004651', 'JobGroup_00004652', 'JobGroup_00004653', 'JobGroup_00004654', 'JobGroup_00004655', 'JobGroup_00004656', 'JobGroup_00004657', 'JobGroup_00004658', 'JobGroup_00004659', 'JobGroup_00004660', 'JobGroup_00004661', 'JobGroup_00004662', 'JobGroup_00004663', 'JobGroup_00004664', 'JobGroup_00004665', 'JobGroup_00004666', 'JobGroup_00004667', 'JobGroup_00004668', 'JobGroup_00004669', 'JobGroup_00004670', 'JobGroup_00004671', 'JobGroup_00004672', 'JobGroup_00004673', 'JobGroup_00004674', 'JobGroup_00004675', 'JobGroup_00004676', 'JobGroup_00004677', 'JobGroup_00004678', 'JobGroup_00004679', 'JobGroup_00004680', 'JobGroup_00004681', 'JobGroup_00004682', 'JobGroup_00004683', 'JobGroup_00004685', 'JobGroup_00004686', 'JobGroup_00004687', 'JobGroup_00004688', 'JobGroup_00004689', 'JobGroup_00004690', 'JobGroup_00004691', 'JobGroup_00004692', 'JobGroup_00004693', 'JobGroup_00004694', 'JobGroup_00004695', 'JobGroup_00004696', 'JobGroup_00004697', 'JobGroup_00004698', 'JobGroup_00004699', 'JobGroup_00004700', 'JobGroup_00004701', 'JobGroup_00004702', 'JobGroup_00004703', 'JobGroup_00004704', 'JobGroup_00004705', 'JobGroup_00004706', 'JobGroup_00004707', 'JobGroup_00004708', 'JobGroup_00004709', 'JobGroup_00004710', 'JobGroup_00004711', 'JobGroup_00004712', 'JobGroup_00004713', 'JobGroup_00004714', 'JobGroup_00004715', 'JobGroup_00004716', 'JobGroup_00004717', 'JobGroup_00004718', 'JobGroup_00004719', 'JobGroup_00004720', 'JobGroup_00004721', 'JobGroup_00004722', 'JobGroup_00004724', 'JobGroup_00004725', 'JobGroup_00004727', 'JobGroup_00004728', 'JobGroup_00004730', 'JobGroup_00004731', 'JobGroup_00004732', 'JobGroup_00004733', 'JobGroup_00004734', 'JobGroup_00004735', 'JobGroup_00004736', 'JobGroup_00004737', 'JobGroup_00004738', 'JobGroup_00004739', 'JobGroup_00004740', 'JobGroup_00004741', 'JobGroup_00004742', 'JobGroup_00004743', 'JobGroup_00004744', 'JobGroup_00004745', 'JobGroup_00004746', 'JobGroup_00004747', 'JobGroup_00004748', 'JobGroup_00004749', 'JobGroup_00004750', 'JobGroup_00004751', 'JobGroup_00004752', 'JobGroup_00004754', 'JobGroup_00004755', 'JobGroup_00004757', 'JobGroup_00004758', 'JobGroup_00004759', 'JobGroup_00004760', 'JobGroup_00004761', 'JobGroup_00004762', 'JobGroup_00004763', 'JobGroup_00004764', 'JobGroup_00004765', 'JobGroup_00004766', 'JobGroup_00004767', 'JobGroup_00004768', 'JobGroup_00004769', 'JobGroup_00004770', 'JobGroup_00004771', 'JobGroup_00004772', 'JobGroup_00004773', 'JobGroup_00004774', 'JobGroup_00004775', 'JobGroup_00004776', 'JobGroup_00004778', 'JobGroup_00004779', 'JobGroup_00004780', 'JobGroup_00004781', 'JobGroup_00004782', 'JobGroup_00004783', 'JobGroup_00004784', 'JobGroup_00004785', 'JobGroup_00004786', 'JobGroup_00004787', 'JobGroup_00004788', 'JobGroup_00004789', 'JobGroup_00004790', 'JobGroup_00004791', 'JobGroup_00004792', 'JobGroup_00004793', 'JobGroup_00004794', 'JobGroup_00004795', 'JobGroup_00004796', 'JobGroup_00004797', 'JobGroup_00004798', 'JobGroup_00004799', 'JobGroup_00004800', 'JobGroup_00004801', 'JobGroup_00004802', 'JobGroup_00004803', 'JobGroup_00004804', 'JobGroup_00004805', 'JobGroup_00004807', 'JobGroup_00004808', 'JobGroup_00004809', 'JobGroup_00004810', 'JobGroup_00004811', 'JobGroup_00004812', 'JobGroup_00004813', 'JobGroup_00004814', 'JobGroup_00004815', 'JobGroup_00004817', 'JobGroup_00004818', 'JobGroup_00004819', 'JobGroup_00004820', 'JobGroup_00004821', 'JobGroup_00004822', 'JobGroup_00004823', 'JobGroup_00004824', 'JobGroup_00004825', 'JobGroup_00004826', 'JobGroup_00004827', 'JobGroup_00004828', 'JobGroup_00004829', 'JobGroup_00004830', 'JobGroup_00004831', 'JobGroup_00004832', 'JobGroup_00004833', 'JobGroup_00004834', 'JobGroup_00004835', 'JobGroup_00004836', 'JobGroup_00004837', 'JobGroup_00004838', 'JobGroup_00004839', 'JobGroup_00004840', 'JobGroup_00004841', 'JobGroup_00004842', 'JobGroup_00004843', 'JobGroup_00004844', 'JobGroup_00004845', 'JobGroup_00004847', 'JobGroup_00004848', 'JobGroup_00004849', 'JobGroup_00004850', 'JobGroup_00004851', 'JobGroup_00004853', 'JobGroup_00004854', 'JobGroup_00004855', 'JobGroup_00004856', 'JobGroup_00004857', 'JobGroup_00004858', 'JobGroup_00004859', 'JobGroup_00004860', 'JobGroup_00004862', 'JobGroup_00004863', 'JobGroup_00004864', 'JobGroup_00004865', 'JobGroup_00004866', 'JobGroup_00004867', 'JobGroup_00004868', 'JobGroup_00004869', 'JobGroup_00004871', 'JobGroup_00004872', 'JobGroup_00004873', 'JobGroup_00004874', 'JobGroup_00004875', 'JobGroup_00004877', 'JobGroup_00004878', 'JobGroup_00004879', 'JobGroup_00004880', 'JobGroup_00004881', 'JobGroup_00004882', 'JobGroup_00004883', 'JobGroup_00004884', 'JobGroup_00004886', 'JobGroup_00004889', 'JobGroup_00004890', 'JobGroup_00004891', 'JobGroup_00004892', 'JobGroup_00004893', 'JobGroup_00004894', 'JobGroup_00004895', 'JobGroup_00004896', 'JobGroup_00004897', 'JobGroup_00004898', 'JobGroup_00004899', 'JobGroup_00004901', 'JobGroup_00004902', 'JobGroup_00004903', 'JobGroup_00004904', 'JobGroup_00004905', 'JobGroup_00004907', 'JobGroup_00004908', 'JobGroup_00004910', 'JobGroup_00004911', 'JobGroup_00004913', 'JobGroup_00004914', 'JobGroup_00004916', 'JobGroup_00004917', 'JobGroup_00004918', 'JobGroup_00004919', 'JobGroup_00004920', 'JobGroup_00004922', 'JobGroup_00004923', 'JobGroup_00004924', 'JobGroup_00004925', 'JobGroup_00004927', 'JobGroup_00004928', 'JobGroup_00004929', 'JobGroup_00004931', 'JobGroup_00004932', 'JobGroup_00004934', 'JobGroup_00004935', 'JobGroup_00004937', 'JobGroup_00004940', 'JobGroup_00004941', 'JobGroup_00004942', 'JobGroup_00004943', 'JobGroup_00004946', 'JobGroup_00004947', 'JobGroup_00004949', 'JobGroup_00004951', 'JobGroup_00004952', 'JobGroup_00004953', 'JobGroup_00004955', 'JobGroup_00004958', 'JobGroup_00004959', 'JobGroup_00004960', 'JobGroup_00004961', 'JobGroup_00004962', 'JobGroup_00004964', 'JobGroup_00004965', 'JobGroup_00004966', 'JobGroup_00004967', 'JobGroup_00004970', 'JobGroup_00004971', 'JobGroup_00004973', 'JobGroup_00004976', 'JobGroup_00004977', 'JobGroup_00004978', 'JobGroup_00004979', 'JobGroup_00004982', 'JobGroup_00004983', 'JobGroup_00004984', 'JobGroup_00004985', 'JobGroup_00004986', 'JobGroup_00004987', 'JobGroup_00004988', 'JobGroup_00004991', 'JobGroup_00004992', 'JobGroup_00004993', 'JobGroup_00004994', 'JobGroup_00004997', 'JobGroup_00004998', 'JobGroup_00005000', 'JobGroup_00005001', 'JobGroup_00005003', 'JobGroup_00005005', 'JobGroup_00005006', 'JobGroup_00005009', 'JobGroup_00005010', 'JobGroup_00005012', 'JobGroup_00005013', 'JobGroup_00005014', 'JobGroup_00005015', 'JobGroup_00005016', 'JobGroup_00005017', 'JobGroup_00005018', 'JobGroup_00005019', 'JobGroup_00005020', 'JobGroup_00005021', 'JobGroup_00005024', 'JobGroup_00005025', 'JobGroup_00005026', 'JobGroup_00005027', 'JobGroup_00005028', 'JobGroup_00005029', 'JobGroup_00005030', 'JobGroup_00005031', 'JobGroup_00005032', 'JobGroup_00005033', 'JobGroup_00005034', 'JobGroup_00005035', 'JobGroup_00005036', 'JobGroup_00005037', 'JobGroup_00005038', 'JobGroup_00005039', 'JobGroup_00005040', 'JobGroup_00005041', 'JobGroup_00005042', 'JobGroup_00005043', 'JobGroup_00005044', 'JobGroup_00005045', 'JobGroup_00005046', 'JobGroup_00005047', 'JobGroup_00005048', 'JobGroup_00005049', 'JobGroup_00005051', 'JobGroup_00005052', 'JobGroup_00005054', 'JobGroup_00005055', 'JobGroup_00005056', 'JobGroup_00005057', 'JobGroup_00005060', 'JobGroup_00005062', 'JobGroup_00005063', 'JobGroup_00005064', 'JobGroup_00005066', 'JobGroup_00005067', 'JobGroup_00005068', 'JobGroup_00005069', 'JobGroup_00005070', 'JobGroup_00005071', 'JobGroup_00005072', 'JobGroup_00005073', 'JobGroup_00005075', 'JobGroup_00005078', 'JobGroup_00005079', 'JobGroup_00005080', 'JobGroup_00005081', 'JobGroup_00005082', 'JobGroup_00005083', 'JobGroup_00005084', 'JobGroup_00005086', 'JobGroup_00005087', 'JobGroup_00005088', 'JobGroup_00005090', 'JobGroup_00005092', 'JobGroup_00005093', 'JobGroup_00005094', 'JobGroup_00005096', 'JobGroup_00005097', 'JobGroup_00005099', 'JobGroup_00005101', 'JobGroup_00005102', 'JobGroup_00005103', 'JobGroup_00005104', 'JobGroup_00005105', 'JobGroup_00005106', 'JobGroup_00005108', 'JobGroup_00005109', 'JobGroup_00005110', 'JobGroup_00005111', 'JobGroup_00005112', 'JobGroup_00005114', 'JobGroup_00005115', 'JobGroup_00005117', 'JobGroup_00005118', 'JobGroup_00005120', 'JobGroup_00005121', 'JobGroup_00005122', 'JobGroup_00005123', 'JobGroup_00005124', 'JobGroup_00005125', 'JobGroup_00005126', 'JobGroup_00005127', 'JobGroup_00005128', 'JobGroup_00005129', 'JobGroup_00005130', 'JobGroup_00005131', 'JobGroup_00005132', 'JobGroup_00005133', 'JobGroup_00005135', 'JobGroup_00005136', 'JobGroup_00005137', 'JobGroup_00005138', 'JobGroup_00005139', 'JobGroup_00005140', 'JobGroup_00005141', 'JobGroup_00005142', 'JobGroup_00005143', 'JobGroup_00005144', 'JobGroup_00005145', 'JobGroup_00005147', 'JobGroup_00005148', 'JobGroup_00005150', 'JobGroup_00005151', 'JobGroup_00005153', 'JobGroup_00005154', 'JobGroup_00005156', 'JobGroup_00005157', 'JobGroup_00005159', 'JobGroup_00005160', 'JobGroup_00005161', 'JobGroup_00005162', 'JobGroup_00005163', 'JobGroup_00005164', 'JobGroup_00005165', 'JobGroup_00005166', 'JobGroup_00005167', 'JobGroup_00005168', 'JobGroup_00005169', 'JobGroup_00005170', 'JobGroup_00005171', 'JobGroup_00005172', 'JobGroup_00005173', 'JobGroup_00005174', 'JobGroup_00005175', 'JobGroup_00005176', 'JobGroup_00005177', 'JobGroup_00005178', 'JobGroup_00005179', 'JobGroup_00005180', 'JobGroup_00005181', 'JobGroup_00005182', 'JobGroup_00005183', 'JobGroup_00005184', 'JobGroup_00005185', 'JobGroup_00005186', 'JobGroup_00005187', 'JobGroup_00005188', 'JobGroup_00005189', 'JobGroup_00005190', 'JobGroup_00005191', 'JobGroup_00005192', 'JobGroup_00005193', 'JobGroup_00005194', 'JobGroup_00005195', 'JobGroup_00005196', 'JobGroup_00005197', 'JobGroup_00005198', 'JobGroup_00005199', 'JobGroup_00005200', 'JobGroup_00005201', 'JobGroup_00005202', 'JobGroup_00005203', 'JobGroup_00005204', 'JobGroup_00005205', 'JobGroup_00005206', 'JobGroup_00005207', 'JobGroup_00005208', 'JobGroup_00005209', 'JobGroup_00005210', 'JobGroup_00005211', 'JobGroup_00005212', 'JobGroup_00005213', 'JobGroup_00005214', 'JobGroup_00005215', 'JobGroup_00005216', 'JobGroup_00005217', 'JobGroup_00005218', 'JobGroup_00005219', 'JobGroup_00005220', 'JobGroup_00005222', 'JobGroup_00005225', 'JobGroup_00005226', 'JobGroup_00005228', 'JobGroup_00005229', 'JobGroup_00005230', 'JobGroup_00005231', 'JobGroup_00005232', 'JobGroup_00005233', 'JobGroup_00005234', 'JobGroup_00005235', 'JobGroup_00005236', 'JobGroup_00005237', 'JobGroup_00005238', 'JobGroup_00005239', 'JobGroup_00005240', 'JobGroup_00005241', 'JobGroup_00005242', 'JobGroup_00005243', 'JobGroup_00005244', 'JobGroup_00005245', 'JobGroup_00005246', 'JobGroup_00005247', 'JobGroup_00005248', 'JobGroup_00005249', 'JobGroup_00005250', 'JobGroup_00005252', 'JobGroup_00005253', 'JobGroup_00005255', 'JobGroup_00005256', 'JobGroup_00005257', 'JobGroup_00005258', 'JobGroup_00005259', 'JobGroup_00005260', 'JobGroup_00005261', 'JobGroup_00005262', 'JobGroup_00005263', 'JobGroup_00005264', 'JobGroup_00005265', 'JobGroup_00005266', 'JobGroup_00005267', 'JobGroup_00005268', 'JobGroup_00005269', 'JobGroup_00005270', 'JobGroup_00005271', 'JobGroup_00005272', 'JobGroup_00005273', 'JobGroup_00005274', 'JobGroup_00005275', 'JobGroup_00005276', 'JobGroup_00005277', 'JobGroup_00005278', 'JobGroup_00005279', 'JobGroup_00005280', 'JobGroup_00005281', 'JobGroup_00005282', 'JobGroup_00005283', 'JobGroup_00005284', 'JobGroup_00005285', 'JobGroup_00005286', 'JobGroup_00005288', 'JobGroup_00005289', 'JobGroup_00005290', 'JobGroup_00005291', 'JobGroup_00005292', 'JobGroup_00005293', 'JobGroup_00005294', 'JobGroup_00005295', 'JobGroup_00005297', 'JobGroup_00005298', 'JobGroup_00005299', 'JobGroup_00005300', 'JobGroup_00005301', 'JobGroup_00005302', 'JobGroup_00005303', 'JobGroup_00005304', 'JobGroup_00005305', 'JobGroup_00005306', 'JobGroup_00005307', 'JobGroup_00005308', 'JobGroup_00005309', 'JobGroup_00005310', 'JobGroup_00005312', 'JobGroup_00005313', 'JobGroup_00005315', 'JobGroup_00005316', 'JobGroup_00005317', 'JobGroup_00005318', 'JobGroup_00005319', 'JobGroup_00005320', 'JobGroup_00005321', 'JobGroup_00005322', 'JobGroup_00005323', 'JobGroup_00005324', 'JobGroup_00005325', 'JobGroup_00005327', 'JobGroup_00005328', 'JobGroup_00005329', 'JobGroup_00005330', 'JobGroup_00005332', 'JobGroup_00005335', 'JobGroup_00005336', 'JobGroup_00005337', 'JobGroup_00005339', 'JobGroup_00005340', 'JobGroup_00005342', 'JobGroup_00005345', 'JobGroup_00005347', 'JobGroup_00005350', 'JobGroup_00005352', 'JobGroup_00005355', 'JobGroup_00005357', 'JobGroup_00005360', 'JobGroup_00005362', 'JobGroup_00005365', 'JobGroup_00005367', 'JobGroup_00005370', 'JobGroup_00005372', 'JobGroup_00005373', 'JobGroup_00005374', 'JobGroup_00005375', 'JobGroup_00005377', 'JobGroup_00005380', 'JobGroup_00005381', 'JobGroup_00005382', 'JobGroup_00005384', 'JobGroup_00005385', 'JobGroup_00005386', 'JobGroup_00005387', 'JobGroup_00005390', 'JobGroup_00005391', 'JobGroup_00005392', 'JobGroup_00005395', 'JobGroup_00005397', 'JobGroup_00005400', 'JobGroup_00005402', 'JobGroup_00005404', 'JobGroup_00005405', 'JobGroup_00005407', 'JobGroup_00005408', 'JobGroup_00005410', 'JobGroup_00005412', 'JobGroup_00005414', 'JobGroup_00005415', 'JobGroup_00005416', 'JobGroup_00005417', 'JobGroup_00005418', 'JobGroup_00005419', 'JobGroup_00005420', 'JobGroup_00005422', 'JobGroup_00005425', 'JobGroup_00005427', 'JobGroup_00005430', 'JobGroup_00005432', 'JobGroup_00005435', 'JobGroup_00005437', 'JobGroup_00005440', 'JobGroup_00005442', 'JobGroup_00005445', 'JobGroup_00005447', 'JobGroup_00005450', 'JobGroup_00005452', 'JobGroup_00005455', 'JobGroup_00005457', 'JobGroup_00005460', 'JobGroup_00005462', 'JobGroup_00005465', 'JobGroup_00005467', 'JobGroup_00005470', 'JobGroup_00005472', 'JobGroup_00005475', 'JobGroup_00005477', 'JobGroup_00005480', 'JobGroup_00005482', 'JobGroup_00005485', 'JobGroup_00005487', 'JobGroup_00005490', 'JobGroup_00005492', 'JobGroup_00005495', 'JobGroup_00005497', 'JobGroup_00005500', 'JobGroup_00005502', 'JobGroup_00005505', 'JobGroup_00005507', 'JobGroup_00005510', 'JobGroup_00005512', 'JobGroup_00005515', 'JobGroup_00005516', 'JobGroup_00005517', 'JobGroup_00005518', 'JobGroup_00005520', 'JobGroup_00005522', 'JobGroup_00005525', 'JobGroup_00005527', 'JobGroup_00005530', 'JobGroup_00005532', 'JobGroup_00005533', 'JobGroup_00005534', 'JobGroup_00005535', 'JobGroup_00005536', 'JobGroup_00005537', 'JobGroup_00005540', 'JobGroup_00005542', 'JobGroup_00005545', 'JobGroup_00005546', 'JobGroup_00005547', 'JobGroup_00005549', 'JobGroup_00005550', 'JobGroup_00005551', 'JobGroup_00005552', 'JobGroup_00005554', 'JobGroup_00005555', 'JobGroup_00005557', 'JobGroup_00005560', 'JobGroup_00005561', 'JobGroup_00005562', 'JobGroup_00005565', 'JobGroup_00005567', 'JobGroup_00005570', 'JobGroup_00005572', 'JobGroup_00005575', 'JobGroup_00005577', 'JobGroup_00005578', 'JobGroup_00005579', 'JobGroup_00005580', 'JobGroup_00005582', 'JobGroup_00005583', 'JobGroup_00005585', 'JobGroup_00005586', 'JobGroup_00005587', 'JobGroup_00005588', 'JobGroup_00005590', 'JobGroup_00005591', 'JobGroup_00005592', 'JobGroup_00005595', 'JobGroup_00005596', 'JobGroup_00005597', 'JobGroup_00005599', 'JobGroup_00005600', 'JobGroup_00005602', 'JobGroup_00005605', 'JobGroup_00005607', 'JobGroup_00005610', 'JobGroup_00005612', 'JobGroup_00005614', 'JobGroup_00005615', 'JobGroup_00005616', 'JobGroup_00005617', 'JobGroup_00005620', 'JobGroup_00005621', 'JobGroup_00005622', 'JobGroup_00005624', 'JobGroup_00005625', 'JobGroup_00005626', 'JobGroup_00005627', 'JobGroup_00005630', 'JobGroup_00005632', 'JobGroup_00005635', 'JobGroup_00005636', 'JobGroup_00005637', 'JobGroup_00005640', 'JobGroup_00005641', 'JobGroup_00005642', 'JobGroup_00005644', 'JobGroup_00005645', 'JobGroup_00005647', 'JobGroup_00005648', 'JobGroup_00005650', 'JobGroup_00005652', 'JobGroup_00005655', 'JobGroup_00005656', 'JobGroup_00005657', 'JobGroup_00005659', 'JobGroup_00005660', 'JobGroup_00005662', 'JobGroup_00005665', 'JobGroup_00005666', 'JobGroup_00005667', 'JobGroup_00005668', 'JobGroup_00005670', 'JobGroup_00005671', 'JobGroup_00005672', 'JobGroup_00005675', 'JobGroup_00005676', 'JobGroup_00005677', 'JobGroup_00005680', 'JobGroup_00005682', 'JobGroup_00005684', 'JobGroup_00005685', 'JobGroup_00005687', 'JobGroup_00005688', 'JobGroup_00005690', 'JobGroup_00005691', 'JobGroup_00005692', 'JobGroup_00005693', 'JobGroup_00005695', 'JobGroup_00005697', 'JobGroup_00005700', 'JobGroup_00005702', 'JobGroup_00005705', 'JobGroup_00005707', 'JobGroup_00005710', 'JobGroup_00005712', 'JobGroup_00005715', 'JobGroup_00005717', 'JobGroup_00005718', 'JobGroup_00005720', 'JobGroup_00005722', 'JobGroup_00005725', 'JobGroup_00005727', 'JobGroup_00005730', 'JobGroup_00005732', 'JobGroup_00005734', 'JobGroup_00005735', 'JobGroup_00005737', 'JobGroup_00005738', 'JobGroup_00005740', 'JobGroup_00005742', 'JobGroup_00005745', 'JobGroup_00005746', 'JobGroup_00005747', 'JobGroup_00005750', 'JobGroup_00005752', 'JobGroup_00005755', 'JobGroup_00005757', 'JobGroup_00005759', 'JobGroup_00005760', 'JobGroup_00005761', 'JobGroup_00005762', 'JobGroup_00005765', 'JobGroup_00005766', 'JobGroup_00005767', 'JobGroup_00005770', 'JobGroup_00005772', 'JobGroup_00005773', 'JobGroup_00005775', 'JobGroup_00005776', 'JobGroup_00005777', 'JobGroup_00005780', 'JobGroup_00005782', 'JobGroup_00005785', 'JobGroup_00005787', 'JobGroup_00005790', 'JobGroup_00005791', 'JobGroup_00005792', 'JobGroup_00005795', 'JobGroup_00005797', 'JobGroup_00005800', 'JobGroup_00005802', 'JobGroup_00005805', 'JobGroup_00005807', 'JobGroup_00005809', 'JobGroup_00005810', 'JobGroup_00005811', 'JobGroup_00005812', 'JobGroup_00005815', 'JobGroup_00005817', 'JobGroup_00005820', 'JobGroup_00005822', 'JobGroup_00005824', 'JobGroup_00005825', 'JobGroup_00005827', 'JobGroup_00005830', 'JobGroup_00005832', 'JobGroup_00005834', 'JobGroup_00005835', 'JobGroup_00005837', 'JobGroup_00005840', 'JobGroup_00005841', 'JobGroup_00005842', 'JobGroup_00005844', 'JobGroup_00005845', 'JobGroup_00005846', 'JobGroup_00005847', 'JobGroup_00005848', 'JobGroup_00005850', 'JobGroup_00005852', 'JobGroup_00005855', 'JobGroup_00005856', 'JobGroup_00005857', 'JobGroup_00005858', 'JobGroup_00005860', 'JobGroup_00005862', 'JobGroup_00005865', 'JobGroup_00005866', 'JobGroup_00005867', 'JobGroup_00005869', 'JobGroup_00005870', 'JobGroup_00005871', 'JobGroup_00005872', 'JobGroup_00005873', 'JobGroup_00005875', 'JobGroup_00005877', 'JobGroup_00005878', 'JobGroup_00005879', 'JobGroup_00005880', 'JobGroup_00005882', 'JobGroup_00005885', 'JobGroup_00005887', 'JobGroup_00005890', 'JobGroup_00005892', 'JobGroup_00005893', 'JobGroup_00005895', 'JobGroup_00005897', 'JobGroup_00005900', 'JobGroup_00005901', 'JobGroup_00005902', 'JobGroup_00005905', 'JobGroup_00005906', 'JobGroup_00005907', 'JobGroup_00005909', 'JobGroup_00005910', 'JobGroup_00005911', 'JobGroup_00005912', 'JobGroup_00005914', 'JobGroup_00005915', 'JobGroup_00005917', 'JobGroup_00005919', 'JobGroup_00005920', 'JobGroup_00005921', 'JobGroup_00005922', 'JobGroup_00005925', 'JobGroup_00005927', 'JobGroup_00005929', 'JobGroup_00005930', 'JobGroup_00005931', 'JobGroup_00005932', 'JobGroup_00005935', 'JobGroup_00005936', 'JobGroup_00005937', 'JobGroup_00005940', 'JobGroup_00005941', 'JobGroup_00005942', 'JobGroup_00005944', 'JobGroup_00005945', 'JobGroup_00005947', 'JobGroup_00005948', 'JobGroup_00005950', 'JobGroup_00005952', 'JobGroup_00005955', 'JobGroup_00005956', 'JobGroup_00005957', 'JobGroup_00005959', 'JobGroup_00005960', 'JobGroup_00005962', 'JobGroup_00005963', 'JobGroup_00005965', 'JobGroup_00005967', 'JobGroup_00005970', 'JobGroup_00005971', 'JobGroup_00005972', 'JobGroup_00005975', 'JobGroup_00005977', 'JobGroup_00005980', 'JobGroup_00005982', 'JobGroup_00005985', 'JobGroup_00005987', 'JobGroup_00005990', 'JobGroup_00005991', 'JobGroup_00005992', 'JobGroup_00005995', 'JobGroup_00005997', 'JobGroup_00006000', 'JobGroup_00006002', 'JobGroup_00006005', 'JobGroup_00006007', 'JobGroup_00006010', 'JobGroup_00006012', 'JobGroup_00006015', 'JobGroup_00006017', 'JobGroup_00006020', 'JobGroup_00006022', 'JobGroup_00006024', 'JobGroup_00006025', 'JobGroup_00006026', 'JobGroup_00006027', 'JobGroup_00006028', 'JobGroup_00006029', 'JobGroup_00006031', 'JobGroup_00006032', 'JobGroup_00006033', 'JobGroup_00006034', 'JobGroup_00006035', 'JobGroup_00006036', 'JobGroup_00006037', 'JobGroup_00006038', 'JobGroup_00006039', 'JobGroup_00006040', 'JobGroup_00006041', 'JobGroup_00006043', 'JobGroup_00006044', 'JobGroup_00006046', 'JobGroup_00006047', 'JobGroup_00006048', 'JobGroup_00006049', 'JobGroup_00006050', 'JobGroup_00006051', 'JobGroup_00006052', 'JobGroup_00006053', 'JobGroup_00006054', 'JobGroup_00006055', 'JobGroup_00006056', 'JobGroup_00006058', 'JobGroup_00006059', 'JobGroup_00006061', 'JobGroup_00006062', 'JobGroup_00006063', 'JobGroup_00006064', 'JobGroup_00006065', 'JobGroup_00006066', 'JobGroup_00006067', 'JobGroup_00006069', 'JobGroup_00006070', 'JobGroup_00006071', 'JobGroup_00006073', 'JobGroup_00006074', 'JobGroup_00006075', 'JobGroup_00006076', 'JobGroup_00006077', 'JobGroup_00006078', 'JobGroup_00006079', 'JobGroup_00006080', 'JobGroup_00006081', 'JobGroup_00006082', 'JobGroup_00006083', 'JobGroup_00006084', 'JobGroup_00006085', 'JobGroup_00006086', 'JobGroup_00006088', 'JobGroup_00006089', 'JobGroup_00006091', 'JobGroup_00006092', 'JobGroup_00006093', 'JobGroup_00006094', 'JobGroup_00006095', 'JobGroup_00006096', 'JobGroup_00006097', 'JobGroup_00006098', 'JobGroup_00006099', 'JobGroup_00006100', 'JobGroup_00006101', 'JobGroup_00006102', 'JobGroup_00006103', 'JobGroup_00006105', 'JobGroup_00006106', 'JobGroup_00006107', 'JobGroup_00006108', 'JobGroup_00006109', 'JobGroup_00006110', 'JobGroup_00006111', 'JobGroup_00006112', 'JobGroup_00006113', 'JobGroup_00006114', 'JobGroup_00006115', 'JobGroup_00006116', 'JobGroup_00006117', 'JobGroup_00006118', 'JobGroup_00006119', 'JobGroup_00006121', 'JobGroup_00006122', 'JobGroup_00006124', 'JobGroup_00006125', 'JobGroup_00006127', 'JobGroup_00006128', 'JobGroup_00006130', 'JobGroup_00006131', 'JobGroup_00006133', 'JobGroup_00006134', 'JobGroup_00006135', 'JobGroup_00006136', 'JobGroup_00006137', 'JobGroup_00006139', 'JobGroup_00006140', 'JobGroup_00006141', 'JobGroup_00006142', 'JobGroup_00006143', 'JobGroup_00006145', 'JobGroup_00006146', 'JobGroup_00006148', 'JobGroup_00006149', 'JobGroup_00006151', 'JobGroup_00006153', 'JobGroup_00006156', 'JobGroup_00006158', 'JobGroup_00006161', 'JobGroup_00006162', 'JobGroup_00006163', 'JobGroup_00006168', 'JobGroup_00006169', 'JobGroup_00006173', 'JobGroup_00006178', 'JobGroup_00006181', 'JobGroup_00006182', 'JobGroup_00006183', 'JobGroup_00006186', 'JobGroup_00006188', 'JobGroup_00006189', 'JobGroup_00006191', 'JobGroup_00006193', 'JobGroup_00006198', 'JobGroup_00006199', 'JobGroup_00006201', 'JobGroup_00006202', 'JobGroup_00006203', 'JobGroup_00006206', 'JobGroup_00006208', 'JobGroup_00006213', 'JobGroup_00006216', 'JobGroup_00006221', 'JobGroup_00006222', 'JobGroup_00006223', 'JobGroup_00006226', 'JobGroup_00006228', 'JobGroup_00006236', 'JobGroup_00006237', 'JobGroup_00006238', 'JobGroup_00006239', 'JobGroup_00006240', 'JobGroup_00006243', 'JobGroup_00006246', 'JobGroup_00006248', 'JobGroup_00006251', 'JobGroup_00006253', 'JobGroup_00006256', 'JobGroup_00006258', 'JobGroup_00006263', 'JobGroup_00006266', 'JobGroup_00006268', 'JobGroup_00006271', 'JobGroup_00006273', 'JobGroup_00006274', 'JobGroup_00006278', 'JobGroup_00006283', 'JobGroup_00006286', 'JobGroup_00006287', 'JobGroup_00006288', 'JobGroup_00006291', 'JobGroup_00006294', 'JobGroup_00006296', 'JobGroup_00006297', 'JobGroup_00006298', 'JobGroup_00006301', 'JobGroup_00006303', 'JobGroup_00006308', 'JobGroup_00006310', 'JobGroup_00006312', 'JobGroup_00006313', 'JobGroup_00006316', 'JobGroup_00006317', 'JobGroup_00006318', 'JobGroup_00006320', 'JobGroup_00006321', 'JobGroup_00006322', 'JobGroup_00006323', 'JobGroup_00006326', 'JobGroup_00006328', 'JobGroup_00006331', 'JobGroup_00006333', 'JobGroup_00006334', 'JobGroup_00006338', 'JobGroup_00006341', 'JobGroup_00006343', 'JobGroup_00006344', 'JobGroup_00006348', 'JobGroup_00006349', 'JobGroup_00006351', 'JobGroup_00006353', 'JobGroup_00006356', 'JobGroup_00006358', 'JobGroup_00006363', 'JobGroup_00006368', 'JobGroup_00006370', 'JobGroup_00006373', 'JobGroup_00006375', 'JobGroup_00006376', 'JobGroup_00006377', 'JobGroup_00006381', 'JobGroup_00006382', 'JobGroup_00006383', 'JobGroup_00006385', 'JobGroup_00006386', 'JobGroup_00006388', 'JobGroup_00006392', 'JobGroup_00006393', 'JobGroup_00006396', 'JobGroup_00006398', 'JobGroup_00006401', 'JobGroup_00006402', 'JobGroup_00006403', 'JobGroup_00006406', 'JobGroup_00006407', 'JobGroup_00006408', 'JobGroup_00006410', 'JobGroup_00006411', 'JobGroup_00006412', 'JobGroup_00006413', 'JobGroup_00006415', 'JobGroup_00006416', 'JobGroup_00006418', 'JobGroup_00006421', 'JobGroup_00006422', 'JobGroup_00006423', 'JobGroup_00006428', 'JobGroup_00006431', 'JobGroup_00006433', 'JobGroup_00006434', 'JobGroup_00006438', 'JobGroup_00006441', 'JobGroup_00006443', 'JobGroup_00006445', 'JobGroup_00006446', 'JobGroup_00006448', 'JobGroup_00006450', 'JobGroup_00006451', 'JobGroup_00006453', 'JobGroup_00006456', 'JobGroup_00006458', 'JobGroup_00006459', 'JobGroup_00006462', 'JobGroup_00006463', 'JobGroup_00006468', 'JobGroup_00006470', 'JobGroup_00006473', 'JobGroup_00006476', 'JobGroup_00006478', 'JobGroup_00006481', 'JobGroup_00006483', 'JobGroup_00006487', 'JobGroup_00006488', 'JobGroup_00006491', 'JobGroup_00006493', 'JobGroup_00006496', 'JobGroup_00006498', 'JobGroup_00006501', 'JobGroup_00006502', 'JobGroup_00006503', 'JobGroup_00006508', 'JobGroup_00006509', 'JobGroup_00006510', 'JobGroup_00006511', 'JobGroup_00006513', 'JobGroup_00006516', 'JobGroup_00006518', 'JobGroup_00006521', 'JobGroup_00006522', 'JobGroup_00006523', 'JobGroup_00006526', 'JobGroup_00006528', 'JobGroup_00006530', 'JobGroup_00006531', 'JobGroup_00006532', 'JobGroup_00006533', 'JobGroup_00006538', 'JobGroup_00006541', 'JobGroup_00006542', 'JobGroup_00006543', 'JobGroup_00006546', 'JobGroup_00006547', 'JobGroup_00006548', 'JobGroup_00006549', 'JobGroup_00006551', 'JobGroup_00006552', 'JobGroup_00006553', 'JobGroup_00006558', 'JobGroup_00006561', 'JobGroup_00006562', 'JobGroup_00006563', 'JobGroup_00006566', 'JobGroup_00006567', 'JobGroup_00006568', 'JobGroup_00006569', 'JobGroup_00006571', 'JobGroup_00006573', 'JobGroup_00006576', 'JobGroup_00006578', 'JobGroup_00006582', 'JobGroup_00006583', 'JobGroup_00006585', 'JobGroup_00006587', 'JobGroup_00006588', 'JobGroup_00006593', 'JobGroup_00006598', 'JobGroup_00006601', 'JobGroup_00006602', 'JobGroup_00006603', 'JobGroup_00006608', 'JobGroup_00006611', 'JobGroup_00006612', 'JobGroup_00006613', 'JobGroup_00006614', 'JobGroup_00006615', 'JobGroup_00006617', 'JobGroup_00006618', 'JobGroup_00006621', 'JobGroup_00006622', 'JobGroup_00006623', 'JobGroup_00006626', 'JobGroup_00006635', 'JobGroup_00006638', 'JobGroup_00006643', 'JobGroup_00006644', 'JobGroup_00006648', 'JobGroup_00006650', 'JobGroup_00006651', 'JobGroup_00006653', 'JobGroup_00006656', 'JobGroup_00006658', 'JobGroup_00006663', 'JobGroup_00006665', 'JobGroup_00006668', 'JobGroup_00006671', 'JobGroup_00006673', 'JobGroup_00006677', 'JobGroup_00006678', 'JobGroup_00006683', 'JobGroup_00006686', 'JobGroup_00006688', 'JobGroup_00006689', 'JobGroup_00006691', 'JobGroup_00006693', 'JobGroup_00006698', 'JobGroup_00006701', 'JobGroup_00006703', 'JobGroup_00006705', 'JobGroup_00006706', 'JobGroup_00006708', 'JobGroup_00006713', 'JobGroup_00006716', 'JobGroup_00006718', 'JobGroup_00006719', 'JobGroup_00006720', 'JobGroup_00006721', 'JobGroup_00006723', 'JobGroup_00006724', 'JobGroup_00006728', 'JobGroup_00006731', 'JobGroup_00006733', 'JobGroup_00006736', 'JobGroup_00006737', 'JobGroup_00006738', 'JobGroup_00006739', 'JobGroup_00006741', 'JobGroup_00006743', 'JobGroup_00006746', 'JobGroup_00006747', 'JobGroup_00006751', 'JobGroup_00006753', 'JobGroup_00006756', 'JobGroup_00006761', 'JobGroup_00006762', 'JobGroup_00006763', 'JobGroup_00006764', 'JobGroup_00006765', 'JobGroup_00006766', 'JobGroup_00006768', 'JobGroup_00006770', 'JobGroup_00006771', 'JobGroup_00006772', 'JobGroup_00006773', 'JobGroup_00006778', 'JobGroup_00006781', 'JobGroup_00006783', 'JobGroup_00006786', 'JobGroup_00006788', 'JobGroup_00006791', 'JobGroup_00006793', 'JobGroup_00006796', 'JobGroup_00006797', 'JobGroup_00006798', 'JobGroup_00006800', 'JobGroup_00006801', 'JobGroup_00006803', 'JobGroup_00006804', 'JobGroup_00006806', 'JobGroup_00006807', 'JobGroup_00006811', 'JobGroup_00006818', 'JobGroup_00006821', 'JobGroup_00006822', 'JobGroup_00006823', 'JobGroup_00006825', 'JobGroup_00006826', 'JobGroup_00006827', 'JobGroup_00006828', 'JobGroup_00006833', 'JobGroup_00006836', 'JobGroup_00006838', 'JobGroup_00006841', 'JobGroup_00006843', 'JobGroup_00006845', 'JobGroup_00006848', 'JobGroup_00006851', 'JobGroup_00006852', 'JobGroup_00006853', 'JobGroup_00006856', 'JobGroup_00006858', 'JobGroup_00006859', 'JobGroup_00006861', 'JobGroup_00006862', 'JobGroup_00006863', 'JobGroup_00006868', 'JobGroup_00006869', 'JobGroup_00006871', 'JobGroup_00006872', 'JobGroup_00006873', 'JobGroup_00006876', 'JobGroup_00006878', 'JobGroup_00006880', 'JobGroup_00006881', 'JobGroup_00006883', 'JobGroup_00006885', 'JobGroup_00006886', 'JobGroup_00006888', 'JobGroup_00006889', 'JobGroup_00006893', 'JobGroup_00006896', 'JobGroup_00006898', 'JobGroup_00006903', 'JobGroup_00006904', 'JobGroup_00006906', 'JobGroup_00006908', 'JobGroup_00006909', 'JobGroup_00006910', 'JobGroup_00006913', 'JobGroup_00006915', 'JobGroup_00006916', 'JobGroup_00006918', 'JobGroup_00006919', 'JobGroup_00006921', 'JobGroup_00006923', 'JobGroup_00006926', 'JobGroup_00006927', 'JobGroup_00006928', 'JobGroup_00006930', 'JobGroup_00006933', 'JobGroup_00006935', 'JobGroup_00006936', 'JobGroup_00006939', 'JobGroup_00006940', 'JobGroup_00006942', 'JobGroup_00006945', 'JobGroup_00006951', 'JobGroup_00006952', 'JobGroup_00006953', 'JobGroup_00006954', 'JobGroup_00006955', 'JobGroup_00006956', 'JobGroup_00006957', 'JobGroup_00006958', 'JobGroup_00006959', 'JobGroup_00006960', 'JobGroup_00006961', 'JobGroup_00006962', 'JobGroup_00006963', 'JobGroup_00006964', 'JobGroup_00006965', 'JobGroup_00006966', 'JobGroup_00006967', 'JobGroup_00006968', 'JobGroup_00006969', 'JobGroup_00006970', 'JobGroup_00006971', 'JobGroup_00006972', 'JobGroup_00006973', 'JobGroup_00006974', 'JobGroup_00006975', 'JobGroup_00006976', 'JobGroup_00006977', 'JobGroup_00006978', 'JobGroup_00006979', 'JobGroup_00006980', 'JobGroup_00006981', 'JobGroup_00006982', 'JobGroup_00006983', 'JobGroup_00006984', 'JobGroup_00006985', 'JobGroup_00006986', 'JobGroup_00006987', 'JobGroup_00006988', 'JobGroup_00006989', 'JobGroup_00006990', 'JobGroup_00006991', 'JobGroup_00006992', 'JobGroup_00006993', 'JobGroup_00006995', 'JobGroup_00006996', 'JobGroup_00006999', 'JobGroup_00007000', 'JobGroup_00007001', 'JobGroup_00007002', 'JobGroup_00007004', 'JobGroup_00007005', 'JobGroup_00007006', 'JobGroup_00007008', 'JobGroup_00007009', 'JobGroup_00007010', 'JobGroup_00007011', 'JobGroup_00007012', 'JobGroup_00007014', 'JobGroup_00007015', 'JobGroup_00007016', 'JobGroup_00007017', 'JobGroup_00007018', 'JobGroup_00007019', 'JobGroup_00007020', 'JobGroup_00007021', 'JobGroup_00007022', 'JobGroup_00007023', 'JobGroup_00007024', 'JobGroup_00007025', 'JobGroup_00007026', 'JobGroup_00007027', 'JobGroup_00007028', 'JobGroup_00007029', 'JobGroup_00007030', 'JobGroup_00007031', 'JobGroup_00007032', 'JobGroup_00007033', 'JobGroup_00007034', 'JobGroup_00007035', 'JobGroup_00007036', 'JobGroup_00007038', 'JobGroup_00007040', 'JobGroup_00007041', 'JobGroup_00007042', 'JobGroup_00007043', 'JobGroup_00007044', 'JobGroup_00007045', 'JobGroup_00007047', 'JobGroup_00007048', 'JobGroup_00007049', 'JobGroup_00007050', 'JobGroup_00007051', 'JobGroup_00007052', 'JobGroup_00007053', 'JobGroup_00007054', 'JobGroup_00007055', 'JobGroup_00007056', 'JobGroup_00007057', 'JobGroup_00007059', 'JobGroup_00007060', 'JobGroup_00007062', 'JobGroup_00007063', 'JobGroup_00007065', 'JobGroup_00007066', 'JobGroup_00007068', 'JobGroup_00007069', 'JobGroup_00007071', 'JobGroup_00007072', 'JobGroup_00007074', 'JobGroup_00007077', 'JobGroup_00007080', 'JobGroup_00007081', 'JobGroup_00007083', 'JobGroup_00007086', 'JobGroup_00007087', 'JobGroup_00007088', 'JobGroup_00007089', 'JobGroup_00007090', 'JobGroup_00007091', 'JobGroup_00007092', 'JobGroup_00007095', 'JobGroup_00007096', 'JobGroup_00007097', 'JobGroup_00007098', 'JobGroup_00007101', 'JobGroup_00007102', 'JobGroup_00007103', 'JobGroup_00007104', 'JobGroup_00007105', 'JobGroup_00007106', 'JobGroup_00007107', 'JobGroup_00007108', 'JobGroup_00007109', 'JobGroup_00007110', 'JobGroup_00007113', 'JobGroup_00007116', 'JobGroup_00007119', 'JobGroup_00007122', 'JobGroup_00007123', 'JobGroup_00007125', 'JobGroup_00007128', 'JobGroup_00007129', 'JobGroup_00007131', 'JobGroup_00007132', 'JobGroup_00007133', 'JobGroup_00007134', 'JobGroup_00007135', 'JobGroup_00007136', 'JobGroup_00007137', 'JobGroup_00007140', 'JobGroup_00007141', 'JobGroup_00007142', 'JobGroup_00007143', 'JobGroup_00007146', 'JobGroup_00007147', 'JobGroup_00007149', 'JobGroup_00007152', 'JobGroup_00007155', 'JobGroup_00007158', 'JobGroup_00007159', 'JobGroup_00007161', 'JobGroup_00007164', 'JobGroup_00007165', 'JobGroup_00007167', 'JobGroup_00007168', 'JobGroup_00007170', 'JobGroup_00007173', 'JobGroup_00007174', 'JobGroup_00007175', 'JobGroup_00007176', 'JobGroup_00007177', 'JobGroup_00007179', 'JobGroup_00007180', 'JobGroup_00007181', 'JobGroup_00007182', 'JobGroup_00007185', 'JobGroup_00007188', 'JobGroup_00007189', 'JobGroup_00007191', 'JobGroup_00007194', 'JobGroup_00007197', 'JobGroup_00007198', 'JobGroup_00007199', 'JobGroup_00007200', 'JobGroup_00007201', 'JobGroup_00007202', 'JobGroup_00007203', 'JobGroup_00007204', 'JobGroup_00007206', 'JobGroup_00007207', 'JobGroup_00007209', 'JobGroup_00007210', 'JobGroup_00007212', 'JobGroup_00007213', 'JobGroup_00007215', 'JobGroup_00007218', 'JobGroup_00007221', 'JobGroup_00007224', 'JobGroup_00007225', 'JobGroup_00007227', 'JobGroup_00007228', 'JobGroup_00007229', 'JobGroup_00007230', 'JobGroup_00007231', 'JobGroup_00007232', 'JobGroup_00007233', 'JobGroup_00007236', 'JobGroup_00007239', 'JobGroup_00007242', 'JobGroup_00007243', 'JobGroup_00007245', 'JobGroup_00007248', 'JobGroup_00007249', 'JobGroup_00007250', 'JobGroup_00007251', 'JobGroup_00007254', 'JobGroup_00007255', 'JobGroup_00007256', 'JobGroup_00007257', 'JobGroup_00007258', 'JobGroup_00007259', 'JobGroup_00007260', 'JobGroup_00007261', 'JobGroup_DKpieta_ccbar01', 'JobGroup_DKpieta_uubar01', 'JobGroup_NoGroup', 'JobGroup_third_test_220317', 'Site_ARC.DESY.de', 'Site_ARC.KIT.de', 'Site_ARC.LMU2.de', 'Site_ARC.MPPMU.de', 'Site_ARC.SIGNET.si', 'Site_CLOUD.AWS_Sydney.au', 'Site_CLOUD.AWS_Tokyo.jp', 'Site_CLOUD.AWS_Virginia.us', 'Site_CLOUD.CC1_Krakow.pl', 'Site_DIRAC.BINP.ru', 'Site_DIRAC.Beihang.cn', 'Site_DIRAC.CINVESTAV.mx', 'Site_DIRAC.DESY.de', 'Site_DIRAC.Hokudai.jp', 'Site_DIRAC.IITG.in', 'Site_DIRAC.MIPT.ru', 'Site_DIRAC.NDU.jp', 'Site_DIRAC.Nagoya.jp', 'Site_DIRAC.Nara-WU.jp', 'Site_DIRAC.Niigata.jp', 'Site_DIRAC.Osaka-CU.jp', 'Site_DIRAC.PNNL.us', 'Site_DIRAC.PNNL2.us', 'Site_DIRAC.RCNP.jp', 'Site_DIRAC.SSU.kr', 'Site_DIRAC.TIFR.in', 'Site_DIRAC.TMU.jp', 'Site_DIRAC.Test.jp', 'Site_DIRAC.Tokyo.jp', 'Site_DIRAC.UAS.mx', 'Site_DIRAC.UVic.ca', 'Site_DIRAC.Yamagata.jp', 'Site_DIRAC.Yonsei.kr', 'Site_Group.DESY.de', 'Site_Group.KEK.jp', 'Site_Group.KEK2.jp', 'Site_Group.PNNL.us', 'Site_LCG.CESNET.cz', 'Site_LCG.CNAF.it', 'Site_LCG.CYFRONET.pl', 'Site_LCG.Cosenza.it', 'Site_LCG.DESY.de', 'Site_LCG.Frascati.it', 'Site_LCG.HEPHY.at', 'Site_LCG.KEK.jp', 'Site_LCG.KEK2.jp', 'Site_LCG.KISTI.kr', 'Site_LCG.KIT.de', 'Site_LCG.KMI.jp', 'Site_LCG.Legnaro.it', 'Site_LCG.MPPMU.de', 'Site_LCG.McGill.ca', 'Site_LCG.Melbourne.au', 'Site_LCG.NCHC.tw', 'Site_LCG.NTU.tw', 'Site_LCG.Napoli.it', 'Site_LCG.Pisa.it', 'Site_LCG.Roma3.it', 'Site_LCG.Torino.it', 'Site_LCG.ULAKBIM.tr', 'Site_Multiple', 'Site_OSG.UMiss.us', 'Site_SSH.KMI.jp', 'Status_Failed', 'UserPriority_1', 'UserPriority_2', 'UserPriority_3', 'UserPriority_4', 'UserPriority_5', 'UserPriority_6', 'UserPriority_7', 'UserPriority_9', 'UserPriority_10']\n"
     ]
    }
   ],
   "source": [
    "print([x for x in allJobs_encoded.columns])"
   ]
  }
 ],
 "metadata": {
  "kernelspec": {
   "display_name": "Python 3",
   "language": "python",
   "name": "python3"
  },
  "language_info": {
   "codemirror_mode": {
    "name": "ipython",
    "version": 3
   },
   "file_extension": ".py",
   "mimetype": "text/x-python",
   "name": "python",
   "nbconvert_exporter": "python",
   "pygments_lexer": "ipython3",
   "version": "3.6.0"
  }
 },
 "nbformat": 4,
 "nbformat_minor": 2
}
