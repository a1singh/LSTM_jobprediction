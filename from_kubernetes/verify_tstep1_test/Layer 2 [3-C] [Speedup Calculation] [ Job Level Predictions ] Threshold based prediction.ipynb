{
 "cells": [
  {
   "cell_type": "code",
   "execution_count": 1,
   "metadata": {},
   "outputs": [],
   "source": [
    "import pandas as pd\n",
    "import numpy as np"
   ]
  },
  {
   "cell_type": "markdown",
   "metadata": {},
   "source": [
    "## Load global_results from disk for speedup calculations"
   ]
  },
  {
   "cell_type": "code",
   "execution_count": 2,
   "metadata": {},
   "outputs": [],
   "source": [
    "df = pd.read_pickle(\"global_results_df_param_0.95_3_20.picle\")"
   ]
  },
  {
   "cell_type": "markdown",
   "metadata": {},
   "source": [
    "## Analyze"
   ]
  },
  {
   "cell_type": "code",
   "execution_count": 3,
   "metadata": {},
   "outputs": [
    {
     "data": {
      "text/plain": [
       "29.858447915692327"
      ]
     },
     "execution_count": 3,
     "metadata": {},
     "output_type": "execute_result"
    }
   ],
   "source": [
    "100*len(df[df['noofheartbeats']==1])/len(df)"
   ]
  },
  {
   "cell_type": "code",
   "execution_count": 4,
   "metadata": {},
   "outputs": [
    {
     "data": {
      "text/plain": [
       "90.33267857699623"
      ]
     },
     "execution_count": 4,
     "metadata": {},
     "output_type": "execute_result"
    }
   ],
   "source": [
    "100*len(df[df['noofheartbeats']<=26])/len(df)"
   ]
  },
  {
   "cell_type": "code",
   "execution_count": 5,
   "metadata": {},
   "outputs": [
    {
     "data": {
      "text/plain": [
       "count    320730.000000\n",
       "mean         10.968700\n",
       "std          11.612452\n",
       "min           1.000000\n",
       "25%           1.000000\n",
       "50%           8.000000\n",
       "75%          16.000000\n",
       "max         144.000000\n",
       "Name: noofheartbeats, dtype: float64"
      ]
     },
     "execution_count": 5,
     "metadata": {},
     "output_type": "execute_result"
    }
   ],
   "source": [
    "df['noofheartbeats'].describe()"
   ]
  },
  {
   "cell_type": "code",
   "execution_count": 6,
   "metadata": {},
   "outputs": [
    {
     "data": {
      "text/plain": [
       "58740"
      ]
     },
     "execution_count": 6,
     "metadata": {},
     "output_type": "execute_result"
    }
   ],
   "source": [
    "len(df[df['truelabel'] != df['predictedlabel']])"
   ]
  },
  {
   "cell_type": "code",
   "execution_count": 7,
   "metadata": {},
   "outputs": [
    {
     "data": {
      "text/plain": [
       "12282"
      ]
     },
     "execution_count": 7,
     "metadata": {},
     "output_type": "execute_result"
    }
   ],
   "source": [
    "# No of jobs where no decision was made\n",
    "len( df[df['predictedlabel'] == -1]) "
   ]
  },
  {
   "cell_type": "code",
   "execution_count": 9,
   "metadata": {},
   "outputs": [
    {
     "data": {
      "text/plain": [
       "1791.4930372600677"
      ]
     },
     "execution_count": 9,
     "metadata": {},
     "output_type": "execute_result"
    }
   ],
   "source": [
    "# Verification only: We expect average to be 1800 since measurements are every 30mins\n",
    "\n",
    "getnonzeros = []\n",
    "for x in np.sort(df.totaljobduration):\n",
    "    if x != 0 and x< 1800:\n",
    "        getnonzeros.append(x)\n",
    "\n",
    "sum(getnonzeros)/float(len(getnonzeros))"
   ]
  },
  {
   "cell_type": "markdown",
   "metadata": {},
   "source": [
    "## Process: Replace all 0 totaljobduration with 1800 (30mins)"
   ]
  },
  {
   "cell_type": "code",
   "execution_count": 10,
   "metadata": {},
   "outputs": [
    {
     "data": {
      "text/plain": [
       "(95765, 724)"
      ]
     },
     "execution_count": 10,
     "metadata": {},
     "output_type": "execute_result"
    }
   ],
   "source": [
    "len(df[df['totaljobduration']==0]),  len(df[df['totaljobduration'] == 1800])"
   ]
  },
  {
   "cell_type": "code",
   "execution_count": 11,
   "metadata": {},
   "outputs": [],
   "source": [
    "df = df.replace({'totaljobduration': {0: 1800.0 }}) "
   ]
  },
  {
   "cell_type": "code",
   "execution_count": 12,
   "metadata": {},
   "outputs": [
    {
     "data": {
      "text/plain": [
       "(0, 96489)"
      ]
     },
     "execution_count": 12,
     "metadata": {},
     "output_type": "execute_result"
    }
   ],
   "source": [
    "len(df[df['totaljobduration']==0]),  len(df[df['totaljobduration'] == 1800])"
   ]
  },
  {
   "cell_type": "markdown",
   "metadata": {},
   "source": [
    "## Process: Replace all 0 predictionduration with 1800 (30mins)"
   ]
  },
  {
   "cell_type": "code",
   "execution_count": 13,
   "metadata": {},
   "outputs": [
    {
     "data": {
      "text/plain": [
       "(95765, 751)"
      ]
     },
     "execution_count": 13,
     "metadata": {},
     "output_type": "execute_result"
    }
   ],
   "source": [
    "len(df[df['predictionduration']==0]),  len(df[df['predictionduration'] == 1800])"
   ]
  },
  {
   "cell_type": "code",
   "execution_count": 14,
   "metadata": {},
   "outputs": [],
   "source": [
    "df = df.replace({'predictionduration': {0: 1800.0 }}) "
   ]
  },
  {
   "cell_type": "code",
   "execution_count": 15,
   "metadata": {},
   "outputs": [
    {
     "data": {
      "text/plain": [
       "(0, 96516)"
      ]
     },
     "execution_count": 15,
     "metadata": {},
     "output_type": "execute_result"
    }
   ],
   "source": [
    "len(df[df['predictionduration']==0]),  len(df[df['predictionduration'] == 1800])"
   ]
  },
  {
   "cell_type": "markdown",
   "metadata": {},
   "source": [
    "## Get all jobs where a decision was made"
   ]
  },
  {
   "cell_type": "code",
   "execution_count": 16,
   "metadata": {},
   "outputs": [],
   "source": [
    "decision_df = df[ df.predictedlabel != -1 ]"
   ]
  },
  {
   "cell_type": "code",
   "execution_count": 17,
   "metadata": {},
   "outputs": [
    {
     "data": {
      "text/plain": [
       "308448"
      ]
     },
     "execution_count": 17,
     "metadata": {},
     "output_type": "execute_result"
    }
   ],
   "source": [
    "len(decision_df)"
   ]
  },
  {
   "cell_type": "code",
   "execution_count": 18,
   "metadata": {},
   "outputs": [
    {
     "data": {
      "text/html": [
       "<div>\n",
       "<style scoped>\n",
       "    .dataframe tbody tr th:only-of-type {\n",
       "        vertical-align: middle;\n",
       "    }\n",
       "\n",
       "    .dataframe tbody tr th {\n",
       "        vertical-align: top;\n",
       "    }\n",
       "\n",
       "    .dataframe thead th {\n",
       "        text-align: right;\n",
       "    }\n",
       "</style>\n",
       "<table border=\"1\" class=\"dataframe\">\n",
       "  <thead>\n",
       "    <tr style=\"text-align: right;\">\n",
       "      <th></th>\n",
       "      <th>jobID</th>\n",
       "      <th>totaljobduration</th>\n",
       "      <th>predictionduration</th>\n",
       "      <th>localsamplefrac</th>\n",
       "      <th>noofheartbeats</th>\n",
       "      <th>decision_threshold</th>\n",
       "      <th>truelabel</th>\n",
       "      <th>predictedlabel</th>\n",
       "    </tr>\n",
       "  </thead>\n",
       "  <tbody>\n",
       "    <tr>\n",
       "      <th>0</th>\n",
       "      <td>33751041</td>\n",
       "      <td>9008.0</td>\n",
       "      <td>3604.0</td>\n",
       "      <td>0.500000</td>\n",
       "      <td>6</td>\n",
       "      <td>0.95</td>\n",
       "      <td>0</td>\n",
       "      <td>0</td>\n",
       "    </tr>\n",
       "    <tr>\n",
       "      <th>1</th>\n",
       "      <td>33292290</td>\n",
       "      <td>10801.0</td>\n",
       "      <td>3604.0</td>\n",
       "      <td>0.428571</td>\n",
       "      <td>7</td>\n",
       "      <td>0.95</td>\n",
       "      <td>0</td>\n",
       "      <td>0</td>\n",
       "    </tr>\n",
       "    <tr>\n",
       "      <th>2</th>\n",
       "      <td>32636931</td>\n",
       "      <td>1800.0</td>\n",
       "      <td>1800.0</td>\n",
       "      <td>1.000000</td>\n",
       "      <td>1</td>\n",
       "      <td>0.95</td>\n",
       "      <td>0</td>\n",
       "      <td>0</td>\n",
       "    </tr>\n",
       "    <tr>\n",
       "      <th>3</th>\n",
       "      <td>32243716</td>\n",
       "      <td>14418.0</td>\n",
       "      <td>3606.0</td>\n",
       "      <td>0.333333</td>\n",
       "      <td>9</td>\n",
       "      <td>0.95</td>\n",
       "      <td>1</td>\n",
       "      <td>1</td>\n",
       "    </tr>\n",
       "    <tr>\n",
       "      <th>4</th>\n",
       "      <td>33613353</td>\n",
       "      <td>12599.0</td>\n",
       "      <td>3607.0</td>\n",
       "      <td>0.375000</td>\n",
       "      <td>8</td>\n",
       "      <td>0.95</td>\n",
       "      <td>0</td>\n",
       "      <td>0</td>\n",
       "    </tr>\n",
       "  </tbody>\n",
       "</table>\n",
       "</div>"
      ],
      "text/plain": [
       "      jobID  totaljobduration  predictionduration  localsamplefrac  \\\n",
       "0  33751041            9008.0              3604.0         0.500000   \n",
       "1  33292290           10801.0              3604.0         0.428571   \n",
       "2  32636931            1800.0              1800.0         1.000000   \n",
       "3  32243716           14418.0              3606.0         0.333333   \n",
       "4  33613353           12599.0              3607.0         0.375000   \n",
       "\n",
       "   noofheartbeats  decision_threshold  truelabel  predictedlabel  \n",
       "0               6                0.95          0               0  \n",
       "1               7                0.95          0               0  \n",
       "2               1                0.95          0               0  \n",
       "3               9                0.95          1               1  \n",
       "4               8                0.95          0               0  "
      ]
     },
     "execution_count": 18,
     "metadata": {},
     "output_type": "execute_result"
    }
   ],
   "source": [
    "decision_df.head()"
   ]
  },
  {
   "cell_type": "code",
   "execution_count": 19,
   "metadata": {},
   "outputs": [
    {
     "data": {
      "text/html": [
       "<div>\n",
       "<style scoped>\n",
       "    .dataframe tbody tr th:only-of-type {\n",
       "        vertical-align: middle;\n",
       "    }\n",
       "\n",
       "    .dataframe tbody tr th {\n",
       "        vertical-align: top;\n",
       "    }\n",
       "\n",
       "    .dataframe thead th {\n",
       "        text-align: right;\n",
       "    }\n",
       "</style>\n",
       "<table border=\"1\" class=\"dataframe\">\n",
       "  <thead>\n",
       "    <tr style=\"text-align: right;\">\n",
       "      <th></th>\n",
       "      <th>jobID</th>\n",
       "      <th>totaljobduration</th>\n",
       "      <th>predictionduration</th>\n",
       "      <th>localsamplefrac</th>\n",
       "      <th>noofheartbeats</th>\n",
       "      <th>decision_threshold</th>\n",
       "      <th>truelabel</th>\n",
       "      <th>predictedlabel</th>\n",
       "    </tr>\n",
       "  </thead>\n",
       "  <tbody>\n",
       "    <tr>\n",
       "      <th>count</th>\n",
       "      <td>3.084480e+05</td>\n",
       "      <td>308448.000000</td>\n",
       "      <td>308448.000000</td>\n",
       "      <td>308448.000000</td>\n",
       "      <td>308448.000000</td>\n",
       "      <td>3.084480e+05</td>\n",
       "      <td>308448.000000</td>\n",
       "      <td>308448.000000</td>\n",
       "    </tr>\n",
       "    <tr>\n",
       "      <th>mean</th>\n",
       "      <td>4.054929e+07</td>\n",
       "      <td>18229.540224</td>\n",
       "      <td>2993.808337</td>\n",
       "      <td>0.543960</td>\n",
       "      <td>10.765773</td>\n",
       "      <td>9.500000e-01</td>\n",
       "      <td>0.472845</td>\n",
       "      <td>0.428902</td>\n",
       "    </tr>\n",
       "    <tr>\n",
       "      <th>std</th>\n",
       "      <td>4.564101e+06</td>\n",
       "      <td>20555.083382</td>\n",
       "      <td>977.722483</td>\n",
       "      <td>0.376345</td>\n",
       "      <td>11.609291</td>\n",
       "      <td>2.220450e-16</td>\n",
       "      <td>0.499263</td>\n",
       "      <td>0.494920</td>\n",
       "    </tr>\n",
       "    <tr>\n",
       "      <th>min</th>\n",
       "      <td>2.314108e+07</td>\n",
       "      <td>44.000000</td>\n",
       "      <td>44.000000</td>\n",
       "      <td>0.020833</td>\n",
       "      <td>1.000000</td>\n",
       "      <td>9.500000e-01</td>\n",
       "      <td>0.000000</td>\n",
       "      <td>0.000000</td>\n",
       "    </tr>\n",
       "    <tr>\n",
       "      <th>25%</th>\n",
       "      <td>3.744094e+07</td>\n",
       "      <td>1800.000000</td>\n",
       "      <td>1800.000000</td>\n",
       "      <td>0.187500</td>\n",
       "      <td>1.000000</td>\n",
       "      <td>9.500000e-01</td>\n",
       "      <td>0.000000</td>\n",
       "      <td>0.000000</td>\n",
       "    </tr>\n",
       "    <tr>\n",
       "      <th>50%</th>\n",
       "      <td>4.040458e+07</td>\n",
       "      <td>10887.500000</td>\n",
       "      <td>3602.000000</td>\n",
       "      <td>0.428571</td>\n",
       "      <td>7.000000</td>\n",
       "      <td>9.500000e-01</td>\n",
       "      <td>0.000000</td>\n",
       "      <td>0.000000</td>\n",
       "    </tr>\n",
       "    <tr>\n",
       "      <th>75%</th>\n",
       "      <td>4.448816e+07</td>\n",
       "      <td>26999.000000</td>\n",
       "      <td>3605.000000</td>\n",
       "      <td>1.000000</td>\n",
       "      <td>16.000000</td>\n",
       "      <td>9.500000e-01</td>\n",
       "      <td>1.000000</td>\n",
       "      <td>1.000000</td>\n",
       "    </tr>\n",
       "    <tr>\n",
       "      <th>max</th>\n",
       "      <td>4.830656e+07</td>\n",
       "      <td>257452.000000</td>\n",
       "      <td>98083.000000</td>\n",
       "      <td>1.000000</td>\n",
       "      <td>144.000000</td>\n",
       "      <td>9.500000e-01</td>\n",
       "      <td>1.000000</td>\n",
       "      <td>1.000000</td>\n",
       "    </tr>\n",
       "  </tbody>\n",
       "</table>\n",
       "</div>"
      ],
      "text/plain": [
       "              jobID  totaljobduration  predictionduration  localsamplefrac  \\\n",
       "count  3.084480e+05     308448.000000       308448.000000    308448.000000   \n",
       "mean   4.054929e+07      18229.540224         2993.808337         0.543960   \n",
       "std    4.564101e+06      20555.083382          977.722483         0.376345   \n",
       "min    2.314108e+07         44.000000           44.000000         0.020833   \n",
       "25%    3.744094e+07       1800.000000         1800.000000         0.187500   \n",
       "50%    4.040458e+07      10887.500000         3602.000000         0.428571   \n",
       "75%    4.448816e+07      26999.000000         3605.000000         1.000000   \n",
       "max    4.830656e+07     257452.000000        98083.000000         1.000000   \n",
       "\n",
       "       noofheartbeats  decision_threshold      truelabel  predictedlabel  \n",
       "count   308448.000000        3.084480e+05  308448.000000   308448.000000  \n",
       "mean        10.765773        9.500000e-01       0.472845        0.428902  \n",
       "std         11.609291        2.220450e-16       0.499263        0.494920  \n",
       "min          1.000000        9.500000e-01       0.000000        0.000000  \n",
       "25%          1.000000        9.500000e-01       0.000000        0.000000  \n",
       "50%          7.000000        9.500000e-01       0.000000        0.000000  \n",
       "75%         16.000000        9.500000e-01       1.000000        1.000000  \n",
       "max        144.000000        9.500000e-01       1.000000        1.000000  "
      ]
     },
     "execution_count": 19,
     "metadata": {},
     "output_type": "execute_result"
    }
   ],
   "source": [
    "decision_df.describe()"
   ]
  },
  {
   "cell_type": "markdown",
   "metadata": {},
   "source": [
    "## New Computational Time Estimate (NCTE)\n",
    "## NCTE = A(TN) + B(TP) + C(FP) + D(FN)"
   ]
  },
  {
   "cell_type": "markdown",
   "metadata": {},
   "source": [
    "## A: True Negatives predictions"
   ]
  },
  {
   "cell_type": "code",
   "execution_count": 20,
   "metadata": {},
   "outputs": [],
   "source": [
    "truenegative = decision_df[ (decision_df['truelabel'] == 0) & (decision_df['predictedlabel'] == 0) ]"
   ]
  },
  {
   "cell_type": "code",
   "execution_count": 21,
   "metadata": {},
   "outputs": [
    {
     "data": {
      "text/plain": [
       "146148"
      ]
     },
     "execution_count": 21,
     "metadata": {},
     "output_type": "execute_result"
    }
   ],
   "source": [
    "#For Verification against confusion matrix\n",
    "len(truenegative)"
   ]
  },
  {
   "cell_type": "code",
   "execution_count": 22,
   "metadata": {},
   "outputs": [
    {
     "data": {
      "text/plain": [
       "854263.3966666666"
      ]
     },
     "execution_count": 22,
     "metadata": {},
     "output_type": "execute_result"
    }
   ],
   "source": [
    "A = sum(truenegative['totaljobduration'])\n",
    "A = A/3600.0 #Hours(TN)\n",
    "A"
   ]
  },
  {
   "cell_type": "markdown",
   "metadata": {},
   "source": [
    "## B: True Positives predictions"
   ]
  },
  {
   "cell_type": "code",
   "execution_count": 23,
   "metadata": {},
   "outputs": [],
   "source": [
    "truepositive = decision_df[ (decision_df['truelabel'] == 1) & (decision_df['predictedlabel'] == 1) ]"
   ]
  },
  {
   "cell_type": "code",
   "execution_count": 24,
   "metadata": {},
   "outputs": [
    {
     "data": {
      "text/plain": [
       "115842"
      ]
     },
     "execution_count": 24,
     "metadata": {},
     "output_type": "execute_result"
    }
   ],
   "source": [
    "#For Verification against confusion matrix\n",
    "len(truepositive)"
   ]
  },
  {
   "cell_type": "code",
   "execution_count": 25,
   "metadata": {},
   "outputs": [],
   "source": [
    "mean_success_jobs = df[df['truelabel'] == 0]['totaljobduration'].mean()"
   ]
  },
  {
   "cell_type": "code",
   "execution_count": 26,
   "metadata": {},
   "outputs": [
    {
     "data": {
      "text/plain": [
       "802139.4144251575"
      ]
     },
     "execution_count": 26,
     "metadata": {},
     "output_type": "execute_result"
    }
   ],
   "source": [
    "B = sum(truepositive['predictionduration'])+ len(truepositive)*mean_success_jobs\n",
    "B = B/3600.0\n",
    "B"
   ]
  },
  {
   "cell_type": "markdown",
   "metadata": {},
   "source": [
    "## C:  \"False Positives\" predictions"
   ]
  },
  {
   "cell_type": "code",
   "execution_count": 27,
   "metadata": {},
   "outputs": [],
   "source": [
    "falsepositives = decision_df[ (decision_df['truelabel'] == 0) & (decision_df['predictedlabel'] == 1) ]"
   ]
  },
  {
   "cell_type": "code",
   "execution_count": 28,
   "metadata": {},
   "outputs": [
    {
     "data": {
      "text/plain": [
       "16452"
      ]
     },
     "execution_count": 28,
     "metadata": {},
     "output_type": "execute_result"
    }
   ],
   "source": [
    "#For Verification against confusion matrix\n",
    "len(falsepositives)"
   ]
  },
  {
   "cell_type": "code",
   "execution_count": 29,
   "metadata": {},
   "outputs": [
    {
     "data": {
      "text/plain": [
       "146622.06916666665"
      ]
     },
     "execution_count": 29,
     "metadata": {},
     "output_type": "execute_result"
    }
   ],
   "source": [
    "C = sum(falsepositives['predictionduration'])+sum(falsepositives['totaljobduration'])\n",
    "C = C/3600.0\n",
    "C"
   ]
  },
  {
   "cell_type": "markdown",
   "metadata": {},
   "source": [
    "## D: False Negative predictions"
   ]
  },
  {
   "cell_type": "code",
   "execution_count": 30,
   "metadata": {},
   "outputs": [],
   "source": [
    "falsenegatives = decision_df[ (decision_df['truelabel'] == 1) & (decision_df['predictedlabel'] == 0) ]"
   ]
  },
  {
   "cell_type": "code",
   "execution_count": 31,
   "metadata": {},
   "outputs": [
    {
     "data": {
      "text/plain": [
       "30006"
      ]
     },
     "execution_count": 31,
     "metadata": {},
     "output_type": "execute_result"
    }
   ],
   "source": [
    "#For Verification against confusion matrix\n",
    "len(falsenegatives)"
   ]
  },
  {
   "cell_type": "code",
   "execution_count": 32,
   "metadata": {},
   "outputs": [
    {
     "data": {
      "text/plain": [
       "314202.10769081686"
      ]
     },
     "execution_count": 32,
     "metadata": {},
     "output_type": "execute_result"
    }
   ],
   "source": [
    "D = sum(falsenegatives['totaljobduration']) + len(falsenegatives)*mean_success_jobs\n",
    "D = D/3600.0\n",
    "D"
   ]
  },
  {
   "cell_type": "markdown",
   "metadata": {},
   "source": [
    "## Original Computational Time Estimate (OCTE)\n",
    "## OCTE = E(Done) + F(Failed) + G(re-run of Failed)"
   ]
  },
  {
   "cell_type": "code",
   "execution_count": 33,
   "metadata": {},
   "outputs": [
    {
     "data": {
      "text/plain": [
       "985911.7288888888"
      ]
     },
     "execution_count": 33,
     "metadata": {},
     "output_type": "execute_result"
    }
   ],
   "source": [
    "# 'Done' jobs\n",
    "E = sum(decision_df[decision_df['truelabel'] == 0]['totaljobduration'])\n",
    "E = E/3600.0\n",
    "E"
   ]
  },
  {
   "cell_type": "code",
   "execution_count": 34,
   "metadata": {},
   "outputs": [
    {
     "data": {
      "text/plain": [
       "575995.2775"
      ]
     },
     "execution_count": 34,
     "metadata": {},
     "output_type": "execute_result"
    }
   ],
   "source": [
    "# 'Failed' jobs\n",
    "F = sum(decision_df[decision_df['truelabel'] == 1]['totaljobduration'])\n",
    "F = F/3600.0\n",
    "F"
   ]
  },
  {
   "cell_type": "code",
   "execution_count": 35,
   "metadata": {},
   "outputs": [
    {
     "data": {
      "text/plain": [
       "901002.6396159743"
      ]
     },
     "execution_count": 35,
     "metadata": {},
     "output_type": "execute_result"
    }
   ],
   "source": [
    "# re-run of 'Failed' jobs\n",
    "G = len(decision_df[decision_df['truelabel'] == 1])*mean_success_jobs\n",
    "G = G/3600.0\n",
    "G"
   ]
  },
  {
   "cell_type": "markdown",
   "metadata": {},
   "source": [
    "## Speedup"
   ]
  },
  {
   "cell_type": "code",
   "execution_count": 36,
   "metadata": {},
   "outputs": [],
   "source": [
    "old_total_time = E + F+ G\n",
    "new_total_time = A + B+ C +D"
   ]
  },
  {
   "cell_type": "code",
   "execution_count": 37,
   "metadata": {},
   "outputs": [
    {
     "data": {
      "text/plain": [
       "39.46149064561136"
      ]
     },
     "execution_count": 37,
     "metadata": {},
     "output_type": "execute_result"
    }
   ],
   "source": [
    "# Years (speedup)\n",
    "(old_total_time - new_total_time)/(24.0*365)"
   ]
  },
  {
   "cell_type": "code",
   "execution_count": 38,
   "metadata": {},
   "outputs": [
    {
     "data": {
      "text/plain": [
       "14.035539574758438"
      ]
     },
     "execution_count": 38,
     "metadata": {},
     "output_type": "execute_result"
    }
   ],
   "source": [
    "# Percentage (speedup)\n",
    "perc = 100.0*(old_total_time - new_total_time)/(old_total_time)\n",
    "perc"
   ]
  },
  {
   "cell_type": "code",
   "execution_count": null,
   "metadata": {},
   "outputs": [],
   "source": []
  }
 ],
 "metadata": {
  "kernelspec": {
   "display_name": "Python 3",
   "language": "python",
   "name": "python3"
  },
  "language_info": {
   "codemirror_mode": {
    "name": "ipython",
    "version": 3
   },
   "file_extension": ".py",
   "mimetype": "text/x-python",
   "name": "python",
   "nbconvert_exporter": "python",
   "pygments_lexer": "ipython3",
   "version": "3.5.2"
  }
 },
 "nbformat": 4,
 "nbformat_minor": 2
}
