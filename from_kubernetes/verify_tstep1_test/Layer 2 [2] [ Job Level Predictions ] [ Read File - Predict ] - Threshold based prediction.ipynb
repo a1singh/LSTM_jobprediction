{
 "cells": [
  {
   "cell_type": "code",
   "execution_count": 1,
   "metadata": {},
   "outputs": [
    {
     "name": "stderr",
     "output_type": "stream",
     "text": [
      "/usr/local/lib/python3.5/dist-packages/h5py/__init__.py:36: FutureWarning: Conversion of the second argument of issubdtype from `float` to `np.floating` is deprecated. In future, it will be treated as `np.float64 == np.dtype(float).type`.\n",
      "  from ._conv import register_converters as _register_converters\n",
      "Using TensorFlow backend.\n"
     ]
    }
   ],
   "source": [
    "import os\n",
    "import gc\n",
    "import pickle\n",
    "import pandas as pd\n",
    "import numpy as np\n",
    "import sys\n",
    "from os import listdir\n",
    "from os.path import isfile, join\n",
    "from keras.models import Model, Sequential\n",
    "from keras.layers import LSTM, Dense, Embedding\n",
    "from keras.utils import multi_gpu_model\n",
    "from sklearn.metrics import precision_recall_fscore_support as score\n",
    "import multiprocessing\n",
    "from joblib import Parallel, delayed\n",
    "\n",
    "path                 = \".\""
   ]
  },
  {
   "cell_type": "code",
   "execution_count": 2,
   "metadata": {},
   "outputs": [],
   "source": [
    "# FIX 1 of 3 : set the following vars\n",
    "path                 = \".\" #path to dir where test pickles reside and h5 file is\n",
    "modelfingerprint     = \"kubernetes_train_[80-20]_giga_long_mltithrdedgentr_PikTranSav_Mdl_[J_Filternet_tstep1]_epch_75_kube_binar_crsentr_adm_binar_acc.py\" # name of py file\n",
    "modelweightsfilename = \"kubernetes_train_[80-20]_giga_long_mltithrdedgentr_PikTranSav_Mdl_[J_Filternet_tstep1]_epch_75_kube_binar_crsentr_adm_binar_acc.h5\" # name of h5 file\n",
    "\n",
    "# FIX 2 of 3: update the input_length as per timesteps\n",
    "input_length    = 1 # 1 or 2                        # X_final.shape[1]\n",
    "input_dim       = 3541                              # X_final.shape[2]\n",
    "output_dim      = 1\n",
    "\n",
    "pickgpus = \"0,1\"\n",
    "os.environ[\"CUDA_VISIBLE_DEVICES\"] = pickgpus\n",
    "\n",
    "def create_model(input_dim, input_length, output_dim):\n",
    "    print ('Creating model...')\n",
    "    # FIX 3 of 3: copy everything from here till 'return parallel_model'\n",
    "    model = Sequential()\n",
    "    model.add(LSTM(2000, input_shape=(input_length,input_dim),return_sequences=True))\n",
    "    model.add(LSTM(2000, input_shape=(input_length,input_dim),return_sequences=True))\n",
    "    model.add(LSTM(1000, input_shape=(input_length,input_dim),return_sequences=True))\n",
    "    model.add(LSTM(2000, input_shape=(input_length,input_dim),return_sequences=True))\n",
    "    model.add(LSTM(2000))\n",
    "    model.add(Dense(output_dim, activation='sigmoid'))\n",
    "    ###\n",
    "    print('Initiating parallel GPU model')\n",
    "    parallel_model = multi_gpu_model(model, gpus=1+pickgpus.count(\",\"))\n",
    "    print ('Compiling...')\n",
    "    parallel_model.compile(loss='binary_crossentropy',optimizer='adam',metrics=['binary_accuracy'])\n",
    "    return parallel_model"
   ]
  },
  {
   "cell_type": "code",
   "execution_count": 3,
   "metadata": {},
   "outputs": [
    {
     "name": "stdout",
     "output_type": "stream",
     "text": [
      "Creating model...\n",
      "Initiating parallel GPU model\n",
      "Compiling...\n",
      "Loading Model weights before Testing\n"
     ]
    }
   ],
   "source": [
    "# STEP 1\n",
    "model   = create_model(input_dim, input_length, output_dim)\n",
    "# STEP 2\n",
    "print('Loading Model weights before Testing')\n",
    "model.load_weights( join(path, modelweightsfilename) )"
   ]
  },
  {
   "cell_type": "code",
   "execution_count": 4,
   "metadata": {},
   "outputs": [],
   "source": [
    "# warm up\n",
    "warmup=True"
   ]
  },
  {
   "cell_type": "code",
   "execution_count": 5,
   "metadata": {},
   "outputs": [],
   "source": [
    "test_files = [f for f in listdir(path) if isfile(join(path, f))]\n",
    "test_files = [x for x in test_files if 'dict_jobID_' in x and 'FROM_giga_takeoutdf_w_jobgroup.pickle' in x ]\n",
    "test_files.sort()"
   ]
  },
  {
   "cell_type": "code",
   "execution_count": 6,
   "metadata": {},
   "outputs": [],
   "source": [
    "import itertools\n",
    "\n",
    "def chunked(it, size):\n",
    "    it = iter(it)\n",
    "    while True:\n",
    "        p = tuple(itertools.islice(it, size))\n",
    "        if not p:\n",
    "            break\n",
    "        yield p"
   ]
  },
  {
   "cell_type": "code",
   "execution_count": 7,
   "metadata": {},
   "outputs": [],
   "source": [
    "# parameters\n",
    "from threading import Lock\n",
    "\n",
    "samplefrac         = 0.1\n",
    "decision_threshold = 0.95\n",
    "minsamplestopick   = 3\n",
    "lock               = Lock()\n",
    "\n",
    "def h(jobID_Xtest_Ytest):\n",
    "    global model\n",
    "    global samplefrac\n",
    "    global global_dict\n",
    "    global lock\n",
    "    global takeoutdf\n",
    "    global minsamplestopick\n",
    "    \n",
    "    localsamplefrac = samplefrac\n",
    "    Y_true = []\n",
    "    Y_pred = []\n",
    "    #\n",
    "    #\n",
    "    \n",
    "    jobID, X_test, Y_test     = jobID_Xtest_Ytest[0], jobID_Xtest_Ytest[1][0], jobID_Xtest_Ytest[1][1] \n",
    "    \n",
    "    # model is global\n",
    "        \n",
    "    try:\n",
    "        lock.acquire()\n",
    "        y_pred_this_file = model.predict(X_test)\n",
    "    finally:\n",
    "        lock.release()\n",
    "    \n",
    "    Y_pred.extend([ np.rint(jj[0]) for jj in y_pred_this_file ])\n",
    "    Y_true.extend([ xj[0] for xj in Y_test ])\n",
    "    \n",
    "    #test 1\n",
    "    if not all(x == Y_true[0] for x in Y_true):\n",
    "        print('All Y_true labels for jobID %d are not same \\n' % jobID)\n",
    "\n",
    "    truelabel = Y_true[0]\n",
    "    \n",
    "    # perform job-level prediction in a while loop:\n",
    "    firstN         = min( max(minsamplestopick, int(localsamplefrac * len(Y_true))), len(Y_pred) )\n",
    "    predictedlabel = -1\n",
    "    \n",
    "    while(predictedlabel == -1 and localsamplefrac <= 1.0):\n",
    "        localsamplefrac = (firstN*1.0) / len(Y_pred)\n",
    "        take            = Y_pred[:firstN]\n",
    "        \n",
    "        if take.count(1.0) > decision_threshold * len(take):\n",
    "            predictedlabel = 1\n",
    "            break\n",
    "            \n",
    "        if take.count(0.0) > decision_threshold * len(take):\n",
    "            predictedlabel = 0\n",
    "            break\n",
    "        \n",
    "        firstN          = firstN + 1\n",
    "        \n",
    "    \n",
    "    # create a python list that will be return\n",
    "    # send back\n",
    "    totaljobduration   = None\n",
    "    predictionduration = None\n",
    "     \n",
    "    return [jobID, totaljobduration, predictionduration, localsamplefrac, len(Y_true), decision_threshold, truelabel, predictedlabel]"
   ]
  },
  {
   "cell_type": "code",
   "execution_count": 8,
   "metadata": {
    "scrolled": true
   },
   "outputs": [
    {
     "name": "stdout",
     "output_type": "stream",
     "text": [
      "Loading test file #0 - dict_jobID_Xtest_Ytest_0_32072_FROM_giga_takeoutdf_w_jobgroup.pickle\n",
      "Loaded test file #32073\n",
      "[[6.75055338e-03]\n",
      " [5.38457790e-03]\n",
      " [6.37775147e-03]\n",
      " [6.15844456e-03]\n",
      " [5.54621033e-03]\n",
      " [4.54523368e-03]\n",
      " [2.87896115e-03]\n",
      " [1.72375410e-03]\n",
      " [1.16244704e-03]\n",
      " [8.33725906e-04]\n",
      " [6.72767812e-04]\n",
      " [4.61185176e-04]\n",
      " [4.13235161e-04]\n",
      " [3.23646236e-04]\n",
      " [2.76857842e-04]\n",
      " [2.02255906e-04]\n",
      " [1.01623154e-04]\n",
      " [4.75871202e-05]]\n",
      "New Batch started : 1 to 240 \n"
     ]
    },
    {
     "name": "stderr",
     "output_type": "stream",
     "text": [
      "[Parallel(n_jobs=48)]: Done 104 tasks      | elapsed:    5.5s\n",
      "[Parallel(n_jobs=48)]: Done 240 out of 240 | elapsed:   12.6s finished\n"
     ]
    },
    {
     "name": "stdout",
     "output_type": "stream",
     "text": [
      "New Batch started : 241 to 480 \n"
     ]
    },
    {
     "name": "stderr",
     "output_type": "stream",
     "text": [
      "[Parallel(n_jobs=48)]: Done 104 tasks      | elapsed:    5.5s\n",
      "[Parallel(n_jobs=48)]: Done 240 out of 240 | elapsed:   12.7s finished\n"
     ]
    },
    {
     "name": "stdout",
     "output_type": "stream",
     "text": [
      "New Batch started : 481 to 720 \n"
     ]
    },
    {
     "name": "stderr",
     "output_type": "stream",
     "text": [
      "[Parallel(n_jobs=48)]: Done 104 tasks      | elapsed:    5.5s\n",
      "[Parallel(n_jobs=48)]: Done 240 out of 240 | elapsed:   12.7s finished\n"
     ]
    },
    {
     "name": "stdout",
     "output_type": "stream",
     "text": [
      "New Batch started : 721 to 960 \n"
     ]
    },
    {
     "name": "stderr",
     "output_type": "stream",
     "text": [
      "[Parallel(n_jobs=48)]: Done 104 tasks      | elapsed:    5.5s\n",
      "[Parallel(n_jobs=48)]: Done 240 out of 240 | elapsed:   12.7s finished\n"
     ]
    },
    {
     "name": "stdout",
     "output_type": "stream",
     "text": [
      "New Batch started : 961 to 1200 \n"
     ]
    },
    {
     "name": "stderr",
     "output_type": "stream",
     "text": [
      "[Parallel(n_jobs=48)]: Done 104 tasks      | elapsed:    5.6s\n",
      "[Parallel(n_jobs=48)]: Done 240 out of 240 | elapsed:   12.8s finished\n"
     ]
    },
    {
     "name": "stdout",
     "output_type": "stream",
     "text": [
      "New Batch started : 1201 to 1440 \n"
     ]
    },
    {
     "name": "stderr",
     "output_type": "stream",
     "text": [
      "[Parallel(n_jobs=48)]: Done 104 tasks      | elapsed:    5.6s\n",
      "[Parallel(n_jobs=48)]: Done 240 out of 240 | elapsed:   12.9s finished\n"
     ]
    },
    {
     "name": "stdout",
     "output_type": "stream",
     "text": [
      "New Batch started : 1441 to 1680 \n"
     ]
    },
    {
     "name": "stderr",
     "output_type": "stream",
     "text": [
      "[Parallel(n_jobs=48)]: Done 104 tasks      | elapsed:    5.6s\n",
      "[Parallel(n_jobs=48)]: Done 240 out of 240 | elapsed:   12.7s finished\n"
     ]
    },
    {
     "name": "stdout",
     "output_type": "stream",
     "text": [
      "New Batch started : 1681 to 1920 \n"
     ]
    },
    {
     "name": "stderr",
     "output_type": "stream",
     "text": [
      "[Parallel(n_jobs=48)]: Done 104 tasks      | elapsed:    5.5s\n",
      "[Parallel(n_jobs=48)]: Done 240 out of 240 | elapsed:   12.7s finished\n"
     ]
    },
    {
     "name": "stdout",
     "output_type": "stream",
     "text": [
      "New Batch started : 1921 to 2160 \n"
     ]
    },
    {
     "name": "stderr",
     "output_type": "stream",
     "text": [
      "[Parallel(n_jobs=48)]: Done 104 tasks      | elapsed:    5.6s\n",
      "[Parallel(n_jobs=48)]: Done 240 out of 240 | elapsed:   12.8s finished\n"
     ]
    },
    {
     "name": "stdout",
     "output_type": "stream",
     "text": [
      "New Batch started : 2161 to 2400 \n"
     ]
    },
    {
     "name": "stderr",
     "output_type": "stream",
     "text": [
      "[Parallel(n_jobs=48)]: Done 104 tasks      | elapsed:    5.5s\n",
      "[Parallel(n_jobs=48)]: Done 240 out of 240 | elapsed:   12.8s finished\n"
     ]
    },
    {
     "name": "stdout",
     "output_type": "stream",
     "text": [
      "New Batch started : 2401 to 2640 \n"
     ]
    },
    {
     "name": "stderr",
     "output_type": "stream",
     "text": [
      "[Parallel(n_jobs=48)]: Done 104 tasks      | elapsed:    5.6s\n",
      "[Parallel(n_jobs=48)]: Done 240 out of 240 | elapsed:   12.7s finished\n"
     ]
    },
    {
     "name": "stdout",
     "output_type": "stream",
     "text": [
      "New Batch started : 2641 to 2880 \n"
     ]
    },
    {
     "name": "stderr",
     "output_type": "stream",
     "text": [
      "[Parallel(n_jobs=48)]: Done 104 tasks      | elapsed:    5.6s\n",
      "[Parallel(n_jobs=48)]: Done 240 out of 240 | elapsed:   12.7s finished\n"
     ]
    },
    {
     "name": "stdout",
     "output_type": "stream",
     "text": [
      "New Batch started : 2881 to 3120 \n"
     ]
    },
    {
     "name": "stderr",
     "output_type": "stream",
     "text": [
      "[Parallel(n_jobs=48)]: Done 104 tasks      | elapsed:    5.6s\n",
      "[Parallel(n_jobs=48)]: Done 240 out of 240 | elapsed:   12.8s finished\n"
     ]
    },
    {
     "name": "stdout",
     "output_type": "stream",
     "text": [
      "New Batch started : 3121 to 3360 \n"
     ]
    },
    {
     "name": "stderr",
     "output_type": "stream",
     "text": [
      "[Parallel(n_jobs=48)]: Done 104 tasks      | elapsed:    6.0s\n",
      "[Parallel(n_jobs=48)]: Done 240 out of 240 | elapsed:   13.1s finished\n"
     ]
    },
    {
     "name": "stdout",
     "output_type": "stream",
     "text": [
      "New Batch started : 3361 to 3600 \n"
     ]
    },
    {
     "name": "stderr",
     "output_type": "stream",
     "text": [
      "[Parallel(n_jobs=48)]: Done 104 tasks      | elapsed:    5.6s\n",
      "[Parallel(n_jobs=48)]: Done 240 out of 240 | elapsed:   12.7s finished\n"
     ]
    },
    {
     "name": "stdout",
     "output_type": "stream",
     "text": [
      "New Batch started : 3601 to 3840 \n"
     ]
    },
    {
     "name": "stderr",
     "output_type": "stream",
     "text": [
      "[Parallel(n_jobs=48)]: Done 104 tasks      | elapsed:    5.6s\n",
      "[Parallel(n_jobs=48)]: Done 240 out of 240 | elapsed:   12.7s finished\n"
     ]
    },
    {
     "name": "stdout",
     "output_type": "stream",
     "text": [
      "New Batch started : 3841 to 4080 \n"
     ]
    },
    {
     "name": "stderr",
     "output_type": "stream",
     "text": [
      "[Parallel(n_jobs=48)]: Done 104 tasks      | elapsed:    5.7s\n",
      "[Parallel(n_jobs=48)]: Done 240 out of 240 | elapsed:   13.1s finished\n"
     ]
    },
    {
     "name": "stdout",
     "output_type": "stream",
     "text": [
      "New Batch started : 4081 to 4320 \n"
     ]
    },
    {
     "name": "stderr",
     "output_type": "stream",
     "text": [
      "[Parallel(n_jobs=48)]: Done 104 tasks      | elapsed:    5.5s\n",
      "[Parallel(n_jobs=48)]: Done 240 out of 240 | elapsed:   12.7s finished\n"
     ]
    },
    {
     "name": "stdout",
     "output_type": "stream",
     "text": [
      "New Batch started : 4321 to 4560 \n"
     ]
    },
    {
     "name": "stderr",
     "output_type": "stream",
     "text": [
      "[Parallel(n_jobs=48)]: Done 104 tasks      | elapsed:    5.5s\n",
      "[Parallel(n_jobs=48)]: Done 240 out of 240 | elapsed:   12.7s finished\n"
     ]
    },
    {
     "name": "stdout",
     "output_type": "stream",
     "text": [
      "New Batch started : 4561 to 4800 \n"
     ]
    },
    {
     "name": "stderr",
     "output_type": "stream",
     "text": [
      "[Parallel(n_jobs=48)]: Done 104 tasks      | elapsed:    5.5s\n",
      "[Parallel(n_jobs=48)]: Done 240 out of 240 | elapsed:   12.6s finished\n"
     ]
    },
    {
     "name": "stdout",
     "output_type": "stream",
     "text": [
      "New Batch started : 4801 to 5040 \n"
     ]
    },
    {
     "name": "stderr",
     "output_type": "stream",
     "text": [
      "[Parallel(n_jobs=48)]: Done 104 tasks      | elapsed:    5.5s\n",
      "[Parallel(n_jobs=48)]: Done 240 out of 240 | elapsed:   12.6s finished\n"
     ]
    },
    {
     "name": "stdout",
     "output_type": "stream",
     "text": [
      "New Batch started : 5041 to 5280 \n"
     ]
    },
    {
     "name": "stderr",
     "output_type": "stream",
     "text": [
      "[Parallel(n_jobs=48)]: Done 104 tasks      | elapsed:    5.5s\n",
      "[Parallel(n_jobs=48)]: Done 240 out of 240 | elapsed:   12.7s finished\n"
     ]
    },
    {
     "name": "stdout",
     "output_type": "stream",
     "text": [
      "New Batch started : 5281 to 5520 \n"
     ]
    },
    {
     "name": "stderr",
     "output_type": "stream",
     "text": [
      "[Parallel(n_jobs=48)]: Done 104 tasks      | elapsed:    5.5s\n",
      "[Parallel(n_jobs=48)]: Done 240 out of 240 | elapsed:   12.6s finished\n"
     ]
    },
    {
     "name": "stdout",
     "output_type": "stream",
     "text": [
      "New Batch started : 5521 to 5760 \n"
     ]
    },
    {
     "name": "stderr",
     "output_type": "stream",
     "text": [
      "[Parallel(n_jobs=48)]: Done 104 tasks      | elapsed:    5.7s\n",
      "[Parallel(n_jobs=48)]: Done 240 out of 240 | elapsed:   12.9s finished\n"
     ]
    },
    {
     "name": "stdout",
     "output_type": "stream",
     "text": [
      "New Batch started : 5761 to 6000 \n"
     ]
    },
    {
     "name": "stderr",
     "output_type": "stream",
     "text": [
      "[Parallel(n_jobs=48)]: Done 104 tasks      | elapsed:    5.6s\n",
      "[Parallel(n_jobs=48)]: Done 240 out of 240 | elapsed:   12.9s finished\n"
     ]
    },
    {
     "name": "stdout",
     "output_type": "stream",
     "text": [
      "New Batch started : 6001 to 6240 \n"
     ]
    },
    {
     "name": "stderr",
     "output_type": "stream",
     "text": [
      "[Parallel(n_jobs=48)]: Done 104 tasks      | elapsed:    5.5s\n",
      "[Parallel(n_jobs=48)]: Done 240 out of 240 | elapsed:   12.6s finished\n"
     ]
    },
    {
     "name": "stdout",
     "output_type": "stream",
     "text": [
      "New Batch started : 6241 to 6480 \n"
     ]
    },
    {
     "name": "stderr",
     "output_type": "stream",
     "text": [
      "[Parallel(n_jobs=48)]: Done 104 tasks      | elapsed:    5.5s\n",
      "[Parallel(n_jobs=48)]: Done 240 out of 240 | elapsed:   12.6s finished\n"
     ]
    },
    {
     "name": "stdout",
     "output_type": "stream",
     "text": [
      "New Batch started : 6481 to 6720 \n"
     ]
    },
    {
     "name": "stderr",
     "output_type": "stream",
     "text": [
      "[Parallel(n_jobs=48)]: Done 104 tasks      | elapsed:    5.5s\n",
      "[Parallel(n_jobs=48)]: Done 240 out of 240 | elapsed:   12.7s finished\n"
     ]
    },
    {
     "name": "stdout",
     "output_type": "stream",
     "text": [
      "New Batch started : 6721 to 6960 \n"
     ]
    },
    {
     "name": "stderr",
     "output_type": "stream",
     "text": [
      "[Parallel(n_jobs=48)]: Done 104 tasks      | elapsed:    5.6s\n",
      "[Parallel(n_jobs=48)]: Done 240 out of 240 | elapsed:   12.8s finished\n"
     ]
    },
    {
     "name": "stdout",
     "output_type": "stream",
     "text": [
      "New Batch started : 6961 to 7200 \n"
     ]
    },
    {
     "name": "stderr",
     "output_type": "stream",
     "text": [
      "[Parallel(n_jobs=48)]: Done 104 tasks      | elapsed:    5.6s\n",
      "[Parallel(n_jobs=48)]: Done 240 out of 240 | elapsed:   12.8s finished\n"
     ]
    },
    {
     "name": "stdout",
     "output_type": "stream",
     "text": [
      "New Batch started : 7201 to 7440 \n"
     ]
    },
    {
     "name": "stderr",
     "output_type": "stream",
     "text": [
      "[Parallel(n_jobs=48)]: Done 104 tasks      | elapsed:    5.5s\n",
      "[Parallel(n_jobs=48)]: Done 240 out of 240 | elapsed:   12.7s finished\n"
     ]
    },
    {
     "name": "stdout",
     "output_type": "stream",
     "text": [
      "New Batch started : 7441 to 7680 \n"
     ]
    },
    {
     "name": "stderr",
     "output_type": "stream",
     "text": [
      "[Parallel(n_jobs=48)]: Done 104 tasks      | elapsed:    5.5s\n",
      "[Parallel(n_jobs=48)]: Done 240 out of 240 | elapsed:   12.7s finished\n"
     ]
    },
    {
     "name": "stdout",
     "output_type": "stream",
     "text": [
      "New Batch started : 7681 to 7920 \n"
     ]
    },
    {
     "name": "stderr",
     "output_type": "stream",
     "text": [
      "[Parallel(n_jobs=48)]: Done 104 tasks      | elapsed:    5.4s\n",
      "[Parallel(n_jobs=48)]: Done 240 out of 240 | elapsed:   12.6s finished\n"
     ]
    },
    {
     "name": "stdout",
     "output_type": "stream",
     "text": [
      "New Batch started : 7921 to 8160 \n"
     ]
    },
    {
     "name": "stderr",
     "output_type": "stream",
     "text": [
      "[Parallel(n_jobs=48)]: Done 104 tasks      | elapsed:    5.5s\n",
      "[Parallel(n_jobs=48)]: Done 240 out of 240 | elapsed:   12.6s finished\n"
     ]
    },
    {
     "name": "stdout",
     "output_type": "stream",
     "text": [
      "New Batch started : 8161 to 8400 \n"
     ]
    },
    {
     "name": "stderr",
     "output_type": "stream",
     "text": [
      "[Parallel(n_jobs=48)]: Done 104 tasks      | elapsed:    5.5s\n",
      "[Parallel(n_jobs=48)]: Done 240 out of 240 | elapsed:   12.6s finished\n"
     ]
    },
    {
     "name": "stdout",
     "output_type": "stream",
     "text": [
      "New Batch started : 8401 to 8640 \n"
     ]
    },
    {
     "name": "stderr",
     "output_type": "stream",
     "text": [
      "[Parallel(n_jobs=48)]: Done 104 tasks      | elapsed:    5.4s\n",
      "[Parallel(n_jobs=48)]: Done 240 out of 240 | elapsed:   12.8s finished\n"
     ]
    },
    {
     "name": "stdout",
     "output_type": "stream",
     "text": [
      "New Batch started : 8641 to 8880 \n"
     ]
    },
    {
     "name": "stderr",
     "output_type": "stream",
     "text": [
      "[Parallel(n_jobs=48)]: Done 104 tasks      | elapsed:    5.6s\n",
      "[Parallel(n_jobs=48)]: Done 240 out of 240 | elapsed:   12.9s finished\n"
     ]
    },
    {
     "name": "stdout",
     "output_type": "stream",
     "text": [
      "New Batch started : 8881 to 9120 \n"
     ]
    },
    {
     "name": "stderr",
     "output_type": "stream",
     "text": [
      "[Parallel(n_jobs=48)]: Done 104 tasks      | elapsed:    5.5s\n",
      "[Parallel(n_jobs=48)]: Done 240 out of 240 | elapsed:   12.8s finished\n"
     ]
    },
    {
     "name": "stdout",
     "output_type": "stream",
     "text": [
      "New Batch started : 9121 to 9360 \n"
     ]
    },
    {
     "name": "stderr",
     "output_type": "stream",
     "text": [
      "[Parallel(n_jobs=48)]: Done 104 tasks      | elapsed:    5.5s\n",
      "[Parallel(n_jobs=48)]: Done 240 out of 240 | elapsed:   12.7s finished\n"
     ]
    },
    {
     "name": "stdout",
     "output_type": "stream",
     "text": [
      "New Batch started : 9361 to 9600 \n"
     ]
    },
    {
     "name": "stderr",
     "output_type": "stream",
     "text": [
      "[Parallel(n_jobs=48)]: Done 104 tasks      | elapsed:    5.5s\n",
      "[Parallel(n_jobs=48)]: Done 240 out of 240 | elapsed:   12.7s finished\n"
     ]
    },
    {
     "name": "stdout",
     "output_type": "stream",
     "text": [
      "New Batch started : 9601 to 9840 \n"
     ]
    },
    {
     "name": "stderr",
     "output_type": "stream",
     "text": [
      "[Parallel(n_jobs=48)]: Done 104 tasks      | elapsed:    5.5s\n",
      "[Parallel(n_jobs=48)]: Done 240 out of 240 | elapsed:   12.6s finished\n"
     ]
    },
    {
     "name": "stdout",
     "output_type": "stream",
     "text": [
      "New Batch started : 9841 to 10080 \n"
     ]
    },
    {
     "name": "stderr",
     "output_type": "stream",
     "text": [
      "[Parallel(n_jobs=48)]: Done 104 tasks      | elapsed:    5.5s\n",
      "[Parallel(n_jobs=48)]: Done 240 out of 240 | elapsed:   12.8s finished\n"
     ]
    },
    {
     "name": "stdout",
     "output_type": "stream",
     "text": [
      "New Batch started : 10081 to 10320 \n"
     ]
    },
    {
     "name": "stderr",
     "output_type": "stream",
     "text": [
      "[Parallel(n_jobs=48)]: Done 104 tasks      | elapsed:    5.4s\n",
      "[Parallel(n_jobs=48)]: Done 240 out of 240 | elapsed:   12.8s finished\n"
     ]
    },
    {
     "name": "stdout",
     "output_type": "stream",
     "text": [
      "New Batch started : 10321 to 10560 \n"
     ]
    },
    {
     "name": "stderr",
     "output_type": "stream",
     "text": [
      "[Parallel(n_jobs=48)]: Done 104 tasks      | elapsed:    5.5s\n",
      "[Parallel(n_jobs=48)]: Done 240 out of 240 | elapsed:   12.7s finished\n"
     ]
    },
    {
     "name": "stdout",
     "output_type": "stream",
     "text": [
      "New Batch started : 10561 to 10800 \n"
     ]
    },
    {
     "name": "stderr",
     "output_type": "stream",
     "text": [
      "[Parallel(n_jobs=48)]: Done 104 tasks      | elapsed:    5.5s\n",
      "[Parallel(n_jobs=48)]: Done 240 out of 240 | elapsed:   12.6s finished\n"
     ]
    },
    {
     "name": "stdout",
     "output_type": "stream",
     "text": [
      "New Batch started : 10801 to 11040 \n"
     ]
    },
    {
     "name": "stderr",
     "output_type": "stream",
     "text": [
      "[Parallel(n_jobs=48)]: Done 104 tasks      | elapsed:    5.5s\n",
      "[Parallel(n_jobs=48)]: Done 240 out of 240 | elapsed:   12.6s finished\n"
     ]
    },
    {
     "name": "stdout",
     "output_type": "stream",
     "text": [
      "New Batch started : 11041 to 11280 \n"
     ]
    },
    {
     "name": "stderr",
     "output_type": "stream",
     "text": [
      "[Parallel(n_jobs=48)]: Done 104 tasks      | elapsed:    5.5s\n",
      "[Parallel(n_jobs=48)]: Done 240 out of 240 | elapsed:   12.8s finished\n"
     ]
    },
    {
     "name": "stdout",
     "output_type": "stream",
     "text": [
      "New Batch started : 11281 to 11520 \n"
     ]
    },
    {
     "name": "stderr",
     "output_type": "stream",
     "text": [
      "[Parallel(n_jobs=48)]: Done 104 tasks      | elapsed:    5.4s\n",
      "[Parallel(n_jobs=48)]: Done 240 out of 240 | elapsed:   12.5s finished\n"
     ]
    },
    {
     "name": "stdout",
     "output_type": "stream",
     "text": [
      "New Batch started : 11521 to 11760 \n"
     ]
    },
    {
     "name": "stderr",
     "output_type": "stream",
     "text": [
      "[Parallel(n_jobs=48)]: Done 104 tasks      | elapsed:    5.5s\n",
      "[Parallel(n_jobs=48)]: Done 240 out of 240 | elapsed:   12.8s finished\n"
     ]
    },
    {
     "name": "stdout",
     "output_type": "stream",
     "text": [
      "New Batch started : 11761 to 12000 \n"
     ]
    },
    {
     "name": "stderr",
     "output_type": "stream",
     "text": [
      "[Parallel(n_jobs=48)]: Done 104 tasks      | elapsed:    5.5s\n",
      "[Parallel(n_jobs=48)]: Done 240 out of 240 | elapsed:   12.6s finished\n"
     ]
    },
    {
     "name": "stdout",
     "output_type": "stream",
     "text": [
      "New Batch started : 12001 to 12240 \n"
     ]
    },
    {
     "name": "stderr",
     "output_type": "stream",
     "text": [
      "[Parallel(n_jobs=48)]: Done 104 tasks      | elapsed:    5.5s\n",
      "[Parallel(n_jobs=48)]: Done 240 out of 240 | elapsed:   12.6s finished\n"
     ]
    },
    {
     "name": "stdout",
     "output_type": "stream",
     "text": [
      "New Batch started : 12241 to 12480 \n"
     ]
    },
    {
     "name": "stderr",
     "output_type": "stream",
     "text": [
      "[Parallel(n_jobs=48)]: Done 104 tasks      | elapsed:    5.5s\n",
      "[Parallel(n_jobs=48)]: Done 240 out of 240 | elapsed:   12.6s finished\n"
     ]
    },
    {
     "name": "stdout",
     "output_type": "stream",
     "text": [
      "New Batch started : 12481 to 12720 \n"
     ]
    },
    {
     "name": "stderr",
     "output_type": "stream",
     "text": [
      "[Parallel(n_jobs=48)]: Done 104 tasks      | elapsed:    5.6s\n",
      "[Parallel(n_jobs=48)]: Done 240 out of 240 | elapsed:   12.7s finished\n"
     ]
    },
    {
     "name": "stdout",
     "output_type": "stream",
     "text": [
      "New Batch started : 12721 to 12960 \n"
     ]
    },
    {
     "name": "stderr",
     "output_type": "stream",
     "text": [
      "[Parallel(n_jobs=48)]: Done 104 tasks      | elapsed:    5.5s\n",
      "[Parallel(n_jobs=48)]: Done 240 out of 240 | elapsed:   12.7s finished\n"
     ]
    },
    {
     "name": "stdout",
     "output_type": "stream",
     "text": [
      "New Batch started : 12961 to 13200 \n"
     ]
    },
    {
     "name": "stderr",
     "output_type": "stream",
     "text": [
      "[Parallel(n_jobs=48)]: Done 104 tasks      | elapsed:    5.5s\n",
      "[Parallel(n_jobs=48)]: Done 240 out of 240 | elapsed:   12.6s finished\n"
     ]
    },
    {
     "name": "stdout",
     "output_type": "stream",
     "text": [
      "New Batch started : 13201 to 13440 \n"
     ]
    },
    {
     "name": "stderr",
     "output_type": "stream",
     "text": [
      "[Parallel(n_jobs=48)]: Done 104 tasks      | elapsed:    5.4s\n",
      "[Parallel(n_jobs=48)]: Done 240 out of 240 | elapsed:   12.6s finished\n"
     ]
    },
    {
     "name": "stdout",
     "output_type": "stream",
     "text": [
      "New Batch started : 13441 to 13680 \n"
     ]
    },
    {
     "name": "stderr",
     "output_type": "stream",
     "text": [
      "[Parallel(n_jobs=48)]: Done 104 tasks      | elapsed:    5.4s\n",
      "[Parallel(n_jobs=48)]: Done 240 out of 240 | elapsed:   12.6s finished\n"
     ]
    },
    {
     "name": "stdout",
     "output_type": "stream",
     "text": [
      "New Batch started : 13681 to 13920 \n"
     ]
    },
    {
     "name": "stderr",
     "output_type": "stream",
     "text": [
      "[Parallel(n_jobs=48)]: Done 104 tasks      | elapsed:    5.4s\n",
      "[Parallel(n_jobs=48)]: Done 240 out of 240 | elapsed:   12.6s finished\n"
     ]
    },
    {
     "name": "stdout",
     "output_type": "stream",
     "text": [
      "New Batch started : 13921 to 14160 \n"
     ]
    },
    {
     "name": "stderr",
     "output_type": "stream",
     "text": [
      "[Parallel(n_jobs=48)]: Done 104 tasks      | elapsed:    5.4s\n",
      "[Parallel(n_jobs=48)]: Done 240 out of 240 | elapsed:   12.7s finished\n"
     ]
    },
    {
     "name": "stdout",
     "output_type": "stream",
     "text": [
      "New Batch started : 14161 to 14400 \n"
     ]
    },
    {
     "name": "stderr",
     "output_type": "stream",
     "text": [
      "[Parallel(n_jobs=48)]: Done 104 tasks      | elapsed:    5.5s\n",
      "[Parallel(n_jobs=48)]: Done 240 out of 240 | elapsed:   12.7s finished\n"
     ]
    },
    {
     "name": "stdout",
     "output_type": "stream",
     "text": [
      "New Batch started : 14401 to 14640 \n"
     ]
    },
    {
     "name": "stderr",
     "output_type": "stream",
     "text": [
      "[Parallel(n_jobs=48)]: Done 104 tasks      | elapsed:    5.4s\n",
      "[Parallel(n_jobs=48)]: Done 240 out of 240 | elapsed:   12.6s finished\n"
     ]
    },
    {
     "name": "stdout",
     "output_type": "stream",
     "text": [
      "New Batch started : 14641 to 14880 \n"
     ]
    },
    {
     "name": "stderr",
     "output_type": "stream",
     "text": [
      "[Parallel(n_jobs=48)]: Done 104 tasks      | elapsed:    5.5s\n",
      "[Parallel(n_jobs=48)]: Done 240 out of 240 | elapsed:   12.7s finished\n"
     ]
    },
    {
     "name": "stdout",
     "output_type": "stream",
     "text": [
      "New Batch started : 14881 to 15120 \n"
     ]
    },
    {
     "name": "stderr",
     "output_type": "stream",
     "text": [
      "[Parallel(n_jobs=48)]: Done 104 tasks      | elapsed:    5.6s\n",
      "[Parallel(n_jobs=48)]: Done 240 out of 240 | elapsed:   12.7s finished\n"
     ]
    },
    {
     "name": "stdout",
     "output_type": "stream",
     "text": [
      "New Batch started : 15121 to 15360 \n"
     ]
    },
    {
     "name": "stderr",
     "output_type": "stream",
     "text": [
      "[Parallel(n_jobs=48)]: Done 104 tasks      | elapsed:    5.4s\n",
      "[Parallel(n_jobs=48)]: Done 240 out of 240 | elapsed:   12.5s finished\n"
     ]
    },
    {
     "name": "stdout",
     "output_type": "stream",
     "text": [
      "New Batch started : 15361 to 15600 \n"
     ]
    },
    {
     "name": "stderr",
     "output_type": "stream",
     "text": [
      "[Parallel(n_jobs=48)]: Done 104 tasks      | elapsed:    5.5s\n",
      "[Parallel(n_jobs=48)]: Done 240 out of 240 | elapsed:   12.7s finished\n"
     ]
    },
    {
     "name": "stdout",
     "output_type": "stream",
     "text": [
      "New Batch started : 15601 to 15840 \n"
     ]
    },
    {
     "name": "stderr",
     "output_type": "stream",
     "text": [
      "[Parallel(n_jobs=48)]: Done 104 tasks      | elapsed:    5.5s\n",
      "[Parallel(n_jobs=48)]: Done 240 out of 240 | elapsed:   12.8s finished\n"
     ]
    },
    {
     "name": "stdout",
     "output_type": "stream",
     "text": [
      "New Batch started : 15841 to 16080 \n"
     ]
    },
    {
     "name": "stderr",
     "output_type": "stream",
     "text": [
      "[Parallel(n_jobs=48)]: Done 104 tasks      | elapsed:    5.5s\n",
      "[Parallel(n_jobs=48)]: Done 240 out of 240 | elapsed:   12.6s finished\n"
     ]
    },
    {
     "name": "stdout",
     "output_type": "stream",
     "text": [
      "New Batch started : 16081 to 16320 \n"
     ]
    },
    {
     "name": "stderr",
     "output_type": "stream",
     "text": [
      "[Parallel(n_jobs=48)]: Done 104 tasks      | elapsed:    5.5s\n",
      "[Parallel(n_jobs=48)]: Done 240 out of 240 | elapsed:   12.6s finished\n"
     ]
    },
    {
     "name": "stdout",
     "output_type": "stream",
     "text": [
      "New Batch started : 16321 to 16560 \n"
     ]
    },
    {
     "name": "stderr",
     "output_type": "stream",
     "text": [
      "[Parallel(n_jobs=48)]: Done 104 tasks      | elapsed:    5.4s\n",
      "[Parallel(n_jobs=48)]: Done 240 out of 240 | elapsed:   12.6s finished\n"
     ]
    },
    {
     "name": "stdout",
     "output_type": "stream",
     "text": [
      "New Batch started : 16561 to 16800 \n"
     ]
    },
    {
     "name": "stderr",
     "output_type": "stream",
     "text": [
      "[Parallel(n_jobs=48)]: Done 104 tasks      | elapsed:    5.5s\n",
      "[Parallel(n_jobs=48)]: Done 240 out of 240 | elapsed:   12.7s finished\n"
     ]
    },
    {
     "name": "stdout",
     "output_type": "stream",
     "text": [
      "New Batch started : 16801 to 17040 \n"
     ]
    },
    {
     "name": "stderr",
     "output_type": "stream",
     "text": [
      "[Parallel(n_jobs=48)]: Done 104 tasks      | elapsed:    5.5s\n",
      "[Parallel(n_jobs=48)]: Done 240 out of 240 | elapsed:   12.7s finished\n"
     ]
    },
    {
     "name": "stdout",
     "output_type": "stream",
     "text": [
      "New Batch started : 17041 to 17280 \n"
     ]
    },
    {
     "name": "stderr",
     "output_type": "stream",
     "text": [
      "[Parallel(n_jobs=48)]: Done 104 tasks      | elapsed:    5.4s\n",
      "[Parallel(n_jobs=48)]: Done 240 out of 240 | elapsed:   12.7s finished\n"
     ]
    },
    {
     "name": "stdout",
     "output_type": "stream",
     "text": [
      "New Batch started : 17281 to 17520 \n"
     ]
    },
    {
     "name": "stderr",
     "output_type": "stream",
     "text": [
      "[Parallel(n_jobs=48)]: Done 104 tasks      | elapsed:    5.5s\n",
      "[Parallel(n_jobs=48)]: Done 240 out of 240 | elapsed:   12.6s finished\n"
     ]
    },
    {
     "name": "stdout",
     "output_type": "stream",
     "text": [
      "New Batch started : 17521 to 17760 \n"
     ]
    },
    {
     "name": "stderr",
     "output_type": "stream",
     "text": [
      "[Parallel(n_jobs=48)]: Done 104 tasks      | elapsed:    5.5s\n",
      "[Parallel(n_jobs=48)]: Done 240 out of 240 | elapsed:   12.7s finished\n"
     ]
    },
    {
     "name": "stdout",
     "output_type": "stream",
     "text": [
      "New Batch started : 17761 to 18000 \n"
     ]
    },
    {
     "name": "stderr",
     "output_type": "stream",
     "text": [
      "[Parallel(n_jobs=48)]: Done 104 tasks      | elapsed:    5.4s\n",
      "[Parallel(n_jobs=48)]: Done 240 out of 240 | elapsed:   12.5s finished\n"
     ]
    },
    {
     "name": "stdout",
     "output_type": "stream",
     "text": [
      "New Batch started : 18001 to 18240 \n"
     ]
    },
    {
     "name": "stderr",
     "output_type": "stream",
     "text": [
      "[Parallel(n_jobs=48)]: Done 104 tasks      | elapsed:    5.5s\n",
      "[Parallel(n_jobs=48)]: Done 240 out of 240 | elapsed:   12.6s finished\n"
     ]
    },
    {
     "name": "stdout",
     "output_type": "stream",
     "text": [
      "New Batch started : 18241 to 18480 \n"
     ]
    },
    {
     "name": "stderr",
     "output_type": "stream",
     "text": [
      "[Parallel(n_jobs=48)]: Done 104 tasks      | elapsed:    5.5s\n",
      "[Parallel(n_jobs=48)]: Done 240 out of 240 | elapsed:   12.6s finished\n"
     ]
    },
    {
     "name": "stdout",
     "output_type": "stream",
     "text": [
      "New Batch started : 18481 to 18720 \n"
     ]
    },
    {
     "name": "stderr",
     "output_type": "stream",
     "text": [
      "[Parallel(n_jobs=48)]: Done 104 tasks      | elapsed:    5.4s\n",
      "[Parallel(n_jobs=48)]: Done 240 out of 240 | elapsed:   12.5s finished\n"
     ]
    },
    {
     "name": "stdout",
     "output_type": "stream",
     "text": [
      "New Batch started : 18721 to 18960 \n"
     ]
    },
    {
     "name": "stderr",
     "output_type": "stream",
     "text": [
      "[Parallel(n_jobs=48)]: Done 104 tasks      | elapsed:    5.6s\n",
      "[Parallel(n_jobs=48)]: Done 240 out of 240 | elapsed:   12.8s finished\n"
     ]
    },
    {
     "name": "stdout",
     "output_type": "stream",
     "text": [
      "New Batch started : 18961 to 19200 \n"
     ]
    },
    {
     "name": "stderr",
     "output_type": "stream",
     "text": [
      "[Parallel(n_jobs=48)]: Done 104 tasks      | elapsed:    5.7s\n",
      "[Parallel(n_jobs=48)]: Done 240 out of 240 | elapsed:   12.7s finished\n"
     ]
    },
    {
     "name": "stdout",
     "output_type": "stream",
     "text": [
      "New Batch started : 19201 to 19440 \n"
     ]
    },
    {
     "name": "stderr",
     "output_type": "stream",
     "text": [
      "[Parallel(n_jobs=48)]: Done 104 tasks      | elapsed:    5.6s\n",
      "[Parallel(n_jobs=48)]: Done 240 out of 240 | elapsed:   12.6s finished\n"
     ]
    },
    {
     "name": "stdout",
     "output_type": "stream",
     "text": [
      "New Batch started : 19441 to 19680 \n"
     ]
    },
    {
     "name": "stderr",
     "output_type": "stream",
     "text": [
      "[Parallel(n_jobs=48)]: Done 104 tasks      | elapsed:    5.5s\n",
      "[Parallel(n_jobs=48)]: Done 240 out of 240 | elapsed:   12.9s finished\n"
     ]
    },
    {
     "name": "stdout",
     "output_type": "stream",
     "text": [
      "New Batch started : 19681 to 19920 \n"
     ]
    },
    {
     "name": "stderr",
     "output_type": "stream",
     "text": [
      "[Parallel(n_jobs=48)]: Done 104 tasks      | elapsed:    5.5s\n",
      "[Parallel(n_jobs=48)]: Done 240 out of 240 | elapsed:   12.7s finished\n"
     ]
    },
    {
     "name": "stdout",
     "output_type": "stream",
     "text": [
      "New Batch started : 19921 to 20160 \n"
     ]
    },
    {
     "name": "stderr",
     "output_type": "stream",
     "text": [
      "[Parallel(n_jobs=48)]: Done 104 tasks      | elapsed:    5.5s\n",
      "[Parallel(n_jobs=48)]: Done 240 out of 240 | elapsed:   12.6s finished\n"
     ]
    },
    {
     "name": "stdout",
     "output_type": "stream",
     "text": [
      "New Batch started : 20161 to 20400 \n"
     ]
    },
    {
     "name": "stderr",
     "output_type": "stream",
     "text": [
      "[Parallel(n_jobs=48)]: Done 104 tasks      | elapsed:    5.6s\n",
      "[Parallel(n_jobs=48)]: Done 240 out of 240 | elapsed:   12.7s finished\n"
     ]
    },
    {
     "name": "stdout",
     "output_type": "stream",
     "text": [
      "New Batch started : 20401 to 20640 \n"
     ]
    },
    {
     "name": "stderr",
     "output_type": "stream",
     "text": [
      "[Parallel(n_jobs=48)]: Done 104 tasks      | elapsed:    5.5s\n",
      "[Parallel(n_jobs=48)]: Done 240 out of 240 | elapsed:   12.6s finished\n"
     ]
    },
    {
     "name": "stdout",
     "output_type": "stream",
     "text": [
      "New Batch started : 20641 to 20880 \n"
     ]
    },
    {
     "name": "stderr",
     "output_type": "stream",
     "text": [
      "[Parallel(n_jobs=48)]: Done 104 tasks      | elapsed:    5.5s\n",
      "[Parallel(n_jobs=48)]: Done 240 out of 240 | elapsed:   12.5s finished\n"
     ]
    },
    {
     "name": "stdout",
     "output_type": "stream",
     "text": [
      "New Batch started : 20881 to 21120 \n"
     ]
    },
    {
     "name": "stderr",
     "output_type": "stream",
     "text": [
      "[Parallel(n_jobs=48)]: Done 104 tasks      | elapsed:    5.4s\n",
      "[Parallel(n_jobs=48)]: Done 240 out of 240 | elapsed:   12.7s finished\n"
     ]
    },
    {
     "name": "stdout",
     "output_type": "stream",
     "text": [
      "New Batch started : 21121 to 21360 \n"
     ]
    },
    {
     "name": "stderr",
     "output_type": "stream",
     "text": [
      "[Parallel(n_jobs=48)]: Done 104 tasks      | elapsed:    5.5s\n",
      "[Parallel(n_jobs=48)]: Done 240 out of 240 | elapsed:   12.7s finished\n"
     ]
    },
    {
     "name": "stdout",
     "output_type": "stream",
     "text": [
      "New Batch started : 21361 to 21600 \n"
     ]
    },
    {
     "name": "stderr",
     "output_type": "stream",
     "text": [
      "[Parallel(n_jobs=48)]: Done 104 tasks      | elapsed:    5.5s\n",
      "[Parallel(n_jobs=48)]: Done 240 out of 240 | elapsed:   12.6s finished\n"
     ]
    },
    {
     "name": "stdout",
     "output_type": "stream",
     "text": [
      "New Batch started : 21601 to 21840 \n"
     ]
    },
    {
     "name": "stderr",
     "output_type": "stream",
     "text": [
      "[Parallel(n_jobs=48)]: Done 104 tasks      | elapsed:    5.5s\n",
      "[Parallel(n_jobs=48)]: Done 240 out of 240 | elapsed:   12.7s finished\n"
     ]
    },
    {
     "name": "stdout",
     "output_type": "stream",
     "text": [
      "New Batch started : 21841 to 22080 \n"
     ]
    },
    {
     "name": "stderr",
     "output_type": "stream",
     "text": [
      "[Parallel(n_jobs=48)]: Done 104 tasks      | elapsed:    5.5s\n",
      "[Parallel(n_jobs=48)]: Done 240 out of 240 | elapsed:   12.6s finished\n"
     ]
    },
    {
     "name": "stdout",
     "output_type": "stream",
     "text": [
      "New Batch started : 22081 to 22320 \n"
     ]
    },
    {
     "name": "stderr",
     "output_type": "stream",
     "text": [
      "[Parallel(n_jobs=48)]: Done 104 tasks      | elapsed:    5.6s\n",
      "[Parallel(n_jobs=48)]: Done 240 out of 240 | elapsed:   12.8s finished\n"
     ]
    },
    {
     "name": "stdout",
     "output_type": "stream",
     "text": [
      "New Batch started : 22321 to 22560 \n"
     ]
    },
    {
     "name": "stderr",
     "output_type": "stream",
     "text": [
      "[Parallel(n_jobs=48)]: Done 104 tasks      | elapsed:    5.5s\n",
      "[Parallel(n_jobs=48)]: Done 240 out of 240 | elapsed:   12.6s finished\n"
     ]
    },
    {
     "name": "stdout",
     "output_type": "stream",
     "text": [
      "New Batch started : 22561 to 22800 \n"
     ]
    },
    {
     "name": "stderr",
     "output_type": "stream",
     "text": [
      "[Parallel(n_jobs=48)]: Done 104 tasks      | elapsed:    5.5s\n",
      "[Parallel(n_jobs=48)]: Done 240 out of 240 | elapsed:   12.6s finished\n"
     ]
    },
    {
     "name": "stdout",
     "output_type": "stream",
     "text": [
      "New Batch started : 22801 to 23040 \n"
     ]
    },
    {
     "name": "stderr",
     "output_type": "stream",
     "text": [
      "[Parallel(n_jobs=48)]: Done 104 tasks      | elapsed:    5.4s\n",
      "[Parallel(n_jobs=48)]: Done 240 out of 240 | elapsed:   12.6s finished\n"
     ]
    },
    {
     "name": "stdout",
     "output_type": "stream",
     "text": [
      "New Batch started : 23041 to 23280 \n"
     ]
    },
    {
     "name": "stderr",
     "output_type": "stream",
     "text": [
      "[Parallel(n_jobs=48)]: Done 104 tasks      | elapsed:    5.6s\n",
      "[Parallel(n_jobs=48)]: Done 240 out of 240 | elapsed:   12.8s finished\n"
     ]
    },
    {
     "name": "stdout",
     "output_type": "stream",
     "text": [
      "New Batch started : 23281 to 23520 \n"
     ]
    },
    {
     "name": "stderr",
     "output_type": "stream",
     "text": [
      "[Parallel(n_jobs=48)]: Done 104 tasks      | elapsed:    5.4s\n",
      "[Parallel(n_jobs=48)]: Done 240 out of 240 | elapsed:   12.7s finished\n"
     ]
    },
    {
     "name": "stdout",
     "output_type": "stream",
     "text": [
      "New Batch started : 23521 to 23760 \n"
     ]
    },
    {
     "name": "stderr",
     "output_type": "stream",
     "text": [
      "[Parallel(n_jobs=48)]: Done 104 tasks      | elapsed:    5.4s\n",
      "[Parallel(n_jobs=48)]: Done 240 out of 240 | elapsed:   12.6s finished\n"
     ]
    },
    {
     "name": "stdout",
     "output_type": "stream",
     "text": [
      "New Batch started : 23761 to 24000 \n"
     ]
    },
    {
     "name": "stderr",
     "output_type": "stream",
     "text": [
      "[Parallel(n_jobs=48)]: Done 104 tasks      | elapsed:    5.5s\n",
      "[Parallel(n_jobs=48)]: Done 240 out of 240 | elapsed:   12.7s finished\n"
     ]
    },
    {
     "name": "stdout",
     "output_type": "stream",
     "text": [
      "New Batch started : 24001 to 24240 \n"
     ]
    },
    {
     "name": "stderr",
     "output_type": "stream",
     "text": [
      "[Parallel(n_jobs=48)]: Done 104 tasks      | elapsed:    5.6s\n",
      "[Parallel(n_jobs=48)]: Done 240 out of 240 | elapsed:   12.8s finished\n"
     ]
    },
    {
     "name": "stdout",
     "output_type": "stream",
     "text": [
      "New Batch started : 24241 to 24480 \n"
     ]
    },
    {
     "name": "stderr",
     "output_type": "stream",
     "text": [
      "[Parallel(n_jobs=48)]: Done 104 tasks      | elapsed:    5.5s\n",
      "[Parallel(n_jobs=48)]: Done 240 out of 240 | elapsed:   12.7s finished\n"
     ]
    },
    {
     "name": "stdout",
     "output_type": "stream",
     "text": [
      "New Batch started : 24481 to 24720 \n"
     ]
    },
    {
     "name": "stderr",
     "output_type": "stream",
     "text": [
      "[Parallel(n_jobs=48)]: Done 104 tasks      | elapsed:    5.4s\n",
      "[Parallel(n_jobs=48)]: Done 240 out of 240 | elapsed:   12.8s finished\n"
     ]
    },
    {
     "name": "stdout",
     "output_type": "stream",
     "text": [
      "New Batch started : 24721 to 24960 \n"
     ]
    },
    {
     "name": "stderr",
     "output_type": "stream",
     "text": [
      "[Parallel(n_jobs=48)]: Done 104 tasks      | elapsed:    5.5s\n",
      "[Parallel(n_jobs=48)]: Done 240 out of 240 | elapsed:   12.7s finished\n"
     ]
    },
    {
     "name": "stdout",
     "output_type": "stream",
     "text": [
      "New Batch started : 24961 to 25200 \n"
     ]
    },
    {
     "name": "stderr",
     "output_type": "stream",
     "text": [
      "[Parallel(n_jobs=48)]: Done 104 tasks      | elapsed:    5.5s\n",
      "[Parallel(n_jobs=48)]: Done 240 out of 240 | elapsed:   12.6s finished\n"
     ]
    },
    {
     "name": "stdout",
     "output_type": "stream",
     "text": [
      "New Batch started : 25201 to 25440 \n"
     ]
    },
    {
     "name": "stderr",
     "output_type": "stream",
     "text": [
      "[Parallel(n_jobs=48)]: Done 104 tasks      | elapsed:    5.6s\n",
      "[Parallel(n_jobs=48)]: Done 240 out of 240 | elapsed:   12.9s finished\n"
     ]
    },
    {
     "name": "stdout",
     "output_type": "stream",
     "text": [
      "New Batch started : 25441 to 25680 \n"
     ]
    },
    {
     "name": "stderr",
     "output_type": "stream",
     "text": [
      "[Parallel(n_jobs=48)]: Done 104 tasks      | elapsed:    5.5s\n",
      "[Parallel(n_jobs=48)]: Done 240 out of 240 | elapsed:   12.6s finished\n"
     ]
    },
    {
     "name": "stdout",
     "output_type": "stream",
     "text": [
      "New Batch started : 25681 to 25920 \n"
     ]
    },
    {
     "name": "stderr",
     "output_type": "stream",
     "text": [
      "[Parallel(n_jobs=48)]: Done 104 tasks      | elapsed:    5.5s\n",
      "[Parallel(n_jobs=48)]: Done 240 out of 240 | elapsed:   12.6s finished\n"
     ]
    },
    {
     "name": "stdout",
     "output_type": "stream",
     "text": [
      "New Batch started : 25921 to 26160 \n"
     ]
    },
    {
     "name": "stderr",
     "output_type": "stream",
     "text": [
      "[Parallel(n_jobs=48)]: Done 104 tasks      | elapsed:    5.6s\n",
      "[Parallel(n_jobs=48)]: Done 240 out of 240 | elapsed:   12.8s finished\n"
     ]
    },
    {
     "name": "stdout",
     "output_type": "stream",
     "text": [
      "New Batch started : 26161 to 26400 \n"
     ]
    },
    {
     "name": "stderr",
     "output_type": "stream",
     "text": [
      "[Parallel(n_jobs=48)]: Done 104 tasks      | elapsed:    5.5s\n",
      "[Parallel(n_jobs=48)]: Done 240 out of 240 | elapsed:   12.7s finished\n"
     ]
    },
    {
     "name": "stdout",
     "output_type": "stream",
     "text": [
      "New Batch started : 26401 to 26640 \n"
     ]
    },
    {
     "name": "stderr",
     "output_type": "stream",
     "text": [
      "[Parallel(n_jobs=48)]: Done 104 tasks      | elapsed:    5.4s\n",
      "[Parallel(n_jobs=48)]: Done 240 out of 240 | elapsed:   12.5s finished\n"
     ]
    },
    {
     "name": "stdout",
     "output_type": "stream",
     "text": [
      "New Batch started : 26641 to 26880 \n"
     ]
    },
    {
     "name": "stderr",
     "output_type": "stream",
     "text": [
      "[Parallel(n_jobs=48)]: Done 104 tasks      | elapsed:    5.5s\n",
      "[Parallel(n_jobs=48)]: Done 240 out of 240 | elapsed:   12.7s finished\n"
     ]
    },
    {
     "name": "stdout",
     "output_type": "stream",
     "text": [
      "New Batch started : 26881 to 27120 \n"
     ]
    },
    {
     "name": "stderr",
     "output_type": "stream",
     "text": [
      "[Parallel(n_jobs=48)]: Done 104 tasks      | elapsed:    5.4s\n",
      "[Parallel(n_jobs=48)]: Done 240 out of 240 | elapsed:   12.5s finished\n"
     ]
    },
    {
     "name": "stdout",
     "output_type": "stream",
     "text": [
      "New Batch started : 27121 to 27360 \n"
     ]
    },
    {
     "name": "stderr",
     "output_type": "stream",
     "text": [
      "[Parallel(n_jobs=48)]: Done 104 tasks      | elapsed:    5.4s\n",
      "[Parallel(n_jobs=48)]: Done 240 out of 240 | elapsed:   12.6s finished\n"
     ]
    },
    {
     "name": "stdout",
     "output_type": "stream",
     "text": [
      "New Batch started : 27361 to 27600 \n"
     ]
    },
    {
     "name": "stderr",
     "output_type": "stream",
     "text": [
      "[Parallel(n_jobs=48)]: Done 104 tasks      | elapsed:    5.5s\n",
      "[Parallel(n_jobs=48)]: Done 240 out of 240 | elapsed:   12.8s finished\n"
     ]
    },
    {
     "name": "stdout",
     "output_type": "stream",
     "text": [
      "New Batch started : 27601 to 27840 \n"
     ]
    },
    {
     "name": "stderr",
     "output_type": "stream",
     "text": [
      "[Parallel(n_jobs=48)]: Done 104 tasks      | elapsed:    5.4s\n",
      "[Parallel(n_jobs=48)]: Done 240 out of 240 | elapsed:   12.5s finished\n"
     ]
    },
    {
     "name": "stdout",
     "output_type": "stream",
     "text": [
      "New Batch started : 27841 to 28080 \n"
     ]
    },
    {
     "name": "stderr",
     "output_type": "stream",
     "text": [
      "[Parallel(n_jobs=48)]: Done 104 tasks      | elapsed:    5.4s\n",
      "[Parallel(n_jobs=48)]: Done 240 out of 240 | elapsed:   12.5s finished\n"
     ]
    },
    {
     "name": "stdout",
     "output_type": "stream",
     "text": [
      "New Batch started : 28081 to 28320 \n"
     ]
    },
    {
     "name": "stderr",
     "output_type": "stream",
     "text": [
      "[Parallel(n_jobs=48)]: Done 104 tasks      | elapsed:    5.5s\n",
      "[Parallel(n_jobs=48)]: Done 240 out of 240 | elapsed:   12.9s finished\n"
     ]
    },
    {
     "name": "stdout",
     "output_type": "stream",
     "text": [
      "New Batch started : 28321 to 28560 \n"
     ]
    },
    {
     "name": "stderr",
     "output_type": "stream",
     "text": [
      "[Parallel(n_jobs=48)]: Done 104 tasks      | elapsed:    5.5s\n",
      "[Parallel(n_jobs=48)]: Done 240 out of 240 | elapsed:   12.6s finished\n"
     ]
    },
    {
     "name": "stdout",
     "output_type": "stream",
     "text": [
      "New Batch started : 28561 to 28800 \n"
     ]
    },
    {
     "name": "stderr",
     "output_type": "stream",
     "text": [
      "[Parallel(n_jobs=48)]: Done 104 tasks      | elapsed:    5.5s\n",
      "[Parallel(n_jobs=48)]: Done 240 out of 240 | elapsed:   12.7s finished\n"
     ]
    },
    {
     "name": "stdout",
     "output_type": "stream",
     "text": [
      "New Batch started : 28801 to 29040 \n"
     ]
    },
    {
     "name": "stderr",
     "output_type": "stream",
     "text": [
      "[Parallel(n_jobs=48)]: Done 104 tasks      | elapsed:    5.4s\n",
      "[Parallel(n_jobs=48)]: Done 240 out of 240 | elapsed:   12.6s finished\n"
     ]
    },
    {
     "name": "stdout",
     "output_type": "stream",
     "text": [
      "New Batch started : 29041 to 29280 \n"
     ]
    },
    {
     "name": "stderr",
     "output_type": "stream",
     "text": [
      "[Parallel(n_jobs=48)]: Done 104 tasks      | elapsed:    5.4s\n",
      "[Parallel(n_jobs=48)]: Done 240 out of 240 | elapsed:   12.6s finished\n"
     ]
    },
    {
     "name": "stdout",
     "output_type": "stream",
     "text": [
      "New Batch started : 29281 to 29520 \n"
     ]
    },
    {
     "name": "stderr",
     "output_type": "stream",
     "text": [
      "[Parallel(n_jobs=48)]: Done 104 tasks      | elapsed:    5.6s\n",
      "[Parallel(n_jobs=48)]: Done 240 out of 240 | elapsed:   12.7s finished\n"
     ]
    },
    {
     "name": "stdout",
     "output_type": "stream",
     "text": [
      "New Batch started : 29521 to 29760 \n"
     ]
    },
    {
     "name": "stderr",
     "output_type": "stream",
     "text": [
      "[Parallel(n_jobs=48)]: Done 104 tasks      | elapsed:    5.5s\n",
      "[Parallel(n_jobs=48)]: Done 240 out of 240 | elapsed:   12.6s finished\n"
     ]
    },
    {
     "name": "stdout",
     "output_type": "stream",
     "text": [
      "New Batch started : 29761 to 30000 \n"
     ]
    },
    {
     "name": "stderr",
     "output_type": "stream",
     "text": [
      "[Parallel(n_jobs=48)]: Done 104 tasks      | elapsed:    5.5s\n",
      "[Parallel(n_jobs=48)]: Done 240 out of 240 | elapsed:   12.6s finished\n"
     ]
    },
    {
     "name": "stdout",
     "output_type": "stream",
     "text": [
      "New Batch started : 30001 to 30240 \n"
     ]
    },
    {
     "name": "stderr",
     "output_type": "stream",
     "text": [
      "[Parallel(n_jobs=48)]: Done 104 tasks      | elapsed:    5.5s\n",
      "[Parallel(n_jobs=48)]: Done 240 out of 240 | elapsed:   12.7s finished\n"
     ]
    },
    {
     "name": "stdout",
     "output_type": "stream",
     "text": [
      "New Batch started : 30241 to 30480 \n"
     ]
    },
    {
     "name": "stderr",
     "output_type": "stream",
     "text": [
      "[Parallel(n_jobs=48)]: Done 104 tasks      | elapsed:    5.5s\n",
      "[Parallel(n_jobs=48)]: Done 240 out of 240 | elapsed:   12.6s finished\n"
     ]
    },
    {
     "name": "stdout",
     "output_type": "stream",
     "text": [
      "New Batch started : 30481 to 30720 \n"
     ]
    },
    {
     "name": "stderr",
     "output_type": "stream",
     "text": [
      "[Parallel(n_jobs=48)]: Done 104 tasks      | elapsed:    5.6s\n",
      "[Parallel(n_jobs=48)]: Done 240 out of 240 | elapsed:   12.7s finished\n"
     ]
    },
    {
     "name": "stdout",
     "output_type": "stream",
     "text": [
      "New Batch started : 30721 to 30960 \n"
     ]
    },
    {
     "name": "stderr",
     "output_type": "stream",
     "text": [
      "[Parallel(n_jobs=48)]: Done 104 tasks      | elapsed:    5.4s\n",
      "[Parallel(n_jobs=48)]: Done 240 out of 240 | elapsed:   12.6s finished\n"
     ]
    },
    {
     "name": "stdout",
     "output_type": "stream",
     "text": [
      "New Batch started : 30961 to 31200 \n"
     ]
    },
    {
     "name": "stderr",
     "output_type": "stream",
     "text": [
      "[Parallel(n_jobs=48)]: Done 104 tasks      | elapsed:    5.4s\n",
      "[Parallel(n_jobs=48)]: Done 240 out of 240 | elapsed:   12.7s finished\n"
     ]
    },
    {
     "name": "stdout",
     "output_type": "stream",
     "text": [
      "New Batch started : 31201 to 31440 \n"
     ]
    },
    {
     "name": "stderr",
     "output_type": "stream",
     "text": [
      "[Parallel(n_jobs=48)]: Done 104 tasks      | elapsed:    5.5s\n",
      "[Parallel(n_jobs=48)]: Done 240 out of 240 | elapsed:   12.6s finished\n"
     ]
    },
    {
     "name": "stdout",
     "output_type": "stream",
     "text": [
      "New Batch started : 31441 to 31680 \n"
     ]
    },
    {
     "name": "stderr",
     "output_type": "stream",
     "text": [
      "[Parallel(n_jobs=48)]: Done 104 tasks      | elapsed:    5.5s\n",
      "[Parallel(n_jobs=48)]: Done 240 out of 240 | elapsed:   12.6s finished\n"
     ]
    },
    {
     "name": "stdout",
     "output_type": "stream",
     "text": [
      "New Batch started : 31681 to 31920 \n"
     ]
    },
    {
     "name": "stderr",
     "output_type": "stream",
     "text": [
      "[Parallel(n_jobs=48)]: Done 104 tasks      | elapsed:    5.4s\n",
      "[Parallel(n_jobs=48)]: Done 240 out of 240 | elapsed:   12.6s finished\n"
     ]
    },
    {
     "name": "stdout",
     "output_type": "stream",
     "text": [
      "New Batch started : 31921 to 32073 \n"
     ]
    },
    {
     "name": "stderr",
     "output_type": "stream",
     "text": [
      "[Parallel(n_jobs=48)]: Done 153 out of 153 | elapsed:    8.0s finished\n"
     ]
    },
    {
     "name": "stdout",
     "output_type": "stream",
     "text": [
      "Loading test file #1 - dict_jobID_Xtest_Ytest_128292_160364_FROM_giga_takeoutdf_w_jobgroup.pickle\n",
      "Loaded test file #32073\n",
      "New Batch started : 1 to 240 \n"
     ]
    },
    {
     "name": "stderr",
     "output_type": "stream",
     "text": [
      "[Parallel(n_jobs=48)]: Done 104 tasks      | elapsed:    5.6s\n",
      "[Parallel(n_jobs=48)]: Done 240 out of 240 | elapsed:   13.1s finished\n"
     ]
    },
    {
     "name": "stdout",
     "output_type": "stream",
     "text": [
      "New Batch started : 241 to 480 \n"
     ]
    },
    {
     "name": "stderr",
     "output_type": "stream",
     "text": [
      "[Parallel(n_jobs=48)]: Done 104 tasks      | elapsed:    5.7s\n",
      "[Parallel(n_jobs=48)]: Done 240 out of 240 | elapsed:   13.0s finished\n"
     ]
    },
    {
     "name": "stdout",
     "output_type": "stream",
     "text": [
      "New Batch started : 481 to 720 \n"
     ]
    },
    {
     "name": "stderr",
     "output_type": "stream",
     "text": [
      "[Parallel(n_jobs=48)]: Done 104 tasks      | elapsed:    5.6s\n",
      "[Parallel(n_jobs=48)]: Done 240 out of 240 | elapsed:   12.9s finished\n"
     ]
    },
    {
     "name": "stdout",
     "output_type": "stream",
     "text": [
      "New Batch started : 721 to 960 \n"
     ]
    },
    {
     "name": "stderr",
     "output_type": "stream",
     "text": [
      "[Parallel(n_jobs=48)]: Done 104 tasks      | elapsed:    5.6s\n",
      "[Parallel(n_jobs=48)]: Done 240 out of 240 | elapsed:   13.0s finished\n"
     ]
    },
    {
     "name": "stdout",
     "output_type": "stream",
     "text": [
      "New Batch started : 961 to 1200 \n"
     ]
    },
    {
     "name": "stderr",
     "output_type": "stream",
     "text": [
      "[Parallel(n_jobs=48)]: Done 104 tasks      | elapsed:    5.5s\n",
      "[Parallel(n_jobs=48)]: Done 240 out of 240 | elapsed:   12.9s finished\n"
     ]
    },
    {
     "name": "stdout",
     "output_type": "stream",
     "text": [
      "New Batch started : 1201 to 1440 \n"
     ]
    },
    {
     "name": "stderr",
     "output_type": "stream",
     "text": [
      "[Parallel(n_jobs=48)]: Done 104 tasks      | elapsed:    5.5s\n",
      "[Parallel(n_jobs=48)]: Done 240 out of 240 | elapsed:   12.8s finished\n"
     ]
    },
    {
     "name": "stdout",
     "output_type": "stream",
     "text": [
      "New Batch started : 1441 to 1680 \n"
     ]
    },
    {
     "name": "stderr",
     "output_type": "stream",
     "text": [
      "[Parallel(n_jobs=48)]: Done 104 tasks      | elapsed:    5.6s\n",
      "[Parallel(n_jobs=48)]: Done 240 out of 240 | elapsed:   12.9s finished\n"
     ]
    },
    {
     "name": "stdout",
     "output_type": "stream",
     "text": [
      "New Batch started : 1681 to 1920 \n"
     ]
    },
    {
     "name": "stderr",
     "output_type": "stream",
     "text": [
      "[Parallel(n_jobs=48)]: Done 104 tasks      | elapsed:    5.5s\n",
      "[Parallel(n_jobs=48)]: Done 240 out of 240 | elapsed:   12.6s finished\n"
     ]
    },
    {
     "name": "stdout",
     "output_type": "stream",
     "text": [
      "New Batch started : 1921 to 2160 \n"
     ]
    },
    {
     "name": "stderr",
     "output_type": "stream",
     "text": [
      "[Parallel(n_jobs=48)]: Done 104 tasks      | elapsed:    5.5s\n",
      "[Parallel(n_jobs=48)]: Done 240 out of 240 | elapsed:   12.6s finished\n"
     ]
    },
    {
     "name": "stdout",
     "output_type": "stream",
     "text": [
      "New Batch started : 2161 to 2400 \n"
     ]
    },
    {
     "name": "stderr",
     "output_type": "stream",
     "text": [
      "[Parallel(n_jobs=48)]: Done 104 tasks      | elapsed:    6.2s\n",
      "[Parallel(n_jobs=48)]: Done 240 out of 240 | elapsed:   14.5s finished\n"
     ]
    },
    {
     "name": "stdout",
     "output_type": "stream",
     "text": [
      "New Batch started : 2401 to 2640 \n"
     ]
    },
    {
     "name": "stderr",
     "output_type": "stream",
     "text": [
      "[Parallel(n_jobs=48)]: Done 104 tasks      | elapsed:    5.9s\n",
      "[Parallel(n_jobs=48)]: Done 240 out of 240 | elapsed:   13.8s finished\n"
     ]
    },
    {
     "name": "stdout",
     "output_type": "stream",
     "text": [
      "New Batch started : 2641 to 2880 \n"
     ]
    },
    {
     "name": "stderr",
     "output_type": "stream",
     "text": [
      "[Parallel(n_jobs=48)]: Done 104 tasks      | elapsed:    6.1s\n",
      "[Parallel(n_jobs=48)]: Done 240 out of 240 | elapsed:   14.6s finished\n"
     ]
    },
    {
     "name": "stdout",
     "output_type": "stream",
     "text": [
      "New Batch started : 2881 to 3120 \n"
     ]
    },
    {
     "name": "stderr",
     "output_type": "stream",
     "text": [
      "[Parallel(n_jobs=48)]: Done 104 tasks      | elapsed:    6.1s\n",
      "[Parallel(n_jobs=48)]: Done 240 out of 240 | elapsed:   14.0s finished\n"
     ]
    },
    {
     "name": "stdout",
     "output_type": "stream",
     "text": [
      "New Batch started : 3121 to 3360 \n"
     ]
    },
    {
     "name": "stderr",
     "output_type": "stream",
     "text": [
      "[Parallel(n_jobs=48)]: Done 104 tasks      | elapsed:    6.4s\n",
      "[Parallel(n_jobs=48)]: Done 240 out of 240 | elapsed:   14.1s finished\n"
     ]
    },
    {
     "name": "stdout",
     "output_type": "stream",
     "text": [
      "New Batch started : 3361 to 3600 \n"
     ]
    },
    {
     "name": "stderr",
     "output_type": "stream",
     "text": [
      "[Parallel(n_jobs=48)]: Done 104 tasks      | elapsed:    5.8s\n",
      "[Parallel(n_jobs=48)]: Done 240 out of 240 | elapsed:   14.3s finished\n"
     ]
    },
    {
     "name": "stdout",
     "output_type": "stream",
     "text": [
      "New Batch started : 3601 to 3840 \n"
     ]
    },
    {
     "name": "stderr",
     "output_type": "stream",
     "text": [
      "[Parallel(n_jobs=48)]: Done 104 tasks      | elapsed:    6.1s\n",
      "[Parallel(n_jobs=48)]: Done 240 out of 240 | elapsed:   13.9s finished\n"
     ]
    },
    {
     "name": "stdout",
     "output_type": "stream",
     "text": [
      "New Batch started : 3841 to 4080 \n"
     ]
    },
    {
     "name": "stderr",
     "output_type": "stream",
     "text": [
      "[Parallel(n_jobs=48)]: Done 104 tasks      | elapsed:    6.1s\n",
      "[Parallel(n_jobs=48)]: Done 240 out of 240 | elapsed:   13.8s finished\n"
     ]
    },
    {
     "name": "stdout",
     "output_type": "stream",
     "text": [
      "New Batch started : 4081 to 4320 \n"
     ]
    },
    {
     "name": "stderr",
     "output_type": "stream",
     "text": [
      "[Parallel(n_jobs=48)]: Done 104 tasks      | elapsed:    6.3s\n",
      "[Parallel(n_jobs=48)]: Done 240 out of 240 | elapsed:   14.6s finished\n"
     ]
    },
    {
     "name": "stdout",
     "output_type": "stream",
     "text": [
      "New Batch started : 4321 to 4560 \n"
     ]
    },
    {
     "name": "stderr",
     "output_type": "stream",
     "text": [
      "[Parallel(n_jobs=48)]: Done 104 tasks      | elapsed:    6.8s\n",
      "[Parallel(n_jobs=48)]: Done 240 out of 240 | elapsed:   14.9s finished\n"
     ]
    },
    {
     "name": "stdout",
     "output_type": "stream",
     "text": [
      "New Batch started : 4561 to 4800 \n"
     ]
    },
    {
     "name": "stderr",
     "output_type": "stream",
     "text": [
      "[Parallel(n_jobs=48)]: Done 104 tasks      | elapsed:    6.3s\n",
      "[Parallel(n_jobs=48)]: Done 240 out of 240 | elapsed:   14.2s finished\n"
     ]
    },
    {
     "name": "stdout",
     "output_type": "stream",
     "text": [
      "New Batch started : 4801 to 5040 \n"
     ]
    },
    {
     "name": "stderr",
     "output_type": "stream",
     "text": [
      "[Parallel(n_jobs=48)]: Done 104 tasks      | elapsed:    6.3s\n",
      "[Parallel(n_jobs=48)]: Done 240 out of 240 | elapsed:   14.7s finished\n"
     ]
    },
    {
     "name": "stdout",
     "output_type": "stream",
     "text": [
      "New Batch started : 5041 to 5280 \n"
     ]
    },
    {
     "name": "stderr",
     "output_type": "stream",
     "text": [
      "[Parallel(n_jobs=48)]: Done 104 tasks      | elapsed:    6.5s\n",
      "[Parallel(n_jobs=48)]: Done 240 out of 240 | elapsed:   15.1s finished\n"
     ]
    },
    {
     "name": "stdout",
     "output_type": "stream",
     "text": [
      "New Batch started : 5281 to 5520 \n"
     ]
    },
    {
     "name": "stderr",
     "output_type": "stream",
     "text": [
      "[Parallel(n_jobs=48)]: Done 104 tasks      | elapsed:    6.7s\n",
      "[Parallel(n_jobs=48)]: Done 240 out of 240 | elapsed:   14.5s finished\n"
     ]
    },
    {
     "name": "stdout",
     "output_type": "stream",
     "text": [
      "New Batch started : 5521 to 5760 \n"
     ]
    },
    {
     "name": "stderr",
     "output_type": "stream",
     "text": [
      "[Parallel(n_jobs=48)]: Done 104 tasks      | elapsed:    6.0s\n",
      "[Parallel(n_jobs=48)]: Done 240 out of 240 | elapsed:   13.5s finished\n"
     ]
    },
    {
     "name": "stdout",
     "output_type": "stream",
     "text": [
      "New Batch started : 5761 to 6000 \n"
     ]
    },
    {
     "name": "stderr",
     "output_type": "stream",
     "text": [
      "[Parallel(n_jobs=48)]: Done 104 tasks      | elapsed:    5.6s\n",
      "[Parallel(n_jobs=48)]: Done 240 out of 240 | elapsed:   13.0s finished\n"
     ]
    },
    {
     "name": "stdout",
     "output_type": "stream",
     "text": [
      "New Batch started : 6001 to 6240 \n"
     ]
    },
    {
     "name": "stderr",
     "output_type": "stream",
     "text": [
      "[Parallel(n_jobs=48)]: Done 104 tasks      | elapsed:    5.5s\n",
      "[Parallel(n_jobs=48)]: Done 240 out of 240 | elapsed:   12.8s finished\n"
     ]
    },
    {
     "name": "stdout",
     "output_type": "stream",
     "text": [
      "New Batch started : 6241 to 6480 \n"
     ]
    },
    {
     "name": "stderr",
     "output_type": "stream",
     "text": [
      "[Parallel(n_jobs=48)]: Done 104 tasks      | elapsed:    5.4s\n",
      "[Parallel(n_jobs=48)]: Done 240 out of 240 | elapsed:   12.6s finished\n"
     ]
    },
    {
     "name": "stdout",
     "output_type": "stream",
     "text": [
      "New Batch started : 6481 to 6720 \n"
     ]
    },
    {
     "name": "stderr",
     "output_type": "stream",
     "text": [
      "[Parallel(n_jobs=48)]: Done 104 tasks      | elapsed:    5.6s\n",
      "[Parallel(n_jobs=48)]: Done 240 out of 240 | elapsed:   13.0s finished\n"
     ]
    },
    {
     "name": "stdout",
     "output_type": "stream",
     "text": [
      "New Batch started : 6721 to 6960 \n"
     ]
    },
    {
     "name": "stderr",
     "output_type": "stream",
     "text": [
      "[Parallel(n_jobs=48)]: Done 104 tasks      | elapsed:    5.6s\n",
      "[Parallel(n_jobs=48)]: Done 240 out of 240 | elapsed:   12.8s finished\n"
     ]
    },
    {
     "name": "stdout",
     "output_type": "stream",
     "text": [
      "New Batch started : 6961 to 7200 \n"
     ]
    },
    {
     "name": "stderr",
     "output_type": "stream",
     "text": [
      "[Parallel(n_jobs=48)]: Done 104 tasks      | elapsed:    5.5s\n",
      "[Parallel(n_jobs=48)]: Done 240 out of 240 | elapsed:   12.6s finished\n"
     ]
    },
    {
     "name": "stdout",
     "output_type": "stream",
     "text": [
      "New Batch started : 7201 to 7440 \n"
     ]
    },
    {
     "name": "stderr",
     "output_type": "stream",
     "text": [
      "[Parallel(n_jobs=48)]: Done 104 tasks      | elapsed:    5.5s\n",
      "[Parallel(n_jobs=48)]: Done 240 out of 240 | elapsed:   12.6s finished\n"
     ]
    },
    {
     "name": "stdout",
     "output_type": "stream",
     "text": [
      "New Batch started : 7441 to 7680 \n"
     ]
    },
    {
     "name": "stderr",
     "output_type": "stream",
     "text": [
      "[Parallel(n_jobs=48)]: Done 104 tasks      | elapsed:    6.5s\n",
      "[Parallel(n_jobs=48)]: Done 240 out of 240 | elapsed:   14.3s finished\n"
     ]
    },
    {
     "name": "stdout",
     "output_type": "stream",
     "text": [
      "New Batch started : 7681 to 7920 \n"
     ]
    },
    {
     "name": "stderr",
     "output_type": "stream",
     "text": [
      "[Parallel(n_jobs=48)]: Done 104 tasks      | elapsed:    6.0s\n",
      "[Parallel(n_jobs=48)]: Done 240 out of 240 | elapsed:   14.5s finished\n"
     ]
    },
    {
     "name": "stdout",
     "output_type": "stream",
     "text": [
      "New Batch started : 7921 to 8160 \n"
     ]
    },
    {
     "name": "stderr",
     "output_type": "stream",
     "text": [
      "[Parallel(n_jobs=48)]: Done 104 tasks      | elapsed:    5.8s\n",
      "[Parallel(n_jobs=48)]: Done 240 out of 240 | elapsed:   13.7s finished\n"
     ]
    },
    {
     "name": "stdout",
     "output_type": "stream",
     "text": [
      "New Batch started : 8161 to 8400 \n"
     ]
    },
    {
     "name": "stderr",
     "output_type": "stream",
     "text": [
      "[Parallel(n_jobs=48)]: Done 104 tasks      | elapsed:    5.8s\n",
      "[Parallel(n_jobs=48)]: Done 240 out of 240 | elapsed:   13.0s finished\n"
     ]
    },
    {
     "name": "stdout",
     "output_type": "stream",
     "text": [
      "New Batch started : 8401 to 8640 \n"
     ]
    },
    {
     "name": "stderr",
     "output_type": "stream",
     "text": [
      "[Parallel(n_jobs=48)]: Done 104 tasks      | elapsed:    5.5s\n",
      "[Parallel(n_jobs=48)]: Done 240 out of 240 | elapsed:   12.7s finished\n"
     ]
    },
    {
     "name": "stdout",
     "output_type": "stream",
     "text": [
      "New Batch started : 8641 to 8880 \n"
     ]
    },
    {
     "name": "stderr",
     "output_type": "stream",
     "text": [
      "[Parallel(n_jobs=48)]: Done 104 tasks      | elapsed:    5.5s\n",
      "[Parallel(n_jobs=48)]: Done 240 out of 240 | elapsed:   12.6s finished\n"
     ]
    },
    {
     "name": "stdout",
     "output_type": "stream",
     "text": [
      "New Batch started : 8881 to 9120 \n"
     ]
    },
    {
     "name": "stderr",
     "output_type": "stream",
     "text": [
      "[Parallel(n_jobs=48)]: Done 104 tasks      | elapsed:    5.5s\n",
      "[Parallel(n_jobs=48)]: Done 240 out of 240 | elapsed:   12.6s finished\n"
     ]
    },
    {
     "name": "stdout",
     "output_type": "stream",
     "text": [
      "New Batch started : 9121 to 9360 \n"
     ]
    },
    {
     "name": "stderr",
     "output_type": "stream",
     "text": [
      "[Parallel(n_jobs=48)]: Done 104 tasks      | elapsed:    5.5s\n",
      "[Parallel(n_jobs=48)]: Done 240 out of 240 | elapsed:   12.7s finished\n"
     ]
    },
    {
     "name": "stdout",
     "output_type": "stream",
     "text": [
      "New Batch started : 9361 to 9600 \n"
     ]
    },
    {
     "name": "stderr",
     "output_type": "stream",
     "text": [
      "[Parallel(n_jobs=48)]: Done 104 tasks      | elapsed:    5.6s\n",
      "[Parallel(n_jobs=48)]: Done 240 out of 240 | elapsed:   12.7s finished\n"
     ]
    },
    {
     "name": "stdout",
     "output_type": "stream",
     "text": [
      "New Batch started : 9601 to 9840 \n"
     ]
    },
    {
     "name": "stderr",
     "output_type": "stream",
     "text": [
      "[Parallel(n_jobs=48)]: Done 104 tasks      | elapsed:    5.6s\n",
      "[Parallel(n_jobs=48)]: Done 240 out of 240 | elapsed:   12.8s finished\n"
     ]
    },
    {
     "name": "stdout",
     "output_type": "stream",
     "text": [
      "New Batch started : 9841 to 10080 \n"
     ]
    },
    {
     "name": "stderr",
     "output_type": "stream",
     "text": [
      "[Parallel(n_jobs=48)]: Done 104 tasks      | elapsed:    5.6s\n",
      "[Parallel(n_jobs=48)]: Done 240 out of 240 | elapsed:   12.8s finished\n"
     ]
    },
    {
     "name": "stdout",
     "output_type": "stream",
     "text": [
      "New Batch started : 10081 to 10320 \n"
     ]
    },
    {
     "name": "stderr",
     "output_type": "stream",
     "text": [
      "[Parallel(n_jobs=48)]: Done 104 tasks      | elapsed:    5.7s\n",
      "[Parallel(n_jobs=48)]: Done 240 out of 240 | elapsed:   12.9s finished\n"
     ]
    },
    {
     "name": "stdout",
     "output_type": "stream",
     "text": [
      "New Batch started : 10321 to 10560 \n"
     ]
    },
    {
     "name": "stderr",
     "output_type": "stream",
     "text": [
      "[Parallel(n_jobs=48)]: Done 104 tasks      | elapsed:    5.8s\n",
      "[Parallel(n_jobs=48)]: Done 240 out of 240 | elapsed:   13.2s finished\n"
     ]
    },
    {
     "name": "stdout",
     "output_type": "stream",
     "text": [
      "New Batch started : 10561 to 10800 \n"
     ]
    },
    {
     "name": "stderr",
     "output_type": "stream",
     "text": [
      "[Parallel(n_jobs=48)]: Done 104 tasks      | elapsed:    5.5s\n",
      "[Parallel(n_jobs=48)]: Done 240 out of 240 | elapsed:   12.6s finished\n"
     ]
    },
    {
     "name": "stdout",
     "output_type": "stream",
     "text": [
      "New Batch started : 10801 to 11040 \n"
     ]
    },
    {
     "name": "stderr",
     "output_type": "stream",
     "text": [
      "[Parallel(n_jobs=48)]: Done 104 tasks      | elapsed:    5.5s\n",
      "[Parallel(n_jobs=48)]: Done 240 out of 240 | elapsed:   12.6s finished\n"
     ]
    },
    {
     "name": "stdout",
     "output_type": "stream",
     "text": [
      "New Batch started : 11041 to 11280 \n"
     ]
    },
    {
     "name": "stderr",
     "output_type": "stream",
     "text": [
      "[Parallel(n_jobs=48)]: Done 104 tasks      | elapsed:    5.8s\n",
      "[Parallel(n_jobs=48)]: Done 240 out of 240 | elapsed:   13.5s finished\n"
     ]
    },
    {
     "name": "stdout",
     "output_type": "stream",
     "text": [
      "New Batch started : 11281 to 11520 \n"
     ]
    },
    {
     "name": "stderr",
     "output_type": "stream",
     "text": [
      "[Parallel(n_jobs=48)]: Done 104 tasks      | elapsed:    5.5s\n",
      "[Parallel(n_jobs=48)]: Done 240 out of 240 | elapsed:   12.8s finished\n"
     ]
    },
    {
     "name": "stdout",
     "output_type": "stream",
     "text": [
      "New Batch started : 11521 to 11760 \n"
     ]
    },
    {
     "name": "stderr",
     "output_type": "stream",
     "text": [
      "[Parallel(n_jobs=48)]: Done 104 tasks      | elapsed:    5.5s\n",
      "[Parallel(n_jobs=48)]: Done 240 out of 240 | elapsed:   12.6s finished\n"
     ]
    },
    {
     "name": "stdout",
     "output_type": "stream",
     "text": [
      "New Batch started : 11761 to 12000 \n"
     ]
    },
    {
     "name": "stderr",
     "output_type": "stream",
     "text": [
      "[Parallel(n_jobs=48)]: Done 104 tasks      | elapsed:    5.4s\n",
      "[Parallel(n_jobs=48)]: Done 240 out of 240 | elapsed:   12.6s finished\n"
     ]
    },
    {
     "name": "stdout",
     "output_type": "stream",
     "text": [
      "New Batch started : 12001 to 12240 \n"
     ]
    },
    {
     "name": "stderr",
     "output_type": "stream",
     "text": [
      "[Parallel(n_jobs=48)]: Done 104 tasks      | elapsed:    5.5s\n",
      "[Parallel(n_jobs=48)]: Done 240 out of 240 | elapsed:   12.7s finished\n"
     ]
    },
    {
     "name": "stdout",
     "output_type": "stream",
     "text": [
      "New Batch started : 12241 to 12480 \n"
     ]
    },
    {
     "name": "stderr",
     "output_type": "stream",
     "text": [
      "[Parallel(n_jobs=48)]: Done 104 tasks      | elapsed:    5.5s\n",
      "[Parallel(n_jobs=48)]: Done 240 out of 240 | elapsed:   12.7s finished\n"
     ]
    },
    {
     "name": "stdout",
     "output_type": "stream",
     "text": [
      "New Batch started : 12481 to 12720 \n"
     ]
    },
    {
     "name": "stderr",
     "output_type": "stream",
     "text": [
      "[Parallel(n_jobs=48)]: Done 104 tasks      | elapsed:    5.4s\n",
      "[Parallel(n_jobs=48)]: Done 240 out of 240 | elapsed:   12.6s finished\n"
     ]
    },
    {
     "name": "stdout",
     "output_type": "stream",
     "text": [
      "New Batch started : 12721 to 12960 \n"
     ]
    },
    {
     "name": "stderr",
     "output_type": "stream",
     "text": [
      "[Parallel(n_jobs=48)]: Done 104 tasks      | elapsed:    5.4s\n",
      "[Parallel(n_jobs=48)]: Done 240 out of 240 | elapsed:   12.5s finished\n"
     ]
    },
    {
     "name": "stdout",
     "output_type": "stream",
     "text": [
      "New Batch started : 12961 to 13200 \n"
     ]
    },
    {
     "name": "stderr",
     "output_type": "stream",
     "text": [
      "[Parallel(n_jobs=48)]: Done 104 tasks      | elapsed:    5.5s\n",
      "[Parallel(n_jobs=48)]: Done 240 out of 240 | elapsed:   12.7s finished\n"
     ]
    },
    {
     "name": "stdout",
     "output_type": "stream",
     "text": [
      "New Batch started : 13201 to 13440 \n"
     ]
    },
    {
     "name": "stderr",
     "output_type": "stream",
     "text": [
      "[Parallel(n_jobs=48)]: Done 104 tasks      | elapsed:    5.5s\n",
      "[Parallel(n_jobs=48)]: Done 240 out of 240 | elapsed:   12.6s finished\n"
     ]
    },
    {
     "name": "stdout",
     "output_type": "stream",
     "text": [
      "New Batch started : 13441 to 13680 \n"
     ]
    },
    {
     "name": "stderr",
     "output_type": "stream",
     "text": [
      "[Parallel(n_jobs=48)]: Done 104 tasks      | elapsed:    5.5s\n",
      "[Parallel(n_jobs=48)]: Done 240 out of 240 | elapsed:   12.5s finished\n"
     ]
    },
    {
     "name": "stdout",
     "output_type": "stream",
     "text": [
      "New Batch started : 13681 to 13920 \n"
     ]
    },
    {
     "name": "stderr",
     "output_type": "stream",
     "text": [
      "[Parallel(n_jobs=48)]: Done 104 tasks      | elapsed:    5.4s\n",
      "[Parallel(n_jobs=48)]: Done 240 out of 240 | elapsed:   12.7s finished\n"
     ]
    },
    {
     "name": "stdout",
     "output_type": "stream",
     "text": [
      "New Batch started : 13921 to 14160 \n"
     ]
    },
    {
     "name": "stderr",
     "output_type": "stream",
     "text": [
      "[Parallel(n_jobs=48)]: Done 104 tasks      | elapsed:    5.6s\n",
      "[Parallel(n_jobs=48)]: Done 240 out of 240 | elapsed:   12.8s finished\n"
     ]
    },
    {
     "name": "stdout",
     "output_type": "stream",
     "text": [
      "New Batch started : 14161 to 14400 \n"
     ]
    },
    {
     "name": "stderr",
     "output_type": "stream",
     "text": [
      "[Parallel(n_jobs=48)]: Done 104 tasks      | elapsed:    5.5s\n",
      "[Parallel(n_jobs=48)]: Done 240 out of 240 | elapsed:   12.7s finished\n"
     ]
    },
    {
     "name": "stdout",
     "output_type": "stream",
     "text": [
      "New Batch started : 14401 to 14640 \n"
     ]
    },
    {
     "name": "stderr",
     "output_type": "stream",
     "text": [
      "[Parallel(n_jobs=48)]: Done 104 tasks      | elapsed:    5.5s\n",
      "[Parallel(n_jobs=48)]: Done 240 out of 240 | elapsed:   12.5s finished\n"
     ]
    },
    {
     "name": "stdout",
     "output_type": "stream",
     "text": [
      "New Batch started : 14641 to 14880 \n"
     ]
    },
    {
     "name": "stderr",
     "output_type": "stream",
     "text": [
      "[Parallel(n_jobs=48)]: Done 104 tasks      | elapsed:    5.4s\n",
      "[Parallel(n_jobs=48)]: Done 240 out of 240 | elapsed:   12.8s finished\n"
     ]
    },
    {
     "name": "stdout",
     "output_type": "stream",
     "text": [
      "New Batch started : 14881 to 15120 \n"
     ]
    },
    {
     "name": "stderr",
     "output_type": "stream",
     "text": [
      "[Parallel(n_jobs=48)]: Done 104 tasks      | elapsed:    5.5s\n",
      "[Parallel(n_jobs=48)]: Done 240 out of 240 | elapsed:   12.7s finished\n"
     ]
    },
    {
     "name": "stdout",
     "output_type": "stream",
     "text": [
      "New Batch started : 15121 to 15360 \n"
     ]
    },
    {
     "name": "stderr",
     "output_type": "stream",
     "text": [
      "[Parallel(n_jobs=48)]: Done 104 tasks      | elapsed:    5.6s\n",
      "[Parallel(n_jobs=48)]: Done 240 out of 240 | elapsed:   12.8s finished\n"
     ]
    },
    {
     "name": "stdout",
     "output_type": "stream",
     "text": [
      "New Batch started : 15361 to 15600 \n"
     ]
    },
    {
     "name": "stderr",
     "output_type": "stream",
     "text": [
      "[Parallel(n_jobs=48)]: Done 104 tasks      | elapsed:    5.6s\n",
      "[Parallel(n_jobs=48)]: Done 240 out of 240 | elapsed:   12.8s finished\n"
     ]
    },
    {
     "name": "stdout",
     "output_type": "stream",
     "text": [
      "New Batch started : 15601 to 15840 \n"
     ]
    },
    {
     "name": "stderr",
     "output_type": "stream",
     "text": [
      "[Parallel(n_jobs=48)]: Done 104 tasks      | elapsed:    5.5s\n",
      "[Parallel(n_jobs=48)]: Done 240 out of 240 | elapsed:   12.7s finished\n"
     ]
    },
    {
     "name": "stdout",
     "output_type": "stream",
     "text": [
      "New Batch started : 15841 to 16080 \n"
     ]
    },
    {
     "name": "stderr",
     "output_type": "stream",
     "text": [
      "[Parallel(n_jobs=48)]: Done 104 tasks      | elapsed:    5.5s\n",
      "[Parallel(n_jobs=48)]: Done 240 out of 240 | elapsed:   12.7s finished\n"
     ]
    },
    {
     "name": "stdout",
     "output_type": "stream",
     "text": [
      "New Batch started : 16081 to 16320 \n"
     ]
    },
    {
     "name": "stderr",
     "output_type": "stream",
     "text": [
      "[Parallel(n_jobs=48)]: Done 104 tasks      | elapsed:    5.5s\n",
      "[Parallel(n_jobs=48)]: Done 240 out of 240 | elapsed:   12.7s finished\n"
     ]
    },
    {
     "name": "stdout",
     "output_type": "stream",
     "text": [
      "New Batch started : 16321 to 16560 \n"
     ]
    },
    {
     "name": "stderr",
     "output_type": "stream",
     "text": [
      "[Parallel(n_jobs=48)]: Done 104 tasks      | elapsed:    5.6s\n",
      "[Parallel(n_jobs=48)]: Done 240 out of 240 | elapsed:   13.1s finished\n"
     ]
    },
    {
     "name": "stdout",
     "output_type": "stream",
     "text": [
      "New Batch started : 16561 to 16800 \n"
     ]
    },
    {
     "name": "stderr",
     "output_type": "stream",
     "text": [
      "[Parallel(n_jobs=48)]: Done 104 tasks      | elapsed:    5.7s\n",
      "[Parallel(n_jobs=48)]: Done 240 out of 240 | elapsed:   13.4s finished\n"
     ]
    },
    {
     "name": "stdout",
     "output_type": "stream",
     "text": [
      "New Batch started : 16801 to 17040 \n"
     ]
    },
    {
     "name": "stderr",
     "output_type": "stream",
     "text": [
      "[Parallel(n_jobs=48)]: Done 104 tasks      | elapsed:    5.6s\n",
      "[Parallel(n_jobs=48)]: Done 240 out of 240 | elapsed:   13.0s finished\n"
     ]
    },
    {
     "name": "stdout",
     "output_type": "stream",
     "text": [
      "New Batch started : 17041 to 17280 \n"
     ]
    },
    {
     "name": "stderr",
     "output_type": "stream",
     "text": [
      "[Parallel(n_jobs=48)]: Done 104 tasks      | elapsed:    5.5s\n",
      "[Parallel(n_jobs=48)]: Done 240 out of 240 | elapsed:   12.7s finished\n"
     ]
    },
    {
     "name": "stdout",
     "output_type": "stream",
     "text": [
      "New Batch started : 17281 to 17520 \n"
     ]
    },
    {
     "name": "stderr",
     "output_type": "stream",
     "text": [
      "[Parallel(n_jobs=48)]: Done 104 tasks      | elapsed:    5.6s\n",
      "[Parallel(n_jobs=48)]: Done 240 out of 240 | elapsed:   12.8s finished\n"
     ]
    },
    {
     "name": "stdout",
     "output_type": "stream",
     "text": [
      "New Batch started : 17521 to 17760 \n"
     ]
    },
    {
     "name": "stderr",
     "output_type": "stream",
     "text": [
      "[Parallel(n_jobs=48)]: Done 104 tasks      | elapsed:    5.6s\n",
      "[Parallel(n_jobs=48)]: Done 240 out of 240 | elapsed:   13.0s finished\n"
     ]
    },
    {
     "name": "stdout",
     "output_type": "stream",
     "text": [
      "New Batch started : 17761 to 18000 \n"
     ]
    },
    {
     "name": "stderr",
     "output_type": "stream",
     "text": [
      "[Parallel(n_jobs=48)]: Done 104 tasks      | elapsed:    5.6s\n",
      "[Parallel(n_jobs=48)]: Done 240 out of 240 | elapsed:   12.9s finished\n"
     ]
    },
    {
     "name": "stdout",
     "output_type": "stream",
     "text": [
      "New Batch started : 18001 to 18240 \n"
     ]
    },
    {
     "name": "stderr",
     "output_type": "stream",
     "text": [
      "[Parallel(n_jobs=48)]: Done 104 tasks      | elapsed:    5.5s\n",
      "[Parallel(n_jobs=48)]: Done 240 out of 240 | elapsed:   12.8s finished\n"
     ]
    },
    {
     "name": "stdout",
     "output_type": "stream",
     "text": [
      "New Batch started : 18241 to 18480 \n"
     ]
    },
    {
     "name": "stderr",
     "output_type": "stream",
     "text": [
      "[Parallel(n_jobs=48)]: Done 104 tasks      | elapsed:    5.5s\n",
      "[Parallel(n_jobs=48)]: Done 240 out of 240 | elapsed:   12.6s finished\n"
     ]
    },
    {
     "name": "stdout",
     "output_type": "stream",
     "text": [
      "New Batch started : 18481 to 18720 \n"
     ]
    },
    {
     "name": "stderr",
     "output_type": "stream",
     "text": [
      "[Parallel(n_jobs=48)]: Done 104 tasks      | elapsed:    5.5s\n",
      "[Parallel(n_jobs=48)]: Done 240 out of 240 | elapsed:   12.7s finished\n"
     ]
    },
    {
     "name": "stdout",
     "output_type": "stream",
     "text": [
      "New Batch started : 18721 to 18960 \n"
     ]
    },
    {
     "name": "stderr",
     "output_type": "stream",
     "text": [
      "[Parallel(n_jobs=48)]: Done 104 tasks      | elapsed:    5.5s\n",
      "[Parallel(n_jobs=48)]: Done 240 out of 240 | elapsed:   12.6s finished\n"
     ]
    },
    {
     "name": "stdout",
     "output_type": "stream",
     "text": [
      "New Batch started : 18961 to 19200 \n"
     ]
    },
    {
     "name": "stderr",
     "output_type": "stream",
     "text": [
      "[Parallel(n_jobs=48)]: Done 104 tasks      | elapsed:    5.5s\n",
      "[Parallel(n_jobs=48)]: Done 240 out of 240 | elapsed:   12.6s finished\n"
     ]
    },
    {
     "name": "stdout",
     "output_type": "stream",
     "text": [
      "New Batch started : 19201 to 19440 \n"
     ]
    },
    {
     "name": "stderr",
     "output_type": "stream",
     "text": [
      "[Parallel(n_jobs=48)]: Done 104 tasks      | elapsed:    5.4s\n",
      "[Parallel(n_jobs=48)]: Done 240 out of 240 | elapsed:   12.5s finished\n"
     ]
    },
    {
     "name": "stdout",
     "output_type": "stream",
     "text": [
      "New Batch started : 19441 to 19680 \n"
     ]
    },
    {
     "name": "stderr",
     "output_type": "stream",
     "text": [
      "[Parallel(n_jobs=48)]: Done 104 tasks      | elapsed:    5.4s\n",
      "[Parallel(n_jobs=48)]: Done 240 out of 240 | elapsed:   12.5s finished\n"
     ]
    },
    {
     "name": "stdout",
     "output_type": "stream",
     "text": [
      "New Batch started : 19681 to 19920 \n"
     ]
    },
    {
     "name": "stderr",
     "output_type": "stream",
     "text": [
      "[Parallel(n_jobs=48)]: Done 104 tasks      | elapsed:    5.5s\n",
      "[Parallel(n_jobs=48)]: Done 240 out of 240 | elapsed:   12.7s finished\n"
     ]
    },
    {
     "name": "stdout",
     "output_type": "stream",
     "text": [
      "New Batch started : 19921 to 20160 \n"
     ]
    },
    {
     "name": "stderr",
     "output_type": "stream",
     "text": [
      "[Parallel(n_jobs=48)]: Done 104 tasks      | elapsed:    5.4s\n",
      "[Parallel(n_jobs=48)]: Done 240 out of 240 | elapsed:   12.5s finished\n"
     ]
    },
    {
     "name": "stdout",
     "output_type": "stream",
     "text": [
      "New Batch started : 20161 to 20400 \n"
     ]
    },
    {
     "name": "stderr",
     "output_type": "stream",
     "text": [
      "[Parallel(n_jobs=48)]: Done 104 tasks      | elapsed:    5.5s\n",
      "[Parallel(n_jobs=48)]: Done 240 out of 240 | elapsed:   12.6s finished\n"
     ]
    },
    {
     "name": "stdout",
     "output_type": "stream",
     "text": [
      "New Batch started : 20401 to 20640 \n"
     ]
    },
    {
     "name": "stderr",
     "output_type": "stream",
     "text": [
      "[Parallel(n_jobs=48)]: Done 104 tasks      | elapsed:    5.4s\n",
      "[Parallel(n_jobs=48)]: Done 240 out of 240 | elapsed:   12.6s finished\n"
     ]
    },
    {
     "name": "stdout",
     "output_type": "stream",
     "text": [
      "New Batch started : 20641 to 20880 \n"
     ]
    },
    {
     "name": "stderr",
     "output_type": "stream",
     "text": [
      "[Parallel(n_jobs=48)]: Done 104 tasks      | elapsed:    5.4s\n",
      "[Parallel(n_jobs=48)]: Done 240 out of 240 | elapsed:   12.6s finished\n"
     ]
    },
    {
     "name": "stdout",
     "output_type": "stream",
     "text": [
      "New Batch started : 20881 to 21120 \n"
     ]
    },
    {
     "name": "stderr",
     "output_type": "stream",
     "text": [
      "[Parallel(n_jobs=48)]: Done 104 tasks      | elapsed:    5.5s\n",
      "[Parallel(n_jobs=48)]: Done 240 out of 240 | elapsed:   12.6s finished\n"
     ]
    },
    {
     "name": "stdout",
     "output_type": "stream",
     "text": [
      "New Batch started : 21121 to 21360 \n"
     ]
    },
    {
     "name": "stderr",
     "output_type": "stream",
     "text": [
      "[Parallel(n_jobs=48)]: Done 104 tasks      | elapsed:    5.5s\n",
      "[Parallel(n_jobs=48)]: Done 240 out of 240 | elapsed:   12.6s finished\n"
     ]
    },
    {
     "name": "stdout",
     "output_type": "stream",
     "text": [
      "New Batch started : 21361 to 21600 \n"
     ]
    },
    {
     "name": "stderr",
     "output_type": "stream",
     "text": [
      "[Parallel(n_jobs=48)]: Done 104 tasks      | elapsed:    5.5s\n",
      "[Parallel(n_jobs=48)]: Done 240 out of 240 | elapsed:   12.7s finished\n"
     ]
    },
    {
     "name": "stdout",
     "output_type": "stream",
     "text": [
      "New Batch started : 21601 to 21840 \n"
     ]
    },
    {
     "name": "stderr",
     "output_type": "stream",
     "text": [
      "[Parallel(n_jobs=48)]: Done 104 tasks      | elapsed:    5.5s\n",
      "[Parallel(n_jobs=48)]: Done 240 out of 240 | elapsed:   12.7s finished\n"
     ]
    },
    {
     "name": "stdout",
     "output_type": "stream",
     "text": [
      "New Batch started : 21841 to 22080 \n"
     ]
    },
    {
     "name": "stderr",
     "output_type": "stream",
     "text": [
      "[Parallel(n_jobs=48)]: Done 104 tasks      | elapsed:    5.4s\n",
      "[Parallel(n_jobs=48)]: Done 240 out of 240 | elapsed:   12.5s finished\n"
     ]
    },
    {
     "name": "stdout",
     "output_type": "stream",
     "text": [
      "New Batch started : 22081 to 22320 \n"
     ]
    },
    {
     "name": "stderr",
     "output_type": "stream",
     "text": [
      "[Parallel(n_jobs=48)]: Done 104 tasks      | elapsed:    5.5s\n",
      "[Parallel(n_jobs=48)]: Done 240 out of 240 | elapsed:   12.7s finished\n"
     ]
    },
    {
     "name": "stdout",
     "output_type": "stream",
     "text": [
      "New Batch started : 22321 to 22560 \n"
     ]
    },
    {
     "name": "stderr",
     "output_type": "stream",
     "text": [
      "[Parallel(n_jobs=48)]: Done 104 tasks      | elapsed:    5.5s\n",
      "[Parallel(n_jobs=48)]: Done 240 out of 240 | elapsed:   12.7s finished\n"
     ]
    },
    {
     "name": "stdout",
     "output_type": "stream",
     "text": [
      "New Batch started : 22561 to 22800 \n"
     ]
    },
    {
     "name": "stderr",
     "output_type": "stream",
     "text": [
      "[Parallel(n_jobs=48)]: Done 104 tasks      | elapsed:    5.4s\n",
      "[Parallel(n_jobs=48)]: Done 240 out of 240 | elapsed:   12.5s finished\n"
     ]
    },
    {
     "name": "stdout",
     "output_type": "stream",
     "text": [
      "New Batch started : 22801 to 23040 \n"
     ]
    },
    {
     "name": "stderr",
     "output_type": "stream",
     "text": [
      "[Parallel(n_jobs=48)]: Done 104 tasks      | elapsed:    5.5s\n",
      "[Parallel(n_jobs=48)]: Done 240 out of 240 | elapsed:   12.6s finished\n"
     ]
    },
    {
     "name": "stdout",
     "output_type": "stream",
     "text": [
      "New Batch started : 23041 to 23280 \n"
     ]
    },
    {
     "name": "stderr",
     "output_type": "stream",
     "text": [
      "[Parallel(n_jobs=48)]: Done 104 tasks      | elapsed:    5.5s\n",
      "[Parallel(n_jobs=48)]: Done 240 out of 240 | elapsed:   12.6s finished\n"
     ]
    },
    {
     "name": "stdout",
     "output_type": "stream",
     "text": [
      "New Batch started : 23281 to 23520 \n"
     ]
    },
    {
     "name": "stderr",
     "output_type": "stream",
     "text": [
      "[Parallel(n_jobs=48)]: Done 104 tasks      | elapsed:    5.5s\n",
      "[Parallel(n_jobs=48)]: Done 240 out of 240 | elapsed:   12.6s finished\n"
     ]
    },
    {
     "name": "stdout",
     "output_type": "stream",
     "text": [
      "New Batch started : 23521 to 23760 \n"
     ]
    },
    {
     "name": "stderr",
     "output_type": "stream",
     "text": [
      "[Parallel(n_jobs=48)]: Done 104 tasks      | elapsed:    5.5s\n",
      "[Parallel(n_jobs=48)]: Done 240 out of 240 | elapsed:   12.7s finished\n"
     ]
    },
    {
     "name": "stdout",
     "output_type": "stream",
     "text": [
      "New Batch started : 23761 to 24000 \n"
     ]
    },
    {
     "name": "stderr",
     "output_type": "stream",
     "text": [
      "[Parallel(n_jobs=48)]: Done 104 tasks      | elapsed:    5.5s\n",
      "[Parallel(n_jobs=48)]: Done 240 out of 240 | elapsed:   12.5s finished\n"
     ]
    },
    {
     "name": "stdout",
     "output_type": "stream",
     "text": [
      "New Batch started : 24001 to 24240 \n"
     ]
    },
    {
     "name": "stderr",
     "output_type": "stream",
     "text": [
      "[Parallel(n_jobs=48)]: Done 104 tasks      | elapsed:    5.4s\n",
      "[Parallel(n_jobs=48)]: Done 240 out of 240 | elapsed:   12.5s finished\n"
     ]
    },
    {
     "name": "stdout",
     "output_type": "stream",
     "text": [
      "New Batch started : 24241 to 24480 \n"
     ]
    },
    {
     "name": "stderr",
     "output_type": "stream",
     "text": [
      "[Parallel(n_jobs=48)]: Done 104 tasks      | elapsed:    5.4s\n",
      "[Parallel(n_jobs=48)]: Done 240 out of 240 | elapsed:   12.5s finished\n"
     ]
    },
    {
     "name": "stdout",
     "output_type": "stream",
     "text": [
      "New Batch started : 24481 to 24720 \n"
     ]
    },
    {
     "name": "stderr",
     "output_type": "stream",
     "text": [
      "[Parallel(n_jobs=48)]: Done 104 tasks      | elapsed:    5.5s\n",
      "[Parallel(n_jobs=48)]: Done 240 out of 240 | elapsed:   12.6s finished\n"
     ]
    },
    {
     "name": "stdout",
     "output_type": "stream",
     "text": [
      "New Batch started : 24721 to 24960 \n"
     ]
    },
    {
     "name": "stderr",
     "output_type": "stream",
     "text": [
      "[Parallel(n_jobs=48)]: Done 104 tasks      | elapsed:    5.4s\n",
      "[Parallel(n_jobs=48)]: Done 240 out of 240 | elapsed:   12.6s finished\n"
     ]
    },
    {
     "name": "stdout",
     "output_type": "stream",
     "text": [
      "New Batch started : 24961 to 25200 \n"
     ]
    },
    {
     "name": "stderr",
     "output_type": "stream",
     "text": [
      "[Parallel(n_jobs=48)]: Done 104 tasks      | elapsed:    5.5s\n",
      "[Parallel(n_jobs=48)]: Done 240 out of 240 | elapsed:   12.5s finished\n"
     ]
    },
    {
     "name": "stdout",
     "output_type": "stream",
     "text": [
      "New Batch started : 25201 to 25440 \n"
     ]
    },
    {
     "name": "stderr",
     "output_type": "stream",
     "text": [
      "[Parallel(n_jobs=48)]: Done 104 tasks      | elapsed:    5.7s\n",
      "[Parallel(n_jobs=48)]: Done 240 out of 240 | elapsed:   12.8s finished\n"
     ]
    },
    {
     "name": "stdout",
     "output_type": "stream",
     "text": [
      "New Batch started : 25441 to 25680 \n"
     ]
    },
    {
     "name": "stderr",
     "output_type": "stream",
     "text": [
      "[Parallel(n_jobs=48)]: Done 104 tasks      | elapsed:    5.4s\n",
      "[Parallel(n_jobs=48)]: Done 240 out of 240 | elapsed:   12.5s finished\n"
     ]
    },
    {
     "name": "stdout",
     "output_type": "stream",
     "text": [
      "New Batch started : 25681 to 25920 \n"
     ]
    },
    {
     "name": "stderr",
     "output_type": "stream",
     "text": [
      "[Parallel(n_jobs=48)]: Done 104 tasks      | elapsed:    5.5s\n",
      "[Parallel(n_jobs=48)]: Done 240 out of 240 | elapsed:   12.7s finished\n"
     ]
    },
    {
     "name": "stdout",
     "output_type": "stream",
     "text": [
      "New Batch started : 25921 to 26160 \n"
     ]
    },
    {
     "name": "stderr",
     "output_type": "stream",
     "text": [
      "[Parallel(n_jobs=48)]: Done 104 tasks      | elapsed:    5.4s\n",
      "[Parallel(n_jobs=48)]: Done 240 out of 240 | elapsed:   12.6s finished\n"
     ]
    },
    {
     "name": "stdout",
     "output_type": "stream",
     "text": [
      "New Batch started : 26161 to 26400 \n"
     ]
    },
    {
     "name": "stderr",
     "output_type": "stream",
     "text": [
      "[Parallel(n_jobs=48)]: Done 104 tasks      | elapsed:    5.5s\n",
      "[Parallel(n_jobs=48)]: Done 240 out of 240 | elapsed:   12.7s finished\n"
     ]
    },
    {
     "name": "stdout",
     "output_type": "stream",
     "text": [
      "New Batch started : 26401 to 26640 \n"
     ]
    },
    {
     "name": "stderr",
     "output_type": "stream",
     "text": [
      "[Parallel(n_jobs=48)]: Done 104 tasks      | elapsed:    5.4s\n",
      "[Parallel(n_jobs=48)]: Done 240 out of 240 | elapsed:   12.5s finished\n"
     ]
    },
    {
     "name": "stdout",
     "output_type": "stream",
     "text": [
      "New Batch started : 26641 to 26880 \n"
     ]
    },
    {
     "name": "stderr",
     "output_type": "stream",
     "text": [
      "[Parallel(n_jobs=48)]: Done 104 tasks      | elapsed:    5.7s\n",
      "[Parallel(n_jobs=48)]: Done 240 out of 240 | elapsed:   12.9s finished\n"
     ]
    },
    {
     "name": "stdout",
     "output_type": "stream",
     "text": [
      "New Batch started : 26881 to 27120 \n"
     ]
    },
    {
     "name": "stderr",
     "output_type": "stream",
     "text": [
      "[Parallel(n_jobs=48)]: Done 104 tasks      | elapsed:    5.4s\n",
      "[Parallel(n_jobs=48)]: Done 240 out of 240 | elapsed:   12.5s finished\n"
     ]
    },
    {
     "name": "stdout",
     "output_type": "stream",
     "text": [
      "New Batch started : 27121 to 27360 \n"
     ]
    },
    {
     "name": "stderr",
     "output_type": "stream",
     "text": [
      "[Parallel(n_jobs=48)]: Done 104 tasks      | elapsed:    5.5s\n",
      "[Parallel(n_jobs=48)]: Done 240 out of 240 | elapsed:   12.5s finished\n"
     ]
    },
    {
     "name": "stdout",
     "output_type": "stream",
     "text": [
      "New Batch started : 27361 to 27600 \n"
     ]
    },
    {
     "name": "stderr",
     "output_type": "stream",
     "text": [
      "[Parallel(n_jobs=48)]: Done 104 tasks      | elapsed:    5.5s\n",
      "[Parallel(n_jobs=48)]: Done 240 out of 240 | elapsed:   12.6s finished\n"
     ]
    },
    {
     "name": "stdout",
     "output_type": "stream",
     "text": [
      "New Batch started : 27601 to 27840 \n"
     ]
    },
    {
     "name": "stderr",
     "output_type": "stream",
     "text": [
      "[Parallel(n_jobs=48)]: Done 104 tasks      | elapsed:    5.4s\n",
      "[Parallel(n_jobs=48)]: Done 240 out of 240 | elapsed:   12.4s finished\n"
     ]
    },
    {
     "name": "stdout",
     "output_type": "stream",
     "text": [
      "New Batch started : 27841 to 28080 \n"
     ]
    },
    {
     "name": "stderr",
     "output_type": "stream",
     "text": [
      "[Parallel(n_jobs=48)]: Done 104 tasks      | elapsed:    5.4s\n",
      "[Parallel(n_jobs=48)]: Done 240 out of 240 | elapsed:   12.4s finished\n"
     ]
    },
    {
     "name": "stdout",
     "output_type": "stream",
     "text": [
      "New Batch started : 28081 to 28320 \n"
     ]
    },
    {
     "name": "stderr",
     "output_type": "stream",
     "text": [
      "[Parallel(n_jobs=48)]: Done 104 tasks      | elapsed:    5.4s\n",
      "[Parallel(n_jobs=48)]: Done 240 out of 240 | elapsed:   12.4s finished\n"
     ]
    },
    {
     "name": "stdout",
     "output_type": "stream",
     "text": [
      "New Batch started : 28321 to 28560 \n"
     ]
    },
    {
     "name": "stderr",
     "output_type": "stream",
     "text": [
      "[Parallel(n_jobs=48)]: Done 104 tasks      | elapsed:    5.6s\n",
      "[Parallel(n_jobs=48)]: Done 240 out of 240 | elapsed:   12.6s finished\n"
     ]
    },
    {
     "name": "stdout",
     "output_type": "stream",
     "text": [
      "New Batch started : 28561 to 28800 \n"
     ]
    },
    {
     "name": "stderr",
     "output_type": "stream",
     "text": [
      "[Parallel(n_jobs=48)]: Done 104 tasks      | elapsed:    5.5s\n",
      "[Parallel(n_jobs=48)]: Done 240 out of 240 | elapsed:   12.7s finished\n"
     ]
    },
    {
     "name": "stdout",
     "output_type": "stream",
     "text": [
      "New Batch started : 28801 to 29040 \n"
     ]
    },
    {
     "name": "stderr",
     "output_type": "stream",
     "text": [
      "[Parallel(n_jobs=48)]: Done 104 tasks      | elapsed:    5.6s\n",
      "[Parallel(n_jobs=48)]: Done 240 out of 240 | elapsed:   12.7s finished\n"
     ]
    },
    {
     "name": "stdout",
     "output_type": "stream",
     "text": [
      "New Batch started : 29041 to 29280 \n"
     ]
    },
    {
     "name": "stderr",
     "output_type": "stream",
     "text": [
      "[Parallel(n_jobs=48)]: Done 104 tasks      | elapsed:    5.5s\n",
      "[Parallel(n_jobs=48)]: Done 240 out of 240 | elapsed:   12.8s finished\n"
     ]
    },
    {
     "name": "stdout",
     "output_type": "stream",
     "text": [
      "New Batch started : 29281 to 29520 \n"
     ]
    },
    {
     "name": "stderr",
     "output_type": "stream",
     "text": [
      "[Parallel(n_jobs=48)]: Done 104 tasks      | elapsed:    5.5s\n",
      "[Parallel(n_jobs=48)]: Done 240 out of 240 | elapsed:   12.7s finished\n"
     ]
    },
    {
     "name": "stdout",
     "output_type": "stream",
     "text": [
      "New Batch started : 29521 to 29760 \n"
     ]
    },
    {
     "name": "stderr",
     "output_type": "stream",
     "text": [
      "[Parallel(n_jobs=48)]: Done 104 tasks      | elapsed:    5.5s\n",
      "[Parallel(n_jobs=48)]: Done 240 out of 240 | elapsed:   12.8s finished\n"
     ]
    },
    {
     "name": "stdout",
     "output_type": "stream",
     "text": [
      "New Batch started : 29761 to 30000 \n"
     ]
    },
    {
     "name": "stderr",
     "output_type": "stream",
     "text": [
      "[Parallel(n_jobs=48)]: Done 104 tasks      | elapsed:    5.5s\n",
      "[Parallel(n_jobs=48)]: Done 240 out of 240 | elapsed:   12.5s finished\n"
     ]
    },
    {
     "name": "stdout",
     "output_type": "stream",
     "text": [
      "New Batch started : 30001 to 30240 \n"
     ]
    },
    {
     "name": "stderr",
     "output_type": "stream",
     "text": [
      "[Parallel(n_jobs=48)]: Done 104 tasks      | elapsed:    5.4s\n",
      "[Parallel(n_jobs=48)]: Done 240 out of 240 | elapsed:   12.5s finished\n"
     ]
    },
    {
     "name": "stdout",
     "output_type": "stream",
     "text": [
      "New Batch started : 30241 to 30480 \n"
     ]
    },
    {
     "name": "stderr",
     "output_type": "stream",
     "text": [
      "[Parallel(n_jobs=48)]: Done 104 tasks      | elapsed:    5.5s\n",
      "[Parallel(n_jobs=48)]: Done 240 out of 240 | elapsed:   12.8s finished\n"
     ]
    },
    {
     "name": "stdout",
     "output_type": "stream",
     "text": [
      "New Batch started : 30481 to 30720 \n"
     ]
    },
    {
     "name": "stderr",
     "output_type": "stream",
     "text": [
      "[Parallel(n_jobs=48)]: Done 104 tasks      | elapsed:    5.6s\n",
      "[Parallel(n_jobs=48)]: Done 240 out of 240 | elapsed:   12.9s finished\n"
     ]
    },
    {
     "name": "stdout",
     "output_type": "stream",
     "text": [
      "New Batch started : 30721 to 30960 \n"
     ]
    },
    {
     "name": "stderr",
     "output_type": "stream",
     "text": [
      "[Parallel(n_jobs=48)]: Done 104 tasks      | elapsed:    5.5s\n",
      "[Parallel(n_jobs=48)]: Done 240 out of 240 | elapsed:   12.8s finished\n"
     ]
    },
    {
     "name": "stdout",
     "output_type": "stream",
     "text": [
      "New Batch started : 30961 to 31200 \n"
     ]
    },
    {
     "name": "stderr",
     "output_type": "stream",
     "text": [
      "[Parallel(n_jobs=48)]: Done 104 tasks      | elapsed:    5.5s\n",
      "[Parallel(n_jobs=48)]: Done 240 out of 240 | elapsed:   12.8s finished\n"
     ]
    },
    {
     "name": "stdout",
     "output_type": "stream",
     "text": [
      "New Batch started : 31201 to 31440 \n"
     ]
    },
    {
     "name": "stderr",
     "output_type": "stream",
     "text": [
      "[Parallel(n_jobs=48)]: Done 104 tasks      | elapsed:    5.7s\n",
      "[Parallel(n_jobs=48)]: Done 240 out of 240 | elapsed:   12.9s finished\n"
     ]
    },
    {
     "name": "stdout",
     "output_type": "stream",
     "text": [
      "New Batch started : 31441 to 31680 \n"
     ]
    },
    {
     "name": "stderr",
     "output_type": "stream",
     "text": [
      "[Parallel(n_jobs=48)]: Done 104 tasks      | elapsed:    5.4s\n",
      "[Parallel(n_jobs=48)]: Done 240 out of 240 | elapsed:   12.6s finished\n"
     ]
    },
    {
     "name": "stdout",
     "output_type": "stream",
     "text": [
      "New Batch started : 31681 to 31920 \n"
     ]
    },
    {
     "name": "stderr",
     "output_type": "stream",
     "text": [
      "[Parallel(n_jobs=48)]: Done 104 tasks      | elapsed:    5.8s\n",
      "[Parallel(n_jobs=48)]: Done 240 out of 240 | elapsed:   13.2s finished\n"
     ]
    },
    {
     "name": "stdout",
     "output_type": "stream",
     "text": [
      "New Batch started : 31921 to 32073 \n"
     ]
    },
    {
     "name": "stderr",
     "output_type": "stream",
     "text": [
      "[Parallel(n_jobs=48)]: Done 153 out of 153 | elapsed:    8.2s finished\n"
     ]
    },
    {
     "name": "stdout",
     "output_type": "stream",
     "text": [
      "Loading test file #2 - dict_jobID_Xtest_Ytest_160365_171055_FROM_giga_takeoutdf_w_jobgroup.pickle\n",
      "Loaded test file #10691\n",
      "New Batch started : 1 to 240 \n"
     ]
    },
    {
     "name": "stderr",
     "output_type": "stream",
     "text": [
      "[Parallel(n_jobs=48)]: Done 104 tasks      | elapsed:    5.4s\n",
      "[Parallel(n_jobs=48)]: Done 240 out of 240 | elapsed:   12.4s finished\n"
     ]
    },
    {
     "name": "stdout",
     "output_type": "stream",
     "text": [
      "New Batch started : 241 to 480 \n"
     ]
    },
    {
     "name": "stderr",
     "output_type": "stream",
     "text": [
      "[Parallel(n_jobs=48)]: Done 104 tasks      | elapsed:    5.4s\n",
      "[Parallel(n_jobs=48)]: Done 240 out of 240 | elapsed:   12.5s finished\n"
     ]
    },
    {
     "name": "stdout",
     "output_type": "stream",
     "text": [
      "New Batch started : 481 to 720 \n"
     ]
    },
    {
     "name": "stderr",
     "output_type": "stream",
     "text": [
      "[Parallel(n_jobs=48)]: Done 104 tasks      | elapsed:    5.4s\n",
      "[Parallel(n_jobs=48)]: Done 240 out of 240 | elapsed:   12.4s finished\n"
     ]
    },
    {
     "name": "stdout",
     "output_type": "stream",
     "text": [
      "New Batch started : 721 to 960 \n"
     ]
    },
    {
     "name": "stderr",
     "output_type": "stream",
     "text": [
      "[Parallel(n_jobs=48)]: Done 104 tasks      | elapsed:    5.5s\n",
      "[Parallel(n_jobs=48)]: Done 240 out of 240 | elapsed:   12.7s finished\n"
     ]
    },
    {
     "name": "stdout",
     "output_type": "stream",
     "text": [
      "New Batch started : 961 to 1200 \n"
     ]
    },
    {
     "name": "stderr",
     "output_type": "stream",
     "text": [
      "[Parallel(n_jobs=48)]: Done 104 tasks      | elapsed:    5.4s\n",
      "[Parallel(n_jobs=48)]: Done 240 out of 240 | elapsed:   12.5s finished\n"
     ]
    },
    {
     "name": "stdout",
     "output_type": "stream",
     "text": [
      "New Batch started : 1201 to 1440 \n"
     ]
    },
    {
     "name": "stderr",
     "output_type": "stream",
     "text": [
      "[Parallel(n_jobs=48)]: Done 104 tasks      | elapsed:    5.5s\n",
      "[Parallel(n_jobs=48)]: Done 240 out of 240 | elapsed:   12.6s finished\n"
     ]
    },
    {
     "name": "stdout",
     "output_type": "stream",
     "text": [
      "New Batch started : 1441 to 1680 \n"
     ]
    },
    {
     "name": "stderr",
     "output_type": "stream",
     "text": [
      "[Parallel(n_jobs=48)]: Done 104 tasks      | elapsed:    5.4s\n",
      "[Parallel(n_jobs=48)]: Done 240 out of 240 | elapsed:   12.6s finished\n"
     ]
    },
    {
     "name": "stdout",
     "output_type": "stream",
     "text": [
      "New Batch started : 1681 to 1920 \n"
     ]
    },
    {
     "name": "stderr",
     "output_type": "stream",
     "text": [
      "[Parallel(n_jobs=48)]: Done 104 tasks      | elapsed:    5.5s\n",
      "[Parallel(n_jobs=48)]: Done 240 out of 240 | elapsed:   12.6s finished\n"
     ]
    },
    {
     "name": "stdout",
     "output_type": "stream",
     "text": [
      "New Batch started : 1921 to 2160 \n"
     ]
    },
    {
     "name": "stderr",
     "output_type": "stream",
     "text": [
      "[Parallel(n_jobs=48)]: Done 104 tasks      | elapsed:    5.5s\n",
      "[Parallel(n_jobs=48)]: Done 240 out of 240 | elapsed:   12.6s finished\n"
     ]
    },
    {
     "name": "stdout",
     "output_type": "stream",
     "text": [
      "New Batch started : 2161 to 2400 \n"
     ]
    },
    {
     "name": "stderr",
     "output_type": "stream",
     "text": [
      "[Parallel(n_jobs=48)]: Done 104 tasks      | elapsed:    5.4s\n",
      "[Parallel(n_jobs=48)]: Done 240 out of 240 | elapsed:   12.6s finished\n"
     ]
    },
    {
     "name": "stdout",
     "output_type": "stream",
     "text": [
      "New Batch started : 2401 to 2640 \n"
     ]
    },
    {
     "name": "stderr",
     "output_type": "stream",
     "text": [
      "[Parallel(n_jobs=48)]: Done 104 tasks      | elapsed:    5.4s\n",
      "[Parallel(n_jobs=48)]: Done 240 out of 240 | elapsed:   12.5s finished\n"
     ]
    },
    {
     "name": "stdout",
     "output_type": "stream",
     "text": [
      "New Batch started : 2641 to 2880 \n"
     ]
    },
    {
     "name": "stderr",
     "output_type": "stream",
     "text": [
      "[Parallel(n_jobs=48)]: Done 104 tasks      | elapsed:    5.4s\n",
      "[Parallel(n_jobs=48)]: Done 240 out of 240 | elapsed:   12.5s finished\n"
     ]
    },
    {
     "name": "stdout",
     "output_type": "stream",
     "text": [
      "New Batch started : 2881 to 3120 \n"
     ]
    },
    {
     "name": "stderr",
     "output_type": "stream",
     "text": [
      "[Parallel(n_jobs=48)]: Done 104 tasks      | elapsed:    5.4s\n",
      "[Parallel(n_jobs=48)]: Done 240 out of 240 | elapsed:   12.4s finished\n"
     ]
    },
    {
     "name": "stdout",
     "output_type": "stream",
     "text": [
      "New Batch started : 3121 to 3360 \n"
     ]
    },
    {
     "name": "stderr",
     "output_type": "stream",
     "text": [
      "[Parallel(n_jobs=48)]: Done 104 tasks      | elapsed:    5.4s\n",
      "[Parallel(n_jobs=48)]: Done 240 out of 240 | elapsed:   12.4s finished\n"
     ]
    },
    {
     "name": "stdout",
     "output_type": "stream",
     "text": [
      "New Batch started : 3361 to 3600 \n"
     ]
    },
    {
     "name": "stderr",
     "output_type": "stream",
     "text": [
      "[Parallel(n_jobs=48)]: Done 104 tasks      | elapsed:    5.4s\n",
      "[Parallel(n_jobs=48)]: Done 240 out of 240 | elapsed:   12.4s finished\n"
     ]
    },
    {
     "name": "stdout",
     "output_type": "stream",
     "text": [
      "New Batch started : 3601 to 3840 \n"
     ]
    },
    {
     "name": "stderr",
     "output_type": "stream",
     "text": [
      "[Parallel(n_jobs=48)]: Done 104 tasks      | elapsed:    5.4s\n",
      "[Parallel(n_jobs=48)]: Done 240 out of 240 | elapsed:   12.5s finished\n"
     ]
    },
    {
     "name": "stdout",
     "output_type": "stream",
     "text": [
      "New Batch started : 3841 to 4080 \n"
     ]
    },
    {
     "name": "stderr",
     "output_type": "stream",
     "text": [
      "[Parallel(n_jobs=48)]: Done 104 tasks      | elapsed:    5.4s\n",
      "[Parallel(n_jobs=48)]: Done 240 out of 240 | elapsed:   12.5s finished\n"
     ]
    },
    {
     "name": "stdout",
     "output_type": "stream",
     "text": [
      "New Batch started : 4081 to 4320 \n"
     ]
    },
    {
     "name": "stderr",
     "output_type": "stream",
     "text": [
      "[Parallel(n_jobs=48)]: Done 104 tasks      | elapsed:    5.5s\n",
      "[Parallel(n_jobs=48)]: Done 240 out of 240 | elapsed:   12.6s finished\n"
     ]
    },
    {
     "name": "stdout",
     "output_type": "stream",
     "text": [
      "New Batch started : 4321 to 4560 \n"
     ]
    },
    {
     "name": "stderr",
     "output_type": "stream",
     "text": [
      "[Parallel(n_jobs=48)]: Done 104 tasks      | elapsed:    5.5s\n",
      "[Parallel(n_jobs=48)]: Done 240 out of 240 | elapsed:   12.6s finished\n"
     ]
    },
    {
     "name": "stdout",
     "output_type": "stream",
     "text": [
      "New Batch started : 4561 to 4800 \n"
     ]
    },
    {
     "name": "stderr",
     "output_type": "stream",
     "text": [
      "[Parallel(n_jobs=48)]: Done 104 tasks      | elapsed:    5.4s\n",
      "[Parallel(n_jobs=48)]: Done 240 out of 240 | elapsed:   12.5s finished\n"
     ]
    },
    {
     "name": "stdout",
     "output_type": "stream",
     "text": [
      "New Batch started : 4801 to 5040 \n"
     ]
    },
    {
     "name": "stderr",
     "output_type": "stream",
     "text": [
      "[Parallel(n_jobs=48)]: Done 104 tasks      | elapsed:    5.4s\n",
      "[Parallel(n_jobs=48)]: Done 240 out of 240 | elapsed:   12.4s finished\n"
     ]
    },
    {
     "name": "stdout",
     "output_type": "stream",
     "text": [
      "New Batch started : 5041 to 5280 \n"
     ]
    },
    {
     "name": "stderr",
     "output_type": "stream",
     "text": [
      "[Parallel(n_jobs=48)]: Done 104 tasks      | elapsed:    5.5s\n",
      "[Parallel(n_jobs=48)]: Done 240 out of 240 | elapsed:   12.6s finished\n"
     ]
    },
    {
     "name": "stdout",
     "output_type": "stream",
     "text": [
      "New Batch started : 5281 to 5520 \n"
     ]
    },
    {
     "name": "stderr",
     "output_type": "stream",
     "text": [
      "[Parallel(n_jobs=48)]: Done 104 tasks      | elapsed:    5.4s\n",
      "[Parallel(n_jobs=48)]: Done 240 out of 240 | elapsed:   12.5s finished\n"
     ]
    },
    {
     "name": "stdout",
     "output_type": "stream",
     "text": [
      "New Batch started : 5521 to 5760 \n"
     ]
    },
    {
     "name": "stderr",
     "output_type": "stream",
     "text": [
      "[Parallel(n_jobs=48)]: Done 104 tasks      | elapsed:    5.5s\n",
      "[Parallel(n_jobs=48)]: Done 240 out of 240 | elapsed:   12.6s finished\n"
     ]
    },
    {
     "name": "stdout",
     "output_type": "stream",
     "text": [
      "New Batch started : 5761 to 6000 \n"
     ]
    },
    {
     "name": "stderr",
     "output_type": "stream",
     "text": [
      "[Parallel(n_jobs=48)]: Done 104 tasks      | elapsed:    5.5s\n",
      "[Parallel(n_jobs=48)]: Done 240 out of 240 | elapsed:   12.5s finished\n"
     ]
    },
    {
     "name": "stdout",
     "output_type": "stream",
     "text": [
      "New Batch started : 6001 to 6240 \n"
     ]
    },
    {
     "name": "stderr",
     "output_type": "stream",
     "text": [
      "[Parallel(n_jobs=48)]: Done 104 tasks      | elapsed:    5.4s\n",
      "[Parallel(n_jobs=48)]: Done 240 out of 240 | elapsed:   12.5s finished\n"
     ]
    },
    {
     "name": "stdout",
     "output_type": "stream",
     "text": [
      "New Batch started : 6241 to 6480 \n"
     ]
    },
    {
     "name": "stderr",
     "output_type": "stream",
     "text": [
      "[Parallel(n_jobs=48)]: Done 104 tasks      | elapsed:    5.4s\n",
      "[Parallel(n_jobs=48)]: Done 240 out of 240 | elapsed:   12.5s finished\n"
     ]
    },
    {
     "name": "stdout",
     "output_type": "stream",
     "text": [
      "New Batch started : 6481 to 6720 \n"
     ]
    },
    {
     "name": "stderr",
     "output_type": "stream",
     "text": [
      "[Parallel(n_jobs=48)]: Done 104 tasks      | elapsed:    5.5s\n",
      "[Parallel(n_jobs=48)]: Done 240 out of 240 | elapsed:   12.6s finished\n"
     ]
    },
    {
     "name": "stdout",
     "output_type": "stream",
     "text": [
      "New Batch started : 6721 to 6960 \n"
     ]
    },
    {
     "name": "stderr",
     "output_type": "stream",
     "text": [
      "[Parallel(n_jobs=48)]: Done 104 tasks      | elapsed:    5.5s\n",
      "[Parallel(n_jobs=48)]: Done 240 out of 240 | elapsed:   12.6s finished\n"
     ]
    },
    {
     "name": "stdout",
     "output_type": "stream",
     "text": [
      "New Batch started : 6961 to 7200 \n"
     ]
    },
    {
     "name": "stderr",
     "output_type": "stream",
     "text": [
      "[Parallel(n_jobs=48)]: Done 104 tasks      | elapsed:    5.4s\n",
      "[Parallel(n_jobs=48)]: Done 240 out of 240 | elapsed:   12.6s finished\n"
     ]
    },
    {
     "name": "stdout",
     "output_type": "stream",
     "text": [
      "New Batch started : 7201 to 7440 \n"
     ]
    },
    {
     "name": "stderr",
     "output_type": "stream",
     "text": [
      "[Parallel(n_jobs=48)]: Done 104 tasks      | elapsed:    5.7s\n",
      "[Parallel(n_jobs=48)]: Done 240 out of 240 | elapsed:   12.8s finished\n"
     ]
    },
    {
     "name": "stdout",
     "output_type": "stream",
     "text": [
      "New Batch started : 7441 to 7680 \n"
     ]
    },
    {
     "name": "stderr",
     "output_type": "stream",
     "text": [
      "[Parallel(n_jobs=48)]: Done 104 tasks      | elapsed:    5.4s\n",
      "[Parallel(n_jobs=48)]: Done 240 out of 240 | elapsed:   12.5s finished\n"
     ]
    },
    {
     "name": "stdout",
     "output_type": "stream",
     "text": [
      "New Batch started : 7681 to 7920 \n"
     ]
    },
    {
     "name": "stderr",
     "output_type": "stream",
     "text": [
      "[Parallel(n_jobs=48)]: Done 104 tasks      | elapsed:    5.4s\n",
      "[Parallel(n_jobs=48)]: Done 240 out of 240 | elapsed:   12.6s finished\n"
     ]
    },
    {
     "name": "stdout",
     "output_type": "stream",
     "text": [
      "New Batch started : 7921 to 8160 \n"
     ]
    },
    {
     "name": "stderr",
     "output_type": "stream",
     "text": [
      "[Parallel(n_jobs=48)]: Done 104 tasks      | elapsed:    5.4s\n",
      "[Parallel(n_jobs=48)]: Done 240 out of 240 | elapsed:   12.5s finished\n"
     ]
    },
    {
     "name": "stdout",
     "output_type": "stream",
     "text": [
      "New Batch started : 8161 to 8400 \n"
     ]
    },
    {
     "name": "stderr",
     "output_type": "stream",
     "text": [
      "[Parallel(n_jobs=48)]: Done 104 tasks      | elapsed:    5.4s\n",
      "[Parallel(n_jobs=48)]: Done 240 out of 240 | elapsed:   12.5s finished\n"
     ]
    },
    {
     "name": "stdout",
     "output_type": "stream",
     "text": [
      "New Batch started : 8401 to 8640 \n"
     ]
    },
    {
     "name": "stderr",
     "output_type": "stream",
     "text": [
      "[Parallel(n_jobs=48)]: Done 104 tasks      | elapsed:    5.4s\n",
      "[Parallel(n_jobs=48)]: Done 240 out of 240 | elapsed:   12.5s finished\n"
     ]
    },
    {
     "name": "stdout",
     "output_type": "stream",
     "text": [
      "New Batch started : 8641 to 8880 \n"
     ]
    },
    {
     "name": "stderr",
     "output_type": "stream",
     "text": [
      "[Parallel(n_jobs=48)]: Done 104 tasks      | elapsed:    5.4s\n",
      "[Parallel(n_jobs=48)]: Done 240 out of 240 | elapsed:   12.6s finished\n"
     ]
    },
    {
     "name": "stdout",
     "output_type": "stream",
     "text": [
      "New Batch started : 8881 to 9120 \n"
     ]
    },
    {
     "name": "stderr",
     "output_type": "stream",
     "text": [
      "[Parallel(n_jobs=48)]: Done 104 tasks      | elapsed:    5.5s\n",
      "[Parallel(n_jobs=48)]: Done 240 out of 240 | elapsed:   12.5s finished\n"
     ]
    },
    {
     "name": "stdout",
     "output_type": "stream",
     "text": [
      "New Batch started : 9121 to 9360 \n"
     ]
    },
    {
     "name": "stderr",
     "output_type": "stream",
     "text": [
      "[Parallel(n_jobs=48)]: Done 104 tasks      | elapsed:    5.4s\n",
      "[Parallel(n_jobs=48)]: Done 240 out of 240 | elapsed:   12.4s finished\n"
     ]
    },
    {
     "name": "stdout",
     "output_type": "stream",
     "text": [
      "New Batch started : 9361 to 9600 \n"
     ]
    },
    {
     "name": "stderr",
     "output_type": "stream",
     "text": [
      "[Parallel(n_jobs=48)]: Done 104 tasks      | elapsed:    5.5s\n",
      "[Parallel(n_jobs=48)]: Done 240 out of 240 | elapsed:   12.8s finished\n"
     ]
    },
    {
     "name": "stdout",
     "output_type": "stream",
     "text": [
      "New Batch started : 9601 to 9840 \n"
     ]
    },
    {
     "name": "stderr",
     "output_type": "stream",
     "text": [
      "[Parallel(n_jobs=48)]: Done 104 tasks      | elapsed:    5.5s\n",
      "[Parallel(n_jobs=48)]: Done 240 out of 240 | elapsed:   12.5s finished\n"
     ]
    },
    {
     "name": "stdout",
     "output_type": "stream",
     "text": [
      "New Batch started : 9841 to 10080 \n"
     ]
    },
    {
     "name": "stderr",
     "output_type": "stream",
     "text": [
      "[Parallel(n_jobs=48)]: Done 104 tasks      | elapsed:    5.4s\n",
      "[Parallel(n_jobs=48)]: Done 240 out of 240 | elapsed:   12.5s finished\n"
     ]
    },
    {
     "name": "stdout",
     "output_type": "stream",
     "text": [
      "New Batch started : 10081 to 10320 \n"
     ]
    },
    {
     "name": "stderr",
     "output_type": "stream",
     "text": [
      "[Parallel(n_jobs=48)]: Done 104 tasks      | elapsed:    5.6s\n",
      "[Parallel(n_jobs=48)]: Done 240 out of 240 | elapsed:   12.7s finished\n"
     ]
    },
    {
     "name": "stdout",
     "output_type": "stream",
     "text": [
      "New Batch started : 10321 to 10560 \n"
     ]
    },
    {
     "name": "stderr",
     "output_type": "stream",
     "text": [
      "[Parallel(n_jobs=48)]: Done 104 tasks      | elapsed:    5.4s\n",
      "[Parallel(n_jobs=48)]: Done 240 out of 240 | elapsed:   12.6s finished\n"
     ]
    },
    {
     "name": "stdout",
     "output_type": "stream",
     "text": [
      "New Batch started : 10561 to 10691 \n"
     ]
    },
    {
     "name": "stderr",
     "output_type": "stream",
     "text": [
      "[Parallel(n_jobs=48)]: Done 131 out of 131 | elapsed:    6.8s finished\n"
     ]
    },
    {
     "name": "stdout",
     "output_type": "stream",
     "text": [
      "Loading test file #3 - dict_jobID_Xtest_Ytest_171056_181746_FROM_giga_takeoutdf_w_jobgroup.pickle\n",
      "Loaded test file #10691\n",
      "New Batch started : 1 to 240 \n"
     ]
    },
    {
     "name": "stderr",
     "output_type": "stream",
     "text": [
      "[Parallel(n_jobs=48)]: Done 104 tasks      | elapsed:    6.0s\n",
      "[Parallel(n_jobs=48)]: Done 240 out of 240 | elapsed:   14.2s finished\n"
     ]
    },
    {
     "name": "stdout",
     "output_type": "stream",
     "text": [
      "New Batch started : 241 to 480 \n"
     ]
    },
    {
     "name": "stderr",
     "output_type": "stream",
     "text": [
      "[Parallel(n_jobs=48)]: Done 104 tasks      | elapsed:    6.0s\n",
      "[Parallel(n_jobs=48)]: Done 240 out of 240 | elapsed:   13.6s finished\n"
     ]
    },
    {
     "name": "stdout",
     "output_type": "stream",
     "text": [
      "New Batch started : 481 to 720 \n"
     ]
    },
    {
     "name": "stderr",
     "output_type": "stream",
     "text": [
      "[Parallel(n_jobs=48)]: Done 104 tasks      | elapsed:    6.3s\n",
      "[Parallel(n_jobs=48)]: Done 240 out of 240 | elapsed:   14.0s finished\n"
     ]
    },
    {
     "name": "stdout",
     "output_type": "stream",
     "text": [
      "New Batch started : 721 to 960 \n"
     ]
    },
    {
     "name": "stderr",
     "output_type": "stream",
     "text": [
      "[Parallel(n_jobs=48)]: Done 104 tasks      | elapsed:    6.0s\n",
      "[Parallel(n_jobs=48)]: Done 240 out of 240 | elapsed:   13.5s finished\n"
     ]
    },
    {
     "name": "stdout",
     "output_type": "stream",
     "text": [
      "New Batch started : 961 to 1200 \n"
     ]
    },
    {
     "name": "stderr",
     "output_type": "stream",
     "text": [
      "[Parallel(n_jobs=48)]: Done 104 tasks      | elapsed:    6.2s\n",
      "[Parallel(n_jobs=48)]: Done 240 out of 240 | elapsed:   14.0s finished\n"
     ]
    },
    {
     "name": "stdout",
     "output_type": "stream",
     "text": [
      "New Batch started : 1201 to 1440 \n"
     ]
    },
    {
     "name": "stderr",
     "output_type": "stream",
     "text": [
      "[Parallel(n_jobs=48)]: Done 104 tasks      | elapsed:    6.1s\n",
      "[Parallel(n_jobs=48)]: Done 240 out of 240 | elapsed:   13.7s finished\n"
     ]
    },
    {
     "name": "stdout",
     "output_type": "stream",
     "text": [
      "New Batch started : 1441 to 1680 \n"
     ]
    },
    {
     "name": "stderr",
     "output_type": "stream",
     "text": [
      "[Parallel(n_jobs=48)]: Done 104 tasks      | elapsed:    5.9s\n",
      "[Parallel(n_jobs=48)]: Done 240 out of 240 | elapsed:   14.1s finished\n"
     ]
    },
    {
     "name": "stdout",
     "output_type": "stream",
     "text": [
      "New Batch started : 1681 to 1920 \n"
     ]
    },
    {
     "name": "stderr",
     "output_type": "stream",
     "text": [
      "[Parallel(n_jobs=48)]: Done 104 tasks      | elapsed:    5.9s\n",
      "[Parallel(n_jobs=48)]: Done 240 out of 240 | elapsed:   14.3s finished\n"
     ]
    },
    {
     "name": "stdout",
     "output_type": "stream",
     "text": [
      "New Batch started : 1921 to 2160 \n"
     ]
    },
    {
     "name": "stderr",
     "output_type": "stream",
     "text": [
      "[Parallel(n_jobs=48)]: Done 104 tasks      | elapsed:    6.0s\n",
      "[Parallel(n_jobs=48)]: Done 240 out of 240 | elapsed:   14.1s finished\n"
     ]
    },
    {
     "name": "stdout",
     "output_type": "stream",
     "text": [
      "New Batch started : 2161 to 2400 \n"
     ]
    },
    {
     "name": "stderr",
     "output_type": "stream",
     "text": [
      "[Parallel(n_jobs=48)]: Done 104 tasks      | elapsed:    6.8s\n",
      "[Parallel(n_jobs=48)]: Done 240 out of 240 | elapsed:   14.8s finished\n"
     ]
    },
    {
     "name": "stdout",
     "output_type": "stream",
     "text": [
      "New Batch started : 2401 to 2640 \n"
     ]
    },
    {
     "name": "stderr",
     "output_type": "stream",
     "text": [
      "[Parallel(n_jobs=48)]: Done 104 tasks      | elapsed:    6.2s\n",
      "[Parallel(n_jobs=48)]: Done 240 out of 240 | elapsed:   14.1s finished\n"
     ]
    },
    {
     "name": "stdout",
     "output_type": "stream",
     "text": [
      "New Batch started : 2641 to 2880 \n"
     ]
    },
    {
     "name": "stderr",
     "output_type": "stream",
     "text": [
      "[Parallel(n_jobs=48)]: Done 104 tasks      | elapsed:    6.1s\n",
      "[Parallel(n_jobs=48)]: Done 240 out of 240 | elapsed:   14.2s finished\n"
     ]
    },
    {
     "name": "stdout",
     "output_type": "stream",
     "text": [
      "New Batch started : 2881 to 3120 \n"
     ]
    },
    {
     "name": "stderr",
     "output_type": "stream",
     "text": [
      "[Parallel(n_jobs=48)]: Done 104 tasks      | elapsed:    6.1s\n",
      "[Parallel(n_jobs=48)]: Done 240 out of 240 | elapsed:   14.4s finished\n"
     ]
    },
    {
     "name": "stdout",
     "output_type": "stream",
     "text": [
      "New Batch started : 3121 to 3360 \n"
     ]
    },
    {
     "name": "stderr",
     "output_type": "stream",
     "text": [
      "[Parallel(n_jobs=48)]: Done 104 tasks      | elapsed:    6.0s\n",
      "[Parallel(n_jobs=48)]: Done 240 out of 240 | elapsed:   14.1s finished\n"
     ]
    },
    {
     "name": "stdout",
     "output_type": "stream",
     "text": [
      "New Batch started : 3361 to 3600 \n"
     ]
    },
    {
     "name": "stderr",
     "output_type": "stream",
     "text": [
      "[Parallel(n_jobs=48)]: Done 104 tasks      | elapsed:    6.4s\n",
      "[Parallel(n_jobs=48)]: Done 240 out of 240 | elapsed:   14.5s finished\n"
     ]
    },
    {
     "name": "stdout",
     "output_type": "stream",
     "text": [
      "New Batch started : 3601 to 3840 \n"
     ]
    },
    {
     "name": "stderr",
     "output_type": "stream",
     "text": [
      "[Parallel(n_jobs=48)]: Done 104 tasks      | elapsed:    6.4s\n",
      "[Parallel(n_jobs=48)]: Done 240 out of 240 | elapsed:   14.3s finished\n"
     ]
    },
    {
     "name": "stdout",
     "output_type": "stream",
     "text": [
      "New Batch started : 3841 to 4080 \n"
     ]
    },
    {
     "name": "stderr",
     "output_type": "stream",
     "text": [
      "[Parallel(n_jobs=48)]: Done 104 tasks      | elapsed:    5.9s\n",
      "[Parallel(n_jobs=48)]: Done 240 out of 240 | elapsed:   14.2s finished\n"
     ]
    },
    {
     "name": "stdout",
     "output_type": "stream",
     "text": [
      "New Batch started : 4081 to 4320 \n"
     ]
    },
    {
     "name": "stderr",
     "output_type": "stream",
     "text": [
      "[Parallel(n_jobs=48)]: Done 104 tasks      | elapsed:    6.2s\n",
      "[Parallel(n_jobs=48)]: Done 240 out of 240 | elapsed:   14.3s finished\n"
     ]
    },
    {
     "name": "stdout",
     "output_type": "stream",
     "text": [
      "New Batch started : 4321 to 4560 \n"
     ]
    },
    {
     "name": "stderr",
     "output_type": "stream",
     "text": [
      "[Parallel(n_jobs=48)]: Done 104 tasks      | elapsed:    6.1s\n",
      "[Parallel(n_jobs=48)]: Done 240 out of 240 | elapsed:   14.2s finished\n"
     ]
    },
    {
     "name": "stdout",
     "output_type": "stream",
     "text": [
      "New Batch started : 4561 to 4800 \n"
     ]
    },
    {
     "name": "stderr",
     "output_type": "stream",
     "text": [
      "[Parallel(n_jobs=48)]: Done 104 tasks      | elapsed:    6.3s\n",
      "[Parallel(n_jobs=48)]: Done 240 out of 240 | elapsed:   14.2s finished\n"
     ]
    },
    {
     "name": "stdout",
     "output_type": "stream",
     "text": [
      "New Batch started : 4801 to 5040 \n"
     ]
    },
    {
     "name": "stderr",
     "output_type": "stream",
     "text": [
      "[Parallel(n_jobs=48)]: Done 104 tasks      | elapsed:    6.4s\n",
      "[Parallel(n_jobs=48)]: Done 240 out of 240 | elapsed:   14.7s finished\n"
     ]
    },
    {
     "name": "stdout",
     "output_type": "stream",
     "text": [
      "New Batch started : 5041 to 5280 \n"
     ]
    },
    {
     "name": "stderr",
     "output_type": "stream",
     "text": [
      "[Parallel(n_jobs=48)]: Done 104 tasks      | elapsed:    6.3s\n",
      "[Parallel(n_jobs=48)]: Done 240 out of 240 | elapsed:   14.2s finished\n"
     ]
    },
    {
     "name": "stdout",
     "output_type": "stream",
     "text": [
      "New Batch started : 5281 to 5520 \n"
     ]
    },
    {
     "name": "stderr",
     "output_type": "stream",
     "text": [
      "[Parallel(n_jobs=48)]: Done 104 tasks      | elapsed:    6.1s\n",
      "[Parallel(n_jobs=48)]: Done 240 out of 240 | elapsed:   14.2s finished\n"
     ]
    },
    {
     "name": "stdout",
     "output_type": "stream",
     "text": [
      "New Batch started : 5521 to 5760 \n"
     ]
    },
    {
     "name": "stderr",
     "output_type": "stream",
     "text": [
      "[Parallel(n_jobs=48)]: Done 104 tasks      | elapsed:    6.3s\n",
      "[Parallel(n_jobs=48)]: Done 240 out of 240 | elapsed:   14.2s finished\n"
     ]
    },
    {
     "name": "stdout",
     "output_type": "stream",
     "text": [
      "New Batch started : 5761 to 6000 \n"
     ]
    },
    {
     "name": "stderr",
     "output_type": "stream",
     "text": [
      "[Parallel(n_jobs=48)]: Done 104 tasks      | elapsed:    6.6s\n",
      "[Parallel(n_jobs=48)]: Done 240 out of 240 | elapsed:   14.7s finished\n"
     ]
    },
    {
     "name": "stdout",
     "output_type": "stream",
     "text": [
      "New Batch started : 6001 to 6240 \n"
     ]
    },
    {
     "name": "stderr",
     "output_type": "stream",
     "text": [
      "[Parallel(n_jobs=48)]: Done 104 tasks      | elapsed:    6.3s\n",
      "[Parallel(n_jobs=48)]: Done 240 out of 240 | elapsed:   14.0s finished\n"
     ]
    },
    {
     "name": "stdout",
     "output_type": "stream",
     "text": [
      "New Batch started : 6241 to 6480 \n"
     ]
    },
    {
     "name": "stderr",
     "output_type": "stream",
     "text": [
      "[Parallel(n_jobs=48)]: Done 104 tasks      | elapsed:    6.0s\n",
      "[Parallel(n_jobs=48)]: Done 240 out of 240 | elapsed:   14.3s finished\n"
     ]
    },
    {
     "name": "stdout",
     "output_type": "stream",
     "text": [
      "New Batch started : 6481 to 6720 \n"
     ]
    },
    {
     "name": "stderr",
     "output_type": "stream",
     "text": [
      "[Parallel(n_jobs=48)]: Done 104 tasks      | elapsed:    6.0s\n",
      "[Parallel(n_jobs=48)]: Done 240 out of 240 | elapsed:   14.2s finished\n"
     ]
    },
    {
     "name": "stdout",
     "output_type": "stream",
     "text": [
      "New Batch started : 6721 to 6960 \n"
     ]
    },
    {
     "name": "stderr",
     "output_type": "stream",
     "text": [
      "[Parallel(n_jobs=48)]: Done 104 tasks      | elapsed:    6.4s\n",
      "[Parallel(n_jobs=48)]: Done 240 out of 240 | elapsed:   14.8s finished\n"
     ]
    },
    {
     "name": "stdout",
     "output_type": "stream",
     "text": [
      "New Batch started : 6961 to 7200 \n"
     ]
    },
    {
     "name": "stderr",
     "output_type": "stream",
     "text": [
      "[Parallel(n_jobs=48)]: Done 104 tasks      | elapsed:    6.0s\n",
      "[Parallel(n_jobs=48)]: Done 240 out of 240 | elapsed:   14.4s finished\n"
     ]
    },
    {
     "name": "stdout",
     "output_type": "stream",
     "text": [
      "New Batch started : 7201 to 7440 \n"
     ]
    },
    {
     "name": "stderr",
     "output_type": "stream",
     "text": [
      "[Parallel(n_jobs=48)]: Done 104 tasks      | elapsed:    5.9s\n",
      "[Parallel(n_jobs=48)]: Done 240 out of 240 | elapsed:   13.8s finished\n"
     ]
    },
    {
     "name": "stdout",
     "output_type": "stream",
     "text": [
      "New Batch started : 7441 to 7680 \n"
     ]
    },
    {
     "name": "stderr",
     "output_type": "stream",
     "text": [
      "[Parallel(n_jobs=48)]: Done 104 tasks      | elapsed:    6.6s\n",
      "[Parallel(n_jobs=48)]: Done 240 out of 240 | elapsed:   14.8s finished\n"
     ]
    },
    {
     "name": "stdout",
     "output_type": "stream",
     "text": [
      "New Batch started : 7681 to 7920 \n"
     ]
    },
    {
     "name": "stderr",
     "output_type": "stream",
     "text": [
      "[Parallel(n_jobs=48)]: Done 104 tasks      | elapsed:    6.2s\n",
      "[Parallel(n_jobs=48)]: Done 240 out of 240 | elapsed:   14.9s finished\n"
     ]
    },
    {
     "name": "stdout",
     "output_type": "stream",
     "text": [
      "New Batch started : 7921 to 8160 \n"
     ]
    },
    {
     "name": "stderr",
     "output_type": "stream",
     "text": [
      "[Parallel(n_jobs=48)]: Done 104 tasks      | elapsed:    6.3s\n",
      "[Parallel(n_jobs=48)]: Done 240 out of 240 | elapsed:   14.9s finished\n"
     ]
    },
    {
     "name": "stdout",
     "output_type": "stream",
     "text": [
      "New Batch started : 8161 to 8400 \n"
     ]
    },
    {
     "name": "stderr",
     "output_type": "stream",
     "text": [
      "[Parallel(n_jobs=48)]: Done 104 tasks      | elapsed:    6.6s\n",
      "[Parallel(n_jobs=48)]: Done 240 out of 240 | elapsed:   14.6s finished\n"
     ]
    },
    {
     "name": "stdout",
     "output_type": "stream",
     "text": [
      "New Batch started : 8401 to 8640 \n"
     ]
    },
    {
     "name": "stderr",
     "output_type": "stream",
     "text": [
      "[Parallel(n_jobs=48)]: Done 104 tasks      | elapsed:    6.2s\n",
      "[Parallel(n_jobs=48)]: Done 240 out of 240 | elapsed:   14.0s finished\n"
     ]
    },
    {
     "name": "stdout",
     "output_type": "stream",
     "text": [
      "New Batch started : 8641 to 8880 \n"
     ]
    },
    {
     "name": "stderr",
     "output_type": "stream",
     "text": [
      "[Parallel(n_jobs=48)]: Done 104 tasks      | elapsed:    6.0s\n",
      "[Parallel(n_jobs=48)]: Done 240 out of 240 | elapsed:   14.2s finished\n"
     ]
    },
    {
     "name": "stdout",
     "output_type": "stream",
     "text": [
      "New Batch started : 8881 to 9120 \n"
     ]
    },
    {
     "name": "stderr",
     "output_type": "stream",
     "text": [
      "[Parallel(n_jobs=48)]: Done 104 tasks      | elapsed:    6.1s\n",
      "[Parallel(n_jobs=48)]: Done 240 out of 240 | elapsed:   13.5s finished\n"
     ]
    },
    {
     "name": "stdout",
     "output_type": "stream",
     "text": [
      "New Batch started : 9121 to 9360 \n"
     ]
    },
    {
     "name": "stderr",
     "output_type": "stream",
     "text": [
      "[Parallel(n_jobs=48)]: Done 104 tasks      | elapsed:    6.3s\n",
      "[Parallel(n_jobs=48)]: Done 240 out of 240 | elapsed:   14.5s finished\n"
     ]
    },
    {
     "name": "stdout",
     "output_type": "stream",
     "text": [
      "New Batch started : 9361 to 9600 \n"
     ]
    },
    {
     "name": "stderr",
     "output_type": "stream",
     "text": [
      "[Parallel(n_jobs=48)]: Done 104 tasks      | elapsed:    6.1s\n",
      "[Parallel(n_jobs=48)]: Done 240 out of 240 | elapsed:   14.3s finished\n"
     ]
    },
    {
     "name": "stdout",
     "output_type": "stream",
     "text": [
      "New Batch started : 9601 to 9840 \n"
     ]
    },
    {
     "name": "stderr",
     "output_type": "stream",
     "text": [
      "[Parallel(n_jobs=48)]: Done 104 tasks      | elapsed:    5.8s\n",
      "[Parallel(n_jobs=48)]: Done 240 out of 240 | elapsed:   13.7s finished\n"
     ]
    },
    {
     "name": "stdout",
     "output_type": "stream",
     "text": [
      "New Batch started : 9841 to 10080 \n"
     ]
    },
    {
     "name": "stderr",
     "output_type": "stream",
     "text": [
      "[Parallel(n_jobs=48)]: Done 104 tasks      | elapsed:    6.2s\n",
      "[Parallel(n_jobs=48)]: Done 240 out of 240 | elapsed:   14.1s finished\n"
     ]
    },
    {
     "name": "stdout",
     "output_type": "stream",
     "text": [
      "New Batch started : 10081 to 10320 \n"
     ]
    },
    {
     "name": "stderr",
     "output_type": "stream",
     "text": [
      "[Parallel(n_jobs=48)]: Done 104 tasks      | elapsed:    6.5s\n",
      "[Parallel(n_jobs=48)]: Done 240 out of 240 | elapsed:   14.7s finished\n"
     ]
    },
    {
     "name": "stdout",
     "output_type": "stream",
     "text": [
      "New Batch started : 10321 to 10560 \n"
     ]
    },
    {
     "name": "stderr",
     "output_type": "stream",
     "text": [
      "[Parallel(n_jobs=48)]: Done 104 tasks      | elapsed:    6.3s\n",
      "[Parallel(n_jobs=48)]: Done 240 out of 240 | elapsed:   14.6s finished\n"
     ]
    },
    {
     "name": "stdout",
     "output_type": "stream",
     "text": [
      "New Batch started : 10561 to 10691 \n"
     ]
    },
    {
     "name": "stderr",
     "output_type": "stream",
     "text": [
      "[Parallel(n_jobs=48)]: Done 131 out of 131 | elapsed:    7.9s finished\n"
     ]
    },
    {
     "name": "stdout",
     "output_type": "stream",
     "text": [
      "Loading test file #4 - dict_jobID_Xtest_Ytest_181747_192437_FROM_giga_takeoutdf_w_jobgroup.pickle\n",
      "Loaded test file #10691\n",
      "New Batch started : 1 to 240 \n"
     ]
    },
    {
     "name": "stderr",
     "output_type": "stream",
     "text": [
      "[Parallel(n_jobs=48)]: Done 104 tasks      | elapsed:    6.2s\n",
      "[Parallel(n_jobs=48)]: Done 240 out of 240 | elapsed:   14.6s finished\n"
     ]
    },
    {
     "name": "stdout",
     "output_type": "stream",
     "text": [
      "New Batch started : 241 to 480 \n"
     ]
    },
    {
     "name": "stderr",
     "output_type": "stream",
     "text": [
      "[Parallel(n_jobs=48)]: Done 104 tasks      | elapsed:    6.5s\n",
      "[Parallel(n_jobs=48)]: Done 240 out of 240 | elapsed:   14.8s finished\n"
     ]
    },
    {
     "name": "stdout",
     "output_type": "stream",
     "text": [
      "New Batch started : 481 to 720 \n"
     ]
    },
    {
     "name": "stderr",
     "output_type": "stream",
     "text": [
      "[Parallel(n_jobs=48)]: Done 104 tasks      | elapsed:    6.7s\n",
      "[Parallel(n_jobs=48)]: Done 240 out of 240 | elapsed:   15.5s finished\n"
     ]
    },
    {
     "name": "stdout",
     "output_type": "stream",
     "text": [
      "New Batch started : 721 to 960 \n"
     ]
    },
    {
     "name": "stderr",
     "output_type": "stream",
     "text": [
      "[Parallel(n_jobs=48)]: Done 104 tasks      | elapsed:    6.1s\n",
      "[Parallel(n_jobs=48)]: Done 240 out of 240 | elapsed:   15.4s finished\n"
     ]
    },
    {
     "name": "stdout",
     "output_type": "stream",
     "text": [
      "New Batch started : 961 to 1200 \n"
     ]
    },
    {
     "name": "stderr",
     "output_type": "stream",
     "text": [
      "[Parallel(n_jobs=48)]: Done 104 tasks      | elapsed:    6.5s\n",
      "[Parallel(n_jobs=48)]: Done 240 out of 240 | elapsed:   15.1s finished\n"
     ]
    },
    {
     "name": "stdout",
     "output_type": "stream",
     "text": [
      "New Batch started : 1201 to 1440 \n"
     ]
    },
    {
     "name": "stderr",
     "output_type": "stream",
     "text": [
      "[Parallel(n_jobs=48)]: Done 104 tasks      | elapsed:    6.9s\n",
      "[Parallel(n_jobs=48)]: Done 240 out of 240 | elapsed:   15.4s finished\n"
     ]
    },
    {
     "name": "stdout",
     "output_type": "stream",
     "text": [
      "New Batch started : 1441 to 1680 \n"
     ]
    },
    {
     "name": "stderr",
     "output_type": "stream",
     "text": [
      "[Parallel(n_jobs=48)]: Done 104 tasks      | elapsed:    6.6s\n",
      "[Parallel(n_jobs=48)]: Done 240 out of 240 | elapsed:   15.7s finished\n"
     ]
    },
    {
     "name": "stdout",
     "output_type": "stream",
     "text": [
      "New Batch started : 1681 to 1920 \n"
     ]
    },
    {
     "name": "stderr",
     "output_type": "stream",
     "text": [
      "[Parallel(n_jobs=48)]: Done 104 tasks      | elapsed:    7.0s\n",
      "[Parallel(n_jobs=48)]: Done 240 out of 240 | elapsed:   15.7s finished\n"
     ]
    },
    {
     "name": "stdout",
     "output_type": "stream",
     "text": [
      "New Batch started : 1921 to 2160 \n"
     ]
    },
    {
     "name": "stderr",
     "output_type": "stream",
     "text": [
      "[Parallel(n_jobs=48)]: Done 104 tasks      | elapsed:    6.6s\n",
      "[Parallel(n_jobs=48)]: Done 240 out of 240 | elapsed:   15.2s finished\n"
     ]
    },
    {
     "name": "stdout",
     "output_type": "stream",
     "text": [
      "New Batch started : 2161 to 2400 \n"
     ]
    },
    {
     "name": "stderr",
     "output_type": "stream",
     "text": [
      "[Parallel(n_jobs=48)]: Done 104 tasks      | elapsed:    6.6s\n",
      "[Parallel(n_jobs=48)]: Done 240 out of 240 | elapsed:   15.0s finished\n"
     ]
    },
    {
     "name": "stdout",
     "output_type": "stream",
     "text": [
      "New Batch started : 2401 to 2640 \n"
     ]
    },
    {
     "name": "stderr",
     "output_type": "stream",
     "text": [
      "[Parallel(n_jobs=48)]: Done 104 tasks      | elapsed:    6.3s\n",
      "[Parallel(n_jobs=48)]: Done 240 out of 240 | elapsed:   14.7s finished\n"
     ]
    },
    {
     "name": "stdout",
     "output_type": "stream",
     "text": [
      "New Batch started : 2641 to 2880 \n"
     ]
    },
    {
     "name": "stderr",
     "output_type": "stream",
     "text": [
      "[Parallel(n_jobs=48)]: Done 104 tasks      | elapsed:    6.6s\n",
      "[Parallel(n_jobs=48)]: Done 240 out of 240 | elapsed:   15.4s finished\n"
     ]
    },
    {
     "name": "stdout",
     "output_type": "stream",
     "text": [
      "New Batch started : 2881 to 3120 \n"
     ]
    },
    {
     "name": "stderr",
     "output_type": "stream",
     "text": [
      "[Parallel(n_jobs=48)]: Done 104 tasks      | elapsed:    6.7s\n",
      "[Parallel(n_jobs=48)]: Done 240 out of 240 | elapsed:   15.1s finished\n"
     ]
    },
    {
     "name": "stdout",
     "output_type": "stream",
     "text": [
      "New Batch started : 3121 to 3360 \n"
     ]
    },
    {
     "name": "stderr",
     "output_type": "stream",
     "text": [
      "[Parallel(n_jobs=48)]: Done 104 tasks      | elapsed:    6.4s\n",
      "[Parallel(n_jobs=48)]: Done 240 out of 240 | elapsed:   14.7s finished\n"
     ]
    },
    {
     "name": "stdout",
     "output_type": "stream",
     "text": [
      "New Batch started : 3361 to 3600 \n"
     ]
    },
    {
     "name": "stderr",
     "output_type": "stream",
     "text": [
      "[Parallel(n_jobs=48)]: Done 104 tasks      | elapsed:    6.8s\n",
      "[Parallel(n_jobs=48)]: Done 240 out of 240 | elapsed:   15.1s finished\n"
     ]
    },
    {
     "name": "stdout",
     "output_type": "stream",
     "text": [
      "New Batch started : 3601 to 3840 \n"
     ]
    },
    {
     "name": "stderr",
     "output_type": "stream",
     "text": [
      "[Parallel(n_jobs=48)]: Done 104 tasks      | elapsed:    6.7s\n",
      "[Parallel(n_jobs=48)]: Done 240 out of 240 | elapsed:   15.7s finished\n"
     ]
    },
    {
     "name": "stdout",
     "output_type": "stream",
     "text": [
      "New Batch started : 3841 to 4080 \n"
     ]
    },
    {
     "name": "stderr",
     "output_type": "stream",
     "text": [
      "[Parallel(n_jobs=48)]: Done 104 tasks      | elapsed:    6.6s\n",
      "[Parallel(n_jobs=48)]: Done 240 out of 240 | elapsed:   15.2s finished\n"
     ]
    },
    {
     "name": "stdout",
     "output_type": "stream",
     "text": [
      "New Batch started : 4081 to 4320 \n"
     ]
    },
    {
     "name": "stderr",
     "output_type": "stream",
     "text": [
      "[Parallel(n_jobs=48)]: Done 104 tasks      | elapsed:    6.7s\n",
      "[Parallel(n_jobs=48)]: Done 240 out of 240 | elapsed:   15.6s finished\n"
     ]
    },
    {
     "name": "stdout",
     "output_type": "stream",
     "text": [
      "New Batch started : 4321 to 4560 \n"
     ]
    },
    {
     "name": "stderr",
     "output_type": "stream",
     "text": [
      "[Parallel(n_jobs=48)]: Done 104 tasks      | elapsed:    6.1s\n",
      "[Parallel(n_jobs=48)]: Done 240 out of 240 | elapsed:   14.9s finished\n"
     ]
    },
    {
     "name": "stdout",
     "output_type": "stream",
     "text": [
      "New Batch started : 4561 to 4800 \n"
     ]
    },
    {
     "name": "stderr",
     "output_type": "stream",
     "text": [
      "[Parallel(n_jobs=48)]: Done 104 tasks      | elapsed:    6.6s\n",
      "[Parallel(n_jobs=48)]: Done 240 out of 240 | elapsed:   15.1s finished\n"
     ]
    },
    {
     "name": "stdout",
     "output_type": "stream",
     "text": [
      "New Batch started : 4801 to 5040 \n"
     ]
    },
    {
     "name": "stderr",
     "output_type": "stream",
     "text": [
      "[Parallel(n_jobs=48)]: Done 104 tasks      | elapsed:    6.4s\n",
      "[Parallel(n_jobs=48)]: Done 240 out of 240 | elapsed:   14.6s finished\n"
     ]
    },
    {
     "name": "stdout",
     "output_type": "stream",
     "text": [
      "New Batch started : 5041 to 5280 \n"
     ]
    },
    {
     "name": "stderr",
     "output_type": "stream",
     "text": [
      "[Parallel(n_jobs=48)]: Done 104 tasks      | elapsed:    6.7s\n",
      "[Parallel(n_jobs=48)]: Done 240 out of 240 | elapsed:   15.6s finished\n"
     ]
    },
    {
     "name": "stdout",
     "output_type": "stream",
     "text": [
      "New Batch started : 5281 to 5520 \n"
     ]
    },
    {
     "name": "stderr",
     "output_type": "stream",
     "text": [
      "[Parallel(n_jobs=48)]: Done 104 tasks      | elapsed:    6.6s\n",
      "[Parallel(n_jobs=48)]: Done 240 out of 240 | elapsed:   15.3s finished\n"
     ]
    },
    {
     "name": "stdout",
     "output_type": "stream",
     "text": [
      "New Batch started : 5521 to 5760 \n"
     ]
    },
    {
     "name": "stderr",
     "output_type": "stream",
     "text": [
      "[Parallel(n_jobs=48)]: Done 104 tasks      | elapsed:    6.8s\n",
      "[Parallel(n_jobs=48)]: Done 240 out of 240 | elapsed:   15.7s finished\n"
     ]
    },
    {
     "name": "stdout",
     "output_type": "stream",
     "text": [
      "New Batch started : 5761 to 6000 \n"
     ]
    },
    {
     "name": "stderr",
     "output_type": "stream",
     "text": [
      "[Parallel(n_jobs=48)]: Done 104 tasks      | elapsed:    6.5s\n",
      "[Parallel(n_jobs=48)]: Done 240 out of 240 | elapsed:   14.7s finished\n"
     ]
    },
    {
     "name": "stdout",
     "output_type": "stream",
     "text": [
      "New Batch started : 6001 to 6240 \n"
     ]
    },
    {
     "name": "stderr",
     "output_type": "stream",
     "text": [
      "[Parallel(n_jobs=48)]: Done 104 tasks      | elapsed:    6.5s\n",
      "[Parallel(n_jobs=48)]: Done 240 out of 240 | elapsed:   14.9s finished\n"
     ]
    },
    {
     "name": "stdout",
     "output_type": "stream",
     "text": [
      "New Batch started : 6241 to 6480 \n"
     ]
    },
    {
     "name": "stderr",
     "output_type": "stream",
     "text": [
      "[Parallel(n_jobs=48)]: Done 104 tasks      | elapsed:    6.4s\n",
      "[Parallel(n_jobs=48)]: Done 240 out of 240 | elapsed:   14.9s finished\n"
     ]
    },
    {
     "name": "stdout",
     "output_type": "stream",
     "text": [
      "New Batch started : 6481 to 6720 \n"
     ]
    },
    {
     "name": "stderr",
     "output_type": "stream",
     "text": [
      "[Parallel(n_jobs=48)]: Done 104 tasks      | elapsed:    6.2s\n",
      "[Parallel(n_jobs=48)]: Done 240 out of 240 | elapsed:   14.6s finished\n"
     ]
    },
    {
     "name": "stdout",
     "output_type": "stream",
     "text": [
      "New Batch started : 6721 to 6960 \n"
     ]
    },
    {
     "name": "stderr",
     "output_type": "stream",
     "text": [
      "[Parallel(n_jobs=48)]: Done 104 tasks      | elapsed:    6.5s\n",
      "[Parallel(n_jobs=48)]: Done 240 out of 240 | elapsed:   14.8s finished\n"
     ]
    },
    {
     "name": "stdout",
     "output_type": "stream",
     "text": [
      "New Batch started : 6961 to 7200 \n"
     ]
    },
    {
     "name": "stderr",
     "output_type": "stream",
     "text": [
      "[Parallel(n_jobs=48)]: Done 104 tasks      | elapsed:    6.2s\n",
      "[Parallel(n_jobs=48)]: Done 240 out of 240 | elapsed:   14.2s finished\n"
     ]
    },
    {
     "name": "stdout",
     "output_type": "stream",
     "text": [
      "New Batch started : 7201 to 7440 \n"
     ]
    },
    {
     "name": "stderr",
     "output_type": "stream",
     "text": [
      "[Parallel(n_jobs=48)]: Done 104 tasks      | elapsed:    6.7s\n",
      "[Parallel(n_jobs=48)]: Done 240 out of 240 | elapsed:   15.1s finished\n"
     ]
    },
    {
     "name": "stdout",
     "output_type": "stream",
     "text": [
      "New Batch started : 7441 to 7680 \n"
     ]
    },
    {
     "name": "stderr",
     "output_type": "stream",
     "text": [
      "[Parallel(n_jobs=48)]: Done 104 tasks      | elapsed:    6.4s\n",
      "[Parallel(n_jobs=48)]: Done 240 out of 240 | elapsed:   15.2s finished\n"
     ]
    },
    {
     "name": "stdout",
     "output_type": "stream",
     "text": [
      "New Batch started : 7681 to 7920 \n"
     ]
    },
    {
     "name": "stderr",
     "output_type": "stream",
     "text": [
      "[Parallel(n_jobs=48)]: Done 104 tasks      | elapsed:    6.4s\n",
      "[Parallel(n_jobs=48)]: Done 240 out of 240 | elapsed:   14.7s finished\n"
     ]
    },
    {
     "name": "stdout",
     "output_type": "stream",
     "text": [
      "New Batch started : 7921 to 8160 \n"
     ]
    },
    {
     "name": "stderr",
     "output_type": "stream",
     "text": [
      "[Parallel(n_jobs=48)]: Done 104 tasks      | elapsed:    6.3s\n",
      "[Parallel(n_jobs=48)]: Done 240 out of 240 | elapsed:   14.8s finished\n"
     ]
    },
    {
     "name": "stdout",
     "output_type": "stream",
     "text": [
      "New Batch started : 8161 to 8400 \n"
     ]
    },
    {
     "name": "stderr",
     "output_type": "stream",
     "text": [
      "[Parallel(n_jobs=48)]: Done 104 tasks      | elapsed:    6.5s\n",
      "[Parallel(n_jobs=48)]: Done 240 out of 240 | elapsed:   15.0s finished\n"
     ]
    },
    {
     "name": "stdout",
     "output_type": "stream",
     "text": [
      "New Batch started : 8401 to 8640 \n"
     ]
    },
    {
     "name": "stderr",
     "output_type": "stream",
     "text": [
      "[Parallel(n_jobs=48)]: Done 104 tasks      | elapsed:    6.5s\n",
      "[Parallel(n_jobs=48)]: Done 240 out of 240 | elapsed:   14.8s finished\n"
     ]
    },
    {
     "name": "stdout",
     "output_type": "stream",
     "text": [
      "New Batch started : 8641 to 8880 \n"
     ]
    },
    {
     "name": "stderr",
     "output_type": "stream",
     "text": [
      "[Parallel(n_jobs=48)]: Done 104 tasks      | elapsed:    6.6s\n",
      "[Parallel(n_jobs=48)]: Done 240 out of 240 | elapsed:   15.0s finished\n"
     ]
    },
    {
     "name": "stdout",
     "output_type": "stream",
     "text": [
      "New Batch started : 8881 to 9120 \n"
     ]
    },
    {
     "name": "stderr",
     "output_type": "stream",
     "text": [
      "[Parallel(n_jobs=48)]: Done 104 tasks      | elapsed:    6.7s\n",
      "[Parallel(n_jobs=48)]: Done 240 out of 240 | elapsed:   15.1s finished\n"
     ]
    },
    {
     "name": "stdout",
     "output_type": "stream",
     "text": [
      "New Batch started : 9121 to 9360 \n"
     ]
    },
    {
     "name": "stderr",
     "output_type": "stream",
     "text": [
      "[Parallel(n_jobs=48)]: Done 104 tasks      | elapsed:    6.9s\n",
      "[Parallel(n_jobs=48)]: Done 240 out of 240 | elapsed:   15.1s finished\n"
     ]
    },
    {
     "name": "stdout",
     "output_type": "stream",
     "text": [
      "New Batch started : 9361 to 9600 \n"
     ]
    },
    {
     "name": "stderr",
     "output_type": "stream",
     "text": [
      "[Parallel(n_jobs=48)]: Done 104 tasks      | elapsed:    6.3s\n",
      "[Parallel(n_jobs=48)]: Done 240 out of 240 | elapsed:   14.5s finished\n"
     ]
    },
    {
     "name": "stdout",
     "output_type": "stream",
     "text": [
      "New Batch started : 9601 to 9840 \n"
     ]
    },
    {
     "name": "stderr",
     "output_type": "stream",
     "text": [
      "[Parallel(n_jobs=48)]: Done 104 tasks      | elapsed:    6.2s\n",
      "[Parallel(n_jobs=48)]: Done 240 out of 240 | elapsed:   14.7s finished\n"
     ]
    },
    {
     "name": "stdout",
     "output_type": "stream",
     "text": [
      "New Batch started : 9841 to 10080 \n"
     ]
    },
    {
     "name": "stderr",
     "output_type": "stream",
     "text": [
      "[Parallel(n_jobs=48)]: Done 104 tasks      | elapsed:    6.3s\n",
      "[Parallel(n_jobs=48)]: Done 240 out of 240 | elapsed:   14.6s finished\n"
     ]
    },
    {
     "name": "stdout",
     "output_type": "stream",
     "text": [
      "New Batch started : 10081 to 10320 \n"
     ]
    },
    {
     "name": "stderr",
     "output_type": "stream",
     "text": [
      "[Parallel(n_jobs=48)]: Done 104 tasks      | elapsed:    6.5s\n",
      "[Parallel(n_jobs=48)]: Done 240 out of 240 | elapsed:   15.5s finished\n"
     ]
    },
    {
     "name": "stdout",
     "output_type": "stream",
     "text": [
      "New Batch started : 10321 to 10560 \n"
     ]
    },
    {
     "name": "stderr",
     "output_type": "stream",
     "text": [
      "[Parallel(n_jobs=48)]: Done 104 tasks      | elapsed:    6.5s\n",
      "[Parallel(n_jobs=48)]: Done 240 out of 240 | elapsed:   15.2s finished\n"
     ]
    },
    {
     "name": "stdout",
     "output_type": "stream",
     "text": [
      "New Batch started : 10561 to 10691 \n"
     ]
    },
    {
     "name": "stderr",
     "output_type": "stream",
     "text": [
      "[Parallel(n_jobs=48)]: Done 131 out of 131 | elapsed:    7.8s finished\n"
     ]
    },
    {
     "name": "stdout",
     "output_type": "stream",
     "text": [
      "Loading test file #5 - dict_jobID_Xtest_Ytest_192438_203128_FROM_giga_takeoutdf_w_jobgroup.pickle\n",
      "Loaded test file #10691\n",
      "New Batch started : 1 to 240 \n"
     ]
    },
    {
     "name": "stderr",
     "output_type": "stream",
     "text": [
      "[Parallel(n_jobs=48)]: Done 104 tasks      | elapsed:    5.9s\n",
      "[Parallel(n_jobs=48)]: Done 240 out of 240 | elapsed:   13.2s finished\n"
     ]
    },
    {
     "name": "stdout",
     "output_type": "stream",
     "text": [
      "New Batch started : 241 to 480 \n"
     ]
    },
    {
     "name": "stderr",
     "output_type": "stream",
     "text": [
      "[Parallel(n_jobs=48)]: Done 104 tasks      | elapsed:    5.8s\n",
      "[Parallel(n_jobs=48)]: Done 240 out of 240 | elapsed:   13.6s finished\n"
     ]
    },
    {
     "name": "stdout",
     "output_type": "stream",
     "text": [
      "New Batch started : 481 to 720 \n"
     ]
    },
    {
     "name": "stderr",
     "output_type": "stream",
     "text": [
      "[Parallel(n_jobs=48)]: Done 104 tasks      | elapsed:    5.8s\n",
      "[Parallel(n_jobs=48)]: Done 240 out of 240 | elapsed:   13.6s finished\n"
     ]
    },
    {
     "name": "stdout",
     "output_type": "stream",
     "text": [
      "New Batch started : 721 to 960 \n"
     ]
    },
    {
     "name": "stderr",
     "output_type": "stream",
     "text": [
      "[Parallel(n_jobs=48)]: Done 104 tasks      | elapsed:    5.9s\n",
      "[Parallel(n_jobs=48)]: Done 240 out of 240 | elapsed:   13.3s finished\n"
     ]
    },
    {
     "name": "stdout",
     "output_type": "stream",
     "text": [
      "New Batch started : 961 to 1200 \n"
     ]
    },
    {
     "name": "stderr",
     "output_type": "stream",
     "text": [
      "[Parallel(n_jobs=48)]: Done 104 tasks      | elapsed:    5.6s\n",
      "[Parallel(n_jobs=48)]: Done 240 out of 240 | elapsed:   13.0s finished\n"
     ]
    },
    {
     "name": "stdout",
     "output_type": "stream",
     "text": [
      "New Batch started : 1201 to 1440 \n"
     ]
    },
    {
     "name": "stderr",
     "output_type": "stream",
     "text": [
      "[Parallel(n_jobs=48)]: Done 104 tasks      | elapsed:    5.5s\n",
      "[Parallel(n_jobs=48)]: Done 240 out of 240 | elapsed:   13.1s finished\n"
     ]
    },
    {
     "name": "stdout",
     "output_type": "stream",
     "text": [
      "New Batch started : 1441 to 1680 \n"
     ]
    },
    {
     "name": "stderr",
     "output_type": "stream",
     "text": [
      "[Parallel(n_jobs=48)]: Done 104 tasks      | elapsed:    5.9s\n",
      "[Parallel(n_jobs=48)]: Done 240 out of 240 | elapsed:   13.5s finished\n"
     ]
    },
    {
     "name": "stdout",
     "output_type": "stream",
     "text": [
      "New Batch started : 1681 to 1920 \n"
     ]
    },
    {
     "name": "stderr",
     "output_type": "stream",
     "text": [
      "[Parallel(n_jobs=48)]: Done 104 tasks      | elapsed:    6.0s\n",
      "[Parallel(n_jobs=48)]: Done 240 out of 240 | elapsed:   13.8s finished\n"
     ]
    },
    {
     "name": "stdout",
     "output_type": "stream",
     "text": [
      "New Batch started : 1921 to 2160 \n"
     ]
    },
    {
     "name": "stderr",
     "output_type": "stream",
     "text": [
      "[Parallel(n_jobs=48)]: Done 104 tasks      | elapsed:    5.7s\n",
      "[Parallel(n_jobs=48)]: Done 240 out of 240 | elapsed:   13.4s finished\n"
     ]
    },
    {
     "name": "stdout",
     "output_type": "stream",
     "text": [
      "New Batch started : 2161 to 2400 \n"
     ]
    },
    {
     "name": "stderr",
     "output_type": "stream",
     "text": [
      "[Parallel(n_jobs=48)]: Done 104 tasks      | elapsed:    5.7s\n",
      "[Parallel(n_jobs=48)]: Done 240 out of 240 | elapsed:   13.3s finished\n"
     ]
    },
    {
     "name": "stdout",
     "output_type": "stream",
     "text": [
      "New Batch started : 2401 to 2640 \n"
     ]
    },
    {
     "name": "stderr",
     "output_type": "stream",
     "text": [
      "[Parallel(n_jobs=48)]: Done 104 tasks      | elapsed:    5.7s\n",
      "[Parallel(n_jobs=48)]: Done 240 out of 240 | elapsed:   13.1s finished\n"
     ]
    },
    {
     "name": "stdout",
     "output_type": "stream",
     "text": [
      "New Batch started : 2641 to 2880 \n"
     ]
    },
    {
     "name": "stderr",
     "output_type": "stream",
     "text": [
      "[Parallel(n_jobs=48)]: Done 104 tasks      | elapsed:    5.9s\n",
      "[Parallel(n_jobs=48)]: Done 240 out of 240 | elapsed:   13.5s finished\n"
     ]
    },
    {
     "name": "stdout",
     "output_type": "stream",
     "text": [
      "New Batch started : 2881 to 3120 \n"
     ]
    },
    {
     "name": "stderr",
     "output_type": "stream",
     "text": [
      "[Parallel(n_jobs=48)]: Done 104 tasks      | elapsed:    5.8s\n",
      "[Parallel(n_jobs=48)]: Done 240 out of 240 | elapsed:   13.5s finished\n"
     ]
    },
    {
     "name": "stdout",
     "output_type": "stream",
     "text": [
      "New Batch started : 3121 to 3360 \n"
     ]
    },
    {
     "name": "stderr",
     "output_type": "stream",
     "text": [
      "[Parallel(n_jobs=48)]: Done 104 tasks      | elapsed:    6.0s\n",
      "[Parallel(n_jobs=48)]: Done 240 out of 240 | elapsed:   13.5s finished\n"
     ]
    },
    {
     "name": "stdout",
     "output_type": "stream",
     "text": [
      "New Batch started : 3361 to 3600 \n"
     ]
    },
    {
     "name": "stderr",
     "output_type": "stream",
     "text": [
      "[Parallel(n_jobs=48)]: Done 104 tasks      | elapsed:    5.6s\n",
      "[Parallel(n_jobs=48)]: Done 240 out of 240 | elapsed:   13.1s finished\n"
     ]
    },
    {
     "name": "stdout",
     "output_type": "stream",
     "text": [
      "New Batch started : 3601 to 3840 \n"
     ]
    },
    {
     "name": "stderr",
     "output_type": "stream",
     "text": [
      "[Parallel(n_jobs=48)]: Done 104 tasks      | elapsed:    6.0s\n",
      "[Parallel(n_jobs=48)]: Done 240 out of 240 | elapsed:   13.9s finished\n"
     ]
    },
    {
     "name": "stdout",
     "output_type": "stream",
     "text": [
      "New Batch started : 3841 to 4080 \n"
     ]
    },
    {
     "name": "stderr",
     "output_type": "stream",
     "text": [
      "[Parallel(n_jobs=48)]: Done 104 tasks      | elapsed:    5.8s\n",
      "[Parallel(n_jobs=48)]: Done 240 out of 240 | elapsed:   13.5s finished\n"
     ]
    },
    {
     "name": "stdout",
     "output_type": "stream",
     "text": [
      "New Batch started : 4081 to 4320 \n"
     ]
    },
    {
     "name": "stderr",
     "output_type": "stream",
     "text": [
      "[Parallel(n_jobs=48)]: Done 104 tasks      | elapsed:    5.8s\n",
      "[Parallel(n_jobs=48)]: Done 240 out of 240 | elapsed:   13.3s finished\n"
     ]
    },
    {
     "name": "stdout",
     "output_type": "stream",
     "text": [
      "New Batch started : 4321 to 4560 \n"
     ]
    },
    {
     "name": "stderr",
     "output_type": "stream",
     "text": [
      "[Parallel(n_jobs=48)]: Done 104 tasks      | elapsed:    5.6s\n",
      "[Parallel(n_jobs=48)]: Done 240 out of 240 | elapsed:   12.9s finished\n"
     ]
    },
    {
     "name": "stdout",
     "output_type": "stream",
     "text": [
      "New Batch started : 4561 to 4800 \n"
     ]
    },
    {
     "name": "stderr",
     "output_type": "stream",
     "text": [
      "[Parallel(n_jobs=48)]: Done 104 tasks      | elapsed:    5.9s\n",
      "[Parallel(n_jobs=48)]: Done 240 out of 240 | elapsed:   13.5s finished\n"
     ]
    },
    {
     "name": "stdout",
     "output_type": "stream",
     "text": [
      "New Batch started : 4801 to 5040 \n"
     ]
    },
    {
     "name": "stderr",
     "output_type": "stream",
     "text": [
      "[Parallel(n_jobs=48)]: Done 104 tasks      | elapsed:    6.2s\n",
      "[Parallel(n_jobs=48)]: Done 240 out of 240 | elapsed:   13.7s finished\n"
     ]
    },
    {
     "name": "stdout",
     "output_type": "stream",
     "text": [
      "New Batch started : 5041 to 5280 \n"
     ]
    },
    {
     "name": "stderr",
     "output_type": "stream",
     "text": [
      "[Parallel(n_jobs=48)]: Done 104 tasks      | elapsed:    6.0s\n",
      "[Parallel(n_jobs=48)]: Done 240 out of 240 | elapsed:   13.4s finished\n"
     ]
    },
    {
     "name": "stdout",
     "output_type": "stream",
     "text": [
      "New Batch started : 5281 to 5520 \n"
     ]
    },
    {
     "name": "stderr",
     "output_type": "stream",
     "text": [
      "[Parallel(n_jobs=48)]: Done 104 tasks      | elapsed:    6.0s\n",
      "[Parallel(n_jobs=48)]: Done 240 out of 240 | elapsed:   13.5s finished\n"
     ]
    },
    {
     "name": "stdout",
     "output_type": "stream",
     "text": [
      "New Batch started : 5521 to 5760 \n"
     ]
    },
    {
     "name": "stderr",
     "output_type": "stream",
     "text": [
      "[Parallel(n_jobs=48)]: Done 104 tasks      | elapsed:    5.9s\n",
      "[Parallel(n_jobs=48)]: Done 240 out of 240 | elapsed:   13.4s finished\n"
     ]
    },
    {
     "name": "stdout",
     "output_type": "stream",
     "text": [
      "New Batch started : 5761 to 6000 \n"
     ]
    },
    {
     "name": "stderr",
     "output_type": "stream",
     "text": [
      "[Parallel(n_jobs=48)]: Done 104 tasks      | elapsed:    5.7s\n",
      "[Parallel(n_jobs=48)]: Done 240 out of 240 | elapsed:   13.5s finished\n"
     ]
    },
    {
     "name": "stdout",
     "output_type": "stream",
     "text": [
      "New Batch started : 6001 to 6240 \n"
     ]
    },
    {
     "name": "stderr",
     "output_type": "stream",
     "text": [
      "[Parallel(n_jobs=48)]: Done 104 tasks      | elapsed:    5.8s\n",
      "[Parallel(n_jobs=48)]: Done 240 out of 240 | elapsed:   13.5s finished\n"
     ]
    },
    {
     "name": "stdout",
     "output_type": "stream",
     "text": [
      "New Batch started : 6241 to 6480 \n"
     ]
    },
    {
     "name": "stderr",
     "output_type": "stream",
     "text": [
      "[Parallel(n_jobs=48)]: Done 104 tasks      | elapsed:    5.8s\n",
      "[Parallel(n_jobs=48)]: Done 240 out of 240 | elapsed:   13.2s finished\n"
     ]
    },
    {
     "name": "stdout",
     "output_type": "stream",
     "text": [
      "New Batch started : 6481 to 6720 \n"
     ]
    },
    {
     "name": "stderr",
     "output_type": "stream",
     "text": [
      "[Parallel(n_jobs=48)]: Done 104 tasks      | elapsed:    6.0s\n",
      "[Parallel(n_jobs=48)]: Done 240 out of 240 | elapsed:   13.4s finished\n"
     ]
    },
    {
     "name": "stdout",
     "output_type": "stream",
     "text": [
      "New Batch started : 6721 to 6960 \n"
     ]
    },
    {
     "name": "stderr",
     "output_type": "stream",
     "text": [
      "[Parallel(n_jobs=48)]: Done 104 tasks      | elapsed:    5.8s\n",
      "[Parallel(n_jobs=48)]: Done 240 out of 240 | elapsed:   13.2s finished\n"
     ]
    },
    {
     "name": "stdout",
     "output_type": "stream",
     "text": [
      "New Batch started : 6961 to 7200 \n"
     ]
    },
    {
     "name": "stderr",
     "output_type": "stream",
     "text": [
      "[Parallel(n_jobs=48)]: Done 104 tasks      | elapsed:    5.6s\n",
      "[Parallel(n_jobs=48)]: Done 240 out of 240 | elapsed:   13.1s finished\n"
     ]
    },
    {
     "name": "stdout",
     "output_type": "stream",
     "text": [
      "New Batch started : 7201 to 7440 \n"
     ]
    },
    {
     "name": "stderr",
     "output_type": "stream",
     "text": [
      "[Parallel(n_jobs=48)]: Done 104 tasks      | elapsed:    5.9s\n",
      "[Parallel(n_jobs=48)]: Done 240 out of 240 | elapsed:   13.4s finished\n"
     ]
    },
    {
     "name": "stdout",
     "output_type": "stream",
     "text": [
      "New Batch started : 7441 to 7680 \n"
     ]
    },
    {
     "name": "stderr",
     "output_type": "stream",
     "text": [
      "[Parallel(n_jobs=48)]: Done 104 tasks      | elapsed:    5.9s\n",
      "[Parallel(n_jobs=48)]: Done 240 out of 240 | elapsed:   13.3s finished\n"
     ]
    },
    {
     "name": "stdout",
     "output_type": "stream",
     "text": [
      "New Batch started : 7681 to 7920 \n"
     ]
    },
    {
     "name": "stderr",
     "output_type": "stream",
     "text": [
      "[Parallel(n_jobs=48)]: Done 104 tasks      | elapsed:    5.7s\n",
      "[Parallel(n_jobs=48)]: Done 240 out of 240 | elapsed:   13.1s finished\n"
     ]
    },
    {
     "name": "stdout",
     "output_type": "stream",
     "text": [
      "New Batch started : 7921 to 8160 \n"
     ]
    },
    {
     "name": "stderr",
     "output_type": "stream",
     "text": [
      "[Parallel(n_jobs=48)]: Done 104 tasks      | elapsed:    5.7s\n",
      "[Parallel(n_jobs=48)]: Done 240 out of 240 | elapsed:   13.2s finished\n"
     ]
    },
    {
     "name": "stdout",
     "output_type": "stream",
     "text": [
      "New Batch started : 8161 to 8400 \n"
     ]
    },
    {
     "name": "stderr",
     "output_type": "stream",
     "text": [
      "[Parallel(n_jobs=48)]: Done 104 tasks      | elapsed:    5.7s\n",
      "[Parallel(n_jobs=48)]: Done 240 out of 240 | elapsed:   13.2s finished\n"
     ]
    },
    {
     "name": "stdout",
     "output_type": "stream",
     "text": [
      "New Batch started : 8401 to 8640 \n"
     ]
    },
    {
     "name": "stderr",
     "output_type": "stream",
     "text": [
      "[Parallel(n_jobs=48)]: Done 104 tasks      | elapsed:    5.7s\n",
      "[Parallel(n_jobs=48)]: Done 240 out of 240 | elapsed:   13.3s finished\n"
     ]
    },
    {
     "name": "stdout",
     "output_type": "stream",
     "text": [
      "New Batch started : 8641 to 8880 \n"
     ]
    },
    {
     "name": "stderr",
     "output_type": "stream",
     "text": [
      "[Parallel(n_jobs=48)]: Done 104 tasks      | elapsed:    5.6s\n",
      "[Parallel(n_jobs=48)]: Done 240 out of 240 | elapsed:   13.2s finished\n"
     ]
    },
    {
     "name": "stdout",
     "output_type": "stream",
     "text": [
      "New Batch started : 8881 to 9120 \n"
     ]
    },
    {
     "name": "stderr",
     "output_type": "stream",
     "text": [
      "[Parallel(n_jobs=48)]: Done 104 tasks      | elapsed:    5.7s\n",
      "[Parallel(n_jobs=48)]: Done 240 out of 240 | elapsed:   13.3s finished\n"
     ]
    },
    {
     "name": "stdout",
     "output_type": "stream",
     "text": [
      "New Batch started : 9121 to 9360 \n"
     ]
    },
    {
     "name": "stderr",
     "output_type": "stream",
     "text": [
      "[Parallel(n_jobs=48)]: Done 104 tasks      | elapsed:    5.9s\n",
      "[Parallel(n_jobs=48)]: Done 240 out of 240 | elapsed:   13.5s finished\n"
     ]
    },
    {
     "name": "stdout",
     "output_type": "stream",
     "text": [
      "New Batch started : 9361 to 9600 \n"
     ]
    },
    {
     "name": "stderr",
     "output_type": "stream",
     "text": [
      "[Parallel(n_jobs=48)]: Done 104 tasks      | elapsed:    5.7s\n",
      "[Parallel(n_jobs=48)]: Done 240 out of 240 | elapsed:   13.3s finished\n"
     ]
    },
    {
     "name": "stdout",
     "output_type": "stream",
     "text": [
      "New Batch started : 9601 to 9840 \n"
     ]
    },
    {
     "name": "stderr",
     "output_type": "stream",
     "text": [
      "[Parallel(n_jobs=48)]: Done 104 tasks      | elapsed:    5.7s\n",
      "[Parallel(n_jobs=48)]: Done 240 out of 240 | elapsed:   13.5s finished\n"
     ]
    },
    {
     "name": "stdout",
     "output_type": "stream",
     "text": [
      "New Batch started : 9841 to 10080 \n"
     ]
    },
    {
     "name": "stderr",
     "output_type": "stream",
     "text": [
      "[Parallel(n_jobs=48)]: Done 104 tasks      | elapsed:    5.6s\n",
      "[Parallel(n_jobs=48)]: Done 240 out of 240 | elapsed:   13.4s finished\n"
     ]
    },
    {
     "name": "stdout",
     "output_type": "stream",
     "text": [
      "New Batch started : 10081 to 10320 \n"
     ]
    },
    {
     "name": "stderr",
     "output_type": "stream",
     "text": [
      "[Parallel(n_jobs=48)]: Done 104 tasks      | elapsed:    5.6s\n",
      "[Parallel(n_jobs=48)]: Done 240 out of 240 | elapsed:   12.9s finished\n"
     ]
    },
    {
     "name": "stdout",
     "output_type": "stream",
     "text": [
      "New Batch started : 10321 to 10560 \n"
     ]
    },
    {
     "name": "stderr",
     "output_type": "stream",
     "text": [
      "[Parallel(n_jobs=48)]: Done 104 tasks      | elapsed:    5.6s\n",
      "[Parallel(n_jobs=48)]: Done 240 out of 240 | elapsed:   12.9s finished\n"
     ]
    },
    {
     "name": "stdout",
     "output_type": "stream",
     "text": [
      "New Batch started : 10561 to 10691 \n"
     ]
    },
    {
     "name": "stderr",
     "output_type": "stream",
     "text": [
      "[Parallel(n_jobs=48)]: Done 131 out of 131 | elapsed:    7.4s finished\n"
     ]
    },
    {
     "name": "stdout",
     "output_type": "stream",
     "text": [
      "Loading test file #6 - dict_jobID_Xtest_Ytest_203129_213819_FROM_giga_takeoutdf_w_jobgroup.pickle\n",
      "Loaded test file #10691\n",
      "New Batch started : 1 to 240 \n"
     ]
    },
    {
     "name": "stderr",
     "output_type": "stream",
     "text": [
      "[Parallel(n_jobs=48)]: Done 104 tasks      | elapsed:    5.8s\n",
      "[Parallel(n_jobs=48)]: Done 240 out of 240 | elapsed:   13.6s finished\n"
     ]
    },
    {
     "name": "stdout",
     "output_type": "stream",
     "text": [
      "New Batch started : 241 to 480 \n"
     ]
    },
    {
     "name": "stderr",
     "output_type": "stream",
     "text": [
      "[Parallel(n_jobs=48)]: Done 104 tasks      | elapsed:    6.0s\n",
      "[Parallel(n_jobs=48)]: Done 240 out of 240 | elapsed:   13.7s finished\n"
     ]
    },
    {
     "name": "stdout",
     "output_type": "stream",
     "text": [
      "New Batch started : 481 to 720 \n"
     ]
    },
    {
     "name": "stderr",
     "output_type": "stream",
     "text": [
      "[Parallel(n_jobs=48)]: Done 104 tasks      | elapsed:    5.9s\n",
      "[Parallel(n_jobs=48)]: Done 240 out of 240 | elapsed:   13.7s finished\n"
     ]
    },
    {
     "name": "stdout",
     "output_type": "stream",
     "text": [
      "New Batch started : 721 to 960 \n"
     ]
    },
    {
     "name": "stderr",
     "output_type": "stream",
     "text": [
      "[Parallel(n_jobs=48)]: Done 104 tasks      | elapsed:    6.0s\n",
      "[Parallel(n_jobs=48)]: Done 240 out of 240 | elapsed:   14.2s finished\n"
     ]
    },
    {
     "name": "stdout",
     "output_type": "stream",
     "text": [
      "New Batch started : 961 to 1200 \n"
     ]
    },
    {
     "name": "stderr",
     "output_type": "stream",
     "text": [
      "[Parallel(n_jobs=48)]: Done 104 tasks      | elapsed:    6.0s\n",
      "[Parallel(n_jobs=48)]: Done 240 out of 240 | elapsed:   13.7s finished\n"
     ]
    },
    {
     "name": "stdout",
     "output_type": "stream",
     "text": [
      "New Batch started : 1201 to 1440 \n"
     ]
    },
    {
     "name": "stderr",
     "output_type": "stream",
     "text": [
      "[Parallel(n_jobs=48)]: Done 104 tasks      | elapsed:    5.8s\n",
      "[Parallel(n_jobs=48)]: Done 240 out of 240 | elapsed:   13.2s finished\n"
     ]
    },
    {
     "name": "stdout",
     "output_type": "stream",
     "text": [
      "New Batch started : 1441 to 1680 \n"
     ]
    },
    {
     "name": "stderr",
     "output_type": "stream",
     "text": [
      "[Parallel(n_jobs=48)]: Done 104 tasks      | elapsed:    5.8s\n",
      "[Parallel(n_jobs=48)]: Done 240 out of 240 | elapsed:   13.2s finished\n"
     ]
    },
    {
     "name": "stdout",
     "output_type": "stream",
     "text": [
      "New Batch started : 1681 to 1920 \n"
     ]
    },
    {
     "name": "stderr",
     "output_type": "stream",
     "text": [
      "[Parallel(n_jobs=48)]: Done 104 tasks      | elapsed:    5.9s\n",
      "[Parallel(n_jobs=48)]: Done 240 out of 240 | elapsed:   13.4s finished\n"
     ]
    },
    {
     "name": "stdout",
     "output_type": "stream",
     "text": [
      "New Batch started : 1921 to 2160 \n"
     ]
    },
    {
     "name": "stderr",
     "output_type": "stream",
     "text": [
      "[Parallel(n_jobs=48)]: Done 104 tasks      | elapsed:    5.8s\n",
      "[Parallel(n_jobs=48)]: Done 240 out of 240 | elapsed:   13.7s finished\n"
     ]
    },
    {
     "name": "stdout",
     "output_type": "stream",
     "text": [
      "New Batch started : 2161 to 2400 \n"
     ]
    },
    {
     "name": "stderr",
     "output_type": "stream",
     "text": [
      "[Parallel(n_jobs=48)]: Done 104 tasks      | elapsed:    5.9s\n",
      "[Parallel(n_jobs=48)]: Done 240 out of 240 | elapsed:   13.6s finished\n"
     ]
    },
    {
     "name": "stdout",
     "output_type": "stream",
     "text": [
      "New Batch started : 2401 to 2640 \n"
     ]
    },
    {
     "name": "stderr",
     "output_type": "stream",
     "text": [
      "[Parallel(n_jobs=48)]: Done 104 tasks      | elapsed:    5.7s\n",
      "[Parallel(n_jobs=48)]: Done 240 out of 240 | elapsed:   13.3s finished\n"
     ]
    },
    {
     "name": "stdout",
     "output_type": "stream",
     "text": [
      "New Batch started : 2641 to 2880 \n"
     ]
    },
    {
     "name": "stderr",
     "output_type": "stream",
     "text": [
      "[Parallel(n_jobs=48)]: Done 104 tasks      | elapsed:    6.0s\n",
      "[Parallel(n_jobs=48)]: Done 240 out of 240 | elapsed:   13.7s finished\n"
     ]
    },
    {
     "name": "stdout",
     "output_type": "stream",
     "text": [
      "New Batch started : 2881 to 3120 \n"
     ]
    },
    {
     "name": "stderr",
     "output_type": "stream",
     "text": [
      "[Parallel(n_jobs=48)]: Done 104 tasks      | elapsed:    5.8s\n",
      "[Parallel(n_jobs=48)]: Done 240 out of 240 | elapsed:   13.7s finished\n"
     ]
    },
    {
     "name": "stdout",
     "output_type": "stream",
     "text": [
      "New Batch started : 3121 to 3360 \n"
     ]
    },
    {
     "name": "stderr",
     "output_type": "stream",
     "text": [
      "[Parallel(n_jobs=48)]: Done 104 tasks      | elapsed:    5.9s\n",
      "[Parallel(n_jobs=48)]: Done 240 out of 240 | elapsed:   13.4s finished\n"
     ]
    },
    {
     "name": "stdout",
     "output_type": "stream",
     "text": [
      "New Batch started : 3361 to 3600 \n"
     ]
    },
    {
     "name": "stderr",
     "output_type": "stream",
     "text": [
      "[Parallel(n_jobs=48)]: Done 104 tasks      | elapsed:    6.1s\n",
      "[Parallel(n_jobs=48)]: Done 240 out of 240 | elapsed:   13.8s finished\n"
     ]
    },
    {
     "name": "stdout",
     "output_type": "stream",
     "text": [
      "New Batch started : 3601 to 3840 \n"
     ]
    },
    {
     "name": "stderr",
     "output_type": "stream",
     "text": [
      "[Parallel(n_jobs=48)]: Done 104 tasks      | elapsed:    5.8s\n",
      "[Parallel(n_jobs=48)]: Done 240 out of 240 | elapsed:   13.6s finished\n"
     ]
    },
    {
     "name": "stdout",
     "output_type": "stream",
     "text": [
      "New Batch started : 3841 to 4080 \n"
     ]
    },
    {
     "name": "stderr",
     "output_type": "stream",
     "text": [
      "[Parallel(n_jobs=48)]: Done 104 tasks      | elapsed:    6.1s\n",
      "[Parallel(n_jobs=48)]: Done 240 out of 240 | elapsed:   13.7s finished\n"
     ]
    },
    {
     "name": "stdout",
     "output_type": "stream",
     "text": [
      "New Batch started : 4081 to 4320 \n"
     ]
    },
    {
     "name": "stderr",
     "output_type": "stream",
     "text": [
      "[Parallel(n_jobs=48)]: Done 104 tasks      | elapsed:    5.8s\n",
      "[Parallel(n_jobs=48)]: Done 240 out of 240 | elapsed:   13.6s finished\n"
     ]
    },
    {
     "name": "stdout",
     "output_type": "stream",
     "text": [
      "New Batch started : 4321 to 4560 \n"
     ]
    },
    {
     "name": "stderr",
     "output_type": "stream",
     "text": [
      "[Parallel(n_jobs=48)]: Done 104 tasks      | elapsed:    5.8s\n",
      "[Parallel(n_jobs=48)]: Done 240 out of 240 | elapsed:   13.3s finished\n"
     ]
    },
    {
     "name": "stdout",
     "output_type": "stream",
     "text": [
      "New Batch started : 4561 to 4800 \n"
     ]
    },
    {
     "name": "stderr",
     "output_type": "stream",
     "text": [
      "[Parallel(n_jobs=48)]: Done 104 tasks      | elapsed:    6.2s\n",
      "[Parallel(n_jobs=48)]: Done 240 out of 240 | elapsed:   13.7s finished\n"
     ]
    },
    {
     "name": "stdout",
     "output_type": "stream",
     "text": [
      "New Batch started : 4801 to 5040 \n"
     ]
    },
    {
     "name": "stderr",
     "output_type": "stream",
     "text": [
      "[Parallel(n_jobs=48)]: Done 104 tasks      | elapsed:    5.9s\n",
      "[Parallel(n_jobs=48)]: Done 240 out of 240 | elapsed:   13.4s finished\n"
     ]
    },
    {
     "name": "stdout",
     "output_type": "stream",
     "text": [
      "New Batch started : 5041 to 5280 \n"
     ]
    },
    {
     "name": "stderr",
     "output_type": "stream",
     "text": [
      "[Parallel(n_jobs=48)]: Done 104 tasks      | elapsed:    5.8s\n",
      "[Parallel(n_jobs=48)]: Done 240 out of 240 | elapsed:   13.5s finished\n"
     ]
    },
    {
     "name": "stdout",
     "output_type": "stream",
     "text": [
      "New Batch started : 5281 to 5520 \n"
     ]
    },
    {
     "name": "stderr",
     "output_type": "stream",
     "text": [
      "[Parallel(n_jobs=48)]: Done 104 tasks      | elapsed:    6.2s\n",
      "[Parallel(n_jobs=48)]: Done 240 out of 240 | elapsed:   13.5s finished\n"
     ]
    },
    {
     "name": "stdout",
     "output_type": "stream",
     "text": [
      "New Batch started : 5521 to 5760 \n"
     ]
    },
    {
     "name": "stderr",
     "output_type": "stream",
     "text": [
      "[Parallel(n_jobs=48)]: Done 104 tasks      | elapsed:    5.8s\n",
      "[Parallel(n_jobs=48)]: Done 240 out of 240 | elapsed:   13.6s finished\n"
     ]
    },
    {
     "name": "stdout",
     "output_type": "stream",
     "text": [
      "New Batch started : 5761 to 6000 \n"
     ]
    },
    {
     "name": "stderr",
     "output_type": "stream",
     "text": [
      "[Parallel(n_jobs=48)]: Done 104 tasks      | elapsed:    6.0s\n",
      "[Parallel(n_jobs=48)]: Done 240 out of 240 | elapsed:   13.7s finished\n"
     ]
    },
    {
     "name": "stdout",
     "output_type": "stream",
     "text": [
      "New Batch started : 6001 to 6240 \n"
     ]
    },
    {
     "name": "stderr",
     "output_type": "stream",
     "text": [
      "[Parallel(n_jobs=48)]: Done 104 tasks      | elapsed:    5.9s\n",
      "[Parallel(n_jobs=48)]: Done 240 out of 240 | elapsed:   13.5s finished\n"
     ]
    },
    {
     "name": "stdout",
     "output_type": "stream",
     "text": [
      "New Batch started : 6241 to 6480 \n"
     ]
    },
    {
     "name": "stderr",
     "output_type": "stream",
     "text": [
      "[Parallel(n_jobs=48)]: Done 104 tasks      | elapsed:    5.9s\n",
      "[Parallel(n_jobs=48)]: Done 240 out of 240 | elapsed:   13.4s finished\n"
     ]
    },
    {
     "name": "stdout",
     "output_type": "stream",
     "text": [
      "New Batch started : 6481 to 6720 \n"
     ]
    },
    {
     "name": "stderr",
     "output_type": "stream",
     "text": [
      "[Parallel(n_jobs=48)]: Done 104 tasks      | elapsed:    5.9s\n",
      "[Parallel(n_jobs=48)]: Done 240 out of 240 | elapsed:   13.6s finished\n"
     ]
    },
    {
     "name": "stdout",
     "output_type": "stream",
     "text": [
      "New Batch started : 6721 to 6960 \n"
     ]
    },
    {
     "name": "stderr",
     "output_type": "stream",
     "text": [
      "[Parallel(n_jobs=48)]: Done 104 tasks      | elapsed:    6.0s\n",
      "[Parallel(n_jobs=48)]: Done 240 out of 240 | elapsed:   13.6s finished\n"
     ]
    },
    {
     "name": "stdout",
     "output_type": "stream",
     "text": [
      "New Batch started : 6961 to 7200 \n"
     ]
    },
    {
     "name": "stderr",
     "output_type": "stream",
     "text": [
      "[Parallel(n_jobs=48)]: Done 104 tasks      | elapsed:    5.9s\n",
      "[Parallel(n_jobs=48)]: Done 240 out of 240 | elapsed:   13.6s finished\n"
     ]
    },
    {
     "name": "stdout",
     "output_type": "stream",
     "text": [
      "New Batch started : 7201 to 7440 \n"
     ]
    },
    {
     "name": "stderr",
     "output_type": "stream",
     "text": [
      "[Parallel(n_jobs=48)]: Done 104 tasks      | elapsed:    6.4s\n",
      "[Parallel(n_jobs=48)]: Done 240 out of 240 | elapsed:   14.2s finished\n"
     ]
    },
    {
     "name": "stdout",
     "output_type": "stream",
     "text": [
      "New Batch started : 7441 to 7680 \n"
     ]
    },
    {
     "name": "stderr",
     "output_type": "stream",
     "text": [
      "[Parallel(n_jobs=48)]: Done 104 tasks      | elapsed:    5.9s\n",
      "[Parallel(n_jobs=48)]: Done 240 out of 240 | elapsed:   13.7s finished\n"
     ]
    },
    {
     "name": "stdout",
     "output_type": "stream",
     "text": [
      "New Batch started : 7681 to 7920 \n"
     ]
    },
    {
     "name": "stderr",
     "output_type": "stream",
     "text": [
      "[Parallel(n_jobs=48)]: Done 104 tasks      | elapsed:    6.1s\n",
      "[Parallel(n_jobs=48)]: Done 240 out of 240 | elapsed:   13.8s finished\n"
     ]
    },
    {
     "name": "stdout",
     "output_type": "stream",
     "text": [
      "New Batch started : 7921 to 8160 \n"
     ]
    },
    {
     "name": "stderr",
     "output_type": "stream",
     "text": [
      "[Parallel(n_jobs=48)]: Done 104 tasks      | elapsed:    6.0s\n",
      "[Parallel(n_jobs=48)]: Done 240 out of 240 | elapsed:   13.9s finished\n"
     ]
    },
    {
     "name": "stdout",
     "output_type": "stream",
     "text": [
      "New Batch started : 8161 to 8400 \n"
     ]
    },
    {
     "name": "stderr",
     "output_type": "stream",
     "text": [
      "[Parallel(n_jobs=48)]: Done 104 tasks      | elapsed:    6.1s\n",
      "[Parallel(n_jobs=48)]: Done 240 out of 240 | elapsed:   13.6s finished\n"
     ]
    },
    {
     "name": "stdout",
     "output_type": "stream",
     "text": [
      "New Batch started : 8401 to 8640 \n"
     ]
    },
    {
     "name": "stderr",
     "output_type": "stream",
     "text": [
      "[Parallel(n_jobs=48)]: Done 104 tasks      | elapsed:    5.8s\n",
      "[Parallel(n_jobs=48)]: Done 240 out of 240 | elapsed:   13.9s finished\n"
     ]
    },
    {
     "name": "stdout",
     "output_type": "stream",
     "text": [
      "New Batch started : 8641 to 8880 \n"
     ]
    },
    {
     "name": "stderr",
     "output_type": "stream",
     "text": [
      "[Parallel(n_jobs=48)]: Done 104 tasks      | elapsed:    5.9s\n",
      "[Parallel(n_jobs=48)]: Done 240 out of 240 | elapsed:   13.7s finished\n"
     ]
    },
    {
     "name": "stdout",
     "output_type": "stream",
     "text": [
      "New Batch started : 8881 to 9120 \n"
     ]
    },
    {
     "name": "stderr",
     "output_type": "stream",
     "text": [
      "[Parallel(n_jobs=48)]: Done 104 tasks      | elapsed:    5.8s\n",
      "[Parallel(n_jobs=48)]: Done 240 out of 240 | elapsed:   13.9s finished\n"
     ]
    },
    {
     "name": "stdout",
     "output_type": "stream",
     "text": [
      "New Batch started : 9121 to 9360 \n"
     ]
    },
    {
     "name": "stderr",
     "output_type": "stream",
     "text": [
      "[Parallel(n_jobs=48)]: Done 104 tasks      | elapsed:    6.1s\n",
      "[Parallel(n_jobs=48)]: Done 240 out of 240 | elapsed:   14.0s finished\n"
     ]
    },
    {
     "name": "stdout",
     "output_type": "stream",
     "text": [
      "New Batch started : 9361 to 9600 \n"
     ]
    },
    {
     "name": "stderr",
     "output_type": "stream",
     "text": [
      "[Parallel(n_jobs=48)]: Done 104 tasks      | elapsed:    5.8s\n",
      "[Parallel(n_jobs=48)]: Done 240 out of 240 | elapsed:   13.7s finished\n"
     ]
    },
    {
     "name": "stdout",
     "output_type": "stream",
     "text": [
      "New Batch started : 9601 to 9840 \n"
     ]
    },
    {
     "name": "stderr",
     "output_type": "stream",
     "text": [
      "[Parallel(n_jobs=48)]: Done 104 tasks      | elapsed:    5.8s\n",
      "[Parallel(n_jobs=48)]: Done 240 out of 240 | elapsed:   13.7s finished\n"
     ]
    },
    {
     "name": "stdout",
     "output_type": "stream",
     "text": [
      "New Batch started : 9841 to 10080 \n"
     ]
    },
    {
     "name": "stderr",
     "output_type": "stream",
     "text": [
      "[Parallel(n_jobs=48)]: Done 104 tasks      | elapsed:    6.0s\n",
      "[Parallel(n_jobs=48)]: Done 240 out of 240 | elapsed:   13.7s finished\n"
     ]
    },
    {
     "name": "stdout",
     "output_type": "stream",
     "text": [
      "New Batch started : 10081 to 10320 \n"
     ]
    },
    {
     "name": "stderr",
     "output_type": "stream",
     "text": [
      "[Parallel(n_jobs=48)]: Done 104 tasks      | elapsed:    6.0s\n",
      "[Parallel(n_jobs=48)]: Done 240 out of 240 | elapsed:   13.9s finished\n"
     ]
    },
    {
     "name": "stdout",
     "output_type": "stream",
     "text": [
      "New Batch started : 10321 to 10560 \n"
     ]
    },
    {
     "name": "stderr",
     "output_type": "stream",
     "text": [
      "[Parallel(n_jobs=48)]: Done 104 tasks      | elapsed:    5.7s\n",
      "[Parallel(n_jobs=48)]: Done 240 out of 240 | elapsed:   13.9s finished\n"
     ]
    },
    {
     "name": "stdout",
     "output_type": "stream",
     "text": [
      "New Batch started : 10561 to 10691 \n"
     ]
    },
    {
     "name": "stderr",
     "output_type": "stream",
     "text": [
      "[Parallel(n_jobs=48)]: Done 131 out of 131 | elapsed:    7.6s finished\n"
     ]
    },
    {
     "name": "stdout",
     "output_type": "stream",
     "text": [
      "Loading test file #7 - dict_jobID_Xtest_Ytest_213820_224510_FROM_giga_takeoutdf_w_jobgroup.pickle\n",
      "Loaded test file #10691\n",
      "New Batch started : 1 to 240 \n"
     ]
    },
    {
     "name": "stderr",
     "output_type": "stream",
     "text": [
      "[Parallel(n_jobs=48)]: Done 104 tasks      | elapsed:    6.3s\n",
      "[Parallel(n_jobs=48)]: Done 240 out of 240 | elapsed:   14.4s finished\n"
     ]
    },
    {
     "name": "stdout",
     "output_type": "stream",
     "text": [
      "New Batch started : 241 to 480 \n"
     ]
    },
    {
     "name": "stderr",
     "output_type": "stream",
     "text": [
      "[Parallel(n_jobs=48)]: Done 104 tasks      | elapsed:    5.8s\n",
      "[Parallel(n_jobs=48)]: Done 240 out of 240 | elapsed:   13.6s finished\n"
     ]
    },
    {
     "name": "stdout",
     "output_type": "stream",
     "text": [
      "New Batch started : 481 to 720 \n"
     ]
    },
    {
     "name": "stderr",
     "output_type": "stream",
     "text": [
      "[Parallel(n_jobs=48)]: Done 104 tasks      | elapsed:    5.9s\n",
      "[Parallel(n_jobs=48)]: Done 240 out of 240 | elapsed:   14.0s finished\n"
     ]
    },
    {
     "name": "stdout",
     "output_type": "stream",
     "text": [
      "New Batch started : 721 to 960 \n"
     ]
    },
    {
     "name": "stderr",
     "output_type": "stream",
     "text": [
      "[Parallel(n_jobs=48)]: Done 104 tasks      | elapsed:    5.9s\n",
      "[Parallel(n_jobs=48)]: Done 240 out of 240 | elapsed:   13.3s finished\n"
     ]
    },
    {
     "name": "stdout",
     "output_type": "stream",
     "text": [
      "New Batch started : 961 to 1200 \n"
     ]
    },
    {
     "name": "stderr",
     "output_type": "stream",
     "text": [
      "[Parallel(n_jobs=48)]: Done 104 tasks      | elapsed:    5.8s\n",
      "[Parallel(n_jobs=48)]: Done 240 out of 240 | elapsed:   13.4s finished\n"
     ]
    },
    {
     "name": "stdout",
     "output_type": "stream",
     "text": [
      "New Batch started : 1201 to 1440 \n"
     ]
    },
    {
     "name": "stderr",
     "output_type": "stream",
     "text": [
      "[Parallel(n_jobs=48)]: Done 104 tasks      | elapsed:    6.2s\n",
      "[Parallel(n_jobs=48)]: Done 240 out of 240 | elapsed:   14.0s finished\n"
     ]
    },
    {
     "name": "stdout",
     "output_type": "stream",
     "text": [
      "New Batch started : 1441 to 1680 \n"
     ]
    },
    {
     "name": "stderr",
     "output_type": "stream",
     "text": [
      "[Parallel(n_jobs=48)]: Done 104 tasks      | elapsed:    5.9s\n",
      "[Parallel(n_jobs=48)]: Done 240 out of 240 | elapsed:   13.8s finished\n"
     ]
    },
    {
     "name": "stdout",
     "output_type": "stream",
     "text": [
      "New Batch started : 1681 to 1920 \n"
     ]
    },
    {
     "name": "stderr",
     "output_type": "stream",
     "text": [
      "[Parallel(n_jobs=48)]: Done 104 tasks      | elapsed:    5.8s\n",
      "[Parallel(n_jobs=48)]: Done 240 out of 240 | elapsed:   13.4s finished\n"
     ]
    },
    {
     "name": "stdout",
     "output_type": "stream",
     "text": [
      "New Batch started : 1921 to 2160 \n"
     ]
    },
    {
     "name": "stderr",
     "output_type": "stream",
     "text": [
      "[Parallel(n_jobs=48)]: Done 104 tasks      | elapsed:    5.9s\n",
      "[Parallel(n_jobs=48)]: Done 240 out of 240 | elapsed:   13.6s finished\n"
     ]
    },
    {
     "name": "stdout",
     "output_type": "stream",
     "text": [
      "New Batch started : 2161 to 2400 \n"
     ]
    },
    {
     "name": "stderr",
     "output_type": "stream",
     "text": [
      "[Parallel(n_jobs=48)]: Done 104 tasks      | elapsed:    5.8s\n",
      "[Parallel(n_jobs=48)]: Done 240 out of 240 | elapsed:   13.4s finished\n"
     ]
    },
    {
     "name": "stdout",
     "output_type": "stream",
     "text": [
      "New Batch started : 2401 to 2640 \n"
     ]
    },
    {
     "name": "stderr",
     "output_type": "stream",
     "text": [
      "[Parallel(n_jobs=48)]: Done 104 tasks      | elapsed:    6.2s\n",
      "[Parallel(n_jobs=48)]: Done 240 out of 240 | elapsed:   14.0s finished\n"
     ]
    },
    {
     "name": "stdout",
     "output_type": "stream",
     "text": [
      "New Batch started : 2641 to 2880 \n"
     ]
    },
    {
     "name": "stderr",
     "output_type": "stream",
     "text": [
      "[Parallel(n_jobs=48)]: Done 104 tasks      | elapsed:    6.1s\n",
      "[Parallel(n_jobs=48)]: Done 240 out of 240 | elapsed:   13.8s finished\n"
     ]
    },
    {
     "name": "stdout",
     "output_type": "stream",
     "text": [
      "New Batch started : 2881 to 3120 \n"
     ]
    },
    {
     "name": "stderr",
     "output_type": "stream",
     "text": [
      "[Parallel(n_jobs=48)]: Done 104 tasks      | elapsed:    5.9s\n",
      "[Parallel(n_jobs=48)]: Done 240 out of 240 | elapsed:   13.2s finished\n"
     ]
    },
    {
     "name": "stdout",
     "output_type": "stream",
     "text": [
      "New Batch started : 3121 to 3360 \n"
     ]
    },
    {
     "name": "stderr",
     "output_type": "stream",
     "text": [
      "[Parallel(n_jobs=48)]: Done 104 tasks      | elapsed:    6.0s\n",
      "[Parallel(n_jobs=48)]: Done 240 out of 240 | elapsed:   13.7s finished\n"
     ]
    },
    {
     "name": "stdout",
     "output_type": "stream",
     "text": [
      "New Batch started : 3361 to 3600 \n"
     ]
    },
    {
     "name": "stderr",
     "output_type": "stream",
     "text": [
      "[Parallel(n_jobs=48)]: Done 104 tasks      | elapsed:    6.2s\n",
      "[Parallel(n_jobs=48)]: Done 240 out of 240 | elapsed:   13.6s finished\n"
     ]
    },
    {
     "name": "stdout",
     "output_type": "stream",
     "text": [
      "New Batch started : 3601 to 3840 \n"
     ]
    },
    {
     "name": "stderr",
     "output_type": "stream",
     "text": [
      "[Parallel(n_jobs=48)]: Done 104 tasks      | elapsed:    5.9s\n",
      "[Parallel(n_jobs=48)]: Done 240 out of 240 | elapsed:   13.3s finished\n"
     ]
    },
    {
     "name": "stdout",
     "output_type": "stream",
     "text": [
      "New Batch started : 3841 to 4080 \n"
     ]
    },
    {
     "name": "stderr",
     "output_type": "stream",
     "text": [
      "[Parallel(n_jobs=48)]: Done 104 tasks      | elapsed:    5.8s\n",
      "[Parallel(n_jobs=48)]: Done 240 out of 240 | elapsed:   13.6s finished\n"
     ]
    },
    {
     "name": "stdout",
     "output_type": "stream",
     "text": [
      "New Batch started : 4081 to 4320 \n"
     ]
    },
    {
     "name": "stderr",
     "output_type": "stream",
     "text": [
      "[Parallel(n_jobs=48)]: Done 104 tasks      | elapsed:    5.8s\n",
      "[Parallel(n_jobs=48)]: Done 240 out of 240 | elapsed:   13.4s finished\n"
     ]
    },
    {
     "name": "stdout",
     "output_type": "stream",
     "text": [
      "New Batch started : 4321 to 4560 \n"
     ]
    },
    {
     "name": "stderr",
     "output_type": "stream",
     "text": [
      "[Parallel(n_jobs=48)]: Done 104 tasks      | elapsed:    5.8s\n",
      "[Parallel(n_jobs=48)]: Done 240 out of 240 | elapsed:   13.8s finished\n"
     ]
    },
    {
     "name": "stdout",
     "output_type": "stream",
     "text": [
      "New Batch started : 4561 to 4800 \n"
     ]
    },
    {
     "name": "stderr",
     "output_type": "stream",
     "text": [
      "[Parallel(n_jobs=48)]: Done 104 tasks      | elapsed:    5.7s\n",
      "[Parallel(n_jobs=48)]: Done 240 out of 240 | elapsed:   13.4s finished\n"
     ]
    },
    {
     "name": "stdout",
     "output_type": "stream",
     "text": [
      "New Batch started : 4801 to 5040 \n"
     ]
    },
    {
     "name": "stderr",
     "output_type": "stream",
     "text": [
      "[Parallel(n_jobs=48)]: Done 104 tasks      | elapsed:    5.6s\n",
      "[Parallel(n_jobs=48)]: Done 240 out of 240 | elapsed:   13.5s finished\n"
     ]
    },
    {
     "name": "stdout",
     "output_type": "stream",
     "text": [
      "New Batch started : 5041 to 5280 \n"
     ]
    },
    {
     "name": "stderr",
     "output_type": "stream",
     "text": [
      "[Parallel(n_jobs=48)]: Done 104 tasks      | elapsed:    5.9s\n",
      "[Parallel(n_jobs=48)]: Done 240 out of 240 | elapsed:   13.9s finished\n"
     ]
    },
    {
     "name": "stdout",
     "output_type": "stream",
     "text": [
      "New Batch started : 5281 to 5520 \n"
     ]
    },
    {
     "name": "stderr",
     "output_type": "stream",
     "text": [
      "[Parallel(n_jobs=48)]: Done 104 tasks      | elapsed:    5.8s\n",
      "[Parallel(n_jobs=48)]: Done 240 out of 240 | elapsed:   13.6s finished\n"
     ]
    },
    {
     "name": "stdout",
     "output_type": "stream",
     "text": [
      "New Batch started : 5521 to 5760 \n"
     ]
    },
    {
     "name": "stderr",
     "output_type": "stream",
     "text": [
      "[Parallel(n_jobs=48)]: Done 104 tasks      | elapsed:    6.0s\n",
      "[Parallel(n_jobs=48)]: Done 240 out of 240 | elapsed:   13.8s finished\n"
     ]
    },
    {
     "name": "stdout",
     "output_type": "stream",
     "text": [
      "New Batch started : 5761 to 6000 \n"
     ]
    },
    {
     "name": "stderr",
     "output_type": "stream",
     "text": [
      "[Parallel(n_jobs=48)]: Done 104 tasks      | elapsed:    5.8s\n",
      "[Parallel(n_jobs=48)]: Done 240 out of 240 | elapsed:   13.7s finished\n"
     ]
    },
    {
     "name": "stdout",
     "output_type": "stream",
     "text": [
      "New Batch started : 6001 to 6240 \n"
     ]
    },
    {
     "name": "stderr",
     "output_type": "stream",
     "text": [
      "[Parallel(n_jobs=48)]: Done 104 tasks      | elapsed:    5.8s\n",
      "[Parallel(n_jobs=48)]: Done 240 out of 240 | elapsed:   13.5s finished\n"
     ]
    },
    {
     "name": "stdout",
     "output_type": "stream",
     "text": [
      "New Batch started : 6241 to 6480 \n"
     ]
    },
    {
     "name": "stderr",
     "output_type": "stream",
     "text": [
      "[Parallel(n_jobs=48)]: Done 104 tasks      | elapsed:    6.1s\n",
      "[Parallel(n_jobs=48)]: Done 240 out of 240 | elapsed:   14.0s finished\n"
     ]
    },
    {
     "name": "stdout",
     "output_type": "stream",
     "text": [
      "New Batch started : 6481 to 6720 \n"
     ]
    },
    {
     "name": "stderr",
     "output_type": "stream",
     "text": [
      "[Parallel(n_jobs=48)]: Done 104 tasks      | elapsed:    6.2s\n",
      "[Parallel(n_jobs=48)]: Done 240 out of 240 | elapsed:   13.9s finished\n"
     ]
    },
    {
     "name": "stdout",
     "output_type": "stream",
     "text": [
      "New Batch started : 6721 to 6960 \n"
     ]
    },
    {
     "name": "stderr",
     "output_type": "stream",
     "text": [
      "[Parallel(n_jobs=48)]: Done 104 tasks      | elapsed:    6.0s\n",
      "[Parallel(n_jobs=48)]: Done 240 out of 240 | elapsed:   13.8s finished\n"
     ]
    },
    {
     "name": "stdout",
     "output_type": "stream",
     "text": [
      "New Batch started : 6961 to 7200 \n"
     ]
    },
    {
     "name": "stderr",
     "output_type": "stream",
     "text": [
      "[Parallel(n_jobs=48)]: Done 104 tasks      | elapsed:    5.9s\n",
      "[Parallel(n_jobs=48)]: Done 240 out of 240 | elapsed:   13.6s finished\n"
     ]
    },
    {
     "name": "stdout",
     "output_type": "stream",
     "text": [
      "New Batch started : 7201 to 7440 \n"
     ]
    },
    {
     "name": "stderr",
     "output_type": "stream",
     "text": [
      "[Parallel(n_jobs=48)]: Done 104 tasks      | elapsed:    6.2s\n",
      "[Parallel(n_jobs=48)]: Done 240 out of 240 | elapsed:   14.3s finished\n"
     ]
    },
    {
     "name": "stdout",
     "output_type": "stream",
     "text": [
      "New Batch started : 7441 to 7680 \n"
     ]
    },
    {
     "name": "stderr",
     "output_type": "stream",
     "text": [
      "[Parallel(n_jobs=48)]: Done 104 tasks      | elapsed:    6.1s\n",
      "[Parallel(n_jobs=48)]: Done 240 out of 240 | elapsed:   14.2s finished\n"
     ]
    },
    {
     "name": "stdout",
     "output_type": "stream",
     "text": [
      "New Batch started : 7681 to 7920 \n"
     ]
    },
    {
     "name": "stderr",
     "output_type": "stream",
     "text": [
      "[Parallel(n_jobs=48)]: Done 104 tasks      | elapsed:    5.9s\n",
      "[Parallel(n_jobs=48)]: Done 240 out of 240 | elapsed:   13.4s finished\n"
     ]
    },
    {
     "name": "stdout",
     "output_type": "stream",
     "text": [
      "New Batch started : 7921 to 8160 \n"
     ]
    },
    {
     "name": "stderr",
     "output_type": "stream",
     "text": [
      "[Parallel(n_jobs=48)]: Done 104 tasks      | elapsed:    6.1s\n",
      "[Parallel(n_jobs=48)]: Done 240 out of 240 | elapsed:   13.6s finished\n"
     ]
    },
    {
     "name": "stdout",
     "output_type": "stream",
     "text": [
      "New Batch started : 8161 to 8400 \n"
     ]
    },
    {
     "name": "stderr",
     "output_type": "stream",
     "text": [
      "[Parallel(n_jobs=48)]: Done 104 tasks      | elapsed:    6.1s\n",
      "[Parallel(n_jobs=48)]: Done 240 out of 240 | elapsed:   14.0s finished\n"
     ]
    },
    {
     "name": "stdout",
     "output_type": "stream",
     "text": [
      "New Batch started : 8401 to 8640 \n"
     ]
    },
    {
     "name": "stderr",
     "output_type": "stream",
     "text": [
      "[Parallel(n_jobs=48)]: Done 104 tasks      | elapsed:    5.9s\n",
      "[Parallel(n_jobs=48)]: Done 240 out of 240 | elapsed:   13.4s finished\n"
     ]
    },
    {
     "name": "stdout",
     "output_type": "stream",
     "text": [
      "New Batch started : 8641 to 8880 \n"
     ]
    },
    {
     "name": "stderr",
     "output_type": "stream",
     "text": [
      "[Parallel(n_jobs=48)]: Done 104 tasks      | elapsed:    6.0s\n",
      "[Parallel(n_jobs=48)]: Done 240 out of 240 | elapsed:   13.9s finished\n"
     ]
    },
    {
     "name": "stdout",
     "output_type": "stream",
     "text": [
      "New Batch started : 8881 to 9120 \n"
     ]
    },
    {
     "name": "stderr",
     "output_type": "stream",
     "text": [
      "[Parallel(n_jobs=48)]: Done 104 tasks      | elapsed:    6.2s\n",
      "[Parallel(n_jobs=48)]: Done 240 out of 240 | elapsed:   14.2s finished\n"
     ]
    },
    {
     "name": "stdout",
     "output_type": "stream",
     "text": [
      "New Batch started : 9121 to 9360 \n"
     ]
    },
    {
     "name": "stderr",
     "output_type": "stream",
     "text": [
      "[Parallel(n_jobs=48)]: Done 104 tasks      | elapsed:    6.1s\n",
      "[Parallel(n_jobs=48)]: Done 240 out of 240 | elapsed:   13.9s finished\n"
     ]
    },
    {
     "name": "stdout",
     "output_type": "stream",
     "text": [
      "New Batch started : 9361 to 9600 \n"
     ]
    },
    {
     "name": "stderr",
     "output_type": "stream",
     "text": [
      "[Parallel(n_jobs=48)]: Done 104 tasks      | elapsed:    6.4s\n",
      "[Parallel(n_jobs=48)]: Done 240 out of 240 | elapsed:   14.0s finished\n"
     ]
    },
    {
     "name": "stdout",
     "output_type": "stream",
     "text": [
      "New Batch started : 9601 to 9840 \n"
     ]
    },
    {
     "name": "stderr",
     "output_type": "stream",
     "text": [
      "[Parallel(n_jobs=48)]: Done 104 tasks      | elapsed:    6.1s\n",
      "[Parallel(n_jobs=48)]: Done 240 out of 240 | elapsed:   13.8s finished\n"
     ]
    },
    {
     "name": "stdout",
     "output_type": "stream",
     "text": [
      "New Batch started : 9841 to 10080 \n"
     ]
    },
    {
     "name": "stderr",
     "output_type": "stream",
     "text": [
      "[Parallel(n_jobs=48)]: Done 104 tasks      | elapsed:    5.9s\n",
      "[Parallel(n_jobs=48)]: Done 240 out of 240 | elapsed:   13.5s finished\n"
     ]
    },
    {
     "name": "stdout",
     "output_type": "stream",
     "text": [
      "New Batch started : 10081 to 10320 \n"
     ]
    },
    {
     "name": "stderr",
     "output_type": "stream",
     "text": [
      "[Parallel(n_jobs=48)]: Done 104 tasks      | elapsed:    6.2s\n",
      "[Parallel(n_jobs=48)]: Done 240 out of 240 | elapsed:   13.9s finished\n"
     ]
    },
    {
     "name": "stdout",
     "output_type": "stream",
     "text": [
      "New Batch started : 10321 to 10560 \n"
     ]
    },
    {
     "name": "stderr",
     "output_type": "stream",
     "text": [
      "[Parallel(n_jobs=48)]: Done 104 tasks      | elapsed:    5.9s\n",
      "[Parallel(n_jobs=48)]: Done 240 out of 240 | elapsed:   13.9s finished\n"
     ]
    },
    {
     "name": "stdout",
     "output_type": "stream",
     "text": [
      "New Batch started : 10561 to 10691 \n"
     ]
    },
    {
     "name": "stderr",
     "output_type": "stream",
     "text": [
      "[Parallel(n_jobs=48)]: Done 131 out of 131 | elapsed:    7.5s finished\n"
     ]
    },
    {
     "name": "stdout",
     "output_type": "stream",
     "text": [
      "Loading test file #8 - dict_jobID_Xtest_Ytest_224511_235201_FROM_giga_takeoutdf_w_jobgroup.pickle\n",
      "Loaded test file #10691\n",
      "New Batch started : 1 to 240 \n"
     ]
    },
    {
     "name": "stderr",
     "output_type": "stream",
     "text": [
      "[Parallel(n_jobs=48)]: Done 104 tasks      | elapsed:    6.1s\n",
      "[Parallel(n_jobs=48)]: Done 240 out of 240 | elapsed:   14.0s finished\n"
     ]
    },
    {
     "name": "stdout",
     "output_type": "stream",
     "text": [
      "New Batch started : 241 to 480 \n"
     ]
    },
    {
     "name": "stderr",
     "output_type": "stream",
     "text": [
      "[Parallel(n_jobs=48)]: Done 104 tasks      | elapsed:    6.2s\n",
      "[Parallel(n_jobs=48)]: Done 240 out of 240 | elapsed:   14.0s finished\n"
     ]
    },
    {
     "name": "stdout",
     "output_type": "stream",
     "text": [
      "New Batch started : 481 to 720 \n"
     ]
    },
    {
     "name": "stderr",
     "output_type": "stream",
     "text": [
      "[Parallel(n_jobs=48)]: Done 104 tasks      | elapsed:    6.5s\n",
      "[Parallel(n_jobs=48)]: Done 240 out of 240 | elapsed:   14.7s finished\n"
     ]
    },
    {
     "name": "stdout",
     "output_type": "stream",
     "text": [
      "New Batch started : 721 to 960 \n"
     ]
    },
    {
     "name": "stderr",
     "output_type": "stream",
     "text": [
      "[Parallel(n_jobs=48)]: Done 104 tasks      | elapsed:    6.1s\n",
      "[Parallel(n_jobs=48)]: Done 240 out of 240 | elapsed:   14.0s finished\n"
     ]
    },
    {
     "name": "stdout",
     "output_type": "stream",
     "text": [
      "New Batch started : 961 to 1200 \n"
     ]
    },
    {
     "name": "stderr",
     "output_type": "stream",
     "text": [
      "[Parallel(n_jobs=48)]: Done 104 tasks      | elapsed:    6.3s\n",
      "[Parallel(n_jobs=48)]: Done 240 out of 240 | elapsed:   14.2s finished\n"
     ]
    },
    {
     "name": "stdout",
     "output_type": "stream",
     "text": [
      "New Batch started : 1201 to 1440 \n"
     ]
    },
    {
     "name": "stderr",
     "output_type": "stream",
     "text": [
      "[Parallel(n_jobs=48)]: Done 104 tasks      | elapsed:    6.0s\n",
      "[Parallel(n_jobs=48)]: Done 240 out of 240 | elapsed:   13.5s finished\n"
     ]
    },
    {
     "name": "stdout",
     "output_type": "stream",
     "text": [
      "New Batch started : 1441 to 1680 \n"
     ]
    },
    {
     "name": "stderr",
     "output_type": "stream",
     "text": [
      "[Parallel(n_jobs=48)]: Done 104 tasks      | elapsed:    6.0s\n",
      "[Parallel(n_jobs=48)]: Done 240 out of 240 | elapsed:   14.4s finished\n"
     ]
    },
    {
     "name": "stdout",
     "output_type": "stream",
     "text": [
      "New Batch started : 1681 to 1920 \n"
     ]
    },
    {
     "name": "stderr",
     "output_type": "stream",
     "text": [
      "[Parallel(n_jobs=48)]: Done 104 tasks      | elapsed:    6.2s\n",
      "[Parallel(n_jobs=48)]: Done 240 out of 240 | elapsed:   13.9s finished\n"
     ]
    },
    {
     "name": "stdout",
     "output_type": "stream",
     "text": [
      "New Batch started : 1921 to 2160 \n"
     ]
    },
    {
     "name": "stderr",
     "output_type": "stream",
     "text": [
      "[Parallel(n_jobs=48)]: Done 104 tasks      | elapsed:    6.1s\n",
      "[Parallel(n_jobs=48)]: Done 240 out of 240 | elapsed:   13.9s finished\n"
     ]
    },
    {
     "name": "stdout",
     "output_type": "stream",
     "text": [
      "New Batch started : 2161 to 2400 \n"
     ]
    },
    {
     "name": "stderr",
     "output_type": "stream",
     "text": [
      "[Parallel(n_jobs=48)]: Done 104 tasks      | elapsed:    6.0s\n",
      "[Parallel(n_jobs=48)]: Done 240 out of 240 | elapsed:   13.6s finished\n"
     ]
    },
    {
     "name": "stdout",
     "output_type": "stream",
     "text": [
      "New Batch started : 2401 to 2640 \n"
     ]
    },
    {
     "name": "stderr",
     "output_type": "stream",
     "text": [
      "[Parallel(n_jobs=48)]: Done 104 tasks      | elapsed:    6.2s\n",
      "[Parallel(n_jobs=48)]: Done 240 out of 240 | elapsed:   14.3s finished\n"
     ]
    },
    {
     "name": "stdout",
     "output_type": "stream",
     "text": [
      "New Batch started : 2641 to 2880 \n"
     ]
    },
    {
     "name": "stderr",
     "output_type": "stream",
     "text": [
      "[Parallel(n_jobs=48)]: Done 104 tasks      | elapsed:    6.0s\n",
      "[Parallel(n_jobs=48)]: Done 240 out of 240 | elapsed:   14.4s finished\n"
     ]
    },
    {
     "name": "stdout",
     "output_type": "stream",
     "text": [
      "New Batch started : 2881 to 3120 \n"
     ]
    },
    {
     "name": "stderr",
     "output_type": "stream",
     "text": [
      "[Parallel(n_jobs=48)]: Done 104 tasks      | elapsed:    6.1s\n",
      "[Parallel(n_jobs=48)]: Done 240 out of 240 | elapsed:   14.1s finished\n"
     ]
    },
    {
     "name": "stdout",
     "output_type": "stream",
     "text": [
      "New Batch started : 3121 to 3360 \n"
     ]
    },
    {
     "name": "stderr",
     "output_type": "stream",
     "text": [
      "[Parallel(n_jobs=48)]: Done 104 tasks      | elapsed:    6.3s\n",
      "[Parallel(n_jobs=48)]: Done 240 out of 240 | elapsed:   14.5s finished\n"
     ]
    },
    {
     "name": "stdout",
     "output_type": "stream",
     "text": [
      "New Batch started : 3361 to 3600 \n"
     ]
    },
    {
     "name": "stderr",
     "output_type": "stream",
     "text": [
      "[Parallel(n_jobs=48)]: Done 104 tasks      | elapsed:    6.1s\n",
      "[Parallel(n_jobs=48)]: Done 240 out of 240 | elapsed:   14.5s finished\n"
     ]
    },
    {
     "name": "stdout",
     "output_type": "stream",
     "text": [
      "New Batch started : 3601 to 3840 \n"
     ]
    },
    {
     "name": "stderr",
     "output_type": "stream",
     "text": [
      "[Parallel(n_jobs=48)]: Done 104 tasks      | elapsed:    6.1s\n",
      "[Parallel(n_jobs=48)]: Done 240 out of 240 | elapsed:   14.6s finished\n"
     ]
    },
    {
     "name": "stdout",
     "output_type": "stream",
     "text": [
      "New Batch started : 3841 to 4080 \n"
     ]
    },
    {
     "name": "stderr",
     "output_type": "stream",
     "text": [
      "[Parallel(n_jobs=48)]: Done 104 tasks      | elapsed:    6.0s\n",
      "[Parallel(n_jobs=48)]: Done 240 out of 240 | elapsed:   13.9s finished\n"
     ]
    },
    {
     "name": "stdout",
     "output_type": "stream",
     "text": [
      "New Batch started : 4081 to 4320 \n"
     ]
    },
    {
     "name": "stderr",
     "output_type": "stream",
     "text": [
      "[Parallel(n_jobs=48)]: Done 104 tasks      | elapsed:    6.2s\n",
      "[Parallel(n_jobs=48)]: Done 240 out of 240 | elapsed:   14.4s finished\n"
     ]
    },
    {
     "name": "stdout",
     "output_type": "stream",
     "text": [
      "New Batch started : 4321 to 4560 \n"
     ]
    },
    {
     "name": "stderr",
     "output_type": "stream",
     "text": [
      "[Parallel(n_jobs=48)]: Done 104 tasks      | elapsed:    6.3s\n",
      "[Parallel(n_jobs=48)]: Done 240 out of 240 | elapsed:   14.1s finished\n"
     ]
    },
    {
     "name": "stdout",
     "output_type": "stream",
     "text": [
      "New Batch started : 4561 to 4800 \n"
     ]
    },
    {
     "name": "stderr",
     "output_type": "stream",
     "text": [
      "[Parallel(n_jobs=48)]: Done 104 tasks      | elapsed:    6.1s\n",
      "[Parallel(n_jobs=48)]: Done 240 out of 240 | elapsed:   14.4s finished\n"
     ]
    },
    {
     "name": "stdout",
     "output_type": "stream",
     "text": [
      "New Batch started : 4801 to 5040 \n"
     ]
    },
    {
     "name": "stderr",
     "output_type": "stream",
     "text": [
      "[Parallel(n_jobs=48)]: Done 104 tasks      | elapsed:    6.2s\n",
      "[Parallel(n_jobs=48)]: Done 240 out of 240 | elapsed:   14.1s finished\n"
     ]
    },
    {
     "name": "stdout",
     "output_type": "stream",
     "text": [
      "New Batch started : 5041 to 5280 \n"
     ]
    },
    {
     "name": "stderr",
     "output_type": "stream",
     "text": [
      "[Parallel(n_jobs=48)]: Done 104 tasks      | elapsed:    5.9s\n",
      "[Parallel(n_jobs=48)]: Done 240 out of 240 | elapsed:   14.2s finished\n"
     ]
    },
    {
     "name": "stdout",
     "output_type": "stream",
     "text": [
      "New Batch started : 5281 to 5520 \n"
     ]
    },
    {
     "name": "stderr",
     "output_type": "stream",
     "text": [
      "[Parallel(n_jobs=48)]: Done 104 tasks      | elapsed:    6.2s\n",
      "[Parallel(n_jobs=48)]: Done 240 out of 240 | elapsed:   14.6s finished\n"
     ]
    },
    {
     "name": "stdout",
     "output_type": "stream",
     "text": [
      "New Batch started : 5521 to 5760 \n"
     ]
    },
    {
     "name": "stderr",
     "output_type": "stream",
     "text": [
      "[Parallel(n_jobs=48)]: Done 104 tasks      | elapsed:    6.3s\n",
      "[Parallel(n_jobs=48)]: Done 240 out of 240 | elapsed:   14.4s finished\n"
     ]
    },
    {
     "name": "stdout",
     "output_type": "stream",
     "text": [
      "New Batch started : 5761 to 6000 \n"
     ]
    },
    {
     "name": "stderr",
     "output_type": "stream",
     "text": [
      "[Parallel(n_jobs=48)]: Done 104 tasks      | elapsed:    5.9s\n",
      "[Parallel(n_jobs=48)]: Done 240 out of 240 | elapsed:   13.6s finished\n"
     ]
    },
    {
     "name": "stdout",
     "output_type": "stream",
     "text": [
      "New Batch started : 6001 to 6240 \n"
     ]
    },
    {
     "name": "stderr",
     "output_type": "stream",
     "text": [
      "[Parallel(n_jobs=48)]: Done 104 tasks      | elapsed:    6.3s\n",
      "[Parallel(n_jobs=48)]: Done 240 out of 240 | elapsed:   14.1s finished\n"
     ]
    },
    {
     "name": "stdout",
     "output_type": "stream",
     "text": [
      "New Batch started : 6241 to 6480 \n"
     ]
    },
    {
     "name": "stderr",
     "output_type": "stream",
     "text": [
      "[Parallel(n_jobs=48)]: Done 104 tasks      | elapsed:    6.1s\n",
      "[Parallel(n_jobs=48)]: Done 240 out of 240 | elapsed:   14.0s finished\n"
     ]
    },
    {
     "name": "stdout",
     "output_type": "stream",
     "text": [
      "New Batch started : 6481 to 6720 \n"
     ]
    },
    {
     "name": "stderr",
     "output_type": "stream",
     "text": [
      "[Parallel(n_jobs=48)]: Done 104 tasks      | elapsed:    6.2s\n",
      "[Parallel(n_jobs=48)]: Done 240 out of 240 | elapsed:   14.4s finished\n"
     ]
    },
    {
     "name": "stdout",
     "output_type": "stream",
     "text": [
      "New Batch started : 6721 to 6960 \n"
     ]
    },
    {
     "name": "stderr",
     "output_type": "stream",
     "text": [
      "[Parallel(n_jobs=48)]: Done 104 tasks      | elapsed:    6.3s\n",
      "[Parallel(n_jobs=48)]: Done 240 out of 240 | elapsed:   14.5s finished\n"
     ]
    },
    {
     "name": "stdout",
     "output_type": "stream",
     "text": [
      "New Batch started : 6961 to 7200 \n"
     ]
    },
    {
     "name": "stderr",
     "output_type": "stream",
     "text": [
      "[Parallel(n_jobs=48)]: Done 104 tasks      | elapsed:    6.1s\n",
      "[Parallel(n_jobs=48)]: Done 240 out of 240 | elapsed:   14.3s finished\n"
     ]
    },
    {
     "name": "stdout",
     "output_type": "stream",
     "text": [
      "New Batch started : 7201 to 7440 \n"
     ]
    },
    {
     "name": "stderr",
     "output_type": "stream",
     "text": [
      "[Parallel(n_jobs=48)]: Done 104 tasks      | elapsed:    6.0s\n",
      "[Parallel(n_jobs=48)]: Done 240 out of 240 | elapsed:   14.3s finished\n"
     ]
    },
    {
     "name": "stdout",
     "output_type": "stream",
     "text": [
      "New Batch started : 7441 to 7680 \n"
     ]
    },
    {
     "name": "stderr",
     "output_type": "stream",
     "text": [
      "[Parallel(n_jobs=48)]: Done 104 tasks      | elapsed:    6.3s\n",
      "[Parallel(n_jobs=48)]: Done 240 out of 240 | elapsed:   14.8s finished\n"
     ]
    },
    {
     "name": "stdout",
     "output_type": "stream",
     "text": [
      "New Batch started : 7681 to 7920 \n"
     ]
    },
    {
     "name": "stderr",
     "output_type": "stream",
     "text": [
      "[Parallel(n_jobs=48)]: Done 104 tasks      | elapsed:    6.4s\n",
      "[Parallel(n_jobs=48)]: Done 240 out of 240 | elapsed:   14.3s finished\n"
     ]
    },
    {
     "name": "stdout",
     "output_type": "stream",
     "text": [
      "New Batch started : 7921 to 8160 \n"
     ]
    },
    {
     "name": "stderr",
     "output_type": "stream",
     "text": [
      "[Parallel(n_jobs=48)]: Done 104 tasks      | elapsed:    5.9s\n",
      "[Parallel(n_jobs=48)]: Done 240 out of 240 | elapsed:   14.4s finished\n"
     ]
    },
    {
     "name": "stdout",
     "output_type": "stream",
     "text": [
      "New Batch started : 8161 to 8400 \n"
     ]
    },
    {
     "name": "stderr",
     "output_type": "stream",
     "text": [
      "[Parallel(n_jobs=48)]: Done 104 tasks      | elapsed:    6.8s\n",
      "[Parallel(n_jobs=48)]: Done 240 out of 240 | elapsed:   14.8s finished\n"
     ]
    },
    {
     "name": "stdout",
     "output_type": "stream",
     "text": [
      "New Batch started : 8401 to 8640 \n"
     ]
    },
    {
     "name": "stderr",
     "output_type": "stream",
     "text": [
      "[Parallel(n_jobs=48)]: Done 104 tasks      | elapsed:    6.0s\n",
      "[Parallel(n_jobs=48)]: Done 240 out of 240 | elapsed:   14.1s finished\n"
     ]
    },
    {
     "name": "stdout",
     "output_type": "stream",
     "text": [
      "New Batch started : 8641 to 8880 \n"
     ]
    },
    {
     "name": "stderr",
     "output_type": "stream",
     "text": [
      "[Parallel(n_jobs=48)]: Done 104 tasks      | elapsed:    6.2s\n",
      "[Parallel(n_jobs=48)]: Done 240 out of 240 | elapsed:   14.5s finished\n"
     ]
    },
    {
     "name": "stdout",
     "output_type": "stream",
     "text": [
      "New Batch started : 8881 to 9120 \n"
     ]
    },
    {
     "name": "stderr",
     "output_type": "stream",
     "text": [
      "[Parallel(n_jobs=48)]: Done 104 tasks      | elapsed:    6.1s\n",
      "[Parallel(n_jobs=48)]: Done 240 out of 240 | elapsed:   14.2s finished\n"
     ]
    },
    {
     "name": "stdout",
     "output_type": "stream",
     "text": [
      "New Batch started : 9121 to 9360 \n"
     ]
    },
    {
     "name": "stderr",
     "output_type": "stream",
     "text": [
      "[Parallel(n_jobs=48)]: Done 104 tasks      | elapsed:    6.2s\n",
      "[Parallel(n_jobs=48)]: Done 240 out of 240 | elapsed:   14.5s finished\n"
     ]
    },
    {
     "name": "stdout",
     "output_type": "stream",
     "text": [
      "New Batch started : 9361 to 9600 \n"
     ]
    },
    {
     "name": "stderr",
     "output_type": "stream",
     "text": [
      "[Parallel(n_jobs=48)]: Done 104 tasks      | elapsed:    6.5s\n",
      "[Parallel(n_jobs=48)]: Done 240 out of 240 | elapsed:   15.1s finished\n"
     ]
    },
    {
     "name": "stdout",
     "output_type": "stream",
     "text": [
      "New Batch started : 9601 to 9840 \n"
     ]
    },
    {
     "name": "stderr",
     "output_type": "stream",
     "text": [
      "[Parallel(n_jobs=48)]: Done 104 tasks      | elapsed:    5.9s\n",
      "[Parallel(n_jobs=48)]: Done 240 out of 240 | elapsed:   13.9s finished\n"
     ]
    },
    {
     "name": "stdout",
     "output_type": "stream",
     "text": [
      "New Batch started : 9841 to 10080 \n"
     ]
    },
    {
     "name": "stderr",
     "output_type": "stream",
     "text": [
      "[Parallel(n_jobs=48)]: Done 104 tasks      | elapsed:    6.1s\n",
      "[Parallel(n_jobs=48)]: Done 240 out of 240 | elapsed:   14.5s finished\n"
     ]
    },
    {
     "name": "stdout",
     "output_type": "stream",
     "text": [
      "New Batch started : 10081 to 10320 \n"
     ]
    },
    {
     "name": "stderr",
     "output_type": "stream",
     "text": [
      "[Parallel(n_jobs=48)]: Done 104 tasks      | elapsed:    6.1s\n",
      "[Parallel(n_jobs=48)]: Done 240 out of 240 | elapsed:   14.3s finished\n"
     ]
    },
    {
     "name": "stdout",
     "output_type": "stream",
     "text": [
      "New Batch started : 10321 to 10560 \n"
     ]
    },
    {
     "name": "stderr",
     "output_type": "stream",
     "text": [
      "[Parallel(n_jobs=48)]: Done 104 tasks      | elapsed:    6.2s\n",
      "[Parallel(n_jobs=48)]: Done 240 out of 240 | elapsed:   14.0s finished\n"
     ]
    },
    {
     "name": "stdout",
     "output_type": "stream",
     "text": [
      "New Batch started : 10561 to 10691 \n"
     ]
    },
    {
     "name": "stderr",
     "output_type": "stream",
     "text": [
      "[Parallel(n_jobs=48)]: Done 131 out of 131 | elapsed:    8.2s finished\n"
     ]
    },
    {
     "name": "stdout",
     "output_type": "stream",
     "text": [
      "Loading test file #9 - dict_jobID_Xtest_Ytest_235202_245892_FROM_giga_takeoutdf_w_jobgroup.pickle\n",
      "Loaded test file #10691\n",
      "New Batch started : 1 to 240 \n"
     ]
    },
    {
     "name": "stderr",
     "output_type": "stream",
     "text": [
      "[Parallel(n_jobs=48)]: Done 104 tasks      | elapsed:    5.9s\n",
      "[Parallel(n_jobs=48)]: Done 240 out of 240 | elapsed:   13.9s finished\n"
     ]
    },
    {
     "name": "stdout",
     "output_type": "stream",
     "text": [
      "New Batch started : 241 to 480 \n"
     ]
    },
    {
     "name": "stderr",
     "output_type": "stream",
     "text": [
      "[Parallel(n_jobs=48)]: Done 104 tasks      | elapsed:    6.0s\n",
      "[Parallel(n_jobs=48)]: Done 240 out of 240 | elapsed:   13.5s finished\n"
     ]
    },
    {
     "name": "stdout",
     "output_type": "stream",
     "text": [
      "New Batch started : 481 to 720 \n"
     ]
    },
    {
     "name": "stderr",
     "output_type": "stream",
     "text": [
      "[Parallel(n_jobs=48)]: Done 104 tasks      | elapsed:    5.7s\n",
      "[Parallel(n_jobs=48)]: Done 240 out of 240 | elapsed:   13.4s finished\n"
     ]
    },
    {
     "name": "stdout",
     "output_type": "stream",
     "text": [
      "New Batch started : 721 to 960 \n"
     ]
    },
    {
     "name": "stderr",
     "output_type": "stream",
     "text": [
      "[Parallel(n_jobs=48)]: Done 104 tasks      | elapsed:    6.0s\n",
      "[Parallel(n_jobs=48)]: Done 240 out of 240 | elapsed:   13.7s finished\n"
     ]
    },
    {
     "name": "stdout",
     "output_type": "stream",
     "text": [
      "New Batch started : 961 to 1200 \n"
     ]
    },
    {
     "name": "stderr",
     "output_type": "stream",
     "text": [
      "[Parallel(n_jobs=48)]: Done 104 tasks      | elapsed:    5.7s\n",
      "[Parallel(n_jobs=48)]: Done 240 out of 240 | elapsed:   13.1s finished\n"
     ]
    },
    {
     "name": "stdout",
     "output_type": "stream",
     "text": [
      "New Batch started : 1201 to 1440 \n"
     ]
    },
    {
     "name": "stderr",
     "output_type": "stream",
     "text": [
      "[Parallel(n_jobs=48)]: Done 104 tasks      | elapsed:    6.1s\n",
      "[Parallel(n_jobs=48)]: Done 240 out of 240 | elapsed:   13.8s finished\n"
     ]
    },
    {
     "name": "stdout",
     "output_type": "stream",
     "text": [
      "New Batch started : 1441 to 1680 \n"
     ]
    },
    {
     "name": "stderr",
     "output_type": "stream",
     "text": [
      "[Parallel(n_jobs=48)]: Done 104 tasks      | elapsed:    5.8s\n",
      "[Parallel(n_jobs=48)]: Done 240 out of 240 | elapsed:   13.5s finished\n"
     ]
    },
    {
     "name": "stdout",
     "output_type": "stream",
     "text": [
      "New Batch started : 1681 to 1920 \n"
     ]
    },
    {
     "name": "stderr",
     "output_type": "stream",
     "text": [
      "[Parallel(n_jobs=48)]: Done 104 tasks      | elapsed:    5.7s\n",
      "[Parallel(n_jobs=48)]: Done 240 out of 240 | elapsed:   13.3s finished\n"
     ]
    },
    {
     "name": "stdout",
     "output_type": "stream",
     "text": [
      "New Batch started : 1921 to 2160 \n"
     ]
    },
    {
     "name": "stderr",
     "output_type": "stream",
     "text": [
      "[Parallel(n_jobs=48)]: Done 104 tasks      | elapsed:    5.8s\n",
      "[Parallel(n_jobs=48)]: Done 240 out of 240 | elapsed:   13.2s finished\n"
     ]
    },
    {
     "name": "stdout",
     "output_type": "stream",
     "text": [
      "New Batch started : 2161 to 2400 \n"
     ]
    },
    {
     "name": "stderr",
     "output_type": "stream",
     "text": [
      "[Parallel(n_jobs=48)]: Done 104 tasks      | elapsed:    5.9s\n",
      "[Parallel(n_jobs=48)]: Done 240 out of 240 | elapsed:   13.3s finished\n"
     ]
    },
    {
     "name": "stdout",
     "output_type": "stream",
     "text": [
      "New Batch started : 2401 to 2640 \n"
     ]
    },
    {
     "name": "stderr",
     "output_type": "stream",
     "text": [
      "[Parallel(n_jobs=48)]: Done 104 tasks      | elapsed:    5.9s\n",
      "[Parallel(n_jobs=48)]: Done 240 out of 240 | elapsed:   13.5s finished\n"
     ]
    },
    {
     "name": "stdout",
     "output_type": "stream",
     "text": [
      "New Batch started : 2641 to 2880 \n"
     ]
    },
    {
     "name": "stderr",
     "output_type": "stream",
     "text": [
      "[Parallel(n_jobs=48)]: Done 104 tasks      | elapsed:    5.6s\n",
      "[Parallel(n_jobs=48)]: Done 240 out of 240 | elapsed:   13.3s finished\n"
     ]
    },
    {
     "name": "stdout",
     "output_type": "stream",
     "text": [
      "New Batch started : 2881 to 3120 \n"
     ]
    },
    {
     "name": "stderr",
     "output_type": "stream",
     "text": [
      "[Parallel(n_jobs=48)]: Done 104 tasks      | elapsed:    5.9s\n",
      "[Parallel(n_jobs=48)]: Done 240 out of 240 | elapsed:   13.4s finished\n"
     ]
    },
    {
     "name": "stdout",
     "output_type": "stream",
     "text": [
      "New Batch started : 3121 to 3360 \n"
     ]
    },
    {
     "name": "stderr",
     "output_type": "stream",
     "text": [
      "[Parallel(n_jobs=48)]: Done 104 tasks      | elapsed:    5.7s\n",
      "[Parallel(n_jobs=48)]: Done 240 out of 240 | elapsed:   13.1s finished\n"
     ]
    },
    {
     "name": "stdout",
     "output_type": "stream",
     "text": [
      "New Batch started : 3361 to 3600 \n"
     ]
    },
    {
     "name": "stderr",
     "output_type": "stream",
     "text": [
      "[Parallel(n_jobs=48)]: Done 104 tasks      | elapsed:    6.1s\n",
      "[Parallel(n_jobs=48)]: Done 240 out of 240 | elapsed:   13.8s finished\n"
     ]
    },
    {
     "name": "stdout",
     "output_type": "stream",
     "text": [
      "New Batch started : 3601 to 3840 \n"
     ]
    },
    {
     "name": "stderr",
     "output_type": "stream",
     "text": [
      "[Parallel(n_jobs=48)]: Done 104 tasks      | elapsed:    5.6s\n",
      "[Parallel(n_jobs=48)]: Done 240 out of 240 | elapsed:   12.9s finished\n"
     ]
    },
    {
     "name": "stdout",
     "output_type": "stream",
     "text": [
      "New Batch started : 3841 to 4080 \n"
     ]
    },
    {
     "name": "stderr",
     "output_type": "stream",
     "text": [
      "[Parallel(n_jobs=48)]: Done 104 tasks      | elapsed:    5.8s\n",
      "[Parallel(n_jobs=48)]: Done 240 out of 240 | elapsed:   13.1s finished\n"
     ]
    },
    {
     "name": "stdout",
     "output_type": "stream",
     "text": [
      "New Batch started : 4081 to 4320 \n"
     ]
    },
    {
     "name": "stderr",
     "output_type": "stream",
     "text": [
      "[Parallel(n_jobs=48)]: Done 104 tasks      | elapsed:    6.3s\n",
      "[Parallel(n_jobs=48)]: Done 240 out of 240 | elapsed:   14.0s finished\n"
     ]
    },
    {
     "name": "stdout",
     "output_type": "stream",
     "text": [
      "New Batch started : 4321 to 4560 \n"
     ]
    },
    {
     "name": "stderr",
     "output_type": "stream",
     "text": [
      "[Parallel(n_jobs=48)]: Done 104 tasks      | elapsed:    5.8s\n",
      "[Parallel(n_jobs=48)]: Done 240 out of 240 | elapsed:   13.6s finished\n"
     ]
    },
    {
     "name": "stdout",
     "output_type": "stream",
     "text": [
      "New Batch started : 4561 to 4800 \n"
     ]
    },
    {
     "name": "stderr",
     "output_type": "stream",
     "text": [
      "[Parallel(n_jobs=48)]: Done 104 tasks      | elapsed:    5.7s\n",
      "[Parallel(n_jobs=48)]: Done 240 out of 240 | elapsed:   13.4s finished\n"
     ]
    },
    {
     "name": "stdout",
     "output_type": "stream",
     "text": [
      "New Batch started : 4801 to 5040 \n"
     ]
    },
    {
     "name": "stderr",
     "output_type": "stream",
     "text": [
      "[Parallel(n_jobs=48)]: Done 104 tasks      | elapsed:    5.8s\n",
      "[Parallel(n_jobs=48)]: Done 240 out of 240 | elapsed:   13.5s finished\n"
     ]
    },
    {
     "name": "stdout",
     "output_type": "stream",
     "text": [
      "New Batch started : 5041 to 5280 \n"
     ]
    },
    {
     "name": "stderr",
     "output_type": "stream",
     "text": [
      "[Parallel(n_jobs=48)]: Done 104 tasks      | elapsed:    5.7s\n",
      "[Parallel(n_jobs=48)]: Done 240 out of 240 | elapsed:   13.2s finished\n"
     ]
    },
    {
     "name": "stdout",
     "output_type": "stream",
     "text": [
      "New Batch started : 5281 to 5520 \n"
     ]
    },
    {
     "name": "stderr",
     "output_type": "stream",
     "text": [
      "[Parallel(n_jobs=48)]: Done 104 tasks      | elapsed:    5.8s\n",
      "[Parallel(n_jobs=48)]: Done 240 out of 240 | elapsed:   13.3s finished\n"
     ]
    },
    {
     "name": "stdout",
     "output_type": "stream",
     "text": [
      "New Batch started : 5521 to 5760 \n"
     ]
    },
    {
     "name": "stderr",
     "output_type": "stream",
     "text": [
      "[Parallel(n_jobs=48)]: Done 104 tasks      | elapsed:    5.7s\n",
      "[Parallel(n_jobs=48)]: Done 240 out of 240 | elapsed:   13.4s finished\n"
     ]
    },
    {
     "name": "stdout",
     "output_type": "stream",
     "text": [
      "New Batch started : 5761 to 6000 \n"
     ]
    },
    {
     "name": "stderr",
     "output_type": "stream",
     "text": [
      "[Parallel(n_jobs=48)]: Done 104 tasks      | elapsed:    6.0s\n",
      "[Parallel(n_jobs=48)]: Done 240 out of 240 | elapsed:   13.5s finished\n"
     ]
    },
    {
     "name": "stdout",
     "output_type": "stream",
     "text": [
      "New Batch started : 6001 to 6240 \n"
     ]
    },
    {
     "name": "stderr",
     "output_type": "stream",
     "text": [
      "[Parallel(n_jobs=48)]: Done 104 tasks      | elapsed:    5.8s\n",
      "[Parallel(n_jobs=48)]: Done 240 out of 240 | elapsed:   13.3s finished\n"
     ]
    },
    {
     "name": "stdout",
     "output_type": "stream",
     "text": [
      "New Batch started : 6241 to 6480 \n"
     ]
    },
    {
     "name": "stderr",
     "output_type": "stream",
     "text": [
      "[Parallel(n_jobs=48)]: Done 104 tasks      | elapsed:    6.1s\n",
      "[Parallel(n_jobs=48)]: Done 240 out of 240 | elapsed:   13.8s finished\n"
     ]
    },
    {
     "name": "stdout",
     "output_type": "stream",
     "text": [
      "New Batch started : 6481 to 6720 \n"
     ]
    },
    {
     "name": "stderr",
     "output_type": "stream",
     "text": [
      "[Parallel(n_jobs=48)]: Done 104 tasks      | elapsed:    5.8s\n",
      "[Parallel(n_jobs=48)]: Done 240 out of 240 | elapsed:   13.6s finished\n"
     ]
    },
    {
     "name": "stdout",
     "output_type": "stream",
     "text": [
      "New Batch started : 6721 to 6960 \n"
     ]
    },
    {
     "name": "stderr",
     "output_type": "stream",
     "text": [
      "[Parallel(n_jobs=48)]: Done 104 tasks      | elapsed:    5.9s\n",
      "[Parallel(n_jobs=48)]: Done 240 out of 240 | elapsed:   13.4s finished\n"
     ]
    },
    {
     "name": "stdout",
     "output_type": "stream",
     "text": [
      "New Batch started : 6961 to 7200 \n"
     ]
    },
    {
     "name": "stderr",
     "output_type": "stream",
     "text": [
      "[Parallel(n_jobs=48)]: Done 104 tasks      | elapsed:    6.0s\n",
      "[Parallel(n_jobs=48)]: Done 240 out of 240 | elapsed:   13.8s finished\n"
     ]
    },
    {
     "name": "stdout",
     "output_type": "stream",
     "text": [
      "New Batch started : 7201 to 7440 \n"
     ]
    },
    {
     "name": "stderr",
     "output_type": "stream",
     "text": [
      "[Parallel(n_jobs=48)]: Done 104 tasks      | elapsed:    5.7s\n",
      "[Parallel(n_jobs=48)]: Done 240 out of 240 | elapsed:   13.3s finished\n"
     ]
    },
    {
     "name": "stdout",
     "output_type": "stream",
     "text": [
      "New Batch started : 7441 to 7680 \n"
     ]
    },
    {
     "name": "stderr",
     "output_type": "stream",
     "text": [
      "[Parallel(n_jobs=48)]: Done 104 tasks      | elapsed:    6.0s\n",
      "[Parallel(n_jobs=48)]: Done 240 out of 240 | elapsed:   13.7s finished\n"
     ]
    },
    {
     "name": "stdout",
     "output_type": "stream",
     "text": [
      "New Batch started : 7681 to 7920 \n"
     ]
    },
    {
     "name": "stderr",
     "output_type": "stream",
     "text": [
      "[Parallel(n_jobs=48)]: Done 104 tasks      | elapsed:    6.0s\n",
      "[Parallel(n_jobs=48)]: Done 240 out of 240 | elapsed:   13.8s finished\n"
     ]
    },
    {
     "name": "stdout",
     "output_type": "stream",
     "text": [
      "New Batch started : 7921 to 8160 \n"
     ]
    },
    {
     "name": "stderr",
     "output_type": "stream",
     "text": [
      "[Parallel(n_jobs=48)]: Done 104 tasks      | elapsed:    6.1s\n",
      "[Parallel(n_jobs=48)]: Done 240 out of 240 | elapsed:   13.9s finished\n"
     ]
    },
    {
     "name": "stdout",
     "output_type": "stream",
     "text": [
      "New Batch started : 8161 to 8400 \n"
     ]
    },
    {
     "name": "stderr",
     "output_type": "stream",
     "text": [
      "[Parallel(n_jobs=48)]: Done 104 tasks      | elapsed:    5.9s\n",
      "[Parallel(n_jobs=48)]: Done 240 out of 240 | elapsed:   13.6s finished\n"
     ]
    },
    {
     "name": "stdout",
     "output_type": "stream",
     "text": [
      "New Batch started : 8401 to 8640 \n"
     ]
    },
    {
     "name": "stderr",
     "output_type": "stream",
     "text": [
      "[Parallel(n_jobs=48)]: Done 104 tasks      | elapsed:    5.6s\n",
      "[Parallel(n_jobs=48)]: Done 240 out of 240 | elapsed:   13.4s finished\n"
     ]
    },
    {
     "name": "stdout",
     "output_type": "stream",
     "text": [
      "New Batch started : 8641 to 8880 \n"
     ]
    },
    {
     "name": "stderr",
     "output_type": "stream",
     "text": [
      "[Parallel(n_jobs=48)]: Done 104 tasks      | elapsed:    5.9s\n",
      "[Parallel(n_jobs=48)]: Done 240 out of 240 | elapsed:   13.2s finished\n"
     ]
    },
    {
     "name": "stdout",
     "output_type": "stream",
     "text": [
      "New Batch started : 8881 to 9120 \n"
     ]
    },
    {
     "name": "stderr",
     "output_type": "stream",
     "text": [
      "[Parallel(n_jobs=48)]: Done 104 tasks      | elapsed:    5.9s\n",
      "[Parallel(n_jobs=48)]: Done 240 out of 240 | elapsed:   13.6s finished\n"
     ]
    },
    {
     "name": "stdout",
     "output_type": "stream",
     "text": [
      "New Batch started : 9121 to 9360 \n"
     ]
    },
    {
     "name": "stderr",
     "output_type": "stream",
     "text": [
      "[Parallel(n_jobs=48)]: Done 104 tasks      | elapsed:    5.8s\n",
      "[Parallel(n_jobs=48)]: Done 240 out of 240 | elapsed:   13.6s finished\n"
     ]
    },
    {
     "name": "stdout",
     "output_type": "stream",
     "text": [
      "New Batch started : 9361 to 9600 \n"
     ]
    },
    {
     "name": "stderr",
     "output_type": "stream",
     "text": [
      "[Parallel(n_jobs=48)]: Done 104 tasks      | elapsed:    6.0s\n",
      "[Parallel(n_jobs=48)]: Done 240 out of 240 | elapsed:   13.7s finished\n"
     ]
    },
    {
     "name": "stdout",
     "output_type": "stream",
     "text": [
      "New Batch started : 9601 to 9840 \n"
     ]
    },
    {
     "name": "stderr",
     "output_type": "stream",
     "text": [
      "[Parallel(n_jobs=48)]: Done 104 tasks      | elapsed:    5.8s\n",
      "[Parallel(n_jobs=48)]: Done 240 out of 240 | elapsed:   13.7s finished\n"
     ]
    },
    {
     "name": "stdout",
     "output_type": "stream",
     "text": [
      "New Batch started : 9841 to 10080 \n"
     ]
    },
    {
     "name": "stderr",
     "output_type": "stream",
     "text": [
      "[Parallel(n_jobs=48)]: Done 104 tasks      | elapsed:    5.9s\n",
      "[Parallel(n_jobs=48)]: Done 240 out of 240 | elapsed:   13.5s finished\n"
     ]
    },
    {
     "name": "stdout",
     "output_type": "stream",
     "text": [
      "New Batch started : 10081 to 10320 \n"
     ]
    },
    {
     "name": "stderr",
     "output_type": "stream",
     "text": [
      "[Parallel(n_jobs=48)]: Done 104 tasks      | elapsed:    5.9s\n",
      "[Parallel(n_jobs=48)]: Done 240 out of 240 | elapsed:   13.4s finished\n"
     ]
    },
    {
     "name": "stdout",
     "output_type": "stream",
     "text": [
      "New Batch started : 10321 to 10560 \n"
     ]
    },
    {
     "name": "stderr",
     "output_type": "stream",
     "text": [
      "[Parallel(n_jobs=48)]: Done 104 tasks      | elapsed:    6.0s\n",
      "[Parallel(n_jobs=48)]: Done 240 out of 240 | elapsed:   13.6s finished\n"
     ]
    },
    {
     "name": "stdout",
     "output_type": "stream",
     "text": [
      "New Batch started : 10561 to 10691 \n"
     ]
    },
    {
     "name": "stderr",
     "output_type": "stream",
     "text": [
      "[Parallel(n_jobs=48)]: Done 131 out of 131 | elapsed:    7.2s finished\n"
     ]
    },
    {
     "name": "stdout",
     "output_type": "stream",
     "text": [
      "Loading test file #10 - dict_jobID_Xtest_Ytest_245893_256583_FROM_giga_takeoutdf_w_jobgroup.pickle\n",
      "Loaded test file #10691\n",
      "New Batch started : 1 to 240 \n"
     ]
    },
    {
     "name": "stderr",
     "output_type": "stream",
     "text": [
      "[Parallel(n_jobs=48)]: Done 104 tasks      | elapsed:    6.2s\n",
      "[Parallel(n_jobs=48)]: Done 240 out of 240 | elapsed:   13.8s finished\n"
     ]
    },
    {
     "name": "stdout",
     "output_type": "stream",
     "text": [
      "New Batch started : 241 to 480 \n"
     ]
    },
    {
     "name": "stderr",
     "output_type": "stream",
     "text": [
      "[Parallel(n_jobs=48)]: Done 104 tasks      | elapsed:    5.9s\n",
      "[Parallel(n_jobs=48)]: Done 240 out of 240 | elapsed:   13.7s finished\n"
     ]
    },
    {
     "name": "stdout",
     "output_type": "stream",
     "text": [
      "New Batch started : 481 to 720 \n"
     ]
    },
    {
     "name": "stderr",
     "output_type": "stream",
     "text": [
      "[Parallel(n_jobs=48)]: Done 104 tasks      | elapsed:    5.9s\n",
      "[Parallel(n_jobs=48)]: Done 240 out of 240 | elapsed:   13.9s finished\n"
     ]
    },
    {
     "name": "stdout",
     "output_type": "stream",
     "text": [
      "New Batch started : 721 to 960 \n"
     ]
    },
    {
     "name": "stderr",
     "output_type": "stream",
     "text": [
      "[Parallel(n_jobs=48)]: Done 104 tasks      | elapsed:    6.1s\n",
      "[Parallel(n_jobs=48)]: Done 240 out of 240 | elapsed:   13.9s finished\n"
     ]
    },
    {
     "name": "stdout",
     "output_type": "stream",
     "text": [
      "New Batch started : 961 to 1200 \n"
     ]
    },
    {
     "name": "stderr",
     "output_type": "stream",
     "text": [
      "[Parallel(n_jobs=48)]: Done 104 tasks      | elapsed:    5.9s\n",
      "[Parallel(n_jobs=48)]: Done 240 out of 240 | elapsed:   13.8s finished\n"
     ]
    },
    {
     "name": "stdout",
     "output_type": "stream",
     "text": [
      "New Batch started : 1201 to 1440 \n"
     ]
    },
    {
     "name": "stderr",
     "output_type": "stream",
     "text": [
      "[Parallel(n_jobs=48)]: Done 104 tasks      | elapsed:    6.0s\n",
      "[Parallel(n_jobs=48)]: Done 240 out of 240 | elapsed:   14.2s finished\n"
     ]
    },
    {
     "name": "stdout",
     "output_type": "stream",
     "text": [
      "New Batch started : 1441 to 1680 \n"
     ]
    },
    {
     "name": "stderr",
     "output_type": "stream",
     "text": [
      "[Parallel(n_jobs=48)]: Done 104 tasks      | elapsed:    6.0s\n",
      "[Parallel(n_jobs=48)]: Done 240 out of 240 | elapsed:   14.1s finished\n"
     ]
    },
    {
     "name": "stdout",
     "output_type": "stream",
     "text": [
      "New Batch started : 1681 to 1920 \n"
     ]
    },
    {
     "name": "stderr",
     "output_type": "stream",
     "text": [
      "[Parallel(n_jobs=48)]: Done 104 tasks      | elapsed:    6.1s\n",
      "[Parallel(n_jobs=48)]: Done 240 out of 240 | elapsed:   14.4s finished\n"
     ]
    },
    {
     "name": "stdout",
     "output_type": "stream",
     "text": [
      "New Batch started : 1921 to 2160 \n"
     ]
    },
    {
     "name": "stderr",
     "output_type": "stream",
     "text": [
      "[Parallel(n_jobs=48)]: Done 104 tasks      | elapsed:    6.2s\n",
      "[Parallel(n_jobs=48)]: Done 240 out of 240 | elapsed:   14.1s finished\n"
     ]
    },
    {
     "name": "stdout",
     "output_type": "stream",
     "text": [
      "New Batch started : 2161 to 2400 \n"
     ]
    },
    {
     "name": "stderr",
     "output_type": "stream",
     "text": [
      "[Parallel(n_jobs=48)]: Done 104 tasks      | elapsed:    6.1s\n",
      "[Parallel(n_jobs=48)]: Done 240 out of 240 | elapsed:   14.3s finished\n"
     ]
    },
    {
     "name": "stdout",
     "output_type": "stream",
     "text": [
      "New Batch started : 2401 to 2640 \n"
     ]
    },
    {
     "name": "stderr",
     "output_type": "stream",
     "text": [
      "[Parallel(n_jobs=48)]: Done 104 tasks      | elapsed:    6.5s\n",
      "[Parallel(n_jobs=48)]: Done 240 out of 240 | elapsed:   14.7s finished\n"
     ]
    },
    {
     "name": "stdout",
     "output_type": "stream",
     "text": [
      "New Batch started : 2641 to 2880 \n"
     ]
    },
    {
     "name": "stderr",
     "output_type": "stream",
     "text": [
      "[Parallel(n_jobs=48)]: Done 104 tasks      | elapsed:    6.0s\n",
      "[Parallel(n_jobs=48)]: Done 240 out of 240 | elapsed:   14.0s finished\n"
     ]
    },
    {
     "name": "stdout",
     "output_type": "stream",
     "text": [
      "New Batch started : 2881 to 3120 \n"
     ]
    },
    {
     "name": "stderr",
     "output_type": "stream",
     "text": [
      "[Parallel(n_jobs=48)]: Done 104 tasks      | elapsed:    6.0s\n",
      "[Parallel(n_jobs=48)]: Done 240 out of 240 | elapsed:   14.1s finished\n"
     ]
    },
    {
     "name": "stdout",
     "output_type": "stream",
     "text": [
      "New Batch started : 3121 to 3360 \n"
     ]
    },
    {
     "name": "stderr",
     "output_type": "stream",
     "text": [
      "[Parallel(n_jobs=48)]: Done 104 tasks      | elapsed:    5.7s\n",
      "[Parallel(n_jobs=48)]: Done 240 out of 240 | elapsed:   14.2s finished\n"
     ]
    },
    {
     "name": "stdout",
     "output_type": "stream",
     "text": [
      "New Batch started : 3361 to 3600 \n"
     ]
    },
    {
     "name": "stderr",
     "output_type": "stream",
     "text": [
      "[Parallel(n_jobs=48)]: Done 104 tasks      | elapsed:    6.3s\n",
      "[Parallel(n_jobs=48)]: Done 240 out of 240 | elapsed:   14.4s finished\n"
     ]
    },
    {
     "name": "stdout",
     "output_type": "stream",
     "text": [
      "New Batch started : 3601 to 3840 \n"
     ]
    },
    {
     "name": "stderr",
     "output_type": "stream",
     "text": [
      "[Parallel(n_jobs=48)]: Done 104 tasks      | elapsed:    6.4s\n",
      "[Parallel(n_jobs=48)]: Done 240 out of 240 | elapsed:   14.5s finished\n"
     ]
    },
    {
     "name": "stdout",
     "output_type": "stream",
     "text": [
      "New Batch started : 3841 to 4080 \n"
     ]
    },
    {
     "name": "stderr",
     "output_type": "stream",
     "text": [
      "[Parallel(n_jobs=48)]: Done 104 tasks      | elapsed:    6.2s\n",
      "[Parallel(n_jobs=48)]: Done 240 out of 240 | elapsed:   14.3s finished\n"
     ]
    },
    {
     "name": "stdout",
     "output_type": "stream",
     "text": [
      "New Batch started : 4081 to 4320 \n"
     ]
    },
    {
     "name": "stderr",
     "output_type": "stream",
     "text": [
      "[Parallel(n_jobs=48)]: Done 104 tasks      | elapsed:    6.0s\n",
      "[Parallel(n_jobs=48)]: Done 240 out of 240 | elapsed:   13.7s finished\n"
     ]
    },
    {
     "name": "stdout",
     "output_type": "stream",
     "text": [
      "New Batch started : 4321 to 4560 \n"
     ]
    },
    {
     "name": "stderr",
     "output_type": "stream",
     "text": [
      "[Parallel(n_jobs=48)]: Done 104 tasks      | elapsed:    5.8s\n",
      "[Parallel(n_jobs=48)]: Done 240 out of 240 | elapsed:   13.6s finished\n"
     ]
    },
    {
     "name": "stdout",
     "output_type": "stream",
     "text": [
      "New Batch started : 4561 to 4800 \n"
     ]
    },
    {
     "name": "stderr",
     "output_type": "stream",
     "text": [
      "[Parallel(n_jobs=48)]: Done 104 tasks      | elapsed:    5.9s\n",
      "[Parallel(n_jobs=48)]: Done 240 out of 240 | elapsed:   14.4s finished\n"
     ]
    },
    {
     "name": "stdout",
     "output_type": "stream",
     "text": [
      "New Batch started : 4801 to 5040 \n"
     ]
    },
    {
     "name": "stderr",
     "output_type": "stream",
     "text": [
      "[Parallel(n_jobs=48)]: Done 104 tasks      | elapsed:    6.1s\n",
      "[Parallel(n_jobs=48)]: Done 240 out of 240 | elapsed:   14.3s finished\n"
     ]
    },
    {
     "name": "stdout",
     "output_type": "stream",
     "text": [
      "New Batch started : 5041 to 5280 \n"
     ]
    },
    {
     "name": "stderr",
     "output_type": "stream",
     "text": [
      "[Parallel(n_jobs=48)]: Done 104 tasks      | elapsed:    6.3s\n",
      "[Parallel(n_jobs=48)]: Done 240 out of 240 | elapsed:   13.9s finished\n"
     ]
    },
    {
     "name": "stdout",
     "output_type": "stream",
     "text": [
      "New Batch started : 5281 to 5520 \n"
     ]
    },
    {
     "name": "stderr",
     "output_type": "stream",
     "text": [
      "[Parallel(n_jobs=48)]: Done 104 tasks      | elapsed:    5.6s\n",
      "[Parallel(n_jobs=48)]: Done 240 out of 240 | elapsed:   13.3s finished\n"
     ]
    },
    {
     "name": "stdout",
     "output_type": "stream",
     "text": [
      "New Batch started : 5521 to 5760 \n"
     ]
    },
    {
     "name": "stderr",
     "output_type": "stream",
     "text": [
      "[Parallel(n_jobs=48)]: Done 104 tasks      | elapsed:    6.1s\n",
      "[Parallel(n_jobs=48)]: Done 240 out of 240 | elapsed:   14.2s finished\n"
     ]
    },
    {
     "name": "stdout",
     "output_type": "stream",
     "text": [
      "New Batch started : 5761 to 6000 \n"
     ]
    },
    {
     "name": "stderr",
     "output_type": "stream",
     "text": [
      "[Parallel(n_jobs=48)]: Done 104 tasks      | elapsed:    5.9s\n",
      "[Parallel(n_jobs=48)]: Done 240 out of 240 | elapsed:   13.7s finished\n"
     ]
    },
    {
     "name": "stdout",
     "output_type": "stream",
     "text": [
      "New Batch started : 6001 to 6240 \n"
     ]
    },
    {
     "name": "stderr",
     "output_type": "stream",
     "text": [
      "[Parallel(n_jobs=48)]: Done 104 tasks      | elapsed:    6.0s\n",
      "[Parallel(n_jobs=48)]: Done 240 out of 240 | elapsed:   13.8s finished\n"
     ]
    },
    {
     "name": "stdout",
     "output_type": "stream",
     "text": [
      "New Batch started : 6241 to 6480 \n"
     ]
    },
    {
     "name": "stderr",
     "output_type": "stream",
     "text": [
      "[Parallel(n_jobs=48)]: Done 104 tasks      | elapsed:    6.1s\n",
      "[Parallel(n_jobs=48)]: Done 240 out of 240 | elapsed:   14.1s finished\n"
     ]
    },
    {
     "name": "stdout",
     "output_type": "stream",
     "text": [
      "New Batch started : 6481 to 6720 \n"
     ]
    },
    {
     "name": "stderr",
     "output_type": "stream",
     "text": [
      "[Parallel(n_jobs=48)]: Done 104 tasks      | elapsed:    5.8s\n",
      "[Parallel(n_jobs=48)]: Done 240 out of 240 | elapsed:   14.0s finished\n"
     ]
    },
    {
     "name": "stdout",
     "output_type": "stream",
     "text": [
      "New Batch started : 6721 to 6960 \n"
     ]
    },
    {
     "name": "stderr",
     "output_type": "stream",
     "text": [
      "[Parallel(n_jobs=48)]: Done 104 tasks      | elapsed:    6.1s\n",
      "[Parallel(n_jobs=48)]: Done 240 out of 240 | elapsed:   13.9s finished\n"
     ]
    },
    {
     "name": "stdout",
     "output_type": "stream",
     "text": [
      "New Batch started : 6961 to 7200 \n"
     ]
    },
    {
     "name": "stderr",
     "output_type": "stream",
     "text": [
      "[Parallel(n_jobs=48)]: Done 104 tasks      | elapsed:    5.9s\n",
      "[Parallel(n_jobs=48)]: Done 240 out of 240 | elapsed:   14.4s finished\n"
     ]
    },
    {
     "name": "stdout",
     "output_type": "stream",
     "text": [
      "New Batch started : 7201 to 7440 \n"
     ]
    },
    {
     "name": "stderr",
     "output_type": "stream",
     "text": [
      "[Parallel(n_jobs=48)]: Done 104 tasks      | elapsed:    6.3s\n",
      "[Parallel(n_jobs=48)]: Done 240 out of 240 | elapsed:   14.7s finished\n"
     ]
    },
    {
     "name": "stdout",
     "output_type": "stream",
     "text": [
      "New Batch started : 7441 to 7680 \n"
     ]
    },
    {
     "name": "stderr",
     "output_type": "stream",
     "text": [
      "[Parallel(n_jobs=48)]: Done 104 tasks      | elapsed:    6.3s\n",
      "[Parallel(n_jobs=48)]: Done 240 out of 240 | elapsed:   14.7s finished\n"
     ]
    },
    {
     "name": "stdout",
     "output_type": "stream",
     "text": [
      "New Batch started : 7681 to 7920 \n"
     ]
    },
    {
     "name": "stderr",
     "output_type": "stream",
     "text": [
      "[Parallel(n_jobs=48)]: Done 104 tasks      | elapsed:    6.0s\n",
      "[Parallel(n_jobs=48)]: Done 240 out of 240 | elapsed:   13.9s finished\n"
     ]
    },
    {
     "name": "stdout",
     "output_type": "stream",
     "text": [
      "New Batch started : 7921 to 8160 \n"
     ]
    },
    {
     "name": "stderr",
     "output_type": "stream",
     "text": [
      "[Parallel(n_jobs=48)]: Done 104 tasks      | elapsed:    6.0s\n",
      "[Parallel(n_jobs=48)]: Done 240 out of 240 | elapsed:   13.9s finished\n"
     ]
    },
    {
     "name": "stdout",
     "output_type": "stream",
     "text": [
      "New Batch started : 8161 to 8400 \n"
     ]
    },
    {
     "name": "stderr",
     "output_type": "stream",
     "text": [
      "[Parallel(n_jobs=48)]: Done 104 tasks      | elapsed:    6.2s\n",
      "[Parallel(n_jobs=48)]: Done 240 out of 240 | elapsed:   14.2s finished\n"
     ]
    },
    {
     "name": "stdout",
     "output_type": "stream",
     "text": [
      "New Batch started : 8401 to 8640 \n"
     ]
    },
    {
     "name": "stderr",
     "output_type": "stream",
     "text": [
      "[Parallel(n_jobs=48)]: Done 104 tasks      | elapsed:    6.5s\n",
      "[Parallel(n_jobs=48)]: Done 240 out of 240 | elapsed:   14.2s finished\n"
     ]
    },
    {
     "name": "stdout",
     "output_type": "stream",
     "text": [
      "New Batch started : 8641 to 8880 \n"
     ]
    },
    {
     "name": "stderr",
     "output_type": "stream",
     "text": [
      "[Parallel(n_jobs=48)]: Done 104 tasks      | elapsed:    6.2s\n",
      "[Parallel(n_jobs=48)]: Done 240 out of 240 | elapsed:   14.3s finished\n"
     ]
    },
    {
     "name": "stdout",
     "output_type": "stream",
     "text": [
      "New Batch started : 8881 to 9120 \n"
     ]
    },
    {
     "name": "stderr",
     "output_type": "stream",
     "text": [
      "[Parallel(n_jobs=48)]: Done 104 tasks      | elapsed:    6.2s\n",
      "[Parallel(n_jobs=48)]: Done 240 out of 240 | elapsed:   14.1s finished\n"
     ]
    },
    {
     "name": "stdout",
     "output_type": "stream",
     "text": [
      "New Batch started : 9121 to 9360 \n"
     ]
    },
    {
     "name": "stderr",
     "output_type": "stream",
     "text": [
      "[Parallel(n_jobs=48)]: Done 104 tasks      | elapsed:    5.9s\n",
      "[Parallel(n_jobs=48)]: Done 240 out of 240 | elapsed:   14.0s finished\n"
     ]
    },
    {
     "name": "stdout",
     "output_type": "stream",
     "text": [
      "New Batch started : 9361 to 9600 \n"
     ]
    },
    {
     "name": "stderr",
     "output_type": "stream",
     "text": [
      "[Parallel(n_jobs=48)]: Done 104 tasks      | elapsed:    6.1s\n",
      "[Parallel(n_jobs=48)]: Done 240 out of 240 | elapsed:   13.7s finished\n"
     ]
    },
    {
     "name": "stdout",
     "output_type": "stream",
     "text": [
      "New Batch started : 9601 to 9840 \n"
     ]
    },
    {
     "name": "stderr",
     "output_type": "stream",
     "text": [
      "[Parallel(n_jobs=48)]: Done 104 tasks      | elapsed:    6.3s\n",
      "[Parallel(n_jobs=48)]: Done 240 out of 240 | elapsed:   14.3s finished\n"
     ]
    },
    {
     "name": "stdout",
     "output_type": "stream",
     "text": [
      "New Batch started : 9841 to 10080 \n"
     ]
    },
    {
     "name": "stderr",
     "output_type": "stream",
     "text": [
      "[Parallel(n_jobs=48)]: Done 104 tasks      | elapsed:    6.0s\n",
      "[Parallel(n_jobs=48)]: Done 240 out of 240 | elapsed:   14.2s finished\n"
     ]
    },
    {
     "name": "stdout",
     "output_type": "stream",
     "text": [
      "New Batch started : 10081 to 10320 \n"
     ]
    },
    {
     "name": "stderr",
     "output_type": "stream",
     "text": [
      "[Parallel(n_jobs=48)]: Done 104 tasks      | elapsed:    6.0s\n",
      "[Parallel(n_jobs=48)]: Done 240 out of 240 | elapsed:   14.0s finished\n"
     ]
    },
    {
     "name": "stdout",
     "output_type": "stream",
     "text": [
      "New Batch started : 10321 to 10560 \n"
     ]
    },
    {
     "name": "stderr",
     "output_type": "stream",
     "text": [
      "[Parallel(n_jobs=48)]: Done 104 tasks      | elapsed:    6.4s\n",
      "[Parallel(n_jobs=48)]: Done 240 out of 240 | elapsed:   14.3s finished\n"
     ]
    },
    {
     "name": "stdout",
     "output_type": "stream",
     "text": [
      "New Batch started : 10561 to 10691 \n"
     ]
    },
    {
     "name": "stderr",
     "output_type": "stream",
     "text": [
      "[Parallel(n_jobs=48)]: Done 131 out of 131 | elapsed:    7.5s finished\n"
     ]
    },
    {
     "name": "stdout",
     "output_type": "stream",
     "text": [
      "Loading test file #11 - dict_jobID_Xtest_Ytest_256584_267274_FROM_giga_takeoutdf_w_jobgroup.pickle\n",
      "Loaded test file #10691\n",
      "New Batch started : 1 to 240 \n"
     ]
    },
    {
     "name": "stderr",
     "output_type": "stream",
     "text": [
      "[Parallel(n_jobs=48)]: Done 104 tasks      | elapsed:    6.3s\n",
      "[Parallel(n_jobs=48)]: Done 240 out of 240 | elapsed:   14.2s finished\n"
     ]
    },
    {
     "name": "stdout",
     "output_type": "stream",
     "text": [
      "New Batch started : 241 to 480 \n"
     ]
    },
    {
     "name": "stderr",
     "output_type": "stream",
     "text": [
      "[Parallel(n_jobs=48)]: Done 104 tasks      | elapsed:    6.7s\n",
      "[Parallel(n_jobs=48)]: Done 240 out of 240 | elapsed:   14.5s finished\n"
     ]
    },
    {
     "name": "stdout",
     "output_type": "stream",
     "text": [
      "New Batch started : 481 to 720 \n"
     ]
    },
    {
     "name": "stderr",
     "output_type": "stream",
     "text": [
      "[Parallel(n_jobs=48)]: Done 104 tasks      | elapsed:    6.3s\n",
      "[Parallel(n_jobs=48)]: Done 240 out of 240 | elapsed:   14.3s finished\n"
     ]
    },
    {
     "name": "stdout",
     "output_type": "stream",
     "text": [
      "New Batch started : 721 to 960 \n"
     ]
    },
    {
     "name": "stderr",
     "output_type": "stream",
     "text": [
      "[Parallel(n_jobs=48)]: Done 104 tasks      | elapsed:    6.1s\n",
      "[Parallel(n_jobs=48)]: Done 240 out of 240 | elapsed:   14.9s finished\n"
     ]
    },
    {
     "name": "stdout",
     "output_type": "stream",
     "text": [
      "New Batch started : 961 to 1200 \n"
     ]
    },
    {
     "name": "stderr",
     "output_type": "stream",
     "text": [
      "[Parallel(n_jobs=48)]: Done 104 tasks      | elapsed:    6.2s\n",
      "[Parallel(n_jobs=48)]: Done 240 out of 240 | elapsed:   13.9s finished\n"
     ]
    },
    {
     "name": "stdout",
     "output_type": "stream",
     "text": [
      "New Batch started : 1201 to 1440 \n"
     ]
    },
    {
     "name": "stderr",
     "output_type": "stream",
     "text": [
      "[Parallel(n_jobs=48)]: Done 104 tasks      | elapsed:    6.2s\n",
      "[Parallel(n_jobs=48)]: Done 240 out of 240 | elapsed:   13.9s finished\n"
     ]
    },
    {
     "name": "stdout",
     "output_type": "stream",
     "text": [
      "New Batch started : 1441 to 1680 \n"
     ]
    },
    {
     "name": "stderr",
     "output_type": "stream",
     "text": [
      "[Parallel(n_jobs=48)]: Done 104 tasks      | elapsed:    6.0s\n",
      "[Parallel(n_jobs=48)]: Done 240 out of 240 | elapsed:   14.5s finished\n"
     ]
    },
    {
     "name": "stdout",
     "output_type": "stream",
     "text": [
      "New Batch started : 1681 to 1920 \n"
     ]
    },
    {
     "name": "stderr",
     "output_type": "stream",
     "text": [
      "[Parallel(n_jobs=48)]: Done 104 tasks      | elapsed:    6.0s\n",
      "[Parallel(n_jobs=48)]: Done 240 out of 240 | elapsed:   14.7s finished\n"
     ]
    },
    {
     "name": "stdout",
     "output_type": "stream",
     "text": [
      "New Batch started : 1921 to 2160 \n"
     ]
    },
    {
     "name": "stderr",
     "output_type": "stream",
     "text": [
      "[Parallel(n_jobs=48)]: Done 104 tasks      | elapsed:    6.2s\n",
      "[Parallel(n_jobs=48)]: Done 240 out of 240 | elapsed:   14.0s finished\n"
     ]
    },
    {
     "name": "stdout",
     "output_type": "stream",
     "text": [
      "New Batch started : 2161 to 2400 \n"
     ]
    },
    {
     "name": "stderr",
     "output_type": "stream",
     "text": [
      "[Parallel(n_jobs=48)]: Done 104 tasks      | elapsed:    6.1s\n",
      "[Parallel(n_jobs=48)]: Done 240 out of 240 | elapsed:   14.0s finished\n"
     ]
    },
    {
     "name": "stdout",
     "output_type": "stream",
     "text": [
      "New Batch started : 2401 to 2640 \n"
     ]
    },
    {
     "name": "stderr",
     "output_type": "stream",
     "text": [
      "[Parallel(n_jobs=48)]: Done 104 tasks      | elapsed:    6.5s\n",
      "[Parallel(n_jobs=48)]: Done 240 out of 240 | elapsed:   14.3s finished\n"
     ]
    },
    {
     "name": "stdout",
     "output_type": "stream",
     "text": [
      "New Batch started : 2641 to 2880 \n"
     ]
    },
    {
     "name": "stderr",
     "output_type": "stream",
     "text": [
      "[Parallel(n_jobs=48)]: Done 104 tasks      | elapsed:    6.2s\n",
      "[Parallel(n_jobs=48)]: Done 240 out of 240 | elapsed:   13.9s finished\n"
     ]
    },
    {
     "name": "stdout",
     "output_type": "stream",
     "text": [
      "New Batch started : 2881 to 3120 \n"
     ]
    },
    {
     "name": "stderr",
     "output_type": "stream",
     "text": [
      "[Parallel(n_jobs=48)]: Done 104 tasks      | elapsed:    6.4s\n",
      "[Parallel(n_jobs=48)]: Done 240 out of 240 | elapsed:   14.4s finished\n"
     ]
    },
    {
     "name": "stdout",
     "output_type": "stream",
     "text": [
      "New Batch started : 3121 to 3360 \n"
     ]
    },
    {
     "name": "stderr",
     "output_type": "stream",
     "text": [
      "[Parallel(n_jobs=48)]: Done 104 tasks      | elapsed:    6.4s\n",
      "[Parallel(n_jobs=48)]: Done 240 out of 240 | elapsed:   14.5s finished\n"
     ]
    },
    {
     "name": "stdout",
     "output_type": "stream",
     "text": [
      "New Batch started : 3361 to 3600 \n"
     ]
    },
    {
     "name": "stderr",
     "output_type": "stream",
     "text": [
      "[Parallel(n_jobs=48)]: Done 104 tasks      | elapsed:    6.4s\n",
      "[Parallel(n_jobs=48)]: Done 240 out of 240 | elapsed:   15.0s finished\n"
     ]
    },
    {
     "name": "stdout",
     "output_type": "stream",
     "text": [
      "New Batch started : 3601 to 3840 \n"
     ]
    },
    {
     "name": "stderr",
     "output_type": "stream",
     "text": [
      "[Parallel(n_jobs=48)]: Done 104 tasks      | elapsed:    6.5s\n",
      "[Parallel(n_jobs=48)]: Done 240 out of 240 | elapsed:   14.4s finished\n"
     ]
    },
    {
     "name": "stdout",
     "output_type": "stream",
     "text": [
      "New Batch started : 3841 to 4080 \n"
     ]
    },
    {
     "name": "stderr",
     "output_type": "stream",
     "text": [
      "[Parallel(n_jobs=48)]: Done 104 tasks      | elapsed:    6.7s\n",
      "[Parallel(n_jobs=48)]: Done 240 out of 240 | elapsed:   14.4s finished\n"
     ]
    },
    {
     "name": "stdout",
     "output_type": "stream",
     "text": [
      "New Batch started : 4081 to 4320 \n"
     ]
    },
    {
     "name": "stderr",
     "output_type": "stream",
     "text": [
      "[Parallel(n_jobs=48)]: Done 104 tasks      | elapsed:    6.1s\n",
      "[Parallel(n_jobs=48)]: Done 240 out of 240 | elapsed:   14.5s finished\n"
     ]
    },
    {
     "name": "stdout",
     "output_type": "stream",
     "text": [
      "New Batch started : 4321 to 4560 \n"
     ]
    },
    {
     "name": "stderr",
     "output_type": "stream",
     "text": [
      "[Parallel(n_jobs=48)]: Done 104 tasks      | elapsed:    6.3s\n",
      "[Parallel(n_jobs=48)]: Done 240 out of 240 | elapsed:   14.2s finished\n"
     ]
    },
    {
     "name": "stdout",
     "output_type": "stream",
     "text": [
      "New Batch started : 4561 to 4800 \n"
     ]
    },
    {
     "name": "stderr",
     "output_type": "stream",
     "text": [
      "[Parallel(n_jobs=48)]: Done 104 tasks      | elapsed:    6.4s\n",
      "[Parallel(n_jobs=48)]: Done 240 out of 240 | elapsed:   14.9s finished\n"
     ]
    },
    {
     "name": "stdout",
     "output_type": "stream",
     "text": [
      "New Batch started : 4801 to 5040 \n"
     ]
    },
    {
     "name": "stderr",
     "output_type": "stream",
     "text": [
      "[Parallel(n_jobs=48)]: Done 104 tasks      | elapsed:    6.0s\n",
      "[Parallel(n_jobs=48)]: Done 240 out of 240 | elapsed:   13.9s finished\n"
     ]
    },
    {
     "name": "stdout",
     "output_type": "stream",
     "text": [
      "New Batch started : 5041 to 5280 \n"
     ]
    },
    {
     "name": "stderr",
     "output_type": "stream",
     "text": [
      "[Parallel(n_jobs=48)]: Done 104 tasks      | elapsed:    6.0s\n",
      "[Parallel(n_jobs=48)]: Done 240 out of 240 | elapsed:   14.2s finished\n"
     ]
    },
    {
     "name": "stdout",
     "output_type": "stream",
     "text": [
      "New Batch started : 5281 to 5520 \n"
     ]
    },
    {
     "name": "stderr",
     "output_type": "stream",
     "text": [
      "[Parallel(n_jobs=48)]: Done 104 tasks      | elapsed:    6.2s\n",
      "[Parallel(n_jobs=48)]: Done 240 out of 240 | elapsed:   14.3s finished\n"
     ]
    },
    {
     "name": "stdout",
     "output_type": "stream",
     "text": [
      "New Batch started : 5521 to 5760 \n"
     ]
    },
    {
     "name": "stderr",
     "output_type": "stream",
     "text": [
      "[Parallel(n_jobs=48)]: Done 104 tasks      | elapsed:    6.6s\n",
      "[Parallel(n_jobs=48)]: Done 240 out of 240 | elapsed:   14.6s finished\n"
     ]
    },
    {
     "name": "stdout",
     "output_type": "stream",
     "text": [
      "New Batch started : 5761 to 6000 \n"
     ]
    },
    {
     "name": "stderr",
     "output_type": "stream",
     "text": [
      "[Parallel(n_jobs=48)]: Done 104 tasks      | elapsed:    6.3s\n",
      "[Parallel(n_jobs=48)]: Done 240 out of 240 | elapsed:   14.3s finished\n"
     ]
    },
    {
     "name": "stdout",
     "output_type": "stream",
     "text": [
      "New Batch started : 6001 to 6240 \n"
     ]
    },
    {
     "name": "stderr",
     "output_type": "stream",
     "text": [
      "[Parallel(n_jobs=48)]: Done 104 tasks      | elapsed:    5.8s\n",
      "[Parallel(n_jobs=48)]: Done 240 out of 240 | elapsed:   14.1s finished\n"
     ]
    },
    {
     "name": "stdout",
     "output_type": "stream",
     "text": [
      "New Batch started : 6241 to 6480 \n"
     ]
    },
    {
     "name": "stderr",
     "output_type": "stream",
     "text": [
      "[Parallel(n_jobs=48)]: Done 104 tasks      | elapsed:    6.2s\n",
      "[Parallel(n_jobs=48)]: Done 240 out of 240 | elapsed:   14.2s finished\n"
     ]
    },
    {
     "name": "stdout",
     "output_type": "stream",
     "text": [
      "New Batch started : 6481 to 6720 \n"
     ]
    },
    {
     "name": "stderr",
     "output_type": "stream",
     "text": [
      "[Parallel(n_jobs=48)]: Done 104 tasks      | elapsed:    6.0s\n",
      "[Parallel(n_jobs=48)]: Done 240 out of 240 | elapsed:   14.2s finished\n"
     ]
    },
    {
     "name": "stdout",
     "output_type": "stream",
     "text": [
      "New Batch started : 6721 to 6960 \n"
     ]
    },
    {
     "name": "stderr",
     "output_type": "stream",
     "text": [
      "[Parallel(n_jobs=48)]: Done 104 tasks      | elapsed:    6.6s\n",
      "[Parallel(n_jobs=48)]: Done 240 out of 240 | elapsed:   14.1s finished\n"
     ]
    },
    {
     "name": "stdout",
     "output_type": "stream",
     "text": [
      "New Batch started : 6961 to 7200 \n"
     ]
    },
    {
     "name": "stderr",
     "output_type": "stream",
     "text": [
      "[Parallel(n_jobs=48)]: Done 104 tasks      | elapsed:    6.6s\n",
      "[Parallel(n_jobs=48)]: Done 240 out of 240 | elapsed:   15.0s finished\n"
     ]
    },
    {
     "name": "stdout",
     "output_type": "stream",
     "text": [
      "New Batch started : 7201 to 7440 \n"
     ]
    },
    {
     "name": "stderr",
     "output_type": "stream",
     "text": [
      "[Parallel(n_jobs=48)]: Done 104 tasks      | elapsed:    6.5s\n",
      "[Parallel(n_jobs=48)]: Done 240 out of 240 | elapsed:   14.7s finished\n"
     ]
    },
    {
     "name": "stdout",
     "output_type": "stream",
     "text": [
      "New Batch started : 7441 to 7680 \n"
     ]
    },
    {
     "name": "stderr",
     "output_type": "stream",
     "text": [
      "[Parallel(n_jobs=48)]: Done 104 tasks      | elapsed:    5.9s\n",
      "[Parallel(n_jobs=48)]: Done 240 out of 240 | elapsed:   14.2s finished\n"
     ]
    },
    {
     "name": "stdout",
     "output_type": "stream",
     "text": [
      "New Batch started : 7681 to 7920 \n"
     ]
    },
    {
     "name": "stderr",
     "output_type": "stream",
     "text": [
      "[Parallel(n_jobs=48)]: Done 104 tasks      | elapsed:    6.0s\n",
      "[Parallel(n_jobs=48)]: Done 240 out of 240 | elapsed:   14.2s finished\n"
     ]
    },
    {
     "name": "stdout",
     "output_type": "stream",
     "text": [
      "New Batch started : 7921 to 8160 \n"
     ]
    },
    {
     "name": "stderr",
     "output_type": "stream",
     "text": [
      "[Parallel(n_jobs=48)]: Done 104 tasks      | elapsed:    6.2s\n",
      "[Parallel(n_jobs=48)]: Done 240 out of 240 | elapsed:   14.7s finished\n"
     ]
    },
    {
     "name": "stdout",
     "output_type": "stream",
     "text": [
      "New Batch started : 8161 to 8400 \n"
     ]
    },
    {
     "name": "stderr",
     "output_type": "stream",
     "text": [
      "[Parallel(n_jobs=48)]: Done 104 tasks      | elapsed:    6.1s\n",
      "[Parallel(n_jobs=48)]: Done 240 out of 240 | elapsed:   14.0s finished\n"
     ]
    },
    {
     "name": "stdout",
     "output_type": "stream",
     "text": [
      "New Batch started : 8401 to 8640 \n"
     ]
    },
    {
     "name": "stderr",
     "output_type": "stream",
     "text": [
      "[Parallel(n_jobs=48)]: Done 104 tasks      | elapsed:    6.2s\n",
      "[Parallel(n_jobs=48)]: Done 240 out of 240 | elapsed:   14.4s finished\n"
     ]
    },
    {
     "name": "stdout",
     "output_type": "stream",
     "text": [
      "New Batch started : 8641 to 8880 \n"
     ]
    },
    {
     "name": "stderr",
     "output_type": "stream",
     "text": [
      "[Parallel(n_jobs=48)]: Done 104 tasks      | elapsed:    6.1s\n",
      "[Parallel(n_jobs=48)]: Done 240 out of 240 | elapsed:   13.9s finished\n"
     ]
    },
    {
     "name": "stdout",
     "output_type": "stream",
     "text": [
      "New Batch started : 8881 to 9120 \n"
     ]
    },
    {
     "name": "stderr",
     "output_type": "stream",
     "text": [
      "[Parallel(n_jobs=48)]: Done 104 tasks      | elapsed:    6.4s\n",
      "[Parallel(n_jobs=48)]: Done 240 out of 240 | elapsed:   14.8s finished\n"
     ]
    },
    {
     "name": "stdout",
     "output_type": "stream",
     "text": [
      "New Batch started : 9121 to 9360 \n"
     ]
    },
    {
     "name": "stderr",
     "output_type": "stream",
     "text": [
      "[Parallel(n_jobs=48)]: Done 104 tasks      | elapsed:    6.5s\n",
      "[Parallel(n_jobs=48)]: Done 240 out of 240 | elapsed:   14.2s finished\n"
     ]
    },
    {
     "name": "stdout",
     "output_type": "stream",
     "text": [
      "New Batch started : 9361 to 9600 \n"
     ]
    },
    {
     "name": "stderr",
     "output_type": "stream",
     "text": [
      "[Parallel(n_jobs=48)]: Done 104 tasks      | elapsed:    6.5s\n",
      "[Parallel(n_jobs=48)]: Done 240 out of 240 | elapsed:   14.8s finished\n"
     ]
    },
    {
     "name": "stdout",
     "output_type": "stream",
     "text": [
      "New Batch started : 9601 to 9840 \n"
     ]
    },
    {
     "name": "stderr",
     "output_type": "stream",
     "text": [
      "[Parallel(n_jobs=48)]: Done 104 tasks      | elapsed:    6.0s\n",
      "[Parallel(n_jobs=48)]: Done 240 out of 240 | elapsed:   14.1s finished\n"
     ]
    },
    {
     "name": "stdout",
     "output_type": "stream",
     "text": [
      "New Batch started : 9841 to 10080 \n"
     ]
    },
    {
     "name": "stderr",
     "output_type": "stream",
     "text": [
      "[Parallel(n_jobs=48)]: Done 104 tasks      | elapsed:    6.4s\n",
      "[Parallel(n_jobs=48)]: Done 240 out of 240 | elapsed:   15.0s finished\n"
     ]
    },
    {
     "name": "stdout",
     "output_type": "stream",
     "text": [
      "New Batch started : 10081 to 10320 \n"
     ]
    },
    {
     "name": "stderr",
     "output_type": "stream",
     "text": [
      "[Parallel(n_jobs=48)]: Done 104 tasks      | elapsed:    6.4s\n",
      "[Parallel(n_jobs=48)]: Done 240 out of 240 | elapsed:   14.7s finished\n"
     ]
    },
    {
     "name": "stdout",
     "output_type": "stream",
     "text": [
      "New Batch started : 10321 to 10560 \n"
     ]
    },
    {
     "name": "stderr",
     "output_type": "stream",
     "text": [
      "[Parallel(n_jobs=48)]: Done 104 tasks      | elapsed:    6.3s\n",
      "[Parallel(n_jobs=48)]: Done 240 out of 240 | elapsed:   14.9s finished\n"
     ]
    },
    {
     "name": "stdout",
     "output_type": "stream",
     "text": [
      "New Batch started : 10561 to 10691 \n"
     ]
    },
    {
     "name": "stderr",
     "output_type": "stream",
     "text": [
      "[Parallel(n_jobs=48)]: Done 131 out of 131 | elapsed:    8.2s finished\n"
     ]
    },
    {
     "name": "stdout",
     "output_type": "stream",
     "text": [
      "Loading test file #12 - dict_jobID_Xtest_Ytest_267275_277965_FROM_giga_takeoutdf_w_jobgroup.pickle\n",
      "Loaded test file #10691\n",
      "New Batch started : 1 to 240 \n"
     ]
    },
    {
     "name": "stderr",
     "output_type": "stream",
     "text": [
      "[Parallel(n_jobs=48)]: Done 104 tasks      | elapsed:    6.1s\n",
      "[Parallel(n_jobs=48)]: Done 240 out of 240 | elapsed:   14.0s finished\n"
     ]
    },
    {
     "name": "stdout",
     "output_type": "stream",
     "text": [
      "New Batch started : 241 to 480 \n"
     ]
    },
    {
     "name": "stderr",
     "output_type": "stream",
     "text": [
      "[Parallel(n_jobs=48)]: Done 104 tasks      | elapsed:    5.7s\n",
      "[Parallel(n_jobs=48)]: Done 240 out of 240 | elapsed:   13.6s finished\n"
     ]
    },
    {
     "name": "stdout",
     "output_type": "stream",
     "text": [
      "New Batch started : 481 to 720 \n"
     ]
    },
    {
     "name": "stderr",
     "output_type": "stream",
     "text": [
      "[Parallel(n_jobs=48)]: Done 104 tasks      | elapsed:    6.1s\n",
      "[Parallel(n_jobs=48)]: Done 240 out of 240 | elapsed:   13.7s finished\n"
     ]
    },
    {
     "name": "stdout",
     "output_type": "stream",
     "text": [
      "New Batch started : 721 to 960 \n"
     ]
    },
    {
     "name": "stderr",
     "output_type": "stream",
     "text": [
      "[Parallel(n_jobs=48)]: Done 104 tasks      | elapsed:    5.8s\n",
      "[Parallel(n_jobs=48)]: Done 240 out of 240 | elapsed:   13.7s finished\n"
     ]
    },
    {
     "name": "stdout",
     "output_type": "stream",
     "text": [
      "New Batch started : 961 to 1200 \n"
     ]
    },
    {
     "name": "stderr",
     "output_type": "stream",
     "text": [
      "[Parallel(n_jobs=48)]: Done 104 tasks      | elapsed:    5.5s\n",
      "[Parallel(n_jobs=48)]: Done 240 out of 240 | elapsed:   13.6s finished\n"
     ]
    },
    {
     "name": "stdout",
     "output_type": "stream",
     "text": [
      "New Batch started : 1201 to 1440 \n"
     ]
    },
    {
     "name": "stderr",
     "output_type": "stream",
     "text": [
      "[Parallel(n_jobs=48)]: Done 104 tasks      | elapsed:    6.1s\n",
      "[Parallel(n_jobs=48)]: Done 240 out of 240 | elapsed:   14.3s finished\n"
     ]
    },
    {
     "name": "stdout",
     "output_type": "stream",
     "text": [
      "New Batch started : 1441 to 1680 \n"
     ]
    },
    {
     "name": "stderr",
     "output_type": "stream",
     "text": [
      "[Parallel(n_jobs=48)]: Done 104 tasks      | elapsed:    5.8s\n",
      "[Parallel(n_jobs=48)]: Done 240 out of 240 | elapsed:   13.2s finished\n"
     ]
    },
    {
     "name": "stdout",
     "output_type": "stream",
     "text": [
      "New Batch started : 1681 to 1920 \n"
     ]
    },
    {
     "name": "stderr",
     "output_type": "stream",
     "text": [
      "[Parallel(n_jobs=48)]: Done 104 tasks      | elapsed:    5.7s\n",
      "[Parallel(n_jobs=48)]: Done 240 out of 240 | elapsed:   13.6s finished\n"
     ]
    },
    {
     "name": "stdout",
     "output_type": "stream",
     "text": [
      "New Batch started : 1921 to 2160 \n"
     ]
    },
    {
     "name": "stderr",
     "output_type": "stream",
     "text": [
      "[Parallel(n_jobs=48)]: Done 104 tasks      | elapsed:    6.1s\n",
      "[Parallel(n_jobs=48)]: Done 240 out of 240 | elapsed:   13.8s finished\n"
     ]
    },
    {
     "name": "stdout",
     "output_type": "stream",
     "text": [
      "New Batch started : 2161 to 2400 \n"
     ]
    },
    {
     "name": "stderr",
     "output_type": "stream",
     "text": [
      "[Parallel(n_jobs=48)]: Done 104 tasks      | elapsed:    5.7s\n",
      "[Parallel(n_jobs=48)]: Done 240 out of 240 | elapsed:   13.8s finished\n"
     ]
    },
    {
     "name": "stdout",
     "output_type": "stream",
     "text": [
      "New Batch started : 2401 to 2640 \n"
     ]
    },
    {
     "name": "stderr",
     "output_type": "stream",
     "text": [
      "[Parallel(n_jobs=48)]: Done 104 tasks      | elapsed:    5.8s\n",
      "[Parallel(n_jobs=48)]: Done 240 out of 240 | elapsed:   13.7s finished\n"
     ]
    },
    {
     "name": "stdout",
     "output_type": "stream",
     "text": [
      "New Batch started : 2641 to 2880 \n"
     ]
    },
    {
     "name": "stderr",
     "output_type": "stream",
     "text": [
      "[Parallel(n_jobs=48)]: Done 104 tasks      | elapsed:    5.8s\n",
      "[Parallel(n_jobs=48)]: Done 240 out of 240 | elapsed:   13.7s finished\n"
     ]
    },
    {
     "name": "stdout",
     "output_type": "stream",
     "text": [
      "New Batch started : 2881 to 3120 \n"
     ]
    },
    {
     "name": "stderr",
     "output_type": "stream",
     "text": [
      "[Parallel(n_jobs=48)]: Done 104 tasks      | elapsed:    6.2s\n",
      "[Parallel(n_jobs=48)]: Done 240 out of 240 | elapsed:   14.0s finished\n"
     ]
    },
    {
     "name": "stdout",
     "output_type": "stream",
     "text": [
      "New Batch started : 3121 to 3360 \n"
     ]
    },
    {
     "name": "stderr",
     "output_type": "stream",
     "text": [
      "[Parallel(n_jobs=48)]: Done 104 tasks      | elapsed:    5.7s\n",
      "[Parallel(n_jobs=48)]: Done 240 out of 240 | elapsed:   13.6s finished\n"
     ]
    },
    {
     "name": "stdout",
     "output_type": "stream",
     "text": [
      "New Batch started : 3361 to 3600 \n"
     ]
    },
    {
     "name": "stderr",
     "output_type": "stream",
     "text": [
      "[Parallel(n_jobs=48)]: Done 104 tasks      | elapsed:    6.5s\n",
      "[Parallel(n_jobs=48)]: Done 240 out of 240 | elapsed:   14.1s finished\n"
     ]
    },
    {
     "name": "stdout",
     "output_type": "stream",
     "text": [
      "New Batch started : 3601 to 3840 \n"
     ]
    },
    {
     "name": "stderr",
     "output_type": "stream",
     "text": [
      "[Parallel(n_jobs=48)]: Done 104 tasks      | elapsed:    6.1s\n",
      "[Parallel(n_jobs=48)]: Done 240 out of 240 | elapsed:   13.7s finished\n"
     ]
    },
    {
     "name": "stdout",
     "output_type": "stream",
     "text": [
      "New Batch started : 3841 to 4080 \n"
     ]
    },
    {
     "name": "stderr",
     "output_type": "stream",
     "text": [
      "[Parallel(n_jobs=48)]: Done 104 tasks      | elapsed:    6.0s\n",
      "[Parallel(n_jobs=48)]: Done 240 out of 240 | elapsed:   13.4s finished\n"
     ]
    },
    {
     "name": "stdout",
     "output_type": "stream",
     "text": [
      "New Batch started : 4081 to 4320 \n"
     ]
    },
    {
     "name": "stderr",
     "output_type": "stream",
     "text": [
      "[Parallel(n_jobs=48)]: Done 104 tasks      | elapsed:    6.5s\n",
      "[Parallel(n_jobs=48)]: Done 240 out of 240 | elapsed:   14.0s finished\n"
     ]
    },
    {
     "name": "stdout",
     "output_type": "stream",
     "text": [
      "New Batch started : 4321 to 4560 \n"
     ]
    },
    {
     "name": "stderr",
     "output_type": "stream",
     "text": [
      "[Parallel(n_jobs=48)]: Done 104 tasks      | elapsed:    5.8s\n",
      "[Parallel(n_jobs=48)]: Done 240 out of 240 | elapsed:   13.4s finished\n"
     ]
    },
    {
     "name": "stdout",
     "output_type": "stream",
     "text": [
      "New Batch started : 4561 to 4800 \n"
     ]
    },
    {
     "name": "stderr",
     "output_type": "stream",
     "text": [
      "[Parallel(n_jobs=48)]: Done 104 tasks      | elapsed:    6.1s\n",
      "[Parallel(n_jobs=48)]: Done 240 out of 240 | elapsed:   13.9s finished\n"
     ]
    },
    {
     "name": "stdout",
     "output_type": "stream",
     "text": [
      "New Batch started : 4801 to 5040 \n"
     ]
    },
    {
     "name": "stderr",
     "output_type": "stream",
     "text": [
      "[Parallel(n_jobs=48)]: Done 104 tasks      | elapsed:    5.8s\n",
      "[Parallel(n_jobs=48)]: Done 240 out of 240 | elapsed:   13.5s finished\n"
     ]
    },
    {
     "name": "stdout",
     "output_type": "stream",
     "text": [
      "New Batch started : 5041 to 5280 \n"
     ]
    },
    {
     "name": "stderr",
     "output_type": "stream",
     "text": [
      "[Parallel(n_jobs=48)]: Done 104 tasks      | elapsed:    6.2s\n",
      "[Parallel(n_jobs=48)]: Done 240 out of 240 | elapsed:   13.7s finished\n"
     ]
    },
    {
     "name": "stdout",
     "output_type": "stream",
     "text": [
      "New Batch started : 5281 to 5520 \n"
     ]
    },
    {
     "name": "stderr",
     "output_type": "stream",
     "text": [
      "[Parallel(n_jobs=48)]: Done 104 tasks      | elapsed:    5.9s\n",
      "[Parallel(n_jobs=48)]: Done 240 out of 240 | elapsed:   13.7s finished\n"
     ]
    },
    {
     "name": "stdout",
     "output_type": "stream",
     "text": [
      "New Batch started : 5521 to 5760 \n"
     ]
    },
    {
     "name": "stderr",
     "output_type": "stream",
     "text": [
      "[Parallel(n_jobs=48)]: Done 104 tasks      | elapsed:    6.0s\n",
      "[Parallel(n_jobs=48)]: Done 240 out of 240 | elapsed:   14.1s finished\n"
     ]
    },
    {
     "name": "stdout",
     "output_type": "stream",
     "text": [
      "New Batch started : 5761 to 6000 \n"
     ]
    },
    {
     "name": "stderr",
     "output_type": "stream",
     "text": [
      "[Parallel(n_jobs=48)]: Done 104 tasks      | elapsed:    5.9s\n",
      "[Parallel(n_jobs=48)]: Done 240 out of 240 | elapsed:   13.2s finished\n"
     ]
    },
    {
     "name": "stdout",
     "output_type": "stream",
     "text": [
      "New Batch started : 6001 to 6240 \n"
     ]
    },
    {
     "name": "stderr",
     "output_type": "stream",
     "text": [
      "[Parallel(n_jobs=48)]: Done 104 tasks      | elapsed:    5.8s\n",
      "[Parallel(n_jobs=48)]: Done 240 out of 240 | elapsed:   13.4s finished\n"
     ]
    },
    {
     "name": "stdout",
     "output_type": "stream",
     "text": [
      "New Batch started : 6241 to 6480 \n"
     ]
    },
    {
     "name": "stderr",
     "output_type": "stream",
     "text": [
      "[Parallel(n_jobs=48)]: Done 104 tasks      | elapsed:    6.0s\n",
      "[Parallel(n_jobs=48)]: Done 240 out of 240 | elapsed:   13.6s finished\n"
     ]
    },
    {
     "name": "stdout",
     "output_type": "stream",
     "text": [
      "New Batch started : 6481 to 6720 \n"
     ]
    },
    {
     "name": "stderr",
     "output_type": "stream",
     "text": [
      "[Parallel(n_jobs=48)]: Done 104 tasks      | elapsed:    6.0s\n",
      "[Parallel(n_jobs=48)]: Done 240 out of 240 | elapsed:   13.8s finished\n"
     ]
    },
    {
     "name": "stdout",
     "output_type": "stream",
     "text": [
      "New Batch started : 6721 to 6960 \n"
     ]
    },
    {
     "name": "stderr",
     "output_type": "stream",
     "text": [
      "[Parallel(n_jobs=48)]: Done 104 tasks      | elapsed:    6.4s\n",
      "[Parallel(n_jobs=48)]: Done 240 out of 240 | elapsed:   14.5s finished\n"
     ]
    },
    {
     "name": "stdout",
     "output_type": "stream",
     "text": [
      "New Batch started : 6961 to 7200 \n"
     ]
    },
    {
     "name": "stderr",
     "output_type": "stream",
     "text": [
      "[Parallel(n_jobs=48)]: Done 104 tasks      | elapsed:    6.1s\n",
      "[Parallel(n_jobs=48)]: Done 240 out of 240 | elapsed:   14.1s finished\n"
     ]
    },
    {
     "name": "stdout",
     "output_type": "stream",
     "text": [
      "New Batch started : 7201 to 7440 \n"
     ]
    },
    {
     "name": "stderr",
     "output_type": "stream",
     "text": [
      "[Parallel(n_jobs=48)]: Done 104 tasks      | elapsed:    6.1s\n",
      "[Parallel(n_jobs=48)]: Done 240 out of 240 | elapsed:   13.7s finished\n"
     ]
    },
    {
     "name": "stdout",
     "output_type": "stream",
     "text": [
      "New Batch started : 7441 to 7680 \n"
     ]
    },
    {
     "name": "stderr",
     "output_type": "stream",
     "text": [
      "[Parallel(n_jobs=48)]: Done 104 tasks      | elapsed:    6.0s\n",
      "[Parallel(n_jobs=48)]: Done 240 out of 240 | elapsed:   14.0s finished\n"
     ]
    },
    {
     "name": "stdout",
     "output_type": "stream",
     "text": [
      "New Batch started : 7681 to 7920 \n"
     ]
    },
    {
     "name": "stderr",
     "output_type": "stream",
     "text": [
      "[Parallel(n_jobs=48)]: Done 104 tasks      | elapsed:    5.7s\n",
      "[Parallel(n_jobs=48)]: Done 240 out of 240 | elapsed:   13.5s finished\n"
     ]
    },
    {
     "name": "stdout",
     "output_type": "stream",
     "text": [
      "New Batch started : 7921 to 8160 \n"
     ]
    },
    {
     "name": "stderr",
     "output_type": "stream",
     "text": [
      "[Parallel(n_jobs=48)]: Done 104 tasks      | elapsed:    6.1s\n",
      "[Parallel(n_jobs=48)]: Done 240 out of 240 | elapsed:   13.8s finished\n"
     ]
    },
    {
     "name": "stdout",
     "output_type": "stream",
     "text": [
      "New Batch started : 8161 to 8400 \n"
     ]
    },
    {
     "name": "stderr",
     "output_type": "stream",
     "text": [
      "[Parallel(n_jobs=48)]: Done 104 tasks      | elapsed:    5.9s\n",
      "[Parallel(n_jobs=48)]: Done 240 out of 240 | elapsed:   14.0s finished\n"
     ]
    },
    {
     "name": "stdout",
     "output_type": "stream",
     "text": [
      "New Batch started : 8401 to 8640 \n"
     ]
    },
    {
     "name": "stderr",
     "output_type": "stream",
     "text": [
      "[Parallel(n_jobs=48)]: Done 104 tasks      | elapsed:    5.8s\n",
      "[Parallel(n_jobs=48)]: Done 240 out of 240 | elapsed:   14.0s finished\n"
     ]
    },
    {
     "name": "stdout",
     "output_type": "stream",
     "text": [
      "New Batch started : 8641 to 8880 \n"
     ]
    },
    {
     "name": "stderr",
     "output_type": "stream",
     "text": [
      "[Parallel(n_jobs=48)]: Done 104 tasks      | elapsed:    6.3s\n",
      "[Parallel(n_jobs=48)]: Done 240 out of 240 | elapsed:   14.0s finished\n"
     ]
    },
    {
     "name": "stdout",
     "output_type": "stream",
     "text": [
      "New Batch started : 8881 to 9120 \n"
     ]
    },
    {
     "name": "stderr",
     "output_type": "stream",
     "text": [
      "[Parallel(n_jobs=48)]: Done 104 tasks      | elapsed:    5.9s\n",
      "[Parallel(n_jobs=48)]: Done 240 out of 240 | elapsed:   13.5s finished\n"
     ]
    },
    {
     "name": "stdout",
     "output_type": "stream",
     "text": [
      "New Batch started : 9121 to 9360 \n"
     ]
    },
    {
     "name": "stderr",
     "output_type": "stream",
     "text": [
      "[Parallel(n_jobs=48)]: Done 104 tasks      | elapsed:    6.3s\n",
      "[Parallel(n_jobs=48)]: Done 240 out of 240 | elapsed:   13.8s finished\n"
     ]
    },
    {
     "name": "stdout",
     "output_type": "stream",
     "text": [
      "New Batch started : 9361 to 9600 \n"
     ]
    },
    {
     "name": "stderr",
     "output_type": "stream",
     "text": [
      "[Parallel(n_jobs=48)]: Done 104 tasks      | elapsed:    5.9s\n",
      "[Parallel(n_jobs=48)]: Done 240 out of 240 | elapsed:   13.8s finished\n"
     ]
    },
    {
     "name": "stdout",
     "output_type": "stream",
     "text": [
      "New Batch started : 9601 to 9840 \n"
     ]
    },
    {
     "name": "stderr",
     "output_type": "stream",
     "text": [
      "[Parallel(n_jobs=48)]: Done 104 tasks      | elapsed:    5.9s\n",
      "[Parallel(n_jobs=48)]: Done 240 out of 240 | elapsed:   13.6s finished\n"
     ]
    },
    {
     "name": "stdout",
     "output_type": "stream",
     "text": [
      "New Batch started : 9841 to 10080 \n"
     ]
    },
    {
     "name": "stderr",
     "output_type": "stream",
     "text": [
      "[Parallel(n_jobs=48)]: Done 104 tasks      | elapsed:    6.2s\n",
      "[Parallel(n_jobs=48)]: Done 240 out of 240 | elapsed:   14.0s finished\n"
     ]
    },
    {
     "name": "stdout",
     "output_type": "stream",
     "text": [
      "New Batch started : 10081 to 10320 \n"
     ]
    },
    {
     "name": "stderr",
     "output_type": "stream",
     "text": [
      "[Parallel(n_jobs=48)]: Done 104 tasks      | elapsed:    5.8s\n",
      "[Parallel(n_jobs=48)]: Done 240 out of 240 | elapsed:   13.7s finished\n"
     ]
    },
    {
     "name": "stdout",
     "output_type": "stream",
     "text": [
      "New Batch started : 10321 to 10560 \n"
     ]
    },
    {
     "name": "stderr",
     "output_type": "stream",
     "text": [
      "[Parallel(n_jobs=48)]: Done 104 tasks      | elapsed:    5.6s\n",
      "[Parallel(n_jobs=48)]: Done 240 out of 240 | elapsed:   13.4s finished\n"
     ]
    },
    {
     "name": "stdout",
     "output_type": "stream",
     "text": [
      "New Batch started : 10561 to 10691 \n"
     ]
    },
    {
     "name": "stderr",
     "output_type": "stream",
     "text": [
      "[Parallel(n_jobs=48)]: Done 131 out of 131 | elapsed:    7.8s finished\n"
     ]
    },
    {
     "name": "stdout",
     "output_type": "stream",
     "text": [
      "Loading test file #13 - dict_jobID_Xtest_Ytest_277966_288656_FROM_giga_takeoutdf_w_jobgroup.pickle\n",
      "Loaded test file #10691\n",
      "New Batch started : 1 to 240 \n"
     ]
    },
    {
     "name": "stderr",
     "output_type": "stream",
     "text": [
      "[Parallel(n_jobs=48)]: Done 104 tasks      | elapsed:    6.1s\n",
      "[Parallel(n_jobs=48)]: Done 240 out of 240 | elapsed:   13.9s finished\n"
     ]
    },
    {
     "name": "stdout",
     "output_type": "stream",
     "text": [
      "New Batch started : 241 to 480 \n"
     ]
    },
    {
     "name": "stderr",
     "output_type": "stream",
     "text": [
      "[Parallel(n_jobs=48)]: Done 104 tasks      | elapsed:    5.9s\n",
      "[Parallel(n_jobs=48)]: Done 240 out of 240 | elapsed:   13.8s finished\n"
     ]
    },
    {
     "name": "stdout",
     "output_type": "stream",
     "text": [
      "New Batch started : 481 to 720 \n"
     ]
    },
    {
     "name": "stderr",
     "output_type": "stream",
     "text": [
      "[Parallel(n_jobs=48)]: Done 104 tasks      | elapsed:    6.1s\n",
      "[Parallel(n_jobs=48)]: Done 240 out of 240 | elapsed:   14.2s finished\n"
     ]
    },
    {
     "name": "stdout",
     "output_type": "stream",
     "text": [
      "New Batch started : 721 to 960 \n"
     ]
    },
    {
     "name": "stderr",
     "output_type": "stream",
     "text": [
      "[Parallel(n_jobs=48)]: Done 104 tasks      | elapsed:    6.3s\n",
      "[Parallel(n_jobs=48)]: Done 240 out of 240 | elapsed:   14.1s finished\n"
     ]
    },
    {
     "name": "stdout",
     "output_type": "stream",
     "text": [
      "New Batch started : 961 to 1200 \n"
     ]
    },
    {
     "name": "stderr",
     "output_type": "stream",
     "text": [
      "[Parallel(n_jobs=48)]: Done 104 tasks      | elapsed:    6.0s\n",
      "[Parallel(n_jobs=48)]: Done 240 out of 240 | elapsed:   14.2s finished\n"
     ]
    },
    {
     "name": "stdout",
     "output_type": "stream",
     "text": [
      "New Batch started : 1201 to 1440 \n"
     ]
    },
    {
     "name": "stderr",
     "output_type": "stream",
     "text": [
      "[Parallel(n_jobs=48)]: Done 104 tasks      | elapsed:    6.2s\n",
      "[Parallel(n_jobs=48)]: Done 240 out of 240 | elapsed:   14.2s finished\n"
     ]
    },
    {
     "name": "stdout",
     "output_type": "stream",
     "text": [
      "New Batch started : 1441 to 1680 \n"
     ]
    },
    {
     "name": "stderr",
     "output_type": "stream",
     "text": [
      "[Parallel(n_jobs=48)]: Done 104 tasks      | elapsed:    6.5s\n",
      "[Parallel(n_jobs=48)]: Done 240 out of 240 | elapsed:   14.7s finished\n"
     ]
    },
    {
     "name": "stdout",
     "output_type": "stream",
     "text": [
      "New Batch started : 1681 to 1920 \n"
     ]
    },
    {
     "name": "stderr",
     "output_type": "stream",
     "text": [
      "[Parallel(n_jobs=48)]: Done 104 tasks      | elapsed:    6.3s\n",
      "[Parallel(n_jobs=48)]: Done 240 out of 240 | elapsed:   14.2s finished\n"
     ]
    },
    {
     "name": "stdout",
     "output_type": "stream",
     "text": [
      "New Batch started : 1921 to 2160 \n"
     ]
    },
    {
     "name": "stderr",
     "output_type": "stream",
     "text": [
      "[Parallel(n_jobs=48)]: Done 104 tasks      | elapsed:    6.3s\n",
      "[Parallel(n_jobs=48)]: Done 240 out of 240 | elapsed:   14.3s finished\n"
     ]
    },
    {
     "name": "stdout",
     "output_type": "stream",
     "text": [
      "New Batch started : 2161 to 2400 \n"
     ]
    },
    {
     "name": "stderr",
     "output_type": "stream",
     "text": [
      "[Parallel(n_jobs=48)]: Done 104 tasks      | elapsed:    6.5s\n",
      "[Parallel(n_jobs=48)]: Done 240 out of 240 | elapsed:   14.1s finished\n"
     ]
    },
    {
     "name": "stdout",
     "output_type": "stream",
     "text": [
      "New Batch started : 2401 to 2640 \n"
     ]
    },
    {
     "name": "stderr",
     "output_type": "stream",
     "text": [
      "[Parallel(n_jobs=48)]: Done 104 tasks      | elapsed:    6.5s\n",
      "[Parallel(n_jobs=48)]: Done 240 out of 240 | elapsed:   14.2s finished\n"
     ]
    },
    {
     "name": "stdout",
     "output_type": "stream",
     "text": [
      "New Batch started : 2641 to 2880 \n"
     ]
    },
    {
     "name": "stderr",
     "output_type": "stream",
     "text": [
      "[Parallel(n_jobs=48)]: Done 104 tasks      | elapsed:    5.9s\n",
      "[Parallel(n_jobs=48)]: Done 240 out of 240 | elapsed:   14.3s finished\n"
     ]
    },
    {
     "name": "stdout",
     "output_type": "stream",
     "text": [
      "New Batch started : 2881 to 3120 \n"
     ]
    },
    {
     "name": "stderr",
     "output_type": "stream",
     "text": [
      "[Parallel(n_jobs=48)]: Done 104 tasks      | elapsed:    6.3s\n",
      "[Parallel(n_jobs=48)]: Done 240 out of 240 | elapsed:   14.6s finished\n"
     ]
    },
    {
     "name": "stdout",
     "output_type": "stream",
     "text": [
      "New Batch started : 3121 to 3360 \n"
     ]
    },
    {
     "name": "stderr",
     "output_type": "stream",
     "text": [
      "[Parallel(n_jobs=48)]: Done 104 tasks      | elapsed:    6.0s\n",
      "[Parallel(n_jobs=48)]: Done 240 out of 240 | elapsed:   13.8s finished\n"
     ]
    },
    {
     "name": "stdout",
     "output_type": "stream",
     "text": [
      "New Batch started : 3361 to 3600 \n"
     ]
    },
    {
     "name": "stderr",
     "output_type": "stream",
     "text": [
      "[Parallel(n_jobs=48)]: Done 104 tasks      | elapsed:    6.3s\n",
      "[Parallel(n_jobs=48)]: Done 240 out of 240 | elapsed:   14.1s finished\n"
     ]
    },
    {
     "name": "stdout",
     "output_type": "stream",
     "text": [
      "New Batch started : 3601 to 3840 \n"
     ]
    },
    {
     "name": "stderr",
     "output_type": "stream",
     "text": [
      "[Parallel(n_jobs=48)]: Done 104 tasks      | elapsed:    6.2s\n",
      "[Parallel(n_jobs=48)]: Done 240 out of 240 | elapsed:   14.3s finished\n"
     ]
    },
    {
     "name": "stdout",
     "output_type": "stream",
     "text": [
      "New Batch started : 3841 to 4080 \n"
     ]
    },
    {
     "name": "stderr",
     "output_type": "stream",
     "text": [
      "[Parallel(n_jobs=48)]: Done 104 tasks      | elapsed:    5.9s\n",
      "[Parallel(n_jobs=48)]: Done 240 out of 240 | elapsed:   13.7s finished\n"
     ]
    },
    {
     "name": "stdout",
     "output_type": "stream",
     "text": [
      "New Batch started : 4081 to 4320 \n"
     ]
    },
    {
     "name": "stderr",
     "output_type": "stream",
     "text": [
      "[Parallel(n_jobs=48)]: Done 104 tasks      | elapsed:    6.4s\n",
      "[Parallel(n_jobs=48)]: Done 240 out of 240 | elapsed:   14.4s finished\n"
     ]
    },
    {
     "name": "stdout",
     "output_type": "stream",
     "text": [
      "New Batch started : 4321 to 4560 \n"
     ]
    },
    {
     "name": "stderr",
     "output_type": "stream",
     "text": [
      "[Parallel(n_jobs=48)]: Done 104 tasks      | elapsed:    6.5s\n",
      "[Parallel(n_jobs=48)]: Done 240 out of 240 | elapsed:   14.9s finished\n"
     ]
    },
    {
     "name": "stdout",
     "output_type": "stream",
     "text": [
      "New Batch started : 4561 to 4800 \n"
     ]
    },
    {
     "name": "stderr",
     "output_type": "stream",
     "text": [
      "[Parallel(n_jobs=48)]: Done 104 tasks      | elapsed:    6.3s\n",
      "[Parallel(n_jobs=48)]: Done 240 out of 240 | elapsed:   14.4s finished\n"
     ]
    },
    {
     "name": "stdout",
     "output_type": "stream",
     "text": [
      "New Batch started : 4801 to 5040 \n"
     ]
    },
    {
     "name": "stderr",
     "output_type": "stream",
     "text": [
      "[Parallel(n_jobs=48)]: Done 104 tasks      | elapsed:    5.9s\n",
      "[Parallel(n_jobs=48)]: Done 240 out of 240 | elapsed:   13.9s finished\n"
     ]
    },
    {
     "name": "stdout",
     "output_type": "stream",
     "text": [
      "New Batch started : 5041 to 5280 \n"
     ]
    },
    {
     "name": "stderr",
     "output_type": "stream",
     "text": [
      "[Parallel(n_jobs=48)]: Done 104 tasks      | elapsed:    6.1s\n",
      "[Parallel(n_jobs=48)]: Done 240 out of 240 | elapsed:   14.2s finished\n"
     ]
    },
    {
     "name": "stdout",
     "output_type": "stream",
     "text": [
      "New Batch started : 5281 to 5520 \n"
     ]
    },
    {
     "name": "stderr",
     "output_type": "stream",
     "text": [
      "[Parallel(n_jobs=48)]: Done 104 tasks      | elapsed:    5.8s\n",
      "[Parallel(n_jobs=48)]: Done 240 out of 240 | elapsed:   13.7s finished\n"
     ]
    },
    {
     "name": "stdout",
     "output_type": "stream",
     "text": [
      "New Batch started : 5521 to 5760 \n"
     ]
    },
    {
     "name": "stderr",
     "output_type": "stream",
     "text": [
      "[Parallel(n_jobs=48)]: Done 104 tasks      | elapsed:    6.0s\n",
      "[Parallel(n_jobs=48)]: Done 240 out of 240 | elapsed:   14.2s finished\n"
     ]
    },
    {
     "name": "stdout",
     "output_type": "stream",
     "text": [
      "New Batch started : 5761 to 6000 \n"
     ]
    },
    {
     "name": "stderr",
     "output_type": "stream",
     "text": [
      "[Parallel(n_jobs=48)]: Done 104 tasks      | elapsed:    5.7s\n",
      "[Parallel(n_jobs=48)]: Done 240 out of 240 | elapsed:   14.1s finished\n"
     ]
    },
    {
     "name": "stdout",
     "output_type": "stream",
     "text": [
      "New Batch started : 6001 to 6240 \n"
     ]
    },
    {
     "name": "stderr",
     "output_type": "stream",
     "text": [
      "[Parallel(n_jobs=48)]: Done 104 tasks      | elapsed:    5.8s\n",
      "[Parallel(n_jobs=48)]: Done 240 out of 240 | elapsed:   13.8s finished\n"
     ]
    },
    {
     "name": "stdout",
     "output_type": "stream",
     "text": [
      "New Batch started : 6241 to 6480 \n"
     ]
    },
    {
     "name": "stderr",
     "output_type": "stream",
     "text": [
      "[Parallel(n_jobs=48)]: Done 104 tasks      | elapsed:    6.2s\n",
      "[Parallel(n_jobs=48)]: Done 240 out of 240 | elapsed:   14.2s finished\n"
     ]
    },
    {
     "name": "stdout",
     "output_type": "stream",
     "text": [
      "New Batch started : 6481 to 6720 \n"
     ]
    },
    {
     "name": "stderr",
     "output_type": "stream",
     "text": [
      "[Parallel(n_jobs=48)]: Done 104 tasks      | elapsed:    6.2s\n",
      "[Parallel(n_jobs=48)]: Done 240 out of 240 | elapsed:   13.6s finished\n"
     ]
    },
    {
     "name": "stdout",
     "output_type": "stream",
     "text": [
      "New Batch started : 6721 to 6960 \n"
     ]
    },
    {
     "name": "stderr",
     "output_type": "stream",
     "text": [
      "[Parallel(n_jobs=48)]: Done 104 tasks      | elapsed:    6.1s\n",
      "[Parallel(n_jobs=48)]: Done 240 out of 240 | elapsed:   14.2s finished\n"
     ]
    },
    {
     "name": "stdout",
     "output_type": "stream",
     "text": [
      "New Batch started : 6961 to 7200 \n"
     ]
    },
    {
     "name": "stderr",
     "output_type": "stream",
     "text": [
      "[Parallel(n_jobs=48)]: Done 104 tasks      | elapsed:    6.3s\n",
      "[Parallel(n_jobs=48)]: Done 240 out of 240 | elapsed:   14.2s finished\n"
     ]
    },
    {
     "name": "stdout",
     "output_type": "stream",
     "text": [
      "New Batch started : 7201 to 7440 \n"
     ]
    },
    {
     "name": "stderr",
     "output_type": "stream",
     "text": [
      "[Parallel(n_jobs=48)]: Done 104 tasks      | elapsed:    6.2s\n",
      "[Parallel(n_jobs=48)]: Done 240 out of 240 | elapsed:   14.5s finished\n"
     ]
    },
    {
     "name": "stdout",
     "output_type": "stream",
     "text": [
      "New Batch started : 7441 to 7680 \n"
     ]
    },
    {
     "name": "stderr",
     "output_type": "stream",
     "text": [
      "[Parallel(n_jobs=48)]: Done 104 tasks      | elapsed:    5.9s\n",
      "[Parallel(n_jobs=48)]: Done 240 out of 240 | elapsed:   13.9s finished\n"
     ]
    },
    {
     "name": "stdout",
     "output_type": "stream",
     "text": [
      "New Batch started : 7681 to 7920 \n"
     ]
    },
    {
     "name": "stderr",
     "output_type": "stream",
     "text": [
      "[Parallel(n_jobs=48)]: Done 104 tasks      | elapsed:    6.0s\n",
      "[Parallel(n_jobs=48)]: Done 240 out of 240 | elapsed:   14.1s finished\n"
     ]
    },
    {
     "name": "stdout",
     "output_type": "stream",
     "text": [
      "New Batch started : 7921 to 8160 \n"
     ]
    },
    {
     "name": "stderr",
     "output_type": "stream",
     "text": [
      "[Parallel(n_jobs=48)]: Done 104 tasks      | elapsed:    6.1s\n",
      "[Parallel(n_jobs=48)]: Done 240 out of 240 | elapsed:   13.9s finished\n"
     ]
    },
    {
     "name": "stdout",
     "output_type": "stream",
     "text": [
      "New Batch started : 8161 to 8400 \n"
     ]
    },
    {
     "name": "stderr",
     "output_type": "stream",
     "text": [
      "[Parallel(n_jobs=48)]: Done 104 tasks      | elapsed:    6.1s\n",
      "[Parallel(n_jobs=48)]: Done 240 out of 240 | elapsed:   14.2s finished\n"
     ]
    },
    {
     "name": "stdout",
     "output_type": "stream",
     "text": [
      "New Batch started : 8401 to 8640 \n"
     ]
    },
    {
     "name": "stderr",
     "output_type": "stream",
     "text": [
      "[Parallel(n_jobs=48)]: Done 104 tasks      | elapsed:    6.0s\n",
      "[Parallel(n_jobs=48)]: Done 240 out of 240 | elapsed:   14.2s finished\n"
     ]
    },
    {
     "name": "stdout",
     "output_type": "stream",
     "text": [
      "New Batch started : 8641 to 8880 \n"
     ]
    },
    {
     "name": "stderr",
     "output_type": "stream",
     "text": [
      "[Parallel(n_jobs=48)]: Done 104 tasks      | elapsed:    6.0s\n",
      "[Parallel(n_jobs=48)]: Done 240 out of 240 | elapsed:   14.0s finished\n"
     ]
    },
    {
     "name": "stdout",
     "output_type": "stream",
     "text": [
      "New Batch started : 8881 to 9120 \n"
     ]
    },
    {
     "name": "stderr",
     "output_type": "stream",
     "text": [
      "[Parallel(n_jobs=48)]: Done 104 tasks      | elapsed:    6.1s\n",
      "[Parallel(n_jobs=48)]: Done 240 out of 240 | elapsed:   14.3s finished\n"
     ]
    },
    {
     "name": "stdout",
     "output_type": "stream",
     "text": [
      "New Batch started : 9121 to 9360 \n"
     ]
    },
    {
     "name": "stderr",
     "output_type": "stream",
     "text": [
      "[Parallel(n_jobs=48)]: Done 104 tasks      | elapsed:    6.1s\n",
      "[Parallel(n_jobs=48)]: Done 240 out of 240 | elapsed:   14.2s finished\n"
     ]
    },
    {
     "name": "stdout",
     "output_type": "stream",
     "text": [
      "New Batch started : 9361 to 9600 \n"
     ]
    },
    {
     "name": "stderr",
     "output_type": "stream",
     "text": [
      "[Parallel(n_jobs=48)]: Done 104 tasks      | elapsed:    5.8s\n",
      "[Parallel(n_jobs=48)]: Done 240 out of 240 | elapsed:   13.6s finished\n"
     ]
    },
    {
     "name": "stdout",
     "output_type": "stream",
     "text": [
      "New Batch started : 9601 to 9840 \n"
     ]
    },
    {
     "name": "stderr",
     "output_type": "stream",
     "text": [
      "[Parallel(n_jobs=48)]: Done 104 tasks      | elapsed:    5.9s\n",
      "[Parallel(n_jobs=48)]: Done 240 out of 240 | elapsed:   13.8s finished\n"
     ]
    },
    {
     "name": "stdout",
     "output_type": "stream",
     "text": [
      "New Batch started : 9841 to 10080 \n"
     ]
    },
    {
     "name": "stderr",
     "output_type": "stream",
     "text": [
      "[Parallel(n_jobs=48)]: Done 104 tasks      | elapsed:    6.1s\n",
      "[Parallel(n_jobs=48)]: Done 240 out of 240 | elapsed:   13.9s finished\n"
     ]
    },
    {
     "name": "stdout",
     "output_type": "stream",
     "text": [
      "New Batch started : 10081 to 10320 \n"
     ]
    },
    {
     "name": "stderr",
     "output_type": "stream",
     "text": [
      "[Parallel(n_jobs=48)]: Done 104 tasks      | elapsed:    6.1s\n",
      "[Parallel(n_jobs=48)]: Done 240 out of 240 | elapsed:   14.4s finished\n"
     ]
    },
    {
     "name": "stdout",
     "output_type": "stream",
     "text": [
      "New Batch started : 10321 to 10560 \n"
     ]
    },
    {
     "name": "stderr",
     "output_type": "stream",
     "text": [
      "[Parallel(n_jobs=48)]: Done 104 tasks      | elapsed:    5.9s\n",
      "[Parallel(n_jobs=48)]: Done 240 out of 240 | elapsed:   14.3s finished\n"
     ]
    },
    {
     "name": "stdout",
     "output_type": "stream",
     "text": [
      "New Batch started : 10561 to 10691 \n"
     ]
    },
    {
     "name": "stderr",
     "output_type": "stream",
     "text": [
      "[Parallel(n_jobs=48)]: Done 131 out of 131 | elapsed:    7.3s finished\n"
     ]
    },
    {
     "name": "stdout",
     "output_type": "stream",
     "text": [
      "Loading test file #14 - dict_jobID_Xtest_Ytest_288657_299347_FROM_giga_takeoutdf_w_jobgroup.pickle\n",
      "Loaded test file #10691\n",
      "New Batch started : 1 to 240 \n"
     ]
    },
    {
     "name": "stderr",
     "output_type": "stream",
     "text": [
      "[Parallel(n_jobs=48)]: Done 104 tasks      | elapsed:    6.0s\n",
      "[Parallel(n_jobs=48)]: Done 240 out of 240 | elapsed:   13.7s finished\n"
     ]
    },
    {
     "name": "stdout",
     "output_type": "stream",
     "text": [
      "New Batch started : 241 to 480 \n"
     ]
    },
    {
     "name": "stderr",
     "output_type": "stream",
     "text": [
      "[Parallel(n_jobs=48)]: Done 104 tasks      | elapsed:    5.9s\n",
      "[Parallel(n_jobs=48)]: Done 240 out of 240 | elapsed:   13.3s finished\n"
     ]
    },
    {
     "name": "stdout",
     "output_type": "stream",
     "text": [
      "New Batch started : 481 to 720 \n"
     ]
    },
    {
     "name": "stderr",
     "output_type": "stream",
     "text": [
      "[Parallel(n_jobs=48)]: Done 104 tasks      | elapsed:    5.6s\n",
      "[Parallel(n_jobs=48)]: Done 240 out of 240 | elapsed:   13.1s finished\n"
     ]
    },
    {
     "name": "stdout",
     "output_type": "stream",
     "text": [
      "New Batch started : 721 to 960 \n"
     ]
    },
    {
     "name": "stderr",
     "output_type": "stream",
     "text": [
      "[Parallel(n_jobs=48)]: Done 104 tasks      | elapsed:    5.8s\n",
      "[Parallel(n_jobs=48)]: Done 240 out of 240 | elapsed:   13.0s finished\n"
     ]
    },
    {
     "name": "stdout",
     "output_type": "stream",
     "text": [
      "New Batch started : 961 to 1200 \n"
     ]
    },
    {
     "name": "stderr",
     "output_type": "stream",
     "text": [
      "[Parallel(n_jobs=48)]: Done 104 tasks      | elapsed:    5.8s\n",
      "[Parallel(n_jobs=48)]: Done 240 out of 240 | elapsed:   13.2s finished\n"
     ]
    },
    {
     "name": "stdout",
     "output_type": "stream",
     "text": [
      "New Batch started : 1201 to 1440 \n"
     ]
    },
    {
     "name": "stderr",
     "output_type": "stream",
     "text": [
      "[Parallel(n_jobs=48)]: Done 104 tasks      | elapsed:    6.0s\n",
      "[Parallel(n_jobs=48)]: Done 240 out of 240 | elapsed:   13.6s finished\n"
     ]
    },
    {
     "name": "stdout",
     "output_type": "stream",
     "text": [
      "New Batch started : 1441 to 1680 \n"
     ]
    },
    {
     "name": "stderr",
     "output_type": "stream",
     "text": [
      "[Parallel(n_jobs=48)]: Done 104 tasks      | elapsed:    5.6s\n",
      "[Parallel(n_jobs=48)]: Done 240 out of 240 | elapsed:   13.5s finished\n"
     ]
    },
    {
     "name": "stdout",
     "output_type": "stream",
     "text": [
      "New Batch started : 1681 to 1920 \n"
     ]
    },
    {
     "name": "stderr",
     "output_type": "stream",
     "text": [
      "[Parallel(n_jobs=48)]: Done 104 tasks      | elapsed:    5.8s\n",
      "[Parallel(n_jobs=48)]: Done 240 out of 240 | elapsed:   13.1s finished\n"
     ]
    },
    {
     "name": "stdout",
     "output_type": "stream",
     "text": [
      "New Batch started : 1921 to 2160 \n"
     ]
    },
    {
     "name": "stderr",
     "output_type": "stream",
     "text": [
      "[Parallel(n_jobs=48)]: Done 104 tasks      | elapsed:    6.0s\n",
      "[Parallel(n_jobs=48)]: Done 240 out of 240 | elapsed:   13.3s finished\n"
     ]
    },
    {
     "name": "stdout",
     "output_type": "stream",
     "text": [
      "New Batch started : 2161 to 2400 \n"
     ]
    },
    {
     "name": "stderr",
     "output_type": "stream",
     "text": [
      "[Parallel(n_jobs=48)]: Done 104 tasks      | elapsed:    5.8s\n",
      "[Parallel(n_jobs=48)]: Done 240 out of 240 | elapsed:   13.0s finished\n"
     ]
    },
    {
     "name": "stdout",
     "output_type": "stream",
     "text": [
      "New Batch started : 2401 to 2640 \n"
     ]
    },
    {
     "name": "stderr",
     "output_type": "stream",
     "text": [
      "[Parallel(n_jobs=48)]: Done 104 tasks      | elapsed:    6.0s\n",
      "[Parallel(n_jobs=48)]: Done 240 out of 240 | elapsed:   13.7s finished\n"
     ]
    },
    {
     "name": "stdout",
     "output_type": "stream",
     "text": [
      "New Batch started : 2641 to 2880 \n"
     ]
    },
    {
     "name": "stderr",
     "output_type": "stream",
     "text": [
      "[Parallel(n_jobs=48)]: Done 104 tasks      | elapsed:    6.0s\n",
      "[Parallel(n_jobs=48)]: Done 240 out of 240 | elapsed:   13.6s finished\n"
     ]
    },
    {
     "name": "stdout",
     "output_type": "stream",
     "text": [
      "New Batch started : 2881 to 3120 \n"
     ]
    },
    {
     "name": "stderr",
     "output_type": "stream",
     "text": [
      "[Parallel(n_jobs=48)]: Done 104 tasks      | elapsed:    5.7s\n",
      "[Parallel(n_jobs=48)]: Done 240 out of 240 | elapsed:   13.1s finished\n"
     ]
    },
    {
     "name": "stdout",
     "output_type": "stream",
     "text": [
      "New Batch started : 3121 to 3360 \n"
     ]
    },
    {
     "name": "stderr",
     "output_type": "stream",
     "text": [
      "[Parallel(n_jobs=48)]: Done 104 tasks      | elapsed:    5.7s\n",
      "[Parallel(n_jobs=48)]: Done 240 out of 240 | elapsed:   13.2s finished\n"
     ]
    },
    {
     "name": "stdout",
     "output_type": "stream",
     "text": [
      "New Batch started : 3361 to 3600 \n"
     ]
    },
    {
     "name": "stderr",
     "output_type": "stream",
     "text": [
      "[Parallel(n_jobs=48)]: Done 104 tasks      | elapsed:    5.6s\n",
      "[Parallel(n_jobs=48)]: Done 240 out of 240 | elapsed:   13.3s finished\n"
     ]
    },
    {
     "name": "stdout",
     "output_type": "stream",
     "text": [
      "New Batch started : 3601 to 3840 \n"
     ]
    },
    {
     "name": "stderr",
     "output_type": "stream",
     "text": [
      "[Parallel(n_jobs=48)]: Done 104 tasks      | elapsed:    5.8s\n",
      "[Parallel(n_jobs=48)]: Done 240 out of 240 | elapsed:   13.6s finished\n"
     ]
    },
    {
     "name": "stdout",
     "output_type": "stream",
     "text": [
      "New Batch started : 3841 to 4080 \n"
     ]
    },
    {
     "name": "stderr",
     "output_type": "stream",
     "text": [
      "[Parallel(n_jobs=48)]: Done 104 tasks      | elapsed:    5.9s\n",
      "[Parallel(n_jobs=48)]: Done 240 out of 240 | elapsed:   13.5s finished\n"
     ]
    },
    {
     "name": "stdout",
     "output_type": "stream",
     "text": [
      "New Batch started : 4081 to 4320 \n"
     ]
    },
    {
     "name": "stderr",
     "output_type": "stream",
     "text": [
      "[Parallel(n_jobs=48)]: Done 104 tasks      | elapsed:    6.0s\n",
      "[Parallel(n_jobs=48)]: Done 240 out of 240 | elapsed:   13.7s finished\n"
     ]
    },
    {
     "name": "stdout",
     "output_type": "stream",
     "text": [
      "New Batch started : 4321 to 4560 \n"
     ]
    },
    {
     "name": "stderr",
     "output_type": "stream",
     "text": [
      "[Parallel(n_jobs=48)]: Done 104 tasks      | elapsed:    5.9s\n",
      "[Parallel(n_jobs=48)]: Done 240 out of 240 | elapsed:   13.4s finished\n"
     ]
    },
    {
     "name": "stdout",
     "output_type": "stream",
     "text": [
      "New Batch started : 4561 to 4800 \n"
     ]
    },
    {
     "name": "stderr",
     "output_type": "stream",
     "text": [
      "[Parallel(n_jobs=48)]: Done 104 tasks      | elapsed:    5.9s\n",
      "[Parallel(n_jobs=48)]: Done 240 out of 240 | elapsed:   13.7s finished\n"
     ]
    },
    {
     "name": "stdout",
     "output_type": "stream",
     "text": [
      "New Batch started : 4801 to 5040 \n"
     ]
    },
    {
     "name": "stderr",
     "output_type": "stream",
     "text": [
      "[Parallel(n_jobs=48)]: Done 104 tasks      | elapsed:    5.7s\n",
      "[Parallel(n_jobs=48)]: Done 240 out of 240 | elapsed:   13.2s finished\n"
     ]
    },
    {
     "name": "stdout",
     "output_type": "stream",
     "text": [
      "New Batch started : 5041 to 5280 \n"
     ]
    },
    {
     "name": "stderr",
     "output_type": "stream",
     "text": [
      "[Parallel(n_jobs=48)]: Done 104 tasks      | elapsed:    5.6s\n",
      "[Parallel(n_jobs=48)]: Done 240 out of 240 | elapsed:   13.4s finished\n"
     ]
    },
    {
     "name": "stdout",
     "output_type": "stream",
     "text": [
      "New Batch started : 5281 to 5520 \n"
     ]
    },
    {
     "name": "stderr",
     "output_type": "stream",
     "text": [
      "[Parallel(n_jobs=48)]: Done 104 tasks      | elapsed:    6.1s\n",
      "[Parallel(n_jobs=48)]: Done 240 out of 240 | elapsed:   13.8s finished\n"
     ]
    },
    {
     "name": "stdout",
     "output_type": "stream",
     "text": [
      "New Batch started : 5521 to 5760 \n"
     ]
    },
    {
     "name": "stderr",
     "output_type": "stream",
     "text": [
      "[Parallel(n_jobs=48)]: Done 104 tasks      | elapsed:    5.6s\n",
      "[Parallel(n_jobs=48)]: Done 240 out of 240 | elapsed:   13.2s finished\n"
     ]
    },
    {
     "name": "stdout",
     "output_type": "stream",
     "text": [
      "New Batch started : 5761 to 6000 \n"
     ]
    },
    {
     "name": "stderr",
     "output_type": "stream",
     "text": [
      "[Parallel(n_jobs=48)]: Done 104 tasks      | elapsed:    5.7s\n",
      "[Parallel(n_jobs=48)]: Done 240 out of 240 | elapsed:   12.9s finished\n"
     ]
    },
    {
     "name": "stdout",
     "output_type": "stream",
     "text": [
      "New Batch started : 6001 to 6240 \n"
     ]
    },
    {
     "name": "stderr",
     "output_type": "stream",
     "text": [
      "[Parallel(n_jobs=48)]: Done 104 tasks      | elapsed:    5.5s\n",
      "[Parallel(n_jobs=48)]: Done 240 out of 240 | elapsed:   13.0s finished\n"
     ]
    },
    {
     "name": "stdout",
     "output_type": "stream",
     "text": [
      "New Batch started : 6241 to 6480 \n"
     ]
    },
    {
     "name": "stderr",
     "output_type": "stream",
     "text": [
      "[Parallel(n_jobs=48)]: Done 104 tasks      | elapsed:    5.8s\n",
      "[Parallel(n_jobs=48)]: Done 240 out of 240 | elapsed:   13.3s finished\n"
     ]
    },
    {
     "name": "stdout",
     "output_type": "stream",
     "text": [
      "New Batch started : 6481 to 6720 \n"
     ]
    },
    {
     "name": "stderr",
     "output_type": "stream",
     "text": [
      "[Parallel(n_jobs=48)]: Done 104 tasks      | elapsed:    6.2s\n",
      "[Parallel(n_jobs=48)]: Done 240 out of 240 | elapsed:   13.9s finished\n"
     ]
    },
    {
     "name": "stdout",
     "output_type": "stream",
     "text": [
      "New Batch started : 6721 to 6960 \n"
     ]
    },
    {
     "name": "stderr",
     "output_type": "stream",
     "text": [
      "[Parallel(n_jobs=48)]: Done 104 tasks      | elapsed:    6.1s\n",
      "[Parallel(n_jobs=48)]: Done 240 out of 240 | elapsed:   13.5s finished\n"
     ]
    },
    {
     "name": "stdout",
     "output_type": "stream",
     "text": [
      "New Batch started : 6961 to 7200 \n"
     ]
    },
    {
     "name": "stderr",
     "output_type": "stream",
     "text": [
      "[Parallel(n_jobs=48)]: Done 104 tasks      | elapsed:    5.9s\n",
      "[Parallel(n_jobs=48)]: Done 240 out of 240 | elapsed:   13.3s finished\n"
     ]
    },
    {
     "name": "stdout",
     "output_type": "stream",
     "text": [
      "New Batch started : 7201 to 7440 \n"
     ]
    },
    {
     "name": "stderr",
     "output_type": "stream",
     "text": [
      "[Parallel(n_jobs=48)]: Done 104 tasks      | elapsed:    5.7s\n",
      "[Parallel(n_jobs=48)]: Done 240 out of 240 | elapsed:   13.0s finished\n"
     ]
    },
    {
     "name": "stdout",
     "output_type": "stream",
     "text": [
      "New Batch started : 7441 to 7680 \n"
     ]
    },
    {
     "name": "stderr",
     "output_type": "stream",
     "text": [
      "[Parallel(n_jobs=48)]: Done 104 tasks      | elapsed:    5.5s\n",
      "[Parallel(n_jobs=48)]: Done 240 out of 240 | elapsed:   12.8s finished\n"
     ]
    },
    {
     "name": "stdout",
     "output_type": "stream",
     "text": [
      "New Batch started : 7681 to 7920 \n"
     ]
    },
    {
     "name": "stderr",
     "output_type": "stream",
     "text": [
      "[Parallel(n_jobs=48)]: Done 104 tasks      | elapsed:    5.8s\n",
      "[Parallel(n_jobs=48)]: Done 240 out of 240 | elapsed:   13.3s finished\n"
     ]
    },
    {
     "name": "stdout",
     "output_type": "stream",
     "text": [
      "New Batch started : 7921 to 8160 \n"
     ]
    },
    {
     "name": "stderr",
     "output_type": "stream",
     "text": [
      "[Parallel(n_jobs=48)]: Done 104 tasks      | elapsed:    5.9s\n",
      "[Parallel(n_jobs=48)]: Done 240 out of 240 | elapsed:   13.4s finished\n"
     ]
    },
    {
     "name": "stdout",
     "output_type": "stream",
     "text": [
      "New Batch started : 8161 to 8400 \n"
     ]
    },
    {
     "name": "stderr",
     "output_type": "stream",
     "text": [
      "[Parallel(n_jobs=48)]: Done 104 tasks      | elapsed:    5.8s\n",
      "[Parallel(n_jobs=48)]: Done 240 out of 240 | elapsed:   13.4s finished\n"
     ]
    },
    {
     "name": "stdout",
     "output_type": "stream",
     "text": [
      "New Batch started : 8401 to 8640 \n"
     ]
    },
    {
     "name": "stderr",
     "output_type": "stream",
     "text": [
      "[Parallel(n_jobs=48)]: Done 104 tasks      | elapsed:    6.0s\n",
      "[Parallel(n_jobs=48)]: Done 240 out of 240 | elapsed:   13.5s finished\n"
     ]
    },
    {
     "name": "stdout",
     "output_type": "stream",
     "text": [
      "New Batch started : 8641 to 8880 \n"
     ]
    },
    {
     "name": "stderr",
     "output_type": "stream",
     "text": [
      "[Parallel(n_jobs=48)]: Done 104 tasks      | elapsed:    6.0s\n",
      "[Parallel(n_jobs=48)]: Done 240 out of 240 | elapsed:   13.4s finished\n"
     ]
    },
    {
     "name": "stdout",
     "output_type": "stream",
     "text": [
      "New Batch started : 8881 to 9120 \n"
     ]
    },
    {
     "name": "stderr",
     "output_type": "stream",
     "text": [
      "[Parallel(n_jobs=48)]: Done 104 tasks      | elapsed:    5.8s\n",
      "[Parallel(n_jobs=48)]: Done 240 out of 240 | elapsed:   13.4s finished\n"
     ]
    },
    {
     "name": "stdout",
     "output_type": "stream",
     "text": [
      "New Batch started : 9121 to 9360 \n"
     ]
    },
    {
     "name": "stderr",
     "output_type": "stream",
     "text": [
      "[Parallel(n_jobs=48)]: Done 104 tasks      | elapsed:    5.7s\n",
      "[Parallel(n_jobs=48)]: Done 240 out of 240 | elapsed:   13.3s finished\n"
     ]
    },
    {
     "name": "stdout",
     "output_type": "stream",
     "text": [
      "New Batch started : 9361 to 9600 \n"
     ]
    },
    {
     "name": "stderr",
     "output_type": "stream",
     "text": [
      "[Parallel(n_jobs=48)]: Done 104 tasks      | elapsed:    5.7s\n",
      "[Parallel(n_jobs=48)]: Done 240 out of 240 | elapsed:   13.2s finished\n"
     ]
    },
    {
     "name": "stdout",
     "output_type": "stream",
     "text": [
      "New Batch started : 9601 to 9840 \n"
     ]
    },
    {
     "name": "stderr",
     "output_type": "stream",
     "text": [
      "[Parallel(n_jobs=48)]: Done 104 tasks      | elapsed:    5.7s\n",
      "[Parallel(n_jobs=48)]: Done 240 out of 240 | elapsed:   13.2s finished\n"
     ]
    },
    {
     "name": "stdout",
     "output_type": "stream",
     "text": [
      "New Batch started : 9841 to 10080 \n"
     ]
    },
    {
     "name": "stderr",
     "output_type": "stream",
     "text": [
      "[Parallel(n_jobs=48)]: Done 104 tasks      | elapsed:    5.7s\n",
      "[Parallel(n_jobs=48)]: Done 240 out of 240 | elapsed:   13.2s finished\n"
     ]
    },
    {
     "name": "stdout",
     "output_type": "stream",
     "text": [
      "New Batch started : 10081 to 10320 \n"
     ]
    },
    {
     "name": "stderr",
     "output_type": "stream",
     "text": [
      "[Parallel(n_jobs=48)]: Done 104 tasks      | elapsed:    5.9s\n",
      "[Parallel(n_jobs=48)]: Done 240 out of 240 | elapsed:   13.6s finished\n"
     ]
    },
    {
     "name": "stdout",
     "output_type": "stream",
     "text": [
      "New Batch started : 10321 to 10560 \n"
     ]
    },
    {
     "name": "stderr",
     "output_type": "stream",
     "text": [
      "[Parallel(n_jobs=48)]: Done 104 tasks      | elapsed:    5.7s\n",
      "[Parallel(n_jobs=48)]: Done 240 out of 240 | elapsed:   13.4s finished\n"
     ]
    },
    {
     "name": "stdout",
     "output_type": "stream",
     "text": [
      "New Batch started : 10561 to 10691 \n"
     ]
    },
    {
     "name": "stderr",
     "output_type": "stream",
     "text": [
      "[Parallel(n_jobs=48)]: Done 131 out of 131 | elapsed:    7.3s finished\n"
     ]
    },
    {
     "name": "stdout",
     "output_type": "stream",
     "text": [
      "Loading test file #15 - dict_jobID_Xtest_Ytest_299348_310038_FROM_giga_takeoutdf_w_jobgroup.pickle\n",
      "Loaded test file #10691\n",
      "New Batch started : 1 to 240 \n"
     ]
    },
    {
     "name": "stderr",
     "output_type": "stream",
     "text": [
      "[Parallel(n_jobs=48)]: Done 104 tasks      | elapsed:    6.2s\n",
      "[Parallel(n_jobs=48)]: Done 240 out of 240 | elapsed:   14.1s finished\n"
     ]
    },
    {
     "name": "stdout",
     "output_type": "stream",
     "text": [
      "New Batch started : 241 to 480 \n"
     ]
    },
    {
     "name": "stderr",
     "output_type": "stream",
     "text": [
      "[Parallel(n_jobs=48)]: Done 104 tasks      | elapsed:    6.0s\n",
      "[Parallel(n_jobs=48)]: Done 240 out of 240 | elapsed:   13.9s finished\n"
     ]
    },
    {
     "name": "stdout",
     "output_type": "stream",
     "text": [
      "New Batch started : 481 to 720 \n"
     ]
    },
    {
     "name": "stderr",
     "output_type": "stream",
     "text": [
      "[Parallel(n_jobs=48)]: Done 104 tasks      | elapsed:    6.0s\n",
      "[Parallel(n_jobs=48)]: Done 240 out of 240 | elapsed:   14.1s finished\n"
     ]
    },
    {
     "name": "stdout",
     "output_type": "stream",
     "text": [
      "New Batch started : 721 to 960 \n"
     ]
    },
    {
     "name": "stderr",
     "output_type": "stream",
     "text": [
      "[Parallel(n_jobs=48)]: Done 104 tasks      | elapsed:    6.0s\n",
      "[Parallel(n_jobs=48)]: Done 240 out of 240 | elapsed:   14.3s finished\n"
     ]
    },
    {
     "name": "stdout",
     "output_type": "stream",
     "text": [
      "New Batch started : 961 to 1200 \n"
     ]
    },
    {
     "name": "stderr",
     "output_type": "stream",
     "text": [
      "[Parallel(n_jobs=48)]: Done 104 tasks      | elapsed:    5.7s\n",
      "[Parallel(n_jobs=48)]: Done 240 out of 240 | elapsed:   13.4s finished\n"
     ]
    },
    {
     "name": "stdout",
     "output_type": "stream",
     "text": [
      "New Batch started : 1201 to 1440 \n"
     ]
    },
    {
     "name": "stderr",
     "output_type": "stream",
     "text": [
      "[Parallel(n_jobs=48)]: Done 104 tasks      | elapsed:    5.9s\n",
      "[Parallel(n_jobs=48)]: Done 240 out of 240 | elapsed:   13.8s finished\n"
     ]
    },
    {
     "name": "stdout",
     "output_type": "stream",
     "text": [
      "New Batch started : 1441 to 1680 \n"
     ]
    },
    {
     "name": "stderr",
     "output_type": "stream",
     "text": [
      "[Parallel(n_jobs=48)]: Done 104 tasks      | elapsed:    6.5s\n",
      "[Parallel(n_jobs=48)]: Done 240 out of 240 | elapsed:   14.2s finished\n"
     ]
    },
    {
     "name": "stdout",
     "output_type": "stream",
     "text": [
      "New Batch started : 1681 to 1920 \n"
     ]
    },
    {
     "name": "stderr",
     "output_type": "stream",
     "text": [
      "[Parallel(n_jobs=48)]: Done 104 tasks      | elapsed:    6.1s\n",
      "[Parallel(n_jobs=48)]: Done 240 out of 240 | elapsed:   13.9s finished\n"
     ]
    },
    {
     "name": "stdout",
     "output_type": "stream",
     "text": [
      "New Batch started : 1921 to 2160 \n"
     ]
    },
    {
     "name": "stderr",
     "output_type": "stream",
     "text": [
      "[Parallel(n_jobs=48)]: Done 104 tasks      | elapsed:    6.1s\n",
      "[Parallel(n_jobs=48)]: Done 240 out of 240 | elapsed:   14.3s finished\n"
     ]
    },
    {
     "name": "stdout",
     "output_type": "stream",
     "text": [
      "New Batch started : 2161 to 2400 \n"
     ]
    },
    {
     "name": "stderr",
     "output_type": "stream",
     "text": [
      "[Parallel(n_jobs=48)]: Done 104 tasks      | elapsed:    6.2s\n",
      "[Parallel(n_jobs=48)]: Done 240 out of 240 | elapsed:   14.3s finished\n"
     ]
    },
    {
     "name": "stdout",
     "output_type": "stream",
     "text": [
      "New Batch started : 2401 to 2640 \n"
     ]
    },
    {
     "name": "stderr",
     "output_type": "stream",
     "text": [
      "[Parallel(n_jobs=48)]: Done 104 tasks      | elapsed:    6.4s\n",
      "[Parallel(n_jobs=48)]: Done 240 out of 240 | elapsed:   14.7s finished\n"
     ]
    },
    {
     "name": "stdout",
     "output_type": "stream",
     "text": [
      "New Batch started : 2641 to 2880 \n"
     ]
    },
    {
     "name": "stderr",
     "output_type": "stream",
     "text": [
      "[Parallel(n_jobs=48)]: Done 104 tasks      | elapsed:    6.0s\n",
      "[Parallel(n_jobs=48)]: Done 240 out of 240 | elapsed:   13.8s finished\n"
     ]
    },
    {
     "name": "stdout",
     "output_type": "stream",
     "text": [
      "New Batch started : 2881 to 3120 \n"
     ]
    },
    {
     "name": "stderr",
     "output_type": "stream",
     "text": [
      "[Parallel(n_jobs=48)]: Done 104 tasks      | elapsed:    6.4s\n",
      "[Parallel(n_jobs=48)]: Done 240 out of 240 | elapsed:   14.5s finished\n"
     ]
    },
    {
     "name": "stdout",
     "output_type": "stream",
     "text": [
      "New Batch started : 3121 to 3360 \n"
     ]
    },
    {
     "name": "stderr",
     "output_type": "stream",
     "text": [
      "[Parallel(n_jobs=48)]: Done 104 tasks      | elapsed:    6.3s\n",
      "[Parallel(n_jobs=48)]: Done 240 out of 240 | elapsed:   14.4s finished\n"
     ]
    },
    {
     "name": "stdout",
     "output_type": "stream",
     "text": [
      "New Batch started : 3361 to 3600 \n"
     ]
    },
    {
     "name": "stderr",
     "output_type": "stream",
     "text": [
      "[Parallel(n_jobs=48)]: Done 104 tasks      | elapsed:    6.2s\n",
      "[Parallel(n_jobs=48)]: Done 240 out of 240 | elapsed:   14.5s finished\n"
     ]
    },
    {
     "name": "stdout",
     "output_type": "stream",
     "text": [
      "New Batch started : 3601 to 3840 \n"
     ]
    },
    {
     "name": "stderr",
     "output_type": "stream",
     "text": [
      "[Parallel(n_jobs=48)]: Done 104 tasks      | elapsed:    6.1s\n",
      "[Parallel(n_jobs=48)]: Done 240 out of 240 | elapsed:   14.1s finished\n"
     ]
    },
    {
     "name": "stdout",
     "output_type": "stream",
     "text": [
      "New Batch started : 3841 to 4080 \n"
     ]
    },
    {
     "name": "stderr",
     "output_type": "stream",
     "text": [
      "[Parallel(n_jobs=48)]: Done 104 tasks      | elapsed:    6.1s\n",
      "[Parallel(n_jobs=48)]: Done 240 out of 240 | elapsed:   14.0s finished\n"
     ]
    },
    {
     "name": "stdout",
     "output_type": "stream",
     "text": [
      "New Batch started : 4081 to 4320 \n"
     ]
    },
    {
     "name": "stderr",
     "output_type": "stream",
     "text": [
      "[Parallel(n_jobs=48)]: Done 104 tasks      | elapsed:    6.1s\n",
      "[Parallel(n_jobs=48)]: Done 240 out of 240 | elapsed:   14.4s finished\n"
     ]
    },
    {
     "name": "stdout",
     "output_type": "stream",
     "text": [
      "New Batch started : 4321 to 4560 \n"
     ]
    },
    {
     "name": "stderr",
     "output_type": "stream",
     "text": [
      "[Parallel(n_jobs=48)]: Done 104 tasks      | elapsed:    6.1s\n",
      "[Parallel(n_jobs=48)]: Done 240 out of 240 | elapsed:   14.1s finished\n"
     ]
    },
    {
     "name": "stdout",
     "output_type": "stream",
     "text": [
      "New Batch started : 4561 to 4800 \n"
     ]
    },
    {
     "name": "stderr",
     "output_type": "stream",
     "text": [
      "[Parallel(n_jobs=48)]: Done 104 tasks      | elapsed:    5.8s\n",
      "[Parallel(n_jobs=48)]: Done 240 out of 240 | elapsed:   13.7s finished\n"
     ]
    },
    {
     "name": "stdout",
     "output_type": "stream",
     "text": [
      "New Batch started : 4801 to 5040 \n"
     ]
    },
    {
     "name": "stderr",
     "output_type": "stream",
     "text": [
      "[Parallel(n_jobs=48)]: Done 104 tasks      | elapsed:    6.0s\n",
      "[Parallel(n_jobs=48)]: Done 240 out of 240 | elapsed:   13.9s finished\n"
     ]
    },
    {
     "name": "stdout",
     "output_type": "stream",
     "text": [
      "New Batch started : 5041 to 5280 \n"
     ]
    },
    {
     "name": "stderr",
     "output_type": "stream",
     "text": [
      "[Parallel(n_jobs=48)]: Done 104 tasks      | elapsed:    6.2s\n",
      "[Parallel(n_jobs=48)]: Done 240 out of 240 | elapsed:   14.0s finished\n"
     ]
    },
    {
     "name": "stdout",
     "output_type": "stream",
     "text": [
      "New Batch started : 5281 to 5520 \n"
     ]
    },
    {
     "name": "stderr",
     "output_type": "stream",
     "text": [
      "[Parallel(n_jobs=48)]: Done 104 tasks      | elapsed:    6.0s\n",
      "[Parallel(n_jobs=48)]: Done 240 out of 240 | elapsed:   13.8s finished\n"
     ]
    },
    {
     "name": "stdout",
     "output_type": "stream",
     "text": [
      "New Batch started : 5521 to 5760 \n"
     ]
    },
    {
     "name": "stderr",
     "output_type": "stream",
     "text": [
      "[Parallel(n_jobs=48)]: Done 104 tasks      | elapsed:    6.0s\n",
      "[Parallel(n_jobs=48)]: Done 240 out of 240 | elapsed:   13.8s finished\n"
     ]
    },
    {
     "name": "stdout",
     "output_type": "stream",
     "text": [
      "New Batch started : 5761 to 6000 \n"
     ]
    },
    {
     "name": "stderr",
     "output_type": "stream",
     "text": [
      "[Parallel(n_jobs=48)]: Done 104 tasks      | elapsed:    6.2s\n",
      "[Parallel(n_jobs=48)]: Done 240 out of 240 | elapsed:   13.8s finished\n"
     ]
    },
    {
     "name": "stdout",
     "output_type": "stream",
     "text": [
      "New Batch started : 6001 to 6240 \n"
     ]
    },
    {
     "name": "stderr",
     "output_type": "stream",
     "text": [
      "[Parallel(n_jobs=48)]: Done 104 tasks      | elapsed:    6.0s\n",
      "[Parallel(n_jobs=48)]: Done 240 out of 240 | elapsed:   13.6s finished\n"
     ]
    },
    {
     "name": "stdout",
     "output_type": "stream",
     "text": [
      "New Batch started : 6241 to 6480 \n"
     ]
    },
    {
     "name": "stderr",
     "output_type": "stream",
     "text": [
      "[Parallel(n_jobs=48)]: Done 104 tasks      | elapsed:    6.0s\n",
      "[Parallel(n_jobs=48)]: Done 240 out of 240 | elapsed:   13.7s finished\n"
     ]
    },
    {
     "name": "stdout",
     "output_type": "stream",
     "text": [
      "New Batch started : 6481 to 6720 \n"
     ]
    },
    {
     "name": "stderr",
     "output_type": "stream",
     "text": [
      "[Parallel(n_jobs=48)]: Done 104 tasks      | elapsed:    5.8s\n",
      "[Parallel(n_jobs=48)]: Done 240 out of 240 | elapsed:   13.5s finished\n"
     ]
    },
    {
     "name": "stdout",
     "output_type": "stream",
     "text": [
      "New Batch started : 6721 to 6960 \n"
     ]
    },
    {
     "name": "stderr",
     "output_type": "stream",
     "text": [
      "[Parallel(n_jobs=48)]: Done 104 tasks      | elapsed:    6.3s\n",
      "[Parallel(n_jobs=48)]: Done 240 out of 240 | elapsed:   14.4s finished\n"
     ]
    },
    {
     "name": "stdout",
     "output_type": "stream",
     "text": [
      "New Batch started : 6961 to 7200 \n"
     ]
    },
    {
     "name": "stderr",
     "output_type": "stream",
     "text": [
      "[Parallel(n_jobs=48)]: Done 104 tasks      | elapsed:    6.0s\n",
      "[Parallel(n_jobs=48)]: Done 240 out of 240 | elapsed:   13.8s finished\n"
     ]
    },
    {
     "name": "stdout",
     "output_type": "stream",
     "text": [
      "New Batch started : 7201 to 7440 \n"
     ]
    },
    {
     "name": "stderr",
     "output_type": "stream",
     "text": [
      "[Parallel(n_jobs=48)]: Done 104 tasks      | elapsed:    5.7s\n",
      "[Parallel(n_jobs=48)]: Done 240 out of 240 | elapsed:   13.6s finished\n"
     ]
    },
    {
     "name": "stdout",
     "output_type": "stream",
     "text": [
      "New Batch started : 7441 to 7680 \n"
     ]
    },
    {
     "name": "stderr",
     "output_type": "stream",
     "text": [
      "[Parallel(n_jobs=48)]: Done 104 tasks      | elapsed:    6.0s\n",
      "[Parallel(n_jobs=48)]: Done 240 out of 240 | elapsed:   14.0s finished\n"
     ]
    },
    {
     "name": "stdout",
     "output_type": "stream",
     "text": [
      "New Batch started : 7681 to 7920 \n"
     ]
    },
    {
     "name": "stderr",
     "output_type": "stream",
     "text": [
      "[Parallel(n_jobs=48)]: Done 104 tasks      | elapsed:    6.1s\n",
      "[Parallel(n_jobs=48)]: Done 240 out of 240 | elapsed:   13.9s finished\n"
     ]
    },
    {
     "name": "stdout",
     "output_type": "stream",
     "text": [
      "New Batch started : 7921 to 8160 \n"
     ]
    },
    {
     "name": "stderr",
     "output_type": "stream",
     "text": [
      "[Parallel(n_jobs=48)]: Done 104 tasks      | elapsed:    6.1s\n",
      "[Parallel(n_jobs=48)]: Done 240 out of 240 | elapsed:   14.1s finished\n"
     ]
    },
    {
     "name": "stdout",
     "output_type": "stream",
     "text": [
      "New Batch started : 8161 to 8400 \n"
     ]
    },
    {
     "name": "stderr",
     "output_type": "stream",
     "text": [
      "[Parallel(n_jobs=48)]: Done 104 tasks      | elapsed:    6.1s\n",
      "[Parallel(n_jobs=48)]: Done 240 out of 240 | elapsed:   14.0s finished\n"
     ]
    },
    {
     "name": "stdout",
     "output_type": "stream",
     "text": [
      "New Batch started : 8401 to 8640 \n"
     ]
    },
    {
     "name": "stderr",
     "output_type": "stream",
     "text": [
      "[Parallel(n_jobs=48)]: Done 104 tasks      | elapsed:    6.0s\n",
      "[Parallel(n_jobs=48)]: Done 240 out of 240 | elapsed:   14.0s finished\n"
     ]
    },
    {
     "name": "stdout",
     "output_type": "stream",
     "text": [
      "New Batch started : 8641 to 8880 \n"
     ]
    },
    {
     "name": "stderr",
     "output_type": "stream",
     "text": [
      "[Parallel(n_jobs=48)]: Done 104 tasks      | elapsed:    6.4s\n",
      "[Parallel(n_jobs=48)]: Done 240 out of 240 | elapsed:   14.3s finished\n"
     ]
    },
    {
     "name": "stdout",
     "output_type": "stream",
     "text": [
      "New Batch started : 8881 to 9120 \n"
     ]
    },
    {
     "name": "stderr",
     "output_type": "stream",
     "text": [
      "[Parallel(n_jobs=48)]: Done 104 tasks      | elapsed:    6.2s\n",
      "[Parallel(n_jobs=48)]: Done 240 out of 240 | elapsed:   13.9s finished\n"
     ]
    },
    {
     "name": "stdout",
     "output_type": "stream",
     "text": [
      "New Batch started : 9121 to 9360 \n"
     ]
    },
    {
     "name": "stderr",
     "output_type": "stream",
     "text": [
      "[Parallel(n_jobs=48)]: Done 104 tasks      | elapsed:    6.3s\n",
      "[Parallel(n_jobs=48)]: Done 240 out of 240 | elapsed:   14.3s finished\n"
     ]
    },
    {
     "name": "stdout",
     "output_type": "stream",
     "text": [
      "New Batch started : 9361 to 9600 \n"
     ]
    },
    {
     "name": "stderr",
     "output_type": "stream",
     "text": [
      "[Parallel(n_jobs=48)]: Done 104 tasks      | elapsed:    6.2s\n",
      "[Parallel(n_jobs=48)]: Done 240 out of 240 | elapsed:   13.7s finished\n"
     ]
    },
    {
     "name": "stdout",
     "output_type": "stream",
     "text": [
      "New Batch started : 9601 to 9840 \n"
     ]
    },
    {
     "name": "stderr",
     "output_type": "stream",
     "text": [
      "[Parallel(n_jobs=48)]: Done 104 tasks      | elapsed:    5.9s\n",
      "[Parallel(n_jobs=48)]: Done 240 out of 240 | elapsed:   13.8s finished\n"
     ]
    },
    {
     "name": "stdout",
     "output_type": "stream",
     "text": [
      "New Batch started : 9841 to 10080 \n"
     ]
    },
    {
     "name": "stderr",
     "output_type": "stream",
     "text": [
      "[Parallel(n_jobs=48)]: Done 104 tasks      | elapsed:    6.2s\n",
      "[Parallel(n_jobs=48)]: Done 240 out of 240 | elapsed:   14.1s finished\n"
     ]
    },
    {
     "name": "stdout",
     "output_type": "stream",
     "text": [
      "New Batch started : 10081 to 10320 \n"
     ]
    },
    {
     "name": "stderr",
     "output_type": "stream",
     "text": [
      "[Parallel(n_jobs=48)]: Done 104 tasks      | elapsed:    6.4s\n",
      "[Parallel(n_jobs=48)]: Done 240 out of 240 | elapsed:   14.3s finished\n"
     ]
    },
    {
     "name": "stdout",
     "output_type": "stream",
     "text": [
      "New Batch started : 10321 to 10560 \n"
     ]
    },
    {
     "name": "stderr",
     "output_type": "stream",
     "text": [
      "[Parallel(n_jobs=48)]: Done 104 tasks      | elapsed:    5.9s\n",
      "[Parallel(n_jobs=48)]: Done 240 out of 240 | elapsed:   13.9s finished\n"
     ]
    },
    {
     "name": "stdout",
     "output_type": "stream",
     "text": [
      "New Batch started : 10561 to 10691 \n"
     ]
    },
    {
     "name": "stderr",
     "output_type": "stream",
     "text": [
      "[Parallel(n_jobs=48)]: Done 131 out of 131 | elapsed:    7.5s finished\n"
     ]
    },
    {
     "name": "stdout",
     "output_type": "stream",
     "text": [
      "Loading test file #16 - dict_jobID_Xtest_Ytest_310039_320729_FROM_giga_takeoutdf_w_jobgroup.pickle\n",
      "Loaded test file #10691\n",
      "New Batch started : 1 to 240 \n"
     ]
    },
    {
     "name": "stderr",
     "output_type": "stream",
     "text": [
      "[Parallel(n_jobs=48)]: Done 104 tasks      | elapsed:    6.1s\n",
      "[Parallel(n_jobs=48)]: Done 240 out of 240 | elapsed:   13.9s finished\n"
     ]
    },
    {
     "name": "stdout",
     "output_type": "stream",
     "text": [
      "New Batch started : 241 to 480 \n"
     ]
    },
    {
     "name": "stderr",
     "output_type": "stream",
     "text": [
      "[Parallel(n_jobs=48)]: Done 104 tasks      | elapsed:    6.3s\n",
      "[Parallel(n_jobs=48)]: Done 240 out of 240 | elapsed:   14.1s finished\n"
     ]
    },
    {
     "name": "stdout",
     "output_type": "stream",
     "text": [
      "New Batch started : 481 to 720 \n"
     ]
    },
    {
     "name": "stderr",
     "output_type": "stream",
     "text": [
      "[Parallel(n_jobs=48)]: Done 104 tasks      | elapsed:    6.1s\n",
      "[Parallel(n_jobs=48)]: Done 240 out of 240 | elapsed:   14.0s finished\n"
     ]
    },
    {
     "name": "stdout",
     "output_type": "stream",
     "text": [
      "New Batch started : 721 to 960 \n"
     ]
    },
    {
     "name": "stderr",
     "output_type": "stream",
     "text": [
      "[Parallel(n_jobs=48)]: Done 104 tasks      | elapsed:    6.2s\n",
      "[Parallel(n_jobs=48)]: Done 240 out of 240 | elapsed:   14.2s finished\n"
     ]
    },
    {
     "name": "stdout",
     "output_type": "stream",
     "text": [
      "New Batch started : 961 to 1200 \n"
     ]
    },
    {
     "name": "stderr",
     "output_type": "stream",
     "text": [
      "[Parallel(n_jobs=48)]: Done 104 tasks      | elapsed:    6.3s\n",
      "[Parallel(n_jobs=48)]: Done 240 out of 240 | elapsed:   14.4s finished\n"
     ]
    },
    {
     "name": "stdout",
     "output_type": "stream",
     "text": [
      "New Batch started : 1201 to 1440 \n"
     ]
    },
    {
     "name": "stderr",
     "output_type": "stream",
     "text": [
      "[Parallel(n_jobs=48)]: Done 104 tasks      | elapsed:    6.1s\n",
      "[Parallel(n_jobs=48)]: Done 240 out of 240 | elapsed:   13.7s finished\n"
     ]
    },
    {
     "name": "stdout",
     "output_type": "stream",
     "text": [
      "New Batch started : 1441 to 1680 \n"
     ]
    },
    {
     "name": "stderr",
     "output_type": "stream",
     "text": [
      "[Parallel(n_jobs=48)]: Done 104 tasks      | elapsed:    6.1s\n",
      "[Parallel(n_jobs=48)]: Done 240 out of 240 | elapsed:   14.3s finished\n"
     ]
    },
    {
     "name": "stdout",
     "output_type": "stream",
     "text": [
      "New Batch started : 1681 to 1920 \n"
     ]
    },
    {
     "name": "stderr",
     "output_type": "stream",
     "text": [
      "[Parallel(n_jobs=48)]: Done 104 tasks      | elapsed:    6.1s\n",
      "[Parallel(n_jobs=48)]: Done 240 out of 240 | elapsed:   14.2s finished\n"
     ]
    },
    {
     "name": "stdout",
     "output_type": "stream",
     "text": [
      "New Batch started : 1921 to 2160 \n"
     ]
    },
    {
     "name": "stderr",
     "output_type": "stream",
     "text": [
      "[Parallel(n_jobs=48)]: Done 104 tasks      | elapsed:    6.1s\n",
      "[Parallel(n_jobs=48)]: Done 240 out of 240 | elapsed:   14.5s finished\n"
     ]
    },
    {
     "name": "stdout",
     "output_type": "stream",
     "text": [
      "New Batch started : 2161 to 2400 \n"
     ]
    },
    {
     "name": "stderr",
     "output_type": "stream",
     "text": [
      "[Parallel(n_jobs=48)]: Done 104 tasks      | elapsed:    6.2s\n",
      "[Parallel(n_jobs=48)]: Done 240 out of 240 | elapsed:   14.2s finished\n"
     ]
    },
    {
     "name": "stdout",
     "output_type": "stream",
     "text": [
      "New Batch started : 2401 to 2640 \n"
     ]
    },
    {
     "name": "stderr",
     "output_type": "stream",
     "text": [
      "[Parallel(n_jobs=48)]: Done 104 tasks      | elapsed:    6.3s\n",
      "[Parallel(n_jobs=48)]: Done 240 out of 240 | elapsed:   14.3s finished\n"
     ]
    },
    {
     "name": "stdout",
     "output_type": "stream",
     "text": [
      "New Batch started : 2641 to 2880 \n"
     ]
    },
    {
     "name": "stderr",
     "output_type": "stream",
     "text": [
      "[Parallel(n_jobs=48)]: Done 104 tasks      | elapsed:    6.0s\n",
      "[Parallel(n_jobs=48)]: Done 240 out of 240 | elapsed:   14.3s finished\n"
     ]
    },
    {
     "name": "stdout",
     "output_type": "stream",
     "text": [
      "New Batch started : 2881 to 3120 \n"
     ]
    },
    {
     "name": "stderr",
     "output_type": "stream",
     "text": [
      "[Parallel(n_jobs=48)]: Done 104 tasks      | elapsed:    6.7s\n",
      "[Parallel(n_jobs=48)]: Done 240 out of 240 | elapsed:   14.7s finished\n"
     ]
    },
    {
     "name": "stdout",
     "output_type": "stream",
     "text": [
      "New Batch started : 3121 to 3360 \n"
     ]
    },
    {
     "name": "stderr",
     "output_type": "stream",
     "text": [
      "[Parallel(n_jobs=48)]: Done 104 tasks      | elapsed:    6.2s\n",
      "[Parallel(n_jobs=48)]: Done 240 out of 240 | elapsed:   14.2s finished\n"
     ]
    },
    {
     "name": "stdout",
     "output_type": "stream",
     "text": [
      "New Batch started : 3361 to 3600 \n"
     ]
    },
    {
     "name": "stderr",
     "output_type": "stream",
     "text": [
      "[Parallel(n_jobs=48)]: Done 104 tasks      | elapsed:    6.2s\n",
      "[Parallel(n_jobs=48)]: Done 240 out of 240 | elapsed:   14.1s finished\n"
     ]
    },
    {
     "name": "stdout",
     "output_type": "stream",
     "text": [
      "New Batch started : 3601 to 3840 \n"
     ]
    },
    {
     "name": "stderr",
     "output_type": "stream",
     "text": [
      "[Parallel(n_jobs=48)]: Done 104 tasks      | elapsed:    5.9s\n",
      "[Parallel(n_jobs=48)]: Done 240 out of 240 | elapsed:   14.1s finished\n"
     ]
    },
    {
     "name": "stdout",
     "output_type": "stream",
     "text": [
      "New Batch started : 3841 to 4080 \n"
     ]
    },
    {
     "name": "stderr",
     "output_type": "stream",
     "text": [
      "[Parallel(n_jobs=48)]: Done 104 tasks      | elapsed:    6.0s\n",
      "[Parallel(n_jobs=48)]: Done 240 out of 240 | elapsed:   14.3s finished\n"
     ]
    },
    {
     "name": "stdout",
     "output_type": "stream",
     "text": [
      "New Batch started : 4081 to 4320 \n"
     ]
    },
    {
     "name": "stderr",
     "output_type": "stream",
     "text": [
      "[Parallel(n_jobs=48)]: Done 104 tasks      | elapsed:    5.8s\n",
      "[Parallel(n_jobs=48)]: Done 240 out of 240 | elapsed:   13.9s finished\n"
     ]
    },
    {
     "name": "stdout",
     "output_type": "stream",
     "text": [
      "New Batch started : 4321 to 4560 \n"
     ]
    },
    {
     "name": "stderr",
     "output_type": "stream",
     "text": [
      "[Parallel(n_jobs=48)]: Done 104 tasks      | elapsed:    6.3s\n",
      "[Parallel(n_jobs=48)]: Done 240 out of 240 | elapsed:   14.2s finished\n"
     ]
    },
    {
     "name": "stdout",
     "output_type": "stream",
     "text": [
      "New Batch started : 4561 to 4800 \n"
     ]
    },
    {
     "name": "stderr",
     "output_type": "stream",
     "text": [
      "[Parallel(n_jobs=48)]: Done 104 tasks      | elapsed:    6.0s\n",
      "[Parallel(n_jobs=48)]: Done 240 out of 240 | elapsed:   13.9s finished\n"
     ]
    },
    {
     "name": "stdout",
     "output_type": "stream",
     "text": [
      "New Batch started : 4801 to 5040 \n"
     ]
    },
    {
     "name": "stderr",
     "output_type": "stream",
     "text": [
      "[Parallel(n_jobs=48)]: Done 104 tasks      | elapsed:    6.3s\n",
      "[Parallel(n_jobs=48)]: Done 240 out of 240 | elapsed:   14.3s finished\n"
     ]
    },
    {
     "name": "stdout",
     "output_type": "stream",
     "text": [
      "New Batch started : 5041 to 5280 \n"
     ]
    },
    {
     "name": "stderr",
     "output_type": "stream",
     "text": [
      "[Parallel(n_jobs=48)]: Done 104 tasks      | elapsed:    6.1s\n",
      "[Parallel(n_jobs=48)]: Done 240 out of 240 | elapsed:   14.1s finished\n"
     ]
    },
    {
     "name": "stdout",
     "output_type": "stream",
     "text": [
      "New Batch started : 5281 to 5520 \n"
     ]
    },
    {
     "name": "stderr",
     "output_type": "stream",
     "text": [
      "[Parallel(n_jobs=48)]: Done 104 tasks      | elapsed:    6.1s\n",
      "[Parallel(n_jobs=48)]: Done 240 out of 240 | elapsed:   13.9s finished\n"
     ]
    },
    {
     "name": "stdout",
     "output_type": "stream",
     "text": [
      "New Batch started : 5521 to 5760 \n"
     ]
    },
    {
     "name": "stderr",
     "output_type": "stream",
     "text": [
      "[Parallel(n_jobs=48)]: Done 104 tasks      | elapsed:    6.1s\n",
      "[Parallel(n_jobs=48)]: Done 240 out of 240 | elapsed:   14.3s finished\n"
     ]
    },
    {
     "name": "stdout",
     "output_type": "stream",
     "text": [
      "New Batch started : 5761 to 6000 \n"
     ]
    },
    {
     "name": "stderr",
     "output_type": "stream",
     "text": [
      "[Parallel(n_jobs=48)]: Done 104 tasks      | elapsed:    6.3s\n",
      "[Parallel(n_jobs=48)]: Done 240 out of 240 | elapsed:   14.2s finished\n"
     ]
    },
    {
     "name": "stdout",
     "output_type": "stream",
     "text": [
      "New Batch started : 6001 to 6240 \n"
     ]
    },
    {
     "name": "stderr",
     "output_type": "stream",
     "text": [
      "[Parallel(n_jobs=48)]: Done 104 tasks      | elapsed:    5.9s\n",
      "[Parallel(n_jobs=48)]: Done 240 out of 240 | elapsed:   14.1s finished\n"
     ]
    },
    {
     "name": "stdout",
     "output_type": "stream",
     "text": [
      "New Batch started : 6241 to 6480 \n"
     ]
    },
    {
     "name": "stderr",
     "output_type": "stream",
     "text": [
      "[Parallel(n_jobs=48)]: Done 104 tasks      | elapsed:    6.2s\n",
      "[Parallel(n_jobs=48)]: Done 240 out of 240 | elapsed:   14.4s finished\n"
     ]
    },
    {
     "name": "stdout",
     "output_type": "stream",
     "text": [
      "New Batch started : 6481 to 6720 \n"
     ]
    },
    {
     "name": "stderr",
     "output_type": "stream",
     "text": [
      "[Parallel(n_jobs=48)]: Done 104 tasks      | elapsed:    6.1s\n",
      "[Parallel(n_jobs=48)]: Done 240 out of 240 | elapsed:   14.4s finished\n"
     ]
    },
    {
     "name": "stdout",
     "output_type": "stream",
     "text": [
      "New Batch started : 6721 to 6960 \n"
     ]
    },
    {
     "name": "stderr",
     "output_type": "stream",
     "text": [
      "[Parallel(n_jobs=48)]: Done 104 tasks      | elapsed:    6.2s\n",
      "[Parallel(n_jobs=48)]: Done 240 out of 240 | elapsed:   14.4s finished\n"
     ]
    },
    {
     "name": "stdout",
     "output_type": "stream",
     "text": [
      "New Batch started : 6961 to 7200 \n"
     ]
    },
    {
     "name": "stderr",
     "output_type": "stream",
     "text": [
      "[Parallel(n_jobs=48)]: Done 104 tasks      | elapsed:    6.1s\n",
      "[Parallel(n_jobs=48)]: Done 240 out of 240 | elapsed:   14.4s finished\n"
     ]
    },
    {
     "name": "stdout",
     "output_type": "stream",
     "text": [
      "New Batch started : 7201 to 7440 \n"
     ]
    },
    {
     "name": "stderr",
     "output_type": "stream",
     "text": [
      "[Parallel(n_jobs=48)]: Done 104 tasks      | elapsed:    5.9s\n",
      "[Parallel(n_jobs=48)]: Done 240 out of 240 | elapsed:   14.0s finished\n"
     ]
    },
    {
     "name": "stdout",
     "output_type": "stream",
     "text": [
      "New Batch started : 7441 to 7680 \n"
     ]
    },
    {
     "name": "stderr",
     "output_type": "stream",
     "text": [
      "[Parallel(n_jobs=48)]: Done 104 tasks      | elapsed:    6.0s\n",
      "[Parallel(n_jobs=48)]: Done 240 out of 240 | elapsed:   14.0s finished\n"
     ]
    },
    {
     "name": "stdout",
     "output_type": "stream",
     "text": [
      "New Batch started : 7681 to 7920 \n"
     ]
    },
    {
     "name": "stderr",
     "output_type": "stream",
     "text": [
      "[Parallel(n_jobs=48)]: Done 104 tasks      | elapsed:    6.2s\n",
      "[Parallel(n_jobs=48)]: Done 240 out of 240 | elapsed:   14.5s finished\n"
     ]
    },
    {
     "name": "stdout",
     "output_type": "stream",
     "text": [
      "New Batch started : 7921 to 8160 \n"
     ]
    },
    {
     "name": "stderr",
     "output_type": "stream",
     "text": [
      "[Parallel(n_jobs=48)]: Done 104 tasks      | elapsed:    6.0s\n",
      "[Parallel(n_jobs=48)]: Done 240 out of 240 | elapsed:   13.9s finished\n"
     ]
    },
    {
     "name": "stdout",
     "output_type": "stream",
     "text": [
      "New Batch started : 8161 to 8400 \n"
     ]
    },
    {
     "name": "stderr",
     "output_type": "stream",
     "text": [
      "[Parallel(n_jobs=48)]: Done 104 tasks      | elapsed:    5.9s\n",
      "[Parallel(n_jobs=48)]: Done 240 out of 240 | elapsed:   14.0s finished\n"
     ]
    },
    {
     "name": "stdout",
     "output_type": "stream",
     "text": [
      "New Batch started : 8401 to 8640 \n"
     ]
    },
    {
     "name": "stderr",
     "output_type": "stream",
     "text": [
      "[Parallel(n_jobs=48)]: Done 104 tasks      | elapsed:    6.5s\n",
      "[Parallel(n_jobs=48)]: Done 240 out of 240 | elapsed:   14.6s finished\n"
     ]
    },
    {
     "name": "stdout",
     "output_type": "stream",
     "text": [
      "New Batch started : 8641 to 8880 \n"
     ]
    },
    {
     "name": "stderr",
     "output_type": "stream",
     "text": [
      "[Parallel(n_jobs=48)]: Done 104 tasks      | elapsed:    6.6s\n",
      "[Parallel(n_jobs=48)]: Done 240 out of 240 | elapsed:   14.4s finished\n"
     ]
    },
    {
     "name": "stdout",
     "output_type": "stream",
     "text": [
      "New Batch started : 8881 to 9120 \n"
     ]
    },
    {
     "name": "stderr",
     "output_type": "stream",
     "text": [
      "[Parallel(n_jobs=48)]: Done 104 tasks      | elapsed:    6.2s\n",
      "[Parallel(n_jobs=48)]: Done 240 out of 240 | elapsed:   14.4s finished\n"
     ]
    },
    {
     "name": "stdout",
     "output_type": "stream",
     "text": [
      "New Batch started : 9121 to 9360 \n"
     ]
    },
    {
     "name": "stderr",
     "output_type": "stream",
     "text": [
      "[Parallel(n_jobs=48)]: Done 104 tasks      | elapsed:    5.9s\n",
      "[Parallel(n_jobs=48)]: Done 240 out of 240 | elapsed:   14.5s finished\n"
     ]
    },
    {
     "name": "stdout",
     "output_type": "stream",
     "text": [
      "New Batch started : 9361 to 9600 \n"
     ]
    },
    {
     "name": "stderr",
     "output_type": "stream",
     "text": [
      "[Parallel(n_jobs=48)]: Done 104 tasks      | elapsed:    6.3s\n",
      "[Parallel(n_jobs=48)]: Done 240 out of 240 | elapsed:   14.4s finished\n"
     ]
    },
    {
     "name": "stdout",
     "output_type": "stream",
     "text": [
      "New Batch started : 9601 to 9840 \n"
     ]
    },
    {
     "name": "stderr",
     "output_type": "stream",
     "text": [
      "[Parallel(n_jobs=48)]: Done 104 tasks      | elapsed:    6.1s\n",
      "[Parallel(n_jobs=48)]: Done 240 out of 240 | elapsed:   14.4s finished\n"
     ]
    },
    {
     "name": "stdout",
     "output_type": "stream",
     "text": [
      "New Batch started : 9841 to 10080 \n"
     ]
    },
    {
     "name": "stderr",
     "output_type": "stream",
     "text": [
      "[Parallel(n_jobs=48)]: Done 104 tasks      | elapsed:    6.2s\n",
      "[Parallel(n_jobs=48)]: Done 240 out of 240 | elapsed:   14.3s finished\n"
     ]
    },
    {
     "name": "stdout",
     "output_type": "stream",
     "text": [
      "New Batch started : 10081 to 10320 \n"
     ]
    },
    {
     "name": "stderr",
     "output_type": "stream",
     "text": [
      "[Parallel(n_jobs=48)]: Done 104 tasks      | elapsed:    6.5s\n",
      "[Parallel(n_jobs=48)]: Done 240 out of 240 | elapsed:   14.5s finished\n"
     ]
    },
    {
     "name": "stdout",
     "output_type": "stream",
     "text": [
      "New Batch started : 10321 to 10560 \n"
     ]
    },
    {
     "name": "stderr",
     "output_type": "stream",
     "text": [
      "[Parallel(n_jobs=48)]: Done 104 tasks      | elapsed:    6.2s\n",
      "[Parallel(n_jobs=48)]: Done 240 out of 240 | elapsed:   14.0s finished\n"
     ]
    },
    {
     "name": "stdout",
     "output_type": "stream",
     "text": [
      "New Batch started : 10561 to 10691 \n"
     ]
    },
    {
     "name": "stderr",
     "output_type": "stream",
     "text": [
      "[Parallel(n_jobs=48)]: Done 131 out of 131 | elapsed:    7.6s finished\n"
     ]
    },
    {
     "name": "stdout",
     "output_type": "stream",
     "text": [
      "Loading test file #17 - dict_jobID_Xtest_Ytest_32073_64145_FROM_giga_takeoutdf_w_jobgroup.pickle\n",
      "Loaded test file #32073\n",
      "New Batch started : 1 to 240 \n"
     ]
    },
    {
     "name": "stderr",
     "output_type": "stream",
     "text": [
      "[Parallel(n_jobs=48)]: Done 104 tasks      | elapsed:    5.4s\n",
      "[Parallel(n_jobs=48)]: Done 240 out of 240 | elapsed:   12.5s finished\n"
     ]
    },
    {
     "name": "stdout",
     "output_type": "stream",
     "text": [
      "New Batch started : 241 to 480 \n"
     ]
    },
    {
     "name": "stderr",
     "output_type": "stream",
     "text": [
      "[Parallel(n_jobs=48)]: Done 104 tasks      | elapsed:    5.4s\n",
      "[Parallel(n_jobs=48)]: Done 240 out of 240 | elapsed:   12.5s finished\n"
     ]
    },
    {
     "name": "stdout",
     "output_type": "stream",
     "text": [
      "New Batch started : 481 to 720 \n"
     ]
    },
    {
     "name": "stderr",
     "output_type": "stream",
     "text": [
      "[Parallel(n_jobs=48)]: Done 104 tasks      | elapsed:    5.4s\n",
      "[Parallel(n_jobs=48)]: Done 240 out of 240 | elapsed:   12.5s finished\n"
     ]
    },
    {
     "name": "stdout",
     "output_type": "stream",
     "text": [
      "New Batch started : 721 to 960 \n"
     ]
    },
    {
     "name": "stderr",
     "output_type": "stream",
     "text": [
      "[Parallel(n_jobs=48)]: Done 104 tasks      | elapsed:    5.4s\n",
      "[Parallel(n_jobs=48)]: Done 240 out of 240 | elapsed:   12.4s finished\n"
     ]
    },
    {
     "name": "stdout",
     "output_type": "stream",
     "text": [
      "New Batch started : 961 to 1200 \n"
     ]
    },
    {
     "name": "stderr",
     "output_type": "stream",
     "text": [
      "[Parallel(n_jobs=48)]: Done 104 tasks      | elapsed:    5.4s\n",
      "[Parallel(n_jobs=48)]: Done 240 out of 240 | elapsed:   12.4s finished\n"
     ]
    },
    {
     "name": "stdout",
     "output_type": "stream",
     "text": [
      "New Batch started : 1201 to 1440 \n"
     ]
    },
    {
     "name": "stderr",
     "output_type": "stream",
     "text": [
      "[Parallel(n_jobs=48)]: Done 104 tasks      | elapsed:    5.4s\n",
      "[Parallel(n_jobs=48)]: Done 240 out of 240 | elapsed:   12.4s finished\n"
     ]
    },
    {
     "name": "stdout",
     "output_type": "stream",
     "text": [
      "New Batch started : 1441 to 1680 \n"
     ]
    },
    {
     "name": "stderr",
     "output_type": "stream",
     "text": [
      "[Parallel(n_jobs=48)]: Done 104 tasks      | elapsed:    5.4s\n",
      "[Parallel(n_jobs=48)]: Done 240 out of 240 | elapsed:   12.5s finished\n"
     ]
    },
    {
     "name": "stdout",
     "output_type": "stream",
     "text": [
      "New Batch started : 1681 to 1920 \n"
     ]
    },
    {
     "name": "stderr",
     "output_type": "stream",
     "text": [
      "[Parallel(n_jobs=48)]: Done 104 tasks      | elapsed:    5.4s\n",
      "[Parallel(n_jobs=48)]: Done 240 out of 240 | elapsed:   12.4s finished\n"
     ]
    },
    {
     "name": "stdout",
     "output_type": "stream",
     "text": [
      "New Batch started : 1921 to 2160 \n"
     ]
    },
    {
     "name": "stderr",
     "output_type": "stream",
     "text": [
      "[Parallel(n_jobs=48)]: Done 104 tasks      | elapsed:    5.4s\n",
      "[Parallel(n_jobs=48)]: Done 240 out of 240 | elapsed:   12.4s finished\n"
     ]
    },
    {
     "name": "stdout",
     "output_type": "stream",
     "text": [
      "New Batch started : 2161 to 2400 \n"
     ]
    },
    {
     "name": "stderr",
     "output_type": "stream",
     "text": [
      "[Parallel(n_jobs=48)]: Done 104 tasks      | elapsed:    5.4s\n",
      "[Parallel(n_jobs=48)]: Done 240 out of 240 | elapsed:   12.4s finished\n"
     ]
    },
    {
     "name": "stdout",
     "output_type": "stream",
     "text": [
      "New Batch started : 2401 to 2640 \n"
     ]
    },
    {
     "name": "stderr",
     "output_type": "stream",
     "text": [
      "[Parallel(n_jobs=48)]: Done 104 tasks      | elapsed:    5.4s\n",
      "[Parallel(n_jobs=48)]: Done 240 out of 240 | elapsed:   12.4s finished\n"
     ]
    },
    {
     "name": "stdout",
     "output_type": "stream",
     "text": [
      "New Batch started : 2641 to 2880 \n"
     ]
    },
    {
     "name": "stderr",
     "output_type": "stream",
     "text": [
      "[Parallel(n_jobs=48)]: Done 104 tasks      | elapsed:    5.4s\n",
      "[Parallel(n_jobs=48)]: Done 240 out of 240 | elapsed:   12.5s finished\n"
     ]
    },
    {
     "name": "stdout",
     "output_type": "stream",
     "text": [
      "New Batch started : 2881 to 3120 \n"
     ]
    },
    {
     "name": "stderr",
     "output_type": "stream",
     "text": [
      "[Parallel(n_jobs=48)]: Done 104 tasks      | elapsed:    5.4s\n",
      "[Parallel(n_jobs=48)]: Done 240 out of 240 | elapsed:   12.4s finished\n"
     ]
    },
    {
     "name": "stdout",
     "output_type": "stream",
     "text": [
      "New Batch started : 3121 to 3360 \n"
     ]
    },
    {
     "name": "stderr",
     "output_type": "stream",
     "text": [
      "[Parallel(n_jobs=48)]: Done 104 tasks      | elapsed:    5.4s\n",
      "[Parallel(n_jobs=48)]: Done 240 out of 240 | elapsed:   12.4s finished\n"
     ]
    },
    {
     "name": "stdout",
     "output_type": "stream",
     "text": [
      "New Batch started : 3361 to 3600 \n"
     ]
    },
    {
     "name": "stderr",
     "output_type": "stream",
     "text": [
      "[Parallel(n_jobs=48)]: Done 104 tasks      | elapsed:    5.4s\n",
      "[Parallel(n_jobs=48)]: Done 240 out of 240 | elapsed:   12.5s finished\n"
     ]
    },
    {
     "name": "stdout",
     "output_type": "stream",
     "text": [
      "New Batch started : 3601 to 3840 \n"
     ]
    },
    {
     "name": "stderr",
     "output_type": "stream",
     "text": [
      "[Parallel(n_jobs=48)]: Done 104 tasks      | elapsed:    5.4s\n",
      "[Parallel(n_jobs=48)]: Done 240 out of 240 | elapsed:   12.5s finished\n"
     ]
    },
    {
     "name": "stdout",
     "output_type": "stream",
     "text": [
      "New Batch started : 3841 to 4080 \n"
     ]
    },
    {
     "name": "stderr",
     "output_type": "stream",
     "text": [
      "[Parallel(n_jobs=48)]: Done 104 tasks      | elapsed:    5.4s\n",
      "[Parallel(n_jobs=48)]: Done 240 out of 240 | elapsed:   12.5s finished\n"
     ]
    },
    {
     "name": "stdout",
     "output_type": "stream",
     "text": [
      "New Batch started : 4081 to 4320 \n"
     ]
    },
    {
     "name": "stderr",
     "output_type": "stream",
     "text": [
      "[Parallel(n_jobs=48)]: Done 104 tasks      | elapsed:    5.4s\n",
      "[Parallel(n_jobs=48)]: Done 240 out of 240 | elapsed:   12.4s finished\n"
     ]
    },
    {
     "name": "stdout",
     "output_type": "stream",
     "text": [
      "New Batch started : 4321 to 4560 \n"
     ]
    },
    {
     "name": "stderr",
     "output_type": "stream",
     "text": [
      "[Parallel(n_jobs=48)]: Done 104 tasks      | elapsed:    5.4s\n",
      "[Parallel(n_jobs=48)]: Done 240 out of 240 | elapsed:   12.5s finished\n"
     ]
    },
    {
     "name": "stdout",
     "output_type": "stream",
     "text": [
      "New Batch started : 4561 to 4800 \n"
     ]
    },
    {
     "name": "stderr",
     "output_type": "stream",
     "text": [
      "[Parallel(n_jobs=48)]: Done 104 tasks      | elapsed:    5.4s\n",
      "[Parallel(n_jobs=48)]: Done 240 out of 240 | elapsed:   12.4s finished\n"
     ]
    },
    {
     "name": "stdout",
     "output_type": "stream",
     "text": [
      "New Batch started : 4801 to 5040 \n"
     ]
    },
    {
     "name": "stderr",
     "output_type": "stream",
     "text": [
      "[Parallel(n_jobs=48)]: Done 104 tasks      | elapsed:    5.4s\n",
      "[Parallel(n_jobs=48)]: Done 240 out of 240 | elapsed:   12.4s finished\n"
     ]
    },
    {
     "name": "stdout",
     "output_type": "stream",
     "text": [
      "New Batch started : 5041 to 5280 \n"
     ]
    },
    {
     "name": "stderr",
     "output_type": "stream",
     "text": [
      "[Parallel(n_jobs=48)]: Done 104 tasks      | elapsed:    5.4s\n",
      "[Parallel(n_jobs=48)]: Done 240 out of 240 | elapsed:   12.4s finished\n"
     ]
    },
    {
     "name": "stdout",
     "output_type": "stream",
     "text": [
      "New Batch started : 5281 to 5520 \n"
     ]
    },
    {
     "name": "stderr",
     "output_type": "stream",
     "text": [
      "[Parallel(n_jobs=48)]: Done 104 tasks      | elapsed:    5.4s\n",
      "[Parallel(n_jobs=48)]: Done 240 out of 240 | elapsed:   12.4s finished\n"
     ]
    },
    {
     "name": "stdout",
     "output_type": "stream",
     "text": [
      "New Batch started : 5521 to 5760 \n"
     ]
    },
    {
     "name": "stderr",
     "output_type": "stream",
     "text": [
      "[Parallel(n_jobs=48)]: Done 104 tasks      | elapsed:    5.4s\n",
      "[Parallel(n_jobs=48)]: Done 240 out of 240 | elapsed:   12.4s finished\n"
     ]
    },
    {
     "name": "stdout",
     "output_type": "stream",
     "text": [
      "New Batch started : 5761 to 6000 \n"
     ]
    },
    {
     "name": "stderr",
     "output_type": "stream",
     "text": [
      "[Parallel(n_jobs=48)]: Done 104 tasks      | elapsed:    5.4s\n",
      "[Parallel(n_jobs=48)]: Done 240 out of 240 | elapsed:   12.5s finished\n"
     ]
    },
    {
     "name": "stdout",
     "output_type": "stream",
     "text": [
      "New Batch started : 6001 to 6240 \n"
     ]
    },
    {
     "name": "stderr",
     "output_type": "stream",
     "text": [
      "[Parallel(n_jobs=48)]: Done 104 tasks      | elapsed:    5.4s\n",
      "[Parallel(n_jobs=48)]: Done 240 out of 240 | elapsed:   12.4s finished\n"
     ]
    },
    {
     "name": "stdout",
     "output_type": "stream",
     "text": [
      "New Batch started : 6241 to 6480 \n"
     ]
    },
    {
     "name": "stderr",
     "output_type": "stream",
     "text": [
      "[Parallel(n_jobs=48)]: Done 104 tasks      | elapsed:    5.4s\n",
      "[Parallel(n_jobs=48)]: Done 240 out of 240 | elapsed:   12.4s finished\n"
     ]
    },
    {
     "name": "stdout",
     "output_type": "stream",
     "text": [
      "New Batch started : 6481 to 6720 \n"
     ]
    },
    {
     "name": "stderr",
     "output_type": "stream",
     "text": [
      "[Parallel(n_jobs=48)]: Done 104 tasks      | elapsed:    5.4s\n",
      "[Parallel(n_jobs=48)]: Done 240 out of 240 | elapsed:   12.5s finished\n"
     ]
    },
    {
     "name": "stdout",
     "output_type": "stream",
     "text": [
      "New Batch started : 6721 to 6960 \n"
     ]
    },
    {
     "name": "stderr",
     "output_type": "stream",
     "text": [
      "[Parallel(n_jobs=48)]: Done 104 tasks      | elapsed:    5.4s\n",
      "[Parallel(n_jobs=48)]: Done 240 out of 240 | elapsed:   12.4s finished\n"
     ]
    },
    {
     "name": "stdout",
     "output_type": "stream",
     "text": [
      "New Batch started : 6961 to 7200 \n"
     ]
    },
    {
     "name": "stderr",
     "output_type": "stream",
     "text": [
      "[Parallel(n_jobs=48)]: Done 104 tasks      | elapsed:    5.4s\n",
      "[Parallel(n_jobs=48)]: Done 240 out of 240 | elapsed:   12.4s finished\n"
     ]
    },
    {
     "name": "stdout",
     "output_type": "stream",
     "text": [
      "New Batch started : 7201 to 7440 \n"
     ]
    },
    {
     "name": "stderr",
     "output_type": "stream",
     "text": [
      "[Parallel(n_jobs=48)]: Done 104 tasks      | elapsed:    5.4s\n",
      "[Parallel(n_jobs=48)]: Done 240 out of 240 | elapsed:   12.4s finished\n"
     ]
    },
    {
     "name": "stdout",
     "output_type": "stream",
     "text": [
      "New Batch started : 7441 to 7680 \n"
     ]
    },
    {
     "name": "stderr",
     "output_type": "stream",
     "text": [
      "[Parallel(n_jobs=48)]: Done 104 tasks      | elapsed:    5.4s\n",
      "[Parallel(n_jobs=48)]: Done 240 out of 240 | elapsed:   12.5s finished\n"
     ]
    },
    {
     "name": "stdout",
     "output_type": "stream",
     "text": [
      "New Batch started : 7681 to 7920 \n"
     ]
    },
    {
     "name": "stderr",
     "output_type": "stream",
     "text": [
      "[Parallel(n_jobs=48)]: Done 104 tasks      | elapsed:    5.4s\n",
      "[Parallel(n_jobs=48)]: Done 240 out of 240 | elapsed:   12.5s finished\n"
     ]
    },
    {
     "name": "stdout",
     "output_type": "stream",
     "text": [
      "New Batch started : 7921 to 8160 \n"
     ]
    },
    {
     "name": "stderr",
     "output_type": "stream",
     "text": [
      "[Parallel(n_jobs=48)]: Done 104 tasks      | elapsed:    5.4s\n",
      "[Parallel(n_jobs=48)]: Done 240 out of 240 | elapsed:   12.4s finished\n"
     ]
    },
    {
     "name": "stdout",
     "output_type": "stream",
     "text": [
      "New Batch started : 8161 to 8400 \n"
     ]
    },
    {
     "name": "stderr",
     "output_type": "stream",
     "text": [
      "[Parallel(n_jobs=48)]: Done 104 tasks      | elapsed:    5.5s\n",
      "[Parallel(n_jobs=48)]: Done 240 out of 240 | elapsed:   12.5s finished\n"
     ]
    },
    {
     "name": "stdout",
     "output_type": "stream",
     "text": [
      "New Batch started : 8401 to 8640 \n"
     ]
    },
    {
     "name": "stderr",
     "output_type": "stream",
     "text": [
      "[Parallel(n_jobs=48)]: Done 104 tasks      | elapsed:    5.4s\n",
      "[Parallel(n_jobs=48)]: Done 240 out of 240 | elapsed:   12.5s finished\n"
     ]
    },
    {
     "name": "stdout",
     "output_type": "stream",
     "text": [
      "New Batch started : 8641 to 8880 \n"
     ]
    },
    {
     "name": "stderr",
     "output_type": "stream",
     "text": [
      "[Parallel(n_jobs=48)]: Done 104 tasks      | elapsed:    5.4s\n",
      "[Parallel(n_jobs=48)]: Done 240 out of 240 | elapsed:   12.4s finished\n"
     ]
    },
    {
     "name": "stdout",
     "output_type": "stream",
     "text": [
      "New Batch started : 8881 to 9120 \n"
     ]
    },
    {
     "name": "stderr",
     "output_type": "stream",
     "text": [
      "[Parallel(n_jobs=48)]: Done 104 tasks      | elapsed:    5.4s\n",
      "[Parallel(n_jobs=48)]: Done 240 out of 240 | elapsed:   12.5s finished\n"
     ]
    },
    {
     "name": "stdout",
     "output_type": "stream",
     "text": [
      "New Batch started : 9121 to 9360 \n"
     ]
    },
    {
     "name": "stderr",
     "output_type": "stream",
     "text": [
      "[Parallel(n_jobs=48)]: Done 104 tasks      | elapsed:    5.4s\n",
      "[Parallel(n_jobs=48)]: Done 240 out of 240 | elapsed:   12.4s finished\n"
     ]
    },
    {
     "name": "stdout",
     "output_type": "stream",
     "text": [
      "New Batch started : 9361 to 9600 \n"
     ]
    },
    {
     "name": "stderr",
     "output_type": "stream",
     "text": [
      "[Parallel(n_jobs=48)]: Done 104 tasks      | elapsed:    5.4s\n",
      "[Parallel(n_jobs=48)]: Done 240 out of 240 | elapsed:   12.4s finished\n"
     ]
    },
    {
     "name": "stdout",
     "output_type": "stream",
     "text": [
      "New Batch started : 9601 to 9840 \n"
     ]
    },
    {
     "name": "stderr",
     "output_type": "stream",
     "text": [
      "[Parallel(n_jobs=48)]: Done 104 tasks      | elapsed:    5.4s\n",
      "[Parallel(n_jobs=48)]: Done 240 out of 240 | elapsed:   12.4s finished\n"
     ]
    },
    {
     "name": "stdout",
     "output_type": "stream",
     "text": [
      "New Batch started : 9841 to 10080 \n"
     ]
    },
    {
     "name": "stderr",
     "output_type": "stream",
     "text": [
      "[Parallel(n_jobs=48)]: Done 104 tasks      | elapsed:    5.4s\n",
      "[Parallel(n_jobs=48)]: Done 240 out of 240 | elapsed:   12.4s finished\n"
     ]
    },
    {
     "name": "stdout",
     "output_type": "stream",
     "text": [
      "New Batch started : 10081 to 10320 \n"
     ]
    },
    {
     "name": "stderr",
     "output_type": "stream",
     "text": [
      "[Parallel(n_jobs=48)]: Done 104 tasks      | elapsed:    5.4s\n",
      "[Parallel(n_jobs=48)]: Done 240 out of 240 | elapsed:   12.4s finished\n"
     ]
    },
    {
     "name": "stdout",
     "output_type": "stream",
     "text": [
      "New Batch started : 10321 to 10560 \n"
     ]
    },
    {
     "name": "stderr",
     "output_type": "stream",
     "text": [
      "[Parallel(n_jobs=48)]: Done 104 tasks      | elapsed:    5.4s\n",
      "[Parallel(n_jobs=48)]: Done 240 out of 240 | elapsed:   12.4s finished\n"
     ]
    },
    {
     "name": "stdout",
     "output_type": "stream",
     "text": [
      "New Batch started : 10561 to 10800 \n"
     ]
    },
    {
     "name": "stderr",
     "output_type": "stream",
     "text": [
      "[Parallel(n_jobs=48)]: Done 104 tasks      | elapsed:    5.4s\n",
      "[Parallel(n_jobs=48)]: Done 240 out of 240 | elapsed:   12.4s finished\n"
     ]
    },
    {
     "name": "stdout",
     "output_type": "stream",
     "text": [
      "New Batch started : 10801 to 11040 \n"
     ]
    },
    {
     "name": "stderr",
     "output_type": "stream",
     "text": [
      "[Parallel(n_jobs=48)]: Done 104 tasks      | elapsed:    5.4s\n",
      "[Parallel(n_jobs=48)]: Done 240 out of 240 | elapsed:   12.4s finished\n"
     ]
    },
    {
     "name": "stdout",
     "output_type": "stream",
     "text": [
      "New Batch started : 11041 to 11280 \n"
     ]
    },
    {
     "name": "stderr",
     "output_type": "stream",
     "text": [
      "[Parallel(n_jobs=48)]: Done 104 tasks      | elapsed:    5.4s\n",
      "[Parallel(n_jobs=48)]: Done 240 out of 240 | elapsed:   12.4s finished\n"
     ]
    },
    {
     "name": "stdout",
     "output_type": "stream",
     "text": [
      "New Batch started : 11281 to 11520 \n"
     ]
    },
    {
     "name": "stderr",
     "output_type": "stream",
     "text": [
      "[Parallel(n_jobs=48)]: Done 104 tasks      | elapsed:    5.5s\n",
      "[Parallel(n_jobs=48)]: Done 240 out of 240 | elapsed:   12.5s finished\n"
     ]
    },
    {
     "name": "stdout",
     "output_type": "stream",
     "text": [
      "New Batch started : 11521 to 11760 \n"
     ]
    },
    {
     "name": "stderr",
     "output_type": "stream",
     "text": [
      "[Parallel(n_jobs=48)]: Done 104 tasks      | elapsed:    5.4s\n",
      "[Parallel(n_jobs=48)]: Done 240 out of 240 | elapsed:   12.5s finished\n"
     ]
    },
    {
     "name": "stdout",
     "output_type": "stream",
     "text": [
      "New Batch started : 11761 to 12000 \n"
     ]
    },
    {
     "name": "stderr",
     "output_type": "stream",
     "text": [
      "[Parallel(n_jobs=48)]: Done 104 tasks      | elapsed:    5.5s\n",
      "[Parallel(n_jobs=48)]: Done 240 out of 240 | elapsed:   12.5s finished\n"
     ]
    },
    {
     "name": "stdout",
     "output_type": "stream",
     "text": [
      "New Batch started : 12001 to 12240 \n"
     ]
    },
    {
     "name": "stderr",
     "output_type": "stream",
     "text": [
      "[Parallel(n_jobs=48)]: Done 104 tasks      | elapsed:    5.4s\n",
      "[Parallel(n_jobs=48)]: Done 240 out of 240 | elapsed:   12.4s finished\n"
     ]
    },
    {
     "name": "stdout",
     "output_type": "stream",
     "text": [
      "New Batch started : 12241 to 12480 \n"
     ]
    },
    {
     "name": "stderr",
     "output_type": "stream",
     "text": [
      "[Parallel(n_jobs=48)]: Done 104 tasks      | elapsed:    5.4s\n",
      "[Parallel(n_jobs=48)]: Done 240 out of 240 | elapsed:   12.4s finished\n"
     ]
    },
    {
     "name": "stdout",
     "output_type": "stream",
     "text": [
      "New Batch started : 12481 to 12720 \n"
     ]
    },
    {
     "name": "stderr",
     "output_type": "stream",
     "text": [
      "[Parallel(n_jobs=48)]: Done 104 tasks      | elapsed:    5.4s\n",
      "[Parallel(n_jobs=48)]: Done 240 out of 240 | elapsed:   12.4s finished\n"
     ]
    },
    {
     "name": "stdout",
     "output_type": "stream",
     "text": [
      "New Batch started : 12721 to 12960 \n"
     ]
    },
    {
     "name": "stderr",
     "output_type": "stream",
     "text": [
      "[Parallel(n_jobs=48)]: Done 104 tasks      | elapsed:    5.4s\n",
      "[Parallel(n_jobs=48)]: Done 240 out of 240 | elapsed:   12.4s finished\n"
     ]
    },
    {
     "name": "stdout",
     "output_type": "stream",
     "text": [
      "New Batch started : 12961 to 13200 \n"
     ]
    },
    {
     "name": "stderr",
     "output_type": "stream",
     "text": [
      "[Parallel(n_jobs=48)]: Done 104 tasks      | elapsed:    5.4s\n",
      "[Parallel(n_jobs=48)]: Done 240 out of 240 | elapsed:   12.4s finished\n"
     ]
    },
    {
     "name": "stdout",
     "output_type": "stream",
     "text": [
      "New Batch started : 13201 to 13440 \n"
     ]
    },
    {
     "name": "stderr",
     "output_type": "stream",
     "text": [
      "[Parallel(n_jobs=48)]: Done 104 tasks      | elapsed:    5.4s\n",
      "[Parallel(n_jobs=48)]: Done 240 out of 240 | elapsed:   12.5s finished\n"
     ]
    },
    {
     "name": "stdout",
     "output_type": "stream",
     "text": [
      "New Batch started : 13441 to 13680 \n"
     ]
    },
    {
     "name": "stderr",
     "output_type": "stream",
     "text": [
      "[Parallel(n_jobs=48)]: Done 104 tasks      | elapsed:    5.4s\n",
      "[Parallel(n_jobs=48)]: Done 240 out of 240 | elapsed:   12.4s finished\n"
     ]
    },
    {
     "name": "stdout",
     "output_type": "stream",
     "text": [
      "New Batch started : 13681 to 13920 \n"
     ]
    },
    {
     "name": "stderr",
     "output_type": "stream",
     "text": [
      "[Parallel(n_jobs=48)]: Done 104 tasks      | elapsed:    5.4s\n",
      "[Parallel(n_jobs=48)]: Done 240 out of 240 | elapsed:   12.4s finished\n"
     ]
    },
    {
     "name": "stdout",
     "output_type": "stream",
     "text": [
      "New Batch started : 13921 to 14160 \n"
     ]
    },
    {
     "name": "stderr",
     "output_type": "stream",
     "text": [
      "[Parallel(n_jobs=48)]: Done 104 tasks      | elapsed:    5.4s\n",
      "[Parallel(n_jobs=48)]: Done 240 out of 240 | elapsed:   12.5s finished\n"
     ]
    },
    {
     "name": "stdout",
     "output_type": "stream",
     "text": [
      "New Batch started : 14161 to 14400 \n"
     ]
    },
    {
     "name": "stderr",
     "output_type": "stream",
     "text": [
      "[Parallel(n_jobs=48)]: Done 104 tasks      | elapsed:    5.4s\n",
      "[Parallel(n_jobs=48)]: Done 240 out of 240 | elapsed:   12.4s finished\n"
     ]
    },
    {
     "name": "stdout",
     "output_type": "stream",
     "text": [
      "New Batch started : 14401 to 14640 \n"
     ]
    },
    {
     "name": "stderr",
     "output_type": "stream",
     "text": [
      "[Parallel(n_jobs=48)]: Done 104 tasks      | elapsed:    5.5s\n",
      "[Parallel(n_jobs=48)]: Done 240 out of 240 | elapsed:   12.5s finished\n"
     ]
    },
    {
     "name": "stdout",
     "output_type": "stream",
     "text": [
      "New Batch started : 14641 to 14880 \n"
     ]
    },
    {
     "name": "stderr",
     "output_type": "stream",
     "text": [
      "[Parallel(n_jobs=48)]: Done 104 tasks      | elapsed:    5.4s\n",
      "[Parallel(n_jobs=48)]: Done 240 out of 240 | elapsed:   12.4s finished\n"
     ]
    },
    {
     "name": "stdout",
     "output_type": "stream",
     "text": [
      "New Batch started : 14881 to 15120 \n"
     ]
    },
    {
     "name": "stderr",
     "output_type": "stream",
     "text": [
      "[Parallel(n_jobs=48)]: Done 104 tasks      | elapsed:    5.4s\n",
      "[Parallel(n_jobs=48)]: Done 240 out of 240 | elapsed:   12.5s finished\n"
     ]
    },
    {
     "name": "stdout",
     "output_type": "stream",
     "text": [
      "New Batch started : 15121 to 15360 \n"
     ]
    },
    {
     "name": "stderr",
     "output_type": "stream",
     "text": [
      "[Parallel(n_jobs=48)]: Done 104 tasks      | elapsed:    5.4s\n",
      "[Parallel(n_jobs=48)]: Done 240 out of 240 | elapsed:   12.4s finished\n"
     ]
    },
    {
     "name": "stdout",
     "output_type": "stream",
     "text": [
      "New Batch started : 15361 to 15600 \n"
     ]
    },
    {
     "name": "stderr",
     "output_type": "stream",
     "text": [
      "[Parallel(n_jobs=48)]: Done 104 tasks      | elapsed:    5.4s\n",
      "[Parallel(n_jobs=48)]: Done 240 out of 240 | elapsed:   12.4s finished\n"
     ]
    },
    {
     "name": "stdout",
     "output_type": "stream",
     "text": [
      "New Batch started : 15601 to 15840 \n"
     ]
    },
    {
     "name": "stderr",
     "output_type": "stream",
     "text": [
      "[Parallel(n_jobs=48)]: Done 104 tasks      | elapsed:    5.4s\n",
      "[Parallel(n_jobs=48)]: Done 240 out of 240 | elapsed:   12.4s finished\n"
     ]
    },
    {
     "name": "stdout",
     "output_type": "stream",
     "text": [
      "New Batch started : 15841 to 16080 \n"
     ]
    },
    {
     "name": "stderr",
     "output_type": "stream",
     "text": [
      "[Parallel(n_jobs=48)]: Done 104 tasks      | elapsed:    5.4s\n",
      "[Parallel(n_jobs=48)]: Done 240 out of 240 | elapsed:   12.5s finished\n"
     ]
    },
    {
     "name": "stdout",
     "output_type": "stream",
     "text": [
      "New Batch started : 16081 to 16320 \n"
     ]
    },
    {
     "name": "stderr",
     "output_type": "stream",
     "text": [
      "[Parallel(n_jobs=48)]: Done 104 tasks      | elapsed:    5.4s\n",
      "[Parallel(n_jobs=48)]: Done 240 out of 240 | elapsed:   12.4s finished\n"
     ]
    },
    {
     "name": "stdout",
     "output_type": "stream",
     "text": [
      "New Batch started : 16321 to 16560 \n"
     ]
    },
    {
     "name": "stderr",
     "output_type": "stream",
     "text": [
      "[Parallel(n_jobs=48)]: Done 104 tasks      | elapsed:    5.4s\n",
      "[Parallel(n_jobs=48)]: Done 240 out of 240 | elapsed:   12.4s finished\n"
     ]
    },
    {
     "name": "stdout",
     "output_type": "stream",
     "text": [
      "New Batch started : 16561 to 16800 \n"
     ]
    },
    {
     "name": "stderr",
     "output_type": "stream",
     "text": [
      "[Parallel(n_jobs=48)]: Done 104 tasks      | elapsed:    5.4s\n",
      "[Parallel(n_jobs=48)]: Done 240 out of 240 | elapsed:   12.4s finished\n"
     ]
    },
    {
     "name": "stdout",
     "output_type": "stream",
     "text": [
      "New Batch started : 16801 to 17040 \n"
     ]
    },
    {
     "name": "stderr",
     "output_type": "stream",
     "text": [
      "[Parallel(n_jobs=48)]: Done 104 tasks      | elapsed:    5.4s\n",
      "[Parallel(n_jobs=48)]: Done 240 out of 240 | elapsed:   12.4s finished\n"
     ]
    },
    {
     "name": "stdout",
     "output_type": "stream",
     "text": [
      "New Batch started : 17041 to 17280 \n"
     ]
    },
    {
     "name": "stderr",
     "output_type": "stream",
     "text": [
      "[Parallel(n_jobs=48)]: Done 104 tasks      | elapsed:    5.4s\n",
      "[Parallel(n_jobs=48)]: Done 240 out of 240 | elapsed:   12.4s finished\n"
     ]
    },
    {
     "name": "stdout",
     "output_type": "stream",
     "text": [
      "New Batch started : 17281 to 17520 \n"
     ]
    },
    {
     "name": "stderr",
     "output_type": "stream",
     "text": [
      "[Parallel(n_jobs=48)]: Done 104 tasks      | elapsed:    5.4s\n",
      "[Parallel(n_jobs=48)]: Done 240 out of 240 | elapsed:   12.4s finished\n"
     ]
    },
    {
     "name": "stdout",
     "output_type": "stream",
     "text": [
      "New Batch started : 17521 to 17760 \n"
     ]
    },
    {
     "name": "stderr",
     "output_type": "stream",
     "text": [
      "[Parallel(n_jobs=48)]: Done 104 tasks      | elapsed:    5.4s\n",
      "[Parallel(n_jobs=48)]: Done 240 out of 240 | elapsed:   12.4s finished\n"
     ]
    },
    {
     "name": "stdout",
     "output_type": "stream",
     "text": [
      "New Batch started : 17761 to 18000 \n"
     ]
    },
    {
     "name": "stderr",
     "output_type": "stream",
     "text": [
      "[Parallel(n_jobs=48)]: Done 104 tasks      | elapsed:    5.4s\n",
      "[Parallel(n_jobs=48)]: Done 240 out of 240 | elapsed:   12.5s finished\n"
     ]
    },
    {
     "name": "stdout",
     "output_type": "stream",
     "text": [
      "New Batch started : 18001 to 18240 \n"
     ]
    },
    {
     "name": "stderr",
     "output_type": "stream",
     "text": [
      "[Parallel(n_jobs=48)]: Done 104 tasks      | elapsed:    5.4s\n",
      "[Parallel(n_jobs=48)]: Done 240 out of 240 | elapsed:   12.5s finished\n"
     ]
    },
    {
     "name": "stdout",
     "output_type": "stream",
     "text": [
      "New Batch started : 18241 to 18480 \n"
     ]
    },
    {
     "name": "stderr",
     "output_type": "stream",
     "text": [
      "[Parallel(n_jobs=48)]: Done 104 tasks      | elapsed:    5.4s\n",
      "[Parallel(n_jobs=48)]: Done 240 out of 240 | elapsed:   12.5s finished\n"
     ]
    },
    {
     "name": "stdout",
     "output_type": "stream",
     "text": [
      "New Batch started : 18481 to 18720 \n"
     ]
    },
    {
     "name": "stderr",
     "output_type": "stream",
     "text": [
      "[Parallel(n_jobs=48)]: Done 104 tasks      | elapsed:    5.5s\n",
      "[Parallel(n_jobs=48)]: Done 240 out of 240 | elapsed:   12.7s finished\n"
     ]
    },
    {
     "name": "stdout",
     "output_type": "stream",
     "text": [
      "New Batch started : 18721 to 18960 \n"
     ]
    },
    {
     "name": "stderr",
     "output_type": "stream",
     "text": [
      "[Parallel(n_jobs=48)]: Done 104 tasks      | elapsed:    5.4s\n",
      "[Parallel(n_jobs=48)]: Done 240 out of 240 | elapsed:   12.5s finished\n"
     ]
    },
    {
     "name": "stdout",
     "output_type": "stream",
     "text": [
      "New Batch started : 18961 to 19200 \n"
     ]
    },
    {
     "name": "stderr",
     "output_type": "stream",
     "text": [
      "[Parallel(n_jobs=48)]: Done 104 tasks      | elapsed:    5.4s\n",
      "[Parallel(n_jobs=48)]: Done 240 out of 240 | elapsed:   12.4s finished\n"
     ]
    },
    {
     "name": "stdout",
     "output_type": "stream",
     "text": [
      "New Batch started : 19201 to 19440 \n"
     ]
    },
    {
     "name": "stderr",
     "output_type": "stream",
     "text": [
      "[Parallel(n_jobs=48)]: Done 104 tasks      | elapsed:    5.4s\n",
      "[Parallel(n_jobs=48)]: Done 240 out of 240 | elapsed:   12.6s finished\n"
     ]
    },
    {
     "name": "stdout",
     "output_type": "stream",
     "text": [
      "New Batch started : 19441 to 19680 \n"
     ]
    },
    {
     "name": "stderr",
     "output_type": "stream",
     "text": [
      "[Parallel(n_jobs=48)]: Done 104 tasks      | elapsed:    5.4s\n",
      "[Parallel(n_jobs=48)]: Done 240 out of 240 | elapsed:   12.5s finished\n"
     ]
    },
    {
     "name": "stdout",
     "output_type": "stream",
     "text": [
      "New Batch started : 19681 to 19920 \n"
     ]
    },
    {
     "name": "stderr",
     "output_type": "stream",
     "text": [
      "[Parallel(n_jobs=48)]: Done 104 tasks      | elapsed:    5.4s\n",
      "[Parallel(n_jobs=48)]: Done 240 out of 240 | elapsed:   12.4s finished\n"
     ]
    },
    {
     "name": "stdout",
     "output_type": "stream",
     "text": [
      "New Batch started : 19921 to 20160 \n"
     ]
    },
    {
     "name": "stderr",
     "output_type": "stream",
     "text": [
      "[Parallel(n_jobs=48)]: Done 104 tasks      | elapsed:    5.4s\n",
      "[Parallel(n_jobs=48)]: Done 240 out of 240 | elapsed:   12.4s finished\n"
     ]
    },
    {
     "name": "stdout",
     "output_type": "stream",
     "text": [
      "New Batch started : 20161 to 20400 \n"
     ]
    },
    {
     "name": "stderr",
     "output_type": "stream",
     "text": [
      "[Parallel(n_jobs=48)]: Done 104 tasks      | elapsed:    5.4s\n",
      "[Parallel(n_jobs=48)]: Done 240 out of 240 | elapsed:   12.4s finished\n"
     ]
    },
    {
     "name": "stdout",
     "output_type": "stream",
     "text": [
      "New Batch started : 20401 to 20640 \n"
     ]
    },
    {
     "name": "stderr",
     "output_type": "stream",
     "text": [
      "[Parallel(n_jobs=48)]: Done 104 tasks      | elapsed:    5.4s\n",
      "[Parallel(n_jobs=48)]: Done 240 out of 240 | elapsed:   12.5s finished\n"
     ]
    },
    {
     "name": "stdout",
     "output_type": "stream",
     "text": [
      "New Batch started : 20641 to 20880 \n"
     ]
    },
    {
     "name": "stderr",
     "output_type": "stream",
     "text": [
      "[Parallel(n_jobs=48)]: Done 104 tasks      | elapsed:    5.6s\n",
      "[Parallel(n_jobs=48)]: Done 240 out of 240 | elapsed:   12.6s finished\n"
     ]
    },
    {
     "name": "stdout",
     "output_type": "stream",
     "text": [
      "New Batch started : 20881 to 21120 \n"
     ]
    },
    {
     "name": "stderr",
     "output_type": "stream",
     "text": [
      "[Parallel(n_jobs=48)]: Done 104 tasks      | elapsed:    5.4s\n",
      "[Parallel(n_jobs=48)]: Done 240 out of 240 | elapsed:   12.5s finished\n"
     ]
    },
    {
     "name": "stdout",
     "output_type": "stream",
     "text": [
      "New Batch started : 21121 to 21360 \n"
     ]
    },
    {
     "name": "stderr",
     "output_type": "stream",
     "text": [
      "[Parallel(n_jobs=48)]: Done 104 tasks      | elapsed:    5.4s\n",
      "[Parallel(n_jobs=48)]: Done 240 out of 240 | elapsed:   12.5s finished\n"
     ]
    },
    {
     "name": "stdout",
     "output_type": "stream",
     "text": [
      "New Batch started : 21361 to 21600 \n"
     ]
    },
    {
     "name": "stderr",
     "output_type": "stream",
     "text": [
      "[Parallel(n_jobs=48)]: Done 104 tasks      | elapsed:    5.4s\n",
      "[Parallel(n_jobs=48)]: Done 240 out of 240 | elapsed:   12.6s finished\n"
     ]
    },
    {
     "name": "stdout",
     "output_type": "stream",
     "text": [
      "New Batch started : 21601 to 21840 \n"
     ]
    },
    {
     "name": "stderr",
     "output_type": "stream",
     "text": [
      "[Parallel(n_jobs=48)]: Done 104 tasks      | elapsed:    5.4s\n",
      "[Parallel(n_jobs=48)]: Done 240 out of 240 | elapsed:   12.5s finished\n"
     ]
    },
    {
     "name": "stdout",
     "output_type": "stream",
     "text": [
      "New Batch started : 21841 to 22080 \n"
     ]
    },
    {
     "name": "stderr",
     "output_type": "stream",
     "text": [
      "[Parallel(n_jobs=48)]: Done 104 tasks      | elapsed:    5.4s\n",
      "[Parallel(n_jobs=48)]: Done 240 out of 240 | elapsed:   12.5s finished\n"
     ]
    },
    {
     "name": "stdout",
     "output_type": "stream",
     "text": [
      "New Batch started : 22081 to 22320 \n"
     ]
    },
    {
     "name": "stderr",
     "output_type": "stream",
     "text": [
      "[Parallel(n_jobs=48)]: Done 104 tasks      | elapsed:    5.4s\n",
      "[Parallel(n_jobs=48)]: Done 240 out of 240 | elapsed:   12.4s finished\n"
     ]
    },
    {
     "name": "stdout",
     "output_type": "stream",
     "text": [
      "New Batch started : 22321 to 22560 \n"
     ]
    },
    {
     "name": "stderr",
     "output_type": "stream",
     "text": [
      "[Parallel(n_jobs=48)]: Done 104 tasks      | elapsed:    5.4s\n",
      "[Parallel(n_jobs=48)]: Done 240 out of 240 | elapsed:   12.6s finished\n"
     ]
    },
    {
     "name": "stdout",
     "output_type": "stream",
     "text": [
      "New Batch started : 22561 to 22800 \n"
     ]
    },
    {
     "name": "stderr",
     "output_type": "stream",
     "text": [
      "[Parallel(n_jobs=48)]: Done 104 tasks      | elapsed:    5.4s\n",
      "[Parallel(n_jobs=48)]: Done 240 out of 240 | elapsed:   12.5s finished\n"
     ]
    },
    {
     "name": "stdout",
     "output_type": "stream",
     "text": [
      "New Batch started : 22801 to 23040 \n"
     ]
    },
    {
     "name": "stderr",
     "output_type": "stream",
     "text": [
      "[Parallel(n_jobs=48)]: Done 104 tasks      | elapsed:    5.4s\n",
      "[Parallel(n_jobs=48)]: Done 240 out of 240 | elapsed:   12.4s finished\n"
     ]
    },
    {
     "name": "stdout",
     "output_type": "stream",
     "text": [
      "New Batch started : 23041 to 23280 \n"
     ]
    },
    {
     "name": "stderr",
     "output_type": "stream",
     "text": [
      "[Parallel(n_jobs=48)]: Done 104 tasks      | elapsed:    5.4s\n",
      "[Parallel(n_jobs=48)]: Done 240 out of 240 | elapsed:   12.4s finished\n"
     ]
    },
    {
     "name": "stdout",
     "output_type": "stream",
     "text": [
      "New Batch started : 23281 to 23520 \n"
     ]
    },
    {
     "name": "stderr",
     "output_type": "stream",
     "text": [
      "[Parallel(n_jobs=48)]: Done 104 tasks      | elapsed:    5.4s\n",
      "[Parallel(n_jobs=48)]: Done 240 out of 240 | elapsed:   12.6s finished\n"
     ]
    },
    {
     "name": "stdout",
     "output_type": "stream",
     "text": [
      "New Batch started : 23521 to 23760 \n"
     ]
    },
    {
     "name": "stderr",
     "output_type": "stream",
     "text": [
      "[Parallel(n_jobs=48)]: Done 104 tasks      | elapsed:    5.4s\n",
      "[Parallel(n_jobs=48)]: Done 240 out of 240 | elapsed:   12.4s finished\n"
     ]
    },
    {
     "name": "stdout",
     "output_type": "stream",
     "text": [
      "New Batch started : 23761 to 24000 \n"
     ]
    },
    {
     "name": "stderr",
     "output_type": "stream",
     "text": [
      "[Parallel(n_jobs=48)]: Done 104 tasks      | elapsed:    5.4s\n",
      "[Parallel(n_jobs=48)]: Done 240 out of 240 | elapsed:   12.4s finished\n"
     ]
    },
    {
     "name": "stdout",
     "output_type": "stream",
     "text": [
      "New Batch started : 24001 to 24240 \n"
     ]
    },
    {
     "name": "stderr",
     "output_type": "stream",
     "text": [
      "[Parallel(n_jobs=48)]: Done 104 tasks      | elapsed:    5.4s\n",
      "[Parallel(n_jobs=48)]: Done 240 out of 240 | elapsed:   12.4s finished\n"
     ]
    },
    {
     "name": "stdout",
     "output_type": "stream",
     "text": [
      "New Batch started : 24241 to 24480 \n"
     ]
    },
    {
     "name": "stderr",
     "output_type": "stream",
     "text": [
      "[Parallel(n_jobs=48)]: Done 104 tasks      | elapsed:    5.4s\n",
      "[Parallel(n_jobs=48)]: Done 240 out of 240 | elapsed:   12.4s finished\n"
     ]
    },
    {
     "name": "stdout",
     "output_type": "stream",
     "text": [
      "New Batch started : 24481 to 24720 \n"
     ]
    },
    {
     "name": "stderr",
     "output_type": "stream",
     "text": [
      "[Parallel(n_jobs=48)]: Done 104 tasks      | elapsed:    5.5s\n",
      "[Parallel(n_jobs=48)]: Done 240 out of 240 | elapsed:   12.5s finished\n"
     ]
    },
    {
     "name": "stdout",
     "output_type": "stream",
     "text": [
      "New Batch started : 24721 to 24960 \n"
     ]
    },
    {
     "name": "stderr",
     "output_type": "stream",
     "text": [
      "[Parallel(n_jobs=48)]: Done 104 tasks      | elapsed:    5.4s\n",
      "[Parallel(n_jobs=48)]: Done 240 out of 240 | elapsed:   12.4s finished\n"
     ]
    },
    {
     "name": "stdout",
     "output_type": "stream",
     "text": [
      "New Batch started : 24961 to 25200 \n"
     ]
    },
    {
     "name": "stderr",
     "output_type": "stream",
     "text": [
      "[Parallel(n_jobs=48)]: Done 104 tasks      | elapsed:    5.4s\n",
      "[Parallel(n_jobs=48)]: Done 240 out of 240 | elapsed:   12.5s finished\n"
     ]
    },
    {
     "name": "stdout",
     "output_type": "stream",
     "text": [
      "New Batch started : 25201 to 25440 \n"
     ]
    },
    {
     "name": "stderr",
     "output_type": "stream",
     "text": [
      "[Parallel(n_jobs=48)]: Done 104 tasks      | elapsed:    5.5s\n",
      "[Parallel(n_jobs=48)]: Done 240 out of 240 | elapsed:   12.6s finished\n"
     ]
    },
    {
     "name": "stdout",
     "output_type": "stream",
     "text": [
      "New Batch started : 25441 to 25680 \n"
     ]
    },
    {
     "name": "stderr",
     "output_type": "stream",
     "text": [
      "[Parallel(n_jobs=48)]: Done 104 tasks      | elapsed:    5.4s\n",
      "[Parallel(n_jobs=48)]: Done 240 out of 240 | elapsed:   12.5s finished\n"
     ]
    },
    {
     "name": "stdout",
     "output_type": "stream",
     "text": [
      "New Batch started : 25681 to 25920 \n"
     ]
    },
    {
     "name": "stderr",
     "output_type": "stream",
     "text": [
      "[Parallel(n_jobs=48)]: Done 104 tasks      | elapsed:    5.4s\n",
      "[Parallel(n_jobs=48)]: Done 240 out of 240 | elapsed:   12.5s finished\n"
     ]
    },
    {
     "name": "stdout",
     "output_type": "stream",
     "text": [
      "New Batch started : 25921 to 26160 \n"
     ]
    },
    {
     "name": "stderr",
     "output_type": "stream",
     "text": [
      "[Parallel(n_jobs=48)]: Done 104 tasks      | elapsed:    5.4s\n",
      "[Parallel(n_jobs=48)]: Done 240 out of 240 | elapsed:   12.5s finished\n"
     ]
    },
    {
     "name": "stdout",
     "output_type": "stream",
     "text": [
      "New Batch started : 26161 to 26400 \n"
     ]
    },
    {
     "name": "stderr",
     "output_type": "stream",
     "text": [
      "[Parallel(n_jobs=48)]: Done 104 tasks      | elapsed:    5.5s\n",
      "[Parallel(n_jobs=48)]: Done 240 out of 240 | elapsed:   12.6s finished\n"
     ]
    },
    {
     "name": "stdout",
     "output_type": "stream",
     "text": [
      "New Batch started : 26401 to 26640 \n"
     ]
    },
    {
     "name": "stderr",
     "output_type": "stream",
     "text": [
      "[Parallel(n_jobs=48)]: Done 104 tasks      | elapsed:    5.5s\n",
      "[Parallel(n_jobs=48)]: Done 240 out of 240 | elapsed:   12.5s finished\n"
     ]
    },
    {
     "name": "stdout",
     "output_type": "stream",
     "text": [
      "New Batch started : 26641 to 26880 \n"
     ]
    },
    {
     "name": "stderr",
     "output_type": "stream",
     "text": [
      "[Parallel(n_jobs=48)]: Done 104 tasks      | elapsed:    5.4s\n",
      "[Parallel(n_jobs=48)]: Done 240 out of 240 | elapsed:   12.4s finished\n"
     ]
    },
    {
     "name": "stdout",
     "output_type": "stream",
     "text": [
      "New Batch started : 26881 to 27120 \n"
     ]
    },
    {
     "name": "stderr",
     "output_type": "stream",
     "text": [
      "[Parallel(n_jobs=48)]: Done 104 tasks      | elapsed:    5.4s\n",
      "[Parallel(n_jobs=48)]: Done 240 out of 240 | elapsed:   12.5s finished\n"
     ]
    },
    {
     "name": "stdout",
     "output_type": "stream",
     "text": [
      "New Batch started : 27121 to 27360 \n"
     ]
    },
    {
     "name": "stderr",
     "output_type": "stream",
     "text": [
      "[Parallel(n_jobs=48)]: Done 104 tasks      | elapsed:    5.4s\n",
      "[Parallel(n_jobs=48)]: Done 240 out of 240 | elapsed:   12.6s finished\n"
     ]
    },
    {
     "name": "stdout",
     "output_type": "stream",
     "text": [
      "New Batch started : 27361 to 27600 \n"
     ]
    },
    {
     "name": "stderr",
     "output_type": "stream",
     "text": [
      "[Parallel(n_jobs=48)]: Done 104 tasks      | elapsed:    5.4s\n",
      "[Parallel(n_jobs=48)]: Done 240 out of 240 | elapsed:   12.5s finished\n"
     ]
    },
    {
     "name": "stdout",
     "output_type": "stream",
     "text": [
      "New Batch started : 27601 to 27840 \n"
     ]
    },
    {
     "name": "stderr",
     "output_type": "stream",
     "text": [
      "[Parallel(n_jobs=48)]: Done 104 tasks      | elapsed:    5.4s\n",
      "[Parallel(n_jobs=48)]: Done 240 out of 240 | elapsed:   12.5s finished\n"
     ]
    },
    {
     "name": "stdout",
     "output_type": "stream",
     "text": [
      "New Batch started : 27841 to 28080 \n"
     ]
    },
    {
     "name": "stderr",
     "output_type": "stream",
     "text": [
      "[Parallel(n_jobs=48)]: Done 104 tasks      | elapsed:    5.4s\n",
      "[Parallel(n_jobs=48)]: Done 240 out of 240 | elapsed:   12.5s finished\n"
     ]
    },
    {
     "name": "stdout",
     "output_type": "stream",
     "text": [
      "New Batch started : 28081 to 28320 \n"
     ]
    },
    {
     "name": "stderr",
     "output_type": "stream",
     "text": [
      "[Parallel(n_jobs=48)]: Done 104 tasks      | elapsed:    5.4s\n",
      "[Parallel(n_jobs=48)]: Done 240 out of 240 | elapsed:   12.5s finished\n"
     ]
    },
    {
     "name": "stdout",
     "output_type": "stream",
     "text": [
      "New Batch started : 28321 to 28560 \n"
     ]
    },
    {
     "name": "stderr",
     "output_type": "stream",
     "text": [
      "[Parallel(n_jobs=48)]: Done 104 tasks      | elapsed:    5.4s\n",
      "[Parallel(n_jobs=48)]: Done 240 out of 240 | elapsed:   12.4s finished\n"
     ]
    },
    {
     "name": "stdout",
     "output_type": "stream",
     "text": [
      "New Batch started : 28561 to 28800 \n"
     ]
    },
    {
     "name": "stderr",
     "output_type": "stream",
     "text": [
      "[Parallel(n_jobs=48)]: Done 104 tasks      | elapsed:    5.4s\n",
      "[Parallel(n_jobs=48)]: Done 240 out of 240 | elapsed:   12.5s finished\n"
     ]
    },
    {
     "name": "stdout",
     "output_type": "stream",
     "text": [
      "New Batch started : 28801 to 29040 \n"
     ]
    },
    {
     "name": "stderr",
     "output_type": "stream",
     "text": [
      "[Parallel(n_jobs=48)]: Done 104 tasks      | elapsed:    5.4s\n",
      "[Parallel(n_jobs=48)]: Done 240 out of 240 | elapsed:   12.5s finished\n"
     ]
    },
    {
     "name": "stdout",
     "output_type": "stream",
     "text": [
      "New Batch started : 29041 to 29280 \n"
     ]
    },
    {
     "name": "stderr",
     "output_type": "stream",
     "text": [
      "[Parallel(n_jobs=48)]: Done 104 tasks      | elapsed:    5.4s\n",
      "[Parallel(n_jobs=48)]: Done 240 out of 240 | elapsed:   12.4s finished\n"
     ]
    },
    {
     "name": "stdout",
     "output_type": "stream",
     "text": [
      "New Batch started : 29281 to 29520 \n"
     ]
    },
    {
     "name": "stderr",
     "output_type": "stream",
     "text": [
      "[Parallel(n_jobs=48)]: Done 104 tasks      | elapsed:    5.4s\n",
      "[Parallel(n_jobs=48)]: Done 240 out of 240 | elapsed:   12.5s finished\n"
     ]
    },
    {
     "name": "stdout",
     "output_type": "stream",
     "text": [
      "New Batch started : 29521 to 29760 \n"
     ]
    },
    {
     "name": "stderr",
     "output_type": "stream",
     "text": [
      "[Parallel(n_jobs=48)]: Done 104 tasks      | elapsed:    5.8s\n",
      "[Parallel(n_jobs=48)]: Done 240 out of 240 | elapsed:   12.9s finished\n"
     ]
    },
    {
     "name": "stdout",
     "output_type": "stream",
     "text": [
      "New Batch started : 29761 to 30000 \n"
     ]
    },
    {
     "name": "stderr",
     "output_type": "stream",
     "text": [
      "[Parallel(n_jobs=48)]: Done 104 tasks      | elapsed:    5.5s\n",
      "[Parallel(n_jobs=48)]: Done 240 out of 240 | elapsed:   12.7s finished\n"
     ]
    },
    {
     "name": "stdout",
     "output_type": "stream",
     "text": [
      "New Batch started : 30001 to 30240 \n"
     ]
    },
    {
     "name": "stderr",
     "output_type": "stream",
     "text": [
      "[Parallel(n_jobs=48)]: Done 104 tasks      | elapsed:    5.5s\n",
      "[Parallel(n_jobs=48)]: Done 240 out of 240 | elapsed:   12.5s finished\n"
     ]
    },
    {
     "name": "stdout",
     "output_type": "stream",
     "text": [
      "New Batch started : 30241 to 30480 \n"
     ]
    },
    {
     "name": "stderr",
     "output_type": "stream",
     "text": [
      "[Parallel(n_jobs=48)]: Done 104 tasks      | elapsed:    5.5s\n",
      "[Parallel(n_jobs=48)]: Done 240 out of 240 | elapsed:   12.5s finished\n"
     ]
    },
    {
     "name": "stdout",
     "output_type": "stream",
     "text": [
      "New Batch started : 30481 to 30720 \n"
     ]
    },
    {
     "name": "stderr",
     "output_type": "stream",
     "text": [
      "[Parallel(n_jobs=48)]: Done 104 tasks      | elapsed:    5.4s\n",
      "[Parallel(n_jobs=48)]: Done 240 out of 240 | elapsed:   12.5s finished\n"
     ]
    },
    {
     "name": "stdout",
     "output_type": "stream",
     "text": [
      "New Batch started : 30721 to 30960 \n"
     ]
    },
    {
     "name": "stderr",
     "output_type": "stream",
     "text": [
      "[Parallel(n_jobs=48)]: Done 104 tasks      | elapsed:    5.5s\n",
      "[Parallel(n_jobs=48)]: Done 240 out of 240 | elapsed:   12.5s finished\n"
     ]
    },
    {
     "name": "stdout",
     "output_type": "stream",
     "text": [
      "New Batch started : 30961 to 31200 \n"
     ]
    },
    {
     "name": "stderr",
     "output_type": "stream",
     "text": [
      "[Parallel(n_jobs=48)]: Done 104 tasks      | elapsed:    5.6s\n",
      "[Parallel(n_jobs=48)]: Done 240 out of 240 | elapsed:   12.7s finished\n"
     ]
    },
    {
     "name": "stdout",
     "output_type": "stream",
     "text": [
      "New Batch started : 31201 to 31440 \n"
     ]
    },
    {
     "name": "stderr",
     "output_type": "stream",
     "text": [
      "[Parallel(n_jobs=48)]: Done 104 tasks      | elapsed:    5.5s\n",
      "[Parallel(n_jobs=48)]: Done 240 out of 240 | elapsed:   12.7s finished\n"
     ]
    },
    {
     "name": "stdout",
     "output_type": "stream",
     "text": [
      "New Batch started : 31441 to 31680 \n"
     ]
    },
    {
     "name": "stderr",
     "output_type": "stream",
     "text": [
      "[Parallel(n_jobs=48)]: Done 104 tasks      | elapsed:    5.4s\n",
      "[Parallel(n_jobs=48)]: Done 240 out of 240 | elapsed:   12.5s finished\n"
     ]
    },
    {
     "name": "stdout",
     "output_type": "stream",
     "text": [
      "New Batch started : 31681 to 31920 \n"
     ]
    },
    {
     "name": "stderr",
     "output_type": "stream",
     "text": [
      "[Parallel(n_jobs=48)]: Done 104 tasks      | elapsed:    5.4s\n",
      "[Parallel(n_jobs=48)]: Done 240 out of 240 | elapsed:   12.5s finished\n"
     ]
    },
    {
     "name": "stdout",
     "output_type": "stream",
     "text": [
      "New Batch started : 31921 to 32073 \n"
     ]
    },
    {
     "name": "stderr",
     "output_type": "stream",
     "text": [
      "[Parallel(n_jobs=48)]: Done 153 out of 153 | elapsed:    8.0s finished\n"
     ]
    },
    {
     "name": "stdout",
     "output_type": "stream",
     "text": [
      "Loading test file #18 - dict_jobID_Xtest_Ytest_64146_96218_FROM_giga_takeoutdf_w_jobgroup.pickle\n",
      "Loaded test file #32073\n",
      "New Batch started : 1 to 240 \n"
     ]
    },
    {
     "name": "stderr",
     "output_type": "stream",
     "text": [
      "[Parallel(n_jobs=48)]: Done 104 tasks      | elapsed:    5.5s\n",
      "[Parallel(n_jobs=48)]: Done 240 out of 240 | elapsed:   12.5s finished\n"
     ]
    },
    {
     "name": "stdout",
     "output_type": "stream",
     "text": [
      "New Batch started : 241 to 480 \n"
     ]
    },
    {
     "name": "stderr",
     "output_type": "stream",
     "text": [
      "[Parallel(n_jobs=48)]: Done 104 tasks      | elapsed:    5.4s\n",
      "[Parallel(n_jobs=48)]: Done 240 out of 240 | elapsed:   12.5s finished\n"
     ]
    },
    {
     "name": "stdout",
     "output_type": "stream",
     "text": [
      "New Batch started : 481 to 720 \n"
     ]
    },
    {
     "name": "stderr",
     "output_type": "stream",
     "text": [
      "[Parallel(n_jobs=48)]: Done 104 tasks      | elapsed:    5.4s\n",
      "[Parallel(n_jobs=48)]: Done 240 out of 240 | elapsed:   12.5s finished\n"
     ]
    },
    {
     "name": "stdout",
     "output_type": "stream",
     "text": [
      "New Batch started : 721 to 960 \n"
     ]
    },
    {
     "name": "stderr",
     "output_type": "stream",
     "text": [
      "[Parallel(n_jobs=48)]: Done 104 tasks      | elapsed:    5.4s\n",
      "[Parallel(n_jobs=48)]: Done 240 out of 240 | elapsed:   12.4s finished\n"
     ]
    },
    {
     "name": "stdout",
     "output_type": "stream",
     "text": [
      "New Batch started : 961 to 1200 \n"
     ]
    },
    {
     "name": "stderr",
     "output_type": "stream",
     "text": [
      "[Parallel(n_jobs=48)]: Done 104 tasks      | elapsed:    5.4s\n",
      "[Parallel(n_jobs=48)]: Done 240 out of 240 | elapsed:   12.6s finished\n"
     ]
    },
    {
     "name": "stdout",
     "output_type": "stream",
     "text": [
      "New Batch started : 1201 to 1440 \n"
     ]
    },
    {
     "name": "stderr",
     "output_type": "stream",
     "text": [
      "[Parallel(n_jobs=48)]: Done 104 tasks      | elapsed:    5.4s\n",
      "[Parallel(n_jobs=48)]: Done 240 out of 240 | elapsed:   12.4s finished\n"
     ]
    },
    {
     "name": "stdout",
     "output_type": "stream",
     "text": [
      "New Batch started : 1441 to 1680 \n"
     ]
    },
    {
     "name": "stderr",
     "output_type": "stream",
     "text": [
      "[Parallel(n_jobs=48)]: Done 104 tasks      | elapsed:    5.4s\n",
      "[Parallel(n_jobs=48)]: Done 240 out of 240 | elapsed:   12.5s finished\n"
     ]
    },
    {
     "name": "stdout",
     "output_type": "stream",
     "text": [
      "New Batch started : 1681 to 1920 \n"
     ]
    },
    {
     "name": "stderr",
     "output_type": "stream",
     "text": [
      "[Parallel(n_jobs=48)]: Done 104 tasks      | elapsed:    5.4s\n",
      "[Parallel(n_jobs=48)]: Done 240 out of 240 | elapsed:   12.5s finished\n"
     ]
    },
    {
     "name": "stdout",
     "output_type": "stream",
     "text": [
      "New Batch started : 1921 to 2160 \n"
     ]
    },
    {
     "name": "stderr",
     "output_type": "stream",
     "text": [
      "[Parallel(n_jobs=48)]: Done 104 tasks      | elapsed:    5.5s\n",
      "[Parallel(n_jobs=48)]: Done 240 out of 240 | elapsed:   12.6s finished\n"
     ]
    },
    {
     "name": "stdout",
     "output_type": "stream",
     "text": [
      "New Batch started : 2161 to 2400 \n"
     ]
    },
    {
     "name": "stderr",
     "output_type": "stream",
     "text": [
      "[Parallel(n_jobs=48)]: Done 104 tasks      | elapsed:    5.4s\n",
      "[Parallel(n_jobs=48)]: Done 240 out of 240 | elapsed:   12.5s finished\n"
     ]
    },
    {
     "name": "stdout",
     "output_type": "stream",
     "text": [
      "New Batch started : 2401 to 2640 \n"
     ]
    },
    {
     "name": "stderr",
     "output_type": "stream",
     "text": [
      "[Parallel(n_jobs=48)]: Done 104 tasks      | elapsed:    5.4s\n",
      "[Parallel(n_jobs=48)]: Done 240 out of 240 | elapsed:   12.6s finished\n"
     ]
    },
    {
     "name": "stdout",
     "output_type": "stream",
     "text": [
      "New Batch started : 2641 to 2880 \n"
     ]
    },
    {
     "name": "stderr",
     "output_type": "stream",
     "text": [
      "[Parallel(n_jobs=48)]: Done 104 tasks      | elapsed:    5.4s\n",
      "[Parallel(n_jobs=48)]: Done 240 out of 240 | elapsed:   12.4s finished\n"
     ]
    },
    {
     "name": "stdout",
     "output_type": "stream",
     "text": [
      "New Batch started : 2881 to 3120 \n"
     ]
    },
    {
     "name": "stderr",
     "output_type": "stream",
     "text": [
      "[Parallel(n_jobs=48)]: Done 104 tasks      | elapsed:    5.5s\n",
      "[Parallel(n_jobs=48)]: Done 240 out of 240 | elapsed:   12.5s finished\n"
     ]
    },
    {
     "name": "stdout",
     "output_type": "stream",
     "text": [
      "New Batch started : 3121 to 3360 \n"
     ]
    },
    {
     "name": "stderr",
     "output_type": "stream",
     "text": [
      "[Parallel(n_jobs=48)]: Done 104 tasks      | elapsed:    5.4s\n",
      "[Parallel(n_jobs=48)]: Done 240 out of 240 | elapsed:   12.7s finished\n"
     ]
    },
    {
     "name": "stdout",
     "output_type": "stream",
     "text": [
      "New Batch started : 3361 to 3600 \n"
     ]
    },
    {
     "name": "stderr",
     "output_type": "stream",
     "text": [
      "[Parallel(n_jobs=48)]: Done 104 tasks      | elapsed:    5.5s\n",
      "[Parallel(n_jobs=48)]: Done 240 out of 240 | elapsed:   12.5s finished\n"
     ]
    },
    {
     "name": "stdout",
     "output_type": "stream",
     "text": [
      "New Batch started : 3601 to 3840 \n"
     ]
    },
    {
     "name": "stderr",
     "output_type": "stream",
     "text": [
      "[Parallel(n_jobs=48)]: Done 104 tasks      | elapsed:    5.4s\n",
      "[Parallel(n_jobs=48)]: Done 240 out of 240 | elapsed:   12.5s finished\n"
     ]
    },
    {
     "name": "stdout",
     "output_type": "stream",
     "text": [
      "New Batch started : 3841 to 4080 \n"
     ]
    },
    {
     "name": "stderr",
     "output_type": "stream",
     "text": [
      "[Parallel(n_jobs=48)]: Done 104 tasks      | elapsed:    5.5s\n",
      "[Parallel(n_jobs=48)]: Done 240 out of 240 | elapsed:   12.6s finished\n"
     ]
    },
    {
     "name": "stdout",
     "output_type": "stream",
     "text": [
      "New Batch started : 4081 to 4320 \n"
     ]
    },
    {
     "name": "stderr",
     "output_type": "stream",
     "text": [
      "[Parallel(n_jobs=48)]: Done 104 tasks      | elapsed:    5.4s\n",
      "[Parallel(n_jobs=48)]: Done 240 out of 240 | elapsed:   12.5s finished\n"
     ]
    },
    {
     "name": "stdout",
     "output_type": "stream",
     "text": [
      "New Batch started : 4321 to 4560 \n"
     ]
    },
    {
     "name": "stderr",
     "output_type": "stream",
     "text": [
      "[Parallel(n_jobs=48)]: Done 104 tasks      | elapsed:    5.4s\n",
      "[Parallel(n_jobs=48)]: Done 240 out of 240 | elapsed:   12.5s finished\n"
     ]
    },
    {
     "name": "stdout",
     "output_type": "stream",
     "text": [
      "New Batch started : 4561 to 4800 \n"
     ]
    },
    {
     "name": "stderr",
     "output_type": "stream",
     "text": [
      "[Parallel(n_jobs=48)]: Done 104 tasks      | elapsed:    5.4s\n",
      "[Parallel(n_jobs=48)]: Done 240 out of 240 | elapsed:   12.4s finished\n"
     ]
    },
    {
     "name": "stdout",
     "output_type": "stream",
     "text": [
      "New Batch started : 4801 to 5040 \n"
     ]
    },
    {
     "name": "stderr",
     "output_type": "stream",
     "text": [
      "[Parallel(n_jobs=48)]: Done 104 tasks      | elapsed:    5.5s\n",
      "[Parallel(n_jobs=48)]: Done 240 out of 240 | elapsed:   12.5s finished\n"
     ]
    },
    {
     "name": "stdout",
     "output_type": "stream",
     "text": [
      "New Batch started : 5041 to 5280 \n"
     ]
    },
    {
     "name": "stderr",
     "output_type": "stream",
     "text": [
      "[Parallel(n_jobs=48)]: Done 104 tasks      | elapsed:    5.4s\n",
      "[Parallel(n_jobs=48)]: Done 240 out of 240 | elapsed:   12.5s finished\n"
     ]
    },
    {
     "name": "stdout",
     "output_type": "stream",
     "text": [
      "New Batch started : 5281 to 5520 \n"
     ]
    },
    {
     "name": "stderr",
     "output_type": "stream",
     "text": [
      "[Parallel(n_jobs=48)]: Done 104 tasks      | elapsed:    5.4s\n",
      "[Parallel(n_jobs=48)]: Done 240 out of 240 | elapsed:   12.5s finished\n"
     ]
    },
    {
     "name": "stdout",
     "output_type": "stream",
     "text": [
      "New Batch started : 5521 to 5760 \n"
     ]
    },
    {
     "name": "stderr",
     "output_type": "stream",
     "text": [
      "[Parallel(n_jobs=48)]: Done 104 tasks      | elapsed:    5.4s\n",
      "[Parallel(n_jobs=48)]: Done 240 out of 240 | elapsed:   12.5s finished\n"
     ]
    },
    {
     "name": "stdout",
     "output_type": "stream",
     "text": [
      "New Batch started : 5761 to 6000 \n"
     ]
    },
    {
     "name": "stderr",
     "output_type": "stream",
     "text": [
      "[Parallel(n_jobs=48)]: Done 104 tasks      | elapsed:    5.4s\n",
      "[Parallel(n_jobs=48)]: Done 240 out of 240 | elapsed:   12.5s finished\n"
     ]
    },
    {
     "name": "stdout",
     "output_type": "stream",
     "text": [
      "New Batch started : 6001 to 6240 \n"
     ]
    },
    {
     "name": "stderr",
     "output_type": "stream",
     "text": [
      "[Parallel(n_jobs=48)]: Done 104 tasks      | elapsed:    5.4s\n",
      "[Parallel(n_jobs=48)]: Done 240 out of 240 | elapsed:   12.5s finished\n"
     ]
    },
    {
     "name": "stdout",
     "output_type": "stream",
     "text": [
      "New Batch started : 6241 to 6480 \n"
     ]
    },
    {
     "name": "stderr",
     "output_type": "stream",
     "text": [
      "[Parallel(n_jobs=48)]: Done 104 tasks      | elapsed:    5.4s\n",
      "[Parallel(n_jobs=48)]: Done 240 out of 240 | elapsed:   12.5s finished\n"
     ]
    },
    {
     "name": "stdout",
     "output_type": "stream",
     "text": [
      "New Batch started : 6481 to 6720 \n"
     ]
    },
    {
     "name": "stderr",
     "output_type": "stream",
     "text": [
      "[Parallel(n_jobs=48)]: Done 104 tasks      | elapsed:    5.4s\n",
      "[Parallel(n_jobs=48)]: Done 240 out of 240 | elapsed:   12.5s finished\n"
     ]
    },
    {
     "name": "stdout",
     "output_type": "stream",
     "text": [
      "New Batch started : 6721 to 6960 \n"
     ]
    },
    {
     "name": "stderr",
     "output_type": "stream",
     "text": [
      "[Parallel(n_jobs=48)]: Done 104 tasks      | elapsed:    5.4s\n",
      "[Parallel(n_jobs=48)]: Done 240 out of 240 | elapsed:   12.5s finished\n"
     ]
    },
    {
     "name": "stdout",
     "output_type": "stream",
     "text": [
      "New Batch started : 6961 to 7200 \n"
     ]
    },
    {
     "name": "stderr",
     "output_type": "stream",
     "text": [
      "[Parallel(n_jobs=48)]: Done 104 tasks      | elapsed:    5.4s\n",
      "[Parallel(n_jobs=48)]: Done 240 out of 240 | elapsed:   12.5s finished\n"
     ]
    },
    {
     "name": "stdout",
     "output_type": "stream",
     "text": [
      "New Batch started : 7201 to 7440 \n"
     ]
    },
    {
     "name": "stderr",
     "output_type": "stream",
     "text": [
      "[Parallel(n_jobs=48)]: Done 104 tasks      | elapsed:    5.5s\n",
      "[Parallel(n_jobs=48)]: Done 240 out of 240 | elapsed:   12.6s finished\n"
     ]
    },
    {
     "name": "stdout",
     "output_type": "stream",
     "text": [
      "New Batch started : 7441 to 7680 \n"
     ]
    },
    {
     "name": "stderr",
     "output_type": "stream",
     "text": [
      "[Parallel(n_jobs=48)]: Done 104 tasks      | elapsed:    5.4s\n",
      "[Parallel(n_jobs=48)]: Done 240 out of 240 | elapsed:   12.5s finished\n"
     ]
    },
    {
     "name": "stdout",
     "output_type": "stream",
     "text": [
      "New Batch started : 7681 to 7920 \n"
     ]
    },
    {
     "name": "stderr",
     "output_type": "stream",
     "text": [
      "[Parallel(n_jobs=48)]: Done 104 tasks      | elapsed:    5.5s\n",
      "[Parallel(n_jobs=48)]: Done 240 out of 240 | elapsed:   12.5s finished\n"
     ]
    },
    {
     "name": "stdout",
     "output_type": "stream",
     "text": [
      "New Batch started : 7921 to 8160 \n"
     ]
    },
    {
     "name": "stderr",
     "output_type": "stream",
     "text": [
      "[Parallel(n_jobs=48)]: Done 104 tasks      | elapsed:    5.4s\n",
      "[Parallel(n_jobs=48)]: Done 240 out of 240 | elapsed:   12.5s finished\n"
     ]
    },
    {
     "name": "stdout",
     "output_type": "stream",
     "text": [
      "New Batch started : 8161 to 8400 \n"
     ]
    },
    {
     "name": "stderr",
     "output_type": "stream",
     "text": [
      "[Parallel(n_jobs=48)]: Done 104 tasks      | elapsed:    5.4s\n",
      "[Parallel(n_jobs=48)]: Done 240 out of 240 | elapsed:   12.5s finished\n"
     ]
    },
    {
     "name": "stdout",
     "output_type": "stream",
     "text": [
      "New Batch started : 8401 to 8640 \n"
     ]
    },
    {
     "name": "stderr",
     "output_type": "stream",
     "text": [
      "[Parallel(n_jobs=48)]: Done 104 tasks      | elapsed:    5.4s\n",
      "[Parallel(n_jobs=48)]: Done 240 out of 240 | elapsed:   12.6s finished\n"
     ]
    },
    {
     "name": "stdout",
     "output_type": "stream",
     "text": [
      "New Batch started : 8641 to 8880 \n"
     ]
    },
    {
     "name": "stderr",
     "output_type": "stream",
     "text": [
      "[Parallel(n_jobs=48)]: Done 104 tasks      | elapsed:    5.5s\n",
      "[Parallel(n_jobs=48)]: Done 240 out of 240 | elapsed:   12.6s finished\n"
     ]
    },
    {
     "name": "stdout",
     "output_type": "stream",
     "text": [
      "New Batch started : 8881 to 9120 \n"
     ]
    },
    {
     "name": "stderr",
     "output_type": "stream",
     "text": [
      "[Parallel(n_jobs=48)]: Done 104 tasks      | elapsed:    5.4s\n",
      "[Parallel(n_jobs=48)]: Done 240 out of 240 | elapsed:   12.6s finished\n"
     ]
    },
    {
     "name": "stdout",
     "output_type": "stream",
     "text": [
      "New Batch started : 9121 to 9360 \n"
     ]
    },
    {
     "name": "stderr",
     "output_type": "stream",
     "text": [
      "[Parallel(n_jobs=48)]: Done 104 tasks      | elapsed:    5.4s\n",
      "[Parallel(n_jobs=48)]: Done 240 out of 240 | elapsed:   12.5s finished\n"
     ]
    },
    {
     "name": "stdout",
     "output_type": "stream",
     "text": [
      "New Batch started : 9361 to 9600 \n"
     ]
    },
    {
     "name": "stderr",
     "output_type": "stream",
     "text": [
      "[Parallel(n_jobs=48)]: Done 104 tasks      | elapsed:    5.4s\n",
      "[Parallel(n_jobs=48)]: Done 240 out of 240 | elapsed:   12.5s finished\n"
     ]
    },
    {
     "name": "stdout",
     "output_type": "stream",
     "text": [
      "New Batch started : 9601 to 9840 \n"
     ]
    },
    {
     "name": "stderr",
     "output_type": "stream",
     "text": [
      "[Parallel(n_jobs=48)]: Done 104 tasks      | elapsed:    5.4s\n",
      "[Parallel(n_jobs=48)]: Done 240 out of 240 | elapsed:   12.5s finished\n"
     ]
    },
    {
     "name": "stdout",
     "output_type": "stream",
     "text": [
      "New Batch started : 9841 to 10080 \n"
     ]
    },
    {
     "name": "stderr",
     "output_type": "stream",
     "text": [
      "[Parallel(n_jobs=48)]: Done 104 tasks      | elapsed:    5.4s\n",
      "[Parallel(n_jobs=48)]: Done 240 out of 240 | elapsed:   12.6s finished\n"
     ]
    },
    {
     "name": "stdout",
     "output_type": "stream",
     "text": [
      "New Batch started : 10081 to 10320 \n"
     ]
    },
    {
     "name": "stderr",
     "output_type": "stream",
     "text": [
      "[Parallel(n_jobs=48)]: Done 104 tasks      | elapsed:    5.5s\n",
      "[Parallel(n_jobs=48)]: Done 240 out of 240 | elapsed:   12.5s finished\n"
     ]
    },
    {
     "name": "stdout",
     "output_type": "stream",
     "text": [
      "New Batch started : 10321 to 10560 \n"
     ]
    },
    {
     "name": "stderr",
     "output_type": "stream",
     "text": [
      "[Parallel(n_jobs=48)]: Done 104 tasks      | elapsed:    5.5s\n",
      "[Parallel(n_jobs=48)]: Done 240 out of 240 | elapsed:   12.5s finished\n"
     ]
    },
    {
     "name": "stdout",
     "output_type": "stream",
     "text": [
      "New Batch started : 10561 to 10800 \n"
     ]
    },
    {
     "name": "stderr",
     "output_type": "stream",
     "text": [
      "[Parallel(n_jobs=48)]: Done 104 tasks      | elapsed:    5.5s\n",
      "[Parallel(n_jobs=48)]: Done 240 out of 240 | elapsed:   12.5s finished\n"
     ]
    },
    {
     "name": "stdout",
     "output_type": "stream",
     "text": [
      "New Batch started : 10801 to 11040 \n"
     ]
    },
    {
     "name": "stderr",
     "output_type": "stream",
     "text": [
      "[Parallel(n_jobs=48)]: Done 104 tasks      | elapsed:    5.4s\n",
      "[Parallel(n_jobs=48)]: Done 240 out of 240 | elapsed:   12.6s finished\n"
     ]
    },
    {
     "name": "stdout",
     "output_type": "stream",
     "text": [
      "New Batch started : 11041 to 11280 \n"
     ]
    },
    {
     "name": "stderr",
     "output_type": "stream",
     "text": [
      "[Parallel(n_jobs=48)]: Done 104 tasks      | elapsed:    5.5s\n",
      "[Parallel(n_jobs=48)]: Done 240 out of 240 | elapsed:   12.6s finished\n"
     ]
    },
    {
     "name": "stdout",
     "output_type": "stream",
     "text": [
      "New Batch started : 11281 to 11520 \n"
     ]
    },
    {
     "name": "stderr",
     "output_type": "stream",
     "text": [
      "[Parallel(n_jobs=48)]: Done 104 tasks      | elapsed:    5.5s\n",
      "[Parallel(n_jobs=48)]: Done 240 out of 240 | elapsed:   12.6s finished\n"
     ]
    },
    {
     "name": "stdout",
     "output_type": "stream",
     "text": [
      "New Batch started : 11521 to 11760 \n"
     ]
    },
    {
     "name": "stderr",
     "output_type": "stream",
     "text": [
      "[Parallel(n_jobs=48)]: Done 104 tasks      | elapsed:    5.4s\n",
      "[Parallel(n_jobs=48)]: Done 240 out of 240 | elapsed:   12.5s finished\n"
     ]
    },
    {
     "name": "stdout",
     "output_type": "stream",
     "text": [
      "New Batch started : 11761 to 12000 \n"
     ]
    },
    {
     "name": "stderr",
     "output_type": "stream",
     "text": [
      "[Parallel(n_jobs=48)]: Done 104 tasks      | elapsed:    5.4s\n",
      "[Parallel(n_jobs=48)]: Done 240 out of 240 | elapsed:   12.5s finished\n"
     ]
    },
    {
     "name": "stdout",
     "output_type": "stream",
     "text": [
      "New Batch started : 12001 to 12240 \n"
     ]
    },
    {
     "name": "stderr",
     "output_type": "stream",
     "text": [
      "[Parallel(n_jobs=48)]: Done 104 tasks      | elapsed:    5.4s\n",
      "[Parallel(n_jobs=48)]: Done 240 out of 240 | elapsed:   12.5s finished\n"
     ]
    },
    {
     "name": "stdout",
     "output_type": "stream",
     "text": [
      "New Batch started : 12241 to 12480 \n"
     ]
    },
    {
     "name": "stderr",
     "output_type": "stream",
     "text": [
      "[Parallel(n_jobs=48)]: Done 104 tasks      | elapsed:    5.4s\n",
      "[Parallel(n_jobs=48)]: Done 240 out of 240 | elapsed:   12.4s finished\n"
     ]
    },
    {
     "name": "stdout",
     "output_type": "stream",
     "text": [
      "New Batch started : 12481 to 12720 \n"
     ]
    },
    {
     "name": "stderr",
     "output_type": "stream",
     "text": [
      "[Parallel(n_jobs=48)]: Done 104 tasks      | elapsed:    5.4s\n",
      "[Parallel(n_jobs=48)]: Done 240 out of 240 | elapsed:   12.5s finished\n"
     ]
    },
    {
     "name": "stdout",
     "output_type": "stream",
     "text": [
      "New Batch started : 12721 to 12960 \n"
     ]
    },
    {
     "name": "stderr",
     "output_type": "stream",
     "text": [
      "[Parallel(n_jobs=48)]: Done 104 tasks      | elapsed:    5.4s\n",
      "[Parallel(n_jobs=48)]: Done 240 out of 240 | elapsed:   12.5s finished\n"
     ]
    },
    {
     "name": "stdout",
     "output_type": "stream",
     "text": [
      "New Batch started : 12961 to 13200 \n"
     ]
    },
    {
     "name": "stderr",
     "output_type": "stream",
     "text": [
      "[Parallel(n_jobs=48)]: Done 104 tasks      | elapsed:    5.4s\n",
      "[Parallel(n_jobs=48)]: Done 240 out of 240 | elapsed:   12.5s finished\n"
     ]
    },
    {
     "name": "stdout",
     "output_type": "stream",
     "text": [
      "New Batch started : 13201 to 13440 \n"
     ]
    },
    {
     "name": "stderr",
     "output_type": "stream",
     "text": [
      "[Parallel(n_jobs=48)]: Done 104 tasks      | elapsed:    5.5s\n",
      "[Parallel(n_jobs=48)]: Done 240 out of 240 | elapsed:   12.5s finished\n"
     ]
    },
    {
     "name": "stdout",
     "output_type": "stream",
     "text": [
      "New Batch started : 13441 to 13680 \n"
     ]
    },
    {
     "name": "stderr",
     "output_type": "stream",
     "text": [
      "[Parallel(n_jobs=48)]: Done 104 tasks      | elapsed:    5.4s\n",
      "[Parallel(n_jobs=48)]: Done 240 out of 240 | elapsed:   12.5s finished\n"
     ]
    },
    {
     "name": "stdout",
     "output_type": "stream",
     "text": [
      "New Batch started : 13681 to 13920 \n"
     ]
    },
    {
     "name": "stderr",
     "output_type": "stream",
     "text": [
      "[Parallel(n_jobs=48)]: Done 104 tasks      | elapsed:    5.4s\n",
      "[Parallel(n_jobs=48)]: Done 240 out of 240 | elapsed:   12.5s finished\n"
     ]
    },
    {
     "name": "stdout",
     "output_type": "stream",
     "text": [
      "New Batch started : 13921 to 14160 \n"
     ]
    },
    {
     "name": "stderr",
     "output_type": "stream",
     "text": [
      "[Parallel(n_jobs=48)]: Done 104 tasks      | elapsed:    5.4s\n",
      "[Parallel(n_jobs=48)]: Done 240 out of 240 | elapsed:   12.5s finished\n"
     ]
    },
    {
     "name": "stdout",
     "output_type": "stream",
     "text": [
      "New Batch started : 14161 to 14400 \n"
     ]
    },
    {
     "name": "stderr",
     "output_type": "stream",
     "text": [
      "[Parallel(n_jobs=48)]: Done 104 tasks      | elapsed:    5.4s\n",
      "[Parallel(n_jobs=48)]: Done 240 out of 240 | elapsed:   12.5s finished\n"
     ]
    },
    {
     "name": "stdout",
     "output_type": "stream",
     "text": [
      "New Batch started : 14401 to 14640 \n"
     ]
    },
    {
     "name": "stderr",
     "output_type": "stream",
     "text": [
      "[Parallel(n_jobs=48)]: Done 104 tasks      | elapsed:    5.4s\n",
      "[Parallel(n_jobs=48)]: Done 240 out of 240 | elapsed:   12.5s finished\n"
     ]
    },
    {
     "name": "stdout",
     "output_type": "stream",
     "text": [
      "New Batch started : 14641 to 14880 \n"
     ]
    },
    {
     "name": "stderr",
     "output_type": "stream",
     "text": [
      "[Parallel(n_jobs=48)]: Done 104 tasks      | elapsed:    5.4s\n",
      "[Parallel(n_jobs=48)]: Done 240 out of 240 | elapsed:   12.5s finished\n"
     ]
    },
    {
     "name": "stdout",
     "output_type": "stream",
     "text": [
      "New Batch started : 14881 to 15120 \n"
     ]
    },
    {
     "name": "stderr",
     "output_type": "stream",
     "text": [
      "[Parallel(n_jobs=48)]: Done 104 tasks      | elapsed:    5.4s\n",
      "[Parallel(n_jobs=48)]: Done 240 out of 240 | elapsed:   12.5s finished\n"
     ]
    },
    {
     "name": "stdout",
     "output_type": "stream",
     "text": [
      "New Batch started : 15121 to 15360 \n"
     ]
    },
    {
     "name": "stderr",
     "output_type": "stream",
     "text": [
      "[Parallel(n_jobs=48)]: Done 104 tasks      | elapsed:    5.4s\n",
      "[Parallel(n_jobs=48)]: Done 240 out of 240 | elapsed:   12.5s finished\n"
     ]
    },
    {
     "name": "stdout",
     "output_type": "stream",
     "text": [
      "New Batch started : 15361 to 15600 \n"
     ]
    },
    {
     "name": "stderr",
     "output_type": "stream",
     "text": [
      "[Parallel(n_jobs=48)]: Done 104 tasks      | elapsed:    5.5s\n",
      "[Parallel(n_jobs=48)]: Done 240 out of 240 | elapsed:   12.5s finished\n"
     ]
    },
    {
     "name": "stdout",
     "output_type": "stream",
     "text": [
      "New Batch started : 15601 to 15840 \n"
     ]
    },
    {
     "name": "stderr",
     "output_type": "stream",
     "text": [
      "[Parallel(n_jobs=48)]: Done 104 tasks      | elapsed:    5.4s\n",
      "[Parallel(n_jobs=48)]: Done 240 out of 240 | elapsed:   12.4s finished\n"
     ]
    },
    {
     "name": "stdout",
     "output_type": "stream",
     "text": [
      "New Batch started : 15841 to 16080 \n"
     ]
    },
    {
     "name": "stderr",
     "output_type": "stream",
     "text": [
      "[Parallel(n_jobs=48)]: Done 104 tasks      | elapsed:    5.4s\n",
      "[Parallel(n_jobs=48)]: Done 240 out of 240 | elapsed:   12.4s finished\n"
     ]
    },
    {
     "name": "stdout",
     "output_type": "stream",
     "text": [
      "New Batch started : 16081 to 16320 \n"
     ]
    },
    {
     "name": "stderr",
     "output_type": "stream",
     "text": [
      "[Parallel(n_jobs=48)]: Done 104 tasks      | elapsed:    5.4s\n",
      "[Parallel(n_jobs=48)]: Done 240 out of 240 | elapsed:   12.6s finished\n"
     ]
    },
    {
     "name": "stdout",
     "output_type": "stream",
     "text": [
      "New Batch started : 16321 to 16560 \n"
     ]
    },
    {
     "name": "stderr",
     "output_type": "stream",
     "text": [
      "[Parallel(n_jobs=48)]: Done 104 tasks      | elapsed:    5.5s\n",
      "[Parallel(n_jobs=48)]: Done 240 out of 240 | elapsed:   12.6s finished\n"
     ]
    },
    {
     "name": "stdout",
     "output_type": "stream",
     "text": [
      "New Batch started : 16561 to 16800 \n"
     ]
    },
    {
     "name": "stderr",
     "output_type": "stream",
     "text": [
      "[Parallel(n_jobs=48)]: Done 104 tasks      | elapsed:    5.4s\n",
      "[Parallel(n_jobs=48)]: Done 240 out of 240 | elapsed:   12.5s finished\n"
     ]
    },
    {
     "name": "stdout",
     "output_type": "stream",
     "text": [
      "New Batch started : 16801 to 17040 \n"
     ]
    },
    {
     "name": "stderr",
     "output_type": "stream",
     "text": [
      "[Parallel(n_jobs=48)]: Done 104 tasks      | elapsed:    5.4s\n",
      "[Parallel(n_jobs=48)]: Done 240 out of 240 | elapsed:   12.5s finished\n"
     ]
    },
    {
     "name": "stdout",
     "output_type": "stream",
     "text": [
      "New Batch started : 17041 to 17280 \n"
     ]
    },
    {
     "name": "stderr",
     "output_type": "stream",
     "text": [
      "[Parallel(n_jobs=48)]: Done 104 tasks      | elapsed:    5.4s\n",
      "[Parallel(n_jobs=48)]: Done 240 out of 240 | elapsed:   12.5s finished\n"
     ]
    },
    {
     "name": "stdout",
     "output_type": "stream",
     "text": [
      "New Batch started : 17281 to 17520 \n"
     ]
    },
    {
     "name": "stderr",
     "output_type": "stream",
     "text": [
      "[Parallel(n_jobs=48)]: Done 104 tasks      | elapsed:    5.4s\n",
      "[Parallel(n_jobs=48)]: Done 240 out of 240 | elapsed:   12.4s finished\n"
     ]
    },
    {
     "name": "stdout",
     "output_type": "stream",
     "text": [
      "New Batch started : 17521 to 17760 \n"
     ]
    },
    {
     "name": "stderr",
     "output_type": "stream",
     "text": [
      "[Parallel(n_jobs=48)]: Done 104 tasks      | elapsed:    5.4s\n",
      "[Parallel(n_jobs=48)]: Done 240 out of 240 | elapsed:   12.5s finished\n"
     ]
    },
    {
     "name": "stdout",
     "output_type": "stream",
     "text": [
      "New Batch started : 17761 to 18000 \n"
     ]
    },
    {
     "name": "stderr",
     "output_type": "stream",
     "text": [
      "[Parallel(n_jobs=48)]: Done 104 tasks      | elapsed:    5.4s\n",
      "[Parallel(n_jobs=48)]: Done 240 out of 240 | elapsed:   12.6s finished\n"
     ]
    },
    {
     "name": "stdout",
     "output_type": "stream",
     "text": [
      "New Batch started : 18001 to 18240 \n"
     ]
    },
    {
     "name": "stderr",
     "output_type": "stream",
     "text": [
      "[Parallel(n_jobs=48)]: Done 104 tasks      | elapsed:    5.4s\n",
      "[Parallel(n_jobs=48)]: Done 240 out of 240 | elapsed:   12.5s finished\n"
     ]
    },
    {
     "name": "stdout",
     "output_type": "stream",
     "text": [
      "New Batch started : 18241 to 18480 \n"
     ]
    },
    {
     "name": "stderr",
     "output_type": "stream",
     "text": [
      "[Parallel(n_jobs=48)]: Done 104 tasks      | elapsed:    5.5s\n",
      "[Parallel(n_jobs=48)]: Done 240 out of 240 | elapsed:   12.5s finished\n"
     ]
    },
    {
     "name": "stdout",
     "output_type": "stream",
     "text": [
      "New Batch started : 18481 to 18720 \n"
     ]
    },
    {
     "name": "stderr",
     "output_type": "stream",
     "text": [
      "[Parallel(n_jobs=48)]: Done 104 tasks      | elapsed:    5.4s\n",
      "[Parallel(n_jobs=48)]: Done 240 out of 240 | elapsed:   12.5s finished\n"
     ]
    },
    {
     "name": "stdout",
     "output_type": "stream",
     "text": [
      "New Batch started : 18721 to 18960 \n"
     ]
    },
    {
     "name": "stderr",
     "output_type": "stream",
     "text": [
      "[Parallel(n_jobs=48)]: Done 104 tasks      | elapsed:    5.4s\n",
      "[Parallel(n_jobs=48)]: Done 240 out of 240 | elapsed:   12.5s finished\n"
     ]
    },
    {
     "name": "stdout",
     "output_type": "stream",
     "text": [
      "New Batch started : 18961 to 19200 \n"
     ]
    },
    {
     "name": "stderr",
     "output_type": "stream",
     "text": [
      "[Parallel(n_jobs=48)]: Done 104 tasks      | elapsed:    5.4s\n",
      "[Parallel(n_jobs=48)]: Done 240 out of 240 | elapsed:   12.5s finished\n"
     ]
    },
    {
     "name": "stdout",
     "output_type": "stream",
     "text": [
      "New Batch started : 19201 to 19440 \n"
     ]
    },
    {
     "name": "stderr",
     "output_type": "stream",
     "text": [
      "[Parallel(n_jobs=48)]: Done 104 tasks      | elapsed:    5.4s\n",
      "[Parallel(n_jobs=48)]: Done 240 out of 240 | elapsed:   12.5s finished\n"
     ]
    },
    {
     "name": "stdout",
     "output_type": "stream",
     "text": [
      "New Batch started : 19441 to 19680 \n"
     ]
    },
    {
     "name": "stderr",
     "output_type": "stream",
     "text": [
      "[Parallel(n_jobs=48)]: Done 104 tasks      | elapsed:    5.4s\n",
      "[Parallel(n_jobs=48)]: Done 240 out of 240 | elapsed:   12.6s finished\n"
     ]
    },
    {
     "name": "stdout",
     "output_type": "stream",
     "text": [
      "New Batch started : 19681 to 19920 \n"
     ]
    },
    {
     "name": "stderr",
     "output_type": "stream",
     "text": [
      "[Parallel(n_jobs=48)]: Done 104 tasks      | elapsed:    5.4s\n",
      "[Parallel(n_jobs=48)]: Done 240 out of 240 | elapsed:   12.5s finished\n"
     ]
    },
    {
     "name": "stdout",
     "output_type": "stream",
     "text": [
      "New Batch started : 19921 to 20160 \n"
     ]
    },
    {
     "name": "stderr",
     "output_type": "stream",
     "text": [
      "[Parallel(n_jobs=48)]: Done 104 tasks      | elapsed:    5.4s\n",
      "[Parallel(n_jobs=48)]: Done 240 out of 240 | elapsed:   12.6s finished\n"
     ]
    },
    {
     "name": "stdout",
     "output_type": "stream",
     "text": [
      "New Batch started : 20161 to 20400 \n"
     ]
    },
    {
     "name": "stderr",
     "output_type": "stream",
     "text": [
      "[Parallel(n_jobs=48)]: Done 104 tasks      | elapsed:    5.5s\n",
      "[Parallel(n_jobs=48)]: Done 240 out of 240 | elapsed:   12.5s finished\n"
     ]
    },
    {
     "name": "stdout",
     "output_type": "stream",
     "text": [
      "New Batch started : 20401 to 20640 \n"
     ]
    },
    {
     "name": "stderr",
     "output_type": "stream",
     "text": [
      "[Parallel(n_jobs=48)]: Done 104 tasks      | elapsed:    5.4s\n",
      "[Parallel(n_jobs=48)]: Done 240 out of 240 | elapsed:   12.5s finished\n"
     ]
    },
    {
     "name": "stdout",
     "output_type": "stream",
     "text": [
      "New Batch started : 20641 to 20880 \n"
     ]
    },
    {
     "name": "stderr",
     "output_type": "stream",
     "text": [
      "[Parallel(n_jobs=48)]: Done 104 tasks      | elapsed:    5.4s\n",
      "[Parallel(n_jobs=48)]: Done 240 out of 240 | elapsed:   12.5s finished\n"
     ]
    },
    {
     "name": "stdout",
     "output_type": "stream",
     "text": [
      "New Batch started : 20881 to 21120 \n"
     ]
    },
    {
     "name": "stderr",
     "output_type": "stream",
     "text": [
      "[Parallel(n_jobs=48)]: Done 104 tasks      | elapsed:    5.4s\n",
      "[Parallel(n_jobs=48)]: Done 240 out of 240 | elapsed:   12.5s finished\n"
     ]
    },
    {
     "name": "stdout",
     "output_type": "stream",
     "text": [
      "New Batch started : 21121 to 21360 \n"
     ]
    },
    {
     "name": "stderr",
     "output_type": "stream",
     "text": [
      "[Parallel(n_jobs=48)]: Done 104 tasks      | elapsed:    5.5s\n",
      "[Parallel(n_jobs=48)]: Done 240 out of 240 | elapsed:   12.5s finished\n"
     ]
    },
    {
     "name": "stdout",
     "output_type": "stream",
     "text": [
      "New Batch started : 21361 to 21600 \n"
     ]
    },
    {
     "name": "stderr",
     "output_type": "stream",
     "text": [
      "[Parallel(n_jobs=48)]: Done 104 tasks      | elapsed:    5.5s\n",
      "[Parallel(n_jobs=48)]: Done 240 out of 240 | elapsed:   12.5s finished\n"
     ]
    },
    {
     "name": "stdout",
     "output_type": "stream",
     "text": [
      "New Batch started : 21601 to 21840 \n"
     ]
    },
    {
     "name": "stderr",
     "output_type": "stream",
     "text": [
      "[Parallel(n_jobs=48)]: Done 104 tasks      | elapsed:    5.4s\n",
      "[Parallel(n_jobs=48)]: Done 240 out of 240 | elapsed:   12.5s finished\n"
     ]
    },
    {
     "name": "stdout",
     "output_type": "stream",
     "text": [
      "New Batch started : 21841 to 22080 \n"
     ]
    },
    {
     "name": "stderr",
     "output_type": "stream",
     "text": [
      "[Parallel(n_jobs=48)]: Done 104 tasks      | elapsed:    5.4s\n",
      "[Parallel(n_jobs=48)]: Done 240 out of 240 | elapsed:   12.5s finished\n"
     ]
    },
    {
     "name": "stdout",
     "output_type": "stream",
     "text": [
      "New Batch started : 22081 to 22320 \n"
     ]
    },
    {
     "name": "stderr",
     "output_type": "stream",
     "text": [
      "[Parallel(n_jobs=48)]: Done 104 tasks      | elapsed:    5.4s\n",
      "[Parallel(n_jobs=48)]: Done 240 out of 240 | elapsed:   12.5s finished\n"
     ]
    },
    {
     "name": "stdout",
     "output_type": "stream",
     "text": [
      "New Batch started : 22321 to 22560 \n"
     ]
    },
    {
     "name": "stderr",
     "output_type": "stream",
     "text": [
      "[Parallel(n_jobs=48)]: Done 104 tasks      | elapsed:    5.4s\n",
      "[Parallel(n_jobs=48)]: Done 240 out of 240 | elapsed:   12.6s finished\n"
     ]
    },
    {
     "name": "stdout",
     "output_type": "stream",
     "text": [
      "New Batch started : 22561 to 22800 \n"
     ]
    },
    {
     "name": "stderr",
     "output_type": "stream",
     "text": [
      "[Parallel(n_jobs=48)]: Done 104 tasks      | elapsed:    5.4s\n",
      "[Parallel(n_jobs=48)]: Done 240 out of 240 | elapsed:   12.5s finished\n"
     ]
    },
    {
     "name": "stdout",
     "output_type": "stream",
     "text": [
      "New Batch started : 22801 to 23040 \n"
     ]
    },
    {
     "name": "stderr",
     "output_type": "stream",
     "text": [
      "[Parallel(n_jobs=48)]: Done 104 tasks      | elapsed:    5.4s\n",
      "[Parallel(n_jobs=48)]: Done 240 out of 240 | elapsed:   12.5s finished\n"
     ]
    },
    {
     "name": "stdout",
     "output_type": "stream",
     "text": [
      "New Batch started : 23041 to 23280 \n"
     ]
    },
    {
     "name": "stderr",
     "output_type": "stream",
     "text": [
      "[Parallel(n_jobs=48)]: Done 104 tasks      | elapsed:    5.4s\n",
      "[Parallel(n_jobs=48)]: Done 240 out of 240 | elapsed:   12.5s finished\n"
     ]
    },
    {
     "name": "stdout",
     "output_type": "stream",
     "text": [
      "New Batch started : 23281 to 23520 \n"
     ]
    },
    {
     "name": "stderr",
     "output_type": "stream",
     "text": [
      "[Parallel(n_jobs=48)]: Done 104 tasks      | elapsed:    5.5s\n",
      "[Parallel(n_jobs=48)]: Done 240 out of 240 | elapsed:   12.6s finished\n"
     ]
    },
    {
     "name": "stdout",
     "output_type": "stream",
     "text": [
      "New Batch started : 23521 to 23760 \n"
     ]
    },
    {
     "name": "stderr",
     "output_type": "stream",
     "text": [
      "[Parallel(n_jobs=48)]: Done 104 tasks      | elapsed:    5.5s\n",
      "[Parallel(n_jobs=48)]: Done 240 out of 240 | elapsed:   12.5s finished\n"
     ]
    },
    {
     "name": "stdout",
     "output_type": "stream",
     "text": [
      "New Batch started : 23761 to 24000 \n"
     ]
    },
    {
     "name": "stderr",
     "output_type": "stream",
     "text": [
      "[Parallel(n_jobs=48)]: Done 104 tasks      | elapsed:    5.4s\n",
      "[Parallel(n_jobs=48)]: Done 240 out of 240 | elapsed:   12.5s finished\n"
     ]
    },
    {
     "name": "stdout",
     "output_type": "stream",
     "text": [
      "New Batch started : 24001 to 24240 \n"
     ]
    },
    {
     "name": "stderr",
     "output_type": "stream",
     "text": [
      "[Parallel(n_jobs=48)]: Done 104 tasks      | elapsed:    5.4s\n",
      "[Parallel(n_jobs=48)]: Done 240 out of 240 | elapsed:   12.5s finished\n"
     ]
    },
    {
     "name": "stdout",
     "output_type": "stream",
     "text": [
      "New Batch started : 24241 to 24480 \n"
     ]
    },
    {
     "name": "stderr",
     "output_type": "stream",
     "text": [
      "[Parallel(n_jobs=48)]: Done 104 tasks      | elapsed:    5.6s\n",
      "[Parallel(n_jobs=48)]: Done 240 out of 240 | elapsed:   12.7s finished\n"
     ]
    },
    {
     "name": "stdout",
     "output_type": "stream",
     "text": [
      "New Batch started : 24481 to 24720 \n"
     ]
    },
    {
     "name": "stderr",
     "output_type": "stream",
     "text": [
      "[Parallel(n_jobs=48)]: Done 104 tasks      | elapsed:    5.4s\n",
      "[Parallel(n_jobs=48)]: Done 240 out of 240 | elapsed:   12.5s finished\n"
     ]
    },
    {
     "name": "stdout",
     "output_type": "stream",
     "text": [
      "New Batch started : 24721 to 24960 \n"
     ]
    },
    {
     "name": "stderr",
     "output_type": "stream",
     "text": [
      "[Parallel(n_jobs=48)]: Done 104 tasks      | elapsed:    5.4s\n",
      "[Parallel(n_jobs=48)]: Done 240 out of 240 | elapsed:   12.4s finished\n"
     ]
    },
    {
     "name": "stdout",
     "output_type": "stream",
     "text": [
      "New Batch started : 24961 to 25200 \n"
     ]
    },
    {
     "name": "stderr",
     "output_type": "stream",
     "text": [
      "[Parallel(n_jobs=48)]: Done 104 tasks      | elapsed:    5.4s\n",
      "[Parallel(n_jobs=48)]: Done 240 out of 240 | elapsed:   12.5s finished\n"
     ]
    },
    {
     "name": "stdout",
     "output_type": "stream",
     "text": [
      "New Batch started : 25201 to 25440 \n"
     ]
    },
    {
     "name": "stderr",
     "output_type": "stream",
     "text": [
      "[Parallel(n_jobs=48)]: Done 104 tasks      | elapsed:    5.4s\n",
      "[Parallel(n_jobs=48)]: Done 240 out of 240 | elapsed:   12.5s finished\n"
     ]
    },
    {
     "name": "stdout",
     "output_type": "stream",
     "text": [
      "New Batch started : 25441 to 25680 \n"
     ]
    },
    {
     "name": "stderr",
     "output_type": "stream",
     "text": [
      "[Parallel(n_jobs=48)]: Done 104 tasks      | elapsed:    5.4s\n",
      "[Parallel(n_jobs=48)]: Done 240 out of 240 | elapsed:   12.4s finished\n"
     ]
    },
    {
     "name": "stdout",
     "output_type": "stream",
     "text": [
      "New Batch started : 25681 to 25920 \n"
     ]
    },
    {
     "name": "stderr",
     "output_type": "stream",
     "text": [
      "[Parallel(n_jobs=48)]: Done 104 tasks      | elapsed:    5.4s\n",
      "[Parallel(n_jobs=48)]: Done 240 out of 240 | elapsed:   12.6s finished\n"
     ]
    },
    {
     "name": "stdout",
     "output_type": "stream",
     "text": [
      "New Batch started : 25921 to 26160 \n"
     ]
    },
    {
     "name": "stderr",
     "output_type": "stream",
     "text": [
      "[Parallel(n_jobs=48)]: Done 104 tasks      | elapsed:    5.4s\n",
      "[Parallel(n_jobs=48)]: Done 240 out of 240 | elapsed:   12.5s finished\n"
     ]
    },
    {
     "name": "stdout",
     "output_type": "stream",
     "text": [
      "New Batch started : 26161 to 26400 \n"
     ]
    },
    {
     "name": "stderr",
     "output_type": "stream",
     "text": [
      "[Parallel(n_jobs=48)]: Done 104 tasks      | elapsed:    5.4s\n",
      "[Parallel(n_jobs=48)]: Done 240 out of 240 | elapsed:   12.4s finished\n"
     ]
    },
    {
     "name": "stdout",
     "output_type": "stream",
     "text": [
      "New Batch started : 26401 to 26640 \n"
     ]
    },
    {
     "name": "stderr",
     "output_type": "stream",
     "text": [
      "[Parallel(n_jobs=48)]: Done 104 tasks      | elapsed:    5.4s\n",
      "[Parallel(n_jobs=48)]: Done 240 out of 240 | elapsed:   12.5s finished\n"
     ]
    },
    {
     "name": "stdout",
     "output_type": "stream",
     "text": [
      "New Batch started : 26641 to 26880 \n"
     ]
    },
    {
     "name": "stderr",
     "output_type": "stream",
     "text": [
      "[Parallel(n_jobs=48)]: Done 104 tasks      | elapsed:    5.5s\n",
      "[Parallel(n_jobs=48)]: Done 240 out of 240 | elapsed:   12.6s finished\n"
     ]
    },
    {
     "name": "stdout",
     "output_type": "stream",
     "text": [
      "New Batch started : 26881 to 27120 \n"
     ]
    },
    {
     "name": "stderr",
     "output_type": "stream",
     "text": [
      "[Parallel(n_jobs=48)]: Done 104 tasks      | elapsed:    5.4s\n",
      "[Parallel(n_jobs=48)]: Done 240 out of 240 | elapsed:   12.5s finished\n"
     ]
    },
    {
     "name": "stdout",
     "output_type": "stream",
     "text": [
      "New Batch started : 27121 to 27360 \n"
     ]
    },
    {
     "name": "stderr",
     "output_type": "stream",
     "text": [
      "[Parallel(n_jobs=48)]: Done 104 tasks      | elapsed:    5.4s\n",
      "[Parallel(n_jobs=48)]: Done 240 out of 240 | elapsed:   12.4s finished\n"
     ]
    },
    {
     "name": "stdout",
     "output_type": "stream",
     "text": [
      "New Batch started : 27361 to 27600 \n"
     ]
    },
    {
     "name": "stderr",
     "output_type": "stream",
     "text": [
      "[Parallel(n_jobs=48)]: Done 104 tasks      | elapsed:    5.4s\n",
      "[Parallel(n_jobs=48)]: Done 240 out of 240 | elapsed:   12.5s finished\n"
     ]
    },
    {
     "name": "stdout",
     "output_type": "stream",
     "text": [
      "New Batch started : 27601 to 27840 \n"
     ]
    },
    {
     "name": "stderr",
     "output_type": "stream",
     "text": [
      "[Parallel(n_jobs=48)]: Done 104 tasks      | elapsed:    5.5s\n",
      "[Parallel(n_jobs=48)]: Done 240 out of 240 | elapsed:   12.5s finished\n"
     ]
    },
    {
     "name": "stdout",
     "output_type": "stream",
     "text": [
      "New Batch started : 27841 to 28080 \n"
     ]
    },
    {
     "name": "stderr",
     "output_type": "stream",
     "text": [
      "[Parallel(n_jobs=48)]: Done 104 tasks      | elapsed:    5.4s\n",
      "[Parallel(n_jobs=48)]: Done 240 out of 240 | elapsed:   12.5s finished\n"
     ]
    },
    {
     "name": "stdout",
     "output_type": "stream",
     "text": [
      "New Batch started : 28081 to 28320 \n"
     ]
    },
    {
     "name": "stderr",
     "output_type": "stream",
     "text": [
      "[Parallel(n_jobs=48)]: Done 104 tasks      | elapsed:    5.4s\n",
      "[Parallel(n_jobs=48)]: Done 240 out of 240 | elapsed:   12.5s finished\n"
     ]
    },
    {
     "name": "stdout",
     "output_type": "stream",
     "text": [
      "New Batch started : 28321 to 28560 \n"
     ]
    },
    {
     "name": "stderr",
     "output_type": "stream",
     "text": [
      "[Parallel(n_jobs=48)]: Done 104 tasks      | elapsed:    5.4s\n",
      "[Parallel(n_jobs=48)]: Done 240 out of 240 | elapsed:   12.5s finished\n"
     ]
    },
    {
     "name": "stdout",
     "output_type": "stream",
     "text": [
      "New Batch started : 28561 to 28800 \n"
     ]
    },
    {
     "name": "stderr",
     "output_type": "stream",
     "text": [
      "[Parallel(n_jobs=48)]: Done 104 tasks      | elapsed:    5.4s\n",
      "[Parallel(n_jobs=48)]: Done 240 out of 240 | elapsed:   12.5s finished\n"
     ]
    },
    {
     "name": "stdout",
     "output_type": "stream",
     "text": [
      "New Batch started : 28801 to 29040 \n"
     ]
    },
    {
     "name": "stderr",
     "output_type": "stream",
     "text": [
      "[Parallel(n_jobs=48)]: Done 104 tasks      | elapsed:    5.4s\n",
      "[Parallel(n_jobs=48)]: Done 240 out of 240 | elapsed:   12.5s finished\n"
     ]
    },
    {
     "name": "stdout",
     "output_type": "stream",
     "text": [
      "New Batch started : 29041 to 29280 \n"
     ]
    },
    {
     "name": "stderr",
     "output_type": "stream",
     "text": [
      "[Parallel(n_jobs=48)]: Done 104 tasks      | elapsed:    5.4s\n",
      "[Parallel(n_jobs=48)]: Done 240 out of 240 | elapsed:   12.5s finished\n"
     ]
    },
    {
     "name": "stdout",
     "output_type": "stream",
     "text": [
      "New Batch started : 29281 to 29520 \n"
     ]
    },
    {
     "name": "stderr",
     "output_type": "stream",
     "text": [
      "[Parallel(n_jobs=48)]: Done 104 tasks      | elapsed:    5.5s\n",
      "[Parallel(n_jobs=48)]: Done 240 out of 240 | elapsed:   12.5s finished\n"
     ]
    },
    {
     "name": "stdout",
     "output_type": "stream",
     "text": [
      "New Batch started : 29521 to 29760 \n"
     ]
    },
    {
     "name": "stderr",
     "output_type": "stream",
     "text": [
      "[Parallel(n_jobs=48)]: Done 104 tasks      | elapsed:    5.5s\n",
      "[Parallel(n_jobs=48)]: Done 240 out of 240 | elapsed:   12.6s finished\n"
     ]
    },
    {
     "name": "stdout",
     "output_type": "stream",
     "text": [
      "New Batch started : 29761 to 30000 \n"
     ]
    },
    {
     "name": "stderr",
     "output_type": "stream",
     "text": [
      "[Parallel(n_jobs=48)]: Done 104 tasks      | elapsed:    5.4s\n",
      "[Parallel(n_jobs=48)]: Done 240 out of 240 | elapsed:   12.5s finished\n"
     ]
    },
    {
     "name": "stdout",
     "output_type": "stream",
     "text": [
      "New Batch started : 30001 to 30240 \n"
     ]
    },
    {
     "name": "stderr",
     "output_type": "stream",
     "text": [
      "[Parallel(n_jobs=48)]: Done 104 tasks      | elapsed:    5.4s\n",
      "[Parallel(n_jobs=48)]: Done 240 out of 240 | elapsed:   12.5s finished\n"
     ]
    },
    {
     "name": "stdout",
     "output_type": "stream",
     "text": [
      "New Batch started : 30241 to 30480 \n"
     ]
    },
    {
     "name": "stderr",
     "output_type": "stream",
     "text": [
      "[Parallel(n_jobs=48)]: Done 104 tasks      | elapsed:    5.5s\n",
      "[Parallel(n_jobs=48)]: Done 240 out of 240 | elapsed:   12.6s finished\n"
     ]
    },
    {
     "name": "stdout",
     "output_type": "stream",
     "text": [
      "New Batch started : 30481 to 30720 \n"
     ]
    },
    {
     "name": "stderr",
     "output_type": "stream",
     "text": [
      "[Parallel(n_jobs=48)]: Done 104 tasks      | elapsed:    5.4s\n",
      "[Parallel(n_jobs=48)]: Done 240 out of 240 | elapsed:   12.5s finished\n"
     ]
    },
    {
     "name": "stdout",
     "output_type": "stream",
     "text": [
      "New Batch started : 30721 to 30960 \n"
     ]
    },
    {
     "name": "stderr",
     "output_type": "stream",
     "text": [
      "[Parallel(n_jobs=48)]: Done 104 tasks      | elapsed:    5.4s\n",
      "[Parallel(n_jobs=48)]: Done 240 out of 240 | elapsed:   12.5s finished\n"
     ]
    },
    {
     "name": "stdout",
     "output_type": "stream",
     "text": [
      "New Batch started : 30961 to 31200 \n"
     ]
    },
    {
     "name": "stderr",
     "output_type": "stream",
     "text": [
      "[Parallel(n_jobs=48)]: Done 104 tasks      | elapsed:    5.4s\n",
      "[Parallel(n_jobs=48)]: Done 240 out of 240 | elapsed:   12.5s finished\n"
     ]
    },
    {
     "name": "stdout",
     "output_type": "stream",
     "text": [
      "New Batch started : 31201 to 31440 \n"
     ]
    },
    {
     "name": "stderr",
     "output_type": "stream",
     "text": [
      "[Parallel(n_jobs=48)]: Done 104 tasks      | elapsed:    5.4s\n",
      "[Parallel(n_jobs=48)]: Done 240 out of 240 | elapsed:   12.5s finished\n"
     ]
    },
    {
     "name": "stdout",
     "output_type": "stream",
     "text": [
      "New Batch started : 31441 to 31680 \n"
     ]
    },
    {
     "name": "stderr",
     "output_type": "stream",
     "text": [
      "[Parallel(n_jobs=48)]: Done 104 tasks      | elapsed:    5.4s\n",
      "[Parallel(n_jobs=48)]: Done 240 out of 240 | elapsed:   12.5s finished\n"
     ]
    },
    {
     "name": "stdout",
     "output_type": "stream",
     "text": [
      "New Batch started : 31681 to 31920 \n"
     ]
    },
    {
     "name": "stderr",
     "output_type": "stream",
     "text": [
      "[Parallel(n_jobs=48)]: Done 104 tasks      | elapsed:    5.5s\n",
      "[Parallel(n_jobs=48)]: Done 240 out of 240 | elapsed:   12.5s finished\n"
     ]
    },
    {
     "name": "stdout",
     "output_type": "stream",
     "text": [
      "New Batch started : 31921 to 32073 \n"
     ]
    },
    {
     "name": "stderr",
     "output_type": "stream",
     "text": [
      "[Parallel(n_jobs=48)]: Done 153 out of 153 | elapsed:    8.0s finished\n"
     ]
    },
    {
     "name": "stdout",
     "output_type": "stream",
     "text": [
      "Loading test file #19 - dict_jobID_Xtest_Ytest_96219_128291_FROM_giga_takeoutdf_w_jobgroup.pickle\n",
      "Loaded test file #32073\n",
      "New Batch started : 1 to 240 \n"
     ]
    },
    {
     "name": "stderr",
     "output_type": "stream",
     "text": [
      "[Parallel(n_jobs=48)]: Done 104 tasks      | elapsed:    5.4s\n",
      "[Parallel(n_jobs=48)]: Done 240 out of 240 | elapsed:   12.5s finished\n"
     ]
    },
    {
     "name": "stdout",
     "output_type": "stream",
     "text": [
      "New Batch started : 241 to 480 \n"
     ]
    },
    {
     "name": "stderr",
     "output_type": "stream",
     "text": [
      "[Parallel(n_jobs=48)]: Done 104 tasks      | elapsed:    5.4s\n",
      "[Parallel(n_jobs=48)]: Done 240 out of 240 | elapsed:   12.5s finished\n"
     ]
    },
    {
     "name": "stdout",
     "output_type": "stream",
     "text": [
      "New Batch started : 481 to 720 \n"
     ]
    },
    {
     "name": "stderr",
     "output_type": "stream",
     "text": [
      "[Parallel(n_jobs=48)]: Done 104 tasks      | elapsed:    5.7s\n",
      "[Parallel(n_jobs=48)]: Done 240 out of 240 | elapsed:   12.8s finished\n"
     ]
    },
    {
     "name": "stdout",
     "output_type": "stream",
     "text": [
      "New Batch started : 721 to 960 \n"
     ]
    },
    {
     "name": "stderr",
     "output_type": "stream",
     "text": [
      "[Parallel(n_jobs=48)]: Done 104 tasks      | elapsed:    5.4s\n",
      "[Parallel(n_jobs=48)]: Done 240 out of 240 | elapsed:   12.4s finished\n"
     ]
    },
    {
     "name": "stdout",
     "output_type": "stream",
     "text": [
      "New Batch started : 961 to 1200 \n"
     ]
    },
    {
     "name": "stderr",
     "output_type": "stream",
     "text": [
      "[Parallel(n_jobs=48)]: Done 104 tasks      | elapsed:    5.4s\n",
      "[Parallel(n_jobs=48)]: Done 240 out of 240 | elapsed:   12.4s finished\n"
     ]
    },
    {
     "name": "stdout",
     "output_type": "stream",
     "text": [
      "New Batch started : 1201 to 1440 \n"
     ]
    },
    {
     "name": "stderr",
     "output_type": "stream",
     "text": [
      "[Parallel(n_jobs=48)]: Done 104 tasks      | elapsed:    5.4s\n",
      "[Parallel(n_jobs=48)]: Done 240 out of 240 | elapsed:   12.4s finished\n"
     ]
    },
    {
     "name": "stdout",
     "output_type": "stream",
     "text": [
      "New Batch started : 1441 to 1680 \n"
     ]
    },
    {
     "name": "stderr",
     "output_type": "stream",
     "text": [
      "[Parallel(n_jobs=48)]: Done 104 tasks      | elapsed:    5.4s\n",
      "[Parallel(n_jobs=48)]: Done 240 out of 240 | elapsed:   12.4s finished\n"
     ]
    },
    {
     "name": "stdout",
     "output_type": "stream",
     "text": [
      "New Batch started : 1681 to 1920 \n"
     ]
    },
    {
     "name": "stderr",
     "output_type": "stream",
     "text": [
      "[Parallel(n_jobs=48)]: Done 104 tasks      | elapsed:    5.4s\n",
      "[Parallel(n_jobs=48)]: Done 240 out of 240 | elapsed:   12.4s finished\n"
     ]
    },
    {
     "name": "stdout",
     "output_type": "stream",
     "text": [
      "New Batch started : 1921 to 2160 \n"
     ]
    },
    {
     "name": "stderr",
     "output_type": "stream",
     "text": [
      "[Parallel(n_jobs=48)]: Done 104 tasks      | elapsed:    5.4s\n",
      "[Parallel(n_jobs=48)]: Done 240 out of 240 | elapsed:   12.4s finished\n"
     ]
    },
    {
     "name": "stdout",
     "output_type": "stream",
     "text": [
      "New Batch started : 2161 to 2400 \n"
     ]
    },
    {
     "name": "stderr",
     "output_type": "stream",
     "text": [
      "[Parallel(n_jobs=48)]: Done 104 tasks      | elapsed:    5.4s\n",
      "[Parallel(n_jobs=48)]: Done 240 out of 240 | elapsed:   12.4s finished\n"
     ]
    },
    {
     "name": "stdout",
     "output_type": "stream",
     "text": [
      "New Batch started : 2401 to 2640 \n"
     ]
    },
    {
     "name": "stderr",
     "output_type": "stream",
     "text": [
      "[Parallel(n_jobs=48)]: Done 104 tasks      | elapsed:    5.4s\n",
      "[Parallel(n_jobs=48)]: Done 240 out of 240 | elapsed:   12.4s finished\n"
     ]
    },
    {
     "name": "stdout",
     "output_type": "stream",
     "text": [
      "New Batch started : 2641 to 2880 \n"
     ]
    },
    {
     "name": "stderr",
     "output_type": "stream",
     "text": [
      "[Parallel(n_jobs=48)]: Done 104 tasks      | elapsed:    5.4s\n",
      "[Parallel(n_jobs=48)]: Done 240 out of 240 | elapsed:   12.4s finished\n"
     ]
    },
    {
     "name": "stdout",
     "output_type": "stream",
     "text": [
      "New Batch started : 2881 to 3120 \n"
     ]
    },
    {
     "name": "stderr",
     "output_type": "stream",
     "text": [
      "[Parallel(n_jobs=48)]: Done 104 tasks      | elapsed:    5.4s\n",
      "[Parallel(n_jobs=48)]: Done 240 out of 240 | elapsed:   12.5s finished\n"
     ]
    },
    {
     "name": "stdout",
     "output_type": "stream",
     "text": [
      "New Batch started : 3121 to 3360 \n"
     ]
    },
    {
     "name": "stderr",
     "output_type": "stream",
     "text": [
      "[Parallel(n_jobs=48)]: Done 104 tasks      | elapsed:    5.4s\n",
      "[Parallel(n_jobs=48)]: Done 240 out of 240 | elapsed:   12.4s finished\n"
     ]
    },
    {
     "name": "stdout",
     "output_type": "stream",
     "text": [
      "New Batch started : 3361 to 3600 \n"
     ]
    },
    {
     "name": "stderr",
     "output_type": "stream",
     "text": [
      "[Parallel(n_jobs=48)]: Done 104 tasks      | elapsed:    5.4s\n",
      "[Parallel(n_jobs=48)]: Done 240 out of 240 | elapsed:   12.5s finished\n"
     ]
    },
    {
     "name": "stdout",
     "output_type": "stream",
     "text": [
      "New Batch started : 3601 to 3840 \n"
     ]
    },
    {
     "name": "stderr",
     "output_type": "stream",
     "text": [
      "[Parallel(n_jobs=48)]: Done 104 tasks      | elapsed:    5.5s\n",
      "[Parallel(n_jobs=48)]: Done 240 out of 240 | elapsed:   12.6s finished\n"
     ]
    },
    {
     "name": "stdout",
     "output_type": "stream",
     "text": [
      "New Batch started : 3841 to 4080 \n"
     ]
    },
    {
     "name": "stderr",
     "output_type": "stream",
     "text": [
      "[Parallel(n_jobs=48)]: Done 104 tasks      | elapsed:    5.4s\n",
      "[Parallel(n_jobs=48)]: Done 240 out of 240 | elapsed:   12.5s finished\n"
     ]
    },
    {
     "name": "stdout",
     "output_type": "stream",
     "text": [
      "New Batch started : 4081 to 4320 \n"
     ]
    },
    {
     "name": "stderr",
     "output_type": "stream",
     "text": [
      "[Parallel(n_jobs=48)]: Done 104 tasks      | elapsed:    5.4s\n",
      "[Parallel(n_jobs=48)]: Done 240 out of 240 | elapsed:   12.4s finished\n"
     ]
    },
    {
     "name": "stdout",
     "output_type": "stream",
     "text": [
      "New Batch started : 4321 to 4560 \n"
     ]
    },
    {
     "name": "stderr",
     "output_type": "stream",
     "text": [
      "[Parallel(n_jobs=48)]: Done 104 tasks      | elapsed:    5.4s\n",
      "[Parallel(n_jobs=48)]: Done 240 out of 240 | elapsed:   12.5s finished\n"
     ]
    },
    {
     "name": "stdout",
     "output_type": "stream",
     "text": [
      "New Batch started : 4561 to 4800 \n"
     ]
    },
    {
     "name": "stderr",
     "output_type": "stream",
     "text": [
      "[Parallel(n_jobs=48)]: Done 104 tasks      | elapsed:    5.4s\n",
      "[Parallel(n_jobs=48)]: Done 240 out of 240 | elapsed:   12.4s finished\n"
     ]
    },
    {
     "name": "stdout",
     "output_type": "stream",
     "text": [
      "New Batch started : 4801 to 5040 \n"
     ]
    },
    {
     "name": "stderr",
     "output_type": "stream",
     "text": [
      "[Parallel(n_jobs=48)]: Done 104 tasks      | elapsed:    5.4s\n",
      "[Parallel(n_jobs=48)]: Done 240 out of 240 | elapsed:   12.4s finished\n"
     ]
    },
    {
     "name": "stdout",
     "output_type": "stream",
     "text": [
      "New Batch started : 5041 to 5280 \n"
     ]
    },
    {
     "name": "stderr",
     "output_type": "stream",
     "text": [
      "[Parallel(n_jobs=48)]: Done 104 tasks      | elapsed:    5.4s\n",
      "[Parallel(n_jobs=48)]: Done 240 out of 240 | elapsed:   12.4s finished\n"
     ]
    },
    {
     "name": "stdout",
     "output_type": "stream",
     "text": [
      "New Batch started : 5281 to 5520 \n"
     ]
    },
    {
     "name": "stderr",
     "output_type": "stream",
     "text": [
      "[Parallel(n_jobs=48)]: Done 104 tasks      | elapsed:    5.4s\n",
      "[Parallel(n_jobs=48)]: Done 240 out of 240 | elapsed:   12.4s finished\n"
     ]
    },
    {
     "name": "stdout",
     "output_type": "stream",
     "text": [
      "New Batch started : 5521 to 5760 \n"
     ]
    },
    {
     "name": "stderr",
     "output_type": "stream",
     "text": [
      "[Parallel(n_jobs=48)]: Done 104 tasks      | elapsed:    5.5s\n",
      "[Parallel(n_jobs=48)]: Done 240 out of 240 | elapsed:   12.5s finished\n"
     ]
    },
    {
     "name": "stdout",
     "output_type": "stream",
     "text": [
      "New Batch started : 5761 to 6000 \n"
     ]
    },
    {
     "name": "stderr",
     "output_type": "stream",
     "text": [
      "[Parallel(n_jobs=48)]: Done 104 tasks      | elapsed:    5.4s\n",
      "[Parallel(n_jobs=48)]: Done 240 out of 240 | elapsed:   12.4s finished\n"
     ]
    },
    {
     "name": "stdout",
     "output_type": "stream",
     "text": [
      "New Batch started : 6001 to 6240 \n"
     ]
    },
    {
     "name": "stderr",
     "output_type": "stream",
     "text": [
      "[Parallel(n_jobs=48)]: Done 104 tasks      | elapsed:    5.4s\n",
      "[Parallel(n_jobs=48)]: Done 240 out of 240 | elapsed:   12.4s finished\n"
     ]
    },
    {
     "name": "stdout",
     "output_type": "stream",
     "text": [
      "New Batch started : 6241 to 6480 \n"
     ]
    },
    {
     "name": "stderr",
     "output_type": "stream",
     "text": [
      "[Parallel(n_jobs=48)]: Done 104 tasks      | elapsed:    5.4s\n",
      "[Parallel(n_jobs=48)]: Done 240 out of 240 | elapsed:   12.4s finished\n"
     ]
    },
    {
     "name": "stdout",
     "output_type": "stream",
     "text": [
      "New Batch started : 6481 to 6720 \n"
     ]
    },
    {
     "name": "stderr",
     "output_type": "stream",
     "text": [
      "[Parallel(n_jobs=48)]: Done 104 tasks      | elapsed:    5.4s\n",
      "[Parallel(n_jobs=48)]: Done 240 out of 240 | elapsed:   12.5s finished\n"
     ]
    },
    {
     "name": "stdout",
     "output_type": "stream",
     "text": [
      "New Batch started : 6721 to 6960 \n"
     ]
    },
    {
     "name": "stderr",
     "output_type": "stream",
     "text": [
      "[Parallel(n_jobs=48)]: Done 104 tasks      | elapsed:    5.4s\n",
      "[Parallel(n_jobs=48)]: Done 240 out of 240 | elapsed:   12.5s finished\n"
     ]
    },
    {
     "name": "stdout",
     "output_type": "stream",
     "text": [
      "New Batch started : 6961 to 7200 \n"
     ]
    },
    {
     "name": "stderr",
     "output_type": "stream",
     "text": [
      "[Parallel(n_jobs=48)]: Done 104 tasks      | elapsed:    5.4s\n",
      "[Parallel(n_jobs=48)]: Done 240 out of 240 | elapsed:   12.4s finished\n"
     ]
    },
    {
     "name": "stdout",
     "output_type": "stream",
     "text": [
      "New Batch started : 7201 to 7440 \n"
     ]
    },
    {
     "name": "stderr",
     "output_type": "stream",
     "text": [
      "[Parallel(n_jobs=48)]: Done 104 tasks      | elapsed:    5.4s\n",
      "[Parallel(n_jobs=48)]: Done 240 out of 240 | elapsed:   12.5s finished\n"
     ]
    },
    {
     "name": "stdout",
     "output_type": "stream",
     "text": [
      "New Batch started : 7441 to 7680 \n"
     ]
    },
    {
     "name": "stderr",
     "output_type": "stream",
     "text": [
      "[Parallel(n_jobs=48)]: Done 104 tasks      | elapsed:    5.4s\n",
      "[Parallel(n_jobs=48)]: Done 240 out of 240 | elapsed:   12.4s finished\n"
     ]
    },
    {
     "name": "stdout",
     "output_type": "stream",
     "text": [
      "New Batch started : 7681 to 7920 \n"
     ]
    },
    {
     "name": "stderr",
     "output_type": "stream",
     "text": [
      "[Parallel(n_jobs=48)]: Done 104 tasks      | elapsed:    5.4s\n",
      "[Parallel(n_jobs=48)]: Done 240 out of 240 | elapsed:   12.5s finished\n"
     ]
    },
    {
     "name": "stdout",
     "output_type": "stream",
     "text": [
      "New Batch started : 7921 to 8160 \n"
     ]
    },
    {
     "name": "stderr",
     "output_type": "stream",
     "text": [
      "[Parallel(n_jobs=48)]: Done 104 tasks      | elapsed:    5.4s\n",
      "[Parallel(n_jobs=48)]: Done 240 out of 240 | elapsed:   12.4s finished\n"
     ]
    },
    {
     "name": "stdout",
     "output_type": "stream",
     "text": [
      "New Batch started : 8161 to 8400 \n"
     ]
    },
    {
     "name": "stderr",
     "output_type": "stream",
     "text": [
      "[Parallel(n_jobs=48)]: Done 104 tasks      | elapsed:    5.4s\n",
      "[Parallel(n_jobs=48)]: Done 240 out of 240 | elapsed:   12.4s finished\n"
     ]
    },
    {
     "name": "stdout",
     "output_type": "stream",
     "text": [
      "New Batch started : 8401 to 8640 \n"
     ]
    },
    {
     "name": "stderr",
     "output_type": "stream",
     "text": [
      "[Parallel(n_jobs=48)]: Done 104 tasks      | elapsed:    5.4s\n",
      "[Parallel(n_jobs=48)]: Done 240 out of 240 | elapsed:   12.4s finished\n"
     ]
    },
    {
     "name": "stdout",
     "output_type": "stream",
     "text": [
      "New Batch started : 8641 to 8880 \n"
     ]
    },
    {
     "name": "stderr",
     "output_type": "stream",
     "text": [
      "[Parallel(n_jobs=48)]: Done 104 tasks      | elapsed:    5.4s\n",
      "[Parallel(n_jobs=48)]: Done 240 out of 240 | elapsed:   12.5s finished\n"
     ]
    },
    {
     "name": "stdout",
     "output_type": "stream",
     "text": [
      "New Batch started : 8881 to 9120 \n"
     ]
    },
    {
     "name": "stderr",
     "output_type": "stream",
     "text": [
      "[Parallel(n_jobs=48)]: Done 104 tasks      | elapsed:    5.4s\n",
      "[Parallel(n_jobs=48)]: Done 240 out of 240 | elapsed:   12.5s finished\n"
     ]
    },
    {
     "name": "stdout",
     "output_type": "stream",
     "text": [
      "New Batch started : 9121 to 9360 \n"
     ]
    },
    {
     "name": "stderr",
     "output_type": "stream",
     "text": [
      "[Parallel(n_jobs=48)]: Done 104 tasks      | elapsed:    5.4s\n",
      "[Parallel(n_jobs=48)]: Done 240 out of 240 | elapsed:   12.4s finished\n"
     ]
    },
    {
     "name": "stdout",
     "output_type": "stream",
     "text": [
      "New Batch started : 9361 to 9600 \n"
     ]
    },
    {
     "name": "stderr",
     "output_type": "stream",
     "text": [
      "[Parallel(n_jobs=48)]: Done 104 tasks      | elapsed:    5.4s\n",
      "[Parallel(n_jobs=48)]: Done 240 out of 240 | elapsed:   12.4s finished\n"
     ]
    },
    {
     "name": "stdout",
     "output_type": "stream",
     "text": [
      "New Batch started : 9601 to 9840 \n"
     ]
    },
    {
     "name": "stderr",
     "output_type": "stream",
     "text": [
      "[Parallel(n_jobs=48)]: Done 104 tasks      | elapsed:    5.4s\n",
      "[Parallel(n_jobs=48)]: Done 240 out of 240 | elapsed:   12.4s finished\n"
     ]
    },
    {
     "name": "stdout",
     "output_type": "stream",
     "text": [
      "New Batch started : 9841 to 10080 \n"
     ]
    },
    {
     "name": "stderr",
     "output_type": "stream",
     "text": [
      "[Parallel(n_jobs=48)]: Done 104 tasks      | elapsed:    5.4s\n",
      "[Parallel(n_jobs=48)]: Done 240 out of 240 | elapsed:   12.4s finished\n"
     ]
    },
    {
     "name": "stdout",
     "output_type": "stream",
     "text": [
      "New Batch started : 10081 to 10320 \n"
     ]
    },
    {
     "name": "stderr",
     "output_type": "stream",
     "text": [
      "[Parallel(n_jobs=48)]: Done 104 tasks      | elapsed:    5.4s\n",
      "[Parallel(n_jobs=48)]: Done 240 out of 240 | elapsed:   12.4s finished\n"
     ]
    },
    {
     "name": "stdout",
     "output_type": "stream",
     "text": [
      "New Batch started : 10321 to 10560 \n"
     ]
    },
    {
     "name": "stderr",
     "output_type": "stream",
     "text": [
      "[Parallel(n_jobs=48)]: Done 104 tasks      | elapsed:    5.4s\n",
      "[Parallel(n_jobs=48)]: Done 240 out of 240 | elapsed:   12.4s finished\n"
     ]
    },
    {
     "name": "stdout",
     "output_type": "stream",
     "text": [
      "New Batch started : 10561 to 10800 \n"
     ]
    },
    {
     "name": "stderr",
     "output_type": "stream",
     "text": [
      "[Parallel(n_jobs=48)]: Done 104 tasks      | elapsed:    5.4s\n",
      "[Parallel(n_jobs=48)]: Done 240 out of 240 | elapsed:   12.4s finished\n"
     ]
    },
    {
     "name": "stdout",
     "output_type": "stream",
     "text": [
      "New Batch started : 10801 to 11040 \n"
     ]
    },
    {
     "name": "stderr",
     "output_type": "stream",
     "text": [
      "[Parallel(n_jobs=48)]: Done 104 tasks      | elapsed:    5.4s\n",
      "[Parallel(n_jobs=48)]: Done 240 out of 240 | elapsed:   12.4s finished\n"
     ]
    },
    {
     "name": "stdout",
     "output_type": "stream",
     "text": [
      "New Batch started : 11041 to 11280 \n"
     ]
    },
    {
     "name": "stderr",
     "output_type": "stream",
     "text": [
      "[Parallel(n_jobs=48)]: Done 104 tasks      | elapsed:    5.4s\n",
      "[Parallel(n_jobs=48)]: Done 240 out of 240 | elapsed:   12.4s finished\n"
     ]
    },
    {
     "name": "stdout",
     "output_type": "stream",
     "text": [
      "New Batch started : 11281 to 11520 \n"
     ]
    },
    {
     "name": "stderr",
     "output_type": "stream",
     "text": [
      "[Parallel(n_jobs=48)]: Done 104 tasks      | elapsed:    5.4s\n",
      "[Parallel(n_jobs=48)]: Done 240 out of 240 | elapsed:   12.6s finished\n"
     ]
    },
    {
     "name": "stdout",
     "output_type": "stream",
     "text": [
      "New Batch started : 11521 to 11760 \n"
     ]
    },
    {
     "name": "stderr",
     "output_type": "stream",
     "text": [
      "[Parallel(n_jobs=48)]: Done 104 tasks      | elapsed:    5.4s\n",
      "[Parallel(n_jobs=48)]: Done 240 out of 240 | elapsed:   12.6s finished\n"
     ]
    },
    {
     "name": "stdout",
     "output_type": "stream",
     "text": [
      "New Batch started : 11761 to 12000 \n"
     ]
    },
    {
     "name": "stderr",
     "output_type": "stream",
     "text": [
      "[Parallel(n_jobs=48)]: Done 104 tasks      | elapsed:    5.4s\n",
      "[Parallel(n_jobs=48)]: Done 240 out of 240 | elapsed:   12.4s finished\n"
     ]
    },
    {
     "name": "stdout",
     "output_type": "stream",
     "text": [
      "New Batch started : 12001 to 12240 \n"
     ]
    },
    {
     "name": "stderr",
     "output_type": "stream",
     "text": [
      "[Parallel(n_jobs=48)]: Done 104 tasks      | elapsed:    5.4s\n",
      "[Parallel(n_jobs=48)]: Done 240 out of 240 | elapsed:   12.5s finished\n"
     ]
    },
    {
     "name": "stdout",
     "output_type": "stream",
     "text": [
      "New Batch started : 12241 to 12480 \n"
     ]
    },
    {
     "name": "stderr",
     "output_type": "stream",
     "text": [
      "[Parallel(n_jobs=48)]: Done 104 tasks      | elapsed:    5.4s\n",
      "[Parallel(n_jobs=48)]: Done 240 out of 240 | elapsed:   12.5s finished\n"
     ]
    },
    {
     "name": "stdout",
     "output_type": "stream",
     "text": [
      "New Batch started : 12481 to 12720 \n"
     ]
    },
    {
     "name": "stderr",
     "output_type": "stream",
     "text": [
      "[Parallel(n_jobs=48)]: Done 104 tasks      | elapsed:    5.5s\n",
      "[Parallel(n_jobs=48)]: Done 240 out of 240 | elapsed:   12.5s finished\n"
     ]
    },
    {
     "name": "stdout",
     "output_type": "stream",
     "text": [
      "New Batch started : 12721 to 12960 \n"
     ]
    },
    {
     "name": "stderr",
     "output_type": "stream",
     "text": [
      "[Parallel(n_jobs=48)]: Done 104 tasks      | elapsed:    5.4s\n",
      "[Parallel(n_jobs=48)]: Done 240 out of 240 | elapsed:   12.5s finished\n"
     ]
    },
    {
     "name": "stdout",
     "output_type": "stream",
     "text": [
      "New Batch started : 12961 to 13200 \n"
     ]
    },
    {
     "name": "stderr",
     "output_type": "stream",
     "text": [
      "[Parallel(n_jobs=48)]: Done 104 tasks      | elapsed:    5.4s\n",
      "[Parallel(n_jobs=48)]: Done 240 out of 240 | elapsed:   12.4s finished\n"
     ]
    },
    {
     "name": "stdout",
     "output_type": "stream",
     "text": [
      "New Batch started : 13201 to 13440 \n"
     ]
    },
    {
     "name": "stderr",
     "output_type": "stream",
     "text": [
      "[Parallel(n_jobs=48)]: Done 104 tasks      | elapsed:    5.4s\n",
      "[Parallel(n_jobs=48)]: Done 240 out of 240 | elapsed:   12.7s finished\n"
     ]
    },
    {
     "name": "stdout",
     "output_type": "stream",
     "text": [
      "New Batch started : 13441 to 13680 \n"
     ]
    },
    {
     "name": "stderr",
     "output_type": "stream",
     "text": [
      "[Parallel(n_jobs=48)]: Done 104 tasks      | elapsed:    5.4s\n",
      "[Parallel(n_jobs=48)]: Done 240 out of 240 | elapsed:   12.4s finished\n"
     ]
    },
    {
     "name": "stdout",
     "output_type": "stream",
     "text": [
      "New Batch started : 13681 to 13920 \n"
     ]
    },
    {
     "name": "stderr",
     "output_type": "stream",
     "text": [
      "[Parallel(n_jobs=48)]: Done 104 tasks      | elapsed:    5.4s\n",
      "[Parallel(n_jobs=48)]: Done 240 out of 240 | elapsed:   12.4s finished\n"
     ]
    },
    {
     "name": "stdout",
     "output_type": "stream",
     "text": [
      "New Batch started : 13921 to 14160 \n"
     ]
    },
    {
     "name": "stderr",
     "output_type": "stream",
     "text": [
      "[Parallel(n_jobs=48)]: Done 104 tasks      | elapsed:    5.4s\n",
      "[Parallel(n_jobs=48)]: Done 240 out of 240 | elapsed:   12.4s finished\n"
     ]
    },
    {
     "name": "stdout",
     "output_type": "stream",
     "text": [
      "New Batch started : 14161 to 14400 \n"
     ]
    },
    {
     "name": "stderr",
     "output_type": "stream",
     "text": [
      "[Parallel(n_jobs=48)]: Done 104 tasks      | elapsed:    5.4s\n",
      "[Parallel(n_jobs=48)]: Done 240 out of 240 | elapsed:   12.5s finished\n"
     ]
    },
    {
     "name": "stdout",
     "output_type": "stream",
     "text": [
      "New Batch started : 14401 to 14640 \n"
     ]
    },
    {
     "name": "stderr",
     "output_type": "stream",
     "text": [
      "[Parallel(n_jobs=48)]: Done 104 tasks      | elapsed:    5.5s\n",
      "[Parallel(n_jobs=48)]: Done 240 out of 240 | elapsed:   12.5s finished\n"
     ]
    },
    {
     "name": "stdout",
     "output_type": "stream",
     "text": [
      "New Batch started : 14641 to 14880 \n"
     ]
    },
    {
     "name": "stderr",
     "output_type": "stream",
     "text": [
      "[Parallel(n_jobs=48)]: Done 104 tasks      | elapsed:    5.5s\n",
      "[Parallel(n_jobs=48)]: Done 240 out of 240 | elapsed:   12.6s finished\n"
     ]
    },
    {
     "name": "stdout",
     "output_type": "stream",
     "text": [
      "New Batch started : 14881 to 15120 \n"
     ]
    },
    {
     "name": "stderr",
     "output_type": "stream",
     "text": [
      "[Parallel(n_jobs=48)]: Done 104 tasks      | elapsed:    5.5s\n",
      "[Parallel(n_jobs=48)]: Done 240 out of 240 | elapsed:   12.6s finished\n"
     ]
    },
    {
     "name": "stdout",
     "output_type": "stream",
     "text": [
      "New Batch started : 15121 to 15360 \n"
     ]
    },
    {
     "name": "stderr",
     "output_type": "stream",
     "text": [
      "[Parallel(n_jobs=48)]: Done 104 tasks      | elapsed:    5.4s\n",
      "[Parallel(n_jobs=48)]: Done 240 out of 240 | elapsed:   12.5s finished\n"
     ]
    },
    {
     "name": "stdout",
     "output_type": "stream",
     "text": [
      "New Batch started : 15361 to 15600 \n"
     ]
    },
    {
     "name": "stderr",
     "output_type": "stream",
     "text": [
      "[Parallel(n_jobs=48)]: Done 104 tasks      | elapsed:    5.4s\n",
      "[Parallel(n_jobs=48)]: Done 240 out of 240 | elapsed:   12.5s finished\n"
     ]
    },
    {
     "name": "stdout",
     "output_type": "stream",
     "text": [
      "New Batch started : 15601 to 15840 \n"
     ]
    },
    {
     "name": "stderr",
     "output_type": "stream",
     "text": [
      "[Parallel(n_jobs=48)]: Done 104 tasks      | elapsed:    5.4s\n",
      "[Parallel(n_jobs=48)]: Done 240 out of 240 | elapsed:   12.4s finished\n"
     ]
    },
    {
     "name": "stdout",
     "output_type": "stream",
     "text": [
      "New Batch started : 15841 to 16080 \n"
     ]
    },
    {
     "name": "stderr",
     "output_type": "stream",
     "text": [
      "[Parallel(n_jobs=48)]: Done 104 tasks      | elapsed:    5.4s\n",
      "[Parallel(n_jobs=48)]: Done 240 out of 240 | elapsed:   12.4s finished\n"
     ]
    },
    {
     "name": "stdout",
     "output_type": "stream",
     "text": [
      "New Batch started : 16081 to 16320 \n"
     ]
    },
    {
     "name": "stderr",
     "output_type": "stream",
     "text": [
      "[Parallel(n_jobs=48)]: Done 104 tasks      | elapsed:    5.4s\n",
      "[Parallel(n_jobs=48)]: Done 240 out of 240 | elapsed:   12.5s finished\n"
     ]
    },
    {
     "name": "stdout",
     "output_type": "stream",
     "text": [
      "New Batch started : 16321 to 16560 \n"
     ]
    },
    {
     "name": "stderr",
     "output_type": "stream",
     "text": [
      "[Parallel(n_jobs=48)]: Done 104 tasks      | elapsed:    5.4s\n",
      "[Parallel(n_jobs=48)]: Done 240 out of 240 | elapsed:   12.5s finished\n"
     ]
    },
    {
     "name": "stdout",
     "output_type": "stream",
     "text": [
      "New Batch started : 16561 to 16800 \n"
     ]
    },
    {
     "name": "stderr",
     "output_type": "stream",
     "text": [
      "[Parallel(n_jobs=48)]: Done 104 tasks      | elapsed:    5.5s\n",
      "[Parallel(n_jobs=48)]: Done 240 out of 240 | elapsed:   12.6s finished\n"
     ]
    },
    {
     "name": "stdout",
     "output_type": "stream",
     "text": [
      "New Batch started : 16801 to 17040 \n"
     ]
    },
    {
     "name": "stderr",
     "output_type": "stream",
     "text": [
      "[Parallel(n_jobs=48)]: Done 104 tasks      | elapsed:    5.4s\n",
      "[Parallel(n_jobs=48)]: Done 240 out of 240 | elapsed:   12.5s finished\n"
     ]
    },
    {
     "name": "stdout",
     "output_type": "stream",
     "text": [
      "New Batch started : 17041 to 17280 \n"
     ]
    },
    {
     "name": "stderr",
     "output_type": "stream",
     "text": [
      "[Parallel(n_jobs=48)]: Done 104 tasks      | elapsed:    5.4s\n",
      "[Parallel(n_jobs=48)]: Done 240 out of 240 | elapsed:   12.4s finished\n"
     ]
    },
    {
     "name": "stdout",
     "output_type": "stream",
     "text": [
      "New Batch started : 17281 to 17520 \n"
     ]
    },
    {
     "name": "stderr",
     "output_type": "stream",
     "text": [
      "[Parallel(n_jobs=48)]: Done 104 tasks      | elapsed:    5.4s\n",
      "[Parallel(n_jobs=48)]: Done 240 out of 240 | elapsed:   12.4s finished\n"
     ]
    },
    {
     "name": "stdout",
     "output_type": "stream",
     "text": [
      "New Batch started : 17521 to 17760 \n"
     ]
    },
    {
     "name": "stderr",
     "output_type": "stream",
     "text": [
      "[Parallel(n_jobs=48)]: Done 104 tasks      | elapsed:    5.4s\n",
      "[Parallel(n_jobs=48)]: Done 240 out of 240 | elapsed:   12.5s finished\n"
     ]
    },
    {
     "name": "stdout",
     "output_type": "stream",
     "text": [
      "New Batch started : 17761 to 18000 \n"
     ]
    },
    {
     "name": "stderr",
     "output_type": "stream",
     "text": [
      "[Parallel(n_jobs=48)]: Done 104 tasks      | elapsed:    5.4s\n",
      "[Parallel(n_jobs=48)]: Done 240 out of 240 | elapsed:   12.5s finished\n"
     ]
    },
    {
     "name": "stdout",
     "output_type": "stream",
     "text": [
      "New Batch started : 18001 to 18240 \n"
     ]
    },
    {
     "name": "stderr",
     "output_type": "stream",
     "text": [
      "[Parallel(n_jobs=48)]: Done 104 tasks      | elapsed:    5.4s\n",
      "[Parallel(n_jobs=48)]: Done 240 out of 240 | elapsed:   12.5s finished\n"
     ]
    },
    {
     "name": "stdout",
     "output_type": "stream",
     "text": [
      "New Batch started : 18241 to 18480 \n"
     ]
    },
    {
     "name": "stderr",
     "output_type": "stream",
     "text": [
      "[Parallel(n_jobs=48)]: Done 104 tasks      | elapsed:    5.4s\n",
      "[Parallel(n_jobs=48)]: Done 240 out of 240 | elapsed:   12.5s finished\n"
     ]
    },
    {
     "name": "stdout",
     "output_type": "stream",
     "text": [
      "New Batch started : 18481 to 18720 \n"
     ]
    },
    {
     "name": "stderr",
     "output_type": "stream",
     "text": [
      "[Parallel(n_jobs=48)]: Done 104 tasks      | elapsed:    5.4s\n",
      "[Parallel(n_jobs=48)]: Done 240 out of 240 | elapsed:   12.4s finished\n"
     ]
    },
    {
     "name": "stdout",
     "output_type": "stream",
     "text": [
      "New Batch started : 18721 to 18960 \n"
     ]
    },
    {
     "name": "stderr",
     "output_type": "stream",
     "text": [
      "[Parallel(n_jobs=48)]: Done 104 tasks      | elapsed:    5.4s\n",
      "[Parallel(n_jobs=48)]: Done 240 out of 240 | elapsed:   12.4s finished\n"
     ]
    },
    {
     "name": "stdout",
     "output_type": "stream",
     "text": [
      "New Batch started : 18961 to 19200 \n"
     ]
    },
    {
     "name": "stderr",
     "output_type": "stream",
     "text": [
      "[Parallel(n_jobs=48)]: Done 104 tasks      | elapsed:    5.4s\n",
      "[Parallel(n_jobs=48)]: Done 240 out of 240 | elapsed:   12.4s finished\n"
     ]
    },
    {
     "name": "stdout",
     "output_type": "stream",
     "text": [
      "New Batch started : 19201 to 19440 \n"
     ]
    },
    {
     "name": "stderr",
     "output_type": "stream",
     "text": [
      "[Parallel(n_jobs=48)]: Done 104 tasks      | elapsed:    5.4s\n",
      "[Parallel(n_jobs=48)]: Done 240 out of 240 | elapsed:   12.4s finished\n"
     ]
    },
    {
     "name": "stdout",
     "output_type": "stream",
     "text": [
      "New Batch started : 19441 to 19680 \n"
     ]
    },
    {
     "name": "stderr",
     "output_type": "stream",
     "text": [
      "[Parallel(n_jobs=48)]: Done 104 tasks      | elapsed:    5.4s\n",
      "[Parallel(n_jobs=48)]: Done 240 out of 240 | elapsed:   12.4s finished\n"
     ]
    },
    {
     "name": "stdout",
     "output_type": "stream",
     "text": [
      "New Batch started : 19681 to 19920 \n"
     ]
    },
    {
     "name": "stderr",
     "output_type": "stream",
     "text": [
      "[Parallel(n_jobs=48)]: Done 104 tasks      | elapsed:    5.4s\n",
      "[Parallel(n_jobs=48)]: Done 240 out of 240 | elapsed:   12.5s finished\n"
     ]
    },
    {
     "name": "stdout",
     "output_type": "stream",
     "text": [
      "New Batch started : 19921 to 20160 \n"
     ]
    },
    {
     "name": "stderr",
     "output_type": "stream",
     "text": [
      "[Parallel(n_jobs=48)]: Done 104 tasks      | elapsed:    5.4s\n",
      "[Parallel(n_jobs=48)]: Done 240 out of 240 | elapsed:   12.4s finished\n"
     ]
    },
    {
     "name": "stdout",
     "output_type": "stream",
     "text": [
      "New Batch started : 20161 to 20400 \n"
     ]
    },
    {
     "name": "stderr",
     "output_type": "stream",
     "text": [
      "[Parallel(n_jobs=48)]: Done 104 tasks      | elapsed:    5.4s\n",
      "[Parallel(n_jobs=48)]: Done 240 out of 240 | elapsed:   12.4s finished\n"
     ]
    },
    {
     "name": "stdout",
     "output_type": "stream",
     "text": [
      "New Batch started : 20401 to 20640 \n"
     ]
    },
    {
     "name": "stderr",
     "output_type": "stream",
     "text": [
      "[Parallel(n_jobs=48)]: Done 104 tasks      | elapsed:    5.4s\n",
      "[Parallel(n_jobs=48)]: Done 240 out of 240 | elapsed:   12.5s finished\n"
     ]
    },
    {
     "name": "stdout",
     "output_type": "stream",
     "text": [
      "New Batch started : 20641 to 20880 \n"
     ]
    },
    {
     "name": "stderr",
     "output_type": "stream",
     "text": [
      "[Parallel(n_jobs=48)]: Done 104 tasks      | elapsed:    5.4s\n",
      "[Parallel(n_jobs=48)]: Done 240 out of 240 | elapsed:   12.5s finished\n"
     ]
    },
    {
     "name": "stdout",
     "output_type": "stream",
     "text": [
      "New Batch started : 20881 to 21120 \n"
     ]
    },
    {
     "name": "stderr",
     "output_type": "stream",
     "text": [
      "[Parallel(n_jobs=48)]: Done 104 tasks      | elapsed:    5.4s\n",
      "[Parallel(n_jobs=48)]: Done 240 out of 240 | elapsed:   12.5s finished\n"
     ]
    },
    {
     "name": "stdout",
     "output_type": "stream",
     "text": [
      "New Batch started : 21121 to 21360 \n"
     ]
    },
    {
     "name": "stderr",
     "output_type": "stream",
     "text": [
      "[Parallel(n_jobs=48)]: Done 104 tasks      | elapsed:    5.4s\n",
      "[Parallel(n_jobs=48)]: Done 240 out of 240 | elapsed:   12.5s finished\n"
     ]
    },
    {
     "name": "stdout",
     "output_type": "stream",
     "text": [
      "New Batch started : 21361 to 21600 \n"
     ]
    },
    {
     "name": "stderr",
     "output_type": "stream",
     "text": [
      "[Parallel(n_jobs=48)]: Done 104 tasks      | elapsed:    5.4s\n",
      "[Parallel(n_jobs=48)]: Done 240 out of 240 | elapsed:   12.4s finished\n"
     ]
    },
    {
     "name": "stdout",
     "output_type": "stream",
     "text": [
      "New Batch started : 21601 to 21840 \n"
     ]
    },
    {
     "name": "stderr",
     "output_type": "stream",
     "text": [
      "[Parallel(n_jobs=48)]: Done 104 tasks      | elapsed:    5.4s\n",
      "[Parallel(n_jobs=48)]: Done 240 out of 240 | elapsed:   12.5s finished\n"
     ]
    },
    {
     "name": "stdout",
     "output_type": "stream",
     "text": [
      "New Batch started : 21841 to 22080 \n"
     ]
    },
    {
     "name": "stderr",
     "output_type": "stream",
     "text": [
      "[Parallel(n_jobs=48)]: Done 104 tasks      | elapsed:    5.4s\n",
      "[Parallel(n_jobs=48)]: Done 240 out of 240 | elapsed:   12.5s finished\n"
     ]
    },
    {
     "name": "stdout",
     "output_type": "stream",
     "text": [
      "New Batch started : 22081 to 22320 \n"
     ]
    },
    {
     "name": "stderr",
     "output_type": "stream",
     "text": [
      "[Parallel(n_jobs=48)]: Done 104 tasks      | elapsed:    5.4s\n",
      "[Parallel(n_jobs=48)]: Done 240 out of 240 | elapsed:   12.5s finished\n"
     ]
    },
    {
     "name": "stdout",
     "output_type": "stream",
     "text": [
      "New Batch started : 22321 to 22560 \n"
     ]
    },
    {
     "name": "stderr",
     "output_type": "stream",
     "text": [
      "[Parallel(n_jobs=48)]: Done 104 tasks      | elapsed:    5.4s\n",
      "[Parallel(n_jobs=48)]: Done 240 out of 240 | elapsed:   12.4s finished\n"
     ]
    },
    {
     "name": "stdout",
     "output_type": "stream",
     "text": [
      "New Batch started : 22561 to 22800 \n"
     ]
    },
    {
     "name": "stderr",
     "output_type": "stream",
     "text": [
      "[Parallel(n_jobs=48)]: Done 104 tasks      | elapsed:    5.4s\n",
      "[Parallel(n_jobs=48)]: Done 240 out of 240 | elapsed:   12.5s finished\n"
     ]
    },
    {
     "name": "stdout",
     "output_type": "stream",
     "text": [
      "New Batch started : 22801 to 23040 \n"
     ]
    },
    {
     "name": "stderr",
     "output_type": "stream",
     "text": [
      "[Parallel(n_jobs=48)]: Done 104 tasks      | elapsed:    5.4s\n",
      "[Parallel(n_jobs=48)]: Done 240 out of 240 | elapsed:   12.4s finished\n"
     ]
    },
    {
     "name": "stdout",
     "output_type": "stream",
     "text": [
      "New Batch started : 23041 to 23280 \n"
     ]
    },
    {
     "name": "stderr",
     "output_type": "stream",
     "text": [
      "[Parallel(n_jobs=48)]: Done 104 tasks      | elapsed:    5.4s\n",
      "[Parallel(n_jobs=48)]: Done 240 out of 240 | elapsed:   12.4s finished\n"
     ]
    },
    {
     "name": "stdout",
     "output_type": "stream",
     "text": [
      "New Batch started : 23281 to 23520 \n"
     ]
    },
    {
     "name": "stderr",
     "output_type": "stream",
     "text": [
      "[Parallel(n_jobs=48)]: Done 104 tasks      | elapsed:    5.4s\n",
      "[Parallel(n_jobs=48)]: Done 240 out of 240 | elapsed:   12.4s finished\n"
     ]
    },
    {
     "name": "stdout",
     "output_type": "stream",
     "text": [
      "New Batch started : 23521 to 23760 \n"
     ]
    },
    {
     "name": "stderr",
     "output_type": "stream",
     "text": [
      "[Parallel(n_jobs=48)]: Done 104 tasks      | elapsed:    5.4s\n",
      "[Parallel(n_jobs=48)]: Done 240 out of 240 | elapsed:   12.5s finished\n"
     ]
    },
    {
     "name": "stdout",
     "output_type": "stream",
     "text": [
      "New Batch started : 23761 to 24000 \n"
     ]
    },
    {
     "name": "stderr",
     "output_type": "stream",
     "text": [
      "[Parallel(n_jobs=48)]: Done 104 tasks      | elapsed:    5.5s\n",
      "[Parallel(n_jobs=48)]: Done 240 out of 240 | elapsed:   12.6s finished\n"
     ]
    },
    {
     "name": "stdout",
     "output_type": "stream",
     "text": [
      "New Batch started : 24001 to 24240 \n"
     ]
    },
    {
     "name": "stderr",
     "output_type": "stream",
     "text": [
      "[Parallel(n_jobs=48)]: Done 104 tasks      | elapsed:    5.4s\n",
      "[Parallel(n_jobs=48)]: Done 240 out of 240 | elapsed:   12.4s finished\n"
     ]
    },
    {
     "name": "stdout",
     "output_type": "stream",
     "text": [
      "New Batch started : 24241 to 24480 \n"
     ]
    },
    {
     "name": "stderr",
     "output_type": "stream",
     "text": [
      "[Parallel(n_jobs=48)]: Done 104 tasks      | elapsed:    5.4s\n",
      "[Parallel(n_jobs=48)]: Done 240 out of 240 | elapsed:   12.4s finished\n"
     ]
    },
    {
     "name": "stdout",
     "output_type": "stream",
     "text": [
      "New Batch started : 24481 to 24720 \n"
     ]
    },
    {
     "name": "stderr",
     "output_type": "stream",
     "text": [
      "[Parallel(n_jobs=48)]: Done 104 tasks      | elapsed:    5.4s\n",
      "[Parallel(n_jobs=48)]: Done 240 out of 240 | elapsed:   12.4s finished\n"
     ]
    },
    {
     "name": "stdout",
     "output_type": "stream",
     "text": [
      "New Batch started : 24721 to 24960 \n"
     ]
    },
    {
     "name": "stderr",
     "output_type": "stream",
     "text": [
      "[Parallel(n_jobs=48)]: Done 104 tasks      | elapsed:    5.4s\n",
      "[Parallel(n_jobs=48)]: Done 240 out of 240 | elapsed:   12.5s finished\n"
     ]
    },
    {
     "name": "stdout",
     "output_type": "stream",
     "text": [
      "New Batch started : 24961 to 25200 \n"
     ]
    },
    {
     "name": "stderr",
     "output_type": "stream",
     "text": [
      "[Parallel(n_jobs=48)]: Done 104 tasks      | elapsed:    5.4s\n",
      "[Parallel(n_jobs=48)]: Done 240 out of 240 | elapsed:   12.4s finished\n"
     ]
    },
    {
     "name": "stdout",
     "output_type": "stream",
     "text": [
      "New Batch started : 25201 to 25440 \n"
     ]
    },
    {
     "name": "stderr",
     "output_type": "stream",
     "text": [
      "[Parallel(n_jobs=48)]: Done 104 tasks      | elapsed:    5.4s\n",
      "[Parallel(n_jobs=48)]: Done 240 out of 240 | elapsed:   12.5s finished\n"
     ]
    },
    {
     "name": "stdout",
     "output_type": "stream",
     "text": [
      "New Batch started : 25441 to 25680 \n"
     ]
    },
    {
     "name": "stderr",
     "output_type": "stream",
     "text": [
      "[Parallel(n_jobs=48)]: Done 104 tasks      | elapsed:    5.4s\n",
      "[Parallel(n_jobs=48)]: Done 240 out of 240 | elapsed:   12.5s finished\n"
     ]
    },
    {
     "name": "stdout",
     "output_type": "stream",
     "text": [
      "New Batch started : 25681 to 25920 \n"
     ]
    },
    {
     "name": "stderr",
     "output_type": "stream",
     "text": [
      "[Parallel(n_jobs=48)]: Done 104 tasks      | elapsed:    5.4s\n",
      "[Parallel(n_jobs=48)]: Done 240 out of 240 | elapsed:   12.5s finished\n"
     ]
    },
    {
     "name": "stdout",
     "output_type": "stream",
     "text": [
      "New Batch started : 25921 to 26160 \n"
     ]
    },
    {
     "name": "stderr",
     "output_type": "stream",
     "text": [
      "[Parallel(n_jobs=48)]: Done 104 tasks      | elapsed:    5.4s\n",
      "[Parallel(n_jobs=48)]: Done 240 out of 240 | elapsed:   12.4s finished\n"
     ]
    },
    {
     "name": "stdout",
     "output_type": "stream",
     "text": [
      "New Batch started : 26161 to 26400 \n"
     ]
    },
    {
     "name": "stderr",
     "output_type": "stream",
     "text": [
      "[Parallel(n_jobs=48)]: Done 104 tasks      | elapsed:    5.4s\n",
      "[Parallel(n_jobs=48)]: Done 240 out of 240 | elapsed:   12.4s finished\n"
     ]
    },
    {
     "name": "stdout",
     "output_type": "stream",
     "text": [
      "New Batch started : 26401 to 26640 \n"
     ]
    },
    {
     "name": "stderr",
     "output_type": "stream",
     "text": [
      "[Parallel(n_jobs=48)]: Done 104 tasks      | elapsed:    5.4s\n",
      "[Parallel(n_jobs=48)]: Done 240 out of 240 | elapsed:   12.4s finished\n"
     ]
    },
    {
     "name": "stdout",
     "output_type": "stream",
     "text": [
      "New Batch started : 26641 to 26880 \n"
     ]
    },
    {
     "name": "stderr",
     "output_type": "stream",
     "text": [
      "[Parallel(n_jobs=48)]: Done 104 tasks      | elapsed:    5.4s\n",
      "[Parallel(n_jobs=48)]: Done 240 out of 240 | elapsed:   12.5s finished\n"
     ]
    },
    {
     "name": "stdout",
     "output_type": "stream",
     "text": [
      "New Batch started : 26881 to 27120 \n"
     ]
    },
    {
     "name": "stderr",
     "output_type": "stream",
     "text": [
      "[Parallel(n_jobs=48)]: Done 104 tasks      | elapsed:    5.4s\n",
      "[Parallel(n_jobs=48)]: Done 240 out of 240 | elapsed:   12.4s finished\n"
     ]
    },
    {
     "name": "stdout",
     "output_type": "stream",
     "text": [
      "New Batch started : 27121 to 27360 \n"
     ]
    },
    {
     "name": "stderr",
     "output_type": "stream",
     "text": [
      "[Parallel(n_jobs=48)]: Done 104 tasks      | elapsed:    5.4s\n",
      "[Parallel(n_jobs=48)]: Done 240 out of 240 | elapsed:   12.4s finished\n"
     ]
    },
    {
     "name": "stdout",
     "output_type": "stream",
     "text": [
      "New Batch started : 27361 to 27600 \n"
     ]
    },
    {
     "name": "stderr",
     "output_type": "stream",
     "text": [
      "[Parallel(n_jobs=48)]: Done 104 tasks      | elapsed:    5.4s\n",
      "[Parallel(n_jobs=48)]: Done 240 out of 240 | elapsed:   12.5s finished\n"
     ]
    },
    {
     "name": "stdout",
     "output_type": "stream",
     "text": [
      "New Batch started : 27601 to 27840 \n"
     ]
    },
    {
     "name": "stderr",
     "output_type": "stream",
     "text": [
      "[Parallel(n_jobs=48)]: Done 104 tasks      | elapsed:    5.4s\n",
      "[Parallel(n_jobs=48)]: Done 240 out of 240 | elapsed:   12.5s finished\n"
     ]
    },
    {
     "name": "stdout",
     "output_type": "stream",
     "text": [
      "New Batch started : 27841 to 28080 \n"
     ]
    },
    {
     "name": "stderr",
     "output_type": "stream",
     "text": [
      "[Parallel(n_jobs=48)]: Done 104 tasks      | elapsed:    5.4s\n",
      "[Parallel(n_jobs=48)]: Done 240 out of 240 | elapsed:   12.4s finished\n"
     ]
    },
    {
     "name": "stdout",
     "output_type": "stream",
     "text": [
      "New Batch started : 28081 to 28320 \n"
     ]
    },
    {
     "name": "stderr",
     "output_type": "stream",
     "text": [
      "[Parallel(n_jobs=48)]: Done 104 tasks      | elapsed:    5.5s\n",
      "[Parallel(n_jobs=48)]: Done 240 out of 240 | elapsed:   12.6s finished\n"
     ]
    },
    {
     "name": "stdout",
     "output_type": "stream",
     "text": [
      "New Batch started : 28321 to 28560 \n"
     ]
    },
    {
     "name": "stderr",
     "output_type": "stream",
     "text": [
      "[Parallel(n_jobs=48)]: Done 104 tasks      | elapsed:    5.5s\n",
      "[Parallel(n_jobs=48)]: Done 240 out of 240 | elapsed:   12.6s finished\n"
     ]
    },
    {
     "name": "stdout",
     "output_type": "stream",
     "text": [
      "New Batch started : 28561 to 28800 \n"
     ]
    },
    {
     "name": "stderr",
     "output_type": "stream",
     "text": [
      "[Parallel(n_jobs=48)]: Done 104 tasks      | elapsed:    5.4s\n",
      "[Parallel(n_jobs=48)]: Done 240 out of 240 | elapsed:   12.5s finished\n"
     ]
    },
    {
     "name": "stdout",
     "output_type": "stream",
     "text": [
      "New Batch started : 28801 to 29040 \n"
     ]
    },
    {
     "name": "stderr",
     "output_type": "stream",
     "text": [
      "[Parallel(n_jobs=48)]: Done 104 tasks      | elapsed:    5.4s\n",
      "[Parallel(n_jobs=48)]: Done 240 out of 240 | elapsed:   12.5s finished\n"
     ]
    },
    {
     "name": "stdout",
     "output_type": "stream",
     "text": [
      "New Batch started : 29041 to 29280 \n"
     ]
    },
    {
     "name": "stderr",
     "output_type": "stream",
     "text": [
      "[Parallel(n_jobs=48)]: Done 104 tasks      | elapsed:    5.4s\n",
      "[Parallel(n_jobs=48)]: Done 240 out of 240 | elapsed:   12.4s finished\n"
     ]
    },
    {
     "name": "stdout",
     "output_type": "stream",
     "text": [
      "New Batch started : 29281 to 29520 \n"
     ]
    },
    {
     "name": "stderr",
     "output_type": "stream",
     "text": [
      "[Parallel(n_jobs=48)]: Done 104 tasks      | elapsed:    5.4s\n",
      "[Parallel(n_jobs=48)]: Done 240 out of 240 | elapsed:   12.5s finished\n"
     ]
    },
    {
     "name": "stdout",
     "output_type": "stream",
     "text": [
      "New Batch started : 29521 to 29760 \n"
     ]
    },
    {
     "name": "stderr",
     "output_type": "stream",
     "text": [
      "[Parallel(n_jobs=48)]: Done 104 tasks      | elapsed:    5.4s\n",
      "[Parallel(n_jobs=48)]: Done 240 out of 240 | elapsed:   12.5s finished\n"
     ]
    },
    {
     "name": "stdout",
     "output_type": "stream",
     "text": [
      "New Batch started : 29761 to 30000 \n"
     ]
    },
    {
     "name": "stderr",
     "output_type": "stream",
     "text": [
      "[Parallel(n_jobs=48)]: Done 104 tasks      | elapsed:    5.4s\n",
      "[Parallel(n_jobs=48)]: Done 240 out of 240 | elapsed:   12.4s finished\n"
     ]
    },
    {
     "name": "stdout",
     "output_type": "stream",
     "text": [
      "New Batch started : 30001 to 30240 \n"
     ]
    },
    {
     "name": "stderr",
     "output_type": "stream",
     "text": [
      "[Parallel(n_jobs=48)]: Done 104 tasks      | elapsed:    5.4s\n",
      "[Parallel(n_jobs=48)]: Done 240 out of 240 | elapsed:   12.5s finished\n"
     ]
    },
    {
     "name": "stdout",
     "output_type": "stream",
     "text": [
      "New Batch started : 30241 to 30480 \n"
     ]
    },
    {
     "name": "stderr",
     "output_type": "stream",
     "text": [
      "[Parallel(n_jobs=48)]: Done 104 tasks      | elapsed:    5.4s\n",
      "[Parallel(n_jobs=48)]: Done 240 out of 240 | elapsed:   12.4s finished\n"
     ]
    },
    {
     "name": "stdout",
     "output_type": "stream",
     "text": [
      "New Batch started : 30481 to 30720 \n"
     ]
    },
    {
     "name": "stderr",
     "output_type": "stream",
     "text": [
      "[Parallel(n_jobs=48)]: Done 104 tasks      | elapsed:    5.4s\n",
      "[Parallel(n_jobs=48)]: Done 240 out of 240 | elapsed:   12.4s finished\n"
     ]
    },
    {
     "name": "stdout",
     "output_type": "stream",
     "text": [
      "New Batch started : 30721 to 30960 \n"
     ]
    },
    {
     "name": "stderr",
     "output_type": "stream",
     "text": [
      "[Parallel(n_jobs=48)]: Done 104 tasks      | elapsed:    5.4s\n",
      "[Parallel(n_jobs=48)]: Done 240 out of 240 | elapsed:   12.4s finished\n"
     ]
    },
    {
     "name": "stdout",
     "output_type": "stream",
     "text": [
      "New Batch started : 30961 to 31200 \n"
     ]
    },
    {
     "name": "stderr",
     "output_type": "stream",
     "text": [
      "[Parallel(n_jobs=48)]: Done 104 tasks      | elapsed:    5.4s\n",
      "[Parallel(n_jobs=48)]: Done 240 out of 240 | elapsed:   12.4s finished\n"
     ]
    },
    {
     "name": "stdout",
     "output_type": "stream",
     "text": [
      "New Batch started : 31201 to 31440 \n"
     ]
    },
    {
     "name": "stderr",
     "output_type": "stream",
     "text": [
      "[Parallel(n_jobs=48)]: Done 104 tasks      | elapsed:    5.4s\n",
      "[Parallel(n_jobs=48)]: Done 240 out of 240 | elapsed:   12.5s finished\n"
     ]
    },
    {
     "name": "stdout",
     "output_type": "stream",
     "text": [
      "New Batch started : 31441 to 31680 \n"
     ]
    },
    {
     "name": "stderr",
     "output_type": "stream",
     "text": [
      "[Parallel(n_jobs=48)]: Done 104 tasks      | elapsed:    5.4s\n",
      "[Parallel(n_jobs=48)]: Done 240 out of 240 | elapsed:   12.4s finished\n"
     ]
    },
    {
     "name": "stdout",
     "output_type": "stream",
     "text": [
      "New Batch started : 31681 to 31920 \n"
     ]
    },
    {
     "name": "stderr",
     "output_type": "stream",
     "text": [
      "[Parallel(n_jobs=48)]: Done 104 tasks      | elapsed:    5.4s\n",
      "[Parallel(n_jobs=48)]: Done 240 out of 240 | elapsed:   12.5s finished\n"
     ]
    },
    {
     "name": "stdout",
     "output_type": "stream",
     "text": [
      "New Batch started : 31921 to 32073 \n"
     ]
    },
    {
     "name": "stderr",
     "output_type": "stream",
     "text": [
      "[Parallel(n_jobs=48)]: Done 153 out of 153 | elapsed:    7.9s finished\n"
     ]
    }
   ],
   "source": [
    "global_results = []\n",
    "import random\n",
    "\n",
    "for k in range(len(test_files)):\n",
    "\n",
    "    # Load { jobID -> X_test, Y_test }:\n",
    "    print( \"Loading test file #%d - %s\" % (k, test_files[k]) )\n",
    "    with open( join(path, test_files[k]) , 'rb' ) as handle:\n",
    "        global_dict = pickle.load(handle)\n",
    "    print( \"Loaded test file #%d\" % (len(global_dict))       )\n",
    "    \n",
    "    # warm up\n",
    "    if(warmup):\n",
    "        print(model.predict(random.choice(list(global_dict.items()))[1][0]))\n",
    "        warmup=False\n",
    "        \n",
    "    start = 1\n",
    "    for chunk in chunked(global_dict.items(), 48*5):\n",
    "        print(\"New Batch started : %d to %d \" % (start, start+len(chunk)-1))\n",
    "        results = Parallel(n_jobs=48, verbose=1, backend=\"threading\")(map(delayed(h), [x for x in chunk] ))\n",
    "        global_results.extend(results)\n",
    "        del results\n",
    "        start += len(chunk)"
   ]
  },
  {
   "cell_type": "markdown",
   "metadata": {},
   "source": [
    "# Considering all jobs where decision was made"
   ]
  },
  {
   "cell_type": "code",
   "execution_count": 9,
   "metadata": {},
   "outputs": [],
   "source": [
    "# Process results:\n",
    "\n",
    "Y_true_job      = []\n",
    "Y_predicted_job = []\n",
    "averagefrac     = []\n",
    "nodecision      = []\n",
    "\n",
    "for r in global_results:\n",
    "    if r[-1] != -1:\n",
    "        Y_true_job.append(r[-2])\n",
    "        Y_predicted_job.append(r[-1])\n",
    "        averagefrac.append(r[3])\n",
    "    else:\n",
    "        nodecision.append(r)\n",
    "\n",
    "# [jobID, totaljobduration, predictionduration, localsamplefrac, len(df), decision_threshold, truelabel, predictedlabel]"
   ]
  },
  {
   "cell_type": "code",
   "execution_count": 10,
   "metadata": {},
   "outputs": [
    {
     "name": "stdout",
     "output_type": "stream",
     "text": [
      "Len of Y_true :  310423\n",
      "Len of Y_pred :  310423\n",
      "Overall accuracy on test set:  0.8491735470632008\n",
      "Calculating Score: \n",
      "precision    : [0.82965447 0.87542586]\n",
      "recall       : [0.89957127 0.79257542]\n",
      "fscore       : [0.86319942 0.83194303]\n",
      "support      : [164206 146217]\n",
      "Confusion matrix:\n",
      "Predicted       0       1     All\n",
      "True                             \n",
      "0          147715   16491  164206\n",
      "1           30329  115888  146217\n",
      "All        178044  132379  310423\n",
      "*********Test Results End**************\n"
     ]
    }
   ],
   "source": [
    "print('Len of Y_true : ', len(Y_true_job))\n",
    "print('Len of Y_pred : ', len(Y_predicted_job))\n",
    "\n",
    "print(\"Overall accuracy on test set: \", np.mean(np.equal(Y_true_job, Y_predicted_job)))\n",
    "\n",
    "print(\"Calculating Score: \")\n",
    "precision, recall, fscore, support = score(Y_true_job, Y_predicted_job)\n",
    "print('precision    : {}'.format(precision))\n",
    "print('recall       : {}'.format(recall))\n",
    "print('fscore       : {}'.format(fscore))\n",
    "print('support      : {}'.format(support))\n",
    "\n",
    "print(\"Confusion matrix:\")\n",
    "print(pd.crosstab(pd.Series(Y_true_job), pd.Series(Y_predicted_job), rownames=['True'], colnames=['Predicted'], margins=True))\n",
    "print('*********Test Results End**************')"
   ]
  },
  {
   "cell_type": "code",
   "execution_count": 11,
   "metadata": {},
   "outputs": [
    {
     "data": {
      "text/plain": [
       "0.5467337450251508"
      ]
     },
     "execution_count": 11,
     "metadata": {},
     "output_type": "execute_result"
    }
   ],
   "source": [
    "np.mean(averagefrac)"
   ]
  },
  {
   "cell_type": "code",
   "execution_count": 16,
   "metadata": {},
   "outputs": [
    {
     "data": {
      "text/plain": [
       "(10307, 320730, 10307.033203080957)"
      ]
     },
     "execution_count": 16,
     "metadata": {},
     "output_type": "execute_result"
    }
   ],
   "source": [
    "len(nodecision), len(Y_true_job)+len(nodecision),  len(nodecision)/len(Y_true_job)+len(nodecision)"
   ]
  },
  {
   "cell_type": "code",
   "execution_count": null,
   "metadata": {},
   "outputs": [],
   "source": []
  },
  {
   "cell_type": "markdown",
   "metadata": {},
   "source": [
    "# Considering jobs with atleast 4 samples"
   ]
  },
  {
   "cell_type": "code",
   "execution_count": 35,
   "metadata": {},
   "outputs": [],
   "source": [
    "# Process results:\n",
    "\n",
    "Y_true_job      = []\n",
    "Y_predicted_job = []\n",
    "averagefrac     = []\n",
    "nodecision      = []\n",
    "\n",
    "for r in global_results:\n",
    "    if r[-1] != -1:\n",
    "        if(r[4] >= 10):\n",
    "            Y_true_job.append(r[-2])\n",
    "            Y_predicted_job.append(r[-1])\n",
    "            averagefrac.append(r[3])\n",
    "    else:\n",
    "        nodecision.append(r)\n",
    "\n",
    "# [jobID, totaljobduration, predictionduration, localsamplefrac, len(df), decision_threshold, truelabel, predictedlabel]"
   ]
  },
  {
   "cell_type": "code",
   "execution_count": 36,
   "metadata": {},
   "outputs": [
    {
     "name": "stdout",
     "output_type": "stream",
     "text": [
      "Len of Y_true :  133237\n",
      "Len of Y_pred :  133237\n",
      "Overall accuracy on test set:  0.8343403108746069\n",
      "Calculating Score: \n",
      "precision    : [0.88916507 0.71147437]\n",
      "recall       : [0.87352044 0.74122507]\n",
      "fscore       : [0.88127333 0.72604508]\n",
      "support      : [93778 39459]\n",
      "Confusion matrix:\n",
      "Predicted      0      1     All\n",
      "True                           \n",
      "0          81917  11861   93778\n",
      "1          10211  29248   39459\n",
      "All        92128  41109  133237\n",
      "*********Test Results End**************\n"
     ]
    }
   ],
   "source": [
    "print('Len of Y_true : ', len(Y_true_job))\n",
    "print('Len of Y_pred : ', len(Y_predicted_job))\n",
    "\n",
    "print(\"Overall accuracy on test set: \", np.mean(np.equal(Y_true_job, Y_predicted_job)))\n",
    "\n",
    "print(\"Calculating Score: \")\n",
    "precision, recall, fscore, support = score(Y_true_job, Y_predicted_job)\n",
    "print('precision    : {}'.format(precision))\n",
    "print('recall       : {}'.format(recall))\n",
    "print('fscore       : {}'.format(fscore))\n",
    "print('support      : {}'.format(support))\n",
    "\n",
    "print(\"Confusion matrix:\")\n",
    "print(pd.crosstab(pd.Series(Y_true_job), pd.Series(Y_predicted_job), rownames=['True'], colnames=['Predicted'], margins=True))\n",
    "print('*********Test Results End**************')"
   ]
  },
  {
   "cell_type": "code",
   "execution_count": 37,
   "metadata": {},
   "outputs": [
    {
     "data": {
      "text/plain": [
       "0.18735241246471637"
      ]
     },
     "execution_count": 37,
     "metadata": {},
     "output_type": "execute_result"
    }
   ],
   "source": [
    "np.mean(averagefrac)"
   ]
  },
  {
   "cell_type": "code",
   "execution_count": 34,
   "metadata": {},
   "outputs": [
    {
     "data": {
      "text/plain": [
       "(10307, 106072, 10307.107628047825)"
      ]
     },
     "execution_count": 34,
     "metadata": {},
     "output_type": "execute_result"
    }
   ],
   "source": [
    "len(nodecision), len(Y_true_job)+len(nodecision),  len(nodecision)/len(Y_true_job)+len(nodecision)"
   ]
  },
  {
   "cell_type": "code",
   "execution_count": null,
   "metadata": {},
   "outputs": [],
   "source": []
  }
 ],
 "metadata": {
  "kernelspec": {
   "display_name": "Python 3",
   "language": "python",
   "name": "python3"
  },
  "language_info": {
   "codemirror_mode": {
    "name": "ipython",
    "version": 3
   },
   "file_extension": ".py",
   "mimetype": "text/x-python",
   "name": "python",
   "nbconvert_exporter": "python",
   "pygments_lexer": "ipython3",
   "version": "3.5.2"
  }
 },
 "nbformat": 4,
 "nbformat_minor": 2
}
