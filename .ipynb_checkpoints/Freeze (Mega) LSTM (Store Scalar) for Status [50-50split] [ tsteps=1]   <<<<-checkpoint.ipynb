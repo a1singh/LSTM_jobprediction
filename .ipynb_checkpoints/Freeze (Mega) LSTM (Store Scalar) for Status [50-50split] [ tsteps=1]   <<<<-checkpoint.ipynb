{
 "cells": [
  {
   "cell_type": "code",
   "execution_count": 1,
   "metadata": {},
   "outputs": [],
   "source": [
    "# This notebook contains:\n",
    "#\n",
    "# Here we take 500K failed jobs and 375K successful jobs"
   ]
  },
  {
   "cell_type": "code",
   "execution_count": 2,
   "metadata": {},
   "outputs": [],
   "source": [
    "# Connect to MYSQL database\n",
    "\n",
    "hostname = 'localhost'\n",
    "username = 'a1singh'\n",
    "password = 'sdsc1234'\n",
    "database = 'belle2'\n",
    "\n",
    "import pandas as pd\n",
    "import numpy as np"
   ]
  },
  {
   "cell_type": "code",
   "execution_count": 3,
   "metadata": {},
   "outputs": [
    {
     "name": "stdout",
     "output_type": "stream",
     "text": [
      "/data/home/a1singh/anaconda3/envs/keras/bin/python\n",
      "3.5.4 |Anaconda, Inc.| (default, Nov 20 2017, 18:44:38) \n",
      "[GCC 7.2.0]\n"
     ]
    }
   ],
   "source": [
    "import sys\n",
    "print(sys.executable)\n",
    "print(sys.version)"
   ]
  },
  {
   "cell_type": "code",
   "execution_count": 4,
   "metadata": {},
   "outputs": [
    {
     "name": "stdout",
     "output_type": "stream",
     "text": [
      "<pymysql.connections.Connection object at 0x7fad080ee550>\n"
     ]
    }
   ],
   "source": [
    "import pymysql\n",
    "from IPython.display import display, HTML\n",
    "\n",
    "conn = pymysql.connect(host=hostname, user=username, passwd=password, db=database)\n",
    "print(conn)"
   ]
  },
  {
   "cell_type": "code",
   "execution_count": 5,
   "metadata": {},
   "outputs": [],
   "source": [
    "def batch(iterable, n=1):\n",
    "    l = len(iterable)\n",
    "    for ndx in range(0, l, n):\n",
    "        yield iterable[ndx:min(ndx + n, l)]"
   ]
  },
  {
   "cell_type": "markdown",
   "metadata": {},
   "source": [
    "## 1 Jobs table: get all 'failed' jobs and store to disk "
   ]
  },
  {
   "cell_type": "code",
   "execution_count": 6,
   "metadata": {},
   "outputs": [
    {
     "name": "stdout",
     "output_type": "stream",
     "text": [
      "CPU times: user 1min 51s, sys: 3.16 s, total: 1min 54s\n",
      "Wall time: 1min 54s\n"
     ]
    }
   ],
   "source": [
    "%%time\n",
    "\n",
    "query       = 'SELECT * FROM Jobs WHERE Status = \\'Failed\\' '\n",
    "failedJobs    = pd.read_sql_query(query,con=conn)"
   ]
  },
  {
   "cell_type": "code",
   "execution_count": 21,
   "metadata": {},
   "outputs": [
    {
     "ename": "NameError",
     "evalue": "name 'failedJobs' is not defined",
     "output_type": "error",
     "traceback": [
      "\u001b[0;31m---------------------------------------------------------------------------\u001b[0m",
      "\u001b[0;31mNameError\u001b[0m                                 Traceback (most recent call last)",
      "\u001b[0;32m<ipython-input-21-027e7721c3cb>\u001b[0m in \u001b[0;36m<module>\u001b[0;34m()\u001b[0m\n\u001b[0;32m----> 1\u001b[0;31m \u001b[0mfailedJobs\u001b[0m\u001b[0;34m.\u001b[0m\u001b[0mshape\u001b[0m\u001b[0;34m\u001b[0m\u001b[0m\n\u001b[0m",
      "\u001b[0;31mNameError\u001b[0m: name 'failedJobs' is not defined"
     ]
    }
   ],
   "source": [
    "failedJobs.shape"
   ]
  },
  {
   "cell_type": "code",
   "execution_count": 32,
   "metadata": {},
   "outputs": [],
   "source": [
    "failedJobs.to_pickle('all_failed_from_jobs_table.pickle')"
   ]
  },
  {
   "cell_type": "code",
   "execution_count": 30,
   "metadata": {},
   "outputs": [],
   "source": [
    "failedJobs = pd.read_pickle('all_failed_from_jobs_table.pickle')"
   ]
  },
  {
   "cell_type": "markdown",
   "metadata": {},
   "source": [
    "## 2 HBLI table: get all 'failed' jobs and store to disk "
   ]
  },
  {
   "cell_type": "code",
   "execution_count": 92,
   "metadata": {},
   "outputs": [
    {
     "data": {
      "text/plain": [
       "1101447"
      ]
     },
     "execution_count": 92,
     "metadata": {},
     "output_type": "execute_result"
    }
   ],
   "source": [
    "listofjobids = failedJobs['JobID'].tolist()\n",
    "listofjobids = list(set(listofjobids))\n",
    "len(listofjobids)"
   ]
  },
  {
   "cell_type": "code",
   "execution_count": null,
   "metadata": {},
   "outputs": [],
   "source": [
    "%%time\n",
    "# # Keep only the rows whose jobID is in HeartBeatLogging table\n",
    "\n",
    "query       = 'SELECT * FROM HeartBeatLoggingInfo WHERE JobID IN (' + ','.join((str(x) for x in listofjobids)) + ')'\n",
    "dataHBLI_failed    = pd.read_sql_query(query,con=conn)"
   ]
  },
  {
   "cell_type": "code",
   "execution_count": 101,
   "metadata": {},
   "outputs": [],
   "source": [
    "listofjobids = list(set(failedJobs['JobID'].tolist()) - set (dataHBLI_failed.JobID.unique().tolist()))"
   ]
  },
  {
   "cell_type": "code",
   "execution_count": 107,
   "metadata": {},
   "outputs": [
    {
     "name": "stdout",
     "output_type": "stream",
     "text": [
      "(0, 4)\n",
      "CPU times: user 137 ms, sys: 69.1 ms, total: 206 ms\n",
      "Wall time: 11.6 s\n"
     ]
    }
   ],
   "source": [
    "%%time\n",
    "# # TEST TEST TEST TEST TEST \n",
    "\n",
    "query       = 'SELECT * FROM HeartBeatLoggingInfo WHERE JobID IN (' + ','.join((str(x) for x in listofjobids[:])) + ')'\n",
    "dataHBLI_failed    = pd.read_sql_query(query,con=conn)\n",
    "print(dataHBLI_failed.shape)\n",
    "\n",
    "# # TEST TEST TEST TEST TEST "
   ]
  },
  {
   "cell_type": "code",
   "execution_count": 30,
   "metadata": {},
   "outputs": [],
   "source": [
    "dataHBLI_failed.to_pickle('all_failed_from_hbli_table.pickle')"
   ]
  },
  {
   "cell_type": "code",
   "execution_count": 20,
   "metadata": {},
   "outputs": [
    {
     "ename": "NameError",
     "evalue": "name 'dataHBLI_failed' is not defined",
     "output_type": "error",
     "traceback": [
      "\u001b[0;31m---------------------------------------------------------------------------\u001b[0m",
      "\u001b[0;31mNameError\u001b[0m                                 Traceback (most recent call last)",
      "\u001b[0;32m<ipython-input-20-619d30b8d0f0>\u001b[0m in \u001b[0;36m<module>\u001b[0;34m()\u001b[0m\n\u001b[0;32m----> 1\u001b[0;31m \u001b[0mdataHBLI_failed\u001b[0m\u001b[0;34m.\u001b[0m\u001b[0mshape\u001b[0m\u001b[0;34m,\u001b[0m \u001b[0mlen\u001b[0m\u001b[0;34m(\u001b[0m\u001b[0mdataHBLI_failed\u001b[0m\u001b[0;34m.\u001b[0m\u001b[0mJobID\u001b[0m\u001b[0;34m.\u001b[0m\u001b[0munique\u001b[0m\u001b[0;34m(\u001b[0m\u001b[0;34m)\u001b[0m\u001b[0;34m)\u001b[0m\u001b[0;34m\u001b[0m\u001b[0m\n\u001b[0m",
      "\u001b[0;31mNameError\u001b[0m: name 'dataHBLI_failed' is not defined"
     ]
    }
   ],
   "source": [
    "dataHBLI_failed.shape, len(dataHBLI_failed.JobID.unique())"
   ]
  },
  {
   "cell_type": "code",
   "execution_count": 25,
   "metadata": {},
   "outputs": [
    {
     "name": "stdout",
     "output_type": "stream",
     "text": [
      "\n"
     ]
    }
   ],
   "source": [
    "print()"
   ]
  },
  {
   "cell_type": "code",
   "execution_count": 26,
   "metadata": {},
   "outputs": [],
   "source": [
    "dataHBLI_failed = pd.read_pickle('all_failed_from_hbli_table.pickle')"
   ]
  },
  {
   "cell_type": "markdown",
   "metadata": {},
   "source": [
    "## 3 Jobs table: get all 'done' jobs and store to disk "
   ]
  },
  {
   "cell_type": "code",
   "execution_count": 9,
   "metadata": {},
   "outputs": [
    {
     "name": "stdout",
     "output_type": "stream",
     "text": [
      "CPU times: user 16min 39s, sys: 1min 36s, total: 18min 15s\n",
      "Wall time: 19min 12s\n"
     ]
    }
   ],
   "source": [
    "%%time\n",
    "\n",
    "query       = 'SELECT * FROM Jobs WHERE Status = \\'Done\\''\n",
    "successJobs    = pd.read_sql_query(query,con=conn)"
   ]
  },
  {
   "cell_type": "code",
   "execution_count": 2,
   "metadata": {},
   "outputs": [],
   "source": [
    "import pandas as pd\n",
    "successJobs = pd.read_pickle('all_done_from_jobs_table.pickle')"
   ]
  },
  {
   "cell_type": "code",
   "execution_count": 3,
   "metadata": {},
   "outputs": [
    {
     "data": {
      "text/plain": [
       "(9374544, 33)"
      ]
     },
     "execution_count": 3,
     "metadata": {},
     "output_type": "execute_result"
    }
   ],
   "source": [
    "successJobs.shape"
   ]
  },
  {
   "cell_type": "code",
   "execution_count": 4,
   "metadata": {},
   "outputs": [],
   "source": [
    "successJobs_picked = successJobs.sample(847267)"
   ]
  },
  {
   "cell_type": "code",
   "execution_count": 14,
   "metadata": {},
   "outputs": [
    {
     "data": {
      "text/plain": [
       "(847267, 33)"
      ]
     },
     "execution_count": 14,
     "metadata": {},
     "output_type": "execute_result"
    }
   ],
   "source": [
    "successJobs_picked.shape"
   ]
  },
  {
   "cell_type": "code",
   "execution_count": null,
   "metadata": {},
   "outputs": [],
   "source": [
    "successJobs_picked.c"
   ]
  },
  {
   "cell_type": "code",
   "execution_count": 5,
   "metadata": {},
   "outputs": [],
   "source": [
    "del successJobs"
   ]
  },
  {
   "cell_type": "code",
   "execution_count": 36,
   "metadata": {},
   "outputs": [],
   "source": [
    "successJobs.to_pickle('all_done_from_jobs_table.pickle')"
   ]
  },
  {
   "cell_type": "code",
   "execution_count": 13,
   "metadata": {},
   "outputs": [
    {
     "data": {
      "text/plain": [
       "['listofdfs_collector_275percent.pickle',\n",
       " 'listofdfs_collector_185percent.pickle',\n",
       " 'listofdfs_collector_315percent.pickle',\n",
       " 'listofdfs_collector_235percent.pickle',\n",
       " 'listofdfs_collector_105percent.pickle',\n",
       " 'listofdfs_collector_350percent.pickle',\n",
       " 'listofdfs_collector_100percent.pickle',\n",
       " 'listofdfs_collector_395percent.pickle',\n",
       " 'listofdfs_collector_70percent.pickle',\n",
       " 'listofdfs_collector_385percent.pickle',\n",
       " 'listofdfs_collector_260percent.pickle',\n",
       " 'listofdfs_collector_150percent.pickle',\n",
       " 'listofdfs_collector_50percent.pickle',\n",
       " 'listofdfs_collector_295percent.pickle',\n",
       " 'listofdfs_collector_245percent.pickle',\n",
       " 'listofdfs_collector_215percent.pickle',\n",
       " 'listofdfs_collector_330percent.pickle',\n",
       " 'listofdfs_collector_200percent.pickle',\n",
       " 'listofdfs_collector_360percent.pickle',\n",
       " 'listofdfs_collector_250percent.pickle',\n",
       " 'listofdfs_collector_60percent.pickle',\n",
       " 'listofdfs_collector_145percent.pickle',\n",
       " 'listofdfs_collector_220percent.pickle',\n",
       " 'listofdfs_collector_155percent.pickle',\n",
       " 'listofdfs_collector_325percent.pickle',\n",
       " 'listofdfs_collector_270percent.pickle',\n",
       " 'listofdfs_collector_25percent.pickle',\n",
       " 'listofdfs_collector_85percent.pickle',\n",
       " 'listofdfs_collector_290percent.pickle',\n",
       " 'listofdfs_collector_205percent.pickle',\n",
       " 'listofdfs_collector_355percent.pickle',\n",
       " 'listofdfs_collector_110percent.pickle',\n",
       " 'listofdfs_collector_380percent.pickle',\n",
       " 'listofdfs_collector_265percent.pickle',\n",
       " 'listofdfs_collector_240percent.pickle',\n",
       " 'listofdfs_collector_170percent.pickle',\n",
       " 'listofdfs_collector_120percent.pickle',\n",
       " 'listofdfs_collector_75percent.pickle',\n",
       " 'listofdfs_collector_320percent.pickle',\n",
       " 'listofdfs_collector_305percent.pickle',\n",
       " 'listofdfs_collector_140percent.pickle',\n",
       " 'listofdfs_collector_65percent.pickle',\n",
       " 'listofdfs_collector_365percent.pickle',\n",
       " 'listofdfs_collector_130percent.pickle',\n",
       " 'listofdfs_collector_115percent.pickle',\n",
       " 'listofdfs_collector_165percent.pickle',\n",
       " 'listofdfs_collector_300percent.pickle',\n",
       " 'listofdfs_collector_285percent.pickle',\n",
       " 'listofdfs_collector_225percent.pickle',\n",
       " 'listofdfs_collector_95percent.pickle',\n",
       " 'listofdfs_collector_55percent.pickle',\n",
       " 'listofdfs_collector_180percent.pickle',\n",
       " 'listofdfs_collector_160percent.pickle',\n",
       " 'listofdfs_collector_125percent.pickle',\n",
       " 'listofdfs_collector_190percent.pickle',\n",
       " 'listofdfs_collector_340percent.pickle',\n",
       " 'listofdfs_collector_175percent.pickle',\n",
       " 'listofdfs_collector_345percent.pickle',\n",
       " 'listofdfs_collector_80percent.pickle',\n",
       " 'listofdfs_collector_135percent.pickle',\n",
       " 'listofdfs_collector_210percent.pickle',\n",
       " 'listofdfs_collector_310percent.pickle',\n",
       " 'listofdfs_collector_280percent.pickle',\n",
       " 'listofdfs_collector_195percent.pickle',\n",
       " 'listofdfs_collector_370percent.pickle',\n",
       " 'listofdfs_collector_375percent.pickle',\n",
       " 'listofdfs_collector_335percent.pickle',\n",
       " 'listofdfs_collector_230percent.pickle',\n",
       " 'listofdfs_collector_90percent.pickle',\n",
       " 'listofdfs_collector_255percent.pickle',\n",
       " 'listofdfs_collector_390percent.pickle']"
      ]
     },
     "execution_count": 13,
     "metadata": {},
     "output_type": "execute_result"
    }
   ],
   "source": [
    "from os import listdir\n",
    "from os.path import isfile, join\n",
    "onlyfiles = [f for f in listdir('.') if isfile(join('.', f))]\n",
    "onlyfiles = [x for x in onlyfiles if 'listofdfs_collector' in x]\n",
    "onlyfiles"
   ]
  },
  {
   "cell_type": "code",
   "execution_count": 18,
   "metadata": {},
   "outputs": [
    {
     "data": {
      "text/plain": [
       "43199680"
      ]
     },
     "execution_count": 18,
     "metadata": {},
     "output_type": "execute_result"
    }
   ],
   "source": [
    "listofdonejobs = successJobs_picked.JobID.tolist()\n",
    "listofdonejobs[0]+1"
   ]
  },
  {
   "cell_type": "code",
   "execution_count": 20,
   "metadata": {},
   "outputs": [
    {
     "name": "stdout",
     "output_type": "stream",
     "text": [
      "71\n",
      "1  Stored : (943879, 4)\n",
      "2  Stored : (958536, 4)\n",
      "3  Stored : (1185654, 4)\n",
      "4  Stored : (1209061, 4)\n",
      "5  Stored : (1244140, 4)\n",
      "6  Stored : (563157, 4)\n",
      "7  Stored : (1365936, 4)\n",
      "8  Stored : (424949, 4)\n",
      "9  Stored : (136671, 4)\n",
      "10  Stored : (584899, 4)\n",
      "11  Stored : (917521, 4)\n",
      "12  Stored : (900183, 4)\n",
      "13  Stored : (896709, 4)\n",
      "14  Stored : (723094, 4)\n",
      "15  Stored : (995545, 4)\n",
      "16  Stored : (871369, 4)\n",
      "17  Stored : (1152798, 4)\n",
      "18  Stored : (1188058, 4)\n",
      "19  Stored : (750267, 4)\n",
      "20  Stored : (1092189, 4)\n",
      "21  Stored : (873651, 4)\n",
      "22  Stored : (824946, 4)\n",
      "23  Stored : (929024, 4)\n",
      "24  Stored : (880804, 4)\n",
      "25  Stored : (1080832, 4)\n",
      "26  Stored : (984300, 4)\n",
      "27  Stored : (14508606, 4)\n",
      "28  Stored : (931631, 4)\n",
      "29  Stored : (921659, 4)\n",
      "30  Stored : (949283, 4)\n",
      "31  Stored : (574602, 4)\n",
      "32  Stored : (1116763, 4)\n",
      "33  Stored : (564382, 4)\n",
      "34  Stored : (908915, 4)\n",
      "35  Stored : (1037001, 4)\n",
      "36  Stored : (951774, 4)\n",
      "37  Stored : (1115453, 4)\n",
      "38  Stored : (678835, 4)\n",
      "39  Stored : (1195793, 4)\n",
      "40  Stored : (892368, 4)\n",
      "41  Stored : (816334, 4)\n",
      "42  Stored : (1044595, 4)\n",
      "43  Stored : (517657, 4)\n",
      "44  Stored : (644345, 4)\n",
      "45  Stored : (1095306, 4)\n",
      "46  Stored : (1069718, 4)\n",
      "47  Stored : (899442, 4)\n",
      "48  Stored : (1120463, 4)\n",
      "49  Stored : (988686, 4)\n",
      "50  Stored : (1205387, 4)\n",
      "51  Stored : (1039131, 4)\n",
      "52  Stored : (1007472, 4)\n",
      "53  Stored : (874393, 4)\n",
      "54  Stored : (619738, 4)\n",
      "55  Stored : (1069334, 4)\n",
      "56  Stored : (984409, 4)\n",
      "57  Stored : (965752, 4)\n",
      "58  Stored : (432635, 4)\n",
      "59  Stored : (726278, 4)\n",
      "60  Stored : (800962, 4)\n",
      "61  Stored : (1029343, 4)\n",
      "62  Stored : (871841, 4)\n",
      "63  Stored : (1133607, 4)\n",
      "64  Stored : (1028309, 4)\n",
      "65  Stored : (493948, 4)\n",
      "66  Stored : (346318, 4)\n",
      "67  Stored : (1143414, 4)\n",
      "68  Stored : (934144, 4)\n",
      "69  Stored : (1180627, 4)\n",
      "70  Stored : (1044488, 4)\n",
      "71  Stored : (547484, 4)\n"
     ]
    }
   ],
   "source": [
    "selectedDonedfs = []\n",
    "\n",
    "print(len(onlyfiles))\n",
    "\n",
    "counter = 0\n",
    "\n",
    "for f in onlyfiles:\n",
    "    # read df\n",
    "    counter += 1\n",
    "    alist = pd.read_pickle(f)\n",
    "    df    = pd.concat(alist, ignore_index = True)\n",
    "    \n",
    "    # filter df\n",
    "    A = df[df['JobID'].isin(listofdonejobs)].copy()\n",
    "    \n",
    "    # free memory\n",
    "    del df\n",
    "    del alist\n",
    "    \n",
    "    # store it\n",
    "    selectedDonedfs.append(A)\n",
    "    \n",
    "    # print success\n",
    "    print(counter, ' Stored :',A.shape)"
   ]
  },
  {
   "cell_type": "code",
   "execution_count": 21,
   "metadata": {},
   "outputs": [],
   "source": [
    "dataHBLI_success = pd.concat(selectedDonedfs, ignore_index = True)"
   ]
  },
  {
   "cell_type": "code",
   "execution_count": 22,
   "metadata": {},
   "outputs": [],
   "source": [
    "del selectedDonedfs"
   ]
  },
  {
   "cell_type": "code",
   "execution_count": 23,
   "metadata": {},
   "outputs": [
    {
     "data": {
      "text/plain": [
       "(77700797, 4)"
      ]
     },
     "execution_count": 23,
     "metadata": {},
     "output_type": "execute_result"
    }
   ],
   "source": [
    "dataHBLI_success.shape"
   ]
  },
  {
   "cell_type": "code",
   "execution_count": null,
   "metadata": {},
   "outputs": [],
   "source": [
    "# Find similar number of Successful jobs\n",
    "\n",
    "done_and_failed = 1101447+9374544\n",
    "totaljobidcount   = 10485197\n",
    "\n",
    "# only 9206 jobs are in different state "
   ]
  },
  {
   "cell_type": "markdown",
   "metadata": {},
   "source": [
    "## 4 HBLI table: get all 'failed' jobs and store to disk "
   ]
  },
  {
   "cell_type": "code",
   "execution_count": 11,
   "metadata": {},
   "outputs": [
    {
     "data": {
      "text/plain": [
       "9374544"
      ]
     },
     "execution_count": 11,
     "metadata": {},
     "output_type": "execute_result"
    }
   ],
   "source": [
    "listofjobids = successJobs['JobID'].tolist()\n",
    "listofjobids = list(set(listofjobids))\n",
    "len(listofjobids)"
   ]
  },
  {
   "cell_type": "code",
   "execution_count": 12,
   "metadata": {},
   "outputs": [
    {
     "name": "stdout",
     "output_type": "stream",
     "text": [
      "CPU times: user 3 µs, sys: 2 µs, total: 5 µs\n",
      "Wall time: 9.78 µs\n"
     ]
    }
   ],
   "source": [
    "%%time\n",
    "# # Keep only the rows whose jobID is in HeartBeatLogging table\n",
    "\n",
    "def hbli_fetch(listofjobids):\n",
    "    query   = 'SELECT * FROM HeartBeatLoggingInfo WHERE JobID IN (' + ','.join((str(x) for x in listofjobids)) + ')'\n",
    "    dataHBLI = pd.read_sql_query(query,con=conn)\n",
    "    return dataHBLI"
   ]
  },
  {
   "cell_type": "code",
   "execution_count": 13,
   "metadata": {},
   "outputs": [
    {
     "name": "stdout",
     "output_type": "stream",
     "text": [
      "<pymysql.connections.Connection object at 0x7f61439b9c88>\n"
     ]
    }
   ],
   "source": [
    "import pymysql\n",
    "from IPython.display import display, HTML\n",
    "from time import gmtime, strftime\n",
    "\n",
    "conn = pymysql.connect(host=hostname, user=username, passwd=password, db=database)\n",
    "print(conn)"
   ]
  },
  {
   "cell_type": "code",
   "execution_count": 14,
   "metadata": {},
   "outputs": [
    {
     "name": "stdout",
     "output_type": "stream",
     "text": [
      "0 %   2018-02-24 21:32:03\n",
      "2 %   2018-02-24 21:35:38\n",
      "4 %   2018-02-24 21:39:41\n",
      "6 %   2018-02-24 21:44:25\n",
      "8 %   2018-02-24 21:46:57\n",
      "10 %   2018-02-24 21:47:36\n",
      "12 %   2018-02-24 21:48:13\n",
      "14 %   2018-02-24 21:54:39\n",
      "17 %   2018-02-24 22:04:03\n",
      "19 %   2018-02-24 22:14:08\n",
      "21 %   2018-02-24 22:23:37\n",
      "23 %   2018-02-24 22:32:46\n",
      "25 %   2018-02-24 22:41:37\n",
      "Checkpoint func > writing file:  listofdfs_collector_25percent.pickle\n",
      "Pushed collector to disk at  25 %\n",
      "27 %   2018-02-24 22:53:49\n",
      "29 %   2018-02-24 23:02:50\n",
      "32 %   2018-02-24 23:06:49\n",
      "34 %   2018-02-24 23:14:40\n",
      "36 %   2018-02-24 23:26:07\n",
      "38 %   2018-02-24 23:38:26\n",
      "40 %   2018-02-24 23:48:58\n",
      "42 %   2018-02-24 23:57:21\n",
      "44 %   2018-02-25 00:04:22\n",
      "46 %   2018-02-25 00:12:15\n",
      "49 %   2018-02-25 00:20:53\n",
      "51 %   2018-02-25 00:30:05\n",
      "53 %   2018-02-25 00:39:10\n",
      "55 %   2018-02-25 00:48:52\n",
      "57 %   2018-02-25 00:59:38\n",
      "59 %   2018-02-25 01:10:23\n",
      "61 %   2018-02-25 01:19:43\n",
      "64 %   2018-02-25 01:29:23\n",
      "66 %   2018-02-25 01:39:38\n",
      "68 %   2018-02-25 01:49:25\n",
      "70 %   2018-02-25 02:00:10\n",
      "72 %   2018-02-25 02:09:22\n",
      "74 %   2018-02-25 02:18:55\n",
      "76 %   2018-02-25 02:29:44\n",
      "78 %   2018-02-25 02:37:48\n",
      "81 %   2018-02-25 02:46:32\n",
      "83 %   2018-02-25 02:56:34\n",
      "85 %   2018-02-25 03:07:43\n",
      "87 %   2018-02-25 03:19:10\n",
      "89 %   2018-02-25 03:26:11\n",
      "91 %   2018-02-25 03:32:01\n",
      "93 %   2018-02-25 03:38:22\n",
      "96 %   2018-02-25 03:42:34\n",
      "98 %   2018-02-25 03:48:24\n",
      "CPU times: user 6h 3min 5s, sys: 12min 54s, total: 6h 15min 59s\n",
      "Wall time: 6h 21min 12s\n"
     ]
    }
   ],
   "source": [
    "%%time\n",
    "\n",
    "collector = []\n",
    "loopcount = 0\n",
    "import gc\n",
    "import pickle\n",
    "\n",
    "def checkpoint(alist, anum):\n",
    "    # put the list of dfs to disk\n",
    "    filename = 'listofdfs_collector_'+str(anum)+'percent.pickle'\n",
    "    print('Checkpoint func > writing file: ', filename)\n",
    "    with open(filename, 'wb') as handle:\n",
    "        pickle.dump(alist, handle, protocol=pickle.HIGHEST_PROTOCOL)\n",
    "        \n",
    "for jobs in batch(listofjobids, 2000):\n",
    "    thisbatch = hbli_fetch(jobs)\n",
    "    collector.append(thisbatch) #list of dfs\n",
    "    \n",
    "    if(loopcount%100 ==0):\n",
    "        percent = 100*2000.0*(loopcount+1)/9374544.0\n",
    "        print(int(percent), '%  ', strftime(\"%Y-%m-%d %H:%M:%S\", gmtime()))\n",
    "        \n",
    "        if (int(percent)%25 == 0 and int(percent) > 0):\n",
    "            checkpoint(collector, int(percent))\n",
    "            print('Pushed collector to disk at ', int(percent), '%')\n",
    "            collector = []\n",
    "            gc.collect()\n",
    "            \n",
    "    loopcount += 1"
   ]
  },
  {
   "cell_type": "code",
   "execution_count": 18,
   "metadata": {},
   "outputs": [
    {
     "data": {
      "text/plain": [
       "3487"
      ]
     },
     "execution_count": 18,
     "metadata": {},
     "output_type": "execute_result"
    }
   ],
   "source": [
    "len(collector)"
   ]
  },
  {
   "cell_type": "code",
   "execution_count": 19,
   "metadata": {},
   "outputs": [
    {
     "name": "stdout",
     "output_type": "stream",
     "text": [
      "Checkpoint func > writing file:  listofdfs_collector_50percent.pickle\n",
      "Checkpoint func > writing file:  listofdfs_collector_55percent.pickle\n",
      "Checkpoint func > writing file:  listofdfs_collector_60percent.pickle\n",
      "Checkpoint func > writing file:  listofdfs_collector_65percent.pickle\n",
      "Checkpoint func > writing file:  listofdfs_collector_70percent.pickle\n",
      "Checkpoint func > writing file:  listofdfs_collector_75percent.pickle\n",
      "Checkpoint func > writing file:  listofdfs_collector_80percent.pickle\n",
      "Checkpoint func > writing file:  listofdfs_collector_85percent.pickle\n",
      "Checkpoint func > writing file:  listofdfs_collector_90percent.pickle\n",
      "Checkpoint func > writing file:  listofdfs_collector_95percent.pickle\n",
      "Checkpoint func > writing file:  listofdfs_collector_100percent.pickle\n",
      "Checkpoint func > writing file:  listofdfs_collector_105percent.pickle\n",
      "Checkpoint func > writing file:  listofdfs_collector_110percent.pickle\n",
      "Checkpoint func > writing file:  listofdfs_collector_115percent.pickle\n",
      "Checkpoint func > writing file:  listofdfs_collector_120percent.pickle\n",
      "Checkpoint func > writing file:  listofdfs_collector_125percent.pickle\n",
      "Checkpoint func > writing file:  listofdfs_collector_130percent.pickle\n",
      "Checkpoint func > writing file:  listofdfs_collector_135percent.pickle\n",
      "Checkpoint func > writing file:  listofdfs_collector_140percent.pickle\n",
      "Checkpoint func > writing file:  listofdfs_collector_145percent.pickle\n",
      "Checkpoint func > writing file:  listofdfs_collector_150percent.pickle\n",
      "Checkpoint func > writing file:  listofdfs_collector_155percent.pickle\n",
      "Checkpoint func > writing file:  listofdfs_collector_160percent.pickle\n",
      "Checkpoint func > writing file:  listofdfs_collector_165percent.pickle\n",
      "Checkpoint func > writing file:  listofdfs_collector_170percent.pickle\n",
      "Checkpoint func > writing file:  listofdfs_collector_175percent.pickle\n",
      "Checkpoint func > writing file:  listofdfs_collector_180percent.pickle\n",
      "Checkpoint func > writing file:  listofdfs_collector_185percent.pickle\n",
      "Checkpoint func > writing file:  listofdfs_collector_190percent.pickle\n",
      "Checkpoint func > writing file:  listofdfs_collector_195percent.pickle\n",
      "Checkpoint func > writing file:  listofdfs_collector_200percent.pickle\n",
      "Checkpoint func > writing file:  listofdfs_collector_205percent.pickle\n",
      "Checkpoint func > writing file:  listofdfs_collector_210percent.pickle\n",
      "Checkpoint func > writing file:  listofdfs_collector_215percent.pickle\n",
      "Checkpoint func > writing file:  listofdfs_collector_220percent.pickle\n",
      "Checkpoint func > writing file:  listofdfs_collector_225percent.pickle\n",
      "Checkpoint func > writing file:  listofdfs_collector_230percent.pickle\n",
      "Checkpoint func > writing file:  listofdfs_collector_235percent.pickle\n",
      "Checkpoint func > writing file:  listofdfs_collector_240percent.pickle\n",
      "Checkpoint func > writing file:  listofdfs_collector_245percent.pickle\n",
      "Checkpoint func > writing file:  listofdfs_collector_250percent.pickle\n",
      "Checkpoint func > writing file:  listofdfs_collector_255percent.pickle\n",
      "Checkpoint func > writing file:  listofdfs_collector_260percent.pickle\n",
      "Checkpoint func > writing file:  listofdfs_collector_265percent.pickle\n",
      "Checkpoint func > writing file:  listofdfs_collector_270percent.pickle\n",
      "Checkpoint func > writing file:  listofdfs_collector_275percent.pickle\n",
      "Checkpoint func > writing file:  listofdfs_collector_280percent.pickle\n",
      "Checkpoint func > writing file:  listofdfs_collector_285percent.pickle\n",
      "Checkpoint func > writing file:  listofdfs_collector_290percent.pickle\n",
      "Checkpoint func > writing file:  listofdfs_collector_295percent.pickle\n",
      "Checkpoint func > writing file:  listofdfs_collector_300percent.pickle\n",
      "Checkpoint func > writing file:  listofdfs_collector_305percent.pickle\n",
      "Checkpoint func > writing file:  listofdfs_collector_310percent.pickle\n",
      "Checkpoint func > writing file:  listofdfs_collector_315percent.pickle\n",
      "Checkpoint func > writing file:  listofdfs_collector_320percent.pickle\n",
      "Checkpoint func > writing file:  listofdfs_collector_325percent.pickle\n",
      "Checkpoint func > writing file:  listofdfs_collector_330percent.pickle\n",
      "Checkpoint func > writing file:  listofdfs_collector_335percent.pickle\n",
      "Checkpoint func > writing file:  listofdfs_collector_340percent.pickle\n",
      "Checkpoint func > writing file:  listofdfs_collector_345percent.pickle\n",
      "Checkpoint func > writing file:  listofdfs_collector_350percent.pickle\n",
      "Checkpoint func > writing file:  listofdfs_collector_355percent.pickle\n",
      "Checkpoint func > writing file:  listofdfs_collector_360percent.pickle\n",
      "Checkpoint func > writing file:  listofdfs_collector_365percent.pickle\n",
      "Checkpoint func > writing file:  listofdfs_collector_370percent.pickle\n",
      "Checkpoint func > writing file:  listofdfs_collector_375percent.pickle\n",
      "Checkpoint func > writing file:  listofdfs_collector_380percent.pickle\n",
      "Checkpoint func > writing file:  listofdfs_collector_385percent.pickle\n",
      "Checkpoint func > writing file:  listofdfs_collector_390percent.pickle\n",
      "Checkpoint func > writing file:  listofdfs_collector_395percent.pickle\n"
     ]
    }
   ],
   "source": [
    "b=50\n",
    "for jobs in batch(collector, 50):\n",
    "    checkpoint(jobs, int(b))\n",
    "    gc.collect()\n",
    "    b+=5"
   ]
  },
  {
   "cell_type": "code",
   "execution_count": null,
   "metadata": {},
   "outputs": [],
   "source": [
    "%%time\n",
    "\n",
    "biglist     = [] #empty to begin with\n",
    "listoffiles = ['listofdfs_collector_25percent.pickle', 'listofdfs_collector_100percent.pickle']\n",
    "\n",
    "for f in listoffiles:\n",
    "    #read each list and store concat version in biglist\n",
    "    \n",
    "    with open(f, 'rb') as handle:\n",
    "        lst = pickle.load( handle ) #list of dfs\n",
    "        \n",
    "    print(len(lst))\n",
    "    \n",
    "    df = pd.concat(lst, ignore_index = True) #concat each df in list to one big df\n",
    "    \n",
    "    print(df.shape)\n",
    "    \n",
    "    biglist.append(df) #push to biglist"
   ]
  },
  {
   "cell_type": "code",
   "execution_count": 23,
   "metadata": {},
   "outputs": [
    {
     "name": "stderr",
     "output_type": "stream",
     "text": [
      "/data/home/a1singh/anaconda3/envs/keras/lib/python3.5/site-packages/h5py/__init__.py:36: FutureWarning: Conversion of the second argument of issubdtype from `float` to `np.floating` is deprecated. In future, it will be treated as `np.float64 == np.dtype(float).type`.\n",
      "  from ._conv import register_converters as _register_converters\n"
     ]
    }
   ],
   "source": [
    "import turicreate as tc"
   ]
  },
  {
   "cell_type": "code",
   "execution_count": 27,
   "metadata": {},
   "outputs": [],
   "source": [
    "del collector_sframe"
   ]
  },
  {
   "cell_type": "code",
   "execution_count": null,
   "metadata": {},
   "outputs": [],
   "source": [
    "gc.collect()\n",
    "dataHBLI_successB = pd.concat(collector, ignore_index=True,copy=False) #len is same as len of 'listoffiles'\n",
    "dataHBLI_successB.shape"
   ]
  },
  {
   "cell_type": "code",
   "execution_count": null,
   "metadata": {},
   "outputs": [],
   "source": [
    "dataHBLI_success.to_pickle('all_done_from_hbli_table.pickle')"
   ]
  },
  {
   "cell_type": "code",
   "execution_count": 1,
   "metadata": {},
   "outputs": [],
   "source": [
    "####################################^^^^^^^^^^^^^^^^^^^^^^^^^^^^^^^^^^^####################################\n",
    "####################################^^^^^^^^^^^^^^^^^^^^^^^^^^^^^^^^^^^####################################\n",
    "####################################^^^^^^^^^^^^^^^^^^^^^^^^^^^^^^^^^^^####################################\n",
    "####################################^^^^^^^^^^^^^^^^^^^^^^^^^^^^^^^^^^^####################################\n",
    "####################################^^^^^^^^^^^^^^^^^^^^^^^^^^^^^^^^^^^####################################"
   ]
  },
  {
   "cell_type": "code",
   "execution_count": null,
   "metadata": {},
   "outputs": [],
   "source": [
    "dataHBLI_success = stackthese"
   ]
  },
  {
   "cell_type": "code",
   "execution_count": 2,
   "metadata": {},
   "outputs": [
    {
     "data": {
      "text/plain": [
       "0"
      ]
     },
     "execution_count": 2,
     "metadata": {},
     "output_type": "execute_result"
    }
   ],
   "source": [
    "import gc\n",
    "gc.collect()"
   ]
  },
  {
   "cell_type": "code",
   "execution_count": null,
   "metadata": {},
   "outputs": [],
   "source": [
    "%%time\n",
    "# Total number of rows in HeartBeatLoggingInfo (ans - 906,320,307)\n",
    "# number of distinct JobIDs (ans - 10,137,037) in HeartBeatLoggingInfo\n",
    "# number of distinct JobIDs in Jobs (ans - 10,485,197)\n",
    "# number of distinct JobGroup in Jobs (ans - 5405)\n",
    "# number of distinct hearbeattime entries (ans - 1,616,7003)"
   ]
  },
  {
   "cell_type": "code",
   "execution_count": null,
   "metadata": {},
   "outputs": [],
   "source": [
    "# Average Number of timestamps per jobID\n",
    "16167003 / 10137037"
   ]
  },
  {
   "cell_type": "code",
   "execution_count": null,
   "metadata": {},
   "outputs": [],
   "source": [
    "# Average number of key-value pairs per timestamp\n",
    "906320307 / 16167003"
   ]
  },
  {
   "cell_type": "markdown",
   "metadata": {},
   "source": [
    "### Combine Jobs tables pieces = (failed, success)"
   ]
  },
  {
   "cell_type": "code",
   "execution_count": 34,
   "metadata": {},
   "outputs": [
    {
     "data": {
      "text/plain": [
       "((1101447, 33), (847267, 33))"
      ]
     },
     "execution_count": 34,
     "metadata": {},
     "output_type": "execute_result"
    }
   ],
   "source": [
    "failedJobs.shape, successJobs_picked.shape"
   ]
  },
  {
   "cell_type": "code",
   "execution_count": 35,
   "metadata": {},
   "outputs": [],
   "source": [
    "pieces = (failedJobs, successJobs_picked)"
   ]
  },
  {
   "cell_type": "code",
   "execution_count": 36,
   "metadata": {},
   "outputs": [
    {
     "data": {
      "text/plain": [
       "(1948714, 33)"
      ]
     },
     "execution_count": 36,
     "metadata": {},
     "output_type": "execute_result"
    }
   ],
   "source": [
    "allJobs = pd.concat(pieces, ignore_index = True)\n",
    "allJobs.shape"
   ]
  },
  {
   "cell_type": "code",
   "execution_count": 37,
   "metadata": {},
   "outputs": [],
   "source": [
    "del failedJobs\n",
    "del successJobs_picked"
   ]
  },
  {
   "cell_type": "markdown",
   "metadata": {},
   "source": [
    "### Combine HBLI tables pieces = (failed, success)"
   ]
  },
  {
   "cell_type": "code",
   "execution_count": 27,
   "metadata": {},
   "outputs": [],
   "source": [
    "pieces = (dataHBLI_failed, dataHBLI_success)"
   ]
  },
  {
   "cell_type": "code",
   "execution_count": 28,
   "metadata": {},
   "outputs": [],
   "source": [
    "allHBLI = pd.concat(pieces, ignore_index = True)"
   ]
  },
  {
   "cell_type": "code",
   "execution_count": 29,
   "metadata": {},
   "outputs": [],
   "source": [
    "del dataHBLI_failed\n",
    "del dataHBLI_success"
   ]
  },
  {
   "cell_type": "markdown",
   "metadata": {},
   "source": [
    "# Process HBLI table: allHBLI (pivot, dropna, scale)"
   ]
  },
  {
   "cell_type": "code",
   "execution_count": 38,
   "metadata": {},
   "outputs": [
    {
     "data": {
      "text/html": [
       "<div>\n",
       "<style scoped>\n",
       "    .dataframe tbody tr th:only-of-type {\n",
       "        vertical-align: middle;\n",
       "    }\n",
       "\n",
       "    .dataframe tbody tr th {\n",
       "        vertical-align: top;\n",
       "    }\n",
       "\n",
       "    .dataframe thead th {\n",
       "        text-align: right;\n",
       "    }\n",
       "</style>\n",
       "<table border=\"1\" class=\"dataframe\">\n",
       "  <thead>\n",
       "    <tr style=\"text-align: right;\">\n",
       "      <th></th>\n",
       "      <th>JobID</th>\n",
       "      <th>Name</th>\n",
       "      <th>Value</th>\n",
       "      <th>HeartBeatTime</th>\n",
       "    </tr>\n",
       "  </thead>\n",
       "  <tbody>\n",
       "    <tr>\n",
       "      <th>0</th>\n",
       "      <td>23140766</td>\n",
       "      <td>AvailableDiskSpace</td>\n",
       "      <td>b'753392.0'</td>\n",
       "      <td>2015-08-07 13:13:48</td>\n",
       "    </tr>\n",
       "    <tr>\n",
       "      <th>1</th>\n",
       "      <td>23140766</td>\n",
       "      <td>CPUConsumed</td>\n",
       "      <td>b'10.0'</td>\n",
       "      <td>2015-08-07 13:13:48</td>\n",
       "    </tr>\n",
       "  </tbody>\n",
       "</table>\n",
       "</div>"
      ],
      "text/plain": [
       "      JobID                Name        Value       HeartBeatTime\n",
       "0  23140766  AvailableDiskSpace  b'753392.0' 2015-08-07 13:13:48\n",
       "1  23140766         CPUConsumed      b'10.0' 2015-08-07 13:13:48"
      ]
     },
     "execution_count": 38,
     "metadata": {},
     "output_type": "execute_result"
    }
   ],
   "source": [
    "allHBLI.head(2)"
   ]
  },
  {
   "cell_type": "code",
   "execution_count": 39,
   "metadata": {},
   "outputs": [
    {
     "data": {
      "text/plain": [
       "(123321956, 4)"
      ]
     },
     "execution_count": 39,
     "metadata": {},
     "output_type": "execute_result"
    }
   ],
   "source": [
    "allHBLI.shape"
   ]
  },
  {
   "cell_type": "code",
   "execution_count": 40,
   "metadata": {},
   "outputs": [],
   "source": [
    "allHBLI.Value = pd.to_numeric(allHBLI['Value'], errors='raise')"
   ]
  },
  {
   "cell_type": "code",
   "execution_count": 41,
   "metadata": {},
   "outputs": [],
   "source": [
    "allHBLI.HeartBeatTime = pd.to_datetime(allHBLI['HeartBeatTime'], errors='raise')"
   ]
  },
  {
   "cell_type": "code",
   "execution_count": 42,
   "metadata": {},
   "outputs": [
    {
     "data": {
      "text/plain": [
       "1603768"
      ]
     },
     "execution_count": 42,
     "metadata": {},
     "output_type": "execute_result"
    }
   ],
   "source": [
    "# Number of unique jobIDs in 10M rows of dataHB (ans-185879)\n",
    "allHBLI.JobID.nunique()"
   ]
  },
  {
   "cell_type": "code",
   "execution_count": 43,
   "metadata": {},
   "outputs": [
    {
     "data": {
      "text/plain": [
       "9783534"
      ]
     },
     "execution_count": 43,
     "metadata": {},
     "output_type": "execute_result"
    }
   ],
   "source": [
    "# Number of unique timestampes in 10M rows of dataHB (ans-242222)\n",
    "allHBLI.HeartBeatTime.nunique()"
   ]
  },
  {
   "cell_type": "code",
   "execution_count": null,
   "metadata": {},
   "outputs": [],
   "source": [
    "allHBLI.tail()"
   ]
  },
  {
   "cell_type": "code",
   "execution_count": 44,
   "metadata": {},
   "outputs": [
    {
     "name": "stdout",
     "output_type": "stream",
     "text": [
      "CPU times: user 2min 53s, sys: 1min 35s, total: 4min 28s\n",
      "Wall time: 4min 33s\n"
     ]
    }
   ],
   "source": [
    "%%time\n",
    "# 10 millions rows took 10 sec to pivot\n",
    "\n",
    "allHBLI_wide=allHBLI.pivot_table(index=['JobID','HeartBeatTime'], columns='Name', values='Value')"
   ]
  },
  {
   "cell_type": "code",
   "execution_count": 45,
   "metadata": {},
   "outputs": [
    {
     "data": {
      "text/plain": [
       "(17625888, 7)"
      ]
     },
     "execution_count": 45,
     "metadata": {},
     "output_type": "execute_result"
    }
   ],
   "source": [
    "# 1  million rows have shape (142863,  7) after pivot\n",
    "# 10 million rows have shape (1428574, 7) after pivot\n",
    "\n",
    "allHBLI_wide.shape"
   ]
  },
  {
   "cell_type": "code",
   "execution_count": 46,
   "metadata": {},
   "outputs": [
    {
     "data": {
      "text/plain": [
       "59260"
      ]
     },
     "execution_count": 46,
     "metadata": {},
     "output_type": "execute_result"
    }
   ],
   "source": [
    "allHBLI_wide.isnull().values.ravel().sum()"
   ]
  },
  {
   "cell_type": "code",
   "execution_count": 47,
   "metadata": {},
   "outputs": [],
   "source": [
    "# Drop the last few rows\n",
    "allHBLI_wide = allHBLI_wide.dropna()"
   ]
  },
  {
   "cell_type": "code",
   "execution_count": 48,
   "metadata": {},
   "outputs": [
    {
     "data": {
      "text/plain": [
       "(17572524, 7)"
      ]
     },
     "execution_count": 48,
     "metadata": {},
     "output_type": "execute_result"
    }
   ],
   "source": [
    "allHBLI_wide.shape"
   ]
  },
  {
   "cell_type": "code",
   "execution_count": 49,
   "metadata": {},
   "outputs": [
    {
     "data": {
      "text/html": [
       "<div>\n",
       "<style scoped>\n",
       "    .dataframe tbody tr th:only-of-type {\n",
       "        vertical-align: middle;\n",
       "    }\n",
       "\n",
       "    .dataframe tbody tr th {\n",
       "        vertical-align: top;\n",
       "    }\n",
       "\n",
       "    .dataframe thead th {\n",
       "        text-align: right;\n",
       "    }\n",
       "</style>\n",
       "<table border=\"1\" class=\"dataframe\">\n",
       "  <thead>\n",
       "    <tr style=\"text-align: right;\">\n",
       "      <th></th>\n",
       "      <th>Name</th>\n",
       "      <th>AvailableDiskSpace</th>\n",
       "      <th>CPUConsumed</th>\n",
       "      <th>LoadAverage</th>\n",
       "      <th>MemoryUsed</th>\n",
       "      <th>RSS</th>\n",
       "      <th>Vsize</th>\n",
       "      <th>WallClockTime</th>\n",
       "    </tr>\n",
       "    <tr>\n",
       "      <th>JobID</th>\n",
       "      <th>HeartBeatTime</th>\n",
       "      <th></th>\n",
       "      <th></th>\n",
       "      <th></th>\n",
       "      <th></th>\n",
       "      <th></th>\n",
       "      <th></th>\n",
       "      <th></th>\n",
       "    </tr>\n",
       "  </thead>\n",
       "  <tbody>\n",
       "    <tr>\n",
       "      <th>23140766</th>\n",
       "      <th>2015-08-07 13:13:48</th>\n",
       "      <td>753392.0</td>\n",
       "      <td>10.0</td>\n",
       "      <td>22.02</td>\n",
       "      <td>36101188.0</td>\n",
       "      <td>110596.0</td>\n",
       "      <td>1459640.0</td>\n",
       "      <td>3.198161</td>\n",
       "    </tr>\n",
       "    <tr>\n",
       "      <th>23141083</th>\n",
       "      <th>2015-08-07 13:29:48</th>\n",
       "      <td>1544234.0</td>\n",
       "      <td>8.0</td>\n",
       "      <td>22.41</td>\n",
       "      <td>36037080.0</td>\n",
       "      <td>111956.0</td>\n",
       "      <td>1707264.0</td>\n",
       "      <td>2.890452</td>\n",
       "    </tr>\n",
       "    <tr>\n",
       "      <th>23205537</th>\n",
       "      <th>2015-08-08 22:43:00</th>\n",
       "      <td>568076.0</td>\n",
       "      <td>9.0</td>\n",
       "      <td>21.97</td>\n",
       "      <td>43807076.0</td>\n",
       "      <td>51376.0</td>\n",
       "      <td>760076.0</td>\n",
       "      <td>3.637860</td>\n",
       "    </tr>\n",
       "  </tbody>\n",
       "</table>\n",
       "</div>"
      ],
      "text/plain": [
       "Name                          AvailableDiskSpace  CPUConsumed  LoadAverage  \\\n",
       "JobID    HeartBeatTime                                                       \n",
       "23140766 2015-08-07 13:13:48            753392.0         10.0        22.02   \n",
       "23141083 2015-08-07 13:29:48           1544234.0          8.0        22.41   \n",
       "23205537 2015-08-08 22:43:00            568076.0          9.0        21.97   \n",
       "\n",
       "Name                          MemoryUsed       RSS      Vsize  WallClockTime  \n",
       "JobID    HeartBeatTime                                                        \n",
       "23140766 2015-08-07 13:13:48  36101188.0  110596.0  1459640.0       3.198161  \n",
       "23141083 2015-08-07 13:29:48  36037080.0  111956.0  1707264.0       2.890452  \n",
       "23205537 2015-08-08 22:43:00  43807076.0   51376.0   760076.0       3.637860  "
      ]
     },
     "execution_count": 49,
     "metadata": {},
     "output_type": "execute_result"
    }
   ],
   "source": [
    "allHBLI_wide.head(3)"
   ]
  },
  {
   "cell_type": "code",
   "execution_count": null,
   "metadata": {},
   "outputs": [],
   "source": [
    "allHBLI_wide.columns"
   ]
  },
  {
   "cell_type": "code",
   "execution_count": null,
   "metadata": {},
   "outputs": [],
   "source": [
    "allHBLI_wide.describe()"
   ]
  },
  {
   "cell_type": "markdown",
   "metadata": {},
   "source": [
    "## Scale 'allHBLI_wide' table"
   ]
  },
  {
   "cell_type": "code",
   "execution_count": 50,
   "metadata": {},
   "outputs": [],
   "source": [
    "from sklearn.preprocessing import MinMaxScaler\n",
    "\n",
    "scaler = MinMaxScaler()\n",
    "allHBLI_wide[['AvailableDiskSpace', 'CPUConsumed', 'LoadAverage', \n",
    "             'MemoryUsed', 'RSS','Vsize', 'WallClockTime']] = scaler.fit_transform(allHBLI_wide[['AvailableDiskSpace', \n",
    "                                                                        'CPUConsumed', 'LoadAverage', 'MemoryUsed', \n",
    "                                                                        'RSS','Vsize', 'WallClockTime']])"
   ]
  },
  {
   "cell_type": "code",
   "execution_count": 51,
   "metadata": {},
   "outputs": [],
   "source": [
    "import pickle\n",
    "\n",
    "with open('mega_minmaxscaler.pickle', 'wb') as handle:\n",
    "    pickle.dump(scaler, handle, protocol=pickle.HIGHEST_PROTOCOL)"
   ]
  },
  {
   "cell_type": "code",
   "execution_count": null,
   "metadata": {},
   "outputs": [],
   "source": [
    "allHBLI_wide.describe()"
   ]
  },
  {
   "cell_type": "code",
   "execution_count": 52,
   "metadata": {},
   "outputs": [],
   "source": [
    "allHBLI_wide = allHBLI_wide.reset_index()"
   ]
  },
  {
   "cell_type": "code",
   "execution_count": 53,
   "metadata": {},
   "outputs": [
    {
     "data": {
      "text/plain": [
       "(17572524, 9)"
      ]
     },
     "execution_count": 53,
     "metadata": {},
     "output_type": "execute_result"
    }
   ],
   "source": [
    "allHBLI_wide.shape"
   ]
  },
  {
   "cell_type": "code",
   "execution_count": 54,
   "metadata": {},
   "outputs": [],
   "source": [
    "#########################\n",
    "allHBLI_wide.to_pickle('mega_allHBLI_wide_scaled.pickle')\n",
    "#########################"
   ]
  },
  {
   "cell_type": "code",
   "execution_count": null,
   "metadata": {},
   "outputs": [],
   "source": [
    "with open('large_allHBLI_wide_scaled_4742707by9.pickle', 'rb') as handle:\n",
    "    allHBLI_wide = pickle.load(handle)"
   ]
  },
  {
   "cell_type": "code",
   "execution_count": 55,
   "metadata": {},
   "outputs": [
    {
     "data": {
      "text/plain": [
       "(17572524, 9)"
      ]
     },
     "execution_count": 55,
     "metadata": {},
     "output_type": "execute_result"
    }
   ],
   "source": [
    "allHBLI_wide.shape"
   ]
  },
  {
   "cell_type": "code",
   "execution_count": null,
   "metadata": {},
   "outputs": [],
   "source": [
    "allHBLI_wide.head(2)"
   ]
  },
  {
   "cell_type": "markdown",
   "metadata": {},
   "source": [
    "#### End of HBLI table processing: allHBLI"
   ]
  },
  {
   "cell_type": "markdown",
   "metadata": {},
   "source": [
    "# Process Jobs tables: allJobs"
   ]
  },
  {
   "cell_type": "code",
   "execution_count": 56,
   "metadata": {},
   "outputs": [],
   "source": [
    "dataJobs = allJobs"
   ]
  },
  {
   "cell_type": "code",
   "execution_count": null,
   "metadata": {},
   "outputs": [],
   "source": [
    "dataJobs.describe()"
   ]
  },
  {
   "cell_type": "code",
   "execution_count": 57,
   "metadata": {},
   "outputs": [
    {
     "data": {
      "text/plain": [
       "['JobID',\n",
       " 'JobType',\n",
       " 'DIRACSetup',\n",
       " 'JobGroup',\n",
       " 'JobSplitType',\n",
       " 'MasterJobID',\n",
       " 'Site',\n",
       " 'JobName',\n",
       " 'Owner',\n",
       " 'OwnerDN',\n",
       " 'OwnerGroup',\n",
       " 'SubmissionTime',\n",
       " 'RescheduleTime',\n",
       " 'LastUpdateTime',\n",
       " 'StartExecTime',\n",
       " 'HeartBeatTime',\n",
       " 'EndExecTime',\n",
       " 'Status',\n",
       " 'MinorStatus',\n",
       " 'ApplicationStatus',\n",
       " 'ApplicationNumStatus',\n",
       " 'CPUTime',\n",
       " 'UserPriority',\n",
       " 'SystemPriority',\n",
       " 'RescheduleCounter',\n",
       " 'VerifiedFlag',\n",
       " 'DeletedFlag',\n",
       " 'KilledFlag',\n",
       " 'FailedFlag',\n",
       " 'ISandboxReadyFlag',\n",
       " 'OSandboxReadyFlag',\n",
       " 'RetrievedFlag',\n",
       " 'AccountedFlag']"
      ]
     },
     "execution_count": 57,
     "metadata": {},
     "output_type": "execute_result"
    }
   ],
   "source": [
    "listofcolumns = dataJobs.columns.tolist()\n",
    "listofcolumns"
   ]
  },
  {
   "cell_type": "code",
   "execution_count": 58,
   "metadata": {},
   "outputs": [
    {
     "name": "stdout",
     "output_type": "stream",
     "text": [
      "['JobType', 'DIRACSetup', 'JobGroup', 'JobSplitType', 'MasterJobID', 'Site', 'Owner', 'OwnerDN', 'OwnerGroup', 'Status', 'MinorStatus', 'ApplicationStatus', 'ApplicationNumStatus', 'CPUTime', 'UserPriority', 'SystemPriority', 'RescheduleCounter', 'VerifiedFlag', 'DeletedFlag', 'KilledFlag', 'FailedFlag', 'ISandboxReadyFlag', 'OSandboxReadyFlag', 'RetrievedFlag', 'AccountedFlag']\n"
     ]
    }
   ],
   "source": [
    "removelist = ['JobID','JobName','SubmissionTime', 'RescheduleTime', 'LastUpdateTime', \n",
    "              'StartExecTime', 'HeartBeatTime', 'EndExecTime']\n",
    "\n",
    "for r in removelist:\n",
    "    listofcolumns.remove(r)\n",
    "    \n",
    "print(listofcolumns)"
   ]
  },
  {
   "cell_type": "code",
   "execution_count": 59,
   "metadata": {},
   "outputs": [
    {
     "data": {
      "text/plain": [
       "(1948714, 33)"
      ]
     },
     "execution_count": 59,
     "metadata": {},
     "output_type": "execute_result"
    }
   ],
   "source": [
    "dataJobs.shape"
   ]
  },
  {
   "cell_type": "code",
   "execution_count": 60,
   "metadata": {},
   "outputs": [
    {
     "name": "stdout",
     "output_type": "stream",
     "text": [
      "ISandboxReadyFlag 1\n",
      "SystemPriority 1\n",
      "FailedFlag 1\n",
      "JobSplitType 1\n",
      "DeletedFlag 1\n",
      "MasterJobID 1\n",
      "DIRACSetup 1\n",
      "CPUTime 1\n",
      "RetrievedFlag 1\n",
      "KilledFlag 1\n",
      "OSandboxReadyFlag 1\n",
      "ApplicationNumStatus 1\n",
      "VerifiedFlag 1\n",
      "AccountedFlag 2\n",
      "Status 2\n",
      "Owner 4\n",
      "OwnerGroup 4\n",
      "OwnerDN 5\n",
      "JobType 6\n",
      "UserPriority 10\n",
      "RescheduleCounter 21\n",
      "MinorStatus 30\n",
      "Site 64\n",
      "ApplicationStatus 164\n",
      "JobGroup 3579\n"
     ]
    }
   ],
   "source": [
    "cc = {}\n",
    "\n",
    "for c in listofcolumns:\n",
    "    #print(c)\n",
    "    ll = len(dataJobs[c].unique().tolist())\n",
    "    \n",
    "    if ll > 0:\n",
    "        #print('************ found > limit *')\n",
    "        cc[c]=ll\n",
    "\n",
    "for w in sorted(cc, key=cc.get, reverse=False):\n",
    "  print(w, cc[w])"
   ]
  },
  {
   "cell_type": "code",
   "execution_count": 61,
   "metadata": {},
   "outputs": [],
   "source": [
    "### Decision: let us drop 'MinorStatus' and 'ApplicationStatus' and only predict \n",
    "### the 'Status' column\n",
    "#   LABEL for prediction: only predict the 'Status' column\n",
    "\n",
    "del dataJobs['MinorStatus']\n",
    "del dataJobs['ApplicationStatus']"
   ]
  },
  {
   "cell_type": "code",
   "execution_count": 62,
   "metadata": {},
   "outputs": [
    {
     "name": "stdout",
     "output_type": "stream",
     "text": [
      "ISandboxReadyFlag 1\n",
      "SystemPriority 1\n",
      "FailedFlag 1\n",
      "JobSplitType 1\n",
      "DeletedFlag 1\n",
      "MasterJobID 1\n",
      "DIRACSetup 1\n",
      "CPUTime 1\n",
      "RetrievedFlag 1\n",
      "KilledFlag 1\n",
      "OSandboxReadyFlag 1\n",
      "ApplicationNumStatus 1\n",
      "VerifiedFlag 1\n"
     ]
    }
   ],
   "source": [
    "### Decision: let us drop all columns which have only single state, i.e. no fluctuation\n",
    "\n",
    "for w in sorted(cc, key=cc.get, reverse=False):\n",
    "    if cc[w] == 1:\n",
    "        del dataJobs[w]\n",
    "        print(w, cc[w])"
   ]
  },
  {
   "cell_type": "code",
   "execution_count": 63,
   "metadata": {},
   "outputs": [],
   "source": [
    "del dataJobs['JobName'] #name is not important for prediction"
   ]
  },
  {
   "cell_type": "code",
   "execution_count": 64,
   "metadata": {},
   "outputs": [
    {
     "data": {
      "text/plain": [
       "['JobID',\n",
       " 'JobType',\n",
       " 'JobGroup',\n",
       " 'Site',\n",
       " 'Owner',\n",
       " 'OwnerDN',\n",
       " 'OwnerGroup',\n",
       " 'SubmissionTime',\n",
       " 'RescheduleTime',\n",
       " 'LastUpdateTime',\n",
       " 'StartExecTime',\n",
       " 'HeartBeatTime',\n",
       " 'EndExecTime',\n",
       " 'Status',\n",
       " 'UserPriority',\n",
       " 'RescheduleCounter',\n",
       " 'AccountedFlag']"
      ]
     },
     "execution_count": 64,
     "metadata": {},
     "output_type": "execute_result"
    }
   ],
   "source": [
    "dataJobs.columns.tolist()"
   ]
  },
  {
   "cell_type": "code",
   "execution_count": null,
   "metadata": {},
   "outputs": [],
   "source": [
    "dataJobs[['SubmissionTime',\n",
    " 'RescheduleTime',\n",
    " 'LastUpdateTime',\n",
    " 'StartExecTime',\n",
    " 'HeartBeatTime',\n",
    " 'EndExecTime']][:5]"
   ]
  },
  {
   "cell_type": "code",
   "execution_count": 66,
   "metadata": {},
   "outputs": [],
   "source": [
    "### Decision: Convert times to deltas\n",
    "import numpy as np\n",
    "dataJobs['start_submit'] = (dataJobs['StartExecTime']-dataJobs['SubmissionTime']) / np.timedelta64(1, 'm')\n",
    "dataJobs['hbeat_start']  = (dataJobs['HeartBeatTime']-dataJobs['StartExecTime']) / np.timedelta64(1, 'm')\n",
    "\n",
    "for x in ['SubmissionTime','RescheduleTime','LastUpdateTime','StartExecTime','HeartBeatTime','EndExecTime']:\n",
    "    del dataJobs[x]"
   ]
  },
  {
   "cell_type": "code",
   "execution_count": 67,
   "metadata": {},
   "outputs": [],
   "source": [
    "# Decision: Remove the AccountedFlag at this stage\n",
    "del dataJobs['AccountedFlag']"
   ]
  },
  {
   "cell_type": "code",
   "execution_count": 69,
   "metadata": {},
   "outputs": [
    {
     "data": {
      "text/plain": [
       "Failed    1101447\n",
       "Done       847267\n",
       "Name: Status, dtype: int64"
      ]
     },
     "execution_count": 69,
     "metadata": {},
     "output_type": "execute_result"
    }
   ],
   "source": [
    "dataJobs.Status.value_counts()"
   ]
  },
  {
   "cell_type": "code",
   "execution_count": 70,
   "metadata": {},
   "outputs": [
    {
     "data": {
      "text/plain": [
       "Index(['JobID', 'JobType', 'JobGroup', 'Site', 'Owner', 'OwnerDN',\n",
       "       'OwnerGroup', 'Status', 'UserPriority', 'RescheduleCounter',\n",
       "       'start_submit', 'hbeat_start'],\n",
       "      dtype='object')"
      ]
     },
     "execution_count": 70,
     "metadata": {},
     "output_type": "execute_result"
    }
   ],
   "source": [
    "dataJobs.columns"
   ]
  },
  {
   "cell_type": "code",
   "execution_count": 71,
   "metadata": {},
   "outputs": [
    {
     "data": {
      "text/html": [
       "<div>\n",
       "<style scoped>\n",
       "    .dataframe tbody tr th:only-of-type {\n",
       "        vertical-align: middle;\n",
       "    }\n",
       "\n",
       "    .dataframe tbody tr th {\n",
       "        vertical-align: top;\n",
       "    }\n",
       "\n",
       "    .dataframe thead th {\n",
       "        text-align: right;\n",
       "    }\n",
       "</style>\n",
       "<table border=\"1\" class=\"dataframe\">\n",
       "  <thead>\n",
       "    <tr style=\"text-align: right;\">\n",
       "      <th></th>\n",
       "      <th>JobID</th>\n",
       "      <th>JobType</th>\n",
       "      <th>JobGroup</th>\n",
       "      <th>Site</th>\n",
       "      <th>Owner</th>\n",
       "      <th>OwnerDN</th>\n",
       "      <th>OwnerGroup</th>\n",
       "      <th>Status</th>\n",
       "      <th>UserPriority</th>\n",
       "      <th>RescheduleCounter</th>\n",
       "      <th>start_submit</th>\n",
       "      <th>hbeat_start</th>\n",
       "    </tr>\n",
       "  </thead>\n",
       "  <tbody>\n",
       "    <tr>\n",
       "      <th>0</th>\n",
       "      <td>23140766</td>\n",
       "      <td>MCProductionBGx0</td>\n",
       "      <td>00000757</td>\n",
       "      <td>DIRAC.UAS.mx</td>\n",
       "      <td>dirac</td>\n",
       "      <td>/C=DE/O=GermanGrid/OU=KIT/CN=Robot - grid clie...</td>\n",
       "      <td>belle_mcprod</td>\n",
       "      <td>Failed</td>\n",
       "      <td>0</td>\n",
       "      <td>0</td>\n",
       "      <td>0.866667</td>\n",
       "      <td>9.833333</td>\n",
       "    </tr>\n",
       "    <tr>\n",
       "      <th>1</th>\n",
       "      <td>23141083</td>\n",
       "      <td>MCProductionBGx0</td>\n",
       "      <td>00000758</td>\n",
       "      <td>DIRAC.CINVESTAV.mx</td>\n",
       "      <td>dirac</td>\n",
       "      <td>/C=DE/O=GermanGrid/OU=KIT/CN=Robot - grid clie...</td>\n",
       "      <td>belle_mcprod</td>\n",
       "      <td>Failed</td>\n",
       "      <td>0</td>\n",
       "      <td>0</td>\n",
       "      <td>9.916667</td>\n",
       "      <td>10.433333</td>\n",
       "    </tr>\n",
       "  </tbody>\n",
       "</table>\n",
       "</div>"
      ],
      "text/plain": [
       "      JobID           JobType  JobGroup                Site  Owner  \\\n",
       "0  23140766  MCProductionBGx0  00000757        DIRAC.UAS.mx  dirac   \n",
       "1  23141083  MCProductionBGx0  00000758  DIRAC.CINVESTAV.mx  dirac   \n",
       "\n",
       "                                             OwnerDN    OwnerGroup  Status  \\\n",
       "0  /C=DE/O=GermanGrid/OU=KIT/CN=Robot - grid clie...  belle_mcprod  Failed   \n",
       "1  /C=DE/O=GermanGrid/OU=KIT/CN=Robot - grid clie...  belle_mcprod  Failed   \n",
       "\n",
       "   UserPriority  RescheduleCounter  start_submit  hbeat_start  \n",
       "0             0                  0      0.866667     9.833333  \n",
       "1             0                  0      9.916667    10.433333  "
      ]
     },
     "execution_count": 71,
     "metadata": {},
     "output_type": "execute_result"
    }
   ],
   "source": [
    "dataJobs[:2]"
   ]
  },
  {
   "cell_type": "code",
   "execution_count": 72,
   "metadata": {},
   "outputs": [
    {
     "name": "stdout",
     "output_type": "stream",
     "text": [
      "CPU times: user 1min 36s, sys: 12.2 s, total: 1min 48s\n",
      "Wall time: 1min 48s\n"
     ]
    }
   ],
   "source": [
    "%%time\n",
    "\n",
    "# Make categorical variables:\n",
    "dj_encoded = pd.get_dummies(dataJobs, columns=['JobType','JobGroup','Site','Status','UserPriority'],\n",
    "                           drop_first=True)"
   ]
  },
  {
   "cell_type": "code",
   "execution_count": 73,
   "metadata": {},
   "outputs": [
    {
     "data": {
      "text/plain": [
       "3663"
      ]
     },
     "execution_count": 73,
     "metadata": {},
     "output_type": "execute_result"
    }
   ],
   "source": [
    "len(dj_encoded.columns.tolist())"
   ]
  },
  {
   "cell_type": "code",
   "execution_count": 74,
   "metadata": {},
   "outputs": [
    {
     "data": {
      "text/plain": [
       "['JobID',\n",
       " 'Owner',\n",
       " 'OwnerDN',\n",
       " 'OwnerGroup',\n",
       " 'RescheduleCounter',\n",
       " 'start_submit',\n",
       " 'hbeat_start',\n",
       " 'JobType_MCProduction',\n",
       " 'JobType_MCProductionBGx0',\n",
       " 'JobType_Merge',\n",
       " 'JobType_Test',\n",
       " 'JobType_User',\n",
       " 'JobGroup_00000757',\n",
       " 'JobGroup_00000758',\n",
       " 'JobGroup_00000808',\n",
       " 'JobGroup_00000809',\n",
       " 'JobGroup_00000974',\n",
       " 'JobGroup_00000975',\n",
       " 'JobGroup_00001303',\n",
       " 'JobGroup_00001306',\n",
       " 'JobGroup_00001368',\n",
       " 'JobGroup_00001369',\n",
       " 'JobGroup_00001370',\n",
       " 'JobGroup_00001371',\n",
       " 'JobGroup_00001372',\n",
       " 'JobGroup_00001373',\n",
       " 'JobGroup_00001374',\n",
       " 'JobGroup_00001375',\n",
       " 'JobGroup_00001376',\n",
       " 'JobGroup_00001377',\n",
       " 'JobGroup_00001378',\n",
       " 'JobGroup_00001379',\n",
       " 'JobGroup_00001380',\n",
       " 'JobGroup_00001381',\n",
       " 'JobGroup_00001386',\n",
       " 'JobGroup_00001398',\n",
       " 'JobGroup_00001404',\n",
       " 'JobGroup_00001635',\n",
       " 'JobGroup_00001636',\n",
       " 'JobGroup_00001637',\n",
       " 'JobGroup_00001638',\n",
       " 'JobGroup_00001639',\n",
       " 'JobGroup_00001640',\n",
       " 'JobGroup_00001641',\n",
       " 'JobGroup_00001642',\n",
       " 'JobGroup_00001643',\n",
       " 'JobGroup_00001644',\n",
       " 'JobGroup_00001645',\n",
       " 'JobGroup_00001646',\n",
       " 'JobGroup_00001647',\n",
       " 'JobGroup_00001648',\n",
       " 'JobGroup_00001649',\n",
       " 'JobGroup_00001650',\n",
       " 'JobGroup_00001651',\n",
       " 'JobGroup_00001652',\n",
       " 'JobGroup_00001653',\n",
       " 'JobGroup_00001654',\n",
       " 'JobGroup_00001655',\n",
       " 'JobGroup_00001656',\n",
       " 'JobGroup_00001657',\n",
       " 'JobGroup_00001658',\n",
       " 'JobGroup_00001659',\n",
       " 'JobGroup_00001660',\n",
       " 'JobGroup_00001661',\n",
       " 'JobGroup_00001662',\n",
       " 'JobGroup_00001663',\n",
       " 'JobGroup_00001664',\n",
       " 'JobGroup_00001665',\n",
       " 'JobGroup_00001666',\n",
       " 'JobGroup_00001667',\n",
       " 'JobGroup_00001668',\n",
       " 'JobGroup_00001669',\n",
       " 'JobGroup_00001670',\n",
       " 'JobGroup_00001671',\n",
       " 'JobGroup_00001672',\n",
       " 'JobGroup_00001673',\n",
       " 'JobGroup_00001674',\n",
       " 'JobGroup_00001675',\n",
       " 'JobGroup_00001676',\n",
       " 'JobGroup_00001677',\n",
       " 'JobGroup_00001678',\n",
       " 'JobGroup_00001679',\n",
       " 'JobGroup_00001680',\n",
       " 'JobGroup_00001681',\n",
       " 'JobGroup_00001682',\n",
       " 'JobGroup_00001683',\n",
       " 'JobGroup_00001684',\n",
       " 'JobGroup_00001685',\n",
       " 'JobGroup_00001686',\n",
       " 'JobGroup_00001687',\n",
       " 'JobGroup_00001688',\n",
       " 'JobGroup_00001689',\n",
       " 'JobGroup_00001690',\n",
       " 'JobGroup_00001691',\n",
       " 'JobGroup_00001692',\n",
       " 'JobGroup_00001693',\n",
       " 'JobGroup_00001694',\n",
       " 'JobGroup_00001695',\n",
       " 'JobGroup_00001696',\n",
       " 'JobGroup_00001697',\n",
       " 'JobGroup_00001698',\n",
       " 'JobGroup_00001699',\n",
       " 'JobGroup_00001700',\n",
       " 'JobGroup_00001701',\n",
       " 'JobGroup_00001702',\n",
       " 'JobGroup_00001703',\n",
       " 'JobGroup_00001704',\n",
       " 'JobGroup_00001705',\n",
       " 'JobGroup_00001706',\n",
       " 'JobGroup_00001707',\n",
       " 'JobGroup_00001708',\n",
       " 'JobGroup_00001709',\n",
       " 'JobGroup_00001710',\n",
       " 'JobGroup_00001711',\n",
       " 'JobGroup_00001712',\n",
       " 'JobGroup_00001713',\n",
       " 'JobGroup_00001714',\n",
       " 'JobGroup_00001715',\n",
       " 'JobGroup_00001716',\n",
       " 'JobGroup_00001717',\n",
       " 'JobGroup_00001718',\n",
       " 'JobGroup_00001719',\n",
       " 'JobGroup_00001720',\n",
       " 'JobGroup_00001721',\n",
       " 'JobGroup_00001722',\n",
       " 'JobGroup_00001723',\n",
       " 'JobGroup_00001724',\n",
       " 'JobGroup_00001725',\n",
       " 'JobGroup_00001726',\n",
       " 'JobGroup_00001727',\n",
       " 'JobGroup_00001728',\n",
       " 'JobGroup_00001729',\n",
       " 'JobGroup_00001730',\n",
       " 'JobGroup_00001731',\n",
       " 'JobGroup_00001732',\n",
       " 'JobGroup_00001733',\n",
       " 'JobGroup_00001734',\n",
       " 'JobGroup_00001735',\n",
       " 'JobGroup_00001736',\n",
       " 'JobGroup_00001737',\n",
       " 'JobGroup_00001738',\n",
       " 'JobGroup_00001739',\n",
       " 'JobGroup_00001740',\n",
       " 'JobGroup_00001741',\n",
       " 'JobGroup_00001742',\n",
       " 'JobGroup_00001743',\n",
       " 'JobGroup_00001744',\n",
       " 'JobGroup_00001745',\n",
       " 'JobGroup_00001746',\n",
       " 'JobGroup_00001747',\n",
       " 'JobGroup_00001748',\n",
       " 'JobGroup_00001749',\n",
       " 'JobGroup_00001750',\n",
       " 'JobGroup_00001751',\n",
       " 'JobGroup_00001752',\n",
       " 'JobGroup_00001753',\n",
       " 'JobGroup_00001754',\n",
       " 'JobGroup_00001755',\n",
       " 'JobGroup_00001756',\n",
       " 'JobGroup_00001757',\n",
       " 'JobGroup_00001758',\n",
       " 'JobGroup_00001759',\n",
       " 'JobGroup_00001760',\n",
       " 'JobGroup_00001761',\n",
       " 'JobGroup_00001762',\n",
       " 'JobGroup_00001763',\n",
       " 'JobGroup_00001764',\n",
       " 'JobGroup_00001765',\n",
       " 'JobGroup_00001766',\n",
       " 'JobGroup_00001767',\n",
       " 'JobGroup_00001768',\n",
       " 'JobGroup_00001769',\n",
       " 'JobGroup_00001770',\n",
       " 'JobGroup_00001771',\n",
       " 'JobGroup_00001772',\n",
       " 'JobGroup_00001773',\n",
       " 'JobGroup_00001774',\n",
       " 'JobGroup_00001775',\n",
       " 'JobGroup_00001776',\n",
       " 'JobGroup_00001777',\n",
       " 'JobGroup_00001778',\n",
       " 'JobGroup_00001779',\n",
       " 'JobGroup_00001780',\n",
       " 'JobGroup_00001781',\n",
       " 'JobGroup_00001782',\n",
       " 'JobGroup_00001783',\n",
       " 'JobGroup_00001784',\n",
       " 'JobGroup_00001785',\n",
       " 'JobGroup_00001786',\n",
       " 'JobGroup_00001787',\n",
       " 'JobGroup_00001788',\n",
       " 'JobGroup_00001789',\n",
       " 'JobGroup_00001790',\n",
       " 'JobGroup_00001791',\n",
       " 'JobGroup_00001792',\n",
       " 'JobGroup_00001793',\n",
       " 'JobGroup_00001794',\n",
       " 'JobGroup_00001795',\n",
       " 'JobGroup_00001796',\n",
       " 'JobGroup_00001797',\n",
       " 'JobGroup_00001798',\n",
       " 'JobGroup_00001799',\n",
       " 'JobGroup_00001800',\n",
       " 'JobGroup_00001801',\n",
       " 'JobGroup_00001802',\n",
       " 'JobGroup_00001803',\n",
       " 'JobGroup_00001804',\n",
       " 'JobGroup_00001805',\n",
       " 'JobGroup_00001806',\n",
       " 'JobGroup_00001807',\n",
       " 'JobGroup_00001808',\n",
       " 'JobGroup_00001809',\n",
       " 'JobGroup_00001810',\n",
       " 'JobGroup_00001811',\n",
       " 'JobGroup_00001812',\n",
       " 'JobGroup_00001813',\n",
       " 'JobGroup_00001814',\n",
       " 'JobGroup_00001815',\n",
       " 'JobGroup_00001816',\n",
       " 'JobGroup_00001817',\n",
       " 'JobGroup_00001818',\n",
       " 'JobGroup_00001819',\n",
       " 'JobGroup_00001820',\n",
       " 'JobGroup_00001821',\n",
       " 'JobGroup_00001822',\n",
       " 'JobGroup_00001823',\n",
       " 'JobGroup_00001824',\n",
       " 'JobGroup_00001825',\n",
       " 'JobGroup_00001826',\n",
       " 'JobGroup_00001827',\n",
       " 'JobGroup_00001828',\n",
       " 'JobGroup_00001829',\n",
       " 'JobGroup_00001830',\n",
       " 'JobGroup_00001831',\n",
       " 'JobGroup_00001832',\n",
       " 'JobGroup_00001833',\n",
       " 'JobGroup_00001834',\n",
       " 'JobGroup_00001836',\n",
       " 'JobGroup_00001837',\n",
       " 'JobGroup_00001838',\n",
       " 'JobGroup_00001839',\n",
       " 'JobGroup_00001840',\n",
       " 'JobGroup_00001841',\n",
       " 'JobGroup_00001842',\n",
       " 'JobGroup_00001844',\n",
       " 'JobGroup_00001845',\n",
       " 'JobGroup_00001846',\n",
       " 'JobGroup_00001847',\n",
       " 'JobGroup_00001849',\n",
       " 'JobGroup_00001850',\n",
       " 'JobGroup_00001853',\n",
       " 'JobGroup_00001854',\n",
       " 'JobGroup_00001856',\n",
       " 'JobGroup_00001857',\n",
       " 'JobGroup_00001858',\n",
       " 'JobGroup_00001859',\n",
       " 'JobGroup_00001860',\n",
       " 'JobGroup_00001861',\n",
       " 'JobGroup_00001863',\n",
       " 'JobGroup_00001864',\n",
       " 'JobGroup_00001865',\n",
       " 'JobGroup_00001866',\n",
       " 'JobGroup_00001868',\n",
       " 'JobGroup_00001871',\n",
       " 'JobGroup_00001872',\n",
       " 'JobGroup_00001914',\n",
       " 'JobGroup_00001916',\n",
       " 'JobGroup_00001917',\n",
       " 'JobGroup_00001919',\n",
       " 'JobGroup_00001920',\n",
       " 'JobGroup_00001921',\n",
       " 'JobGroup_00001922',\n",
       " 'JobGroup_00001923',\n",
       " 'JobGroup_00001924',\n",
       " 'JobGroup_00001925',\n",
       " 'JobGroup_00001926',\n",
       " 'JobGroup_00001927',\n",
       " 'JobGroup_00001929',\n",
       " 'JobGroup_00001931',\n",
       " 'JobGroup_00001935',\n",
       " 'JobGroup_00001936',\n",
       " 'JobGroup_00001937',\n",
       " 'JobGroup_00001939',\n",
       " 'JobGroup_00001940',\n",
       " 'JobGroup_00001941',\n",
       " 'JobGroup_00001942',\n",
       " 'JobGroup_00001943',\n",
       " 'JobGroup_00001944',\n",
       " 'JobGroup_00001945',\n",
       " 'JobGroup_00001946',\n",
       " 'JobGroup_00001947',\n",
       " 'JobGroup_00001948',\n",
       " 'JobGroup_00001949',\n",
       " 'JobGroup_00001950',\n",
       " 'JobGroup_00001951',\n",
       " 'JobGroup_00001952',\n",
       " 'JobGroup_00001953',\n",
       " 'JobGroup_00001954',\n",
       " 'JobGroup_00001955',\n",
       " 'JobGroup_00001956',\n",
       " 'JobGroup_00001957',\n",
       " 'JobGroup_00001958',\n",
       " 'JobGroup_00001959',\n",
       " 'JobGroup_00001960',\n",
       " 'JobGroup_00001961',\n",
       " 'JobGroup_00001962',\n",
       " 'JobGroup_00001963',\n",
       " 'JobGroup_00001964',\n",
       " 'JobGroup_00001965',\n",
       " 'JobGroup_00001966',\n",
       " 'JobGroup_00001967',\n",
       " 'JobGroup_00001968',\n",
       " 'JobGroup_00001969',\n",
       " 'JobGroup_00001970',\n",
       " 'JobGroup_00001971',\n",
       " 'JobGroup_00001973',\n",
       " 'JobGroup_00001974',\n",
       " 'JobGroup_00001975',\n",
       " 'JobGroup_00001976',\n",
       " 'JobGroup_00001984',\n",
       " 'JobGroup_00001988',\n",
       " 'JobGroup_00001990',\n",
       " 'JobGroup_00001992',\n",
       " 'JobGroup_00001994',\n",
       " 'JobGroup_00001996',\n",
       " 'JobGroup_00001998',\n",
       " 'JobGroup_00002000',\n",
       " 'JobGroup_00002007',\n",
       " 'JobGroup_00002008',\n",
       " 'JobGroup_00002009',\n",
       " 'JobGroup_00002010',\n",
       " 'JobGroup_00002011',\n",
       " 'JobGroup_00002012',\n",
       " 'JobGroup_00002014',\n",
       " 'JobGroup_00002015',\n",
       " 'JobGroup_00002016',\n",
       " 'JobGroup_00002017',\n",
       " 'JobGroup_00002018',\n",
       " 'JobGroup_00002019',\n",
       " 'JobGroup_00002020',\n",
       " 'JobGroup_00002021',\n",
       " 'JobGroup_00002022',\n",
       " 'JobGroup_00002025',\n",
       " 'JobGroup_00002026',\n",
       " 'JobGroup_00002027',\n",
       " 'JobGroup_00002028',\n",
       " 'JobGroup_00002029',\n",
       " 'JobGroup_00002030',\n",
       " 'JobGroup_00002031',\n",
       " 'JobGroup_00002032',\n",
       " 'JobGroup_00002033',\n",
       " 'JobGroup_00002034',\n",
       " 'JobGroup_00002035',\n",
       " 'JobGroup_00002036',\n",
       " 'JobGroup_00002037',\n",
       " 'JobGroup_00002038',\n",
       " 'JobGroup_00002040',\n",
       " 'JobGroup_00002041',\n",
       " 'JobGroup_00002042',\n",
       " 'JobGroup_00002043',\n",
       " 'JobGroup_00002044',\n",
       " 'JobGroup_00002045',\n",
       " 'JobGroup_00002046',\n",
       " 'JobGroup_00002047',\n",
       " 'JobGroup_00002048',\n",
       " 'JobGroup_00002049',\n",
       " 'JobGroup_00002050',\n",
       " 'JobGroup_00002051',\n",
       " 'JobGroup_00002052',\n",
       " 'JobGroup_00002053',\n",
       " 'JobGroup_00002054',\n",
       " 'JobGroup_00002055',\n",
       " 'JobGroup_00002056',\n",
       " 'JobGroup_00002057',\n",
       " 'JobGroup_00002058',\n",
       " 'JobGroup_00002059',\n",
       " 'JobGroup_00002060',\n",
       " 'JobGroup_00002061',\n",
       " 'JobGroup_00002062',\n",
       " 'JobGroup_00002063',\n",
       " 'JobGroup_00002064',\n",
       " 'JobGroup_00002065',\n",
       " 'JobGroup_00002066',\n",
       " 'JobGroup_00002067',\n",
       " 'JobGroup_00002068',\n",
       " 'JobGroup_00002069',\n",
       " 'JobGroup_00002070',\n",
       " 'JobGroup_00002071',\n",
       " 'JobGroup_00002072',\n",
       " 'JobGroup_00002073',\n",
       " 'JobGroup_00002074',\n",
       " 'JobGroup_00002075',\n",
       " 'JobGroup_00002076',\n",
       " 'JobGroup_00002077',\n",
       " 'JobGroup_00002078',\n",
       " 'JobGroup_00002079',\n",
       " 'JobGroup_00002080',\n",
       " 'JobGroup_00002081',\n",
       " 'JobGroup_00002082',\n",
       " 'JobGroup_00002083',\n",
       " 'JobGroup_00002084',\n",
       " 'JobGroup_00002085',\n",
       " 'JobGroup_00002086',\n",
       " 'JobGroup_00002087',\n",
       " 'JobGroup_00002088',\n",
       " 'JobGroup_00002089',\n",
       " 'JobGroup_00002090',\n",
       " 'JobGroup_00002091',\n",
       " 'JobGroup_00002092',\n",
       " 'JobGroup_00002093',\n",
       " 'JobGroup_00002094',\n",
       " 'JobGroup_00002095',\n",
       " 'JobGroup_00002096',\n",
       " 'JobGroup_00002097',\n",
       " 'JobGroup_00002099',\n",
       " 'JobGroup_00002100',\n",
       " 'JobGroup_00002102',\n",
       " 'JobGroup_00002103',\n",
       " 'JobGroup_00002104',\n",
       " 'JobGroup_00002105',\n",
       " 'JobGroup_00002106',\n",
       " 'JobGroup_00002110',\n",
       " 'JobGroup_00002111',\n",
       " 'JobGroup_00002112',\n",
       " 'JobGroup_00002115',\n",
       " 'JobGroup_00002121',\n",
       " 'JobGroup_00002124',\n",
       " 'JobGroup_00002125',\n",
       " 'JobGroup_00002126',\n",
       " 'JobGroup_00002127',\n",
       " 'JobGroup_00002128',\n",
       " 'JobGroup_00002129',\n",
       " 'JobGroup_00002130',\n",
       " 'JobGroup_00002131',\n",
       " 'JobGroup_00002132',\n",
       " 'JobGroup_00002133',\n",
       " 'JobGroup_00002134',\n",
       " 'JobGroup_00002135',\n",
       " 'JobGroup_00002136',\n",
       " 'JobGroup_00002137',\n",
       " 'JobGroup_00002138',\n",
       " 'JobGroup_00002139',\n",
       " 'JobGroup_00002140',\n",
       " 'JobGroup_00002141',\n",
       " 'JobGroup_00002142',\n",
       " 'JobGroup_00002143',\n",
       " 'JobGroup_00002144',\n",
       " 'JobGroup_00002145',\n",
       " 'JobGroup_00002146',\n",
       " 'JobGroup_00002147',\n",
       " 'JobGroup_00002148',\n",
       " 'JobGroup_00002149',\n",
       " 'JobGroup_00002150',\n",
       " 'JobGroup_00002151',\n",
       " 'JobGroup_00002152',\n",
       " 'JobGroup_00002153',\n",
       " 'JobGroup_00002154',\n",
       " 'JobGroup_00002155',\n",
       " 'JobGroup_00002156',\n",
       " 'JobGroup_00002157',\n",
       " 'JobGroup_00002158',\n",
       " 'JobGroup_00002159',\n",
       " 'JobGroup_00002160',\n",
       " 'JobGroup_00002161',\n",
       " 'JobGroup_00002162',\n",
       " 'JobGroup_00002163',\n",
       " 'JobGroup_00002164',\n",
       " 'JobGroup_00002165',\n",
       " 'JobGroup_00002166',\n",
       " 'JobGroup_00002167',\n",
       " 'JobGroup_00002168',\n",
       " 'JobGroup_00002169',\n",
       " 'JobGroup_00002170',\n",
       " 'JobGroup_00002171',\n",
       " 'JobGroup_00002172',\n",
       " 'JobGroup_00002173',\n",
       " 'JobGroup_00002174',\n",
       " 'JobGroup_00002175',\n",
       " 'JobGroup_00002176',\n",
       " 'JobGroup_00002177',\n",
       " 'JobGroup_00002178',\n",
       " 'JobGroup_00002179',\n",
       " 'JobGroup_00002181',\n",
       " 'JobGroup_00002182',\n",
       " 'JobGroup_00002183',\n",
       " 'JobGroup_00002184',\n",
       " 'JobGroup_00002185',\n",
       " 'JobGroup_00002187',\n",
       " 'JobGroup_00002188',\n",
       " 'JobGroup_00002190',\n",
       " 'JobGroup_00002191',\n",
       " 'JobGroup_00002192',\n",
       " 'JobGroup_00002193',\n",
       " 'JobGroup_00002194',\n",
       " 'JobGroup_00002195',\n",
       " 'JobGroup_00002196',\n",
       " 'JobGroup_00002197',\n",
       " 'JobGroup_00002199',\n",
       " 'JobGroup_00002200',\n",
       " 'JobGroup_00002202',\n",
       " 'JobGroup_00002203',\n",
       " 'JobGroup_00002205',\n",
       " 'JobGroup_00002207',\n",
       " 'JobGroup_00002208',\n",
       " 'JobGroup_00002211',\n",
       " 'JobGroup_00002212',\n",
       " 'JobGroup_00002213',\n",
       " 'JobGroup_00002214',\n",
       " 'JobGroup_00002215',\n",
       " 'JobGroup_00002217',\n",
       " 'JobGroup_00002218',\n",
       " 'JobGroup_00002219',\n",
       " 'JobGroup_00002220',\n",
       " 'JobGroup_00002221',\n",
       " 'JobGroup_00002223',\n",
       " 'JobGroup_00002224',\n",
       " 'JobGroup_00002225',\n",
       " 'JobGroup_00002226',\n",
       " 'JobGroup_00002227',\n",
       " 'JobGroup_00002229',\n",
       " 'JobGroup_00002230',\n",
       " 'JobGroup_00002232',\n",
       " 'JobGroup_00002234',\n",
       " 'JobGroup_00002235',\n",
       " 'JobGroup_00002236',\n",
       " 'JobGroup_00002238',\n",
       " 'JobGroup_00002239',\n",
       " 'JobGroup_00002241',\n",
       " 'JobGroup_00002242',\n",
       " 'JobGroup_00002244',\n",
       " 'JobGroup_00002245',\n",
       " 'JobGroup_00002247',\n",
       " 'JobGroup_00002248',\n",
       " 'JobGroup_00002249',\n",
       " 'JobGroup_00002250',\n",
       " 'JobGroup_00002251',\n",
       " 'JobGroup_00002253',\n",
       " 'JobGroup_00002254',\n",
       " 'JobGroup_00002255',\n",
       " 'JobGroup_00002256',\n",
       " 'JobGroup_00002257',\n",
       " 'JobGroup_00002259',\n",
       " 'JobGroup_00002260',\n",
       " 'JobGroup_00002261',\n",
       " 'JobGroup_00002262',\n",
       " 'JobGroup_00002263',\n",
       " 'JobGroup_00002264',\n",
       " 'JobGroup_00002265',\n",
       " 'JobGroup_00002266',\n",
       " 'JobGroup_00002267',\n",
       " 'JobGroup_00002268',\n",
       " 'JobGroup_00002269',\n",
       " 'JobGroup_00002270',\n",
       " 'JobGroup_00002271',\n",
       " 'JobGroup_00002272',\n",
       " 'JobGroup_00002273',\n",
       " 'JobGroup_00002274',\n",
       " 'JobGroup_00002275',\n",
       " 'JobGroup_00002276',\n",
       " 'JobGroup_00002277',\n",
       " 'JobGroup_00002278',\n",
       " 'JobGroup_00002279',\n",
       " 'JobGroup_00002280',\n",
       " 'JobGroup_00002281',\n",
       " 'JobGroup_00002282',\n",
       " 'JobGroup_00002283',\n",
       " 'JobGroup_00002284',\n",
       " 'JobGroup_00002285',\n",
       " 'JobGroup_00002286',\n",
       " 'JobGroup_00002287',\n",
       " 'JobGroup_00002288',\n",
       " 'JobGroup_00002289',\n",
       " 'JobGroup_00002290',\n",
       " 'JobGroup_00002291',\n",
       " 'JobGroup_00002292',\n",
       " 'JobGroup_00002293',\n",
       " 'JobGroup_00002294',\n",
       " 'JobGroup_00002295',\n",
       " 'JobGroup_00002296',\n",
       " 'JobGroup_00002297',\n",
       " 'JobGroup_00002298',\n",
       " 'JobGroup_00002299',\n",
       " 'JobGroup_00002300',\n",
       " 'JobGroup_00002301',\n",
       " 'JobGroup_00002302',\n",
       " 'JobGroup_00002303',\n",
       " 'JobGroup_00002304',\n",
       " 'JobGroup_00002305',\n",
       " 'JobGroup_00002306',\n",
       " 'JobGroup_00002307',\n",
       " 'JobGroup_00002308',\n",
       " 'JobGroup_00002309',\n",
       " 'JobGroup_00002310',\n",
       " 'JobGroup_00002311',\n",
       " 'JobGroup_00002312',\n",
       " 'JobGroup_00002313',\n",
       " 'JobGroup_00002314',\n",
       " 'JobGroup_00002315',\n",
       " 'JobGroup_00002316',\n",
       " 'JobGroup_00002317',\n",
       " 'JobGroup_00002318',\n",
       " 'JobGroup_00002319',\n",
       " 'JobGroup_00002320',\n",
       " 'JobGroup_00002321',\n",
       " 'JobGroup_00002322',\n",
       " 'JobGroup_00002323',\n",
       " 'JobGroup_00002324',\n",
       " 'JobGroup_00002325',\n",
       " 'JobGroup_00002326',\n",
       " 'JobGroup_00002327',\n",
       " 'JobGroup_00002328',\n",
       " 'JobGroup_00002329',\n",
       " 'JobGroup_00002330',\n",
       " 'JobGroup_00002331',\n",
       " 'JobGroup_00002332',\n",
       " 'JobGroup_00002333',\n",
       " 'JobGroup_00002334',\n",
       " 'JobGroup_00002335',\n",
       " 'JobGroup_00002336',\n",
       " 'JobGroup_00002337',\n",
       " 'JobGroup_00002338',\n",
       " 'JobGroup_00002339',\n",
       " 'JobGroup_00002340',\n",
       " 'JobGroup_00002341',\n",
       " 'JobGroup_00002342',\n",
       " 'JobGroup_00002343',\n",
       " 'JobGroup_00002344',\n",
       " 'JobGroup_00002345',\n",
       " 'JobGroup_00002346',\n",
       " 'JobGroup_00002347',\n",
       " 'JobGroup_00002348',\n",
       " 'JobGroup_00002349',\n",
       " 'JobGroup_00002350',\n",
       " 'JobGroup_00002351',\n",
       " 'JobGroup_00002352',\n",
       " 'JobGroup_00002353',\n",
       " 'JobGroup_00002354',\n",
       " 'JobGroup_00002355',\n",
       " 'JobGroup_00002356',\n",
       " 'JobGroup_00002357',\n",
       " 'JobGroup_00002358',\n",
       " 'JobGroup_00002359',\n",
       " 'JobGroup_00002360',\n",
       " 'JobGroup_00002361',\n",
       " 'JobGroup_00002362',\n",
       " 'JobGroup_00002363',\n",
       " 'JobGroup_00002364',\n",
       " 'JobGroup_00002365',\n",
       " 'JobGroup_00002366',\n",
       " 'JobGroup_00002367',\n",
       " 'JobGroup_00002368',\n",
       " 'JobGroup_00002369',\n",
       " 'JobGroup_00002370',\n",
       " 'JobGroup_00002371',\n",
       " 'JobGroup_00002372',\n",
       " 'JobGroup_00002373',\n",
       " 'JobGroup_00002374',\n",
       " 'JobGroup_00002375',\n",
       " 'JobGroup_00002376',\n",
       " 'JobGroup_00002377',\n",
       " 'JobGroup_00002379',\n",
       " 'JobGroup_00002380',\n",
       " 'JobGroup_00002382',\n",
       " 'JobGroup_00002383',\n",
       " 'JobGroup_00002388',\n",
       " 'JobGroup_00002391',\n",
       " 'JobGroup_00002393',\n",
       " 'JobGroup_00002397',\n",
       " 'JobGroup_00002403',\n",
       " 'JobGroup_00002406',\n",
       " 'JobGroup_00002413',\n",
       " 'JobGroup_00002415',\n",
       " 'JobGroup_00002416',\n",
       " 'JobGroup_00002427',\n",
       " 'JobGroup_00002428',\n",
       " 'JobGroup_00002430',\n",
       " 'JobGroup_00002433',\n",
       " 'JobGroup_00002439',\n",
       " 'JobGroup_00002445',\n",
       " 'JobGroup_00002451',\n",
       " 'JobGroup_00002457',\n",
       " 'JobGroup_00002458',\n",
       " 'JobGroup_00002460',\n",
       " 'JobGroup_00002469',\n",
       " 'JobGroup_00002475',\n",
       " 'JobGroup_00002481',\n",
       " 'JobGroup_00002482',\n",
       " 'JobGroup_00002487',\n",
       " 'JobGroup_00002488',\n",
       " 'JobGroup_00002493',\n",
       " 'JobGroup_00002499',\n",
       " 'JobGroup_00002505',\n",
       " 'JobGroup_00002509',\n",
       " 'JobGroup_00002511',\n",
       " 'JobGroup_00002514',\n",
       " 'JobGroup_00002517',\n",
       " 'JobGroup_00002523',\n",
       " 'JobGroup_00002524',\n",
       " 'JobGroup_00002529',\n",
       " 'JobGroup_00002533',\n",
       " 'JobGroup_00002535',\n",
       " 'JobGroup_00002540',\n",
       " 'JobGroup_00002544',\n",
       " 'JobGroup_00002547',\n",
       " 'JobGroup_00002551',\n",
       " 'JobGroup_00002553',\n",
       " 'JobGroup_00002559',\n",
       " 'JobGroup_00002560',\n",
       " 'JobGroup_00002565',\n",
       " 'JobGroup_00002583',\n",
       " 'JobGroup_00002586',\n",
       " 'JobGroup_00002589',\n",
       " 'JobGroup_00002595',\n",
       " 'JobGroup_00002596',\n",
       " 'JobGroup_00002601',\n",
       " 'JobGroup_00002603',\n",
       " 'JobGroup_00002607',\n",
       " 'JobGroup_00002613',\n",
       " 'JobGroup_00002616',\n",
       " 'JobGroup_00002625',\n",
       " 'JobGroup_00002628',\n",
       " 'JobGroup_00002629',\n",
       " 'JobGroup_00002631',\n",
       " 'JobGroup_00002651',\n",
       " 'JobGroup_00002655',\n",
       " 'JobGroup_00002661',\n",
       " 'JobGroup_00002673',\n",
       " 'JobGroup_00002674',\n",
       " 'JobGroup_00002676',\n",
       " 'JobGroup_00002679',\n",
       " 'JobGroup_00002680',\n",
       " 'JobGroup_00002685',\n",
       " 'JobGroup_00002686',\n",
       " 'JobGroup_00002687',\n",
       " 'JobGroup_00002692',\n",
       " 'JobGroup_00002693',\n",
       " 'JobGroup_00002694',\n",
       " 'JobGroup_00002697',\n",
       " 'JobGroup_00002700',\n",
       " 'JobGroup_00002703',\n",
       " 'JobGroup_00002705',\n",
       " 'JobGroup_00002716',\n",
       " 'JobGroup_00002721',\n",
       " 'JobGroup_00002722',\n",
       " 'JobGroup_00002728',\n",
       " 'JobGroup_00002732',\n",
       " 'JobGroup_00002733',\n",
       " 'JobGroup_00002739',\n",
       " 'JobGroup_00002745',\n",
       " 'JobGroup_00002748',\n",
       " 'JobGroup_00002751',\n",
       " 'JobGroup_00002754',\n",
       " 'JobGroup_00002755',\n",
       " 'JobGroup_00002758',\n",
       " 'JobGroup_00002763',\n",
       " 'JobGroup_00002775',\n",
       " 'JobGroup_00002776',\n",
       " 'JobGroup_00002778',\n",
       " 'JobGroup_00002780',\n",
       " 'JobGroup_00002782',\n",
       " 'JobGroup_00002783',\n",
       " 'JobGroup_00002784',\n",
       " 'JobGroup_00002787',\n",
       " 'JobGroup_00002799',\n",
       " 'JobGroup_00002811',\n",
       " 'JobGroup_00002814',\n",
       " 'JobGroup_00002817',\n",
       " 'JobGroup_00002820',\n",
       " 'JobGroup_00002821',\n",
       " 'JobGroup_00002823',\n",
       " 'JobGroup_00002829',\n",
       " 'JobGroup_00002835',\n",
       " 'JobGroup_00002838',\n",
       " 'JobGroup_00002841',\n",
       " 'JobGroup_00002842',\n",
       " 'JobGroup_00002844',\n",
       " 'JobGroup_00002853',\n",
       " 'JobGroup_00002858',\n",
       " 'JobGroup_00002859',\n",
       " 'JobGroup_00002866',\n",
       " 'JobGroup_00002868',\n",
       " 'JobGroup_00002871',\n",
       " 'JobGroup_00002877',\n",
       " 'JobGroup_00002880',\n",
       " 'JobGroup_00002883',\n",
       " 'JobGroup_00002886',\n",
       " 'JobGroup_00002889',\n",
       " 'JobGroup_00002890',\n",
       " 'JobGroup_00002895',\n",
       " 'JobGroup_00002901',\n",
       " 'JobGroup_00002907',\n",
       " 'JobGroup_00002919',\n",
       " 'JobGroup_00002925',\n",
       " 'JobGroup_00002931',\n",
       " 'JobGroup_00002938',\n",
       " 'JobGroup_00002944',\n",
       " 'JobGroup_00002949',\n",
       " 'JobGroup_00002955',\n",
       " 'JobGroup_00002956',\n",
       " 'JobGroup_00002957',\n",
       " 'JobGroup_00002958',\n",
       " 'JobGroup_00002959',\n",
       " 'JobGroup_00002960',\n",
       " 'JobGroup_00002961',\n",
       " 'JobGroup_00002962',\n",
       " 'JobGroup_00002963',\n",
       " 'JobGroup_00002964',\n",
       " 'JobGroup_00002965',\n",
       " 'JobGroup_00002966',\n",
       " 'JobGroup_00002967',\n",
       " 'JobGroup_00002968',\n",
       " 'JobGroup_00002969',\n",
       " 'JobGroup_00002970',\n",
       " 'JobGroup_00002971',\n",
       " 'JobGroup_00002972',\n",
       " 'JobGroup_00002974',\n",
       " 'JobGroup_00002975',\n",
       " 'JobGroup_00002977',\n",
       " 'JobGroup_00002978',\n",
       " 'JobGroup_00002979',\n",
       " 'JobGroup_00002980',\n",
       " 'JobGroup_00002981',\n",
       " 'JobGroup_00002983',\n",
       " 'JobGroup_00002984',\n",
       " 'JobGroup_00002985',\n",
       " 'JobGroup_00002986',\n",
       " 'JobGroup_00002989',\n",
       " 'JobGroup_00002990',\n",
       " 'JobGroup_00002992',\n",
       " 'JobGroup_00002995',\n",
       " 'JobGroup_00002998',\n",
       " 'JobGroup_00003012',\n",
       " 'JobGroup_00003019',\n",
       " 'JobGroup_00003032',\n",
       " 'JobGroup_00003037',\n",
       " 'JobGroup_00003049',\n",
       " 'JobGroup_00003052',\n",
       " 'JobGroup_00003057',\n",
       " 'JobGroup_00003058',\n",
       " 'JobGroup_00003060',\n",
       " 'JobGroup_00003073',\n",
       " 'JobGroup_00003074',\n",
       " 'JobGroup_00003076',\n",
       " 'JobGroup_00003079',\n",
       " 'JobGroup_00003080',\n",
       " 'JobGroup_00003084',\n",
       " 'JobGroup_00003099',\n",
       " 'JobGroup_00003107',\n",
       " 'JobGroup_00003142',\n",
       " 'JobGroup_00003150',\n",
       " 'JobGroup_00003151',\n",
       " 'JobGroup_00003153',\n",
       " 'JobGroup_00003160',\n",
       " 'JobGroup_00003168',\n",
       " 'JobGroup_00003172',\n",
       " 'JobGroup_00003173',\n",
       " 'JobGroup_00003187',\n",
       " 'JobGroup_00003214',\n",
       " 'JobGroup_00003226',\n",
       " 'JobGroup_00003229',\n",
       " 'JobGroup_00003235',\n",
       " 'JobGroup_00003247',\n",
       " 'JobGroup_00003264',\n",
       " 'JobGroup_00003269',\n",
       " 'JobGroup_00003277',\n",
       " 'JobGroup_00003284',\n",
       " 'JobGroup_00003286',\n",
       " 'JobGroup_00003287',\n",
       " 'JobGroup_00003288',\n",
       " 'JobGroup_00003289',\n",
       " 'JobGroup_00003290',\n",
       " 'JobGroup_00003291',\n",
       " 'JobGroup_00003292',\n",
       " 'JobGroup_00003293',\n",
       " 'JobGroup_00003294',\n",
       " 'JobGroup_00003295',\n",
       " 'JobGroup_00003296',\n",
       " 'JobGroup_00003297',\n",
       " 'JobGroup_00003298',\n",
       " 'JobGroup_00003299',\n",
       " 'JobGroup_00003300',\n",
       " 'JobGroup_00003301',\n",
       " 'JobGroup_00003302',\n",
       " 'JobGroup_00003303',\n",
       " 'JobGroup_00003304',\n",
       " 'JobGroup_00003305',\n",
       " 'JobGroup_00003306',\n",
       " 'JobGroup_00003307',\n",
       " 'JobGroup_00003310',\n",
       " 'JobGroup_00003311',\n",
       " 'JobGroup_00003312',\n",
       " 'JobGroup_00003313',\n",
       " 'JobGroup_00003314',\n",
       " 'JobGroup_00003315',\n",
       " 'JobGroup_00003316',\n",
       " 'JobGroup_00003317',\n",
       " 'JobGroup_00003318',\n",
       " 'JobGroup_00003319',\n",
       " 'JobGroup_00003320',\n",
       " 'JobGroup_00003321',\n",
       " 'JobGroup_00003322',\n",
       " 'JobGroup_00003323',\n",
       " 'JobGroup_00003324',\n",
       " 'JobGroup_00003325',\n",
       " 'JobGroup_00003326',\n",
       " 'JobGroup_00003327',\n",
       " 'JobGroup_00003328',\n",
       " 'JobGroup_00003329',\n",
       " 'JobGroup_00003330',\n",
       " 'JobGroup_00003331',\n",
       " 'JobGroup_00003332',\n",
       " 'JobGroup_00003333',\n",
       " 'JobGroup_00003334',\n",
       " 'JobGroup_00003335',\n",
       " 'JobGroup_00003336',\n",
       " 'JobGroup_00003337',\n",
       " 'JobGroup_00003338',\n",
       " 'JobGroup_00003339',\n",
       " 'JobGroup_00003340',\n",
       " 'JobGroup_00003341',\n",
       " 'JobGroup_00003342',\n",
       " 'JobGroup_00003343',\n",
       " 'JobGroup_00003344',\n",
       " 'JobGroup_00003345',\n",
       " 'JobGroup_00003346',\n",
       " 'JobGroup_00003347',\n",
       " 'JobGroup_00003348',\n",
       " 'JobGroup_00003349',\n",
       " 'JobGroup_00003350',\n",
       " 'JobGroup_00003351',\n",
       " 'JobGroup_00003352',\n",
       " 'JobGroup_00003353',\n",
       " 'JobGroup_00003355',\n",
       " 'JobGroup_00003356',\n",
       " 'JobGroup_00003358',\n",
       " 'JobGroup_00003359',\n",
       " 'JobGroup_00003361',\n",
       " 'JobGroup_00003362',\n",
       " 'JobGroup_00003363',\n",
       " 'JobGroup_00003364',\n",
       " 'JobGroup_00003365',\n",
       " 'JobGroup_00003366',\n",
       " 'JobGroup_00003367',\n",
       " 'JobGroup_00003368',\n",
       " 'JobGroup_00003369',\n",
       " 'JobGroup_00003370',\n",
       " 'JobGroup_00003371',\n",
       " 'JobGroup_00003373',\n",
       " 'JobGroup_00003374',\n",
       " 'JobGroup_00003375',\n",
       " 'JobGroup_00003376',\n",
       " 'JobGroup_00003377',\n",
       " 'JobGroup_00003378',\n",
       " 'JobGroup_00003379',\n",
       " 'JobGroup_00003380',\n",
       " 'JobGroup_00003381',\n",
       " 'JobGroup_00003382',\n",
       " 'JobGroup_00003383',\n",
       " 'JobGroup_00003384',\n",
       " 'JobGroup_00003385',\n",
       " 'JobGroup_00003386',\n",
       " 'JobGroup_00003387',\n",
       " 'JobGroup_00003388',\n",
       " 'JobGroup_00003389',\n",
       " 'JobGroup_00003390',\n",
       " 'JobGroup_00003391',\n",
       " 'JobGroup_00003392',\n",
       " 'JobGroup_00003393',\n",
       " 'JobGroup_00003394',\n",
       " 'JobGroup_00003395',\n",
       " 'JobGroup_00003396',\n",
       " 'JobGroup_00003397',\n",
       " 'JobGroup_00003398',\n",
       " 'JobGroup_00003399',\n",
       " 'JobGroup_00003400',\n",
       " 'JobGroup_00003401',\n",
       " 'JobGroup_00003402',\n",
       " 'JobGroup_00003403',\n",
       " 'JobGroup_00003404',\n",
       " 'JobGroup_00003405',\n",
       " 'JobGroup_00003406',\n",
       " 'JobGroup_00003407',\n",
       " 'JobGroup_00003408',\n",
       " 'JobGroup_00003409',\n",
       " 'JobGroup_00003410',\n",
       " 'JobGroup_00003411',\n",
       " 'JobGroup_00003412',\n",
       " 'JobGroup_00003413',\n",
       " 'JobGroup_00003414',\n",
       " 'JobGroup_00003415',\n",
       " 'JobGroup_00003416',\n",
       " 'JobGroup_00003417',\n",
       " 'JobGroup_00003418',\n",
       " 'JobGroup_00003419',\n",
       " 'JobGroup_00003421',\n",
       " 'JobGroup_00003422',\n",
       " 'JobGroup_00003423',\n",
       " 'JobGroup_00003424',\n",
       " 'JobGroup_00003425',\n",
       " 'JobGroup_00003427',\n",
       " ...]"
      ]
     },
     "execution_count": 74,
     "metadata": {},
     "output_type": "execute_result"
    }
   ],
   "source": [
    "dj_encoded.columns.tolist()"
   ]
  },
  {
   "cell_type": "code",
   "execution_count": 75,
   "metadata": {},
   "outputs": [
    {
     "data": {
      "text/plain": [
       "1101447"
      ]
     },
     "execution_count": 75,
     "metadata": {},
     "output_type": "execute_result"
    }
   ],
   "source": [
    "# Before dropping first column in get_dummies, this returned 4150\n",
    "len(dj_encoded[dj_encoded['Status_Failed']==True])"
   ]
  },
  {
   "cell_type": "code",
   "execution_count": 76,
   "metadata": {},
   "outputs": [
    {
     "data": {
      "text/plain": [
       "847267"
      ]
     },
     "execution_count": 76,
     "metadata": {},
     "output_type": "execute_result"
    }
   ],
   "source": [
    "# After dropping first column in get_dummies, this returned 4150\n",
    "len(dj_encoded[dj_encoded['Status_Failed']==False])"
   ]
  },
  {
   "cell_type": "code",
   "execution_count": 77,
   "metadata": {},
   "outputs": [
    {
     "data": {
      "text/plain": [
       "(1948714, 3663)"
      ]
     },
     "execution_count": 77,
     "metadata": {},
     "output_type": "execute_result"
    }
   ],
   "source": [
    "dj_encoded.shape"
   ]
  },
  {
   "cell_type": "code",
   "execution_count": 78,
   "metadata": {},
   "outputs": [],
   "source": [
    "######################################\n",
    "dj_encoded.to_pickle('mega_allJobs_dj_encoded.pickle')\n",
    "######################################"
   ]
  },
  {
   "cell_type": "code",
   "execution_count": null,
   "metadata": {},
   "outputs": [],
   "source": [
    "with open('large_allJobs_featurized_875Kby322.pickle', 'rb') as handle:\n",
    "    dj_encoded = pickle.load(handle)"
   ]
  },
  {
   "cell_type": "code",
   "execution_count": 79,
   "metadata": {},
   "outputs": [
    {
     "data": {
      "text/plain": [
       "(1948714, 3663)"
      ]
     },
     "execution_count": 79,
     "metadata": {},
     "output_type": "execute_result"
    }
   ],
   "source": [
    "dj_encoded.shape"
   ]
  },
  {
   "cell_type": "code",
   "execution_count": 80,
   "metadata": {},
   "outputs": [],
   "source": [
    "# Use this finally\n",
    "allJobs_encoded = dj_encoded"
   ]
  },
  {
   "cell_type": "code",
   "execution_count": 81,
   "metadata": {},
   "outputs": [],
   "source": [
    "del dataJobs"
   ]
  },
  {
   "cell_type": "code",
   "execution_count": 82,
   "metadata": {},
   "outputs": [],
   "source": [
    "del allHBLI"
   ]
  },
  {
   "cell_type": "code",
   "execution_count": null,
   "metadata": {},
   "outputs": [],
   "source": [
    "#### End of all jobs table processing"
   ]
  },
  {
   "cell_type": "markdown",
   "metadata": {},
   "source": [
    "# Join jobs tables"
   ]
  },
  {
   "cell_type": "code",
   "execution_count": null,
   "metadata": {},
   "outputs": [],
   "source": [
    "# Test Train split each one into 50%\n",
    "# Concat Test dfs and Train dfs,\n",
    "# Now you have 50% from each class in train and test."
   ]
  },
  {
   "cell_type": "markdown",
   "metadata": {},
   "source": [
    "### >> Join 'allJobs_encoded' and 'allHBLI_wide\""
   ]
  },
  {
   "cell_type": "code",
   "execution_count": 6,
   "metadata": {},
   "outputs": [
    {
     "data": {
      "text/plain": [
       "(17572524, 9)"
      ]
     },
     "execution_count": 6,
     "metadata": {},
     "output_type": "execute_result"
    }
   ],
   "source": [
    "allHBLI_wide = pd.read_pickle('mega_allHBLI_wide_scaled.pickle')\n",
    "allHBLI_wide.shape"
   ]
  },
  {
   "cell_type": "code",
   "execution_count": 47,
   "metadata": {},
   "outputs": [
    {
     "data": {
      "text/plain": [
       "Index(['JobID', 'HeartBeatTime', 'AvailableDiskSpace', 'CPUConsumed',\n",
       "       'LoadAverage', 'MemoryUsed', 'RSS', 'Vsize', 'WallClockTime'],\n",
       "      dtype='object', name='Name')"
      ]
     },
     "execution_count": 47,
     "metadata": {},
     "output_type": "execute_result"
    }
   ],
   "source": [
    "allHBLI_wide.columns"
   ]
  },
  {
   "cell_type": "code",
   "execution_count": 55,
   "metadata": {},
   "outputs": [
    {
     "data": {
      "text/plain": [
       "(1948714, 3663)"
      ]
     },
     "execution_count": 55,
     "metadata": {},
     "output_type": "execute_result"
    }
   ],
   "source": [
    "allJobs_encoded = pd.read_pickle('mega_allJobs_dj_encoded.pickle')\n",
    "allJobs_encoded.shapeallJobs_encoded"
   ]
  },
  {
   "cell_type": "code",
   "execution_count": 56,
   "metadata": {},
   "outputs": [
    {
     "data": {
      "text/html": [
       "<div>\n",
       "<style scoped>\n",
       "    .dataframe tbody tr th:only-of-type {\n",
       "        vertical-align: middle;\n",
       "    }\n",
       "\n",
       "    .dataframe tbody tr th {\n",
       "        vertical-align: top;\n",
       "    }\n",
       "\n",
       "    .dataframe thead th {\n",
       "        text-align: right;\n",
       "    }\n",
       "</style>\n",
       "<table border=\"1\" class=\"dataframe\">\n",
       "  <thead>\n",
       "    <tr style=\"text-align: right;\">\n",
       "      <th></th>\n",
       "      <th>JobID</th>\n",
       "      <th>Owner</th>\n",
       "      <th>OwnerDN</th>\n",
       "      <th>OwnerGroup</th>\n",
       "      <th>RescheduleCounter</th>\n",
       "      <th>start_submit</th>\n",
       "      <th>hbeat_start</th>\n",
       "      <th>JobType_MCProduction</th>\n",
       "      <th>JobType_MCProductionBGx0</th>\n",
       "      <th>JobType_Merge</th>\n",
       "      <th>...</th>\n",
       "      <th>Status_Failed</th>\n",
       "      <th>UserPriority_1</th>\n",
       "      <th>UserPriority_2</th>\n",
       "      <th>UserPriority_3</th>\n",
       "      <th>UserPriority_4</th>\n",
       "      <th>UserPriority_5</th>\n",
       "      <th>UserPriority_6</th>\n",
       "      <th>UserPriority_7</th>\n",
       "      <th>UserPriority_9</th>\n",
       "      <th>UserPriority_10</th>\n",
       "    </tr>\n",
       "  </thead>\n",
       "  <tbody>\n",
       "    <tr>\n",
       "      <th>0</th>\n",
       "      <td>23140766</td>\n",
       "      <td>dirac</td>\n",
       "      <td>/C=DE/O=GermanGrid/OU=KIT/CN=Robot - grid clie...</td>\n",
       "      <td>belle_mcprod</td>\n",
       "      <td>0</td>\n",
       "      <td>0.866667</td>\n",
       "      <td>9.833333</td>\n",
       "      <td>0</td>\n",
       "      <td>1</td>\n",
       "      <td>0</td>\n",
       "      <td>...</td>\n",
       "      <td>1</td>\n",
       "      <td>0</td>\n",
       "      <td>0</td>\n",
       "      <td>0</td>\n",
       "      <td>0</td>\n",
       "      <td>0</td>\n",
       "      <td>0</td>\n",
       "      <td>0</td>\n",
       "      <td>0</td>\n",
       "      <td>0</td>\n",
       "    </tr>\n",
       "    <tr>\n",
       "      <th>1</th>\n",
       "      <td>23141083</td>\n",
       "      <td>dirac</td>\n",
       "      <td>/C=DE/O=GermanGrid/OU=KIT/CN=Robot - grid clie...</td>\n",
       "      <td>belle_mcprod</td>\n",
       "      <td>0</td>\n",
       "      <td>9.916667</td>\n",
       "      <td>10.433333</td>\n",
       "      <td>0</td>\n",
       "      <td>1</td>\n",
       "      <td>0</td>\n",
       "      <td>...</td>\n",
       "      <td>1</td>\n",
       "      <td>0</td>\n",
       "      <td>0</td>\n",
       "      <td>0</td>\n",
       "      <td>0</td>\n",
       "      <td>0</td>\n",
       "      <td>0</td>\n",
       "      <td>0</td>\n",
       "      <td>0</td>\n",
       "      <td>0</td>\n",
       "    </tr>\n",
       "    <tr>\n",
       "      <th>2</th>\n",
       "      <td>23205537</td>\n",
       "      <td>dirac</td>\n",
       "      <td>/C=DE/O=GermanGrid/OU=KIT/CN=Robot - grid clie...</td>\n",
       "      <td>belle_mcprod</td>\n",
       "      <td>0</td>\n",
       "      <td>67.516667</td>\n",
       "      <td>797.883333</td>\n",
       "      <td>0</td>\n",
       "      <td>1</td>\n",
       "      <td>0</td>\n",
       "      <td>...</td>\n",
       "      <td>1</td>\n",
       "      <td>0</td>\n",
       "      <td>0</td>\n",
       "      <td>0</td>\n",
       "      <td>0</td>\n",
       "      <td>0</td>\n",
       "      <td>0</td>\n",
       "      <td>0</td>\n",
       "      <td>0</td>\n",
       "      <td>0</td>\n",
       "    </tr>\n",
       "    <tr>\n",
       "      <th>3</th>\n",
       "      <td>23205539</td>\n",
       "      <td>dirac</td>\n",
       "      <td>/C=DE/O=GermanGrid/OU=KIT/CN=Robot - grid clie...</td>\n",
       "      <td>belle_mcprod</td>\n",
       "      <td>0</td>\n",
       "      <td>70.416667</td>\n",
       "      <td>377.916667</td>\n",
       "      <td>0</td>\n",
       "      <td>1</td>\n",
       "      <td>0</td>\n",
       "      <td>...</td>\n",
       "      <td>1</td>\n",
       "      <td>0</td>\n",
       "      <td>0</td>\n",
       "      <td>0</td>\n",
       "      <td>0</td>\n",
       "      <td>0</td>\n",
       "      <td>0</td>\n",
       "      <td>0</td>\n",
       "      <td>0</td>\n",
       "      <td>0</td>\n",
       "    </tr>\n",
       "  </tbody>\n",
       "</table>\n",
       "<p>4 rows × 3663 columns</p>\n",
       "</div>"
      ],
      "text/plain": [
       "      JobID  Owner                                            OwnerDN  \\\n",
       "0  23140766  dirac  /C=DE/O=GermanGrid/OU=KIT/CN=Robot - grid clie...   \n",
       "1  23141083  dirac  /C=DE/O=GermanGrid/OU=KIT/CN=Robot - grid clie...   \n",
       "2  23205537  dirac  /C=DE/O=GermanGrid/OU=KIT/CN=Robot - grid clie...   \n",
       "3  23205539  dirac  /C=DE/O=GermanGrid/OU=KIT/CN=Robot - grid clie...   \n",
       "\n",
       "     OwnerGroup  RescheduleCounter  start_submit  hbeat_start  \\\n",
       "0  belle_mcprod                  0      0.866667     9.833333   \n",
       "1  belle_mcprod                  0      9.916667    10.433333   \n",
       "2  belle_mcprod                  0     67.516667   797.883333   \n",
       "3  belle_mcprod                  0     70.416667   377.916667   \n",
       "\n",
       "   JobType_MCProduction  JobType_MCProductionBGx0  JobType_Merge  \\\n",
       "0                     0                         1              0   \n",
       "1                     0                         1              0   \n",
       "2                     0                         1              0   \n",
       "3                     0                         1              0   \n",
       "\n",
       "        ...         Status_Failed  UserPriority_1  UserPriority_2  \\\n",
       "0       ...                     1               0               0   \n",
       "1       ...                     1               0               0   \n",
       "2       ...                     1               0               0   \n",
       "3       ...                     1               0               0   \n",
       "\n",
       "   UserPriority_3  UserPriority_4  UserPriority_5  UserPriority_6  \\\n",
       "0               0               0               0               0   \n",
       "1               0               0               0               0   \n",
       "2               0               0               0               0   \n",
       "3               0               0               0               0   \n",
       "\n",
       "   UserPriority_7  UserPriority_9  UserPriority_10  \n",
       "0               0               0                0  \n",
       "1               0               0                0  \n",
       "2               0               0                0  \n",
       "3               0               0                0  \n",
       "\n",
       "[4 rows x 3663 columns]"
      ]
     },
     "execution_count": 56,
     "metadata": {},
     "output_type": "execute_result"
    }
   ],
   "source": [
    "allJobs_encoded.head(4)"
   ]
  },
  {
   "cell_type": "code",
   "execution_count": 61,
   "metadata": {},
   "outputs": [
    {
     "name": "stdout",
     "output_type": "stream",
     "text": [
      "3663\n"
     ]
    },
    {
     "data": {
      "text/plain": [
       "80"
      ]
     },
     "execution_count": 61,
     "metadata": {},
     "output_type": "execute_result"
    }
   ],
   "source": [
    "lesscols = allJobs_encoded.columns.tolist()\n",
    "print(len(lesscols)) #125\n",
    "\n",
    "### Extra removal after noticing high accuracy\n",
    "lesscols.remove('hbeat_start')\n",
    "lesscols.remove('start_submit')\n",
    "\n",
    "lesscols = [x for x in lesscols if x.find('JobGroup')== -1 and  x.find('Owner')==-1]\n",
    "\n",
    "##############################################\n",
    "\n",
    "len(lesscols) #122"
   ]
  },
  {
   "cell_type": "code",
   "execution_count": 62,
   "metadata": {},
   "outputs": [
    {
     "data": {
      "text/plain": [
       "['JobID',\n",
       " 'RescheduleCounter',\n",
       " 'JobType_MCProduction',\n",
       " 'JobType_MCProductionBGx0',\n",
       " 'JobType_Merge',\n",
       " 'JobType_Test',\n",
       " 'JobType_User',\n",
       " 'Site_ARC.DESY.de',\n",
       " 'Site_ARC.KIT.de',\n",
       " 'Site_ARC.LMU2.de',\n",
       " 'Site_ARC.MPPMU.de',\n",
       " 'Site_ARC.SIGNET.si',\n",
       " 'Site_CLOUD.AWS_Sydney.au',\n",
       " 'Site_CLOUD.AWS_Tokyo.jp',\n",
       " 'Site_CLOUD.AWS_Virginia.us',\n",
       " 'Site_CLOUD.CC1_Krakow.pl',\n",
       " 'Site_DIRAC.BINP.ru',\n",
       " 'Site_DIRAC.Beihang.cn',\n",
       " 'Site_DIRAC.CINVESTAV.mx',\n",
       " 'Site_DIRAC.DESY.de',\n",
       " 'Site_DIRAC.Hokudai.jp',\n",
       " 'Site_DIRAC.IITG.in',\n",
       " 'Site_DIRAC.MIPT.ru',\n",
       " 'Site_DIRAC.NDU.jp',\n",
       " 'Site_DIRAC.Nagoya.jp',\n",
       " 'Site_DIRAC.Nara-WU.jp',\n",
       " 'Site_DIRAC.Niigata.jp',\n",
       " 'Site_DIRAC.Osaka-CU.jp',\n",
       " 'Site_DIRAC.PNNL.us',\n",
       " 'Site_DIRAC.PNNL2.us',\n",
       " 'Site_DIRAC.RCNP.jp',\n",
       " 'Site_DIRAC.SSU.kr',\n",
       " 'Site_DIRAC.TIFR.in',\n",
       " 'Site_DIRAC.TMU.jp',\n",
       " 'Site_DIRAC.Test.jp',\n",
       " 'Site_DIRAC.Tokyo.jp',\n",
       " 'Site_DIRAC.UAS.mx',\n",
       " 'Site_DIRAC.UVic.ca',\n",
       " 'Site_DIRAC.Yamagata.jp',\n",
       " 'Site_DIRAC.Yonsei.kr',\n",
       " 'Site_Group.DESY.de',\n",
       " 'Site_Group.KEK.jp',\n",
       " 'Site_Group.KEK2.jp',\n",
       " 'Site_Group.PNNL.us',\n",
       " 'Site_LCG.CESNET.cz',\n",
       " 'Site_LCG.CNAF.it',\n",
       " 'Site_LCG.CYFRONET.pl',\n",
       " 'Site_LCG.Cosenza.it',\n",
       " 'Site_LCG.DESY.de',\n",
       " 'Site_LCG.Frascati.it',\n",
       " 'Site_LCG.HEPHY.at',\n",
       " 'Site_LCG.KEK.jp',\n",
       " 'Site_LCG.KEK2.jp',\n",
       " 'Site_LCG.KISTI.kr',\n",
       " 'Site_LCG.KIT.de',\n",
       " 'Site_LCG.KMI.jp',\n",
       " 'Site_LCG.Legnaro.it',\n",
       " 'Site_LCG.MPPMU.de',\n",
       " 'Site_LCG.McGill.ca',\n",
       " 'Site_LCG.Melbourne.au',\n",
       " 'Site_LCG.NCHC.tw',\n",
       " 'Site_LCG.NTU.tw',\n",
       " 'Site_LCG.Napoli.it',\n",
       " 'Site_LCG.Pisa.it',\n",
       " 'Site_LCG.Roma3.it',\n",
       " 'Site_LCG.Torino.it',\n",
       " 'Site_LCG.ULAKBIM.tr',\n",
       " 'Site_Multiple',\n",
       " 'Site_OSG.UMiss.us',\n",
       " 'Site_SSH.KMI.jp',\n",
       " 'Status_Failed',\n",
       " 'UserPriority_1',\n",
       " 'UserPriority_2',\n",
       " 'UserPriority_3',\n",
       " 'UserPriority_4',\n",
       " 'UserPriority_5',\n",
       " 'UserPriority_6',\n",
       " 'UserPriority_7',\n",
       " 'UserPriority_9',\n",
       " 'UserPriority_10']"
      ]
     },
     "execution_count": 62,
     "metadata": {},
     "output_type": "execute_result"
    }
   ],
   "source": [
    "lesscols"
   ]
  },
  {
   "cell_type": "code",
   "execution_count": 63,
   "metadata": {},
   "outputs": [],
   "source": [
    "allJobs_encodedsmall = allJobs_encoded[lesscols].copy()\n",
    "del allJobs_encoded"
   ]
  },
  {
   "cell_type": "code",
   "execution_count": 64,
   "metadata": {},
   "outputs": [],
   "source": [
    "allJobs_encoded = allJobs_encodedsmall"
   ]
  },
  {
   "cell_type": "code",
   "execution_count": 65,
   "metadata": {},
   "outputs": [
    {
     "data": {
      "text/plain": [
       "(1948714, 80)"
      ]
     },
     "execution_count": 65,
     "metadata": {},
     "output_type": "execute_result"
    }
   ],
   "source": [
    "allJobs_encoded.shape"
   ]
  },
  {
   "cell_type": "code",
   "execution_count": 66,
   "metadata": {},
   "outputs": [
    {
     "data": {
      "text/plain": [
       "['JobID',\n",
       " 'RescheduleCounter',\n",
       " 'JobType_MCProduction',\n",
       " 'JobType_MCProductionBGx0',\n",
       " 'JobType_Merge',\n",
       " 'JobType_Test',\n",
       " 'JobType_User',\n",
       " 'Site_ARC.DESY.de',\n",
       " 'Site_ARC.KIT.de',\n",
       " 'Site_ARC.LMU2.de',\n",
       " 'Site_ARC.MPPMU.de',\n",
       " 'Site_ARC.SIGNET.si',\n",
       " 'Site_CLOUD.AWS_Sydney.au',\n",
       " 'Site_CLOUD.AWS_Tokyo.jp',\n",
       " 'Site_CLOUD.AWS_Virginia.us',\n",
       " 'Site_CLOUD.CC1_Krakow.pl',\n",
       " 'Site_DIRAC.BINP.ru',\n",
       " 'Site_DIRAC.Beihang.cn',\n",
       " 'Site_DIRAC.CINVESTAV.mx',\n",
       " 'Site_DIRAC.DESY.de',\n",
       " 'Site_DIRAC.Hokudai.jp',\n",
       " 'Site_DIRAC.IITG.in',\n",
       " 'Site_DIRAC.MIPT.ru',\n",
       " 'Site_DIRAC.NDU.jp',\n",
       " 'Site_DIRAC.Nagoya.jp',\n",
       " 'Site_DIRAC.Nara-WU.jp',\n",
       " 'Site_DIRAC.Niigata.jp',\n",
       " 'Site_DIRAC.Osaka-CU.jp',\n",
       " 'Site_DIRAC.PNNL.us',\n",
       " 'Site_DIRAC.PNNL2.us',\n",
       " 'Site_DIRAC.RCNP.jp',\n",
       " 'Site_DIRAC.SSU.kr',\n",
       " 'Site_DIRAC.TIFR.in',\n",
       " 'Site_DIRAC.TMU.jp',\n",
       " 'Site_DIRAC.Test.jp',\n",
       " 'Site_DIRAC.Tokyo.jp',\n",
       " 'Site_DIRAC.UAS.mx',\n",
       " 'Site_DIRAC.UVic.ca',\n",
       " 'Site_DIRAC.Yamagata.jp',\n",
       " 'Site_DIRAC.Yonsei.kr',\n",
       " 'Site_Group.DESY.de',\n",
       " 'Site_Group.KEK.jp',\n",
       " 'Site_Group.KEK2.jp',\n",
       " 'Site_Group.PNNL.us',\n",
       " 'Site_LCG.CESNET.cz',\n",
       " 'Site_LCG.CNAF.it',\n",
       " 'Site_LCG.CYFRONET.pl',\n",
       " 'Site_LCG.Cosenza.it',\n",
       " 'Site_LCG.DESY.de',\n",
       " 'Site_LCG.Frascati.it',\n",
       " 'Site_LCG.HEPHY.at',\n",
       " 'Site_LCG.KEK.jp',\n",
       " 'Site_LCG.KEK2.jp',\n",
       " 'Site_LCG.KISTI.kr',\n",
       " 'Site_LCG.KIT.de',\n",
       " 'Site_LCG.KMI.jp',\n",
       " 'Site_LCG.Legnaro.it',\n",
       " 'Site_LCG.MPPMU.de',\n",
       " 'Site_LCG.McGill.ca',\n",
       " 'Site_LCG.Melbourne.au',\n",
       " 'Site_LCG.NCHC.tw',\n",
       " 'Site_LCG.NTU.tw',\n",
       " 'Site_LCG.Napoli.it',\n",
       " 'Site_LCG.Pisa.it',\n",
       " 'Site_LCG.Roma3.it',\n",
       " 'Site_LCG.Torino.it',\n",
       " 'Site_LCG.ULAKBIM.tr',\n",
       " 'Site_Multiple',\n",
       " 'Site_OSG.UMiss.us',\n",
       " 'Site_SSH.KMI.jp',\n",
       " 'Status_Failed',\n",
       " 'UserPriority_1',\n",
       " 'UserPriority_2',\n",
       " 'UserPriority_3',\n",
       " 'UserPriority_4',\n",
       " 'UserPriority_5',\n",
       " 'UserPriority_6',\n",
       " 'UserPriority_7',\n",
       " 'UserPriority_9',\n",
       " 'UserPriority_10']"
      ]
     },
     "execution_count": 66,
     "metadata": {},
     "output_type": "execute_result"
    }
   ],
   "source": [
    "lesscols"
   ]
  },
  {
   "cell_type": "code",
   "execution_count": 67,
   "metadata": {},
   "outputs": [
    {
     "name": "stdout",
     "output_type": "stream",
     "text": [
      "(17572524, 88)\n",
      "CPU times: user 7.54 s, sys: 1.81 s, total: 9.34 s\n",
      "Wall time: 9.39 s\n"
     ]
    }
   ],
   "source": [
    "%%time\n",
    "raw_samples = pd.merge(allHBLI_wide, allJobs_encoded, on =['JobID'])\n",
    "print(raw_samples.shape)"
   ]
  },
  {
   "cell_type": "code",
   "execution_count": 69,
   "metadata": {},
   "outputs": [],
   "source": [
    "del allHBLI_wide\n",
    "del allJobs_encoded"
   ]
  },
  {
   "cell_type": "code",
   "execution_count": 68,
   "metadata": {},
   "outputs": [
    {
     "data": {
      "text/plain": [
       "(17572524, 88)"
      ]
     },
     "execution_count": 68,
     "metadata": {},
     "output_type": "execute_result"
    }
   ],
   "source": [
    "raw_samples.shape "
   ]
  },
  {
   "cell_type": "code",
   "execution_count": 70,
   "metadata": {},
   "outputs": [],
   "source": [
    "import matplotlib.pyplot as plt\n",
    "%matplotlib inline\n",
    "\n",
    "sample_counts = pd.value_counts(raw_samples['JobID'].values, sort=False)"
   ]
  },
  {
   "cell_type": "code",
   "execution_count": 71,
   "metadata": {},
   "outputs": [
    {
     "data": {
      "image/png": "[encoded data removed]",
      "text/plain": [
       "<matplotlib.figure.Figure at 0x7fac7dfa41d0>"
      ]
     },
     "metadata": {},
     "output_type": "display_data"
    }
   ],
   "source": [
    "plt.hist(sample_counts.values, bins = 100)\n",
    "plt.show()"
   ]
  },
  {
   "cell_type": "markdown",
   "metadata": {},
   "source": [
    "# Sample Generation"
   ]
  },
  {
   "cell_type": "markdown",
   "metadata": {},
   "source": [
    "# Convert Pandas dataframe to LSTM 3D tensor"
   ]
  },
  {
   "cell_type": "markdown",
   "metadata": {},
   "source": [
    "# Set Threshold"
   ]
  },
  {
   "cell_type": "code",
   "execution_count": 72,
   "metadata": {},
   "outputs": [],
   "source": [
    "thresholdd = 1"
   ]
  },
  {
   "cell_type": "code",
   "execution_count": 73,
   "metadata": {},
   "outputs": [
    {
     "data": {
      "text/plain": [
       "1603691"
      ]
     },
     "execution_count": 73,
     "metadata": {},
     "output_type": "execute_result"
    }
   ],
   "source": [
    "sum(sample_counts.values>=thresholdd)"
   ]
  },
  {
   "cell_type": "code",
   "execution_count": 74,
   "metadata": {},
   "outputs": [
    {
     "data": {
      "text/plain": [
       "0"
      ]
     },
     "execution_count": 74,
     "metadata": {},
     "output_type": "execute_result"
    }
   ],
   "source": [
    "### Decision: Number of timesteps per sample = 3\n",
    "# Shape of 3D matrix should be (#samples)x(3)x(132)\n",
    "\n",
    "sum(sample_counts.values<thresholdd)"
   ]
  },
  {
   "cell_type": "code",
   "execution_count": null,
   "metadata": {},
   "outputs": [],
   "source": [
    "# Delete rows of JobIDs with  fewer than 3 timestamps\n",
    "\n",
    "dff = raw_samples['JobID'].value_counts()\n",
    "print(dff.sample(3))"
   ]
  },
  {
   "cell_type": "markdown",
   "metadata": {},
   "source": [
    "dff = dff[dff<thresholdd]\n",
    "\n",
    "\n",
    "dff = dff.reset_index()\n",
    "dff = dff.rename(index=str, columns={\"JobID\": \"count\", \"index\": \"JobID\"})\n",
    "\n",
    "print(dff.sample(5))\n",
    "print(dff.head())\n",
    "\n",
    "remove_list = dff['JobID'].tolist()\n",
    "remove_list[:5]"
   ]
  },
  {
   "cell_type": "code",
   "execution_count": 101,
   "metadata": {},
   "outputs": [],
   "source": [
    "remove_list=[]"
   ]
  },
  {
   "cell_type": "code",
   "execution_count": 102,
   "metadata": {},
   "outputs": [
    {
     "data": {
      "text/plain": [
       "((17572524, 88), (17572524, 88))"
      ]
     },
     "execution_count": 102,
     "metadata": {},
     "output_type": "execute_result"
    }
   ],
   "source": [
    "# THis CLEANED is not the final one, \n",
    "# Go forward to see : this is just an initialization\n",
    "\n",
    "cleaned = raw_samples[~raw_samples['JobID'].isin(remove_list)]\n",
    "cleaned.shape, raw_samples.shape"
   ]
  },
  {
   "cell_type": "code",
   "execution_count": 103,
   "metadata": {},
   "outputs": [],
   "source": [
    "# Number of unique JobIDs in cleaned\n",
    "totalleftjobslist = cleaned.JobID.unique().tolist()\n",
    "totalleftjobs = len(cleaned.JobID.unique().tolist())"
   ]
  },
  {
   "cell_type": "code",
   "execution_count": 104,
   "metadata": {},
   "outputs": [
    {
     "data": {
      "text/plain": [
       "(801845, 1603691)"
      ]
     },
     "execution_count": 104,
     "metadata": {},
     "output_type": "execute_result"
    }
   ],
   "source": [
    "import random\n",
    "\n",
    "indices = random.sample(range(len(totalleftjobslist)), int(totalleftjobs * .50))\n",
    "takeoutlist = [totalleftjobslist[i] for i in sorted(indices)]\n",
    "\n",
    "len(takeoutlist), totalleftjobs "
   ]
  },
  {
   "cell_type": "code",
   "execution_count": 105,
   "metadata": {},
   "outputs": [
    {
     "name": "stdout",
     "output_type": "stream",
     "text": [
      "0\n",
      "801845\n"
     ]
    }
   ],
   "source": [
    "print(len(remove_list))\n",
    "remove_list = remove_list + takeoutlist\n",
    "print(len(remove_list))"
   ]
  },
  {
   "cell_type": "markdown",
   "metadata": {},
   "source": [
    "# Train on cleaned, Test on takeoutdf"
   ]
  },
  {
   "cell_type": "code",
   "execution_count": 106,
   "metadata": {},
   "outputs": [
    {
     "data": {
      "text/plain": [
       "((8794109, 88), (17572524, 88))"
      ]
     },
     "execution_count": 106,
     "metadata": {},
     "output_type": "execute_result"
    }
   ],
   "source": [
    "cleaned = raw_samples[~raw_samples['JobID'].isin(remove_list)]\n",
    "cleaned.shape, raw_samples.shape"
   ]
  },
  {
   "cell_type": "code",
   "execution_count": 107,
   "metadata": {},
   "outputs": [
    {
     "data": {
      "text/plain": [
       "0.36945186829046583"
      ]
     },
     "execution_count": 107,
     "metadata": {},
     "output_type": "execute_result"
    }
   ],
   "source": [
    "len(cleaned[cleaned['Status_Failed']==True])/cleaned.shape[0]"
   ]
  },
  {
   "cell_type": "code",
   "execution_count": 109,
   "metadata": {},
   "outputs": [],
   "source": [
    "import pickle\n",
    "\n",
    "with open('mega_cleaned_for_training.pickle', 'wb') as handle:\n",
    "    pickle.dump(cleaned, handle, protocol=pickle.HIGHEST_PROTOCOL)"
   ]
  },
  {
   "cell_type": "code",
   "execution_count": 110,
   "metadata": {},
   "outputs": [
    {
     "data": {
      "text/plain": [
       "((8778415, 88), (17572524, 88))"
      ]
     },
     "execution_count": 110,
     "metadata": {},
     "output_type": "execute_result"
    }
   ],
   "source": [
    "takeoutdf = raw_samples[raw_samples['JobID'].isin(takeoutlist)]\n",
    "takeoutdf.shape, raw_samples.shape"
   ]
  },
  {
   "cell_type": "code",
   "execution_count": 111,
   "metadata": {},
   "outputs": [
    {
     "data": {
      "text/plain": [
       "0.36842801348535015"
      ]
     },
     "execution_count": 111,
     "metadata": {},
     "output_type": "execute_result"
    }
   ],
   "source": [
    "len(takeoutdf[takeoutdf['Status_Failed']==True])/takeoutdf.shape[0]"
   ]
  },
  {
   "cell_type": "code",
   "execution_count": 112,
   "metadata": {},
   "outputs": [],
   "source": [
    "with open('mega_takeoutdf_for_testing.pickle', 'wb') as handle:\n",
    "    pickle.dump(takeoutdf, handle, protocol=pickle.HIGHEST_PROTOCOL)"
   ]
  },
  {
   "cell_type": "code",
   "execution_count": 113,
   "metadata": {},
   "outputs": [],
   "source": [
    "######################"
   ]
  },
  {
   "cell_type": "code",
   "execution_count": 114,
   "metadata": {},
   "outputs": [
    {
     "data": {
      "text/plain": [
       "(0, 801846)"
      ]
     },
     "execution_count": 114,
     "metadata": {},
     "output_type": "execute_result"
    }
   ],
   "source": [
    "# Count values in cleaned\n",
    "\n",
    "cleaned_counts = pd.value_counts(cleaned['JobID'].values, sort=False)\n",
    "sum(cleaned_counts.values<thresholdd), sum(cleaned_counts.values>=thresholdd)"
   ]
  },
  {
   "cell_type": "code",
   "execution_count": 115,
   "metadata": {},
   "outputs": [
    {
     "data": {
      "text/plain": [
       "1603691"
      ]
     },
     "execution_count": 115,
     "metadata": {},
     "output_type": "execute_result"
    }
   ],
   "source": [
    "len((sample_counts.values))"
   ]
  },
  {
   "cell_type": "code",
   "execution_count": 116,
   "metadata": {},
   "outputs": [],
   "source": [
    "# Build Training Features"
   ]
  },
  {
   "cell_type": "code",
   "execution_count": 117,
   "metadata": {},
   "outputs": [
    {
     "data": {
      "text/plain": [
       "(8794109, 88)"
      ]
     },
     "execution_count": 117,
     "metadata": {},
     "output_type": "execute_result"
    }
   ],
   "source": [
    "cleaned.shape"
   ]
  },
  {
   "cell_type": "code",
   "execution_count": 118,
   "metadata": {},
   "outputs": [],
   "source": [
    "# Takes a df and converts it to 3D tensor\n",
    "# Each sample will have k time steps\n",
    "\n",
    "def samples_features(df_input):\n",
    "    \n",
    "    k = thresholdd\n",
    "    input_cols = train_feat\n",
    "    \n",
    "    # takes a df\n",
    "    # Put your inputs into a single list\n",
    "    \n",
    "    df = pd.DataFrame()\n",
    "    \n",
    "    df['single_input_vector'] = df_input[input_cols].apply(tuple, axis=1).apply(list)\n",
    "    \n",
    "    # Double-encapsulate list so that you can sum it in the next step and keep time steps as separate elements\n",
    "    df['single_input_vector'] = df.single_input_vector.apply(lambda x: [list(x)])\n",
    "        \n",
    "    # The starting point\n",
    "    df['cumulative_input_vectors'] = df['single_input_vector'].shift(0)\n",
    "    \n",
    "    for i in range(1,k):\n",
    "        df['cumulative_input_vectors'] += df['single_input_vector'].shift(i)\n",
    "          \n",
    "    df.dropna(inplace=True)     # does operation in place & returns None\n",
    "\n",
    "    # Extract your training data\n",
    "    X_ = np.asarray(df.cumulative_input_vectors)\n",
    "    \n",
    "    # Use hstack to and reshape to make the inputs a 3d vector\n",
    "    X = np.vstack(X_).reshape(len(df), k, len(input_cols))\n",
    "    \n",
    "    # Clean up\n",
    "    del df\n",
    "    \n",
    "    return X\n",
    "    # returns 3D array"
   ]
  },
  {
   "cell_type": "code",
   "execution_count": 119,
   "metadata": {},
   "outputs": [],
   "source": [
    "# Label Column ('Status_Failed' is the label column)\n",
    "label_col = ['Status_Failed']"
   ]
  },
  {
   "cell_type": "code",
   "execution_count": 120,
   "metadata": {
    "scrolled": true
   },
   "outputs": [
    {
     "data": {
      "text/plain": [
       "1"
      ]
     },
     "execution_count": 120,
     "metadata": {},
     "output_type": "execute_result"
    }
   ],
   "source": [
    "thresholdd #Check it matched the title"
   ]
  },
  {
   "cell_type": "markdown",
   "metadata": {},
   "source": [
    "# Build X (each job separately)"
   ]
  },
  {
   "cell_type": "code",
   "execution_count": 121,
   "metadata": {},
   "outputs": [
    {
     "data": {
      "text/plain": [
       "(8794109, 88)"
      ]
     },
     "execution_count": 121,
     "metadata": {},
     "output_type": "execute_result"
    }
   ],
   "source": [
    "cleaned.shape"
   ]
  },
  {
   "cell_type": "code",
   "execution_count": 122,
   "metadata": {},
   "outputs": [
    {
     "data": {
      "text/plain": [
       "0"
      ]
     },
     "execution_count": 122,
     "metadata": {},
     "output_type": "execute_result"
    }
   ],
   "source": [
    "cleaned.isnull().values.ravel().sum()"
   ]
  },
  {
   "cell_type": "code",
   "execution_count": 123,
   "metadata": {},
   "outputs": [],
   "source": [
    "cleaned = cleaned.dropna()"
   ]
  },
  {
   "cell_type": "code",
   "execution_count": 124,
   "metadata": {
    "scrolled": true
   },
   "outputs": [
    {
     "data": {
      "text/plain": [
       "0"
      ]
     },
     "execution_count": 124,
     "metadata": {},
     "output_type": "execute_result"
    }
   ],
   "source": [
    "cleaned.isnull().values.ravel().sum()"
   ]
  },
  {
   "cell_type": "code",
   "execution_count": 125,
   "metadata": {},
   "outputs": [
    {
     "data": {
      "text/plain": [
       "['JobID',\n",
       " 'HeartBeatTime',\n",
       " 'AvailableDiskSpace',\n",
       " 'CPUConsumed',\n",
       " 'LoadAverage',\n",
       " 'MemoryUsed',\n",
       " 'RSS',\n",
       " 'Vsize',\n",
       " 'WallClockTime',\n",
       " 'RescheduleCounter',\n",
       " 'JobType_MCProduction',\n",
       " 'JobType_MCProductionBGx0',\n",
       " 'JobType_Merge',\n",
       " 'JobType_Test',\n",
       " 'JobType_User',\n",
       " 'Site_ARC.DESY.de',\n",
       " 'Site_ARC.KIT.de',\n",
       " 'Site_ARC.LMU2.de',\n",
       " 'Site_ARC.MPPMU.de',\n",
       " 'Site_ARC.SIGNET.si',\n",
       " 'Site_CLOUD.AWS_Sydney.au',\n",
       " 'Site_CLOUD.AWS_Tokyo.jp',\n",
       " 'Site_CLOUD.AWS_Virginia.us',\n",
       " 'Site_CLOUD.CC1_Krakow.pl',\n",
       " 'Site_DIRAC.BINP.ru',\n",
       " 'Site_DIRAC.Beihang.cn',\n",
       " 'Site_DIRAC.CINVESTAV.mx',\n",
       " 'Site_DIRAC.DESY.de',\n",
       " 'Site_DIRAC.Hokudai.jp',\n",
       " 'Site_DIRAC.IITG.in',\n",
       " 'Site_DIRAC.MIPT.ru',\n",
       " 'Site_DIRAC.NDU.jp',\n",
       " 'Site_DIRAC.Nagoya.jp',\n",
       " 'Site_DIRAC.Nara-WU.jp',\n",
       " 'Site_DIRAC.Niigata.jp',\n",
       " 'Site_DIRAC.Osaka-CU.jp',\n",
       " 'Site_DIRAC.PNNL.us',\n",
       " 'Site_DIRAC.PNNL2.us',\n",
       " 'Site_DIRAC.RCNP.jp',\n",
       " 'Site_DIRAC.SSU.kr',\n",
       " 'Site_DIRAC.TIFR.in',\n",
       " 'Site_DIRAC.TMU.jp',\n",
       " 'Site_DIRAC.Test.jp',\n",
       " 'Site_DIRAC.Tokyo.jp',\n",
       " 'Site_DIRAC.UAS.mx',\n",
       " 'Site_DIRAC.UVic.ca',\n",
       " 'Site_DIRAC.Yamagata.jp',\n",
       " 'Site_DIRAC.Yonsei.kr',\n",
       " 'Site_Group.DESY.de',\n",
       " 'Site_Group.KEK.jp',\n",
       " 'Site_Group.KEK2.jp',\n",
       " 'Site_Group.PNNL.us',\n",
       " 'Site_LCG.CESNET.cz',\n",
       " 'Site_LCG.CNAF.it',\n",
       " 'Site_LCG.CYFRONET.pl',\n",
       " 'Site_LCG.Cosenza.it',\n",
       " 'Site_LCG.DESY.de',\n",
       " 'Site_LCG.Frascati.it',\n",
       " 'Site_LCG.HEPHY.at',\n",
       " 'Site_LCG.KEK.jp',\n",
       " 'Site_LCG.KEK2.jp',\n",
       " 'Site_LCG.KISTI.kr',\n",
       " 'Site_LCG.KIT.de',\n",
       " 'Site_LCG.KMI.jp',\n",
       " 'Site_LCG.Legnaro.it',\n",
       " 'Site_LCG.MPPMU.de',\n",
       " 'Site_LCG.McGill.ca',\n",
       " 'Site_LCG.Melbourne.au',\n",
       " 'Site_LCG.NCHC.tw',\n",
       " 'Site_LCG.NTU.tw',\n",
       " 'Site_LCG.Napoli.it',\n",
       " 'Site_LCG.Pisa.it',\n",
       " 'Site_LCG.Roma3.it',\n",
       " 'Site_LCG.Torino.it',\n",
       " 'Site_LCG.ULAKBIM.tr',\n",
       " 'Site_Multiple',\n",
       " 'Site_OSG.UMiss.us',\n",
       " 'Site_SSH.KMI.jp',\n",
       " 'Status_Failed',\n",
       " 'UserPriority_1',\n",
       " 'UserPriority_2',\n",
       " 'UserPriority_3',\n",
       " 'UserPriority_4',\n",
       " 'UserPriority_5',\n",
       " 'UserPriority_6',\n",
       " 'UserPriority_7',\n",
       " 'UserPriority_9',\n",
       " 'UserPriority_10']"
      ]
     },
     "execution_count": 125,
     "metadata": {},
     "output_type": "execute_result"
    }
   ],
   "source": [
    "cleaned.columns.tolist()"
   ]
  },
  {
   "cell_type": "code",
   "execution_count": 126,
   "metadata": {},
   "outputs": [],
   "source": [
    "##################################################"
   ]
  },
  {
   "cell_type": "code",
   "execution_count": 127,
   "metadata": {},
   "outputs": [],
   "source": [
    "cols = cleaned.columns.tolist()"
   ]
  },
  {
   "cell_type": "code",
   "execution_count": 130,
   "metadata": {},
   "outputs": [
    {
     "name": "stdout",
     "output_type": "stream",
     "text": [
      "88\n"
     ]
    },
    {
     "data": {
      "text/plain": [
       "84"
      ]
     },
     "execution_count": 130,
     "metadata": {},
     "output_type": "execute_result"
    }
   ],
   "source": [
    "train_feat = cleaned.columns.tolist()\n",
    "print(len(train_feat)) #125\n",
    "\n",
    "train_feat.remove('HeartBeatTime')\n",
    "train_feat.remove('WallClockTime')\n",
    "train_feat.remove('JobID')\n",
    "train_feat.remove('Status_Failed')\n",
    "\n",
    "for c in cols:\n",
    "    if 'JobGroup' in c:\n",
    "        train_feat.remove(c)\n",
    "##############################################\n",
    "\n",
    "len(train_feat) #122"
   ]
  },
  {
   "cell_type": "code",
   "execution_count": 131,
   "metadata": {},
   "outputs": [
    {
     "data": {
      "text/plain": [
       "['AvailableDiskSpace',\n",
       " 'CPUConsumed',\n",
       " 'LoadAverage',\n",
       " 'MemoryUsed',\n",
       " 'RSS',\n",
       " 'Vsize',\n",
       " 'RescheduleCounter',\n",
       " 'JobType_MCProduction',\n",
       " 'JobType_MCProductionBGx0',\n",
       " 'JobType_Merge',\n",
       " 'JobType_Test',\n",
       " 'JobType_User',\n",
       " 'Site_ARC.DESY.de',\n",
       " 'Site_ARC.KIT.de',\n",
       " 'Site_ARC.LMU2.de',\n",
       " 'Site_ARC.MPPMU.de',\n",
       " 'Site_ARC.SIGNET.si',\n",
       " 'Site_CLOUD.AWS_Sydney.au',\n",
       " 'Site_CLOUD.AWS_Tokyo.jp',\n",
       " 'Site_CLOUD.AWS_Virginia.us',\n",
       " 'Site_CLOUD.CC1_Krakow.pl',\n",
       " 'Site_DIRAC.BINP.ru',\n",
       " 'Site_DIRAC.Beihang.cn',\n",
       " 'Site_DIRAC.CINVESTAV.mx',\n",
       " 'Site_DIRAC.DESY.de',\n",
       " 'Site_DIRAC.Hokudai.jp',\n",
       " 'Site_DIRAC.IITG.in',\n",
       " 'Site_DIRAC.MIPT.ru',\n",
       " 'Site_DIRAC.NDU.jp',\n",
       " 'Site_DIRAC.Nagoya.jp',\n",
       " 'Site_DIRAC.Nara-WU.jp',\n",
       " 'Site_DIRAC.Niigata.jp',\n",
       " 'Site_DIRAC.Osaka-CU.jp',\n",
       " 'Site_DIRAC.PNNL.us',\n",
       " 'Site_DIRAC.PNNL2.us',\n",
       " 'Site_DIRAC.RCNP.jp',\n",
       " 'Site_DIRAC.SSU.kr',\n",
       " 'Site_DIRAC.TIFR.in',\n",
       " 'Site_DIRAC.TMU.jp',\n",
       " 'Site_DIRAC.Test.jp',\n",
       " 'Site_DIRAC.Tokyo.jp',\n",
       " 'Site_DIRAC.UAS.mx',\n",
       " 'Site_DIRAC.UVic.ca',\n",
       " 'Site_DIRAC.Yamagata.jp',\n",
       " 'Site_DIRAC.Yonsei.kr',\n",
       " 'Site_Group.DESY.de',\n",
       " 'Site_Group.KEK.jp',\n",
       " 'Site_Group.KEK2.jp',\n",
       " 'Site_Group.PNNL.us',\n",
       " 'Site_LCG.CESNET.cz',\n",
       " 'Site_LCG.CNAF.it',\n",
       " 'Site_LCG.CYFRONET.pl',\n",
       " 'Site_LCG.Cosenza.it',\n",
       " 'Site_LCG.DESY.de',\n",
       " 'Site_LCG.Frascati.it',\n",
       " 'Site_LCG.HEPHY.at',\n",
       " 'Site_LCG.KEK.jp',\n",
       " 'Site_LCG.KEK2.jp',\n",
       " 'Site_LCG.KISTI.kr',\n",
       " 'Site_LCG.KIT.de',\n",
       " 'Site_LCG.KMI.jp',\n",
       " 'Site_LCG.Legnaro.it',\n",
       " 'Site_LCG.MPPMU.de',\n",
       " 'Site_LCG.McGill.ca',\n",
       " 'Site_LCG.Melbourne.au',\n",
       " 'Site_LCG.NCHC.tw',\n",
       " 'Site_LCG.NTU.tw',\n",
       " 'Site_LCG.Napoli.it',\n",
       " 'Site_LCG.Pisa.it',\n",
       " 'Site_LCG.Roma3.it',\n",
       " 'Site_LCG.Torino.it',\n",
       " 'Site_LCG.ULAKBIM.tr',\n",
       " 'Site_Multiple',\n",
       " 'Site_OSG.UMiss.us',\n",
       " 'Site_SSH.KMI.jp',\n",
       " 'UserPriority_1',\n",
       " 'UserPriority_2',\n",
       " 'UserPriority_3',\n",
       " 'UserPriority_4',\n",
       " 'UserPriority_5',\n",
       " 'UserPriority_6',\n",
       " 'UserPriority_7',\n",
       " 'UserPriority_9',\n",
       " 'UserPriority_10']"
      ]
     },
     "execution_count": 131,
     "metadata": {},
     "output_type": "execute_result"
    }
   ],
   "source": [
    "train_feat"
   ]
  },
  {
   "cell_type": "code",
   "execution_count": 132,
   "metadata": {},
   "outputs": [
    {
     "name": "stdout",
     "output_type": "stream",
     "text": [
      "CPU times: user 679 µs, sys: 0 ns, total: 679 µs\n",
      "Wall time: 797 µs\n"
     ]
    }
   ],
   "source": [
    "%%time\n",
    "cleanedgrouped = cleaned.groupby('JobID')"
   ]
  },
  {
   "cell_type": "code",
   "execution_count": 133,
   "metadata": {},
   "outputs": [
    {
     "name": "stdout",
     "output_type": "stream",
     "text": [
      "1\n"
     ]
    },
    {
     "data": {
      "text/plain": [
       "(None, (8794109, 88))"
      ]
     },
     "execution_count": 133,
     "metadata": {},
     "output_type": "execute_result"
    }
   ],
   "source": [
    "print(thresholdd), cleaned.shape"
   ]
  },
  {
   "cell_type": "code",
   "execution_count": null,
   "metadata": {},
   "outputs": [],
   "source": [
    "print(thresholdd), cleaned.shape"
   ]
  },
  {
   "cell_type": "code",
   "execution_count": null,
   "metadata": {},
   "outputs": [],
   "source": [
    "import pickle\n",
    "\n",
    "with open('training_features.pickle', 'wb') as handle:\n",
    "    pickle.dump(train_feat, handle, protocol=pickle.HIGHEST_PROTOCOL)"
   ]
  },
  {
   "cell_type": "markdown",
   "metadata": {},
   "source": [
    "## Cleaned df to 3D tensor"
   ]
  },
  {
   "cell_type": "markdown",
   "metadata": {},
   "source": [
    "### Make X"
   ]
  },
  {
   "cell_type": "code",
   "execution_count": 134,
   "metadata": {},
   "outputs": [
    {
     "data": {
      "text/plain": [
       "24"
      ]
     },
     "execution_count": 134,
     "metadata": {},
     "output_type": "execute_result"
    }
   ],
   "source": [
    "import pandas as pd\n",
    "from joblib import Parallel, delayed\n",
    "import multiprocessing\n",
    "\n",
    "multiprocessing.cpu_count()"
   ]
  },
  {
   "cell_type": "code",
   "execution_count": 135,
   "metadata": {},
   "outputs": [],
   "source": [
    "\n",
    "def applyParallel(dfGrouped, func):\n",
    "    retLst = Parallel(n_jobs=multiprocessing.cpu_count())(delayed(func)(group) for name, group in dfGrouped)\n",
    "    return retLst"
   ]
  },
  {
   "cell_type": "code",
   "execution_count": 136,
   "metadata": {},
   "outputs": [
    {
     "name": "stdout",
     "output_type": "stream",
     "text": [
      "CPU times: user 12min, sys: 49.8 s, total: 12min 50s\n",
      "Wall time: 13min 8s\n"
     ]
    }
   ],
   "source": [
    "%%time\n",
    "\n",
    "collecttrain = applyParallel(cleanedgrouped, samples_features)"
   ]
  },
  {
   "cell_type": "code",
   "execution_count": 138,
   "metadata": {},
   "outputs": [
    {
     "data": {
      "text/plain": [
       "801846"
      ]
     },
     "execution_count": 138,
     "metadata": {},
     "output_type": "execute_result"
    }
   ],
   "source": [
    "len(collecttrain)"
   ]
  },
  {
   "cell_type": "code",
   "execution_count": 139,
   "metadata": {},
   "outputs": [],
   "source": [
    "import pickle\n",
    "\n",
    "with open('mega_collecttrain.pickle', 'wb') as handle:\n",
    "    pickle.dump(collecttrain, handle, protocol=pickle.HIGHEST_PROTOCOL)"
   ]
  },
  {
   "cell_type": "code",
   "execution_count": null,
   "metadata": {},
   "outputs": [],
   "source": [
    "# >> Start here for importing training and test data"
   ]
  },
  {
   "cell_type": "markdown",
   "metadata": {},
   "source": [
    "### Unpack X from output of function"
   ]
  },
  {
   "cell_type": "code",
   "execution_count": 140,
   "metadata": {},
   "outputs": [],
   "source": [
    "X=[]"
   ]
  },
  {
   "cell_type": "code",
   "execution_count": 141,
   "metadata": {},
   "outputs": [
    {
     "name": "stdout",
     "output_type": "stream",
     "text": [
      "CPU times: user 3.07 s, sys: 593 ms, total: 3.66 s\n",
      "Wall time: 3.66 s\n"
     ]
    }
   ],
   "source": [
    "%%time\n",
    "for x in collecttrain:\n",
    "    #len(x)\n",
    "    for i in x:\n",
    "        X.append(i)"
   ]
  },
  {
   "cell_type": "code",
   "execution_count": 142,
   "metadata": {},
   "outputs": [
    {
     "data": {
      "text/plain": [
       "(8794109, 1, 84)"
      ]
     },
     "execution_count": 142,
     "metadata": {},
     "output_type": "execute_result"
    }
   ],
   "source": [
    "X = np.array(X)\n",
    "X.shape"
   ]
  },
  {
   "cell_type": "code",
   "execution_count": 143,
   "metadata": {},
   "outputs": [],
   "source": [
    "## X is ready (Y)"
   ]
  },
  {
   "cell_type": "markdown",
   "metadata": {},
   "source": [
    "## Make Y"
   ]
  },
  {
   "cell_type": "code",
   "execution_count": 144,
   "metadata": {},
   "outputs": [],
   "source": [
    "# Label Column ('Status_Failed' is the label column)\n",
    "label_col = ['Status_Failed']"
   ]
  },
  {
   "cell_type": "code",
   "execution_count": 145,
   "metadata": {},
   "outputs": [],
   "source": [
    "# Takes a df and converts it to 3D tensor\n",
    "# Each sample will have k time steps\n",
    "\n",
    "def samples_label(df_input):\n",
    "    \n",
    "    k = thresholdd\n",
    "    input_cols = label_col\n",
    "    \n",
    "    \n",
    "    # takes a df\n",
    "    # Put your inputs into a single list\n",
    "    \n",
    "    df = pd.DataFrame()\n",
    "    \n",
    "    df['single_input_vector'] = df_input[input_cols].apply(tuple, axis=1).apply(list)\n",
    "    \n",
    "    # Double-encapsulate list so that you can sum it in the next step and keep time steps as separate elements\n",
    "    df['single_input_vector'] = df.single_input_vector.apply(lambda x: [list(x)])\n",
    "        \n",
    "    # The starting point\n",
    "    df['cumulative_input_vectors'] = df['single_input_vector'].shift(0)\n",
    "    \n",
    "    for i in range(1,k):\n",
    "        df['cumulative_input_vectors'] += df['single_input_vector'].shift(i)\n",
    "          \n",
    "    df.dropna(inplace=True)     # does operation in place & returns None\n",
    "\n",
    "    # Extract your training data\n",
    "    X_ = np.asarray(df.cumulative_input_vectors)\n",
    "    \n",
    "    # Use hstack to and reshape to make the inputs a 3d vector\n",
    "    X = np.vstack(X_).reshape(len(df), k, len(input_cols))\n",
    "    \n",
    "    # Clean up\n",
    "    del df\n",
    "    \n",
    "    return X\n",
    "    # returns 3D array"
   ]
  },
  {
   "cell_type": "markdown",
   "metadata": {},
   "source": [
    "#### Build Y (each job separately)"
   ]
  },
  {
   "cell_type": "code",
   "execution_count": 146,
   "metadata": {},
   "outputs": [],
   "source": [
    "cleanedgrouped = cleaned.groupby('JobID')"
   ]
  },
  {
   "cell_type": "code",
   "execution_count": 147,
   "metadata": {},
   "outputs": [
    {
     "data": {
      "text/plain": [
       "['Status_Failed']"
      ]
     },
     "execution_count": 147,
     "metadata": {},
     "output_type": "execute_result"
    }
   ],
   "source": [
    "label_col"
   ]
  },
  {
   "cell_type": "code",
   "execution_count": 148,
   "metadata": {},
   "outputs": [
    {
     "name": "stdout",
     "output_type": "stream",
     "text": [
      "CPU times: user 12min 18s, sys: 1min 10s, total: 13min 28s\n",
      "Wall time: 13min 53s\n"
     ]
    }
   ],
   "source": [
    "%%time\n",
    "\n",
    "collectlabel = applyParallel(cleanedgrouped, samples_label)"
   ]
  },
  {
   "cell_type": "code",
   "execution_count": 149,
   "metadata": {},
   "outputs": [],
   "source": [
    "import pickle\n",
    "\n",
    "with open('mega_collectlabel.pickle', 'wb') as handle:\n",
    "    pickle.dump(collectlabel, handle, protocol=pickle.HIGHEST_PROTOCOL)"
   ]
  },
  {
   "cell_type": "code",
   "execution_count": 153,
   "metadata": {},
   "outputs": [
    {
     "data": {
      "text/plain": [
       "801846"
      ]
     },
     "execution_count": 153,
     "metadata": {},
     "output_type": "execute_result"
    }
   ],
   "source": [
    "len(collectlabel)"
   ]
  },
  {
   "cell_type": "code",
   "execution_count": 154,
   "metadata": {},
   "outputs": [],
   "source": [
    "### Unpack Y from output of function"
   ]
  },
  {
   "cell_type": "code",
   "execution_count": 155,
   "metadata": {},
   "outputs": [],
   "source": [
    "Y=[]"
   ]
  },
  {
   "cell_type": "code",
   "execution_count": 156,
   "metadata": {},
   "outputs": [
    {
     "name": "stdout",
     "output_type": "stream",
     "text": [
      "CPU times: user 3.32 s, sys: 444 ms, total: 3.77 s\n",
      "Wall time: 3.77 s\n"
     ]
    }
   ],
   "source": [
    "%%time\n",
    "for x in collectlabel:\n",
    "    #len(x)\n",
    "    for i in x:\n",
    "        Y.append(i)"
   ]
  },
  {
   "cell_type": "code",
   "execution_count": 157,
   "metadata": {},
   "outputs": [
    {
     "data": {
      "text/plain": [
       "(8794109, 1, 1)"
      ]
     },
     "execution_count": 157,
     "metadata": {},
     "output_type": "execute_result"
    }
   ],
   "source": [
    "Y = np.array(Y)\n",
    "Y.shape"
   ]
  },
  {
   "cell_type": "code",
   "execution_count": 158,
   "metadata": {},
   "outputs": [
    {
     "data": {
      "text/plain": [
       "(8794109, 1, 84)"
      ]
     },
     "execution_count": 158,
     "metadata": {},
     "output_type": "execute_result"
    }
   ],
   "source": [
    "X.shape"
   ]
  },
  {
   "cell_type": "code",
   "execution_count": 159,
   "metadata": {},
   "outputs": [
    {
     "data": {
      "text/plain": [
       "(8794109, 1)"
      ]
     },
     "execution_count": 159,
     "metadata": {},
     "output_type": "execute_result"
    }
   ],
   "source": [
    "YY = np.array([x[0][0] for x in Y]).reshape(len(Y),1)\n",
    "YY.shape"
   ]
  },
  {
   "cell_type": "code",
   "execution_count": 160,
   "metadata": {
    "scrolled": true
   },
   "outputs": [
    {
     "data": {
      "text/plain": [
       "array([[1],\n",
       "       [1],\n",
       "       [1],\n",
       "       [1],\n",
       "       [1]])"
      ]
     },
     "execution_count": 160,
     "metadata": {},
     "output_type": "execute_result"
    }
   ],
   "source": [
    "YY[:5]"
   ]
  },
  {
   "cell_type": "code",
   "execution_count": 161,
   "metadata": {},
   "outputs": [
    {
     "data": {
      "text/plain": [
       "1"
      ]
     },
     "execution_count": 161,
     "metadata": {},
     "output_type": "execute_result"
    }
   ],
   "source": [
    "## Y is ready\n",
    "thresholdd"
   ]
  },
  {
   "cell_type": "code",
   "execution_count": 162,
   "metadata": {},
   "outputs": [
    {
     "data": {
      "text/plain": [
       "((8794109, 1, 84), (8794109, 1))"
      ]
     },
     "execution_count": 162,
     "metadata": {},
     "output_type": "execute_result"
    }
   ],
   "source": [
    "X.shape, YY.shape"
   ]
  },
  {
   "cell_type": "code",
   "execution_count": 151,
   "metadata": {},
   "outputs": [
    {
     "data": {
      "text/plain": [
       "(801846, (8794109, 88))"
      ]
     },
     "execution_count": 151,
     "metadata": {},
     "output_type": "execute_result"
    }
   ],
   "source": [
    "cleaned['JobID'].nunique(), cleaned.shape"
   ]
  },
  {
   "cell_type": "code",
   "execution_count": 152,
   "metadata": {},
   "outputs": [
    {
     "data": {
      "text/plain": [
       "(801845, (8778415, 88))"
      ]
     },
     "execution_count": 152,
     "metadata": {},
     "output_type": "execute_result"
    }
   ],
   "source": [
    "takeoutdf['JobID'].nunique(), takeoutdf.shape"
   ]
  },
  {
   "cell_type": "markdown",
   "metadata": {},
   "source": [
    "## Shuffle X,Y in Unison"
   ]
  },
  {
   "cell_type": "code",
   "execution_count": 163,
   "metadata": {},
   "outputs": [],
   "source": [
    "# Unison shuffle\n",
    "def unison_shuffled_copies(a, b):\n",
    "    import numpy as np\n",
    "    assert len(a) == len(b)\n",
    "    p = np.random.permutation(len(a))\n",
    "    return a[p], b[p]"
   ]
  },
  {
   "cell_type": "code",
   "execution_count": 164,
   "metadata": {},
   "outputs": [
    {
     "name": "stdout",
     "output_type": "stream",
     "text": [
      "CPU times: user 2.01 s, sys: 1.8 s, total: 3.8 s\n",
      "Wall time: 3.81 s\n"
     ]
    }
   ],
   "source": [
    "%%time\n",
    "X_final, Y_final = unison_shuffled_copies(X,YY)"
   ]
  },
  {
   "cell_type": "code",
   "execution_count": 165,
   "metadata": {},
   "outputs": [
    {
     "data": {
      "text/plain": [
       "((8794109, 1, 84), (8794109, 1))"
      ]
     },
     "execution_count": 165,
     "metadata": {},
     "output_type": "execute_result"
    }
   ],
   "source": [
    "X_final.shape, Y_final.shape"
   ]
  },
  {
   "cell_type": "code",
   "execution_count": 166,
   "metadata": {},
   "outputs": [
    {
     "data": {
      "text/plain": [
       "array([3249000])"
      ]
     },
     "execution_count": 166,
     "metadata": {},
     "output_type": "execute_result"
    }
   ],
   "source": [
    "sum(Y_final[:])"
   ]
  },
  {
   "cell_type": "markdown",
   "metadata": {},
   "source": [
    "del X\n",
    "del Y\n",
    "del YY"
   ]
  },
  {
   "cell_type": "code",
   "execution_count": 167,
   "metadata": {},
   "outputs": [],
   "source": [
    "X_final, Y_final = unison_shuffled_copies(X_final, Y_final)"
   ]
  },
  {
   "cell_type": "code",
   "execution_count": 168,
   "metadata": {},
   "outputs": [
    {
     "data": {
      "text/plain": [
       "array([[0],\n",
       "       [1],\n",
       "       [0],\n",
       "       [1],\n",
       "       [0],\n",
       "       [1],\n",
       "       [0],\n",
       "       [0],\n",
       "       [1],\n",
       "       [0]])"
      ]
     },
     "execution_count": 168,
     "metadata": {},
     "output_type": "execute_result"
    }
   ],
   "source": [
    "Y_final[:10]"
   ]
  },
  {
   "cell_type": "markdown",
   "metadata": {},
   "source": [
    "# Start: Build test set from 'takeoutdf'"
   ]
  },
  {
   "cell_type": "markdown",
   "metadata": {},
   "source": [
    "## Build X_test, Y_test using each JobID separately"
   ]
  },
  {
   "cell_type": "code",
   "execution_count": 172,
   "metadata": {},
   "outputs": [
    {
     "data": {
      "text/plain": [
       "0    5544201\n",
       "1    3234214\n",
       "Name: Status_Failed, dtype: int64"
      ]
     },
     "execution_count": 172,
     "metadata": {},
     "output_type": "execute_result"
    }
   ],
   "source": [
    "takeoutdf.Status_Failed.value_counts()"
   ]
  },
  {
   "cell_type": "code",
   "execution_count": 173,
   "metadata": {},
   "outputs": [],
   "source": [
    "# Training Features"
   ]
  },
  {
   "cell_type": "code",
   "execution_count": 174,
   "metadata": {},
   "outputs": [
    {
     "name": "stdout",
     "output_type": "stream",
     "text": [
      "84\n"
     ]
    }
   ],
   "source": [
    "print(len(train_feat)) "
   ]
  },
  {
   "cell_type": "code",
   "execution_count": 175,
   "metadata": {
    "scrolled": false
   },
   "outputs": [
    {
     "data": {
      "text/plain": [
       "['AvailableDiskSpace',\n",
       " 'CPUConsumed',\n",
       " 'LoadAverage',\n",
       " 'MemoryUsed',\n",
       " 'RSS',\n",
       " 'Vsize',\n",
       " 'RescheduleCounter',\n",
       " 'JobType_MCProduction',\n",
       " 'JobType_MCProductionBGx0',\n",
       " 'JobType_Merge',\n",
       " 'JobType_Test',\n",
       " 'JobType_User',\n",
       " 'Site_ARC.DESY.de',\n",
       " 'Site_ARC.KIT.de',\n",
       " 'Site_ARC.LMU2.de',\n",
       " 'Site_ARC.MPPMU.de',\n",
       " 'Site_ARC.SIGNET.si',\n",
       " 'Site_CLOUD.AWS_Sydney.au',\n",
       " 'Site_CLOUD.AWS_Tokyo.jp',\n",
       " 'Site_CLOUD.AWS_Virginia.us',\n",
       " 'Site_CLOUD.CC1_Krakow.pl',\n",
       " 'Site_DIRAC.BINP.ru',\n",
       " 'Site_DIRAC.Beihang.cn',\n",
       " 'Site_DIRAC.CINVESTAV.mx',\n",
       " 'Site_DIRAC.DESY.de',\n",
       " 'Site_DIRAC.Hokudai.jp',\n",
       " 'Site_DIRAC.IITG.in',\n",
       " 'Site_DIRAC.MIPT.ru',\n",
       " 'Site_DIRAC.NDU.jp',\n",
       " 'Site_DIRAC.Nagoya.jp',\n",
       " 'Site_DIRAC.Nara-WU.jp',\n",
       " 'Site_DIRAC.Niigata.jp',\n",
       " 'Site_DIRAC.Osaka-CU.jp',\n",
       " 'Site_DIRAC.PNNL.us',\n",
       " 'Site_DIRAC.PNNL2.us',\n",
       " 'Site_DIRAC.RCNP.jp',\n",
       " 'Site_DIRAC.SSU.kr',\n",
       " 'Site_DIRAC.TIFR.in',\n",
       " 'Site_DIRAC.TMU.jp',\n",
       " 'Site_DIRAC.Test.jp',\n",
       " 'Site_DIRAC.Tokyo.jp',\n",
       " 'Site_DIRAC.UAS.mx',\n",
       " 'Site_DIRAC.UVic.ca',\n",
       " 'Site_DIRAC.Yamagata.jp',\n",
       " 'Site_DIRAC.Yonsei.kr',\n",
       " 'Site_Group.DESY.de',\n",
       " 'Site_Group.KEK.jp',\n",
       " 'Site_Group.KEK2.jp',\n",
       " 'Site_Group.PNNL.us',\n",
       " 'Site_LCG.CESNET.cz',\n",
       " 'Site_LCG.CNAF.it',\n",
       " 'Site_LCG.CYFRONET.pl',\n",
       " 'Site_LCG.Cosenza.it',\n",
       " 'Site_LCG.DESY.de',\n",
       " 'Site_LCG.Frascati.it',\n",
       " 'Site_LCG.HEPHY.at',\n",
       " 'Site_LCG.KEK.jp',\n",
       " 'Site_LCG.KEK2.jp',\n",
       " 'Site_LCG.KISTI.kr',\n",
       " 'Site_LCG.KIT.de',\n",
       " 'Site_LCG.KMI.jp',\n",
       " 'Site_LCG.Legnaro.it',\n",
       " 'Site_LCG.MPPMU.de',\n",
       " 'Site_LCG.McGill.ca',\n",
       " 'Site_LCG.Melbourne.au',\n",
       " 'Site_LCG.NCHC.tw',\n",
       " 'Site_LCG.NTU.tw',\n",
       " 'Site_LCG.Napoli.it',\n",
       " 'Site_LCG.Pisa.it',\n",
       " 'Site_LCG.Roma3.it',\n",
       " 'Site_LCG.Torino.it',\n",
       " 'Site_LCG.ULAKBIM.tr',\n",
       " 'Site_Multiple',\n",
       " 'Site_OSG.UMiss.us',\n",
       " 'Site_SSH.KMI.jp',\n",
       " 'UserPriority_1',\n",
       " 'UserPriority_2',\n",
       " 'UserPriority_3',\n",
       " 'UserPriority_4',\n",
       " 'UserPriority_5',\n",
       " 'UserPriority_6',\n",
       " 'UserPriority_7',\n",
       " 'UserPriority_9',\n",
       " 'UserPriority_10']"
      ]
     },
     "execution_count": 175,
     "metadata": {},
     "output_type": "execute_result"
    }
   ],
   "source": [
    "(train_feat)"
   ]
  },
  {
   "cell_type": "code",
   "execution_count": 176,
   "metadata": {},
   "outputs": [
    {
     "name": "stdout",
     "output_type": "stream",
     "text": [
      "['Status_Failed']\n"
     ]
    }
   ],
   "source": [
    "# Label Column ('Status_Failed' is the label column)\n",
    "print(label_col)"
   ]
  },
  {
   "cell_type": "code",
   "execution_count": 177,
   "metadata": {},
   "outputs": [
    {
     "data": {
      "text/plain": [
       "(8778415, 88)"
      ]
     },
     "execution_count": 177,
     "metadata": {},
     "output_type": "execute_result"
    }
   ],
   "source": [
    "takeoutdf.shape"
   ]
  },
  {
   "cell_type": "code",
   "execution_count": 178,
   "metadata": {},
   "outputs": [
    {
     "data": {
      "text/plain": [
       "0"
      ]
     },
     "execution_count": 178,
     "metadata": {},
     "output_type": "execute_result"
    }
   ],
   "source": [
    "takeoutdf.isnull().values.ravel().sum()"
   ]
  },
  {
   "cell_type": "code",
   "execution_count": 179,
   "metadata": {},
   "outputs": [],
   "source": [
    "takeoutdf = takeoutdf.dropna()"
   ]
  },
  {
   "cell_type": "code",
   "execution_count": 180,
   "metadata": {
    "scrolled": true
   },
   "outputs": [
    {
     "data": {
      "text/plain": [
       "0"
      ]
     },
     "execution_count": 180,
     "metadata": {},
     "output_type": "execute_result"
    }
   ],
   "source": [
    "takeoutdf.isnull().values.ravel().sum()"
   ]
  },
  {
   "cell_type": "code",
   "execution_count": 181,
   "metadata": {},
   "outputs": [
    {
     "data": {
      "text/plain": [
       "Index(['JobID', 'HeartBeatTime', 'AvailableDiskSpace', 'CPUConsumed',\n",
       "       'LoadAverage', 'MemoryUsed', 'RSS', 'Vsize', 'WallClockTime',\n",
       "       'RescheduleCounter', 'JobType_MCProduction', 'JobType_MCProductionBGx0',\n",
       "       'JobType_Merge', 'JobType_Test', 'JobType_User', 'Site_ARC.DESY.de',\n",
       "       'Site_ARC.KIT.de', 'Site_ARC.LMU2.de', 'Site_ARC.MPPMU.de',\n",
       "       'Site_ARC.SIGNET.si', 'Site_CLOUD.AWS_Sydney.au',\n",
       "       'Site_CLOUD.AWS_Tokyo.jp', 'Site_CLOUD.AWS_Virginia.us',\n",
       "       'Site_CLOUD.CC1_Krakow.pl', 'Site_DIRAC.BINP.ru',\n",
       "       'Site_DIRAC.Beihang.cn', 'Site_DIRAC.CINVESTAV.mx',\n",
       "       'Site_DIRAC.DESY.de', 'Site_DIRAC.Hokudai.jp', 'Site_DIRAC.IITG.in',\n",
       "       'Site_DIRAC.MIPT.ru', 'Site_DIRAC.NDU.jp', 'Site_DIRAC.Nagoya.jp',\n",
       "       'Site_DIRAC.Nara-WU.jp', 'Site_DIRAC.Niigata.jp',\n",
       "       'Site_DIRAC.Osaka-CU.jp', 'Site_DIRAC.PNNL.us', 'Site_DIRAC.PNNL2.us',\n",
       "       'Site_DIRAC.RCNP.jp', 'Site_DIRAC.SSU.kr', 'Site_DIRAC.TIFR.in',\n",
       "       'Site_DIRAC.TMU.jp', 'Site_DIRAC.Test.jp', 'Site_DIRAC.Tokyo.jp',\n",
       "       'Site_DIRAC.UAS.mx', 'Site_DIRAC.UVic.ca', 'Site_DIRAC.Yamagata.jp',\n",
       "       'Site_DIRAC.Yonsei.kr', 'Site_Group.DESY.de', 'Site_Group.KEK.jp',\n",
       "       'Site_Group.KEK2.jp', 'Site_Group.PNNL.us', 'Site_LCG.CESNET.cz',\n",
       "       'Site_LCG.CNAF.it', 'Site_LCG.CYFRONET.pl', 'Site_LCG.Cosenza.it',\n",
       "       'Site_LCG.DESY.de', 'Site_LCG.Frascati.it', 'Site_LCG.HEPHY.at',\n",
       "       'Site_LCG.KEK.jp', 'Site_LCG.KEK2.jp', 'Site_LCG.KISTI.kr',\n",
       "       'Site_LCG.KIT.de', 'Site_LCG.KMI.jp', 'Site_LCG.Legnaro.it',\n",
       "       'Site_LCG.MPPMU.de', 'Site_LCG.McGill.ca', 'Site_LCG.Melbourne.au',\n",
       "       'Site_LCG.NCHC.tw', 'Site_LCG.NTU.tw', 'Site_LCG.Napoli.it',\n",
       "       'Site_LCG.Pisa.it', 'Site_LCG.Roma3.it', 'Site_LCG.Torino.it',\n",
       "       'Site_LCG.ULAKBIM.tr', 'Site_Multiple', 'Site_OSG.UMiss.us',\n",
       "       'Site_SSH.KMI.jp', 'Status_Failed', 'UserPriority_1', 'UserPriority_2',\n",
       "       'UserPriority_3', 'UserPriority_4', 'UserPriority_5', 'UserPriority_6',\n",
       "       'UserPriority_7', 'UserPriority_9', 'UserPriority_10'],\n",
       "      dtype='object')"
      ]
     },
     "execution_count": 181,
     "metadata": {},
     "output_type": "execute_result"
    }
   ],
   "source": [
    "takeoutdf.columns"
   ]
  },
  {
   "cell_type": "markdown",
   "metadata": {},
   "source": [
    "########################################################\n",
    "takeoutdf.to_pickle('takeoutdf_for_test_samples.pickle')\n",
    "########################################################"
   ]
  },
  {
   "cell_type": "markdown",
   "metadata": {},
   "source": [
    "###  Make X_test"
   ]
  },
  {
   "cell_type": "code",
   "execution_count": 182,
   "metadata": {},
   "outputs": [],
   "source": [
    "takeoutdfgrouped = takeoutdf.groupby('JobID')"
   ]
  },
  {
   "cell_type": "code",
   "execution_count": 183,
   "metadata": {},
   "outputs": [
    {
     "data": {
      "text/plain": [
       "84"
      ]
     },
     "execution_count": 183,
     "metadata": {},
     "output_type": "execute_result"
    }
   ],
   "source": [
    "len(train_feat)"
   ]
  },
  {
   "cell_type": "code",
   "execution_count": 184,
   "metadata": {},
   "outputs": [
    {
     "name": "stdout",
     "output_type": "stream",
     "text": [
      "CPU times: user 12min 28s, sys: 1min 40s, total: 14min 9s\n",
      "Wall time: 24min 4s\n"
     ]
    }
   ],
   "source": [
    "%%time\n",
    "collectXtest = applyParallel(takeoutdfgrouped, samples_features)"
   ]
  },
  {
   "cell_type": "code",
   "execution_count": 185,
   "metadata": {},
   "outputs": [],
   "source": [
    "import pickle\n",
    "\n",
    "with open('mega_collectXtest.pickle', 'wb') as handle:\n",
    "    pickle.dump(collectXtest, handle, protocol=pickle.HIGHEST_PROTOCOL)"
   ]
  },
  {
   "cell_type": "code",
   "execution_count": 186,
   "metadata": {},
   "outputs": [
    {
     "name": "stdout",
     "output_type": "stream",
     "text": [
      "42849294 Lengths match\n",
      "37304595 Lengths match\n",
      "41515302 Lengths match\n",
      "33169777 Lengths match\n",
      "43003503 Lengths match\n",
      "44079441 Lengths match\n",
      "47573569 Lengths match\n",
      "43613146 Lengths match\n",
      "45807203 Lengths match\n",
      "37688976 Lengths match\n",
      "41594301 Lengths match\n",
      "37604903 Lengths match\n",
      "46637189 Lengths match\n",
      "46247603 Lengths match\n",
      "45762130 Lengths match\n",
      "42818419 Lengths match\n",
      "45457464 Lengths match\n",
      "39959275 Lengths match\n",
      "43042653 Lengths match\n",
      "45132138 Lengths match\n"
     ]
    }
   ],
   "source": [
    "# Testcase 1 of function sample_features:\n",
    "\n",
    "check = 0\n",
    "j_checks = takeoutdf.JobID.sample(20)\n",
    "\n",
    "for k in j_checks:\n",
    "    \n",
    "    v = takeoutdfgrouped.get_group(k)\n",
    "    \n",
    "    if(True):\n",
    "        #print(v.columns.tolist())\n",
    "        A = np.array(v)\n",
    "        #print(train_feat)\n",
    "        B = samples_features(v)\n",
    "        check += 1\n",
    "        \n",
    "        if(len(A) == len(B)):\n",
    "            print(k, 'Lengths match')\n",
    "        else:\n",
    "            print(k, 'Lengths NOT match')\n",
    "        \n",
    "        # Tests\n",
    "        for x,y in zip(A,B):\n",
    "            #print(x)\n",
    "            #print(y)\n",
    "            \n",
    "            if not (np.all([ m==n for (m,n) in zip(x[2:8] , y[0][0:6]) ])):\n",
    "                print(k, 'NOK')\n",
    "                \n",
    "    if(check == len(j_checks)):\n",
    "        break"
   ]
  },
  {
   "cell_type": "code",
   "execution_count": 187,
   "metadata": {},
   "outputs": [
    {
     "data": {
      "text/html": [
       "<div>\n",
       "<style scoped>\n",
       "    .dataframe tbody tr th:only-of-type {\n",
       "        vertical-align: middle;\n",
       "    }\n",
       "\n",
       "    .dataframe tbody tr th {\n",
       "        vertical-align: top;\n",
       "    }\n",
       "\n",
       "    .dataframe thead th {\n",
       "        text-align: right;\n",
       "    }\n",
       "</style>\n",
       "<table border=\"1\" class=\"dataframe\">\n",
       "  <thead>\n",
       "    <tr style=\"text-align: right;\">\n",
       "      <th></th>\n",
       "      <th>JobID</th>\n",
       "      <th>HeartBeatTime</th>\n",
       "      <th>AvailableDiskSpace</th>\n",
       "      <th>CPUConsumed</th>\n",
       "      <th>LoadAverage</th>\n",
       "      <th>MemoryUsed</th>\n",
       "      <th>RSS</th>\n",
       "      <th>Vsize</th>\n",
       "      <th>WallClockTime</th>\n",
       "      <th>RescheduleCounter</th>\n",
       "      <th>...</th>\n",
       "      <th>Status_Failed</th>\n",
       "      <th>UserPriority_1</th>\n",
       "      <th>UserPriority_2</th>\n",
       "      <th>UserPriority_3</th>\n",
       "      <th>UserPriority_4</th>\n",
       "      <th>UserPriority_5</th>\n",
       "      <th>UserPriority_6</th>\n",
       "      <th>UserPriority_7</th>\n",
       "      <th>UserPriority_9</th>\n",
       "      <th>UserPriority_10</th>\n",
       "    </tr>\n",
       "  </thead>\n",
       "  <tbody>\n",
       "    <tr>\n",
       "      <th>1</th>\n",
       "      <td>23141083</td>\n",
       "      <td>2015-08-07 13:29:48</td>\n",
       "      <td>0.000076</td>\n",
       "      <td>0.000030</td>\n",
       "      <td>0.000501</td>\n",
       "      <td>0.041367</td>\n",
       "      <td>0.000670</td>\n",
       "      <td>0.000016</td>\n",
       "      <td>0.000010</td>\n",
       "      <td>0</td>\n",
       "      <td>...</td>\n",
       "      <td>1</td>\n",
       "      <td>0</td>\n",
       "      <td>0</td>\n",
       "      <td>0</td>\n",
       "      <td>0</td>\n",
       "      <td>0</td>\n",
       "      <td>0</td>\n",
       "      <td>0</td>\n",
       "      <td>0</td>\n",
       "      <td>0</td>\n",
       "    </tr>\n",
       "    <tr>\n",
       "      <th>42</th>\n",
       "      <td>23205643</td>\n",
       "      <td>2015-08-08 22:50:00</td>\n",
       "      <td>0.000030</td>\n",
       "      <td>0.000030</td>\n",
       "      <td>0.000508</td>\n",
       "      <td>0.047930</td>\n",
       "      <td>0.000305</td>\n",
       "      <td>0.000007</td>\n",
       "      <td>0.000012</td>\n",
       "      <td>0</td>\n",
       "      <td>...</td>\n",
       "      <td>1</td>\n",
       "      <td>0</td>\n",
       "      <td>0</td>\n",
       "      <td>0</td>\n",
       "      <td>0</td>\n",
       "      <td>0</td>\n",
       "      <td>0</td>\n",
       "      <td>0</td>\n",
       "      <td>0</td>\n",
       "      <td>0</td>\n",
       "    </tr>\n",
       "    <tr>\n",
       "      <th>43</th>\n",
       "      <td>23205643</td>\n",
       "      <td>2015-08-08 23:20:01</td>\n",
       "      <td>0.000030</td>\n",
       "      <td>0.006463</td>\n",
       "      <td>0.000551</td>\n",
       "      <td>0.049164</td>\n",
       "      <td>0.004673</td>\n",
       "      <td>0.000025</td>\n",
       "      <td>0.007010</td>\n",
       "      <td>0</td>\n",
       "      <td>...</td>\n",
       "      <td>1</td>\n",
       "      <td>0</td>\n",
       "      <td>0</td>\n",
       "      <td>0</td>\n",
       "      <td>0</td>\n",
       "      <td>0</td>\n",
       "      <td>0</td>\n",
       "      <td>0</td>\n",
       "      <td>0</td>\n",
       "      <td>0</td>\n",
       "    </tr>\n",
       "    <tr>\n",
       "      <th>44</th>\n",
       "      <td>23205643</td>\n",
       "      <td>2015-08-08 23:50:00</td>\n",
       "      <td>0.000030</td>\n",
       "      <td>0.013179</td>\n",
       "      <td>0.000551</td>\n",
       "      <td>0.050041</td>\n",
       "      <td>0.004786</td>\n",
       "      <td>0.000027</td>\n",
       "      <td>0.013997</td>\n",
       "      <td>0</td>\n",
       "      <td>...</td>\n",
       "      <td>1</td>\n",
       "      <td>0</td>\n",
       "      <td>0</td>\n",
       "      <td>0</td>\n",
       "      <td>0</td>\n",
       "      <td>0</td>\n",
       "      <td>0</td>\n",
       "      <td>0</td>\n",
       "      <td>0</td>\n",
       "      <td>0</td>\n",
       "    </tr>\n",
       "  </tbody>\n",
       "</table>\n",
       "<p>4 rows × 88 columns</p>\n",
       "</div>"
      ],
      "text/plain": [
       "       JobID       HeartBeatTime  AvailableDiskSpace  CPUConsumed  \\\n",
       "1   23141083 2015-08-07 13:29:48            0.000076     0.000030   \n",
       "42  23205643 2015-08-08 22:50:00            0.000030     0.000030   \n",
       "43  23205643 2015-08-08 23:20:01            0.000030     0.006463   \n",
       "44  23205643 2015-08-08 23:50:00            0.000030     0.013179   \n",
       "\n",
       "    LoadAverage  MemoryUsed       RSS     Vsize  WallClockTime  \\\n",
       "1      0.000501    0.041367  0.000670  0.000016       0.000010   \n",
       "42     0.000508    0.047930  0.000305  0.000007       0.000012   \n",
       "43     0.000551    0.049164  0.004673  0.000025       0.007010   \n",
       "44     0.000551    0.050041  0.004786  0.000027       0.013997   \n",
       "\n",
       "    RescheduleCounter       ...         Status_Failed  UserPriority_1  \\\n",
       "1                   0       ...                     1               0   \n",
       "42                  0       ...                     1               0   \n",
       "43                  0       ...                     1               0   \n",
       "44                  0       ...                     1               0   \n",
       "\n",
       "    UserPriority_2  UserPriority_3  UserPriority_4  UserPriority_5  \\\n",
       "1                0               0               0               0   \n",
       "42               0               0               0               0   \n",
       "43               0               0               0               0   \n",
       "44               0               0               0               0   \n",
       "\n",
       "    UserPriority_6  UserPriority_7  UserPriority_9  UserPriority_10  \n",
       "1                0               0               0                0  \n",
       "42               0               0               0                0  \n",
       "43               0               0               0                0  \n",
       "44               0               0               0                0  \n",
       "\n",
       "[4 rows x 88 columns]"
      ]
     },
     "execution_count": 187,
     "metadata": {},
     "output_type": "execute_result"
    }
   ],
   "source": [
    "takeoutdf.head(4)"
   ]
  },
  {
   "cell_type": "code",
   "execution_count": 190,
   "metadata": {},
   "outputs": [
    {
     "data": {
      "text/plain": [
       "(18, 1, 84)"
      ]
     },
     "execution_count": 190,
     "metadata": {},
     "output_type": "execute_result"
    }
   ],
   "source": [
    "collectXtest[100].shape"
   ]
  },
  {
   "cell_type": "markdown",
   "metadata": {},
   "source": [
    "### Unpack X_test"
   ]
  },
  {
   "cell_type": "code",
   "execution_count": 191,
   "metadata": {},
   "outputs": [],
   "source": [
    "X_test=[]"
   ]
  },
  {
   "cell_type": "code",
   "execution_count": 192,
   "metadata": {},
   "outputs": [
    {
     "name": "stdout",
     "output_type": "stream",
     "text": [
      "CPU times: user 4.23 s, sys: 2.03 s, total: 6.26 s\n",
      "Wall time: 6.38 s\n"
     ]
    }
   ],
   "source": [
    "%%time\n",
    "for x in collectXtest:\n",
    "    #len(x)\n",
    "    for i in x:\n",
    "        X_test.append(i)"
   ]
  },
  {
   "cell_type": "code",
   "execution_count": 193,
   "metadata": {},
   "outputs": [
    {
     "data": {
      "text/plain": [
       "(8778415, 1, 84)"
      ]
     },
     "execution_count": 193,
     "metadata": {},
     "output_type": "execute_result"
    }
   ],
   "source": [
    "X_test = np.array(X_test)\n",
    "X_test.shape"
   ]
  },
  {
   "cell_type": "code",
   "execution_count": null,
   "metadata": {},
   "outputs": [],
   "source": [
    "## X_test is ready"
   ]
  },
  {
   "cell_type": "markdown",
   "metadata": {},
   "source": [
    "### Make Y_test"
   ]
  },
  {
   "cell_type": "code",
   "execution_count": 194,
   "metadata": {},
   "outputs": [
    {
     "name": "stdout",
     "output_type": "stream",
     "text": [
      "CPU times: user 13min 5s, sys: 1min 50s, total: 14min 55s\n",
      "Wall time: 15min 22s\n"
     ]
    }
   ],
   "source": [
    "%%time\n",
    "collecttestlabel = applyParallel(takeoutdfgrouped, samples_label)"
   ]
  },
  {
   "cell_type": "code",
   "execution_count": 195,
   "metadata": {},
   "outputs": [
    {
     "data": {
      "text/plain": [
       "801845"
      ]
     },
     "execution_count": 195,
     "metadata": {},
     "output_type": "execute_result"
    }
   ],
   "source": [
    "len(collecttestlabel)"
   ]
  },
  {
   "cell_type": "code",
   "execution_count": 196,
   "metadata": {},
   "outputs": [],
   "source": [
    "import pickle\n",
    "\n",
    "with open('mega_collecttestlabel.pickle', 'wb') as handle:\n",
    "    pickle.dump(collecttestlabel, handle, protocol=pickle.HIGHEST_PROTOCOL)"
   ]
  },
  {
   "cell_type": "markdown",
   "metadata": {},
   "source": [
    "### Unpack Y_test"
   ]
  },
  {
   "cell_type": "code",
   "execution_count": 197,
   "metadata": {},
   "outputs": [],
   "source": [
    "Y_t=[]"
   ]
  },
  {
   "cell_type": "code",
   "execution_count": 198,
   "metadata": {},
   "outputs": [
    {
     "name": "stdout",
     "output_type": "stream",
     "text": [
      "CPU times: user 3.39 s, sys: 453 ms, total: 3.84 s\n",
      "Wall time: 3.87 s\n"
     ]
    }
   ],
   "source": [
    "%%time\n",
    "for x in collecttestlabel:\n",
    "    #len(x)\n",
    "    for i in x:\n",
    "        Y_t.append(i)"
   ]
  },
  {
   "cell_type": "code",
   "execution_count": 199,
   "metadata": {},
   "outputs": [
    {
     "data": {
      "text/plain": [
       "(8778415, 1, 1)"
      ]
     },
     "execution_count": 199,
     "metadata": {},
     "output_type": "execute_result"
    }
   ],
   "source": [
    "Y_t = np.array(Y_t)\n",
    "Y_t.shape"
   ]
  },
  {
   "cell_type": "code",
   "execution_count": 200,
   "metadata": {},
   "outputs": [
    {
     "data": {
      "text/plain": [
       "(8778415, 1)"
      ]
     },
     "execution_count": 200,
     "metadata": {},
     "output_type": "execute_result"
    }
   ],
   "source": [
    "Y_test = np.array([x[0][0] for x in Y_t]).reshape(len(Y_t),1)\n",
    "Y_test.shape"
   ]
  },
  {
   "cell_type": "code",
   "execution_count": 201,
   "metadata": {
    "scrolled": true
   },
   "outputs": [
    {
     "data": {
      "text/plain": [
       "array([[1],\n",
       "       [1],\n",
       "       [1],\n",
       "       [1],\n",
       "       [1]])"
      ]
     },
     "execution_count": 201,
     "metadata": {},
     "output_type": "execute_result"
    }
   ],
   "source": [
    "Y_test[:5]"
   ]
  },
  {
   "cell_type": "code",
   "execution_count": 202,
   "metadata": {},
   "outputs": [],
   "source": [
    "## Y_test is ready"
   ]
  },
  {
   "cell_type": "code",
   "execution_count": 203,
   "metadata": {},
   "outputs": [
    {
     "data": {
      "text/plain": [
       "((8778415, 1, 84), (8778415, 1))"
      ]
     },
     "execution_count": 203,
     "metadata": {},
     "output_type": "execute_result"
    }
   ],
   "source": [
    "X_test.shape, Y_test.shape"
   ]
  },
  {
   "cell_type": "code",
   "execution_count": 204,
   "metadata": {},
   "outputs": [
    {
     "data": {
      "text/plain": [
       "((8794109, 1, 84), (8794109, 1))"
      ]
     },
     "execution_count": 204,
     "metadata": {},
     "output_type": "execute_result"
    }
   ],
   "source": [
    "X_final.shape, Y_final.shape"
   ]
  },
  {
   "cell_type": "code",
   "execution_count": 205,
   "metadata": {},
   "outputs": [
    {
     "data": {
      "text/plain": [
       "(array([3234214]), 8778415)"
      ]
     },
     "execution_count": 205,
     "metadata": {},
     "output_type": "execute_result"
    }
   ],
   "source": [
    "sum(Y_test[:]), len(Y_test)"
   ]
  },
  {
   "cell_type": "code",
   "execution_count": 206,
   "metadata": {},
   "outputs": [],
   "source": [
    "del Y_t"
   ]
  },
  {
   "cell_type": "markdown",
   "metadata": {},
   "source": [
    "# End test set from 'takeoutdf'"
   ]
  },
  {
   "cell_type": "markdown",
   "metadata": {},
   "source": [
    "## Build Model"
   ]
  },
  {
   "cell_type": "code",
   "execution_count": 207,
   "metadata": {},
   "outputs": [],
   "source": [
    "input_length = X_final.shape[1]\n",
    "\n",
    "input_dim = X_final.shape[2]\n",
    "\n",
    "# Output dimensions is the shape of a single output vector\n",
    "# In this case it's just 1, but it could be more\n",
    "output_dim = len(Y_final[0])"
   ]
  },
  {
   "cell_type": "code",
   "execution_count": 208,
   "metadata": {},
   "outputs": [
    {
     "data": {
      "text/plain": [
       "0.36945186829046583"
      ]
     },
     "execution_count": 208,
     "metadata": {},
     "output_type": "execute_result"
    }
   ],
   "source": [
    "sum([x[0] for x in Y_final])/ len(Y_final)"
   ]
  },
  {
   "cell_type": "code",
   "execution_count": 209,
   "metadata": {},
   "outputs": [
    {
     "data": {
      "text/plain": [
       "array([[0],\n",
       "       [1],\n",
       "       [0],\n",
       "       [1],\n",
       "       [0]])"
      ]
     },
     "execution_count": 209,
     "metadata": {},
     "output_type": "execute_result"
    }
   ],
   "source": [
    "Y_final[:5]"
   ]
  },
  {
   "cell_type": "code",
   "execution_count": 210,
   "metadata": {},
   "outputs": [
    {
     "name": "stderr",
     "output_type": "stream",
     "text": [
      "/data/home/a1singh/anaconda3/envs/keras/lib/python3.5/site-packages/h5py/__init__.py:36: FutureWarning: Conversion of the second argument of issubdtype from `float` to `np.floating` is deprecated. In future, it will be treated as `np.float64 == np.dtype(float).type`.\n",
      "  from ._conv import register_converters as _register_converters\n",
      "Using TensorFlow backend.\n"
     ]
    },
    {
     "data": {
      "text/plain": [
       "(84, 1, 1)"
      ]
     },
     "execution_count": 210,
     "metadata": {},
     "output_type": "execute_result"
    }
   ],
   "source": [
    "from keras.models import Model, Sequential\n",
    "from keras.layers import LSTM, Dense, Embedding, Dropout\n",
    "input_dim, input_length, output_dim"
   ]
  },
  {
   "cell_type": "code",
   "execution_count": 211,
   "metadata": {},
   "outputs": [],
   "source": [
    "# Model 1\n",
    "\n",
    "def create_model1(input_dim = input_dim, input_length = input_length, output_dim=output_dim):\n",
    "    print ('Creating model 1...')\n",
    "    model = Sequential()\n",
    "    model.add(LSTM(20, input_shape=(input_length,input_dim),return_sequences=True))\n",
    "    model.add(LSTM(20))\n",
    "    model.add(Dense(output_dim, activation='sigmoid'))\n",
    "\n",
    "    print ('Compiling...')\n",
    "    model.compile(loss='binary_crossentropy',\n",
    "                  optimizer='adam',\n",
    "                  metrics=['binary_accuracy'])\n",
    "    return model"
   ]
  },
  {
   "cell_type": "code",
   "execution_count": 212,
   "metadata": {},
   "outputs": [],
   "source": [
    "# Model 2\n",
    "\n",
    "def create_model2(input_dim = input_dim, input_length = input_length, output_dim=output_dim):\n",
    "    print ('Creating model 2...')\n",
    "    model = Sequential()\n",
    "    model.add(LSTM(50, input_shape=(input_length,input_dim),return_sequences=True))\n",
    "    model.add(LSTM(50, input_shape=(input_length,input_dim),return_sequences=True))\n",
    "    model.add(LSTM(50, input_shape=(input_length,input_dim),return_sequences=True))\n",
    "    model.add(LSTM(50))\n",
    "    model.add(Dense(output_dim, activation='sigmoid'))\n",
    "\n",
    "    print ('Compiling...')\n",
    "    model.compile(loss='binary_crossentropy',\n",
    "                  optimizer='adam',\n",
    "                  metrics=['binary_accuracy'])\n",
    "    return model"
   ]
  },
  {
   "cell_type": "code",
   "execution_count": 213,
   "metadata": {},
   "outputs": [],
   "source": [
    "# Model 3\n",
    "\n",
    "def create_model3(input_dim = input_dim, input_length = input_length, output_dim=output_dim):\n",
    "    print ('Creating model 3...')\n",
    "    model = Sequential()\n",
    "    model.add(LSTM(100, input_shape=(input_length,input_dim),return_sequences=True))\n",
    "    model.add(LSTM(100, input_shape=(input_length,input_dim),return_sequences=True))\n",
    "    model.add(LSTM(100, input_shape=(input_length,input_dim),return_sequences=True))\n",
    "    model.add(LSTM(100, input_shape=(input_length,input_dim),return_sequences=True))\n",
    "    model.add(LSTM(100, input_shape=(input_length,input_dim),return_sequences=True))\n",
    "    model.add(LSTM(100))\n",
    "    model.add(Dense(output_dim, activation='sigmoid'))\n",
    "\n",
    "    print ('Compiling...')\n",
    "    model.compile(loss='binary_crossentropy',\n",
    "                  optimizer='adam',\n",
    "                  metrics=['binary_accuracy'])\n",
    "    return model"
   ]
  },
  {
   "cell_type": "markdown",
   "metadata": {},
   "source": [
    "# Model 1"
   ]
  },
  {
   "cell_type": "code",
   "execution_count": 218,
   "metadata": {},
   "outputs": [
    {
     "name": "stdout",
     "output_type": "stream",
     "text": [
      "Creating model 1...\n",
      "Compiling...\n"
     ]
    }
   ],
   "source": [
    "model1 = create_model1()"
   ]
  },
  {
   "cell_type": "code",
   "execution_count": 219,
   "metadata": {
    "scrolled": false
   },
   "outputs": [
    {
     "name": "stdout",
     "output_type": "stream",
     "text": [
      "Fitting model...\n",
      "Train on 7914698 samples, validate on 879411 samples\n",
      "Epoch 1/100\n",
      "7914698/7914698 [==============================] - 202s 26us/step - loss: 0.5036 - binary_accuracy: 0.7531 - val_loss: 0.4856 - val_binary_accuracy: 0.7667\n",
      "Epoch 2/100\n",
      "7914698/7914698 [==============================] - 199s 25us/step - loss: 0.4825 - binary_accuracy: 0.7678 - val_loss: 0.4803 - val_binary_accuracy: 0.7701\n",
      "Epoch 3/100\n",
      "7914698/7914698 [==============================] - 197s 25us/step - loss: 0.4760 - binary_accuracy: 0.7715 - val_loss: 0.4718 - val_binary_accuracy: 0.7751\n",
      "Epoch 4/100\n",
      "7914698/7914698 [==============================] - 200s 25us/step - loss: 0.4704 - binary_accuracy: 0.7747 - val_loss: 0.4671 - val_binary_accuracy: 0.7767\n",
      "Epoch 5/100\n",
      "7914698/7914698 [==============================] - 198s 25us/step - loss: 0.4661 - binary_accuracy: 0.7772 - val_loss: 0.4625 - val_binary_accuracy: 0.7794\n",
      "Epoch 6/100\n",
      "7914698/7914698 [==============================] - 195s 25us/step - loss: 0.4622 - binary_accuracy: 0.7794 - val_loss: 0.4604 - val_binary_accuracy: 0.7815\n",
      "Epoch 7/100\n",
      "7914698/7914698 [==============================] - 199s 25us/step - loss: 0.4586 - binary_accuracy: 0.7814 - val_loss: 0.4563 - val_binary_accuracy: 0.7823\n",
      "Epoch 8/100\n",
      "7914698/7914698 [==============================] - 196s 25us/step - loss: 0.4555 - binary_accuracy: 0.7830 - val_loss: 0.4532 - val_binary_accuracy: 0.7841\n",
      "Epoch 9/100\n",
      "7914698/7914698 [==============================] - 192s 24us/step - loss: 0.4529 - binary_accuracy: 0.7844 - val_loss: 0.4507 - val_binary_accuracy: 0.7858\n",
      "Epoch 10/100\n",
      "7914698/7914698 [==============================] - 192s 24us/step - loss: 0.4505 - binary_accuracy: 0.7856 - val_loss: 0.4494 - val_binary_accuracy: 0.7863\n",
      "Epoch 11/100\n",
      "7914698/7914698 [==============================] - 216s 27us/step - loss: 0.4483 - binary_accuracy: 0.7867 - val_loss: 0.4465 - val_binary_accuracy: 0.7875\n",
      "Epoch 12/100\n",
      "7914698/7914698 [==============================] - 212s 27us/step - loss: 0.4462 - binary_accuracy: 0.7878 - val_loss: 0.4452 - val_binary_accuracy: 0.7890\n",
      "Epoch 13/100\n",
      "7914698/7914698 [==============================] - 222s 28us/step - loss: 0.4445 - binary_accuracy: 0.7887 - val_loss: 0.4430 - val_binary_accuracy: 0.7908\n",
      "Epoch 14/100\n",
      "7914698/7914698 [==============================] - 225s 28us/step - loss: 0.4431 - binary_accuracy: 0.7895 - val_loss: 0.4420 - val_binary_accuracy: 0.7902\n",
      "Epoch 15/100\n",
      "7914698/7914698 [==============================] - 224s 28us/step - loss: 0.4418 - binary_accuracy: 0.7901 - val_loss: 0.4401 - val_binary_accuracy: 0.7910\n",
      "Epoch 16/100\n",
      "7914698/7914698 [==============================] - 220s 28us/step - loss: 0.4408 - binary_accuracy: 0.7907 - val_loss: 0.4400 - val_binary_accuracy: 0.7921\n",
      "Epoch 17/100\n",
      "7914698/7914698 [==============================] - 219s 28us/step - loss: 0.4398 - binary_accuracy: 0.7912 - val_loss: 0.4377 - val_binary_accuracy: 0.7926\n",
      "Epoch 18/100\n",
      "7914698/7914698 [==============================] - 222s 28us/step - loss: 0.4389 - binary_accuracy: 0.7917 - val_loss: 0.4370 - val_binary_accuracy: 0.7929\n",
      "Epoch 19/100\n",
      "7914698/7914698 [==============================] - 224s 28us/step - loss: 0.4380 - binary_accuracy: 0.7922 - val_loss: 0.4374 - val_binary_accuracy: 0.7928\n",
      "Epoch 20/100\n",
      "7914698/7914698 [==============================] - 221s 28us/step - loss: 0.4372 - binary_accuracy: 0.7927 - val_loss: 0.4363 - val_binary_accuracy: 0.7934\n",
      "Epoch 21/100\n",
      "7914698/7914698 [==============================] - 226s 29us/step - loss: 0.4364 - binary_accuracy: 0.7932 - val_loss: 0.4352 - val_binary_accuracy: 0.7939\n",
      "Epoch 22/100\n",
      "7914698/7914698 [==============================] - 225s 28us/step - loss: 0.4356 - binary_accuracy: 0.7937 - val_loss: 0.4342 - val_binary_accuracy: 0.7950\n",
      "Epoch 23/100\n",
      "7914698/7914698 [==============================] - 224s 28us/step - loss: 0.4348 - binary_accuracy: 0.7942 - val_loss: 0.4330 - val_binary_accuracy: 0.7957\n",
      "Epoch 24/100\n",
      "7914698/7914698 [==============================] - 227s 29us/step - loss: 0.4341 - binary_accuracy: 0.7946 - val_loss: 0.4347 - val_binary_accuracy: 0.7942\n",
      "Epoch 25/100\n",
      "7914698/7914698 [==============================] - 226s 29us/step - loss: 0.4335 - binary_accuracy: 0.7950 - val_loss: 0.4321 - val_binary_accuracy: 0.7959\n",
      "Epoch 26/100\n",
      "7914698/7914698 [==============================] - 220s 28us/step - loss: 0.4328 - binary_accuracy: 0.7954 - val_loss: 0.4331 - val_binary_accuracy: 0.7964\n",
      "Epoch 27/100\n",
      "7914698/7914698 [==============================] - 220s 28us/step - loss: 0.4322 - binary_accuracy: 0.7957 - val_loss: 0.4316 - val_binary_accuracy: 0.7960\n",
      "Epoch 28/100\n",
      "7914698/7914698 [==============================] - 221s 28us/step - loss: 0.4317 - binary_accuracy: 0.7960 - val_loss: 0.4356 - val_binary_accuracy: 0.7944\n",
      "Epoch 29/100\n",
      "7914698/7914698 [==============================] - 226s 29us/step - loss: 0.4312 - binary_accuracy: 0.7963 - val_loss: 0.4311 - val_binary_accuracy: 0.7969\n",
      "Epoch 30/100\n",
      "7914698/7914698 [==============================] - 216s 27us/step - loss: 0.4307 - binary_accuracy: 0.7965 - val_loss: 0.4305 - val_binary_accuracy: 0.7972\n",
      "Epoch 31/100\n",
      "7914698/7914698 [==============================] - 223s 28us/step - loss: 0.4303 - binary_accuracy: 0.7968 - val_loss: 0.4288 - val_binary_accuracy: 0.7983\n",
      "Epoch 32/100\n",
      "7914698/7914698 [==============================] - 224s 28us/step - loss: 0.4298 - binary_accuracy: 0.7971 - val_loss: 0.4292 - val_binary_accuracy: 0.7970\n",
      "Epoch 33/100\n",
      "7914698/7914698 [==============================] - 225s 28us/step - loss: 0.4295 - binary_accuracy: 0.7974 - val_loss: 0.4284 - val_binary_accuracy: 0.7987\n",
      "Epoch 34/100\n",
      "7914698/7914698 [==============================] - 226s 29us/step - loss: 0.4290 - binary_accuracy: 0.7976 - val_loss: 0.4280 - val_binary_accuracy: 0.7991\n",
      "Epoch 35/100\n",
      "7914698/7914698 [==============================] - 221s 28us/step - loss: 0.4287 - binary_accuracy: 0.7978 - val_loss: 0.4280 - val_binary_accuracy: 0.7993\n",
      "Epoch 36/100\n",
      "7914698/7914698 [==============================] - 225s 28us/step - loss: 0.4284 - binary_accuracy: 0.7979 - val_loss: 0.4270 - val_binary_accuracy: 0.7995\n",
      "Epoch 37/100\n",
      "7914698/7914698 [==============================] - 221s 28us/step - loss: 0.4281 - binary_accuracy: 0.7982 - val_loss: 0.4272 - val_binary_accuracy: 0.7991\n",
      "Epoch 38/100\n",
      "7914698/7914698 [==============================] - 225s 28us/step - loss: 0.4278 - binary_accuracy: 0.7984 - val_loss: 0.4277 - val_binary_accuracy: 0.7983\n",
      "Epoch 39/100\n",
      "7914698/7914698 [==============================] - 225s 28us/step - loss: 0.4275 - binary_accuracy: 0.7985 - val_loss: 0.4263 - val_binary_accuracy: 0.7998\n",
      "Epoch 40/100\n",
      "7914698/7914698 [==============================] - 225s 28us/step - loss: 0.4273 - binary_accuracy: 0.7987 - val_loss: 0.4256 - val_binary_accuracy: 0.7994\n",
      "Epoch 41/100\n",
      "7914698/7914698 [==============================] - 226s 29us/step - loss: 0.4271 - binary_accuracy: 0.7989 - val_loss: 0.4262 - val_binary_accuracy: 0.8009\n",
      "Epoch 42/100\n",
      "7914698/7914698 [==============================] - 221s 28us/step - loss: 0.4268 - binary_accuracy: 0.7989 - val_loss: 0.4262 - val_binary_accuracy: 0.8004\n",
      "Epoch 43/100\n",
      "7914698/7914698 [==============================] - 222s 28us/step - loss: 0.4266 - binary_accuracy: 0.7990 - val_loss: 0.4252 - val_binary_accuracy: 0.7999\n",
      "Epoch 44/100\n",
      "7914698/7914698 [==============================] - 219s 28us/step - loss: 0.4264 - binary_accuracy: 0.7991 - val_loss: 0.4256 - val_binary_accuracy: 0.7995\n",
      "Epoch 45/100\n",
      "7914698/7914698 [==============================] - 223s 28us/step - loss: 0.4262 - binary_accuracy: 0.7992 - val_loss: 0.4252 - val_binary_accuracy: 0.8000\n",
      "Epoch 46/100\n",
      "7914698/7914698 [==============================] - 220s 28us/step - loss: 0.4260 - binary_accuracy: 0.7994 - val_loss: 0.4262 - val_binary_accuracy: 0.7992\n",
      "Epoch 47/100\n",
      "7914698/7914698 [==============================] - 224s 28us/step - loss: 0.4258 - binary_accuracy: 0.7995 - val_loss: 0.4250 - val_binary_accuracy: 0.7998\n",
      "Epoch 48/100\n",
      "7914698/7914698 [==============================] - 218s 27us/step - loss: 0.4256 - binary_accuracy: 0.7996 - val_loss: 0.4265 - val_binary_accuracy: 0.7984\n",
      "Epoch 49/100\n"
     ]
    },
    {
     "name": "stdout",
     "output_type": "stream",
     "text": [
      "7914698/7914698 [==============================] - 225s 28us/step - loss: 0.4254 - binary_accuracy: 0.7997 - val_loss: 0.4246 - val_binary_accuracy: 0.8013\n",
      "Epoch 50/100\n",
      "7914698/7914698 [==============================] - 224s 28us/step - loss: 0.4253 - binary_accuracy: 0.7998 - val_loss: 0.4249 - val_binary_accuracy: 0.8008\n",
      "Epoch 51/100\n",
      "7914698/7914698 [==============================] - 224s 28us/step - loss: 0.4251 - binary_accuracy: 0.7998 - val_loss: 0.4240 - val_binary_accuracy: 0.8015\n",
      "Epoch 52/100\n",
      "7914698/7914698 [==============================] - 224s 28us/step - loss: 0.4249 - binary_accuracy: 0.8000 - val_loss: 0.4239 - val_binary_accuracy: 0.8010\n",
      "Epoch 53/100\n",
      "7914698/7914698 [==============================] - 215s 27us/step - loss: 0.4247 - binary_accuracy: 0.8001 - val_loss: 0.4245 - val_binary_accuracy: 0.8007\n",
      "Epoch 54/100\n",
      "7914698/7914698 [==============================] - 213s 27us/step - loss: 0.4246 - binary_accuracy: 0.8002 - val_loss: 0.4237 - val_binary_accuracy: 0.8011\n",
      "Epoch 55/100\n",
      "7914698/7914698 [==============================] - 216s 27us/step - loss: 0.4244 - binary_accuracy: 0.8003 - val_loss: 0.4255 - val_binary_accuracy: 0.7999\n",
      "Epoch 56/100\n",
      "7914698/7914698 [==============================] - 220s 28us/step - loss: 0.4243 - binary_accuracy: 0.8004 - val_loss: 0.4239 - val_binary_accuracy: 0.8016\n",
      "Epoch 57/100\n",
      "7914698/7914698 [==============================] - 216s 27us/step - loss: 0.4241 - binary_accuracy: 0.8005 - val_loss: 0.4222 - val_binary_accuracy: 0.8022\n",
      "Epoch 58/100\n",
      "7914698/7914698 [==============================] - 223s 28us/step - loss: 0.4239 - binary_accuracy: 0.8006 - val_loss: 0.4255 - val_binary_accuracy: 0.7991\n",
      "Epoch 59/100\n",
      "7914698/7914698 [==============================] - 221s 28us/step - loss: 0.4237 - binary_accuracy: 0.8007 - val_loss: 0.4234 - val_binary_accuracy: 0.8020\n",
      "Epoch 60/100\n",
      "7914698/7914698 [==============================] - 220s 28us/step - loss: 0.4236 - binary_accuracy: 0.8008 - val_loss: 0.4243 - val_binary_accuracy: 0.8002\n",
      "Epoch 61/100\n",
      "7914698/7914698 [==============================] - 227s 29us/step - loss: 0.4234 - binary_accuracy: 0.8010 - val_loss: 0.4221 - val_binary_accuracy: 0.8025\n",
      "Epoch 62/100\n",
      "7914698/7914698 [==============================] - 221s 28us/step - loss: 0.4232 - binary_accuracy: 0.8011 - val_loss: 0.4240 - val_binary_accuracy: 0.8002\n",
      "Epoch 63/100\n",
      "7914698/7914698 [==============================] - 224s 28us/step - loss: 0.4231 - binary_accuracy: 0.8011 - val_loss: 0.4234 - val_binary_accuracy: 0.8016\n",
      "Epoch 64/100\n",
      "7914698/7914698 [==============================] - 214s 27us/step - loss: 0.4230 - binary_accuracy: 0.8012 - val_loss: 0.4224 - val_binary_accuracy: 0.8024\n",
      "Epoch 65/100\n",
      "7914698/7914698 [==============================] - 218s 28us/step - loss: 0.4229 - binary_accuracy: 0.8014 - val_loss: 0.4216 - val_binary_accuracy: 0.8028\n",
      "Epoch 66/100\n",
      "7914698/7914698 [==============================] - 221s 28us/step - loss: 0.4227 - binary_accuracy: 0.8014 - val_loss: 0.4231 - val_binary_accuracy: 0.8014\n",
      "Epoch 67/100\n",
      "7914698/7914698 [==============================] - 220s 28us/step - loss: 0.4226 - binary_accuracy: 0.8016 - val_loss: 0.4235 - val_binary_accuracy: 0.7998\n",
      "Epoch 68/100\n",
      "7914698/7914698 [==============================] - 220s 28us/step - loss: 0.4225 - binary_accuracy: 0.8016 - val_loss: 0.4219 - val_binary_accuracy: 0.8025\n",
      "Epoch 69/100\n",
      "7914698/7914698 [==============================] - 218s 28us/step - loss: 0.4223 - binary_accuracy: 0.8018 - val_loss: 0.4219 - val_binary_accuracy: 0.8030\n",
      "Epoch 70/100\n",
      "7914698/7914698 [==============================] - 220s 28us/step - loss: 0.4222 - binary_accuracy: 0.8018 - val_loss: 0.4210 - val_binary_accuracy: 0.8032\n",
      "Epoch 71/100\n",
      "7914698/7914698 [==============================] - 219s 28us/step - loss: 0.4221 - binary_accuracy: 0.8019 - val_loss: 0.4215 - val_binary_accuracy: 0.8031\n",
      "Epoch 72/100\n",
      "7914698/7914698 [==============================] - 221s 28us/step - loss: 0.4220 - binary_accuracy: 0.8020 - val_loss: 0.4230 - val_binary_accuracy: 0.8004\n",
      "Epoch 73/100\n",
      "7914698/7914698 [==============================] - 224s 28us/step - loss: 0.4219 - binary_accuracy: 0.8022 - val_loss: 0.4211 - val_binary_accuracy: 0.8028\n",
      "Epoch 74/100\n",
      "7914698/7914698 [==============================] - 216s 27us/step - loss: 0.4217 - binary_accuracy: 0.8021 - val_loss: 0.4203 - val_binary_accuracy: 0.8036\n",
      "Epoch 75/100\n",
      "7914698/7914698 [==============================] - 220s 28us/step - loss: 0.4216 - binary_accuracy: 0.8022 - val_loss: 0.4208 - val_binary_accuracy: 0.8027\n",
      "Epoch 76/100\n",
      "7914698/7914698 [==============================] - 216s 27us/step - loss: 0.4214 - binary_accuracy: 0.8024 - val_loss: 0.4200 - val_binary_accuracy: 0.8036\n",
      "Epoch 77/100\n",
      "7914698/7914698 [==============================] - 218s 28us/step - loss: 0.4213 - binary_accuracy: 0.8025 - val_loss: 0.4209 - val_binary_accuracy: 0.8027\n",
      "Epoch 78/100\n",
      "7914698/7914698 [==============================] - 219s 28us/step - loss: 0.4212 - binary_accuracy: 0.8026 - val_loss: 0.4208 - val_binary_accuracy: 0.8040\n",
      "Epoch 79/100\n",
      "7914698/7914698 [==============================] - 222s 28us/step - loss: 0.4210 - binary_accuracy: 0.8027 - val_loss: 0.4206 - val_binary_accuracy: 0.8036\n",
      "Epoch 80/100\n",
      "7914698/7914698 [==============================] - 221s 28us/step - loss: 0.4209 - binary_accuracy: 0.8028 - val_loss: 0.4213 - val_binary_accuracy: 0.8028\n",
      "Epoch 81/100\n",
      "7914698/7914698 [==============================] - 224s 28us/step - loss: 0.4208 - binary_accuracy: 0.8028 - val_loss: 0.4201 - val_binary_accuracy: 0.8034\n",
      "Epoch 82/100\n",
      "7914698/7914698 [==============================] - 225s 28us/step - loss: 0.4206 - binary_accuracy: 0.8029 - val_loss: 0.4213 - val_binary_accuracy: 0.8023\n",
      "Epoch 83/100\n",
      "7914698/7914698 [==============================] - 216s 27us/step - loss: 0.4205 - binary_accuracy: 0.8030 - val_loss: 0.4197 - val_binary_accuracy: 0.8040\n",
      "Epoch 84/100\n",
      "7914698/7914698 [==============================] - 227s 29us/step - loss: 0.4203 - binary_accuracy: 0.8030 - val_loss: 0.4195 - val_binary_accuracy: 0.8039\n",
      "Epoch 85/100\n",
      "7914698/7914698 [==============================] - 221s 28us/step - loss: 0.4202 - binary_accuracy: 0.8032 - val_loss: 0.4223 - val_binary_accuracy: 0.8021\n",
      "Epoch 86/100\n",
      "7914698/7914698 [==============================] - 220s 28us/step - loss: 0.4201 - binary_accuracy: 0.8033 - val_loss: 0.4188 - val_binary_accuracy: 0.8046\n",
      "Epoch 87/100\n",
      "7914698/7914698 [==============================] - 218s 28us/step - loss: 0.4200 - binary_accuracy: 0.8033 - val_loss: 0.4195 - val_binary_accuracy: 0.8035\n",
      "Epoch 88/100\n",
      "7914698/7914698 [==============================] - 221s 28us/step - loss: 0.4199 - binary_accuracy: 0.8034 - val_loss: 0.4198 - val_binary_accuracy: 0.8032\n",
      "Epoch 89/100\n",
      "7914698/7914698 [==============================] - 218s 28us/step - loss: 0.4198 - binary_accuracy: 0.8034 - val_loss: 0.4190 - val_binary_accuracy: 0.8043\n",
      "Epoch 90/100\n",
      "7914698/7914698 [==============================] - 221s 28us/step - loss: 0.4197 - binary_accuracy: 0.8035 - val_loss: 0.4215 - val_binary_accuracy: 0.8015\n",
      "Epoch 91/100\n",
      "7914698/7914698 [==============================] - 225s 28us/step - loss: 0.4195 - binary_accuracy: 0.8036 - val_loss: 0.4197 - val_binary_accuracy: 0.8037\n",
      "Epoch 92/100\n",
      "7914698/7914698 [==============================] - 221s 28us/step - loss: 0.4194 - binary_accuracy: 0.8038 - val_loss: 0.4189 - val_binary_accuracy: 0.8047\n",
      "Epoch 93/100\n",
      "7914698/7914698 [==============================] - 221s 28us/step - loss: 0.4194 - binary_accuracy: 0.8037 - val_loss: 0.4194 - val_binary_accuracy: 0.8044\n",
      "Epoch 94/100\n",
      "7914698/7914698 [==============================] - 220s 28us/step - loss: 0.4193 - binary_accuracy: 0.8038 - val_loss: 0.4197 - val_binary_accuracy: 0.8047\n",
      "Epoch 95/100\n",
      "7914698/7914698 [==============================] - 221s 28us/step - loss: 0.4191 - binary_accuracy: 0.8039 - val_loss: 0.4186 - val_binary_accuracy: 0.8047\n",
      "Epoch 96/100\n",
      "7914698/7914698 [==============================] - 221s 28us/step - loss: 0.4190 - binary_accuracy: 0.8039 - val_loss: 0.4195 - val_binary_accuracy: 0.8033\n",
      "Epoch 97/100\n"
     ]
    },
    {
     "name": "stdout",
     "output_type": "stream",
     "text": [
      "7914698/7914698 [==============================] - 220s 28us/step - loss: 0.4190 - binary_accuracy: 0.8039 - val_loss: 0.4190 - val_binary_accuracy: 0.8050\n",
      "Epoch 98/100\n",
      "7914698/7914698 [==============================] - 216s 27us/step - loss: 0.4188 - binary_accuracy: 0.8041 - val_loss: 0.4206 - val_binary_accuracy: 0.8027\n",
      "Epoch 99/100\n",
      "7914698/7914698 [==============================] - 204s 26us/step - loss: 0.4187 - binary_accuracy: 0.8041 - val_loss: 0.4182 - val_binary_accuracy: 0.8046\n",
      "Epoch 100/100\n",
      "7914698/7914698 [==============================] - 221s 28us/step - loss: 0.4186 - binary_accuracy: 0.8042 - val_loss: 0.4187 - val_binary_accuracy: 0.8041\n",
      "CPU times: user 20h 42min 34s, sys: 4h 57min 50s, total: 1d 1h 40min 24s\n",
      "Wall time: 6h 4min 23s\n"
     ]
    }
   ],
   "source": [
    "%%time\n",
    "\n",
    "print ('Fitting model...')\n",
    "history = model1.fit(X_final,Y_final,batch_size=250, epochs=100, validation_split = 0.10, verbose = 1)"
   ]
  },
  {
   "cell_type": "code",
   "execution_count": 220,
   "metadata": {},
   "outputs": [
    {
     "name": "stdout",
     "output_type": "stream",
     "text": [
      "8778415/8778415 [==============================] - 511s 58us/step\n"
     ]
    }
   ],
   "source": [
    "loss, accuracy = model1.evaluate(X_test, Y_test)"
   ]
  },
  {
   "cell_type": "markdown",
   "metadata": {},
   "source": [
    "# Accuracy"
   ]
  },
  {
   "cell_type": "code",
   "execution_count": 221,
   "metadata": {},
   "outputs": [
    {
     "data": {
      "text/plain": [
       "(0.4232276695884197, 0.8020938859691641)"
      ]
     },
     "execution_count": 221,
     "metadata": {},
     "output_type": "execute_result"
    }
   ],
   "source": [
    "loss, accuracy"
   ]
  },
  {
   "cell_type": "code",
   "execution_count": 222,
   "metadata": {},
   "outputs": [],
   "source": [
    "# when taking 10 timesteps, and keeping separate test and training JobIDs\n",
    "# loss, accuracy is: \n",
    "# on X_test, Y_test"
   ]
  },
  {
   "cell_type": "code",
   "execution_count": 223,
   "metadata": {},
   "outputs": [],
   "source": [
    "y_pred = model1.predict(X_test)"
   ]
  },
  {
   "cell_type": "code",
   "execution_count": 237,
   "metadata": {},
   "outputs": [],
   "source": [
    "model1.save('mega_model1.pickle')"
   ]
  },
  {
   "cell_type": "code",
   "execution_count": null,
   "metadata": {
    "scrolled": true
   },
   "outputs": [],
   "source": [
    "y_pred[15000:15010]"
   ]
  },
  {
   "cell_type": "code",
   "execution_count": 238,
   "metadata": {},
   "outputs": [],
   "source": [
    "model1.save('mega_model1.pickle')"
   ]
  },
  {
   "cell_type": "markdown",
   "metadata": {},
   "source": [
    "# Binary classification accuracy"
   ]
  },
  {
   "cell_type": "code",
   "execution_count": 225,
   "metadata": {},
   "outputs": [],
   "source": [
    "y_true = pd.Series([x[0] for x in Y_test])\n",
    "\n",
    "# Use np.rint for rounding off \n",
    "y_predicted = pd.Series([ np.rint(j[0]) for j in y_pred])"
   ]
  },
  {
   "cell_type": "code",
   "execution_count": 226,
   "metadata": {},
   "outputs": [
    {
     "data": {
      "text/plain": [
       "0.8020938859691641"
      ]
     },
     "execution_count": 226,
     "metadata": {},
     "output_type": "execute_result"
    }
   ],
   "source": [
    "np.mean(np.equal(y_true, y_predicted))"
   ]
  },
  {
   "cell_type": "code",
   "execution_count": null,
   "metadata": {},
   "outputs": [],
   "source": []
  },
  {
   "cell_type": "markdown",
   "metadata": {},
   "source": [
    "# Precision, Recall, fscore"
   ]
  },
  {
   "cell_type": "code",
   "execution_count": 227,
   "metadata": {},
   "outputs": [],
   "source": [
    "from sklearn.metrics import precision_recall_fscore_support as score"
   ]
  },
  {
   "cell_type": "code",
   "execution_count": 228,
   "metadata": {},
   "outputs": [],
   "source": [
    "precision, recall, fscore, support = score(y_true, y_predicted)"
   ]
  },
  {
   "cell_type": "code",
   "execution_count": 229,
   "metadata": {},
   "outputs": [
    {
     "name": "stdout",
     "output_type": "stream",
     "text": [
      "precision: [0.82125985 0.76229752]\n",
      "recall: [0.87766046 0.67255506]\n",
      "fscore: [0.84852396 0.71461983]\n",
      "support: [5544201 3234214]\n"
     ]
    }
   ],
   "source": [
    "print('precision: {}'.format(precision))\n",
    "print('recall: {}'.format(recall))\n",
    "print('fscore: {}'.format(fscore))\n",
    "print('support: {}'.format(support))"
   ]
  },
  {
   "cell_type": "markdown",
   "metadata": {},
   "source": [
    "# Confusion matrix"
   ]
  },
  {
   "cell_type": "code",
   "execution_count": 230,
   "metadata": {
    "scrolled": true
   },
   "outputs": [
    {
     "data": {
      "text/html": [
       "<div>\n",
       "<style scoped>\n",
       "    .dataframe tbody tr th:only-of-type {\n",
       "        vertical-align: middle;\n",
       "    }\n",
       "\n",
       "    .dataframe tbody tr th {\n",
       "        vertical-align: top;\n",
       "    }\n",
       "\n",
       "    .dataframe thead th {\n",
       "        text-align: right;\n",
       "    }\n",
       "</style>\n",
       "<table border=\"1\" class=\"dataframe\">\n",
       "  <thead>\n",
       "    <tr style=\"text-align: right;\">\n",
       "      <th>Predicted</th>\n",
       "      <th>0.0</th>\n",
       "      <th>1.0</th>\n",
       "      <th>All</th>\n",
       "    </tr>\n",
       "    <tr>\n",
       "      <th>True</th>\n",
       "      <th></th>\n",
       "      <th></th>\n",
       "      <th></th>\n",
       "    </tr>\n",
       "  </thead>\n",
       "  <tbody>\n",
       "    <tr>\n",
       "      <th>0</th>\n",
       "      <td>4865926</td>\n",
       "      <td>678275</td>\n",
       "      <td>5544201</td>\n",
       "    </tr>\n",
       "    <tr>\n",
       "      <th>1</th>\n",
       "      <td>1059027</td>\n",
       "      <td>2175187</td>\n",
       "      <td>3234214</td>\n",
       "    </tr>\n",
       "    <tr>\n",
       "      <th>All</th>\n",
       "      <td>5924953</td>\n",
       "      <td>2853462</td>\n",
       "      <td>8778415</td>\n",
       "    </tr>\n",
       "  </tbody>\n",
       "</table>\n",
       "</div>"
      ],
      "text/plain": [
       "Predicted      0.0      1.0      All\n",
       "True                                \n",
       "0          4865926   678275  5544201\n",
       "1          1059027  2175187  3234214\n",
       "All        5924953  2853462  8778415"
      ]
     },
     "execution_count": 230,
     "metadata": {},
     "output_type": "execute_result"
    }
   ],
   "source": [
    "pd.crosstab(y_true, y_predicted, rownames=['True'], colnames=['Predicted'], margins=True)"
   ]
  },
  {
   "cell_type": "code",
   "execution_count": null,
   "metadata": {},
   "outputs": [],
   "source": [
    "# Worst case error bound on JobID specific 'Status' prediction error:\n",
    "\n",
    "100*(9155+48481)/2368345"
   ]
  },
  {
   "cell_type": "code",
   "execution_count": 231,
   "metadata": {},
   "outputs": [
    {
     "data": {
      "text/plain": [
       "(801845, 801846)"
      ]
     },
     "execution_count": 231,
     "metadata": {},
     "output_type": "execute_result"
    }
   ],
   "source": [
    "len(takeoutdf.JobID.unique().tolist()), len(cleaned.JobID.unique().tolist())"
   ]
  },
  {
   "cell_type": "code",
   "execution_count": 232,
   "metadata": {},
   "outputs": [
    {
     "data": {
      "text/plain": [
       "238995"
      ]
     },
     "execution_count": 232,
     "metadata": {},
     "output_type": "execute_result"
    }
   ],
   "source": [
    "sum(takeoutdf[\"JobID\"].value_counts()==1)"
   ]
  },
  {
   "cell_type": "code",
   "execution_count": 233,
   "metadata": {},
   "outputs": [
    {
     "data": {
      "text/plain": [
       "1059027"
      ]
     },
     "execution_count": 233,
     "metadata": {},
     "output_type": "execute_result"
    }
   ],
   "source": [
    "len(X_test[(y_true==1) & (y_predicted==0)])"
   ]
  },
  {
   "cell_type": "code",
   "execution_count": 234,
   "metadata": {},
   "outputs": [
    {
     "data": {
      "text/plain": [
       "[]"
      ]
     },
     "execution_count": 234,
     "metadata": {},
     "output_type": "execute_result"
    }
   ],
   "source": [
    "# Verify that there is no intersection between training and test jobs\n",
    "\n",
    "list(set(takeoutdf.JobID.tolist()) & set(cleaned.JobID.tolist()))"
   ]
  },
  {
   "cell_type": "code",
   "execution_count": 235,
   "metadata": {},
   "outputs": [
    {
     "data": {
      "text/plain": [
       "(2853462.0, 8778415)"
      ]
     },
     "execution_count": 235,
     "metadata": {},
     "output_type": "execute_result"
    }
   ],
   "source": [
    "# Predicting all 0s ??\n",
    "sum([ (j) for j in y_predicted]), len(y_predicted)"
   ]
  },
  {
   "cell_type": "code",
   "execution_count": 236,
   "metadata": {},
   "outputs": [],
   "source": [
    "import pickle\n",
    "\n",
    "with open('mega_training_features.pickle', 'wb') as handle:\n",
    "    pickle.dump(train_feat, handle, protocol=pickle.HIGHEST_PROTOCOL)"
   ]
  },
  {
   "cell_type": "code",
   "execution_count": null,
   "metadata": {},
   "outputs": [],
   "source": [
    "#### Model 2 Start"
   ]
  },
  {
   "cell_type": "markdown",
   "metadata": {},
   "source": [
    "# Get min/max timestamp on cleaned & takeoutdf"
   ]
  },
  {
   "cell_type": "code",
   "execution_count": null,
   "metadata": {},
   "outputs": [],
   "source": []
  },
  {
   "cell_type": "code",
   "execution_count": null,
   "metadata": {},
   "outputs": [],
   "source": []
  },
  {
   "cell_type": "code",
   "execution_count": null,
   "metadata": {},
   "outputs": [],
   "source": []
  },
  {
   "cell_type": "markdown",
   "metadata": {},
   "source": [
    "# Model 2"
   ]
  },
  {
   "cell_type": "code",
   "execution_count": 239,
   "metadata": {},
   "outputs": [
    {
     "name": "stdout",
     "output_type": "stream",
     "text": [
      "Creating model 2...\n",
      "Compiling...\n"
     ]
    }
   ],
   "source": [
    "model2 = create_model2()"
   ]
  },
  {
   "cell_type": "code",
   "execution_count": 240,
   "metadata": {},
   "outputs": [
    {
     "name": "stdout",
     "output_type": "stream",
     "text": [
      "Fitting model...\n",
      "Train on 7914698 samples, validate on 879411 samples\n",
      "Epoch 1/100\n",
      "7914698/7914698 [==============================] - 502s 63us/step - loss: 0.4932 - binary_accuracy: 0.7601 - val_loss: 0.4748 - val_binary_accuracy: 0.7723\n",
      "Epoch 2/100\n",
      "7914698/7914698 [==============================] - 499s 63us/step - loss: 0.4676 - binary_accuracy: 0.7757 - val_loss: 0.4594 - val_binary_accuracy: 0.7807\n",
      "Epoch 3/100\n",
      "7914698/7914698 [==============================] - 501s 63us/step - loss: 0.4558 - binary_accuracy: 0.7817 - val_loss: 0.4521 - val_binary_accuracy: 0.7842\n",
      "Epoch 4/100\n",
      "7914698/7914698 [==============================] - 503s 64us/step - loss: 0.4469 - binary_accuracy: 0.7864 - val_loss: 0.4419 - val_binary_accuracy: 0.7897\n",
      "Epoch 5/100\n",
      "7914698/7914698 [==============================] - 499s 63us/step - loss: 0.4405 - binary_accuracy: 0.7898 - val_loss: 0.4382 - val_binary_accuracy: 0.7922\n",
      "Epoch 6/100\n",
      "7914698/7914698 [==============================] - 503s 64us/step - loss: 0.4355 - binary_accuracy: 0.7925 - val_loss: 0.4335 - val_binary_accuracy: 0.7928\n",
      "Epoch 7/100\n",
      "7914698/7914698 [==============================] - 499s 63us/step - loss: 0.4310 - binary_accuracy: 0.7951 - val_loss: 0.4279 - val_binary_accuracy: 0.7977\n",
      "Epoch 8/100\n",
      "7914698/7914698 [==============================] - 499s 63us/step - loss: 0.4272 - binary_accuracy: 0.7976 - val_loss: 0.4244 - val_binary_accuracy: 0.7995\n",
      "Epoch 9/100\n",
      "7914698/7914698 [==============================] - 488s 62us/step - loss: 0.4241 - binary_accuracy: 0.7995 - val_loss: 0.4195 - val_binary_accuracy: 0.8035\n",
      "Epoch 10/100\n",
      "7914698/7914698 [==============================] - 486s 61us/step - loss: 0.4214 - binary_accuracy: 0.8011 - val_loss: 0.4211 - val_binary_accuracy: 0.8021\n",
      "Epoch 11/100\n",
      "7914698/7914698 [==============================] - 501s 63us/step - loss: 0.4185 - binary_accuracy: 0.8028 - val_loss: 0.4163 - val_binary_accuracy: 0.8045\n",
      "Epoch 12/100\n",
      "7914698/7914698 [==============================] - 495s 63us/step - loss: 0.4160 - binary_accuracy: 0.8043 - val_loss: 0.4123 - val_binary_accuracy: 0.8064\n",
      "Epoch 13/100\n",
      "7914698/7914698 [==============================] - 498s 63us/step - loss: 0.4144 - binary_accuracy: 0.8051 - val_loss: 0.4100 - val_binary_accuracy: 0.8090\n",
      "Epoch 14/100\n",
      "7914698/7914698 [==============================] - 500s 63us/step - loss: 0.4122 - binary_accuracy: 0.8064 - val_loss: 0.4111 - val_binary_accuracy: 0.8077\n",
      "Epoch 15/100\n",
      "7914698/7914698 [==============================] - 499s 63us/step - loss: 0.4108 - binary_accuracy: 0.8073 - val_loss: 0.4112 - val_binary_accuracy: 0.8071\n",
      "Epoch 16/100\n",
      "7914698/7914698 [==============================] - 500s 63us/step - loss: 0.4099 - binary_accuracy: 0.8077 - val_loss: 0.4082 - val_binary_accuracy: 0.8093\n",
      "Epoch 17/100\n",
      "7914698/7914698 [==============================] - 499s 63us/step - loss: 0.4083 - binary_accuracy: 0.8086 - val_loss: 0.4109 - val_binary_accuracy: 0.8085\n",
      "Epoch 18/100\n",
      "7914698/7914698 [==============================] - 496s 63us/step - loss: 0.4072 - binary_accuracy: 0.8092 - val_loss: 0.4042 - val_binary_accuracy: 0.8122\n",
      "Epoch 19/100\n",
      "7914698/7914698 [==============================] - 505s 64us/step - loss: 0.4062 - binary_accuracy: 0.8098 - val_loss: 0.4086 - val_binary_accuracy: 0.8086\n",
      "Epoch 20/100\n",
      "7914698/7914698 [==============================] - 496s 63us/step - loss: 0.4055 - binary_accuracy: 0.8101 - val_loss: 0.4040 - val_binary_accuracy: 0.8116\n",
      "Epoch 21/100\n",
      "7914698/7914698 [==============================] - 491s 62us/step - loss: 0.4046 - binary_accuracy: 0.8107 - val_loss: 0.4065 - val_binary_accuracy: 0.8093\n",
      "Epoch 22/100\n",
      "7914698/7914698 [==============================] - 499s 63us/step - loss: 0.4039 - binary_accuracy: 0.8110 - val_loss: 0.4041 - val_binary_accuracy: 0.8114\n",
      "Epoch 23/100\n",
      "7914698/7914698 [==============================] - 500s 63us/step - loss: 0.4030 - binary_accuracy: 0.8115 - val_loss: 0.4006 - val_binary_accuracy: 0.8134\n",
      "Epoch 24/100\n",
      "7914698/7914698 [==============================] - 502s 63us/step - loss: 0.4026 - binary_accuracy: 0.8117 - val_loss: 0.4018 - val_binary_accuracy: 0.8128\n",
      "Epoch 25/100\n",
      "7914698/7914698 [==============================] - 498s 63us/step - loss: 0.4019 - binary_accuracy: 0.8123 - val_loss: 0.4062 - val_binary_accuracy: 0.8108\n",
      "Epoch 26/100\n",
      "7914698/7914698 [==============================] - 499s 63us/step - loss: 0.4012 - binary_accuracy: 0.8126 - val_loss: 0.4008 - val_binary_accuracy: 0.8130\n",
      "Epoch 27/100\n",
      "7914698/7914698 [==============================] - 496s 63us/step - loss: 0.4008 - binary_accuracy: 0.8127 - val_loss: 0.3981 - val_binary_accuracy: 0.8146\n",
      "Epoch 28/100\n",
      "7914698/7914698 [==============================] - 505s 64us/step - loss: 0.4002 - binary_accuracy: 0.8130 - val_loss: 0.3980 - val_binary_accuracy: 0.8152\n",
      "Epoch 29/100\n",
      "7914698/7914698 [==============================] - 503s 64us/step - loss: 0.3997 - binary_accuracy: 0.8132 - val_loss: 0.3985 - val_binary_accuracy: 0.8142\n",
      "Epoch 30/100\n",
      "7914698/7914698 [==============================] - 495s 63us/step - loss: 0.3992 - binary_accuracy: 0.8136 - val_loss: 0.3977 - val_binary_accuracy: 0.8150\n",
      "Epoch 31/100\n",
      "7914698/7914698 [==============================] - 493s 62us/step - loss: 0.3989 - binary_accuracy: 0.8137 - val_loss: 0.4001 - val_binary_accuracy: 0.8150\n",
      "Epoch 32/100\n",
      "7914698/7914698 [==============================] - 502s 63us/step - loss: 0.3984 - binary_accuracy: 0.8139 - val_loss: 0.4003 - val_binary_accuracy: 0.8125\n",
      "Epoch 33/100\n",
      "7914698/7914698 [==============================] - 498s 63us/step - loss: 0.3979 - binary_accuracy: 0.8144 - val_loss: 0.4045 - val_binary_accuracy: 0.8118\n",
      "Epoch 34/100\n",
      "7914698/7914698 [==============================] - 499s 63us/step - loss: 0.3976 - binary_accuracy: 0.8145 - val_loss: 0.3966 - val_binary_accuracy: 0.8154\n",
      "Epoch 35/100\n",
      "7914698/7914698 [==============================] - 495s 63us/step - loss: 0.3973 - binary_accuracy: 0.8146 - val_loss: 0.3970 - val_binary_accuracy: 0.8149\n",
      "Epoch 36/100\n",
      "7914698/7914698 [==============================] - 496s 63us/step - loss: 0.3970 - binary_accuracy: 0.8147 - val_loss: 0.3936 - val_binary_accuracy: 0.8177\n",
      "Epoch 37/100\n",
      "7914698/7914698 [==============================] - 499s 63us/step - loss: 0.3965 - binary_accuracy: 0.8151 - val_loss: 0.3960 - val_binary_accuracy: 0.8166\n",
      "Epoch 38/100\n",
      "7914698/7914698 [==============================] - 499s 63us/step - loss: 0.3963 - binary_accuracy: 0.8150 - val_loss: 0.3926 - val_binary_accuracy: 0.8180\n",
      "Epoch 39/100\n",
      "7914698/7914698 [==============================] - 498s 63us/step - loss: 0.3958 - binary_accuracy: 0.8153 - val_loss: 0.3954 - val_binary_accuracy: 0.8159\n",
      "Epoch 40/100\n",
      "7914698/7914698 [==============================] - 494s 62us/step - loss: 0.3956 - binary_accuracy: 0.8154 - val_loss: 0.3980 - val_binary_accuracy: 0.8148\n",
      "Epoch 41/100\n",
      "7914698/7914698 [==============================] - 499s 63us/step - loss: 0.3955 - binary_accuracy: 0.8156 - val_loss: 0.3952 - val_binary_accuracy: 0.8164\n",
      "Epoch 42/100\n",
      "7914698/7914698 [==============================] - 497s 63us/step - loss: 0.3951 - binary_accuracy: 0.8158 - val_loss: 0.4000 - val_binary_accuracy: 0.8139\n",
      "Epoch 43/100\n",
      "7914698/7914698 [==============================] - 499s 63us/step - loss: 0.3949 - binary_accuracy: 0.8160 - val_loss: 0.3978 - val_binary_accuracy: 0.8144\n",
      "Epoch 44/100\n",
      "7914698/7914698 [==============================] - 504s 64us/step - loss: 0.3946 - binary_accuracy: 0.8159 - val_loss: 0.3951 - val_binary_accuracy: 0.8159\n",
      "Epoch 45/100\n",
      "7914698/7914698 [==============================] - 496s 63us/step - loss: 0.3943 - binary_accuracy: 0.8162 - val_loss: 0.3916 - val_binary_accuracy: 0.8182\n",
      "Epoch 46/100\n",
      "7914698/7914698 [==============================] - 495s 63us/step - loss: 0.3940 - binary_accuracy: 0.8164 - val_loss: 0.3943 - val_binary_accuracy: 0.8161\n",
      "Epoch 47/100\n",
      "7914698/7914698 [==============================] - 490s 62us/step - loss: 0.3938 - binary_accuracy: 0.8164 - val_loss: 0.4036 - val_binary_accuracy: 0.8120\n",
      "Epoch 48/100\n",
      "7914698/7914698 [==============================] - 496s 63us/step - loss: 0.3937 - binary_accuracy: 0.8165 - val_loss: 0.4003 - val_binary_accuracy: 0.8133\n",
      "Epoch 49/100\n"
     ]
    },
    {
     "name": "stdout",
     "output_type": "stream",
     "text": [
      "7914698/7914698 [==============================] - 502s 63us/step - loss: 0.3934 - binary_accuracy: 0.8166 - val_loss: 0.3928 - val_binary_accuracy: 0.8174\n",
      "Epoch 50/100\n",
      "7914698/7914698 [==============================] - 487s 62us/step - loss: 0.3932 - binary_accuracy: 0.8168 - val_loss: 0.3929 - val_binary_accuracy: 0.8172\n",
      "Epoch 51/100\n",
      "7914698/7914698 [==============================] - 503s 64us/step - loss: 0.3928 - binary_accuracy: 0.8170 - val_loss: 0.3920 - val_binary_accuracy: 0.8184\n",
      "Epoch 52/100\n",
      "7914698/7914698 [==============================] - 499s 63us/step - loss: 0.3927 - binary_accuracy: 0.8170 - val_loss: 0.3918 - val_binary_accuracy: 0.8178\n",
      "Epoch 53/100\n",
      "7914698/7914698 [==============================] - 498s 63us/step - loss: 0.3923 - binary_accuracy: 0.8172 - val_loss: 0.3977 - val_binary_accuracy: 0.8145\n",
      "Epoch 54/100\n",
      "7914698/7914698 [==============================] - 486s 61us/step - loss: 0.3923 - binary_accuracy: 0.8172 - val_loss: 0.3934 - val_binary_accuracy: 0.8174\n",
      "Epoch 55/100\n",
      "7914698/7914698 [==============================] - 486s 61us/step - loss: 0.3922 - binary_accuracy: 0.8173 - val_loss: 0.3915 - val_binary_accuracy: 0.8184\n",
      "Epoch 56/100\n",
      "7914698/7914698 [==============================] - 492s 62us/step - loss: 0.3919 - binary_accuracy: 0.8174 - val_loss: 0.3915 - val_binary_accuracy: 0.8181\n",
      "Epoch 57/100\n",
      "7914698/7914698 [==============================] - 501s 63us/step - loss: 0.3917 - binary_accuracy: 0.8175 - val_loss: 0.3916 - val_binary_accuracy: 0.8189\n",
      "Epoch 58/100\n",
      "7914698/7914698 [==============================] - 500s 63us/step - loss: 0.3916 - binary_accuracy: 0.8176 - val_loss: 0.3956 - val_binary_accuracy: 0.8152\n",
      "Epoch 59/100\n",
      "7914698/7914698 [==============================] - 503s 64us/step - loss: 0.3914 - binary_accuracy: 0.8176 - val_loss: 0.3908 - val_binary_accuracy: 0.8184\n",
      "Epoch 60/100\n",
      "7914698/7914698 [==============================] - 500s 63us/step - loss: 0.3911 - binary_accuracy: 0.8179 - val_loss: 0.3961 - val_binary_accuracy: 0.8162\n",
      "Epoch 61/100\n",
      "7914698/7914698 [==============================] - 504s 64us/step - loss: 0.3910 - binary_accuracy: 0.8179 - val_loss: 0.3963 - val_binary_accuracy: 0.8162\n",
      "Epoch 62/100\n",
      "7914698/7914698 [==============================] - 487s 62us/step - loss: 0.3908 - binary_accuracy: 0.8180 - val_loss: 0.3956 - val_binary_accuracy: 0.8153\n",
      "Epoch 63/100\n",
      "7914698/7914698 [==============================] - 497s 63us/step - loss: 0.3907 - binary_accuracy: 0.8181 - val_loss: 0.3889 - val_binary_accuracy: 0.8202\n",
      "Epoch 64/100\n",
      "7914698/7914698 [==============================] - 496s 63us/step - loss: 0.3905 - binary_accuracy: 0.8183 - val_loss: 0.3941 - val_binary_accuracy: 0.8161\n",
      "Epoch 65/100\n",
      "7914698/7914698 [==============================] - 481s 61us/step - loss: 0.3903 - binary_accuracy: 0.8183 - val_loss: 0.3952 - val_binary_accuracy: 0.8154\n",
      "Epoch 66/100\n",
      "7914698/7914698 [==============================] - 498s 63us/step - loss: 0.3902 - binary_accuracy: 0.8184 - val_loss: 0.3973 - val_binary_accuracy: 0.8148\n",
      "Epoch 67/100\n",
      "7914698/7914698 [==============================] - 499s 63us/step - loss: 0.3900 - binary_accuracy: 0.8185 - val_loss: 0.3946 - val_binary_accuracy: 0.8159\n",
      "Epoch 68/100\n",
      "7914698/7914698 [==============================] - 501s 63us/step - loss: 0.3899 - binary_accuracy: 0.8184 - val_loss: 0.3953 - val_binary_accuracy: 0.8160\n",
      "Epoch 69/100\n",
      "7914698/7914698 [==============================] - 495s 63us/step - loss: 0.3896 - binary_accuracy: 0.8187 - val_loss: 0.3892 - val_binary_accuracy: 0.8191\n",
      "Epoch 70/100\n",
      "7914698/7914698 [==============================] - 499s 63us/step - loss: 0.3896 - binary_accuracy: 0.8186 - val_loss: 0.3914 - val_binary_accuracy: 0.8184\n",
      "Epoch 71/100\n",
      "7914698/7914698 [==============================] - 505s 64us/step - loss: 0.3894 - binary_accuracy: 0.8186 - val_loss: 0.3964 - val_binary_accuracy: 0.8155\n",
      "Epoch 72/100\n",
      "7914698/7914698 [==============================] - 506s 64us/step - loss: 0.3893 - binary_accuracy: 0.8188 - val_loss: 0.3875 - val_binary_accuracy: 0.8200\n",
      "Epoch 73/100\n",
      "7914698/7914698 [==============================] - 481s 61us/step - loss: 0.3891 - binary_accuracy: 0.8189 - val_loss: 0.3910 - val_binary_accuracy: 0.8176\n",
      "Epoch 74/100\n",
      "7914698/7914698 [==============================] - 501s 63us/step - loss: 0.3890 - binary_accuracy: 0.8190 - val_loss: 0.3918 - val_binary_accuracy: 0.8180\n",
      "Epoch 75/100\n",
      "7914698/7914698 [==============================] - 481s 61us/step - loss: 0.3889 - binary_accuracy: 0.8190 - val_loss: 0.3896 - val_binary_accuracy: 0.8191\n",
      "Epoch 76/100\n",
      "7914698/7914698 [==============================] - 502s 63us/step - loss: 0.3888 - binary_accuracy: 0.8190 - val_loss: 0.3905 - val_binary_accuracy: 0.8184\n",
      "Epoch 77/100\n",
      "7914698/7914698 [==============================] - 499s 63us/step - loss: 0.3887 - binary_accuracy: 0.8191 - val_loss: 0.3889 - val_binary_accuracy: 0.8196\n",
      "Epoch 78/100\n",
      "7914698/7914698 [==============================] - 503s 64us/step - loss: 0.3885 - binary_accuracy: 0.8192 - val_loss: 0.3887 - val_binary_accuracy: 0.8194\n",
      "Epoch 79/100\n",
      "7914698/7914698 [==============================] - 502s 63us/step - loss: 0.3883 - binary_accuracy: 0.8194 - val_loss: 0.3941 - val_binary_accuracy: 0.8159\n",
      "Epoch 80/100\n",
      "7914698/7914698 [==============================] - 480s 61us/step - loss: 0.3883 - binary_accuracy: 0.8193 - val_loss: 0.3883 - val_binary_accuracy: 0.8206\n",
      "Epoch 81/100\n",
      "7914698/7914698 [==============================] - 486s 61us/step - loss: 0.3882 - binary_accuracy: 0.8194 - val_loss: 0.4085 - val_binary_accuracy: 0.8085\n",
      "Epoch 82/100\n",
      "7914698/7914698 [==============================] - 502s 63us/step - loss: 0.3880 - binary_accuracy: 0.8195 - val_loss: 0.3876 - val_binary_accuracy: 0.8203\n",
      "Epoch 83/100\n",
      "7914698/7914698 [==============================] - 498s 63us/step - loss: 0.3879 - binary_accuracy: 0.8194 - val_loss: 0.3875 - val_binary_accuracy: 0.8203\n",
      "Epoch 84/100\n",
      "7914698/7914698 [==============================] - 503s 64us/step - loss: 0.3879 - binary_accuracy: 0.8195 - val_loss: 0.3887 - val_binary_accuracy: 0.8194\n",
      "Epoch 85/100\n",
      "7914698/7914698 [==============================] - 480s 61us/step - loss: 0.3877 - binary_accuracy: 0.8197 - val_loss: 0.4032 - val_binary_accuracy: 0.8118\n",
      "Epoch 86/100\n",
      "7914698/7914698 [==============================] - 498s 63us/step - loss: 0.3876 - binary_accuracy: 0.8195 - val_loss: 0.3887 - val_binary_accuracy: 0.8197\n",
      "Epoch 87/100\n",
      "7914698/7914698 [==============================] - 478s 60us/step - loss: 0.3874 - binary_accuracy: 0.8198 - val_loss: 0.3868 - val_binary_accuracy: 0.8204\n",
      "Epoch 88/100\n",
      "7914698/7914698 [==============================] - 500s 63us/step - loss: 0.3874 - binary_accuracy: 0.8198 - val_loss: 0.3870 - val_binary_accuracy: 0.8209\n",
      "Epoch 89/100\n",
      "7914698/7914698 [==============================] - 502s 63us/step - loss: 0.3873 - binary_accuracy: 0.8199 - val_loss: 0.3924 - val_binary_accuracy: 0.8175\n",
      "Epoch 90/100\n",
      "7914698/7914698 [==============================] - 505s 64us/step - loss: 0.3872 - binary_accuracy: 0.8199 - val_loss: 0.3882 - val_binary_accuracy: 0.8202\n",
      "Epoch 91/100\n",
      "7914698/7914698 [==============================] - 495s 63us/step - loss: 0.3870 - binary_accuracy: 0.8200 - val_loss: 0.3872 - val_binary_accuracy: 0.8205\n",
      "Epoch 92/100\n",
      "7914698/7914698 [==============================] - 476s 60us/step - loss: 0.3870 - binary_accuracy: 0.8200 - val_loss: 0.3878 - val_binary_accuracy: 0.8203\n",
      "Epoch 93/100\n",
      "7914698/7914698 [==============================] - 492s 62us/step - loss: 0.3869 - binary_accuracy: 0.8201 - val_loss: 0.3905 - val_binary_accuracy: 0.8192\n",
      "Epoch 94/100\n",
      "7914698/7914698 [==============================] - 490s 62us/step - loss: 0.3867 - binary_accuracy: 0.8201 - val_loss: 0.3859 - val_binary_accuracy: 0.8213\n",
      "Epoch 95/100\n",
      "7914698/7914698 [==============================] - 485s 61us/step - loss: 0.3866 - binary_accuracy: 0.8203 - val_loss: 0.3919 - val_binary_accuracy: 0.8173\n",
      "Epoch 96/100\n",
      "7914698/7914698 [==============================] - 506s 64us/step - loss: 0.3867 - binary_accuracy: 0.8202 - val_loss: 0.3862 - val_binary_accuracy: 0.8208\n",
      "Epoch 97/100\n"
     ]
    },
    {
     "name": "stdout",
     "output_type": "stream",
     "text": [
      "7914698/7914698 [==============================] - 480s 61us/step - loss: 0.3865 - binary_accuracy: 0.8202 - val_loss: 0.3875 - val_binary_accuracy: 0.8198\n",
      "Epoch 98/100\n",
      "7914698/7914698 [==============================] - 497s 63us/step - loss: 0.3864 - binary_accuracy: 0.8204 - val_loss: 0.3876 - val_binary_accuracy: 0.8203\n",
      "Epoch 99/100\n",
      "7914698/7914698 [==============================] - 485s 61us/step - loss: 0.3863 - binary_accuracy: 0.8204 - val_loss: 0.3863 - val_binary_accuracy: 0.8212\n",
      "Epoch 100/100\n",
      "7914698/7914698 [==============================] - 487s 62us/step - loss: 0.3862 - binary_accuracy: 0.8204 - val_loss: 0.3857 - val_binary_accuracy: 0.8213\n",
      "CPU times: user 2d 10h 52min 53s, sys: 9h 13min 47s, total: 2d 20h 6min 41s\n",
      "Wall time: 13h 47min 11s\n"
     ]
    }
   ],
   "source": [
    "%%time\n",
    "\n",
    "print ('Fitting model...')\n",
    "history = model2.fit(X_final,Y_final,batch_size=250, epochs=100, validation_split = 0.10, verbose = 1)"
   ]
  },
  {
   "cell_type": "code",
   "execution_count": 241,
   "metadata": {},
   "outputs": [
    {
     "name": "stdout",
     "output_type": "stream",
     "text": [
      "8778415/8778415 [==============================] - 724s 83us/step\n"
     ]
    }
   ],
   "source": [
    "loss, accuracy = model2.evaluate(X_test, Y_test)"
   ]
  },
  {
   "cell_type": "markdown",
   "metadata": {},
   "source": [
    "# Accuracy"
   ]
  },
  {
   "cell_type": "code",
   "execution_count": 242,
   "metadata": {},
   "outputs": [
    {
     "data": {
      "text/plain": [
       "(0.39732971976983505, 0.8165441027793809)"
      ]
     },
     "execution_count": 242,
     "metadata": {},
     "output_type": "execute_result"
    }
   ],
   "source": [
    "loss, accuracy"
   ]
  },
  {
   "cell_type": "code",
   "execution_count": 243,
   "metadata": {},
   "outputs": [],
   "source": [
    "# when taking 10 timesteps, and keeping separate test and training JobIDs\n",
    "# loss, accuracy is: \n",
    "# on X_test, Y_test"
   ]
  },
  {
   "cell_type": "code",
   "execution_count": 244,
   "metadata": {},
   "outputs": [],
   "source": [
    "y_pred = model2.predict(X_test)"
   ]
  },
  {
   "cell_type": "code",
   "execution_count": 245,
   "metadata": {},
   "outputs": [],
   "source": [
    "## Save"
   ]
  },
  {
   "cell_type": "code",
   "execution_count": 246,
   "metadata": {},
   "outputs": [],
   "source": [
    "model2.save('mega_model2.pickle')"
   ]
  },
  {
   "cell_type": "code",
   "execution_count": null,
   "metadata": {},
   "outputs": [],
   "source": [
    "y_pred[15000:15010]"
   ]
  },
  {
   "cell_type": "markdown",
   "metadata": {},
   "source": [
    "# Binary classification accuracy"
   ]
  },
  {
   "cell_type": "code",
   "execution_count": 247,
   "metadata": {},
   "outputs": [],
   "source": [
    "y_true = pd.Series([x[0] for x in Y_test])\n",
    "\n",
    "# Use np.rint for rounding off \n",
    "y_predicted = pd.Series([ np.rint(j[0]) for j in y_pred])"
   ]
  },
  {
   "cell_type": "code",
   "execution_count": 248,
   "metadata": {},
   "outputs": [
    {
     "data": {
      "text/plain": [
       "0.8165441027793742"
      ]
     },
     "execution_count": 248,
     "metadata": {},
     "output_type": "execute_result"
    }
   ],
   "source": [
    "np.mean(np.equal(y_true, y_predicted))"
   ]
  },
  {
   "cell_type": "markdown",
   "metadata": {},
   "source": [
    "# Precision, Recall, fscore"
   ]
  },
  {
   "cell_type": "code",
   "execution_count": 249,
   "metadata": {},
   "outputs": [],
   "source": [
    "from sklearn.metrics import precision_recall_fscore_support as score"
   ]
  },
  {
   "cell_type": "code",
   "execution_count": 250,
   "metadata": {},
   "outputs": [],
   "source": [
    "precision, recall, fscore, support = score(y_true, y_predicted)"
   ]
  },
  {
   "cell_type": "code",
   "execution_count": 251,
   "metadata": {},
   "outputs": [
    {
     "name": "stdout",
     "output_type": "stream",
     "text": [
      "precision: [0.83674082 0.77638502]\n",
      "recall: [0.88152143 0.70515773]\n",
      "fscore: [0.8585476 0.7390592]\n",
      "support: [5544201 3234214]\n"
     ]
    }
   ],
   "source": [
    "print('precision: {}'.format(precision))\n",
    "print('recall: {}'.format(recall))\n",
    "print('fscore: {}'.format(fscore))\n",
    "print('support: {}'.format(support))"
   ]
  },
  {
   "cell_type": "markdown",
   "metadata": {},
   "source": [
    "# Confusion matrix"
   ]
  },
  {
   "cell_type": "code",
   "execution_count": 252,
   "metadata": {},
   "outputs": [
    {
     "data": {
      "text/html": [
       "<div>\n",
       "<style scoped>\n",
       "    .dataframe tbody tr th:only-of-type {\n",
       "        vertical-align: middle;\n",
       "    }\n",
       "\n",
       "    .dataframe tbody tr th {\n",
       "        vertical-align: top;\n",
       "    }\n",
       "\n",
       "    .dataframe thead th {\n",
       "        text-align: right;\n",
       "    }\n",
       "</style>\n",
       "<table border=\"1\" class=\"dataframe\">\n",
       "  <thead>\n",
       "    <tr style=\"text-align: right;\">\n",
       "      <th>Predicted</th>\n",
       "      <th>0.0</th>\n",
       "      <th>1.0</th>\n",
       "      <th>All</th>\n",
       "    </tr>\n",
       "    <tr>\n",
       "      <th>True</th>\n",
       "      <th></th>\n",
       "      <th></th>\n",
       "      <th></th>\n",
       "    </tr>\n",
       "  </thead>\n",
       "  <tbody>\n",
       "    <tr>\n",
       "      <th>0</th>\n",
       "      <td>4887332</td>\n",
       "      <td>656869</td>\n",
       "      <td>5544201</td>\n",
       "    </tr>\n",
       "    <tr>\n",
       "      <th>1</th>\n",
       "      <td>953583</td>\n",
       "      <td>2280631</td>\n",
       "      <td>3234214</td>\n",
       "    </tr>\n",
       "    <tr>\n",
       "      <th>All</th>\n",
       "      <td>5840915</td>\n",
       "      <td>2937500</td>\n",
       "      <td>8778415</td>\n",
       "    </tr>\n",
       "  </tbody>\n",
       "</table>\n",
       "</div>"
      ],
      "text/plain": [
       "Predicted      0.0      1.0      All\n",
       "True                                \n",
       "0          4887332   656869  5544201\n",
       "1           953583  2280631  3234214\n",
       "All        5840915  2937500  8778415"
      ]
     },
     "execution_count": 252,
     "metadata": {},
     "output_type": "execute_result"
    }
   ],
   "source": [
    "pd.crosstab(y_true, y_predicted, rownames=['True'], colnames=['Predicted'], margins=True)"
   ]
  },
  {
   "cell_type": "code",
   "execution_count": 253,
   "metadata": {},
   "outputs": [
    {
     "data": {
      "text/plain": [
       "2.3047740088542845"
      ]
     },
     "execution_count": 253,
     "metadata": {},
     "output_type": "execute_result"
    }
   ],
   "source": [
    "# Worst case error bound on JobID specific 'Status' prediction error:\n",
    "\n",
    "100*(7618+46967)/2368345"
   ]
  },
  {
   "cell_type": "code",
   "execution_count": 254,
   "metadata": {},
   "outputs": [
    {
     "data": {
      "text/plain": [
       "(801845, 801846)"
      ]
     },
     "execution_count": 254,
     "metadata": {},
     "output_type": "execute_result"
    }
   ],
   "source": [
    "len(takeoutdf.JobID.unique().tolist()), len(cleaned.JobID.unique().tolist())"
   ]
  },
  {
   "cell_type": "code",
   "execution_count": 255,
   "metadata": {},
   "outputs": [
    {
     "data": {
      "text/plain": [
       "238995"
      ]
     },
     "execution_count": 255,
     "metadata": {},
     "output_type": "execute_result"
    }
   ],
   "source": [
    "sum(takeoutdf[\"JobID\"].value_counts()==1)"
   ]
  },
  {
   "cell_type": "code",
   "execution_count": 256,
   "metadata": {},
   "outputs": [
    {
     "data": {
      "text/plain": [
       "953583"
      ]
     },
     "execution_count": 256,
     "metadata": {},
     "output_type": "execute_result"
    }
   ],
   "source": [
    "len(X_test[(y_true==1) & (y_predicted==0)])"
   ]
  },
  {
   "cell_type": "code",
   "execution_count": 257,
   "metadata": {},
   "outputs": [
    {
     "data": {
      "text/plain": [
       "[]"
      ]
     },
     "execution_count": 257,
     "metadata": {},
     "output_type": "execute_result"
    }
   ],
   "source": [
    "# Verify that there is no intersection between training and test jobs\n",
    "\n",
    "list(set(takeoutdf.JobID.tolist()) & set(cleaned.JobID.tolist()))"
   ]
  },
  {
   "cell_type": "code",
   "execution_count": 258,
   "metadata": {},
   "outputs": [
    {
     "data": {
      "text/plain": [
       "(2937500.0, 8778415)"
      ]
     },
     "execution_count": 258,
     "metadata": {},
     "output_type": "execute_result"
    }
   ],
   "source": [
    "# Predicting all 0s ??\n",
    "sum([ (j) for j in y_predicted]), len(y_predicted)"
   ]
  },
  {
   "cell_type": "code",
   "execution_count": null,
   "metadata": {},
   "outputs": [],
   "source": [
    "#### Model 2 End"
   ]
  },
  {
   "cell_type": "code",
   "execution_count": null,
   "metadata": {},
   "outputs": [],
   "source": [
    "#### Model 3 Start"
   ]
  },
  {
   "cell_type": "markdown",
   "metadata": {},
   "source": [
    "# Model 3"
   ]
  },
  {
   "cell_type": "code",
   "execution_count": 259,
   "metadata": {},
   "outputs": [
    {
     "name": "stdout",
     "output_type": "stream",
     "text": [
      "Creating model 3...\n",
      "Compiling...\n"
     ]
    }
   ],
   "source": [
    "model3 = create_model3()"
   ]
  },
  {
   "cell_type": "code",
   "execution_count": null,
   "metadata": {
    "scrolled": false
   },
   "outputs": [],
   "source": [
    "%%time\n",
    "\n",
    "print ('Fitting model...')\n",
    "history = model3.fit(X_final,Y_final,batch_size=250, epochs=100, validation_split = 0.10, verbose = 1)"
   ]
  },
  {
   "cell_type": "code",
   "execution_count": null,
   "metadata": {},
   "outputs": [],
   "source": [
    "loss, accuracy = model3.evaluate(X_test, Y_test)"
   ]
  },
  {
   "cell_type": "markdown",
   "metadata": {},
   "source": [
    "# Accuracy"
   ]
  },
  {
   "cell_type": "code",
   "execution_count": null,
   "metadata": {},
   "outputs": [],
   "source": [
    "loss, accuracy"
   ]
  },
  {
   "cell_type": "code",
   "execution_count": null,
   "metadata": {},
   "outputs": [],
   "source": [
    "# when taking 10 timesteps, and keeping separate test and training JobIDs\n",
    "# loss, accuracy is: \n",
    "# on X_test, Y_test"
   ]
  },
  {
   "cell_type": "code",
   "execution_count": null,
   "metadata": {},
   "outputs": [],
   "source": [
    "y_pred = model3.predict(X_test)"
   ]
  },
  {
   "cell_type": "code",
   "execution_count": null,
   "metadata": {
    "scrolled": true
   },
   "outputs": [],
   "source": [
    "y_pred[15000:15010]"
   ]
  },
  {
   "cell_type": "markdown",
   "metadata": {},
   "source": [
    "## Save Model 3"
   ]
  },
  {
   "cell_type": "code",
   "execution_count": null,
   "metadata": {},
   "outputs": [],
   "source": [
    "model3.save('large_model3_tsteps1_features65_partII.pickle')"
   ]
  },
  {
   "cell_type": "markdown",
   "metadata": {},
   "source": [
    "# Binary classification accuracy"
   ]
  },
  {
   "cell_type": "code",
   "execution_count": null,
   "metadata": {},
   "outputs": [],
   "source": [
    "y_true = pd.Series([x[0] for x in Y_test])\n",
    "\n",
    "# Use np.rint for rounding off \n",
    "y_predicted = pd.Series([ np.rint(j[0]) for j in y_pred])"
   ]
  },
  {
   "cell_type": "code",
   "execution_count": null,
   "metadata": {},
   "outputs": [],
   "source": [
    "np.mean(np.equal(y_true, y_predicted))"
   ]
  },
  {
   "cell_type": "markdown",
   "metadata": {},
   "source": [
    "# Precision, Recall, fscore"
   ]
  },
  {
   "cell_type": "code",
   "execution_count": null,
   "metadata": {},
   "outputs": [],
   "source": [
    "from sklearn.metrics import precision_recall_fscore_support as score"
   ]
  },
  {
   "cell_type": "code",
   "execution_count": null,
   "metadata": {},
   "outputs": [],
   "source": [
    "precision, recall, fscore, support = score(y_true, y_predicted)"
   ]
  },
  {
   "cell_type": "code",
   "execution_count": null,
   "metadata": {},
   "outputs": [],
   "source": [
    "print('precision: {}'.format(precision))\n",
    "print('recall: {}'.format(recall))\n",
    "print('fscore: {}'.format(fscore))\n",
    "print('support: {}'.format(support))"
   ]
  },
  {
   "cell_type": "markdown",
   "metadata": {},
   "source": [
    "# Confusion matrix"
   ]
  },
  {
   "cell_type": "code",
   "execution_count": null,
   "metadata": {
    "scrolled": true
   },
   "outputs": [],
   "source": [
    "pd.crosstab(y_true, y_predicted, rownames=['True'], colnames=['Predicted'], margins=True)"
   ]
  },
  {
   "cell_type": "code",
   "execution_count": null,
   "metadata": {},
   "outputs": [],
   "source": [
    "# Worst case error bound on JobID specific 'Status' prediction error:\n",
    "\n",
    "100*(7440+45791)/2368345"
   ]
  },
  {
   "cell_type": "code",
   "execution_count": null,
   "metadata": {},
   "outputs": [],
   "source": [
    "len(takeoutdf.JobID.unique().tolist()), len(cleaned.JobID.unique().tolist())"
   ]
  },
  {
   "cell_type": "code",
   "execution_count": null,
   "metadata": {},
   "outputs": [],
   "source": [
    "sum(takeoutdf[\"JobID\"].value_counts()==1)"
   ]
  },
  {
   "cell_type": "code",
   "execution_count": null,
   "metadata": {},
   "outputs": [],
   "source": [
    "len(X_test[(y_true==1) & (y_predicted==0)])"
   ]
  },
  {
   "cell_type": "code",
   "execution_count": null,
   "metadata": {},
   "outputs": [],
   "source": [
    "# Verify that there is no intersection between training and test jobs\n",
    "\n",
    "len(set(takeoutdf.JobID.tolist()) & set(cleaned.JobID.tolist()))"
   ]
  },
  {
   "cell_type": "code",
   "execution_count": null,
   "metadata": {},
   "outputs": [],
   "source": [
    "len(set(takeoutdf.JobID.tolist())), len(set(cleaned.JobID.tolist()))"
   ]
  },
  {
   "cell_type": "code",
   "execution_count": null,
   "metadata": {},
   "outputs": [],
   "source": [
    "# Predicting all 0s ??\n",
    "sum([ (j) for j in y_predicted]), len(y_predicted)"
   ]
  },
  {
   "cell_type": "code",
   "execution_count": null,
   "metadata": {},
   "outputs": [],
   "source": [
    "#### Model 3 End"
   ]
  },
  {
   "cell_type": "markdown",
   "metadata": {},
   "source": [
    "# Valid code above this line"
   ]
  },
  {
   "cell_type": "code",
   "execution_count": null,
   "metadata": {},
   "outputs": [],
   "source": [
    "from IPython.display import SVG\n",
    "from keras.utils.vis_utils import model_to_dot\n",
    "\n",
    "SVG(model_to_dot(model).create(prog='dot', format='svg'))"
   ]
  },
  {
   "cell_type": "code",
   "execution_count": null,
   "metadata": {},
   "outputs": [],
   "source": [
    "from keras.utils import plot_model\n",
    "plot_model(model, to_file='model3.png')"
   ]
  },
  {
   "cell_type": "code",
   "execution_count": null,
   "metadata": {},
   "outputs": [],
   "source": []
  }
 ],
 "metadata": {
  "kernelspec": {
   "display_name": "Python 3",
   "language": "python",
   "name": "python3"
  },
  "language_info": {
   "codemirror_mode": {
    "name": "ipython",
    "version": 3
   },
   "file_extension": ".py",
   "mimetype": "text/x-python",
   "name": "python",
   "nbconvert_exporter": "python",
   "pygments_lexer": "ipython3",
   "version": "3.5.4"
  }
 },
 "nbformat": 4,
 "nbformat_minor": 2
}
