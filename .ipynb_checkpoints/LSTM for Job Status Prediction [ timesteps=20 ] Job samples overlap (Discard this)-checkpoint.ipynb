{
 "cells": [
  {
   "cell_type": "code",
   "execution_count": 1,
   "metadata": {},
   "outputs": [],
   "source": [
    "# Note: Job samples overlap in this notebook, so refer to timesteps=10 notebook, \n",
    "# that one separates JobsID "
   ]
  },
  {
   "cell_type": "code",
   "execution_count": 167,
   "metadata": {},
   "outputs": [],
   "source": [
    "# This notebook contains:\n",
    "#\n",
    "# Functions to connect to MYSQL database and generate list of feature vectors for each JOBID"
   ]
  },
  {
   "cell_type": "code",
   "execution_count": 168,
   "metadata": {},
   "outputs": [],
   "source": [
    "# Connect to MYSQL database\n",
    "\n",
    "hostname = 'localhost'\n",
    "username = 'a1singh'\n",
    "password = 'sdsc1234'\n",
    "database = 'belle2'\n",
    "\n",
    "import pandas as pd\n",
    "import numpy as np"
   ]
  },
  {
   "cell_type": "code",
   "execution_count": 169,
   "metadata": {},
   "outputs": [
    {
     "name": "stdout",
     "output_type": "stream",
     "text": [
      "/data/home/a1singh/anaconda3/envs/keras/bin/python\n",
      "3.5.4 |Anaconda, Inc.| (default, Nov 20 2017, 18:44:38) \n",
      "[GCC 7.2.0]\n"
     ]
    }
   ],
   "source": [
    "import sys\n",
    "print(sys.executable)\n",
    "print(sys.version)"
   ]
  },
  {
   "cell_type": "code",
   "execution_count": 546,
   "metadata": {},
   "outputs": [
    {
     "name": "stdout",
     "output_type": "stream",
     "text": [
      "<pymysql.connections.Connection object at 0x7fef8b937828>\n"
     ]
    }
   ],
   "source": [
    "import pymysql\n",
    "from IPython.display import display, HTML\n",
    "\n",
    "conn = pymysql.connect(host=hostname, user=username, passwd=password, db=database)\n",
    "print(conn)\n",
    "\n"
   ]
  },
  {
   "cell_type": "code",
   "execution_count": 548,
   "metadata": {},
   "outputs": [
    {
     "data": {
      "text/html": [
       "<div>\n",
       "<style scoped>\n",
       "    .dataframe tbody tr th:only-of-type {\n",
       "        vertical-align: middle;\n",
       "    }\n",
       "\n",
       "    .dataframe tbody tr th {\n",
       "        vertical-align: top;\n",
       "    }\n",
       "\n",
       "    .dataframe thead th {\n",
       "        text-align: right;\n",
       "    }\n",
       "</style>\n",
       "<table border=\"1\" class=\"dataframe\">\n",
       "  <thead>\n",
       "    <tr style=\"text-align: right;\">\n",
       "      <th></th>\n",
       "      <th>Count_JobGroups</th>\n",
       "    </tr>\n",
       "  </thead>\n",
       "  <tbody>\n",
       "    <tr>\n",
       "      <th>0</th>\n",
       "      <td>5405</td>\n",
       "    </tr>\n",
       "  </tbody>\n",
       "</table>\n",
       "</div>"
      ],
      "text/plain": [
       "   Count_JobGroups\n",
       "0             5405"
      ]
     },
     "execution_count": 548,
     "metadata": {},
     "output_type": "execute_result"
    }
   ],
   "source": [
    "query = \"SELECT COUNT(DISTINCT JobGroup) AS Count_JobGroups FROM Jobs\"\n",
    "df_groups = pd.read_sql(query, conn)\n",
    "df_groups \n",
    "\n",
    "# Decision: to include JobGroups into the feature vector"
   ]
  },
  {
   "cell_type": "code",
   "execution_count": 549,
   "metadata": {},
   "outputs": [
    {
     "data": {
      "text/html": [
       "<div>\n",
       "<style scoped>\n",
       "    .dataframe tbody tr th:only-of-type {\n",
       "        vertical-align: middle;\n",
       "    }\n",
       "\n",
       "    .dataframe tbody tr th {\n",
       "        vertical-align: top;\n",
       "    }\n",
       "\n",
       "    .dataframe thead th {\n",
       "        text-align: right;\n",
       "    }\n",
       "</style>\n",
       "<table border=\"1\" class=\"dataframe\">\n",
       "  <thead>\n",
       "    <tr style=\"text-align: right;\">\n",
       "      <th></th>\n",
       "      <th>COUNT(DISTINCT JobID)</th>\n",
       "    </tr>\n",
       "  </thead>\n",
       "  <tbody>\n",
       "    <tr>\n",
       "      <th>0</th>\n",
       "      <td>10485197</td>\n",
       "    </tr>\n",
       "  </tbody>\n",
       "</table>\n",
       "</div>"
      ],
      "text/plain": [
       "   COUNT(DISTINCT JobID)\n",
       "0               10485197"
      ]
     },
     "metadata": {},
     "output_type": "display_data"
    },
    {
     "name": "stdout",
     "output_type": "stream",
     "text": [
      "CPU times: user 9.46 ms, sys: 4.89 ms, total: 14.3 ms\n",
      "Wall time: 10.6 s\n"
     ]
    }
   ],
   "source": [
    "%%time\n",
    "# Total number of unique JobIDs in Jobs\n",
    "# number of distinct JobIDs (ans - 10,485,197)\n",
    "\n",
    "df_job_count = pd.read_sql(\"SELECT COUNT(DISTINCT JobID) FROM Jobs\", conn)\n",
    "display(df_job_count)"
   ]
  },
  {
   "cell_type": "code",
   "execution_count": 550,
   "metadata": {},
   "outputs": [
    {
     "data": {
      "text/plain": [
       "0.0005154886455638364"
      ]
     },
     "execution_count": 550,
     "metadata": {},
     "output_type": "execute_result"
    }
   ],
   "source": [
    "5405/10485197"
   ]
  },
  {
   "cell_type": "code",
   "execution_count": 171,
   "metadata": {
    "scrolled": true
   },
   "outputs": [],
   "source": [
    "query = \"show tables\"\n",
    "df = pd.read_sql(query, conn)\n",
    "tables = df['Tables_in_belle2'].tolist()"
   ]
  },
  {
   "cell_type": "code",
   "execution_count": 172,
   "metadata": {},
   "outputs": [
    {
     "name": "stdout",
     "output_type": "stream",
     "text": [
      "AtticJobParameters\n"
     ]
    },
    {
     "data": {
      "text/html": [
       "<div>\n",
       "<style scoped>\n",
       "    .dataframe tbody tr th:only-of-type {\n",
       "        vertical-align: middle;\n",
       "    }\n",
       "\n",
       "    .dataframe tbody tr th {\n",
       "        vertical-align: top;\n",
       "    }\n",
       "\n",
       "    .dataframe thead th {\n",
       "        text-align: right;\n",
       "    }\n",
       "</style>\n",
       "<table border=\"1\" class=\"dataframe\">\n",
       "  <thead>\n",
       "    <tr style=\"text-align: right;\">\n",
       "      <th></th>\n",
       "      <th>Field</th>\n",
       "      <th>Type</th>\n",
       "      <th>Null</th>\n",
       "      <th>Key</th>\n",
       "      <th>Default</th>\n",
       "      <th>Extra</th>\n",
       "    </tr>\n",
       "  </thead>\n",
       "  <tbody>\n",
       "    <tr>\n",
       "      <th>0</th>\n",
       "      <td>JobID</td>\n",
       "      <td>int(11) unsigned</td>\n",
       "      <td>NO</td>\n",
       "      <td>PRI</td>\n",
       "      <td>None</td>\n",
       "      <td></td>\n",
       "    </tr>\n",
       "    <tr>\n",
       "      <th>1</th>\n",
       "      <td>Name</td>\n",
       "      <td>varchar(100)</td>\n",
       "      <td>NO</td>\n",
       "      <td>PRI</td>\n",
       "      <td>None</td>\n",
       "      <td></td>\n",
       "    </tr>\n",
       "    <tr>\n",
       "      <th>2</th>\n",
       "      <td>Value</td>\n",
       "      <td>blob</td>\n",
       "      <td>NO</td>\n",
       "      <td></td>\n",
       "      <td>None</td>\n",
       "      <td></td>\n",
       "    </tr>\n",
       "    <tr>\n",
       "      <th>3</th>\n",
       "      <td>RescheduleCycle</td>\n",
       "      <td>int(11) unsigned</td>\n",
       "      <td>NO</td>\n",
       "      <td>PRI</td>\n",
       "      <td>None</td>\n",
       "      <td></td>\n",
       "    </tr>\n",
       "  </tbody>\n",
       "</table>\n",
       "</div>"
      ],
      "text/plain": [
       "             Field              Type Null  Key Default Extra\n",
       "0            JobID  int(11) unsigned   NO  PRI    None      \n",
       "1             Name      varchar(100)   NO  PRI    None      \n",
       "2            Value              blob   NO         None      \n",
       "3  RescheduleCycle  int(11) unsigned   NO  PRI    None      "
      ]
     },
     "metadata": {},
     "output_type": "display_data"
    },
    {
     "name": "stdout",
     "output_type": "stream",
     "text": [
      "[['JobID' 'int(11) unsigned' 'NO' 'PRI' None '']\n",
      " ['Name' 'varchar(100)' 'NO' 'PRI' None '']\n",
      " ['Value' 'blob' 'NO' '' None '']\n",
      " ['RescheduleCycle' 'int(11) unsigned' 'NO' 'PRI' None '']]\n",
      "4\n",
      "----------------------------------------------------------------------------------------------------\n",
      "HeartBeatLoggingInfo\n"
     ]
    },
    {
     "data": {
      "text/html": [
       "<div>\n",
       "<style scoped>\n",
       "    .dataframe tbody tr th:only-of-type {\n",
       "        vertical-align: middle;\n",
       "    }\n",
       "\n",
       "    .dataframe tbody tr th {\n",
       "        vertical-align: top;\n",
       "    }\n",
       "\n",
       "    .dataframe thead th {\n",
       "        text-align: right;\n",
       "    }\n",
       "</style>\n",
       "<table border=\"1\" class=\"dataframe\">\n",
       "  <thead>\n",
       "    <tr style=\"text-align: right;\">\n",
       "      <th></th>\n",
       "      <th>Field</th>\n",
       "      <th>Type</th>\n",
       "      <th>Null</th>\n",
       "      <th>Key</th>\n",
       "      <th>Default</th>\n",
       "      <th>Extra</th>\n",
       "    </tr>\n",
       "  </thead>\n",
       "  <tbody>\n",
       "    <tr>\n",
       "      <th>0</th>\n",
       "      <td>JobID</td>\n",
       "      <td>int(11) unsigned</td>\n",
       "      <td>NO</td>\n",
       "      <td>PRI</td>\n",
       "      <td>None</td>\n",
       "      <td></td>\n",
       "    </tr>\n",
       "    <tr>\n",
       "      <th>1</th>\n",
       "      <td>Name</td>\n",
       "      <td>varchar(100)</td>\n",
       "      <td>NO</td>\n",
       "      <td>PRI</td>\n",
       "      <td>None</td>\n",
       "      <td></td>\n",
       "    </tr>\n",
       "    <tr>\n",
       "      <th>2</th>\n",
       "      <td>Value</td>\n",
       "      <td>blob</td>\n",
       "      <td>NO</td>\n",
       "      <td></td>\n",
       "      <td>None</td>\n",
       "      <td></td>\n",
       "    </tr>\n",
       "    <tr>\n",
       "      <th>3</th>\n",
       "      <td>HeartBeatTime</td>\n",
       "      <td>datetime</td>\n",
       "      <td>NO</td>\n",
       "      <td>PRI</td>\n",
       "      <td>None</td>\n",
       "      <td></td>\n",
       "    </tr>\n",
       "  </tbody>\n",
       "</table>\n",
       "</div>"
      ],
      "text/plain": [
       "           Field              Type Null  Key Default Extra\n",
       "0          JobID  int(11) unsigned   NO  PRI    None      \n",
       "1           Name      varchar(100)   NO  PRI    None      \n",
       "2          Value              blob   NO         None      \n",
       "3  HeartBeatTime          datetime   NO  PRI    None      "
      ]
     },
     "metadata": {},
     "output_type": "display_data"
    },
    {
     "name": "stdout",
     "output_type": "stream",
     "text": [
      "[['JobID' 'int(11) unsigned' 'NO' 'PRI' None '']\n",
      " ['Name' 'varchar(100)' 'NO' 'PRI' None '']\n",
      " ['Value' 'blob' 'NO' '' None '']\n",
      " ['HeartBeatTime' 'datetime' 'NO' 'PRI' None '']]\n",
      "4\n",
      "----------------------------------------------------------------------------------------------------\n",
      "InputData\n"
     ]
    },
    {
     "data": {
      "text/html": [
       "<div>\n",
       "<style scoped>\n",
       "    .dataframe tbody tr th:only-of-type {\n",
       "        vertical-align: middle;\n",
       "    }\n",
       "\n",
       "    .dataframe tbody tr th {\n",
       "        vertical-align: top;\n",
       "    }\n",
       "\n",
       "    .dataframe thead th {\n",
       "        text-align: right;\n",
       "    }\n",
       "</style>\n",
       "<table border=\"1\" class=\"dataframe\">\n",
       "  <thead>\n",
       "    <tr style=\"text-align: right;\">\n",
       "      <th></th>\n",
       "      <th>Field</th>\n",
       "      <th>Type</th>\n",
       "      <th>Null</th>\n",
       "      <th>Key</th>\n",
       "      <th>Default</th>\n",
       "      <th>Extra</th>\n",
       "    </tr>\n",
       "  </thead>\n",
       "  <tbody>\n",
       "    <tr>\n",
       "      <th>0</th>\n",
       "      <td>JobID</td>\n",
       "      <td>int(11) unsigned</td>\n",
       "      <td>NO</td>\n",
       "      <td>PRI</td>\n",
       "      <td>None</td>\n",
       "      <td></td>\n",
       "    </tr>\n",
       "    <tr>\n",
       "      <th>1</th>\n",
       "      <td>LFN</td>\n",
       "      <td>varchar(255)</td>\n",
       "      <td>NO</td>\n",
       "      <td>PRI</td>\n",
       "      <td></td>\n",
       "      <td></td>\n",
       "    </tr>\n",
       "    <tr>\n",
       "      <th>2</th>\n",
       "      <td>Status</td>\n",
       "      <td>varchar(32)</td>\n",
       "      <td>NO</td>\n",
       "      <td></td>\n",
       "      <td>AprioriGood</td>\n",
       "      <td></td>\n",
       "    </tr>\n",
       "  </tbody>\n",
       "</table>\n",
       "</div>"
      ],
      "text/plain": [
       "    Field              Type Null  Key      Default Extra\n",
       "0   JobID  int(11) unsigned   NO  PRI         None      \n",
       "1     LFN      varchar(255)   NO  PRI                   \n",
       "2  Status       varchar(32)   NO       AprioriGood      "
      ]
     },
     "metadata": {},
     "output_type": "display_data"
    },
    {
     "name": "stdout",
     "output_type": "stream",
     "text": [
      "[['JobID' 'int(11) unsigned' 'NO' 'PRI' None '']\n",
      " ['LFN' 'varchar(255)' 'NO' 'PRI' '' '']\n",
      " ['Status' 'varchar(32)' 'NO' '' 'AprioriGood' '']]\n",
      "3\n",
      "----------------------------------------------------------------------------------------------------\n",
      "JobCommands\n"
     ]
    },
    {
     "data": {
      "text/html": [
       "<div>\n",
       "<style scoped>\n",
       "    .dataframe tbody tr th:only-of-type {\n",
       "        vertical-align: middle;\n",
       "    }\n",
       "\n",
       "    .dataframe tbody tr th {\n",
       "        vertical-align: top;\n",
       "    }\n",
       "\n",
       "    .dataframe thead th {\n",
       "        text-align: right;\n",
       "    }\n",
       "</style>\n",
       "<table border=\"1\" class=\"dataframe\">\n",
       "  <thead>\n",
       "    <tr style=\"text-align: right;\">\n",
       "      <th></th>\n",
       "      <th>Field</th>\n",
       "      <th>Type</th>\n",
       "      <th>Null</th>\n",
       "      <th>Key</th>\n",
       "      <th>Default</th>\n",
       "      <th>Extra</th>\n",
       "    </tr>\n",
       "  </thead>\n",
       "  <tbody>\n",
       "    <tr>\n",
       "      <th>0</th>\n",
       "      <td>JobID</td>\n",
       "      <td>int(11) unsigned</td>\n",
       "      <td>NO</td>\n",
       "      <td>PRI</td>\n",
       "      <td>None</td>\n",
       "      <td></td>\n",
       "    </tr>\n",
       "    <tr>\n",
       "      <th>1</th>\n",
       "      <td>Command</td>\n",
       "      <td>varchar(100)</td>\n",
       "      <td>NO</td>\n",
       "      <td></td>\n",
       "      <td>None</td>\n",
       "      <td></td>\n",
       "    </tr>\n",
       "    <tr>\n",
       "      <th>2</th>\n",
       "      <td>Arguments</td>\n",
       "      <td>varchar(100)</td>\n",
       "      <td>NO</td>\n",
       "      <td>PRI</td>\n",
       "      <td>None</td>\n",
       "      <td></td>\n",
       "    </tr>\n",
       "    <tr>\n",
       "      <th>3</th>\n",
       "      <td>Status</td>\n",
       "      <td>varchar(64)</td>\n",
       "      <td>NO</td>\n",
       "      <td></td>\n",
       "      <td>Received</td>\n",
       "      <td></td>\n",
       "    </tr>\n",
       "    <tr>\n",
       "      <th>4</th>\n",
       "      <td>ReceptionTime</td>\n",
       "      <td>datetime</td>\n",
       "      <td>NO</td>\n",
       "      <td>PRI</td>\n",
       "      <td>None</td>\n",
       "      <td></td>\n",
       "    </tr>\n",
       "    <tr>\n",
       "      <th>5</th>\n",
       "      <td>ExecutionTime</td>\n",
       "      <td>datetime</td>\n",
       "      <td>YES</td>\n",
       "      <td></td>\n",
       "      <td>None</td>\n",
       "      <td></td>\n",
       "    </tr>\n",
       "  </tbody>\n",
       "</table>\n",
       "</div>"
      ],
      "text/plain": [
       "           Field              Type Null  Key   Default Extra\n",
       "0          JobID  int(11) unsigned   NO  PRI      None      \n",
       "1        Command      varchar(100)   NO           None      \n",
       "2      Arguments      varchar(100)   NO  PRI      None      \n",
       "3         Status       varchar(64)   NO       Received      \n",
       "4  ReceptionTime          datetime   NO  PRI      None      \n",
       "5  ExecutionTime          datetime  YES           None      "
      ]
     },
     "metadata": {},
     "output_type": "display_data"
    },
    {
     "name": "stdout",
     "output_type": "stream",
     "text": [
      "[['JobID' 'int(11) unsigned' 'NO' 'PRI' None '']\n",
      " ['Command' 'varchar(100)' 'NO' '' None '']\n",
      " ['Arguments' 'varchar(100)' 'NO' 'PRI' None '']\n",
      " ['Status' 'varchar(64)' 'NO' '' 'Received' '']\n",
      " ['ReceptionTime' 'datetime' 'NO' 'PRI' None '']\n",
      " ['ExecutionTime' 'datetime' 'YES' '' None '']]\n",
      "6\n",
      "----------------------------------------------------------------------------------------------------\n",
      "JobJDLs\n"
     ]
    },
    {
     "data": {
      "text/html": [
       "<div>\n",
       "<style scoped>\n",
       "    .dataframe tbody tr th:only-of-type {\n",
       "        vertical-align: middle;\n",
       "    }\n",
       "\n",
       "    .dataframe tbody tr th {\n",
       "        vertical-align: top;\n",
       "    }\n",
       "\n",
       "    .dataframe thead th {\n",
       "        text-align: right;\n",
       "    }\n",
       "</style>\n",
       "<table border=\"1\" class=\"dataframe\">\n",
       "  <thead>\n",
       "    <tr style=\"text-align: right;\">\n",
       "      <th></th>\n",
       "      <th>Field</th>\n",
       "      <th>Type</th>\n",
       "      <th>Null</th>\n",
       "      <th>Key</th>\n",
       "      <th>Default</th>\n",
       "      <th>Extra</th>\n",
       "    </tr>\n",
       "  </thead>\n",
       "  <tbody>\n",
       "    <tr>\n",
       "      <th>0</th>\n",
       "      <td>JobID</td>\n",
       "      <td>int(11) unsigned</td>\n",
       "      <td>NO</td>\n",
       "      <td>PRI</td>\n",
       "      <td>None</td>\n",
       "      <td>auto_increment</td>\n",
       "    </tr>\n",
       "    <tr>\n",
       "      <th>1</th>\n",
       "      <td>JDL</td>\n",
       "      <td>mediumblob</td>\n",
       "      <td>NO</td>\n",
       "      <td></td>\n",
       "      <td>None</td>\n",
       "      <td></td>\n",
       "    </tr>\n",
       "    <tr>\n",
       "      <th>2</th>\n",
       "      <td>JobRequirements</td>\n",
       "      <td>blob</td>\n",
       "      <td>NO</td>\n",
       "      <td></td>\n",
       "      <td>None</td>\n",
       "      <td></td>\n",
       "    </tr>\n",
       "    <tr>\n",
       "      <th>3</th>\n",
       "      <td>OriginalJDL</td>\n",
       "      <td>mediumblob</td>\n",
       "      <td>NO</td>\n",
       "      <td></td>\n",
       "      <td>None</td>\n",
       "      <td></td>\n",
       "    </tr>\n",
       "  </tbody>\n",
       "</table>\n",
       "</div>"
      ],
      "text/plain": [
       "             Field              Type Null  Key Default           Extra\n",
       "0            JobID  int(11) unsigned   NO  PRI    None  auto_increment\n",
       "1              JDL        mediumblob   NO         None                \n",
       "2  JobRequirements              blob   NO         None                \n",
       "3      OriginalJDL        mediumblob   NO         None                "
      ]
     },
     "metadata": {},
     "output_type": "display_data"
    },
    {
     "name": "stdout",
     "output_type": "stream",
     "text": [
      "[['JobID' 'int(11) unsigned' 'NO' 'PRI' None 'auto_increment']\n",
      " ['JDL' 'mediumblob' 'NO' '' None '']\n",
      " ['JobRequirements' 'blob' 'NO' '' None '']\n",
      " ['OriginalJDL' 'mediumblob' 'NO' '' None '']]\n",
      "4\n",
      "----------------------------------------------------------------------------------------------------\n",
      "JobParameters\n"
     ]
    },
    {
     "data": {
      "text/html": [
       "<div>\n",
       "<style scoped>\n",
       "    .dataframe tbody tr th:only-of-type {\n",
       "        vertical-align: middle;\n",
       "    }\n",
       "\n",
       "    .dataframe tbody tr th {\n",
       "        vertical-align: top;\n",
       "    }\n",
       "\n",
       "    .dataframe thead th {\n",
       "        text-align: right;\n",
       "    }\n",
       "</style>\n",
       "<table border=\"1\" class=\"dataframe\">\n",
       "  <thead>\n",
       "    <tr style=\"text-align: right;\">\n",
       "      <th></th>\n",
       "      <th>Field</th>\n",
       "      <th>Type</th>\n",
       "      <th>Null</th>\n",
       "      <th>Key</th>\n",
       "      <th>Default</th>\n",
       "      <th>Extra</th>\n",
       "    </tr>\n",
       "  </thead>\n",
       "  <tbody>\n",
       "    <tr>\n",
       "      <th>0</th>\n",
       "      <td>JobID</td>\n",
       "      <td>int(11) unsigned</td>\n",
       "      <td>NO</td>\n",
       "      <td>PRI</td>\n",
       "      <td>None</td>\n",
       "      <td></td>\n",
       "    </tr>\n",
       "    <tr>\n",
       "      <th>1</th>\n",
       "      <td>Name</td>\n",
       "      <td>varchar(100)</td>\n",
       "      <td>NO</td>\n",
       "      <td>PRI</td>\n",
       "      <td>None</td>\n",
       "      <td></td>\n",
       "    </tr>\n",
       "    <tr>\n",
       "      <th>2</th>\n",
       "      <td>Value</td>\n",
       "      <td>blob</td>\n",
       "      <td>NO</td>\n",
       "      <td></td>\n",
       "      <td>None</td>\n",
       "      <td></td>\n",
       "    </tr>\n",
       "  </tbody>\n",
       "</table>\n",
       "</div>"
      ],
      "text/plain": [
       "   Field              Type Null  Key Default Extra\n",
       "0  JobID  int(11) unsigned   NO  PRI    None      \n",
       "1   Name      varchar(100)   NO  PRI    None      \n",
       "2  Value              blob   NO         None      "
      ]
     },
     "metadata": {},
     "output_type": "display_data"
    },
    {
     "name": "stdout",
     "output_type": "stream",
     "text": [
      "[['JobID' 'int(11) unsigned' 'NO' 'PRI' None '']\n",
      " ['Name' 'varchar(100)' 'NO' 'PRI' None '']\n",
      " ['Value' 'blob' 'NO' '' None '']]\n",
      "3\n",
      "----------------------------------------------------------------------------------------------------\n",
      "Jobs\n"
     ]
    },
    {
     "data": {
      "text/html": [
       "<div>\n",
       "<style scoped>\n",
       "    .dataframe tbody tr th:only-of-type {\n",
       "        vertical-align: middle;\n",
       "    }\n",
       "\n",
       "    .dataframe tbody tr th {\n",
       "        vertical-align: top;\n",
       "    }\n",
       "\n",
       "    .dataframe thead th {\n",
       "        text-align: right;\n",
       "    }\n",
       "</style>\n",
       "<table border=\"1\" class=\"dataframe\">\n",
       "  <thead>\n",
       "    <tr style=\"text-align: right;\">\n",
       "      <th></th>\n",
       "      <th>Field</th>\n",
       "      <th>Type</th>\n",
       "      <th>Null</th>\n",
       "      <th>Key</th>\n",
       "      <th>Default</th>\n",
       "      <th>Extra</th>\n",
       "    </tr>\n",
       "  </thead>\n",
       "  <tbody>\n",
       "    <tr>\n",
       "      <th>0</th>\n",
       "      <td>JobID</td>\n",
       "      <td>int(11) unsigned</td>\n",
       "      <td>NO</td>\n",
       "      <td>PRI</td>\n",
       "      <td>0</td>\n",
       "      <td></td>\n",
       "    </tr>\n",
       "    <tr>\n",
       "      <th>1</th>\n",
       "      <td>JobType</td>\n",
       "      <td>varchar(32)</td>\n",
       "      <td>NO</td>\n",
       "      <td>MUL</td>\n",
       "      <td>user</td>\n",
       "      <td></td>\n",
       "    </tr>\n",
       "    <tr>\n",
       "      <th>2</th>\n",
       "      <td>DIRACSetup</td>\n",
       "      <td>varchar(32)</td>\n",
       "      <td>NO</td>\n",
       "      <td>MUL</td>\n",
       "      <td>test</td>\n",
       "      <td></td>\n",
       "    </tr>\n",
       "    <tr>\n",
       "      <th>3</th>\n",
       "      <td>JobGroup</td>\n",
       "      <td>varchar(32)</td>\n",
       "      <td>NO</td>\n",
       "      <td>MUL</td>\n",
       "      <td>00000000</td>\n",
       "      <td></td>\n",
       "    </tr>\n",
       "    <tr>\n",
       "      <th>4</th>\n",
       "      <td>JobSplitType</td>\n",
       "      <td>enum('Single','Master','Subjob','DAGNode')</td>\n",
       "      <td>NO</td>\n",
       "      <td>MUL</td>\n",
       "      <td>Single</td>\n",
       "      <td></td>\n",
       "    </tr>\n",
       "    <tr>\n",
       "      <th>5</th>\n",
       "      <td>MasterJobID</td>\n",
       "      <td>int(11) unsigned</td>\n",
       "      <td>NO</td>\n",
       "      <td></td>\n",
       "      <td>0</td>\n",
       "      <td></td>\n",
       "    </tr>\n",
       "    <tr>\n",
       "      <th>6</th>\n",
       "      <td>Site</td>\n",
       "      <td>varchar(100)</td>\n",
       "      <td>NO</td>\n",
       "      <td>MUL</td>\n",
       "      <td>ANY</td>\n",
       "      <td></td>\n",
       "    </tr>\n",
       "    <tr>\n",
       "      <th>7</th>\n",
       "      <td>JobName</td>\n",
       "      <td>varchar(128)</td>\n",
       "      <td>NO</td>\n",
       "      <td></td>\n",
       "      <td>Unknown</td>\n",
       "      <td></td>\n",
       "    </tr>\n",
       "    <tr>\n",
       "      <th>8</th>\n",
       "      <td>Owner</td>\n",
       "      <td>varchar(32)</td>\n",
       "      <td>NO</td>\n",
       "      <td>MUL</td>\n",
       "      <td>Unknown</td>\n",
       "      <td></td>\n",
       "    </tr>\n",
       "    <tr>\n",
       "      <th>9</th>\n",
       "      <td>OwnerDN</td>\n",
       "      <td>varchar(255)</td>\n",
       "      <td>NO</td>\n",
       "      <td>MUL</td>\n",
       "      <td>Unknown</td>\n",
       "      <td></td>\n",
       "    </tr>\n",
       "    <tr>\n",
       "      <th>10</th>\n",
       "      <td>OwnerGroup</td>\n",
       "      <td>varchar(128)</td>\n",
       "      <td>NO</td>\n",
       "      <td>MUL</td>\n",
       "      <td>Unknown</td>\n",
       "      <td></td>\n",
       "    </tr>\n",
       "    <tr>\n",
       "      <th>11</th>\n",
       "      <td>SubmissionTime</td>\n",
       "      <td>datetime</td>\n",
       "      <td>YES</td>\n",
       "      <td></td>\n",
       "      <td>None</td>\n",
       "      <td></td>\n",
       "    </tr>\n",
       "    <tr>\n",
       "      <th>12</th>\n",
       "      <td>RescheduleTime</td>\n",
       "      <td>datetime</td>\n",
       "      <td>YES</td>\n",
       "      <td></td>\n",
       "      <td>None</td>\n",
       "      <td></td>\n",
       "    </tr>\n",
       "    <tr>\n",
       "      <th>13</th>\n",
       "      <td>LastUpdateTime</td>\n",
       "      <td>datetime</td>\n",
       "      <td>YES</td>\n",
       "      <td>MUL</td>\n",
       "      <td>None</td>\n",
       "      <td></td>\n",
       "    </tr>\n",
       "    <tr>\n",
       "      <th>14</th>\n",
       "      <td>StartExecTime</td>\n",
       "      <td>datetime</td>\n",
       "      <td>YES</td>\n",
       "      <td></td>\n",
       "      <td>None</td>\n",
       "      <td></td>\n",
       "    </tr>\n",
       "    <tr>\n",
       "      <th>15</th>\n",
       "      <td>HeartBeatTime</td>\n",
       "      <td>datetime</td>\n",
       "      <td>YES</td>\n",
       "      <td></td>\n",
       "      <td>None</td>\n",
       "      <td></td>\n",
       "    </tr>\n",
       "    <tr>\n",
       "      <th>16</th>\n",
       "      <td>EndExecTime</td>\n",
       "      <td>datetime</td>\n",
       "      <td>YES</td>\n",
       "      <td></td>\n",
       "      <td>None</td>\n",
       "      <td></td>\n",
       "    </tr>\n",
       "    <tr>\n",
       "      <th>17</th>\n",
       "      <td>Status</td>\n",
       "      <td>varchar(32)</td>\n",
       "      <td>NO</td>\n",
       "      <td>MUL</td>\n",
       "      <td>Received</td>\n",
       "      <td></td>\n",
       "    </tr>\n",
       "    <tr>\n",
       "      <th>18</th>\n",
       "      <td>MinorStatus</td>\n",
       "      <td>varchar(128)</td>\n",
       "      <td>NO</td>\n",
       "      <td>MUL</td>\n",
       "      <td>Unknown</td>\n",
       "      <td></td>\n",
       "    </tr>\n",
       "    <tr>\n",
       "      <th>19</th>\n",
       "      <td>ApplicationStatus</td>\n",
       "      <td>varchar(255)</td>\n",
       "      <td>YES</td>\n",
       "      <td>MUL</td>\n",
       "      <td>Unknown</td>\n",
       "      <td></td>\n",
       "    </tr>\n",
       "    <tr>\n",
       "      <th>20</th>\n",
       "      <td>ApplicationNumStatus</td>\n",
       "      <td>int(11)</td>\n",
       "      <td>NO</td>\n",
       "      <td></td>\n",
       "      <td>0</td>\n",
       "      <td></td>\n",
       "    </tr>\n",
       "    <tr>\n",
       "      <th>21</th>\n",
       "      <td>CPUTime</td>\n",
       "      <td>float</td>\n",
       "      <td>NO</td>\n",
       "      <td></td>\n",
       "      <td>0</td>\n",
       "      <td></td>\n",
       "    </tr>\n",
       "    <tr>\n",
       "      <th>22</th>\n",
       "      <td>UserPriority</td>\n",
       "      <td>int(11)</td>\n",
       "      <td>NO</td>\n",
       "      <td></td>\n",
       "      <td>0</td>\n",
       "      <td></td>\n",
       "    </tr>\n",
       "    <tr>\n",
       "      <th>23</th>\n",
       "      <td>SystemPriority</td>\n",
       "      <td>int(11)</td>\n",
       "      <td>NO</td>\n",
       "      <td></td>\n",
       "      <td>0</td>\n",
       "      <td></td>\n",
       "    </tr>\n",
       "    <tr>\n",
       "      <th>24</th>\n",
       "      <td>RescheduleCounter</td>\n",
       "      <td>int(11)</td>\n",
       "      <td>NO</td>\n",
       "      <td></td>\n",
       "      <td>0</td>\n",
       "      <td></td>\n",
       "    </tr>\n",
       "    <tr>\n",
       "      <th>25</th>\n",
       "      <td>VerifiedFlag</td>\n",
       "      <td>enum('True','False')</td>\n",
       "      <td>NO</td>\n",
       "      <td></td>\n",
       "      <td>False</td>\n",
       "      <td></td>\n",
       "    </tr>\n",
       "    <tr>\n",
       "      <th>26</th>\n",
       "      <td>DeletedFlag</td>\n",
       "      <td>enum('True','False')</td>\n",
       "      <td>NO</td>\n",
       "      <td></td>\n",
       "      <td>False</td>\n",
       "      <td></td>\n",
       "    </tr>\n",
       "    <tr>\n",
       "      <th>27</th>\n",
       "      <td>KilledFlag</td>\n",
       "      <td>enum('True','False')</td>\n",
       "      <td>NO</td>\n",
       "      <td></td>\n",
       "      <td>False</td>\n",
       "      <td></td>\n",
       "    </tr>\n",
       "    <tr>\n",
       "      <th>28</th>\n",
       "      <td>FailedFlag</td>\n",
       "      <td>enum('True','False')</td>\n",
       "      <td>NO</td>\n",
       "      <td></td>\n",
       "      <td>False</td>\n",
       "      <td></td>\n",
       "    </tr>\n",
       "    <tr>\n",
       "      <th>29</th>\n",
       "      <td>ISandboxReadyFlag</td>\n",
       "      <td>enum('True','False')</td>\n",
       "      <td>NO</td>\n",
       "      <td></td>\n",
       "      <td>False</td>\n",
       "      <td></td>\n",
       "    </tr>\n",
       "    <tr>\n",
       "      <th>30</th>\n",
       "      <td>OSandboxReadyFlag</td>\n",
       "      <td>enum('True','False')</td>\n",
       "      <td>NO</td>\n",
       "      <td></td>\n",
       "      <td>False</td>\n",
       "      <td></td>\n",
       "    </tr>\n",
       "    <tr>\n",
       "      <th>31</th>\n",
       "      <td>RetrievedFlag</td>\n",
       "      <td>enum('True','False')</td>\n",
       "      <td>NO</td>\n",
       "      <td></td>\n",
       "      <td>False</td>\n",
       "      <td></td>\n",
       "    </tr>\n",
       "    <tr>\n",
       "      <th>32</th>\n",
       "      <td>AccountedFlag</td>\n",
       "      <td>enum('True','False','Failed')</td>\n",
       "      <td>NO</td>\n",
       "      <td></td>\n",
       "      <td>False</td>\n",
       "      <td></td>\n",
       "    </tr>\n",
       "  </tbody>\n",
       "</table>\n",
       "</div>"
      ],
      "text/plain": [
       "                   Field                                        Type Null  \\\n",
       "0                  JobID                            int(11) unsigned   NO   \n",
       "1                JobType                                 varchar(32)   NO   \n",
       "2             DIRACSetup                                 varchar(32)   NO   \n",
       "3               JobGroup                                 varchar(32)   NO   \n",
       "4           JobSplitType  enum('Single','Master','Subjob','DAGNode')   NO   \n",
       "5            MasterJobID                            int(11) unsigned   NO   \n",
       "6                   Site                                varchar(100)   NO   \n",
       "7                JobName                                varchar(128)   NO   \n",
       "8                  Owner                                 varchar(32)   NO   \n",
       "9                OwnerDN                                varchar(255)   NO   \n",
       "10            OwnerGroup                                varchar(128)   NO   \n",
       "11        SubmissionTime                                    datetime  YES   \n",
       "12        RescheduleTime                                    datetime  YES   \n",
       "13        LastUpdateTime                                    datetime  YES   \n",
       "14         StartExecTime                                    datetime  YES   \n",
       "15         HeartBeatTime                                    datetime  YES   \n",
       "16           EndExecTime                                    datetime  YES   \n",
       "17                Status                                 varchar(32)   NO   \n",
       "18           MinorStatus                                varchar(128)   NO   \n",
       "19     ApplicationStatus                                varchar(255)  YES   \n",
       "20  ApplicationNumStatus                                     int(11)   NO   \n",
       "21               CPUTime                                       float   NO   \n",
       "22          UserPriority                                     int(11)   NO   \n",
       "23        SystemPriority                                     int(11)   NO   \n",
       "24     RescheduleCounter                                     int(11)   NO   \n",
       "25          VerifiedFlag                        enum('True','False')   NO   \n",
       "26           DeletedFlag                        enum('True','False')   NO   \n",
       "27            KilledFlag                        enum('True','False')   NO   \n",
       "28            FailedFlag                        enum('True','False')   NO   \n",
       "29     ISandboxReadyFlag                        enum('True','False')   NO   \n",
       "30     OSandboxReadyFlag                        enum('True','False')   NO   \n",
       "31         RetrievedFlag                        enum('True','False')   NO   \n",
       "32         AccountedFlag               enum('True','False','Failed')   NO   \n",
       "\n",
       "    Key   Default Extra  \n",
       "0   PRI         0        \n",
       "1   MUL      user        \n",
       "2   MUL      test        \n",
       "3   MUL  00000000        \n",
       "4   MUL    Single        \n",
       "5               0        \n",
       "6   MUL       ANY        \n",
       "7         Unknown        \n",
       "8   MUL   Unknown        \n",
       "9   MUL   Unknown        \n",
       "10  MUL   Unknown        \n",
       "11           None        \n",
       "12           None        \n",
       "13  MUL      None        \n",
       "14           None        \n",
       "15           None        \n",
       "16           None        \n",
       "17  MUL  Received        \n",
       "18  MUL   Unknown        \n",
       "19  MUL   Unknown        \n",
       "20              0        \n",
       "21              0        \n",
       "22              0        \n",
       "23              0        \n",
       "24              0        \n",
       "25          False        \n",
       "26          False        \n",
       "27          False        \n",
       "28          False        \n",
       "29          False        \n",
       "30          False        \n",
       "31          False        \n",
       "32          False        "
      ]
     },
     "metadata": {},
     "output_type": "display_data"
    },
    {
     "name": "stdout",
     "output_type": "stream",
     "text": [
      "[['JobID' 'int(11) unsigned' 'NO' 'PRI' '0' '']\n",
      " ['JobType' 'varchar(32)' 'NO' 'MUL' 'user' '']\n",
      " ['DIRACSetup' 'varchar(32)' 'NO' 'MUL' 'test' '']\n",
      " ['JobGroup' 'varchar(32)' 'NO' 'MUL' '00000000' '']\n",
      " ['JobSplitType' \"enum('Single','Master','Subjob','DAGNode')\" 'NO' 'MUL'\n",
      "  'Single' '']\n",
      " ['MasterJobID' 'int(11) unsigned' 'NO' '' '0' '']\n",
      " ['Site' 'varchar(100)' 'NO' 'MUL' 'ANY' '']\n",
      " ['JobName' 'varchar(128)' 'NO' '' 'Unknown' '']\n",
      " ['Owner' 'varchar(32)' 'NO' 'MUL' 'Unknown' '']\n",
      " ['OwnerDN' 'varchar(255)' 'NO' 'MUL' 'Unknown' '']\n",
      " ['OwnerGroup' 'varchar(128)' 'NO' 'MUL' 'Unknown' '']\n",
      " ['SubmissionTime' 'datetime' 'YES' '' None '']\n",
      " ['RescheduleTime' 'datetime' 'YES' '' None '']\n",
      " ['LastUpdateTime' 'datetime' 'YES' 'MUL' None '']\n",
      " ['StartExecTime' 'datetime' 'YES' '' None '']\n",
      " ['HeartBeatTime' 'datetime' 'YES' '' None '']\n",
      " ['EndExecTime' 'datetime' 'YES' '' None '']\n",
      " ['Status' 'varchar(32)' 'NO' 'MUL' 'Received' '']\n",
      " ['MinorStatus' 'varchar(128)' 'NO' 'MUL' 'Unknown' '']\n",
      " ['ApplicationStatus' 'varchar(255)' 'YES' 'MUL' 'Unknown' '']\n",
      " ['ApplicationNumStatus' 'int(11)' 'NO' '' '0' '']\n",
      " ['CPUTime' 'float' 'NO' '' '0' '']\n",
      " ['UserPriority' 'int(11)' 'NO' '' '0' '']\n",
      " ['SystemPriority' 'int(11)' 'NO' '' '0' '']\n",
      " ['RescheduleCounter' 'int(11)' 'NO' '' '0' '']\n",
      " ['VerifiedFlag' \"enum('True','False')\" 'NO' '' 'False' '']\n",
      " ['DeletedFlag' \"enum('True','False')\" 'NO' '' 'False' '']\n",
      " ['KilledFlag' \"enum('True','False')\" 'NO' '' 'False' '']\n",
      " ['FailedFlag' \"enum('True','False')\" 'NO' '' 'False' '']\n",
      " ['ISandboxReadyFlag' \"enum('True','False')\" 'NO' '' 'False' '']\n",
      " ['OSandboxReadyFlag' \"enum('True','False')\" 'NO' '' 'False' '']\n",
      " ['RetrievedFlag' \"enum('True','False')\" 'NO' '' 'False' '']\n",
      " ['AccountedFlag' \"enum('True','False','Failed')\" 'NO' '' 'False' '']]\n",
      "33\n",
      "----------------------------------------------------------------------------------------------------\n",
      "OptimizerParameters\n"
     ]
    },
    {
     "data": {
      "text/html": [
       "<div>\n",
       "<style scoped>\n",
       "    .dataframe tbody tr th:only-of-type {\n",
       "        vertical-align: middle;\n",
       "    }\n",
       "\n",
       "    .dataframe tbody tr th {\n",
       "        vertical-align: top;\n",
       "    }\n",
       "\n",
       "    .dataframe thead th {\n",
       "        text-align: right;\n",
       "    }\n",
       "</style>\n",
       "<table border=\"1\" class=\"dataframe\">\n",
       "  <thead>\n",
       "    <tr style=\"text-align: right;\">\n",
       "      <th></th>\n",
       "      <th>Field</th>\n",
       "      <th>Type</th>\n",
       "      <th>Null</th>\n",
       "      <th>Key</th>\n",
       "      <th>Default</th>\n",
       "      <th>Extra</th>\n",
       "    </tr>\n",
       "  </thead>\n",
       "  <tbody>\n",
       "    <tr>\n",
       "      <th>0</th>\n",
       "      <td>JobID</td>\n",
       "      <td>int(11) unsigned</td>\n",
       "      <td>NO</td>\n",
       "      <td>PRI</td>\n",
       "      <td>None</td>\n",
       "      <td></td>\n",
       "    </tr>\n",
       "    <tr>\n",
       "      <th>1</th>\n",
       "      <td>Name</td>\n",
       "      <td>varchar(100)</td>\n",
       "      <td>NO</td>\n",
       "      <td>PRI</td>\n",
       "      <td>None</td>\n",
       "      <td></td>\n",
       "    </tr>\n",
       "    <tr>\n",
       "      <th>2</th>\n",
       "      <td>Value</td>\n",
       "      <td>mediumblob</td>\n",
       "      <td>NO</td>\n",
       "      <td></td>\n",
       "      <td>None</td>\n",
       "      <td></td>\n",
       "    </tr>\n",
       "  </tbody>\n",
       "</table>\n",
       "</div>"
      ],
      "text/plain": [
       "   Field              Type Null  Key Default Extra\n",
       "0  JobID  int(11) unsigned   NO  PRI    None      \n",
       "1   Name      varchar(100)   NO  PRI    None      \n",
       "2  Value        mediumblob   NO         None      "
      ]
     },
     "metadata": {},
     "output_type": "display_data"
    },
    {
     "name": "stdout",
     "output_type": "stream",
     "text": [
      "[['JobID' 'int(11) unsigned' 'NO' 'PRI' None '']\n",
      " ['Name' 'varchar(100)' 'NO' 'PRI' None '']\n",
      " ['Value' 'mediumblob' 'NO' '' None '']]\n",
      "3\n",
      "----------------------------------------------------------------------------------------------------\n",
      "SiteMask\n"
     ]
    },
    {
     "data": {
      "text/html": [
       "<div>\n",
       "<style scoped>\n",
       "    .dataframe tbody tr th:only-of-type {\n",
       "        vertical-align: middle;\n",
       "    }\n",
       "\n",
       "    .dataframe tbody tr th {\n",
       "        vertical-align: top;\n",
       "    }\n",
       "\n",
       "    .dataframe thead th {\n",
       "        text-align: right;\n",
       "    }\n",
       "</style>\n",
       "<table border=\"1\" class=\"dataframe\">\n",
       "  <thead>\n",
       "    <tr style=\"text-align: right;\">\n",
       "      <th></th>\n",
       "      <th>Field</th>\n",
       "      <th>Type</th>\n",
       "      <th>Null</th>\n",
       "      <th>Key</th>\n",
       "      <th>Default</th>\n",
       "      <th>Extra</th>\n",
       "    </tr>\n",
       "  </thead>\n",
       "  <tbody>\n",
       "    <tr>\n",
       "      <th>0</th>\n",
       "      <td>Site</td>\n",
       "      <td>varchar(64)</td>\n",
       "      <td>NO</td>\n",
       "      <td>PRI</td>\n",
       "      <td>None</td>\n",
       "      <td></td>\n",
       "    </tr>\n",
       "    <tr>\n",
       "      <th>1</th>\n",
       "      <td>Status</td>\n",
       "      <td>varchar(64)</td>\n",
       "      <td>NO</td>\n",
       "      <td></td>\n",
       "      <td>None</td>\n",
       "      <td></td>\n",
       "    </tr>\n",
       "    <tr>\n",
       "      <th>2</th>\n",
       "      <td>LastUpdateTime</td>\n",
       "      <td>datetime</td>\n",
       "      <td>NO</td>\n",
       "      <td></td>\n",
       "      <td>None</td>\n",
       "      <td></td>\n",
       "    </tr>\n",
       "    <tr>\n",
       "      <th>3</th>\n",
       "      <td>Author</td>\n",
       "      <td>varchar(255)</td>\n",
       "      <td>NO</td>\n",
       "      <td></td>\n",
       "      <td>None</td>\n",
       "      <td></td>\n",
       "    </tr>\n",
       "    <tr>\n",
       "      <th>4</th>\n",
       "      <td>Comment</td>\n",
       "      <td>blob</td>\n",
       "      <td>NO</td>\n",
       "      <td></td>\n",
       "      <td>None</td>\n",
       "      <td></td>\n",
       "    </tr>\n",
       "  </tbody>\n",
       "</table>\n",
       "</div>"
      ],
      "text/plain": [
       "            Field          Type Null  Key Default Extra\n",
       "0            Site   varchar(64)   NO  PRI    None      \n",
       "1          Status   varchar(64)   NO         None      \n",
       "2  LastUpdateTime      datetime   NO         None      \n",
       "3          Author  varchar(255)   NO         None      \n",
       "4         Comment          blob   NO         None      "
      ]
     },
     "metadata": {},
     "output_type": "display_data"
    },
    {
     "name": "stdout",
     "output_type": "stream",
     "text": [
      "[['Site' 'varchar(64)' 'NO' 'PRI' None '']\n",
      " ['Status' 'varchar(64)' 'NO' '' None '']\n",
      " ['LastUpdateTime' 'datetime' 'NO' '' None '']\n",
      " ['Author' 'varchar(255)' 'NO' '' None '']\n",
      " ['Comment' 'blob' 'NO' '' None '']]\n",
      "5\n",
      "----------------------------------------------------------------------------------------------------\n",
      "SiteMaskLogging\n"
     ]
    },
    {
     "data": {
      "text/html": [
       "<div>\n",
       "<style scoped>\n",
       "    .dataframe tbody tr th:only-of-type {\n",
       "        vertical-align: middle;\n",
       "    }\n",
       "\n",
       "    .dataframe tbody tr th {\n",
       "        vertical-align: top;\n",
       "    }\n",
       "\n",
       "    .dataframe thead th {\n",
       "        text-align: right;\n",
       "    }\n",
       "</style>\n",
       "<table border=\"1\" class=\"dataframe\">\n",
       "  <thead>\n",
       "    <tr style=\"text-align: right;\">\n",
       "      <th></th>\n",
       "      <th>Field</th>\n",
       "      <th>Type</th>\n",
       "      <th>Null</th>\n",
       "      <th>Key</th>\n",
       "      <th>Default</th>\n",
       "      <th>Extra</th>\n",
       "    </tr>\n",
       "  </thead>\n",
       "  <tbody>\n",
       "    <tr>\n",
       "      <th>0</th>\n",
       "      <td>Site</td>\n",
       "      <td>varchar(64)</td>\n",
       "      <td>NO</td>\n",
       "      <td>PRI</td>\n",
       "      <td>None</td>\n",
       "      <td></td>\n",
       "    </tr>\n",
       "    <tr>\n",
       "      <th>1</th>\n",
       "      <td>Status</td>\n",
       "      <td>varchar(64)</td>\n",
       "      <td>NO</td>\n",
       "      <td></td>\n",
       "      <td>None</td>\n",
       "      <td></td>\n",
       "    </tr>\n",
       "    <tr>\n",
       "      <th>2</th>\n",
       "      <td>UpdateTime</td>\n",
       "      <td>datetime</td>\n",
       "      <td>NO</td>\n",
       "      <td>PRI</td>\n",
       "      <td>None</td>\n",
       "      <td></td>\n",
       "    </tr>\n",
       "    <tr>\n",
       "      <th>3</th>\n",
       "      <td>Author</td>\n",
       "      <td>varchar(255)</td>\n",
       "      <td>NO</td>\n",
       "      <td></td>\n",
       "      <td>None</td>\n",
       "      <td></td>\n",
       "    </tr>\n",
       "    <tr>\n",
       "      <th>4</th>\n",
       "      <td>Comment</td>\n",
       "      <td>blob</td>\n",
       "      <td>NO</td>\n",
       "      <td></td>\n",
       "      <td>None</td>\n",
       "      <td></td>\n",
       "    </tr>\n",
       "  </tbody>\n",
       "</table>\n",
       "</div>"
      ],
      "text/plain": [
       "        Field          Type Null  Key Default Extra\n",
       "0        Site   varchar(64)   NO  PRI    None      \n",
       "1      Status   varchar(64)   NO         None      \n",
       "2  UpdateTime      datetime   NO  PRI    None      \n",
       "3      Author  varchar(255)   NO         None      \n",
       "4     Comment          blob   NO         None      "
      ]
     },
     "metadata": {},
     "output_type": "display_data"
    },
    {
     "name": "stdout",
     "output_type": "stream",
     "text": [
      "[['Site' 'varchar(64)' 'NO' 'PRI' None '']\n",
      " ['Status' 'varchar(64)' 'NO' '' None '']\n",
      " ['UpdateTime' 'datetime' 'NO' 'PRI' None '']\n",
      " ['Author' 'varchar(255)' 'NO' '' None '']\n",
      " ['Comment' 'blob' 'NO' '' None '']]\n",
      "5\n",
      "----------------------------------------------------------------------------------------------------\n"
     ]
    }
   ],
   "source": [
    "for tname in tables:\n",
    "    print(tname)\n",
    "    df = pd.read_sql(\"SHOW COLUMNS FROM \"+tname, conn)\n",
    "    display(df)\n",
    "    x = df.as_matrix()\n",
    "    print(x)\n",
    "    print(len(x))\n",
    "    print(100*'-')"
   ]
  },
  {
   "cell_type": "code",
   "execution_count": null,
   "metadata": {},
   "outputs": [],
   "source": [
    "%%time\n",
    "#  Total number of rows in HeartBeatLoggingInfo\n",
    "\n",
    "df = pd.read_sql(\"  SELECT Total_Rows = SUM(st.row_count) \\\n",
    "                    FROM sys.dm_db_partition_stats st \\\n",
    "                    WHERE object_name(object_id) = 'HeartBeatLoggingInfo' AND (index_id < 2)\", conn)"
   ]
  },
  {
   "cell_type": "code",
   "execution_count": null,
   "metadata": {},
   "outputs": [],
   "source": [
    "%%time\n",
    "# Total number of rows in HeartBeatLoggingInfo (ans - 906,320,307)\n",
    "\n",
    "df = pd.read_sql(\"SELECT COUNT(*) FROM HeartBeatLoggingInfo\", conn)\n",
    "display(df)"
   ]
  },
  {
   "cell_type": "code",
   "execution_count": null,
   "metadata": {},
   "outputs": [],
   "source": [
    "%%time\n",
    "# Total number of unique JobIDs in HeartBeatLoggingInfo\n",
    "# number of distinct JobIDs (ans - 10,137,037)\n",
    "\n",
    "df = pd.read_sql(\"SELECT COUNT(DISTINCT JobID) FROM HeartBeatLoggingInfo LIMIT 10\", conn)\n",
    "display(df)"
   ]
  },
  {
   "cell_type": "code",
   "execution_count": null,
   "metadata": {},
   "outputs": [],
   "source": [
    "%%time\n",
    "# Total number of unique timestamps in HeartBeatLoggingInfo\n",
    "# number of distinct hearbeattime entries (ans - 1,616,7003)\n",
    "\n",
    "df_stamps = pd.read_sql(\"SELECT COUNT(DISTINCT HeartBeatTime) FROM HeartBeatLoggingInfo LIMIT 10\", conn)\n",
    "display(df_stamps)"
   ]
  },
  {
   "cell_type": "code",
   "execution_count": null,
   "metadata": {},
   "outputs": [],
   "source": [
    "# Average Number of timestamps per jobID\n",
    "\n",
    "16167003 / 10137037"
   ]
  },
  {
   "cell_type": "code",
   "execution_count": null,
   "metadata": {},
   "outputs": [],
   "source": [
    "# Average number of key-value pairs per timestamp\n",
    "\n",
    "906320307 / 16167003"
   ]
  },
  {
   "cell_type": "code",
   "execution_count": null,
   "metadata": {},
   "outputs": [],
   "source": [
    "query      = \"SELECT * FROM HeartBeatLoggingInfo LIMIT 10\"\n",
    "runq       = pd.read_sql_query(query,con=conn)\n",
    "runq.Value = pd.to_numeric(runq['Value'], errors='raise')\n",
    "display(runq)"
   ]
  },
  {
   "cell_type": "code",
   "execution_count": null,
   "metadata": {},
   "outputs": [],
   "source": [
    "display(runq)"
   ]
  },
  {
   "cell_type": "code",
   "execution_count": null,
   "metadata": {},
   "outputs": [],
   "source": [
    "query      = \"SELECT JobID FROM Jobs LIMIT 4\"\n",
    "runq       = pd.read_sql_query(query,con=conn)\n",
    "display(runq)"
   ]
  },
  {
   "cell_type": "code",
   "execution_count": null,
   "metadata": {},
   "outputs": [],
   "source": [
    "%%time\n",
    "# Attempting to load full table into Pandas Dataframe (1 million rows take 22 sec wall clock time)\n",
    "# 10 millions rows take 3min 51s wall clock time\n",
    "\n",
    "chunk_size   = 10 * 1000000\n",
    "query        = \"SELECT * FROM HeartBeatLoggingInfo LIMIT \" + str(chunk_size)\n",
    "dataHBLI     = pd.read_sql_query(query,con=conn)"
   ]
  },
  {
   "cell_type": "code",
   "execution_count": null,
   "metadata": {},
   "outputs": [],
   "source": [
    "dataHBLI.shape"
   ]
  },
  {
   "cell_type": "code",
   "execution_count": null,
   "metadata": {},
   "outputs": [],
   "source": [
    "dataHBLI.head()"
   ]
  },
  {
   "cell_type": "code",
   "execution_count": null,
   "metadata": {},
   "outputs": [],
   "source": [
    "######################################\n",
    "dataHBLI.to_pickle('dataHBLI.pickle')\n",
    "######################################"
   ]
  },
  {
   "cell_type": "code",
   "execution_count": null,
   "metadata": {},
   "outputs": [],
   "source": [
    "listofjobids = dataHB['JobID'].tolist()"
   ]
  },
  {
   "cell_type": "code",
   "execution_count": null,
   "metadata": {},
   "outputs": [],
   "source": [
    "len(listofjobids)"
   ]
  },
  {
   "cell_type": "code",
   "execution_count": null,
   "metadata": {},
   "outputs": [],
   "source": [
    "listofjobids = list(set(listofjobids))\n",
    "len(listofjobids)"
   ]
  },
  {
   "cell_type": "code",
   "execution_count": null,
   "metadata": {},
   "outputs": [],
   "source": [
    "%%time\n",
    "# # Keep only the rows whose jobID is in HeartBeatLogging table\n",
    "\n",
    "query       = 'SELECT * FROM Jobs WHERE JobID IN (' + ','.join((str(x) for x in listofjobids)) + ')'\n",
    "dataJobs    = pd.read_sql_query(query,con=conn)"
   ]
  },
  {
   "cell_type": "code",
   "execution_count": null,
   "metadata": {},
   "outputs": [],
   "source": []
  },
  {
   "cell_type": "markdown",
   "metadata": {},
   "source": [
    "# Get Failed Jobs"
   ]
  },
  {
   "cell_type": "code",
   "execution_count": null,
   "metadata": {},
   "outputs": [],
   "source": [
    "dataJobs.head()"
   ]
  },
  {
   "cell_type": "code",
   "execution_count": 173,
   "metadata": {},
   "outputs": [
    {
     "name": "stdout",
     "output_type": "stream",
     "text": [
      "CPU times: user 14.1 s, sys: 103 ms, total: 14.2 s\n",
      "Wall time: 14.2 s\n"
     ]
    }
   ],
   "source": [
    "%%time\n",
    "\n",
    "query       = 'SELECT * FROM Jobs WHERE Status = \\'Failed\\' LIMIT 133000'\n",
    "failedJobs    = pd.read_sql_query(query,con=conn)"
   ]
  },
  {
   "cell_type": "code",
   "execution_count": 174,
   "metadata": {},
   "outputs": [
    {
     "data": {
      "text/plain": [
       "(133000, 33)"
      ]
     },
     "execution_count": 174,
     "metadata": {},
     "output_type": "execute_result"
    }
   ],
   "source": [
    "failedJobs.shape"
   ]
  },
  {
   "cell_type": "code",
   "execution_count": 175,
   "metadata": {},
   "outputs": [
    {
     "data": {
      "text/plain": [
       "133000"
      ]
     },
     "execution_count": 175,
     "metadata": {},
     "output_type": "execute_result"
    }
   ],
   "source": [
    "listofjobids = failedJobs['JobID'].tolist()\n",
    "listofjobids = list(set(listofjobids))\n",
    "len(listofjobids)"
   ]
  },
  {
   "cell_type": "code",
   "execution_count": 176,
   "metadata": {},
   "outputs": [
    {
     "name": "stdout",
     "output_type": "stream",
     "text": [
      "CPU times: user 1min 30s, sys: 2.66 s, total: 1min 32s\n",
      "Wall time: 1min 40s\n"
     ]
    }
   ],
   "source": [
    "%%time\n",
    "# # Keep only the rows whose jobID is in HeartBeatLogging table\n",
    "\n",
    "query       = 'SELECT * FROM HeartBeatLoggingInfo WHERE JobID IN (' + ','.join((str(x) for x in listofjobids)) + ')'\n",
    "dataHBLI_failed    = pd.read_sql_query(query,con=conn)"
   ]
  },
  {
   "cell_type": "code",
   "execution_count": 177,
   "metadata": {},
   "outputs": [
    {
     "data": {
      "text/plain": [
       "100722"
      ]
     },
     "execution_count": 177,
     "metadata": {},
     "output_type": "execute_result"
    }
   ],
   "source": [
    "dataHBLI_failed.JobID.nunique()"
   ]
  },
  {
   "cell_type": "markdown",
   "metadata": {},
   "source": [
    "# Get Successful Jobs"
   ]
  },
  {
   "cell_type": "code",
   "execution_count": null,
   "metadata": {},
   "outputs": [],
   "source": [
    "# Find equal number of Successful job"
   ]
  },
  {
   "cell_type": "code",
   "execution_count": 10,
   "metadata": {},
   "outputs": [
    {
     "name": "stdout",
     "output_type": "stream",
     "text": [
      "CPU times: user 11.7 s, sys: 388 ms, total: 12.1 s\n",
      "Wall time: 12.4 s\n"
     ]
    }
   ],
   "source": [
    "%%time\n",
    "\n",
    "query       = 'SELECT * FROM Jobs WHERE Status = \\'Done\\' LIMIT 100000'\n",
    "successJobs    = pd.read_sql_query(query,con=conn)"
   ]
  },
  {
   "cell_type": "code",
   "execution_count": 11,
   "metadata": {},
   "outputs": [
    {
     "data": {
      "text/plain": [
       "(100000, 33)"
      ]
     },
     "execution_count": 11,
     "metadata": {},
     "output_type": "execute_result"
    }
   ],
   "source": [
    "successJobs.shape"
   ]
  },
  {
   "cell_type": "code",
   "execution_count": 19,
   "metadata": {},
   "outputs": [
    {
     "data": {
      "text/plain": [
       "100000"
      ]
     },
     "execution_count": 19,
     "metadata": {},
     "output_type": "execute_result"
    }
   ],
   "source": [
    "listofjobids = successJobs['JobID'].tolist()\n",
    "listofjobids = list(set(listofjobids))\n",
    "len(listofjobids)"
   ]
  },
  {
   "cell_type": "code",
   "execution_count": 20,
   "metadata": {},
   "outputs": [
    {
     "name": "stdout",
     "output_type": "stream",
     "text": [
      "CPU times: user 1min 50s, sys: 4.4 s, total: 1min 54s\n",
      "Wall time: 1min 55s\n"
     ]
    }
   ],
   "source": [
    "%%time\n",
    "# # Keep only the rows whose jobID is in HeartBeatLogging table\n",
    "\n",
    "query   = 'SELECT * FROM HeartBeatLoggingInfo WHERE JobID IN (' + ','.join((str(x) for x in listofjobids)) + ')'\n",
    "dataHBLI_success = pd.read_sql_query(query,con=conn)"
   ]
  },
  {
   "cell_type": "code",
   "execution_count": 21,
   "metadata": {},
   "outputs": [
    {
     "data": {
      "text/plain": [
       "(4470592, 4)"
      ]
     },
     "execution_count": 21,
     "metadata": {},
     "output_type": "execute_result"
    }
   ],
   "source": [
    "dataHBLI_success.shape"
   ]
  },
  {
   "cell_type": "code",
   "execution_count": 165,
   "metadata": {},
   "outputs": [
    {
     "data": {
      "text/plain": [
       "100000"
      ]
     },
     "execution_count": 165,
     "metadata": {},
     "output_type": "execute_result"
    }
   ],
   "source": [
    "dataHBLI_success.JobID.nunique()"
   ]
  },
  {
   "cell_type": "markdown",
   "metadata": {},
   "source": [
    "### Combine HBLI tables pieces = (failed, success)"
   ]
  },
  {
   "cell_type": "code",
   "execution_count": 178,
   "metadata": {},
   "outputs": [
    {
     "data": {
      "text/plain": [
       "((3689303, 4), (4470592, 4))"
      ]
     },
     "execution_count": 178,
     "metadata": {},
     "output_type": "execute_result"
    }
   ],
   "source": [
    "dataHBLI_failed.shape, dataHBLI_success.shape"
   ]
  },
  {
   "cell_type": "code",
   "execution_count": 179,
   "metadata": {},
   "outputs": [],
   "source": [
    "pieces = (dataHBLI_failed, dataHBLI_success)"
   ]
  },
  {
   "cell_type": "code",
   "execution_count": 180,
   "metadata": {},
   "outputs": [],
   "source": [
    "allHBLI = pd.concat(pieces, ignore_index = True)"
   ]
  },
  {
   "cell_type": "markdown",
   "metadata": {},
   "source": [
    "### Combine Jobs tables pieces = (failed, success)"
   ]
  },
  {
   "cell_type": "code",
   "execution_count": 181,
   "metadata": {},
   "outputs": [
    {
     "data": {
      "text/plain": [
       "((133000, 33), (100000, 33))"
      ]
     },
     "execution_count": 181,
     "metadata": {},
     "output_type": "execute_result"
    }
   ],
   "source": [
    "failedJobs.shape, successJobs.shape"
   ]
  },
  {
   "cell_type": "code",
   "execution_count": 182,
   "metadata": {},
   "outputs": [],
   "source": [
    "pieces = (failedJobs, successJobs)"
   ]
  },
  {
   "cell_type": "code",
   "execution_count": 206,
   "metadata": {},
   "outputs": [
    {
     "data": {
      "text/html": [
       "<div>\n",
       "<style scoped>\n",
       "    .dataframe tbody tr th:only-of-type {\n",
       "        vertical-align: middle;\n",
       "    }\n",
       "\n",
       "    .dataframe tbody tr th {\n",
       "        vertical-align: top;\n",
       "    }\n",
       "\n",
       "    .dataframe thead th {\n",
       "        text-align: right;\n",
       "    }\n",
       "</style>\n",
       "<table border=\"1\" class=\"dataframe\">\n",
       "  <thead>\n",
       "    <tr style=\"text-align: right;\">\n",
       "      <th></th>\n",
       "      <th>JobID</th>\n",
       "      <th>JobType</th>\n",
       "      <th>DIRACSetup</th>\n",
       "      <th>JobGroup</th>\n",
       "      <th>JobSplitType</th>\n",
       "      <th>MasterJobID</th>\n",
       "      <th>Site</th>\n",
       "      <th>JobName</th>\n",
       "      <th>Owner</th>\n",
       "      <th>OwnerDN</th>\n",
       "      <th>...</th>\n",
       "      <th>SystemPriority</th>\n",
       "      <th>RescheduleCounter</th>\n",
       "      <th>VerifiedFlag</th>\n",
       "      <th>DeletedFlag</th>\n",
       "      <th>KilledFlag</th>\n",
       "      <th>FailedFlag</th>\n",
       "      <th>ISandboxReadyFlag</th>\n",
       "      <th>OSandboxReadyFlag</th>\n",
       "      <th>RetrievedFlag</th>\n",
       "      <th>AccountedFlag</th>\n",
       "    </tr>\n",
       "  </thead>\n",
       "  <tbody>\n",
       "    <tr>\n",
       "      <th>0</th>\n",
       "      <td>23140766</td>\n",
       "      <td>MCProductionBGx0</td>\n",
       "      <td>Belle-KEK</td>\n",
       "      <td>00000757</td>\n",
       "      <td>Single</td>\n",
       "      <td>0</td>\n",
       "      <td>DIRAC.UAS.mx</td>\n",
       "      <td>00000757_00000283</td>\n",
       "      <td>dirac</td>\n",
       "      <td>/C=DE/O=GermanGrid/OU=KIT/CN=Robot - grid clie...</td>\n",
       "      <td>...</td>\n",
       "      <td>0</td>\n",
       "      <td>0</td>\n",
       "      <td>True</td>\n",
       "      <td>False</td>\n",
       "      <td>False</td>\n",
       "      <td>False</td>\n",
       "      <td>False</td>\n",
       "      <td>False</td>\n",
       "      <td>False</td>\n",
       "      <td>False</td>\n",
       "    </tr>\n",
       "    <tr>\n",
       "      <th>1</th>\n",
       "      <td>23141083</td>\n",
       "      <td>MCProductionBGx0</td>\n",
       "      <td>Belle-KEK</td>\n",
       "      <td>00000758</td>\n",
       "      <td>Single</td>\n",
       "      <td>0</td>\n",
       "      <td>DIRAC.CINVESTAV.mx</td>\n",
       "      <td>00000758_00000034</td>\n",
       "      <td>dirac</td>\n",
       "      <td>/C=DE/O=GermanGrid/OU=KIT/CN=Robot - grid clie...</td>\n",
       "      <td>...</td>\n",
       "      <td>0</td>\n",
       "      <td>0</td>\n",
       "      <td>True</td>\n",
       "      <td>False</td>\n",
       "      <td>False</td>\n",
       "      <td>False</td>\n",
       "      <td>False</td>\n",
       "      <td>False</td>\n",
       "      <td>False</td>\n",
       "      <td>False</td>\n",
       "    </tr>\n",
       "    <tr>\n",
       "      <th>2</th>\n",
       "      <td>23205537</td>\n",
       "      <td>MCProductionBGx0</td>\n",
       "      <td>Belle-KEK</td>\n",
       "      <td>00000809</td>\n",
       "      <td>Single</td>\n",
       "      <td>0</td>\n",
       "      <td>LCG.Pisa.it</td>\n",
       "      <td>00000809_00000001</td>\n",
       "      <td>dirac</td>\n",
       "      <td>/C=DE/O=GermanGrid/OU=KIT/CN=Robot - grid clie...</td>\n",
       "      <td>...</td>\n",
       "      <td>0</td>\n",
       "      <td>0</td>\n",
       "      <td>True</td>\n",
       "      <td>False</td>\n",
       "      <td>False</td>\n",
       "      <td>False</td>\n",
       "      <td>False</td>\n",
       "      <td>False</td>\n",
       "      <td>False</td>\n",
       "      <td>False</td>\n",
       "    </tr>\n",
       "    <tr>\n",
       "      <th>3</th>\n",
       "      <td>23205539</td>\n",
       "      <td>MCProductionBGx0</td>\n",
       "      <td>Belle-KEK</td>\n",
       "      <td>00000809</td>\n",
       "      <td>Single</td>\n",
       "      <td>0</td>\n",
       "      <td>LCG.KEK2.jp</td>\n",
       "      <td>00000809_00000002</td>\n",
       "      <td>dirac</td>\n",
       "      <td>/C=DE/O=GermanGrid/OU=KIT/CN=Robot - grid clie...</td>\n",
       "      <td>...</td>\n",
       "      <td>0</td>\n",
       "      <td>0</td>\n",
       "      <td>True</td>\n",
       "      <td>False</td>\n",
       "      <td>False</td>\n",
       "      <td>False</td>\n",
       "      <td>False</td>\n",
       "      <td>False</td>\n",
       "      <td>False</td>\n",
       "      <td>False</td>\n",
       "    </tr>\n",
       "    <tr>\n",
       "      <th>4</th>\n",
       "      <td>23205643</td>\n",
       "      <td>MCProductionBGx0</td>\n",
       "      <td>Belle-KEK</td>\n",
       "      <td>00000809</td>\n",
       "      <td>Single</td>\n",
       "      <td>0</td>\n",
       "      <td>LCG.Pisa.it</td>\n",
       "      <td>00000809_00000003</td>\n",
       "      <td>dirac</td>\n",
       "      <td>/C=DE/O=GermanGrid/OU=KIT/CN=Robot - grid clie...</td>\n",
       "      <td>...</td>\n",
       "      <td>0</td>\n",
       "      <td>0</td>\n",
       "      <td>True</td>\n",
       "      <td>False</td>\n",
       "      <td>False</td>\n",
       "      <td>False</td>\n",
       "      <td>False</td>\n",
       "      <td>False</td>\n",
       "      <td>False</td>\n",
       "      <td>False</td>\n",
       "    </tr>\n",
       "  </tbody>\n",
       "</table>\n",
       "<p>5 rows × 33 columns</p>\n",
       "</div>"
      ],
      "text/plain": [
       "      JobID           JobType DIRACSetup  JobGroup JobSplitType  MasterJobID  \\\n",
       "0  23140766  MCProductionBGx0  Belle-KEK  00000757       Single            0   \n",
       "1  23141083  MCProductionBGx0  Belle-KEK  00000758       Single            0   \n",
       "2  23205537  MCProductionBGx0  Belle-KEK  00000809       Single            0   \n",
       "3  23205539  MCProductionBGx0  Belle-KEK  00000809       Single            0   \n",
       "4  23205643  MCProductionBGx0  Belle-KEK  00000809       Single            0   \n",
       "\n",
       "                 Site            JobName  Owner  \\\n",
       "0        DIRAC.UAS.mx  00000757_00000283  dirac   \n",
       "1  DIRAC.CINVESTAV.mx  00000758_00000034  dirac   \n",
       "2         LCG.Pisa.it  00000809_00000001  dirac   \n",
       "3         LCG.KEK2.jp  00000809_00000002  dirac   \n",
       "4         LCG.Pisa.it  00000809_00000003  dirac   \n",
       "\n",
       "                                             OwnerDN      ...       \\\n",
       "0  /C=DE/O=GermanGrid/OU=KIT/CN=Robot - grid clie...      ...        \n",
       "1  /C=DE/O=GermanGrid/OU=KIT/CN=Robot - grid clie...      ...        \n",
       "2  /C=DE/O=GermanGrid/OU=KIT/CN=Robot - grid clie...      ...        \n",
       "3  /C=DE/O=GermanGrid/OU=KIT/CN=Robot - grid clie...      ...        \n",
       "4  /C=DE/O=GermanGrid/OU=KIT/CN=Robot - grid clie...      ...        \n",
       "\n",
       "  SystemPriority RescheduleCounter VerifiedFlag DeletedFlag KilledFlag  \\\n",
       "0              0                 0         True       False      False   \n",
       "1              0                 0         True       False      False   \n",
       "2              0                 0         True       False      False   \n",
       "3              0                 0         True       False      False   \n",
       "4              0                 0         True       False      False   \n",
       "\n",
       "  FailedFlag ISandboxReadyFlag OSandboxReadyFlag RetrievedFlag AccountedFlag  \n",
       "0      False             False             False         False         False  \n",
       "1      False             False             False         False         False  \n",
       "2      False             False             False         False         False  \n",
       "3      False             False             False         False         False  \n",
       "4      False             False             False         False         False  \n",
       "\n",
       "[5 rows x 33 columns]"
      ]
     },
     "execution_count": 206,
     "metadata": {},
     "output_type": "execute_result"
    }
   ],
   "source": [
    "allJobs = pd.concat(pieces, ignore_index = True)\n",
    "allJobs.head()"
   ]
  },
  {
   "cell_type": "markdown",
   "metadata": {},
   "source": [
    "# Process HBLI table: allHBLI"
   ]
  },
  {
   "cell_type": "code",
   "execution_count": 184,
   "metadata": {},
   "outputs": [
    {
     "data": {
      "text/html": [
       "<div>\n",
       "<style scoped>\n",
       "    .dataframe tbody tr th:only-of-type {\n",
       "        vertical-align: middle;\n",
       "    }\n",
       "\n",
       "    .dataframe tbody tr th {\n",
       "        vertical-align: top;\n",
       "    }\n",
       "\n",
       "    .dataframe thead th {\n",
       "        text-align: right;\n",
       "    }\n",
       "</style>\n",
       "<table border=\"1\" class=\"dataframe\">\n",
       "  <thead>\n",
       "    <tr style=\"text-align: right;\">\n",
       "      <th></th>\n",
       "      <th>JobID</th>\n",
       "      <th>Name</th>\n",
       "      <th>Value</th>\n",
       "      <th>HeartBeatTime</th>\n",
       "    </tr>\n",
       "  </thead>\n",
       "  <tbody>\n",
       "    <tr>\n",
       "      <th>0</th>\n",
       "      <td>23140766</td>\n",
       "      <td>AvailableDiskSpace</td>\n",
       "      <td>b'753392.0'</td>\n",
       "      <td>2015-08-07 13:13:48</td>\n",
       "    </tr>\n",
       "    <tr>\n",
       "      <th>1</th>\n",
       "      <td>23140766</td>\n",
       "      <td>CPUConsumed</td>\n",
       "      <td>b'10.0'</td>\n",
       "      <td>2015-08-07 13:13:48</td>\n",
       "    </tr>\n",
       "    <tr>\n",
       "      <th>2</th>\n",
       "      <td>23140766</td>\n",
       "      <td>LoadAverage</td>\n",
       "      <td>b'22.02'</td>\n",
       "      <td>2015-08-07 13:13:48</td>\n",
       "    </tr>\n",
       "    <tr>\n",
       "      <th>3</th>\n",
       "      <td>23140766</td>\n",
       "      <td>MemoryUsed</td>\n",
       "      <td>b'36101188.0'</td>\n",
       "      <td>2015-08-07 13:13:48</td>\n",
       "    </tr>\n",
       "    <tr>\n",
       "      <th>4</th>\n",
       "      <td>23140766</td>\n",
       "      <td>RSS</td>\n",
       "      <td>b'110596.0'</td>\n",
       "      <td>2015-08-07 13:13:48</td>\n",
       "    </tr>\n",
       "  </tbody>\n",
       "</table>\n",
       "</div>"
      ],
      "text/plain": [
       "      JobID                Name          Value       HeartBeatTime\n",
       "0  23140766  AvailableDiskSpace    b'753392.0' 2015-08-07 13:13:48\n",
       "1  23140766         CPUConsumed        b'10.0' 2015-08-07 13:13:48\n",
       "2  23140766         LoadAverage       b'22.02' 2015-08-07 13:13:48\n",
       "3  23140766          MemoryUsed  b'36101188.0' 2015-08-07 13:13:48\n",
       "4  23140766                 RSS    b'110596.0' 2015-08-07 13:13:48"
      ]
     },
     "execution_count": 184,
     "metadata": {},
     "output_type": "execute_result"
    }
   ],
   "source": [
    "allHBLI.head()"
   ]
  },
  {
   "cell_type": "code",
   "execution_count": 185,
   "metadata": {},
   "outputs": [
    {
     "data": {
      "text/plain": [
       "(8159895, 4)"
      ]
     },
     "execution_count": 185,
     "metadata": {},
     "output_type": "execute_result"
    }
   ],
   "source": [
    "allHBLI.shape"
   ]
  },
  {
   "cell_type": "code",
   "execution_count": 186,
   "metadata": {},
   "outputs": [],
   "source": [
    "allHBLI.Value = pd.to_numeric(allHBLI['Value'], errors='raise')"
   ]
  },
  {
   "cell_type": "code",
   "execution_count": 187,
   "metadata": {},
   "outputs": [],
   "source": [
    "allHBLI.HeartBeatTime = pd.to_datetime(allHBLI['HeartBeatTime'], errors='raise')"
   ]
  },
  {
   "cell_type": "code",
   "execution_count": 188,
   "metadata": {},
   "outputs": [
    {
     "data": {
      "text/plain": [
       "200722"
      ]
     },
     "execution_count": 188,
     "metadata": {},
     "output_type": "execute_result"
    }
   ],
   "source": [
    "# Number of unique jobIDs in 10M rows of dataHB (ans-185879)\n",
    "allHBLI.JobID.nunique()"
   ]
  },
  {
   "cell_type": "code",
   "execution_count": 189,
   "metadata": {},
   "outputs": [
    {
     "data": {
      "text/plain": [
       "537420"
      ]
     },
     "execution_count": 189,
     "metadata": {},
     "output_type": "execute_result"
    }
   ],
   "source": [
    "# Number of unique timestampes in 10M rows of dataHB (ans-242222)\n",
    "allHBLI.HeartBeatTime.nunique()"
   ]
  },
  {
   "cell_type": "code",
   "execution_count": 190,
   "metadata": {},
   "outputs": [
    {
     "data": {
      "text/html": [
       "<div>\n",
       "<style scoped>\n",
       "    .dataframe tbody tr th:only-of-type {\n",
       "        vertical-align: middle;\n",
       "    }\n",
       "\n",
       "    .dataframe tbody tr th {\n",
       "        vertical-align: top;\n",
       "    }\n",
       "\n",
       "    .dataframe thead th {\n",
       "        text-align: right;\n",
       "    }\n",
       "</style>\n",
       "<table border=\"1\" class=\"dataframe\">\n",
       "  <thead>\n",
       "    <tr style=\"text-align: right;\">\n",
       "      <th></th>\n",
       "      <th>JobID</th>\n",
       "      <th>Name</th>\n",
       "      <th>Value</th>\n",
       "      <th>HeartBeatTime</th>\n",
       "    </tr>\n",
       "  </thead>\n",
       "  <tbody>\n",
       "    <tr>\n",
       "      <th>8159890</th>\n",
       "      <td>32342282</td>\n",
       "      <td>LoadAverage</td>\n",
       "      <td>1.498000e+01</td>\n",
       "      <td>2015-12-25 23:53:53</td>\n",
       "    </tr>\n",
       "    <tr>\n",
       "      <th>8159891</th>\n",
       "      <td>32342282</td>\n",
       "      <td>MemoryUsed</td>\n",
       "      <td>3.974826e+07</td>\n",
       "      <td>2015-12-25 23:53:53</td>\n",
       "    </tr>\n",
       "    <tr>\n",
       "      <th>8159892</th>\n",
       "      <td>32342282</td>\n",
       "      <td>RSS</td>\n",
       "      <td>1.246080e+05</td>\n",
       "      <td>2015-12-25 23:53:53</td>\n",
       "    </tr>\n",
       "    <tr>\n",
       "      <th>8159893</th>\n",
       "      <td>32342282</td>\n",
       "      <td>Vsize</td>\n",
       "      <td>9.948320e+05</td>\n",
       "      <td>2015-12-25 23:53:53</td>\n",
       "    </tr>\n",
       "    <tr>\n",
       "      <th>8159894</th>\n",
       "      <td>32342282</td>\n",
       "      <td>WallClockTime</td>\n",
       "      <td>1.590385e+00</td>\n",
       "      <td>2015-12-25 23:53:53</td>\n",
       "    </tr>\n",
       "  </tbody>\n",
       "</table>\n",
       "</div>"
      ],
      "text/plain": [
       "            JobID           Name         Value       HeartBeatTime\n",
       "8159890  32342282    LoadAverage  1.498000e+01 2015-12-25 23:53:53\n",
       "8159891  32342282     MemoryUsed  3.974826e+07 2015-12-25 23:53:53\n",
       "8159892  32342282            RSS  1.246080e+05 2015-12-25 23:53:53\n",
       "8159893  32342282          Vsize  9.948320e+05 2015-12-25 23:53:53\n",
       "8159894  32342282  WallClockTime  1.590385e+00 2015-12-25 23:53:53"
      ]
     },
     "execution_count": 190,
     "metadata": {},
     "output_type": "execute_result"
    }
   ],
   "source": [
    "allHBLI.tail()"
   ]
  },
  {
   "cell_type": "code",
   "execution_count": 191,
   "metadata": {},
   "outputs": [
    {
     "name": "stdout",
     "output_type": "stream",
     "text": [
      "CPU times: user 7.28 s, sys: 1.13 s, total: 8.41 s\n",
      "Wall time: 8.41 s\n"
     ]
    }
   ],
   "source": [
    "%%time\n",
    "# 10 millions rows took 10 sec to pivot\n",
    "\n",
    "allHBLI_wide=allHBLI.pivot_table(index=['JobID','HeartBeatTime'], columns='Name', values='Value')"
   ]
  },
  {
   "cell_type": "code",
   "execution_count": 192,
   "metadata": {},
   "outputs": [
    {
     "data": {
      "text/plain": [
       "(1165735, 7)"
      ]
     },
     "execution_count": 192,
     "metadata": {},
     "output_type": "execute_result"
    }
   ],
   "source": [
    "# 1  million rows have shape (142863,  7) after pivot\n",
    "# 10 million rows have shape (1428574, 7) after pivot\n",
    "\n",
    "allHBLI_wide.shape"
   ]
  },
  {
   "cell_type": "code",
   "execution_count": 193,
   "metadata": {},
   "outputs": [
    {
     "data": {
      "text/plain": [
       "250"
      ]
     },
     "execution_count": 193,
     "metadata": {},
     "output_type": "execute_result"
    }
   ],
   "source": [
    "allHBLI_wide.isnull().values.ravel().sum()"
   ]
  },
  {
   "cell_type": "code",
   "execution_count": 194,
   "metadata": {},
   "outputs": [],
   "source": [
    "# Drop the last few rows\n",
    "allHBLI_wide = allHBLI_wide.dropna()"
   ]
  },
  {
   "cell_type": "code",
   "execution_count": 195,
   "metadata": {},
   "outputs": [
    {
     "data": {
      "text/plain": [
       "(1165551, 7)"
      ]
     },
     "execution_count": 195,
     "metadata": {},
     "output_type": "execute_result"
    }
   ],
   "source": [
    "allHBLI_wide.shape"
   ]
  },
  {
   "cell_type": "code",
   "execution_count": 196,
   "metadata": {},
   "outputs": [
    {
     "data": {
      "text/html": [
       "<div>\n",
       "<style scoped>\n",
       "    .dataframe tbody tr th:only-of-type {\n",
       "        vertical-align: middle;\n",
       "    }\n",
       "\n",
       "    .dataframe tbody tr th {\n",
       "        vertical-align: top;\n",
       "    }\n",
       "\n",
       "    .dataframe thead th {\n",
       "        text-align: right;\n",
       "    }\n",
       "</style>\n",
       "<table border=\"1\" class=\"dataframe\">\n",
       "  <thead>\n",
       "    <tr style=\"text-align: right;\">\n",
       "      <th></th>\n",
       "      <th>Name</th>\n",
       "      <th>AvailableDiskSpace</th>\n",
       "      <th>CPUConsumed</th>\n",
       "      <th>LoadAverage</th>\n",
       "      <th>MemoryUsed</th>\n",
       "      <th>RSS</th>\n",
       "      <th>Vsize</th>\n",
       "      <th>WallClockTime</th>\n",
       "    </tr>\n",
       "    <tr>\n",
       "      <th>JobID</th>\n",
       "      <th>HeartBeatTime</th>\n",
       "      <th></th>\n",
       "      <th></th>\n",
       "      <th></th>\n",
       "      <th></th>\n",
       "      <th></th>\n",
       "      <th></th>\n",
       "      <th></th>\n",
       "    </tr>\n",
       "  </thead>\n",
       "  <tbody>\n",
       "    <tr>\n",
       "      <th>23140766</th>\n",
       "      <th>2015-08-07 13:13:48</th>\n",
       "      <td>753392.0</td>\n",
       "      <td>10.0</td>\n",
       "      <td>22.02</td>\n",
       "      <td>36101188.0</td>\n",
       "      <td>110596.0</td>\n",
       "      <td>1459640.0</td>\n",
       "      <td>3.198161</td>\n",
       "    </tr>\n",
       "    <tr>\n",
       "      <th>23141083</th>\n",
       "      <th>2015-08-07 13:29:48</th>\n",
       "      <td>1544234.0</td>\n",
       "      <td>8.0</td>\n",
       "      <td>22.41</td>\n",
       "      <td>36037080.0</td>\n",
       "      <td>111956.0</td>\n",
       "      <td>1707264.0</td>\n",
       "      <td>2.890452</td>\n",
       "    </tr>\n",
       "    <tr>\n",
       "      <th rowspan=\"8\" valign=\"top\">23205537</th>\n",
       "      <th>2015-08-08 22:43:00</th>\n",
       "      <td>568076.0</td>\n",
       "      <td>9.0</td>\n",
       "      <td>21.97</td>\n",
       "      <td>43807076.0</td>\n",
       "      <td>51376.0</td>\n",
       "      <td>760076.0</td>\n",
       "      <td>3.637860</td>\n",
       "    </tr>\n",
       "    <tr>\n",
       "      <th>2015-08-08 23:13:00</th>\n",
       "      <td>568290.0</td>\n",
       "      <td>1738.0</td>\n",
       "      <td>23.00</td>\n",
       "      <td>44414148.0</td>\n",
       "      <td>731932.0</td>\n",
       "      <td>2714632.0</td>\n",
       "      <td>1803.281874</td>\n",
       "    </tr>\n",
       "    <tr>\n",
       "      <th>2015-08-08 23:42:58</th>\n",
       "      <td>568012.0</td>\n",
       "      <td>3526.0</td>\n",
       "      <td>24.05</td>\n",
       "      <td>45048940.0</td>\n",
       "      <td>764380.0</td>\n",
       "      <td>2872744.0</td>\n",
       "      <td>3602.163568</td>\n",
       "    </tr>\n",
       "    <tr>\n",
       "      <th>2015-08-09 00:12:58</th>\n",
       "      <td>567882.0</td>\n",
       "      <td>5311.0</td>\n",
       "      <td>22.98</td>\n",
       "      <td>45746004.0</td>\n",
       "      <td>785264.0</td>\n",
       "      <td>2884828.0</td>\n",
       "      <td>5402.028741</td>\n",
       "    </tr>\n",
       "    <tr>\n",
       "      <th>2015-08-09 00:42:58</th>\n",
       "      <td>567746.0</td>\n",
       "      <td>7088.0</td>\n",
       "      <td>23.25</td>\n",
       "      <td>46408120.0</td>\n",
       "      <td>806056.0</td>\n",
       "      <td>2902500.0</td>\n",
       "      <td>7201.870347</td>\n",
       "    </tr>\n",
       "    <tr>\n",
       "      <th>2015-08-09 01:13:08</th>\n",
       "      <td>567617.0</td>\n",
       "      <td>8885.0</td>\n",
       "      <td>23.66</td>\n",
       "      <td>46808432.0</td>\n",
       "      <td>830088.0</td>\n",
       "      <td>2926132.0</td>\n",
       "      <td>9011.577231</td>\n",
       "    </tr>\n",
       "    <tr>\n",
       "      <th>2015-08-09 01:43:07</th>\n",
       "      <td>567503.0</td>\n",
       "      <td>10669.0</td>\n",
       "      <td>24.41</td>\n",
       "      <td>47209380.0</td>\n",
       "      <td>830808.0</td>\n",
       "      <td>2926500.0</td>\n",
       "      <td>10811.185416</td>\n",
       "    </tr>\n",
       "    <tr>\n",
       "      <th>2015-08-09 02:13:06</th>\n",
       "      <td>567596.0</td>\n",
       "      <td>12449.0</td>\n",
       "      <td>22.14</td>\n",
       "      <td>46089464.0</td>\n",
       "      <td>836308.0</td>\n",
       "      <td>2945920.0</td>\n",
       "      <td>12610.498920</td>\n",
       "    </tr>\n",
       "  </tbody>\n",
       "</table>\n",
       "</div>"
      ],
      "text/plain": [
       "Name                          AvailableDiskSpace  CPUConsumed  LoadAverage  \\\n",
       "JobID    HeartBeatTime                                                       \n",
       "23140766 2015-08-07 13:13:48            753392.0         10.0        22.02   \n",
       "23141083 2015-08-07 13:29:48           1544234.0          8.0        22.41   \n",
       "23205537 2015-08-08 22:43:00            568076.0          9.0        21.97   \n",
       "         2015-08-08 23:13:00            568290.0       1738.0        23.00   \n",
       "         2015-08-08 23:42:58            568012.0       3526.0        24.05   \n",
       "         2015-08-09 00:12:58            567882.0       5311.0        22.98   \n",
       "         2015-08-09 00:42:58            567746.0       7088.0        23.25   \n",
       "         2015-08-09 01:13:08            567617.0       8885.0        23.66   \n",
       "         2015-08-09 01:43:07            567503.0      10669.0        24.41   \n",
       "         2015-08-09 02:13:06            567596.0      12449.0        22.14   \n",
       "\n",
       "Name                          MemoryUsed       RSS      Vsize  WallClockTime  \n",
       "JobID    HeartBeatTime                                                        \n",
       "23140766 2015-08-07 13:13:48  36101188.0  110596.0  1459640.0       3.198161  \n",
       "23141083 2015-08-07 13:29:48  36037080.0  111956.0  1707264.0       2.890452  \n",
       "23205537 2015-08-08 22:43:00  43807076.0   51376.0   760076.0       3.637860  \n",
       "         2015-08-08 23:13:00  44414148.0  731932.0  2714632.0    1803.281874  \n",
       "         2015-08-08 23:42:58  45048940.0  764380.0  2872744.0    3602.163568  \n",
       "         2015-08-09 00:12:58  45746004.0  785264.0  2884828.0    5402.028741  \n",
       "         2015-08-09 00:42:58  46408120.0  806056.0  2902500.0    7201.870347  \n",
       "         2015-08-09 01:13:08  46808432.0  830088.0  2926132.0    9011.577231  \n",
       "         2015-08-09 01:43:07  47209380.0  830808.0  2926500.0   10811.185416  \n",
       "         2015-08-09 02:13:06  46089464.0  836308.0  2945920.0   12610.498920  "
      ]
     },
     "execution_count": 196,
     "metadata": {},
     "output_type": "execute_result"
    }
   ],
   "source": [
    "allHBLI_wide.head(10)"
   ]
  },
  {
   "cell_type": "code",
   "execution_count": 197,
   "metadata": {},
   "outputs": [
    {
     "data": {
      "text/plain": [
       "Index(['AvailableDiskSpace', 'CPUConsumed', 'LoadAverage', 'MemoryUsed', 'RSS',\n",
       "       'Vsize', 'WallClockTime'],\n",
       "      dtype='object', name='Name')"
      ]
     },
     "execution_count": 197,
     "metadata": {},
     "output_type": "execute_result"
    }
   ],
   "source": [
    "allHBLI_wide.columns"
   ]
  },
  {
   "cell_type": "code",
   "execution_count": 198,
   "metadata": {},
   "outputs": [],
   "source": [
    "from sklearn.preprocessing import MinMaxScaler\n",
    "scaler = MinMaxScaler()\n",
    "allHBLI_wide[['AvailableDiskSpace', 'CPUConsumed', 'LoadAverage', \n",
    "             'MemoryUsed', 'RSS','Vsize', 'WallClockTime']] = scaler.fit_transform(allHBLI_wide[['AvailableDiskSpace', \n",
    "                                                                        'CPUConsumed', 'LoadAverage', 'MemoryUsed', \n",
    "                                                                        'RSS','Vsize', 'WallClockTime']])"
   ]
  },
  {
   "cell_type": "code",
   "execution_count": 199,
   "metadata": {},
   "outputs": [
    {
     "data": {
      "text/html": [
       "<div>\n",
       "<style scoped>\n",
       "    .dataframe tbody tr th:only-of-type {\n",
       "        vertical-align: middle;\n",
       "    }\n",
       "\n",
       "    .dataframe tbody tr th {\n",
       "        vertical-align: top;\n",
       "    }\n",
       "\n",
       "    .dataframe thead th {\n",
       "        text-align: right;\n",
       "    }\n",
       "</style>\n",
       "<table border=\"1\" class=\"dataframe\">\n",
       "  <thead>\n",
       "    <tr style=\"text-align: right;\">\n",
       "      <th></th>\n",
       "      <th>Name</th>\n",
       "      <th>AvailableDiskSpace</th>\n",
       "      <th>CPUConsumed</th>\n",
       "      <th>LoadAverage</th>\n",
       "      <th>MemoryUsed</th>\n",
       "      <th>RSS</th>\n",
       "      <th>Vsize</th>\n",
       "      <th>WallClockTime</th>\n",
       "    </tr>\n",
       "    <tr>\n",
       "      <th>JobID</th>\n",
       "      <th>HeartBeatTime</th>\n",
       "      <th></th>\n",
       "      <th></th>\n",
       "      <th></th>\n",
       "      <th></th>\n",
       "      <th></th>\n",
       "      <th></th>\n",
       "      <th></th>\n",
       "    </tr>\n",
       "  </thead>\n",
       "  <tbody>\n",
       "    <tr>\n",
       "      <th>23140766</th>\n",
       "      <th>2015-08-07 13:13:48</th>\n",
       "      <td>0.002636</td>\n",
       "      <td>0.000039</td>\n",
       "      <td>0.044108</td>\n",
       "      <td>0.136696</td>\n",
       "      <td>0.000662</td>\n",
       "      <td>0.008532</td>\n",
       "      <td>0.000010</td>\n",
       "    </tr>\n",
       "    <tr>\n",
       "      <th>23141083</th>\n",
       "      <th>2015-08-07 13:29:48</th>\n",
       "      <td>0.005404</td>\n",
       "      <td>0.000031</td>\n",
       "      <td>0.044889</td>\n",
       "      <td>0.136453</td>\n",
       "      <td>0.000670</td>\n",
       "      <td>0.009979</td>\n",
       "      <td>0.000009</td>\n",
       "    </tr>\n",
       "    <tr>\n",
       "      <th rowspan=\"8\" valign=\"top\">23205537</th>\n",
       "      <th>2015-08-08 22:43:00</th>\n",
       "      <td>0.001988</td>\n",
       "      <td>0.000035</td>\n",
       "      <td>0.044008</td>\n",
       "      <td>0.165874</td>\n",
       "      <td>0.000307</td>\n",
       "      <td>0.004443</td>\n",
       "      <td>0.000012</td>\n",
       "    </tr>\n",
       "    <tr>\n",
       "      <th>2015-08-08 23:13:00</th>\n",
       "      <td>0.001989</td>\n",
       "      <td>0.006739</td>\n",
       "      <td>0.046071</td>\n",
       "      <td>0.168173</td>\n",
       "      <td>0.004379</td>\n",
       "      <td>0.015867</td>\n",
       "      <td>0.007003</td>\n",
       "    </tr>\n",
       "    <tr>\n",
       "      <th>2015-08-08 23:42:58</th>\n",
       "      <td>0.001988</td>\n",
       "      <td>0.013672</td>\n",
       "      <td>0.048174</td>\n",
       "      <td>0.170576</td>\n",
       "      <td>0.004573</td>\n",
       "      <td>0.016791</td>\n",
       "      <td>0.013992</td>\n",
       "    </tr>\n",
       "    <tr>\n",
       "      <th>2015-08-09 00:12:58</th>\n",
       "      <td>0.001987</td>\n",
       "      <td>0.020594</td>\n",
       "      <td>0.046031</td>\n",
       "      <td>0.173216</td>\n",
       "      <td>0.004698</td>\n",
       "      <td>0.016862</td>\n",
       "      <td>0.020984</td>\n",
       "    </tr>\n",
       "    <tr>\n",
       "      <th>2015-08-09 00:42:58</th>\n",
       "      <td>0.001987</td>\n",
       "      <td>0.027484</td>\n",
       "      <td>0.046572</td>\n",
       "      <td>0.175723</td>\n",
       "      <td>0.004822</td>\n",
       "      <td>0.016965</td>\n",
       "      <td>0.027976</td>\n",
       "    </tr>\n",
       "    <tr>\n",
       "      <th>2015-08-09 01:13:08</th>\n",
       "      <td>0.001986</td>\n",
       "      <td>0.034452</td>\n",
       "      <td>0.047393</td>\n",
       "      <td>0.177239</td>\n",
       "      <td>0.004966</td>\n",
       "      <td>0.017103</td>\n",
       "      <td>0.035006</td>\n",
       "    </tr>\n",
       "    <tr>\n",
       "      <th>2015-08-09 01:43:07</th>\n",
       "      <td>0.001986</td>\n",
       "      <td>0.041370</td>\n",
       "      <td>0.048895</td>\n",
       "      <td>0.178757</td>\n",
       "      <td>0.004970</td>\n",
       "      <td>0.017105</td>\n",
       "      <td>0.041997</td>\n",
       "    </tr>\n",
       "    <tr>\n",
       "      <th>2015-08-09 02:13:06</th>\n",
       "      <td>0.001986</td>\n",
       "      <td>0.048272</td>\n",
       "      <td>0.044348</td>\n",
       "      <td>0.174516</td>\n",
       "      <td>0.005003</td>\n",
       "      <td>0.017219</td>\n",
       "      <td>0.048987</td>\n",
       "    </tr>\n",
       "  </tbody>\n",
       "</table>\n",
       "</div>"
      ],
      "text/plain": [
       "Name                          AvailableDiskSpace  CPUConsumed  LoadAverage  \\\n",
       "JobID    HeartBeatTime                                                       \n",
       "23140766 2015-08-07 13:13:48            0.002636     0.000039     0.044108   \n",
       "23141083 2015-08-07 13:29:48            0.005404     0.000031     0.044889   \n",
       "23205537 2015-08-08 22:43:00            0.001988     0.000035     0.044008   \n",
       "         2015-08-08 23:13:00            0.001989     0.006739     0.046071   \n",
       "         2015-08-08 23:42:58            0.001988     0.013672     0.048174   \n",
       "         2015-08-09 00:12:58            0.001987     0.020594     0.046031   \n",
       "         2015-08-09 00:42:58            0.001987     0.027484     0.046572   \n",
       "         2015-08-09 01:13:08            0.001986     0.034452     0.047393   \n",
       "         2015-08-09 01:43:07            0.001986     0.041370     0.048895   \n",
       "         2015-08-09 02:13:06            0.001986     0.048272     0.044348   \n",
       "\n",
       "Name                          MemoryUsed       RSS     Vsize  WallClockTime  \n",
       "JobID    HeartBeatTime                                                       \n",
       "23140766 2015-08-07 13:13:48    0.136696  0.000662  0.008532       0.000010  \n",
       "23141083 2015-08-07 13:29:48    0.136453  0.000670  0.009979       0.000009  \n",
       "23205537 2015-08-08 22:43:00    0.165874  0.000307  0.004443       0.000012  \n",
       "         2015-08-08 23:13:00    0.168173  0.004379  0.015867       0.007003  \n",
       "         2015-08-08 23:42:58    0.170576  0.004573  0.016791       0.013992  \n",
       "         2015-08-09 00:12:58    0.173216  0.004698  0.016862       0.020984  \n",
       "         2015-08-09 00:42:58    0.175723  0.004822  0.016965       0.027976  \n",
       "         2015-08-09 01:13:08    0.177239  0.004966  0.017103       0.035006  \n",
       "         2015-08-09 01:43:07    0.178757  0.004970  0.017105       0.041997  \n",
       "         2015-08-09 02:13:06    0.174516  0.005003  0.017219       0.048987  "
      ]
     },
     "execution_count": 199,
     "metadata": {},
     "output_type": "execute_result"
    }
   ],
   "source": [
    "allHBLI_wide.head(10)"
   ]
  },
  {
   "cell_type": "code",
   "execution_count": 200,
   "metadata": {},
   "outputs": [],
   "source": [
    "allHBLI_wide = allHBLI_wide.reset_index()"
   ]
  },
  {
   "cell_type": "code",
   "execution_count": 201,
   "metadata": {},
   "outputs": [],
   "source": [
    "#########################\n",
    "allHBLI_wide.to_pickle('allHBLI_wide_scaled.pickle')\n",
    "#########################"
   ]
  },
  {
   "cell_type": "code",
   "execution_count": 234,
   "metadata": {},
   "outputs": [
    {
     "data": {
      "text/html": [
       "<div>\n",
       "<style scoped>\n",
       "    .dataframe tbody tr th:only-of-type {\n",
       "        vertical-align: middle;\n",
       "    }\n",
       "\n",
       "    .dataframe tbody tr th {\n",
       "        vertical-align: top;\n",
       "    }\n",
       "\n",
       "    .dataframe thead th {\n",
       "        text-align: right;\n",
       "    }\n",
       "</style>\n",
       "<table border=\"1\" class=\"dataframe\">\n",
       "  <thead>\n",
       "    <tr style=\"text-align: right;\">\n",
       "      <th>Name</th>\n",
       "      <th>JobID</th>\n",
       "      <th>HeartBeatTime</th>\n",
       "      <th>AvailableDiskSpace</th>\n",
       "      <th>CPUConsumed</th>\n",
       "      <th>LoadAverage</th>\n",
       "      <th>MemoryUsed</th>\n",
       "      <th>RSS</th>\n",
       "      <th>Vsize</th>\n",
       "      <th>WallClockTime</th>\n",
       "    </tr>\n",
       "  </thead>\n",
       "  <tbody>\n",
       "    <tr>\n",
       "      <th>0</th>\n",
       "      <td>23140766</td>\n",
       "      <td>2015-08-07 13:13:48</td>\n",
       "      <td>0.002636</td>\n",
       "      <td>0.000039</td>\n",
       "      <td>0.044108</td>\n",
       "      <td>0.136696</td>\n",
       "      <td>0.000662</td>\n",
       "      <td>0.008532</td>\n",
       "      <td>0.000010</td>\n",
       "    </tr>\n",
       "    <tr>\n",
       "      <th>1</th>\n",
       "      <td>23141083</td>\n",
       "      <td>2015-08-07 13:29:48</td>\n",
       "      <td>0.005404</td>\n",
       "      <td>0.000031</td>\n",
       "      <td>0.044889</td>\n",
       "      <td>0.136453</td>\n",
       "      <td>0.000670</td>\n",
       "      <td>0.009979</td>\n",
       "      <td>0.000009</td>\n",
       "    </tr>\n",
       "    <tr>\n",
       "      <th>2</th>\n",
       "      <td>23205537</td>\n",
       "      <td>2015-08-08 22:43:00</td>\n",
       "      <td>0.001988</td>\n",
       "      <td>0.000035</td>\n",
       "      <td>0.044008</td>\n",
       "      <td>0.165874</td>\n",
       "      <td>0.000307</td>\n",
       "      <td>0.004443</td>\n",
       "      <td>0.000012</td>\n",
       "    </tr>\n",
       "    <tr>\n",
       "      <th>3</th>\n",
       "      <td>23205537</td>\n",
       "      <td>2015-08-08 23:13:00</td>\n",
       "      <td>0.001989</td>\n",
       "      <td>0.006739</td>\n",
       "      <td>0.046071</td>\n",
       "      <td>0.168173</td>\n",
       "      <td>0.004379</td>\n",
       "      <td>0.015867</td>\n",
       "      <td>0.007003</td>\n",
       "    </tr>\n",
       "    <tr>\n",
       "      <th>4</th>\n",
       "      <td>23205537</td>\n",
       "      <td>2015-08-08 23:42:58</td>\n",
       "      <td>0.001988</td>\n",
       "      <td>0.013672</td>\n",
       "      <td>0.048174</td>\n",
       "      <td>0.170576</td>\n",
       "      <td>0.004573</td>\n",
       "      <td>0.016791</td>\n",
       "      <td>0.013992</td>\n",
       "    </tr>\n",
       "  </tbody>\n",
       "</table>\n",
       "</div>"
      ],
      "text/plain": [
       "Name     JobID       HeartBeatTime  AvailableDiskSpace  CPUConsumed  \\\n",
       "0     23140766 2015-08-07 13:13:48            0.002636     0.000039   \n",
       "1     23141083 2015-08-07 13:29:48            0.005404     0.000031   \n",
       "2     23205537 2015-08-08 22:43:00            0.001988     0.000035   \n",
       "3     23205537 2015-08-08 23:13:00            0.001989     0.006739   \n",
       "4     23205537 2015-08-08 23:42:58            0.001988     0.013672   \n",
       "\n",
       "Name  LoadAverage  MemoryUsed       RSS     Vsize  WallClockTime  \n",
       "0        0.044108    0.136696  0.000662  0.008532       0.000010  \n",
       "1        0.044889    0.136453  0.000670  0.009979       0.000009  \n",
       "2        0.044008    0.165874  0.000307  0.004443       0.000012  \n",
       "3        0.046071    0.168173  0.004379  0.015867       0.007003  \n",
       "4        0.048174    0.170576  0.004573  0.016791       0.013992  "
      ]
     },
     "execution_count": 234,
     "metadata": {},
     "output_type": "execute_result"
    }
   ],
   "source": [
    "allHBLI_wide.head()"
   ]
  },
  {
   "cell_type": "markdown",
   "metadata": {},
   "source": [
    "#### End of HBLI table processing: allHBLI"
   ]
  },
  {
   "cell_type": "markdown",
   "metadata": {},
   "source": [
    "# Process Jobs tables: allJobs"
   ]
  },
  {
   "cell_type": "markdown",
   "metadata": {},
   "source": [
    "# Join allJobs tables"
   ]
  },
  {
   "cell_type": "code",
   "execution_count": 207,
   "metadata": {},
   "outputs": [],
   "source": [
    "dataJobs = allJobs.copy(deep=True)"
   ]
  },
  {
   "cell_type": "code",
   "execution_count": 208,
   "metadata": {},
   "outputs": [],
   "source": [
    "listofcolumns = dataJobs.columns.tolist()\n",
    "#listofcolumns"
   ]
  },
  {
   "cell_type": "code",
   "execution_count": 209,
   "metadata": {},
   "outputs": [
    {
     "name": "stdout",
     "output_type": "stream",
     "text": [
      "['JobType', 'DIRACSetup', 'JobGroup', 'JobSplitType', 'MasterJobID', 'Site', 'Owner', 'OwnerDN', 'OwnerGroup', 'Status', 'MinorStatus', 'ApplicationStatus', 'ApplicationNumStatus', 'CPUTime', 'UserPriority', 'SystemPriority', 'RescheduleCounter', 'VerifiedFlag', 'DeletedFlag', 'KilledFlag', 'FailedFlag', 'ISandboxReadyFlag', 'OSandboxReadyFlag', 'RetrievedFlag', 'AccountedFlag']\n"
     ]
    }
   ],
   "source": [
    "removelist = ['JobID','JobName','SubmissionTime', 'RescheduleTime', 'LastUpdateTime', \n",
    "              'StartExecTime', 'HeartBeatTime', 'EndExecTime']\n",
    "\n",
    "for r in removelist:\n",
    "    listofcolumns.remove(r)\n",
    "    \n",
    "print(listofcolumns)"
   ]
  },
  {
   "cell_type": "code",
   "execution_count": 210,
   "metadata": {},
   "outputs": [
    {
     "data": {
      "text/plain": [
       "(233000, 33)"
      ]
     },
     "execution_count": 210,
     "metadata": {},
     "output_type": "execute_result"
    }
   ],
   "source": [
    "dataJobs.shape"
   ]
  },
  {
   "cell_type": "code",
   "execution_count": 211,
   "metadata": {},
   "outputs": [
    {
     "name": "stdout",
     "output_type": "stream",
     "text": [
      "OwnerGroup 1\n",
      "KilledFlag 1\n",
      "ApplicationNumStatus 1\n",
      "DeletedFlag 1\n",
      "JobSplitType 1\n",
      "OSandboxReadyFlag 1\n",
      "Owner 1\n",
      "OwnerDN 1\n",
      "CPUTime 1\n",
      "DIRACSetup 1\n",
      "VerifiedFlag 1\n",
      "ISandboxReadyFlag 1\n",
      "FailedFlag 1\n",
      "MasterJobID 1\n",
      "RetrievedFlag 1\n",
      "SystemPriority 1\n",
      "Status 2\n",
      "AccountedFlag 2\n",
      "JobType 3\n",
      "UserPriority 6\n",
      "RescheduleCounter 21\n",
      "MinorStatus 23\n",
      "Site 52\n",
      "ApplicationStatus 56\n",
      "JobGroup 246\n"
     ]
    }
   ],
   "source": [
    "cc = {}\n",
    "\n",
    "for c in listofcolumns:\n",
    "    #print(c)\n",
    "    ll = len(dataJobs[c].unique().tolist())\n",
    "    \n",
    "    if ll > 0:\n",
    "        #print('************ found > limit *')\n",
    "        cc[c]=ll\n",
    "\n",
    "for w in sorted(cc, key=cc.get, reverse=False):\n",
    "  print(w, cc[w])"
   ]
  },
  {
   "cell_type": "code",
   "execution_count": 212,
   "metadata": {},
   "outputs": [],
   "source": [
    "### Decision: let us drop 'MinorStatus' and 'ApplicationStatus' and only predict the 'Status' column\n",
    "#   LABEL for prediction: only predict the 'Status' column\n",
    "\n",
    "del dataJobs['MinorStatus']\n",
    "del dataJobs['ApplicationStatus']"
   ]
  },
  {
   "cell_type": "code",
   "execution_count": 213,
   "metadata": {},
   "outputs": [
    {
     "name": "stdout",
     "output_type": "stream",
     "text": [
      "OwnerGroup 1\n",
      "KilledFlag 1\n",
      "ApplicationNumStatus 1\n",
      "DeletedFlag 1\n",
      "JobSplitType 1\n",
      "OSandboxReadyFlag 1\n",
      "Owner 1\n",
      "OwnerDN 1\n",
      "CPUTime 1\n",
      "DIRACSetup 1\n",
      "VerifiedFlag 1\n",
      "ISandboxReadyFlag 1\n",
      "FailedFlag 1\n",
      "MasterJobID 1\n",
      "RetrievedFlag 1\n",
      "SystemPriority 1\n"
     ]
    }
   ],
   "source": [
    "### Decision: let us drop all columns which have only single state, i.e. no fluctuation\n",
    "for w in sorted(cc, key=cc.get, reverse=False):\n",
    "    if cc[w] == 1:\n",
    "        del dataJobs[w]\n",
    "        print(w, cc[w])"
   ]
  },
  {
   "cell_type": "code",
   "execution_count": 214,
   "metadata": {},
   "outputs": [],
   "source": [
    "del dataJobs['JobName'] #name is not important for prediction"
   ]
  },
  {
   "cell_type": "code",
   "execution_count": 215,
   "metadata": {},
   "outputs": [
    {
     "data": {
      "text/plain": [
       "['JobID',\n",
       " 'JobType',\n",
       " 'JobGroup',\n",
       " 'Site',\n",
       " 'SubmissionTime',\n",
       " 'RescheduleTime',\n",
       " 'LastUpdateTime',\n",
       " 'StartExecTime',\n",
       " 'HeartBeatTime',\n",
       " 'EndExecTime',\n",
       " 'Status',\n",
       " 'UserPriority',\n",
       " 'RescheduleCounter',\n",
       " 'AccountedFlag']"
      ]
     },
     "execution_count": 215,
     "metadata": {},
     "output_type": "execute_result"
    }
   ],
   "source": [
    "dataJobs.columns.tolist()"
   ]
  },
  {
   "cell_type": "code",
   "execution_count": 216,
   "metadata": {},
   "outputs": [
    {
     "data": {
      "text/html": [
       "<div>\n",
       "<style scoped>\n",
       "    .dataframe tbody tr th:only-of-type {\n",
       "        vertical-align: middle;\n",
       "    }\n",
       "\n",
       "    .dataframe tbody tr th {\n",
       "        vertical-align: top;\n",
       "    }\n",
       "\n",
       "    .dataframe thead th {\n",
       "        text-align: right;\n",
       "    }\n",
       "</style>\n",
       "<table border=\"1\" class=\"dataframe\">\n",
       "  <thead>\n",
       "    <tr style=\"text-align: right;\">\n",
       "      <th></th>\n",
       "      <th>SubmissionTime</th>\n",
       "      <th>RescheduleTime</th>\n",
       "      <th>LastUpdateTime</th>\n",
       "      <th>StartExecTime</th>\n",
       "      <th>HeartBeatTime</th>\n",
       "      <th>EndExecTime</th>\n",
       "    </tr>\n",
       "  </thead>\n",
       "  <tbody>\n",
       "    <tr>\n",
       "      <th>0</th>\n",
       "      <td>2015-08-07 13:09:34</td>\n",
       "      <td>NaT</td>\n",
       "      <td>2016-12-01 04:42:41</td>\n",
       "      <td>2015-08-07 13:10:26</td>\n",
       "      <td>2015-08-07 13:20:16</td>\n",
       "      <td>2015-08-07 13:17:13</td>\n",
       "    </tr>\n",
       "    <tr>\n",
       "      <th>1</th>\n",
       "      <td>2015-08-07 13:19:34</td>\n",
       "      <td>NaT</td>\n",
       "      <td>2016-12-01 04:42:41</td>\n",
       "      <td>2015-08-07 13:29:29</td>\n",
       "      <td>2015-08-07 13:39:55</td>\n",
       "      <td>2015-08-07 13:39:55</td>\n",
       "    </tr>\n",
       "    <tr>\n",
       "      <th>2</th>\n",
       "      <td>2015-08-08 21:35:09</td>\n",
       "      <td>NaT</td>\n",
       "      <td>2016-12-01 04:42:41</td>\n",
       "      <td>2015-08-08 22:42:40</td>\n",
       "      <td>2015-08-09 12:00:33</td>\n",
       "      <td>2015-08-09 12:00:33</td>\n",
       "    </tr>\n",
       "    <tr>\n",
       "      <th>3</th>\n",
       "      <td>2015-08-08 21:39:29</td>\n",
       "      <td>NaT</td>\n",
       "      <td>2016-12-01 04:42:41</td>\n",
       "      <td>2015-08-08 22:49:54</td>\n",
       "      <td>2015-08-09 05:07:49</td>\n",
       "      <td>2015-08-09 05:07:49</td>\n",
       "    </tr>\n",
       "    <tr>\n",
       "      <th>4</th>\n",
       "      <td>2015-08-08 21:40:31</td>\n",
       "      <td>NaT</td>\n",
       "      <td>2016-12-01 04:42:41</td>\n",
       "      <td>2015-08-08 22:49:41</td>\n",
       "      <td>2015-08-09 12:04:12</td>\n",
       "      <td>2015-08-09 12:04:13</td>\n",
       "    </tr>\n",
       "  </tbody>\n",
       "</table>\n",
       "</div>"
      ],
      "text/plain": [
       "       SubmissionTime RescheduleTime      LastUpdateTime       StartExecTime  \\\n",
       "0 2015-08-07 13:09:34            NaT 2016-12-01 04:42:41 2015-08-07 13:10:26   \n",
       "1 2015-08-07 13:19:34            NaT 2016-12-01 04:42:41 2015-08-07 13:29:29   \n",
       "2 2015-08-08 21:35:09            NaT 2016-12-01 04:42:41 2015-08-08 22:42:40   \n",
       "3 2015-08-08 21:39:29            NaT 2016-12-01 04:42:41 2015-08-08 22:49:54   \n",
       "4 2015-08-08 21:40:31            NaT 2016-12-01 04:42:41 2015-08-08 22:49:41   \n",
       "\n",
       "        HeartBeatTime         EndExecTime  \n",
       "0 2015-08-07 13:20:16 2015-08-07 13:17:13  \n",
       "1 2015-08-07 13:39:55 2015-08-07 13:39:55  \n",
       "2 2015-08-09 12:00:33 2015-08-09 12:00:33  \n",
       "3 2015-08-09 05:07:49 2015-08-09 05:07:49  \n",
       "4 2015-08-09 12:04:12 2015-08-09 12:04:13  "
      ]
     },
     "execution_count": 216,
     "metadata": {},
     "output_type": "execute_result"
    }
   ],
   "source": [
    "dataJobs[['SubmissionTime',\n",
    " 'RescheduleTime',\n",
    " 'LastUpdateTime',\n",
    " 'StartExecTime',\n",
    " 'HeartBeatTime',\n",
    " 'EndExecTime']][:5]"
   ]
  },
  {
   "cell_type": "code",
   "execution_count": 217,
   "metadata": {},
   "outputs": [],
   "source": [
    "### Decision: Convert times to deltas\n",
    "\n",
    "dataJobs['start_submit'] = (dataJobs['StartExecTime']-dataJobs['SubmissionTime']) / np.timedelta64(1, 'm')\n",
    "dataJobs['hbeat_start']  = (dataJobs['HeartBeatTime']-dataJobs['StartExecTime']) / np.timedelta64(1, 'm')\n",
    "\n",
    "for x in ['SubmissionTime','RescheduleTime','LastUpdateTime','StartExecTime','HeartBeatTime','EndExecTime']:\n",
    "    del dataJobs[x]"
   ]
  },
  {
   "cell_type": "code",
   "execution_count": 218,
   "metadata": {},
   "outputs": [],
   "source": [
    "# Decision: Remove the AccountedFlag at this stage\n",
    "del dataJobs['AccountedFlag']"
   ]
  },
  {
   "cell_type": "code",
   "execution_count": 545,
   "metadata": {},
   "outputs": [
    {
     "ename": "NameError",
     "evalue": "name 'dataJobs' is not defined",
     "output_type": "error",
     "traceback": [
      "\u001b[0;31m---------------------------------------------------------------------------\u001b[0m",
      "\u001b[0;31mNameError\u001b[0m                                 Traceback (most recent call last)",
      "\u001b[0;32m<ipython-input-545-748e713fb2b6>\u001b[0m in \u001b[0;36m<module>\u001b[0;34m()\u001b[0m\n\u001b[0;32m----> 1\u001b[0;31m \u001b[0mdataJobs\u001b[0m\u001b[0;34m[\u001b[0m\u001b[0;34m:\u001b[0m\u001b[0;36m5\u001b[0m\u001b[0;34m]\u001b[0m\u001b[0;34m\u001b[0m\u001b[0m\n\u001b[0m",
      "\u001b[0;31mNameError\u001b[0m: name 'dataJobs' is not defined"
     ]
    }
   ],
   "source": [
    "dataJobs[:5]"
   ]
  },
  {
   "cell_type": "code",
   "execution_count": 220,
   "metadata": {},
   "outputs": [
    {
     "data": {
      "text/plain": [
       "Failed    133000\n",
       "Done      100000\n",
       "Name: Status, dtype: int64"
      ]
     },
     "execution_count": 220,
     "metadata": {},
     "output_type": "execute_result"
    }
   ],
   "source": [
    "dataJobs.Status.value_counts()"
   ]
  },
  {
   "cell_type": "code",
   "execution_count": 221,
   "metadata": {},
   "outputs": [
    {
     "data": {
      "text/plain": [
       "Index(['JobID', 'JobType', 'JobGroup', 'Site', 'Status', 'UserPriority',\n",
       "       'RescheduleCounter', 'start_submit', 'hbeat_start'],\n",
       "      dtype='object')"
      ]
     },
     "execution_count": 221,
     "metadata": {},
     "output_type": "execute_result"
    }
   ],
   "source": [
    "dataJobs.columns"
   ]
  },
  {
   "cell_type": "code",
   "execution_count": 222,
   "metadata": {},
   "outputs": [
    {
     "name": "stdout",
     "output_type": "stream",
     "text": [
      "CPU times: user 669 ms, sys: 24.2 ms, total: 693 ms\n",
      "Wall time: 692 ms\n"
     ]
    }
   ],
   "source": [
    "%%time\n",
    "dj_encoded = pd.get_dummies(dataJobs, columns=['JobType','JobGroup','Site','Status','UserPriority'],\n",
    "                           drop_first=True)"
   ]
  },
  {
   "cell_type": "code",
   "execution_count": 223,
   "metadata": {},
   "outputs": [
    {
     "data": {
      "text/plain": [
       "['JobID',\n",
       " 'RescheduleCounter',\n",
       " 'start_submit',\n",
       " 'hbeat_start',\n",
       " 'JobType_MCProductionBGx0',\n",
       " 'JobType_Merge',\n",
       " 'JobGroup_00000758',\n",
       " 'JobGroup_00000808',\n",
       " 'JobGroup_00000809',\n",
       " 'JobGroup_00000974',\n",
       " 'JobGroup_00000975',\n",
       " 'JobGroup_00001303',\n",
       " 'JobGroup_00001306',\n",
       " 'JobGroup_00001368',\n",
       " 'JobGroup_00001369',\n",
       " 'JobGroup_00001370',\n",
       " 'JobGroup_00001371',\n",
       " 'JobGroup_00001372',\n",
       " 'JobGroup_00001373',\n",
       " 'JobGroup_00001374',\n",
       " 'JobGroup_00001375',\n",
       " 'JobGroup_00001376',\n",
       " 'JobGroup_00001377',\n",
       " 'JobGroup_00001378',\n",
       " 'JobGroup_00001379',\n",
       " 'JobGroup_00001380',\n",
       " 'JobGroup_00001381',\n",
       " 'JobGroup_00001386',\n",
       " 'JobGroup_00001398',\n",
       " 'JobGroup_00001404',\n",
       " 'JobGroup_00001622',\n",
       " 'JobGroup_00001635',\n",
       " 'JobGroup_00001636',\n",
       " 'JobGroup_00001637',\n",
       " 'JobGroup_00001638',\n",
       " 'JobGroup_00001639',\n",
       " 'JobGroup_00001640',\n",
       " 'JobGroup_00001641',\n",
       " 'JobGroup_00001642',\n",
       " 'JobGroup_00001643',\n",
       " 'JobGroup_00001644',\n",
       " 'JobGroup_00001645',\n",
       " 'JobGroup_00001646',\n",
       " 'JobGroup_00001647',\n",
       " 'JobGroup_00001648',\n",
       " 'JobGroup_00001649',\n",
       " 'JobGroup_00001650',\n",
       " 'JobGroup_00001651',\n",
       " 'JobGroup_00001652',\n",
       " 'JobGroup_00001653',\n",
       " 'JobGroup_00001654',\n",
       " 'JobGroup_00001655',\n",
       " 'JobGroup_00001656',\n",
       " 'JobGroup_00001657',\n",
       " 'JobGroup_00001658',\n",
       " 'JobGroup_00001659',\n",
       " 'JobGroup_00001660',\n",
       " 'JobGroup_00001661',\n",
       " 'JobGroup_00001662',\n",
       " 'JobGroup_00001663',\n",
       " 'JobGroup_00001664',\n",
       " 'JobGroup_00001665',\n",
       " 'JobGroup_00001666',\n",
       " 'JobGroup_00001667',\n",
       " 'JobGroup_00001668',\n",
       " 'JobGroup_00001669',\n",
       " 'JobGroup_00001670',\n",
       " 'JobGroup_00001671',\n",
       " 'JobGroup_00001672',\n",
       " 'JobGroup_00001673',\n",
       " 'JobGroup_00001674',\n",
       " 'JobGroup_00001675',\n",
       " 'JobGroup_00001676',\n",
       " 'JobGroup_00001677',\n",
       " 'JobGroup_00001678',\n",
       " 'JobGroup_00001679',\n",
       " 'JobGroup_00001680',\n",
       " 'JobGroup_00001681',\n",
       " 'JobGroup_00001682',\n",
       " 'JobGroup_00001683',\n",
       " 'JobGroup_00001684',\n",
       " 'JobGroup_00001685',\n",
       " 'JobGroup_00001686',\n",
       " 'JobGroup_00001687',\n",
       " 'JobGroup_00001688',\n",
       " 'JobGroup_00001689',\n",
       " 'JobGroup_00001690',\n",
       " 'JobGroup_00001691',\n",
       " 'JobGroup_00001692',\n",
       " 'JobGroup_00001693',\n",
       " 'JobGroup_00001694',\n",
       " 'JobGroup_00001695',\n",
       " 'JobGroup_00001696',\n",
       " 'JobGroup_00001699',\n",
       " 'JobGroup_00001702',\n",
       " 'JobGroup_00001705',\n",
       " 'JobGroup_00001710',\n",
       " 'JobGroup_00001711',\n",
       " 'JobGroup_00001712',\n",
       " 'JobGroup_00001714',\n",
       " 'JobGroup_00001717',\n",
       " 'JobGroup_00001720',\n",
       " 'JobGroup_00001721',\n",
       " 'JobGroup_00001722',\n",
       " 'JobGroup_00001723',\n",
       " 'JobGroup_00001724',\n",
       " 'JobGroup_00001725',\n",
       " 'JobGroup_00001726',\n",
       " 'JobGroup_00001727',\n",
       " 'JobGroup_00001728',\n",
       " 'JobGroup_00001729',\n",
       " 'JobGroup_00001732',\n",
       " 'JobGroup_00001733',\n",
       " 'JobGroup_00001734',\n",
       " 'JobGroup_00001735',\n",
       " 'JobGroup_00001736',\n",
       " 'JobGroup_00001737',\n",
       " 'JobGroup_00001738',\n",
       " 'JobGroup_00001739',\n",
       " 'JobGroup_00001740',\n",
       " 'JobGroup_00001741',\n",
       " 'JobGroup_00001744',\n",
       " 'JobGroup_00001746',\n",
       " 'JobGroup_00001747',\n",
       " 'JobGroup_00001749',\n",
       " 'JobGroup_00001750',\n",
       " 'JobGroup_00001753',\n",
       " 'JobGroup_00001754',\n",
       " 'JobGroup_00001755',\n",
       " 'JobGroup_00001756',\n",
       " 'JobGroup_00001757',\n",
       " 'JobGroup_00001758',\n",
       " 'JobGroup_00001759',\n",
       " 'JobGroup_00001760',\n",
       " 'JobGroup_00001761',\n",
       " 'JobGroup_00001762',\n",
       " 'JobGroup_00001763',\n",
       " 'JobGroup_00001764',\n",
       " 'JobGroup_00001765',\n",
       " 'JobGroup_00001766',\n",
       " 'JobGroup_00001767',\n",
       " 'JobGroup_00001768',\n",
       " 'JobGroup_00001769',\n",
       " 'JobGroup_00001770',\n",
       " 'JobGroup_00001771',\n",
       " 'JobGroup_00001772',\n",
       " 'JobGroup_00001773',\n",
       " 'JobGroup_00001774',\n",
       " 'JobGroup_00001775',\n",
       " 'JobGroup_00001776',\n",
       " 'JobGroup_00001777',\n",
       " 'JobGroup_00001778',\n",
       " 'JobGroup_00001779',\n",
       " 'JobGroup_00001780',\n",
       " 'JobGroup_00001781',\n",
       " 'JobGroup_00001782',\n",
       " 'JobGroup_00001783',\n",
       " 'JobGroup_00001784',\n",
       " 'JobGroup_00001785',\n",
       " 'JobGroup_00001786',\n",
       " 'JobGroup_00001787',\n",
       " 'JobGroup_00001788',\n",
       " 'JobGroup_00001789',\n",
       " 'JobGroup_00001790',\n",
       " 'JobGroup_00001791',\n",
       " 'JobGroup_00001792',\n",
       " 'JobGroup_00001793',\n",
       " 'JobGroup_00001794',\n",
       " 'JobGroup_00001795',\n",
       " 'JobGroup_00001796',\n",
       " 'JobGroup_00001797',\n",
       " 'JobGroup_00001798',\n",
       " 'JobGroup_00001799',\n",
       " 'JobGroup_00001800',\n",
       " 'JobGroup_00001801',\n",
       " 'JobGroup_00001802',\n",
       " 'JobGroup_00001803',\n",
       " 'JobGroup_00001804',\n",
       " 'JobGroup_00001805',\n",
       " 'JobGroup_00001806',\n",
       " 'JobGroup_00001807',\n",
       " 'JobGroup_00001808',\n",
       " 'JobGroup_00001809',\n",
       " 'JobGroup_00001810',\n",
       " 'JobGroup_00001811',\n",
       " 'JobGroup_00001812',\n",
       " 'JobGroup_00001813',\n",
       " 'JobGroup_00001814',\n",
       " 'JobGroup_00001815',\n",
       " 'JobGroup_00001816',\n",
       " 'JobGroup_00001817',\n",
       " 'JobGroup_00001818',\n",
       " 'JobGroup_00001819',\n",
       " 'JobGroup_00001820',\n",
       " 'JobGroup_00001821',\n",
       " 'JobGroup_00001822',\n",
       " 'JobGroup_00001823',\n",
       " 'JobGroup_00001824',\n",
       " 'JobGroup_00001825',\n",
       " 'JobGroup_00001826',\n",
       " 'JobGroup_00001827',\n",
       " 'JobGroup_00001828',\n",
       " 'JobGroup_00001829',\n",
       " 'JobGroup_00001830',\n",
       " 'JobGroup_00001831',\n",
       " 'JobGroup_00001832',\n",
       " 'JobGroup_00001833',\n",
       " 'JobGroup_00001834',\n",
       " 'JobGroup_00001837',\n",
       " 'JobGroup_00001840',\n",
       " 'JobGroup_00001842',\n",
       " 'JobGroup_00001845',\n",
       " 'JobGroup_00001847',\n",
       " 'JobGroup_00001849',\n",
       " 'JobGroup_00001850',\n",
       " 'JobGroup_00001856',\n",
       " 'JobGroup_00001857',\n",
       " 'JobGroup_00001858',\n",
       " 'JobGroup_00001859',\n",
       " 'JobGroup_00001860',\n",
       " 'JobGroup_00001861',\n",
       " 'JobGroup_00001863',\n",
       " 'JobGroup_00001864',\n",
       " 'JobGroup_00001865',\n",
       " 'JobGroup_00001866',\n",
       " 'JobGroup_00001868',\n",
       " 'JobGroup_00001871',\n",
       " 'JobGroup_00001872',\n",
       " 'JobGroup_00001914',\n",
       " 'JobGroup_00001916',\n",
       " 'JobGroup_00001917',\n",
       " 'JobGroup_00001919',\n",
       " 'JobGroup_00001920',\n",
       " 'JobGroup_00001921',\n",
       " 'JobGroup_00001922',\n",
       " 'JobGroup_00001923',\n",
       " 'JobGroup_00001924',\n",
       " 'JobGroup_00001925',\n",
       " 'JobGroup_00001926',\n",
       " 'JobGroup_00001927',\n",
       " 'JobGroup_00001931',\n",
       " 'JobGroup_00001935',\n",
       " 'JobGroup_00001936',\n",
       " 'JobGroup_00001937',\n",
       " 'JobGroup_00001939',\n",
       " 'JobGroup_00001940',\n",
       " 'JobGroup_00001941',\n",
       " 'JobGroup_00001942',\n",
       " 'JobGroup_00001943',\n",
       " 'JobGroup_00001944',\n",
       " 'JobGroup_00001945',\n",
       " 'Site_ARC.DESY.de',\n",
       " 'Site_ARC.SIGNET.si',\n",
       " 'Site_CLOUD.AWS_Sydney.au',\n",
       " 'Site_CLOUD.AWS_Tokyo.jp',\n",
       " 'Site_CLOUD.AWS_Virginia.us',\n",
       " 'Site_CLOUD.CC1_Krakow.pl',\n",
       " 'Site_DIRAC.BINP.ru',\n",
       " 'Site_DIRAC.Beihang.cn',\n",
       " 'Site_DIRAC.CINVESTAV.mx',\n",
       " 'Site_DIRAC.Hokudai.jp',\n",
       " 'Site_DIRAC.IITG.in',\n",
       " 'Site_DIRAC.MIPT.ru',\n",
       " 'Site_DIRAC.Nagoya.jp',\n",
       " 'Site_DIRAC.Nara-WU.jp',\n",
       " 'Site_DIRAC.Niigata.jp',\n",
       " 'Site_DIRAC.Osaka-CU.jp',\n",
       " 'Site_DIRAC.PNNL.us',\n",
       " 'Site_DIRAC.RCNP.jp',\n",
       " 'Site_DIRAC.TIFR.in',\n",
       " 'Site_DIRAC.TMU.jp',\n",
       " 'Site_DIRAC.Test.jp',\n",
       " 'Site_DIRAC.Tokyo.jp',\n",
       " 'Site_DIRAC.UAS.mx',\n",
       " 'Site_DIRAC.UVic.ca',\n",
       " 'Site_DIRAC.Yamagata.jp',\n",
       " 'Site_DIRAC.Yonsei.kr',\n",
       " 'Site_Group.KEK2.jp',\n",
       " 'Site_LCG.CESNET.cz',\n",
       " 'Site_LCG.CNAF.it',\n",
       " 'Site_LCG.CYFRONET.pl',\n",
       " 'Site_LCG.Cosenza.it',\n",
       " 'Site_LCG.DESY.de',\n",
       " 'Site_LCG.Frascati.it',\n",
       " 'Site_LCG.HEPHY.at',\n",
       " 'Site_LCG.KEK.jp',\n",
       " 'Site_LCG.KEK2.jp',\n",
       " 'Site_LCG.KISTI.kr',\n",
       " 'Site_LCG.KIT.de',\n",
       " 'Site_LCG.KMI.jp',\n",
       " 'Site_LCG.Legnaro.it',\n",
       " 'Site_LCG.MPPMU.de',\n",
       " 'Site_LCG.McGill.ca',\n",
       " 'Site_LCG.Melbourne.au',\n",
       " 'Site_LCG.NCHC.tw',\n",
       " 'Site_LCG.NTU.tw',\n",
       " 'Site_LCG.Napoli.it',\n",
       " 'Site_LCG.Pisa.it',\n",
       " 'Site_LCG.Torino.it',\n",
       " 'Site_LCG.ULAKBIM.tr',\n",
       " 'Site_Multiple',\n",
       " 'Site_SSH.KMI.jp',\n",
       " 'Status_Failed',\n",
       " 'UserPriority_2',\n",
       " 'UserPriority_3',\n",
       " 'UserPriority_5',\n",
       " 'UserPriority_9',\n",
       " 'UserPriority_10']"
      ]
     },
     "execution_count": 223,
     "metadata": {},
     "output_type": "execute_result"
    }
   ],
   "source": [
    "dj_encoded.columns.tolist()"
   ]
  },
  {
   "cell_type": "code",
   "execution_count": 224,
   "metadata": {},
   "outputs": [
    {
     "data": {
      "text/plain": [
       "133000"
      ]
     },
     "execution_count": 224,
     "metadata": {},
     "output_type": "execute_result"
    }
   ],
   "source": [
    "# Before dropping first column in get_dummies, this returned 4150\n",
    "len(dj_encoded[dj_encoded['Status_Failed']==True])"
   ]
  },
  {
   "cell_type": "code",
   "execution_count": 226,
   "metadata": {},
   "outputs": [
    {
     "data": {
      "text/plain": [
       "100000"
      ]
     },
     "execution_count": 226,
     "metadata": {},
     "output_type": "execute_result"
    }
   ],
   "source": [
    "# After dropping first column in get_dummies, this returned 4150\n",
    "len(dj_encoded[dj_encoded['Status_Failed']==False])"
   ]
  },
  {
   "cell_type": "code",
   "execution_count": 227,
   "metadata": {},
   "outputs": [
    {
     "data": {
      "text/html": [
       "<div>\n",
       "<style scoped>\n",
       "    .dataframe tbody tr th:only-of-type {\n",
       "        vertical-align: middle;\n",
       "    }\n",
       "\n",
       "    .dataframe tbody tr th {\n",
       "        vertical-align: top;\n",
       "    }\n",
       "\n",
       "    .dataframe thead th {\n",
       "        text-align: right;\n",
       "    }\n",
       "</style>\n",
       "<table border=\"1\" class=\"dataframe\">\n",
       "  <thead>\n",
       "    <tr style=\"text-align: right;\">\n",
       "      <th></th>\n",
       "      <th>JobID</th>\n",
       "      <th>RescheduleCounter</th>\n",
       "      <th>start_submit</th>\n",
       "      <th>hbeat_start</th>\n",
       "      <th>JobType_MCProductionBGx0</th>\n",
       "      <th>JobType_Merge</th>\n",
       "      <th>JobGroup_00000758</th>\n",
       "      <th>JobGroup_00000808</th>\n",
       "      <th>JobGroup_00000809</th>\n",
       "      <th>JobGroup_00000974</th>\n",
       "      <th>...</th>\n",
       "      <th>Site_LCG.Torino.it</th>\n",
       "      <th>Site_LCG.ULAKBIM.tr</th>\n",
       "      <th>Site_Multiple</th>\n",
       "      <th>Site_SSH.KMI.jp</th>\n",
       "      <th>Status_Failed</th>\n",
       "      <th>UserPriority_2</th>\n",
       "      <th>UserPriority_3</th>\n",
       "      <th>UserPriority_5</th>\n",
       "      <th>UserPriority_9</th>\n",
       "      <th>UserPriority_10</th>\n",
       "    </tr>\n",
       "  </thead>\n",
       "  <tbody>\n",
       "    <tr>\n",
       "      <th>0</th>\n",
       "      <td>23140766</td>\n",
       "      <td>0</td>\n",
       "      <td>0.866667</td>\n",
       "      <td>9.833333</td>\n",
       "      <td>1</td>\n",
       "      <td>0</td>\n",
       "      <td>0</td>\n",
       "      <td>0</td>\n",
       "      <td>0</td>\n",
       "      <td>0</td>\n",
       "      <td>...</td>\n",
       "      <td>0</td>\n",
       "      <td>0</td>\n",
       "      <td>0</td>\n",
       "      <td>0</td>\n",
       "      <td>1</td>\n",
       "      <td>0</td>\n",
       "      <td>0</td>\n",
       "      <td>0</td>\n",
       "      <td>0</td>\n",
       "      <td>0</td>\n",
       "    </tr>\n",
       "    <tr>\n",
       "      <th>1</th>\n",
       "      <td>23141083</td>\n",
       "      <td>0</td>\n",
       "      <td>9.916667</td>\n",
       "      <td>10.433333</td>\n",
       "      <td>1</td>\n",
       "      <td>0</td>\n",
       "      <td>1</td>\n",
       "      <td>0</td>\n",
       "      <td>0</td>\n",
       "      <td>0</td>\n",
       "      <td>...</td>\n",
       "      <td>0</td>\n",
       "      <td>0</td>\n",
       "      <td>0</td>\n",
       "      <td>0</td>\n",
       "      <td>1</td>\n",
       "      <td>0</td>\n",
       "      <td>0</td>\n",
       "      <td>0</td>\n",
       "      <td>0</td>\n",
       "      <td>0</td>\n",
       "    </tr>\n",
       "    <tr>\n",
       "      <th>2</th>\n",
       "      <td>23205537</td>\n",
       "      <td>0</td>\n",
       "      <td>67.516667</td>\n",
       "      <td>797.883333</td>\n",
       "      <td>1</td>\n",
       "      <td>0</td>\n",
       "      <td>0</td>\n",
       "      <td>0</td>\n",
       "      <td>1</td>\n",
       "      <td>0</td>\n",
       "      <td>...</td>\n",
       "      <td>0</td>\n",
       "      <td>0</td>\n",
       "      <td>0</td>\n",
       "      <td>0</td>\n",
       "      <td>1</td>\n",
       "      <td>0</td>\n",
       "      <td>0</td>\n",
       "      <td>0</td>\n",
       "      <td>0</td>\n",
       "      <td>0</td>\n",
       "    </tr>\n",
       "    <tr>\n",
       "      <th>3</th>\n",
       "      <td>23205539</td>\n",
       "      <td>0</td>\n",
       "      <td>70.416667</td>\n",
       "      <td>377.916667</td>\n",
       "      <td>1</td>\n",
       "      <td>0</td>\n",
       "      <td>0</td>\n",
       "      <td>0</td>\n",
       "      <td>1</td>\n",
       "      <td>0</td>\n",
       "      <td>...</td>\n",
       "      <td>0</td>\n",
       "      <td>0</td>\n",
       "      <td>0</td>\n",
       "      <td>0</td>\n",
       "      <td>1</td>\n",
       "      <td>0</td>\n",
       "      <td>0</td>\n",
       "      <td>0</td>\n",
       "      <td>0</td>\n",
       "      <td>0</td>\n",
       "    </tr>\n",
       "    <tr>\n",
       "      <th>4</th>\n",
       "      <td>23205643</td>\n",
       "      <td>0</td>\n",
       "      <td>69.166667</td>\n",
       "      <td>794.516667</td>\n",
       "      <td>1</td>\n",
       "      <td>0</td>\n",
       "      <td>0</td>\n",
       "      <td>0</td>\n",
       "      <td>1</td>\n",
       "      <td>0</td>\n",
       "      <td>...</td>\n",
       "      <td>0</td>\n",
       "      <td>0</td>\n",
       "      <td>0</td>\n",
       "      <td>0</td>\n",
       "      <td>1</td>\n",
       "      <td>0</td>\n",
       "      <td>0</td>\n",
       "      <td>0</td>\n",
       "      <td>0</td>\n",
       "      <td>0</td>\n",
       "    </tr>\n",
       "  </tbody>\n",
       "</table>\n",
       "<p>5 rows × 308 columns</p>\n",
       "</div>"
      ],
      "text/plain": [
       "      JobID  RescheduleCounter  start_submit  hbeat_start  \\\n",
       "0  23140766                  0      0.866667     9.833333   \n",
       "1  23141083                  0      9.916667    10.433333   \n",
       "2  23205537                  0     67.516667   797.883333   \n",
       "3  23205539                  0     70.416667   377.916667   \n",
       "4  23205643                  0     69.166667   794.516667   \n",
       "\n",
       "   JobType_MCProductionBGx0  JobType_Merge  JobGroup_00000758  \\\n",
       "0                         1              0                  0   \n",
       "1                         1              0                  1   \n",
       "2                         1              0                  0   \n",
       "3                         1              0                  0   \n",
       "4                         1              0                  0   \n",
       "\n",
       "   JobGroup_00000808  JobGroup_00000809  JobGroup_00000974       ...         \\\n",
       "0                  0                  0                  0       ...          \n",
       "1                  0                  0                  0       ...          \n",
       "2                  0                  1                  0       ...          \n",
       "3                  0                  1                  0       ...          \n",
       "4                  0                  1                  0       ...          \n",
       "\n",
       "   Site_LCG.Torino.it  Site_LCG.ULAKBIM.tr  Site_Multiple  Site_SSH.KMI.jp  \\\n",
       "0                   0                    0              0                0   \n",
       "1                   0                    0              0                0   \n",
       "2                   0                    0              0                0   \n",
       "3                   0                    0              0                0   \n",
       "4                   0                    0              0                0   \n",
       "\n",
       "   Status_Failed  UserPriority_2  UserPriority_3  UserPriority_5  \\\n",
       "0              1               0               0               0   \n",
       "1              1               0               0               0   \n",
       "2              1               0               0               0   \n",
       "3              1               0               0               0   \n",
       "4              1               0               0               0   \n",
       "\n",
       "   UserPriority_9  UserPriority_10  \n",
       "0               0                0  \n",
       "1               0                0  \n",
       "2               0                0  \n",
       "3               0                0  \n",
       "4               0                0  \n",
       "\n",
       "[5 rows x 308 columns]"
      ]
     },
     "execution_count": 227,
     "metadata": {},
     "output_type": "execute_result"
    }
   ],
   "source": [
    "dj_encoded.head()"
   ]
  },
  {
   "cell_type": "code",
   "execution_count": 228,
   "metadata": {},
   "outputs": [],
   "source": [
    "######################################\n",
    "dj_encoded.to_pickle('allJobs_featurized.pickle')\n",
    "######################################"
   ]
  },
  {
   "cell_type": "code",
   "execution_count": 229,
   "metadata": {},
   "outputs": [],
   "source": [
    "# Use this finally\n",
    "\n",
    "allJobs_encoded = dj_encoded.copy(deep=True)"
   ]
  },
  {
   "cell_type": "code",
   "execution_count": 230,
   "metadata": {},
   "outputs": [],
   "source": [
    "del dj_encoded"
   ]
  },
  {
   "cell_type": "code",
   "execution_count": 231,
   "metadata": {},
   "outputs": [],
   "source": [
    "del dataJobs"
   ]
  },
  {
   "cell_type": "code",
   "execution_count": 232,
   "metadata": {},
   "outputs": [],
   "source": [
    "del allHBLI"
   ]
  },
  {
   "cell_type": "code",
   "execution_count": 235,
   "metadata": {},
   "outputs": [],
   "source": [
    "#### End of all jobs table processing"
   ]
  },
  {
   "cell_type": "markdown",
   "metadata": {},
   "source": [
    "# Join jobs tables"
   ]
  },
  {
   "cell_type": "code",
   "execution_count": null,
   "metadata": {},
   "outputs": [],
   "source": [
    "# Test Train split each one into 50%\n",
    "# Concat Test dfs and Train dfs,\n",
    "# Now you have 50% from each class in train and test."
   ]
  },
  {
   "cell_type": "markdown",
   "metadata": {},
   "source": [
    "### >> Join 'allJobs_encoded' and 'allHBLI_wide\""
   ]
  },
  {
   "cell_type": "code",
   "execution_count": 238,
   "metadata": {},
   "outputs": [
    {
     "data": {
      "text/plain": [
       "(1165551, 9)"
      ]
     },
     "execution_count": 238,
     "metadata": {},
     "output_type": "execute_result"
    }
   ],
   "source": [
    "allHBLI_wide.shape"
   ]
  },
  {
   "cell_type": "code",
   "execution_count": 311,
   "metadata": {},
   "outputs": [
    {
     "data": {
      "text/plain": [
       "(233000, 308)"
      ]
     },
     "execution_count": 311,
     "metadata": {},
     "output_type": "execute_result"
    }
   ],
   "source": [
    "allJobs_encoded.shape"
   ]
  },
  {
   "cell_type": "code",
   "execution_count": 312,
   "metadata": {},
   "outputs": [
    {
     "name": "stdout",
     "output_type": "stream",
     "text": [
      "(1165551, 316)\n",
      "CPU times: user 1.06 s, sys: 332 ms, total: 1.39 s\n",
      "Wall time: 1.39 s\n"
     ]
    }
   ],
   "source": [
    "%%time\n",
    "raw_samples = pd.merge(allHBLI_wide, allJobs_encoded, on =['JobID'])\n",
    "print(raw_samples.shape)"
   ]
  },
  {
   "cell_type": "code",
   "execution_count": 543,
   "metadata": {},
   "outputs": [],
   "source": [
    "raw_samples.to_pickle('timestep20_acc98_raw_samples_df.pickle')"
   ]
  },
  {
   "cell_type": "code",
   "execution_count": 314,
   "metadata": {},
   "outputs": [
    {
     "data": {
      "image/png": "[encoded data removed]",
      "text/plain": [
       "<matplotlib.figure.Figure at 0x7ff11089ccf8>"
      ]
     },
     "metadata": {},
     "output_type": "display_data"
    }
   ],
   "source": [
    "import matplotlib.pyplot as plt\n",
    "%matplotlib inline\n",
    "\n",
    "sample_counts = pd.value_counts(raw_samples['JobID'].values, sort=False)\n",
    "plt.hist(sample_counts.values, bins = 100)\n",
    "plt.show()"
   ]
  },
  {
   "cell_type": "markdown",
   "metadata": {},
   "source": [
    "# Sample Generation"
   ]
  },
  {
   "cell_type": "markdown",
   "metadata": {},
   "source": [
    "# Convert Pandas dataframe to LSTM 3D tensor"
   ]
  },
  {
   "cell_type": "code",
   "execution_count": 397,
   "metadata": {},
   "outputs": [
    {
     "data": {
      "text/plain": [
       "7675"
      ]
     },
     "execution_count": 397,
     "metadata": {},
     "output_type": "execute_result"
    }
   ],
   "source": [
    "thresholdd = 20\n",
    "\n",
    "sum(sample_counts.values>=thresholdd)"
   ]
  },
  {
   "cell_type": "code",
   "execution_count": 398,
   "metadata": {},
   "outputs": [
    {
     "data": {
      "text/plain": [
       "193047"
      ]
     },
     "execution_count": 398,
     "metadata": {},
     "output_type": "execute_result"
    }
   ],
   "source": [
    "### Decision: Number of timesteps per sample = 3\n",
    "# Shape of 3D matrix should be (#samples)x(3)x(132)\n",
    "\n",
    "sum(sample_counts.values<thresholdd)"
   ]
  },
  {
   "cell_type": "code",
   "execution_count": 399,
   "metadata": {},
   "outputs": [
    {
     "name": "stdout",
     "output_type": "stream",
     "text": [
      "34090756     1\n",
      "32224060    11\n",
      "32295992     5\n",
      "Name: JobID, dtype: int64\n"
     ]
    }
   ],
   "source": [
    "# Delete rows of JobIDs with  fewer than 3 timestamps\n",
    "\n",
    "dff = raw_samples['JobID'].value_counts()\n",
    "print(dff.sample(3))"
   ]
  },
  {
   "cell_type": "code",
   "execution_count": 400,
   "metadata": {},
   "outputs": [
    {
     "name": "stdout",
     "output_type": "stream",
     "text": [
      "           JobID  count\n",
      "75940   32222263      6\n",
      "61705   32202809      7\n",
      "183446  34332520      1\n",
      "154175  32322362      1\n",
      "6616    32198659     16\n",
      "      JobID  count\n",
      "0  36483182     19\n",
      "1  23252849     19\n",
      "2  36483748     19\n",
      "3  32340886     19\n",
      "4  36170229     19\n"
     ]
    },
    {
     "data": {
      "text/plain": [
       "[36483182, 23252849, 36483748, 32340886, 36170229]"
      ]
     },
     "execution_count": 400,
     "metadata": {},
     "output_type": "execute_result"
    }
   ],
   "source": [
    "dff = dff[dff<thresholdd]\n",
    "\n",
    "\n",
    "dff = dff.reset_index()\n",
    "dff = dff.rename(index=str, columns={\"JobID\": \"count\", \"index\": \"JobID\"})\n",
    "\n",
    "print(dff.sample(5))\n",
    "print(dff.head())\n",
    "\n",
    "remove_list = dff['JobID'].tolist()\n",
    "remove_list[:5]"
   ]
  },
  {
   "cell_type": "code",
   "execution_count": 401,
   "metadata": {},
   "outputs": [
    {
     "data": {
      "text/plain": [
       "((203349, 316), (1165551, 316))"
      ]
     },
     "execution_count": 401,
     "metadata": {},
     "output_type": "execute_result"
    }
   ],
   "source": [
    "cleaned = raw_samples[~raw_samples['JobID'].isin(remove_list)]\n",
    "cleaned.shape, raw_samples.shape"
   ]
  },
  {
   "cell_type": "code",
   "execution_count": 467,
   "metadata": {},
   "outputs": [],
   "source": [
    "# Number of unique JobIDs in cleaned\n",
    "totalleftjobslist = cleaned.JobID.unique().tolist()\n",
    "\n",
    "totalleftjobs = len(cleaned.JobID.unique().tolist())"
   ]
  },
  {
   "cell_type": "code",
   "execution_count": 471,
   "metadata": {},
   "outputs": [
    {
     "data": {
      "text/plain": [
       "(2302, 7675)"
      ]
     },
     "execution_count": 471,
     "metadata": {},
     "output_type": "execute_result"
    }
   ],
   "source": [
    "import random\n",
    "\n",
    "indices = random.sample(range(len(totalleftjobslist)), int(totalleftjobs * .30))\n",
    "takeoutlist = [totalleftjobslist[i] for i in sorted(indices)]\n",
    "\n",
    "len(takeoutlist), totalleftjobs "
   ]
  },
  {
   "cell_type": "code",
   "execution_count": 472,
   "metadata": {},
   "outputs": [
    {
     "name": "stdout",
     "output_type": "stream",
     "text": [
      "193047\n",
      "195349\n"
     ]
    }
   ],
   "source": [
    "print(len(remove_list))\n",
    "remove_list = remove_list + takeoutlist\n",
    "print(len(remove_list))"
   ]
  },
  {
   "cell_type": "markdown",
   "metadata": {},
   "source": [
    "# Train on cleaned, Test on takeoutdf"
   ]
  },
  {
   "cell_type": "code",
   "execution_count": 473,
   "metadata": {},
   "outputs": [
    {
     "data": {
      "text/plain": [
       "((142182, 316), (1165551, 316))"
      ]
     },
     "execution_count": 473,
     "metadata": {},
     "output_type": "execute_result"
    }
   ],
   "source": [
    "cleaned = raw_samples[~raw_samples['JobID'].isin(remove_list)]\n",
    "cleaned.shape, raw_samples.shape"
   ]
  },
  {
   "cell_type": "code",
   "execution_count": 474,
   "metadata": {},
   "outputs": [
    {
     "data": {
      "text/plain": [
       "((61167, 316), (1165551, 316))"
      ]
     },
     "execution_count": 474,
     "metadata": {},
     "output_type": "execute_result"
    }
   ],
   "source": [
    "takeoutdf = raw_samples[raw_samples['JobID'].isin(takeoutlist)]\n",
    "takeoutdf.shape, raw_samples.shape"
   ]
  },
  {
   "cell_type": "code",
   "execution_count": 475,
   "metadata": {},
   "outputs": [],
   "source": [
    "######################"
   ]
  },
  {
   "cell_type": "code",
   "execution_count": 476,
   "metadata": {},
   "outputs": [
    {
     "data": {
      "text/plain": [
       "(0, 5373)"
      ]
     },
     "execution_count": 476,
     "metadata": {},
     "output_type": "execute_result"
    }
   ],
   "source": [
    "# Count values in cleaned\n",
    "\n",
    "cleaned_counts = pd.value_counts(cleaned['JobID'].values, sort=False)\n",
    "sum(cleaned_counts.values<thresholdd), sum(cleaned_counts.values>=thresholdd)"
   ]
  },
  {
   "cell_type": "code",
   "execution_count": 477,
   "metadata": {},
   "outputs": [
    {
     "data": {
      "text/plain": [
       "200722"
      ]
     },
     "execution_count": 477,
     "metadata": {},
     "output_type": "execute_result"
    }
   ],
   "source": [
    "len((sample_counts.values))"
   ]
  },
  {
   "cell_type": "code",
   "execution_count": 478,
   "metadata": {},
   "outputs": [
    {
     "name": "stdout",
     "output_type": "stream",
     "text": [
      "316\n"
     ]
    },
    {
     "data": {
      "text/plain": [
       "1    85478\n",
       "0    56704\n",
       "Name: Status_Failed, dtype: int64"
      ]
     },
     "execution_count": 478,
     "metadata": {},
     "output_type": "execute_result"
    }
   ],
   "source": [
    "train_feat = cleaned.columns.tolist()\n",
    "print(len(train_feat)) #125\n",
    "cleaned.Status_Failed.value_counts()"
   ]
  },
  {
   "cell_type": "code",
   "execution_count": 479,
   "metadata": {},
   "outputs": [
    {
     "name": "stdout",
     "output_type": "stream",
     "text": [
      "316\n"
     ]
    },
    {
     "data": {
      "text/plain": [
       "313"
      ]
     },
     "execution_count": 479,
     "metadata": {},
     "output_type": "execute_result"
    }
   ],
   "source": [
    "train_feat = cleaned.columns.tolist()\n",
    "print(len(train_feat)) #125\n",
    "\n",
    "train_feat.remove('HeartBeatTime')\n",
    "train_feat.remove('JobID')\n",
    "train_feat.remove('Status_Failed')\n",
    "\n",
    "len(train_feat) #122"
   ]
  },
  {
   "cell_type": "code",
   "execution_count": 480,
   "metadata": {},
   "outputs": [],
   "source": [
    "# Training Features"
   ]
  },
  {
   "cell_type": "code",
   "execution_count": null,
   "metadata": {
    "scrolled": false
   },
   "outputs": [],
   "source": [
    "train_feat"
   ]
  },
  {
   "cell_type": "code",
   "execution_count": 482,
   "metadata": {},
   "outputs": [],
   "source": [
    "# Label Column ('Status_Failed' is the label column)\n",
    "label_col = ['Status_Failed']"
   ]
  },
  {
   "cell_type": "code",
   "execution_count": 540,
   "metadata": {},
   "outputs": [
    {
     "data": {
      "text/plain": [
       "(142182, 316)"
      ]
     },
     "execution_count": 540,
     "metadata": {},
     "output_type": "execute_result"
    }
   ],
   "source": [
    "cleaned.shape"
   ]
  },
  {
   "cell_type": "code",
   "execution_count": 541,
   "metadata": {},
   "outputs": [],
   "source": [
    "cleaned.to_pickle('timestep20_acc98_cleaned_df.pickle')"
   ]
  },
  {
   "cell_type": "code",
   "execution_count": 484,
   "metadata": {},
   "outputs": [],
   "source": [
    "# Takes a df and converts it to 3D tensor\n",
    "# Each sample will have k time steps\n",
    "\n",
    "def samples(df_input, k, input_cols):\n",
    "    # takes a df\n",
    "    # Put your inputs into a single list\n",
    "    \n",
    "    df = pd.DataFrame()\n",
    "    \n",
    "    df['single_input_vector'] = df_input[input_cols].apply(tuple, axis=1).apply(list)\n",
    "    \n",
    "    # Double-encapsulate list so that you can sum it in the next step and keep time steps as separate elements\n",
    "    df['single_input_vector'] = df.single_input_vector.apply(lambda x: [list(x)])\n",
    "        \n",
    "    # The starting point\n",
    "    df['cumulative_input_vectors'] = df['single_input_vector'].shift(0)\n",
    "    \n",
    "    for i in range(1,k):\n",
    "        df['cumulative_input_vectors'] += df['single_input_vector'].shift(i)\n",
    "          \n",
    "    df.dropna(inplace=True)     # does operation in place & returns None\n",
    "\n",
    "    # Extract your training data\n",
    "    X_ = np.asarray(df.cumulative_input_vectors)\n",
    "    \n",
    "    # Use hstack to and reshape to make the inputs a 3d vector\n",
    "    X = np.vstack(X_).reshape(len(df), k, len(input_cols))\n",
    "    \n",
    "    # Clean up\n",
    "    del df\n",
    "    \n",
    "    return X\n",
    "    # returns 3D array"
   ]
  },
  {
   "cell_type": "code",
   "execution_count": 485,
   "metadata": {},
   "outputs": [
    {
     "data": {
      "text/html": [
       "<div>\n",
       "<style scoped>\n",
       "    .dataframe tbody tr th:only-of-type {\n",
       "        vertical-align: middle;\n",
       "    }\n",
       "\n",
       "    .dataframe tbody tr th {\n",
       "        vertical-align: top;\n",
       "    }\n",
       "\n",
       "    .dataframe thead th {\n",
       "        text-align: right;\n",
       "    }\n",
       "</style>\n",
       "<table border=\"1\" class=\"dataframe\">\n",
       "  <thead>\n",
       "    <tr style=\"text-align: right;\">\n",
       "      <th></th>\n",
       "      <th>A</th>\n",
       "      <th>B</th>\n",
       "      <th>C</th>\n",
       "    </tr>\n",
       "  </thead>\n",
       "  <tbody>\n",
       "    <tr>\n",
       "      <th>0</th>\n",
       "      <td>1</td>\n",
       "      <td>10</td>\n",
       "      <td>100</td>\n",
       "    </tr>\n",
       "    <tr>\n",
       "      <th>1</th>\n",
       "      <td>2</td>\n",
       "      <td>20</td>\n",
       "      <td>200</td>\n",
       "    </tr>\n",
       "    <tr>\n",
       "      <th>2</th>\n",
       "      <td>3</td>\n",
       "      <td>30</td>\n",
       "      <td>300</td>\n",
       "    </tr>\n",
       "    <tr>\n",
       "      <th>3</th>\n",
       "      <td>4</td>\n",
       "      <td>40</td>\n",
       "      <td>400</td>\n",
       "    </tr>\n",
       "    <tr>\n",
       "      <th>4</th>\n",
       "      <td>5</td>\n",
       "      <td>50</td>\n",
       "      <td>500</td>\n",
       "    </tr>\n",
       "    <tr>\n",
       "      <th>5</th>\n",
       "      <td>6</td>\n",
       "      <td>60</td>\n",
       "      <td>600</td>\n",
       "    </tr>\n",
       "    <tr>\n",
       "      <th>6</th>\n",
       "      <td>7</td>\n",
       "      <td>70</td>\n",
       "      <td>700</td>\n",
       "    </tr>\n",
       "    <tr>\n",
       "      <th>7</th>\n",
       "      <td>8</td>\n",
       "      <td>80</td>\n",
       "      <td>800</td>\n",
       "    </tr>\n",
       "    <tr>\n",
       "      <th>8</th>\n",
       "      <td>9</td>\n",
       "      <td>90</td>\n",
       "      <td>900</td>\n",
       "    </tr>\n",
       "  </tbody>\n",
       "</table>\n",
       "</div>"
      ],
      "text/plain": [
       "   A   B    C\n",
       "0  1  10  100\n",
       "1  2  20  200\n",
       "2  3  30  300\n",
       "3  4  40  400\n",
       "4  5  50  500\n",
       "5  6  60  600\n",
       "6  7  70  700\n",
       "7  8  80  800\n",
       "8  9  90  900"
      ]
     },
     "execution_count": 485,
     "metadata": {},
     "output_type": "execute_result"
    }
   ],
   "source": [
    "# Testing of samples function\n",
    "we = pd.DataFrame([1,2,3,4,5,6,7,8,9], columns=['A'])\n",
    "we['B']=[10,20,30,40,50,60,70,80,90]\n",
    "we['C']=[100,200,300,400,500,600,700,800,900]\n",
    "we"
   ]
  },
  {
   "cell_type": "code",
   "execution_count": 486,
   "metadata": {
    "scrolled": true
   },
   "outputs": [
    {
     "data": {
      "text/plain": [
       "20"
      ]
     },
     "execution_count": 486,
     "metadata": {},
     "output_type": "execute_result"
    }
   ],
   "source": [
    "thresholdd"
   ]
  },
  {
   "cell_type": "code",
   "execution_count": 487,
   "metadata": {},
   "outputs": [
    {
     "name": "stdout",
     "output_type": "stream",
     "text": [
      "CPU times: user 41.6 s, sys: 8.36 s, total: 50 s\n",
      "Wall time: 50.4 s\n"
     ]
    }
   ],
   "source": [
    "%%time\n",
    "# Decision : Orderting of timesteps from top to bottom is t, t-1, t-2\n",
    "X = samples(cleaned, k=thresholdd, input_cols = train_feat)"
   ]
  },
  {
   "cell_type": "code",
   "execution_count": 488,
   "metadata": {},
   "outputs": [
    {
     "data": {
      "text/plain": [
       "(142163, 20, 313)"
      ]
     },
     "execution_count": 488,
     "metadata": {},
     "output_type": "execute_result"
    }
   ],
   "source": [
    "X.shape"
   ]
  },
  {
   "cell_type": "code",
   "execution_count": 489,
   "metadata": {},
   "outputs": [
    {
     "name": "stdout",
     "output_type": "stream",
     "text": [
      "CPU times: user 8.66 s, sys: 99.9 ms, total: 8.76 s\n",
      "Wall time: 8.76 s\n"
     ]
    }
   ],
   "source": [
    "%%time\n",
    "# Decision : Orderting of timesteps from top to bottom is t, t-1, t-2\n",
    "Y = samples(cleaned, k=thresholdd, input_cols = label_col)"
   ]
  },
  {
   "cell_type": "code",
   "execution_count": 490,
   "metadata": {},
   "outputs": [
    {
     "data": {
      "text/plain": [
       "(142163, 20, 1)"
      ]
     },
     "execution_count": 490,
     "metadata": {},
     "output_type": "execute_result"
    }
   ],
   "source": [
    "Y.shape"
   ]
  },
  {
   "cell_type": "code",
   "execution_count": 491,
   "metadata": {},
   "outputs": [
    {
     "data": {
      "text/plain": [
       "(142163, 1)"
      ]
     },
     "execution_count": 491,
     "metadata": {},
     "output_type": "execute_result"
    }
   ],
   "source": [
    "YY = np.array([x[0][0] for x in Y]).reshape(len(Y),1)\n",
    "YY.shape"
   ]
  },
  {
   "cell_type": "code",
   "execution_count": 492,
   "metadata": {},
   "outputs": [],
   "source": [
    "# Unison shuffle\n",
    "\n",
    "def unison_shuffled_copies(a, b):\n",
    "    import numpy as np\n",
    "    assert len(a) == len(b)\n",
    "    p = np.random.permutation(len(a))\n",
    "    return a[p], b[p]"
   ]
  },
  {
   "cell_type": "code",
   "execution_count": 493,
   "metadata": {},
   "outputs": [
    {
     "name": "stdout",
     "output_type": "stream",
     "text": [
      "CPU times: user 1.06 s, sys: 6.61 s, total: 7.66 s\n",
      "Wall time: 7.69 s\n"
     ]
    }
   ],
   "source": [
    "%%time\n",
    "X_final, Y_final = unison_shuffled_copies(X,YY)"
   ]
  },
  {
   "cell_type": "code",
   "execution_count": 494,
   "metadata": {},
   "outputs": [
    {
     "data": {
      "text/plain": [
       "((142163, 20, 313), (142163, 1))"
      ]
     },
     "execution_count": 494,
     "metadata": {},
     "output_type": "execute_result"
    }
   ],
   "source": [
    "X_final.shape, Y_final.shape"
   ]
  },
  {
   "cell_type": "code",
   "execution_count": 495,
   "metadata": {},
   "outputs": [
    {
     "data": {
      "text/plain": [
       "array([6009])"
      ]
     },
     "execution_count": 495,
     "metadata": {},
     "output_type": "execute_result"
    }
   ],
   "source": [
    "sum(Y_final[:10000])"
   ]
  },
  {
   "cell_type": "code",
   "execution_count": 496,
   "metadata": {},
   "outputs": [],
   "source": [
    "del X\n",
    "del Y\n",
    "del YY"
   ]
  },
  {
   "cell_type": "markdown",
   "metadata": {},
   "source": [
    "# Start: Build test set from 'takeoutdf'"
   ]
  },
  {
   "cell_type": "code",
   "execution_count": 507,
   "metadata": {},
   "outputs": [
    {
     "data": {
      "text/plain": [
       "(61167, 316)"
      ]
     },
     "execution_count": 507,
     "metadata": {},
     "output_type": "execute_result"
    }
   ],
   "source": [
    "takeoutdf.shape"
   ]
  },
  {
   "cell_type": "code",
   "execution_count": 542,
   "metadata": {},
   "outputs": [],
   "source": [
    "takeoutdf.to_pickle('timestep20_acc98_takeoutdf_df.pickle')"
   ]
  },
  {
   "cell_type": "code",
   "execution_count": 508,
   "metadata": {},
   "outputs": [
    {
     "name": "stdout",
     "output_type": "stream",
     "text": [
      "316\n"
     ]
    },
    {
     "data": {
      "text/plain": [
       "1    36028\n",
       "0    25139\n",
       "Name: Status_Failed, dtype: int64"
      ]
     },
     "execution_count": 508,
     "metadata": {},
     "output_type": "execute_result"
    }
   ],
   "source": [
    "train_feat = takeoutdf.columns.tolist()\n",
    "print(len(train_feat)) #125\n",
    "takeoutdf.Status_Failed.value_counts()"
   ]
  },
  {
   "cell_type": "code",
   "execution_count": 509,
   "metadata": {},
   "outputs": [
    {
     "name": "stdout",
     "output_type": "stream",
     "text": [
      "316\n"
     ]
    },
    {
     "data": {
      "text/plain": [
       "313"
      ]
     },
     "execution_count": 509,
     "metadata": {},
     "output_type": "execute_result"
    }
   ],
   "source": [
    "train_feat = takeoutdf.columns.tolist()\n",
    "print(len(train_feat)) #125\n",
    "\n",
    "train_feat.remove('HeartBeatTime')\n",
    "train_feat.remove('JobID')\n",
    "train_feat.remove('Status_Failed')\n",
    "\n",
    "len(train_feat) #122"
   ]
  },
  {
   "cell_type": "code",
   "execution_count": 510,
   "metadata": {},
   "outputs": [],
   "source": [
    "# Training Features"
   ]
  },
  {
   "cell_type": "code",
   "execution_count": null,
   "metadata": {
    "scrolled": false
   },
   "outputs": [],
   "source": [
    "train_feat"
   ]
  },
  {
   "cell_type": "code",
   "execution_count": 513,
   "metadata": {},
   "outputs": [],
   "source": [
    "# Label Column ('Status_Failed' is the label column)\n",
    "label_col = ['Status_Failed']"
   ]
  },
  {
   "cell_type": "code",
   "execution_count": 514,
   "metadata": {},
   "outputs": [
    {
     "data": {
      "text/plain": [
       "(61167, 316)"
      ]
     },
     "execution_count": 514,
     "metadata": {},
     "output_type": "execute_result"
    }
   ],
   "source": [
    "takeoutdf.shape"
   ]
  },
  {
   "cell_type": "code",
   "execution_count": 515,
   "metadata": {},
   "outputs": [
    {
     "name": "stdout",
     "output_type": "stream",
     "text": [
      "CPU times: user 17.9 s, sys: 2.71 s, total: 20.6 s\n",
      "Wall time: 21.1 s\n"
     ]
    }
   ],
   "source": [
    "%%time\n",
    "# Decision : Orderting of timesteps from top to bottom is t, t-1, t-2\n",
    "X_test = samples(takeoutdf, k=thresholdd, input_cols = train_feat)"
   ]
  },
  {
   "cell_type": "code",
   "execution_count": 516,
   "metadata": {},
   "outputs": [
    {
     "data": {
      "text/plain": [
       "(61148, 20, 313)"
      ]
     },
     "execution_count": 516,
     "metadata": {},
     "output_type": "execute_result"
    }
   ],
   "source": [
    "X_test.shape"
   ]
  },
  {
   "cell_type": "code",
   "execution_count": 517,
   "metadata": {},
   "outputs": [
    {
     "name": "stdout",
     "output_type": "stream",
     "text": [
      "CPU times: user 4.04 s, sys: 84.9 ms, total: 4.12 s\n",
      "Wall time: 4.14 s\n"
     ]
    }
   ],
   "source": [
    "%%time\n",
    "# Decision : Orderting of timesteps from top to bottom is t, t-1, t-2\n",
    "Y_t = samples(takeoutdf, k=thresholdd, input_cols = label_col)"
   ]
  },
  {
   "cell_type": "code",
   "execution_count": 518,
   "metadata": {},
   "outputs": [
    {
     "data": {
      "text/plain": [
       "(61148, 20, 1)"
      ]
     },
     "execution_count": 518,
     "metadata": {},
     "output_type": "execute_result"
    }
   ],
   "source": [
    "Y_t.shape"
   ]
  },
  {
   "cell_type": "code",
   "execution_count": 519,
   "metadata": {},
   "outputs": [
    {
     "data": {
      "text/plain": [
       "(61148, 1)"
      ]
     },
     "execution_count": 519,
     "metadata": {},
     "output_type": "execute_result"
    }
   ],
   "source": [
    "Y_test = np.array([x[0][0] for x in Y_t]).reshape(len(Y_t),1)\n",
    "Y_test.shape"
   ]
  },
  {
   "cell_type": "code",
   "execution_count": 520,
   "metadata": {},
   "outputs": [
    {
     "data": {
      "text/plain": [
       "((61148, 20, 313), (61148, 1))"
      ]
     },
     "execution_count": 520,
     "metadata": {},
     "output_type": "execute_result"
    }
   ],
   "source": [
    "X_test.shape, Y_test.shape"
   ]
  },
  {
   "cell_type": "code",
   "execution_count": 525,
   "metadata": {},
   "outputs": [
    {
     "data": {
      "text/plain": [
       "((142163, 20, 313), (142163, 1))"
      ]
     },
     "execution_count": 525,
     "metadata": {},
     "output_type": "execute_result"
    }
   ],
   "source": [
    "X_final.shape, Y_final.shape"
   ]
  },
  {
   "cell_type": "code",
   "execution_count": 521,
   "metadata": {},
   "outputs": [
    {
     "data": {
      "text/plain": [
       "array([7012])"
      ]
     },
     "execution_count": 521,
     "metadata": {},
     "output_type": "execute_result"
    }
   ],
   "source": [
    "sum(Y_test[:10000])"
   ]
  },
  {
   "cell_type": "code",
   "execution_count": 523,
   "metadata": {},
   "outputs": [],
   "source": [
    "del Y_t"
   ]
  },
  {
   "cell_type": "markdown",
   "metadata": {},
   "source": [
    "# End test set from 'takeoutdf'"
   ]
  },
  {
   "cell_type": "markdown",
   "metadata": {},
   "source": [
    "## Build Model"
   ]
  },
  {
   "cell_type": "code",
   "execution_count": 497,
   "metadata": {},
   "outputs": [],
   "source": [
    "input_length = X_final.shape[1]\n",
    "\n",
    "input_dim = X_final.shape[2]\n",
    "\n",
    "# Output dimensions is the shape of a single output vector\n",
    "# In this case it's just 1, but it could be more\n",
    "output_dim = len(Y_final[0])"
   ]
  },
  {
   "cell_type": "code",
   "execution_count": 424,
   "metadata": {},
   "outputs": [],
   "source": [
    "# NO NEED TO SPLIT, SINCE TESTING WILL OCCUR ON leftoutdf taken out earlier\n",
    "\n",
    "#from sklearn.model_selection import train_test_split\n",
    "\n",
    "#X_train,X_test,y_train,y_test = train_test_split(X_final,Y_final,test_size=0.33,random_state=24)"
   ]
  },
  {
   "cell_type": "code",
   "execution_count": 425,
   "metadata": {},
   "outputs": [
    {
     "data": {
      "text/plain": [
       "((136231, 20, 313), (136231, 1), (67099, 20, 313), (67099, 1))"
      ]
     },
     "execution_count": 425,
     "metadata": {},
     "output_type": "execute_result"
    }
   ],
   "source": [
    "#X_train.shape,y_train.shape, X_test.shape,  y_test.shape"
   ]
  },
  {
   "cell_type": "code",
   "execution_count": 499,
   "metadata": {},
   "outputs": [
    {
     "data": {
      "text/plain": [
       "0.6011339096670723"
      ]
     },
     "execution_count": 499,
     "metadata": {},
     "output_type": "execute_result"
    }
   ],
   "source": [
    "sum([x[0] for x in Y_final])/ len(Y_final)"
   ]
  },
  {
   "cell_type": "code",
   "execution_count": 501,
   "metadata": {},
   "outputs": [
    {
     "data": {
      "text/plain": [
       "array([[0],\n",
       "       [1],\n",
       "       [0],\n",
       "       [1],\n",
       "       [0]])"
      ]
     },
     "execution_count": 501,
     "metadata": {},
     "output_type": "execute_result"
    }
   ],
   "source": [
    "Y_final[:5]"
   ]
  },
  {
   "cell_type": "code",
   "execution_count": 502,
   "metadata": {},
   "outputs": [
    {
     "data": {
      "text/plain": [
       "(313, 20, 1)"
      ]
     },
     "execution_count": 502,
     "metadata": {},
     "output_type": "execute_result"
    }
   ],
   "source": [
    "from keras.models import Model, Sequential\n",
    "from keras.layers import LSTM, Dense, Embedding, Dropout\n",
    "input_dim, input_length, output_dim"
   ]
  },
  {
   "cell_type": "code",
   "execution_count": 503,
   "metadata": {},
   "outputs": [],
   "source": [
    "def create_model(input_dim = input_dim, input_length = input_length, output_dim=output_dim):\n",
    "    print ('Creating model...')\n",
    "    model = Sequential()\n",
    "    model.add(LSTM(20, input_shape=(input_length,input_dim),return_sequences=True))\n",
    "    model.add(LSTM(20))\n",
    "    model.add(Dense(output_dim, activation='sigmoid'))\n",
    "\n",
    "    print ('Compiling...')\n",
    "    model.compile(loss='binary_crossentropy',\n",
    "                  optimizer='adam',\n",
    "                  metrics=['binary_accuracy'])\n",
    "    return model"
   ]
  },
  {
   "cell_type": "code",
   "execution_count": 504,
   "metadata": {},
   "outputs": [
    {
     "name": "stdout",
     "output_type": "stream",
     "text": [
      "Creating model...\n",
      "Compiling...\n"
     ]
    }
   ],
   "source": [
    "model = create_model()"
   ]
  },
  {
   "cell_type": "code",
   "execution_count": 505,
   "metadata": {},
   "outputs": [
    {
     "name": "stdout",
     "output_type": "stream",
     "text": [
      "Fitting model...\n",
      "Train on 127946 samples, validate on 14217 samples\n",
      "Epoch 1/3\n",
      "127946/127946 [==============================] - 107s 837us/step - loss: 0.4356 - binary_accuracy: 0.7465 - val_loss: 0.0537 - val_binary_accuracy: 0.9858\n",
      "Epoch 2/3\n",
      "127946/127946 [==============================] - 110s 858us/step - loss: 0.0439 - binary_accuracy: 0.9871 - val_loss: 0.0232 - val_binary_accuracy: 0.9940\n",
      "Epoch 3/3\n",
      "127946/127946 [==============================] - 109s 854us/step - loss: 0.0340 - binary_accuracy: 0.9903 - val_loss: 0.0211 - val_binary_accuracy: 0.9947\n",
      "CPU times: user 23min 29s, sys: 6min 31s, total: 30min 1s\n",
      "Wall time: 5min 27s\n"
     ]
    }
   ],
   "source": [
    "%%time\n",
    "print ('Fitting model...')\n",
    "history = model.fit(X_final, Y_final, batch_size=64, epochs=3, validation_split = 0.1, verbose = 1)"
   ]
  },
  {
   "cell_type": "code",
   "execution_count": 526,
   "metadata": {},
   "outputs": [
    {
     "name": "stdout",
     "output_type": "stream",
     "text": [
      "61148/61148 [==============================] - 24s 397us/step\n"
     ]
    }
   ],
   "source": [
    "loss, accuracy = model.evaluate(X_test, Y_test)"
   ]
  },
  {
   "cell_type": "markdown",
   "metadata": {},
   "source": [
    "# Accuracy"
   ]
  },
  {
   "cell_type": "code",
   "execution_count": 527,
   "metadata": {},
   "outputs": [
    {
     "data": {
      "text/plain": [
       "(0.040017183334368274, 0.9875711388761693)"
      ]
     },
     "execution_count": 527,
     "metadata": {},
     "output_type": "execute_result"
    }
   ],
   "source": [
    "loss, accuracy"
   ]
  },
  {
   "cell_type": "code",
   "execution_count": 528,
   "metadata": {},
   "outputs": [],
   "source": [
    "# when taking 20 timesteps, and keeping separate test and training JobIDs\n",
    "# loss, accuracy is: \n",
    "# (0.040017183334368274, 0.9875711388761693) on X_test, Y_test"
   ]
  },
  {
   "cell_type": "code",
   "execution_count": 529,
   "metadata": {},
   "outputs": [],
   "source": [
    "y_pred = model.predict(X_test)"
   ]
  },
  {
   "cell_type": "code",
   "execution_count": 544,
   "metadata": {},
   "outputs": [],
   "source": [
    "# model.save('model_keras_lstm_timestep20_acc98')"
   ]
  },
  {
   "cell_type": "code",
   "execution_count": 538,
   "metadata": {},
   "outputs": [
    {
     "data": {
      "text/plain": [
       "array([[0.99969053],\n",
       "       [0.9996904 ],\n",
       "       [0.9996904 ],\n",
       "       [0.9996904 ]], dtype=float32)"
      ]
     },
     "execution_count": 538,
     "metadata": {},
     "output_type": "execute_result"
    }
   ],
   "source": [
    "y_pred[:4]"
   ]
  },
  {
   "cell_type": "markdown",
   "metadata": {},
   "source": [
    "# Binary classification accuracy"
   ]
  },
  {
   "cell_type": "code",
   "execution_count": 539,
   "metadata": {},
   "outputs": [
    {
     "data": {
      "text/plain": [
       "0.9875711388761693"
      ]
     },
     "execution_count": 539,
     "metadata": {},
     "output_type": "execute_result"
    }
   ],
   "source": [
    "np.mean(np.equal(y_true, y_predicted))"
   ]
  },
  {
   "cell_type": "code",
   "execution_count": 531,
   "metadata": {},
   "outputs": [],
   "source": [
    "y_true = pd.Series([x[0] for x in Y_test])\n",
    "\n",
    "# Use np.rint for rounding off \n",
    "y_predicted = pd.Series([ np.rint(j[0]) for j in y_pred])"
   ]
  },
  {
   "cell_type": "markdown",
   "metadata": {},
   "source": [
    "# Confusion matrix"
   ]
  },
  {
   "cell_type": "code",
   "execution_count": 532,
   "metadata": {},
   "outputs": [
    {
     "data": {
      "text/html": [
       "<div>\n",
       "<style scoped>\n",
       "    .dataframe tbody tr th:only-of-type {\n",
       "        vertical-align: middle;\n",
       "    }\n",
       "\n",
       "    .dataframe tbody tr th {\n",
       "        vertical-align: top;\n",
       "    }\n",
       "\n",
       "    .dataframe thead th {\n",
       "        text-align: right;\n",
       "    }\n",
       "</style>\n",
       "<table border=\"1\" class=\"dataframe\">\n",
       "  <thead>\n",
       "    <tr style=\"text-align: right;\">\n",
       "      <th>Predicted</th>\n",
       "      <th>0.0</th>\n",
       "      <th>1.0</th>\n",
       "      <th>All</th>\n",
       "    </tr>\n",
       "    <tr>\n",
       "      <th>True</th>\n",
       "      <th></th>\n",
       "      <th></th>\n",
       "      <th></th>\n",
       "    </tr>\n",
       "  </thead>\n",
       "  <tbody>\n",
       "    <tr>\n",
       "      <th>0</th>\n",
       "      <td>24831</td>\n",
       "      <td>308</td>\n",
       "      <td>25139</td>\n",
       "    </tr>\n",
       "    <tr>\n",
       "      <th>1</th>\n",
       "      <td>452</td>\n",
       "      <td>35557</td>\n",
       "      <td>36009</td>\n",
       "    </tr>\n",
       "    <tr>\n",
       "      <th>All</th>\n",
       "      <td>25283</td>\n",
       "      <td>35865</td>\n",
       "      <td>61148</td>\n",
       "    </tr>\n",
       "  </tbody>\n",
       "</table>\n",
       "</div>"
      ],
      "text/plain": [
       "Predicted    0.0    1.0    All\n",
       "True                          \n",
       "0          24831    308  25139\n",
       "1            452  35557  36009\n",
       "All        25283  35865  61148"
      ]
     },
     "execution_count": 532,
     "metadata": {},
     "output_type": "execute_result"
    }
   ],
   "source": [
    "pd.crosstab(y_true, y_predicted, rownames=['True'], colnames=['Predicted'], margins=True)"
   ]
  },
  {
   "cell_type": "code",
   "execution_count": 537,
   "metadata": {},
   "outputs": [
    {
     "data": {
      "text/plain": [
       "[]"
      ]
     },
     "execution_count": 537,
     "metadata": {},
     "output_type": "execute_result"
    }
   ],
   "source": [
    "# Verify that there is no intersection between training and test jobs\n",
    "\n",
    "list(set(takeoutdf.JobID.tolist()) & set(cleaned.JobID.tolist()))"
   ]
  },
  {
   "cell_type": "code",
   "execution_count": 458,
   "metadata": {},
   "outputs": [
    {
     "data": {
      "text/plain": [
       "40110.0"
      ]
     },
     "execution_count": 458,
     "metadata": {},
     "output_type": "execute_result"
    }
   ],
   "source": [
    "# Predicting all 0s ??\n",
    "sum([ (j) for j in y_predicted])"
   ]
  },
  {
   "cell_type": "markdown",
   "metadata": {},
   "source": [
    "# Checkpoint: Valid code above this line"
   ]
  },
  {
   "cell_type": "markdown",
   "metadata": {},
   "source": [
    "### Appendix below this line:"
   ]
  },
  {
   "cell_type": "code",
   "execution_count": null,
   "metadata": {},
   "outputs": [],
   "source": [
    "#### Save X to disk\n",
    "\n",
    "\n",
    "\n",
    "#### Create Labels\n",
    "\n",
    "\n",
    "\n",
    "##### Make X_train, X_test\n",
    "\n",
    "\n",
    "\n",
    "\n",
    "##### Create LSTM\n",
    "\n",
    "\n",
    "\n",
    "##### Train LSTM\n",
    "\n",
    "\n",
    "##### Test LSTM"
   ]
  },
  {
   "cell_type": "code",
   "execution_count": null,
   "metadata": {},
   "outputs": [],
   "source": [
    "def vector_generator():\n",
    "    # for a given JOBID, return a list of vectors\n",
    "    # each vector is a feature vector (observation) at a timestamp t\n",
    "    # length of feature vector = n\n",
    "    \n",
    "    new_dict = {}\n",
    "    # jobID --> { timestamp -> [features], timestamp -> [features], timestamp -> [features], ... }\n",
    "    \n",
    "    ####################################\n",
    "    # Single Table Features\n",
    "    ####################################\n",
    "    \n",
    "    #### Iterate throught each table and pick the feature of interest from each table\n",
    "    \n",
    "    #### Continuous\n",
    "    \n",
    "    #### Categorical\n",
    "    \n",
    "    \n",
    "    ####################################\n",
    "    # Multi-table features (JOINs)\n",
    "    ####################################\n",
    "    \n",
    "    #### Continuous\n",
    "    \n",
    "    #### Categorical\n",
    "    \n",
    "    \n",
    "    return None"
   ]
  },
  {
   "cell_type": "code",
   "execution_count": null,
   "metadata": {},
   "outputs": [],
   "source": [
    "def vec_2_samples():\n",
    "    # take the list of vectors for a given job, and reshape it to 3D np array\n",
    "    # each sample could be one-time step or >1 time-step observation\n",
    "    # 3D array : s x t x n\n",
    "    # s = # of samples\n",
    "    # t = # of timesteps in each sample\n",
    "    # n = # length of each feature vector\n",
    "    return None"
   ]
  },
  {
   "cell_type": "code",
   "execution_count": null,
   "metadata": {},
   "outputs": [],
   "source": [
    "def sample_stacker():\n",
    "    # takes samples of a set of jobs\n",
    "    # and stacks these samples on top of each other\n",
    "    # np.append(A, B, axis =0)\n",
    "    # returned 3D array is a set of samples that can be fed to an LSTM\n",
    "    return None"
   ]
  },
  {
   "cell_type": "code",
   "execution_count": null,
   "metadata": {},
   "outputs": [],
   "source": []
  }
 ],
 "metadata": {
  "kernelspec": {
   "display_name": "Python 3",
   "language": "python",
   "name": "python3"
  },
  "language_info": {
   "codemirror_mode": {
    "name": "ipython",
    "version": 3
   },
   "file_extension": ".py",
   "mimetype": "text/x-python",
   "name": "python",
   "nbconvert_exporter": "python",
   "pygments_lexer": "ipython3",
   "version": "3.5.4"
  }
 },
 "nbformat": 4,
 "nbformat_minor": 2
}
